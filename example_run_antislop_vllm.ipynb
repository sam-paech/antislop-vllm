{
 "cells": [
  {
   "cell_type": "code",
   "execution_count": 1,
   "id": "dc35e719",
   "metadata": {},
   "outputs": [],
   "source": [
    "# First: load the model with vllm:\n",
    "\n",
    "# vllm serve unsloth/gemma-3-1b-it --port 8008 --max-model-len 2500 --served-model-name unsloth/gemma-3-1b-it --gpu-memory-utilization 0.8 --dtype bfloat16 --api-key xxx"
   ]
  },
  {
   "cell_type": "code",
   "execution_count": 2,
   "id": "e6352a1c",
   "metadata": {},
   "outputs": [],
   "source": [
    "import subprocess\n",
    "from pathlib import Path\n",
    "from collections import Counter"
   ]
  },
  {
   "cell_type": "code",
   "execution_count": 5,
   "id": "ce7dcd16",
   "metadata": {},
   "outputs": [
    {
     "name": "stdout",
     "output_type": "stream",
     "text": [
      "Running: python3 main.py --api-key xxx --model-name unsloth/gemma-3-4b-it --chat-template-model-id unsloth/gemma-3-4b-it --logging-level INFO --slop-phrases-file banlists/slop_phrases.json --top-n-slop-phrases 500 --regex-blocklist-file banlists/regex_not_x_but_y.json --max-new-tokens 500 --prompt Write a story about a princess. \n",
      "INFO mode: Progress bar and ban events will be printed. Most logs suppressed. Effective script level: INFO\n",
      "--- Generation start ---\n",
      "\n",
      "--- Generated Output (stream) ---\n"
     ]
    },
    {
     "name": "stderr",
     "output_type": "stream",
     "text": [
      "2025-05-18 17:11:19,326 [ERROR] [core.sampler        ]: Back-track: no valid next-token candidates survived even after relaxation.\n"
     ]
    },
    {
     "name": "stdout",
     "output_type": "stream",
     "text": [
      "Princess Aurelia of Silverwood wasn't known for her embroidery or her dancing. She wasn't known for her grace or her polite smiles. Aurelia was known for her mud. She was, quite simply, obsessed with mud. Not the refined, sculpted mud of a royal garden, but the glorious, glorious, dripping, squelching mud of the Silverwood Forest.\n",
      "\n",
      "While other princesses her age practiced courtly manners and learned the names of rare flowers, Aurelia spent her days exploring the deepest, darkest corners of the forest, her boots caked in varying shades of ochre, grey, and deep, earthy black. The King, a weary man burdened by the weight of his crown and the expectation of a suitable bride, tolerated her eccentricities with a resigned shrug. Her mother, the Queen, simply worried.\n",
      "\n",
      "“Aurelia, darling,” the Queen would say, smoothing a silk gown, “you’ll ruin your shoes. And your reputation!”\n",
      "\n",
      "But Aurelia wasn’t interested in reputation. She was interested in the way mud felt between her toes, the way it smelled after a rain, the way it held the secrets of the forest floor – the tracks of deer, the hushed conversations of worms, the slow, patient growth of fungi. \n",
      "\n",
      "Today, she was investigating a particularly promising patch near the Weeping Willow. The forest had been dry for weeks, and the mud was unusually rich and dark. As she dug with a small, wooden trowel, she unearthed something unexpected: a tarnished silver locket. \n",
      "\n",
      "It was engraved with a tiny, stylized willow leaf and a single, unfamiliar crest. Aurelia brushed the mud away, her fingers tracing the intricate design. It felt cold and heavy in her hand. \n",
      "\n",
      "\"This isn’t from Silverwood,\" she murmured, a rare note of seriousness in her voice. \n",
      "\n",
      "She showed it to the Royal Archivist, Master Eldrin, a wizened man who spent his days surrounded by dusty tomes and forgotten histories. He examined the locket with a magnifying glass, his face growing increasingly puzzled.\n",
      "\n",
      "“This crest… I’ve seen it in fragments of old maps, referring to the lost kingdom of Oakhaven,” he finally declared, his voice hushed. “A kingdom that disappeared centuries ago, rumored to have been consumed by the forest itself.”\n",
      "\n",
      "Aurelia’s heart pounded. Oakhaven! A kingdom of mud, perhaps? A kingdom that valued the earth as she did? \n",
      "\n",
      "The King, alerted to the discovery, demanded answers. He summoned\n",
      "------------------------\n",
      "\n",
      "--- Full Generated Text ---\n",
      "Princess Aurelia of Silverwood wasn't known for her embroidery or her dancing. She wasn't known for her grace or her polite smiles. Aurelia was known for her mud. She was, quite simply, obsessed with mud. Not the refined, sculpted mud of a royal garden, but the glorious, glorious, dripping, squelching mud of the Silverwood Forest.\n",
      "\n",
      "While other princesses her age practiced courtly manners and learned the names of rare flowers, Aurelia spent her days exploring the deepest, darkest corners of the forest, her boots caked in varying shades of ochre, grey, and deep, earthy black. The King, a weary man burdened by the weight of his crown and the expectation of a suitable bride, tolerated her eccentricities with a resigned shrug. Her mother, the Queen, simply worried.\n",
      "\n",
      "“Aurelia, darling,” the Queen would say, smoothing a silk gown, “you’ll ruin your shoes. And your reputation!”\n",
      "\n",
      "But Aurelia wasn’t interested in reputation. She was interested in the way mud felt between her toes, the way it smelled after a rain, the way it held the secrets of the forest floor – the tracks of deer, the hushed conversations of worms, the slow, patient growth of fungi. \n",
      "\n",
      "Today, she was investigating a particularly promising patch near the Weeping Willow. The forest had been dry for weeks, and the mud was unusually rich and dark. As she dug with a small, wooden trowel, she unearthed something unexpected: a tarnished silver locket. \n",
      "\n",
      "It was engraved with a tiny, stylized willow leaf and a single, unfamiliar crest. Aurelia brushed the mud away, her fingers tracing the intricate design. It felt cold and heavy in her hand. \n",
      "\n",
      "\"This isn’t from Silverwood,\" she murmured, a rare note of seriousness in her voice. \n",
      "\n",
      "She showed it to the Royal Archivist, Master Eldrin, a wizened man who spent his days surrounded by dusty tomes and forgotten histories. He examined the locket with a magnifying glass, his face growing increasingly puzzled.\n",
      "\n",
      "“This crest… I’ve seen it in fragments of old maps, referring to the lost kingdom of Oakhaven,” he finally declared, his voice hushed. “A kingdom that disappeared centuries ago, rumored to have been consumed by the forest itself.”\n",
      "\n",
      "Aurelia’s heart pounded. Oakhaven! A kingdom of mud, perhaps? A kingdom that valued the earth as she did? \n",
      "\n",
      "The King, alerted to the discovery, demanded answers. He summoned\n",
      "----------------------------\n",
      "\n",
      "--- Generation complete ---\n",
      "Chars produced: 2336\n",
      "Ban/back-track events:\n",
      "  - Type: slop_phrase, Index: 1, Fixed: True, Details: {'phrase': 'lyra', 'context': 'Princess Lyra of Silverwood wasn’', 'suppression_detail_key': 'lyra'}\n",
      "  - Type: slop_phrase, Index: 1, Fixed: True, Details: {'phrase': 'mara', 'context': 'Princess Amara of Silverwood was k', 'suppression_detail_key': 'mara'...\n",
      "  - Type: slop_phrase, Index: 1, Fixed: True, Details: {'phrase': 'lyra', 'context': 'Princess Lyra of Silverwood wasn’', 'suppression_detail_key': 'lyra'}\n",
      "  - Type: slop_phrase, Index: 1, Fixed: True, Details: {'phrase': 'elara', 'context': 'Princess Elara of Silverwood was k', 'suppression_detail_key': 'elar...\n",
      "  - Type: slop_phrase, Index: 115, Fixed: True, Details: {'phrase': 'brow', 'context': ' her boots caked in brown and green, her han', 'suppression_detail_ke...\n",
      "  - Type: slop_phrase, Index: 118, Fixed: True, Details: {'phrase': 'brow', 'context': 'n varying shades of brown and green. Her fat', 'suppression_detail_ke...\n",
      "  - Type: slop_phrase, Index: 121, Fixed: True, Details: {'phrase': 'brow', 'context': 'ng shades of ochre, brown, and grey. Her fat', 'suppression_detail_ke...\n",
      "  - Type: slop_phrase, Index: 124, Fixed: True, Details: {'phrase': 'brow', 'context': 'of ochre, grey, and brown. The King, a stern', 'suppression_detail_ke...\n",
      "  - Type: slop_phrase, Index: 125, Fixed: True, Details: {'phrase': 'brow', 'context': 'hre, grey, and deep brown. Her father, King ', 'suppression_detail_ke...\n",
      "  - Type: slop_phrase, Index: 127, Fixed: True, Details: {'phrase': 'brow', 'context': 'y, and deep, earthy brown. Her father, King ', 'suppression_detail_ke...\n",
      "  - Type: slop_phrase, Index: 150, Fixed: True, Details: {'phrase': 'despair', 'context': 'f a suitable bride, despaired. He’d tried every', 'suppression_det...\n",
      "  - Type: slop_phrase, Index: 156, Fixed: True, Details: {'phrase': 'sigh', 'context': 'centricities with a sigh and a muttered pray', 'suppression_detail_ke...\n",
      "  - Type: slop_phrase, Index: 157, Fixed: True, Details: {'phrase': 'sigh', 'context': 'ies with a resigned sigh. Her mother, the Qu', 'suppression_detail_ke...\n",
      "  - Type: slop_phrase, Index: 166, Fixed: True, Details: {'phrase': 'sigh', 'context': ', the Queen, simply sighed and sent her a fr', 'suppression_detail_ke...\n",
      "  - Type: slop_phrase, Index: 166, Fixed: True, Details: {'phrase': 'despair', 'context': ', the Queen, simply despaired.  “Aurelia,” she’', 'suppression_det...\n",
      "  - Type: slop_phrase, Index: 166, Fixed: True, Details: {'phrase': 'sigh', 'context': ', the Queen, simply sighed and sent her a fr', 'suppression_detail_ke...\n",
      "  - Type: ngram, Index: 202, Fixed: True, Details: {'ngram_tuple': ['could', 'help'], 'ngram_string': 'could help', 'remove_stopwords_active': True, 'c...\n",
      "  - Type: slop_phrase, Index: 232, Fixed: True, Details: {'phrase': 'clung', 'context': ' a rain, the way it clung to her skin like a ', 'suppression_detail_...\n",
      "  - Type: slop_phrase, Index: 246, Fixed: True, Details: {'phrase': 'whisper', 'context': 'tracks of deer, the whispers of roots, the tiny', 'suppression_det...\n",
      "  - Type: slop_phrase, Index: 248, Fixed: True, Details: {'phrase': 'whisper', 'context': 'of deer, the hushed whispers of worms, the forg', 'suppression_det...\n",
      "  - Type: ngram, Index: 262, Fixed: True, Details: {'ngram_tuple': ['one', 'day'], 'ngram_string': 'one day', 'remove_stopwords_active': True, 'context...\n",
      "  - Type: slop_phrase, Index: 273, Fixed: True, Details: {'phrase': 'whisper', 'context': 'sing patch near the Whispering Falls. It was a ', 'suppression_det...\n",
      "  - Type: slop_phrase, Index: 311, Fixed: True, Details: {'phrase': 'small, intricately carved', 'context': 'thing unexpected: a small, intricately carved wo...\n",
      "  - Type: slop_phrase, Index: 321, Fixed: True, Details: {'phrase': 'intricate', 'context': 'er locket.   It was intricately carved with a sin', 'suppression...\n",
      "  - Type: slop_phrase, Index: 333, Fixed: True, Details: {'phrase': 'shimmering', 'context': ' leaf and a single, shimmering pearl. It felt cold', 'suppressi...\n",
      "  - Type: slop_phrase, Index: 347, Fixed: True, Details: {'phrase': 'intricate', 'context': 'fingers tracing the intricate design. It felt…old', 'suppression...\n",
      "  - Type: slop_phrase, Index: 347, Fixed: True, Details: {'phrase': 'delicate', 'context': 'fingers tracing the delicate design. It felt…old', 'suppression_d...\n",
      "  - Type: slop_phrase, Index: 347, Fixed: False, Details: {'phrase': 'intricate', 'context': 'fingers tracing the intricate design. It felt col', 'suppression...\n",
      "  - Type: slop_phrase, Index: 394, Fixed: True, Details: {'phrase': 'silas', 'context': 'l Archivist, Master Silas, a man who usually ', 'suppression_detail_...\n",
      "  - Type: ngram, Index: 400, Fixed: True, Details: {'ngram_tuple': ['old', 'man'], 'ngram_string': 'old man', 'remove_stopwords_active': True, 'context...\n",
      "  - Type: slop_phrase, Index: 425, Fixed: True, Details: {'phrase': 'brow', 'context': 'gnifying glass, his brow furrowed.   “This i', 'suppression_detail_ke...\n",
      "  - Type: ngram, Index: 457, Fixed: True, Details: {'ngram_tuple': ['said', 'voice'], 'ngram_string': 'said voice', 'remove_stopwords_active': True, 'c...\n",
      "  - Type: ngram, Index: 458, Fixed: True, Details: {'ngram_tuple': ['said', 'voice'], 'ngram_string': 'said voice', 'remove_stopwords_active': True, 'c...\n",
      "  - Type: slop_phrase, Index: 468, Fixed: True, Details: {'phrase': 'swallowed', 'context': ' hushed. “A kingdom swallowed by the forest centu', 'suppression...\n",
      "  - Type: slop_phrase, Index: 469, Fixed: True, Details: {'phrase': 'vanished', 'context': 'ed. “A kingdom that vanished centuries ago, swal', 'suppression_d...\n",
      "  - Type: slop_phrase, Index: 473, Fixed: True, Details: {'phrase': 'swallowed', 'context': 'ared centuries ago, swallowed by the forest. Lege', 'suppression...\n",
      "  - Type: slop_phrase, Index: 477, Fixed: True, Details: {'phrase': 'swallowed', 'context': 'umored to have been swallowed by the forest after', 'suppression...\n"
     ]
    }
   ],
   "source": [
    "# Example 1: Direct prompting mode. Returns a single unslopped output.\n",
    "\n",
    "if True:\n",
    "    cmd = [\n",
    "        'python3', 'main.py',\n",
    "        #'--api-base-url', 'http://localhost:8000/v1',\n",
    "        '--api-key', 'xxx',\n",
    "        '--model-name', 'unsloth/gemma-3-4b-it',\n",
    "        '--chat-template-model-id', 'unsloth/gemma-3-4b-it',\n",
    "        '--logging-level', 'INFO',\n",
    "        '--slop-phrases-file', 'banlists/slop_phrases.json',\n",
    "        '--top-n-slop-phrases', '500',\n",
    "        '--regex-blocklist-file', 'banlists/regex_not_x_but_y.json',\n",
    "        '--max-new-tokens', '500',\n",
    "        '--prompt', 'Write a story about a princess. '\n",
    "    ]\n",
    "    print('Running:', ' '.join(cmd))\n",
    "    subprocess.run(cmd, check=True)"
   ]
  },
  {
   "cell_type": "code",
   "execution_count": 7,
   "id": "b06e594b",
   "metadata": {},
   "outputs": [
    {
     "name": "stdout",
     "output_type": "stream",
     "text": [
      "Running: python3 main.py --api-key xxx --model-name unsloth/gemma-3-4b-it --output-jsonl creative_writing_generations.jsonl --input-hf-dataset Nitral-AI/Reddit-SFW-Writing_Prompts_ShareGPT --hf-dataset-split train --threads 40 --max-prompts 40 --logging-level INFO --slop-phrases-file banlists/slop_phrases.json --top-n-slop-phrases 500 --regex-blocklist-file banlists/regex_not_x_but_y.json --max-new-tokens 2000 --request-mode chunk --chunk-size 20 --chat-template-model-id unsloth/gemma-3-4b-it --tdpo-pairs-jsonl tdpo-pairs.jsonl\n",
      "INFO mode: Progress bar and ban events will be printed. Most logs suppressed. Effective script level: INFO\n",
      "Extracting HF prompts:   0%|          | 39/177477 [00:00<00:05, 34781.60prompt/s]\n",
      "Preparing to process 40 new prompts in this run.\n",
      "BANNED (prompt_idx=12, type=slop_phrase, phrase='delicate') \n",
      "BANNED (prompt_idx=23, type=regex, regex='\\bnot\\s+(?:just|only|merely)?\\s*(?:[^\\s]+\\s*){1,6}?[,;:—–-]?\\s*but\\s+(?:also\\s+)?', match='Not a sharp, biting regret, but ')\n",
      "BANNED (prompt_idx=4, type=slop_phrase, phrase='dust motes danced')       \n",
      "BANNED (prompt_idx=31, type=slop_phrase, phrase='faint')                 \n",
      "BANNED (prompt_idx=9, type=slop_phrase, phrase='subtle')                 \n",
      "BANNED (prompt_idx=38, type=ngram, ngram='sound like')                   \n",
      "BANNED (prompt_idx=8, type=ngram, ngram='first time')                     \n",
      "BANNED (prompt_idx=16, type=slop_phrase, phrase='scent')                  \n",
      "BANNED (prompt_idx=32, type=slop_phrase, phrase='relentless')             \n",
      "BANNED (prompt_idx=18, type=slop_phrase, phrase='scent')                  \n",
      "BANNED (prompt_idx=10, type=regex, regex='\\bnot\\s+(?:just|only|merely)?\\s*(?:[^\\s]+\\s*){1,6}?[,;:—–-]?\\s*but\\s+(?:also\\s+)?', match='Not a violent, stormy grey, but ')\n",
      "BANNED (prompt_idx=27, type=slop_phrase, phrase='crackled')               \n",
      "BANNED (prompt_idx=28, type=slop_phrase, phrase='tightened')              \n",
      "BANNED (prompt_idx=34, type=slop_phrase, phrase='shimmered')              \n",
      "BANNED (prompt_idx=5, type=slop_phrase, phrase='relentless')              \n",
      "BANNED (prompt_idx=29, type=slop_phrase, phrase='clung')                  \n",
      "BANNED (prompt_idx=26, type=regex, regex='\\bnot\\s+(?:just|only|merely)?\\s*(?:[^\\s]+\\s*){1,6}?[,;:—–-]?\\s*but\\s+(?:also\\s+)?', match='Not a clean, cleansing rain, but ')\n",
      "BANNED (prompt_idx=20, type=slop_phrase, phrase='relentless')             \n",
      "BANNED (prompt_idx=13, type=slop_phrase, phrase='scent')                  \n",
      "BANNED (prompt_idx=3, type=slop_phrase, phrase='corrugated iron roof')    \n",
      "BANNED (prompt_idx=36, type=slop_phrase, phrase='clung')                  \n",
      "BANNED (prompt_idx=0, type=slop_phrase, phrase='corrugated iron roof')    \n",
      "BANNED (prompt_idx=2, type=slop_phrase, phrase='metallic')                \n",
      "BANNED (prompt_idx=9, type=slop_phrase, phrase='frantic')                \n",
      "BANNED (prompt_idx=12, type=slop_phrase, phrase='rhythm')                \n",
      "BANNED (prompt_idx=21, type=slop_phrase, phrase='clung')                 \n",
      "BANNED (prompt_idx=4, type=slop_phrase, phrase='scent')                  \n",
      "BANNED (prompt_idx=18, type=slop_phrase, phrase='relentless')            \n",
      "BANNED (prompt_idx=23, type=slop_phrase, phrase='clung')                 \n",
      "BANNED (prompt_idx=31, type=slop_phrase, phrase='clung')                 \n",
      "BANNED (prompt_idx=16, type=slop_phrase, phrase='towering')              \n",
      "BANNED (prompt_idx=8, type=slop_phrase, phrase='clung')                  \n",
      "BANNED (prompt_idx=38, type=slop_phrase, phrase='sensation')             \n",
      "BANNED (prompt_idx=17, type=slop_phrase, phrase='scent')                 \n",
      "BANNED (prompt_idx=7, type=slop_phrase, phrase='dread')                  \n",
      "BANNED (prompt_idx=15, type=slop_phrase, phrase='unsettling')            \n",
      "BANNED (prompt_idx=6, type=slop_phrase, phrase='faint')                  \n",
      "BANNED (prompt_idx=39, type=slop_phrase, phrase='villain')               \n",
      "BANNED (prompt_idx=14, type=slop_phrase, phrase='clung')                 \n",
      "BANNED (prompt_idx=28, type=slop_phrase, phrase='anticipation')          \n",
      "BANNED (prompt_idx=34, type=slop_phrase, phrase='flicker')               \n",
      "BANNED (prompt_idx=22, type=slop_phrase, phrase='shimmering')            \n",
      "BANNED (prompt_idx=5, type=slop_phrase, phrase='rhythm')                 \n",
      "BANNED (prompt_idx=26, type=slop_phrase, phrase='metallic')              \n",
      "BANNED (prompt_idx=37, type=slop_phrase, phrase='metallic')              \n",
      "BANNED (prompt_idx=19, type=slop_phrase, phrase='stark')                 \n",
      "BANNED (prompt_idx=36, type=slop_phrase, phrase='obsidian')              \n",
      "BANNED (prompt_idx=11, type=slop_phrase, phrase='dread')                 \n",
      "BANNED (prompt_idx=33, type=slop_phrase, phrase='testament')             \n",
      "BANNED (prompt_idx=3, type=slop_phrase, phrase='relentless')             \n",
      "BANNED (prompt_idx=0, type=slop_phrase, phrase='relentless')             \n",
      "BANNED (prompt_idx=35, type=slop_phrase, phrase='clung')                 \n",
      "BANNED (prompt_idx=9, type=slop_phrase, phrase='subtle')                 \n",
      "BANNED (prompt_idx=12, type=slop_phrase, phrase='delicate')              \n",
      "BANNED (prompt_idx=21, type=slop_phrase, phrase='clung')                 \n",
      "BANNED (prompt_idx=32, type=regex, regex='\\bnot\\s+(?:just|only|merely)?\\s*(?:[^\\s]+\\s*){1,6}?[,;:—–-]?\\s*but\\s+(?:also\\s+)?', match='Not a dramatic, sobbing ache, but ')\n",
      "BANNED (prompt_idx=4, type=slop_phrase, phrase='dust motes danced')      \n",
      "BANNED (prompt_idx=7, type=slop_phrase, phrase='dread')                  \n",
      "BANNED (prompt_idx=23, type=slop_phrase, phrase='clung')                 \n",
      "BANNED (prompt_idx=31, type=slop_phrase, phrase='obsidian')              \n",
      "BANNED (prompt_idx=2, type=slop_phrase, phrase='clung')                  \n",
      "BANNED (prompt_idx=15, type=slop_phrase, phrase='polished')              \n",
      "BANNED (prompt_idx=10, type=slop_phrase, phrase='clung')                 \n",
      "BANNED (prompt_idx=14, type=slop_phrase, phrase='faded')                 \n",
      "BANNED (prompt_idx=5, type=slop_phrase, phrase='rhythm')                 \n",
      "BANNED (prompt_idx=6, type=slop_phrase, phrase='flicker')                \n",
      "BANNED (prompt_idx=38, type=slop_phrase, phrase='static')                \n",
      "BANNED (prompt_idx=34, type=slop_phrase, phrase='blinked')               \n",
      "BANNED (prompt_idx=19, type=ngram, ngram='felt like')                    \n",
      "BANNED (prompt_idx=37, type=slop_phrase, phrase='clung')                 \n",
      "BANNED (prompt_idx=33, type=slop_phrase, phrase='clung')                 \n",
      "BANNED (prompt_idx=11, type=slop_phrase, phrase='despair')               \n",
      "BANNED (prompt_idx=0, type=slop_phrase, phrase='leaned')                 \n",
      "BANNED (prompt_idx=3, type=slop_phrase, phrase='rhythm')                 \n",
      "BANNED (prompt_idx=26, type=slop_phrase, phrase='clung')                 \n",
      "BANNED (prompt_idx=20, type=slop_phrase, phrase='scent')                 \n",
      "BANNED (prompt_idx=35, type=slop_phrase, phrase='metallic')              \n",
      "BANNED (prompt_idx=30, type=slop_phrase, phrase='clung')                 \n",
      "BANNED (prompt_idx=21, type=slop_phrase, phrase='faint')                 \n",
      "BANNED (prompt_idx=4, type=slop_phrase, phrase='faint')                  \n",
      "BANNED (prompt_idx=7, type=regex, regex='\\bnot\\s+(?:just|only|merely)?\\s*(?:[^\\s]+\\s*){1,6}?[,;:—–-]?\\s*but\\s+(?:also\\s+)?', match='Not just gone, but ')\n",
      "BANNED (prompt_idx=31, type=slop_phrase, phrase='crimson')               \n",
      "BANNED (prompt_idx=15, type=slop_phrase, phrase='froze')                 \n",
      "BANNED (prompt_idx=25, type=slop_phrase, phrase='scent')                 \n",
      "BANNED (prompt_idx=10, type=slop_phrase, phrase='faint')                 \n",
      "BANNED (prompt_idx=8, type=slop_phrase, phrase='air thick with the scent')\n",
      "BANNED (prompt_idx=5, type=slop_phrase, phrase='relentless')             \n",
      "BANNED (prompt_idx=14, type=slop_phrase, phrase='clung')                 \n",
      "BANNED (prompt_idx=17, type=slop_phrase, phrase='scent')                 \n",
      "BANNED (prompt_idx=39, type=slop_phrase, phrase='elias')                 \n",
      "BANNED (prompt_idx=6, type=slop_phrase, phrase='faint')                  \n",
      "BANNED (prompt_idx=29, type=slop_phrase, phrase='etched')                \n",
      "BANNED (prompt_idx=1, type=ngram, ngram='carefully constructed')         \n",
      "BANNED (prompt_idx=19, type=slop_phrase, phrase='sent a shiver down my spine')\n",
      "BANNED (prompt_idx=38, type=slop_phrase, phrase='sensation')             \n",
      "BANNED (prompt_idx=34, type=slop_phrase, phrase='shimmered')             \n",
      "BANNED (prompt_idx=11, type=slop_phrase, phrase='dread')                 \n",
      "BANNED (prompt_idx=22, type=slop_phrase, phrase='faded')                 \n",
      "BANNED (prompt_idx=33, type=slop_phrase, phrase='air hung thick')        \n",
      "BANNED (prompt_idx=0, type=slop_phrase, phrase='amidst')                 \n",
      "BANNED (prompt_idx=35, type=ngram, ngram='something else')               \n",
      "BANNED (prompt_idx=3, type=slop_phrase, phrase='relentless')             \n",
      "Batch Generating:   0%|          | 0/40 [00:04<?, ?prompt/s, 743.7 tok/s]"
     ]
    },
    {
     "name": "stderr",
     "output_type": "stream",
     "text": [
      "2025-05-18 17:15:33,616 [ERROR] [core.sampler        ]: Back-track: no valid next-token candidates survived even after relaxation.\n"
     ]
    },
    {
     "name": "stdout",
     "output_type": "stream",
     "text": [
      "BANNED (prompt_idx=21, type=slop_phrase, phrase='unsettling')            \n",
      "BANNED (prompt_idx=18, type=slop_phrase, phrase='overwhelming')          \n",
      "BANNED (prompt_idx=4, type=regex, regex='\\bnot\\s+(?:just|only|merely)?\\s*(?:[^\\s]+\\s*){1,6}?[,;:—–-]?\\s*but\\s+(?:also\\s+)?', match='Not a dramatic, weeping regret, mind you, but ')\n",
      "BANNED (prompt_idx=2, type=slop_phrase, phrase='etched')                 \n",
      "BANNED (prompt_idx=23, type=slop_phrase, phrase='clung')                 \n",
      "BANNED (prompt_idx=15, type=slop_phrase, phrase='polished')              \n",
      "BANNED (prompt_idx=16, type=slop_phrase, phrase='swirling')              \n",
      "BANNED (prompt_idx=31, type=slop_phrase, phrase='unsettling')            \n",
      "BANNED (prompt_idx=25, type=slop_phrase, phrase='rhythm')                \n",
      "BANNED (prompt_idx=10, type=slop_phrase, phrase='felt like an eternity') \n",
      "BANNED (prompt_idx=29, type=slop_phrase, phrase='etched')                \n",
      "BANNED (prompt_idx=6, type=ngram, ngram='almost imperceptible')          \n",
      "BANNED (prompt_idx=19, type=slop_phrase, phrase='glanced')               \n",
      "BANNED (prompt_idx=17, type=slop_phrase, phrase='profound')              \n",
      "BANNED (prompt_idx=22, type=slop_phrase, phrase='countless')             \n",
      "BANNED (prompt_idx=35, type=ngram, ngram='something akin')               \n",
      "BANNED (prompt_idx=33, type=slop_phrase, phrase='scent')                 \n",
      "BANNED (prompt_idx=30, type=slop_phrase, phrase='relentless')            \n",
      "BANNED (prompt_idx=34, type=slop_phrase, phrase='shimmered')             \n",
      "BANNED (prompt_idx=0, type=slop_phrase, phrase='amidst')                 \n",
      "BANNED (prompt_idx=3, type=slop_phrase, phrase='rhythm')                 \n",
      "BANNED (prompt_idx=12, type=slop_phrase, phrase='unsettling')            \n",
      "BANNED (prompt_idx=4, type=slop_phrase, phrase='scent')                  \n",
      "BANNED (prompt_idx=18, type=slop_phrase, phrase='scent')                 \n",
      "Batch Generating:   0%|          | 0/40 [00:05<?, ?prompt/s, 761.6 tok/s]"
     ]
    },
    {
     "name": "stderr",
     "output_type": "stream",
     "text": [
      "2025-05-18 17:15:34,321 [ERROR] [core.sampler        ]: Back-track: no valid next-token candidates survived even after relaxation.\n"
     ]
    },
    {
     "name": "stdout",
     "output_type": "stream",
     "text": [
      "BANNED (prompt_idx=21, type=slop_phrase, phrase='hollow')                \n",
      "BANNED (prompt_idx=32, type=slop_phrase, phrase='profound')              \n",
      "BANNED (prompt_idx=15, type=slop_phrase, phrase='polished')              \n",
      "BANNED (prompt_idx=7, type=slop_phrase, phrase='scent')                  \n",
      "BANNED (prompt_idx=31, type=slop_phrase, phrase='air hung thick')        \n",
      "BANNED (prompt_idx=16, type=slop_phrase, phrase='obsidian')              \n",
      "BANNED (prompt_idx=2, type=ngram, ngram='carefully constructed')         \n",
      "BANNED (prompt_idx=6, type=slop_phrase, phrase='echo')                   \n",
      "BANNED (prompt_idx=29, type=slop_phrase, phrase='etched')                \n",
      "BANNED (prompt_idx=28, type=slop_phrase, phrase='anticipation')          \n",
      "BANNED (prompt_idx=8, type=slop_phrase, phrase='rhythm')                 \n",
      "BANNED (prompt_idx=17, type=slop_phrase, phrase='frantic')               \n",
      "BANNED (prompt_idx=19, type=slop_phrase, phrase='stark')                 \n",
      "BANNED (prompt_idx=22, type=slop_phrase, phrase='frantic')               \n",
      "BANNED (prompt_idx=35, type=slop_phrase, phrase='anticipation')          \n",
      "BANNED (prompt_idx=33, type=slop_phrase, phrase='scent')                 \n",
      "BANNED (prompt_idx=4, type=slop_phrase, phrase='clung')                  \n",
      "BANNED (prompt_idx=18, type=slop_phrase, phrase='overwhelming')          \n",
      "BANNED (prompt_idx=3, type=slop_phrase, phrase='relentless')             \n",
      "BANNED (prompt_idx=34, type=slop_phrase, phrase='glow')                  \n",
      "BANNED (prompt_idx=20, type=slop_phrase, phrase='shiver')                \n",
      "BANNED (prompt_idx=32, type=slop_phrase, phrase='profound')              \n",
      "BANNED (prompt_idx=12, type=slop_phrase, phrase='delicate')              \n",
      "BANNED (prompt_idx=15, type=slop_phrase, phrase='polished')              \n",
      "BANNED (prompt_idx=31, type=slop_phrase, phrase='glow')                  \n",
      "BANNED (prompt_idx=24, type=ngram, ngram='looked like')                  \n",
      "BANNED (prompt_idx=16, type=slop_phrase, phrase='obsidian')              \n",
      "BANNED (prompt_idx=28, type=slop_phrase, phrase='anticipation')          \n",
      "BANNED (prompt_idx=2, type=slop_phrase, phrase='whisper')                \n",
      "BANNED (prompt_idx=19, type=slop_phrase, phrase='stark')                 \n",
      "BANNED (prompt_idx=29, type=slop_phrase, phrase='etched')                \n",
      "BANNED (prompt_idx=10, type=slop_phrase, phrase='echo')                  \n",
      "BANNED (prompt_idx=1, type=slop_phrase, phrase='elias')                  \n",
      "BANNED (prompt_idx=17, type=slop_phrase, phrase='shifting')              \n",
      "BANNED (prompt_idx=14, type=slop_phrase, phrase='stumbled')              \n",
      "BANNED (prompt_idx=13, type=slop_phrase, phrase='said, trying to sound') \n",
      "BANNED (prompt_idx=0, type=slop_phrase, phrase='obsidian')               \n",
      "BANNED (prompt_idx=37, type=slop_phrase, phrase='terrifying')            \n",
      "BANNED (prompt_idx=38, type=slop_phrase, phrase='intricate')             \n",
      "BANNED (prompt_idx=35, type=ngram, ngram='something akin')               \n",
      "BANNED (prompt_idx=36, type=regex, regex='\\bnot\\s+(?:just|only|merely)?\\s*(?:[^\\s]+\\s*){1,6}?[,;:—–-]?\\s*but\\s+(?:also\\s+)?', match='Not with intent, not with strategy, but ')\n",
      "BANNED (prompt_idx=11, type=slop_phrase, phrase='scent')                 \n",
      "BANNED (prompt_idx=9, type=slop_phrase, phrase='rhythm')                 \n",
      "BANNED (prompt_idx=4, type=slop_phrase, phrase='spine')                  \n",
      "BANNED (prompt_idx=3, type=slop_phrase, phrase='scent')                  \n",
      "BANNED (prompt_idx=27, type=slop_phrase, phrase='stammered')             \n",
      "BANNED (prompt_idx=34, type=slop_phrase, phrase='shimmered')             \n",
      "BANNED (prompt_idx=21, type=slop_phrase, phrase='scent')                 \n",
      "BANNED (prompt_idx=20, type=slop_phrase, phrase='shiver')                \n",
      "Batch Generating:   0%|          | 0/40 [00:06<?, ?prompt/s, 729.4 tok/s]"
     ]
    },
    {
     "name": "stderr",
     "output_type": "stream",
     "text": [
      "2025-05-18 17:15:35,680 [ERROR] [core.sampler        ]: Back-track: no valid next-token candidates survived even after relaxation.\n"
     ]
    },
    {
     "name": "stdout",
     "output_type": "stream",
     "text": [
      "BANNED (prompt_idx=15, type=slop_phrase, phrase='realization')           \n",
      "BANNED (prompt_idx=7, type=slop_phrase, phrase='fragile')                \n",
      "BANNED (prompt_idx=31, type=slop_phrase, phrase='hummed')                \n",
      "BANNED (prompt_idx=12, type=slop_phrase, phrase='obsidian')              \n",
      "BANNED (prompt_idx=25, type=ngram, ngram='felt like')                    \n",
      "BANNED (prompt_idx=2, type=slop_phrase, phrase='fabric')                 \n",
      "BANNED (prompt_idx=8, type=slop_phrase, phrase='utterly')                \n",
      "BANNED (prompt_idx=29, type=ngram, ngram='one one')                      \n",
      "BANNED (prompt_idx=1, type=slop_phrase, phrase='shadows')                \n",
      "BANNED (prompt_idx=10, type=slop_phrase, phrase='elias')                 \n",
      "BANNED (prompt_idx=35, type=slop_phrase, phrase='unease')                \n",
      "BANNED (prompt_idx=13, type=slop_phrase, phrase='despair')               \n",
      "Batch Generating:   0%|          | 0/40 [00:06<?, ?prompt/s, 727.9 tok/s]"
     ]
    },
    {
     "name": "stderr",
     "output_type": "stream",
     "text": [
      "2025-05-18 17:15:36,109 [ERROR] [core.sampler        ]: Back-track: no valid next-token candidates survived even after relaxation.\n"
     ]
    },
    {
     "name": "stdout",
     "output_type": "stream",
     "text": [
      "BANNED (prompt_idx=37, type=slop_phrase, phrase='chilling')              \n",
      "BANNED (prompt_idx=11, type=slop_phrase, phrase='scent')                 \n",
      "BANNED (prompt_idx=4, type=slop_phrase, phrase='countless')              \n",
      "BANNED (prompt_idx=33, type=slop_phrase, phrase='froze')                 \n",
      "BANNED (prompt_idx=34, type=slop_phrase, phrase='shimmered')             \n",
      "BANNED (prompt_idx=24, type=slop_phrase, phrase='swallowed')             \n",
      "BANNED (prompt_idx=5, type=slop_phrase, phrase='scent')                  \n",
      "BANNED (prompt_idx=15, type=slop_phrase, phrase='sigh')                  \n",
      "BANNED (prompt_idx=31, type=slop_phrase, phrase='pulse')                 \n",
      "BANNED (prompt_idx=20, type=slop_phrase, phrase='shiver')                \n",
      "Batch Generating:   0%|          | 0/40 [00:07<?, ?prompt/s, 778.1 tok/s]"
     ]
    },
    {
     "name": "stderr",
     "output_type": "stream",
     "text": [
      "2025-05-18 17:15:36,342 [ERROR] [core.sampler        ]: Back-track: no valid next-token candidates survived even after relaxation.\n"
     ]
    },
    {
     "name": "stdout",
     "output_type": "stream",
     "text": [
      "BANNED (prompt_idx=28, type=slop_phrase, phrase='static')                \n",
      "BANNED (prompt_idx=25, type=regex, regex='\\bnot\\s+(?:just|only|merely)?\\s*(?:[^\\s]+\\s*){1,6}?[,;:—–-]?\\s*but\\s+(?:also\\s+)?', match='not of home, but ')\n",
      "BANNED (prompt_idx=12, type=slop_phrase, phrase='obsidian')              \n",
      "BANNED (prompt_idx=2, type=slop_phrase, phrase='etched')                 \n",
      "BANNED (prompt_idx=17, type=slop_phrase, phrase='pulse')                 \n",
      "BANNED (prompt_idx=1, type=slop_phrase, phrase='unsettling')             \n",
      "BANNED (prompt_idx=10, type=slop_phrase, phrase='profound')              \n",
      "BANNED (prompt_idx=8, type=slop_phrase, phrase='warmth')                 \n",
      "BANNED (prompt_idx=35, type=slop_phrase, phrase='unease')                \n",
      "BANNED (prompt_idx=37, type=slop_phrase, phrase='terrifying')            \n",
      "BANNED (prompt_idx=4, type=slop_phrase, phrase='silas')                  \n",
      "Batch Generating:   0%|          | 0/40 [00:07<?, ?prompt/s, 768.7 tok/s]"
     ]
    },
    {
     "name": "stderr",
     "output_type": "stream",
     "text": [
      "2025-05-18 17:15:36,730 [ERROR] [core.sampler        ]: Back-track: no valid next-token candidates survived even after relaxation.\n"
     ]
    },
    {
     "name": "stdout",
     "output_type": "stream",
     "text": [
      "BANNED (prompt_idx=3, type=slop_phrase, phrase='countless')              \n",
      "BANNED (prompt_idx=11, type=slop_phrase, phrase='swirling')              \n",
      "BANNED (prompt_idx=34, type=ngram, ngram='felt like')                    \n",
      "BANNED (prompt_idx=18, type=slop_phrase, phrase='echo')                  \n",
      "BANNED (prompt_idx=33, type=slop_phrase, phrase='froze')                 \n",
      "BANNED (prompt_idx=9, type=slop_phrase, phrase='frantic')                \n",
      "BANNED (prompt_idx=15, type=slop_phrase, phrase='sigh')                  \n",
      "BANNED (prompt_idx=25, type=slop_phrase, phrase='pressing')              \n",
      "BANNED (prompt_idx=20, type=slop_phrase, phrase='brow')                  \n",
      "BANNED (prompt_idx=0, type=slop_phrase, phrase='whisper')                \n",
      "BANNED (prompt_idx=12, type=slop_phrase, phrase='unsettling')            \n",
      "BANNED (prompt_idx=35, type=slop_phrase, phrase='unease')                \n",
      "Batch Generating:   0%|          | 0/40 [00:08<?, ?prompt/s, 767.4 tok/s]"
     ]
    },
    {
     "name": "stderr",
     "output_type": "stream",
     "text": [
      "2025-05-18 17:15:37,332 [ERROR] [core.sampler        ]: Back-track: no valid next-token candidates survived even after relaxation.\n"
     ]
    },
    {
     "name": "stdout",
     "output_type": "stream",
     "text": [
      "BANNED (prompt_idx=1, type=ngram, ngram='carefully constructed')         \n",
      "BANNED (prompt_idx=13, type=slop_phrase, phrase='brow')                  \n",
      "BANNED (prompt_idx=23, type=slop_phrase, phrase='elias')                 \n",
      "BANNED (prompt_idx=14, type=slop_phrase, phrase='clung')                 \n",
      "BANNED (prompt_idx=4, type=slop_phrase, phrase='mortal')                 \n",
      "BANNED (prompt_idx=11, type=slop_phrase, phrase='shattered')             \n",
      "BANNED (prompt_idx=22, type=slop_phrase, phrase='froze')                 \n",
      "BANNED (prompt_idx=36, type=slop_phrase, phrase='meticulously')          \n",
      "BANNED (prompt_idx=21, type=slop_phrase, phrase='hollow')                \n",
      "BANNED (prompt_idx=38, type=slop_phrase, phrase='flicker')               \n",
      "BANNED (prompt_idx=34, type=slop_phrase, phrase='shimmered')             \n",
      "BANNED (prompt_idx=9, type=slop_phrase, phrase='rhythm')                 \n",
      "BANNED (prompt_idx=31, type=slop_phrase, phrase='silas')                 \n",
      "BANNED (prompt_idx=15, type=slop_phrase, phrase='sensation')             \n",
      "BANNED (prompt_idx=18, type=slop_phrase, phrase='sigh')                  \n",
      "BANNED (prompt_idx=33, type=slop_phrase, phrase='froze')                 \n",
      "BANNED (prompt_idx=27, type=ngram, ngram='something else')               \n",
      "Batch Generating:   0%|          | 0/40 [00:08<?, ?prompt/s, 793.7 tok/s]"
     ]
    },
    {
     "name": "stderr",
     "output_type": "stream",
     "text": [
      "2025-05-18 17:15:37,612 [ERROR] [core.sampler        ]: Back-track: no valid next-token candidates survived even after relaxation.\n"
     ]
    },
    {
     "name": "stdout",
     "output_type": "stream",
     "text": [
      "BANNED (prompt_idx=20, type=ngram, ngram='mixture fear')                 \n",
      "BANNED (prompt_idx=0, type=slop_phrase, phrase='shadows')                \n",
      "BANNED (prompt_idx=19, type=slop_phrase, phrase='stark')                 \n",
      "BANNED (prompt_idx=17, type=slop_phrase, phrase='ethan')                 \n",
      "BANNED (prompt_idx=8, type=slop_phrase, phrase='said, his voice a low')  \n",
      "BANNED (prompt_idx=2, type=slop_phrase, phrase='fabric')                 \n",
      "BANNED (prompt_idx=13, type=slop_phrase, phrase='brow')                  \n",
      "BANNED (prompt_idx=12, type=slop_phrase, phrase='curiosity')             \n",
      "BANNED (prompt_idx=10, type=slop_phrase, phrase='subtle')                \n",
      "BANNED (prompt_idx=6, type=slop_phrase, phrase='terrifying')             \n",
      "BANNED (prompt_idx=23, type=slop_phrase, phrase='elias')                 \n",
      "BANNED (prompt_idx=1, type=ngram, ngram='carefully constructed')         \n",
      "BANNED (prompt_idx=16, type=slop_phrase, phrase='blinked')               \n",
      "BANNED (prompt_idx=4, type=slop_phrase, phrase='silas')                  \n",
      "BANNED (prompt_idx=22, type=slop_phrase, phrase='froze')                 \n",
      "BANNED (prompt_idx=11, type=slop_phrase, phrase='frantic')               \n",
      "BANNED (prompt_idx=36, type=slop_phrase, phrase='obsidian')              \n",
      "BANNED (prompt_idx=21, type=slop_phrase, phrase='vibrant')               \n",
      "BANNED (prompt_idx=32, type=slop_phrase, phrase='elias')                 \n",
      "BANNED (prompt_idx=3, type=slop_phrase, phrase='silas')                  \n",
      "BANNED (prompt_idx=34, type=slop_phrase, phrase='shimmered')             \n",
      "BANNED (prompt_idx=15, type=slop_phrase, phrase='realization')           \n",
      "BANNED (prompt_idx=31, type=slop_phrase, phrase='elias')                 \n",
      "BANNED (prompt_idx=33, type=slop_phrase, phrase='froze')                 \n",
      "BANNED (prompt_idx=0, type=slop_phrase, phrase='whisper')                \n",
      "BANNED (prompt_idx=27, type=slop_phrase, phrase='chilling')              \n",
      "BANNED (prompt_idx=18, type=slop_phrase, phrase='subtle')                \n",
      "Batch Generating:   0%|          | 0/40 [00:09<?, ?prompt/s, 772.0 tok/s]"
     ]
    },
    {
     "name": "stderr",
     "output_type": "stream",
     "text": [
      "2025-05-18 17:15:38,287 [ERROR] [core.sampler        ]: Back-track: no valid next-token candidates survived even after relaxation.\n",
      "2025-05-18 17:15:38,371 [ERROR] [core.sampler        ]: Back-track: no valid next-token candidates survived even after relaxation.\n"
     ]
    },
    {
     "name": "stdout",
     "output_type": "stream",
     "text": [
      "BANNED (prompt_idx=8, type=slop_phrase, phrase='grin')                   \n",
      "BANNED (prompt_idx=13, type=slop_phrase, phrase='brow')                  \n",
      "BANNED (prompt_idx=17, type=slop_phrase, phrase='liam')                  \n",
      "BANNED (prompt_idx=19, type=slop_phrase, phrase='sent a shiver down my spine')\n",
      "BANNED (prompt_idx=12, type=slop_phrase, phrase='stark')                 \n",
      "BANNED (prompt_idx=10, type=slop_phrase, phrase='fabric')                \n",
      "BANNED (prompt_idx=35, type=slop_phrase, phrase='elias')                 \n",
      "BANNED (prompt_idx=23, type=slop_phrase, phrase='silas')                 \n",
      "BANNED (prompt_idx=6, type=slop_phrase, phrase='terrifying')             \n",
      "BANNED (prompt_idx=14, type=slop_phrase, phrase='clara')                 \n",
      "BANNED (prompt_idx=22, type=slop_phrase, phrase='froze')                 \n",
      "BANNED (prompt_idx=30, type=slop_phrase, phrase='testament')             \n",
      "BANNED (prompt_idx=36, type=slop_phrase, phrase='echo')                  \n",
      "BANNED (prompt_idx=21, type=slop_phrase, phrase='brow')                  \n",
      "BANNED (prompt_idx=32, type=slop_phrase, phrase='silas')                 \n",
      "BANNED (prompt_idx=39, type=slop_phrase, phrase='meticulously')          \n",
      "BANNED (prompt_idx=24, type=slop_phrase, phrase='utterly')               \n",
      "BANNED (prompt_idx=9, type=ngram, ngram='years ago')                     \n",
      "BANNED (prompt_idx=31, type=slop_phrase, phrase='silas')                 \n",
      "BANNED (prompt_idx=33, type=slop_phrase, phrase='froze')                 \n",
      "BANNED (prompt_idx=15, type=slop_phrase, phrase='sigh')                  \n",
      "BANNED (prompt_idx=0, type=slop_phrase, phrase='whisper')                \n",
      "BANNED (prompt_idx=27, type=slop_phrase, phrase='unsettling')            \n",
      "BANNED (prompt_idx=18, type=slop_phrase, phrase='sigh')                  \n",
      "Batch Generating:   0%|          | 0/40 [00:09<?, ?prompt/s, 789.5 tok/s]"
     ]
    },
    {
     "name": "stderr",
     "output_type": "stream",
     "text": [
      "2025-05-18 17:15:38,940 [ERROR] [core.sampler        ]: Back-track: no valid next-token candidates survived even after relaxation.\n",
      "2025-05-18 17:15:38,975 [ERROR] [core.sampler        ]: Back-track: no valid next-token candidates survived even after relaxation.\n",
      "2025-05-18 17:15:39,027 [ERROR] [core.sampler        ]: Back-track: no valid next-token candidates survived even after relaxation.\n"
     ]
    },
    {
     "name": "stdout",
     "output_type": "stream",
     "text": [
      "BANNED (prompt_idx=13, type=slop_phrase, phrase='brow')                  \n",
      "BANNED (prompt_idx=12, type=slop_phrase, phrase='shifted')               \n",
      "BANNED (prompt_idx=19, type=slop_phrase, phrase='unsettling')            \n",
      "BANNED (prompt_idx=17, type=slop_phrase, phrase='ethan')                 \n",
      "BANNED (prompt_idx=35, type=slop_phrase, phrase='elias')                 \n",
      "BANNED (prompt_idx=16, type=slop_phrase, phrase='glow')                  \n",
      "BANNED (prompt_idx=10, type=slop_phrase, phrase='essence')               \n",
      "Batch Generating:   0%|          | 0/40 [00:09<?, ?prompt/s, 791.6 tok/s]"
     ]
    },
    {
     "name": "stderr",
     "output_type": "stream",
     "text": [
      "2025-05-18 17:15:39,265 [ERROR] [core.sampler        ]: Back-track: no valid next-token candidates survived even after relaxation.\n",
      "2025-05-18 17:15:39,323 [ERROR] [core.sampler        ]: Back-track: no valid next-token candidates survived even after relaxation.\n"
     ]
    },
    {
     "name": "stdout",
     "output_type": "stream",
     "text": [
      "BANNED (prompt_idx=23, type=slop_phrase, phrase='elias')                 \n",
      "BANNED (prompt_idx=1, type=ngram, ngram='carefully constructed')         \n",
      "BANNED (prompt_idx=22, type=slop_phrase, phrase='froze')                 \n",
      "BANNED (prompt_idx=14, type=slop_phrase, phrase='clara')                 \n",
      "BANNED (prompt_idx=6, type=slop_phrase, phrase='frantic')                \n",
      "BANNED (prompt_idx=37, type=slop_phrase, phrase='realization')           \n",
      "BANNED (prompt_idx=36, type=slop_phrase, phrase='sigh')                  \n",
      "BANNED (prompt_idx=24, type=slop_phrase, phrase='terrifying')            \n",
      "BANNED (prompt_idx=3, type=slop_phrase, phrase='profound')               \n",
      "BANNED (prompt_idx=31, type=slop_phrase, phrase='silas')                 \n",
      "BANNED (prompt_idx=25, type=slop_phrase, phrase='metallic')              \n",
      "BANNED (prompt_idx=0, type=slop_phrase, phrase='whisper')                \n",
      "BANNED (prompt_idx=32, type=slop_phrase, phrase='elias')                 \n",
      "BANNED (prompt_idx=15, type=slop_phrase, phrase='sigh')                  \n",
      "BANNED (prompt_idx=18, type=slop_phrase, phrase='relentless')            \n",
      "Batch Generating:   0%|          | 0/40 [00:10<?, ?prompt/s, 815.4 tok/s]"
     ]
    },
    {
     "name": "stderr",
     "output_type": "stream",
     "text": [
      "2025-05-18 17:15:39,586 [ERROR] [core.sampler        ]: Back-track: no valid next-token candidates survived even after relaxation.\n",
      "2025-05-18 17:15:39,597 [ERROR] [core.sampler        ]: Back-track: no valid next-token candidates survived even after relaxation.\n",
      "2025-05-18 17:15:39,608 [ERROR] [core.sampler        ]: Back-track: no valid next-token candidates survived even after relaxation.\n",
      "2025-05-18 17:15:39,776 [ERROR] [core.sampler        ]: Back-track: no valid next-token candidates survived even after relaxation.\n"
     ]
    },
    {
     "name": "stdout",
     "output_type": "stream",
     "text": [
      "BANNED (prompt_idx=12, type=slop_phrase, phrase='elias')                 \n",
      "BANNED (prompt_idx=7, type=slop_phrase, phrase='gently')                 \n",
      "BANNED (prompt_idx=13, type=slop_phrase, phrase='brow')                  \n",
      "BANNED (prompt_idx=2, type=slop_phrase, phrase='crimson')                \n",
      "BANNED (prompt_idx=35, type=slop_phrase, phrase='thorne')                \n",
      "BANNED (prompt_idx=20, type=slop_phrase, phrase='gaze')                  \n",
      "BANNED (prompt_idx=19, type=slop_phrase, phrase='tightened')             \n",
      "Batch Generating:   0%|          | 0/40 [00:10<?, ?prompt/s, 790.9 tok/s]"
     ]
    },
    {
     "name": "stderr",
     "output_type": "stream",
     "text": [
      "2025-05-18 17:15:39,950 [ERROR] [core.sampler        ]: Back-track: no valid next-token candidates survived even after relaxation.\n",
      "2025-05-18 17:15:39,976 [ERROR] [core.sampler        ]: Back-track: no valid next-token candidates survived even after relaxation.\n"
     ]
    },
    {
     "name": "stdout",
     "output_type": "stream",
     "text": [
      "BANNED (prompt_idx=23, type=slop_phrase, phrase='elias')                 \n",
      "BANNED (prompt_idx=10, type=slop_phrase, phrase='fabric')                \n",
      "BANNED (prompt_idx=1, type=slop_phrase, phrase='shimmering')             \n",
      "BANNED (prompt_idx=17, type=slop_phrase, phrase='ethan')                 \n",
      "BANNED (prompt_idx=22, type=slop_phrase, phrase='froze')                 \n",
      "BANNED (prompt_idx=36, type=slop_phrase, phrase='whisper')               \n",
      "BANNED (prompt_idx=39, type=slop_phrase, phrase='frantic')               \n",
      "BANNED (prompt_idx=24, type=slop_phrase, phrase='pale')                  \n",
      "BANNED (prompt_idx=31, type=slop_phrase, phrase='silas')                 \n",
      "BANNED (prompt_idx=25, type=slop_phrase, phrase='unsettling')            \n",
      "BANNED (prompt_idx=32, type=slop_phrase, phrase='silas')                 \n",
      "BANNED (prompt_idx=0, type=slop_phrase, phrase='surge')                  \n",
      "BANNED (prompt_idx=3, type=slop_phrase, phrase='unsettling')             \n",
      "BANNED (prompt_idx=15, type=slop_phrase, phrase='sigh')                  \n",
      "BANNED (prompt_idx=33, type=slop_phrase, phrase='froze')                 \n",
      "Batch Generating:   0%|          | 0/40 [00:11<?, ?prompt/s, 798.1 tok/s]"
     ]
    },
    {
     "name": "stderr",
     "output_type": "stream",
     "text": [
      "2025-05-18 17:15:40,223 [ERROR] [core.sampler        ]: Back-track: no valid next-token candidates survived even after relaxation.\n",
      "2025-05-18 17:15:40,298 [ERROR] [core.sampler        ]: Back-track: no valid next-token candidates survived even after relaxation.\n"
     ]
    },
    {
     "name": "stdout",
     "output_type": "stream",
     "text": [
      "BANNED (prompt_idx=12, type=slop_phrase, phrase='silas')                 \n",
      "BANNED (prompt_idx=34, type=slop_phrase, phrase='chaotic')               \n",
      "BANNED (prompt_idx=8, type=ngram, ngram='years ago')                     \n",
      "BANNED (prompt_idx=7, type=slop_phrase, phrase='whisper')                \n",
      "BANNED (prompt_idx=5, type=slop_phrase, phrase='meticulously')           \n",
      "BANNED (prompt_idx=13, type=slop_phrase, phrase='brow')                  \n",
      "BANNED (prompt_idx=2, type=slop_phrase, phrase='testament')              \n",
      "BANNED (prompt_idx=16, type=slop_phrase, phrase='scent')                 \n",
      "BANNED (prompt_idx=20, type=slop_phrase, phrase='utterly')               \n",
      "BANNED (prompt_idx=19, type=slop_phrase, phrase='unease')                \n",
      "BANNED (prompt_idx=23, type=slop_phrase, phrase='elias')                 \n",
      "Batch Generating:   0%|          | 0/40 [00:11<?, ?prompt/s, 805.1 tok/s]"
     ]
    },
    {
     "name": "stderr",
     "output_type": "stream",
     "text": [
      "2025-05-18 17:15:40,466 [ERROR] [core.sampler        ]: Back-track: no valid next-token candidates survived even after relaxation.\n",
      "2025-05-18 17:15:40,589 [ERROR] [core.sampler        ]: Back-track: no valid next-token candidates survived even after relaxation.\n"
     ]
    },
    {
     "name": "stdout",
     "output_type": "stream",
     "text": [
      "BANNED (prompt_idx=14, type=slop_phrase, phrase='gently')                \n",
      "BANNED (prompt_idx=37, type=slop_phrase, phrase='unsettling')            \n",
      "BANNED (prompt_idx=1, type=slop_phrase, phrase='surge')                  \n",
      "BANNED (prompt_idx=22, type=slop_phrase, phrase='frantic')               \n",
      "BANNED (prompt_idx=11, type=slop_phrase, phrase='grin')                  \n",
      "BANNED (prompt_idx=36, type=slop_phrase, phrase='echo')                  \n",
      "BANNED (prompt_idx=0, type=slop_phrase, phrase='whisper')                \n",
      "Batch Generating:   0%|          | 0/40 [00:11<?, ?prompt/s, 815.1 tok/s]"
     ]
    },
    {
     "name": "stderr",
     "output_type": "stream",
     "text": [
      "2025-05-18 17:15:40,754 [ERROR] [core.sampler        ]: Back-track: no valid next-token candidates survived even after relaxation.\n",
      "2025-05-18 17:15:40,793 [ERROR] [core.sampler        ]: Back-track: no valid next-token candidates survived even after relaxation.\n"
     ]
    },
    {
     "name": "stdout",
     "output_type": "stream",
     "text": [
      "BANNED (prompt_idx=21, type=ngram, ngram='one thing')                    \n",
      "BANNED (prompt_idx=30, type=regex, regex='\\bnot\\s+(?:just|only|merely)?\\s*(?:[^\\s]+\\s*){1,6}?[,;:—–-]?\\s*but\\s+(?:also\\s+)?', match='not fast. I could throw a ball, but ')\n",
      "BANNED (prompt_idx=33, type=slop_phrase, phrase='froze')                 \n",
      "BANNED (prompt_idx=32, type=slop_phrase, phrase='elias')                 \n",
      "BANNED (prompt_idx=34, type=slop_phrase, phrase='delicate')              \n",
      "BANNED (prompt_idx=15, type=slop_phrase, phrase='whisper')               \n",
      "BANNED (prompt_idx=19, type=slop_phrase, phrase='dread')                 \n",
      "BANNED (prompt_idx=7, type=slop_phrase, phrase='whisper')                \n",
      "BANNED (prompt_idx=12, type=slop_phrase, phrase='elias')                 \n",
      "BANNED (prompt_idx=2, type=ngram, ngram='carefully constructed')         \n",
      "BANNED (prompt_idx=5, type=slop_phrase, phrase='meticulously')           \n",
      "BANNED (prompt_idx=23, type=slop_phrase, phrase='profound')              \n",
      "BANNED (prompt_idx=26, type=ngram, ngram='felt like')                    \n",
      "BANNED (prompt_idx=35, type=slop_phrase, phrase='elias')                 \n",
      "BANNED (prompt_idx=10, type=slop_phrase, phrase='profound')              \n",
      "BANNED (prompt_idx=16, type=slop_phrase, phrase='scent')                 \n",
      "BANNED (prompt_idx=22, type=slop_phrase, phrase='froze')                 \n",
      "BANNED (prompt_idx=13, type=slop_phrase, phrase='brow')                  \n",
      "BANNED (prompt_idx=17, type=slop_phrase, phrase='ethan')                 \n",
      "BANNED (prompt_idx=0, type=slop_phrase, phrase='demon')                  \n",
      "BANNED (prompt_idx=36, type=slop_phrase, phrase='echo')                  \n",
      "BANNED (prompt_idx=25, type=slop_phrase, phrase='curiosity')             \n",
      "BANNED (prompt_idx=24, type=ngram, ngram='said voice')                   \n",
      "BANNED (prompt_idx=34, type=slop_phrase, phrase='chaotic')               \n",
      "Batch Generating:   0%|          | 0/40 [00:12<?, ?prompt/s, 738.3 tok/s]"
     ]
    },
    {
     "name": "stderr",
     "output_type": "stream",
     "text": [
      "2025-05-18 17:15:41,707 [ERROR] [core.sampler        ]: Back-track: no valid next-token candidates survived even after relaxation.\n",
      "2025-05-18 17:15:41,791 [ERROR] [core.sampler        ]: Back-track: no valid next-token candidates survived even after relaxation.\n"
     ]
    },
    {
     "name": "stdout",
     "output_type": "stream",
     "text": [
      "BANNED (prompt_idx=11, type=slop_phrase, phrase='relentless')            \n",
      "BANNED (prompt_idx=9, type=slop_phrase, phrase='frantic')                \n",
      "BANNED (prompt_idx=19, type=slop_phrase, phrase='unease')                \n",
      "BANNED (prompt_idx=3, type=slop_phrase, phrase='depths')                 \n",
      "BANNED (prompt_idx=38, type=slop_phrase, phrase='flicker')               \n",
      "Batch Generating:   0%|          | 0/40 [00:12<?, ?prompt/s, 709.6 tok/s]"
     ]
    },
    {
     "name": "stderr",
     "output_type": "stream",
     "text": [
      "2025-05-18 17:15:42,011 [ERROR] [core.sampler        ]: Back-track: no valid next-token candidates survived even after relaxation.\n",
      "2025-05-18 17:15:42,162 [ERROR] [core.sampler        ]: Back-track: no valid next-token candidates survived even after relaxation.\n"
     ]
    },
    {
     "name": "stdout",
     "output_type": "stream",
     "text": [
      "BANNED (prompt_idx=12, type=slop_phrase, phrase='liam')                  \n",
      "BANNED (prompt_idx=35, type=slop_phrase, phrase='silas')                 \n",
      "BANNED (prompt_idx=27, type=slop_phrase, phrase='meticulously')          \n",
      "BANNED (prompt_idx=2, type=slop_phrase, phrase='void')                   \n",
      "BANNED (prompt_idx=23, type=slop_phrase, phrase='elias')                 \n",
      "BANNED (prompt_idx=10, type=slop_phrase, phrase='elias')                 \n",
      "BANNED (prompt_idx=13, type=ngram, ngram='voice like')                   \n",
      "Batch Generating:   0%|          | 0/40 [00:13<?, ?prompt/s, 683.9 tok/s]"
     ]
    },
    {
     "name": "stderr",
     "output_type": "stream",
     "text": [
      "2025-05-18 17:15:42,282 [ERROR] [core.sampler        ]: Back-track: no valid next-token candidates survived even after relaxation.\n",
      "2025-05-18 17:15:42,426 [ERROR] [core.sampler        ]: Back-track: no valid next-token candidates survived even after relaxation.\n"
     ]
    },
    {
     "name": "stdout",
     "output_type": "stream",
     "text": [
      "BANNED (prompt_idx=17, type=slop_phrase, phrase='ethan')                 \n",
      "BANNED (prompt_idx=37, type=slop_phrase, phrase='obsidian')              \n",
      "BANNED (prompt_idx=16, type=slop_phrase, phrase='shifting')              \n",
      "BANNED (prompt_idx=0, type=slop_phrase, phrase='whisper')                \n",
      "BANNED (prompt_idx=4, type=slop_phrase, phrase='utterly')                \n",
      "BANNED (prompt_idx=21, type=slop_phrase, phrase='brow')                  \n",
      "BANNED (prompt_idx=33, type=slop_phrase, phrase='meticulously')          \n",
      "BANNED (prompt_idx=24, type=slop_phrase, phrase='stammered')             \n",
      "BANNED (prompt_idx=15, type=slop_phrase, phrase='gleaming')              \n",
      "BANNED (prompt_idx=25, type=regex, regex='\\bnot\\s+(?:just|only|merely)?\\s*(?:[^\\s]+\\s*){1,6}?[,;:—–-]?\\s*but\\s+(?:also\\s+)?', match='Not with outright hostility, not exactly, but ')\n",
      "BANNED (prompt_idx=3, type=slop_phrase, phrase='elias')                  \n",
      "BANNED (prompt_idx=19, type=slop_phrase, phrase='unease')                \n",
      "BANNED (prompt_idx=9, type=slop_phrase, phrase='rhythm')                 \n",
      "BANNED (prompt_idx=38, type=slop_phrase, phrase='fabric')                \n",
      "Batch Generating:   0%|          | 0/40 [00:13<?, ?prompt/s, 703.2 tok/s]"
     ]
    },
    {
     "name": "stderr",
     "output_type": "stream",
     "text": [
      "2025-05-18 17:15:42,635 [ERROR] [core.sampler        ]: Back-track: no valid next-token candidates survived even after relaxation.\n",
      "2025-05-18 17:15:42,807 [ERROR] [core.sampler        ]: Back-track: no valid next-token candidates survived even after relaxation.\n"
     ]
    },
    {
     "name": "stdout",
     "output_type": "stream",
     "text": [
      "BANNED (prompt_idx=12, type=slop_phrase, phrase='liam')                  \n",
      "BANNED (prompt_idx=35, type=slop_phrase, phrase='elias')                 \n",
      "BANNED (prompt_idx=26, type=slop_phrase, phrase='nodded')                \n",
      "BANNED (prompt_idx=23, type=slop_phrase, phrase='relentless')            \n",
      "BANNED (prompt_idx=5, type=slop_phrase, phrase='silas')                  \n",
      "BANNED (prompt_idx=27, type=slop_phrase, phrase='meticulously')          \n",
      "BANNED (prompt_idx=10, type=slop_phrase, phrase='silas')                 \n",
      "BANNED (prompt_idx=2, type=slop_phrase, phrase='testament')              \n",
      "Batch Generating:   0%|          | 0/40 [00:13<?, ?prompt/s, 679.3 tok/s]"
     ]
    },
    {
     "name": "stderr",
     "output_type": "stream",
     "text": [
      "2025-05-18 17:15:42,843 [ERROR] [core.sampler        ]: Back-track: no valid next-token candidates survived even after relaxation.\n",
      "2025-05-18 17:15:43,011 [ERROR] [core.sampler        ]: Back-track: no valid next-token candidates survived even after relaxation.\n"
     ]
    },
    {
     "name": "stdout",
     "output_type": "stream",
     "text": [
      "BANNED (prompt_idx=13, type=slop_phrase, phrase='brow')                  \n",
      "BANNED (prompt_idx=14, type=slop_phrase, phrase='utterly')               \n",
      "BANNED (prompt_idx=36, type=slop_phrase, phrase='obsidian')              \n",
      "BANNED (prompt_idx=16, type=slop_phrase, phrase='scent')                 \n",
      "BANNED (prompt_idx=34, type=slop_phrase, phrase='vibrant')               \n",
      "BANNED (prompt_idx=0, type=slop_phrase, phrase='whisper')                \n",
      "BANNED (prompt_idx=17, type=slop_phrase, phrase='ethan')                 \n",
      "BANNED (prompt_idx=24, type=ngram, ngram='said voice')                   \n",
      "BANNED (prompt_idx=33, type=slop_phrase, phrase='frantic')               \n",
      "BANNED (prompt_idx=39, type=slop_phrase, phrase='villain')               \n",
      "BANNED (prompt_idx=4, type=slop_phrase, phrase='vibrant')                \n",
      "Batch Generating:   0%|          | 0/40 [00:13<?, ?prompt/s, 692.1 tok/s]"
     ]
    },
    {
     "name": "stderr",
     "output_type": "stream",
     "text": [
      "2025-05-18 17:15:43,089 [ERROR] [core.sampler        ]: Back-track: no valid next-token candidates survived even after relaxation.\n"
     ]
    },
    {
     "name": "stdout",
     "output_type": "stream",
     "text": [
      "BANNED (prompt_idx=15, type=slop_phrase, phrase='flicker')               \n",
      "BANNED (prompt_idx=25, type=regex, regex='\\bnot\\s+(?:just|only|merely)?\\s*(?:[^\\s]+\\s*){1,6}?[,;:—–-]?\\s*but\\s+(?:also\\s+)?', match='not exactly, but ')\n",
      "BANNED (prompt_idx=20, type=slop_phrase, phrase='chaotic')               \n",
      "BANNED (prompt_idx=19, type=slop_phrase, phrase='unease')                \n",
      "BANNED (prompt_idx=3, type=slop_phrase, phrase='silas')                  \n",
      "BANNED (prompt_idx=35, type=slop_phrase, phrase='elias')                 \n",
      "Batch Generating:   0%|          | 0/40 [00:14<?, ?prompt/s, 688.0 tok/s]"
     ]
    },
    {
     "name": "stderr",
     "output_type": "stream",
     "text": [
      "2025-05-18 17:15:43,363 [ERROR] [core.sampler        ]: Back-track: no valid next-token candidates survived even after relaxation.\n",
      "2025-05-18 17:15:43,402 [ERROR] [core.sampler        ]: Back-track: no valid next-token candidates survived even after relaxation.\n"
     ]
    },
    {
     "name": "stdout",
     "output_type": "stream",
     "text": [
      "BANNED (prompt_idx=12, type=slop_phrase, phrase='profound')              \n",
      "BANNED (prompt_idx=38, type=slop_phrase, phrase='fabric')                \n",
      "BANNED (prompt_idx=26, type=slop_phrase, phrase='nodded')                \n",
      "BANNED (prompt_idx=10, type=slop_phrase, phrase='elias')                 \n",
      "BANNED (prompt_idx=5, type=slop_phrase, phrase='thorne')                 \n",
      "Batch Generating:   0%|          | 0/40 [00:14<?, ?prompt/s, 656.2 tok/s]"
     ]
    },
    {
     "name": "stderr",
     "output_type": "stream",
     "text": [
      "2025-05-18 17:15:43,570 [ERROR] [core.sampler        ]: Back-track: no valid next-token candidates survived even after relaxation.\n",
      "2025-05-18 17:15:43,661 [ERROR] [core.sampler        ]: Back-track: no valid next-token candidates survived even after relaxation.\n",
      "2025-05-18 17:15:43,683 [ERROR] [core.sampler        ]: Back-track: no valid next-token candidates survived even after relaxation.\n"
     ]
    },
    {
     "name": "stdout",
     "output_type": "stream",
     "text": [
      "BANNED (prompt_idx=13, type=slop_phrase, phrase='brow')                  \n",
      "BANNED (prompt_idx=22, type=slop_phrase, phrase='brow')                  \n",
      "BANNED (prompt_idx=27, type=slop_phrase, phrase='meticulously')          \n",
      "BANNED (prompt_idx=36, type=slop_phrase, phrase='echo')                  \n",
      "BANNED (prompt_idx=6, type=slop_phrase, phrase='unsettling')             \n",
      "BANNED (prompt_idx=16, type=slop_phrase, phrase='shimmering')            \n",
      "BANNED (prompt_idx=0, type=slop_phrase, phrase='shadows')                \n",
      "BANNED (prompt_idx=34, type=slop_phrase, phrase='chaotic')               \n",
      "BANNED (prompt_idx=33, type=slop_phrase, phrase='frantic')               \n",
      "BANNED (prompt_idx=4, type=slop_phrase, phrase='swirling')               \n",
      "BANNED (prompt_idx=17, type=slop_phrase, phrase='ethan')                 \n",
      "BANNED (prompt_idx=21, type=ngram, ngram='said voice')                   \n",
      "BANNED (prompt_idx=15, type=slop_phrase, phrase='ethereal')              \n",
      "BANNED (prompt_idx=35, type=slop_phrase, phrase='elias')                 \n",
      "BANNED (prompt_idx=19, type=slop_phrase, phrase='echo')                  \n",
      "BANNED (prompt_idx=7, type=slop_phrase, phrase='scent')                  \n",
      "BANNED (prompt_idx=3, type=slop_phrase, phrase='elias')                  \n",
      "Batch Generating:   0%|          | 0/40 [00:14<?, ?prompt/s, 672.7 tok/s]"
     ]
    },
    {
     "name": "stderr",
     "output_type": "stream",
     "text": [
      "2025-05-18 17:15:43,969 [ERROR] [core.sampler        ]: Back-track: no valid next-token candidates survived even after relaxation.\n",
      "2025-05-18 17:15:44,056 [ERROR] [core.sampler        ]: Back-track: no valid next-token candidates survived even after relaxation.\n",
      "2025-05-18 17:15:44,105 [ERROR] [core.sampler        ]: Back-track: no valid next-token candidates survived even after relaxation.\n"
     ]
    },
    {
     "name": "stdout",
     "output_type": "stream",
     "text": [
      "BANNED (prompt_idx=12, type=slop_phrase, phrase='liam')                  \n",
      "BANNED (prompt_idx=38, type=slop_phrase, phrase='vibrant')               \n",
      "BANNED (prompt_idx=26, type=slop_phrase, phrase='flicker')               \n",
      "BANNED (prompt_idx=10, type=slop_phrase, phrase='elias')                 \n",
      "BANNED (prompt_idx=36, type=slop_phrase, phrase='echo')                  \n",
      "BANNED (prompt_idx=5, type=slop_phrase, phrase='silas')                  \n",
      "Batch Generating:   0%|          | 0/40 [00:14<?, ?prompt/s, 662.1 tok/s]"
     ]
    },
    {
     "name": "stderr",
     "output_type": "stream",
     "text": [
      "2025-05-18 17:15:44,179 [ERROR] [core.sampler        ]: Back-track: no valid next-token candidates survived even after relaxation.\n",
      "2025-05-18 17:15:44,236 [ERROR] [core.sampler        ]: Back-track: no valid next-token candidates survived even after relaxation.\n",
      "2025-05-18 17:15:44,248 [ERROR] [core.sampler        ]: Back-track: no valid next-token candidates survived even after relaxation.\n"
     ]
    },
    {
     "name": "stdout",
     "output_type": "stream",
     "text": [
      "BANNED (prompt_idx=22, type=ngram, ngram='eyes fixed')                   \n",
      "BANNED (prompt_idx=16, type=slop_phrase, phrase='scent')                 \n",
      "BANNED (prompt_idx=13, type=slop_phrase, phrase='profound')              \n",
      "BANNED (prompt_idx=0, type=slop_phrase, phrase='whisper')                \n",
      "BANNED (prompt_idx=37, type=slop_phrase, phrase='clutching')             \n",
      "BANNED (prompt_idx=2, type=slop_phrase, phrase='meticulously')           \n",
      "BANNED (prompt_idx=24, type=slop_phrase, phrase='twisted')               \n",
      "BANNED (prompt_idx=17, type=slop_phrase, phrase='ethan')                 \n",
      "BANNED (prompt_idx=4, type=slop_phrase, phrase='obsidian')               \n",
      "Batch Generating:   0%|          | 0/40 [00:15<?, ?prompt/s, 654.2 tok/s]"
     ]
    },
    {
     "name": "stderr",
     "output_type": "stream",
     "text": [
      "2025-05-18 17:15:44,403 [ERROR] [core.sampler        ]: Back-track: no valid next-token candidates survived even after relaxation.\n"
     ]
    },
    {
     "name": "stdout",
     "output_type": "stream",
     "text": [
      "BANNED (prompt_idx=34, type=slop_phrase, phrase='terrifying')            \n",
      "BANNED (prompt_idx=21, type=slop_phrase, phrase='muttered')              \n",
      "BANNED (prompt_idx=15, type=slop_phrase, phrase='flicker')               \n",
      "BANNED (prompt_idx=31, type=slop_phrase, phrase='silas')                 \n",
      "BANNED (prompt_idx=7, type=slop_phrase, phrase='whisper')                \n",
      "BANNED (prompt_idx=19, type=slop_phrase, phrase='unease')                \n",
      "BANNED (prompt_idx=3, type=slop_phrase, phrase='elias')                  \n",
      "BANNED (prompt_idx=35, type=slop_phrase, phrase='fabric')                \n",
      "BANNED (prompt_idx=38, type=slop_phrase, phrase='overwhelming')          \n",
      "BANNED (prompt_idx=12, type=slop_phrase, phrase='liam')                  \n",
      "BANNED (prompt_idx=10, type=slop_phrase, phrase='elias')                 \n",
      "BANNED (prompt_idx=5, type=slop_phrase, phrase='silas')                  \n",
      "Batch Generating:   0%|          | 0/40 [00:15<?, ?prompt/s, 735.2 tok/s]"
     ]
    },
    {
     "name": "stderr",
     "output_type": "stream",
     "text": [
      "2025-05-18 17:15:44,738 [ERROR] [core.sampler        ]: Back-track: no valid next-token candidates survived even after relaxation.\n",
      "2025-05-18 17:15:44,750 [ERROR] [core.sampler        ]: Back-track: no valid next-token candidates survived even after relaxation.\n",
      "2025-05-18 17:15:44,770 [ERROR] [core.sampler        ]: Back-track: no valid next-token candidates survived even after relaxation.\n",
      "2025-05-18 17:15:44,815 [ERROR] [core.sampler        ]: Back-track: no valid next-token candidates survived even after relaxation.\n",
      "2025-05-18 17:15:44,903 [ERROR] [core.sampler        ]: Back-track: no valid next-token candidates survived even after relaxation.\n"
     ]
    },
    {
     "name": "stdout",
     "output_type": "stream",
     "text": [
      "BANNED (prompt_idx=22, type=slop_phrase, phrase='brow')                  \n",
      "BANNED (prompt_idx=16, type=slop_phrase, phrase='shifting')              \n",
      "BANNED (prompt_idx=13, type=slop_phrase, phrase='brow')                  \n",
      "BANNED (prompt_idx=0, type=slop_phrase, phrase='whisper')                \n",
      "BANNED (prompt_idx=24, type=slop_phrase, phrase='crimson')               \n",
      "Batch Generating:   0%|          | 0/40 [00:15<?, ?prompt/s, 740.6 tok/s]"
     ]
    },
    {
     "name": "stderr",
     "output_type": "stream",
     "text": [
      "2025-05-18 17:15:45,004 [ERROR] [core.sampler        ]: Back-track: no valid next-token candidates survived even after relaxation.\n",
      "2025-05-18 17:15:45,058 [ERROR] [core.sampler        ]: Back-track: no valid next-token candidates survived even after relaxation.\n"
     ]
    },
    {
     "name": "stdout",
     "output_type": "stream",
     "text": [
      "BANNED (prompt_idx=37, type=slop_phrase, phrase='testament')             \n",
      "BANNED (prompt_idx=4, type=slop_phrase, phrase='swirling')               \n",
      "BANNED (prompt_idx=21, type=ngram, ngram='said voice')                   \n",
      "BANNED (prompt_idx=19, type=slop_phrase, phrase='unsettling')            \n",
      "BANNED (prompt_idx=25, type=slop_phrase, phrase='whisper')               \n",
      "BANNED (prompt_idx=17, type=slop_phrase, phrase='ethan')                 \n",
      "Batch Generating:   0%|          | 0/40 [00:16<?, ?prompt/s, 674.1 tok/s]"
     ]
    },
    {
     "name": "stderr",
     "output_type": "stream",
     "text": [
      "2025-05-18 17:15:45,906 [ERROR] [core.sampler        ]: Back-track: no valid next-token candidates survived even after relaxation.\n"
     ]
    },
    {
     "name": "stdout",
     "output_type": "stream",
     "text": [
      "BANNED (prompt_idx=3, type=slop_phrase, phrase='elias')                  \n",
      "BANNED (prompt_idx=31, type=slop_phrase, phrase='silas')                 \n",
      "BANNED (prompt_idx=7, type=slop_phrase, phrase='whisper')                \n",
      "BANNED (prompt_idx=15, type=slop_phrase, phrase='laced')                 \n",
      "BANNED (prompt_idx=12, type=slop_phrase, phrase='shifted')               \n",
      "BANNED (prompt_idx=38, type=slop_phrase, phrase='tapestry')              \n",
      "BANNED (prompt_idx=0, type=slop_phrase, phrase='grin')                   \n",
      "BANNED (prompt_idx=23, type=slop_phrase, phrase='subtle')                \n",
      "BANNED (prompt_idx=35, type=slop_phrase, phrase='fabric')                \n",
      "BANNED (prompt_idx=36, type=slop_phrase, phrase='profound')              \n",
      "BANNED (prompt_idx=22, type=slop_phrase, phrase='eyes locking onto')     \n",
      "BANNED (prompt_idx=29, type=slop_phrase, phrase='clutching')             \n",
      "BANNED (prompt_idx=5, type=slop_phrase, phrase='silas')                  \n",
      "BANNED (prompt_idx=24, type=ngram, ngram='spreading across')             \n",
      "BANNED (prompt_idx=16, type=slop_phrase, phrase='shimmering')            \n",
      "Batch Generating:   0%|          | 0/40 [00:17<?, ?prompt/s, 612.0 tok/s]"
     ]
    },
    {
     "name": "stderr",
     "output_type": "stream",
     "text": [
      "2025-05-18 17:15:46,297 [ERROR] [core.sampler        ]: Back-track: no valid next-token candidates survived even after relaxation.\n",
      "2025-05-18 17:15:46,307 [ERROR] [core.sampler        ]: Back-track: no valid next-token candidates survived even after relaxation.\n",
      "2025-05-18 17:15:46,358 [ERROR] [core.sampler        ]: Back-track: no valid next-token candidates survived even after relaxation.\n",
      "2025-05-18 17:15:46,394 [ERROR] [core.sampler        ]: Back-track: no valid next-token candidates survived even after relaxation.\n"
     ]
    },
    {
     "name": "stdout",
     "output_type": "stream",
     "text": [
      "BANNED (prompt_idx=19, type=slop_phrase, phrase='unease')                \n",
      "BANNED (prompt_idx=13, type=slop_phrase, phrase='brow')                  \n",
      "BANNED (prompt_idx=37, type=slop_phrase, phrase='chaotic')               \n",
      "BANNED (prompt_idx=21, type=slop_phrase, phrase='sigh')                  \n",
      "BANNED (prompt_idx=14, type=slop_phrase, phrase='faint')                 \n",
      "BANNED (prompt_idx=25, type=slop_phrase, phrase='murmured')              \n",
      "BANNED (prompt_idx=9, type=slop_phrase, phrase='swirling')               \n",
      "BANNED (prompt_idx=17, type=slop_phrase, phrase='ethan')                 \n",
      "BANNED (prompt_idx=3, type=slop_phrase, phrase='stark')                  \n",
      "BANNED (prompt_idx=20, type=slop_phrase, phrase='warmth')                \n",
      "BANNED (prompt_idx=15, type=slop_phrase, phrase='laced')                 \n",
      "Batch Generating:   0%|          | 0/40 [00:17<?, ?prompt/s, 602.6 tok/s]"
     ]
    },
    {
     "name": "stderr",
     "output_type": "stream",
     "text": [
      "2025-05-18 17:15:46,791 [ERROR] [core.sampler        ]: Back-track: no valid next-token candidates survived even after relaxation.\n",
      "2025-05-18 17:15:46,929 [ERROR] [core.sampler        ]: Back-track: no valid next-token candidates survived even after relaxation.\n"
     ]
    },
    {
     "name": "stdout",
     "output_type": "stream",
     "text": [
      "BANNED (prompt_idx=0, type=slop_phrase, phrase='whisper')                \n",
      "BANNED (prompt_idx=23, type=slop_phrase, phrase='subtle')                \n",
      "BANNED (prompt_idx=10, type=slop_phrase, phrase='profound')              \n",
      "BANNED (prompt_idx=38, type=slop_phrase, phrase='shiver')                \n",
      "BANNED (prompt_idx=12, type=slop_phrase, phrase='liam')                  \n",
      "BANNED (prompt_idx=35, type=slop_phrase, phrase='fabric')                \n",
      "BANNED (prompt_idx=36, type=slop_phrase, phrase='overwhelming')          \n",
      "BANNED (prompt_idx=34, type=slop_phrase, phrase='intricate')             \n",
      "Batch Generating:   0%|          | 0/40 [00:17<?, ?prompt/s, 624.9 tok/s]"
     ]
    },
    {
     "name": "stderr",
     "output_type": "stream",
     "text": [
      "2025-05-18 17:15:46,992 [ERROR] [core.sampler        ]: Back-track: no valid next-token candidates survived even after relaxation.\n"
     ]
    },
    {
     "name": "stdout",
     "output_type": "stream",
     "text": [
      "BANNED (prompt_idx=22, type=slop_phrase, phrase='eyes locking onto')     \n",
      "BANNED (prompt_idx=5, type=slop_phrase, phrase='chilling')               \n",
      "BANNED (prompt_idx=19, type=slop_phrase, phrase='echo')                  \n",
      "BANNED (prompt_idx=16, type=slop_phrase, phrase='scent')                 \n",
      "BANNED (prompt_idx=4, type=ngram, ngram='long since')                    \n",
      "BANNED (prompt_idx=33, type=slop_phrase, phrase='desperation')           \n",
      "BANNED (prompt_idx=17, type=slop_phrase, phrase='ethan')                 \n",
      "Batch Generating:   0%|          | 0/40 [00:17<?, ?prompt/s, 616.7 tok/s]"
     ]
    },
    {
     "name": "stderr",
     "output_type": "stream",
     "text": [
      "2025-05-18 17:15:47,198 [ERROR] [core.sampler        ]: Back-track: no valid next-token candidates survived even after relaxation.\n"
     ]
    },
    {
     "name": "stdout",
     "output_type": "stream",
     "text": [
      "BANNED (prompt_idx=25, type=slop_phrase, phrase='whisper')               \n",
      "BANNED (prompt_idx=7, type=slop_phrase, phrase='clutching')              \n",
      "BANNED (prompt_idx=15, type=slop_phrase, phrase='meticulously')          \n",
      "BANNED (prompt_idx=0, type=slop_phrase, phrase='swallowed')              \n",
      "BANNED (prompt_idx=31, type=slop_phrase, phrase='silas')                 \n",
      "BANNED (prompt_idx=38, type=slop_phrase, phrase='trembling')             \n",
      "BANNED (prompt_idx=30, type=slop_phrase, phrase='faded')                 \n",
      "BANNED (prompt_idx=10, type=slop_phrase, phrase='profound')              \n",
      "BANNED (prompt_idx=23, type=slop_phrase, phrase='subtle')                \n",
      "BANNED (prompt_idx=12, type=slop_phrase, phrase='faint')                 \n",
      "BANNED (prompt_idx=36, type=slop_phrase, phrase='unsettling')            \n",
      "BANNED (prompt_idx=22, type=slop_phrase, phrase='eyes locking onto')     \n",
      "BANNED (prompt_idx=29, type=slop_phrase, phrase='frantic')               \n",
      "BANNED (prompt_idx=5, type=slop_phrase, phrase='silas')                  \n",
      "BANNED (prompt_idx=19, type=slop_phrase, phrase='chilling')              \n",
      "BANNED (prompt_idx=16, type=slop_phrase, phrase='shifted')               \n",
      "BANNED (prompt_idx=11, type=slop_phrase, phrase='meticulously')          \n",
      "BANNED (prompt_idx=32, type=slop_phrase, phrase='surge')                 \n",
      "BANNED (prompt_idx=17, type=slop_phrase, phrase='ethan')                 \n",
      "Batch Generating:   0%|          | 0/40 [00:18<?, ?prompt/s, 636.8 tok/s]"
     ]
    },
    {
     "name": "stderr",
     "output_type": "stream",
     "text": [
      "2025-05-18 17:15:47,637 [ERROR] [core.sampler        ]: Back-track: no valid next-token candidates survived even after relaxation.\n",
      "2025-05-18 17:15:47,666 [ERROR] [core.sampler        ]: Back-track: no valid next-token candidates survived even after relaxation.\n"
     ]
    },
    {
     "name": "stdout",
     "output_type": "stream",
     "text": [
      "BANNED (prompt_idx=3, type=slop_phrase, phrase='meticulously')           \n",
      "BANNED (prompt_idx=14, type=slop_phrase, phrase='utterly')               \n",
      "BANNED (prompt_idx=6, type=slop_phrase, phrase='chaotic')                \n",
      "BANNED (prompt_idx=25, type=slop_phrase, phrase='whisper')               \n",
      "BANNED (prompt_idx=0, type=slop_phrase, phrase='whisper')                \n",
      "BANNED (prompt_idx=33, type=slop_phrase, phrase='desperation')           \n",
      "BANNED (prompt_idx=31, type=slop_phrase, phrase='silas')                 \n",
      "Batch Generating:   0%|          | 0/40 [00:18<?, ?prompt/s, 637.8 tok/s]"
     ]
    },
    {
     "name": "stderr",
     "output_type": "stream",
     "text": [
      "2025-05-18 17:15:47,883 [ERROR] [core.sampler        ]: Back-track: no valid next-token candidates survived even after relaxation.\n",
      "2025-05-18 17:15:47,923 [ERROR] [core.sampler        ]: Back-track: no valid next-token candidates survived even after relaxation.\n"
     ]
    },
    {
     "name": "stdout",
     "output_type": "stream",
     "text": [
      "BANNED (prompt_idx=7, type=slop_phrase, phrase='stared')                 \n",
      "BANNED (prompt_idx=39, type=slop_phrase, phrase='young man named')       \n",
      "BANNED (prompt_idx=30, type=slop_phrase, phrase='pale')                  \n",
      "BANNED (prompt_idx=10, type=slop_phrase, phrase='said, his voice a low') \n",
      "BANNED (prompt_idx=24, type=slop_phrase, phrase='leaned')                \n",
      "BANNED (prompt_idx=22, type=regex, regex='\\bnot\\s+(?:just|only|merely)?\\s*(?:[^\\s]+\\s*){1,6}?[,;:—–-]?\\s*but\\s+(?:also\\s+)?', match='not with a whine, but ')\n",
      "BANNED (prompt_idx=5, type=slop_phrase, phrase='silas')                  \n",
      "BANNED (prompt_idx=16, type=slop_phrase, phrase='amusement')             \n",
      "BANNED (prompt_idx=2, type=slop_phrase, phrase='silas')                  \n",
      "BANNED (prompt_idx=17, type=slop_phrase, phrase='ethan')                 \n",
      "BANNED (prompt_idx=13, type=slop_phrase, phrase='brow')                  \n",
      "Batch Generating:   0%|          | 0/40 [00:19<?, ?prompt/s, 641.5 tok/s]"
     ]
    },
    {
     "name": "stderr",
     "output_type": "stream",
     "text": [
      "2025-05-18 17:15:48,314 [ERROR] [core.sampler        ]: Back-track: no valid next-token candidates survived even after relaxation.\n",
      "2025-05-18 17:15:48,408 [ERROR] [core.sampler        ]: Back-track: no valid next-token candidates survived even after relaxation.\n"
     ]
    },
    {
     "name": "stdout",
     "output_type": "stream",
     "text": [
      "BANNED (prompt_idx=21, type=ngram, ngram='tilted head')                  \n",
      "BANNED (prompt_idx=32, type=slop_phrase, phrase='small, almost imperceptible')\n",
      "BANNED (prompt_idx=37, type=slop_phrase, phrase='testament')             \n",
      "BANNED (prompt_idx=25, type=slop_phrase, phrase='whisper')               \n",
      "BANNED (prompt_idx=20, type=slop_phrase, phrase='meticulously')          \n",
      "BANNED (prompt_idx=3, type=slop_phrase, phrase='rhythm')                 \n",
      "BANNED (prompt_idx=6, type=ngram, ngram='voice low')                     \n",
      "BANNED (prompt_idx=0, type=ngram, ngram='said voice')                    \n",
      "BANNED (prompt_idx=15, type=slop_phrase, phrase='meticulously')          \n",
      "Batch Generating:   0%|          | 0/40 [00:19<?, ?prompt/s, 655.2 tok/s]"
     ]
    },
    {
     "name": "stderr",
     "output_type": "stream",
     "text": [
      "2025-05-18 17:15:48,554 [ERROR] [core.sampler        ]: Back-track: no valid next-token candidates survived even after relaxation.\n"
     ]
    },
    {
     "name": "stdout",
     "output_type": "stream",
     "text": [
      "BANNED (prompt_idx=31, type=slop_phrase, phrase='elias')                 \n",
      "BANNED (prompt_idx=39, type=slop_phrase, phrase='young man named')       \n",
      "BANNED (prompt_idx=7, type=slop_phrase, phrase='frantic')                \n",
      "BANNED (prompt_idx=33, type=slop_phrase, phrase='scent')                 \n",
      "BANNED (prompt_idx=24, type=ngram, ngram='something far')                \n",
      "BANNED (prompt_idx=10, type=slop_phrase, phrase='voice a low rumble')    \n",
      "BANNED (prompt_idx=34, type=slop_phrase, phrase='meticulously')          \n",
      "BANNED (prompt_idx=35, type=slop_phrase, phrase='elias')                 \n",
      "BANNED (prompt_idx=23, type=slop_phrase, phrase='elias')                 \n",
      "BANNED (prompt_idx=12, type=slop_phrase, phrase='utterly')               \n",
      "BANNED (prompt_idx=5, type=slop_phrase, phrase='thorne')                 \n",
      "BANNED (prompt_idx=11, type=slop_phrase, phrase='demon')                 \n",
      "BANNED (prompt_idx=16, type=slop_phrase, phrase='amusement')             \n",
      "BANNED (prompt_idx=22, type=slop_phrase, phrase='eyes locking onto')     \n",
      "Batch Generating:   0%|          | 0/40 [00:19<?, ?prompt/s, 622.3 tok/s]"
     ]
    },
    {
     "name": "stderr",
     "output_type": "stream",
     "text": [
      "2025-05-18 17:15:49,033 [ERROR] [core.sampler        ]: Back-track: no valid next-token candidates survived even after relaxation.\n",
      "2025-05-18 17:15:49,222 [ERROR] [core.sampler        ]: Back-track: no valid next-token candidates survived even after relaxation.\n"
     ]
    },
    {
     "name": "stdout",
     "output_type": "stream",
     "text": [
      "BANNED (prompt_idx=2, type=slop_phrase, phrase='elias')                  \n",
      "BANNED (prompt_idx=21, type=slop_phrase, phrase='hollow')                \n",
      "BANNED (prompt_idx=37, type=slop_phrase, phrase='shimmering')            \n",
      "BANNED (prompt_idx=25, type=ngram, ngram='said voice')                   \n",
      "BANNED (prompt_idx=17, type=slop_phrase, phrase='ethan')                 \n",
      "BANNED (prompt_idx=3, type=slop_phrase, phrase='rhythm')                 \n",
      "BANNED (prompt_idx=32, type=slop_phrase, phrase='surge')                 \n",
      "BANNED (prompt_idx=8, type=slop_phrase, phrase='subtle')                 \n",
      "BANNED (prompt_idx=33, type=slop_phrase, phrase='desperation')           \n",
      "BANNED (prompt_idx=7, type=slop_phrase, phrase='relentless')             \n",
      "BANNED (prompt_idx=31, type=slop_phrase, phrase='silas')                 \n",
      "Batch Generating:   0%|          | 0/40 [00:20<?, ?prompt/s, 653.6 tok/s]"
     ]
    },
    {
     "name": "stderr",
     "output_type": "stream",
     "text": [
      "2025-05-18 17:15:49,540 [ERROR] [core.sampler        ]: Back-track: no valid next-token candidates survived even after relaxation.\n"
     ]
    },
    {
     "name": "stdout",
     "output_type": "stream",
     "text": [
      "BANNED (prompt_idx=27, type=slop_phrase, phrase='chilling')              \n",
      "BANNED (prompt_idx=30, type=slop_phrase, phrase='realization')           \n",
      "BANNED (prompt_idx=19, type=slop_phrase, phrase='frantic')               \n",
      "BANNED (prompt_idx=38, type=slop_phrase, phrase='frantic')               \n",
      "BANNED (prompt_idx=10, type=slop_phrase, phrase='echo')                  \n",
      "BANNED (prompt_idx=23, type=regex, regex='\\bnot\\s+(?:just|only|merely)?\\s*(?:[^\\s]+\\s*){1,6}?[,;:—–-]?\\s*but\\s+(?:also\\s+)?', match='Not to kill, not to intimidate, but ')\n",
      "BANNED (prompt_idx=5, type=slop_phrase, phrase='silas')                  \n",
      "BANNED (prompt_idx=16, type=slop_phrase, phrase='amusement')             \n",
      "BANNED (prompt_idx=22, type=slop_phrase, phrase='eyes locking onto')     \n",
      "Batch Generating:   0%|          | 0/40 [00:20<?, ?prompt/s, 640.4 tok/s]"
     ]
    },
    {
     "name": "stderr",
     "output_type": "stream",
     "text": [
      "2025-05-18 17:15:50,265 [ERROR] [core.sampler        ]: Back-track: no valid next-token candidates survived even after relaxation.\n",
      "2025-05-18 17:15:50,291 [ERROR] [core.sampler        ]: Back-track: no valid next-token candidates survived even after relaxation.\n"
     ]
    },
    {
     "name": "stdout",
     "output_type": "stream",
     "text": [
      "BANNED (prompt_idx=35, type=slop_phrase, phrase='elias')                 \n",
      "BANNED (prompt_idx=0, type=slop_phrase, phrase='demon')                  \n",
      "BANNED (prompt_idx=11, type=slop_phrase, phrase='demon')                 \n",
      "BANNED (prompt_idx=3, type=slop_phrase, phrase='meticulously')           \n",
      "BANNED (prompt_idx=21, type=slop_phrase, phrase='unsettling')            \n",
      "BANNED (prompt_idx=25, type=slop_phrase, phrase='whisper')               \n",
      "BANNED (prompt_idx=13, type=slop_phrase, phrase='laced')                 \n",
      "BANNED (prompt_idx=2, type=slop_phrase, phrase='silas')                  \n",
      "Batch Generating:   0%|          | 0/40 [00:21<?, ?prompt/s, 592.6 tok/s]"
     ]
    },
    {
     "name": "stderr",
     "output_type": "stream",
     "text": [
      "2025-05-18 17:15:50,632 [ERROR] [core.sampler        ]: Back-track: no valid next-token candidates survived even after relaxation.\n"
     ]
    },
    {
     "name": "stdout",
     "output_type": "stream",
     "text": [
      "BANNED (prompt_idx=17, type=slop_phrase, phrase='shifting')              \n",
      "BANNED (prompt_idx=24, type=ngram, ngram='asked voice')                  \n",
      "BANNED (prompt_idx=6, type=slop_phrase, phrase='void')                   \n",
      "BANNED (prompt_idx=7, type=slop_phrase, phrase='frantic')                \n",
      "Batch Generating:   0%|          | 0/40 [00:21<?, ?prompt/s, 570.3 tok/s]"
     ]
    },
    {
     "name": "stderr",
     "output_type": "stream",
     "text": [
      "2025-05-18 17:15:50,884 [ERROR] [core.sampler        ]: Back-track: no valid next-token candidates survived even after relaxation.\n",
      "2025-05-18 17:15:51,052 [ERROR] [core.sampler        ]: Back-track: no valid next-token candidates survived even after relaxation.\n"
     ]
    },
    {
     "name": "stdout",
     "output_type": "stream",
     "text": [
      "BANNED (prompt_idx=39, type=ngram, ngram='said voice')                   \n",
      "BANNED (prompt_idx=31, type=slop_phrase, phrase='silas')                 \n",
      "BANNED (prompt_idx=34, type=slop_phrase, phrase='brow')                  \n",
      "BANNED (prompt_idx=14, type=slop_phrase, phrase='unsettling')            \n",
      "BANNED (prompt_idx=15, type=slop_phrase, phrase='overwhelming')          \n",
      "BANNED (prompt_idx=36, type=slop_phrase, phrase='meticulously')          \n",
      "BANNED (prompt_idx=38, type=slop_phrase, phrase='flicker')               \n",
      "BANNED (prompt_idx=23, type=slop_phrase, phrase='utterly')               \n",
      "BANNED (prompt_idx=16, type=slop_phrase, phrase='amusement')             \n",
      "BANNED (prompt_idx=22, type=regex, regex='\\bnot\\s+(?:just|only|merely)?\\s*(?:[^\\s]+\\s*){1,6}?[,;:—–-]?\\s*but\\s+(?:also\\s+)?', match='not supposed to do this, but ')\n",
      "BANNED (prompt_idx=0, type=slop_phrase, phrase='clara')                  \n",
      "BANNED (prompt_idx=12, type=slop_phrase, phrase='tapestry')              \n",
      "BANNED (prompt_idx=5, type=slop_phrase, phrase='silas')                  \n",
      "Batch Generating:   0%|          | 0/40 [00:22<?, ?prompt/s, 561.0 tok/s]"
     ]
    },
    {
     "name": "stderr",
     "output_type": "stream",
     "text": [
      "2025-05-18 17:15:51,385 [ERROR] [core.sampler        ]: Back-track: no valid next-token candidates survived even after relaxation.\n"
     ]
    },
    {
     "name": "stdout",
     "output_type": "stream",
     "text": [
      "BANNED (prompt_idx=29, type=ngram, ngram='voice laced')                  \n",
      "BANNED (prompt_idx=35, type=slop_phrase, phrase='elias')                 \n",
      "BANNED (prompt_idx=11, type=slop_phrase, phrase='flicker')               \n",
      "BANNED (prompt_idx=3, type=slop_phrase, phrase='rhythm')                 \n",
      "BANNED (prompt_idx=21, type=ngram, ngram='looked like')                  \n",
      "BANNED (prompt_idx=17, type=slop_phrase, phrase='ethan')                 \n",
      "BANNED (prompt_idx=25, type=slop_phrase, phrase='whisper')               \n",
      "Batch Generating:   0%|          | 0/40 [00:22<?, ?prompt/s, 532.5 tok/s]"
     ]
    },
    {
     "name": "stderr",
     "output_type": "stream",
     "text": [
      "2025-05-18 17:15:51,799 [ERROR] [core.sampler        ]: Back-track: no valid next-token candidates survived even after relaxation.\n",
      "2025-05-18 17:15:51,831 [ERROR] [core.sampler        ]: Back-track: no valid next-token candidates survived even after relaxation.\n"
     ]
    },
    {
     "name": "stdout",
     "output_type": "stream",
     "text": [
      "BANNED (prompt_idx=8, type=slop_phrase, phrase='spark')                  \n",
      "BANNED (prompt_idx=33, type=ngram, ngram='took deep')                    \n",
      "BANNED (prompt_idx=2, type=slop_phrase, phrase='silas')                  \n",
      "BANNED (prompt_idx=24, type=ngram, ngram='asked voice')                  \n",
      "Batch Generating:   0%|          | 0/40 [00:22<?, ?prompt/s, 512.2 tok/s]"
     ]
    },
    {
     "name": "stderr",
     "output_type": "stream",
     "text": [
      "2025-05-18 17:15:52,148 [ERROR] [core.sampler        ]: Back-track: no valid next-token candidates survived even after relaxation.\n"
     ]
    },
    {
     "name": "stdout",
     "output_type": "stream",
     "text": [
      "BANNED (prompt_idx=7, type=slop_phrase, phrase='frantic')                \n",
      "BANNED (prompt_idx=6, type=slop_phrase, phrase='void')                   \n",
      "BANNED (prompt_idx=19, type=slop_phrase, phrase='froze')                 \n",
      "BANNED (prompt_idx=1, type=slop_phrase, phrase='palpable')               \n",
      "BANNED (prompt_idx=22, type=slop_phrase, phrase='eyes locking onto')     \n",
      "BANNED (prompt_idx=16, type=slop_phrase, phrase='amusement')             \n",
      "Batch Generating:   0%|          | 0/40 [00:23<?, ?prompt/s, 494.6 tok/s]"
     ]
    },
    {
     "name": "stderr",
     "output_type": "stream",
     "text": [
      "2025-05-18 17:15:52,534 [ERROR] [core.sampler        ]: Back-track: no valid next-token candidates survived even after relaxation.\n"
     ]
    },
    {
     "name": "stdout",
     "output_type": "stream",
     "text": [
      "BANNED (prompt_idx=39, type=ngram, ngram='replied voice')                \n",
      "BANNED (prompt_idx=23, type=slop_phrase, phrase='elias')                 \n",
      "BANNED (prompt_idx=38, type=slop_phrase, phrase='frantic')               \n",
      "BANNED (prompt_idx=10, type=slop_phrase, phrase='vibrant')               \n",
      "BANNED (prompt_idx=5, type=slop_phrase, phrase='silas')                  \n",
      "Batch Generating:   0%|          | 0/40 [00:23<?, ?prompt/s, 465.9 tok/s]"
     ]
    },
    {
     "name": "stderr",
     "output_type": "stream",
     "text": [
      "2025-05-18 17:15:52,800 [ERROR] [core.sampler        ]: Back-track: no valid next-token candidates survived even after relaxation.\n"
     ]
    },
    {
     "name": "stdout",
     "output_type": "stream",
     "text": [
      "BANNED (prompt_idx=3, type=slop_phrase, phrase='despair')                \n",
      "BANNED (prompt_idx=36, type=slop_phrase, phrase='utterly')               \n",
      "BANNED (prompt_idx=31, type=slop_phrase, phrase='brow')                  \n",
      "BANNED (prompt_idx=15, type=slop_phrase, phrase='shaking')               \n",
      "BANNED (prompt_idx=29, type=slop_phrase, phrase='laced')                 \n",
      "BANNED (prompt_idx=35, type=slop_phrase, phrase='warmth')                \n",
      "BANNED (prompt_idx=17, type=slop_phrase, phrase='ethan')                 \n",
      "BANNED (prompt_idx=25, type=slop_phrase, phrase='muttered')              \n",
      "Batch Generating:   0%|          | 0/40 [00:23<?, ?prompt/s, 424.1 tok/s]"
     ]
    },
    {
     "name": "stderr",
     "output_type": "stream",
     "text": [
      "2025-05-18 17:15:53,135 [ERROR] [core.sampler        ]: Back-track: no valid next-token candidates survived even after relaxation.\n"
     ]
    },
    {
     "name": "stdout",
     "output_type": "stream",
     "text": [
      "BANNED (prompt_idx=33, type=slop_phrase, phrase='frantic')               \n",
      "BANNED (prompt_idx=24, type=slop_phrase, phrase='vanished')              \n",
      "BANNED (prompt_idx=7, type=slop_phrase, phrase='frantic')                \n",
      "BANNED (prompt_idx=2, type=slop_phrase, phrase='elias')                  \n",
      "BANNED (prompt_idx=19, type=slop_phrase, phrase='stared')                \n",
      "Batch Generating:   0%|          | 0/40 [00:24<?, ?prompt/s, 410.4 tok/s]"
     ]
    },
    {
     "name": "stderr",
     "output_type": "stream",
     "text": [
      "2025-05-18 17:15:53,383 [ERROR] [core.sampler        ]: Back-track: no valid next-token candidates survived even after relaxation.\n"
     ]
    },
    {
     "name": "stdout",
     "output_type": "stream",
     "text": [
      "BANNED (prompt_idx=4, type=slop_phrase, phrase='brow')                   \n",
      "BANNED (prompt_idx=37, type=slop_phrase, phrase='unsettling')            \n",
      "BANNED (prompt_idx=30, type=slop_phrase, phrase='testament')             \n",
      "BANNED (prompt_idx=0, type=ngram, ngram='air thick')                     \n",
      "BANNED (prompt_idx=23, type=slop_phrase, phrase='thorne')                \n",
      "BANNED (prompt_idx=22, type=regex, regex='\\bnot\\s+(?:just|only|merely)?\\s*(?:[^\\s]+\\s*){1,6}?[,;:—–-]?\\s*but\\s+(?:also\\s+)?', match='not supposed to do this, but ')\n",
      "BANNED (prompt_idx=1, type=slop_phrase, phrase='palpable')               \n",
      "BANNED (prompt_idx=34, type=slop_phrase, phrase='subtle')                \n",
      "BANNED (prompt_idx=38, type=slop_phrase, phrase='fragile')               \n",
      "BANNED (prompt_idx=3, type=slop_phrase, phrase='unwavering')             \n",
      "BANNED (prompt_idx=5, type=slop_phrase, phrase='flicker')                \n",
      "Batch Generating:   0%|          | 0/40 [00:24<?, ?prompt/s, 344.6 tok/s]"
     ]
    },
    {
     "name": "stderr",
     "output_type": "stream",
     "text": [
      "2025-05-18 17:15:53,966 [ERROR] [core.sampler        ]: Back-track: no valid next-token candidates survived even after relaxation.\n"
     ]
    },
    {
     "name": "stdout",
     "output_type": "stream",
     "text": [
      "BANNED (prompt_idx=39, type=ngram, ngram='said voice')                   \n",
      "BANNED (prompt_idx=36, type=slop_phrase, phrase='utterly')               \n",
      "BANNED (prompt_idx=31, type=slop_phrase, phrase='silas')                 \n",
      "BANNED (prompt_idx=25, type=slop_phrase, phrase='whisper')               \n",
      "Batch Generating:   0%|          | 0/40 [00:25<?, ?prompt/s, 323.2 tok/s]"
     ]
    },
    {
     "name": "stderr",
     "output_type": "stream",
     "text": [
      "2025-05-18 17:15:54,512 [ERROR] [core.sampler        ]: Back-track: no valid next-token candidates survived even after relaxation.\n",
      "2025-05-18 17:15:54,579 [ERROR] [core.sampler        ]: Back-track: no valid next-token candidates survived even after relaxation.\n"
     ]
    },
    {
     "name": "stdout",
     "output_type": "stream",
     "text": [
      "BANNED (prompt_idx=24, type=slop_phrase, phrase='stared')                \n",
      "BANNED (prompt_idx=17, type=slop_phrase, phrase='clutching')             \n",
      "BANNED (prompt_idx=35, type=slop_phrase, phrase='overwhelming')          \n",
      "BANNED (prompt_idx=8, type=slop_phrase, phrase='vanished')               \n",
      "BANNED (prompt_idx=7, type=regex, regex='\\bnot\\s+(?:just|only|merely)?\\s*(?:[^\\s]+\\s*){1,6}?[,;:—–-]?\\s*but\\s+(?:also\\s+)?', match='Not the usual skittering of a spider, but ')\n",
      "BANNED (prompt_idx=33, type=slop_phrase, phrase='took a deep breath')    \n",
      "BANNED (prompt_idx=2, type=slop_phrase, phrase='silas')                  \n",
      "BANNED (prompt_idx=15, type=ngram, ngram='voice echoing')                \n",
      "BANNED (prompt_idx=13, type=slop_phrase, phrase='voice a low rumble')    \n",
      "BANNED (prompt_idx=6, type=ngram, ngram='young man')                     \n",
      "BANNED (prompt_idx=23, type=slop_phrase, phrase='elias')                 \n",
      "BANNED (prompt_idx=37, type=slop_phrase, phrase='unsettling')            \n",
      "BANNED (prompt_idx=22, type=slop_phrase, phrase='eyes locking onto')     \n",
      "BANNED (prompt_idx=5, type=slop_phrase, phrase='silas')                  \n",
      "BANNED (prompt_idx=3, type=slop_phrase, phrase='unwavering')             \n",
      "Batch Generating:   0%|          | 0/40 [00:25<?, ?prompt/s, 325.6 tok/s]"
     ]
    },
    {
     "name": "stderr",
     "output_type": "stream",
     "text": [
      "2025-05-18 17:15:55,214 [ERROR] [core.sampler        ]: Back-track: no valid next-token candidates survived even after relaxation.\n",
      "2025-05-18 17:15:55,257 [ERROR] [core.sampler        ]: Back-track: no valid next-token candidates survived even after relaxation.\n",
      "2025-05-18 17:15:55,314 [ERROR] [core.sampler        ]: Back-track: no valid next-token candidates survived even after relaxation.\n"
     ]
    },
    {
     "name": "stdout",
     "output_type": "stream",
     "text": [
      "BANNED (prompt_idx=38, type=slop_phrase, phrase='fragile')               \n",
      "BANNED (prompt_idx=34, type=slop_phrase, phrase='vibrant')               \n",
      "BANNED (prompt_idx=30, type=slop_phrase, phrase='spark')                 \n",
      "BANNED (prompt_idx=31, type=slop_phrase, phrase='silas')                 \n",
      "BANNED (prompt_idx=21, type=slop_phrase, phrase='cracked')               \n",
      "BANNED (prompt_idx=19, type=slop_phrase, phrase='brow')                  \n",
      "BANNED (prompt_idx=25, type=slop_phrase, phrase='whisper')               \n",
      "BANNED (prompt_idx=9, type=slop_phrase, phrase='rhythm')                 \n",
      "Batch Generating:   0%|          | 0/40 [00:26<?, ?prompt/s, 340.1 tok/s]"
     ]
    },
    {
     "name": "stderr",
     "output_type": "stream",
     "text": [
      "2025-05-18 17:15:55,688 [ERROR] [core.sampler        ]: Back-track: no valid next-token candidates survived even after relaxation.\n",
      "2025-05-18 17:15:55,751 [ERROR] [core.sampler        ]: Back-track: no valid next-token candidates survived even after relaxation.\n",
      "2025-05-18 17:15:55,909 [ERROR] [core.sampler        ]: Back-track: no valid next-token candidates survived even after relaxation.\n"
     ]
    },
    {
     "name": "stdout",
     "output_type": "stream",
     "text": [
      "BANNED (prompt_idx=17, type=slop_phrase, phrase='ethan')                 \n",
      "BANNED (prompt_idx=24, type=slop_phrase, phrase='swallowed')             \n",
      "BANNED (prompt_idx=0, type=slop_phrase, phrase='stark')                  \n",
      "BANNED (prompt_idx=7, type=slop_phrase, phrase='frantic')                \n",
      "BANNED (prompt_idx=33, type=slop_phrase, phrase='liam')                  \n",
      "BANNED (prompt_idx=35, type=slop_phrase, phrase='profound')              \n",
      "Batch Generating:   0%|          | 0/40 [00:27<?, ?prompt/s, 322.0 tok/s]"
     ]
    },
    {
     "name": "stderr",
     "output_type": "stream",
     "text": [
      "2025-05-18 17:15:56,212 [ERROR] [core.sampler        ]: Back-track: no valid next-token candidates survived even after relaxation.\n"
     ]
    },
    {
     "name": "stdout",
     "output_type": "stream",
     "text": [
      "BANNED (prompt_idx=23, type=slop_phrase, phrase='thorne')                \n",
      "BANNED (prompt_idx=13, type=slop_phrase, phrase='gaze')                  \n",
      "BANNED (prompt_idx=5, type=slop_phrase, phrase='leaned')                 \n",
      "BANNED (prompt_idx=6, type=slop_phrase, phrase='pale')                   \n",
      "BANNED (prompt_idx=3, type=slop_phrase, phrase='echo')                   \n",
      "BANNED (prompt_idx=22, type=slop_phrase, phrase='blinked')               \n",
      "BANNED (prompt_idx=4, type=slop_phrase, phrase='unsettling')             \n",
      "BANNED (prompt_idx=38, type=slop_phrase, phrase='fragile')               \n",
      "BANNED (prompt_idx=32, type=regex, regex='\\bnot\\s+(?:just|only|merely)?\\s*(?:[^\\s]+\\s*){1,6}?[,;:—–-]?\\s*but\\s+(?:also\\s+)?', match='Not enough for Elysium, certainly, but ')\n",
      "BANNED (prompt_idx=15, type=slop_phrase, phrase='silas')                 \n",
      "Batch Generating:   0%|          | 0/40 [00:27<?, ?prompt/s, 310.9 tok/s]"
     ]
    },
    {
     "name": "stderr",
     "output_type": "stream",
     "text": [
      "2025-05-18 17:15:56,831 [ERROR] [core.sampler        ]: Back-track: no valid next-token candidates survived even after relaxation.\n"
     ]
    },
    {
     "name": "stdout",
     "output_type": "stream",
     "text": [
      "BANNED (prompt_idx=10, type=slop_phrase, phrase='beacon')                \n",
      "BANNED (prompt_idx=37, type=slop_phrase, phrase='unsettling')            \n",
      "BANNED (prompt_idx=28, type=slop_phrase, phrase='armor')                 \n",
      "BANNED (prompt_idx=1, type=slop_phrase, phrase='silas')                  \n",
      "BANNED (prompt_idx=24, type=slop_phrase, phrase='stared')                \n",
      "BANNED (prompt_idx=19, type=ngram, ngram='eyes wide')                    \n",
      "BANNED (prompt_idx=31, type=slop_phrase, phrase='brow')                  \n",
      "BANNED (prompt_idx=9, type=slop_phrase, phrase='pulse')                  \n",
      "BANNED (prompt_idx=25, type=slop_phrase, phrase='muttered')              \n",
      "BANNED (prompt_idx=34, type=slop_phrase, phrase='vibrant')               \n",
      "BANNED (prompt_idx=36, type=slop_phrase, phrase='scent')                 \n",
      "BANNED (prompt_idx=17, type=slop_phrase, phrase='ethan')                 \n",
      "Batch Generating:   0%|          | 0/40 [00:28<?, ?prompt/s, 308.0 tok/s]"
     ]
    },
    {
     "name": "stderr",
     "output_type": "stream",
     "text": [
      "2025-05-18 17:15:57,317 [ERROR] [core.sampler        ]: Back-track: no valid next-token candidates survived even after relaxation.\n"
     ]
    },
    {
     "name": "stdout",
     "output_type": "stream",
     "text": [
      "BANNED (prompt_idx=0, type=slop_phrase, phrase='stark')                  \n",
      "BANNED (prompt_idx=7, type=slop_phrase, phrase='frantic')                \n",
      "Batch Generating:   0%|          | 0/40 [00:28<?, ?prompt/s, 300.5 tok/s]"
     ]
    },
    {
     "name": "stderr",
     "output_type": "stream",
     "text": [
      "2025-05-18 17:15:57,580 [ERROR] [core.sampler        ]: Back-track: no valid next-token candidates survived even after relaxation.\n"
     ]
    },
    {
     "name": "stdout",
     "output_type": "stream",
     "text": [
      "BANNED (prompt_idx=23, type=slop_phrase, phrase='thorne')                \n",
      "BANNED (prompt_idx=33, type=slop_phrase, phrase='muttered')              \n",
      "BANNED (prompt_idx=35, type=slop_phrase, phrase='overwhelming')          \n",
      "BANNED (prompt_idx=2, type=slop_phrase, phrase='testament')              \n",
      "BANNED (prompt_idx=3, type=slop_phrase, phrase='unwavering')             \n",
      "BANNED (prompt_idx=5, type=slop_phrase, phrase='flicker')                \n",
      "BANNED (prompt_idx=13, type=slop_phrase, phrase='void')                  \n",
      "BANNED (prompt_idx=22, type=slop_phrase, phrase='stared')                \n",
      "BANNED (prompt_idx=6, type=slop_phrase, phrase='ethan')                  \n",
      "BANNED (prompt_idx=4, type=slop_phrase, phrase='profound')               \n",
      "BANNED (prompt_idx=10, type=ngram, ngram='felt like')                    \n",
      "BANNED (prompt_idx=19, type=slop_phrase, phrase='eyes wide with fear')   \n",
      "Batch Generating:   0%|          | 0/40 [00:29<?, ?prompt/s, 285.3 tok/s]"
     ]
    },
    {
     "name": "stderr",
     "output_type": "stream",
     "text": [
      "2025-05-18 17:15:58,518 [ERROR] [core.sampler        ]: Back-track: no valid next-token candidates survived even after relaxation.\n"
     ]
    },
    {
     "name": "stdout",
     "output_type": "stream",
     "text": [
      "BANNED (prompt_idx=25, type=slop_phrase, phrase='whisper')               \n",
      "BANNED (prompt_idx=9, type=slop_phrase, phrase='rhythm')                 \n",
      "BANNED (prompt_idx=37, type=slop_phrase, phrase='amusement')             \n",
      "BANNED (prompt_idx=1, type=slop_phrase, phrase='leaned')                 \n",
      "BANNED (prompt_idx=31, type=slop_phrase, phrase='silas')                 \n",
      "Batch Generating:   0%|          | 0/40 [00:29<?, ?prompt/s, 291.0 tok/s]"
     ]
    },
    {
     "name": "stderr",
     "output_type": "stream",
     "text": [
      "2025-05-18 17:15:58,925 [ERROR] [core.sampler        ]: Back-track: no valid next-token candidates survived even after relaxation.\n"
     ]
    },
    {
     "name": "stdout",
     "output_type": "stream",
     "text": [
      "BANNED (prompt_idx=17, type=slop_phrase, phrase='subtle')                \n",
      "BANNED (prompt_idx=15, type=slop_phrase, phrase='clutching')             \n",
      "BANNED (prompt_idx=7, type=slop_phrase, phrase='delicate')               \n",
      "BANNED (prompt_idx=23, type=slop_phrase, phrase='thorne')                \n",
      "BANNED (prompt_idx=3, type=slop_phrase, phrase='rhythm')                 \n",
      "BANNED (prompt_idx=33, type=slop_phrase, phrase='whisper')               \n",
      "Batch Generating:   0%|          | 0/40 [00:29<?, ?prompt/s, 310.7 tok/s]"
     ]
    },
    {
     "name": "stderr",
     "output_type": "stream",
     "text": [
      "2025-05-18 17:15:59,212 [ERROR] [core.sampler        ]: Back-track: no valid next-token candidates survived even after relaxation.\n"
     ]
    },
    {
     "name": "stdout",
     "output_type": "stream",
     "text": [
      "BANNED (prompt_idx=35, type=slop_phrase, phrase='surge')                 \n",
      "BANNED (prompt_idx=5, type=slop_phrase, phrase='spark')                  \n",
      "BANNED (prompt_idx=22, type=slop_phrase, phrase='blinked')               \n",
      "Batch Generating:   0%|          | 0/40 [00:30<?, ?prompt/s, 307.4 tok/s]"
     ]
    },
    {
     "name": "stderr",
     "output_type": "stream",
     "text": [
      "2025-05-18 17:15:59,566 [ERROR] [core.sampler        ]: Back-track: no valid next-token candidates survived even after relaxation.\n"
     ]
    },
    {
     "name": "stdout",
     "output_type": "stream",
     "text": [
      "BANNED (prompt_idx=26, type=slop_phrase, phrase='scent')                 \n",
      "BANNED (prompt_idx=2, type=ngram, ngram='carefully constructed')         \n",
      "BANNED (prompt_idx=13, type=slop_phrase, phrase='utterly')               \n",
      "BANNED (prompt_idx=6, type=slop_phrase, phrase='froze')                  \n",
      "BANNED (prompt_idx=19, type=slop_phrase, phrase='profound')              \n",
      "BANNED (prompt_idx=38, type=slop_phrase, phrase='desperation')           \n",
      "BANNED (prompt_idx=10, type=slop_phrase, phrase='said, her voice soft')  \n",
      "BANNED (prompt_idx=25, type=slop_phrase, phrase='muttered')              \n",
      "BANNED (prompt_idx=4, type=slop_phrase, phrase='unsettling')             \n",
      "BANNED (prompt_idx=9, type=ngram, ngram='years ago')                     \n",
      "BANNED (prompt_idx=0, type=slop_phrase, phrase='glow')                   \n",
      "BANNED (prompt_idx=18, type=slop_phrase, phrase='swirling')              \n",
      "BANNED (prompt_idx=37, type=slop_phrase, phrase='curiosity')             \n",
      "BANNED (prompt_idx=31, type=slop_phrase, phrase='faded')                 \n",
      "BANNED (prompt_idx=17, type=slop_phrase, phrase='scent')                 \n",
      "BANNED (prompt_idx=23, type=slop_phrase, phrase='thorne')                \n",
      "BANNED (prompt_idx=7, type=slop_phrase, phrase='frantic')                \n",
      "BANNED (prompt_idx=3, type=slop_phrase, phrase='warmth')                 \n",
      "Batch Generating:   0%|          | 0/40 [00:31<?, ?prompt/s, 274.3 tok/s]"
     ]
    },
    {
     "name": "stderr",
     "output_type": "stream",
     "text": [
      "2025-05-18 17:16:00,585 [ERROR] [core.sampler        ]: Back-track: no valid next-token candidates survived even after relaxation.\n",
      "2025-05-18 17:16:00,597 [ERROR] [core.sampler        ]: Back-track: no valid next-token candidates survived even after relaxation.\n"
     ]
    },
    {
     "name": "stdout",
     "output_type": "stream",
     "text": [
      "BANNED (prompt_idx=5, type=slop_phrase, phrase='flicker')                \n",
      "BANNED (prompt_idx=33, type=slop_phrase, phrase='muttered')              \n",
      "Batch Generating:   0%|          | 0/40 [00:31<?, ?prompt/s, 276.4 tok/s]"
     ]
    },
    {
     "name": "stderr",
     "output_type": "stream",
     "text": [
      "2025-05-18 17:16:00,997 [ERROR] [core.sampler        ]: Back-track: no valid next-token candidates survived even after relaxation.\n"
     ]
    },
    {
     "name": "stdout",
     "output_type": "stream",
     "text": [
      "BANNED (prompt_idx=22, type=slop_phrase, phrase='blinked')               \n",
      "BANNED (prompt_idx=20, type=slop_phrase, phrase='scent')                 \n",
      "BANNED (prompt_idx=2, type=slop_phrase, phrase='intricate')              \n",
      "BANNED (prompt_idx=13, type=slop_phrase, phrase='void')                  \n",
      "BANNED (prompt_idx=25, type=ngram, ngram='felt like')                    \n",
      "BANNED (prompt_idx=6, type=slop_phrase, phrase='stared')                 \n",
      "BANNED (prompt_idx=38, type=slop_phrase, phrase='fabric')                \n",
      "BANNED (prompt_idx=30, type=slop_phrase, phrase='spark')                 \n",
      "BANNED (prompt_idx=0, type=slop_phrase, phrase='ethereal')               \n",
      "BANNED (prompt_idx=10, type=slop_phrase, phrase='murmured')              \n",
      "BANNED (prompt_idx=14, type=slop_phrase, phrase='faded')                 \n",
      "BANNED (prompt_idx=4, type=slop_phrase, phrase='subtle')                 \n",
      "BANNED (prompt_idx=12, type=slop_phrase, phrase='holographic')           \n",
      "BANNED (prompt_idx=31, type=slop_phrase, phrase='silas')                 \n",
      "Batch Generating:   0%|          | 0/40 [00:32<?, ?prompt/s, 285.4 tok/s]"
     ]
    },
    {
     "name": "stderr",
     "output_type": "stream",
     "text": [
      "2025-05-18 17:16:01,901 [ERROR] [core.sampler        ]: Back-track: no valid next-token candidates survived even after relaxation.\n",
      "2025-05-18 17:16:01,921 [ERROR] [core.sampler        ]: Back-track: no valid next-token candidates survived even after relaxation.\n",
      "2025-05-18 17:16:01,931 [ERROR] [core.sampler        ]: Back-track: no valid next-token candidates survived even after relaxation.\n"
     ]
    },
    {
     "name": "stdout",
     "output_type": "stream",
     "text": [
      "BANNED (prompt_idx=23, type=slop_phrase, phrase='thorne')                \n",
      "BANNED (prompt_idx=32, type=slop_phrase, phrase='holographic')           \n",
      "BANNED (prompt_idx=7, type=slop_phrase, phrase='frantic')                \n",
      "BANNED (prompt_idx=3, type=slop_phrase, phrase='vibrant')                \n",
      "BANNED (prompt_idx=37, type=slop_phrase, phrase='lyra')                  \n",
      "BANNED (prompt_idx=17, type=slop_phrase, phrase='scent')                 \n",
      "BANNED (prompt_idx=18, type=slop_phrase, phrase='swirling')              \n",
      "BANNED (prompt_idx=33, type=slop_phrase, phrase='murmured')              \n",
      "BANNED (prompt_idx=8, type=slop_phrase, phrase='hollow')                 \n",
      "Batch Generating:   0%|          | 0/40 [00:33<?, ?prompt/s, 298.8 tok/s]"
     ]
    },
    {
     "name": "stderr",
     "output_type": "stream",
     "text": [
      "2025-05-18 17:16:02,293 [ERROR] [core.sampler        ]: Back-track: no valid next-token candidates survived even after relaxation.\n",
      "2025-05-18 17:16:02,353 [ERROR] [core.sampler        ]: Back-track: no valid next-token candidates survived even after relaxation.\n"
     ]
    },
    {
     "name": "stdout",
     "output_type": "stream",
     "text": [
      "BANNED (prompt_idx=22, type=slop_phrase, phrase='blinked')               \n",
      "BANNED (prompt_idx=16, type=slop_phrase, phrase='shimmering')            \n",
      "BANNED (prompt_idx=36, type=slop_phrase, phrase='etched')                \n",
      "BANNED (prompt_idx=35, type=slop_phrase, phrase='crimson')               \n",
      "BANNED (prompt_idx=6, type=slop_phrase, phrase='froze')                  \n",
      "BANNED (prompt_idx=3, type=slop_phrase, phrase='bustling')               \n",
      "BANNED (prompt_idx=4, type=slop_phrase, phrase='subtle')                 \n",
      "BANNED (prompt_idx=23, type=slop_phrase, phrase='elias')                 \n",
      "BANNED (prompt_idx=30, type=slop_phrase, phrase='spark')                 \n",
      "BANNED (prompt_idx=31, type=slop_phrase, phrase='stark')                 \n",
      "BANNED (prompt_idx=10, type=slop_phrase, phrase='said, her voice soft')  \n",
      "BANNED (prompt_idx=32, type=slop_phrase, phrase='hummed')                \n",
      "BANNED (prompt_idx=37, type=slop_phrase, phrase='holographic')           \n",
      "BANNED (prompt_idx=22, type=ngram, ngram='voice low')                    \n",
      "BANNED (prompt_idx=16, type=slop_phrase, phrase='scent')                 \n",
      "BANNED (prompt_idx=8, type=slop_phrase, phrase='flicker')                \n",
      "BANNED (prompt_idx=33, type=slop_phrase, phrase='murmured')              \n",
      "Batch Generating:   0%|          | 0/40 [00:34<?, ?prompt/s, 303.8 tok/s]"
     ]
    },
    {
     "name": "stderr",
     "output_type": "stream",
     "text": [
      "2025-05-18 17:16:04,028 [ERROR] [core.sampler        ]: Back-track: no valid next-token candidates survived even after relaxation.\n"
     ]
    },
    {
     "name": "stdout",
     "output_type": "stream",
     "text": [
      "BANNED (prompt_idx=19, type=slop_phrase, phrase='asked, my voice barely')\n",
      "BANNED (prompt_idx=18, type=slop_phrase, phrase='scent')                 \n",
      "BANNED (prompt_idx=0, type=slop_phrase, phrase='faint')                  \n",
      "BANNED (prompt_idx=36, type=slop_phrase, phrase='flicker')               \n",
      "BANNED (prompt_idx=27, type=slop_phrase, phrase='profound')              \n",
      "BANNED (prompt_idx=2, type=ngram, ngram='face etched')                   \n",
      "BANNED (prompt_idx=11, type=slop_phrase, phrase='snapped')               \n",
      "BANNED (prompt_idx=13, type=slop_phrase, phrase='frantic')               \n",
      "BANNED (prompt_idx=3, type=slop_phrase, phrase='warmth')                 \n",
      "BANNED (prompt_idx=38, type=regex, regex='\\bnot\\s+(?:just|only|merely)?\\s*(?:[^\\s]+\\s*){1,6}?[,;:—–-]?\\s*but\\s+(?:also\\s+)?', match='not of will, but ')\n",
      "BANNED (prompt_idx=7, type=slop_phrase, phrase='unsettling')             \n",
      "BANNED (prompt_idx=23, type=slop_phrase, phrase='elias')                 \n",
      "BANNED (prompt_idx=4, type=slop_phrase, phrase='subtle')                 \n",
      "BANNED (prompt_idx=31, type=slop_phrase, phrase='shimmering')            \n",
      "BANNED (prompt_idx=10, type=slop_phrase, phrase='whisper')               \n",
      "Batch Generating:   0%|          | 0/40 [00:35<?, ?prompt/s, 313.5 tok/s]"
     ]
    },
    {
     "name": "stderr",
     "output_type": "stream",
     "text": [
      "2025-05-18 17:16:05,277 [ERROR] [core.sampler        ]: Back-track: no valid next-token candidates survived even after relaxation.\n"
     ]
    },
    {
     "name": "stdout",
     "output_type": "stream",
     "text": [
      "BANNED (prompt_idx=17, type=slop_phrase, phrase='subtle')                \n",
      "BANNED (prompt_idx=24, type=slop_phrase, phrase='relentless')            \n",
      "BANNED (prompt_idx=22, type=slop_phrase, phrase='blinked')               \n",
      "Batch Generating:   0%|          | 0/40 [00:36<?, ?prompt/s, 321.1 tok/s]"
     ]
    },
    {
     "name": "stderr",
     "output_type": "stream",
     "text": [
      "2025-05-18 17:16:05,548 [ERROR] [core.sampler        ]: Back-track: no valid next-token candidates survived even after relaxation.\n"
     ]
    },
    {
     "name": "stdout",
     "output_type": "stream",
     "text": [
      "BANNED (prompt_idx=30, type=slop_phrase, phrase='warmth')                \n",
      "BANNED (prompt_idx=16, type=slop_phrase, phrase='shimmering')            \n",
      "BANNED (prompt_idx=28, type=slop_phrase, phrase='crackled')              \n",
      "BANNED (prompt_idx=37, type=slop_phrase, phrase='holographic')           \n",
      "Batch Generating:   0%|          | 0/40 [00:36<?, ?prompt/s, 309.3 tok/s]"
     ]
    },
    {
     "name": "stderr",
     "output_type": "stream",
     "text": [
      "2025-05-18 17:16:05,768 [ERROR] [core.sampler        ]: Back-track: no valid next-token candidates survived even after relaxation.\n"
     ]
    },
    {
     "name": "stdout",
     "output_type": "stream",
     "text": [
      "BANNED (prompt_idx=33, type=slop_phrase, phrase='murmured')              \n",
      "BANNED (prompt_idx=19, type=ngram, ngram='voice low')                    \n",
      "BANNED (prompt_idx=32, type=slop_phrase, phrase='blinked')               \n",
      "BANNED (prompt_idx=3, type=slop_phrase, phrase='bustling')               \n",
      "BANNED (prompt_idx=2, type=slop_phrase, phrase='unsettling')             \n",
      "BANNED (prompt_idx=36, type=slop_phrase, phrase='static')                \n",
      "BANNED (prompt_idx=6, type=ngram, ngram='eyes widened')                  \n",
      "BANNED (prompt_idx=34, type=slop_phrase, phrase='scent')                 \n",
      "BANNED (prompt_idx=23, type=slop_phrase, phrase='elias')                 \n",
      "BANNED (prompt_idx=11, type=slop_phrase, phrase='shifted')               \n",
      "BANNED (prompt_idx=38, type=ngram, ngram='carefully constructed')        \n",
      "BANNED (prompt_idx=18, type=slop_phrase, phrase='swirling')              \n",
      "BANNED (prompt_idx=4, type=ngram, ngram='almost imperceptible')          \n",
      "BANNED (prompt_idx=31, type=slop_phrase, phrase='scent')                 \n",
      "BANNED (prompt_idx=10, type=slop_phrase, phrase='whisper')               \n",
      "Batch Generating:   0%|          | 0/40 [00:37<?, ?prompt/s, 297.7 tok/s]"
     ]
    },
    {
     "name": "stderr",
     "output_type": "stream",
     "text": [
      "2025-05-18 17:16:06,885 [ERROR] [core.sampler        ]: Back-track: no valid next-token candidates survived even after relaxation.\n"
     ]
    },
    {
     "name": "stdout",
     "output_type": "stream",
     "text": [
      "BANNED (prompt_idx=17, type=slop_phrase, phrase='subtle')                \n",
      "BANNED (prompt_idx=39, type=slop_phrase, phrase='relentless')            \n",
      "BANNED (prompt_idx=22, type=slop_phrase, phrase='laced')                 \n",
      "BANNED (prompt_idx=21, type=slop_phrase, phrase='clutching')             \n",
      "BANNED (prompt_idx=3, type=ngram, ngram='left behind')                   \n",
      "BANNED (prompt_idx=33, type=slop_phrase, phrase='door swung open')       \n",
      "BANNED (prompt_idx=37, type=ngram, ngram='voice echoed')                 \n",
      "BANNED (prompt_idx=32, type=slop_phrase, phrase='blinked')               \n",
      "BANNED (prompt_idx=8, type=ngram, ngram='long time')                     \n",
      "BANNED (prompt_idx=28, type=slop_phrase, phrase='void')                  \n",
      "BANNED (prompt_idx=2, type=slop_phrase, phrase='profound')               \n",
      "BANNED (prompt_idx=29, type=slop_phrase, phrase='frantic')               \n",
      "BANNED (prompt_idx=36, type=slop_phrase, phrase='etched')                \n",
      "BANNED (prompt_idx=6, type=ngram, ngram='eyes wide')                     \n",
      "BANNED (prompt_idx=35, type=slop_phrase, phrase='utterly')               \n",
      "BANNED (prompt_idx=14, type=slop_phrase, phrase='realization')           \n",
      "BANNED (prompt_idx=26, type=slop_phrase, phrase='unsettling')            \n",
      "BANNED (prompt_idx=7, type=slop_phrase, phrase='swallowed')              \n",
      "BANNED (prompt_idx=25, type=slop_phrase, phrase='rhythm')                \n",
      "BANNED (prompt_idx=11, type=slop_phrase, phrase='snapped')               \n",
      "BANNED (prompt_idx=34, type=slop_phrase, phrase='blinked')               \n",
      "BANNED (prompt_idx=4, type=slop_phrase, phrase='subtle')                 \n",
      "BANNED (prompt_idx=20, type=slop_phrase, phrase='stumbled')              \n",
      "BANNED (prompt_idx=17, type=slop_phrase, phrase='ethan')                 \n",
      "BANNED (prompt_idx=22, type=slop_phrase, phrase='stared')                \n",
      "BANNED (prompt_idx=31, type=slop_phrase, phrase='utterly')               \n",
      "BANNED (prompt_idx=10, type=slop_phrase, phrase='whisper')               \n",
      "BANNED (prompt_idx=12, type=slop_phrase, phrase='chaotic')               \n",
      "BANNED (prompt_idx=18, type=slop_phrase, phrase='shimmering')            \n",
      "BANNED (prompt_idx=16, type=slop_phrase, phrase='clutching')             \n",
      "Batch Generating:   0%|          | 0/40 [00:39<?, ?prompt/s, 269.0 tok/s]"
     ]
    },
    {
     "name": "stderr",
     "output_type": "stream",
     "text": [
      "2025-05-18 17:16:08,843 [ERROR] [core.sampler        ]: Back-track: no valid next-token candidates survived even after relaxation.\n"
     ]
    },
    {
     "name": "stdout",
     "output_type": "stream",
     "text": [
      "BANNED (prompt_idx=0, type=slop_phrase, phrase='meticulously')           \n",
      "BANNED (prompt_idx=33, type=slop_phrase, phrase='murmured')              \n",
      "BANNED (prompt_idx=39, type=slop_phrase, phrase='unwavering')            \n",
      "Batch Generating:   0%|          | 0/40 [00:39<?, ?prompt/s, 265.0 tok/s]"
     ]
    },
    {
     "name": "stderr",
     "output_type": "stream",
     "text": [
      "2025-05-18 17:16:09,158 [ERROR] [core.sampler        ]: Back-track: no valid next-token candidates survived even after relaxation.\n"
     ]
    },
    {
     "name": "stdout",
     "output_type": "stream",
     "text": [
      "BANNED (prompt_idx=32, type=slop_phrase, phrase='flicker')               \n",
      "BANNED (prompt_idx=37, type=slop_phrase, phrase='polished')              \n",
      "BANNED (prompt_idx=2, type=slop_phrase, phrase='unsettling')             \n",
      "BANNED (prompt_idx=8, type=slop_phrase, phrase='brow')                   \n",
      "BANNED (prompt_idx=23, type=slop_phrase, phrase='subtle')                \n",
      "BANNED (prompt_idx=6, type=slop_phrase, phrase='froze')                  \n",
      "BANNED (prompt_idx=5, type=slop_phrase, phrase='laced')                  \n",
      "BANNED (prompt_idx=13, type=slop_phrase, phrase='echo')                  \n",
      "BANNED (prompt_idx=25, type=slop_phrase, phrase='rhythm')                \n",
      "BANNED (prompt_idx=38, type=slop_phrase, phrase='pulse')                 \n",
      "BANNED (prompt_idx=17, type=slop_phrase, phrase='clutching')             \n",
      "BANNED (prompt_idx=20, type=slop_phrase, phrase='sunlight')              \n",
      "BANNED (prompt_idx=11, type=ngram, ngram='carefully constructed')        \n",
      "BANNED (prompt_idx=16, type=slop_phrase, phrase='tasting like ash')      \n",
      "BANNED (prompt_idx=34, type=slop_phrase, phrase='stared')                \n",
      "BANNED (prompt_idx=1, type=ngram, ngram='voice laced')                   \n",
      "BANNED (prompt_idx=31, type=slop_phrase, phrase='profound')              \n",
      "BANNED (prompt_idx=0, type=slop_phrase, phrase='frantic')                \n",
      "BANNED (prompt_idx=33, type=slop_phrase, phrase='murmured')              \n",
      "Batch Generating:   0%|          | 0/40 [00:41<?, ?prompt/s, 250.4 tok/s]"
     ]
    },
    {
     "name": "stderr",
     "output_type": "stream",
     "text": [
      "2025-05-18 17:16:10,923 [ERROR] [core.sampler        ]: Back-track: no valid next-token candidates survived even after relaxation.\n"
     ]
    },
    {
     "name": "stdout",
     "output_type": "stream",
     "text": [
      "BANNED (prompt_idx=12, type=slop_phrase, phrase='chaotic')               \n",
      "BANNED (prompt_idx=18, type=slop_phrase, phrase='scent')                 \n",
      "BANNED (prompt_idx=2, type=slop_phrase, phrase='etched')                 \n",
      "BANNED (prompt_idx=32, type=slop_phrase, phrase='hummed')                \n",
      "BANNED (prompt_idx=10, type=ngram, ngram='voice soft')                   \n",
      "BANNED (prompt_idx=23, type=slop_phrase, phrase='subtle')                \n",
      "BANNED (prompt_idx=6, type=slop_phrase, phrase='froze')                  \n",
      "BANNED (prompt_idx=5, type=ngram, ngram='leaving behind')                \n",
      "BANNED (prompt_idx=35, type=slop_phrase, phrase='relentless')            \n",
      "BANNED (prompt_idx=36, type=slop_phrase, phrase='whisper')               \n",
      "BANNED (prompt_idx=3, type=slop_phrase, phrase='whisper')                \n",
      "BANNED (prompt_idx=7, type=slop_phrase, phrase='relentless')             \n",
      "BANNED (prompt_idx=29, type=ngram, ngram='asked voice')                  \n",
      "BANNED (prompt_idx=20, type=slop_phrase, phrase='stared')                \n",
      "BANNED (prompt_idx=19, type=slop_phrase, phrase='unsettling')            \n",
      "BANNED (prompt_idx=0, type=slop_phrase, phrase='meticulously')           \n",
      "BANNED (prompt_idx=33, type=slop_phrase, phrase='warmth')                \n",
      "BANNED (prompt_idx=31, type=slop_phrase, phrase='utterly')               \n",
      "BANNED (prompt_idx=23, type=slop_phrase, phrase='thorne')                \n",
      "BANNED (prompt_idx=10, type=slop_phrase, phrase='whisper')               \n",
      "Batch Generating:   0%|          | 0/40 [00:43<?, ?prompt/s, 264.4 tok/s]"
     ]
    },
    {
     "name": "stderr",
     "output_type": "stream",
     "text": [
      "2025-05-18 17:16:12,805 [ERROR] [core.sampler        ]: Back-track: no valid next-token candidates survived even after relaxation.\n",
      "2025-05-18 17:16:12,837 [ERROR] [core.sampler        ]: Back-track: no valid next-token candidates survived even after relaxation.\n"
     ]
    },
    {
     "name": "stdout",
     "output_type": "stream",
     "text": [
      "BANNED (prompt_idx=1, type=slop_phrase, phrase='unwavering')             \n",
      "BANNED (prompt_idx=32, type=slop_phrase, phrase='blinked')               \n",
      "BANNED (prompt_idx=14, type=slop_phrase, phrase='relentless')            \n",
      "BANNED (prompt_idx=6, type=slop_phrase, phrase='froze')                  \n",
      "Batch Generating:   0%|          | 0/40 [00:43<?, ?prompt/s, 273.8 tok/s]"
     ]
    },
    {
     "name": "stderr",
     "output_type": "stream",
     "text": [
      "2025-05-18 17:16:13,212 [ERROR] [core.sampler        ]: Back-track: no valid next-token candidates survived even after relaxation.\n"
     ]
    },
    {
     "name": "stdout",
     "output_type": "stream",
     "text": [
      "BANNED (prompt_idx=5, type=slop_phrase, phrase='laced')                  \n",
      "BANNED (prompt_idx=37, type=ngram, ngram='voice echoed')                 \n",
      "BANNED (prompt_idx=3, type=slop_phrase, phrase='thorne')                 \n",
      "BANNED (prompt_idx=35, type=slop_phrase, phrase='overwhelming')          \n",
      "BANNED (prompt_idx=18, type=slop_phrase, phrase='shimmering')            \n",
      "BANNED (prompt_idx=7, type=slop_phrase, phrase='overwhelming')           \n",
      "BANNED (prompt_idx=36, type=slop_phrase, phrase='faint')                 \n",
      "BANNED (prompt_idx=13, type=slop_phrase, phrase='relentless')            \n",
      "BANNED (prompt_idx=17, type=slop_phrase, phrase='ethan')                 \n",
      "BANNED (prompt_idx=0, type=slop_phrase, phrase='meticulously')           \n",
      "BANNED (prompt_idx=19, type=slop_phrase, phrase='shattered')             \n",
      "BANNED (prompt_idx=29, type=ngram, ngram='said voice')                   \n",
      "BANNED (prompt_idx=11, type=slop_phrase, phrase='pulse')                 \n",
      "BANNED (prompt_idx=30, type=slop_phrase, phrase='profound')              \n",
      "BANNED (prompt_idx=33, type=slop_phrase, phrase='murmured')              \n",
      "Batch Generating:   0%|          | 0/40 [00:45<?, ?prompt/s, 265.2 tok/s]"
     ]
    },
    {
     "name": "stderr",
     "output_type": "stream",
     "text": [
      "2025-05-18 17:16:14,607 [ERROR] [core.sampler        ]: Back-track: no valid next-token candidates survived even after relaxation.\n",
      "2025-05-18 17:16:14,723 [ERROR] [core.sampler        ]: Back-track: no valid next-token candidates survived even after relaxation.\n"
     ]
    },
    {
     "name": "stdout",
     "output_type": "stream",
     "text": [
      "BANNED (prompt_idx=10, type=slop_phrase, phrase='whisper')               \n",
      "BANNED (prompt_idx=31, type=slop_phrase, phrase='utterly')               \n",
      "BANNED (prompt_idx=34, type=slop_phrase, phrase='vibrant')               \n",
      "BANNED (prompt_idx=3, type=slop_phrase, phrase='thorne')                 \n",
      "Batch Generating:   0%|          | 0/40 [00:45<?, ?prompt/s, 259.1 tok/s]"
     ]
    },
    {
     "name": "stderr",
     "output_type": "stream",
     "text": [
      "2025-05-18 17:16:14,821 [ERROR] [core.sampler        ]: Back-track: no valid next-token candidates survived even after relaxation.\n",
      "2025-05-18 17:16:15,003 [ERROR] [core.sampler        ]: Back-track: no valid next-token candidates survived even after relaxation.\n"
     ]
    },
    {
     "name": "stdout",
     "output_type": "stream",
     "text": [
      "BANNED (prompt_idx=6, type=slop_phrase, phrase='trembling')              \n",
      "BANNED (prompt_idx=32, type=slop_phrase, phrase='obsidian')              \n",
      "BANNED (prompt_idx=5, type=slop_phrase, phrase='laced')                  \n",
      "BANNED (prompt_idx=25, type=slop_phrase, phrase='fading')                \n",
      "BANNED (prompt_idx=1, type=slop_phrase, phrase='unwavering')             \n",
      "BANNED (prompt_idx=37, type=ngram, ngram='voice echoed')                 \n",
      "BANNED (prompt_idx=7, type=slop_phrase, phrase='utterly')                \n",
      "BANNED (prompt_idx=18, type=slop_phrase, phrase='shimmering')            \n",
      "BANNED (prompt_idx=36, type=slop_phrase, phrase='shimmering')            \n",
      "BANNED (prompt_idx=24, type=slop_phrase, phrase='whisper')               \n",
      "BANNED (prompt_idx=22, type=slop_phrase, phrase='gaze')                  \n",
      "BANNED (prompt_idx=39, type=slop_phrase, phrase='holographic')           \n",
      "BANNED (prompt_idx=0, type=slop_phrase, phrase='paused')                 \n",
      "BANNED (prompt_idx=23, type=slop_phrase, phrase='unsettling')            \n",
      "BANNED (prompt_idx=33, type=slop_phrase, phrase='grin')                  \n",
      "BANNED (prompt_idx=2, type=slop_phrase, phrase='pale')                   \n",
      "BANNED (prompt_idx=3, type=slop_phrase, phrase='curse')                  \n",
      "BANNED (prompt_idx=10, type=slop_phrase, phrase='elias')                 \n",
      "BANNED (prompt_idx=29, type=ngram, ngram='asked voice')                  \n",
      "Batch Generating:   0%|          | 0/40 [00:47<?, ?prompt/s, 282.3 tok/s]"
     ]
    },
    {
     "name": "stderr",
     "output_type": "stream",
     "text": [
      "2025-05-18 17:16:16,530 [ERROR] [core.sampler        ]: Back-track: no valid next-token candidates survived even after relaxation.\n",
      "2025-05-18 17:16:16,705 [ERROR] [core.sampler        ]: Back-track: no valid next-token candidates survived even after relaxation.\n"
     ]
    },
    {
     "name": "stdout",
     "output_type": "stream",
     "text": [
      "BANNED (prompt_idx=5, type=slop_phrase, phrase='laced')                  \n",
      "BANNED (prompt_idx=6, type=slop_phrase, phrase='trembled')               \n",
      "BANNED (prompt_idx=4, type=slop_phrase, phrase='faint')                  \n",
      "Batch Generating:   0%|          | 0/40 [00:47<?, ?prompt/s, 282.8 tok/s]"
     ]
    },
    {
     "name": "stderr",
     "output_type": "stream",
     "text": [
      "2025-05-18 17:16:16,775 [ERROR] [core.sampler        ]: Back-track: no valid next-token candidates survived even after relaxation.\n",
      "2025-05-18 17:16:16,917 [ERROR] [core.sampler        ]: Back-track: no valid next-token candidates survived even after relaxation.\n"
     ]
    },
    {
     "name": "stdout",
     "output_type": "stream",
     "text": [
      "BANNED (prompt_idx=31, type=slop_phrase, phrase='utterly')               \n",
      "BANNED (prompt_idx=34, type=slop_phrase, phrase='terrifying')            \n",
      "BANNED (prompt_idx=30, type=slop_phrase, phrase='profound')              \n",
      "BANNED (prompt_idx=8, type=slop_phrase, phrase='unsettling')             \n",
      "BANNED (prompt_idx=37, type=slop_phrase, phrase='echo')                  \n",
      "BANNED (prompt_idx=24, type=slop_phrase, phrase='unsettling')            \n",
      "BANNED (prompt_idx=36, type=slop_phrase, phrase='flicker')               \n",
      "BANNED (prompt_idx=18, type=slop_phrase, phrase='shimmering')            \n",
      "BANNED (prompt_idx=9, type=slop_phrase, phrase='subtle')                 \n",
      "BANNED (prompt_idx=22, type=ngram, ngram='eyes scanning')                \n",
      "BANNED (prompt_idx=13, type=slop_phrase, phrase='scent')                 \n",
      "BANNED (prompt_idx=3, type=slop_phrase, phrase='thorne')                 \n",
      "BANNED (prompt_idx=27, type=slop_phrase, phrase='whisper')               \n",
      "BANNED (prompt_idx=16, type=slop_phrase, phrase='glanced')               \n",
      "BANNED (prompt_idx=20, type=slop_phrase, phrase='shiver')                \n",
      "Batch Generating:   0%|          | 0/40 [00:49<?, ?prompt/s, 292.2 tok/s]"
     ]
    },
    {
     "name": "stderr",
     "output_type": "stream",
     "text": [
      "2025-05-18 17:16:18,488 [ERROR] [core.sampler        ]: Back-track: no valid next-token candidates survived even after relaxation.\n"
     ]
    },
    {
     "name": "stdout",
     "output_type": "stream",
     "text": [
      "BANNED (prompt_idx=6, type=slop_phrase, phrase='trembled')               \n",
      "BANNED (prompt_idx=4, type=slop_phrase, phrase='etched')                 \n",
      "BANNED (prompt_idx=15, type=slop_phrase, phrase='blinked')               \n",
      "BANNED (prompt_idx=34, type=slop_phrase, phrase='unsettling')            \n",
      "BANNED (prompt_idx=8, type=slop_phrase, phrase='void')                   \n",
      "BANNED (prompt_idx=7, type=slop_phrase, phrase='clung')                  \n",
      "BANNED (prompt_idx=24, type=slop_phrase, phrase='etched')                \n",
      "BANNED (prompt_idx=3, type=slop_phrase, phrase='curse')                  \n",
      "BANNED (prompt_idx=22, type=slop_phrase, phrase='gaze')                  \n",
      "Batch Generating:   0%|          | 0/40 [00:50<?, ?prompt/s, 275.1 tok/s]"
     ]
    },
    {
     "name": "stderr",
     "output_type": "stream",
     "text": [
      "2025-05-18 17:16:19,668 [ERROR] [core.sampler        ]: Back-track: no valid next-token candidates survived even after relaxation.\n"
     ]
    },
    {
     "name": "stdout",
     "output_type": "stream",
     "text": [
      "BANNED (prompt_idx=36, type=slop_phrase, phrase='shifting')              \n",
      "BANNED (prompt_idx=13, type=slop_phrase, phrase='whisper')               \n",
      "BANNED (prompt_idx=18, type=slop_phrase, phrase='shimmered')             \n",
      "BANNED (prompt_idx=12, type=slop_phrase, phrase='holographic')           \n",
      "BANNED (prompt_idx=2, type=slop_phrase, phrase='crimson')                \n",
      "BANNED (prompt_idx=33, type=slop_phrase, phrase='stammered')             \n",
      "BANNED (prompt_idx=25, type=slop_phrase, phrase='hollow')                \n",
      "BANNED (prompt_idx=6, type=slop_phrase, phrase='trembled')               \n",
      "Batch Generating:   0%|          | 0/40 [00:50<?, ?prompt/s, 279.0 tok/s]"
     ]
    },
    {
     "name": "stderr",
     "output_type": "stream",
     "text": [
      "2025-05-18 17:16:20,293 [ERROR] [core.sampler        ]: Back-track: no valid next-token candidates survived even after relaxation.\n"
     ]
    },
    {
     "name": "stdout",
     "output_type": "stream",
     "text": [
      "BANNED (prompt_idx=38, type=slop_phrase, phrase='overwhelming')          \n",
      "BANNED (prompt_idx=28, type=slop_phrase, phrase='stretched')             \n",
      "BANNED (prompt_idx=4, type=slop_phrase, phrase='silas')                  \n",
      "BANNED (prompt_idx=32, type=slop_phrase, phrase='shimmered')             \n",
      "BANNED (prompt_idx=14, type=slop_phrase, phrase='meticulously')          \n",
      "BANNED (prompt_idx=27, type=slop_phrase, phrase='chilling')              \n",
      "BANNED (prompt_idx=3, type=slop_phrase, phrase='whisper')                \n",
      "BANNED (prompt_idx=7, type=slop_phrase, phrase='clung')                  \n",
      "BANNED (prompt_idx=34, type=slop_phrase, phrase='terrifying')            \n",
      "BANNED (prompt_idx=35, type=slop_phrase, phrase='relentless')            \n",
      "BANNED (prompt_idx=15, type=slop_phrase, phrase='shifted')               \n",
      "Batch Generating:   0%|          | 0/40 [00:51<?, ?prompt/s, 288.9 tok/s]"
     ]
    },
    {
     "name": "stderr",
     "output_type": "stream",
     "text": [
      "2025-05-18 17:16:21,407 [ERROR] [core.sampler        ]: Back-track: no valid next-token candidates survived even after relaxation.\n"
     ]
    },
    {
     "name": "stdout",
     "output_type": "stream",
     "text": [
      "BANNED (prompt_idx=22, type=slop_phrase, phrase='gaze')                  \n",
      "BANNED (prompt_idx=1, type=slop_phrase, phrase='leaned')                 \n",
      "BANNED (prompt_idx=36, type=slop_phrase, phrase='swirling')              \n",
      "BANNED (prompt_idx=13, type=ngram, ngram='long time')                    \n",
      "BANNED (prompt_idx=2, type=ngram, ngram='ever seen')                     \n",
      "BANNED (prompt_idx=23, type=slop_phrase, phrase='elias')                 \n",
      "BANNED (prompt_idx=6, type=regex, regex='\\bnot\\s+(?:just|only|merely)?\\s*(?:[^\\s]+\\s*){1,6}?[,;:—–-]?\\s*but\\s+(?:also\\s+)?', match='not with curiosity or amusement, but ')\n",
      "BANNED (prompt_idx=33, type=slop_phrase, phrase='chaotic')               \n",
      "BANNED (prompt_idx=18, type=slop_phrase, phrase='shimmering')            \n",
      "BANNED (prompt_idx=12, type=slop_phrase, phrase='holographic')           \n",
      "BANNED (prompt_idx=4, type=slop_phrase, phrase='elias')                  \n",
      "BANNED (prompt_idx=20, type=slop_phrase, phrase='gently')                \n",
      "BANNED (prompt_idx=3, type=slop_phrase, phrase='whisper')                \n",
      "BANNED (prompt_idx=32, type=slop_phrase, phrase='pulse')                 \n",
      "BANNED (prompt_idx=11, type=slop_phrase, phrase='surge')                 \n",
      "BANNED (prompt_idx=7, type=slop_phrase, phrase='clung')                  \n",
      "BANNED (prompt_idx=22, type=slop_phrase, phrase='gaze')                  \n",
      "BANNED (prompt_idx=8, type=slop_phrase, phrase='fading')                 \n",
      "Batch Generating:   0%|          | 0/40 [00:54<?, ?prompt/s, 246.6 tok/s]"
     ]
    },
    {
     "name": "stderr",
     "output_type": "stream",
     "text": [
      "2025-05-18 17:16:23,210 [ERROR] [core.sampler        ]: Back-track: no valid next-token candidates survived even after relaxation.\n"
     ]
    },
    {
     "name": "stdout",
     "output_type": "stream",
     "text": [
      "BANNED (prompt_idx=35, type=slop_phrase, phrase='chaotic')               \n",
      "BANNED (prompt_idx=34, type=slop_phrase, phrase='murmured')              \n",
      "BANNED (prompt_idx=15, type=slop_phrase, phrase='blinked')               \n",
      "BANNED (prompt_idx=36, type=slop_phrase, phrase='shifting')              \n",
      "BANNED (prompt_idx=25, type=slop_phrase, phrase='towering')              \n",
      "BANNED (prompt_idx=13, type=ngram, ngram='first time')                   \n",
      "BANNED (prompt_idx=27, type=slop_phrase, phrase='palpable')              \n",
      "BANNED (prompt_idx=23, type=slop_phrase, phrase='elias')                 \n",
      "BANNED (prompt_idx=6, type=slop_phrase, phrase='trembled')               \n",
      "Batch Generating:   0%|          | 0/40 [00:55<?, ?prompt/s, 259.9 tok/s]"
     ]
    },
    {
     "name": "stderr",
     "output_type": "stream",
     "text": [
      "2025-05-18 17:16:24,252 [ERROR] [core.sampler        ]: Back-track: no valid next-token candidates survived even after relaxation.\n"
     ]
    },
    {
     "name": "stdout",
     "output_type": "stream",
     "text": [
      "BANNED (prompt_idx=3, type=slop_phrase, phrase='unsettling')             \n",
      "BANNED (prompt_idx=5, type=slop_phrase, phrase='vibrant')                \n",
      "Batch Generating:   0%|          | 0/40 [00:55<?, ?prompt/s, 251.4 tok/s]"
     ]
    },
    {
     "name": "stderr",
     "output_type": "stream",
     "text": [
      "2025-05-18 17:16:24,703 [ERROR] [core.sampler        ]: Back-track: no valid next-token candidates survived even after relaxation.\n"
     ]
    },
    {
     "name": "stdout",
     "output_type": "stream",
     "text": [
      "BANNED (prompt_idx=4, type=slop_phrase, phrase='silas')                  \n",
      "BANNED (prompt_idx=17, type=regex, regex='\\bnot\\s+(?:just|only|merely)?\\s*(?:[^\\s]+\\s*){1,6}?[,;:—–-]?\\s*but\\s+(?:also\\s+)?', match='not aggression, but ')\n",
      "BANNED (prompt_idx=38, type=regex, regex='\\bnot\\s+(?:just|only|merely)?\\s*(?:[^\\s]+\\s*){1,6}?[,;:—–-]?\\s*but\\s+(?:also\\s+)?', match='Not in size, but ')\n",
      "BANNED (prompt_idx=18, type=slop_phrase, phrase='shimmering')            \n",
      "BANNED (prompt_idx=32, type=slop_phrase, phrase='shimmered')             \n",
      "BANNED (prompt_idx=22, type=ngram, ngram='gaze sweeping across')         \n",
      "Batch Generating:   0%|          | 0/40 [00:55<?, ?prompt/s, 251.2 tok/s]"
     ]
    },
    {
     "name": "stderr",
     "output_type": "stream",
     "text": [
      "2025-05-18 17:16:25,032 [ERROR] [core.sampler        ]: Back-track: no valid next-token candidates survived even after relaxation.\n"
     ]
    },
    {
     "name": "stdout",
     "output_type": "stream",
     "text": [
      "BANNED (prompt_idx=12, type=slop_phrase, phrase='holographic')           \n",
      "BANNED (prompt_idx=31, type=slop_phrase, phrase='silas')                 \n",
      "BANNED (prompt_idx=35, type=slop_phrase, phrase='chaotic')               \n",
      "BANNED (prompt_idx=25, type=slop_phrase, phrase='stark')                 \n",
      "BANNED (prompt_idx=3, type=slop_phrase, phrase='whisper')                \n",
      "BANNED (prompt_idx=36, type=slop_phrase, phrase='utterly')               \n",
      "BANNED (prompt_idx=23, type=slop_phrase, phrase='elias')                 \n",
      "BANNED (prompt_idx=19, type=slop_phrase, phrase='hesitated')             \n",
      "BANNED (prompt_idx=6, type=slop_phrase, phrase='trembled')               \n",
      "BANNED (prompt_idx=13, type=slop_phrase, phrase='relentless')            \n",
      "Batch Generating:   0%|          | 0/40 [00:57<?, ?prompt/s, 242.7 tok/s]"
     ]
    },
    {
     "name": "stderr",
     "output_type": "stream",
     "text": [
      "2025-05-18 17:16:26,219 [ERROR] [core.sampler        ]: Back-track: no valid next-token candidates survived even after relaxation.\n"
     ]
    },
    {
     "name": "stdout",
     "output_type": "stream",
     "text": [
      "BANNED (prompt_idx=14, type=regex, regex='\\bnot\\s+(?:just|only|merely)?\\s*(?:[^\\s]+\\s*){1,6}?[,;:—–-]?\\s*but\\s+(?:also\\s+)?', match='not for the chance of winning, but ')\n",
      "BANNED (prompt_idx=33, type=slop_phrase, phrase='door swung open')       \n",
      "BANNED (prompt_idx=10, type=ngram, ngram='face etched')                  \n",
      "BANNED (prompt_idx=4, type=slop_phrase, phrase='silas')                  \n",
      "Batch Generating:   0%|          | 0/40 [00:57<?, ?prompt/s, 247.2 tok/s]"
     ]
    },
    {
     "name": "stderr",
     "output_type": "stream",
     "text": [
      "2025-05-18 17:16:26,836 [ERROR] [core.sampler        ]: Back-track: no valid next-token candidates survived even after relaxation.\n"
     ]
    },
    {
     "name": "stdout",
     "output_type": "stream",
     "text": [
      "BANNED (prompt_idx=17, type=slop_phrase, phrase='chaotic')               \n",
      "BANNED (prompt_idx=32, type=regex, regex='\\bnot\\s+(?:just|only|merely)?\\s*(?:[^\\s]+\\s*){1,6}?[,;:—–-]?\\s*but\\s+(?:also\\s+)?', match='Not a blinding, painful white, but ')\n",
      "BANNED (prompt_idx=22, type=slop_phrase, phrase='whisper')               \n",
      "BANNED (prompt_idx=7, type=slop_phrase, phrase='whisper')                \n",
      "BANNED (prompt_idx=27, type=slop_phrase, phrase='chilling')              \n",
      "BANNED (prompt_idx=0, type=slop_phrase, phrase='muttered')               \n",
      "BANNED (prompt_idx=35, type=slop_phrase, phrase='twisted')               \n",
      "BANNED (prompt_idx=3, type=slop_phrase, phrase='curse')                  \n",
      "BANNED (prompt_idx=31, type=slop_phrase, phrase='silas')                 \n",
      "BANNED (prompt_idx=39, type=ngram, ngram='replied voice')                \n",
      "BANNED (prompt_idx=30, type=slop_phrase, phrase='utterly')               \n",
      "BANNED (prompt_idx=37, type=regex, regex='\\bnot\\s+(?:just|only|merely)?\\s*(?:[^\\s]+\\s*){1,6}?[,;:—–-]?\\s*but\\s+(?:also\\s+)?', match='not to offer aid, but ')\n",
      "BANNED (prompt_idx=25, type=slop_phrase, phrase='holographic')           \n",
      "BANNED (prompt_idx=6, type=slop_phrase, phrase='stared')                 \n",
      "BANNED (prompt_idx=23, type=slop_phrase, phrase='silas')                 \n",
      "BANNED (prompt_idx=36, type=slop_phrase, phrase='unsettling')            \n",
      "BANNED (prompt_idx=19, type=slop_phrase, phrase='swallowed')             \n",
      "BANNED (prompt_idx=13, type=slop_phrase, phrase='rhythm')                \n",
      "BANNED (prompt_idx=29, type=slop_phrase, phrase='hesitated')             \n",
      "BANNED (prompt_idx=4, type=slop_phrase, phrase='silas')                  \n",
      "Batch Generating:   0%|          | 0/40 [00:59<?, ?prompt/s, 237.7 tok/s]"
     ]
    },
    {
     "name": "stderr",
     "output_type": "stream",
     "text": [
      "2025-05-18 17:16:28,991 [ERROR] [core.sampler        ]: Back-track: no valid next-token candidates survived even after relaxation.\n"
     ]
    },
    {
     "name": "stdout",
     "output_type": "stream",
     "text": [
      "BANNED (prompt_idx=32, type=slop_phrase, phrase='fading')                \n",
      "BANNED (prompt_idx=20, type=slop_phrase, phrase='testament')             \n",
      "BANNED (prompt_idx=17, type=slop_phrase, phrase='ethan')                 \n",
      "BANNED (prompt_idx=7, type=slop_phrase, phrase='whisper')                \n",
      "BANNED (prompt_idx=3, type=slop_phrase, phrase='vanished')               \n",
      "BANNED (prompt_idx=35, type=slop_phrase, phrase='shouted')               \n",
      "BANNED (prompt_idx=26, type=slop_phrase, phrase='overwhelming')          \n",
      "BANNED (prompt_idx=6, type=slop_phrase, phrase='trembled')               \n",
      "Batch Generating:   0%|          | 0/40 [01:00<?, ?prompt/s, 231.2 tok/s]"
     ]
    },
    {
     "name": "stderr",
     "output_type": "stream",
     "text": [
      "2025-05-18 17:16:29,993 [ERROR] [core.sampler        ]: Back-track: no valid next-token candidates survived even after relaxation.\n"
     ]
    },
    {
     "name": "stdout",
     "output_type": "stream",
     "text": [
      "BANNED (prompt_idx=25, type=slop_phrase, phrase='unsettling')            \n",
      "BANNED (prompt_idx=2, type=slop_phrase, phrase='silas')                  \n",
      "BANNED (prompt_idx=31, type=slop_phrase, phrase='silas')                 \n",
      "BANNED (prompt_idx=23, type=slop_phrase, phrase='thorne')                \n",
      "BANNED (prompt_idx=12, type=slop_phrase, phrase='subtle')                \n",
      "BANNED (prompt_idx=37, type=regex, regex='\\bnot\\s+(?:just|only|merely)?\\s*(?:[^\\s]+\\s*){1,6}?[,;:—–-]?\\s*but\\s+(?:also\\s+)?', match='Not with brute force, but ')\n",
      "BANNED (prompt_idx=39, type=ngram, ngram='voice low')                    \n",
      "BANNED (prompt_idx=19, type=slop_phrase, phrase='hesitated')             \n",
      "BANNED (prompt_idx=13, type=slop_phrase, phrase='warmth')                \n",
      "BANNED (prompt_idx=36, type=slop_phrase, phrase='chilling')              \n",
      "BANNED (prompt_idx=33, type=slop_phrase, phrase='piercing')              \n",
      "BANNED (prompt_idx=10, type=slop_phrase, phrase='whisper')               \n",
      "BANNED (prompt_idx=30, type=slop_phrase, phrase='revealing')             \n",
      "BANNED (prompt_idx=5, type=slop_phrase, phrase='meticulously')           \n",
      "BANNED (prompt_idx=29, type=slop_phrase, phrase='glanced')               \n",
      "BANNED (prompt_idx=24, type=ngram, ngram='asked voice')                  \n",
      "BANNED (prompt_idx=4, type=slop_phrase, phrase='whisper')                \n",
      "BANNED (prompt_idx=3, type=slop_phrase, phrase='swallowed')              \n",
      "BANNED (prompt_idx=20, type=ngram, ngram='constant reminder')            \n",
      "BANNED (prompt_idx=17, type=slop_phrase, phrase='ethan')                 \n",
      "BANNED (prompt_idx=6, type=slop_phrase, phrase='trembled')               \n",
      "BANNED (prompt_idx=11, type=slop_phrase, phrase='narrowed')              \n",
      "BANNED (prompt_idx=35, type=ngram, ngram='barely audible')               \n",
      "Batch Generating:   0%|          | 0/40 [01:02<?, ?prompt/s, 205.8 tok/s]"
     ]
    },
    {
     "name": "stderr",
     "output_type": "stream",
     "text": [
      "2025-05-18 17:16:31,795 [ERROR] [core.sampler        ]: Back-track: no valid next-token candidates survived even after relaxation.\n"
     ]
    },
    {
     "name": "stdout",
     "output_type": "stream",
     "text": [
      "BANNED (prompt_idx=2, type=slop_phrase, phrase='elias')                  \n",
      "BANNED (prompt_idx=23, type=slop_phrase, phrase='silas')                 \n",
      "BANNED (prompt_idx=31, type=slop_phrase, phrase='silas')                 \n",
      "BANNED (prompt_idx=19, type=slop_phrase, phrase='took a deep breath')    \n",
      "Batch Generating:   0%|          | 0/40 [01:03<?, ?prompt/s, 215.9 tok/s]"
     ]
    },
    {
     "name": "stderr",
     "output_type": "stream",
     "text": [
      "2025-05-18 17:16:32,621 [ERROR] [core.sampler        ]: Back-track: no valid next-token candidates survived even after relaxation.\n"
     ]
    },
    {
     "name": "stdout",
     "output_type": "stream",
     "text": [
      "BANNED (prompt_idx=36, type=slop_phrase, phrase='etched')                \n",
      "BANNED (prompt_idx=3, type=slop_phrase, phrase='unseen')                 \n",
      "BANNED (prompt_idx=39, type=slop_phrase, phrase='utterly')               \n",
      "Batch Generating:   0%|          | 0/40 [01:03<?, ?prompt/s, 226.4 tok/s]"
     ]
    },
    {
     "name": "stderr",
     "output_type": "stream",
     "text": [
      "2025-05-18 17:16:33,211 [ERROR] [core.sampler        ]: Back-track: no valid next-token candidates survived even after relaxation.\n"
     ]
    },
    {
     "name": "stdout",
     "output_type": "stream",
     "text": [
      "BANNED (prompt_idx=4, type=slop_phrase, phrase='silas')                  \n",
      "BANNED (prompt_idx=22, type=slop_phrase, phrase='shifted')               \n",
      "BANNED (prompt_idx=24, type=ngram, ngram='said voice tight')             \n",
      "BANNED (prompt_idx=27, type=slop_phrase, phrase='meticulously')          \n",
      "BANNED (prompt_idx=5, type=slop_phrase, phrase='fabric')                 \n",
      "BANNED (prompt_idx=32, type=slop_phrase, phrase='overwhelming')          \n",
      "BANNED (prompt_idx=9, type=slop_phrase, phrase='subtle')                 \n",
      "BANNED (prompt_idx=34, type=slop_phrase, phrase='flicker')               \n",
      "BANNED (prompt_idx=30, type=ngram, ngram='one day')                      \n",
      "BANNED (prompt_idx=20, type=slop_phrase, phrase='testament')             \n",
      "Batch Generating:   0%|          | 0/40 [01:04<?, ?prompt/s, 253.8 tok/s]"
     ]
    },
    {
     "name": "stderr",
     "output_type": "stream",
     "text": [
      "2025-05-18 17:16:33,580 [ERROR] [core.sampler        ]: Back-track: no valid next-token candidates survived even after relaxation.\n"
     ]
    },
    {
     "name": "stdout",
     "output_type": "stream",
     "text": [
      "BANNED (prompt_idx=6, type=ngram, ngram='looked like')                   \n",
      "BANNED (prompt_idx=29, type=slop_phrase, phrase='took a deep breath')    \n",
      "BANNED (prompt_idx=17, type=slop_phrase, phrase='ethan')                 \n",
      "Batch Generating:   0%|          | 0/40 [01:04<?, ?prompt/s, 235.4 tok/s]"
     ]
    },
    {
     "name": "stderr",
     "output_type": "stream",
     "text": [
      "2025-05-18 17:16:34,034 [ERROR] [core.sampler        ]: Back-track: no valid next-token candidates survived even after relaxation.\n"
     ]
    },
    {
     "name": "stdout",
     "output_type": "stream",
     "text": [
      "BANNED (prompt_idx=2, type=slop_phrase, phrase='silas')                  \n",
      "BANNED (prompt_idx=38, type=ngram, ngram='asked voice')                  \n",
      "BANNED (prompt_idx=11, type=ngram, ngram='carefully constructed')        \n",
      "BANNED (prompt_idx=23, type=slop_phrase, phrase='thorne')                \n",
      "BANNED (prompt_idx=26, type=slop_phrase, phrase='pale')                  \n",
      "BANNED (prompt_idx=3, type=slop_phrase, phrase='unseen')                 \n",
      "BANNED (prompt_idx=18, type=slop_phrase, phrase='shimmering')            \n",
      "BANNED (prompt_idx=33, type=slop_phrase, phrase='voice a low rumble')    \n",
      "BANNED (prompt_idx=31, type=slop_phrase, phrase='silas')                 \n",
      "Batch Generating:   0%|          | 0/40 [01:05<?, ?prompt/s, 205.0 tok/s]"
     ]
    },
    {
     "name": "stderr",
     "output_type": "stream",
     "text": [
      "2025-05-18 17:16:34,988 [ERROR] [core.sampler        ]: Back-track: no valid next-token candidates survived even after relaxation.\n"
     ]
    },
    {
     "name": "stdout",
     "output_type": "stream",
     "text": [
      "BANNED (prompt_idx=19, type=slop_phrase, phrase='took a deep breath')    \n",
      "BANNED (prompt_idx=10, type=ngram, ngram='face etched')                  \n",
      "BANNED (prompt_idx=36, type=slop_phrase, phrase='shimmering')            \n",
      "BANNED (prompt_idx=13, type=slop_phrase, phrase='amusement')             \n",
      "BANNED (prompt_idx=4, type=slop_phrase, phrase='silas')                  \n",
      "BANNED (prompt_idx=6, type=slop_phrase, phrase='trembled')               \n",
      "BANNED (prompt_idx=24, type=ngram, ngram='asked voice')                  \n",
      "Batch Generating:   0%|          | 0/40 [01:06<?, ?prompt/s, 208.9 tok/s]"
     ]
    },
    {
     "name": "stderr",
     "output_type": "stream",
     "text": [
      "2025-05-18 17:16:35,449 [ERROR] [core.sampler        ]: Back-track: no valid next-token candidates survived even after relaxation.\n"
     ]
    },
    {
     "name": "stdout",
     "output_type": "stream",
     "text": [
      "BANNED (prompt_idx=32, type=slop_phrase, phrase='overwhelming')          \n",
      "BANNED (prompt_idx=0, type=slop_phrase, phrase='demon')                  \n",
      "BANNED (prompt_idx=20, type=slop_phrase, phrase='testament')             \n",
      "BANNED (prompt_idx=2, type=slop_phrase, phrase='silas')                  \n",
      "Batch Generating:   0%|          | 0/40 [01:06<?, ?prompt/s, 213.0 tok/s]"
     ]
    },
    {
     "name": "stderr",
     "output_type": "stream",
     "text": [
      "2025-05-18 17:16:35,968 [ERROR] [core.sampler        ]: Back-track: no valid next-token candidates survived even after relaxation.\n",
      "2025-05-18 17:16:36,035 [ERROR] [core.sampler        ]: Back-track: no valid next-token candidates survived even after relaxation.\n"
     ]
    },
    {
     "name": "stdout",
     "output_type": "stream",
     "text": [
      "BANNED (prompt_idx=17, type=slop_phrase, phrase='ethan')                 \n",
      "BANNED (prompt_idx=7, type=slop_phrase, phrase='realization')            \n",
      "BANNED (prompt_idx=35, type=slop_phrase, phrase='subtle')                \n",
      "BANNED (prompt_idx=34, type=ngram, ngram='something akin')               \n",
      "BANNED (prompt_idx=38, type=slop_phrase, phrase='echo')                  \n",
      "BANNED (prompt_idx=11, type=slop_phrase, phrase='meticulously')          \n",
      "BANNED (prompt_idx=26, type=slop_phrase, phrase='eyes wide with a mixture')\n",
      "BANNED (prompt_idx=10, type=slop_phrase, phrase='etched')                \n",
      "BANNED (prompt_idx=31, type=slop_phrase, phrase='silas')                 \n",
      "BANNED (prompt_idx=36, type=slop_phrase, phrase='flicker')               \n",
      "BANNED (prompt_idx=18, type=slop_phrase, phrase='shimmered')             \n",
      "BANNED (prompt_idx=6, type=slop_phrase, phrase='trembled')               \n",
      "Batch Generating:   0%|          | 0/40 [01:07<?, ?prompt/s, 205.7 tok/s]"
     ]
    },
    {
     "name": "stderr",
     "output_type": "stream",
     "text": [
      "2025-05-18 17:16:37,316 [ERROR] [core.sampler        ]: Back-track: no valid next-token candidates survived even after relaxation.\n",
      "2025-05-18 17:16:37,462 [ERROR] [core.sampler        ]: Back-track: no valid next-token candidates survived even after relaxation.\n",
      "2025-05-18 17:16:37,487 [ERROR] [core.sampler        ]: Back-track: no valid next-token candidates survived even after relaxation.\n"
     ]
    },
    {
     "name": "stdout",
     "output_type": "stream",
     "text": [
      "BANNED (prompt_idx=15, type=slop_phrase, phrase='said, his voice a low') \n",
      "BANNED (prompt_idx=4, type=slop_phrase, phrase='silas')                  \n",
      "BANNED (prompt_idx=19, type=slop_phrase, phrase='took a deep breath')    \n",
      "BANNED (prompt_idx=13, type=slop_phrase, phrase='amusement')             \n",
      "BANNED (prompt_idx=22, type=slop_phrase, phrase='sunlight')              \n",
      "BANNED (prompt_idx=24, type=slop_phrase, phrase='shouted')               \n",
      "BANNED (prompt_idx=32, type=slop_phrase, phrase='rhythm')                \n",
      "Batch Generating:   0%|          | 0/40 [01:08<?, ?prompt/s, 205.8 tok/s]"
     ]
    },
    {
     "name": "stderr",
     "output_type": "stream",
     "text": [
      "2025-05-18 17:16:37,677 [ERROR] [core.sampler        ]: Back-track: no valid next-token candidates survived even after relaxation.\n"
     ]
    },
    {
     "name": "stdout",
     "output_type": "stream",
     "text": [
      "BANNED (prompt_idx=8, type=slop_phrase, phrase='hesitated')              \n",
      "BANNED (prompt_idx=0, type=slop_phrase, phrase='demon')                  \n",
      "BANNED (prompt_idx=2, type=slop_phrase, phrase='silas')                  \n",
      "BANNED (prompt_idx=37, type=slop_phrase, phrase='faded')                 \n",
      "BANNED (prompt_idx=20, type=slop_phrase, phrase='testament')             \n",
      "Batch Generating:   0%|          | 0/40 [01:08<?, ?prompt/s, 216.8 tok/s]"
     ]
    },
    {
     "name": "stderr",
     "output_type": "stream",
     "text": [
      "2025-05-18 17:16:38,121 [ERROR] [core.sampler        ]: Back-track: no valid next-token candidates survived even after relaxation.\n",
      "2025-05-18 17:16:38,308 [ERROR] [core.sampler        ]: Back-track: no valid next-token candidates survived even after relaxation.\n"
     ]
    },
    {
     "name": "stdout",
     "output_type": "stream",
     "text": [
      "BANNED (prompt_idx=7, type=slop_phrase, phrase='echo')                   \n",
      "BANNED (prompt_idx=17, type=slop_phrase, phrase='ethan')                 \n",
      "BANNED (prompt_idx=35, type=slop_phrase, phrase='gleaming')              \n",
      "BANNED (prompt_idx=11, type=ngram, ngram='carefully constructed')        \n",
      "BANNED (prompt_idx=10, type=slop_phrase, phrase='delicate')              \n",
      "BANNED (prompt_idx=26, type=ngram, ngram='face etched')                  \n",
      "BANNED (prompt_idx=6, type=slop_phrase, phrase='utterly')                \n",
      "BANNED (prompt_idx=34, type=slop_phrase, phrase='meticulously')          \n",
      "BANNED (prompt_idx=36, type=slop_phrase, phrase='pulse')                 \n",
      "BANNED (prompt_idx=4, type=slop_phrase, phrase='silas')                  \n",
      "Batch Generating:   0%|          | 0/40 [01:10<?, ?prompt/s, 217.0 tok/s]"
     ]
    },
    {
     "name": "stderr",
     "output_type": "stream",
     "text": [
      "2025-05-18 17:16:39,586 [ERROR] [core.sampler        ]: Back-track: no valid next-token candidates survived even after relaxation.\n"
     ]
    },
    {
     "name": "stdout",
     "output_type": "stream",
     "text": [
      "BANNED (prompt_idx=31, type=slop_phrase, phrase='utterly')               \n",
      "BANNED (prompt_idx=27, type=slop_phrase, phrase='despair')               \n",
      "BANNED (prompt_idx=32, type=slop_phrase, phrase='rhythm')                \n",
      "BANNED (prompt_idx=24, type=slop_phrase, phrase='shouted')               \n",
      "BANNED (prompt_idx=19, type=ngram, ngram='deep breath')                  \n",
      "BANNED (prompt_idx=22, type=slop_phrase, phrase='glanced')               \n",
      "BANNED (prompt_idx=13, type=slop_phrase, phrase='amusement')             \n",
      "Batch Generating:   0%|          | 0/40 [01:10<?, ?prompt/s, 213.4 tok/s]"
     ]
    },
    {
     "name": "stderr",
     "output_type": "stream",
     "text": [
      "2025-05-18 17:16:39,854 [ERROR] [core.sampler        ]: Back-track: no valid next-token candidates survived even after relaxation.\n"
     ]
    },
    {
     "name": "stdout",
     "output_type": "stream",
     "text": [
      "BANNED (prompt_idx=3, type=slop_phrase, phrase='fabric')                 \n",
      "BANNED (prompt_idx=2, type=slop_phrase, phrase='silas')                  \n",
      "Batch Generating:   0%|          | 0/40 [01:11<?, ?prompt/s, 220.7 tok/s]"
     ]
    },
    {
     "name": "stderr",
     "output_type": "stream",
     "text": [
      "2025-05-18 17:16:40,364 [ERROR] [core.sampler        ]: Back-track: no valid next-token candidates survived even after relaxation.\n"
     ]
    },
    {
     "name": "stdout",
     "output_type": "stream",
     "text": [
      "BANNED (prompt_idx=0, type=slop_phrase, phrase='something else entirely')\n",
      "BANNED (prompt_idx=8, type=slop_phrase, phrase='took a step closer')     \n",
      "BANNED (prompt_idx=1, type=ngram, ngram='voice laced')                   \n",
      "BANNED (prompt_idx=7, type=slop_phrase, phrase='echo')                   \n",
      "BANNED (prompt_idx=20, type=slop_phrase, phrase='gaze')                  \n",
      "BANNED (prompt_idx=23, type=slop_phrase, phrase='clung')                 \n",
      "BANNED (prompt_idx=17, type=slop_phrase, phrase='ethan')                 \n",
      "BANNED (prompt_idx=35, type=slop_phrase, phrase='gleaming')              \n",
      "Batch Generating:   0%|          | 0/40 [01:11<?, ?prompt/s, 192.8 tok/s]"
     ]
    },
    {
     "name": "stderr",
     "output_type": "stream",
     "text": [
      "2025-05-18 17:16:41,285 [ERROR] [core.sampler        ]: Back-track: no valid next-token candidates survived even after relaxation.\n"
     ]
    },
    {
     "name": "stdout",
     "output_type": "stream",
     "text": [
      "BANNED (prompt_idx=6, type=slop_phrase, phrase='trembled')               \n",
      "BANNED (prompt_idx=10, type=slop_phrase, phrase='etched')                \n",
      "BANNED (prompt_idx=33, type=slop_phrase, phrase='stammered')             \n",
      "BANNED (prompt_idx=38, type=slop_phrase, phrase='void')                  \n",
      "BANNED (prompt_idx=11, type=ngram, ngram='carefully constructed')        \n",
      "BANNED (prompt_idx=28, type=ngram, ngram='voice laced')                  \n",
      "BANNED (prompt_idx=26, type=slop_phrase, phrase='eyes wide with a mixture')\n",
      "Batch Generating:   0%|          | 0/40 [01:12<?, ?prompt/s, 181.7 tok/s]"
     ]
    },
    {
     "name": "stderr",
     "output_type": "stream",
     "text": [
      "2025-05-18 17:16:41,762 [ERROR] [core.sampler        ]: Back-track: no valid next-token candidates survived even after relaxation.\n"
     ]
    },
    {
     "name": "stdout",
     "output_type": "stream",
     "text": [
      "BANNED (prompt_idx=4, type=slop_phrase, phrase='silas')                  \n",
      "BANNED (prompt_idx=36, type=slop_phrase, phrase='chilling')              \n",
      "BANNED (prompt_idx=29, type=slop_phrase, phrase='laced')                 \n",
      "BANNED (prompt_idx=3, type=slop_phrase, phrase='unease')                 \n",
      "BANNED (prompt_idx=24, type=slop_phrase, phrase='shouted')               \n",
      "BANNED (prompt_idx=32, type=slop_phrase, phrase='rhythm')                \n",
      "BANNED (prompt_idx=22, type=slop_phrase, phrase='unsettling')            \n",
      "Batch Generating:   0%|          | 0/40 [01:12<?, ?prompt/s, 209.2 tok/s]"
     ]
    },
    {
     "name": "stderr",
     "output_type": "stream",
     "text": [
      "2025-05-18 17:16:42,074 [ERROR] [core.sampler        ]: Back-track: no valid next-token candidates survived even after relaxation.\n"
     ]
    },
    {
     "name": "stdout",
     "output_type": "stream",
     "text": [
      "BANNED (prompt_idx=31, type=slop_phrase, phrase='silas')                 \n",
      "BANNED (prompt_idx=2, type=ngram, ngram='voice barely')                  \n",
      "BANNED (prompt_idx=30, type=slop_phrase, phrase='unsettling')            \n",
      "BANNED (prompt_idx=7, type=slop_phrase, phrase='chilling')               \n",
      "BANNED (prompt_idx=23, type=slop_phrase, phrase='clung')                 \n",
      "BANNED (prompt_idx=27, type=slop_phrase, phrase='meticulously')          \n",
      "BANNED (prompt_idx=20, type=slop_phrase, phrase='grin')                  \n",
      "BANNED (prompt_idx=6, type=slop_phrase, phrase='profound')               \n",
      "BANNED (prompt_idx=15, type=regex, regex='\\bnot\\s+(?:just|only|merely)?\\s*(?:[^\\s]+\\s*){1,6}?[,;:—–-]?\\s*but\\s+(?:also\\s+)?', match='not to determine the *type* of weapon, but ')\n",
      "BANNED (prompt_idx=17, type=slop_phrase, phrase='ethan')                 \n",
      "BANNED (prompt_idx=1, type=slop_phrase, phrase='gaze')                   \n",
      "BANNED (prompt_idx=4, type=slop_phrase, phrase='laced')                  \n",
      "BANNED (prompt_idx=3, type=slop_phrase, phrase='unsettling')             \n",
      "BANNED (prompt_idx=38, type=slop_phrase, phrase='dread')                 \n",
      "BANNED (prompt_idx=9, type=slop_phrase, phrase='armor')                  \n",
      "BANNED (prompt_idx=24, type=ngram, ngram='replied voice')                \n",
      "BANNED (prompt_idx=32, type=slop_phrase, phrase='frantic')               \n",
      "Batch Generating:   0%|          | 0/40 [01:15<?, ?prompt/s, 159.6 tok/s]"
     ]
    },
    {
     "name": "stderr",
     "output_type": "stream",
     "text": [
      "2025-05-18 17:16:44,758 [ERROR] [core.sampler        ]: Back-track: no valid next-token candidates survived even after relaxation.\n"
     ]
    },
    {
     "name": "stdout",
     "output_type": "stream",
     "text": [
      "BANNED (prompt_idx=2, type=slop_phrase, phrase='silas')                  \n",
      "BANNED (prompt_idx=31, type=slop_phrase, phrase='silas')                 \n",
      "BANNED (prompt_idx=29, type=slop_phrase, phrase='froze')                 \n",
      "BANNED (prompt_idx=13, type=slop_phrase, phrase='laced')                 \n",
      "BANNED (prompt_idx=6, type=slop_phrase, phrase='trembled')               \n",
      "BANNED (prompt_idx=0, type=slop_phrase, phrase='whisper')                \n",
      "Batch Generating:   0%|          | 0/40 [01:15<?, ?prompt/s, 174.8 tok/s]"
     ]
    },
    {
     "name": "stderr",
     "output_type": "stream",
     "text": [
      "2025-05-18 17:16:45,066 [ERROR] [core.sampler        ]: Back-track: no valid next-token candidates survived even after relaxation.\n"
     ]
    },
    {
     "name": "stdout",
     "output_type": "stream",
     "text": [
      "BANNED (prompt_idx=28, type=slop_phrase, phrase='laced')                 \n",
      "BANNED (prompt_idx=23, type=slop_phrase, phrase='utterly')               \n",
      "BANNED (prompt_idx=7, type=slop_phrase, phrase='terrifying')             \n",
      "Batch Generating:   0%|          | 0/40 [01:16<?, ?prompt/s, 176.2 tok/s]"
     ]
    },
    {
     "name": "stderr",
     "output_type": "stream",
     "text": [
      "2025-05-18 17:16:45,856 [ERROR] [core.sampler        ]: Back-track: no valid next-token candidates survived even after relaxation.\n"
     ]
    },
    {
     "name": "stdout",
     "output_type": "stream",
     "text": [
      "BANNED (prompt_idx=17, type=slop_phrase, phrase='ethan')                 \n",
      "BANNED (prompt_idx=3, type=slop_phrase, phrase='unease')                 \n",
      "BANNED (prompt_idx=8, type=slop_phrase, phrase='rhythm')                 \n",
      "BANNED (prompt_idx=4, type=slop_phrase, phrase='countless')              \n",
      "BANNED (prompt_idx=33, type=ngram, ngram='trying make')                  \n",
      "BANNED (prompt_idx=27, type=slop_phrase, phrase='twisted')               \n",
      "BANNED (prompt_idx=24, type=slop_phrase, phrase='shouted')               \n",
      "BANNED (prompt_idx=19, type=slop_phrase, phrase='terrifying')            \n",
      "Batch Generating:   0%|          | 0/40 [01:17<?, ?prompt/s, 206.3 tok/s]"
     ]
    },
    {
     "name": "stderr",
     "output_type": "stream",
     "text": [
      "2025-05-18 17:16:46,563 [ERROR] [core.sampler        ]: Back-track: no valid next-token candidates survived even after relaxation.\n"
     ]
    },
    {
     "name": "stdout",
     "output_type": "stream",
     "text": [
      "BANNED (prompt_idx=22, type=slop_phrase, phrase='disbelief')             \n",
      "BANNED (prompt_idx=32, type=slop_phrase, phrase='rhythm')                \n",
      "BANNED (prompt_idx=26, type=slop_phrase, phrase='silas')                 \n",
      "BANNED (prompt_idx=2, type=slop_phrase, phrase='silas')                  \n",
      "Batch Generating:   0%|          | 0/40 [01:17<?, ?prompt/s, 202.2 tok/s]"
     ]
    },
    {
     "name": "stderr",
     "output_type": "stream",
     "text": [
      "2025-05-18 17:16:46,848 [ERROR] [core.sampler        ]: Back-track: no valid next-token candidates survived even after relaxation.\n"
     ]
    },
    {
     "name": "stdout",
     "output_type": "stream",
     "text": [
      "BANNED (prompt_idx=6, type=slop_phrase, phrase='laced')                  \n",
      "BANNED (prompt_idx=31, type=slop_phrase, phrase='elias')                 \n",
      "BANNED (prompt_idx=25, type=slop_phrase, phrase='silas')                 \n",
      "BANNED (prompt_idx=5, type=slop_phrase, phrase='echo')                   \n",
      "BANNED (prompt_idx=21, type=ngram, ngram='said voice')                   \n",
      "BANNED (prompt_idx=3, type=slop_phrase, phrase='unease')                 \n",
      "BANNED (prompt_idx=14, type=slop_phrase, phrase='subtle')                \n",
      "Batch Generating:   0%|          | 0/40 [01:18<?, ?prompt/s, 197.5 tok/s]"
     ]
    },
    {
     "name": "stderr",
     "output_type": "stream",
     "text": [
      "2025-05-18 17:16:47,914 [ERROR] [core.sampler        ]: Back-track: no valid next-token candidates survived even after relaxation.\n"
     ]
    },
    {
     "name": "stdout",
     "output_type": "stream",
     "text": [
      "BANNED (prompt_idx=33, type=slop_phrase, phrase='brow')                  \n",
      "BANNED (prompt_idx=10, type=slop_phrase, phrase='fragile')               \n",
      "BANNED (prompt_idx=8, type=slop_phrase, phrase='hesitated')              \n",
      "BANNED (prompt_idx=12, type=slop_phrase, phrase='echo')                  \n",
      "BANNED (prompt_idx=34, type=slop_phrase, phrase='fabric')                \n",
      "Batch Generating:   0%|          | 0/40 [01:19<?, ?prompt/s, 225.9 tok/s]"
     ]
    },
    {
     "name": "stderr",
     "output_type": "stream",
     "text": [
      "2025-05-18 17:16:48,790 [ERROR] [core.sampler        ]: Back-track: no valid next-token candidates survived even after relaxation.\n",
      "2025-05-18 17:16:48,920 [ERROR] [core.sampler        ]: Back-track: no valid next-token candidates survived even after relaxation.\n"
     ]
    },
    {
     "name": "stdout",
     "output_type": "stream",
     "text": [
      "BANNED (prompt_idx=24, type=slop_phrase, phrase='shouted')               \n",
      "BANNED (prompt_idx=6, type=slop_phrase, phrase='trembled')               \n",
      "BANNED (prompt_idx=36, type=slop_phrase, phrase='utterly')               \n",
      "BANNED (prompt_idx=19, type=slop_phrase, phrase='chilling')              \n",
      "Batch Generating:   0%|          | 0/40 [01:19<?, ?prompt/s, 228.1 tok/s]"
     ]
    },
    {
     "name": "stderr",
     "output_type": "stream",
     "text": [
      "2025-05-18 17:16:49,061 [ERROR] [core.sampler        ]: Back-track: no valid next-token candidates survived even after relaxation.\n"
     ]
    },
    {
     "name": "stdout",
     "output_type": "stream",
     "text": [
      "BANNED (prompt_idx=2, type=slop_phrase, phrase='silas')                  \n",
      "BANNED (prompt_idx=37, type=slop_phrase, phrase='relentless')            \n",
      "BANNED (prompt_idx=22, type=slop_phrase, phrase='overwhelming')          \n",
      "BANNED (prompt_idx=11, type=slop_phrase, phrase='terrifying')            \n",
      "BANNED (prompt_idx=15, type=slop_phrase, phrase='gestured')              \n",
      "BANNED (prompt_idx=26, type=slop_phrase, phrase='elias')                 \n",
      "BANNED (prompt_idx=27, type=slop_phrase, phrase='twisted')               \n",
      "BANNED (prompt_idx=31, type=slop_phrase, phrase='silas')                 \n",
      "BANNED (prompt_idx=3, type=slop_phrase, phrase='unease')                 \n",
      "BANNED (prompt_idx=25, type=ngram, ngram='said voice')                   \n",
      "Batch Generating:   0%|          | 0/40 [01:20<?, ?prompt/s, 239.7 tok/s]"
     ]
    },
    {
     "name": "stderr",
     "output_type": "stream",
     "text": [
      "2025-05-18 17:16:49,952 [ERROR] [core.sampler        ]: Back-track: no valid next-token candidates survived even after relaxation.\n"
     ]
    },
    {
     "name": "stdout",
     "output_type": "stream",
     "text": [
      "BANNED (prompt_idx=5, type=slop_phrase, phrase='echo')                   \n",
      "BANNED (prompt_idx=4, type=slop_phrase, phrase='murmured')               \n",
      "BANNED (prompt_idx=29, type=slop_phrase, phrase='whisper')               \n",
      "BANNED (prompt_idx=35, type=slop_phrase, phrase='disbelief')             \n",
      "BANNED (prompt_idx=18, type=slop_phrase, phrase='took a deep breath')    \n",
      "BANNED (prompt_idx=21, type=slop_phrase, phrase='sigh')                  \n",
      "BANNED (prompt_idx=33, type=slop_phrase, phrase='brow')                  \n",
      "BANNED (prompt_idx=6, type=slop_phrase, phrase='utterly')                \n",
      "BANNED (prompt_idx=24, type=ngram, ngram='said voice')                   \n",
      "BANNED (prompt_idx=2, type=slop_phrase, phrase='voice a low rumble')     \n",
      "BANNED (prompt_idx=8, type=slop_phrase, phrase='took a deep breath')     \n",
      "BANNED (prompt_idx=19, type=slop_phrase, phrase='terrifying')            \n",
      "BANNED (prompt_idx=14, type=slop_phrase, phrase='subtle')                \n",
      "BANNED (prompt_idx=36, type=slop_phrase, phrase='elias')                 \n",
      "BANNED (prompt_idx=34, type=slop_phrase, phrase='fabric')                \n",
      "BANNED (prompt_idx=26, type=slop_phrase, phrase='silas')                 \n",
      "BANNED (prompt_idx=37, type=slop_phrase, phrase='chilling')              \n",
      "BANNED (prompt_idx=3, type=slop_phrase, phrase='whisper')                \n",
      "BANNED (prompt_idx=23, type=ngram, ngram='almost imperceptible')         \n",
      "BANNED (prompt_idx=30, type=slop_phrase, phrase='realization')           \n",
      "BANNED (prompt_idx=15, type=slop_phrase, phrase='paused')                \n",
      "BANNED (prompt_idx=4, type=slop_phrase, phrase='muttered')               \n",
      "BANNED (prompt_idx=5, type=slop_phrase, phrase='amusement')              \n",
      "BANNED (prompt_idx=6, type=slop_phrase, phrase='trembled')               \n",
      "BANNED (prompt_idx=10, type=slop_phrase, phrase='fragile')               \n",
      "Batch Generating:   0%|          | 0/40 [01:23<?, ?prompt/s, 189.1 tok/s]"
     ]
    },
    {
     "name": "stderr",
     "output_type": "stream",
     "text": [
      "2025-05-18 17:16:52,893 [ERROR] [core.sampler        ]: Back-track: no valid next-token candidates survived even after relaxation.\n",
      "2025-05-18 17:16:53,254 [ERROR] [core.sampler        ]: Back-track: no valid next-token candidates survived even after relaxation.\n"
     ]
    },
    {
     "name": "stdout",
     "output_type": "stream",
     "text": [
      "BANNED (prompt_idx=24, type=slop_phrase, phrase='shouted')               \n",
      "BANNED (prompt_idx=35, type=slop_phrase, phrase='froze')                 \n",
      "BANNED (prompt_idx=33, type=slop_phrase, phrase='brow')                  \n",
      "BANNED (prompt_idx=2, type=slop_phrase, phrase='unease')                 \n",
      "BANNED (prompt_idx=39, type=slop_phrase, phrase='pulse')                 \n",
      "BANNED (prompt_idx=18, type=slop_phrase, phrase='swallowed')             \n",
      "BANNED (prompt_idx=17, type=slop_phrase, phrase='ethan')                 \n",
      "BANNED (prompt_idx=8, type=slop_phrase, phrase='hesitated')              \n",
      "BANNED (prompt_idx=36, type=slop_phrase, phrase='silas')                 \n",
      "BANNED (prompt_idx=16, type=slop_phrase, phrase='disbelief')             \n",
      "BANNED (prompt_idx=3, type=slop_phrase, phrase='unease')                 \n",
      "BANNED (prompt_idx=11, type=slop_phrase, phrase='faint')                 \n",
      "Batch Generating:   0%|          | 0/40 [01:25<?, ?prompt/s, 172.1 tok/s]"
     ]
    },
    {
     "name": "stderr",
     "output_type": "stream",
     "text": [
      "2025-05-18 17:16:54,291 [ERROR] [core.sampler        ]: Back-track: no valid next-token candidates survived even after relaxation.\n"
     ]
    },
    {
     "name": "stdout",
     "output_type": "stream",
     "text": [
      "BANNED (prompt_idx=23, type=slop_phrase, phrase='delicate')              \n",
      "BANNED (prompt_idx=26, type=slop_phrase, phrase='voice barely audible')  \n",
      "BANNED (prompt_idx=6, type=slop_phrase, phrase='whisper')                \n",
      "BANNED (prompt_idx=14, type=regex, regex='\\bnot\\s+(?:just|only|merely)?\\s*(?:[^\\s]+\\s*){1,6}?[,;:—–-]?\\s*but\\s+(?:also\\s+)?', match='not through force or manipulation, but ')\n",
      "BANNED (prompt_idx=0, type=slop_phrase, phrase='surge')                  \n",
      "BANNED (prompt_idx=37, type=slop_phrase, phrase='crimson')               \n",
      "BANNED (prompt_idx=25, type=ngram, ngram='deep breath')                  \n",
      "BANNED (prompt_idx=7, type=slop_phrase, phrase='chilling')               \n",
      "BANNED (prompt_idx=4, type=slop_phrase, phrase='murmured')               \n",
      "BANNED (prompt_idx=31, type=slop_phrase, phrase='silas')                 \n",
      "Batch Generating:   0%|          | 0/40 [01:26<?, ?prompt/s, 167.4 tok/s]"
     ]
    },
    {
     "name": "stderr",
     "output_type": "stream",
     "text": [
      "2025-05-18 17:16:55,216 [ERROR] [core.sampler        ]: Back-track: no valid next-token candidates survived even after relaxation.\n"
     ]
    },
    {
     "name": "stdout",
     "output_type": "stream",
     "text": [
      "BANNED (prompt_idx=10, type=slop_phrase, phrase='shifted')               \n",
      "BANNED (prompt_idx=15, type=slop_phrase, phrase='echo')                  \n",
      "BANNED (prompt_idx=30, type=regex, regex='\\bnot\\s+(?:just|only|merely)?\\s*(?:[^\\s]+\\s*){1,6}?[,;:—–-]?\\s*but\\s+(?:also\\s+)?', match='not dramatically, but ')\n",
      "Batch Generating:   0%|          | 0/40 [01:26<?, ?prompt/s, 180.1 tok/s]"
     ]
    },
    {
     "name": "stderr",
     "output_type": "stream",
     "text": [
      "2025-05-18 17:16:55,720 [ERROR] [core.sampler        ]: Back-track: no valid next-token candidates survived even after relaxation.\n"
     ]
    },
    {
     "name": "stdout",
     "output_type": "stream",
     "text": [
      "BANNED (prompt_idx=24, type=slop_phrase, phrase='shouted')               \n",
      "BANNED (prompt_idx=33, type=slop_phrase, phrase='brow')                  \n",
      "BANNED (prompt_idx=28, type=slop_phrase, phrase='shifted')               \n",
      "BANNED (prompt_idx=19, type=slop_phrase, phrase='unsettling')            \n",
      "BANNED (prompt_idx=32, type=ngram, ngram='face etched')                  \n",
      "BANNED (prompt_idx=3, type=slop_phrase, phrase='echo')                   \n",
      "BANNED (prompt_idx=22, type=slop_phrase, phrase='profound')              \n",
      "BANNED (prompt_idx=18, type=slop_phrase, phrase='took a deep breath')    \n",
      "BANNED (prompt_idx=8, type=slop_phrase, phrase='gaze')                   \n",
      "BANNED (prompt_idx=17, type=slop_phrase, phrase='ethan')                 \n",
      "BANNED (prompt_idx=6, type=slop_phrase, phrase='trembled')               \n",
      "Batch Generating:   0%|          | 0/40 [01:27<?, ?prompt/s, 199.7 tok/s]"
     ]
    },
    {
     "name": "stderr",
     "output_type": "stream",
     "text": [
      "2025-05-18 17:16:56,700 [ERROR] [core.sampler        ]: Back-track: no valid next-token candidates survived even after relaxation.\n"
     ]
    },
    {
     "name": "stdout",
     "output_type": "stream",
     "text": [
      "BANNED (prompt_idx=27, type=slop_phrase, phrase='unsettling')            \n",
      "BANNED (prompt_idx=23, type=slop_phrase, phrase='whisper')               \n",
      "BANNED (prompt_idx=26, type=slop_phrase, phrase='voice barely audible')  \n",
      "BANNED (prompt_idx=25, type=slop_phrase, phrase='sigh')                  \n",
      "BANNED (prompt_idx=38, type=slop_phrase, phrase='whisper')               \n",
      "BANNED (prompt_idx=0, type=slop_phrase, phrase='unease')                 \n",
      "Batch Generating:   0%|          | 0/40 [01:28<?, ?prompt/s, 186.6 tok/s]"
     ]
    },
    {
     "name": "stderr",
     "output_type": "stream",
     "text": [
      "2025-05-18 17:16:57,590 [ERROR] [core.sampler        ]: Back-track: no valid next-token candidates survived even after relaxation.\n"
     ]
    },
    {
     "name": "stdout",
     "output_type": "stream",
     "text": [
      "BANNED (prompt_idx=4, type=slop_phrase, phrase='murmured')               \n",
      "BANNED (prompt_idx=7, type=slop_phrase, phrase='realization')            \n",
      "Batch Generating:   0%|          | 0/40 [01:28<?, ?prompt/s, 187.8 tok/s]"
     ]
    },
    {
     "name": "stderr",
     "output_type": "stream",
     "text": [
      "2025-05-18 17:16:58,095 [ERROR] [core.sampler        ]: Back-track: no valid next-token candidates survived even after relaxation.\n",
      "2025-05-18 17:16:58,142 [ERROR] [core.sampler        ]: Back-track: no valid next-token candidates survived even after relaxation.\n",
      "2025-05-18 17:16:58,259 [ERROR] [core.sampler        ]: Back-track: no valid next-token candidates survived even after relaxation.\n"
     ]
    },
    {
     "name": "stdout",
     "output_type": "stream",
     "text": [
      "BANNED (prompt_idx=24, type=ngram, ngram='replied voice')                \n",
      "BANNED (prompt_idx=33, type=slop_phrase, phrase='brow')                  \n",
      "BANNED (prompt_idx=3, type=slop_phrase, phrase='unease')                 \n",
      "BANNED (prompt_idx=2, type=slop_phrase, phrase='gaze')                   \n",
      "BANNED (prompt_idx=35, type=slop_phrase, phrase='flicker')               \n",
      "BANNED (prompt_idx=19, type=slop_phrase, phrase='terrifying')            \n",
      "BANNED (prompt_idx=32, type=slop_phrase, phrase='overwhelming')          \n",
      "BANNED (prompt_idx=6, type=slop_phrase, phrase='faded')                  \n",
      "BANNED (prompt_idx=22, type=slop_phrase, phrase='profound')              \n",
      "BANNED (prompt_idx=13, type=slop_phrase, phrase='subtle')                \n",
      "BANNED (prompt_idx=36, type=slop_phrase, phrase='stared')                \n",
      "BANNED (prompt_idx=18, type=slop_phrase, phrase='surge')                 \n",
      "BANNED (prompt_idx=8, type=slop_phrase, phrase='gestured')               \n",
      "BANNED (prompt_idx=29, type=slop_phrase, phrase='took a step closer')    \n",
      "BANNED (prompt_idx=17, type=slop_phrase, phrase='ethan')                 \n",
      "BANNED (prompt_idx=23, type=slop_phrase, phrase='delicate')              \n",
      "Batch Generating:   0%|          | 0/40 [01:30<?, ?prompt/s, 193.7 tok/s]"
     ]
    },
    {
     "name": "stderr",
     "output_type": "stream",
     "text": [
      "2025-05-18 17:16:59,637 [ERROR] [core.sampler        ]: Back-track: no valid next-token candidates survived even after relaxation.\n"
     ]
    },
    {
     "name": "stdout",
     "output_type": "stream",
     "text": [
      "BANNED (prompt_idx=11, type=slop_phrase, phrase='snapped')               \n",
      "BANNED (prompt_idx=26, type=ngram, ngram='face etched')                  \n",
      "BANNED (prompt_idx=25, type=ngram, ngram='deep breath')                  \n",
      "BANNED (prompt_idx=4, type=slop_phrase, phrase='murmured')               \n",
      "Batch Generating:   0%|          | 0/40 [01:30<?, ?prompt/s, 193.3 tok/s]"
     ]
    },
    {
     "name": "stderr",
     "output_type": "stream",
     "text": [
      "2025-05-18 17:16:59,901 [ERROR] [core.sampler        ]: Back-track: no valid next-token candidates survived even after relaxation.\n",
      "2025-05-18 17:17:00,053 [ERROR] [core.sampler        ]: Back-track: no valid next-token candidates survived even after relaxation.\n"
     ]
    },
    {
     "name": "stdout",
     "output_type": "stream",
     "text": [
      "BANNED (prompt_idx=0, type=slop_phrase, phrase='growing sense of unease')\n",
      "BANNED (prompt_idx=38, type=slop_phrase, phrase='stammered')             \n",
      "BANNED (prompt_idx=3, type=slop_phrase, phrase='whisper')                \n",
      "BANNED (prompt_idx=27, type=slop_phrase, phrase='terrifying')            \n",
      "BANNED (prompt_idx=10, type=slop_phrase, phrase='relentless')            \n",
      "BANNED (prompt_idx=31, type=slop_phrase, phrase='utterly')               \n",
      "BANNED (prompt_idx=33, type=slop_phrase, phrase='brow')                  \n",
      "Batch Generating:   0%|          | 0/40 [01:31<?, ?prompt/s, 183.2 tok/s]"
     ]
    },
    {
     "name": "stderr",
     "output_type": "stream",
     "text": [
      "2025-05-18 17:17:00,641 [ERROR] [core.sampler        ]: Back-track: no valid next-token candidates survived even after relaxation.\n"
     ]
    },
    {
     "name": "stdout",
     "output_type": "stream",
     "text": [
      "BANNED (prompt_idx=6, type=slop_phrase, phrase='froze')                  \n",
      "BANNED (prompt_idx=35, type=slop_phrase, phrase='disbelief')             \n",
      "BANNED (prompt_idx=19, type=slop_phrase, phrase='glanced')               \n",
      "BANNED (prompt_idx=22, type=slop_phrase, phrase='unsettling')            \n",
      "BANNED (prompt_idx=32, type=slop_phrase, phrase='leaned')                \n",
      "BANNED (prompt_idx=20, type=slop_phrase, phrase='profound')              \n",
      "BANNED (prompt_idx=15, type=slop_phrase, phrase='gaze')                  \n",
      "BANNED (prompt_idx=36, type=slop_phrase, phrase='sigh')                  \n",
      "BANNED (prompt_idx=23, type=slop_phrase, phrase='delicate')              \n",
      "Batch Generating:   0%|          | 0/40 [01:32<?, ?prompt/s, 160.5 tok/s]"
     ]
    },
    {
     "name": "stderr",
     "output_type": "stream",
     "text": [
      "2025-05-18 17:17:02,213 [ERROR] [core.sampler        ]: Back-track: no valid next-token candidates survived even after relaxation.\n",
      "2025-05-18 17:17:02,347 [ERROR] [core.sampler        ]: Back-track: no valid next-token candidates survived even after relaxation.\n"
     ]
    },
    {
     "name": "stdout",
     "output_type": "stream",
     "text": [
      "BANNED (prompt_idx=3, type=slop_phrase, phrase='unease')                 \n",
      "BANNED (prompt_idx=8, type=slop_phrase, phrase='gaze')                   \n",
      "BANNED (prompt_idx=18, type=slop_phrase, phrase='took a deep breath')    \n",
      "BANNED (prompt_idx=17, type=slop_phrase, phrase='flicker')               \n",
      "BANNED (prompt_idx=25, type=slop_phrase, phrase='faint')                 \n",
      "BANNED (prompt_idx=26, type=slop_phrase, phrase='voice barely audible')  \n",
      "Batch Generating:   0%|          | 0/40 [01:33<?, ?prompt/s, 177.1 tok/s]"
     ]
    },
    {
     "name": "stderr",
     "output_type": "stream",
     "text": [
      "2025-05-18 17:17:02,522 [ERROR] [core.sampler        ]: Back-track: no valid next-token candidates survived even after relaxation.\n"
     ]
    },
    {
     "name": "stdout",
     "output_type": "stream",
     "text": [
      "BANNED (prompt_idx=4, type=slop_phrase, phrase='meticulously')           \n",
      "BANNED (prompt_idx=13, type=slop_phrase, phrase='delicate')              \n",
      "BANNED (prompt_idx=1, type=slop_phrase, phrase='meticulously')           \n",
      "BANNED (prompt_idx=11, type=slop_phrase, phrase='twisted')               \n",
      "BANNED (prompt_idx=0, type=slop_phrase, phrase='profound')               \n",
      "BANNED (prompt_idx=6, type=slop_phrase, phrase='unease')                 \n",
      "BANNED (prompt_idx=24, type=slop_phrase, phrase='relentless')            \n",
      "BANNED (prompt_idx=16, type=ngram, ngram='never seen')                   \n",
      "Batch Generating:   0%|          | 0/40 [01:33<?, ?prompt/s, 170.7 tok/s]"
     ]
    },
    {
     "name": "stderr",
     "output_type": "stream",
     "text": [
      "2025-05-18 17:17:03,076 [ERROR] [core.sampler        ]: Back-track: no valid next-token candidates survived even after relaxation.\n"
     ]
    },
    {
     "name": "stdout",
     "output_type": "stream",
     "text": [
      "BANNED (prompt_idx=33, type=slop_phrase, phrase='brow')                  \n",
      "BANNED (prompt_idx=10, type=slop_phrase, phrase='relentless')            \n",
      "BANNED (prompt_idx=7, type=slop_phrase, phrase='whisper')                \n",
      "BANNED (prompt_idx=38, type=slop_phrase, phrase='palpable')              \n",
      "BANNED (prompt_idx=31, type=slop_phrase, phrase='shimmered')             \n",
      "BANNED (prompt_idx=2, type=ngram, ngram='ever seen')                     \n",
      "BANNED (prompt_idx=21, type=slop_phrase, phrase='exchanged')             \n",
      "BANNED (prompt_idx=32, type=slop_phrase, phrase='gently')                \n",
      "BANNED (prompt_idx=35, type=slop_phrase, phrase='stammered')             \n",
      "BANNED (prompt_idx=27, type=slop_phrase, phrase='chilling')              \n",
      "BANNED (prompt_idx=3, type=slop_phrase, phrase='echo')                   \n",
      "Batch Generating:   0%|          | 0/40 [01:35<?, ?prompt/s, 147.5 tok/s]"
     ]
    },
    {
     "name": "stderr",
     "output_type": "stream",
     "text": [
      "2025-05-18 17:17:04,569 [ERROR] [core.sampler        ]: Back-track: no valid next-token candidates survived even after relaxation.\n"
     ]
    },
    {
     "name": "stdout",
     "output_type": "stream",
     "text": [
      "BANNED (prompt_idx=23, type=slop_phrase, phrase='delicate')              \n",
      "Batch Generating:   0%|          | 0/40 [01:35<?, ?prompt/s, 153.0 tok/s]"
     ]
    },
    {
     "name": "stderr",
     "output_type": "stream",
     "text": [
      "2025-05-18 17:17:04,917 [ERROR] [core.sampler        ]: Back-track: no valid next-token candidates survived even after relaxation.\n"
     ]
    },
    {
     "name": "stdout",
     "output_type": "stream",
     "text": [
      "BANNED (prompt_idx=4, type=slop_phrase, phrase='murmured')               \n",
      "BANNED (prompt_idx=15, type=slop_phrase, phrase='unsettling')            \n",
      "BANNED (prompt_idx=25, type=slop_phrase, phrase='scent')                 \n",
      "BANNED (prompt_idx=6, type=slop_phrase, phrase='spine')                  \n",
      "BANNED (prompt_idx=26, type=slop_phrase, phrase='voice barely audible')  \n",
      "BANNED (prompt_idx=17, type=slop_phrase, phrase='flicker')               \n",
      "BANNED (prompt_idx=11, type=slop_phrase, phrase='crimson')               \n",
      "Batch Generating:   0%|          | 0/40 [01:36<?, ?prompt/s, 142.8 tok/s]"
     ]
    },
    {
     "name": "stderr",
     "output_type": "stream",
     "text": [
      "2025-05-18 17:17:05,345 [ERROR] [core.sampler        ]: Back-track: no valid next-token candidates survived even after relaxation.\n"
     ]
    },
    {
     "name": "stdout",
     "output_type": "stream",
     "text": [
      "BANNED (prompt_idx=24, type=slop_phrase, phrase='rhythm')                \n",
      "BANNED (prompt_idx=18, type=slop_phrase, phrase='raced')                 \n",
      "BANNED (prompt_idx=33, type=slop_phrase, phrase='froze')                 \n",
      "BANNED (prompt_idx=14, type=slop_phrase, phrase='chilling')              \n",
      "BANNED (prompt_idx=13, type=slop_phrase, phrase='subtle')                \n",
      "BANNED (prompt_idx=7, type=slop_phrase, phrase='voice barely audible')   \n",
      "BANNED (prompt_idx=31, type=slop_phrase, phrase='shifted')               \n",
      "BANNED (prompt_idx=2, type=slop_phrase, phrase='trembling')              \n",
      "BANNED (prompt_idx=1, type=ngram, ngram='carefully constructed')         \n",
      "BANNED (prompt_idx=32, type=slop_phrase, phrase='gently')                \n",
      "BANNED (prompt_idx=16, type=slop_phrase, phrase='dread')                 \n",
      "BANNED (prompt_idx=35, type=slop_phrase, phrase='pale')                  \n",
      "BANNED (prompt_idx=21, type=slop_phrase, phrase='stared')                \n",
      "BANNED (prompt_idx=28, type=slop_phrase, phrase='unwavering')            \n",
      "BANNED (prompt_idx=4, type=slop_phrase, phrase='murmured')               \n",
      "Batch Generating:   0%|          | 0/40 [01:37<?, ?prompt/s, 165.3 tok/s]"
     ]
    },
    {
     "name": "stderr",
     "output_type": "stream",
     "text": [
      "2025-05-18 17:17:07,124 [ERROR] [core.sampler        ]: Back-track: no valid next-token candidates survived even after relaxation.\n"
     ]
    },
    {
     "name": "stdout",
     "output_type": "stream",
     "text": [
      "BANNED (prompt_idx=6, type=slop_phrase, phrase='amusement')              \n",
      "BANNED (prompt_idx=25, type=slop_phrase, phrase='unsettling')            \n",
      "BANNED (prompt_idx=26, type=slop_phrase, phrase='voice barely audible')  \n",
      "BANNED (prompt_idx=24, type=slop_phrase, phrase='relentless')            \n",
      "BANNED (prompt_idx=8, type=ngram, ngram='air thick')                     \n",
      "Batch Generating:   0%|          | 0/40 [01:38<?, ?prompt/s, 165.0 tok/s]"
     ]
    },
    {
     "name": "stderr",
     "output_type": "stream",
     "text": [
      "2025-05-18 17:17:07,830 [ERROR] [core.sampler        ]: Back-track: no valid next-token candidates survived even after relaxation.\n"
     ]
    },
    {
     "name": "stdout",
     "output_type": "stream",
     "text": [
      "BANNED (prompt_idx=15, type=slop_phrase, phrase='gaze')                  \n",
      "BANNED (prompt_idx=17, type=slop_phrase, phrase='flicker')               \n",
      "BANNED (prompt_idx=33, type=slop_phrase, phrase='brow')                  \n",
      "BANNED (prompt_idx=0, type=ngram, ngram='said voice')                    \n",
      "Batch Generating:   0%|          | 0/40 [01:38<?, ?prompt/s, 153.7 tok/s]"
     ]
    },
    {
     "name": "stderr",
     "output_type": "stream",
     "text": [
      "2025-05-18 17:17:08,240 [ERROR] [core.sampler        ]: Back-track: no valid next-token candidates survived even after relaxation.\n"
     ]
    },
    {
     "name": "stdout",
     "output_type": "stream",
     "text": [
      "BANNED (prompt_idx=32, type=slop_phrase, phrase='hummed')                \n",
      "BANNED (prompt_idx=2, type=slop_phrase, phrase='sigh')                   \n",
      "BANNED (prompt_idx=19, type=slop_phrase, phrase='flicker')               \n",
      "BANNED (prompt_idx=7, type=slop_phrase, phrase='swallowed')              \n",
      "BANNED (prompt_idx=35, type=ngram, ngram='face pale')                    \n",
      "BANNED (prompt_idx=31, type=slop_phrase, phrase='subtle')                \n",
      "BANNED (prompt_idx=38, type=slop_phrase, phrase='chilling')              \n",
      "BANNED (prompt_idx=29, type=slop_phrase, phrase='fabric')                \n",
      "BANNED (prompt_idx=6, type=slop_phrase, phrase='something else entirely')\n",
      "BANNED (prompt_idx=30, type=regex, regex='\\bnot\\s+(?:just|only|merely)?\\s*(?:[^\\s]+\\s*){1,6}?[,;:—–-]?\\s*but\\s+(?:also\\s+)?', match='Not with grand ambitions, but ')\n",
      "BANNED (prompt_idx=23, type=slop_phrase, phrase='whisper')               \n",
      "BANNED (prompt_idx=4, type=slop_phrase, phrase='silas')                  \n",
      "BANNED (prompt_idx=1, type=slop_phrase, phrase='meticulously')           \n",
      "BANNED (prompt_idx=14, type=slop_phrase, phrase='unsettling')            \n",
      "BANNED (prompt_idx=21, type=slop_phrase, phrase='exchanged')             \n",
      "Batch Generating:   0%|          | 0/40 [01:40<?, ?prompt/s, 163.6 tok/s]"
     ]
    },
    {
     "name": "stderr",
     "output_type": "stream",
     "text": [
      "2025-05-18 17:17:09,965 [ERROR] [core.sampler        ]: Back-track: no valid next-token candidates survived even after relaxation.\n"
     ]
    },
    {
     "name": "stdout",
     "output_type": "stream",
     "text": [
      "BANNED (prompt_idx=36, type=slop_phrase, phrase='lena')                  \n",
      "BANNED (prompt_idx=25, type=slop_phrase, phrase='glow')                  \n",
      "Batch Generating:   0%|          | 0/40 [01:41<?, ?prompt/s, 172.3 tok/s]"
     ]
    },
    {
     "name": "stderr",
     "output_type": "stream",
     "text": [
      "2025-05-18 17:17:10,552 [ERROR] [core.sampler        ]: Back-track: no valid next-token candidates survived even after relaxation.\n"
     ]
    },
    {
     "name": "stdout",
     "output_type": "stream",
     "text": [
      "BANNED (prompt_idx=26, type=ngram, ngram='voice barely audible')         \n",
      "BANNED (prompt_idx=8, type=slop_phrase, phrase='swallowed')              \n",
      "Batch Generating:   0%|          | 0/40 [01:41<?, ?prompt/s, 173.7 tok/s]"
     ]
    },
    {
     "name": "stderr",
     "output_type": "stream",
     "text": [
      "2025-05-18 17:17:10,810 [ERROR] [core.sampler        ]: Back-track: no valid next-token candidates survived even after relaxation.\n"
     ]
    },
    {
     "name": "stdout",
     "output_type": "stream",
     "text": [
      "BANNED (prompt_idx=33, type=slop_phrase, phrase='brow')                  \n",
      "BANNED (prompt_idx=17, type=slop_phrase, phrase='ethan')                 \n",
      "BANNED (prompt_idx=0, type=ngram, ngram='replied voice')                 \n",
      "BANNED (prompt_idx=11, type=slop_phrase, phrase='twisted')               \n",
      "BANNED (prompt_idx=10, type=slop_phrase, phrase='stammered')             \n",
      "BANNED (prompt_idx=27, type=slop_phrase, phrase='chilling')              \n",
      "BANNED (prompt_idx=32, type=ngram, ngram='face etched')                  \n",
      "BANNED (prompt_idx=15, type=slop_phrase, phrase='gaze')                  \n",
      "BANNED (prompt_idx=6, type=slop_phrase, phrase='stammered')              \n",
      "BANNED (prompt_idx=19, type=ngram, ngram='almost imperceptible')         \n",
      "BANNED (prompt_idx=35, type=slop_phrase, phrase='hand instinctively reaching')\n",
      "BANNED (prompt_idx=7, type=ngram, ngram='barely audible')                \n",
      "BANNED (prompt_idx=31, type=slop_phrase, phrase='scent')                 \n",
      "BANNED (prompt_idx=4, type=slop_phrase, phrase='murmured')               \n",
      "Batch Generating:   0%|          | 0/40 [01:42<?, ?prompt/s, 174.8 tok/s]"
     ]
    },
    {
     "name": "stderr",
     "output_type": "stream",
     "text": [
      "2025-05-18 17:17:11,898 [ERROR] [core.sampler        ]: Back-track: no valid next-token candidates survived even after relaxation.\n"
     ]
    },
    {
     "name": "stdout",
     "output_type": "stream",
     "text": [
      "BANNED (prompt_idx=23, type=slop_phrase, phrase='whisper')               \n",
      "BANNED (prompt_idx=29, type=slop_phrase, phrase='revealing')             \n",
      "BANNED (prompt_idx=3, type=slop_phrase, phrase='unwavering')             \n",
      "BANNED (prompt_idx=25, type=slop_phrase, phrase='flicker')               \n",
      "BANNED (prompt_idx=36, type=slop_phrase, phrase='elara')                 \n",
      "BANNED (prompt_idx=30, type=regex, regex='\\bnot\\s+(?:just|only|merely)?\\s*(?:[^\\s]+\\s*){1,6}?[,;:—–-]?\\s*but\\s+(?:also\\s+)?', match='Not with grand ambitions, but ')\n",
      "BANNED (prompt_idx=1, type=ngram, ngram='carefully constructed')         \n",
      "Batch Generating:   0%|          | 0/40 [01:43<?, ?prompt/s, 169.3 tok/s]"
     ]
    },
    {
     "name": "stderr",
     "output_type": "stream",
     "text": [
      "2025-05-18 17:17:13,177 [ERROR] [core.sampler        ]: Back-track: no valid next-token candidates survived even after relaxation.\n"
     ]
    },
    {
     "name": "stdout",
     "output_type": "stream",
     "text": [
      "BANNED (prompt_idx=33, type=ngram, ngram='felt like')                    \n",
      "BANNED (prompt_idx=21, type=slop_phrase, phrase='exchanged')             \n",
      "BANNED (prompt_idx=14, type=slop_phrase, phrase='chilling')              \n",
      "BANNED (prompt_idx=8, type=slop_phrase, phrase='stark')                  \n",
      "BANNED (prompt_idx=10, type=slop_phrase, phrase='stammered')             \n",
      "Batch Generating:   0%|          | 0/40 [01:44<?, ?prompt/s, 157.8 tok/s]"
     ]
    },
    {
     "name": "stderr",
     "output_type": "stream",
     "text": [
      "2025-05-18 17:17:13,591 [ERROR] [core.sampler        ]: Back-track: no valid next-token candidates survived even after relaxation.\n",
      "2025-05-18 17:17:13,802 [ERROR] [core.sampler        ]: Back-track: no valid next-token candidates survived even after relaxation.\n"
     ]
    },
    {
     "name": "stdout",
     "output_type": "stream",
     "text": [
      "BANNED (prompt_idx=0, type=ngram, ngram='said voice')                    \n",
      "BANNED (prompt_idx=39, type=slop_phrase, phrase='flicker')               \n",
      "BANNED (prompt_idx=11, type=slop_phrase, phrase='froze')                 \n",
      "BANNED (prompt_idx=32, type=slop_phrase, phrase='whisper')               \n",
      "BANNED (prompt_idx=17, type=slop_phrase, phrase='subtle')                \n",
      "BANNED (prompt_idx=19, type=slop_phrase, phrase='unsettling')            \n",
      "BANNED (prompt_idx=4, type=slop_phrase, phrase='frantic')                \n",
      "BANNED (prompt_idx=18, type=slop_phrase, phrase='pulse')                 \n",
      "BANNED (prompt_idx=7, type=slop_phrase, phrase='countless')              \n",
      "BANNED (prompt_idx=35, type=slop_phrase, phrase='voice barely a whisper')\n",
      "BANNED (prompt_idx=31, type=slop_phrase, phrase='scent')                 \n",
      "BANNED (prompt_idx=15, type=ngram, ngram='felt like')                    \n",
      "BANNED (prompt_idx=28, type=slop_phrase, phrase='scanning')              \n",
      "BANNED (prompt_idx=23, type=slop_phrase, phrase='whisper')               \n",
      "BANNED (prompt_idx=3, type=slop_phrase, phrase='piercing')               \n",
      "BANNED (prompt_idx=25, type=slop_phrase, phrase='glow')                  \n",
      "BANNED (prompt_idx=29, type=slop_phrase, phrase='stark')                 \n",
      "BANNED (prompt_idx=36, type=slop_phrase, phrase='shifting')              \n",
      "BANNED (prompt_idx=13, type=slop_phrase, phrase='brow')                  \n",
      "Batch Generating:   0%|          | 0/40 [01:46<?, ?prompt/s, 132.9 tok/s]"
     ]
    },
    {
     "name": "stderr",
     "output_type": "stream",
     "text": [
      "2025-05-18 17:17:16,057 [ERROR] [core.sampler        ]: Back-track: no valid next-token candidates survived even after relaxation.\n"
     ]
    },
    {
     "name": "stdout",
     "output_type": "stream",
     "text": [
      "BANNED (prompt_idx=33, type=slop_phrase, phrase='brow')                  \n",
      "BANNED (prompt_idx=20, type=slop_phrase, phrase='frantic')               \n",
      "BANNED (prompt_idx=5, type=slop_phrase, phrase='sunlight')               \n",
      "BANNED (prompt_idx=8, type=slop_phrase, phrase='chilling')               \n",
      "BANNED (prompt_idx=10, type=slop_phrase, phrase='hollow')                \n",
      "Batch Generating:   0%|          | 0/40 [01:47<?, ?prompt/s, 123.2 tok/s]"
     ]
    },
    {
     "name": "stderr",
     "output_type": "stream",
     "text": [
      "2025-05-18 17:17:16,724 [ERROR] [core.sampler        ]: Back-track: no valid next-token candidates survived even after relaxation.\n",
      "2025-05-18 17:17:16,914 [ERROR] [core.sampler        ]: Back-track: no valid next-token candidates survived even after relaxation.\n"
     ]
    },
    {
     "name": "stdout",
     "output_type": "stream",
     "text": [
      "BANNED (prompt_idx=4, type=slop_phrase, phrase='murmured')               \n",
      "BANNED (prompt_idx=32, type=slop_phrase, phrase='murmured')              \n",
      "BANNED (prompt_idx=1, type=slop_phrase, phrase='subtle')                 \n",
      "BANNED (prompt_idx=37, type=slop_phrase, phrase='testament')             \n",
      "BANNED (prompt_idx=11, type=slop_phrase, phrase='stared')                \n",
      "BANNED (prompt_idx=19, type=ngram, ngram='almost imperceptible')         \n",
      "BANNED (prompt_idx=17, type=ngram, ngram='almost imperceptible')         \n",
      "BANNED (prompt_idx=7, type=slop_phrase, phrase='delicate')               \n",
      "BANNED (prompt_idx=35, type=slop_phrase, phrase='pale')                  \n",
      "BANNED (prompt_idx=18, type=slop_phrase, phrase='silas')                 \n",
      "Batch Generating:   0%|          | 0/40 [01:48<?, ?prompt/s, 155.2 tok/s]"
     ]
    },
    {
     "name": "stderr",
     "output_type": "stream",
     "text": [
      "2025-05-18 17:17:17,352 [ERROR] [core.sampler        ]: Back-track: no valid next-token candidates survived even after relaxation.\n"
     ]
    },
    {
     "name": "stdout",
     "output_type": "stream",
     "text": [
      "BANNED (prompt_idx=21, type=slop_phrase, phrase='exchanged')             \n",
      "BANNED (prompt_idx=31, type=ngram, ngram='almost imperceptible')         \n",
      "BANNED (prompt_idx=14, type=slop_phrase, phrase='unwavering')            \n",
      "BANNED (prompt_idx=3, type=slop_phrase, phrase='unwavering')             \n",
      "BANNED (prompt_idx=39, type=slop_phrase, phrase='flicker')               \n",
      "BANNED (prompt_idx=23, type=slop_phrase, phrase='whisper')               \n",
      "BANNED (prompt_idx=15, type=ngram, ngram='air around')                   \n",
      "BANNED (prompt_idx=6, type=slop_phrase, phrase='piercing')               \n",
      "BANNED (prompt_idx=33, type=slop_phrase, phrase='brow')                  \n",
      "BANNED (prompt_idx=27, type=slop_phrase, phrase='chilling')              \n",
      "Batch Generating:   0%|          | 0/40 [01:49<?, ?prompt/s, 154.7 tok/s]"
     ]
    },
    {
     "name": "stderr",
     "output_type": "stream",
     "text": [
      "2025-05-18 17:17:18,621 [ERROR] [core.sampler        ]: Back-track: no valid next-token candidates survived even after relaxation.\n"
     ]
    },
    {
     "name": "stdout",
     "output_type": "stream",
     "text": [
      "BANNED (prompt_idx=36, type=slop_phrase, phrase='sigh')                  \n",
      "BANNED (prompt_idx=29, type=slop_phrase, phrase='etched')                \n",
      "BANNED (prompt_idx=4, type=slop_phrase, phrase='murmured')               \n",
      "Batch Generating:   0%|          | 0/40 [01:49<?, ?prompt/s, 150.5 tok/s]"
     ]
    },
    {
     "name": "stderr",
     "output_type": "stream",
     "text": [
      "2025-05-18 17:17:19,132 [ERROR] [core.sampler        ]: Back-track: no valid next-token candidates survived even after relaxation.\n",
      "2025-05-18 17:17:19,197 [ERROR] [core.sampler        ]: Back-track: no valid next-token candidates survived even after relaxation.\n"
     ]
    },
    {
     "name": "stdout",
     "output_type": "stream",
     "text": [
      "BANNED (prompt_idx=32, type=slop_phrase, phrase='whisper')               \n",
      "BANNED (prompt_idx=10, type=slop_phrase, phrase='hollow')                \n",
      "BANNED (prompt_idx=22, type=slop_phrase, phrase='faint')                 \n",
      "BANNED (prompt_idx=16, type=slop_phrase, phrase='obsidian')              \n",
      "BANNED (prompt_idx=8, type=slop_phrase, phrase='dread')                  \n",
      "BANNED (prompt_idx=13, type=slop_phrase, phrase='faint')                 \n",
      "BANNED (prompt_idx=5, type=slop_phrase, phrase='footsteps')              \n",
      "BANNED (prompt_idx=2, type=slop_phrase, phrase='said, his voice low')    \n",
      "BANNED (prompt_idx=19, type=slop_phrase, phrase='flicker')               \n",
      "BANNED (prompt_idx=3, type=slop_phrase, phrase='faint')                  \n",
      "BANNED (prompt_idx=35, type=ngram, ngram='said voice')                   \n",
      "BANNED (prompt_idx=11, type=slop_phrase, phrase='terrifying')            \n",
      "BANNED (prompt_idx=7, type=slop_phrase, phrase='delicate')               \n",
      "BANNED (prompt_idx=17, type=slop_phrase, phrase='void')                  \n",
      "BANNED (prompt_idx=37, type=slop_phrase, phrase='wave of nausea washed') \n",
      "BANNED (prompt_idx=31, type=slop_phrase, phrase='scent')                 \n",
      "BANNED (prompt_idx=18, type=slop_phrase, phrase='elias')                 \n",
      "BANNED (prompt_idx=30, type=regex, regex='\\bnot\\s+(?:just|only|merely)?\\s*(?:[^\\s]+\\s*){1,6}?[,;:—–-]?\\s*but\\s+(?:also\\s+)?', match='not to perform, but ')\n",
      "BANNED (prompt_idx=23, type=slop_phrase, phrase='whisper')               \n",
      "BANNED (prompt_idx=6, type=slop_phrase, phrase='grin')                   \n",
      "BANNED (prompt_idx=25, type=slop_phrase, phrase='vibrant')               \n",
      "BANNED (prompt_idx=34, type=slop_phrase, phrase='unsettling')            \n",
      "BANNED (prompt_idx=39, type=slop_phrase, phrase='relentless')            \n",
      "BANNED (prompt_idx=33, type=slop_phrase, phrase='profound')              \n",
      "BANNED (prompt_idx=4, type=slop_phrase, phrase='silas')                  \n",
      "BANNED (prompt_idx=36, type=slop_phrase, phrase='echo')                  \n",
      "Batch Generating:   0%|          | 0/40 [01:52<?, ?prompt/s, 159.0 tok/s]"
     ]
    },
    {
     "name": "stderr",
     "output_type": "stream",
     "text": [
      "2025-05-18 17:17:21,777 [ERROR] [core.sampler        ]: Back-track: no valid next-token candidates survived even after relaxation.\n"
     ]
    },
    {
     "name": "stdout",
     "output_type": "stream",
     "text": [
      "BANNED (prompt_idx=32, type=slop_phrase, phrase='whisper')               \n",
      "BANNED (prompt_idx=22, type=slop_phrase, phrase='metallic')              \n",
      "BANNED (prompt_idx=26, type=slop_phrase, phrase='fingers trembling slightly')\n",
      "BANNED (prompt_idx=3, type=slop_phrase, phrase='faint')                  \n",
      "BANNED (prompt_idx=10, type=slop_phrase, phrase='elias')                 \n",
      "BANNED (prompt_idx=29, type=slop_phrase, phrase='etched')                \n",
      "BANNED (prompt_idx=28, type=slop_phrase, phrase='relentless')            \n",
      "BANNED (prompt_idx=16, type=slop_phrase, phrase='towering')              \n",
      "BANNED (prompt_idx=6, type=slop_phrase, phrase='sigh')                   \n",
      "BANNED (prompt_idx=11, type=slop_phrase, phrase='faded')                 \n",
      "BANNED (prompt_idx=13, type=ngram, ngram='almost imperceptible')         \n",
      "BANNED (prompt_idx=31, type=slop_phrase, phrase='unsettling')            \n",
      "Batch Generating:   0%|          | 0/40 [01:53<?, ?prompt/s, 166.7 tok/s]"
     ]
    },
    {
     "name": "stderr",
     "output_type": "stream",
     "text": [
      "2025-05-18 17:17:23,140 [ERROR] [core.sampler        ]: Back-track: no valid next-token candidates survived even after relaxation.\n"
     ]
    },
    {
     "name": "stdout",
     "output_type": "stream",
     "text": [
      "BANNED (prompt_idx=17, type=slop_phrase, phrase='delicate')              \n",
      "BANNED (prompt_idx=18, type=ngram, ngram='voice like')                   \n",
      "BANNED (prompt_idx=25, type=slop_phrase, phrase='elias')                 \n",
      "BANNED (prompt_idx=37, type=slop_phrase, phrase='muttered')              \n",
      "BANNED (prompt_idx=33, type=slop_phrase, phrase='brow')                  \n",
      "Batch Generating:   0%|          | 0/40 [01:54<?, ?prompt/s, 163.1 tok/s]"
     ]
    },
    {
     "name": "stderr",
     "output_type": "stream",
     "text": [
      "2025-05-18 17:17:23,709 [ERROR] [core.sampler        ]: Back-track: no valid next-token candidates survived even after relaxation.\n"
     ]
    },
    {
     "name": "stdout",
     "output_type": "stream",
     "text": [
      "BANNED (prompt_idx=1, type=slop_phrase, phrase='void')                   \n",
      "BANNED (prompt_idx=4, type=slop_phrase, phrase='murmured')               \n",
      "Batch Generating:   0%|          | 0/40 [01:54<?, ?prompt/s, 163.7 tok/s]"
     ]
    },
    {
     "name": "stderr",
     "output_type": "stream",
     "text": [
      "2025-05-18 17:17:23,939 [ERROR] [core.sampler        ]: Back-track: no valid next-token candidates survived even after relaxation.\n"
     ]
    },
    {
     "name": "stdout",
     "output_type": "stream",
     "text": [
      "BANNED (prompt_idx=3, type=slop_phrase, phrase='scent')                  \n",
      "BANNED (prompt_idx=32, type=slop_phrase, phrase='whisper')               \n",
      "Batch Generating:   0%|          | 0/40 [01:55<?, ?prompt/s, 154.0 tok/s]"
     ]
    },
    {
     "name": "stderr",
     "output_type": "stream",
     "text": [
      "2025-05-18 17:17:24,443 [ERROR] [core.sampler        ]: Back-track: no valid next-token candidates survived even after relaxation.\n"
     ]
    },
    {
     "name": "stdout",
     "output_type": "stream",
     "text": [
      "BANNED (prompt_idx=15, type=slop_phrase, phrase='subtle')                \n",
      "BANNED (prompt_idx=22, type=slop_phrase, phrase='glanced')               \n",
      "BANNED (prompt_idx=39, type=slop_phrase, phrase='rhythm')                \n",
      "BANNED (prompt_idx=26, type=slop_phrase, phrase='fingers trembling slightly')\n",
      "BANNED (prompt_idx=10, type=slop_phrase, phrase='elias')                 \n",
      "BANNED (prompt_idx=34, type=slop_phrase, phrase='delicate')              \n",
      "BANNED (prompt_idx=6, type=slop_phrase, phrase='utterly')                \n",
      "BANNED (prompt_idx=8, type=slop_phrase, phrase='said, my voice barely')  \n",
      "BANNED (prompt_idx=2, type=slop_phrase, phrase='fabric')                 \n",
      "BANNED (prompt_idx=35, type=slop_phrase, phrase='elias')                 \n",
      "BANNED (prompt_idx=29, type=slop_phrase, phrase='testament')             \n",
      "BANNED (prompt_idx=0, type=slop_phrase, phrase='hand instinctively reaching')\n",
      "Batch Generating:   0%|          | 0/40 [01:56<?, ?prompt/s, 168.5 tok/s]"
     ]
    },
    {
     "name": "stderr",
     "output_type": "stream",
     "text": [
      "2025-05-18 17:17:25,955 [ERROR] [core.sampler        ]: Back-track: no valid next-token candidates survived even after relaxation.\n"
     ]
    },
    {
     "name": "stdout",
     "output_type": "stream",
     "text": [
      "BANNED (prompt_idx=31, type=slop_phrase, phrase='unsettling')            \n",
      "BANNED (prompt_idx=11, type=ngram, ngram='something far')                \n",
      "BANNED (prompt_idx=23, type=slop_phrase, phrase='unsettling')            \n",
      "BANNED (prompt_idx=7, type=slop_phrase, phrase='shimmering')             \n",
      "BANNED (prompt_idx=5, type=slop_phrase, phrase='meticulously')           \n",
      "BANNED (prompt_idx=25, type=slop_phrase, phrase='elara')                 \n",
      "BANNED (prompt_idx=33, type=slop_phrase, phrase='brow')                  \n",
      "BANNED (prompt_idx=4, type=slop_phrase, phrase='silas')                  \n",
      "BANNED (prompt_idx=28, type=slop_phrase, phrase='essence')               \n",
      "Batch Generating:   0%|          | 0/40 [01:57<?, ?prompt/s, 182.8 tok/s]"
     ]
    },
    {
     "name": "stderr",
     "output_type": "stream",
     "text": [
      "2025-05-18 17:17:26,279 [ERROR] [core.sampler        ]: Back-track: no valid next-token candidates survived even after relaxation.\n"
     ]
    },
    {
     "name": "stdout",
     "output_type": "stream",
     "text": [
      "BANNED (prompt_idx=18, type=slop_phrase, phrase='amusement')             \n",
      "BANNED (prompt_idx=17, type=slop_phrase, phrase='ethan')                 \n",
      "BANNED (prompt_idx=37, type=slop_phrase, phrase='muttered')              \n",
      "BANNED (prompt_idx=32, type=ngram, ngram='whispered voice')              \n",
      "Batch Generating:   0%|          | 0/40 [01:57<?, ?prompt/s, 190.4 tok/s]"
     ]
    },
    {
     "name": "stderr",
     "output_type": "stream",
     "text": [
      "2025-05-18 17:17:27,003 [ERROR] [core.sampler        ]: Back-track: no valid next-token candidates survived even after relaxation.\n"
     ]
    },
    {
     "name": "stdout",
     "output_type": "stream",
     "text": [
      "BANNED (prompt_idx=22, type=slop_phrase, phrase='hesitated')             \n",
      "BANNED (prompt_idx=1, type=slop_phrase, phrase='shifted')                \n",
      "BANNED (prompt_idx=10, type=slop_phrase, phrase='elias')                 \n",
      "BANNED (prompt_idx=26, type=slop_phrase, phrase='trembling')             \n",
      "BANNED (prompt_idx=15, type=slop_phrase, phrase='clutching')             \n",
      "BANNED (prompt_idx=6, type=slop_phrase, phrase='profound')               \n",
      "BANNED (prompt_idx=8, type=slop_phrase, phrase='voice barely a whisper') \n",
      "BANNED (prompt_idx=2, type=ngram, ngram='carefully constructed')         \n",
      "BANNED (prompt_idx=19, type=slop_phrase, phrase='hesitated')             \n",
      "BANNED (prompt_idx=35, type=slop_phrase, phrase='elias')                 \n",
      "Batch Generating:   0%|          | 0/40 [01:59<?, ?prompt/s, 156.9 tok/s]"
     ]
    },
    {
     "name": "stderr",
     "output_type": "stream",
     "text": [
      "2025-05-18 17:17:28,755 [ERROR] [core.sampler        ]: Back-track: no valid next-token candidates survived even after relaxation.\n",
      "2025-05-18 17:17:28,939 [ERROR] [core.sampler        ]: Back-track: no valid next-token candidates survived even after relaxation.\n"
     ]
    },
    {
     "name": "stdout",
     "output_type": "stream",
     "text": [
      "BANNED (prompt_idx=4, type=slop_phrase, phrase='murmured')               \n",
      "BANNED (prompt_idx=29, type=slop_phrase, phrase='testament')             \n",
      "BANNED (prompt_idx=7, type=slop_phrase, phrase='scent')                  \n",
      "BANNED (prompt_idx=31, type=slop_phrase, phrase='unsettling')            \n",
      "BANNED (prompt_idx=25, type=slop_phrase, phrase='elias')                 \n",
      "BANNED (prompt_idx=3, type=slop_phrase, phrase='shimmered')              \n",
      "BANNED (prompt_idx=11, type=slop_phrase, phrase='chilling')              \n",
      "BANNED (prompt_idx=33, type=slop_phrase, phrase='profound')              \n",
      "BANNED (prompt_idx=34, type=ngram, ngram='something else')               \n",
      "BANNED (prompt_idx=24, type=slop_phrase, phrase='flicker')               \n",
      "BANNED (prompt_idx=5, type=slop_phrase, phrase='meticulously')           \n",
      "BANNED (prompt_idx=18, type=slop_phrase, phrase='curiosity')             \n",
      "BANNED (prompt_idx=32, type=slop_phrase, phrase='meticulously')          \n",
      "BANNED (prompt_idx=22, type=slop_phrase, phrase='glanced')               \n",
      "BANNED (prompt_idx=16, type=slop_phrase, phrase='mortal')                \n",
      "BANNED (prompt_idx=17, type=slop_phrase, phrase='ethan')                 \n",
      "BANNED (prompt_idx=37, type=slop_phrase, phrase='silas')                 \n",
      "BANNED (prompt_idx=6, type=slop_phrase, phrase='profound')               \n",
      "BANNED (prompt_idx=10, type=slop_phrase, phrase='thorne')                \n",
      "BANNED (prompt_idx=28, type=slop_phrase, phrase='flicker')               \n",
      "BANNED (prompt_idx=27, type=slop_phrase, phrase='holographic')           \n",
      "BANNED (prompt_idx=26, type=slop_phrase, phrase='clutching')             \n",
      "BANNED (prompt_idx=12, type=slop_phrase, phrase='paused')                \n",
      "BANNED (prompt_idx=36, type=ngram, ngram='replied voice')                \n",
      "BANNED (prompt_idx=4, type=slop_phrase, phrase='silas')                  \n",
      "BANNED (prompt_idx=35, type=slop_phrase, phrase='elias')                 \n",
      "BANNED (prompt_idx=8, type=slop_phrase, phrase='voice barely a whisper') \n",
      "BANNED (prompt_idx=2, type=slop_phrase, phrase='fabric')                 \n",
      "BANNED (prompt_idx=19, type=slop_phrase, phrase='paused')                \n",
      "BANNED (prompt_idx=3, type=slop_phrase, phrase='pulse')                  \n",
      "BANNED (prompt_idx=38, type=slop_phrase, phrase='whisper')               \n",
      "BANNED (prompt_idx=9, type=slop_phrase, phrase='fragile')                \n",
      "BANNED (prompt_idx=25, type=slop_phrase, phrase='silas')                 \n",
      "BANNED (prompt_idx=33, type=slop_phrase, phrase='brow')                  \n",
      "BANNED (prompt_idx=7, type=slop_phrase, phrase='scent')                  \n",
      "Batch Generating:   0%|          | 0/40 [02:02<?, ?prompt/s, 117.4 tok/s]"
     ]
    },
    {
     "name": "stderr",
     "output_type": "stream",
     "text": [
      "2025-05-18 17:17:31,810 [ERROR] [core.sampler        ]: Back-track: no valid next-token candidates survived even after relaxation.\n",
      "2025-05-18 17:17:31,911 [ERROR] [core.sampler        ]: Back-track: no valid next-token candidates survived even after relaxation.\n"
     ]
    },
    {
     "name": "stdout",
     "output_type": "stream",
     "text": [
      "BANNED (prompt_idx=31, type=slop_phrase, phrase='brow')                  \n",
      "BANNED (prompt_idx=11, type=slop_phrase, phrase='terrifying')            \n",
      "BANNED (prompt_idx=24, type=slop_phrase, phrase='curiosity')             \n",
      "BANNED (prompt_idx=32, type=slop_phrase, phrase='overwhelming')          \n",
      "BANNED (prompt_idx=22, type=slop_phrase, phrase='froze')                 \n",
      "BANNED (prompt_idx=6, type=slop_phrase, phrase='whisper')                \n",
      "BANNED (prompt_idx=18, type=slop_phrase, phrase='elias')                 \n",
      "BANNED (prompt_idx=5, type=slop_phrase, phrase='newfound')               \n",
      "BANNED (prompt_idx=17, type=slop_phrase, phrase='ethan')                 \n",
      "BANNED (prompt_idx=10, type=slop_phrase, phrase='elias')                 \n",
      "Batch Generating:   0%|          | 0/40 [02:03<?, ?prompt/s, 115.8 tok/s]"
     ]
    },
    {
     "name": "stderr",
     "output_type": "stream",
     "text": [
      "2025-05-18 17:17:33,183 [ERROR] [core.sampler        ]: Back-track: no valid next-token candidates survived even after relaxation.\n"
     ]
    },
    {
     "name": "stdout",
     "output_type": "stream",
     "text": [
      "BANNED (prompt_idx=16, type=slop_phrase, phrase='stared')                \n",
      "BANNED (prompt_idx=34, type=slop_phrase, phrase='faint')                 \n",
      "BANNED (prompt_idx=4, type=slop_phrase, phrase='murmured')               \n",
      "Batch Generating:   0%|          | 0/40 [02:04<?, ?prompt/s, 119.1 tok/s]"
     ]
    },
    {
     "name": "stderr",
     "output_type": "stream",
     "text": [
      "2025-05-18 17:17:33,460 [ERROR] [core.sampler        ]: Back-track: no valid next-token candidates survived even after relaxation.\n"
     ]
    },
    {
     "name": "stdout",
     "output_type": "stream",
     "text": [
      "BANNED (prompt_idx=26, type=slop_phrase, phrase='trembling')             \n",
      "BANNED (prompt_idx=13, type=slop_phrase, phrase='profound')              \n",
      "BANNED (prompt_idx=37, type=ngram, ngram='young man')                    \n",
      "BANNED (prompt_idx=3, type=slop_phrase, phrase='faint')                  \n",
      "BANNED (prompt_idx=36, type=ngram, ngram='said voice')                   \n",
      "BANNED (prompt_idx=35, type=slop_phrase, phrase='subtle')                \n",
      "BANNED (prompt_idx=8, type=slop_phrase, phrase='whisper')                \n",
      "BANNED (prompt_idx=2, type=slop_phrase, phrase='paused')                 \n",
      "BANNED (prompt_idx=19, type=slop_phrase, phrase='hesitated')             \n",
      "Batch Generating:   0%|          | 0/40 [02:04<?, ?prompt/s, 105.2 tok/s]"
     ]
    },
    {
     "name": "stderr",
     "output_type": "stream",
     "text": [
      "2025-05-18 17:17:34,306 [ERROR] [core.sampler        ]: Back-track: no valid next-token candidates survived even after relaxation.\n"
     ]
    },
    {
     "name": "stdout",
     "output_type": "stream",
     "text": [
      "BANNED (prompt_idx=25, type=slop_phrase, phrase='silas')                 \n",
      "BANNED (prompt_idx=33, type=slop_phrase, phrase='brow')                  \n",
      "Batch Generating:   0%|          | 0/40 [02:05<?, ?prompt/s, 110.3 tok/s]"
     ]
    },
    {
     "name": "stderr",
     "output_type": "stream",
     "text": [
      "2025-05-18 17:17:34,609 [ERROR] [core.sampler        ]: Back-track: no valid next-token candidates survived even after relaxation.\n",
      "2025-05-18 17:17:34,663 [ERROR] [core.sampler        ]: Back-track: no valid next-token candidates survived even after relaxation.\n"
     ]
    },
    {
     "name": "stdout",
     "output_type": "stream",
     "text": [
      "BANNED (prompt_idx=27, type=slop_phrase, phrase='unsettling')            \n",
      "BANNED (prompt_idx=1, type=slop_phrase, phrase='liam')                   \n",
      "BANNED (prompt_idx=20, type=slop_phrase, phrase='meticulously')          \n",
      "Batch Generating:   0%|          | 0/40 [02:05<?, ?prompt/s, 112.4 tok/s]"
     ]
    },
    {
     "name": "stderr",
     "output_type": "stream",
     "text": [
      "2025-05-18 17:17:35,015 [ERROR] [core.sampler        ]: Back-track: no valid next-token candidates survived even after relaxation.\n"
     ]
    },
    {
     "name": "stdout",
     "output_type": "stream",
     "text": [
      "BANNED (prompt_idx=31, type=slop_phrase, phrase='unsettling')            \n",
      "BANNED (prompt_idx=15, type=slop_phrase, phrase='echo')                  \n",
      "BANNED (prompt_idx=38, type=slop_phrase, phrase='despair')               \n",
      "BANNED (prompt_idx=7, type=slop_phrase, phrase='countless')              \n",
      "BANNED (prompt_idx=6, type=ngram, ngram='young man')                     \n",
      "BANNED (prompt_idx=11, type=slop_phrase, phrase='chilling')              \n",
      "BANNED (prompt_idx=24, type=slop_phrase, phrase='unease')                \n",
      "BANNED (prompt_idx=32, type=slop_phrase, phrase='profound')              \n",
      "BANNED (prompt_idx=29, type=slop_phrase, phrase='etched')                \n",
      "BANNED (prompt_idx=4, type=slop_phrase, phrase='thorne')                 \n",
      "BANNED (prompt_idx=39, type=slop_phrase, phrase='shifted')               \n",
      "BANNED (prompt_idx=18, type=slop_phrase, phrase='hollow')                \n",
      "BANNED (prompt_idx=10, type=slop_phrase, phrase='elias')                 \n",
      "BANNED (prompt_idx=3, type=slop_phrase, phrase='faint')                  \n",
      "Batch Generating:   0%|          | 0/40 [02:06<?, ?prompt/s, 127.2 tok/s]"
     ]
    },
    {
     "name": "stderr",
     "output_type": "stream",
     "text": [
      "2025-05-18 17:17:36,006 [ERROR] [core.sampler        ]: Back-track: no valid next-token candidates survived even after relaxation.\n"
     ]
    },
    {
     "name": "stdout",
     "output_type": "stream",
     "text": [
      "BANNED (prompt_idx=17, type=slop_phrase, phrase='demon')                 \n",
      "BANNED (prompt_idx=26, type=slop_phrase, phrase='shaking')               \n",
      "Batch Generating:   0%|          | 0/40 [02:07<?, ?prompt/s, 134.4 tok/s]"
     ]
    },
    {
     "name": "stderr",
     "output_type": "stream",
     "text": [
      "2025-05-18 17:17:36,420 [ERROR] [core.sampler        ]: Back-track: no valid next-token candidates survived even after relaxation.\n"
     ]
    },
    {
     "name": "stdout",
     "output_type": "stream",
     "text": [
      "BANNED (prompt_idx=5, type=slop_phrase, phrase='intricate')              \n",
      "BANNED (prompt_idx=35, type=slop_phrase, phrase='elias')                 \n",
      "BANNED (prompt_idx=36, type=ngram, ngram='replied voice')                \n",
      "Batch Generating:   0%|          | 0/40 [02:07<?, ?prompt/s, 112.9 tok/s]"
     ]
    },
    {
     "name": "stderr",
     "output_type": "stream",
     "text": [
      "2025-05-18 17:17:36,945 [ERROR] [core.sampler        ]: Back-track: no valid next-token candidates survived even after relaxation.\n"
     ]
    },
    {
     "name": "stdout",
     "output_type": "stream",
     "text": [
      "BANNED (prompt_idx=16, type=ngram, ngram='looked around')                \n",
      "BANNED (prompt_idx=19, type=slop_phrase, phrase='hesitated')             \n",
      "Batch Generating:   0%|          | 0/40 [02:07<?, ?prompt/s, 124.4 tok/s]"
     ]
    },
    {
     "name": "stderr",
     "output_type": "stream",
     "text": [
      "2025-05-18 17:17:37,235 [ERROR] [core.sampler        ]: Back-track: no valid next-token candidates survived even after relaxation.\n",
      "2025-05-18 17:17:37,430 [ERROR] [core.sampler        ]: Back-track: no valid next-token candidates survived even after relaxation.\n"
     ]
    },
    {
     "name": "stdout",
     "output_type": "stream",
     "text": [
      "BANNED (prompt_idx=33, type=slop_phrase, phrase='froze')                 \n",
      "BANNED (prompt_idx=13, type=slop_phrase, phrase='rhythm')                \n",
      "BANNED (prompt_idx=25, type=slop_phrase, phrase='silas')                 \n",
      "BANNED (prompt_idx=14, type=slop_phrase, phrase='gently')                \n",
      "BANNED (prompt_idx=34, type=slop_phrase, phrase='shimmering')            \n",
      "BANNED (prompt_idx=22, type=slop_phrase, phrase='whisper')               \n",
      "BANNED (prompt_idx=31, type=slop_phrase, phrase='unsettling')            \n",
      "Batch Generating:   0%|          | 0/40 [02:08<?, ?prompt/s, 127.5 tok/s]"
     ]
    },
    {
     "name": "stderr",
     "output_type": "stream",
     "text": [
      "2025-05-18 17:17:38,040 [ERROR] [core.sampler        ]: Back-track: no valid next-token candidates survived even after relaxation.\n"
     ]
    },
    {
     "name": "stdout",
     "output_type": "stream",
     "text": [
      "BANNED (prompt_idx=6, type=slop_phrase, phrase='metallic')               \n",
      "BANNED (prompt_idx=20, type=slop_phrase, phrase='scent')                 \n",
      "Batch Generating:   0%|          | 0/40 [02:08<?, ?prompt/s, 123.8 tok/s]"
     ]
    },
    {
     "name": "stderr",
     "output_type": "stream",
     "text": [
      "2025-05-18 17:17:38,296 [ERROR] [core.sampler        ]: Back-track: no valid next-token candidates survived even after relaxation.\n"
     ]
    },
    {
     "name": "stdout",
     "output_type": "stream",
     "text": [
      "BANNED (prompt_idx=4, type=slop_phrase, phrase='murmured')               \n",
      "BANNED (prompt_idx=38, type=slop_phrase, phrase='flicker')               \n",
      "BANNED (prompt_idx=24, type=slop_phrase, phrase='curiosity')             \n",
      "BANNED (prompt_idx=3, type=slop_phrase, phrase='subtle')                 \n",
      "BANNED (prompt_idx=11, type=slop_phrase, phrase='hollow')                \n",
      "BANNED (prompt_idx=1, type=slop_phrase, phrase='ethan')                  \n",
      "BANNED (prompt_idx=27, type=slop_phrase, phrase='scent')                 \n",
      "BANNED (prompt_idx=10, type=slop_phrase, phrase='unwavering')            \n",
      "BANNED (prompt_idx=18, type=slop_phrase, phrase='utterly')               \n",
      "BANNED (prompt_idx=29, type=slop_phrase, phrase='etched')                \n",
      "Batch Generating:   0%|          | 0/40 [02:09<?, ?prompt/s, 125.2 tok/s]"
     ]
    },
    {
     "name": "stderr",
     "output_type": "stream",
     "text": [
      "2025-05-18 17:17:39,318 [ERROR] [core.sampler        ]: Back-track: no valid next-token candidates survived even after relaxation.\n"
     ]
    },
    {
     "name": "stdout",
     "output_type": "stream",
     "text": [
      "BANNED (prompt_idx=26, type=slop_phrase, phrase='shaking')               \n",
      "BANNED (prompt_idx=39, type=slop_phrase, phrase='blinked')               \n",
      "Batch Generating:   0%|          | 0/40 [02:10<?, ?prompt/s, 137.2 tok/s]"
     ]
    },
    {
     "name": "stderr",
     "output_type": "stream",
     "text": [
      "2025-05-18 17:17:40,045 [ERROR] [core.sampler        ]: Back-track: no valid next-token candidates survived even after relaxation.\n"
     ]
    },
    {
     "name": "stdout",
     "output_type": "stream",
     "text": [
      "BANNED (prompt_idx=33, type=slop_phrase, phrase='brow')                  \n",
      "BANNED (prompt_idx=36, type=slop_phrase, phrase='laced')                 \n",
      "BANNED (prompt_idx=25, type=slop_phrase, phrase='gestured')              \n",
      "BANNED (prompt_idx=2, type=slop_phrase, phrase='meticulously')           \n",
      "BANNED (prompt_idx=8, type=slop_phrase, phrase='profound')               \n",
      "BANNED (prompt_idx=19, type=slop_phrase, phrase='hesitated')             \n",
      "Batch Generating:   0%|          | 0/40 [02:11<?, ?prompt/s, 118.6 tok/s]"
     ]
    },
    {
     "name": "stderr",
     "output_type": "stream",
     "text": [
      "2025-05-18 17:17:40,397 [ERROR] [core.sampler        ]: Back-track: no valid next-token candidates survived even after relaxation.\n"
     ]
    },
    {
     "name": "stdout",
     "output_type": "stream",
     "text": [
      "BANNED (prompt_idx=6, type=slop_phrase, phrase='whisper')                \n",
      "BANNED (prompt_idx=16, type=slop_phrase, phrase='stared')                \n",
      "BANNED (prompt_idx=4, type=slop_phrase, phrase='silas')                  \n",
      "BANNED (prompt_idx=23, type=slop_phrase, phrase='young man named')       \n",
      "BANNED (prompt_idx=31, type=slop_phrase, phrase='chaotic')               \n",
      "BANNED (prompt_idx=3, type=slop_phrase, phrase='faint')                  \n",
      "BANNED (prompt_idx=13, type=slop_phrase, phrase='rhythm')                \n",
      "Batch Generating:   0%|          | 0/40 [02:11<?, ?prompt/s, 116.2 tok/s]"
     ]
    },
    {
     "name": "stderr",
     "output_type": "stream",
     "text": [
      "2025-05-18 17:17:41,010 [ERROR] [core.sampler        ]: Back-track: no valid next-token candidates survived even after relaxation.\n"
     ]
    },
    {
     "name": "stdout",
     "output_type": "stream",
     "text": [
      "BANNED (prompt_idx=20, type=slop_phrase, phrase='scent')                 \n",
      "BANNED (prompt_idx=24, type=slop_phrase, phrase='curiosity')             \n",
      "BANNED (prompt_idx=34, type=slop_phrase, phrase='flicker')               \n",
      "BANNED (prompt_idx=11, type=slop_phrase, phrase='chilling')              \n",
      "BANNED (prompt_idx=10, type=slop_phrase, phrase='elias')                 \n",
      "Batch Generating:   0%|          | 0/40 [02:12<?, ?prompt/s, 125.3 tok/s]"
     ]
    },
    {
     "name": "stderr",
     "output_type": "stream",
     "text": [
      "2025-05-18 17:17:41,847 [ERROR] [core.sampler        ]: Back-track: no valid next-token candidates survived even after relaxation.\n"
     ]
    },
    {
     "name": "stdout",
     "output_type": "stream",
     "text": [
      "BANNED (prompt_idx=0, type=slop_phrase, phrase='shadows')                \n",
      "BANNED (prompt_idx=15, type=slop_phrase, phrase='gaze')                  \n",
      "Batch Generating:   0%|          | 0/40 [02:12<?, ?prompt/s, 120.4 tok/s]"
     ]
    },
    {
     "name": "stderr",
     "output_type": "stream",
     "text": [
      "2025-05-18 17:17:42,414 [ERROR] [core.sampler        ]: Back-track: no valid next-token candidates survived even after relaxation.\n"
     ]
    },
    {
     "name": "stdout",
     "output_type": "stream",
     "text": [
      "BANNED (prompt_idx=26, type=slop_phrase, phrase='shaking')               \n",
      "BANNED (prompt_idx=1, type=slop_phrase, phrase='elias')                  \n",
      "BANNED (prompt_idx=33, type=slop_phrase, phrase='stammered')             \n",
      "BANNED (prompt_idx=27, type=slop_phrase, phrase='despair')               \n",
      "BANNED (prompt_idx=6, type=slop_phrase, phrase='exchanged')              \n",
      "BANNED (prompt_idx=17, type=ngram, ngram='carefully constructed')        \n",
      "BANNED (prompt_idx=21, type=slop_phrase, phrase='relentless')            \n",
      "Batch Generating:   0%|          | 0/40 [02:13<?, ?prompt/s, 128.6 tok/s]"
     ]
    },
    {
     "name": "stderr",
     "output_type": "stream",
     "text": [
      "2025-05-18 17:17:43,400 [ERROR] [core.sampler        ]: Back-track: no valid next-token candidates survived even after relaxation.\n",
      "2025-05-18 17:17:43,453 [ERROR] [core.sampler        ]: Back-track: no valid next-token candidates survived even after relaxation.\n",
      "2025-05-18 17:17:43,540 [ERROR] [core.sampler        ]: Back-track: no valid next-token candidates survived even after relaxation.\n"
     ]
    },
    {
     "name": "stdout",
     "output_type": "stream",
     "text": [
      "BANNED (prompt_idx=4, type=slop_phrase, phrase='murmured')               \n",
      "BANNED (prompt_idx=36, type=slop_phrase, phrase='unease')                \n",
      "BANNED (prompt_idx=3, type=slop_phrase, phrase='faint')                  \n",
      "BANNED (prompt_idx=2, type=slop_phrase, phrase='meticulously')           \n",
      "BANNED (prompt_idx=8, type=slop_phrase, phrase='profound')               \n",
      "BANNED (prompt_idx=19, type=slop_phrase, phrase='hesitated')             \n",
      "BANNED (prompt_idx=30, type=ngram, ngram='one day')                      \n",
      "BANNED (prompt_idx=39, type=slop_phrase, phrase='shifted')               \n",
      "BANNED (prompt_idx=22, type=slop_phrase, phrase='sunlight')              \n",
      "BANNED (prompt_idx=23, type=slop_phrase, phrase='pale')                  \n",
      "Batch Generating:   0%|          | 0/40 [02:14<?, ?prompt/s, 134.0 tok/s]"
     ]
    },
    {
     "name": "stderr",
     "output_type": "stream",
     "text": [
      "2025-05-18 17:17:43,639 [ERROR] [core.sampler        ]: Back-track: no valid next-token candidates survived even after relaxation.\n"
     ]
    },
    {
     "name": "stdout",
     "output_type": "stream",
     "text": [
      "BANNED (prompt_idx=5, type=slop_phrase, phrase='meticulously')           \n",
      "BANNED (prompt_idx=31, type=slop_phrase, phrase='air grew colder')       \n",
      "BANNED (prompt_idx=32, type=slop_phrase, phrase='terrifying')            \n",
      "BANNED (prompt_idx=12, type=slop_phrase, phrase='shifting')              \n",
      "BANNED (prompt_idx=37, type=slop_phrase, phrase='chaotic')               \n",
      "BANNED (prompt_idx=24, type=slop_phrase, phrase='curiosity')             \n",
      "BANNED (prompt_idx=13, type=slop_phrase, phrase='rhythm')                \n",
      "BANNED (prompt_idx=20, type=slop_phrase, phrase='scent')                 \n",
      "BANNED (prompt_idx=11, type=slop_phrase, phrase='echo')                  \n",
      "BANNED (prompt_idx=10, type=slop_phrase, phrase='elias')                 \n",
      "Batch Generating:   0%|          | 0/40 [02:15<?, ?prompt/s, 133.4 tok/s]"
     ]
    },
    {
     "name": "stderr",
     "output_type": "stream",
     "text": [
      "2025-05-18 17:17:44,827 [ERROR] [core.sampler        ]: Back-track: no valid next-token candidates survived even after relaxation.\n"
     ]
    },
    {
     "name": "stdout",
     "output_type": "stream",
     "text": [
      "BANNED (prompt_idx=26, type=slop_phrase, phrase='whisper')               \n",
      "BANNED (prompt_idx=6, type=slop_phrase, phrase='frantic')                \n",
      "BANNED (prompt_idx=18, type=slop_phrase, phrase='brow')                  \n",
      "BANNED (prompt_idx=15, type=ngram, ngram='eyes fixed')                   \n",
      "BANNED (prompt_idx=34, type=slop_phrase, phrase='subtle')                \n",
      "BANNED (prompt_idx=3, type=slop_phrase, phrase='faint')                  \n",
      "BANNED (prompt_idx=4, type=slop_phrase, phrase='silas')                  \n",
      "Batch Generating:   0%|          | 0/40 [02:16<?, ?prompt/s, 120.3 tok/s]"
     ]
    },
    {
     "name": "stderr",
     "output_type": "stream",
     "text": [
      "2025-05-18 17:17:46,009 [ERROR] [core.sampler        ]: Back-track: no valid next-token candidates survived even after relaxation.\n"
     ]
    },
    {
     "name": "stdout",
     "output_type": "stream",
     "text": [
      "BANNED (prompt_idx=25, type=slop_phrase, phrase='hesitated')             \n",
      "BANNED (prompt_idx=14, type=regex, regex='\\bnot\\s+(?:just|only|merely)?\\s*(?:[^\\s]+\\s*){1,6}?[,;:—–-]?\\s*but\\s+(?:also\\s+)?', match='not through daring speculation, but ')\n",
      "BANNED (prompt_idx=2, type=slop_phrase, phrase='fabric')                 \n",
      "BANNED (prompt_idx=22, type=slop_phrase, phrase='faded')                 \n",
      "BANNED (prompt_idx=8, type=slop_phrase, phrase='profound')               \n",
      "BANNED (prompt_idx=23, type=slop_phrase, phrase='young man named')       \n",
      "BANNED (prompt_idx=9, type=slop_phrase, phrase='chaotic')                \n",
      "BANNED (prompt_idx=5, type=slop_phrase, phrase='subtle')                 \n",
      "BANNED (prompt_idx=39, type=slop_phrase, phrase='shifted')               \n",
      "Batch Generating:   0%|          | 0/40 [02:18<?, ?prompt/s, 139.2 tok/s]"
     ]
    },
    {
     "name": "stderr",
     "output_type": "stream",
     "text": [
      "2025-05-18 17:17:47,526 [ERROR] [core.sampler        ]: Back-track: no valid next-token candidates survived even after relaxation.\n"
     ]
    },
    {
     "name": "stdout",
     "output_type": "stream",
     "text": [
      "BANNED (prompt_idx=24, type=slop_phrase, phrase='curiosity')             \n",
      "BANNED (prompt_idx=10, type=slop_phrase, phrase='profound')              \n",
      "BANNED (prompt_idx=30, type=slop_phrase, phrase='newfound')              \n",
      "BANNED (prompt_idx=11, type=slop_phrase, phrase='void')                  \n",
      "BANNED (prompt_idx=16, type=slop_phrase, phrase='chuckled')              \n",
      "BANNED (prompt_idx=20, type=slop_phrase, phrase='warmth')                \n",
      "BANNED (prompt_idx=21, type=slop_phrase, phrase='unwavering')            \n",
      "BANNED (prompt_idx=37, type=slop_phrase, phrase='chilling')              \n",
      "BANNED (prompt_idx=13, type=slop_phrase, phrase='rhythm')                \n",
      "BANNED (prompt_idx=35, type=slop_phrase, phrase='hint')                  \n",
      "Batch Generating:   0%|          | 0/40 [02:19<?, ?prompt/s, 129.6 tok/s]"
     ]
    },
    {
     "name": "stderr",
     "output_type": "stream",
     "text": [
      "2025-05-18 17:17:48,456 [ERROR] [core.sampler        ]: Back-track: no valid next-token candidates survived even after relaxation.\n",
      "2025-05-18 17:17:48,628 [ERROR] [core.sampler        ]: Back-track: no valid next-token candidates survived even after relaxation.\n"
     ]
    },
    {
     "name": "stdout",
     "output_type": "stream",
     "text": [
      "BANNED (prompt_idx=4, type=slop_phrase, phrase='murmured')               \n",
      "BANNED (prompt_idx=33, type=ngram, ngram='voice low')                    \n",
      "BANNED (prompt_idx=3, type=slop_phrase, phrase='leaned')                 \n",
      "BANNED (prompt_idx=26, type=slop_phrase, phrase='shaking')               \n",
      "BANNED (prompt_idx=0, type=slop_phrase, phrase='intricate')              \n",
      "BANNED (prompt_idx=18, type=slop_phrase, phrase='brow')                  \n",
      "BANNED (prompt_idx=25, type=slop_phrase, phrase='void')                  \n",
      "BANNED (prompt_idx=12, type=slop_phrase, phrase='gently')                \n",
      "BANNED (prompt_idx=2, type=slop_phrase, phrase='fabric')                 \n",
      "BANNED (prompt_idx=23, type=slop_phrase, phrase='silas')                 \n",
      "BANNED (prompt_idx=34, type=slop_phrase, phrase='faint')                 \n",
      "BANNED (prompt_idx=29, type=slop_phrase, phrase='froze')                 \n",
      "Batch Generating:   0%|          | 0/40 [02:21<?, ?prompt/s, 126.1 tok/s]"
     ]
    },
    {
     "name": "stderr",
     "output_type": "stream",
     "text": [
      "2025-05-18 17:17:50,732 [ERROR] [core.sampler        ]: Back-track: no valid next-token candidates survived even after relaxation.\n",
      "2025-05-18 17:17:50,902 [ERROR] [core.sampler        ]: Back-track: no valid next-token candidates survived even after relaxation.\n"
     ]
    },
    {
     "name": "stdout",
     "output_type": "stream",
     "text": [
      "BANNED (prompt_idx=10, type=slop_phrase, phrase='elias')                 \n",
      "BANNED (prompt_idx=6, type=ngram, ngram='eyes wide')                     \n",
      "BANNED (prompt_idx=24, type=slop_phrase, phrase='curiosity')             \n",
      "BANNED (prompt_idx=4, type=slop_phrase, phrase='silas')                  \n",
      "BANNED (prompt_idx=11, type=slop_phrase, phrase='hollow')                \n",
      "BANNED (prompt_idx=3, type=slop_phrase, phrase='faint')                  \n",
      "BANNED (prompt_idx=9, type=slop_phrase, phrase='terrifying')             \n",
      "BANNED (prompt_idx=39, type=slop_phrase, phrase='shifted')               \n",
      "BANNED (prompt_idx=27, type=ngram, ngram='carefully constructed')        \n",
      "BANNED (prompt_idx=20, type=slop_phrase, phrase='glow')                  \n",
      "BANNED (prompt_idx=35, type=slop_phrase, phrase='terrifying')            \n",
      "Batch Generating:   0%|          | 0/40 [02:22<?, ?prompt/s, 142.7 tok/s]"
     ]
    },
    {
     "name": "stderr",
     "output_type": "stream",
     "text": [
      "2025-05-18 17:17:51,311 [ERROR] [core.sampler        ]: Back-track: no valid next-token candidates survived even after relaxation.\n"
     ]
    },
    {
     "name": "stdout",
     "output_type": "stream",
     "text": [
      "BANNED (prompt_idx=26, type=slop_phrase, phrase='spreading across his face')\n",
      "BANNED (prompt_idx=37, type=slop_phrase, phrase='despair')               \n",
      "BANNED (prompt_idx=30, type=slop_phrase, phrase='newfound')              \n",
      "BANNED (prompt_idx=28, type=slop_phrase, phrase='demon')                 \n",
      "BANNED (prompt_idx=13, type=slop_phrase, phrase='rhythm')                \n",
      "BANNED (prompt_idx=0, type=slop_phrase, phrase='frantic')                \n",
      "BANNED (prompt_idx=18, type=slop_phrase, phrase='brow')                  \n",
      "BANNED (prompt_idx=22, type=slop_phrase, phrase='utterly')               \n",
      "BANNED (prompt_idx=21, type=slop_phrase, phrase='relentless')            \n",
      "BANNED (prompt_idx=2, type=slop_phrase, phrase='fabric')                 \n",
      "BANNED (prompt_idx=8, type=slop_phrase, phrase='said, his voice barely') \n",
      "BANNED (prompt_idx=32, type=slop_phrase, phrase='meticulously')          \n",
      "BANNED (prompt_idx=23, type=slop_phrase, phrase='nodded')                \n",
      "Batch Generating:   0%|          | 0/40 [02:23<?, ?prompt/s, 113.1 tok/s]"
     ]
    },
    {
     "name": "stderr",
     "output_type": "stream",
     "text": [
      "2025-05-18 17:17:53,261 [ERROR] [core.sampler        ]: Back-track: no valid next-token candidates survived even after relaxation.\n",
      "2025-05-18 17:17:53,311 [ERROR] [core.sampler        ]: Back-track: no valid next-token candidates survived even after relaxation.\n"
     ]
    },
    {
     "name": "stdout",
     "output_type": "stream",
     "text": [
      "BANNED (prompt_idx=4, type=slop_phrase, phrase='murmured')               \n",
      "BANNED (prompt_idx=6, type=slop_phrase, phrase='whisper')                \n",
      "BANNED (prompt_idx=3, type=slop_phrase, phrase='faint')                  \n",
      "BANNED (prompt_idx=19, type=slop_phrase, phrase='paused')                \n",
      "BANNED (prompt_idx=10, type=slop_phrase, phrase='unsettling')            \n",
      "BANNED (prompt_idx=24, type=slop_phrase, phrase='curiosity')             \n",
      "BANNED (prompt_idx=11, type=slop_phrase, phrase='void')                  \n",
      "BANNED (prompt_idx=34, type=slop_phrase, phrase='shimmering')            \n",
      "BANNED (prompt_idx=33, type=slop_phrase, phrase='profound')              \n",
      "BANNED (prompt_idx=20, type=slop_phrase, phrase='sigh')                  \n",
      "BANNED (prompt_idx=26, type=slop_phrase, phrase='shaking')               \n",
      "Batch Generating:   0%|          | 0/40 [02:25<?, ?prompt/s, 142.0 tok/s]"
     ]
    },
    {
     "name": "stderr",
     "output_type": "stream",
     "text": [
      "2025-05-18 17:17:54,800 [ERROR] [core.sampler        ]: Back-track: no valid next-token candidates survived even after relaxation.\n"
     ]
    },
    {
     "name": "stdout",
     "output_type": "stream",
     "text": [
      "BANNED (prompt_idx=7, type=slop_phrase, phrase='terrifying')             \n",
      "BANNED (prompt_idx=25, type=slop_phrase, phrase='lyra')                  \n",
      "BANNED (prompt_idx=9, type=slop_phrase, phrase='fragile')                \n",
      "BANNED (prompt_idx=39, type=slop_phrase, phrase='flicker')               \n",
      "Batch Generating:   0%|          | 0/40 [02:25<?, ?prompt/s, 117.7 tok/s]"
     ]
    },
    {
     "name": "stderr",
     "output_type": "stream",
     "text": [
      "2025-05-18 17:17:55,456 [ERROR] [core.sampler        ]: Back-track: no valid next-token candidates survived even after relaxation.\n"
     ]
    },
    {
     "name": "stdout",
     "output_type": "stream",
     "text": [
      "BANNED (prompt_idx=18, type=slop_phrase, phrase='brow')                  \n",
      "BANNED (prompt_idx=37, type=slop_phrase, phrase='desperation')           \n",
      "BANNED (prompt_idx=16, type=slop_phrase, phrase='mortal')                \n",
      "BANNED (prompt_idx=0, type=slop_phrase, phrase='intricate')              \n",
      "BANNED (prompt_idx=13, type=slop_phrase, phrase='rhythm')                \n",
      "BANNED (prompt_idx=4, type=slop_phrase, phrase='thorne')                 \n",
      "BANNED (prompt_idx=3, type=slop_phrase, phrase='unsettling')             \n",
      "BANNED (prompt_idx=6, type=slop_phrase, phrase='whisper')                \n",
      "BANNED (prompt_idx=2, type=slop_phrase, phrase='fabric')                 \n",
      "BANNED (prompt_idx=32, type=slop_phrase, phrase='fading')                \n",
      "BANNED (prompt_idx=8, type=slop_phrase, phrase='whisper')                \n",
      "BANNED (prompt_idx=31, type=slop_phrase, phrase='silas')                 \n",
      "BANNED (prompt_idx=28, type=slop_phrase, phrase='relentless')            \n",
      "BANNED (prompt_idx=10, type=slop_phrase, phrase='elias')                 \n",
      "Batch Generating:   0%|          | 0/40 [02:27<?, ?prompt/s, 119.6 tok/s]"
     ]
    },
    {
     "name": "stderr",
     "output_type": "stream",
     "text": [
      "2025-05-18 17:17:56,489 [ERROR] [core.sampler        ]: Back-track: no valid next-token candidates survived even after relaxation.\n"
     ]
    },
    {
     "name": "stdout",
     "output_type": "stream",
     "text": [
      "BANNED (prompt_idx=19, type=slop_phrase, phrase='stared')                \n",
      "BANNED (prompt_idx=11, type=slop_phrase, phrase='utterly')               \n",
      "BANNED (prompt_idx=33, type=ngram, ngram='stepped forward')              \n",
      "BANNED (prompt_idx=21, type=slop_phrase, phrase='unwavering')            \n",
      "BANNED (prompt_idx=17, type=slop_phrase, phrase='sigh')                  \n",
      "BANNED (prompt_idx=29, type=slop_phrase, phrase='stammered')             \n",
      "BANNED (prompt_idx=22, type=slop_phrase, phrase='frantic')               \n",
      "BANNED (prompt_idx=7, type=slop_phrase, phrase='shimmering')             \n",
      "BANNED (prompt_idx=4, type=slop_phrase, phrase='murmured')               \n",
      "BANNED (prompt_idx=3, type=slop_phrase, phrase='chaotic')                \n",
      "BANNED (prompt_idx=6, type=slop_phrase, phrase='voice barely a whisper') \n",
      "Batch Generating:   0%|          | 0/40 [02:29<?, ?prompt/s, 122.9 tok/s]"
     ]
    },
    {
     "name": "stderr",
     "output_type": "stream",
     "text": [
      "2025-05-18 17:17:58,379 [ERROR] [core.sampler        ]: Back-track: no valid next-token candidates survived even after relaxation.\n"
     ]
    },
    {
     "name": "stdout",
     "output_type": "stream",
     "text": [
      "BANNED (prompt_idx=34, type=slop_phrase, phrase='shimmering')            \n",
      "BANNED (prompt_idx=5, type=slop_phrase, phrase='terrifying')             \n",
      "Batch Generating:   0%|          | 0/40 [02:29<?, ?prompt/s, 129.0 tok/s]"
     ]
    },
    {
     "name": "stderr",
     "output_type": "stream",
     "text": [
      "2025-05-18 17:17:58,862 [ERROR] [core.sampler        ]: Back-track: no valid next-token candidates survived even after relaxation.\n"
     ]
    },
    {
     "name": "stdout",
     "output_type": "stream",
     "text": [
      "BANNED (prompt_idx=18, type=slop_phrase, phrase='brow')                  \n",
      "BANNED (prompt_idx=9, type=slop_phrase, phrase='terrifying')             \n",
      "BANNED (prompt_idx=39, type=slop_phrase, phrase='shifted')               \n",
      "BANNED (prompt_idx=37, type=ngram, ngram='asked voice')                  \n",
      "BANNED (prompt_idx=2, type=slop_phrase, phrase='fabric')                 \n",
      "Batch Generating:   0%|          | 0/40 [02:29<?, ?prompt/s, 130.4 tok/s]"
     ]
    },
    {
     "name": "stderr",
     "output_type": "stream",
     "text": [
      "2025-05-18 17:17:59,110 [ERROR] [core.sampler        ]: Back-track: no valid next-token candidates survived even after relaxation.\n"
     ]
    },
    {
     "name": "stdout",
     "output_type": "stream",
     "text": [
      "BANNED (prompt_idx=23, type=regex, regex='\\bnot\\s+(?:just|only|merely)?\\s*(?:[^\\s]+\\s*){1,6}?[,;:—–-]?\\s*but\\s+(?:also\\s+)?', match='Not by Elias, not yet. But ')\n",
      "BANNED (prompt_idx=32, type=slop_phrase, phrase='faded')                 \n",
      "BANNED (prompt_idx=16, type=slop_phrase, phrase='sigh')                  \n",
      "BANNED (prompt_idx=8, type=slop_phrase, phrase='said, his voice barely') \n",
      "BANNED (prompt_idx=31, type=slop_phrase, phrase='silas')                 \n",
      "BANNED (prompt_idx=10, type=ngram, ngram='carefully constructed')        \n",
      "BANNED (prompt_idx=13, type=slop_phrase, phrase='echo')                  \n",
      "BANNED (prompt_idx=24, type=slop_phrase, phrase='said, her voice low')   \n",
      "BANNED (prompt_idx=30, type=ngram, ngram='let go')                       \n",
      "BANNED (prompt_idx=33, type=ngram, ngram='stepped forward')              \n",
      "BANNED (prompt_idx=11, type=slop_phrase, phrase='terrifying')            \n",
      "BANNED (prompt_idx=4, type=slop_phrase, phrase='silas')                  \n",
      "BANNED (prompt_idx=17, type=slop_phrase, phrase='brow')                  \n",
      "BANNED (prompt_idx=3, type=slop_phrase, phrase='unsettling')             \n",
      "BANNED (prompt_idx=15, type=slop_phrase, phrase='shifted')               \n",
      "BANNED (prompt_idx=6, type=ngram, ngram='eyes wide')                     \n",
      "BANNED (prompt_idx=25, type=slop_phrase, phrase='pulse')                 \n",
      "BANNED (prompt_idx=26, type=slop_phrase, phrase='fragile')               \n",
      "BANNED (prompt_idx=29, type=slop_phrase, phrase='hollow')                \n",
      "BANNED (prompt_idx=1, type=slop_phrase, phrase='whisper')                \n",
      "BANNED (prompt_idx=7, type=slop_phrase, phrase='tapestry')               \n",
      "BANNED (prompt_idx=21, type=slop_phrase, phrase='utterly')               \n",
      "Batch Generating:   0%|          | 0/40 [02:32<?, ?prompt/s, 114.1 tok/s]"
     ]
    },
    {
     "name": "stderr",
     "output_type": "stream",
     "text": [
      "2025-05-18 17:18:02,369 [ERROR] [core.sampler        ]: Back-track: no valid next-token candidates survived even after relaxation.\n"
     ]
    },
    {
     "name": "stdout",
     "output_type": "stream",
     "text": [
      "BANNED (prompt_idx=18, type=slop_phrase, phrase='brow')                  \n",
      "BANNED (prompt_idx=2, type=slop_phrase, phrase='fabric')                 \n",
      "BANNED (prompt_idx=5, type=slop_phrase, phrase='imagined')               \n",
      "BANNED (prompt_idx=32, type=slop_phrase, phrase='faint')                 \n",
      "BANNED (prompt_idx=8, type=slop_phrase, phrase='voice barely audible')   \n",
      "BANNED (prompt_idx=34, type=slop_phrase, phrase='scent')                 \n",
      "BANNED (prompt_idx=37, type=slop_phrase, phrase='whisper')               \n",
      "BANNED (prompt_idx=39, type=slop_phrase, phrase='shifted')               \n",
      "Batch Generating:   0%|          | 0/40 [02:33<?, ?prompt/s, 109.1 tok/s]"
     ]
    },
    {
     "name": "stderr",
     "output_type": "stream",
     "text": [
      "2025-05-18 17:18:03,058 [ERROR] [core.sampler        ]: Back-track: no valid next-token candidates survived even after relaxation.\n"
     ]
    },
    {
     "name": "stdout",
     "output_type": "stream",
     "text": [
      "BANNED (prompt_idx=9, type=slop_phrase, phrase='fragile')                \n",
      "BANNED (prompt_idx=4, type=slop_phrase, phrase='murmured')               \n",
      "BANNED (prompt_idx=19, type=slop_phrase, phrase='smiled')                \n",
      "Batch Generating:   0%|          | 0/40 [02:34<?, ?prompt/s, 131.0 tok/s]"
     ]
    },
    {
     "name": "stderr",
     "output_type": "stream",
     "text": [
      "2025-05-18 17:18:03,388 [ERROR] [core.sampler        ]: Back-track: no valid next-token candidates survived even after relaxation.\n"
     ]
    },
    {
     "name": "stdout",
     "output_type": "stream",
     "text": [
      "BANNED (prompt_idx=3, type=slop_phrase, phrase='dread')                  \n",
      "BANNED (prompt_idx=11, type=slop_phrase, phrase='profound')              \n",
      "BANNED (prompt_idx=6, type=slop_phrase, phrase='voice barely a whisper') \n",
      "BANNED (prompt_idx=30, type=slop_phrase, phrase='smiled')                \n",
      "BANNED (prompt_idx=25, type=slop_phrase, phrase='sensation')             \n",
      "BANNED (prompt_idx=20, type=ngram, ngram='felt like')                    \n",
      "BANNED (prompt_idx=15, type=slop_phrase, phrase='blinked')               \n",
      "BANNED (prompt_idx=7, type=slop_phrase, phrase='rain continued to fall') \n",
      "BANNED (prompt_idx=2, type=slop_phrase, phrase='fabric')                 \n",
      "BANNED (prompt_idx=29, type=slop_phrase, phrase='utterly')               \n",
      "BANNED (prompt_idx=32, type=slop_phrase, phrase='flicker')               \n",
      "BANNED (prompt_idx=18, type=slop_phrase, phrase='chuckled')              \n",
      "BANNED (prompt_idx=8, type=slop_phrase, phrase='gaze')                   \n",
      "BANNED (prompt_idx=1, type=slop_phrase, phrase='murmured')               \n",
      "BANNED (prompt_idx=4, type=slop_phrase, phrase='thorne')                 \n",
      "BANNED (prompt_idx=3, type=slop_phrase, phrase='pale')                   \n",
      "BANNED (prompt_idx=0, type=slop_phrase, phrase='desperation')            \n",
      "BANNED (prompt_idx=5, type=slop_phrase, phrase='imagined')               \n",
      "BANNED (prompt_idx=31, type=slop_phrase, phrase='chilling')              \n",
      "BANNED (prompt_idx=6, type=slop_phrase, phrase='whisper')                \n",
      "BANNED (prompt_idx=37, type=ngram, ngram='asked voice')                  \n",
      "BANNED (prompt_idx=11, type=slop_phrase, phrase='terrifying')            \n",
      "BANNED (prompt_idx=39, type=ngram, ngram='almost imperceptible')         \n",
      "BANNED (prompt_idx=19, type=slop_phrase, phrase='subtle')                \n",
      "BANNED (prompt_idx=16, type=slop_phrase, phrase='echo')                  \n",
      "BANNED (prompt_idx=22, type=slop_phrase, phrase='shook')                 \n",
      "BANNED (prompt_idx=13, type=ngram, ngram='carefully constructed')        \n",
      "BANNED (prompt_idx=34, type=slop_phrase, phrase='shimmering')            \n",
      "BANNED (prompt_idx=25, type=slop_phrase, phrase='flicker')               \n",
      "BANNED (prompt_idx=2, type=slop_phrase, phrase='fabric')                 \n",
      "BANNED (prompt_idx=7, type=regex, regex='\\bnot\\s+(?:just|only|merely)?\\s*(?:[^\\s]+\\s*){1,6}?[,;:—–-]?\\s*but\\s+(?:also\\s+)?', match='not just around me, but ')\n",
      "BANNED (prompt_idx=4, type=slop_phrase, phrase='murmured')               \n",
      "Batch Generating:   0%|          | 0/40 [02:39<?, ?prompt/s, 117.8 tok/s]"
     ]
    },
    {
     "name": "stderr",
     "output_type": "stream",
     "text": [
      "2025-05-18 17:18:08,689 [ERROR] [core.sampler        ]: Back-track: no valid next-token candidates survived even after relaxation.\n"
     ]
    },
    {
     "name": "stdout",
     "output_type": "stream",
     "text": [
      "BANNED (prompt_idx=3, type=slop_phrase, phrase='swirling')               \n",
      "BANNED (prompt_idx=8, type=slop_phrase, phrase='voice barely audible')   \n",
      "Batch Generating:   0%|          | 0/40 [02:39<?, ?prompt/s, 121.9 tok/s]"
     ]
    },
    {
     "name": "stderr",
     "output_type": "stream",
     "text": [
      "2025-05-18 17:18:08,940 [ERROR] [core.sampler        ]: Back-track: no valid next-token candidates survived even after relaxation.\n",
      "2025-05-18 17:18:09,126 [ERROR] [core.sampler        ]: Back-track: no valid next-token candidates survived even after relaxation.\n"
     ]
    },
    {
     "name": "stdout",
     "output_type": "stream",
     "text": [
      "BANNED (prompt_idx=15, type=slop_phrase, phrase='stared')                \n",
      "BANNED (prompt_idx=27, type=slop_phrase, phrase='overwhelming')          \n",
      "BANNED (prompt_idx=18, type=slop_phrase, phrase='brow')                  \n",
      "BANNED (prompt_idx=23, type=slop_phrase, phrase='elias')                 \n",
      "BANNED (prompt_idx=0, type=slop_phrase, phrase='despair')                \n",
      "BANNED (prompt_idx=1, type=slop_phrase, phrase='whisper')                \n",
      "Batch Generating:   0%|          | 0/40 [02:40<?, ?prompt/s, 125.0 tok/s]"
     ]
    },
    {
     "name": "stderr",
     "output_type": "stream",
     "text": [
      "2025-05-18 17:18:10,420 [ERROR] [core.sampler        ]: Back-track: no valid next-token candidates survived even after relaxation.\n"
     ]
    },
    {
     "name": "stdout",
     "output_type": "stream",
     "text": [
      "BANNED (prompt_idx=37, type=ngram, ngram='said voice')                   \n",
      "BANNED (prompt_idx=25, type=slop_phrase, phrase='blinked')               \n",
      "BANNED (prompt_idx=16, type=ngram, ngram='strange sense')                \n",
      "BANNED (prompt_idx=39, type=slop_phrase, phrase='shifted')               \n",
      "Batch Generating:   0%|          | 0/40 [02:41<?, ?prompt/s, 147.5 tok/s]"
     ]
    },
    {
     "name": "stderr",
     "output_type": "stream",
     "text": [
      "2025-05-18 17:18:10,943 [ERROR] [core.sampler        ]: Back-track: no valid next-token candidates survived even after relaxation.\n"
     ]
    },
    {
     "name": "stdout",
     "output_type": "stream",
     "text": [
      "BANNED (prompt_idx=36, type=slop_phrase, phrase='unsettling')            \n",
      "BANNED (prompt_idx=4, type=slop_phrase, phrase='unease')                 \n",
      "BANNED (prompt_idx=20, type=slop_phrase, phrase='raced')                 \n",
      "BANNED (prompt_idx=3, type=slop_phrase, phrase='stumbled')               \n",
      "BANNED (prompt_idx=2, type=slop_phrase, phrase='fabric')                 \n",
      "BANNED (prompt_idx=34, type=slop_phrase, phrase='shimmering')            \n",
      "BANNED (prompt_idx=10, type=slop_phrase, phrase='said, her voice soft')  \n",
      "BANNED (prompt_idx=7, type=slop_phrase, phrase='relentless')             \n",
      "BANNED (prompt_idx=17, type=ngram, ngram='carefully constructed')        \n",
      "BANNED (prompt_idx=8, type=slop_phrase, phrase='voice barely audible')   \n",
      "Batch Generating:   0%|          | 0/40 [02:42<?, ?prompt/s, 170.0 tok/s]"
     ]
    },
    {
     "name": "stderr",
     "output_type": "stream",
     "text": [
      "2025-05-18 17:18:12,187 [ERROR] [core.sampler        ]: Back-track: no valid next-token candidates survived even after relaxation.\n"
     ]
    },
    {
     "name": "stdout",
     "output_type": "stream",
     "text": [
      "BANNED (prompt_idx=18, type=slop_phrase, phrase='brow')                  \n",
      "Batch Generating:   0%|          | 0/40 [02:43<?, ?prompt/s, 159.1 tok/s]"
     ]
    },
    {
     "name": "stderr",
     "output_type": "stream",
     "text": [
      "2025-05-18 17:18:12,730 [ERROR] [core.sampler        ]: Back-track: no valid next-token candidates survived even after relaxation.\n"
     ]
    },
    {
     "name": "stdout",
     "output_type": "stream",
     "text": [
      "BANNED (prompt_idx=14, type=slop_phrase, phrase='meticulously')          \n",
      "BANNED (prompt_idx=23, type=slop_phrase, phrase='elias')                 \n",
      "BANNED (prompt_idx=15, type=slop_phrase, phrase='shifted')               \n",
      "BANNED (prompt_idx=29, type=slop_phrase, phrase='unwavering')            \n",
      "BANNED (prompt_idx=0, type=slop_phrase, phrase='desperation')            \n",
      "BANNED (prompt_idx=27, type=slop_phrase, phrase='desperation')           \n",
      "Batch Generating:   0%|          | 0/40 [02:44<?, ?prompt/s, 161.6 tok/s]"
     ]
    },
    {
     "name": "stderr",
     "output_type": "stream",
     "text": [
      "2025-05-18 17:18:13,425 [ERROR] [core.sampler        ]: Back-track: no valid next-token candidates survived even after relaxation.\n"
     ]
    },
    {
     "name": "stdout",
     "output_type": "stream",
     "text": [
      "BANNED (prompt_idx=1, type=slop_phrase, phrase='whisper')                \n",
      "BANNED (prompt_idx=4, type=slop_phrase, phrase='spine')                  \n",
      "BANNED (prompt_idx=5, type=slop_phrase, phrase='subtle')                 \n",
      "BANNED (prompt_idx=25, type=slop_phrase, phrase='flicker')               \n",
      "BANNED (prompt_idx=19, type=slop_phrase, phrase='void')                  \n",
      "BANNED (prompt_idx=35, type=ngram, ngram='could feel')                   \n",
      "BANNED (prompt_idx=6, type=slop_phrase, phrase='laced')                  \n",
      "BANNED (prompt_idx=16, type=slop_phrase, phrase='unsettling')            \n",
      "Batch Generating:   0%|          | 0/40 [02:45<?, ?prompt/s, 145.3 tok/s]"
     ]
    },
    {
     "name": "stderr",
     "output_type": "stream",
     "text": [
      "2025-05-18 17:18:14,999 [ERROR] [core.sampler        ]: Back-track: no valid next-token candidates survived even after relaxation.\n"
     ]
    },
    {
     "name": "stdout",
     "output_type": "stream",
     "text": [
      "BANNED (prompt_idx=39, type=slop_phrase, phrase='shifted')               \n",
      "BANNED (prompt_idx=32, type=slop_phrase, phrase='unsettling')            \n",
      "BANNED (prompt_idx=38, type=slop_phrase, phrase='realization')           \n",
      "Batch Generating:   0%|          | 0/40 [02:46<?, ?prompt/s, 163.5 tok/s]"
     ]
    },
    {
     "name": "stderr",
     "output_type": "stream",
     "text": [
      "2025-05-18 17:18:15,555 [ERROR] [core.sampler        ]: Back-track: no valid next-token candidates survived even after relaxation.\n"
     ]
    },
    {
     "name": "stdout",
     "output_type": "stream",
     "text": [
      "BANNED (prompt_idx=8, type=slop_phrase, phrase='voice barely audible')   \n",
      "BANNED (prompt_idx=7, type=slop_phrase, phrase='rhythm')                 \n",
      "BANNED (prompt_idx=17, type=slop_phrase, phrase='amusement')             \n",
      "BANNED (prompt_idx=24, type=slop_phrase, phrase='said, her voice barely')\n",
      "BANNED (prompt_idx=34, type=slop_phrase, phrase='pulse')                 \n",
      "BANNED (prompt_idx=18, type=slop_phrase, phrase='nodded')                \n",
      "BANNED (prompt_idx=23, type=slop_phrase, phrase='elias')                 \n",
      "BANNED (prompt_idx=4, type=slop_phrase, phrase='sigh')                   \n",
      "BANNED (prompt_idx=0, type=slop_phrase, phrase='desperation')            \n",
      "Batch Generating:   0%|          | 0/40 [02:47<?, ?prompt/s, 141.3 tok/s]"
     ]
    },
    {
     "name": "stderr",
     "output_type": "stream",
     "text": [
      "2025-05-18 17:18:16,985 [ERROR] [core.sampler        ]: Back-track: no valid next-token candidates survived even after relaxation.\n"
     ]
    },
    {
     "name": "stdout",
     "output_type": "stream",
     "text": [
      "BANNED (prompt_idx=3, type=slop_phrase, phrase='faint')                  \n",
      "BANNED (prompt_idx=15, type=slop_phrase, phrase='surge')                 \n",
      "BANNED (prompt_idx=6, type=slop_phrase, phrase='utterly')                \n",
      "BANNED (prompt_idx=26, type=slop_phrase, phrase='eyes wide with a mixture')\n",
      "BANNED (prompt_idx=19, type=slop_phrase, phrase='warmth')                \n",
      "BANNED (prompt_idx=27, type=slop_phrase, phrase='despair')               \n",
      "BANNED (prompt_idx=5, type=slop_phrase, phrase='flicker')                \n",
      "BANNED (prompt_idx=35, type=regex, regex='\\bnot\\s+(?:just|only|merely)?\\s*(?:[^\\s]+\\s*){1,6}?[,;:—–-]?\\s*but\\s+(?:also\\s+)?', match='Not painful, of course, but ')\n",
      "BANNED (prompt_idx=10, type=slop_phrase, phrase='pressing')              \n",
      "BANNED (prompt_idx=20, type=slop_phrase, phrase='profound')              \n",
      "BANNED (prompt_idx=8, type=ngram, ngram='voice barely')                  \n",
      "Batch Generating:   0%|          | 0/40 [02:49<?, ?prompt/s, 149.1 tok/s]"
     ]
    },
    {
     "name": "stderr",
     "output_type": "stream",
     "text": [
      "2025-05-18 17:18:18,844 [ERROR] [core.sampler        ]: Back-track: no valid next-token candidates survived even after relaxation.\n"
     ]
    },
    {
     "name": "stdout",
     "output_type": "stream",
     "text": [
      "BANNED (prompt_idx=16, type=slop_phrase, phrase='flicker')               \n",
      "BANNED (prompt_idx=39, type=slop_phrase, phrase='flicker')               \n",
      "BANNED (prompt_idx=4, type=slop_phrase, phrase='profound')               \n",
      "BANNED (prompt_idx=7, type=slop_phrase, phrase='profound')               \n",
      "BANNED (prompt_idx=38, type=slop_phrase, phrase='terrifying')            \n",
      "BANNED (prompt_idx=24, type=slop_phrase, phrase='murmured')                         \n",
      "BANNED (prompt_idx=3, type=slop_phrase, phrase='echo')                              \n",
      "BANNED (prompt_idx=18, type=slop_phrase, phrase='brow')                             \n",
      "BANNED (prompt_idx=11, type=slop_phrase, phrase='knew, with a chilling certainty')  \n",
      "Batch Generating:   2%|▎         | 1/40 [02:50<1:50:37, 170.19s/prompt, 143.6 tok/s]"
     ]
    },
    {
     "name": "stderr",
     "output_type": "stream",
     "text": [
      "2025-05-18 17:18:19,858 [ERROR] [core.sampler        ]: Back-track: no valid next-token candidates survived even after relaxation.\n"
     ]
    },
    {
     "name": "stdout",
     "output_type": "stream",
     "text": [
      "BANNED (prompt_idx=31, type=slop_phrase, phrase='muttered')                         \n",
      "BANNED (prompt_idx=6, type=ngram, ngram='felt like')                                \n",
      "BANNED (prompt_idx=0, type=slop_phrase, phrase='desperation')                       \n",
      "Batch Generating:   2%|▎         | 1/40 [02:51<1:50:37, 170.19s/prompt, 124.2 tok/s]"
     ]
    },
    {
     "name": "stderr",
     "output_type": "stream",
     "text": [
      "2025-05-18 17:18:20,575 [ERROR] [core.sampler        ]: Back-track: no valid next-token candidates survived even after relaxation.\n"
     ]
    },
    {
     "name": "stdout",
     "output_type": "stream",
     "text": [
      "BANNED (prompt_idx=25, type=slop_phrase, phrase='lyra')                             \n",
      "BANNED (prompt_idx=34, type=slop_phrase, phrase='rhythm')                           \n",
      "BANNED (prompt_idx=29, type=slop_phrase, phrase='realization')                      \n",
      "BANNED (prompt_idx=15, type=ngram, ngram='something akin')                          \n",
      "BANNED (prompt_idx=26, type=slop_phrase, phrase='eyes wide with a mixture')         \n",
      "BANNED (prompt_idx=35, type=slop_phrase, phrase='elias')                            \n",
      "BANNED (prompt_idx=2, type=slop_phrase, phrase='fabric')                            \n",
      "BANNED (prompt_idx=5, type=slop_phrase, phrase='flicker')                           \n",
      "BANNED (prompt_idx=1, type=slop_phrase, phrase='unwavering')                        \n",
      "BANNED (prompt_idx=8, type=slop_phrase, phrase='hesitated')                         \n",
      "BANNED (prompt_idx=37, type=slop_phrase, phrase='laced')                            \n",
      "BANNED (prompt_idx=20, type=slop_phrase, phrase='vibrant')                          \n",
      "BANNED (prompt_idx=3, type=regex, regex='\\bnot\\s+(?:just|only|merely)?\\s*(?:[^\\s]+\\s*){1,6}?[,;:—–-]?\\s*but\\s+(?:also\\s+)?', match='not spoken aloud, but ')\n",
      "BANNED (prompt_idx=27, type=slop_phrase, phrase='desperation')                      \n",
      "Batch Generating:   2%|▎         | 1/40 [02:53<1:50:37, 170.19s/prompt, 121.4 tok/s]"
     ]
    },
    {
     "name": "stderr",
     "output_type": "stream",
     "text": [
      "2025-05-18 17:18:22,473 [ERROR] [core.sampler        ]: Back-track: no valid next-token candidates survived even after relaxation.\n"
     ]
    },
    {
     "name": "stdout",
     "output_type": "stream",
     "text": [
      "BANNED (prompt_idx=24, type=slop_phrase, phrase='said, her voice barely')           \n",
      "BANNED (prompt_idx=7, type=slop_phrase, phrase='unsettling')                        \n",
      "BANNED (prompt_idx=39, type=slop_phrase, phrase='shifted')                          \n",
      "Batch Generating:   2%|▎         | 1/40 [02:53<1:50:37, 170.19s/prompt, 118.7 tok/s]"
     ]
    },
    {
     "name": "stderr",
     "output_type": "stream",
     "text": [
      "2025-05-18 17:18:22,984 [ERROR] [core.sampler        ]: Back-track: no valid next-token candidates survived even after relaxation.\n"
     ]
    },
    {
     "name": "stdout",
     "output_type": "stream",
     "text": [
      "BANNED (prompt_idx=38, type=slop_phrase, phrase='profound')                         \n",
      "BANNED (prompt_idx=36, type=slop_phrase, phrase='unsettling')                       \n",
      "BANNED (prompt_idx=18, type=slop_phrase, phrase='brow')                             \n",
      "Batch Generating:   2%|▎         | 1/40 [02:53<1:50:37, 170.19s/prompt, 129.3 tok/s]"
     ]
    },
    {
     "name": "stderr",
     "output_type": "stream",
     "text": [
      "2025-05-18 17:18:23,298 [ERROR] [core.sampler        ]: Back-track: no valid next-token candidates survived even after relaxation.\n"
     ]
    },
    {
     "name": "stdout",
     "output_type": "stream",
     "text": [
      "BANNED (prompt_idx=33, type=slop_phrase, phrase='overwhelming')                     \n",
      "BANNED (prompt_idx=12, type=slop_phrase, phrase='paused')                           \n",
      "BANNED (prompt_idx=31, type=slop_phrase, phrase='lena')                             \n",
      "BANNED (prompt_idx=0, type=slop_phrase, phrase='unwavering')                        \n",
      "BANNED (prompt_idx=4, type=slop_phrase, phrase='shimmered')                         \n",
      "BANNED (prompt_idx=3, type=slop_phrase, phrase='whisper')                           \n",
      "BANNED (prompt_idx=26, type=slop_phrase, phrase='gaze')                             \n",
      "BANNED (prompt_idx=35, type=slop_phrase, phrase='elias')                            \n",
      "BANNED (prompt_idx=29, type=slop_phrase, phrase='tasting like ash')                 \n",
      "BANNED (prompt_idx=8, type=slop_phrase, phrase='voice barely audible')              \n",
      "Batch Generating:   2%|▎         | 1/40 [02:56<1:50:37, 170.19s/prompt, 123.8 tok/s]"
     ]
    },
    {
     "name": "stderr",
     "output_type": "stream",
     "text": [
      "2025-05-18 17:18:25,510 [ERROR] [core.sampler        ]: Back-track: no valid next-token candidates survived even after relaxation.\n"
     ]
    },
    {
     "name": "stdout",
     "output_type": "stream",
     "text": [
      "BANNED (prompt_idx=20, type=slop_phrase, phrase='profound')                         \n",
      "BANNED (prompt_idx=5, type=slop_phrase, phrase='subtle')                            \n",
      "BANNED (prompt_idx=24, type=slop_phrase, phrase='whisper')                          \n",
      "BANNED (prompt_idx=6, type=slop_phrase, phrase='fabric')                            \n",
      "BANNED (prompt_idx=7, type=slop_phrase, phrase='curiosity')                         \n",
      "BANNED (prompt_idx=1, type=slop_phrase, phrase='flicker')                           \n",
      "Batch Generating:   2%|▎         | 1/40 [02:56<1:50:37, 170.19s/prompt, 127.5 tok/s]"
     ]
    },
    {
     "name": "stderr",
     "output_type": "stream",
     "text": [
      "2025-05-18 17:18:25,927 [ERROR] [core.sampler        ]: Back-track: no valid next-token candidates survived even after relaxation.\n"
     ]
    },
    {
     "name": "stdout",
     "output_type": "stream",
     "text": [
      "BANNED (prompt_idx=37, type=slop_phrase, phrase='void')                             \n",
      "BANNED (prompt_idx=22, type=slop_phrase, phrase='footsteps')                        \n",
      "BANNED (prompt_idx=16, type=slop_phrase, phrase='swirling')                         \n",
      "BANNED (prompt_idx=39, type=slop_phrase, phrase='shifted')                          \n",
      "Batch Generating:   2%|▎         | 1/40 [02:57<1:50:37, 170.19s/prompt, 116.3 tok/s]"
     ]
    },
    {
     "name": "stderr",
     "output_type": "stream",
     "text": [
      "2025-05-18 17:18:26,738 [ERROR] [core.sampler        ]: Back-track: no valid next-token candidates survived even after relaxation.\n",
      "2025-05-18 17:18:26,896 [ERROR] [core.sampler        ]: Back-track: no valid next-token candidates survived even after relaxation.\n"
     ]
    },
    {
     "name": "stdout",
     "output_type": "stream",
     "text": [
      "BANNED (prompt_idx=23, type=slop_phrase, phrase='utterly')                          \n",
      "BANNED (prompt_idx=27, type=slop_phrase, phrase='desperation')                      \n",
      "BANNED (prompt_idx=14, type=ngram, ngram='carefully constructed')                   \n",
      "BANNED (prompt_idx=31, type=slop_phrase, phrase='muttered')                         \n",
      "BANNED (prompt_idx=3, type=slop_phrase, phrase='rhythm')                            \n",
      "BANNED (prompt_idx=17, type=slop_phrase, phrase='clutching')                        \n",
      "BANNED (prompt_idx=10, type=slop_phrase, phrase='chilling')                         \n",
      "BANNED (prompt_idx=26, type=slop_phrase, phrase='eyes wide with a mixture')         \n",
      "BANNED (prompt_idx=12, type=slop_phrase, phrase='shifted')                          \n",
      "BANNED (prompt_idx=8, type=slop_phrase, phrase='took a deep breath')                \n",
      "BANNED (prompt_idx=6, type=slop_phrase, phrase='echo')                              \n",
      "BANNED (prompt_idx=20, type=slop_phrase, phrase='vibrant')                          \n",
      "BANNED (prompt_idx=29, type=slop_phrase, phrase='hollow')                           \n",
      "Batch Generating:   2%|▎         | 1/40 [02:59<1:50:37, 170.19s/prompt, 131.7 tok/s]"
     ]
    },
    {
     "name": "stderr",
     "output_type": "stream",
     "text": [
      "2025-05-18 17:18:29,173 [ERROR] [core.sampler        ]: Back-track: no valid next-token candidates survived even after relaxation.\n"
     ]
    },
    {
     "name": "stdout",
     "output_type": "stream",
     "text": [
      "BANNED (prompt_idx=24, type=slop_phrase, phrase='whisper')                          \n",
      "BANNED (prompt_idx=34, type=slop_phrase, phrase='revealing')                        \n",
      "BANNED (prompt_idx=7, type=slop_phrase, phrase='shifted')                           \n",
      "BANNED (prompt_idx=4, type=slop_phrase, phrase='whisper')                           \n",
      "BANNED (prompt_idx=5, type=slop_phrase, phrase='faint')                             \n",
      "BANNED (prompt_idx=37, type=slop_phrase, phrase='laced')                            \n",
      "BANNED (prompt_idx=22, type=slop_phrase, phrase='footsteps')                        \n",
      "BANNED (prompt_idx=11, type=slop_phrase, phrase='flicker')                          \n",
      "BANNED (prompt_idx=1, type=slop_phrase, phrase='nodded')                            \n",
      "BANNED (prompt_idx=23, type=slop_phrase, phrase='young woman named')                \n",
      "BANNED (prompt_idx=18, type=slop_phrase, phrase='glanced')                          \n",
      "BANNED (prompt_idx=39, type=slop_phrase, phrase='whisper')                          \n",
      "BANNED (prompt_idx=16, type=slop_phrase, phrase='shimmering')                       \n",
      "BANNED (prompt_idx=13, type=slop_phrase, phrase='warmth')                           \n",
      "BANNED (prompt_idx=31, type=slop_phrase, phrase='whisper')                          \n",
      "BANNED (prompt_idx=10, type=slop_phrase, phrase='profound')                         \n",
      "Batch Generating:   2%|▎         | 1/40 [03:01<1:50:37, 170.19s/prompt, 135.1 tok/s]"
     ]
    },
    {
     "name": "stderr",
     "output_type": "stream",
     "text": [
      "2025-05-18 17:18:31,228 [ERROR] [core.sampler        ]: Back-track: no valid next-token candidates survived even after relaxation.\n"
     ]
    },
    {
     "name": "stdout",
     "output_type": "stream",
     "text": [
      "BANNED (prompt_idx=32, type=slop_phrase, phrase='subtle')                           \n",
      "BANNED (prompt_idx=6, type=slop_phrase, phrase='flicker')                           \n",
      "BANNED (prompt_idx=26, type=slop_phrase, phrase='eyes wide with wonder')            \n",
      "Batch Generating:   2%|▎         | 1/40 [03:02<1:50:37, 170.19s/prompt, 132.7 tok/s]"
     ]
    },
    {
     "name": "stderr",
     "output_type": "stream",
     "text": [
      "2025-05-18 17:18:31,872 [ERROR] [core.sampler        ]: Back-track: no valid next-token candidates survived even after relaxation.\n"
     ]
    },
    {
     "name": "stdout",
     "output_type": "stream",
     "text": [
      "BANNED (prompt_idx=8, type=slop_phrase, phrase='voice barely audible')              \n",
      "BANNED (prompt_idx=2, type=slop_phrase, phrase='realization')                       \n",
      "BANNED (prompt_idx=4, type=regex, regex='\\bnot\\s+(?:just|only|merely)?\\s*(?:[^\\s]+\\s*){1,6}?[,;:—–-]?\\s*but\\s+(?:also\\s+)?', match='not with the familiar rush and whoosh, but ')\n",
      "BANNED (prompt_idx=20, type=slop_phrase, phrase='intricate')                        \n",
      "BANNED (prompt_idx=24, type=slop_phrase, phrase='whisper')                          \n",
      "Batch Generating:   2%|▎         | 1/40 [03:03<1:50:37, 170.19s/prompt, 118.3 tok/s]"
     ]
    },
    {
     "name": "stderr",
     "output_type": "stream",
     "text": [
      "2025-05-18 17:18:32,447 [ERROR] [core.sampler        ]: Back-track: no valid next-token candidates survived even after relaxation.\n"
     ]
    },
    {
     "name": "stdout",
     "output_type": "stream",
     "text": [
      "BANNED (prompt_idx=15, type=ngram, ngram='eyes narrowed')                           \n",
      "BANNED (prompt_idx=7, type=slop_phrase, phrase='flicker')                           \n",
      "BANNED (prompt_idx=12, type=slop_phrase, phrase='paused')                           \n",
      "BANNED (prompt_idx=5, type=slop_phrase, phrase='subtle')                            \n",
      "BANNED (prompt_idx=33, type=slop_phrase, phrase='took a step closer')               \n",
      "BANNED (prompt_idx=23, type=slop_phrase, phrase='lyra')                             \n",
      "BANNED (prompt_idx=18, type=slop_phrase, phrase='raced')                            \n",
      "BANNED (prompt_idx=25, type=slop_phrase, phrase='lyra')                             \n",
      "BANNED (prompt_idx=6, type=slop_phrase, phrase='flicker')                           \n",
      "BANNED (prompt_idx=10, type=slop_phrase, phrase='chilling')                         \n",
      "BANNED (prompt_idx=39, type=slop_phrase, phrase='shifted')                          \n",
      "Batch Generating:   2%|▎         | 1/40 [03:05<1:50:37, 170.19s/prompt, 123.4 tok/s]"
     ]
    },
    {
     "name": "stderr",
     "output_type": "stream",
     "text": [
      "2025-05-18 17:18:34,682 [ERROR] [core.sampler        ]: Back-track: no valid next-token candidates survived even after relaxation.\n",
      "2025-05-18 17:18:34,874 [ERROR] [core.sampler        ]: Back-track: no valid next-token candidates survived even after relaxation.\n"
     ]
    },
    {
     "name": "stdout",
     "output_type": "stream",
     "text": [
      "BANNED (prompt_idx=4, type=slop_phrase, phrase='scent')                             \n",
      "BANNED (prompt_idx=31, type=slop_phrase, phrase='whisper')                          \n",
      "BANNED (prompt_idx=0, type=slop_phrase, phrase='utterly')                           \n",
      "BANNED (prompt_idx=32, type=slop_phrase, phrase='felt a strange sense')             \n",
      "Batch Generating:   2%|▎         | 1/40 [03:05<1:50:37, 170.19s/prompt, 129.4 tok/s]"
     ]
    },
    {
     "name": "stderr",
     "output_type": "stream",
     "text": [
      "2025-05-18 17:18:35,117 [ERROR] [core.sampler        ]: Back-track: no valid next-token candidates survived even after relaxation.\n"
     ]
    },
    {
     "name": "stdout",
     "output_type": "stream",
     "text": [
      "BANNED (prompt_idx=8, type=slop_phrase, phrase='voice barely audible')              \n",
      "BANNED (prompt_idx=16, type=slop_phrase, phrase='shifting')                         \n",
      "BANNED (prompt_idx=26, type=slop_phrase, phrase='brow')                             \n",
      "BANNED (prompt_idx=13, type=slop_phrase, phrase='warmth')                           \n",
      "BANNED (prompt_idx=2, type=slop_phrase, phrase='dread')                             \n",
      "BANNED (prompt_idx=35, type=slop_phrase, phrase='gaze')                             \n",
      "BANNED (prompt_idx=20, type=regex, regex='\\bnot\\s+(?:just|only|merely)?\\s*(?:[^\\s]+\\s*){1,6}?[,;:—–-]?\\s*but\\s+(?:also\\s+)?', match='not have had a known history, but ')\n",
      "BANNED (prompt_idx=3, type=regex, regex='\\bnot\\s+(?:just|only|merely)?\\s*(?:[^\\s]+\\s*){1,6}?[,;:—–-]?\\s*but\\s+(?:also\\s+)?', match='not as clear, coherent images, but ')\n",
      "BANNED (prompt_idx=17, type=slop_phrase, phrase='surge')                            \n",
      "BANNED (prompt_idx=27, type=slop_phrase, phrase='shifting')                         \n",
      "BANNED (prompt_idx=7, type=ngram, ngram='voice barely audible')                     \n",
      "BANNED (prompt_idx=14, type=ngram, ngram='young woman')                             \n",
      "BANNED (prompt_idx=22, type=slop_phrase, phrase='pale')                             \n",
      "BANNED (prompt_idx=15, type=slop_phrase, phrase='gaze')                             \n",
      "BANNED (prompt_idx=33, type=ngram, ngram='stepped closer')                          \n",
      "BANNED (prompt_idx=4, type=slop_phrase, phrase='whisper')                           \n",
      "BANNED (prompt_idx=18, type=slop_phrase, phrase='took a deep breath')               \n",
      "BANNED (prompt_idx=6, type=ngram, ngram='casting long')                             \n",
      "BANNED (prompt_idx=28, type=slop_phrase, phrase='paused')                           \n",
      "Batch Generating:   2%|▎         | 1/40 [03:08<1:50:37, 170.19s/prompt, 111.0 tok/s]"
     ]
    },
    {
     "name": "stderr",
     "output_type": "stream",
     "text": [
      "2025-05-18 17:18:38,430 [ERROR] [core.sampler        ]: Back-track: no valid next-token candidates survived even after relaxation.\n",
      "2025-05-18 17:18:38,628 [ERROR] [core.sampler        ]: Back-track: no valid next-token candidates survived even after relaxation.\n"
     ]
    },
    {
     "name": "stdout",
     "output_type": "stream",
     "text": [
      "BANNED (prompt_idx=8, type=slop_phrase, phrase='hesitated')                         \n",
      "BANNED (prompt_idx=32, type=slop_phrase, phrase='unwavering')                       \n",
      "BANNED (prompt_idx=31, type=slop_phrase, phrase='whisper')                          \n",
      "BANNED (prompt_idx=39, type=ngram, ngram='voice laced')                             \n",
      "BANNED (prompt_idx=12, type=ngram, ngram='turned back')                             \n",
      "BANNED (prompt_idx=26, type=slop_phrase, phrase='eyes wide with a mixture')         \n",
      "Batch Generating:   2%|▎         | 1/40 [03:09<1:50:37, 170.19s/prompt, 125.3 tok/s]"
     ]
    },
    {
     "name": "stderr",
     "output_type": "stream",
     "text": [
      "2025-05-18 17:18:38,677 [ERROR] [core.sampler        ]: Back-track: no valid next-token candidates survived even after relaxation.\n",
      "2025-05-18 17:18:38,804 [ERROR] [core.sampler        ]: Back-track: no valid next-token candidates survived even after relaxation.\n"
     ]
    },
    {
     "name": "stdout",
     "output_type": "stream",
     "text": [
      "BANNED (prompt_idx=2, type=slop_phrase, phrase='realization')                       \n",
      "BANNED (prompt_idx=16, type=slop_phrase, phrase='swirling')                         \n",
      "BANNED (prompt_idx=4, type=slop_phrase, phrase='dread')                             \n",
      "BANNED (prompt_idx=7, type=ngram, ngram='almost imperceptible')                     \n",
      "BANNED (prompt_idx=19, type=slop_phrase, phrase='static')                           \n",
      "BANNED (prompt_idx=17, type=slop_phrase, phrase='profound')                         \n",
      "BANNED (prompt_idx=6, type=slop_phrase, phrase='air grew thick')                    \n",
      "BANNED (prompt_idx=27, type=slop_phrase, phrase='terrifying')                       \n",
      "BANNED (prompt_idx=18, type=slop_phrase, phrase='glanced')                          \n",
      "BANNED (prompt_idx=15, type=slop_phrase, phrase='narrowed')                         \n",
      "BANNED (prompt_idx=25, type=slop_phrase, phrase='stared')                           \n",
      "BANNED (prompt_idx=8, type=slop_phrase, phrase='stark')                             \n",
      "BANNED (prompt_idx=32, type=slop_phrase, phrase='warmth')                           \n",
      "BANNED (prompt_idx=26, type=slop_phrase, phrase='eyes wide with a mixture')         \n",
      "Batch Generating:   2%|▎         | 1/40 [03:12<1:50:37, 170.19s/prompt, 142.9 tok/s]"
     ]
    },
    {
     "name": "stderr",
     "output_type": "stream",
     "text": [
      "2025-05-18 17:18:42,178 [ERROR] [core.sampler        ]: Back-track: no valid next-token candidates survived even after relaxation.\n"
     ]
    },
    {
     "name": "stdout",
     "output_type": "stream",
     "text": [
      "Batch Generating:   2%|▎         | 1/40 [03:13<1:50:37, 170.19s/prompt, 143.5 tok/s]"
     ]
    },
    {
     "name": "stderr",
     "output_type": "stream",
     "text": [
      "2025-05-18 17:18:42,601 [ERROR] [core.sampler        ]: Back-track: no valid next-token candidates survived even after relaxation.\n"
     ]
    },
    {
     "name": "stdout",
     "output_type": "stream",
     "text": [
      "BANNED (prompt_idx=39, type=slop_phrase, phrase='shifted')                          \n",
      "BANNED (prompt_idx=31, type=slop_phrase, phrase='holographic')                      \n",
      "BANNED (prompt_idx=24, type=slop_phrase, phrase='pale')                             \n",
      "BANNED (prompt_idx=4, type=slop_phrase, phrase='unsettling')                        \n",
      "BANNED (prompt_idx=38, type=slop_phrase, phrase='laced')                            \n",
      "BANNED (prompt_idx=16, type=slop_phrase, phrase='relentless')                       \n",
      "BANNED (prompt_idx=6, type=slop_phrase, phrase='scent')                             \n",
      "BANNED (prompt_idx=7, type=slop_phrase, phrase='scent')                             \n",
      "BANNED (prompt_idx=19, type=slop_phrase, phrase='static')                           \n",
      "BANNED (prompt_idx=33, type=slop_phrase, phrase='took a step closer')               \n",
      "BANNED (prompt_idx=17, type=slop_phrase, phrase='subtle')                           \n",
      "BANNED (prompt_idx=18, type=slop_phrase, phrase='surge')                            \n",
      "BANNED (prompt_idx=32, type=slop_phrase, phrase='unwavering')                       \n",
      "BANNED (prompt_idx=26, type=slop_phrase, phrase='eyes wide with a mixture')         \n",
      "Batch Generating:   2%|▎         | 1/40 [03:16<1:50:37, 170.19s/prompt, 138.6 tok/s]"
     ]
    },
    {
     "name": "stderr",
     "output_type": "stream",
     "text": [
      "2025-05-18 17:18:45,817 [ERROR] [core.sampler        ]: Back-track: no valid next-token candidates survived even after relaxation.\n"
     ]
    },
    {
     "name": "stdout",
     "output_type": "stream",
     "text": [
      "BANNED (prompt_idx=37, type=slop_phrase, phrase='void')                             \n",
      "BANNED (prompt_idx=0, type=slop_phrase, phrase='echo')                              \n",
      "BANNED (prompt_idx=24, type=slop_phrase, phrase='pale')                             \n",
      "Batch Generating:   2%|▎         | 1/40 [03:17<1:50:37, 170.19s/prompt, 140.3 tok/s]"
     ]
    },
    {
     "name": "stderr",
     "output_type": "stream",
     "text": [
      "2025-05-18 17:18:46,614 [ERROR] [core.sampler        ]: Back-track: no valid next-token candidates survived even after relaxation.\n"
     ]
    },
    {
     "name": "stdout",
     "output_type": "stream",
     "text": [
      "BANNED (prompt_idx=31, type=slop_phrase, phrase='whisper')                          \n",
      "BANNED (prompt_idx=20, type=slop_phrase, phrase='unwavering')                       \n",
      "BANNED (prompt_idx=39, type=slop_phrase, phrase='unwavering')                       \n",
      "BANNED (prompt_idx=38, type=regex, regex='\\bnot\\s+(?:just|only|merely)?\\s*(?:[^\\s]+\\s*){1,6}?[,;:—–-]?\\s*but\\s+(?:also\\s+)?', match='not entirely gone, but ')\n",
      "BANNED (prompt_idx=7, type=ngram, ngram='almost imperceptible')                     \n",
      "BANNED (prompt_idx=11, type=ngram, ngram='something far')                           \n",
      "BANNED (prompt_idx=19, type=slop_phrase, phrase='static')                           \n",
      "BANNED (prompt_idx=36, type=slop_phrase, phrase='sigh')                             \n",
      "BANNED (prompt_idx=10, type=slop_phrase, phrase='elias')                            \n",
      "BANNED (prompt_idx=23, type=slop_phrase, phrase='curiosity')                        \n",
      "BANNED (prompt_idx=25, type=slop_phrase, phrase='countless')                        \n",
      "BANNED (prompt_idx=29, type=slop_phrase, phrase='shattered')                        \n",
      "BANNED (prompt_idx=32, type=slop_phrase, phrase='unwavering')                       \n",
      "BANNED (prompt_idx=26, type=slop_phrase, phrase='utterly')                          \n",
      "BANNED (prompt_idx=24, type=slop_phrase, phrase='etched')                           \n",
      "BANNED (prompt_idx=31, type=slop_phrase, phrase='countless')                        \n",
      "BANNED (prompt_idx=37, type=slop_phrase, phrase='void')                             \n",
      "BANNED (prompt_idx=35, type=slop_phrase, phrase='pulse')                            \n",
      "BANNED (prompt_idx=22, type=slop_phrase, phrase='unease')                           \n",
      "BANNED (prompt_idx=4, type=slop_phrase, phrase='terrifying')                        \n",
      "BANNED (prompt_idx=1, type=slop_phrase, phrase='paused')                            \n",
      "BANNED (prompt_idx=38, type=slop_phrase, phrase='laced')                            \n",
      "BANNED (prompt_idx=10, type=slop_phrase, phrase='elias')                            \n",
      "BANNED (prompt_idx=16, type=ngram, ngram='looked around')                           \n",
      "BANNED (prompt_idx=19, type=slop_phrase, phrase='static')                           \n",
      "BANNED (prompt_idx=34, type=slop_phrase, phrase='delicate')                         \n",
      "BANNED (prompt_idx=18, type=slop_phrase, phrase='utterly')                          \n",
      "BANNED (prompt_idx=23, type=slop_phrase, phrase='curiosity')                        \n",
      "BANNED (prompt_idx=32, type=slop_phrase, phrase='surge')                            \n",
      "BANNED (prompt_idx=36, type=slop_phrase, phrase='nodded')                           \n",
      "BANNED (prompt_idx=28, type=slop_phrase, phrase='said, his voice laced')            \n",
      "BANNED (prompt_idx=24, type=slop_phrase, phrase='pale')                             \n",
      "Batch Generating:   2%|▎         | 1/40 [03:24<1:50:37, 170.19s/prompt, 113.2 tok/s]"
     ]
    },
    {
     "name": "stderr",
     "output_type": "stream",
     "text": [
      "2025-05-18 17:18:54,261 [ERROR] [core.sampler        ]: Back-track: no valid next-token candidates survived even after relaxation.\n"
     ]
    },
    {
     "name": "stdout",
     "output_type": "stream",
     "text": [
      "BANNED (prompt_idx=31, type=slop_phrase, phrase='whisper')                          \n",
      "BANNED (prompt_idx=5, type=slop_phrase, phrase='faint')                             \n",
      "BANNED (prompt_idx=0, type=slop_phrase, phrase='paused')                            \n",
      "BANNED (prompt_idx=3, type=ngram, ngram='constant reminder')                        \n",
      "BANNED (prompt_idx=15, type=slop_phrase, phrase='chaotic')                          \n",
      "BANNED (prompt_idx=35, type=slop_phrase, phrase='subtle')                           \n",
      "BANNED (prompt_idx=22, type=slop_phrase, phrase='gaze')                             \n",
      "BANNED (prompt_idx=10, type=slop_phrase, phrase='elias')                            \n",
      "BANNED (prompt_idx=6, type=regex, regex='\\bnot\\s+(?:just|only|merely)?\\s*(?:[^\\s]+\\s*){1,6}?[,;:—–-]?\\s*but\\s+(?:also\\s+)?', match='not from Sarah, but ')\n",
      "BANNED (prompt_idx=18, type=slop_phrase, phrase='profound')                         \n",
      "BANNED (prompt_idx=32, type=slop_phrase, phrase='overwhelming')                     \n",
      "BANNED (prompt_idx=19, type=slop_phrase, phrase='static')                           \n",
      "BANNED (prompt_idx=38, type=slop_phrase, phrase='shifting')                         \n",
      "Batch Generating:   2%|▎         | 1/40 [03:27<1:50:37, 170.19s/prompt, 135.2 tok/s]"
     ]
    },
    {
     "name": "stderr",
     "output_type": "stream",
     "text": [
      "2025-05-18 17:18:56,384 [ERROR] [core.sampler        ]: Back-track: no valid next-token candidates survived even after relaxation.\n"
     ]
    },
    {
     "name": "stdout",
     "output_type": "stream",
     "text": [
      "BANNED (prompt_idx=16, type=slop_phrase, phrase='stared')                           \n",
      "BANNED (prompt_idx=23, type=ngram, ngram='could feel')                              \n",
      "BANNED (prompt_idx=1, type=slop_phrase, phrase='shifted')                           \n",
      "BANNED (prompt_idx=26, type=slop_phrase, phrase='flicker')                          \n",
      "BANNED (prompt_idx=36, type=slop_phrase, phrase='sigh')                             \n",
      "Batch Generating:   2%|▎         | 1/40 [03:27<1:50:37, 170.19s/prompt, 123.2 tok/s]"
     ]
    },
    {
     "name": "stderr",
     "output_type": "stream",
     "text": [
      "2025-05-18 17:18:57,195 [ERROR] [core.sampler        ]: Back-track: no valid next-token candidates survived even after relaxation.\n"
     ]
    },
    {
     "name": "stdout",
     "output_type": "stream",
     "text": [
      "BANNED (prompt_idx=34, type=slop_phrase, phrase='intricate')                        \n",
      "BANNED (prompt_idx=21, type=slop_phrase, phrase='shimmering')                       \n",
      "BANNED (prompt_idx=24, type=slop_phrase, phrase='unsettling')                       \n",
      "BANNED (prompt_idx=4, type=regex, regex='\\bnot\\s+(?:just|only|merely)?\\s*(?:[^\\s]+\\s*){1,6}?[,;:—–-]?\\s*but\\s+(?:also\\s+)?', match='not to speculate on the unrecorded. But ')\n",
      "Batch Generating:   2%|▎         | 1/40 [03:28<1:50:37, 170.19s/prompt, 126.5 tok/s]"
     ]
    },
    {
     "name": "stderr",
     "output_type": "stream",
     "text": [
      "2025-05-18 17:18:58,022 [ERROR] [core.sampler        ]: Back-track: no valid next-token candidates survived even after relaxation.\n"
     ]
    },
    {
     "name": "stdout",
     "output_type": "stream",
     "text": [
      "BANNED (prompt_idx=31, type=slop_phrase, phrase='whisper')                          \n",
      "BANNED (prompt_idx=17, type=slop_phrase, phrase='profound')                         \n",
      "BANNED (prompt_idx=0, type=slop_phrase, phrase='gestured')                          \n",
      "BANNED (prompt_idx=5, type=slop_phrase, phrase='sensation')                         \n",
      "BANNED (prompt_idx=22, type=slop_phrase, phrase='sigh')                             \n",
      "BANNED (prompt_idx=35, type=slop_phrase, phrase='elias')                            \n",
      "BANNED (prompt_idx=28, type=ngram, ngram='voice laced')                             \n",
      "BANNED (prompt_idx=8, type=slop_phrase, phrase='whisper')                           \n",
      "BANNED (prompt_idx=12, type=slop_phrase, phrase='unsettling')                       \n",
      "BANNED (prompt_idx=32, type=slop_phrase, phrase='surge')                            \n",
      "BANNED (prompt_idx=18, type=slop_phrase, phrase='surge')                            \n",
      "BANNED (prompt_idx=33, type=slop_phrase, phrase='paused')                           \n",
      "BANNED (prompt_idx=27, type=slop_phrase, phrase='scanning')                         \n",
      "BANNED (prompt_idx=4, type=slop_phrase, phrase='unsettling')                        \n",
      "BANNED (prompt_idx=19, type=slop_phrase, phrase='static')                           \n",
      "BANNED (prompt_idx=23, type=slop_phrase, phrase='elias')                            \n",
      "Batch Generating:   2%|▎         | 1/40 [03:31<1:50:37, 170.19s/prompt, 123.5 tok/s]"
     ]
    },
    {
     "name": "stderr",
     "output_type": "stream",
     "text": [
      "2025-05-18 17:19:00,797 [ERROR] [core.sampler        ]: Back-track: no valid next-token candidates survived even after relaxation.\n",
      "2025-05-18 17:19:00,918 [ERROR] [core.sampler        ]: Back-track: no valid next-token candidates survived even after relaxation.\n"
     ]
    },
    {
     "name": "stdout",
     "output_type": "stream",
     "text": [
      "BANNED (prompt_idx=38, type=slop_phrase, phrase='shifting')                         \n",
      "BANNED (prompt_idx=16, type=ngram, ngram='looked around')                           \n",
      "BANNED (prompt_idx=2, type=slop_phrase, phrase='gestured')                          \n",
      "BANNED (prompt_idx=24, type=slop_phrase, phrase='unsettling')                       \n",
      "BANNED (prompt_idx=1, type=slop_phrase, phrase='flicker')                           \n",
      "Batch Generating:   2%|▎         | 1/40 [03:32<1:50:37, 170.19s/prompt, 129.5 tok/s]"
     ]
    },
    {
     "name": "stderr",
     "output_type": "stream",
     "text": [
      "2025-05-18 17:19:01,817 [ERROR] [core.sampler        ]: Back-track: no valid next-token candidates survived even after relaxation.\n",
      "2025-05-18 17:19:01,908 [ERROR] [core.sampler        ]: Back-track: no valid next-token candidates survived even after relaxation.\n"
     ]
    },
    {
     "name": "stdout",
     "output_type": "stream",
     "text": [
      "BANNED (prompt_idx=36, type=slop_phrase, phrase='sigh')                             \n",
      "BANNED (prompt_idx=31, type=slop_phrase, phrase='whisper')                          \n",
      "BANNED (prompt_idx=14, type=slop_phrase, phrase='small, almost imperceptible')      \n",
      "BANNED (prompt_idx=34, type=slop_phrase, phrase='faint')                            \n",
      "BANNED (prompt_idx=22, type=slop_phrase, phrase='scanning')                         \n",
      "BANNED (prompt_idx=35, type=slop_phrase, phrase='elias')                            \n",
      "BANNED (prompt_idx=0, type=slop_phrase, phrase='laced')                             \n",
      "BANNED (prompt_idx=10, type=slop_phrase, phrase='elias')                            \n",
      "BANNED (prompt_idx=17, type=slop_phrase, phrase='clara')                            \n",
      "BANNED (prompt_idx=7, type=slop_phrase, phrase='whisper')                           \n",
      "BANNED (prompt_idx=8, type=slop_phrase, phrase='voice thick with emotion')          \n",
      "BANNED (prompt_idx=32, type=slop_phrase, phrase='warmth')                           \n",
      "BANNED (prompt_idx=39, type=slop_phrase, phrase='unsettling')                       \n",
      "BANNED (prompt_idx=33, type=slop_phrase, phrase='took a deep breath')               \n",
      "BANNED (prompt_idx=23, type=slop_phrase, phrase='curiosity')                        \n",
      "BANNED (prompt_idx=19, type=slop_phrase, phrase='chaotic')                          \n",
      "BANNED (prompt_idx=2, type=slop_phrase, phrase='profound')                          \n",
      "Batch Generating:   2%|▎         | 1/40 [03:35<1:50:37, 170.19s/prompt, 132.8 tok/s]"
     ]
    },
    {
     "name": "stderr",
     "output_type": "stream",
     "text": [
      "2025-05-18 17:19:05,127 [ERROR] [core.sampler        ]: Back-track: no valid next-token candidates survived even after relaxation.\n"
     ]
    },
    {
     "name": "stdout",
     "output_type": "stream",
     "text": [
      "BANNED (prompt_idx=38, type=slop_phrase, phrase='shifting')                         \n",
      "BANNED (prompt_idx=13, type=slop_phrase, phrase='fragile')                          \n",
      "BANNED (prompt_idx=16, type=regex, regex='\\bnot\\s+(?:just|only|merely)?\\s*(?:[^\\s]+\\s*){1,6}?[,;:—–-]?\\s*but\\s+(?:also\\s+)?', match='not in the conventional sense. But ')\n",
      "BANNED (prompt_idx=27, type=ngram, ngram='beneath surface')                         \n",
      "BANNED (prompt_idx=28, type=ngram, ngram='voice laced')                             \n",
      "BANNED (prompt_idx=31, type=slop_phrase, phrase='kael')                             \n",
      "BANNED (prompt_idx=1, type=slop_phrase, phrase='hint')                              \n",
      "BANNED (prompt_idx=4, type=slop_phrase, phrase='silas')                             \n",
      "BANNED (prompt_idx=36, type=slop_phrase, phrase='sigh')                             \n",
      "BANNED (prompt_idx=10, type=slop_phrase, phrase='elias')                            \n",
      "BANNED (prompt_idx=35, type=slop_phrase, phrase='elias')                            \n",
      "Batch Generating:   2%|▎         | 1/40 [03:37<1:50:37, 170.19s/prompt, 129.9 tok/s]"
     ]
    },
    {
     "name": "stderr",
     "output_type": "stream",
     "text": [
      "2025-05-18 17:19:06,320 [ERROR] [core.sampler        ]: Back-track: no valid next-token candidates survived even after relaxation.\n"
     ]
    },
    {
     "name": "stdout",
     "output_type": "stream",
     "text": [
      "BANNED (prompt_idx=7, type=slop_phrase, phrase='voice barely audible')              \n",
      "BANNED (prompt_idx=34, type=slop_phrase, phrase='whisper')                          \n",
      "BANNED (prompt_idx=14, type=ngram, ngram='almost imperceptible')                    \n",
      "BANNED (prompt_idx=3, type=slop_phrase, phrase='subtle')                            \n",
      "BANNED (prompt_idx=18, type=slop_phrase, phrase='chuckled')                         \n",
      "BANNED (prompt_idx=17, type=slop_phrase, phrase='void')                             \n",
      "BANNED (prompt_idx=24, type=slop_phrase, phrase='chilling')                         \n",
      "BANNED (prompt_idx=15, type=slop_phrase, phrase='unwavering')                       \n",
      "BANNED (prompt_idx=37, type=slop_phrase, phrase='chilling')                         \n",
      "BANNED (prompt_idx=19, type=slop_phrase, phrase='unsettling')                       \n",
      "BANNED (prompt_idx=4, type=slop_phrase, phrase='silas')                             \n",
      "BANNED (prompt_idx=38, type=slop_phrase, phrase='shimmering')                       \n",
      "BANNED (prompt_idx=31, type=slop_phrase, phrase='leaned')                           \n",
      "BANNED (prompt_idx=16, type=slop_phrase, phrase='terrifying')                       \n",
      "BANNED (prompt_idx=13, type=slop_phrase, phrase='fragile')                          \n",
      "BANNED (prompt_idx=35, type=slop_phrase, phrase='void')                             \n",
      "BANNED (prompt_idx=27, type=slop_phrase, phrase='shattered')                        \n",
      "BANNED (prompt_idx=3, type=slop_phrase, phrase='thorne')                            \n",
      "BANNED (prompt_idx=28, type=slop_phrase, phrase='palpable')                         \n",
      "BANNED (prompt_idx=1, type=slop_phrase, phrase='flicker')                           \n",
      "BANNED (prompt_idx=29, type=slop_phrase, phrase='gestured')                         \n",
      "BANNED (prompt_idx=36, type=slop_phrase, phrase='void')                             \n",
      "BANNED (prompt_idx=11, type=regex, regex='\\bnot\\s+(?:just|only|merely)?\\s*(?:[^\\s]+\\s*){1,6}?[,;:—–-]?\\s*but\\s+(?:also\\s+)?', match='not with the precision of a student, but ')\n",
      "BANNED (prompt_idx=5, type=slop_phrase, phrase='voice devoid of emotion')           \n",
      "BANNED (prompt_idx=34, type=slop_phrase, phrase='murmured')                         \n",
      "BANNED (prompt_idx=24, type=slop_phrase, phrase='stared')                           \n",
      "BANNED (prompt_idx=26, type=slop_phrase, phrase='realization')                      \n",
      "BANNED (prompt_idx=6, type=slop_phrase, phrase='profound')                          \n",
      "BANNED (prompt_idx=2, type=slop_phrase, phrase='stared')                            \n",
      "BANNED (prompt_idx=4, type=slop_phrase, phrase='silas')                             \n",
      "BANNED (prompt_idx=15, type=slop_phrase, phrase='shifted')                          \n",
      "BANNED (prompt_idx=19, type=slop_phrase, phrase='unsettling')                       \n",
      "BANNED (prompt_idx=22, type=slop_phrase, phrase='etched')                           \n",
      "BANNED (prompt_idx=31, type=slop_phrase, phrase='silas')                            \n",
      "BANNED (prompt_idx=10, type=slop_phrase, phrase='elias')                            \n",
      "BANNED (prompt_idx=38, type=slop_phrase, phrase='flicker')                          \n",
      "BANNED (prompt_idx=3, type=slop_phrase, phrase='thorne')                            \n",
      "BANNED (prompt_idx=13, type=slop_phrase, phrase='small, almost imperceptible')      \n",
      "BANNED (prompt_idx=0, type=slop_phrase, phrase='shadows')                           \n",
      "BANNED (prompt_idx=30, type=ngram, ngram='maybe maybe')                             \n",
      "BANNED (prompt_idx=35, type=slop_phrase, phrase='elias')                            \n",
      "BANNED (prompt_idx=29, type=slop_phrase, phrase='paused')                           \n",
      "BANNED (prompt_idx=11, type=slop_phrase, phrase='meticulously')                     \n",
      "BANNED (prompt_idx=24, type=slop_phrase, phrase='leaned')                           \n",
      "BANNED (prompt_idx=4, type=slop_phrase, phrase='thorne')                            \n",
      "BANNED (prompt_idx=27, type=slop_phrase, phrase='shattered')                        \n",
      "BANNED (prompt_idx=36, type=slop_phrase, phrase='sigh')                            \n",
      "Batch Generating:   5%|▌         | 2/40 [03:46<1:04:28, 101.81s/prompt, 97.8 tok/s]"
     ]
    },
    {
     "name": "stderr",
     "output_type": "stream",
     "text": [
      "2025-05-18 17:19:15,673 [ERROR] [core.sampler        ]: Back-track: no valid next-token candidates survived even after relaxation.\n"
     ]
    },
    {
     "name": "stdout",
     "output_type": "stream",
     "text": [
      "BANNED (prompt_idx=5, type=slop_phrase, phrase='obsidian')                         \n",
      "BANNED (prompt_idx=12, type=slop_phrase, phrase='silent for a long moment')        \n",
      "BANNED (prompt_idx=34, type=slop_phrase, phrase='whisper')                          \n",
      "BANNED (prompt_idx=33, type=slop_phrase, phrase='pressing')                         \n",
      "BANNED (prompt_idx=19, type=slop_phrase, phrase='unsettling')                       \n",
      "BANNED (prompt_idx=3, type=slop_phrase, phrase='thorne')                            \n",
      "BANNED (prompt_idx=25, type=slop_phrase, phrase='like a physical blow')             \n",
      "BANNED (prompt_idx=10, type=slop_phrase, phrase='elias')                            \n",
      "Batch Generating:   5%|▌         | 2/40 [03:47<1:04:28, 101.81s/prompt, 127.3 tok/s]"
     ]
    },
    {
     "name": "stderr",
     "output_type": "stream",
     "text": [
      "2025-05-18 17:19:17,055 [ERROR] [core.sampler        ]: Back-track: no valid next-token candidates survived even after relaxation.\n"
     ]
    },
    {
     "name": "stdout",
     "output_type": "stream",
     "text": [
      "BANNED (prompt_idx=8, type=slop_phrase, phrase='tasting like ash')                  \n",
      "BANNED (prompt_idx=35, type=slop_phrase, phrase='elias')                            \n",
      "BANNED (prompt_idx=13, type=slop_phrase, phrase='faint')                            \n",
      "BANNED (prompt_idx=7, type=slop_phrase, phrase='shifted')                           \n",
      "BANNED (prompt_idx=24, type=slop_phrase, phrase='stared')                           \n",
      "BANNED (prompt_idx=6, type=slop_phrase, phrase='crimson')                           \n",
      "BANNED (prompt_idx=11, type=slop_phrase, phrase='terrifying')                       \n",
      "BANNED (prompt_idx=26, type=slop_phrase, phrase='chilling')                         \n",
      "BANNED (prompt_idx=21, type=slop_phrase, phrase='chilling')                      \n",
      "BANNED (prompt_idx=29, type=slop_phrase, phrase='profound')                      \n",
      "BANNED (prompt_idx=2, type=slop_phrase, phrase='overwhelming')                   \n",
      "BANNED (prompt_idx=1, type=slop_phrase, phrase='laced')                          \n",
      "BANNED (prompt_idx=5, type=slop_phrase, phrase='voice devoid of emotion')        \n",
      "BANNED (prompt_idx=36, type=slop_phrase, phrase='void')                          \n",
      "BANNED (prompt_idx=27, type=slop_phrase, phrase='shifted')                       \n",
      "BANNED (prompt_idx=3, type=slop_phrase, phrase='thorne')                         \n",
      "Batch Generating:   8%|▊         | 3/40 [03:51<35:48, 58.06s/prompt, 108.7 tok/s]"
     ]
    },
    {
     "name": "stderr",
     "output_type": "stream",
     "text": [
      "2025-05-18 17:19:20,539 [ERROR] [core.sampler        ]: Back-track: no valid next-token candidates survived even after relaxation.\n"
     ]
    },
    {
     "name": "stdout",
     "output_type": "stream",
     "text": [
      "BANNED (prompt_idx=10, type=ngram, ngram='first time')                           \n",
      "BANNED (prompt_idx=22, type=regex, regex='\\bnot\\s+(?:just|only|merely)?\\s*(?:[^\\s]+\\s*){1,6}?[,;:—–-]?\\s*but\\s+(?:also\\s+)?', match='Not random scratches, but ')\n",
      "BANNED (prompt_idx=34, type=slop_phrase, phrase='echo')                          \n",
      "BANNED (prompt_idx=31, type=slop_phrase, phrase='silas')                         \n",
      "BANNED (prompt_idx=19, type=slop_phrase, phrase='overwhelming')                  \n",
      "BANNED (prompt_idx=28, type=ngram, ngram='replied voice')                        \n",
      "BANNED (prompt_idx=4, type=slop_phrase, phrase='tapestry')                       \n",
      "BANNED (prompt_idx=15, type=slop_phrase, phrase='utterly')                       \n",
      "BANNED (prompt_idx=0, type=slop_phrase, phrase='stared')                         \n",
      "BANNED (prompt_idx=38, type=slop_phrase, phrase='whisper')                       \n",
      "BANNED (prompt_idx=18, type=slop_phrase, phrase='intricate')                     \n",
      "BANNED (prompt_idx=14, type=slop_phrase, phrase='paused')                        \n",
      "BANNED (prompt_idx=11, type=slop_phrase, phrase='depths')                        \n",
      "BANNED (prompt_idx=26, type=slop_phrase, phrase='terrifying')                    \n",
      "BANNED (prompt_idx=2, type=slop_phrase, phrase='voice barely a whisper')         \n",
      "BANNED (prompt_idx=3, type=slop_phrase, phrase='thorne')                         \n",
      "Batch Generating:   8%|▊         | 3/40 [03:54<35:48, 58.06s/prompt, 99.4 tok/s]"
     ]
    },
    {
     "name": "stderr",
     "output_type": "stream",
     "text": [
      "2025-05-18 17:19:23,769 [ERROR] [core.sampler        ]: Back-track: no valid next-token candidates survived even after relaxation.\n"
     ]
    },
    {
     "name": "stdout",
     "output_type": "stream",
     "text": [
      "BANNED (prompt_idx=4, type=ngram, ngram='felt like')                            \n",
      "BANNED (prompt_idx=5, type=ngram, ngram='eyes gleaming')                        \n",
      "BANNED (prompt_idx=10, type=slop_phrase, phrase='flicker')                       \n",
      "Batch Generating:   8%|▊         | 3/40 [03:55<35:48, 58.06s/prompt, 103.5 tok/s]"
     ]
    },
    {
     "name": "stderr",
     "output_type": "stream",
     "text": [
      "2025-05-18 17:19:24,301 [ERROR] [core.sampler        ]: Back-track: no valid next-token candidates survived even after relaxation.\n"
     ]
    },
    {
     "name": "stdout",
     "output_type": "stream",
     "text": [
      "BANNED (prompt_idx=1, type=slop_phrase, phrase='whisper')                        \n",
      "Batch Generating:   8%|▊         | 3/40 [03:55<35:48, 58.06s/prompt, 109.3 tok/s]"
     ]
    },
    {
     "name": "stderr",
     "output_type": "stream",
     "text": [
      "2025-05-18 17:19:24,708 [ERROR] [core.sampler        ]: Back-track: no valid next-token candidates survived even after relaxation.\n"
     ]
    },
    {
     "name": "stdout",
     "output_type": "stream",
     "text": [
      "BANNED (prompt_idx=36, type=slop_phrase, phrase='sigh')                          \n",
      "BANNED (prompt_idx=22, type=slop_phrase, phrase='pulse')                         \n",
      "BANNED (prompt_idx=21, type=ngram, ngram='raised eyebrow')                       \n",
      "BANNED (prompt_idx=19, type=slop_phrase, phrase='unsettling')                    \n",
      "BANNED (prompt_idx=27, type=slop_phrase, phrase='shattered')                     \n",
      "BANNED (prompt_idx=34, type=slop_phrase, phrase='profound')                      \n",
      "BANNED (prompt_idx=6, type=slop_phrase, phrase='utterly')                        \n",
      "BANNED (prompt_idx=24, type=slop_phrase, phrase='took a step closer')            \n",
      "BANNED (prompt_idx=35, type=slop_phrase, phrase='warmth')                        \n",
      "BANNED (prompt_idx=0, type=slop_phrase, phrase='hesitated')                      \n",
      "BANNED (prompt_idx=15, type=slop_phrase, phrase='shifted')                       \n",
      "BANNED (prompt_idx=38, type=ngram, ngram='said voice')                           \n",
      "BANNED (prompt_idx=12, type=regex, regex='\\bnot\\s+(?:just|only|merely)?\\s*(?:[^\\s]+\\s*){1,6}?[,;:—–-]?\\s*but\\s+(?:also\\s+)?', match='not merely about resources or power, but ')\n",
      "BANNED (prompt_idx=11, type=slop_phrase, phrase='terrifying')                    \n",
      "BANNED (prompt_idx=16, type=slop_phrase, phrase='surge')                         \n",
      "BANNED (prompt_idx=3, type=slop_phrase, phrase='terrifying')                     \n",
      "BANNED (prompt_idx=26, type=slop_phrase, phrase='unsettling')                    \n",
      "BANNED (prompt_idx=4, type=slop_phrase, phrase='whisper')                        \n",
      "BANNED (prompt_idx=2, type=slop_phrase, phrase='trembling')                      \n",
      "BANNED (prompt_idx=10, type=slop_phrase, phrase='flicker')                       \n",
      "BANNED (prompt_idx=31, type=ngram, ngram='said voice')                           \n",
      "BANNED (prompt_idx=22, type=slop_phrase, phrase='pulse')                         \n",
      "BANNED (prompt_idx=5, type=slop_phrase, phrase='gleaming')                       \n",
      "BANNED (prompt_idx=23, type=slop_phrase, phrase='demon')                         \n",
      "BANNED (prompt_idx=6, type=slop_phrase, phrase='terrifying')                    \n",
      "Batch Generating:   8%|▊         | 3/40 [03:59<35:48, 58.06s/prompt, 94.6 tok/s]"
     ]
    },
    {
     "name": "stderr",
     "output_type": "stream",
     "text": [
      "2025-05-18 17:19:29,241 [ERROR] [core.sampler        ]: Back-track: no valid next-token candidates survived even after relaxation.\n"
     ]
    },
    {
     "name": "stdout",
     "output_type": "stream",
     "text": [
      "BANNED (prompt_idx=19, type=slop_phrase, phrase='eerie')                        \n",
      "BANNED (prompt_idx=25, type=slop_phrase, phrase='stared')                        \n",
      "BANNED (prompt_idx=39, type=slop_phrase, phrase='revealing')                     \n",
      "Batch Generating:   8%|▊         | 3/40 [04:00<35:48, 58.06s/prompt, 93.3 tok/s] "
     ]
    },
    {
     "name": "stderr",
     "output_type": "stream",
     "text": [
      "2025-05-18 17:19:29,881 [ERROR] [core.sampler        ]: Back-track: no valid next-token candidates survived even after relaxation.\n"
     ]
    },
    {
     "name": "stdout",
     "output_type": "stream",
     "text": [
      "BANNED (prompt_idx=0, type=slop_phrase, phrase='stared')                        \n",
      "BANNED (prompt_idx=34, type=slop_phrase, phrase='dread')                        \n",
      "Batch Generating:   8%|▊         | 3/40 [04:00<35:48, 58.06s/prompt, 95.3 tok/s]"
     ]
    },
    {
     "name": "stderr",
     "output_type": "stream",
     "text": [
      "2025-05-18 17:19:30,186 [ERROR] [core.sampler        ]: Back-track: no valid next-token candidates survived even after relaxation.\n"
     ]
    },
    {
     "name": "stdout",
     "output_type": "stream",
     "text": [
      "BANNED (prompt_idx=4, type=slop_phrase, phrase='whisper')                       \n",
      "BANNED (prompt_idx=3, type=slop_phrase, phrase='thorne')                        \n",
      "BANNED (prompt_idx=27, type=slop_phrase, phrase='elias')                        \n",
      "BANNED (prompt_idx=38, type=slop_phrase, phrase='whisper')                      \n",
      "BANNED (prompt_idx=15, type=slop_phrase, phrase='looked around the room')       \n",
      "BANNED (prompt_idx=26, type=slop_phrase, phrase='chilling')                     \n",
      "BANNED (prompt_idx=2, type=ngram, ngram='eyes filled')                           \n",
      "BANNED (prompt_idx=16, type=slop_phrase, phrase='surge')                         \n",
      "BANNED (prompt_idx=22, type=slop_phrase, phrase='unsettling')                    \n",
      "BANNED (prompt_idx=31, type=slop_phrase, phrase='hollow')                        \n",
      "BANNED (prompt_idx=29, type=slop_phrase, phrase='gestured')                      \n",
      "BANNED (prompt_idx=23, type=slop_phrase, phrase='subtle')                        \n",
      "BANNED (prompt_idx=32, type=slop_phrase, phrase='overwhelming')                  \n",
      "BANNED (prompt_idx=19, type=slop_phrase, phrase='eerie')                         \n",
      "Batch Generating:   8%|▊         | 3/40 [04:04<35:48, 58.06s/prompt, 114.8 tok/s]"
     ]
    },
    {
     "name": "stderr",
     "output_type": "stream",
     "text": [
      "2025-05-18 17:19:33,322 [ERROR] [core.sampler        ]: Back-track: no valid next-token candidates survived even after relaxation.\n",
      "2025-05-18 17:19:33,434 [ERROR] [core.sampler        ]: Back-track: no valid next-token candidates survived even after relaxation.\n"
     ]
    },
    {
     "name": "stdout",
     "output_type": "stream",
     "text": [
      "BANNED (prompt_idx=4, type=slop_phrase, phrase='whisper')                        \n",
      "BANNED (prompt_idx=24, type=slop_phrase, phrase='glanced')                       \n",
      "BANNED (prompt_idx=25, type=slop_phrase, phrase='lyra')                          \n",
      "Batch Generating:   8%|▊         | 3/40 [04:04<35:48, 58.06s/prompt, 127.3 tok/s]"
     ]
    },
    {
     "name": "stderr",
     "output_type": "stream",
     "text": [
      "2025-05-18 17:19:33,649 [ERROR] [core.sampler        ]: Back-track: no valid next-token candidates survived even after relaxation.\n"
     ]
    },
    {
     "name": "stdout",
     "output_type": "stream",
     "text": [
      "BANNED (prompt_idx=3, type=slop_phrase, phrase='thorne')                         \n",
      "BANNED (prompt_idx=1, type=slop_phrase, phrase='froze')                          \n",
      "BANNED (prompt_idx=0, type=slop_phrase, phrase='stared')                         \n",
      "BANNED (prompt_idx=39, type=slop_phrase, phrase='laced')                         \n",
      "Batch Generating:   8%|▊         | 3/40 [04:04<35:48, 58.06s/prompt, 137.2 tok/s]"
     ]
    },
    {
     "name": "stderr",
     "output_type": "stream",
     "text": [
      "2025-05-18 17:19:34,033 [ERROR] [core.sampler        ]: Back-track: no valid next-token candidates survived even after relaxation.\n"
     ]
    },
    {
     "name": "stdout",
     "output_type": "stream",
     "text": [
      "BANNED (prompt_idx=36, type=slop_phrase, phrase='profound')                      \n",
      "BANNED (prompt_idx=7, type=slop_phrase, phrase='intricate')                      \n",
      "BANNED (prompt_idx=34, type=slop_phrase, phrase='unsettling')                    \n",
      "BANNED (prompt_idx=26, type=slop_phrase, phrase='dread')                         \n",
      "BANNED (prompt_idx=18, type=slop_phrase, phrase='paused')                        \n",
      "BANNED (prompt_idx=38, type=slop_phrase, phrase='fading')                        \n",
      "BANNED (prompt_idx=2, type=ngram, ngram='eyes filled')                           \n",
      "BANNED (prompt_idx=8, type=slop_phrase, phrase='whisper')                        \n",
      "BANNED (prompt_idx=27, type=slop_phrase, phrase='silas')                         \n",
      "BANNED (prompt_idx=15, type=slop_phrase, phrase='shifted')                       \n",
      "BANNED (prompt_idx=31, type=slop_phrase, phrase='hollow')                        \n",
      "BANNED (prompt_idx=37, type=slop_phrase, phrase='void')                          \n",
      "BANNED (prompt_idx=22, type=slop_phrase, phrase='palpable')                      \n",
      "BANNED (prompt_idx=13, type=slop_phrase, phrase='trembling')                     \n",
      "BANNED (prompt_idx=4, type=slop_phrase, phrase='whisper')                        \n",
      "Batch Generating:   8%|▊         | 3/40 [04:07<35:48, 58.06s/prompt, 97.1 tok/s] "
     ]
    },
    {
     "name": "stderr",
     "output_type": "stream",
     "text": [
      "2025-05-18 17:19:36,496 [ERROR] [core.sampler        ]: Back-track: no valid next-token candidates survived even after relaxation.\n"
     ]
    },
    {
     "name": "stdout",
     "output_type": "stream",
     "text": [
      "BANNED (prompt_idx=32, type=slop_phrase, phrase='vibrant')                      \n",
      "BANNED (prompt_idx=23, type=slop_phrase, phrase='demon')                         \n",
      "BANNED (prompt_idx=3, type=regex, regex='\\bnot\\s+(?:just|only|merely)?\\s*(?:[^\\s]+\\s*){1,6}?[,;:—–-]?\\s*but\\s+(?:also\\s+)?', match='not precisely, but ')\n",
      "Batch Generating:   8%|▊         | 3/40 [04:07<35:48, 58.06s/prompt, 102.0 tok/s]"
     ]
    },
    {
     "name": "stderr",
     "output_type": "stream",
     "text": [
      "2025-05-18 17:19:37,406 [ERROR] [core.sampler        ]: Back-track: no valid next-token candidates survived even after relaxation.\n"
     ]
    },
    {
     "name": "stdout",
     "output_type": "stream",
     "text": [
      "BANNED (prompt_idx=19, type=slop_phrase, phrase='eerie')                         \n",
      "BANNED (prompt_idx=25, type=slop_phrase, phrase='stark')                         \n",
      "Batch Generating:   8%|▊         | 3/40 [04:08<35:48, 58.06s/prompt, 107.6 tok/s]"
     ]
    },
    {
     "name": "stderr",
     "output_type": "stream",
     "text": [
      "2025-05-18 17:19:37,951 [ERROR] [core.sampler        ]: Back-track: no valid next-token candidates survived even after relaxation.\n"
     ]
    },
    {
     "name": "stdout",
     "output_type": "stream",
     "text": [
      "BANNED (prompt_idx=0, type=slop_phrase, phrase='stared')                         \n",
      "BANNED (prompt_idx=39, type=slop_phrase, phrase='revealing')                     \n",
      "BANNED (prompt_idx=26, type=slop_phrase, phrase='dread')                         \n",
      "Batch Generating:   8%|▊         | 3/40 [04:09<35:48, 58.06s/prompt, 99.0 tok/s] "
     ]
    },
    {
     "name": "stderr",
     "output_type": "stream",
     "text": [
      "2025-05-18 17:19:38,442 [ERROR] [core.sampler        ]: Back-track: no valid next-token candidates survived even after relaxation.\n"
     ]
    },
    {
     "name": "stdout",
     "output_type": "stream",
     "text": [
      "BANNED (prompt_idx=36, type=slop_phrase, phrase='utterly')                       \n",
      "BANNED (prompt_idx=10, type=slop_phrase, phrase='profound')                      \n",
      "BANNED (prompt_idx=2, type=slop_phrase, phrase='gaze')                           \n",
      "BANNED (prompt_idx=18, type=slop_phrase, phrase='gestured')                      \n",
      "BANNED (prompt_idx=38, type=slop_phrase, phrase='faint')                         \n",
      "BANNED (prompt_idx=34, type=slop_phrase, phrase='dread')                         \n",
      "BANNED (prompt_idx=4, type=slop_phrase, phrase='whisper')                        \n",
      "BANNED (prompt_idx=22, type=slop_phrase, phrase='flicker')                       \n",
      "Batch Generating:   8%|▊         | 3/40 [04:10<35:48, 58.06s/prompt, 115.2 tok/s]"
     ]
    },
    {
     "name": "stderr",
     "output_type": "stream",
     "text": [
      "2025-05-18 17:19:39,398 [ERROR] [core.sampler        ]: Back-track: no valid next-token candidates survived even after relaxation.\n",
      "2025-05-18 17:19:40,056 [ERROR] [core.sampler        ]: Back-track: no valid next-token candidates survived even after relaxation.\n",
      "2025-05-18 17:19:40,101 [ERROR] [core.sampler        ]: Back-track: no valid next-token candidates survived even after relaxation.\n",
      "2025-05-18 17:19:40,177 [ERROR] [core.sampler        ]: Back-track: no valid next-token candidates survived even after relaxation.\n"
     ]
    },
    {
     "name": "stdout",
     "output_type": "stream",
     "text": [
      "BANNED (prompt_idx=15, type=slop_phrase, phrase='glanced')                       \n",
      "BANNED (prompt_idx=27, type=slop_phrase, phrase='elias')                         \n",
      "BANNED (prompt_idx=3, type=slop_phrase, phrase='thorne')                         \n",
      "BANNED (prompt_idx=13, type=slop_phrase, phrase='shaking')                       \n",
      "BANNED (prompt_idx=37, type=slop_phrase, phrase='gleaming')                      \n",
      "BANNED (prompt_idx=32, type=slop_phrase, phrase='warmth')                        \n",
      "BANNED (prompt_idx=19, type=slop_phrase, phrase='elias')                         \n",
      "BANNED (prompt_idx=35, type=slop_phrase, phrase='warmth')                        \n",
      "BANNED (prompt_idx=25, type=slop_phrase, phrase='stark')                         \n",
      "BANNED (prompt_idx=0, type=slop_phrase, phrase='countless')                      \n",
      "BANNED (prompt_idx=10, type=slop_phrase, phrase='elias')                         \n",
      "BANNED (prompt_idx=4, type=regex, regex='\\bnot\\s+(?:just|only|merely)?\\s*(?:[^\\s]+\\s*){1,6}?[,;:—–-]?\\s*but\\s+(?:also\\s+)?', match='not by death, but ')\n",
      "BANNED (prompt_idx=7, type=slop_phrase, phrase='essence')                        \n",
      "BANNED (prompt_idx=2, type=ngram, ngram='eyes filled')                           \n",
      "Batch Generating:   8%|▊         | 3/40 [04:13<35:48, 58.06s/prompt, 106.3 tok/s]"
     ]
    },
    {
     "name": "stderr",
     "output_type": "stream",
     "text": [
      "2025-05-18 17:19:42,788 [ERROR] [core.sampler        ]: Back-track: no valid next-token candidates survived even after relaxation.\n",
      "2025-05-18 17:19:42,870 [ERROR] [core.sampler        ]: Back-track: no valid next-token candidates survived even after relaxation.\n"
     ]
    },
    {
     "name": "stdout",
     "output_type": "stream",
     "text": [
      "BANNED (prompt_idx=39, type=slop_phrase, phrase='revealing')                     \n",
      "BANNED (prompt_idx=6, type=slop_phrase, phrase='relentless')                     \n",
      "BANNED (prompt_idx=1, type=slop_phrase, phrase='unwavering')                     \n",
      "Batch Generating:   8%|▊         | 3/40 [04:13<35:48, 58.06s/prompt, 113.4 tok/s]"
     ]
    },
    {
     "name": "stderr",
     "output_type": "stream",
     "text": [
      "2025-05-18 17:19:43,085 [ERROR] [core.sampler        ]: Back-track: no valid next-token candidates survived even after relaxation.\n"
     ]
    },
    {
     "name": "stdout",
     "output_type": "stream",
     "text": [
      "BANNED (prompt_idx=18, type=slop_phrase, phrase='paused')                        \n",
      "BANNED (prompt_idx=31, type=ngram, ngram='face pale')                            \n",
      "BANNED (prompt_idx=36, type=slop_phrase, phrase='profound')                      \n",
      "BANNED (prompt_idx=38, type=slop_phrase, phrase='whisper')                       \n",
      "BANNED (prompt_idx=14, type=slop_phrase, phrase='paused')                        \n",
      "BANNED (prompt_idx=32, type=slop_phrase, phrase='scent')                         \n",
      "Batch Generating:   8%|▊         | 3/40 [04:14<35:48, 58.06s/prompt, 117.0 tok/s]"
     ]
    },
    {
     "name": "stderr",
     "output_type": "stream",
     "text": [
      "2025-05-18 17:19:44,420 [ERROR] [core.sampler        ]: Back-track: no valid next-token candidates survived even after relaxation.\n"
     ]
    },
    {
     "name": "stdout",
     "output_type": "stream",
     "text": [
      "BANNED (prompt_idx=15, type=slop_phrase, phrase='glanced')                       \n",
      "BANNED (prompt_idx=13, type=slop_phrase, phrase='paused')                        \n",
      "BANNED (prompt_idx=37, type=slop_phrase, phrase='meticulously')                  \n",
      "BANNED (prompt_idx=16, type=slop_phrase, phrase='clutching')                     \n",
      "BANNED (prompt_idx=27, type=slop_phrase, phrase='elias')                         \n",
      "Batch Generating:   8%|▊         | 3/40 [04:15<35:48, 58.06s/prompt, 104.7 tok/s]"
     ]
    },
    {
     "name": "stderr",
     "output_type": "stream",
     "text": [
      "2025-05-18 17:19:45,177 [ERROR] [core.sampler        ]: Back-track: no valid next-token candidates survived even after relaxation.\n"
     ]
    },
    {
     "name": "stdout",
     "output_type": "stream",
     "text": [
      "BANNED (prompt_idx=19, type=slop_phrase, phrase='elias')                         \n",
      "BANNED (prompt_idx=4, type=slop_phrase, phrase='whisper')                        \n",
      "Batch Generating:   8%|▊         | 3/40 [04:16<35:48, 58.06s/prompt, 104.0 tok/s]"
     ]
    },
    {
     "name": "stderr",
     "output_type": "stream",
     "text": [
      "2025-05-18 17:19:45,437 [ERROR] [core.sampler        ]: Back-track: no valid next-token candidates survived even after relaxation.\n"
     ]
    },
    {
     "name": "stdout",
     "output_type": "stream",
     "text": [
      "BANNED (prompt_idx=35, type=slop_phrase, phrase='sensation')                     \n",
      "Batch Generating:   8%|▊         | 3/40 [04:16<35:48, 58.06s/prompt, 101.1 tok/s]"
     ]
    },
    {
     "name": "stderr",
     "output_type": "stream",
     "text": [
      "2025-05-18 17:19:45,906 [ERROR] [core.sampler        ]: Back-track: no valid next-token candidates survived even after relaxation.\n"
     ]
    },
    {
     "name": "stdout",
     "output_type": "stream",
     "text": [
      "BANNED (prompt_idx=0, type=slop_phrase, phrase='stared')                         \n",
      "BANNED (prompt_idx=26, type=slop_phrase, phrase='relentless')                    \n",
      "BANNED (prompt_idx=29, type=slop_phrase, phrase='rain continued to fall')        \n",
      "BANNED (prompt_idx=33, type=slop_phrase, phrase='laced')                         \n",
      "BANNED (prompt_idx=10, type=slop_phrase, phrase='silas')                         \n",
      "BANNED (prompt_idx=8, type=slop_phrase, phrase='realization')                    \n",
      "BANNED (prompt_idx=6, type=ngram, ngram='young man')                             \n",
      "BANNED (prompt_idx=2, type=slop_phrase, phrase='profound')                       \n",
      "BANNED (prompt_idx=3, type=slop_phrase, phrase='hand instinctively reaching')    \n",
      "BANNED (prompt_idx=22, type=slop_phrase, phrase='whisper')                       \n",
      "Batch Generating:   8%|▊         | 3/40 [04:17<35:48, 58.06s/prompt, 113.9 tok/s]"
     ]
    },
    {
     "name": "stderr",
     "output_type": "stream",
     "text": [
      "2025-05-18 17:19:47,204 [ERROR] [core.sampler        ]: Back-track: no valid next-token candidates survived even after relaxation.\n"
     ]
    },
    {
     "name": "stdout",
     "output_type": "stream",
     "text": [
      "BANNED (prompt_idx=18, type=slop_phrase, phrase='paused')                        \n",
      "BANNED (prompt_idx=28, type=slop_phrase, phrase='armor')                         \n",
      "BANNED (prompt_idx=39, type=slop_phrase, phrase='revealing')                     \n",
      "Batch Generating:   8%|▊         | 3/40 [04:18<35:48, 58.06s/prompt, 132.4 tok/s]"
     ]
    },
    {
     "name": "stderr",
     "output_type": "stream",
     "text": [
      "2025-05-18 17:19:47,540 [ERROR] [core.sampler        ]: Back-track: no valid next-token candidates survived even after relaxation.\n"
     ]
    },
    {
     "name": "stdout",
     "output_type": "stream",
     "text": [
      "BANNED (prompt_idx=1, type=slop_phrase, phrase='laced')                          \n",
      "BANNED (prompt_idx=38, type=slop_phrase, phrase='fragile')                       \n",
      "BANNED (prompt_idx=24, type=slop_phrase, phrase='glanced')                       \n",
      "BANNED (prompt_idx=32, type=slop_phrase, phrase='warmth')                        \n",
      "BANNED (prompt_idx=36, type=slop_phrase, phrase='echo')                          \n",
      "BANNED (prompt_idx=34, type=slop_phrase, phrase='revealing')                     \n",
      "BANNED (prompt_idx=13, type=slop_phrase, phrase='hesitated')                     \n",
      "Batch Generating:   8%|▊         | 3/40 [04:19<35:48, 58.06s/prompt, 104.0 tok/s]"
     ]
    },
    {
     "name": "stderr",
     "output_type": "stream",
     "text": [
      "2025-05-18 17:19:48,929 [ERROR] [core.sampler        ]: Back-track: no valid next-token candidates survived even after relaxation.\n"
     ]
    },
    {
     "name": "stdout",
     "output_type": "stream",
     "text": [
      "BANNED (prompt_idx=15, type=slop_phrase, phrase='glanced')                       \n",
      "BANNED (prompt_idx=23, type=slop_phrase, phrase='rain continued to fall')        \n",
      "BANNED (prompt_idx=19, type=slop_phrase, phrase='silas')                         \n",
      "BANNED (prompt_idx=37, type=slop_phrase, phrase='gleaming')                      \n",
      "BANNED (prompt_idx=35, type=slop_phrase, phrase='warmth')                        \n",
      "BANNED (prompt_idx=16, type=slop_phrase, phrase='clutching')                    \n",
      "BANNED (prompt_idx=10, type=slop_phrase, phrase='elias')                        \n",
      "BANNED (prompt_idx=0, type=slop_phrase, phrase='stared')                        \n",
      "Batch Generating:   8%|▊         | 3/40 [04:20<35:48, 58.06s/prompt, 104.6 tok/s]"
     ]
    },
    {
     "name": "stderr",
     "output_type": "stream",
     "text": [
      "2025-05-18 17:19:49,892 [ERROR] [core.sampler        ]: Back-track: no valid next-token candidates survived even after relaxation.\n",
      "2025-05-18 17:19:50,049 [ERROR] [core.sampler        ]: Back-track: no valid next-token candidates survived even after relaxation.\n"
     ]
    },
    {
     "name": "stdout",
     "output_type": "stream",
     "text": [
      "BANNED (prompt_idx=27, type=slop_phrase, phrase='elias')                         \n",
      "BANNED (prompt_idx=25, type=slop_phrase, phrase='utterly')                       \n",
      "BANNED (prompt_idx=3, type=slop_phrase, phrase='fingers trembling slightly')     \n",
      "BANNED (prompt_idx=8, type=slop_phrase, phrase='amusement')                      \n",
      "BANNED (prompt_idx=33, type=slop_phrase, phrase='laced')                         \n",
      "BANNED (prompt_idx=29, type=slop_phrase, phrase='stretched')                     \n",
      "BANNED (prompt_idx=7, type=slop_phrase, phrase='felt a profound sense')          \n",
      "Batch Generating:   8%|▊         | 3/40 [04:21<35:48, 58.06s/prompt, 99.0 tok/s] "
     ]
    },
    {
     "name": "stderr",
     "output_type": "stream",
     "text": [
      "2025-05-18 17:19:51,239 [ERROR] [core.sampler        ]: Back-track: no valid next-token candidates survived even after relaxation.\n"
     ]
    },
    {
     "name": "stdout",
     "output_type": "stream",
     "text": [
      "BANNED (prompt_idx=18, type=slop_phrase, phrase='paused')                       \n",
      "BANNED (prompt_idx=11, type=slop_phrase, phrase='subtle')                        \n",
      "BANNED (prompt_idx=32, type=slop_phrase, phrase='warmth')                        \n",
      "BANNED (prompt_idx=4, type=slop_phrase, phrase='silas')                          \n",
      "BANNED (prompt_idx=38, type=slop_phrase, phrase='faint')                         \n",
      "BANNED (prompt_idx=39, type=slop_phrase, phrase='whisper')                       \n",
      "BANNED (prompt_idx=1, type=slop_phrase, phrase='unwavering')                     \n",
      "BANNED (prompt_idx=28, type=slop_phrase, phrase='unwavering')                   \n",
      "BANNED (prompt_idx=36, type=slop_phrase, phrase='echo')                         \n",
      "BANNED (prompt_idx=21, type=slop_phrase, phrase='paused')                       \n",
      "BANNED (prompt_idx=23, type=slop_phrase, phrase='despair')                      \n",
      "BANNED (prompt_idx=13, type=slop_phrase, phrase='flicker')                      \n",
      "BANNED (prompt_idx=19, type=slop_phrase, phrase='elias')                        \n",
      "BANNED (prompt_idx=15, type=slop_phrase, phrase='raised a hand, silencing')     \n",
      "BANNED (prompt_idx=6, type=slop_phrase, phrase='eyes wide with wonder')         \n",
      "BANNED (prompt_idx=3, type=slop_phrase, phrase='trembling')                     \n",
      "BANNED (prompt_idx=10, type=slop_phrase, phrase='profound')                     \n",
      "BANNED (prompt_idx=35, type=slop_phrase, phrase='warmth')                       \n",
      "BANNED (prompt_idx=0, type=slop_phrase, phrase='chilling')                      \n",
      "BANNED (prompt_idx=37, type=slop_phrase, phrase='profound')                     \n",
      "BANNED (prompt_idx=14, type=slop_phrase, phrase='unwavering')                   \n",
      "BANNED (prompt_idx=8, type=slop_phrase, phrase='amusement')                     \n",
      "BANNED (prompt_idx=16, type=slop_phrase, phrase='chuckled')                     \n",
      "BANNED (prompt_idx=33, type=slop_phrase, phrase='laced')                        \n",
      "BANNED (prompt_idx=27, type=ngram, ngram='constant reminder')                   \n",
      "BANNED (prompt_idx=31, type=slop_phrase, phrase='terrifying')                   \n",
      "BANNED (prompt_idx=11, type=slop_phrase, phrase='subtle')                       \n",
      "BANNED (prompt_idx=17, type=slop_phrase, phrase='palpable')                     \n",
      "BANNED (prompt_idx=38, type=slop_phrase, phrase='fragile')                      \n",
      "Batch Generating:   8%|▊         | 3/40 [04:26<35:48, 58.06s/prompt, 83.0 tok/s]"
     ]
    },
    {
     "name": "stderr",
     "output_type": "stream",
     "text": [
      "2025-05-18 17:19:56,491 [ERROR] [core.sampler        ]: Back-track: no valid next-token candidates survived even after relaxation.\n"
     ]
    },
    {
     "name": "stdout",
     "output_type": "stream",
     "text": [
      "BANNED (prompt_idx=39, type=slop_phrase, phrase='revealing')                    \n",
      "BANNED (prompt_idx=6, type=slop_phrase, phrase='whisper')                       \n",
      "BANNED (prompt_idx=36, type=slop_phrase, phrase='echo')                         \n",
      "BANNED (prompt_idx=23, type=slop_phrase, phrase='spark')                        \n",
      "BANNED (prompt_idx=10, type=slop_phrase, phrase='twisted')                      \n",
      "BANNED (prompt_idx=19, type=slop_phrase, phrase='evelyn')                        \n",
      "Batch Generating:   8%|▊         | 3/40 [04:28<35:48, 58.06s/prompt, 113.4 tok/s]"
     ]
    },
    {
     "name": "stderr",
     "output_type": "stream",
     "text": [
      "2025-05-18 17:19:57,630 [ERROR] [core.sampler        ]: Back-track: no valid next-token candidates survived even after relaxation.\n",
      "2025-05-18 17:19:57,901 [ERROR] [core.sampler        ]: Back-track: no valid next-token candidates survived even after relaxation.\n"
     ]
    },
    {
     "name": "stdout",
     "output_type": "stream",
     "text": [
      "BANNED (prompt_idx=0, type=slop_phrase, phrase='stared')                         \n",
      "BANNED (prompt_idx=8, type=slop_phrase, phrase='fragile')                        \n",
      "BANNED (prompt_idx=15, type=slop_phrase, phrase='raised a hand, silencing')      \n",
      "BANNED (prompt_idx=22, type=slop_phrase, phrase='frantic')                       \n",
      "BANNED (prompt_idx=21, type=slop_phrase, phrase='meticulously')                  \n",
      "BANNED (prompt_idx=32, type=slop_phrase, phrase='utterly')                       \n",
      "BANNED (prompt_idx=16, type=slop_phrase, phrase='sigh')                          \n",
      "BANNED (prompt_idx=14, type=slop_phrase, phrase='unwavering')                    \n",
      "BANNED (prompt_idx=31, type=slop_phrase, phrase='silas')                         \n",
      "BANNED (prompt_idx=7, type=slop_phrase, phrase='mortal')                         \n",
      "BANNED (prompt_idx=18, type=ngram, ngram='eyes widened')                         \n",
      "BANNED (prompt_idx=27, type=slop_phrase, phrase='meticulously')                  \n",
      "BANNED (prompt_idx=38, type=slop_phrase, phrase='fading')                        \n",
      "Batch Generating:   8%|▊         | 3/40 [04:31<35:48, 58.06s/prompt, 112.2 tok/s]"
     ]
    },
    {
     "name": "stderr",
     "output_type": "stream",
     "text": [
      "2025-05-18 17:20:00,956 [ERROR] [core.sampler        ]: Back-track: no valid next-token candidates survived even after relaxation.\n"
     ]
    },
    {
     "name": "stdout",
     "output_type": "stream",
     "text": [
      "BANNED (prompt_idx=39, type=slop_phrase, phrase='revealing')                     \n",
      "BANNED (prompt_idx=10, type=slop_phrase, phrase='twisted')                       \n",
      "BANNED (prompt_idx=26, type=slop_phrase, phrase='chilling')                      \n",
      "BANNED (prompt_idx=23, type=slop_phrase, phrase='elias')                         \n",
      "BANNED (prompt_idx=1, type=slop_phrase, phrase='palpable')                       \n",
      "BANNED (prompt_idx=36, type=slop_phrase, phrase='echo')                          \n",
      "Batch Generating:   8%|▊         | 3/40 [04:32<35:48, 58.06s/prompt, 117.3 tok/s]"
     ]
    },
    {
     "name": "stderr",
     "output_type": "stream",
     "text": [
      "2025-05-18 17:20:01,990 [ERROR] [core.sampler        ]: Back-track: no valid next-token candidates survived even after relaxation.\n",
      "2025-05-18 17:20:02,177 [ERROR] [core.sampler        ]: Back-track: no valid next-token candidates survived even after relaxation.\n"
     ]
    },
    {
     "name": "stdout",
     "output_type": "stream",
     "text": [
      "BANNED (prompt_idx=0, type=slop_phrase, phrase='relentless')                     \n",
      "BANNED (prompt_idx=8, type=slop_phrase, phrase='fragile')                        \n",
      "BANNED (prompt_idx=19, type=slop_phrase, phrase='evelyn')                        \n",
      "BANNED (prompt_idx=13, type=slop_phrase, phrase='fingers trembling slightly')    \n",
      "BANNED (prompt_idx=35, type=slop_phrase, phrase='crackled')                      \n",
      "BANNED (prompt_idx=2, type=slop_phrase, phrase='etched')                         \n",
      "BANNED (prompt_idx=22, type=slop_phrase, phrase='terrifying')                    \n",
      "BANNED (prompt_idx=34, type=slop_phrase, phrase='relentless')                    \n",
      "BANNED (prompt_idx=25, type=slop_phrase, phrase='curiosity')                     \n",
      "BANNED (prompt_idx=28, type=slop_phrase, phrase='rain continued to fall')        \n",
      "BANNED (prompt_idx=31, type=slop_phrase, phrase='silas')                         \n",
      "BANNED (prompt_idx=6, type=slop_phrase, phrase='overwhelming')                   \n",
      "BANNED (prompt_idx=38, type=slop_phrase, phrase='whisper')                       \n",
      "Batch Generating:   8%|▊         | 3/40 [04:35<35:48, 58.06s/prompt, 101.3 tok/s]"
     ]
    },
    {
     "name": "stderr",
     "output_type": "stream",
     "text": [
      "2025-05-18 17:20:04,720 [ERROR] [core.sampler        ]: Back-track: no valid next-token candidates survived even after relaxation.\n"
     ]
    },
    {
     "name": "stdout",
     "output_type": "stream",
     "text": [
      "BANNED (prompt_idx=14, type=slop_phrase, phrase='unsettling')                    \n",
      "BANNED (prompt_idx=10, type=slop_phrase, phrase='stammered')                     \n",
      "BANNED (prompt_idx=39, type=ngram, ngram='said voice')                           \n",
      "BANNED (prompt_idx=8, type=slop_phrase, phrase='frantic')                        \n",
      "BANNED (prompt_idx=0, type=slop_phrase, phrase='stared')                         \n",
      "Batch Generating:   8%|▊         | 3/40 [04:36<35:48, 58.06s/prompt, 100.9 tok/s]"
     ]
    },
    {
     "name": "stderr",
     "output_type": "stream",
     "text": [
      "2025-05-18 17:20:06,075 [ERROR] [core.sampler        ]: Back-track: no valid next-token candidates survived even after relaxation.\n"
     ]
    },
    {
     "name": "stdout",
     "output_type": "stream",
     "text": [
      "BANNED (prompt_idx=23, type=slop_phrase, phrase='elias')                         \n",
      "BANNED (prompt_idx=17, type=slop_phrase, phrase='small, almost imperceptible')   \n",
      "BANNED (prompt_idx=35, type=slop_phrase, phrase='crackled')                      \n",
      "BANNED (prompt_idx=13, type=slop_phrase, phrase='fingers trembling slightly')    \n",
      "BANNED (prompt_idx=19, type=slop_phrase, phrase='pulse')                         \n",
      "BANNED (prompt_idx=36, type=slop_phrase, phrase='echo')                          \n",
      "Batch Generating:   8%|▊         | 3/40 [04:37<35:48, 58.06s/prompt, 109.5 tok/s]"
     ]
    },
    {
     "name": "stderr",
     "output_type": "stream",
     "text": [
      "2025-05-18 17:20:06,760 [ERROR] [core.sampler        ]: Back-track: no valid next-token candidates survived even after relaxation.\n"
     ]
    },
    {
     "name": "stdout",
     "output_type": "stream",
     "text": [
      "BANNED (prompt_idx=32, type=slop_phrase, phrase='felt a profound sense')         \n",
      "BANNED (prompt_idx=25, type=slop_phrase, phrase='curiosity')                     \n",
      "BANNED (prompt_idx=34, type=slop_phrase, phrase='unsettling')                    \n",
      "BANNED (prompt_idx=31, type=slop_phrase, phrase='flicker')                       \n",
      "BANNED (prompt_idx=5, type=slop_phrase, phrase='frantic')                        \n",
      "BANNED (prompt_idx=33, type=slop_phrase, phrase='pressing')                      \n",
      "BANNED (prompt_idx=7, type=slop_phrase, phrase='surge')                          \n",
      "BANNED (prompt_idx=4, type=regex, regex='\\bnot\\s+(?:just|only|merely)?\\s*(?:[^\\s]+\\s*){1,6}?[,;:—–-]?\\s*but\\s+(?:also\\s+)?', match='not really. But ')\n",
      "BANNED (prompt_idx=38, type=slop_phrase, phrase='whisper')                       \n",
      "Batch Generating:   8%|▊         | 3/40 [04:39<35:48, 58.06s/prompt, 112.2 tok/s]"
     ]
    },
    {
     "name": "stderr",
     "output_type": "stream",
     "text": [
      "2025-05-18 17:20:08,894 [ERROR] [core.sampler        ]: Back-track: no valid next-token candidates survived even after relaxation.\n"
     ]
    },
    {
     "name": "stdout",
     "output_type": "stream",
     "text": [
      "BANNED (prompt_idx=8, type=slop_phrase, phrase='fragile')                        \n",
      "Batch Generating:   8%|▊         | 3/40 [04:40<35:48, 58.06s/prompt, 102.9 tok/s]"
     ]
    },
    {
     "name": "stderr",
     "output_type": "stream",
     "text": [
      "2025-05-18 17:20:09,861 [ERROR] [core.sampler        ]: Back-track: no valid next-token candidates survived even after relaxation.\n"
     ]
    },
    {
     "name": "stdout",
     "output_type": "stream",
     "text": [
      "BANNED (prompt_idx=39, type=slop_phrase, phrase='revealing')                     \n",
      "BANNED (prompt_idx=0, type=slop_phrase, phrase='asked, his voice barely')        \n",
      "BANNED (prompt_idx=14, type=slop_phrase, phrase='paused')                       \n",
      "BANNED (prompt_idx=2, type=regex, regex='\\bnot\\s+(?:just|only|merely)?\\s*(?:[^\\s]+\\s*){1,6}?[,;:—–-]?\\s*but\\s+(?:also\\s+)?', match='Not rapidly, not dramatically, but ')\n",
      "BANNED (prompt_idx=22, type=slop_phrase, phrase='took a step back')             \n",
      "BANNED (prompt_idx=3, type=slop_phrase, phrase='unwavering')                     \n",
      "BANNED (prompt_idx=32, type=slop_phrase, phrase='whisper')                       \n",
      "BANNED (prompt_idx=13, type=slop_phrase, phrase='trembling')                     \n",
      "BANNED (prompt_idx=1, type=slop_phrase, phrase='laced')                          \n",
      "BANNED (prompt_idx=6, type=slop_phrase, phrase='terrifying')                     \n",
      "BANNED (prompt_idx=17, type=ngram, ngram='almost imperceptible')                 \n",
      "BANNED (prompt_idx=31, type=slop_phrase, phrase='flicker')                       \n",
      "BANNED (prompt_idx=11, type=regex, regex='\\bnot\\s+(?:just|only|merely)?\\s*(?:[^\\s]+\\s*){1,6}?[,;:—–-]?\\s*but\\s+(?:also\\s+)?', match='not with the thirst for good, but ')\n",
      "BANNED (prompt_idx=7, type=slop_phrase, phrase='profound')                       \n",
      "BANNED (prompt_idx=15, type=slop_phrase, phrase='paused')                        \n",
      "BANNED (prompt_idx=5, type=slop_phrase, phrase='frantic')                        \n",
      "BANNED (prompt_idx=18, type=slop_phrase, phrase='took a deep breath')            \n",
      "BANNED (prompt_idx=38, type=slop_phrase, phrase='faded')                         \n",
      "BANNED (prompt_idx=26, type=regex, regex='\\bnot\\s+(?:just|only|merely)?\\s*(?:[^\\s]+\\s*){1,6}?[,;:—–-]?\\s*but\\s+(?:also\\s+)?', match='not with comfort, but ')\n",
      "BANNED (prompt_idx=0, type=slop_phrase, phrase='widened')                        \n",
      "BANNED (prompt_idx=39, type=slop_phrase, phrase='revealing')                     \n",
      "Batch Generating:   8%|▊         | 3/40 [04:44<35:48, 58.06s/prompt, 116.9 tok/s]"
     ]
    },
    {
     "name": "stderr",
     "output_type": "stream",
     "text": [
      "2025-05-18 17:20:14,236 [ERROR] [core.sampler        ]: Back-track: no valid next-token candidates survived even after relaxation.\n"
     ]
    },
    {
     "name": "stdout",
     "output_type": "stream",
     "text": [
      "BANNED (prompt_idx=2, type=regex, regex='\\bnot\\s+(?:just|only|merely)?\\s*(?:[^\\s]+\\s*){1,6}?[,;:—–-]?\\s*but\\s+(?:also\\s+)?', match='Not rapidly, not dramatically, but ')\n",
      "BANNED (prompt_idx=32, type=slop_phrase, phrase='profound')                      \n",
      "BANNED (prompt_idx=35, type=slop_phrase, phrase='raced')                         \n",
      "BANNED (prompt_idx=23, type=slop_phrase, phrase='elias')                         \n",
      "BANNED (prompt_idx=4, type=slop_phrase, phrase='subtle')                         \n",
      "BANNED (prompt_idx=27, type=slop_phrase, phrase='profound')                      \n",
      "BANNED (prompt_idx=19, type=slop_phrase, phrase='chilling')                      \n",
      "BANNED (prompt_idx=13, type=ngram, ngram='eyes widening')                        \n",
      "BANNED (prompt_idx=14, type=ngram, ngram='first time')                           \n",
      "BANNED (prompt_idx=25, type=slop_phrase, phrase='void')                          \n",
      "BANNED (prompt_idx=31, type=slop_phrase, phrase='flicker')                       \n",
      "BANNED (prompt_idx=10, type=slop_phrase, phrase='profound')                      \n",
      "BANNED (prompt_idx=1, type=slop_phrase, phrase='gently')                        \n",
      "BANNED (prompt_idx=36, type=slop_phrase, phrase='realization')                  \n",
      "BANNED (prompt_idx=11, type=slop_phrase, phrase='relentless')                   \n",
      "BANNED (prompt_idx=21, type=slop_phrase, phrase='stared')                       \n",
      "BANNED (prompt_idx=7, type=slop_phrase, phrase='surge')                         \n",
      "BANNED (prompt_idx=17, type=slop_phrase, phrase='subtle')                       \n",
      "BANNED (prompt_idx=12, type=slop_phrase, phrase='paused')                       \n",
      "BANNED (prompt_idx=18, type=ngram, ngram='stepped forward')                     \n",
      "BANNED (prompt_idx=8, type=slop_phrase, phrase='profound')                      \n",
      "BANNED (prompt_idx=38, type=slop_phrase, phrase='whisper')                      \n",
      "BANNED (prompt_idx=33, type=slop_phrase, phrase='gaze')                         \n",
      "Batch Generating:  10%|█         | 4/40 [04:48<34:51, 58.10s/prompt, 94.0 tok/s]"
     ]
    },
    {
     "name": "stderr",
     "output_type": "stream",
     "text": [
      "2025-05-18 17:20:17,614 [ERROR] [core.sampler        ]: Back-track: no valid next-token candidates survived even after relaxation.\n"
     ]
    },
    {
     "name": "stdout",
     "output_type": "stream",
     "text": [
      "BANNED (prompt_idx=0, type=slop_phrase, phrase='shadows')                        \n",
      "BANNED (prompt_idx=2, type=slop_phrase, phrase='fading')                        \n",
      "BANNED (prompt_idx=16, type=slop_phrase, phrase='sigh')                          \n",
      "BANNED (prompt_idx=4, type=slop_phrase, phrase='profound')                       \n",
      "BANNED (prompt_idx=39, type=slop_phrase, phrase='whisper')                       \n",
      "BANNED (prompt_idx=32, type=slop_phrase, phrase='surge')                         \n",
      "BANNED (prompt_idx=28, type=slop_phrase, phrase='faint')                         \n",
      "BANNED (prompt_idx=23, type=slop_phrase, phrase='elias')                        \n",
      "BANNED (prompt_idx=10, type=slop_phrase, phrase='profound')                     \n",
      "BANNED (prompt_idx=13, type=slop_phrase, phrase='whisper')                      \n",
      "BANNED (prompt_idx=31, type=slop_phrase, phrase='rhythm')                       \n",
      "BANNED (prompt_idx=11, type=regex, regex='\\bnot\\s+(?:just|only|merely)?\\s*(?:[^\\s]+\\s*){1,6}?[,;:—–-]?\\s*but\\s+(?:also\\s+)?', match='not for the sake of learning, but ')\n",
      "BANNED (prompt_idx=7, type=slop_phrase, phrase='subtle')                        \n",
      "BANNED (prompt_idx=14, type=ngram, ngram='first time')                          \n",
      "BANNED (prompt_idx=8, type=slop_phrase, phrase='profound')                      \n",
      "BANNED (prompt_idx=1, type=slop_phrase, phrase='laced')                         \n",
      "BANNED (prompt_idx=26, type=slop_phrase, phrase='unsettling')                   \n",
      "BANNED (prompt_idx=18, type=slop_phrase, phrase='took a deep breath')           \n",
      "BANNED (prompt_idx=38, type=slop_phrase, phrase='whisper')                      \n",
      "Batch Generating:  12%|█▎        | 5/40 [04:52<22:29, 38.55s/prompt, 93.7 tok/s]"
     ]
    },
    {
     "name": "stderr",
     "output_type": "stream",
     "text": [
      "2025-05-18 17:20:21,844 [ERROR] [core.sampler        ]: Back-track: no valid next-token candidates survived even after relaxation.\n"
     ]
    },
    {
     "name": "stdout",
     "output_type": "stream",
     "text": [
      "BANNED (prompt_idx=5, type=slop_phrase, phrase='took a deep breath')            \n",
      "BANNED (prompt_idx=24, type=slop_phrase, phrase='chilling')                     \n",
      "BANNED (prompt_idx=2, type=slop_phrase, phrase='said, my voice barely')          \n",
      "BANNED (prompt_idx=17, type=regex, regex='\\bnot\\s+(?:just|only|merely)?\\s*(?:[^\\s]+\\s*){1,6}?[,;:—–-]?\\s*but\\s+(?:also\\s+)?', match='not encouragement.  It acknowledges the male’s distress but ')\n",
      "BANNED (prompt_idx=37, type=slop_phrase, phrase='flicker')                       \n",
      "BANNED (prompt_idx=21, type=ngram, ngram='long moment')                         \n",
      "BANNED (prompt_idx=32, type=slop_phrase, phrase='profound')                     \n",
      "BANNED (prompt_idx=22, type=regex, regex='\\bnot\\s+(?:just|only|merely)?\\s*(?:[^\\s]+\\s*){1,6}?[,;:—–-]?\\s*but\\s+(?:also\\s+)?', match='Not spoken aloud, but ')\n",
      "Batch Generating:  12%|█▎        | 5/40 [04:53<22:29, 38.55s/prompt, 95.8 tok/s]"
     ]
    },
    {
     "name": "stderr",
     "output_type": "stream",
     "text": [
      "2025-05-18 17:20:23,003 [ERROR] [core.sampler        ]: Back-track: no valid next-token candidates survived even after relaxation.\n"
     ]
    },
    {
     "name": "stdout",
     "output_type": "stream",
     "text": [
      "BANNED (prompt_idx=39, type=slop_phrase, phrase='revealing')                    \n",
      "BANNED (prompt_idx=6, type=slop_phrase, phrase='shouted')                       \n",
      "BANNED (prompt_idx=16, type=slop_phrase, phrase='mortal')                        \n",
      "BANNED (prompt_idx=29, type=slop_phrase, phrase='whisper')                       \n",
      "BANNED (prompt_idx=10, type=slop_phrase, phrase='elias')                         \n",
      "BANNED (prompt_idx=19, type=slop_phrase, phrase='blood ran cold')               \n",
      "BANNED (prompt_idx=31, type=slop_phrase, phrase='chaotic')                      \n",
      "BANNED (prompt_idx=13, type=slop_phrase, phrase='nodded')                       \n",
      "BANNED (prompt_idx=25, type=slop_phrase, phrase='glow')                         \n",
      "BANNED (prompt_idx=28, type=slop_phrase, phrase='echo')                         \n",
      "BANNED (prompt_idx=8, type=slop_phrase, phrase='fragile')                       \n",
      "BANNED (prompt_idx=11, type=regex, regex='\\bnot\\s+(?:just|only|merely)?\\s*(?:[^\\s]+\\s*){1,6}?[,;:—–-]?\\s*but\\s+(?:also\\s+)?', match='not for wisdom, but ')\n",
      "BANNED (prompt_idx=27, type=ngram, ngram='constant reminder')                   \n",
      "BANNED (prompt_idx=7, type=slop_phrase, phrase='pulse')                         \n",
      "BANNED (prompt_idx=4, type=slop_phrase, phrase='gently')                        \n",
      "BANNED (prompt_idx=18, type=slop_phrase, phrase='raced')                        \n",
      "BANNED (prompt_idx=24, type=slop_phrase, phrase='terrifying')                   \n",
      "Batch Generating:  12%|█▎        | 5/40 [04:56<22:29, 38.55s/prompt, 94.1 tok/s]"
     ]
    },
    {
     "name": "stderr",
     "output_type": "stream",
     "text": [
      "2025-05-18 17:20:25,789 [ERROR] [core.sampler        ]: Back-track: no valid next-token candidates survived even after relaxation.\n"
     ]
    },
    {
     "name": "stdout",
     "output_type": "stream",
     "text": [
      "BANNED (prompt_idx=0, type=slop_phrase, phrase='stretched')                     \n",
      "BANNED (prompt_idx=38, type=slop_phrase, phrase='vanished')                     \n",
      "BANNED (prompt_idx=36, type=slop_phrase, phrase='said, his voice laced')        \n",
      "BANNED (prompt_idx=32, type=slop_phrase, phrase='profound')                     \n",
      "BANNED (prompt_idx=14, type=slop_phrase, phrase='flicker')                      \n",
      "BANNED (prompt_idx=2, type=slop_phrase, phrase='voice barely a whisper')        \n",
      "BANNED (prompt_idx=22, type=regex, regex='\\bnot\\s+(?:just|only|merely)?\\s*(?:[^\\s]+\\s*){1,6}?[,;:—–-]?\\s*but\\s+(?:also\\s+)?', match='Not spoken aloud, but ')\n",
      "BANNED (prompt_idx=37, type=slop_phrase, phrase='faint')                        \n",
      "BANNED (prompt_idx=39, type=slop_phrase, phrase='revealing')                    \n",
      "BANNED (prompt_idx=10, type=slop_phrase, phrase='elias')                        \n",
      "Batch Generating:  15%|█▌        | 6/40 [04:58<15:15, 26.93s/prompt, 80.7 tok/s]"
     ]
    },
    {
     "name": "stderr",
     "output_type": "stream",
     "text": [
      "2025-05-18 17:20:27,351 [ERROR] [core.sampler        ]: Back-track: no valid next-token candidates survived even after relaxation.\n"
     ]
    },
    {
     "name": "stdout",
     "output_type": "stream",
     "text": [
      "BANNED (prompt_idx=23, type=ngram, ngram='something else')                      \n",
      "Batch Generating:  15%|█▌        | 6/40 [04:58<15:15, 26.93s/prompt, 80.0 tok/s]"
     ]
    },
    {
     "name": "stderr",
     "output_type": "stream",
     "text": [
      "2025-05-18 17:20:28,100 [ERROR] [core.sampler        ]: Back-track: no valid next-token candidates survived even after relaxation.\n"
     ]
    },
    {
     "name": "stdout",
     "output_type": "stream",
     "text": [
      "BANNED (prompt_idx=31, type=slop_phrase, phrase='rhythm')                       \n",
      "BANNED (prompt_idx=29, type=slop_phrase, phrase='whisper')                      \n",
      "BANNED (prompt_idx=12, type=regex, regex='\\bnot\\s+(?:just|only|merely)?\\s*(?:[^\\s]+\\s*){1,6}?[,;:—–-]?\\s*but\\s+(?:also\\s+)?', match='not that they fight for peace, but ')\n",
      "BANNED (prompt_idx=19, type=slop_phrase, phrase='twisted')                      \n",
      "BANNED (prompt_idx=21, type=slop_phrase, phrase='flicker')                      \n",
      "BANNED (prompt_idx=8, type=slop_phrase, phrase='whisper')                       \n",
      "BANNED (prompt_idx=13, type=slop_phrase, phrase='fragile')                      \n",
      "BANNED (prompt_idx=4, type=slop_phrase, phrase='delicate')                      \n",
      "BANNED (prompt_idx=11, type=slop_phrase, phrase='void')                         \n",
      "BANNED (prompt_idx=7, type=slop_phrase, phrase='subtle')                        \n",
      "Batch Generating:  15%|█▌        | 6/40 [05:00<15:15, 26.93s/prompt, 84.2 tok/s]"
     ]
    },
    {
     "name": "stderr",
     "output_type": "stream",
     "text": [
      "2025-05-18 17:20:29,730 [ERROR] [core.sampler        ]: Back-track: no valid next-token candidates survived even after relaxation.\n"
     ]
    },
    {
     "name": "stdout",
     "output_type": "stream",
     "text": [
      "BANNED (prompt_idx=18, type=slop_phrase, phrase='raced')                        \n",
      "BANNED (prompt_idx=0, type=slop_phrase, phrase='profound')                      \n",
      "BANNED (prompt_idx=27, type=slop_phrase, phrase='clung')                        \n",
      "BANNED (prompt_idx=38, type=slop_phrase, phrase='whisper')                      \n",
      "Batch Generating:  15%|█▌        | 6/40 [05:00<15:15, 26.93s/prompt, 88.6 tok/s]"
     ]
    },
    {
     "name": "stderr",
     "output_type": "stream",
     "text": [
      "2025-05-18 17:20:30,212 [ERROR] [core.sampler        ]: Back-track: no valid next-token candidates survived even after relaxation.\n"
     ]
    },
    {
     "name": "stdout",
     "output_type": "stream",
     "text": [
      "BANNED (prompt_idx=6, type=slop_phrase, phrase='echo')                          \n",
      "BANNED (prompt_idx=1, type=slop_phrase, phrase='said, his voice low')           \n",
      "BANNED (prompt_idx=2, type=slop_phrase, phrase='trembling')                     \n",
      "BANNED (prompt_idx=36, type=slop_phrase, phrase='voice barely a whisper')       \n",
      "BANNED (prompt_idx=35, type=ngram, ngram='eyes filled')                         \n",
      "BANNED (prompt_idx=39, type=ngram, ngram='voice filled')                        \n",
      "BANNED (prompt_idx=14, type=ngram, ngram='something akin')                      \n",
      "BANNED (prompt_idx=37, type=slop_phrase, phrase='flicker')                      \n",
      "BANNED (prompt_idx=33, type=slop_phrase, phrase='amusement')                    \n",
      "BANNED (prompt_idx=15, type=slop_phrase, phrase='gaze')                         \n",
      "BANNED (prompt_idx=34, type=slop_phrase, phrase='vanished')                     \n",
      "Batch Generating:  15%|█▌        | 6/40 [05:02<15:15, 26.93s/prompt, 88.5 tok/s]"
     ]
    },
    {
     "name": "stderr",
     "output_type": "stream",
     "text": [
      "2025-05-18 17:20:32,164 [ERROR] [core.sampler        ]: Back-track: no valid next-token candidates survived even after relaxation.\n"
     ]
    },
    {
     "name": "stdout",
     "output_type": "stream",
     "text": [
      "BANNED (prompt_idx=31, type=slop_phrase, phrase='rhythm')                       \n",
      "BANNED (prompt_idx=23, type=slop_phrase, phrase='elias')                        \n",
      "BANNED (prompt_idx=19, type=slop_phrase, phrase='chilling')                     \n",
      "BANNED (prompt_idx=29, type=slop_phrase, phrase='whisper')                      \n",
      "BANNED (prompt_idx=11, type=slop_phrase, phrase='whisper')                      \n",
      "BANNED (prompt_idx=13, type=slop_phrase, phrase='small, almost imperceptible')  \n",
      "BANNED (prompt_idx=21, type=slop_phrase, phrase='profound')                     \n",
      "BANNED (prompt_idx=32, type=regex, regex='\\bnot\\s+(?:just|only|merely)?\\s*(?:[^\\s]+\\s*){1,6}?[,;:—–-]?\\s*but\\s+(?:also\\s+)?', match='not through grand gestures or heroic deeds, but ')\n",
      "BANNED (prompt_idx=18, type=ngram, ngram='stepped forward')                     \n",
      "Batch Generating:  15%|█▌        | 6/40 [05:04<15:15, 26.93s/prompt, 95.5 tok/s]"
     ]
    },
    {
     "name": "stderr",
     "output_type": "stream",
     "text": [
      "2025-05-18 17:20:34,299 [ERROR] [core.sampler        ]: Back-track: no valid next-token candidates survived even after relaxation.\n"
     ]
    },
    {
     "name": "stdout",
     "output_type": "stream",
     "text": [
      "BANNED (prompt_idx=38, type=slop_phrase, phrase='whisper')                      \n",
      "BANNED (prompt_idx=22, type=slop_phrase, phrase='utterly')                      \n",
      "BANNED (prompt_idx=2, type=slop_phrase, phrase='nodded')                        \n",
      "BANNED (prompt_idx=10, type=slop_phrase, phrase='elias')                        \n",
      "BANNED (prompt_idx=28, type=slop_phrase, phrase='unwavering')                   \n",
      "BANNED (prompt_idx=36, type=slop_phrase, phrase='unsettling')                   \n",
      "BANNED (prompt_idx=35, type=ngram, ngram='said voice')                          \n",
      "BANNED (prompt_idx=39, type=slop_phrase, phrase='revealing')                    \n",
      "Batch Generating:  15%|█▌        | 6/40 [05:06<15:15, 26.93s/prompt, 99.0 tok/s]"
     ]
    },
    {
     "name": "stderr",
     "output_type": "stream",
     "text": [
      "2025-05-18 17:20:35,835 [ERROR] [core.sampler        ]: Back-track: no valid next-token candidates survived even after relaxation.\n",
      "2025-05-18 17:20:36,096 [ERROR] [core.sampler        ]: Back-track: no valid next-token candidates survived even after relaxation.\n"
     ]
    },
    {
     "name": "stdout",
     "output_type": "stream",
     "text": [
      "BANNED (prompt_idx=31, type=slop_phrase, phrase='rhythm')                       \n",
      "BANNED (prompt_idx=37, type=slop_phrase, phrase='metallic')                      \n",
      "BANNED (prompt_idx=23, type=slop_phrase, phrase='rhythm')                        \n",
      "BANNED (prompt_idx=33, type=slop_phrase, phrase='amusement')                    \n",
      "BANNED (prompt_idx=15, type=ngram, ngram='eyes fixed')                          \n",
      "BANNED (prompt_idx=14, type=slop_phrase, phrase='shifted')                       \n",
      "BANNED (prompt_idx=25, type=slop_phrase, phrase='relentless')                    \n",
      "BANNED (prompt_idx=11, type=slop_phrase, phrase='whisper')                       \n",
      "BANNED (prompt_idx=13, type=slop_phrase, phrase='flicker')                       \n",
      "BANNED (prompt_idx=0, type=slop_phrase, phrase='countless')                      \n",
      "BANNED (prompt_idx=32, type=slop_phrase, phrase='spark')                         \n",
      "Batch Generating:  15%|█▌        | 6/40 [05:08<15:15, 26.93s/prompt, 114.9 tok/s]"
     ]
    },
    {
     "name": "stderr",
     "output_type": "stream",
     "text": [
      "2025-05-18 17:20:37,979 [ERROR] [core.sampler        ]: Back-track: no valid next-token candidates survived even after relaxation.\n"
     ]
    },
    {
     "name": "stdout",
     "output_type": "stream",
     "text": [
      "BANNED (prompt_idx=18, type=slop_phrase, phrase='raced')                         \n",
      "BANNED (prompt_idx=22, type=slop_phrase, phrase='profound')                      \n",
      "BANNED (prompt_idx=10, type=slop_phrase, phrase='said, his voice barely')        \n",
      "BANNED (prompt_idx=2, type=slop_phrase, phrase='whisper')                        \n",
      "BANNED (prompt_idx=38, type=slop_phrase, phrase='profound')                      \n",
      "BANNED (prompt_idx=12, type=slop_phrase, phrase='paused')                        \n",
      "BANNED (prompt_idx=21, type=ngram, ngram='something akin')                      \n",
      "BANNED (prompt_idx=8, type=slop_phrase, phrase='shadows')                       \n",
      "BANNED (prompt_idx=28, type=slop_phrase, phrase='utterly')                      \n",
      "BANNED (prompt_idx=35, type=slop_phrase, phrase='stammered')                    \n",
      "Batch Generating:  18%|█▊        | 7/40 [05:10<12:27, 22.64s/prompt, 98.6 tok/s]"
     ]
    },
    {
     "name": "stderr",
     "output_type": "stream",
     "text": [
      "2025-05-18 17:20:40,014 [ERROR] [core.sampler        ]: Back-track: no valid next-token candidates survived even after relaxation.\n"
     ]
    },
    {
     "name": "stdout",
     "output_type": "stream",
     "text": [
      "BANNED (prompt_idx=39, type=slop_phrase, phrase='revealing')                    \n",
      "BANNED (prompt_idx=31, type=slop_phrase, phrase='hand instinctively reaching')  \n",
      "BANNED (prompt_idx=23, type=slop_phrase, phrase='rhythm')                       \n",
      "BANNED (prompt_idx=37, type=slop_phrase, phrase='flicker')                      \n",
      "BANNED (prompt_idx=11, type=slop_phrase, phrase='chilling')                     \n",
      "BANNED (prompt_idx=25, type=slop_phrase, phrase='took a step back')             \n",
      "BANNED (prompt_idx=15, type=slop_phrase, phrase='gaze')                         \n",
      "BANNED (prompt_idx=0, type=slop_phrase, phrase='hollow')                        \n",
      "BANNED (prompt_idx=6, type=slop_phrase, phrase='rain continued to fall')        \n",
      "BANNED (prompt_idx=13, type=ngram, ngram='strange sense')                       \n",
      "BANNED (prompt_idx=7, type=slop_phrase, phrase='whisper')                       \n",
      "BANNED (prompt_idx=10, type=slop_phrase, phrase='whisper')                      \n",
      "BANNED (prompt_idx=22, type=slop_phrase, phrase='profound')                     \n",
      "BANNED (prompt_idx=14, type=regex, regex='\\bnot\\s+(?:just|only|merely)?\\s*(?:[^\\s]+\\s*){1,6}?[,;:—–-]?\\s*but\\s+(?:also\\s+)?', match='Not joyful, not ecstatic, but ')\n",
      "Batch Generating:  18%|█▊        | 7/40 [05:12<12:27, 22.64s/prompt, 87.1 tok/s]"
     ]
    },
    {
     "name": "stderr",
     "output_type": "stream",
     "text": [
      "2025-05-18 17:20:42,050 [ERROR] [core.sampler        ]: Back-track: no valid next-token candidates survived even after relaxation.\n"
     ]
    },
    {
     "name": "stdout",
     "output_type": "stream",
     "text": [
      "BANNED (prompt_idx=18, type=slop_phrase, phrase='raced')                        \n",
      "BANNED (prompt_idx=2, type=slop_phrase, phrase='said, his voice barely')        \n",
      "Batch Generating:  18%|█▊        | 7/40 [05:12<12:27, 22.64s/prompt, 89.8 tok/s]"
     ]
    },
    {
     "name": "stderr",
     "output_type": "stream",
     "text": [
      "2025-05-18 17:20:42,339 [ERROR] [core.sampler        ]: Back-track: no valid next-token candidates survived even after relaxation.\n"
     ]
    },
    {
     "name": "stdout",
     "output_type": "stream",
     "text": [
      "BANNED (prompt_idx=38, type=slop_phrase, phrase='whisper')                      \n",
      "BANNED (prompt_idx=4, type=ngram, ngram='almost imperceptible')                 \n",
      "BANNED (prompt_idx=8, type=slop_phrase, phrase='leaned')                        \n",
      "Batch Generating:  18%|█▊        | 7/40 [05:13<12:27, 22.64s/prompt, 73.0 tok/s]"
     ]
    },
    {
     "name": "stderr",
     "output_type": "stream",
     "text": [
      "2025-05-18 17:20:43,703 [ERROR] [core.sampler        ]: Back-track: no valid next-token candidates survived even after relaxation.\n"
     ]
    },
    {
     "name": "stdout",
     "output_type": "stream",
     "text": [
      "BANNED (prompt_idx=35, type=ngram, ngram='said voice')                          \n",
      "Batch Generating:  18%|█▊        | 7/40 [05:14<12:27, 22.64s/prompt, 85.4 tok/s]"
     ]
    },
    {
     "name": "stderr",
     "output_type": "stream",
     "text": [
      "2025-05-18 17:20:44,015 [ERROR] [core.sampler        ]: Back-track: no valid next-token candidates survived even after relaxation.\n"
     ]
    },
    {
     "name": "stdout",
     "output_type": "stream",
     "text": [
      "BANNED (prompt_idx=31, type=slop_phrase, phrase='rhythm')                       \n",
      "Batch Generating:  18%|█▊        | 7/40 [05:14<12:27, 22.64s/prompt, 84.1 tok/s]"
     ]
    },
    {
     "name": "stderr",
     "output_type": "stream",
     "text": [
      "2025-05-18 17:20:44,230 [ERROR] [core.sampler        ]: Back-track: no valid next-token candidates survived even after relaxation.\n"
     ]
    },
    {
     "name": "stdout",
     "output_type": "stream",
     "text": [
      "BANNED (prompt_idx=39, type=slop_phrase, phrase='murmured')                     \n",
      "BANNED (prompt_idx=12, type=slop_phrase, phrase='static')                       \n",
      "BANNED (prompt_idx=23, type=slop_phrase, phrase='rhythm')                       \n",
      "BANNED (prompt_idx=21, type=ngram, ngram='raised hand')                         \n",
      "BANNED (prompt_idx=11, type=slop_phrase, phrase='whisper')                      \n",
      "BANNED (prompt_idx=32, type=slop_phrase, phrase='surge')                        \n",
      "BANNED (prompt_idx=0, type=slop_phrase, phrase='hollow')                        \n",
      "BANNED (prompt_idx=6, type=ngram, ngram='looked around')                        \n",
      "BANNED (prompt_idx=37, type=slop_phrase, phrase='flicker')                      \n",
      "BANNED (prompt_idx=25, type=slop_phrase, phrase='lyra')                         \n",
      "BANNED (prompt_idx=10, type=slop_phrase, phrase='said, his voice barely')       \n",
      "BANNED (prompt_idx=33, type=ngram, ngram='replied voice')                       \n",
      "BANNED (prompt_idx=7, type=slop_phrase, phrase='subtle')                         \n",
      "BANNED (prompt_idx=15, type=slop_phrase, phrase='subtle')                        \n",
      "BANNED (prompt_idx=4, type=slop_phrase, phrase='subtle')                         \n",
      "BANNED (prompt_idx=13, type=slop_phrase, phrase='faint')                         \n",
      "BANNED (prompt_idx=2, type=slop_phrase, phrase='whisper')                        \n",
      "Batch Generating:  18%|█▊        | 7/40 [05:16<12:27, 22.64s/prompt, 104.5 tok/s]"
     ]
    },
    {
     "name": "stderr",
     "output_type": "stream",
     "text": [
      "2025-05-18 17:20:45,960 [ERROR] [core.sampler        ]: Back-track: no valid next-token candidates survived even after relaxation.\n"
     ]
    },
    {
     "name": "stdout",
     "output_type": "stream",
     "text": [
      "BANNED (prompt_idx=18, type=ngram, ngram='sound like')                           \n",
      "BANNED (prompt_idx=38, type=slop_phrase, phrase='whisper')                       \n",
      "Batch Generating:  18%|█▊        | 7/40 [05:17<12:27, 22.64s/prompt, 95.0 tok/s]"
     ]
    },
    {
     "name": "stderr",
     "output_type": "stream",
     "text": [
      "2025-05-18 17:20:46,274 [ERROR] [core.sampler        ]: Back-track: no valid next-token candidates survived even after relaxation.\n"
     ]
    },
    {
     "name": "stdout",
     "output_type": "stream",
     "text": [
      "BANNED (prompt_idx=8, type=slop_phrase, phrase='scent')                         \n",
      "BANNED (prompt_idx=34, type=slop_phrase, phrase='dread')                        \n",
      "BANNED (prompt_idx=14, type=ngram, ngram='something akin')                      \n",
      "BANNED (prompt_idx=31, type=slop_phrase, phrase='silas')                        \n",
      "BANNED (prompt_idx=39, type=ngram, ngram='eyes wide')                           \n",
      "Batch Generating:  18%|█▊        | 7/40 [05:19<12:27, 22.64s/prompt, 64.7 tok/s]"
     ]
    },
    {
     "name": "stderr",
     "output_type": "stream",
     "text": [
      "2025-05-18 17:20:48,872 [ERROR] [core.sampler        ]: Back-track: no valid next-token candidates survived even after relaxation.\n"
     ]
    },
    {
     "name": "stdout",
     "output_type": "stream",
     "text": [
      "BANNED (prompt_idx=23, type=slop_phrase, phrase='rhythm')                       \n",
      "BANNED (prompt_idx=32, type=slop_phrase, phrase='felt a flicker of something')  \n",
      "BANNED (prompt_idx=1, type=slop_phrase, phrase='shattered')                     \n",
      "BANNED (prompt_idx=10, type=ngram, ngram='voice laced')                         \n",
      "BANNED (prompt_idx=11, type=slop_phrase, phrase='whisper')                      \n",
      "BANNED (prompt_idx=4, type=slop_phrase, phrase='flicker')                       \n",
      "BANNED (prompt_idx=36, type=slop_phrase, phrase='flicker')                      \n",
      "BANNED (prompt_idx=22, type=slop_phrase, phrase='pounding')                     \n",
      "Batch Generating:  18%|█▊        | 7/40 [05:20<12:27, 22.64s/prompt, 71.3 tok/s]"
     ]
    },
    {
     "name": "stderr",
     "output_type": "stream",
     "text": [
      "2025-05-18 17:20:49,904 [ERROR] [core.sampler        ]: Back-track: no valid next-token candidates survived even after relaxation.\n"
     ]
    },
    {
     "name": "stdout",
     "output_type": "stream",
     "text": [
      "BANNED (prompt_idx=2, type=slop_phrase, phrase='whisper')                       \n",
      "BANNED (prompt_idx=37, type=slop_phrase, phrase='cracked')                      \n",
      "BANNED (prompt_idx=12, type=slop_phrase, phrase='static')                       \n",
      "BANNED (prompt_idx=33, type=slop_phrase, phrase='muttered')                     \n",
      "BANNED (prompt_idx=18, type=slop_phrase, phrase='raced')                        \n",
      "BANNED (prompt_idx=8, type=slop_phrase, phrase='scent')                         \n",
      "BANNED (prompt_idx=38, type=slop_phrase, phrase='realization')                  \n",
      "Batch Generating:  18%|█▊        | 7/40 [05:21<12:27, 22.64s/prompt, 66.9 tok/s]"
     ]
    },
    {
     "name": "stderr",
     "output_type": "stream",
     "text": [
      "2025-05-18 17:20:50,214 [ERROR] [core.sampler        ]: Back-track: no valid next-token candidates survived even after relaxation.\n"
     ]
    },
    {
     "name": "stdout",
     "output_type": "stream",
     "text": [
      "BANNED (prompt_idx=29, type=slop_phrase, phrase='paused')                       \n",
      "BANNED (prompt_idx=35, type=slop_phrase, phrase='voice devoid of emotion')      \n",
      "BANNED (prompt_idx=31, type=slop_phrase, phrase='silas')                        \n",
      "Batch Generating:  18%|█▊        | 7/40 [05:22<12:27, 22.64s/prompt, 57.9 tok/s]"
     ]
    },
    {
     "name": "stderr",
     "output_type": "stream",
     "text": [
      "2025-05-18 17:20:52,171 [ERROR] [core.sampler        ]: Back-track: no valid next-token candidates survived even after relaxation.\n"
     ]
    },
    {
     "name": "stdout",
     "output_type": "stream",
     "text": [
      "BANNED (prompt_idx=39, type=slop_phrase, phrase='revealing')                    \n",
      "BANNED (prompt_idx=10, type=slop_phrase, phrase='gaze')                         \n",
      "BANNED (prompt_idx=23, type=slop_phrase, phrase='rhythm')                       \n",
      "BANNED (prompt_idx=5, type=slop_phrase, phrase='revealing')                     \n",
      "BANNED (prompt_idx=4, type=slop_phrase, phrase='pale')                          \n",
      "Batch Generating:  18%|█▊        | 7/40 [05:23<12:27, 22.64s/prompt, 76.9 tok/s]"
     ]
    },
    {
     "name": "stderr",
     "output_type": "stream",
     "text": [
      "2025-05-18 17:20:52,836 [ERROR] [core.sampler        ]: Back-track: no valid next-token candidates survived even after relaxation.\n"
     ]
    },
    {
     "name": "stdout",
     "output_type": "stream",
     "text": [
      "BANNED (prompt_idx=0, type=slop_phrase, phrase='flicker')                       \n",
      "BANNED (prompt_idx=11, type=slop_phrase, phrase='whisper')                      \n",
      "BANNED (prompt_idx=25, type=slop_phrase, phrase='lyra')                         \n",
      "BANNED (prompt_idx=1, type=slop_phrase, phrase='revealing')                     \n",
      "BANNED (prompt_idx=36, type=slop_phrase, phrase='faint')                        \n",
      "BANNED (prompt_idx=27, type=slop_phrase, phrase='chilling')                     \n",
      "Batch Generating:  18%|█▊        | 7/40 [05:24<12:27, 22.64s/prompt, 93.2 tok/s]"
     ]
    },
    {
     "name": "stderr",
     "output_type": "stream",
     "text": [
      "2025-05-18 17:20:54,264 [ERROR] [core.sampler        ]: Back-track: no valid next-token candidates survived even after relaxation.\n",
      "2025-05-18 17:20:54,447 [ERROR] [core.sampler        ]: Back-track: no valid next-token candidates survived even after relaxation.\n"
     ]
    },
    {
     "name": "stdout",
     "output_type": "stream",
     "text": [
      "BANNED (prompt_idx=2, type=slop_phrase, phrase='whisper')                       \n",
      "BANNED (prompt_idx=18, type=slop_phrase, phrase='chuckled')                     \n",
      "BANNED (prompt_idx=38, type=slop_phrase, phrase='whisper')                      \n",
      "BANNED (prompt_idx=33, type=slop_phrase, phrase='surge')                        \n",
      "BANNED (prompt_idx=15, type=slop_phrase, phrase='paused')                       \n",
      "BANNED (prompt_idx=12, type=slop_phrase, phrase='liam')                         \n",
      "BANNED (prompt_idx=31, type=slop_phrase, phrase='rhythm')                       \n",
      "Batch Generating:  18%|█▊        | 7/40 [05:26<12:27, 22.64s/prompt, 79.5 tok/s]"
     ]
    },
    {
     "name": "stderr",
     "output_type": "stream",
     "text": [
      "2025-05-18 17:20:55,523 [ERROR] [core.sampler        ]: Back-track: no valid next-token candidates survived even after relaxation.\n"
     ]
    },
    {
     "name": "stdout",
     "output_type": "stream",
     "text": [
      "BANNED (prompt_idx=35, type=slop_phrase, phrase='gaze')                         \n",
      "BANNED (prompt_idx=21, type=slop_phrase, phrase='sigh')                         \n",
      "Batch Generating:  18%|█▊        | 7/40 [05:26<12:27, 22.64s/prompt, 82.2 tok/s]"
     ]
    },
    {
     "name": "stderr",
     "output_type": "stream",
     "text": [
      "2025-05-18 17:20:56,126 [ERROR] [core.sampler        ]: Back-track: no valid next-token candidates survived even after relaxation.\n",
      "2025-05-18 17:20:56,325 [ERROR] [core.sampler        ]: Back-track: no valid next-token candidates survived even after relaxation.\n"
     ]
    },
    {
     "name": "stdout",
     "output_type": "stream",
     "text": [
      "BANNED (prompt_idx=39, type=slop_phrase, phrase='revealing')                    \n",
      "BANNED (prompt_idx=34, type=ngram, ngram='felt surge')                          \n",
      "BANNED (prompt_idx=10, type=slop_phrase, phrase='voice barely audible')         \n",
      "BANNED (prompt_idx=32, type=slop_phrase, phrase='warmth')                       \n",
      "BANNED (prompt_idx=4, type=slop_phrase, phrase='hint')                          \n",
      "BANNED (prompt_idx=23, type=slop_phrase, phrase='rhythm')                        \n",
      "Batch Generating:  18%|█▊        | 7/40 [05:27<12:27, 22.64s/prompt, 103.6 tok/s]"
     ]
    },
    {
     "name": "stderr",
     "output_type": "stream",
     "text": [
      "2025-05-18 17:20:56,882 [ERROR] [core.sampler        ]: Back-track: no valid next-token candidates survived even after relaxation.\n"
     ]
    },
    {
     "name": "stdout",
     "output_type": "stream",
     "text": [
      "BANNED (prompt_idx=0, type=slop_phrase, phrase='flicker')                        \n",
      "BANNED (prompt_idx=11, type=slop_phrase, phrase='whisper')                       \n",
      "BANNED (prompt_idx=5, type=ngram, ngram='leaving behind')                        \n",
      "BANNED (prompt_idx=8, type=slop_phrase, phrase='newfound')                       \n",
      "BANNED (prompt_idx=17, type=slop_phrase, phrase='meticulously')                  \n",
      "BANNED (prompt_idx=18, type=slop_phrase, phrase='raced')                         \n",
      "BANNED (prompt_idx=1, type=slop_phrase, phrase='small, almost imperceptible')    \n",
      "Batch Generating:  18%|█▊        | 7/40 [05:29<12:27, 22.64s/prompt, 100.5 tok/s]"
     ]
    },
    {
     "name": "stderr",
     "output_type": "stream",
     "text": [
      "2025-05-18 17:20:58,417 [ERROR] [core.sampler        ]: Back-track: no valid next-token candidates survived even after relaxation.\n",
      "2025-05-18 17:20:58,493 [ERROR] [core.sampler        ]: Back-track: no valid next-token candidates survived even after relaxation.\n"
     ]
    },
    {
     "name": "stdout",
     "output_type": "stream",
     "text": [
      "BANNED (prompt_idx=38, type=slop_phrase, phrase='whisper')                       \n",
      "BANNED (prompt_idx=36, type=slop_phrase, phrase='flicker')                       \n",
      "BANNED (prompt_idx=31, type=slop_phrase, phrase='rhythm')                        \n",
      "Batch Generating:  18%|█▊        | 7/40 [05:30<12:27, 22.64s/prompt, 102.6 tok/s]"
     ]
    },
    {
     "name": "stderr",
     "output_type": "stream",
     "text": [
      "2025-05-18 17:20:59,417 [ERROR] [core.sampler        ]: Back-track: no valid next-token candidates survived even after relaxation.\n"
     ]
    },
    {
     "name": "stdout",
     "output_type": "stream",
     "text": [
      "BANNED (prompt_idx=15, type=ngram, ngram='turned back')                          \n",
      "BANNED (prompt_idx=33, type=slop_phrase, phrase='surge')                         \n",
      "Batch Generating:  18%|█▊        | 7/40 [05:30<12:27, 22.64s/prompt, 100.0 tok/s]"
     ]
    },
    {
     "name": "stderr",
     "output_type": "stream",
     "text": [
      "2025-05-18 17:20:59,998 [ERROR] [core.sampler        ]: Back-track: no valid next-token candidates survived even after relaxation.\n",
      "2025-05-18 17:21:00,075 [ERROR] [core.sampler        ]: Back-track: no valid next-token candidates survived even after relaxation.\n"
     ]
    },
    {
     "name": "stdout",
     "output_type": "stream",
     "text": [
      "BANNED (prompt_idx=35, type=slop_phrase, phrase='voice devoid of emotion')       \n",
      "BANNED (prompt_idx=4, type=slop_phrase, phrase='faint')                          \n",
      "BANNED (prompt_idx=10, type=slop_phrase, phrase='voice barely audible')          \n",
      "BANNED (prompt_idx=29, type=slop_phrase, phrase='testament')                     \n",
      "BANNED (prompt_idx=39, type=slop_phrase, phrase='murmured')                      \n",
      "Batch Generating:  18%|█▊        | 7/40 [05:31<12:27, 22.64s/prompt, 118.7 tok/s]"
     ]
    },
    {
     "name": "stderr",
     "output_type": "stream",
     "text": [
      "2025-05-18 17:21:00,373 [ERROR] [core.sampler        ]: Back-track: no valid next-token candidates survived even after relaxation.\n"
     ]
    },
    {
     "name": "stdout",
     "output_type": "stream",
     "text": [
      "BANNED (prompt_idx=16, type=slop_phrase, phrase='clung')                         \n",
      "BANNED (prompt_idx=12, type=slop_phrase, phrase='sigh')                          \n",
      "BANNED (prompt_idx=0, type=slop_phrase, phrase='took a deep breath')             \n",
      "BANNED (prompt_idx=23, type=slop_phrase, phrase='faint')                         \n",
      "BANNED (prompt_idx=21, type=ngram, ngram='spoke voice')                          \n",
      "BANNED (prompt_idx=34, type=regex, regex='\\bnot\\s+(?:just|only|merely)?\\s*(?:[^\\s]+\\s*){1,6}?[,;:—–-]?\\s*but\\s+(?:also\\s+)?', match='not as a biological anomaly, but ')\n",
      "BANNED (prompt_idx=11, type=slop_phrase, phrase='whisper')                       \n",
      "BANNED (prompt_idx=8, type=slop_phrase, phrase='leaned')                         \n",
      "BANNED (prompt_idx=7, type=slop_phrase, phrase='echo')                           \n",
      "BANNED (prompt_idx=5, type=slop_phrase, phrase='revealing')                      \n",
      "BANNED (prompt_idx=38, type=slop_phrase, phrase='terrifying')                    \n",
      "BANNED (prompt_idx=18, type=slop_phrase, phrase='demon')                         \n",
      "BANNED (prompt_idx=13, type=slop_phrase, phrase='void')                         \n",
      "BANNED (prompt_idx=31, type=slop_phrase, phrase='silas')                        \n",
      "Batch Generating:  20%|██        | 8/40 [05:33<12:03, 22.62s/prompt, 81.7 tok/s]"
     ]
    },
    {
     "name": "stderr",
     "output_type": "stream",
     "text": [
      "2025-05-18 17:21:03,470 [ERROR] [core.sampler        ]: Back-track: no valid next-token candidates survived even after relaxation.\n"
     ]
    },
    {
     "name": "stdout",
     "output_type": "stream",
     "text": [
      "BANNED (prompt_idx=4, type=slop_phrase, phrase='pale')                          \n",
      "BANNED (prompt_idx=17, type=slop_phrase, phrase='delicate')                     \n",
      "BANNED (prompt_idx=36, type=slop_phrase, phrase='despair')                      \n",
      "BANNED (prompt_idx=27, type=slop_phrase, phrase='terrifying')                   \n",
      "BANNED (prompt_idx=10, type=slop_phrase, phrase='voice barely audible')         \n",
      "Batch Generating:  20%|██        | 8/40 [05:34<12:03, 22.62s/prompt, 86.8 tok/s]"
     ]
    },
    {
     "name": "stderr",
     "output_type": "stream",
     "text": [
      "2025-05-18 17:21:03,856 [ERROR] [core.sampler        ]: Back-track: no valid next-token candidates survived even after relaxation.\n"
     ]
    },
    {
     "name": "stdout",
     "output_type": "stream",
     "text": [
      "BANNED (prompt_idx=33, type=slop_phrase, phrase='finally, after what felt like')\n",
      "BANNED (prompt_idx=15, type=slop_phrase, phrase='paused')                       \n",
      "Batch Generating:  20%|██        | 8/40 [05:34<12:03, 22.62s/prompt, 87.7 tok/s]"
     ]
    },
    {
     "name": "stderr",
     "output_type": "stream",
     "text": [
      "2025-05-18 17:21:04,383 [ERROR] [core.sampler        ]: Back-track: no valid next-token candidates survived even after relaxation.\n"
     ]
    },
    {
     "name": "stdout",
     "output_type": "stream",
     "text": [
      "BANNED (prompt_idx=35, type=slop_phrase, phrase='voice devoid of emotion')      \n",
      "BANNED (prompt_idx=39, type=ngram, ngram='voice filled')                        \n",
      "BANNED (prompt_idx=29, type=slop_phrase, phrase='testament')                    \n",
      "BANNED (prompt_idx=0, type=slop_phrase, phrase='sigh')                          \n",
      "BANNED (prompt_idx=8, type=slop_phrase, phrase='whisper')                       \n",
      "BANNED (prompt_idx=11, type=slop_phrase, phrase='whisper')                      \n",
      "BANNED (prompt_idx=25, type=slop_phrase, phrase='silas')                        \n",
      "BANNED (prompt_idx=7, type=slop_phrase, phrase='echo')                          \n",
      "BANNED (prompt_idx=34, type=regex, regex='\\bnot\\s+(?:just|only|merely)?\\s*(?:[^\\s]+\\s*){1,6}?[,;:—–-]?\\s*but\\s+(?:also\\s+)?', match='not just as creatures, but ')\n",
      "BANNED (prompt_idx=19, type=slop_phrase, phrase='flicker')                      \n",
      "BANNED (prompt_idx=2, type=slop_phrase, phrase='paused')                        \n",
      "BANNED (prompt_idx=38, type=slop_phrase, phrase='whisper')                      \n",
      "Batch Generating:  20%|██        | 8/40 [05:37<12:03, 22.62s/prompt, 71.1 tok/s]"
     ]
    },
    {
     "name": "stderr",
     "output_type": "stream",
     "text": [
      "2025-05-18 17:21:06,471 [ERROR] [core.sampler        ]: Back-track: no valid next-token candidates survived even after relaxation.\n"
     ]
    },
    {
     "name": "stdout",
     "output_type": "stream",
     "text": [
      "BANNED (prompt_idx=21, type=slop_phrase, phrase='sigh')                         \n",
      "BANNED (prompt_idx=4, type=slop_phrase, phrase='pale')                          \n",
      "BANNED (prompt_idx=31, type=slop_phrase, phrase='rhythm')                       \n",
      "Batch Generating:  20%|██        | 8/40 [05:37<12:03, 22.62s/prompt, 80.6 tok/s]"
     ]
    },
    {
     "name": "stderr",
     "output_type": "stream",
     "text": [
      "2025-05-18 17:21:06,935 [ERROR] [core.sampler        ]: Back-track: no valid next-token candidates survived even after relaxation.\n",
      "2025-05-18 17:21:06,953 [ERROR] [core.sampler        ]: Back-track: no valid next-token candidates survived even after relaxation.\n"
     ]
    },
    {
     "name": "stdout",
     "output_type": "stream",
     "text": [
      "Batch Generating:  20%|██        | 8/40 [05:38<12:03, 22.62s/prompt, 76.5 tok/s]"
     ]
    },
    {
     "name": "stderr",
     "output_type": "stream",
     "text": [
      "2025-05-18 17:21:07,542 [ERROR] [core.sampler        ]: Back-track: no valid next-token candidates survived even after relaxation.\n"
     ]
    },
    {
     "name": "stdout",
     "output_type": "stream",
     "text": [
      "BANNED (prompt_idx=10, type=ngram, ngram='voice barely')                        \n",
      "BANNED (prompt_idx=32, type=slop_phrase, phrase='profound')                     \n",
      "BANNED (prompt_idx=37, type=slop_phrase, phrase='chilling')                     \n",
      "BANNED (prompt_idx=39, type=slop_phrase, phrase='revealing')                    \n",
      "Batch Generating:  20%|██        | 8/40 [05:39<12:03, 22.62s/prompt, 95.0 tok/s]"
     ]
    },
    {
     "name": "stderr",
     "output_type": "stream",
     "text": [
      "2025-05-18 17:21:08,382 [ERROR] [core.sampler        ]: Back-track: no valid next-token candidates survived even after relaxation.\n",
      "2025-05-18 17:21:08,416 [ERROR] [core.sampler        ]: Back-track: no valid next-token candidates survived even after relaxation.\n"
     ]
    },
    {
     "name": "stdout",
     "output_type": "stream",
     "text": [
      "BANNED (prompt_idx=35, type=slop_phrase, phrase='voice devoid of emotion')      \n",
      "BANNED (prompt_idx=17, type=slop_phrase, phrase='meticulously')                 \n",
      "BANNED (prompt_idx=15, type=slop_phrase, phrase='flicker')                      \n",
      "BANNED (prompt_idx=8, type=slop_phrase, phrase='scent')                         \n",
      "BANNED (prompt_idx=0, type=slop_phrase, phrase='took a deep breath')            \n",
      "BANNED (prompt_idx=29, type=slop_phrase, phrase='whisper')                      \n",
      "BANNED (prompt_idx=11, type=slop_phrase, phrase='whisper')                      \n",
      "BANNED (prompt_idx=23, type=slop_phrase, phrase='shadows')                      \n",
      "BANNED (prompt_idx=7, type=slop_phrase, phrase='intricate')                      \n",
      "BANNED (prompt_idx=2, type=slop_phrase, phrase='flicker')                        \n",
      "BANNED (prompt_idx=38, type=slop_phrase, phrase='profound')                      \n",
      "BANNED (prompt_idx=4, type=slop_phrase, phrase='pale')                           \n",
      "BANNED (prompt_idx=31, type=slop_phrase, phrase='rhythm')                        \n",
      "Batch Generating:  20%|██        | 8/40 [05:41<12:03, 22.62s/prompt, 119.7 tok/s]"
     ]
    },
    {
     "name": "stderr",
     "output_type": "stream",
     "text": [
      "2025-05-18 17:21:10,540 [ERROR] [core.sampler        ]: Back-track: no valid next-token candidates survived even after relaxation.\n",
      "2025-05-18 17:21:10,706 [ERROR] [core.sampler        ]: Back-track: no valid next-token candidates survived even after relaxation.\n"
     ]
    },
    {
     "name": "stdout",
     "output_type": "stream",
     "text": [
      "BANNED (prompt_idx=19, type=slop_phrase, phrase='shifted')                       \n",
      "BANNED (prompt_idx=6, type=ngram, ngram='air thick')                             \n",
      "BANNED (prompt_idx=34, type=slop_phrase, phrase='profound')                      \n",
      "BANNED (prompt_idx=13, type=slop_phrase, phrase='subtle')                        \n",
      "BANNED (prompt_idx=32, type=slop_phrase, phrase='sunlight')                      \n",
      "BANNED (prompt_idx=21, type=slop_phrase, phrase='shook')                         \n",
      "Batch Generating:  22%|██▎       | 9/40 [05:42<09:34, 18.54s/prompt, 109.5 tok/s]"
     ]
    },
    {
     "name": "stderr",
     "output_type": "stream",
     "text": [
      "2025-05-18 17:21:12,190 [ERROR] [core.sampler        ]: Back-track: no valid next-token candidates survived even after relaxation.\n"
     ]
    },
    {
     "name": "stdout",
     "output_type": "stream",
     "text": [
      "BANNED (prompt_idx=36, type=slop_phrase, phrase='terrifying')                    \n",
      "BANNED (prompt_idx=39, type=slop_phrase, phrase='murmured')                      \n",
      "BANNED (prompt_idx=35, type=slop_phrase, phrase='gleaming')                      \n",
      "BANNED (prompt_idx=8, type=slop_phrase, phrase='fading')                         \n",
      "Batch Generating:  22%|██▎       | 9/40 [05:43<09:34, 18.54s/prompt, 96.6 tok/s]"
     ]
    },
    {
     "name": "stderr",
     "output_type": "stream",
     "text": [
      "2025-05-18 17:21:12,511 [ERROR] [core.sampler        ]: Back-track: no valid next-token candidates survived even after relaxation.\n"
     ]
    },
    {
     "name": "stdout",
     "output_type": "stream",
     "text": [
      "BANNED (prompt_idx=22, type=slop_phrase, phrase='glanced')                      \n",
      "BANNED (prompt_idx=11, type=slop_phrase, phrase='vanished')                      \n",
      "BANNED (prompt_idx=15, type=slop_phrase, phrase='spark')                         \n",
      "BANNED (prompt_idx=33, type=slop_phrase, phrase='stretched')                    \n",
      "BANNED (prompt_idx=29, type=slop_phrase, phrase='testament')                     \n",
      "BANNED (prompt_idx=4, type=slop_phrase, phrase='shifted')                        \n",
      "BANNED (prompt_idx=38, type=slop_phrase, phrase='whisper')                       \n",
      "BANNED (prompt_idx=7, type=slop_phrase, phrase='testament')                     \n",
      "Batch Generating:  22%|██▎       | 9/40 [05:45<09:34, 18.54s/prompt, 89.4 tok/s]"
     ]
    },
    {
     "name": "stderr",
     "output_type": "stream",
     "text": [
      "2025-05-18 17:21:14,276 [ERROR] [core.sampler        ]: Back-track: no valid next-token candidates survived even after relaxation.\n"
     ]
    },
    {
     "name": "stdout",
     "output_type": "stream",
     "text": [
      "BANNED (prompt_idx=2, type=slop_phrase, phrase='flicker')                       \n",
      "BANNED (prompt_idx=31, type=slop_phrase, phrase='silas')                        \n",
      "BANNED (prompt_idx=6, type=slop_phrase, phrase='world held its breath')         \n",
      "BANNED (prompt_idx=19, type=slop_phrase, phrase='flicker')                      \n",
      "BANNED (prompt_idx=32, type=slop_phrase, phrase='glow')                         \n",
      "BANNED (prompt_idx=34, type=slop_phrase, phrase='chilling')                     \n",
      "BANNED (prompt_idx=22, type=slop_phrase, phrase='knew one thing')               \n",
      "BANNED (prompt_idx=0, type=slop_phrase, phrase='surge')                         \n",
      "BANNED (prompt_idx=35, type=slop_phrase, phrase='voice devoid of emotion')      \n",
      "Batch Generating:  22%|██▎       | 9/40 [05:47<09:34, 18.54s/prompt, 70.1 tok/s]"
     ]
    },
    {
     "name": "stderr",
     "output_type": "stream",
     "text": [
      "2025-05-18 17:21:16,702 [ERROR] [core.sampler        ]: Back-track: no valid next-token candidates survived even after relaxation.\n"
     ]
    },
    {
     "name": "stdout",
     "output_type": "stream",
     "text": [
      "BANNED (prompt_idx=11, type=ngram, ngram='leaving behind')                      \n",
      "BANNED (prompt_idx=1, type=slop_phrase, phrase='shimmering')                    \n",
      "BANNED (prompt_idx=12, type=slop_phrase, phrase='scent')                        \n",
      "BANNED (prompt_idx=4, type=slop_phrase, phrase='pale')                          \n",
      "BANNED (prompt_idx=21, type=slop_phrase, phrase='shook')                        \n",
      "Batch Generating:  22%|██▎       | 9/40 [05:48<09:34, 18.54s/prompt, 75.5 tok/s]"
     ]
    },
    {
     "name": "stderr",
     "output_type": "stream",
     "text": [
      "2025-05-18 17:21:17,303 [ERROR] [core.sampler        ]: Back-track: no valid next-token candidates survived even after relaxation.\n",
      "2025-05-18 17:21:17,360 [ERROR] [core.sampler        ]: Back-track: no valid next-token candidates survived even after relaxation.\n"
     ]
    },
    {
     "name": "stdout",
     "output_type": "stream",
     "text": [
      "BANNED (prompt_idx=15, type=slop_phrase, phrase='flicker')                      \n",
      "BANNED (prompt_idx=23, type=slop_phrase, phrase='elias')                        \n",
      "BANNED (prompt_idx=33, type=slop_phrase, phrase='stretched')                    \n",
      "BANNED (prompt_idx=29, type=slop_phrase, phrase='testament')                    \n",
      "BANNED (prompt_idx=38, type=ngram, ngram='closed eyes')                         \n",
      "BANNED (prompt_idx=31, type=slop_phrase, phrase='rhythm')                       \n",
      "BANNED (prompt_idx=27, type=slop_phrase, phrase='unsettling')                   \n",
      "Batch Generating:  22%|██▎       | 9/40 [05:48<09:34, 18.54s/prompt, 81.1 tok/s]"
     ]
    },
    {
     "name": "stderr",
     "output_type": "stream",
     "text": [
      "2025-05-18 17:21:18,103 [ERROR] [core.sampler        ]: Back-track: no valid next-token candidates survived even after relaxation.\n"
     ]
    },
    {
     "name": "stdout",
     "output_type": "stream",
     "text": [
      "BANNED (prompt_idx=6, type=slop_phrase, phrase='etched')                        \n",
      "BANNED (prompt_idx=2, type=slop_phrase, phrase='testament')                     \n",
      "BANNED (prompt_idx=7, type=slop_phrase, phrase='testament')                     \n",
      "BANNED (prompt_idx=18, type=slop_phrase, phrase='smiled')                       \n",
      "BANNED (prompt_idx=19, type=slop_phrase, phrase='flicker')                      \n",
      "BANNED (prompt_idx=8, type=slop_phrase, phrase='profound')                      \n",
      "BANNED (prompt_idx=13, type=ngram, ngram='one last')                            \n",
      "BANNED (prompt_idx=22, type=slop_phrase, phrase='one last time')                \n",
      "BANNED (prompt_idx=0, type=regex, regex='\\bnot\\s+(?:just|only|merely)?\\s*(?:[^\\s]+\\s*){1,6}?[,;:—–-]?\\s*but\\s+(?:also\\s+)?', match='not of righteous fury, but ')\n",
      "BANNED (prompt_idx=11, type=slop_phrase, phrase='shadows')                      \n",
      "BANNED (prompt_idx=34, type=slop_phrase, phrase='terrifying')                   \n",
      "BANNED (prompt_idx=4, type=slop_phrase, phrase='pale')                          \n",
      "BANNED (prompt_idx=35, type=slop_phrase, phrase='voice devoid of emotion')      \n",
      "Batch Generating:  22%|██▎       | 9/40 [05:51<09:34, 18.54s/prompt, 98.0 tok/s]"
     ]
    },
    {
     "name": "stderr",
     "output_type": "stream",
     "text": [
      "2025-05-18 17:21:20,814 [ERROR] [core.sampler        ]: Back-track: no valid next-token candidates survived even after relaxation.\n",
      "2025-05-18 17:21:20,885 [ERROR] [core.sampler        ]: Back-track: no valid next-token candidates survived even after relaxation.\n"
     ]
    },
    {
     "name": "stdout",
     "output_type": "stream",
     "text": [
      "BANNED (prompt_idx=36, type=slop_phrase, phrase='profound')                     \n",
      "BANNED (prompt_idx=1, type=slop_phrase, phrase='unsettling')                    \n",
      "BANNED (prompt_idx=23, type=slop_phrase, phrase='spark')                        \n",
      "BANNED (prompt_idx=15, type=slop_phrase, phrase='unsettling')                   \n",
      "BANNED (prompt_idx=31, type=slop_phrase, phrase='pulse')                        \n",
      "BANNED (prompt_idx=38, type=slop_phrase, phrase='subtle')                       \n",
      "BANNED (prompt_idx=29, type=slop_phrase, phrase='clara')                        \n",
      "BANNED (prompt_idx=33, type=slop_phrase, phrase='anticipation')                 \n",
      "BANNED (prompt_idx=21, type=slop_phrase, phrase='shook')                        \n",
      "BANNED (prompt_idx=12, type=slop_phrase, phrase='void')                         \n",
      "BANNED (prompt_idx=7, type=slop_phrase, phrase='testament')                     \n",
      "Batch Generating:  22%|██▎       | 9/40 [05:53<09:34, 18.54s/prompt, 79.1 tok/s]"
     ]
    },
    {
     "name": "stderr",
     "output_type": "stream",
     "text": [
      "2025-05-18 17:21:22,486 [ERROR] [core.sampler        ]: Back-track: no valid next-token candidates survived even after relaxation.\n"
     ]
    },
    {
     "name": "stdout",
     "output_type": "stream",
     "text": [
      "BANNED (prompt_idx=18, type=slop_phrase, phrase='chuckled')                     \n",
      "BANNED (prompt_idx=16, type=slop_phrase, phrase='overwhelming')                  \n",
      "BANNED (prompt_idx=19, type=slop_phrase, phrase='flicker')                       \n",
      "BANNED (prompt_idx=8, type=slop_phrase, phrase='unwavering')                     \n",
      "BANNED (prompt_idx=17, type=slop_phrase, phrase='realm')                         \n",
      "BANNED (prompt_idx=13, type=slop_phrase, phrase='warmth')                        \n",
      "BANNED (prompt_idx=4, type=slop_phrase, phrase='faint')                          \n",
      "BANNED (prompt_idx=0, type=slop_phrase, phrase='warmth')                         \n",
      "BANNED (prompt_idx=11, type=slop_phrase, phrase='shadows')                       \n",
      "BANNED (prompt_idx=39, type=ngram, ngram='asked voice')                          \n",
      "BANNED (prompt_idx=35, type=slop_phrase, phrase='profound')                      \n",
      "BANNED (prompt_idx=34, type=slop_phrase, phrase='profound')                      \n",
      "Batch Generating:  25%|██▌       | 10/40 [05:56<08:05, 16.19s/prompt, 59.9 tok/s]"
     ]
    },
    {
     "name": "stderr",
     "output_type": "stream",
     "text": [
      "2025-05-18 17:21:25,591 [ERROR] [core.sampler        ]: Back-track: no valid next-token candidates survived even after relaxation.\n"
     ]
    },
    {
     "name": "stdout",
     "output_type": "stream",
     "text": [
      "BANNED (prompt_idx=31, type=slop_phrase, phrase='rhythm')                        \n",
      "BANNED (prompt_idx=6, type=slop_phrase, phrase='newfound')                       \n",
      "BANNED (prompt_idx=25, type=slop_phrase, phrase='glow')                          \n",
      "BANNED (prompt_idx=36, type=slop_phrase, phrase='paused')                        \n",
      "BANNED (prompt_idx=37, type=slop_phrase, phrase='paused')                        \n",
      "BANNED (prompt_idx=15, type=ngram, ngram='almost imperceptible')                 \n",
      "BANNED (prompt_idx=7, type=slop_phrase, phrase='tapestry')                       \n",
      "BANNED (prompt_idx=29, type=slop_phrase, phrase='testament')                     \n",
      "BANNED (prompt_idx=18, type=slop_phrase, phrase='smiled')                        \n",
      "BANNED (prompt_idx=33, type=slop_phrase, phrase='swallowed')                     \n",
      "Batch Generating:  28%|██▊       | 11/40 [05:57<05:57, 12.33s/prompt, 65.1 tok/s]"
     ]
    },
    {
     "name": "stderr",
     "output_type": "stream",
     "text": [
      "2025-05-18 17:21:27,235 [ERROR] [core.sampler        ]: Back-track: no valid next-token candidates survived even after relaxation.\n"
     ]
    },
    {
     "name": "stdout",
     "output_type": "stream",
     "text": [
      "BANNED (prompt_idx=4, type=slop_phrase, phrase='pale')                           \n",
      "BANNED (prompt_idx=19, type=slop_phrase, phrase='widened')                       \n",
      "BANNED (prompt_idx=21, type=ngram, ngram='shook head')                           \n",
      "BANNED (prompt_idx=12, type=slop_phrase, phrase='profound')                      \n",
      "BANNED (prompt_idx=16, type=slop_phrase, phrase='utterly')                       \n",
      "Batch Generating:  28%|██▊       | 11/40 [05:58<05:57, 12.33s/prompt, 72.0 tok/s]"
     ]
    },
    {
     "name": "stderr",
     "output_type": "stream",
     "text": [
      "2025-05-18 17:21:27,615 [ERROR] [core.sampler        ]: Back-track: no valid next-token candidates survived even after relaxation.\n"
     ]
    },
    {
     "name": "stdout",
     "output_type": "stream",
     "text": [
      "BANNED (prompt_idx=35, type=slop_phrase, phrase='voice devoid of emotion')       \n",
      "Batch Generating:  28%|██▊       | 11/40 [05:59<05:57, 12.33s/prompt, 79.7 tok/s]"
     ]
    },
    {
     "name": "stderr",
     "output_type": "stream",
     "text": [
      "2025-05-18 17:21:28,421 [ERROR] [core.sampler        ]: Back-track: no valid next-token candidates survived even after relaxation.\n"
     ]
    },
    {
     "name": "stdout",
     "output_type": "stream",
     "text": [
      "BANNED (prompt_idx=17, type=slop_phrase, phrase='profound')                      \n",
      "Batch Generating:  28%|██▊       | 11/40 [05:59<05:57, 12.33s/prompt, 79.9 tok/s]"
     ]
    },
    {
     "name": "stderr",
     "output_type": "stream",
     "text": [
      "2025-05-18 17:21:28,968 [ERROR] [core.sampler        ]: Back-track: no valid next-token candidates survived even after relaxation.\n"
     ]
    },
    {
     "name": "stdout",
     "output_type": "stream",
     "text": [
      "BANNED (prompt_idx=31, type=slop_phrase, phrase='rhythm')                        \n",
      "BANNED (prompt_idx=6, type=slop_phrase, phrase='whisper')                        \n",
      "BANNED (prompt_idx=34, type=slop_phrase, phrase='echo')                          \n",
      "BANNED (prompt_idx=38, type=slop_phrase, phrase='stark')                          \n",
      "BANNED (prompt_idx=10, type=slop_phrase, phrase='elias')                          \n",
      "BANNED (prompt_idx=37, type=slop_phrase, phrase='hesitated')                      \n",
      "BANNED (prompt_idx=4, type=slop_phrase, phrase='pale')                            \n",
      "BANNED (prompt_idx=36, type=slop_phrase, phrase='holographic')                    \n",
      "BANNED (prompt_idx=7, type=slop_phrase, phrase='testament')                       \n",
      "BANNED (prompt_idx=1, type=slop_phrase, phrase='unsettling')                      \n",
      "Batch Generating:  30%|███       | 12/40 [06:01<04:35,  9.83s/prompt, 115.4 tok/s]"
     ]
    },
    {
     "name": "stderr",
     "output_type": "stream",
     "text": [
      "2025-05-18 17:21:30,514 [ERROR] [core.sampler        ]: Back-track: no valid next-token candidates survived even after relaxation.\n"
     ]
    },
    {
     "name": "stdout",
     "output_type": "stream",
     "text": [
      "BANNED (prompt_idx=18, type=slop_phrase, phrase='smiled')                         \n",
      "BANNED (prompt_idx=33, type=ngram, ngram='said voice')                            \n",
      "BANNED (prompt_idx=19, type=slop_phrase, phrase='flicker')                        \n",
      "BANNED (prompt_idx=0, type=slop_phrase, phrase='said, his voice barely')          \n",
      "Batch Generating:  30%|███       | 12/40 [06:02<04:35,  9.83s/prompt, 112.4 tok/s]"
     ]
    },
    {
     "name": "stderr",
     "output_type": "stream",
     "text": [
      "2025-05-18 17:21:32,301 [ERROR] [core.sampler        ]: Back-track: no valid next-token candidates survived even after relaxation.\n"
     ]
    },
    {
     "name": "stdout",
     "output_type": "stream",
     "text": [
      "BANNED (prompt_idx=31, type=slop_phrase, phrase='rhythm')                         \n",
      "BANNED (prompt_idx=6, type=slop_phrase, phrase='stammered')                       \n",
      "BANNED (prompt_idx=21, type=slop_phrase, phrase='said, his voice low')            \n",
      "BANNED (prompt_idx=23, type=slop_phrase, phrase='gaze')                           \n",
      "BANNED (prompt_idx=38, type=ngram, ngram='closed eyes')                          \n",
      "BANNED (prompt_idx=4, type=slop_phrase, phrase='pale')                           \n",
      "BANNED (prompt_idx=34, type=slop_phrase, phrase='testament')                     \n",
      "BANNED (prompt_idx=2, type=regex, regex='\\bnot\\s+(?:just|only|merely)?\\s*(?:[^\\s]+\\s*){1,6}?[,;:—–-]?\\s*but\\s+(?:also\\s+)?', match='not to record the scar, but ')\n",
      "BANNED (prompt_idx=10, type=slop_phrase, phrase='elias')                         \n",
      "BANNED (prompt_idx=7, type=slop_phrase, phrase='profound')                       \n",
      "BANNED (prompt_idx=18, type=slop_phrase, phrase='chuckled')                      \n",
      "BANNED (prompt_idx=37, type=slop_phrase, phrase='paused')                        \n",
      "BANNED (prompt_idx=29, type=slop_phrase, phrase='newfound')                      \n",
      "BANNED (prompt_idx=19, type=slop_phrase, phrase='flicker')                       \n",
      "BANNED (prompt_idx=0, type=slop_phrase, phrase='muttered')                       \n",
      "BANNED (prompt_idx=1, type=slop_phrase, phrase='meticulously')                   \n",
      "BANNED (prompt_idx=33, type=slop_phrase, phrase='void')                          \n",
      "BANNED (prompt_idx=31, type=slop_phrase, phrase='faint')                         \n",
      "BANNED (prompt_idx=6, type=slop_phrase, phrase='whisper')                        \n",
      "BANNED (prompt_idx=39, type=ngram, ngram='said voice')                           \n",
      "Batch Generating:  30%|███       | 12/40 [06:06<04:35,  9.83s/prompt, 67.5 tok/s]"
     ]
    },
    {
     "name": "stderr",
     "output_type": "stream",
     "text": [
      "2025-05-18 17:21:35,899 [ERROR] [core.sampler        ]: Back-track: no valid next-token candidates survived even after relaxation.\n"
     ]
    },
    {
     "name": "stdout",
     "output_type": "stream",
     "text": [
      "Batch Generating:  30%|███       | 12/40 [06:06<04:35,  9.83s/prompt, 71.9 tok/s]"
     ]
    },
    {
     "name": "stderr",
     "output_type": "stream",
     "text": [
      "2025-05-18 17:21:36,766 [ERROR] [core.sampler        ]: Back-track: no valid next-token candidates survived even after relaxation.\n"
     ]
    },
    {
     "name": "stdout",
     "output_type": "stream",
     "text": [
      "BANNED (prompt_idx=4, type=slop_phrase, phrase='pale')                           \n",
      "BANNED (prompt_idx=23, type=slop_phrase, phrase='amidst')                        \n",
      "BANNED (prompt_idx=38, type=slop_phrase, phrase='fabric')                        \n",
      "Batch Generating:  30%|███       | 12/40 [06:07<04:35,  9.83s/prompt, 57.3 tok/s]"
     ]
    },
    {
     "name": "stderr",
     "output_type": "stream",
     "text": [
      "2025-05-18 17:21:37,299 [ERROR] [core.sampler        ]: Back-track: no valid next-token candidates survived even after relaxation.\n"
     ]
    },
    {
     "name": "stdout",
     "output_type": "stream",
     "text": [
      "BANNED (prompt_idx=21, type=slop_phrase, phrase='shook')                         \n",
      "BANNED (prompt_idx=25, type=slop_phrase, phrase='knew one thing')                \n",
      "BANNED (prompt_idx=2, type=regex, regex='\\bnot\\s+(?:just|only|merely)?\\s*(?:[^\\s]+\\s*){1,6}?[,;:—–-]?\\s*but\\s+(?:also\\s+)?', match='not just the scar, but ')\n",
      "BANNED (prompt_idx=7, type=slop_phrase, phrase='unsettling')                     \n",
      "BANNED (prompt_idx=15, type=slop_phrase, phrase='countless')                     \n",
      "BANNED (prompt_idx=22, type=slop_phrase, phrase='hint')                          \n",
      "BANNED (prompt_idx=34, type=slop_phrase, phrase='testament')                     \n",
      "BANNED (prompt_idx=18, type=slop_phrase, phrase='smiled')                        \n",
      "BANNED (prompt_idx=0, type=slop_phrase, phrase='said, his voice barely')         \n",
      "BANNED (prompt_idx=19, type=slop_phrase, phrase='revealing')                     \n",
      "BANNED (prompt_idx=35, type=slop_phrase, phrase='curse')                         \n",
      "BANNED (prompt_idx=6, type=slop_phrase, phrase='whisper')                        \n",
      "BANNED (prompt_idx=31, type=slop_phrase, phrase='silas')                         \n",
      "Batch Generating:  32%|███▎      | 13/40 [06:10<04:04,  9.04s/prompt, 92.2 tok/s]"
     ]
    },
    {
     "name": "stderr",
     "output_type": "stream",
     "text": [
      "2025-05-18 17:21:39,518 [ERROR] [core.sampler        ]: Back-track: no valid next-token candidates survived even after relaxation.\n"
     ]
    },
    {
     "name": "stdout",
     "output_type": "stream",
     "text": [
      "BANNED (prompt_idx=39, type=ngram, ngram='replied voice')                        \n",
      "BANNED (prompt_idx=4, type=slop_phrase, phrase='silas')                          \n",
      "BANNED (prompt_idx=13, type=slop_phrase, phrase='testament')                     \n",
      "BANNED (prompt_idx=23, type=slop_phrase, phrase='crimson')                       \n",
      "BANNED (prompt_idx=2, type=regex, regex='\\bnot\\s+(?:just|only|merely)?\\s*(?:[^\\s]+\\s*){1,6}?[,;:—–-]?\\s*but\\s+(?:also\\s+)?', match='not as a Cartographer of Scars, but ')\n",
      "BANNED (prompt_idx=7, type=slop_phrase, phrase='profound')                       \n",
      "BANNED (prompt_idx=22, type=slop_phrase, phrase='hint')                          \n",
      "BANNED (prompt_idx=21, type=slop_phrase, phrase='shook')                         \n",
      "BANNED (prompt_idx=18, type=slop_phrase, phrase='nodded')                        \n",
      "Batch Generating:  38%|███▊      | 15/40 [06:12<02:15,  5.41s/prompt, 81.3 tok/s]"
     ]
    },
    {
     "name": "stderr",
     "output_type": "stream",
     "text": [
      "2025-05-18 17:21:41,864 [ERROR] [core.sampler        ]: Back-track: no valid next-token candidates survived even after relaxation.\n",
      "2025-05-18 17:21:41,995 [ERROR] [core.sampler        ]: Back-track: no valid next-token candidates survived even after relaxation.\n"
     ]
    },
    {
     "name": "stdout",
     "output_type": "stream",
     "text": [
      "BANNED (prompt_idx=15, type=slop_phrase, phrase='countless')                     \n",
      "BANNED (prompt_idx=0, type=slop_phrase, phrase='nodded')                         \n",
      "BANNED (prompt_idx=34, type=slop_phrase, phrase='murmured')                      \n",
      "BANNED (prompt_idx=19, type=slop_phrase, phrase='flicker')                       \n",
      "BANNED (prompt_idx=29, type=slop_phrase, phrase='flicker')                       \n",
      "BANNED (prompt_idx=11, type=slop_phrase, phrase='silas')                         \n",
      "BANNED (prompt_idx=6, type=slop_phrase, phrase='whisper')                        \n",
      "Batch Generating:  38%|███▊      | 15/40 [06:13<02:15,  5.41s/prompt, 96.5 tok/s]"
     ]
    },
    {
     "name": "stderr",
     "output_type": "stream",
     "text": [
      "2025-05-18 17:21:42,732 [ERROR] [core.sampler        ]: Back-track: no valid next-token candidates survived even after relaxation.\n",
      "2025-05-18 17:21:42,829 [ERROR] [core.sampler        ]: Back-track: no valid next-token candidates survived even after relaxation.\n"
     ]
    },
    {
     "name": "stdout",
     "output_type": "stream",
     "text": [
      "BANNED (prompt_idx=4, type=slop_phrase, phrase='pale')                           \n",
      "BANNED (prompt_idx=35, type=slop_phrase, phrase='testament')                      \n",
      "Batch Generating:  38%|███▊      | 15/40 [06:13<02:15,  5.41s/prompt, 109.0 tok/s]"
     ]
    },
    {
     "name": "stderr",
     "output_type": "stream",
     "text": [
      "2025-05-18 17:21:43,116 [ERROR] [core.sampler        ]: Back-track: no valid next-token candidates survived even after relaxation.\n"
     ]
    },
    {
     "name": "stdout",
     "output_type": "stream",
     "text": [
      "BANNED (prompt_idx=39, type=ngram, ngram='said voice')                            \n",
      "BANNED (prompt_idx=13, type=slop_phrase, phrase='nodded')                         \n",
      "BANNED (prompt_idx=33, type=regex, regex='\\bnot\\s+(?:just|only|merely)?\\s*(?:[^\\s]+\\s*){1,6}?[,;:—–-]?\\s*but\\s+(?:also\\s+)?', match='not brilliant. It’s not Michelin-star material. But ')\n",
      "BANNED (prompt_idx=38, type=slop_phrase, phrase='terrifying')                     \n",
      "BANNED (prompt_idx=23, type=slop_phrase, phrase='surge')                          \n",
      "BANNED (prompt_idx=16, type=slop_phrase, phrase='shifted')                        \n",
      "BANNED (prompt_idx=25, type=slop_phrase, phrase='whisper')                        \n",
      "BANNED (prompt_idx=2, type=slop_phrase, phrase='meticulously')                   \n",
      "BANNED (prompt_idx=10, type=regex, regex='\\bnot\\s+(?:just|only|merely)?\\s*(?:[^\\s]+\\s*){1,6}?[,;:—–-]?\\s*but\\s+(?:also\\s+)?', match='Not in a violent or dramatic way, but ')\n",
      "Batch Generating:  38%|███▊      | 15/40 [06:15<02:15,  5.41s/prompt, 92.5 tok/s]"
     ]
    },
    {
     "name": "stderr",
     "output_type": "stream",
     "text": [
      "2025-05-18 17:21:45,190 [ERROR] [core.sampler        ]: Back-track: no valid next-token candidates survived even after relaxation.\n"
     ]
    },
    {
     "name": "stdout",
     "output_type": "stream",
     "text": [
      "BANNED (prompt_idx=18, type=slop_phrase, phrase='nodded')                        \n",
      "BANNED (prompt_idx=0, type=slop_phrase, phrase='widened')                        \n",
      "BANNED (prompt_idx=4, type=slop_phrase, phrase='thorne')                         \n",
      "BANNED (prompt_idx=6, type=slop_phrase, phrase='took a deep breath')             \n",
      "BANNED (prompt_idx=19, type=slop_phrase, phrase='whisper')                       \n",
      "BANNED (prompt_idx=11, type=slop_phrase, phrase='whisper')                       \n",
      "BANNED (prompt_idx=29, type=slop_phrase, phrase='hint')                          \n",
      "BANNED (prompt_idx=35, type=slop_phrase, phrase='unwavering')                    \n",
      "BANNED (prompt_idx=21, type=slop_phrase, phrase='relentless')                    \n",
      "BANNED (prompt_idx=31, type=slop_phrase, phrase='silas')                         \n",
      "BANNED (prompt_idx=34, type=ngram, ngram='said voice')                           \n",
      "BANNED (prompt_idx=39, type=slop_phrase, phrase='voice devoid of emotion')       \n",
      "BANNED (prompt_idx=17, type=slop_phrase, phrase='scent')                         \n",
      "BANNED (prompt_idx=13, type=slop_phrase, phrase='nodded')                        \n",
      "BANNED (prompt_idx=38, type=slop_phrase, phrase='chaotic')                       \n",
      "BANNED (prompt_idx=33, type=regex, regex='\\bnot\\s+(?:just|only|merely)?\\s*(?:[^\\s]+\\s*){1,6}?[,;:—–-]?\\s*but\\s+(?:also\\s+)?', match='not brilliant, mind you. But ')\n",
      "BANNED (prompt_idx=23, type=slop_phrase, phrase='flicker')                       \n",
      "BANNED (prompt_idx=2, type=regex, regex='\\bnot\\s+(?:just|only|merely)?\\s*(?:[^\\s]+\\s*){1,6}?[,;:—–-]?\\s*but\\s+(?:also\\s+)?', match='not just the scar itself, but ')\n",
      "BANNED (prompt_idx=22, type=slop_phrase, phrase='knew, with a chilling certainty')\n",
      "BANNED (prompt_idx=10, type=slop_phrase, phrase='faded')                         \n",
      "Batch Generating:  40%|████      | 16/40 [06:18<02:15,  5.63s/prompt, 27.4 tok/s]"
     ]
    },
    {
     "name": "stderr",
     "output_type": "stream",
     "text": [
      "2025-05-18 17:21:48,365 [ERROR] [core.sampler        ]: Back-track: no valid next-token candidates survived even after relaxation.\n",
      "2025-05-18 17:21:48,371 [ERROR] [core.sampler        ]: Back-track: no valid next-token candidates survived even after relaxation.\n"
     ]
    },
    {
     "name": "stdout",
     "output_type": "stream",
     "text": [
      "BANNED (prompt_idx=18, type=slop_phrase, phrase='nodded')                        \n",
      "BANNED (prompt_idx=4, type=slop_phrase, phrase='pale')                           \n",
      "Batch Generating:  40%|████      | 16/40 [06:19<02:15,  5.63s/prompt, 31.0 tok/s]"
     ]
    },
    {
     "name": "stderr",
     "output_type": "stream",
     "text": [
      "2025-05-18 17:21:48,922 [ERROR] [core.sampler        ]: Back-track: no valid next-token candidates survived even after relaxation.\n"
     ]
    },
    {
     "name": "stdout",
     "output_type": "stream",
     "text": [
      "BANNED (prompt_idx=6, type=slop_phrase, phrase='whisper')                        \n",
      "BANNED (prompt_idx=15, type=slop_phrase, phrase='smile spread across')           \n",
      "BANNED (prompt_idx=11, type=ngram, ngram='unlike anything')                      \n",
      "BANNED (prompt_idx=19, type=slop_phrase, phrase='flicker')                       \n",
      "BANNED (prompt_idx=35, type=slop_phrase, phrase='scent')                         \n",
      "BANNED (prompt_idx=31, type=slop_phrase, phrase='unsettling')                    \n",
      "BANNED (prompt_idx=29, type=slop_phrase, phrase='flicker')                       \n",
      "BANNED (prompt_idx=39, type=slop_phrase, phrase='void')                          \n",
      "BANNED (prompt_idx=13, type=ngram, ngram='felt like')                            \n",
      "BANNED (prompt_idx=37, type=slop_phrase, phrase='stared')                        \n",
      "BANNED (prompt_idx=34, type=slop_phrase, phrase='whisper')                       \n",
      "BANNED (prompt_idx=23, type=ngram, ngram='almost imperceptible')                 \n",
      "BANNED (prompt_idx=38, type=slop_phrase, phrase='terrifying')                    \n",
      "BANNED (prompt_idx=25, type=slop_phrase, phrase='profound')                      \n",
      "Batch Generating:  42%|████▎     | 17/40 [06:21<01:52,  4.87s/prompt, 34.5 tok/s]"
     ]
    },
    {
     "name": "stderr",
     "output_type": "stream",
     "text": [
      "2025-05-18 17:21:50,981 [ERROR] [core.sampler        ]: Back-track: no valid next-token candidates survived even after relaxation.\n"
     ]
    },
    {
     "name": "stdout",
     "output_type": "stream",
     "text": [
      "BANNED (prompt_idx=21, type=slop_phrase, phrase='shook')                         \n",
      "BANNED (prompt_idx=2, type=regex, regex='\\bnot\\s+(?:just|only|merely)?\\s*(?:[^\\s]+\\s*){1,6}?[,;:—–-]?\\s*but\\s+(?:also\\s+)?', match='not just the lie, but ')\n",
      "BANNED (prompt_idx=17, type=slop_phrase, phrase='scent')                         \n",
      "BANNED (prompt_idx=22, type=slop_phrase, phrase='chilling')                      \n",
      "BANNED (prompt_idx=4, type=ngram, ngram='eyes filled')                           \n",
      "BANNED (prompt_idx=10, type=slop_phrase, phrase='elias')                         \n",
      "BANNED (prompt_idx=0, type=slop_phrase, phrase='vanished')                       \n",
      "BANNED (prompt_idx=18, type=slop_phrase, phrase='smile spread across')           \n",
      "Batch Generating:  45%|████▌     | 18/40 [06:22<01:47,  4.87s/prompt, 56.0 tok/s]"
     ]
    },
    {
     "name": "stderr",
     "output_type": "stream",
     "text": [
      "2025-05-18 17:21:51,771 [ERROR] [core.sampler        ]: Back-track: no valid next-token candidates survived even after relaxation.\n"
     ]
    },
    {
     "name": "stdout",
     "output_type": "stream",
     "text": [
      "BANNED (prompt_idx=6, type=slop_phrase, phrase='whisper')                        \n",
      "BANNED (prompt_idx=11, type=slop_phrase, phrase='terrifying')                    \n",
      "BANNED (prompt_idx=19, type=slop_phrase, phrase='hint')                          \n",
      "BANNED (prompt_idx=31, type=slop_phrase, phrase='faint')                         \n",
      "BANNED (prompt_idx=35, type=slop_phrase, phrase='fragile')                       \n",
      "BANNED (prompt_idx=39, type=slop_phrase, phrase='unwavering')                    \n",
      "BANNED (prompt_idx=29, type=slop_phrase, phrase='faint')                         \n",
      "BANNED (prompt_idx=13, type=slop_phrase, phrase='turned and walked away')        \n",
      "BANNED (prompt_idx=4, type=slop_phrase, phrase='gaze')                           \n",
      "BANNED (prompt_idx=37, type=slop_phrase, phrase='chilling')                      \n",
      "BANNED (prompt_idx=34, type=slop_phrase, phrase='murmured')                      \n",
      "BANNED (prompt_idx=6, type=slop_phrase, phrase='sunlight')                       \n",
      "BANNED (prompt_idx=36, type=slop_phrase, phrase='stared')                        \n",
      "BANNED (prompt_idx=10, type=slop_phrase, phrase='faded')                         \n",
      "BANNED (prompt_idx=0, type=slop_phrase, phrase='muttered')                       \n",
      "BANNED (prompt_idx=18, type=slop_phrase, phrase='nodded')                        \n",
      "BANNED (prompt_idx=33, type=slop_phrase, phrase='paused')                        \n",
      "BANNED (prompt_idx=21, type=slop_phrase, phrase='shook')                         \n",
      "Batch Generating:  45%|████▌     | 18/40 [06:25<01:47,  4.87s/prompt, 59.7 tok/s]"
     ]
    },
    {
     "name": "stderr",
     "output_type": "stream",
     "text": [
      "2025-05-18 17:21:54,712 [ERROR] [core.sampler        ]: Back-track: no valid next-token candidates survived even after relaxation.\n",
      "2025-05-18 17:21:54,773 [ERROR] [core.sampler        ]: Back-track: no valid next-token candidates survived even after relaxation.\n"
     ]
    },
    {
     "name": "stdout",
     "output_type": "stream",
     "text": [
      "BANNED (prompt_idx=31, type=slop_phrase, phrase='scent')                         \n",
      "BANNED (prompt_idx=11, type=slop_phrase, phrase='chilling')                      \n",
      "BANNED (prompt_idx=19, type=slop_phrase, phrase='flicker')                       \n",
      "BANNED (prompt_idx=35, type=slop_phrase, phrase='rain continued to fall')        \n",
      "BANNED (prompt_idx=39, type=slop_phrase, phrase='void')                          \n",
      "BANNED (prompt_idx=4, type=ngram, ngram='eyes filled')                           \n",
      "BANNED (prompt_idx=29, type=slop_phrase, phrase='smile playing on his lips')     \n",
      "BANNED (prompt_idx=13, type=slop_phrase, phrase='gestured')                      \n",
      "BANNED (prompt_idx=6, type=slop_phrase, phrase='whisper')                        \n",
      "Batch Generating:  48%|████▊     | 19/40 [06:28<01:24,  4.04s/prompt, 69.8 tok/s]"
     ]
    },
    {
     "name": "stderr",
     "output_type": "stream",
     "text": [
      "2025-05-18 17:21:57,448 [ERROR] [core.sampler        ]: Back-track: no valid next-token candidates survived even after relaxation.\n",
      "2025-05-18 17:21:57,596 [ERROR] [core.sampler        ]: Back-track: no valid next-token candidates survived even after relaxation.\n"
     ]
    },
    {
     "name": "stdout",
     "output_type": "stream",
     "text": [
      "BANNED (prompt_idx=34, type=slop_phrase, phrase='muttered')                      \n",
      "BANNED (prompt_idx=0, type=slop_phrase, phrase='frantic')                        \n",
      "BANNED (prompt_idx=10, type=slop_phrase, phrase='faded')                         \n",
      "BANNED (prompt_idx=18, type=slop_phrase, phrase='nodded')                        \n",
      "Batch Generating:  48%|████▊     | 19/40 [06:28<01:24,  4.04s/prompt, 84.6 tok/s]"
     ]
    },
    {
     "name": "stderr",
     "output_type": "stream",
     "text": [
      "2025-05-18 17:21:57,944 [ERROR] [core.sampler        ]: Back-track: no valid next-token candidates survived even after relaxation.\n"
     ]
    },
    {
     "name": "stdout",
     "output_type": "stream",
     "text": [
      "BANNED (prompt_idx=33, type=slop_phrase, phrase='small, almost imperceptible')   \n",
      "BANNED (prompt_idx=36, type=slop_phrase, phrase='felt a flicker of something')   \n",
      "BANNED (prompt_idx=31, type=slop_phrase, phrase='swirling')                      \n",
      "BANNED (prompt_idx=11, type=slop_phrase, phrase='terrifying')                    \n",
      "BANNED (prompt_idx=21, type=slop_phrase, phrase='said, his voice laced')         \n",
      "BANNED (prompt_idx=4, type=ngram, ngram='eyes filled')                           \n",
      "BANNED (prompt_idx=17, type=slop_phrase, phrase='scent')                         \n",
      "BANNED (prompt_idx=35, type=slop_phrase, phrase='raced')                         \n",
      "BANNED (prompt_idx=39, type=slop_phrase, phrase='void')                          \n",
      "BANNED (prompt_idx=15, type=slop_phrase, phrase='room fell silent')              \n",
      "BANNED (prompt_idx=29, type=slop_phrase, phrase='small smile playing')           \n",
      "BANNED (prompt_idx=38, type=slop_phrase, phrase='shimmering')                    \n",
      "BANNED (prompt_idx=13, type=slop_phrase, phrase='turned and walked away')        \n",
      "BANNED (prompt_idx=6, type=slop_phrase, phrase='took a deep breath')             \n",
      "BANNED (prompt_idx=0, type=slop_phrase, phrase='whisper')                        \n",
      "BANNED (prompt_idx=10, type=slop_phrase, phrase='shifting')                      \n",
      "BANNED (prompt_idx=18, type=ngram, ngram='first time')                           \n",
      "Batch Generating:  48%|████▊     | 19/40 [06:31<01:24,  4.04s/prompt, 58.0 tok/s]"
     ]
    },
    {
     "name": "stderr",
     "output_type": "stream",
     "text": [
      "2025-05-18 17:22:00,982 [ERROR] [core.sampler        ]: Back-track: no valid next-token candidates survived even after relaxation.\n"
     ]
    },
    {
     "name": "stdout",
     "output_type": "stream",
     "text": [
      "BANNED (prompt_idx=34, type=slop_phrase, phrase='muttered')                      \n",
      "BANNED (prompt_idx=4, type=slop_phrase, phrase='profound')                       \n",
      "BANNED (prompt_idx=31, type=slop_phrase, phrase='scent')                         \n",
      "BANNED (prompt_idx=33, type=slop_phrase, phrase='flicker')                       \n",
      "BANNED (prompt_idx=11, type=slop_phrase, phrase='unsettling')                    \n",
      "BANNED (prompt_idx=36, type=slop_phrase, phrase='leaned')                        \n",
      "BANNED (prompt_idx=35, type=slop_phrase, phrase='warmth')                        \n",
      "BANNED (prompt_idx=15, type=slop_phrase, phrase='exchanged')                     \n",
      "BANNED (prompt_idx=29, type=slop_phrase, phrase='smile playing on his lips')     \n",
      "Batch Generating:  50%|█████     | 20/40 [06:33<01:27,  4.38s/prompt, 65.2 tok/s]"
     ]
    },
    {
     "name": "stderr",
     "output_type": "stream",
     "text": [
      "2025-05-18 17:22:02,563 [ERROR] [core.sampler        ]: Back-track: no valid next-token candidates survived even after relaxation.\n"
     ]
    },
    {
     "name": "stdout",
     "output_type": "stream",
     "text": [
      "BANNED (prompt_idx=21, type=slop_phrase, phrase='shook')                         \n",
      "BANNED (prompt_idx=6, type=slop_phrase, phrase='utterly')                        \n",
      "BANNED (prompt_idx=2, type=slop_phrase, phrase='profound')                       \n",
      "BANNED (prompt_idx=4, type=slop_phrase, phrase='whisper')                        \n",
      "BANNED (prompt_idx=18, type=slop_phrase, phrase='nodded')                        \n",
      "Batch Generating:  50%|█████     | 20/40 [06:34<01:27,  4.38s/prompt, 68.3 tok/s]"
     ]
    },
    {
     "name": "stderr",
     "output_type": "stream",
     "text": [
      "2025-05-18 17:22:03,578 [ERROR] [core.sampler        ]: Back-track: no valid next-token candidates survived even after relaxation.\n"
     ]
    },
    {
     "name": "stdout",
     "output_type": "stream",
     "text": [
      "BANNED (prompt_idx=37, type=slop_phrase, phrase='chilling')                      \n",
      "BANNED (prompt_idx=31, type=ngram, ngram='said voice calm')                      \n",
      "BANNED (prompt_idx=34, type=slop_phrase, phrase='muttered')                      \n",
      "BANNED (prompt_idx=11, type=slop_phrase, phrase='terrifying')                    \n",
      "Batch Generating:  50%|█████     | 20/40 [06:34<01:27,  4.38s/prompt, 69.9 tok/s]"
     ]
    },
    {
     "name": "stderr",
     "output_type": "stream",
     "text": [
      "2025-05-18 17:22:04,265 [ERROR] [core.sampler        ]: Back-track: no valid next-token candidates survived even after relaxation.\n"
     ]
    },
    {
     "name": "stdout",
     "output_type": "stream",
     "text": [
      "BANNED (prompt_idx=35, type=slop_phrase, phrase='unwavering')                    \n",
      "BANNED (prompt_idx=39, type=ngram, ngram='turned back')                          \n",
      "BANNED (prompt_idx=36, type=slop_phrase, phrase='stared')                        \n",
      "Batch Generating:  50%|█████     | 20/40 [06:35<01:27,  4.38s/prompt, 84.2 tok/s]"
     ]
    },
    {
     "name": "stderr",
     "output_type": "stream",
     "text": [
      "2025-05-18 17:22:05,054 [ERROR] [core.sampler        ]: Back-track: no valid next-token candidates survived even after relaxation.\n",
      "2025-05-18 17:22:05,374 [ERROR] [core.sampler        ]: Back-track: no valid next-token candidates survived even after relaxation.\n"
     ]
    },
    {
     "name": "stdout",
     "output_type": "stream",
     "text": [
      "BANNED (prompt_idx=29, type=slop_phrase, phrase='flicker')                       \n",
      "BANNED (prompt_idx=6, type=slop_phrase, phrase='profound')                       \n",
      "BANNED (prompt_idx=15, type=slop_phrase, phrase='paused')                        \n",
      "BANNED (prompt_idx=4, type=slop_phrase, phrase='whisper')                        \n",
      "BANNED (prompt_idx=13, type=slop_phrase, phrase='felt a strange sense')          \n",
      "BANNED (prompt_idx=21, type=slop_phrase, phrase='sigh')                          \n",
      "BANNED (prompt_idx=18, type=regex, regex='\\bnot\\s+(?:just|only|merely)?\\s*(?:[^\\s]+\\s*){1,6}?[,;:—–-]?\\s*but\\s+(?:also\\s+)?', match='not just a critical grandmother, but ')\n",
      "BANNED (prompt_idx=31, type=slop_phrase, phrase='void')                          \n",
      "BANNED (prompt_idx=37, type=slop_phrase, phrase='unsettling')                    \n",
      "BANNED (prompt_idx=35, type=slop_phrase, phrase='warmth')                        \n",
      "BANNED (prompt_idx=34, type=slop_phrase, phrase='utterly')                       \n",
      "BANNED (prompt_idx=38, type=slop_phrase, phrase='terrifying')                    \n",
      "BANNED (prompt_idx=6, type=slop_phrase, phrase='knew one thing')                 \n",
      "Batch Generating:  50%|█████     | 20/40 [06:38<01:27,  4.38s/prompt, 94.4 tok/s]"
     ]
    },
    {
     "name": "stderr",
     "output_type": "stream",
     "text": [
      "2025-05-18 17:22:08,283 [ERROR] [core.sampler        ]: Back-track: no valid next-token candidates survived even after relaxation.\n",
      "2025-05-18 17:22:08,336 [ERROR] [core.sampler        ]: Back-track: no valid next-token candidates survived even after relaxation.\n"
     ]
    },
    {
     "name": "stdout",
     "output_type": "stream",
     "text": [
      "BANNED (prompt_idx=36, type=slop_phrase, phrase='stared')                        \n",
      "BANNED (prompt_idx=29, type=slop_phrase, phrase='flicker')                       \n",
      "BANNED (prompt_idx=15, type=slop_phrase, phrase='shifted')                       \n",
      "BANNED (prompt_idx=0, type=regex, regex='\\bnot\\s+(?:just|only|merely)?\\s*(?:[^\\s]+\\s*){1,6}?[,;:—–-]?\\s*but\\s+(?:also\\s+)?', match='not of victory, but ')\n",
      "BANNED (prompt_idx=2, type=regex, regex='\\bnot\\s+(?:just|only|merely)?\\s*(?:[^\\s]+\\s*){1,6}?[,;:—–-]?\\s*but\\s+(?:also\\s+)?', match='not by erasing the past, but ')\n",
      "BANNED (prompt_idx=13, type=slop_phrase, phrase='profound')                      \n",
      "BANNED (prompt_idx=18, type=regex, regex='\\bnot\\s+(?:just|only|merely)?\\s*(?:[^\\s]+\\s*){1,6}?[,;:—–-]?\\s*but\\s+(?:also\\s+)?', match='not just a critical, demanding grandmother, but ')\n",
      "BANNED (prompt_idx=10, type=slop_phrase, phrase='fabric')                        \n",
      "BANNED (prompt_idx=21, type=slop_phrase, phrase='sigh')                          \n",
      "BANNED (prompt_idx=11, type=regex, regex='\\bnot\\s+(?:just|only|merely)?\\s*(?:[^\\s]+\\s*){1,6}?[,;:—–-]?\\s*but\\s+(?:also\\s+)?', match='not just pain, but ')\n",
      "BANNED (prompt_idx=35, type=slop_phrase, phrase='warmth')                        \n",
      "BANNED (prompt_idx=37, type=slop_phrase, phrase='fragile')                       \n",
      "BANNED (prompt_idx=39, type=regex, regex='\\bnot\\s+(?:just|only|merely)?\\s*(?:[^\\s]+\\s*){1,6}?[,;:—–-]?\\s*but\\s+(?:also\\s+)?', match='Not changed, exactly. But ')\n",
      "BANNED (prompt_idx=33, type=ngram, ngram='felt surge')                           \n",
      "BANNED (prompt_idx=6, type=ngram, ngram='one thing')                             \n",
      "BANNED (prompt_idx=34, type=slop_phrase, phrase='terrifying')                    \n",
      "BANNED (prompt_idx=38, type=regex, regex='\\bnot\\s+(?:just|only|merely)?\\s*(?:[^\\s]+\\s*){1,6}?[,;:—–-]?\\s*but\\s+(?:also\\s+)?', match='not in knowing everything, but ')\n",
      "Batch Generating:  50%|█████     | 20/40 [06:41<01:27,  4.38s/prompt, 65.3 tok/s]"
     ]
    },
    {
     "name": "stderr",
     "output_type": "stream",
     "text": [
      "2025-05-18 17:22:11,350 [ERROR] [core.sampler        ]: Back-track: no valid next-token candidates survived even after relaxation.\n"
     ]
    },
    {
     "name": "stdout",
     "output_type": "stream",
     "text": [
      "BANNED (prompt_idx=29, type=slop_phrase, phrase='flicker')                       \n",
      "BANNED (prompt_idx=15, type=slop_phrase, phrase='exchanged')                     \n",
      "BANNED (prompt_idx=36, type=slop_phrase, phrase='stared')                        \n",
      "BANNED (prompt_idx=2, type=slop_phrase, phrase='profound')                       \n",
      "Batch Generating:  50%|█████     | 20/40 [06:42<01:27,  4.38s/prompt, 69.0 tok/s]"
     ]
    },
    {
     "name": "stderr",
     "output_type": "stream",
     "text": [
      "2025-05-18 17:22:11,625 [ERROR] [core.sampler        ]: Back-track: no valid next-token candidates survived even after relaxation.\n"
     ]
    },
    {
     "name": "stdout",
     "output_type": "stream",
     "text": [
      "BANNED (prompt_idx=18, type=ngram, ngram='first time')                           \n",
      "BANNED (prompt_idx=10, type=slop_phrase, phrase='essence')                       \n",
      "BANNED (prompt_idx=35, type=slop_phrase, phrase='unsettling')                    \n",
      "BANNED (prompt_idx=39, type=slop_phrase, phrase='shifted')                       \n",
      "BANNED (prompt_idx=6, type=slop_phrase, phrase='profound')                       \n",
      "BANNED (prompt_idx=38, type=slop_phrase, phrase='terrifying')                    \n",
      "BANNED (prompt_idx=19, type=regex, regex='\\bnot\\s+(?:just|only|merely)?\\s*(?:[^\\s]+\\s*){1,6}?[,;:—–-]?\\s*but\\s+(?:also\\s+)?', match='not with weapons or armies, but ')\n",
      "BANNED (prompt_idx=34, type=slop_phrase, phrase='voice devoid of emotion')       \n",
      "BANNED (prompt_idx=0, type=slop_phrase, phrase='rain continued to fall')         \n",
      "BANNED (prompt_idx=29, type=slop_phrase, phrase='glanced')                       \n",
      "BANNED (prompt_idx=18, type=ngram, ngram='first time')                           \n",
      "BANNED (prompt_idx=15, type=slop_phrase, phrase='stared')                        \n",
      "BANNED (prompt_idx=2, type=slop_phrase, phrase='rain continued to fall')         \n",
      "BANNED (prompt_idx=31, type=slop_phrase, phrase='hand instinctively reaching')   \n",
      "Batch Generating:  50%|█████     | 20/40 [06:45<01:27,  4.38s/prompt, 76.9 tok/s]"
     ]
    },
    {
     "name": "stderr",
     "output_type": "stream",
     "text": [
      "2025-05-18 17:22:14,753 [ERROR] [core.sampler        ]: Back-track: no valid next-token candidates survived even after relaxation.\n"
     ]
    },
    {
     "name": "stdout",
     "output_type": "stream",
     "text": [
      "BANNED (prompt_idx=10, type=slop_phrase, phrase='fabric')                        \n",
      "BANNED (prompt_idx=36, type=slop_phrase, phrase='flicker')                       \n",
      "BANNED (prompt_idx=4, type=slop_phrase, phrase='trembling')                      \n",
      "BANNED (prompt_idx=11, type=slop_phrase, phrase='elias')                         \n",
      "BANNED (prompt_idx=39, type=slop_phrase, phrase='shifted')                       \n",
      "BANNED (prompt_idx=6, type=slop_phrase, phrase='profound')                       \n",
      "BANNED (prompt_idx=21, type=slop_phrase, phrase='first time since')              \n",
      "BANNED (prompt_idx=0, type=regex, regex='\\bnot\\s+(?:just|only|merely)?\\s*(?:[^\\s]+\\s*){1,6}?[,;:—–-]?\\s*but\\s+(?:also\\s+)?', match='not by a long shot.  But ')\n",
      "BANNED (prompt_idx=29, type=slop_phrase, phrase='amusement')                     \n",
      "BANNED (prompt_idx=34, type=slop_phrase, phrase='void')                          \n",
      "BANNED (prompt_idx=18, type=regex, regex='\\bnot\\s+(?:just|only|merely)?\\s*(?:[^\\s]+\\s*){1,6}?[,;:—–-]?\\s*but\\s+(?:also\\s+)?', match='not just a critical, judgmental grandmother, but ')\n",
      "BANNED (prompt_idx=4, type=slop_phrase, phrase='shaking')                        \n",
      "BANNED (prompt_idx=31, type=slop_phrase, phrase='faint')                         \n",
      "BANNED (prompt_idx=15, type=slop_phrase, phrase='stared')                        \n",
      "BANNED (prompt_idx=11, type=slop_phrase, phrase='elara')                         \n",
      "Batch Generating:  55%|█████▌    | 22/40 [06:48<01:31,  5.09s/prompt, 59.5 tok/s]"
     ]
    },
    {
     "name": "stderr",
     "output_type": "stream",
     "text": [
      "2025-05-18 17:22:17,771 [ERROR] [core.sampler        ]: Back-track: no valid next-token candidates survived even after relaxation.\n"
     ]
    },
    {
     "name": "stdout",
     "output_type": "stream",
     "text": [
      "BANNED (prompt_idx=36, type=slop_phrase, phrase='stared')                        \n",
      "Batch Generating:  55%|█████▌    | 22/40 [06:48<01:31,  5.09s/prompt, 62.9 tok/s]"
     ]
    },
    {
     "name": "stderr",
     "output_type": "stream",
     "text": [
      "2025-05-18 17:22:18,074 [ERROR] [core.sampler        ]: Back-track: no valid next-token candidates survived even after relaxation.\n"
     ]
    },
    {
     "name": "stdout",
     "output_type": "stream",
     "text": [
      "BANNED (prompt_idx=6, type=slop_phrase, phrase='profound')                       \n",
      "BANNED (prompt_idx=37, type=regex, regex='\\bnot\\s+(?:just|only|merely)?\\s*(?:[^\\s]+\\s*){1,6}?[,;:—–-]?\\s*but\\s+(?:also\\s+)?', match='not against the Ascendants, but ')\n",
      "BANNED (prompt_idx=21, type=slop_phrase, phrase='paused')                        \n",
      "Batch Generating:  57%|█████▊    | 23/40 [06:50<01:16,  4.52s/prompt, 60.4 tok/s]"
     ]
    },
    {
     "name": "stderr",
     "output_type": "stream",
     "text": [
      "2025-05-18 17:22:19,774 [ERROR] [core.sampler        ]: Back-track: no valid next-token candidates survived even after relaxation.\n",
      "2025-05-18 17:22:19,794 [ERROR] [core.sampler        ]: Back-track: no valid next-token candidates survived even after relaxation.\n"
     ]
    },
    {
     "name": "stdout",
     "output_type": "stream",
     "text": [
      "BANNED (prompt_idx=29, type=slop_phrase, phrase='flicker')                       \n",
      "BANNED (prompt_idx=4, type=slop_phrase, phrase='trembling')                      \n",
      "BANNED (prompt_idx=18, type=slop_phrase, phrase='flicker')                       \n",
      "BANNED (prompt_idx=31, type=slop_phrase, phrase='smile playing on his lips')     \n",
      "BANNED (prompt_idx=11, type=slop_phrase, phrase='raced')                         \n",
      "BANNED (prompt_idx=10, type=slop_phrase, phrase='profound')                      \n",
      "BANNED (prompt_idx=15, type=slop_phrase, phrase='stared')                        \n",
      "Batch Generating:  60%|██████    | 24/40 [06:51<00:54,  3.42s/prompt, 82.6 tok/s]"
     ]
    },
    {
     "name": "stderr",
     "output_type": "stream",
     "text": [
      "2025-05-18 17:22:20,755 [ERROR] [core.sampler        ]: Back-track: no valid next-token candidates survived even after relaxation.\n",
      "2025-05-18 17:22:21,062 [ERROR] [core.sampler        ]: Back-track: no valid next-token candidates survived even after relaxation.\n"
     ]
    },
    {
     "name": "stdout",
     "output_type": "stream",
     "text": [
      "BANNED (prompt_idx=36, type=slop_phrase, phrase='stared')                        \n",
      "BANNED (prompt_idx=0, type=slop_phrase, phrase='something else entirely')        \n",
      "Batch Generating:  62%|██████▎   | 25/40 [06:52<00:42,  2.80s/prompt, 84.2 tok/s]"
     ]
    },
    {
     "name": "stderr",
     "output_type": "stream",
     "text": [
      "2025-05-18 17:22:21,668 [ERROR] [core.sampler        ]: Back-track: no valid next-token candidates survived even after relaxation.\n"
     ]
    },
    {
     "name": "stdout",
     "output_type": "stream",
     "text": [
      "BANNED (prompt_idx=4, type=slop_phrase, phrase='trembling')                      \n",
      "BANNED (prompt_idx=29, type=slop_phrase, phrase='flicker')                       \n",
      "Batch Generating:  62%|██████▎   | 25/40 [06:52<00:42,  2.80s/prompt, 89.7 tok/s]"
     ]
    },
    {
     "name": "stderr",
     "output_type": "stream",
     "text": [
      "2025-05-18 17:22:22,075 [ERROR] [core.sampler        ]: Back-track: no valid next-token candidates survived even after relaxation.\n"
     ]
    },
    {
     "name": "stdout",
     "output_type": "stream",
     "text": [
      "BANNED (prompt_idx=31, type=slop_phrase, phrase='unsettling')                    \n",
      "BANNED (prompt_idx=34, type=slop_phrase, phrase='flicker')                        \n",
      "BANNED (prompt_idx=11, type=slop_phrase, phrase='raced')                          \n",
      "BANNED (prompt_idx=10, type=slop_phrase, phrase='testament')                     \n",
      "BANNED (prompt_idx=39, type=slop_phrase, phrase='villain')                       \n",
      "BANNED (prompt_idx=15, type=slop_phrase, phrase='flicker')                       \n",
      "Batch Generating:  62%|██████▎   | 25/40 [06:54<00:42,  2.80s/prompt, 86.8 tok/s]"
     ]
    },
    {
     "name": "stderr",
     "output_type": "stream",
     "text": [
      "2025-05-18 17:22:23,548 [ERROR] [core.sampler        ]: Back-track: no valid next-token candidates survived even after relaxation.\n"
     ]
    },
    {
     "name": "stdout",
     "output_type": "stream",
     "text": [
      "BANNED (prompt_idx=4, type=slop_phrase, phrase='trembling')                      \n",
      "BANNED (prompt_idx=36, type=slop_phrase, phrase='relentless')                     \n",
      "BANNED (prompt_idx=37, type=slop_phrase, phrase='profound')                       \n",
      "BANNED (prompt_idx=29, type=slop_phrase, phrase='newfound')                      \n",
      "BANNED (prompt_idx=33, type=ngram, ngram='maybe maybe')                          \n",
      "BANNED (prompt_idx=31, type=slop_phrase, phrase='smile playing on his lips')     \n",
      "BANNED (prompt_idx=21, type=slop_phrase, phrase='rain continued to fall')        \n",
      "BANNED (prompt_idx=11, type=slop_phrase, phrase='stumbled')                      \n",
      "BANNED (prompt_idx=34, type=slop_phrase, phrase='pulse')                         \n",
      "BANNED (prompt_idx=10, type=slop_phrase, phrase='testament')                     \n",
      "BANNED (prompt_idx=4, type=ngram, ngram='something akin')                        \n",
      "Batch Generating:  68%|██████▊   | 27/40 [06:56<00:26,  2.08s/prompt, 61.4 tok/s]"
     ]
    },
    {
     "name": "stderr",
     "output_type": "stream",
     "text": [
      "2025-05-18 17:22:25,608 [ERROR] [core.sampler        ]: Back-track: no valid next-token candidates survived even after relaxation.\n"
     ]
    },
    {
     "name": "stdout",
     "output_type": "stream",
     "text": [
      "BANNED (prompt_idx=15, type=slop_phrase, phrase='stared')                        \n",
      "BANNED (prompt_idx=13, type=slop_phrase, phrase='despair')                       \n",
      "Batch Generating:  68%|██████▊   | 27/40 [06:56<00:26,  2.08s/prompt, 63.6 tok/s]"
     ]
    },
    {
     "name": "stderr",
     "output_type": "stream",
     "text": [
      "2025-05-18 17:22:25,864 [ERROR] [core.sampler        ]: Back-track: no valid next-token candidates survived even after relaxation.\n",
      "2025-05-18 17:22:26,010 [ERROR] [core.sampler        ]: Back-track: no valid next-token candidates survived even after relaxation.\n"
     ]
    },
    {
     "name": "stdout",
     "output_type": "stream",
     "text": [
      "BANNED (prompt_idx=36, type=slop_phrase, phrase='stared')                        \n",
      "BANNED (prompt_idx=18, type=slop_phrase, phrase='fading')                        \n",
      "BANNED (prompt_idx=29, type=slop_phrase, phrase='flicker')                       \n",
      "BANNED (prompt_idx=11, type=slop_phrase, phrase='whisper')                       \n",
      "BANNED (prompt_idx=21, type=slop_phrase, phrase='amidst')                        \n",
      "BANNED (prompt_idx=34, type=slop_phrase, phrase='static')                        \n",
      "BANNED (prompt_idx=10, type=slop_phrase, phrase='profound')                      \n",
      "BANNED (prompt_idx=39, type=regex, regex='\\bnot\\s+(?:just|only|merely)?\\s*(?:[^\\s]+\\s*){1,6}?[,;:—–-]?\\s*but\\s+(?:also\\s+)?', match='not to destroy it, but ')\n",
      "BANNED (prompt_idx=4, type=slop_phrase, phrase='trembling')                      \n",
      "Batch Generating:  68%|██████▊   | 27/40 [06:56<00:26,  2.08s/prompt, 75.4 tok/s]"
     ]
    },
    {
     "name": "stderr",
     "output_type": "stream",
     "text": [
      "2025-05-18 17:22:26,164 [ERROR] [core.sampler        ]: Back-track: no valid next-token candidates survived even after relaxation.\n"
     ]
    },
    {
     "name": "stdout",
     "output_type": "stream",
     "text": [
      "BANNED (prompt_idx=13, type=ngram, ngram='something else')                       \n",
      "BANNED (prompt_idx=15, type=slop_phrase, phrase='subtle')                        \n",
      "BANNED (prompt_idx=36, type=slop_phrase, phrase='smile spreading across')        \n",
      "BANNED (prompt_idx=29, type=slop_phrase, phrase='glanced')                       \n",
      "BANNED (prompt_idx=6, type=ngram, ngram='would never')                           \n",
      "BANNED (prompt_idx=34, type=slop_phrase, phrase='void')                          \n",
      "BANNED (prompt_idx=39, type=slop_phrase, phrase='rain continued to fall')        \n",
      "BANNED (prompt_idx=18, type=slop_phrase, phrase='rhythm')                        \n",
      "BANNED (prompt_idx=31, type=slop_phrase, phrase='gestured')                      \n",
      "BANNED (prompt_idx=4, type=slop_phrase, phrase='trembling')                      \n",
      "BANNED (prompt_idx=11, type=slop_phrase, phrase='whisper')                       \n",
      "BANNED (prompt_idx=10, type=slop_phrase, phrase='profound')                      \n",
      "Batch Generating:  72%|███████▎  | 29/40 [06:57<00:23,  2.15s/prompt, 72.4 tok/s]"
     ]
    },
    {
     "name": "stderr",
     "output_type": "stream",
     "text": [
      "2025-05-18 17:22:26,960 [ERROR] [core.sampler        ]: Back-track: no valid next-token candidates survived even after relaxation.\n",
      "2025-05-18 17:22:27,198 [ERROR] [core.sampler        ]: Back-track: no valid next-token candidates survived even after relaxation.\n",
      "2025-05-18 17:22:27,251 [ERROR] [core.sampler        ]: Back-track: no valid next-token candidates survived even after relaxation.\n"
     ]
    },
    {
     "name": "stdout",
     "output_type": "stream",
     "text": [
      "BANNED (prompt_idx=15, type=slop_phrase, phrase='stared')                        \n",
      "BANNED (prompt_idx=36, type=slop_phrase, phrase='stared')                        \n",
      "Batch Generating:  72%|███████▎  | 29/40 [06:57<00:23,  2.15s/prompt, 71.3 tok/s]"
     ]
    },
    {
     "name": "stderr",
     "output_type": "stream",
     "text": [
      "2025-05-18 17:22:27,515 [ERROR] [core.sampler        ]: Back-track: no valid next-token candidates survived even after relaxation.\n"
     ]
    },
    {
     "name": "stdout",
     "output_type": "stream",
     "text": [
      "BANNED (prompt_idx=29, type=slop_phrase, phrase='flicker')                       \n",
      "BANNED (prompt_idx=34, type=slop_phrase, phrase='swirling')                      \n",
      "BANNED (prompt_idx=4, type=ngram, ngram='something akin')                        \n",
      "BANNED (prompt_idx=21, type=slop_phrase, phrase='meticulously')                  \n",
      "BANNED (prompt_idx=11, type=slop_phrase, phrase='whisper')                       \n",
      "BANNED (prompt_idx=10, type=regex, regex='\\bnot\\s+(?:just|only|merely)?\\s*(?:[^\\s]+\\s*){1,6}?[,;:—–-]?\\s*but\\s+(?:also\\s+)?', match='not fear, but ')\n",
      "BANNED (prompt_idx=36, type=slop_phrase, phrase='stared')                        \n",
      "BANNED (prompt_idx=15, type=slop_phrase, phrase='flicker')                       \n",
      "Batch Generating:  72%|███████▎  | 29/40 [06:58<00:23,  2.15s/prompt, 78.7 tok/s]"
     ]
    },
    {
     "name": "stderr",
     "output_type": "stream",
     "text": [
      "2025-05-18 17:22:27,861 [ERROR] [core.sampler        ]: Back-track: no valid next-token candidates survived even after relaxation.\n"
     ]
    },
    {
     "name": "stdout",
     "output_type": "stream",
     "text": [
      "BANNED (prompt_idx=34, type=slop_phrase, phrase='static')                        \n",
      "BANNED (prompt_idx=4, type=slop_phrase, phrase='trembling')                      \n",
      "Batch Generating:  72%|███████▎  | 29/40 [06:59<00:23,  2.15s/prompt, 82.8 tok/s]"
     ]
    },
    {
     "name": "stderr",
     "output_type": "stream",
     "text": [
      "2025-05-18 17:22:28,355 [ERROR] [core.sampler        ]: Back-track: no valid next-token candidates survived even after relaxation.\n"
     ]
    },
    {
     "name": "stdout",
     "output_type": "stream",
     "text": [
      "BANNED (prompt_idx=18, type=slop_phrase, phrase='subtle')                        \n",
      "BANNED (prompt_idx=39, type=ngram, ngram='voice barely')                         \n",
      "BANNED (prompt_idx=11, type=slop_phrase, phrase='whisper')                       \n",
      "BANNED (prompt_idx=10, type=slop_phrase, phrase='first time in a long')          \n",
      "BANNED (prompt_idx=36, type=slop_phrase, phrase='stared')                        \n",
      "Batch Generating:  72%|███████▎  | 29/40 [06:59<00:23,  2.15s/prompt, 92.2 tok/s]"
     ]
    },
    {
     "name": "stderr",
     "output_type": "stream",
     "text": [
      "2025-05-18 17:22:28,578 [ERROR] [core.sampler        ]: Back-track: no valid next-token candidates survived even after relaxation.\n",
      "2025-05-18 17:22:28,648 [ERROR] [core.sampler        ]: Back-track: no valid next-token candidates survived even after relaxation.\n"
     ]
    },
    {
     "name": "stdout",
     "output_type": "stream",
     "text": [
      "BANNED (prompt_idx=21, type=slop_phrase, phrase='meticulously')                  \n",
      "BANNED (prompt_idx=15, type=slop_phrase, phrase='stared')                        \n",
      "BANNED (prompt_idx=29, type=slop_phrase, phrase='rain continued to fall')         \n",
      "BANNED (prompt_idx=4, type=slop_phrase, phrase='trembling')                       \n",
      "BANNED (prompt_idx=34, type=slop_phrase, phrase='faded')                          \n",
      "Batch Generating:  72%|███████▎  | 29/40 [06:59<00:23,  2.15s/prompt, 111.2 tok/s]"
     ]
    },
    {
     "name": "stderr",
     "output_type": "stream",
     "text": [
      "2025-05-18 17:22:28,957 [ERROR] [core.sampler        ]: Back-track: no valid next-token candidates survived even after relaxation.\n"
     ]
    },
    {
     "name": "stdout",
     "output_type": "stream",
     "text": [
      "BANNED (prompt_idx=31, type=slop_phrase, phrase='silas')                          \n",
      "BANNED (prompt_idx=18, type=slop_phrase, phrase='profound')                       \n",
      "BANNED (prompt_idx=39, type=slop_phrase, phrase='gaze')                           \n",
      "BANNED (prompt_idx=11, type=slop_phrase, phrase='whisper')                        \n",
      "BANNED (prompt_idx=10, type=slop_phrase, phrase='first time in a long')           \n",
      "Batch Generating:  72%|███████▎  | 29/40 [06:59<00:23,  2.15s/prompt, 105.8 tok/s]"
     ]
    },
    {
     "name": "stderr",
     "output_type": "stream",
     "text": [
      "2025-05-18 17:22:29,335 [ERROR] [core.sampler        ]: Back-track: no valid next-token candidates survived even after relaxation.\n"
     ]
    },
    {
     "name": "stdout",
     "output_type": "stream",
     "text": [
      "BANNED (prompt_idx=15, type=slop_phrase, phrase='faint')                          \n",
      "BANNED (prompt_idx=36, type=slop_phrase, phrase='whisper')                        \n",
      "BANNED (prompt_idx=4, type=slop_phrase, phrase='laced')                           \n",
      "BANNED (prompt_idx=34, type=slop_phrase, phrase='unsettling')                     \n",
      "BANNED (prompt_idx=39, type=slop_phrase, phrase='voice barely audible')           \n",
      "BANNED (prompt_idx=11, type=slop_phrase, phrase='whisper')                        \n",
      "BANNED (prompt_idx=10, type=slop_phrase, phrase='flicker')                        \n",
      "Batch Generating:  75%|███████▌  | 30/40 [07:00<00:18,  1.86s/prompt, 119.3 tok/s]"
     ]
    },
    {
     "name": "stderr",
     "output_type": "stream",
     "text": [
      "2025-05-18 17:22:29,910 [ERROR] [core.sampler        ]: Back-track: no valid next-token candidates survived even after relaxation.\n",
      "2025-05-18 17:22:30,014 [ERROR] [core.sampler        ]: Back-track: no valid next-token candidates survived even after relaxation.\n"
     ]
    },
    {
     "name": "stdout",
     "output_type": "stream",
     "text": [
      "BANNED (prompt_idx=15, type=slop_phrase, phrase='faint')                          \n",
      "BANNED (prompt_idx=18, type=slop_phrase, phrase='subtle')                         \n",
      "Batch Generating:  75%|███████▌  | 30/40 [07:00<00:18,  1.86s/prompt, 128.9 tok/s]"
     ]
    },
    {
     "name": "stderr",
     "output_type": "stream",
     "text": [
      "2025-05-18 17:22:30,236 [ERROR] [core.sampler        ]: Back-track: no valid next-token candidates survived even after relaxation.\n"
     ]
    },
    {
     "name": "stdout",
     "output_type": "stream",
     "text": [
      "BANNED (prompt_idx=36, type=slop_phrase, phrase='stared')                         \n",
      "BANNED (prompt_idx=39, type=slop_phrase, phrase='voice barely audible')           \n",
      "BANNED (prompt_idx=11, type=slop_phrase, phrase='whisper')                        \n",
      "Batch Generating:  75%|███████▌  | 30/40 [07:01<00:18,  1.86s/prompt, 147.7 tok/s]"
     ]
    },
    {
     "name": "stderr",
     "output_type": "stream",
     "text": [
      "2025-05-18 17:22:30,671 [ERROR] [core.sampler        ]: Back-track: no valid next-token candidates survived even after relaxation.\n"
     ]
    },
    {
     "name": "stdout",
     "output_type": "stream",
     "text": [
      "BANNED (prompt_idx=10, type=slop_phrase, phrase='profound')                       \n",
      "BANNED (prompt_idx=15, type=ngram, ngram='long moment')                           \n",
      "BANNED (prompt_idx=36, type=slop_phrase, phrase='stared')                         \n",
      "Batch Generating:  75%|███████▌  | 30/40 [07:01<00:18,  1.86s/prompt, 142.1 tok/s]"
     ]
    },
    {
     "name": "stderr",
     "output_type": "stream",
     "text": [
      "2025-05-18 17:22:30,969 [ERROR] [core.sampler        ]: Back-track: no valid next-token candidates survived even after relaxation.\n"
     ]
    },
    {
     "name": "stdout",
     "output_type": "stream",
     "text": [
      "BANNED (prompt_idx=29, type=slop_phrase, phrase='rain continued to fall')         \n",
      "BANNED (prompt_idx=31, type=slop_phrase, phrase='silas')                          \n",
      "Batch Generating:  75%|███████▌  | 30/40 [07:01<00:18,  1.86s/prompt, 126.0 tok/s]"
     ]
    },
    {
     "name": "stderr",
     "output_type": "stream",
     "text": [
      "2025-05-18 17:22:31,328 [ERROR] [core.sampler        ]: Back-track: no valid next-token candidates survived even after relaxation.\n",
      "2025-05-18 17:22:31,517 [ERROR] [core.sampler        ]: Back-track: no valid next-token candidates survived even after relaxation.\n"
     ]
    },
    {
     "name": "stdout",
     "output_type": "stream",
     "text": [
      "BANNED (prompt_idx=39, type=ngram, ngram='voice barely audible')                  \n",
      "BANNED (prompt_idx=11, type=slop_phrase, phrase='whisper')                        \n",
      "BANNED (prompt_idx=10, type=slop_phrase, phrase='unsettling')                     \n",
      "BANNED (prompt_idx=15, type=slop_phrase, phrase='faint')                          \n",
      "BANNED (prompt_idx=36, type=slop_phrase, phrase='murmured')                       \n",
      "BANNED (prompt_idx=29, type=slop_phrase, phrase='rain continued to fall')         \n",
      "BANNED (prompt_idx=34, type=slop_phrase, phrase='hesitated')                      \n",
      "BANNED (prompt_idx=31, type=slop_phrase, phrase='swirling')                       \n",
      "BANNED (prompt_idx=39, type=slop_phrase, phrase='villain')                        \n",
      "BANNED (prompt_idx=11, type=slop_phrase, phrase='unsettling')                     \n",
      "BANNED (prompt_idx=10, type=slop_phrase, phrase='profound')                       \n",
      "BANNED (prompt_idx=15, type=slop_phrase, phrase='faint')                          \n",
      "Batch Generating:  80%|████████  | 32/40 [07:02<00:15,  1.99s/prompt, 134.3 tok/s]"
     ]
    },
    {
     "name": "stderr",
     "output_type": "stream",
     "text": [
      "2025-05-18 17:22:32,232 [ERROR] [core.sampler        ]: Back-track: no valid next-token candidates survived even after relaxation.\n",
      "2025-05-18 17:22:32,321 [ERROR] [core.sampler        ]: Back-track: no valid next-token candidates survived even after relaxation.\n"
     ]
    },
    {
     "name": "stdout",
     "output_type": "stream",
     "text": [
      "BANNED (prompt_idx=36, type=slop_phrase, phrase='stared')                         \n",
      "BANNED (prompt_idx=29, type=slop_phrase, phrase='first time in a long')           \n",
      "BANNED (prompt_idx=31, type=slop_phrase, phrase='shifting')                       \n",
      "BANNED (prompt_idx=34, type=slop_phrase, phrase='unsettling')                     \n",
      "BANNED (prompt_idx=39, type=slop_phrase, phrase='chaotic')                        \n",
      "BANNED (prompt_idx=11, type=slop_phrase, phrase='whisper')                        \n",
      "BANNED (prompt_idx=10, type=slop_phrase, phrase='profound')                       \n",
      "BANNED (prompt_idx=15, type=slop_phrase, phrase='gaze')                           \n",
      "Batch Generating:  80%|████████  | 32/40 [07:03<00:15,  1.99s/prompt, 134.2 tok/s]"
     ]
    },
    {
     "name": "stderr",
     "output_type": "stream",
     "text": [
      "2025-05-18 17:22:33,001 [ERROR] [core.sampler        ]: Back-track: no valid next-token candidates survived even after relaxation.\n"
     ]
    },
    {
     "name": "stdout",
     "output_type": "stream",
     "text": [
      "BANNED (prompt_idx=36, type=slop_phrase, phrase='stared')                         \n",
      "BANNED (prompt_idx=39, type=slop_phrase, phrase='intricate')                      \n",
      "BANNED (prompt_idx=31, type=slop_phrase, phrase='vibrant')                        \n",
      "BANNED (prompt_idx=34, type=slop_phrase, phrase='terrifying')                     \n",
      "BANNED (prompt_idx=15, type=slop_phrase, phrase='faint')                          \n",
      "BANNED (prompt_idx=36, type=slop_phrase, phrase='rhythm')                         \n",
      "Batch Generating:  82%|████████▎ | 33/40 [07:04<00:09,  1.40s/prompt, 122.3 tok/s]"
     ]
    },
    {
     "name": "stderr",
     "output_type": "stream",
     "text": [
      "2025-05-18 17:22:33,581 [ERROR] [core.sampler        ]: Back-track: no valid next-token candidates survived even after relaxation.\n"
     ]
    },
    {
     "name": "stdout",
     "output_type": "stream",
     "text": [
      "BANNED (prompt_idx=29, type=slop_phrase, phrase='flicker')                        \n",
      "Batch Generating:  85%|████████▌ | 34/40 [07:04<00:07,  1.22s/prompt, 119.2 tok/s]"
     ]
    },
    {
     "name": "stderr",
     "output_type": "stream",
     "text": [
      "2025-05-18 17:22:34,159 [ERROR] [core.sampler        ]: Back-track: no valid next-token candidates survived even after relaxation.\n",
      "2025-05-18 17:22:34,304 [ERROR] [core.sampler        ]: Back-track: no valid next-token candidates survived even after relaxation.\n"
     ]
    },
    {
     "name": "stdout",
     "output_type": "stream",
     "text": [
      "BANNED (prompt_idx=31, type=slop_phrase, phrase='swirling')                       \n",
      "BANNED (prompt_idx=34, type=slop_phrase, phrase='unsettling')                     \n",
      "BANNED (prompt_idx=15, type=slop_phrase, phrase='faint')                          \n",
      "BANNED (prompt_idx=36, type=slop_phrase, phrase='flicker')                        \n",
      "Batch Generating:  88%|████████▊ | 35/40 [07:05<00:05,  1.03s/prompt, 124.6 tok/s]"
     ]
    },
    {
     "name": "stderr",
     "output_type": "stream",
     "text": [
      "2025-05-18 17:22:34,803 [ERROR] [core.sampler        ]: Back-track: no valid next-token candidates survived even after relaxation.\n"
     ]
    },
    {
     "name": "stdout",
     "output_type": "stream",
     "text": [
      "BANNED (prompt_idx=31, type=slop_phrase, phrase='swirling')                       \n",
      "BANNED (prompt_idx=34, type=slop_phrase, phrase='echo')                           \n",
      "BANNED (prompt_idx=15, type=ngram, ngram='eyes fixed')                            \n",
      "BANNED (prompt_idx=36, type=slop_phrase, phrase='felt a flicker of something')    \n",
      "Batch Generating:  88%|████████▊ | 35/40 [07:05<00:05,  1.03s/prompt, 115.8 tok/s]"
     ]
    },
    {
     "name": "stderr",
     "output_type": "stream",
     "text": [
      "2025-05-18 17:22:35,551 [ERROR] [core.sampler        ]: Back-track: no valid next-token candidates survived even after relaxation.\n",
      "2025-05-18 17:22:35,675 [ERROR] [core.sampler        ]: Back-track: no valid next-token candidates survived even after relaxation.\n"
     ]
    },
    {
     "name": "stdout",
     "output_type": "stream",
     "text": [
      "BANNED (prompt_idx=31, type=slop_phrase, phrase='swirling')                       \n",
      "BANNED (prompt_idx=34, type=slop_phrase, phrase='void')                           \n",
      "BANNED (prompt_idx=15, type=slop_phrase, phrase='faint')                          \n",
      "BANNED (prompt_idx=31, type=slop_phrase, phrase='hesitated')                      \n",
      "BANNED (prompt_idx=34, type=slop_phrase, phrase='void')                           \n",
      "BANNED (prompt_idx=15, type=slop_phrase, phrase='faint')                         \n",
      "Batch Generating:  88%|████████▊ | 35/40 [07:07<00:05,  1.03s/prompt, 94.2 tok/s]"
     ]
    },
    {
     "name": "stderr",
     "output_type": "stream",
     "text": [
      "2025-05-18 17:22:36,396 [ERROR] [core.sampler        ]: Back-track: no valid next-token candidates survived even after relaxation.\n"
     ]
    },
    {
     "name": "stdout",
     "output_type": "stream",
     "text": [
      "BANNED (prompt_idx=36, type=slop_phrase, phrase='flicker')                       \n",
      "Batch Generating:  88%|████████▊ | 35/40 [07:07<00:05,  1.03s/prompt, 96.9 tok/s]"
     ]
    },
    {
     "name": "stderr",
     "output_type": "stream",
     "text": [
      "2025-05-18 17:22:36,880 [ERROR] [core.sampler        ]: Back-track: no valid next-token candidates survived even after relaxation.\n"
     ]
    },
    {
     "name": "stdout",
     "output_type": "stream",
     "text": [
      "BANNED (prompt_idx=31, type=slop_phrase, phrase='swirling')                      \n",
      "BANNED (prompt_idx=34, type=slop_phrase, phrase='vanished')                      \n",
      "BANNED (prompt_idx=11, type=slop_phrase, phrase='chilling')                      \n",
      "BANNED (prompt_idx=36, type=slop_phrase, phrase='whisper')                       \n",
      "BANNED (prompt_idx=15, type=slop_phrase, phrase='gaze')                          \n",
      "Batch Generating:  88%|████████▊ | 35/40 [07:07<00:05,  1.03s/prompt, 92.4 tok/s]"
     ]
    },
    {
     "name": "stderr",
     "output_type": "stream",
     "text": [
      "2025-05-18 17:22:37,168 [ERROR] [core.sampler        ]: Back-track: no valid next-token candidates survived even after relaxation.\n"
     ]
    },
    {
     "name": "stdout",
     "output_type": "stream",
     "text": [
      "BANNED (prompt_idx=31, type=slop_phrase, phrase='took a deep breath')            \n",
      "BANNED (prompt_idx=11, type=slop_phrase, phrase='chilling')                      \n",
      "BANNED (prompt_idx=15, type=ngram, ngram='gaze fixed')                           \n",
      "Batch Generating:  88%|████████▊ | 35/40 [07:08<00:05,  1.03s/prompt, 73.4 tok/s]"
     ]
    },
    {
     "name": "stderr",
     "output_type": "stream",
     "text": [
      "2025-05-18 17:22:37,852 [ERROR] [core.sampler        ]: Back-track: no valid next-token candidates survived even after relaxation.\n"
     ]
    },
    {
     "name": "stdout",
     "output_type": "stream",
     "text": [
      "BANNED (prompt_idx=36, type=slop_phrase, phrase='whisper')                       \n",
      "BANNED (prompt_idx=31, type=slop_phrase, phrase='swirling')                      \n",
      "Batch Generating:  88%|████████▊ | 35/40 [07:08<00:05,  1.03s/prompt, 81.4 tok/s]"
     ]
    },
    {
     "name": "stderr",
     "output_type": "stream",
     "text": [
      "2025-05-18 17:22:38,198 [ERROR] [core.sampler        ]: Back-track: no valid next-token candidates survived even after relaxation.\n"
     ]
    },
    {
     "name": "stdout",
     "output_type": "stream",
     "text": [
      "BANNED (prompt_idx=15, type=slop_phrase, phrase='profound')                      \n",
      "BANNED (prompt_idx=36, type=slop_phrase, phrase='profound')                      \n",
      "BANNED (prompt_idx=31, type=slop_phrase, phrase='hesitated')                     \n",
      "BANNED (prompt_idx=34, type=slop_phrase, phrase='flicker')                       \n",
      "BANNED (prompt_idx=11, type=ngram, ngram='something far')                        \n",
      "Batch Generating:  90%|█████████ | 36/40 [07:09<00:08,  2.03s/prompt, 73.0 tok/s]"
     ]
    },
    {
     "name": "stderr",
     "output_type": "stream",
     "text": [
      "2025-05-18 17:22:39,599 [ERROR] [core.sampler        ]: Back-track: no valid next-token candidates survived even after relaxation.\n"
     ]
    },
    {
     "name": "stdout",
     "output_type": "stream",
     "text": [
      "BANNED (prompt_idx=31, type=slop_phrase, phrase='swirling')                      \n",
      "BANNED (prompt_idx=34, type=slop_phrase, phrase='unsettling')                    \n",
      "BANNED (prompt_idx=15, type=regex, regex='\\bnot\\s+(?:just|only|merely)?\\s*(?:[^\\s]+\\s*){1,6}?[,;:—–-]?\\s*but\\s+(?:also\\s+)?', match='not for my bravery, but ')\n",
      "BANNED (prompt_idx=11, type=slop_phrase, phrase='rain continued to fall')        \n",
      "BANNED (prompt_idx=34, type=slop_phrase, phrase='terrifying')                    \n",
      "BANNED (prompt_idx=31, type=slop_phrase, phrase='terrifying')                    \n",
      "BANNED (prompt_idx=15, type=slop_phrase, phrase='shaking')                       \n",
      "BANNED (prompt_idx=34, type=slop_phrase, phrase='unsettling')                    \n",
      "BANNED (prompt_idx=31, type=slop_phrase, phrase='terrifying')                    \n",
      "BANNED (prompt_idx=11, type=slop_phrase, phrase='rain continued to fall')        \n",
      "BANNED (prompt_idx=15, type=slop_phrase, phrase='profound')                      \n",
      "BANNED (prompt_idx=34, type=slop_phrase, phrase='realization')                   \n",
      "BANNED (prompt_idx=15, type=slop_phrase, phrase='disbelief')                     \n",
      "BANNED (prompt_idx=31, type=slop_phrase, phrase='hollow')                        \n",
      "BANNED (prompt_idx=15, type=slop_phrase, phrase='profound')                      \n",
      "BANNED (prompt_idx=31, type=slop_phrase, phrase='smiled')                        \n",
      "BANNED (prompt_idx=15, type=slop_phrase, phrase='muttered')                      \n",
      "BANNED (prompt_idx=31, type=slop_phrase, phrase='nodded')                        \n",
      "BANNED (prompt_idx=15, type=slop_phrase, phrase='whisper')                       \n",
      "BANNED (prompt_idx=31, type=slop_phrase, phrase='smiled')                        \n",
      "BANNED (prompt_idx=15, type=slop_phrase, phrase='shaking')                       \n",
      "BANNED (prompt_idx=31, type=slop_phrase, phrase='paused')                        \n",
      "BANNED (prompt_idx=15, type=slop_phrase, phrase='fading')                        \n",
      "BANNED (prompt_idx=31, type=slop_phrase, phrase='swirling')                      \n",
      "BANNED (prompt_idx=31, type=slop_phrase, phrase='pulse')                         \n",
      "BANNED (prompt_idx=31, type=slop_phrase, phrase='swirling')                      \n",
      "BANNED (prompt_idx=31, type=slop_phrase, phrase='shimmering')                    \n",
      "BANNED (prompt_idx=31, type=slop_phrase, phrase='swirling')                      \n",
      "Batch Generating:  98%|█████████▊| 39/40 [07:20<00:02,  2.28s/prompt, 18.5 tok/s]"
     ]
    },
    {
     "name": "stderr",
     "output_type": "stream",
     "text": [
      "2025-05-18 17:22:50,857 [ERROR] [core.sampler        ]: Back-track: no valid next-token candidates survived even after relaxation.\n"
     ]
    },
    {
     "name": "stdout",
     "output_type": "stream",
     "text": [
      "BANNED (prompt_idx=31, type=slop_phrase, phrase='shimmering')                    \n",
      "Batch Generating:  98%|█████████▊| 39/40 [07:21<00:02,  2.28s/prompt, 15.2 tok/s]"
     ]
    },
    {
     "name": "stderr",
     "output_type": "stream",
     "text": [
      "2025-05-18 17:22:51,784 [ERROR] [core.sampler        ]: Back-track: no valid next-token candidates survived even after relaxation.\n"
     ]
    },
    {
     "name": "stdout",
     "output_type": "stream",
     "text": [
      "BANNED (prompt_idx=31, type=slop_phrase, phrase='shimmering')                    \n",
      "Batch Generating:  98%|█████████▊| 39/40 [07:22<00:02,  2.28s/prompt, 15.9 tok/s]"
     ]
    },
    {
     "name": "stderr",
     "output_type": "stream",
     "text": [
      "2025-05-18 17:22:52,456 [ERROR] [core.sampler        ]: Back-track: no valid next-token candidates survived even after relaxation.\n"
     ]
    },
    {
     "name": "stdout",
     "output_type": "stream",
     "text": [
      "BANNED (prompt_idx=31, type=slop_phrase, phrase='shimmering')                    \n",
      "BANNED (prompt_idx=31, type=ngram, ngram='took step forward')                    \n",
      "Batch Generating:  98%|█████████▊| 39/40 [07:23<00:02,  2.28s/prompt, 3.9 tok/s] "
     ]
    },
    {
     "name": "stderr",
     "output_type": "stream",
     "text": [
      "2025-05-18 17:22:53,896 [ERROR] [core.sampler        ]: Back-track: no valid next-token candidates survived even after relaxation.\n"
     ]
    },
    {
     "name": "stdout",
     "output_type": "stream",
     "text": [
      "BANNED (prompt_idx=31, type=slop_phrase, phrase='shimmering')                   \n",
      "Batch Generating:  98%|█████████▊| 39/40 [07:24<00:02,  2.28s/prompt, 7.2 tok/s]"
     ]
    },
    {
     "name": "stderr",
     "output_type": "stream",
     "text": [
      "2025-05-18 17:22:54,579 [ERROR] [core.sampler        ]: Back-track: no valid next-token candidates survived even after relaxation.\n"
     ]
    },
    {
     "name": "stdout",
     "output_type": "stream",
     "text": [
      "BANNED (prompt_idx=31, type=slop_phrase, phrase='shimmering')                   \n",
      "BANNED (prompt_idx=31, type=slop_phrase, phrase='silas')                         \n",
      "Batch Generating:  98%|█████████▊| 39/40 [07:26<00:02,  2.28s/prompt, 1.3 tok/s] "
     ]
    },
    {
     "name": "stderr",
     "output_type": "stream",
     "text": [
      "2025-05-18 17:22:56,020 [ERROR] [core.sampler        ]: Back-track: no valid next-token candidates survived even after relaxation.\n"
     ]
    },
    {
     "name": "stdout",
     "output_type": "stream",
     "text": [
      "BANNED (prompt_idx=31, type=slop_phrase, phrase='shimmering')                   \n",
      "Batch Generating:  98%|█████████▊| 39/40 [07:26<00:02,  2.28s/prompt, 1.4 tok/s]"
     ]
    },
    {
     "name": "stderr",
     "output_type": "stream",
     "text": [
      "2025-05-18 17:22:56,881 [ERROR] [core.sampler        ]: Back-track: no valid next-token candidates survived even after relaxation.\n"
     ]
    },
    {
     "name": "stdout",
     "output_type": "stream",
     "text": [
      "BANNED (prompt_idx=31, type=slop_phrase, phrase='shimmering')                   \n",
      "BANNED (prompt_idx=31, type=slop_phrase, phrase='silas')                        \n",
      "Batch Generating:  98%|█████████▊| 39/40 [07:28<00:02,  2.28s/prompt, -11.4 tok/s]"
     ]
    },
    {
     "name": "stderr",
     "output_type": "stream",
     "text": [
      "2025-05-18 17:22:58,184 [ERROR] [core.sampler        ]: Back-track: no valid next-token candidates survived even after relaxation.\n"
     ]
    },
    {
     "name": "stdout",
     "output_type": "stream",
     "text": [
      "BANNED (prompt_idx=31, type=slop_phrase, phrase='shimmering')                     \n",
      "Batch Generating:  98%|█████████▊| 39/40 [07:28<00:02,  2.28s/prompt, 5.1 tok/s]  "
     ]
    },
    {
     "name": "stderr",
     "output_type": "stream",
     "text": [
      "2025-05-18 17:22:58,834 [ERROR] [core.sampler        ]: Back-track: no valid next-token candidates survived even after relaxation.\n"
     ]
    },
    {
     "name": "stdout",
     "output_type": "stream",
     "text": [
      "BANNED (prompt_idx=31, type=slop_phrase, phrase='shimmering')                   \n",
      "BANNED (prompt_idx=31, type=slop_phrase, phrase='utterly')                      \n",
      "BANNED (prompt_idx=31, type=slop_phrase, phrase='rain continued to fall')       \n",
      "BANNED (prompt_idx=31, type=slop_phrase, phrase='profound')                      \n",
      "Batch Generating: 100%|██████████| 40/40 [07:32<00:00, 11.32s/prompt, 13.8 tok/s]\n",
      "Finished processing 40 prompts in this run in 452.94s.\n",
      "Overall average throughput for this run: 144.51 tok/s.\n",
      "Results appended to creative_writing_generations.jsonl\n"
     ]
    },
    {
     "data": {
      "text/plain": [
       "CompletedProcess(args=['python3', 'main.py', '--api-key', 'xxx', '--model-name', 'unsloth/gemma-3-4b-it', '--output-jsonl', 'creative_writing_generations.jsonl', '--input-hf-dataset', 'Nitral-AI/Reddit-SFW-Writing_Prompts_ShareGPT', '--hf-dataset-split', 'train', '--threads', '40', '--max-prompts', '40', '--logging-level', 'INFO', '--slop-phrases-file', 'banlists/slop_phrases.json', '--top-n-slop-phrases', '500', '--regex-blocklist-file', 'banlists/regex_not_x_but_y.json', '--max-new-tokens', '2000', '--request-mode', 'chunk', '--chunk-size', '20', '--chat-template-model-id', 'unsloth/gemma-3-4b-it', '--tdpo-pairs-jsonl', 'tdpo-pairs.jsonl'], returncode=0)"
      ]
     },
     "execution_count": 7,
     "metadata": {},
     "output_type": "execute_result"
    }
   ],
   "source": [
    "# Example 2: Generate an unslopped dataset using prompts from a huggingface sharegpt dataset\n",
    "\n",
    "# Make sure you've launched the vllm openai-compatible server first. You can use something like:\n",
    "\n",
    "# vllm serve unsloth/gemma-3-4b-it --port 8000 --max-model-len 2500 --served-model-name unsloth/gemma-3-4b-it --gpu-memory-utilization 0.95 --dtype bfloat16 --api-key xxx\n",
    "\n",
    "\n",
    "THREADS  = 40\n",
    "MAX_PROMPTS = 40\n",
    "\n",
    "OUT_JSONL     = 'creative_writing_generations.jsonl'\n",
    "HUMAN_PROFILE = 'data/human_writing_profile.json'\n",
    "\n",
    "\n",
    "cmd = [\n",
    "    'python3', 'main.py',\n",
    "    #'--api-base-url', 'http://localhost:8000/v1',\n",
    "    '--api-key', 'xxx',\n",
    "    '--model-name', 'unsloth/gemma-3-4b-it',\n",
    "    '--output-jsonl', OUT_JSONL,\n",
    "    '--input-hf-dataset', 'Nitral-AI/Reddit-SFW-Writing_Prompts_ShareGPT',\n",
    "    '--hf-dataset-split', 'train',\n",
    "    '--threads', str(THREADS),\n",
    "    '--max-prompts', str(MAX_PROMPTS),\n",
    "    '--logging-level', 'INFO',\n",
    "    '--slop-phrases-file', 'banlists/slop_phrases.json',\n",
    "    '--top-n-slop-phrases', '500',\n",
    "    '--regex-blocklist-file', 'banlists/regex_not_x_but_y.json',\n",
    "    '--max-new-tokens', '2000',\n",
    "    '--request-mode', 'chunk',  # chunk / stream (stream mode might be buggy)\n",
    "    '--chunk-size', '20', # how many tokens we request from the api before checking it for new violations\n",
    "    '--chat-template-model-id', \"unsloth/gemma-3-4b-it\",\n",
    "    '--tdpo-pairs-jsonl', 'tdpo-pairs.jsonl'\n",
    "]\n",
    "print('Running:', ' '.join(cmd))\n",
    "subprocess.run(cmd, check=True)\n"
   ]
  }
 ],
 "metadata": {
  "kernelspec": {
   "display_name": "Python 3",
   "language": "python",
   "name": "python3"
  },
  "language_info": {
   "codemirror_mode": {
    "name": "ipython",
    "version": 3
   },
   "file_extension": ".py",
   "mimetype": "text/x-python",
   "name": "python",
   "nbconvert_exporter": "python",
   "pygments_lexer": "ipython3",
   "version": "3.10.6"
  }
 },
 "nbformat": 4,
 "nbformat_minor": 5
}
