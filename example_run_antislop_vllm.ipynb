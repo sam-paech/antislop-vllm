{
 "cells": [
  {
   "cell_type": "code",
   "execution_count": 1,
   "id": "dc35e719",
   "metadata": {},
   "outputs": [],
   "source": [
    "# First: load the model with vllm:\n",
    "\n",
    "# vllm serve unsloth/gemma-3-1b-it --port 8008 --max-model-len 2500 --served-model-name unsloth/gemma-3-1b-it --gpu-memory-utilization 0.8 --dtype bfloat16 --api-key xxx"
   ]
  },
  {
   "cell_type": "code",
   "execution_count": 2,
   "id": "e6352a1c",
   "metadata": {},
   "outputs": [],
   "source": [
    "import subprocess\n",
    "from pathlib import Path\n",
    "from collections import Counter"
   ]
  },
  {
   "cell_type": "code",
   "execution_count": 3,
   "id": "ce7dcd16",
   "metadata": {},
   "outputs": [],
   "source": [
    "# Example 1: Direct prompting mode. Returns a single unslopped output.\n",
    "\n",
    "if False:\n",
    "    cmd = [\n",
    "        'python3', 'main.py',\n",
    "        #'--api-base-url', 'http://localhost:8000/v1',\n",
    "        '--api-key', 'xxx',\n",
    "        '--model-name', 'unsloth/gemma-3-4b-it',\n",
    "        '--chat-template-model-id', 'unsloth/gemma-3-4b-it',\n",
    "        '--logging-level', 'INFO',\n",
    "        '--slop-phrases-file', 'banlists/slop_phrases.json',\n",
    "        '--top-n-slop-phrases', '500',\n",
    "        '--regex-blocklist-file', 'banlists/regex_not_x_but_y.json',\n",
    "        '--max-new-tokens', '500',\n",
    "        '--prompt', 'Write a story about a princess. '\n",
    "    ]\n",
    "    print('Running:', ' '.join(cmd))\n",
    "    subprocess.run(cmd, check=True)"
   ]
  },
  {
   "cell_type": "code",
   "execution_count": 5,
   "id": "b06e594b",
   "metadata": {},
   "outputs": [
    {
     "name": "stdout",
     "output_type": "stream",
     "text": [
      "Running: python3 main.py --api-key xxx --model-name unsloth/gemma-3-4b-it --output-jsonl creative_writing_generations.jsonl --input-hf-dataset Nitral-AI/Reddit-SFW-Writing_Prompts_ShareGPT --hf-dataset-split train --threads 40 --max-prompts 40 --logging-level INFO --slop-phrases-file banlists/slop_phrases.json --top-n-slop-phrases 500 --regex-blocklist-file banlists/regex_not_x_but_y.json --max-new-tokens 2000 --request-mode chunk --chunk-size 20 --chat-template-model-id unsloth/gemma-3-4b-it --tdpo-pairs-jsonl tdpo-pairs.jsonl\n",
      "INFO mode: Progress bar and ban events will be printed. Most logs suppressed. Effective script level: INFO\n",
      "Extracting HF prompts:   0%|          | 39/177477 [00:00<00:05, 33664.92prompt/s]\n",
      "Preparing to process 39 new prompts in this run.\n",
      "BANNED (prompt_idx=25, type=slop_phrase, phrase='clung')    \n",
      "BANNED (prompt_idx=13, type=slop_phrase, phrase='scent')    \n",
      "BANNED (prompt_idx=31, type=slop_phrase, phrase='scent')                 \n",
      "BANNED (prompt_idx=34, type=slop_phrase, phrase='shimmered')             \n",
      "BANNED (prompt_idx=27, type=slop_phrase, phrase='crackled')              \n",
      "BANNED (prompt_idx=5, type=slop_phrase, phrase='relentless')             \n",
      "BANNED (prompt_idx=28, type=slop_phrase, phrase='rhythm')                 \n",
      "BANNED (prompt_idx=32, type=ngram, ngram='felt like')                     \n",
      "BANNED (prompt_idx=39, type=slop_phrase, phrase='glow')                   \n",
      "BANNED (prompt_idx=6, type=slop_phrase, phrase='glow')                    \n",
      "BANNED (prompt_idx=3, type=slop_phrase, phrase='corrugated iron roof')    \n",
      "BANNED (prompt_idx=2, type=slop_phrase, phrase='clung')                   \n",
      "BANNED (prompt_idx=17, type=slop_phrase, phrase='sunlight')               \n",
      "BANNED (prompt_idx=19, type=slop_phrase, phrase='shimmered')              \n",
      "BANNED (prompt_idx=33, type=slop_phrase, phrase='froze')                  \n",
      "BANNED (prompt_idx=15, type=slop_phrase, phrase='relentless')             \n",
      "BANNED (prompt_idx=18, type=slop_phrase, phrase='scent')                  \n",
      "BANNED (prompt_idx=29, type=slop_phrase, phrase='metallic')               \n",
      "BANNED (prompt_idx=20, type=slop_phrase, phrase='faint')                  \n",
      "BANNED (prompt_idx=16, type=slop_phrase, phrase='sensation')              \n",
      "BANNED (prompt_idx=8, type=slop_phrase, phrase='relentless')              \n",
      "BANNED (prompt_idx=12, type=slop_phrase, phrase='shifted')                \n",
      "BANNED (prompt_idx=4, type=slop_phrase, phrase='dust motes danced')       \n",
      "BANNED (prompt_idx=36, type=slop_phrase, phrase='shimmering')             \n",
      "BANNED (prompt_idx=10, type=slop_phrase, phrase='void')                   \n",
      "BANNED (prompt_idx=25, type=slop_phrase, phrase='clung')                  \n",
      "BANNED (prompt_idx=5, type=slop_phrase, phrase='relentless')             \n",
      "BANNED (prompt_idx=34, type=slop_phrase, phrase='flicker')               \n",
      "BANNED (prompt_idx=0, type=slop_phrase, phrase='corrugated iron roof')   \n",
      "BANNED (prompt_idx=6, type=slop_phrase, phrase='glow')                   \n",
      "BANNED (prompt_idx=3, type=slop_phrase, phrase='rhythm')                 \n",
      "BANNED (prompt_idx=14, type=slop_phrase, phrase='hint')                  \n",
      "BANNED (prompt_idx=27, type=regex, regex='\\bnot\\s+(?:just|only|merely)?\\s*(?:[^\\s]+\\s*){1,6}?[,;:—–-]?\\s*but\\s+(?:also\\s+)?', match='not with a dramatic press conference, but ')\n",
      "BANNED (prompt_idx=2, type=slop_phrase, phrase='clung')                  \n",
      "BANNED (prompt_idx=7, type=slop_phrase, phrase='dread')                  \n",
      "BANNED (prompt_idx=19, type=slop_phrase, phrase='stark')                 \n",
      "BANNED (prompt_idx=32, type=slop_phrase, phrase='relentless')            \n",
      "BANNED (prompt_idx=33, type=ngram, ngram='hung air')                     \n",
      "BANNED (prompt_idx=28, type=slop_phrase, phrase='rhythm')                \n",
      "BANNED (prompt_idx=15, type=slop_phrase, phrase='echo')                  \n",
      "BANNED (prompt_idx=38, type=slop_phrase, phrase='clutching')             \n",
      "BANNED (prompt_idx=29, type=slop_phrase, phrase='polished')              \n",
      "BANNED (prompt_idx=35, type=slop_phrase, phrase='metallic')              \n",
      "BANNED (prompt_idx=20, type=slop_phrase, phrase='metallic')              \n",
      "BANNED (prompt_idx=11, type=slop_phrase, phrase='despair')               \n",
      "BANNED (prompt_idx=37, type=slop_phrase, phrase='shimmering')            \n",
      "BANNED (prompt_idx=8, type=slop_phrase, phrase='unsettling')             \n",
      "BANNED (prompt_idx=16, type=slop_phrase, phrase='scent')                 \n",
      "BANNED (prompt_idx=22, type=slop_phrase, phrase='static')                \n",
      "BANNED (prompt_idx=4, type=slop_phrase, phrase='relentless')             \n",
      "BANNED (prompt_idx=21, type=slop_phrase, phrase='metallic')              \n",
      "BANNED (prompt_idx=12, type=slop_phrase, phrase='scent')                 \n",
      "BANNED (prompt_idx=36, type=slop_phrase, phrase='scent')                 \n",
      "BANNED (prompt_idx=1, type=slop_phrase, phrase='shimmering')             \n",
      "BANNED (prompt_idx=25, type=slop_phrase, phrase='clung')                 \n",
      "BANNED (prompt_idx=5, type=slop_phrase, phrase='rhythm')                 \n",
      "BANNED (prompt_idx=13, type=slop_phrase, phrase='imagined')              \n",
      "BANNED (prompt_idx=34, type=ngram, ngram='felt like')                    \n",
      "BANNED (prompt_idx=0, type=slop_phrase, phrase='relentless')             \n",
      "BANNED (prompt_idx=3, type=slop_phrase, phrase='clung')                  \n",
      "BANNED (prompt_idx=14, type=slop_phrase, phrase='subtle')                \n",
      "BANNED (prompt_idx=17, type=slop_phrase, phrase='subtle')                \n",
      "BANNED (prompt_idx=28, type=slop_phrase, phrase='relentless')            \n",
      "BANNED (prompt_idx=19, type=slop_phrase, phrase='stark')                 \n",
      "BANNED (prompt_idx=7, type=slop_phrase, phrase='utterly')                \n",
      "BANNED (prompt_idx=39, type=slop_phrase, phrase='sensation')             \n",
      "BANNED (prompt_idx=4, type=slop_phrase, phrase='rhythm')                 \n",
      "BANNED (prompt_idx=35, type=slop_phrase, phrase='metallic')              \n",
      "BANNED (prompt_idx=20, type=slop_phrase, phrase='clung')                 \n",
      "BANNED (prompt_idx=29, type=slop_phrase, phrase='obsidian')              \n",
      "BANNED (prompt_idx=8, type=slop_phrase, phrase='unease')                 \n",
      "BANNED (prompt_idx=12, type=slop_phrase, phrase='pulse')                 \n",
      "BANNED (prompt_idx=21, type=slop_phrase, phrase='clung')                 \n",
      "BANNED (prompt_idx=31, type=slop_phrase, phrase='scent')                 \n",
      "BANNED (prompt_idx=36, type=slop_phrase, phrase='scent')                 \n",
      "BANNED (prompt_idx=1, type=slop_phrase, phrase='crimson')                \n",
      "BANNED (prompt_idx=17, type=slop_phrase, phrase='softly')                \n",
      "BANNED (prompt_idx=0, type=slop_phrase, phrase='rhythm')                 \n",
      "BANNED (prompt_idx=3, type=slop_phrase, phrase='horizon')                \n",
      "BANNED (prompt_idx=5, type=slop_phrase, phrase='relentless')             \n",
      "BANNED (prompt_idx=19, type=slop_phrase, phrase='stark')                 \n",
      "BANNED (prompt_idx=7, type=slop_phrase, phrase='terrifying')             \n",
      "BANNED (prompt_idx=28, type=slop_phrase, phrase='rhythm')                \n",
      "BANNED (prompt_idx=14, type=slop_phrase, phrase='subtle')                \n",
      "BANNED (prompt_idx=22, type=slop_phrase, phrase='frantic')               \n",
      "BANNED (prompt_idx=15, type=slop_phrase, phrase='warmth')                \n",
      "BANNED (prompt_idx=2, type=slop_phrase, phrase='etched')                 \n",
      "BANNED (prompt_idx=39, type=ngram, ngram='felt chill')                   \n",
      "BANNED (prompt_idx=35, type=slop_phrase, phrase='clung')                 \n",
      "BANNED (prompt_idx=23, type=regex, regex='\\bnot\\s+(?:just|only|merely)?\\s*(?:[^\\s]+\\s*){1,6}?[,;:—–-]?\\s*but\\s+(?:also\\s+)?', match='not with screaming demands, but ')\n",
      "BANNED (prompt_idx=25, type=slop_phrase, phrase='horizon')               \n",
      "BANNED (prompt_idx=10, type=slop_phrase, phrase='profound')              \n",
      "BANNED (prompt_idx=30, type=regex, regex='\\bnot\\s+(?:just|only|merely)?\\s*(?:[^\\s]+\\s*){1,6}?[,;:—–-]?\\s*but\\s+(?:also\\s+)?', match='Not just ‘okay’ or ‘fine,’ but ')\n",
      "BANNED (prompt_idx=12, type=slop_phrase, phrase='shimmered')             \n",
      "BANNED (prompt_idx=8, type=slop_phrase, phrase='liam')                   \n",
      "BANNED (prompt_idx=29, type=slop_phrase, phrase='glow')                  \n",
      "BANNED (prompt_idx=24, type=slop_phrase, phrase='silas')                 \n",
      "BANNED (prompt_idx=16, type=slop_phrase, phrase='metallic')              \n",
      "BANNED (prompt_idx=31, type=slop_phrase, phrase='unsettling')            \n",
      "BANNED (prompt_idx=36, type=slop_phrase, phrase='scent')                 \n",
      "BANNED (prompt_idx=13, type=slop_phrase, phrase='unsettling')            \n",
      "BANNED (prompt_idx=34, type=slop_phrase, phrase='sigh')                  \n",
      "BANNED (prompt_idx=6, type=slop_phrase, phrase='unsettling')             \n",
      "BANNED (prompt_idx=0, type=slop_phrase, phrase='leaned')                 \n",
      "BANNED (prompt_idx=3, type=slop_phrase, phrase='silas')                  \n",
      "BANNED (prompt_idx=1, type=slop_phrase, phrase='unsettling')             \n",
      "BANNED (prompt_idx=5, type=slop_phrase, phrase='rhythm')                 \n",
      "BANNED (prompt_idx=28, type=slop_phrase, phrase='rhythm')                \n",
      "BANNED (prompt_idx=15, type=slop_phrase, phrase='sensation')             \n",
      "BANNED (prompt_idx=22, type=slop_phrase, phrase='grin')                  \n",
      "BANNED (prompt_idx=2, type=slop_phrase, phrase='etched')                 \n",
      "BANNED (prompt_idx=35, type=slop_phrase, phrase='clung')                 \n",
      "BANNED (prompt_idx=39, type=slop_phrase, phrase='lyra')                  \n",
      "BANNED (prompt_idx=23, type=slop_phrase, phrase='fabric')                \n",
      "BANNED (prompt_idx=21, type=slop_phrase, phrase='shimmering')            \n",
      "BANNED (prompt_idx=20, type=slop_phrase, phrase='profound')              \n",
      "BANNED (prompt_idx=25, type=slop_phrase, phrase='horizon')               \n",
      "BANNED (prompt_idx=12, type=slop_phrase, phrase='shifted')               \n",
      "BANNED (prompt_idx=37, type=slop_phrase, phrase='polished')              \n",
      "BANNED (prompt_idx=16, type=slop_phrase, phrase='metallic')              \n",
      "BANNED (prompt_idx=34, type=slop_phrase, phrase='countless')             \n",
      "BANNED (prompt_idx=0, type=slop_phrase, phrase='grin')                   \n",
      "BANNED (prompt_idx=18, type=slop_phrase, phrase='elias')                 \n",
      "BANNED (prompt_idx=13, type=ngram, ngram='felt like')                    \n",
      "BANNED (prompt_idx=36, type=slop_phrase, phrase='obsidian')              \n",
      "BANNED (prompt_idx=33, type=slop_phrase, phrase='froze')                 \n",
      "BANNED (prompt_idx=17, type=ngram, ngram='carefully constructed')        \n",
      "BANNED (prompt_idx=6, type=slop_phrase, phrase='chaotic')                \n",
      "BANNED (prompt_idx=1, type=slop_phrase, phrase='meticulously')           \n",
      "BANNED (prompt_idx=3, type=slop_phrase, phrase='elias')                  \n",
      "BANNED (prompt_idx=14, type=regex, regex='\\bnot\\s+(?:just|only|merely)?\\s*(?:[^\\s]+\\s*){1,6}?[,;:—–-]?\\s*but\\s+(?:also\\s+)?', match='not really, but ')\n",
      "BANNED (prompt_idx=26, type=slop_phrase, phrase='faded')                 \n",
      "BANNED (prompt_idx=22, type=slop_phrase, phrase='grin')                  \n",
      "BANNED (prompt_idx=38, type=slop_phrase, phrase='sunlight')              \n",
      "BANNED (prompt_idx=39, type=slop_phrase, phrase='elias')                 \n",
      "BANNED (prompt_idx=2, type=slop_phrase, phrase='pale')                   \n",
      "BANNED (prompt_idx=23, type=slop_phrase, phrase='subtle')                \n",
      "BANNED (prompt_idx=21, type=ngram, ngram='voice like')                   \n",
      "BANNED (prompt_idx=20, type=ngram, ngram='felt like')                    \n",
      "BANNED (prompt_idx=30, type=slop_phrase, phrase='utterly')               \n",
      "BANNED (prompt_idx=12, type=slop_phrase, phrase='pulse')                 \n",
      "BANNED (prompt_idx=10, type=slop_phrase, phrase='shimmering')            \n",
      "BANNED (prompt_idx=37, type=slop_phrase, phrase='surge')                 \n",
      "BANNED (prompt_idx=34, type=slop_phrase, phrase='countless')             \n",
      "BANNED (prompt_idx=16, type=slop_phrase, phrase='metallic')              \n",
      "BANNED (prompt_idx=13, type=slop_phrase, phrase='silas')                 \n",
      "BANNED (prompt_idx=0, type=slop_phrase, phrase='leaned')                 \n",
      "BANNED (prompt_idx=33, type=slop_phrase, phrase='froze')                 \n",
      "BANNED (prompt_idx=5, type=slop_phrase, phrase='unsettling')             \n",
      "Batch Generating:   0%|          | 0/39 [00:05<?, ?prompt/s, 755.1 tok/s]Back-track: no valid next-token candidates survived. ▁Silas\n",
      "BANNED (prompt_idx=3, type=slop_phrase, phrase='silas')                  \n",
      "BANNED (prompt_idx=18, type=slop_phrase, phrase='utterly')               \n",
      "BANNED (prompt_idx=31, type=slop_phrase, phrase='silas')                 \n",
      "BANNED (prompt_idx=36, type=slop_phrase, phrase='like a second skin')    \n",
      "BANNED (prompt_idx=14, type=slop_phrase, phrase='laced')                 \n",
      "Batch Generating:   0%|          | 0/39 [00:05<?, ?prompt/s, 771.3 tok/s]"
     ]
    },
    {
     "name": "stderr",
     "output_type": "stream",
     "text": [
      "2025-05-17 16:42:04,682 [ERROR] [core.sampler        ]: Back-track: no valid next-token candidates survived.\n"
     ]
    },
    {
     "name": "stdout",
     "output_type": "stream",
     "text": [
      "BANNED (prompt_idx=22, type=slop_phrase, phrase='etched')                \n",
      "BANNED (prompt_idx=23, type=slop_phrase, phrase='whisper')               \n",
      "BANNED (prompt_idx=25, type=slop_phrase, phrase='rhythm')                \n",
      "BANNED (prompt_idx=7, type=slop_phrase, phrase='brow')                   \n",
      "BANNED (prompt_idx=35, type=slop_phrase, phrase='desperation')           \n",
      "BANNED (prompt_idx=21, type=slop_phrase, phrase='sigh')                  \n",
      "BANNED (prompt_idx=2, type=slop_phrase, phrase='pulse')                  \n",
      "BANNED (prompt_idx=27, type=ngram, ngram='one one')                      \n",
      "BANNED (prompt_idx=29, type=slop_phrase, phrase='etched')                \n",
      "Batch Generating:   0%|          | 0/39 [00:06<?, ?prompt/s, 735.2 tok/s]"
     ]
    },
    {
     "name": "stderr",
     "output_type": "stream",
     "text": [
      "2025-05-17 16:42:05,062 [ERROR] [core.sampler        ]: Back-track: no valid next-token candidates survived.\n"
     ]
    },
    {
     "name": "stdout",
     "output_type": "stream",
     "text": [
      "Back-track: no valid next-token candidates survived. ▁flick\n",
      "BANNED (prompt_idx=12, type=slop_phrase, phrase='flicker')               \n",
      "BANNED (prompt_idx=16, type=ngram, ngram='something akin')               \n",
      "BANNED (prompt_idx=37, type=slop_phrase, phrase='shimmering')            \n",
      "BANNED (prompt_idx=10, type=slop_phrase, phrase='subtle')                \n",
      "BANNED (prompt_idx=6, type=slop_phrase, phrase='flicker')                \n",
      "BANNED (prompt_idx=0, type=slop_phrase, phrase='silas')                  \n",
      "BANNED (prompt_idx=5, type=slop_phrase, phrase='grin')                   \n",
      "BANNED (prompt_idx=18, type=slop_phrase, phrase='profound')              \n",
      "BANNED (prompt_idx=14, type=slop_phrase, phrase='utterly')               \n",
      "BANNED (prompt_idx=33, type=slop_phrase, phrase='froze')                 \n",
      "BANNED (prompt_idx=31, type=slop_phrase, phrase='thorne')                \n",
      "BANNED (prompt_idx=36, type=slop_phrase, phrase='shimmering')            \n",
      "BANNED (prompt_idx=13, type=slop_phrase, phrase='meticulously')          \n",
      "BANNED (prompt_idx=38, type=slop_phrase, phrase='terrifying')            \n",
      "BANNED (prompt_idx=15, type=slop_phrase, phrase='silas')                 \n",
      "BANNED (prompt_idx=19, type=slop_phrase, phrase='stared')                \n",
      "Batch Generating:   0%|          | 0/39 [00:06<?, ?prompt/s, 749.0 tok/s]Back-track: no valid next-token candidates survived. ▁Silas\n",
      "BANNED (prompt_idx=3, type=slop_phrase, phrase='silas')                  \n",
      "BANNED (prompt_idx=23, type=slop_phrase, phrase='tapestry')              \n",
      "BANNED (prompt_idx=22, type=slop_phrase, phrase='profound')              \n",
      "BANNED (prompt_idx=4, type=slop_phrase, phrase='obsidian')               \n",
      "BANNED (prompt_idx=28, type=slop_phrase, phrase='flicker')               \n",
      "BANNED (prompt_idx=35, type=slop_phrase, phrase='silas')                 \n",
      "BANNED (prompt_idx=7, type=slop_phrase, phrase='brow')                   \n",
      "BANNED (prompt_idx=21, type=slop_phrase, phrase='shifting')              \n",
      "Batch Generating:   0%|          | 0/39 [00:06<?, ?prompt/s, 752.8 tok/s]"
     ]
    },
    {
     "name": "stderr",
     "output_type": "stream",
     "text": [
      "2025-05-17 16:42:05,407 [ERROR] [core.sampler        ]: Back-track: no valid next-token candidates survived.\n"
     ]
    },
    {
     "name": "stdout",
     "output_type": "stream",
     "text": [
      "BANNED (prompt_idx=1, type=slop_phrase, phrase='unsettling')             \n",
      "BANNED (prompt_idx=20, type=ngram, ngram='felt like')                    \n",
      "BANNED (prompt_idx=34, type=slop_phrase, phrase='meticulously')          \n",
      "Batch Generating:   0%|          | 0/39 [00:06<?, ?prompt/s, 769.0 tok/s]"
     ]
    },
    {
     "name": "stderr",
     "output_type": "stream",
     "text": [
      "2025-05-17 16:42:05,718 [ERROR] [core.sampler        ]: Back-track: no valid next-token candidates survived.\n"
     ]
    },
    {
     "name": "stdout",
     "output_type": "stream",
     "text": [
      "Back-track: no valid next-token candidates survived. ▁flick\n",
      "BANNED (prompt_idx=12, type=slop_phrase, phrase='flicker')               \n",
      "BANNED (prompt_idx=10, type=slop_phrase, phrase='shifting')              \n",
      "BANNED (prompt_idx=0, type=slop_phrase, phrase='silas')                  \n",
      "BANNED (prompt_idx=18, type=slop_phrase, phrase='scent')                 \n",
      "BANNED (prompt_idx=31, type=slop_phrase, phrase='crackled')              \n",
      "BANNED (prompt_idx=33, type=slop_phrase, phrase='froze')                 \n",
      "BANNED (prompt_idx=36, type=slop_phrase, phrase='trembling')             \n",
      "BANNED (prompt_idx=22, type=slop_phrase, phrase='profound')              \n",
      "BANNED (prompt_idx=19, type=slop_phrase, phrase='stark')                 \n",
      "BANNED (prompt_idx=26, type=slop_phrase, phrase='unwavering')            \n",
      "BANNED (prompt_idx=16, type=slop_phrase, phrase='static')                \n",
      "BANNED (prompt_idx=3, type=slop_phrase, phrase='meticulously')           \n",
      "BANNED (prompt_idx=28, type=slop_phrase, phrase='pale')                  \n",
      "BANNED (prompt_idx=1, type=ngram, ngram='carefully constructed')         \n",
      "BANNED (prompt_idx=21, type=ngram, ngram='voice like')                   \n",
      "BANNED (prompt_idx=37, type=slop_phrase, phrase='silas')                 \n",
      "Batch Generating:   0%|          | 0/39 [00:07<?, ?prompt/s, 689.9 tok/s]Back-track: no valid next-token candidates survived. ▁flick\n",
      "BANNED (prompt_idx=12, type=slop_phrase, phrase='flicker')               \n",
      "BANNED (prompt_idx=2, type=slop_phrase, phrase='chaotic')                \n",
      "Batch Generating:   0%|          | 0/39 [00:07<?, ?prompt/s, 686.4 tok/s]"
     ]
    },
    {
     "name": "stderr",
     "output_type": "stream",
     "text": [
      "2025-05-17 16:42:06,332 [ERROR] [core.sampler        ]: Back-track: no valid next-token candidates survived.\n"
     ]
    },
    {
     "name": "stdout",
     "output_type": "stream",
     "text": [
      "BANNED (prompt_idx=8, type=slop_phrase, phrase='sent a shiver down my spine')\n",
      "BANNED (prompt_idx=24, type=slop_phrase, phrase='pressing')              \n",
      "BANNED (prompt_idx=6, type=slop_phrase, phrase='faint')                  \n",
      "BANNED (prompt_idx=0, type=slop_phrase, phrase='silas')                  \n",
      "BANNED (prompt_idx=31, type=slop_phrase, phrase='crackled')              \n",
      "BANNED (prompt_idx=32, type=regex, regex='\\bnot\\s+(?:just|only|merely)?\\s*(?:[^\\s]+\\s*){1,6}?[,;:—–-]?\\s*but\\s+(?:also\\s+)?', match='Not in a menacing way, but ')\n",
      "BANNED (prompt_idx=25, type=slop_phrase, phrase='subtle')                \n",
      "BANNED (prompt_idx=14, type=ngram, ngram='almost imperceptible')         \n",
      "BANNED (prompt_idx=18, type=slop_phrase, phrase='shimmering')            \n",
      "BANNED (prompt_idx=4, type=slop_phrase, phrase='testament')              \n",
      "BANNED (prompt_idx=36, type=slop_phrase, phrase='unsettling')            \n",
      "BANNED (prompt_idx=22, type=slop_phrase, phrase='utterly')               \n",
      "BANNED (prompt_idx=15, type=slop_phrase, phrase='laced')                 \n",
      "BANNED (prompt_idx=13, type=slop_phrase, phrase='unsettling')            \n",
      "BANNED (prompt_idx=38, type=slop_phrase, phrase='terrifying')            \n",
      "BANNED (prompt_idx=16, type=slop_phrase, phrase='sunlight')              \n",
      "Batch Generating:   0%|          | 0/39 [00:07<?, ?prompt/s, 679.3 tok/s]Back-track: no valid next-token candidates survived. ▁Silas\n",
      "BANNED (prompt_idx=3, type=slop_phrase, phrase='silas')                  \n",
      "BANNED (prompt_idx=28, type=slop_phrase, phrase='glow')                  \n",
      "BANNED (prompt_idx=35, type=slop_phrase, phrase='thorne')                \n",
      "BANNED (prompt_idx=30, type=slop_phrase, phrase='elias')                 \n",
      "BANNED (prompt_idx=1, type=slop_phrase, phrase='meticulously')           \n",
      "Batch Generating:   0%|          | 0/39 [00:07<?, ?prompt/s, 693.9 tok/s]"
     ]
    },
    {
     "name": "stderr",
     "output_type": "stream",
     "text": [
      "2025-05-17 16:42:06,690 [ERROR] [core.sampler        ]: Back-track: no valid next-token candidates survived.\n"
     ]
    },
    {
     "name": "stdout",
     "output_type": "stream",
     "text": [
      "BANNED (prompt_idx=34, type=slop_phrase, phrase='vibrant')               \n",
      "BANNED (prompt_idx=17, type=slop_phrase, phrase='scent')                 \n",
      "BANNED (prompt_idx=20, type=slop_phrase, phrase='warmth')                \n",
      "BANNED (prompt_idx=39, type=slop_phrase, phrase='meticulously')          \n",
      "BANNED (prompt_idx=12, type=ngram, ngram='long time')                    \n",
      "BANNED (prompt_idx=24, type=slop_phrase, phrase='beacon')                \n",
      "BANNED (prompt_idx=2, type=slop_phrase, phrase='testament')              \n",
      "BANNED (prompt_idx=31, type=slop_phrase, phrase='echo')                  \n",
      "BANNED (prompt_idx=5, type=slop_phrase, phrase='unsettling')             \n",
      "BANNED (prompt_idx=25, type=slop_phrase, phrase='rhythm')                \n",
      "BANNED (prompt_idx=23, type=slop_phrase, phrase='crimson')               \n",
      "BANNED (prompt_idx=4, type=slop_phrase, phrase='profound')               \n",
      "BANNED (prompt_idx=14, type=slop_phrase, phrase='utterly')               \n",
      "BANNED (prompt_idx=33, type=slop_phrase, phrase='clara')                 \n",
      "BANNED (prompt_idx=36, type=slop_phrase, phrase='shimmering')            \n",
      "BANNED (prompt_idx=38, type=slop_phrase, phrase='overwhelming')          \n",
      "BANNED (prompt_idx=28, type=slop_phrase, phrase='holographic')           \n",
      "BANNED (prompt_idx=7, type=slop_phrase, phrase='shifted')                \n",
      "Batch Generating:   0%|          | 0/39 [00:08<?, ?prompt/s, 684.7 tok/s]Back-track: no valid next-token candidates survived. ▁Silas\n",
      "BANNED (prompt_idx=3, type=slop_phrase, phrase='silas')                  \n",
      "BANNED (prompt_idx=17, type=slop_phrase, phrase='faded')                 \n",
      "BANNED (prompt_idx=30, type=slop_phrase, phrase='silas')                 \n",
      "BANNED (prompt_idx=19, type=ngram, ngram='felt like')                    \n",
      "Batch Generating:   0%|          | 0/39 [00:08<?, ?prompt/s, 695.6 tok/s]"
     ]
    },
    {
     "name": "stderr",
     "output_type": "stream",
     "text": [
      "2025-05-17 16:42:07,310 [ERROR] [core.sampler        ]: Back-track: no valid next-token candidates survived.\n"
     ]
    },
    {
     "name": "stdout",
     "output_type": "stream",
     "text": [
      "BANNED (prompt_idx=2, type=ngram, ngram='carefully constructed')         \n",
      "BANNED (prompt_idx=24, type=ngram, ngram='looked like')                  \n",
      "Batch Generating:   0%|          | 0/39 [00:08<?, ?prompt/s, 683.6 tok/s]Back-track: no valid next-token candidates survived. ▁flick\n",
      "BANNED (prompt_idx=12, type=slop_phrase, phrase='flicker')               \n",
      "BANNED (prompt_idx=27, type=slop_phrase, phrase='overwhelming')          \n",
      "BANNED (prompt_idx=11, type=slop_phrase, phrase='meticulously')          \n",
      "BANNED (prompt_idx=39, type=slop_phrase, phrase='meticulously')          \n",
      "BANNED (prompt_idx=0, type=slop_phrase, phrase='crimson')                \n",
      "BANNED (prompt_idx=6, type=ngram, ngram='young man')                     \n",
      "BANNED (prompt_idx=25, type=slop_phrase, phrase='rhythm')                \n",
      "Batch Generating:   0%|          | 0/39 [00:08<?, ?prompt/s, 691.6 tok/s]"
     ]
    },
    {
     "name": "stderr",
     "output_type": "stream",
     "text": [
      "2025-05-17 16:42:07,574 [ERROR] [core.sampler        ]: Back-track: no valid next-token candidates survived.\n"
     ]
    },
    {
     "name": "stdout",
     "output_type": "stream",
     "text": [
      "BANNED (prompt_idx=18, type=slop_phrase, phrase='shimmering')            \n",
      "BANNED (prompt_idx=5, type=slop_phrase, phrase='silas')                  \n",
      "BANNED (prompt_idx=31, type=slop_phrase, phrase='sent a shiver down my spine')\n",
      "BANNED (prompt_idx=4, type=slop_phrase, phrase='meticulously')           \n",
      "BANNED (prompt_idx=23, type=slop_phrase, phrase='whisper')               \n",
      "BANNED (prompt_idx=32, type=slop_phrase, phrase='shimmering')            \n",
      "BANNED (prompt_idx=14, type=slop_phrase, phrase='utterly')               \n",
      "BANNED (prompt_idx=36, type=slop_phrase, phrase='faint')                 \n",
      "BANNED (prompt_idx=13, type=slop_phrase, phrase='pale')                  \n",
      "BANNED (prompt_idx=38, type=slop_phrase, phrase='terrifying')            \n",
      "BANNED (prompt_idx=28, type=slop_phrase, phrase='glow')                  \n",
      "BANNED (prompt_idx=3, type=slop_phrase, phrase='flicker')                \n",
      "Batch Generating:   0%|          | 0/39 [00:09<?, ?prompt/s, 665.3 tok/s]Back-track: no valid next-token candidates survived. ▁Elias\n",
      "BANNED (prompt_idx=30, type=slop_phrase, phrase='elias')                 \n",
      "BANNED (prompt_idx=7, type=slop_phrase, phrase='whisper')                \n",
      "BANNED (prompt_idx=35, type=slop_phrase, phrase='rhythm')                \n",
      "BANNED (prompt_idx=19, type=slop_phrase, phrase='chilling')              \n",
      "BANNED (prompt_idx=16, type=ngram, ngram='felt like')                    \n",
      "Batch Generating:   0%|          | 0/39 [00:09<?, ?prompt/s, 682.3 tok/s]"
     ]
    },
    {
     "name": "stderr",
     "output_type": "stream",
     "text": [
      "2025-05-17 16:42:07,994 [ERROR] [core.sampler        ]: Back-track: no valid next-token candidates survived.\n"
     ]
    },
    {
     "name": "stdout",
     "output_type": "stream",
     "text": [
      "BANNED (prompt_idx=27, type=slop_phrase, phrase='despair')               \n",
      "BANNED (prompt_idx=21, type=slop_phrase, phrase='armor')                 \n",
      "BANNED (prompt_idx=11, type=slop_phrase, phrase='meticulously')          \n",
      "BANNED (prompt_idx=31, type=slop_phrase, phrase='kael')                  \n",
      "BANNED (prompt_idx=24, type=slop_phrase, phrase='clung')                 \n",
      "BANNED (prompt_idx=0, type=slop_phrase, phrase='meticulously')           \n",
      "BANNED (prompt_idx=4, type=slop_phrase, phrase='faded')                  \n",
      "BANNED (prompt_idx=32, type=slop_phrase, phrase='swirling')              \n",
      "BANNED (prompt_idx=29, type=regex, regex='\\bnot\\s+(?:just|only|merely)?\\s*(?:[^\\s]+\\s*){1,6}?[,;:—–-]?\\s*but\\s+(?:also\\s+)?', match='Not top-tier, but ')\n",
      "BANNED (prompt_idx=38, type=slop_phrase, phrase='terrifying')            \n",
      "BANNED (prompt_idx=22, type=slop_phrase, phrase='froze')                 \n",
      "BANNED (prompt_idx=19, type=slop_phrase, phrase='glanced')               \n",
      "Batch Generating:   0%|          | 0/39 [00:09<?, ?prompt/s, 677.4 tok/s]Back-track: no valid next-token candidates survived. ▁Silas\n",
      "BANNED (prompt_idx=3, type=slop_phrase, phrase='silas')                  \n",
      "BANNED (prompt_idx=13, type=slop_phrase, phrase='pale')                  \n",
      "BANNED (prompt_idx=20, type=slop_phrase, phrase='shiver')                \n",
      "BANNED (prompt_idx=37, type=slop_phrase, phrase='shattered')             \n",
      "BANNED (prompt_idx=28, type=slop_phrase, phrase='holographic')           \n",
      "BANNED (prompt_idx=35, type=slop_phrase, phrase='relentless')            \n",
      "BANNED (prompt_idx=17, type=slop_phrase, phrase='subtle')                \n",
      "Batch Generating:   0%|          | 0/39 [00:09<?, ?prompt/s, 685.3 tok/s]Back-track: no valid next-token candidates survived. ▁Elias\n",
      "BANNED (prompt_idx=30, type=slop_phrase, phrase='elias')                 \n",
      "Batch Generating:   0%|          | 0/39 [00:09<?, ?prompt/s, 690.0 tok/s]"
     ]
    },
    {
     "name": "stderr",
     "output_type": "stream",
     "text": [
      "2025-05-17 16:42:08,559 [ERROR] [core.sampler        ]: Back-track: no valid next-token candidates survived.\n",
      "2025-05-17 16:42:08,715 [ERROR] [core.sampler        ]: Back-track: no valid next-token candidates survived.\n"
     ]
    },
    {
     "name": "stdout",
     "output_type": "stream",
     "text": [
      "BANNED (prompt_idx=16, type=slop_phrase, phrase='swirling')              \n",
      "BANNED (prompt_idx=6, type=ngram, ngram='young man')                     \n",
      "BANNED (prompt_idx=2, type=slop_phrase, phrase='shadows')                \n",
      "BANNED (prompt_idx=25, type=slop_phrase, phrase='whisper')               \n",
      "BANNED (prompt_idx=0, type=slop_phrase, phrase='crimson')                \n",
      "BANNED (prompt_idx=32, type=slop_phrase, phrase='shimmered')             \n",
      "BANNED (prompt_idx=39, type=slop_phrase, phrase='delicate')              \n",
      "BANNED (prompt_idx=4, type=slop_phrase, phrase='countless')              \n",
      "BANNED (prompt_idx=36, type=slop_phrase, phrase='polished')              \n",
      "BANNED (prompt_idx=38, type=slop_phrase, phrase='surge')                 \n",
      "BANNED (prompt_idx=17, type=slop_phrase, phrase='trembling')             \n",
      "BANNED (prompt_idx=22, type=slop_phrase, phrase='froze')                 \n",
      "BANNED (prompt_idx=35, type=slop_phrase, phrase='silas')                 \n",
      "BANNED (prompt_idx=13, type=slop_phrase, phrase='subtle')                \n",
      "BANNED (prompt_idx=20, type=slop_phrase, phrase='shiver')                \n",
      "Batch Generating:   0%|          | 0/39 [00:10<?, ?prompt/s, 704.8 tok/s]Back-track: no valid next-token candidates survived. ▁Silas\n",
      "BANNED (prompt_idx=3, type=slop_phrase, phrase='silas')                  \n",
      "BANNED (prompt_idx=8, type=slop_phrase, phrase='faded')                  \n",
      "Batch Generating:   0%|          | 0/39 [00:10<?, ?prompt/s, 719.6 tok/s]Back-track: no valid next-token candidates survived. ▁Elias\n",
      "BANNED (prompt_idx=30, type=slop_phrase, phrase='elias')                 \n",
      "Batch Generating:   0%|          | 0/39 [00:10<?, ?prompt/s, 718.8 tok/s]"
     ]
    },
    {
     "name": "stderr",
     "output_type": "stream",
     "text": [
      "2025-05-17 16:42:09,267 [ERROR] [core.sampler        ]: Back-track: no valid next-token candidates survived.\n",
      "2025-05-17 16:42:09,336 [ERROR] [core.sampler        ]: Back-track: no valid next-token candidates survived.\n"
     ]
    },
    {
     "name": "stdout",
     "output_type": "stream",
     "text": [
      "BANNED (prompt_idx=28, type=slop_phrase, phrase='etched')                \n",
      "BANNED (prompt_idx=16, type=slop_phrase, phrase='scent')                 \n",
      "BANNED (prompt_idx=6, type=slop_phrase, phrase='young man named')        \n",
      "BANNED (prompt_idx=24, type=ngram, ngram='looked like')                  \n",
      "BANNED (prompt_idx=31, type=slop_phrase, phrase='unsettling')            \n",
      "BANNED (prompt_idx=25, type=ngram, ngram='mixture fear')                 \n",
      "BANNED (prompt_idx=32, type=slop_phrase, phrase='danced')                \n",
      "BANNED (prompt_idx=33, type=slop_phrase, phrase='said, his voice a low') \n",
      "BANNED (prompt_idx=4, type=slop_phrase, phrase='froze')                  \n",
      "BANNED (prompt_idx=5, type=slop_phrase, phrase='void')                   \n",
      "BANNED (prompt_idx=12, type=slop_phrase, phrase='countless')             \n",
      "BANNED (prompt_idx=36, type=slop_phrase, phrase='obsidian')              \n",
      "BANNED (prompt_idx=38, type=slop_phrase, phrase='fabric')                \n",
      "BANNED (prompt_idx=19, type=slop_phrase, phrase='scanning')              \n",
      "BANNED (prompt_idx=14, type=slop_phrase, phrase='whisper')               \n",
      "BANNED (prompt_idx=22, type=slop_phrase, phrase='froze')                 \n",
      "BANNED (prompt_idx=35, type=slop_phrase, phrase='lyra')                  \n",
      "BANNED (prompt_idx=13, type=slop_phrase, phrase='faint')                 \n",
      "BANNED (prompt_idx=20, type=slop_phrase, phrase='scent')                 \n",
      "BANNED (prompt_idx=3, type=slop_phrase, phrase='flicker')                \n",
      "BANNED (prompt_idx=16, type=slop_phrase, phrase='utterly')               \n",
      "BANNED (prompt_idx=6, type=slop_phrase, phrase='utterly')                \n",
      "BANNED (prompt_idx=24, type=slop_phrase, phrase='revealing')             \n",
      "BANNED (prompt_idx=10, type=slop_phrase, phrase='swallowed')             \n",
      "BANNED (prompt_idx=31, type=slop_phrase, phrase='amidst')                \n",
      "BANNED (prompt_idx=5, type=slop_phrase, phrase='void')                   \n",
      "BANNED (prompt_idx=36, type=slop_phrase, phrase='obsidian')              \n",
      "BANNED (prompt_idx=32, type=slop_phrase, phrase='swirling')              \n",
      "BANNED (prompt_idx=35, type=slop_phrase, phrase='elara')                 \n",
      "BANNED (prompt_idx=20, type=ngram, ngram='mixture fear')                 \n",
      "BANNED (prompt_idx=23, type=slop_phrase, phrase='despair')               \n",
      "BANNED (prompt_idx=28, type=slop_phrase, phrase='laced')                 \n",
      "BANNED (prompt_idx=33, type=slop_phrase, phrase='towering')              \n",
      "BANNED (prompt_idx=22, type=slop_phrase, phrase='vibrant')               \n",
      "BANNED (prompt_idx=12, type=slop_phrase, phrase='profound')              \n",
      "Batch Generating:   0%|          | 0/39 [00:11<?, ?prompt/s, 727.3 tok/s]Back-track: no valid next-token candidates survived. ▁Silas\n",
      "BANNED (prompt_idx=3, type=slop_phrase, phrase='silas')                  \n",
      "BANNED (prompt_idx=8, type=ngram, ngram='first time')                    \n",
      "BANNED (prompt_idx=26, type=ngram, ngram='years ago')                    \n",
      "BANNED (prompt_idx=7, type=slop_phrase, phrase='mortal')                 \n",
      "BANNED (prompt_idx=17, type=slop_phrase, phrase='shifting')              \n",
      "BANNED (prompt_idx=16, type=ngram, ngram='unlike anything ever')         \n",
      "Batch Generating:   0%|          | 0/39 [00:11<?, ?prompt/s, 769.4 tok/s]"
     ]
    },
    {
     "name": "stderr",
     "output_type": "stream",
     "text": [
      "2025-05-17 16:42:10,809 [ERROR] [core.sampler        ]: Back-track: no valid next-token candidates survived.\n"
     ]
    },
    {
     "name": "stdout",
     "output_type": "stream",
     "text": [
      "BANNED (prompt_idx=24, type=slop_phrase, phrase='rhythm')                \n",
      "BANNED (prompt_idx=10, type=regex, regex='\\bnot\\s+(?:just|only|merely)?\\s*(?:[^\\s]+\\s*){1,6}?[,;:—–-]?\\s*but\\s+(?:also\\s+)?', match='not of torment, but ')\n",
      "BANNED (prompt_idx=32, type=slop_phrase, phrase='shimmering')            \n",
      "BANNED (prompt_idx=30, type=ngram, ngram='felt like')                    \n",
      "BANNED (prompt_idx=34, type=slop_phrase, phrase='scent')                 \n",
      "BANNED (prompt_idx=36, type=slop_phrase, phrase='polished')              \n",
      "BANNED (prompt_idx=19, type=slop_phrase, phrase='liam')                  \n",
      "BANNED (prompt_idx=27, type=slop_phrase, phrase='curiosity')             \n",
      "BANNED (prompt_idx=23, type=slop_phrase, phrase='dread')                 \n",
      "BANNED (prompt_idx=4, type=slop_phrase, phrase='echo')                   \n",
      "BANNED (prompt_idx=35, type=slop_phrase, phrase='elias')                 \n",
      "BANNED (prompt_idx=33, type=slop_phrase, phrase='profound')              \n",
      "BANNED (prompt_idx=8, type=slop_phrase, phrase='shiver')                 \n",
      "BANNED (prompt_idx=14, type=slop_phrase, phrase='unseen')                \n",
      "BANNED (prompt_idx=13, type=slop_phrase, phrase='clung')                 \n",
      "BANNED (prompt_idx=28, type=slop_phrase, phrase='echo')                  \n",
      "Batch Generating:   0%|          | 0/39 [00:12<?, ?prompt/s, 735.3 tok/s]Back-track: no valid next-token candidates survived. ▁Silas\n",
      "BANNED (prompt_idx=3, type=slop_phrase, phrase='silas')                  \n",
      "BANNED (prompt_idx=2, type=slop_phrase, phrase='desperation')            \n",
      "Batch Generating:   0%|          | 0/39 [00:12<?, ?prompt/s, 741.7 tok/s]"
     ]
    },
    {
     "name": "stderr",
     "output_type": "stream",
     "text": [
      "2025-05-17 16:42:11,554 [ERROR] [core.sampler        ]: Back-track: no valid next-token candidates survived.\n"
     ]
    },
    {
     "name": "stdout",
     "output_type": "stream",
     "text": [
      "BANNED (prompt_idx=11, type=slop_phrase, phrase='realization')           \n",
      "BANNED (prompt_idx=38, type=slop_phrase, phrase='terrifying')            \n",
      "BANNED (prompt_idx=10, type=regex, regex='\\bnot\\s+(?:just|only|merely)?\\s*(?:[^\\s]+\\s*){1,6}?[,;:—–-]?\\s*but\\s+(?:also\\s+)?', match='not for punishment, but ')\n",
      "BANNED (prompt_idx=24, type=slop_phrase, phrase='flicker')               \n",
      "BANNED (prompt_idx=25, type=slop_phrase, phrase='unsettling')            \n",
      "BANNED (prompt_idx=31, type=slop_phrase, phrase='pale')                  \n",
      "BANNED (prompt_idx=21, type=slop_phrase, phrase='stared')                \n",
      "BANNED (prompt_idx=32, type=slop_phrase, phrase='swirling')              \n",
      "BANNED (prompt_idx=19, type=slop_phrase, phrase='etched')                \n",
      "BANNED (prompt_idx=23, type=slop_phrase, phrase='desperation')           \n",
      "BANNED (prompt_idx=34, type=slop_phrase, phrase='shifted')               \n",
      "BANNED (prompt_idx=18, type=slop_phrase, phrase='meticulously')          \n",
      "Batch Generating:   0%|          | 0/39 [00:13<?, ?prompt/s, 726.5 tok/s]Back-track: no valid next-token candidates survived. ▁Silas\n",
      "BANNED (prompt_idx=35, type=slop_phrase, phrase='silas')                 \n",
      "BANNED (prompt_idx=16, type=slop_phrase, phrase='shimmering')            \n",
      "BANNED (prompt_idx=8, type=slop_phrase, phrase='shiver')                 \n",
      "BANNED (prompt_idx=1, type=slop_phrase, phrase='unsettling')             \n",
      "BANNED (prompt_idx=33, type=slop_phrase, phrase='imagined')              \n",
      "BANNED (prompt_idx=11, type=slop_phrase, phrase='realization')           \n",
      "Batch Generating:   0%|          | 0/39 [00:13<?, ?prompt/s, 743.8 tok/s]"
     ]
    },
    {
     "name": "stderr",
     "output_type": "stream",
     "text": [
      "2025-05-17 16:42:12,108 [ERROR] [core.sampler        ]: Back-track: no valid next-token candidates survived.\n"
     ]
    },
    {
     "name": "stdout",
     "output_type": "stream",
     "text": [
      "BANNED (prompt_idx=0, type=slop_phrase, phrase='scent')                  \n",
      "BANNED (prompt_idx=24, type=slop_phrase, phrase='scent')                 \n",
      "BANNED (prompt_idx=38, type=slop_phrase, phrase='echo')                  \n",
      "BANNED (prompt_idx=31, type=slop_phrase, phrase='faint')                 \n",
      "BANNED (prompt_idx=3, type=slop_phrase, phrase='dread')                  \n",
      "BANNED (prompt_idx=13, type=slop_phrase, phrase='warmth')                \n",
      "BANNED (prompt_idx=25, type=slop_phrase, phrase='chilling')              \n",
      "BANNED (prompt_idx=21, type=slop_phrase, phrase='clutching')             \n",
      "BANNED (prompt_idx=36, type=slop_phrase, phrase='utterly')               \n",
      "Batch Generating:   0%|          | 0/39 [00:13<?, ?prompt/s, 740.1 tok/s]Back-track: no valid next-token candidates survived. ▁shimmering\n",
      "BANNED (prompt_idx=32, type=slop_phrase, phrase='shimmering')            \n",
      "BANNED (prompt_idx=23, type=slop_phrase, phrase='mortal')                \n",
      "BANNED (prompt_idx=18, type=slop_phrase, phrase='subtle')                \n",
      "BANNED (prompt_idx=19, type=slop_phrase, phrase='etched')                \n",
      "Batch Generating:   0%|          | 0/39 [00:13<?, ?prompt/s, 714.2 tok/s]"
     ]
    },
    {
     "name": "stderr",
     "output_type": "stream",
     "text": [
      "2025-05-17 16:42:12,515 [ERROR] [core.sampler        ]: Back-track: no valid next-token candidates survived.\n"
     ]
    },
    {
     "name": "stdout",
     "output_type": "stream",
     "text": [
      "BANNED (prompt_idx=8, type=slop_phrase, phrase='spine')                  \n",
      "Batch Generating:   0%|          | 0/39 [00:13<?, ?prompt/s, 709.2 tok/s]Back-track: no valid next-token candidates survived. ▁Silas\n",
      "BANNED (prompt_idx=35, type=slop_phrase, phrase='silas')                 \n",
      "BANNED (prompt_idx=16, type=slop_phrase, phrase='scent')                 \n",
      "BANNED (prompt_idx=34, type=slop_phrase, phrase='pulse')                 \n",
      "BANNED (prompt_idx=22, type=regex, regex='\\bnot\\s+(?:just|only|merely)?\\s*(?:[^\\s]+\\s*){1,6}?[,;:—–-]?\\s*but\\s+(?:also\\s+)?', match='Not barked, not whined, but ')\n",
      "BANNED (prompt_idx=26, type=slop_phrase, phrase='clung')                 \n",
      "BANNED (prompt_idx=15, type=slop_phrase, phrase='laced')                 \n",
      "BANNED (prompt_idx=0, type=slop_phrase, phrase='demon')                  \n",
      "BANNED (prompt_idx=14, type=slop_phrase, phrase='elara')                 \n",
      "Batch Generating:   0%|          | 0/39 [00:13<?, ?prompt/s, 715.6 tok/s]"
     ]
    },
    {
     "name": "stderr",
     "output_type": "stream",
     "text": [
      "2025-05-17 16:42:12,745 [ERROR] [core.sampler        ]: Back-track: no valid next-token candidates survived.\n"
     ]
    },
    {
     "name": "stdout",
     "output_type": "stream",
     "text": [
      "BANNED (prompt_idx=11, type=slop_phrase, phrase='realization')           \n",
      "BANNED (prompt_idx=37, type=slop_phrase, phrase='chilling')              \n",
      "BANNED (prompt_idx=31, type=slop_phrase, phrase='rhythm')                \n",
      "BANNED (prompt_idx=2, type=slop_phrase, phrase='silas')                  \n",
      "BANNED (prompt_idx=3, type=slop_phrase, phrase='rhythm')                 \n",
      "BANNED (prompt_idx=24, type=slop_phrase, phrase='glow')                  \n",
      "BANNED (prompt_idx=10, type=slop_phrase, phrase='pulse')                 \n",
      "BANNED (prompt_idx=38, type=slop_phrase, phrase='newfound')              \n",
      "BANNED (prompt_idx=4, type=slop_phrase, phrase='scent')                  \n",
      "BANNED (prompt_idx=23, type=slop_phrase, phrase='subtle')                \n",
      "Batch Generating:   0%|          | 0/39 [00:14<?, ?prompt/s, 696.6 tok/s]Back-track: no valid next-token candidates survived. ▁shimmering\n",
      "BANNED (prompt_idx=32, type=slop_phrase, phrase='shimmering')            \n",
      "BANNED (prompt_idx=8, type=slop_phrase, phrase='grin')                   \n",
      "BANNED (prompt_idx=34, type=slop_phrase, phrase='shimmering')            \n",
      "Batch Generating:   0%|          | 0/39 [00:14<?, ?prompt/s, 708.3 tok/s]"
     ]
    },
    {
     "name": "stderr",
     "output_type": "stream",
     "text": [
      "2025-05-17 16:42:13,227 [ERROR] [core.sampler        ]: Back-track: no valid next-token candidates survived.\n"
     ]
    },
    {
     "name": "stdout",
     "output_type": "stream",
     "text": [
      "BANNED (prompt_idx=16, type=slop_phrase, phrase='scent')                 \n",
      "BANNED (prompt_idx=14, type=slop_phrase, phrase='clara')                 \n",
      "BANNED (prompt_idx=15, type=slop_phrase, phrase='towering')              \n",
      "BANNED (prompt_idx=0, type=slop_phrase, phrase='demon')                  \n",
      "BANNED (prompt_idx=33, type=slop_phrase, phrase='glow')                  \n",
      "Batch Generating:   0%|          | 0/39 [00:14<?, ?prompt/s, 708.0 tok/s]Back-track: no valid next-token candidates survived. ▁Silas\n",
      "BANNED (prompt_idx=35, type=slop_phrase, phrase='silas')                 \n",
      "BANNED (prompt_idx=29, type=slop_phrase, phrase='void')                  \n",
      "Batch Generating:   0%|          | 0/39 [00:14<?, ?prompt/s, 705.5 tok/s]"
     ]
    },
    {
     "name": "stderr",
     "output_type": "stream",
     "text": [
      "2025-05-17 16:42:13,496 [ERROR] [core.sampler        ]: Back-track: no valid next-token candidates survived.\n"
     ]
    },
    {
     "name": "stdout",
     "output_type": "stream",
     "text": [
      "BANNED (prompt_idx=21, type=slop_phrase, phrase='palpable')              \n",
      "BANNED (prompt_idx=3, type=slop_phrase, phrase='rhythm')                 \n",
      "BANNED (prompt_idx=36, type=slop_phrase, phrase='shimmering')            \n",
      "BANNED (prompt_idx=2, type=slop_phrase, phrase='elias')                  \n",
      "BANNED (prompt_idx=31, type=slop_phrase, phrase='rhythm')                \n",
      "BANNED (prompt_idx=17, type=slop_phrase, phrase='intricate')             \n",
      "BANNED (prompt_idx=30, type=slop_phrase, phrase='sigh')                  \n",
      "BANNED (prompt_idx=10, type=slop_phrase, phrase='shifted')               \n",
      "BANNED (prompt_idx=18, type=slop_phrase, phrase='terrifying')            \n",
      "BANNED (prompt_idx=32, type=slop_phrase, phrase='scent')                 \n",
      "BANNED (prompt_idx=22, type=regex, regex='\\bnot\\s+(?:just|only|merely)?\\s*(?:[^\\s]+\\s*){1,6}?[,;:—–-]?\\s*but\\s+(?:also\\s+)?', match='not supposed to do this, but ')\n",
      "BANNED (prompt_idx=5, type=slop_phrase, phrase='unsettling')             \n",
      "BANNED (prompt_idx=16, type=slop_phrase, phrase='shimmered')             \n",
      "BANNED (prompt_idx=1, type=slop_phrase, phrase='clung')                  \n",
      "BANNED (prompt_idx=3, type=slop_phrase, phrase='chilling')               \n",
      "BANNED (prompt_idx=36, type=slop_phrase, phrase='meticulously')          \n",
      "BANNED (prompt_idx=15, type=slop_phrase, phrase='piercing')              \n",
      "BANNED (prompt_idx=21, type=slop_phrase, phrase='hollow')                \n",
      "BANNED (prompt_idx=27, type=slop_phrase, phrase='laced')                 \n",
      "BANNED (prompt_idx=2, type=slop_phrase, phrase='silas')                  \n",
      "BANNED (prompt_idx=35, type=slop_phrase, phrase='subtle')                \n",
      "BANNED (prompt_idx=39, type=slop_phrase, phrase='countless')             \n",
      "BANNED (prompt_idx=29, type=slop_phrase, phrase='void')                  \n",
      "BANNED (prompt_idx=31, type=slop_phrase, phrase='unsettling')            \n",
      "BANNED (prompt_idx=37, type=slop_phrase, phrase='utterly')               \n",
      "BANNED (prompt_idx=25, type=slop_phrase, phrase='faded')                 \n",
      "BANNED (prompt_idx=24, type=slop_phrase, phrase='pressing')              \n",
      "Back-track: no valid next-token candidates survived.BANNED (prompt_idx=23, type=slop_phrase, phrase='subtle') \n",
      "Batch Generating:   0%|          | 0/39 [00:16<?, ?prompt/s, 656.1 tok/s]▁shimmering\n",
      "                                                                         "
     ]
    },
    {
     "name": "stderr",
     "output_type": "stream",
     "text": [
      "2025-05-17 16:42:15,030 [ERROR] [core.sampler        ]: Back-track: no valid next-token candidates survived.\n"
     ]
    },
    {
     "name": "stdout",
     "output_type": "stream",
     "text": [
      "BANNED (prompt_idx=32, type=slop_phrase, phrase='shimmering')\n",
      "BANNED (prompt_idx=10, type=slop_phrase, phrase='swirling')              \n",
      "BANNED (prompt_idx=38, type=slop_phrase, phrase='fabric')                \n",
      "BANNED (prompt_idx=22, type=slop_phrase, phrase='laced')                 \n",
      "BANNED (prompt_idx=17, type=slop_phrase, phrase='intricate')             \n",
      "BANNED (prompt_idx=5, type=slop_phrase, phrase='eerie')                  \n",
      "BANNED (prompt_idx=8, type=slop_phrase, phrase='clara')                  \n",
      "BANNED (prompt_idx=14, type=slop_phrase, phrase='subtle')                \n",
      "BANNED (prompt_idx=16, type=slop_phrase, phrase='spark')                 \n",
      "BANNED (prompt_idx=1, type=slop_phrase, phrase='shimmered')              \n",
      "BANNED (prompt_idx=36, type=slop_phrase, phrase='meticulously')          \n",
      "BANNED (prompt_idx=3, type=slop_phrase, phrase='chilling')               \n",
      "BANNED (prompt_idx=13, type=slop_phrase, phrase='void')                  \n",
      "BANNED (prompt_idx=21, type=slop_phrase, phrase='chilling')              \n",
      "BANNED (prompt_idx=33, type=slop_phrase, phrase='whisper')               \n",
      "Batch Generating:   0%|          | 0/39 [00:16<?, ?prompt/s, 651.6 tok/s]Back-track: no valid next-token candidates survived. ▁Silas\n",
      "BANNED (prompt_idx=35, type=slop_phrase, phrase='silas')                 \n",
      "Batch Generating:   0%|          | 0/39 [00:16<?, ?prompt/s, 670.6 tok/s]"
     ]
    },
    {
     "name": "stderr",
     "output_type": "stream",
     "text": [
      "2025-05-17 16:42:15,420 [ERROR] [core.sampler        ]: Back-track: no valid next-token candidates survived.\n"
     ]
    },
    {
     "name": "stdout",
     "output_type": "stream",
     "text": [
      "BANNED (prompt_idx=34, type=slop_phrase, phrase='vanished')              \n",
      "BANNED (prompt_idx=27, type=slop_phrase, phrase='chilling')              \n",
      "BANNED (prompt_idx=25, type=slop_phrase, phrase='whisper')               \n",
      "BANNED (prompt_idx=29, type=slop_phrase, phrase='beacon')                \n",
      "BANNED (prompt_idx=24, type=slop_phrase, phrase='unsettling')            \n",
      "BANNED (prompt_idx=31, type=slop_phrase, phrase='faint')                 \n",
      "BANNED (prompt_idx=23, type=slop_phrase, phrase='laced')                 \n",
      "BANNED (prompt_idx=7, type=slop_phrase, phrase='relentless')             \n",
      "BANNED (prompt_idx=38, type=slop_phrase, phrase='tapestry')              \n",
      "Batch Generating:   0%|          | 0/39 [00:16<?, ?prompt/s, 633.7 tok/s]Back-track: no valid next-token candidates survived. ▁shimmering\n",
      "BANNED (prompt_idx=32, type=slop_phrase, phrase='shimmering')            \n",
      "BANNED (prompt_idx=19, type=slop_phrase, phrase='heart hammered against my ribs')\n",
      "BANNED (prompt_idx=12, type=slop_phrase, phrase='subtle')                \n",
      "BANNED (prompt_idx=22, type=slop_phrase, phrase='blinked')               \n",
      "BANNED (prompt_idx=17, type=slop_phrase, phrase='subtle')                \n",
      "Batch Generating:   0%|          | 0/39 [00:16<?, ?prompt/s, 655.6 tok/s]"
     ]
    },
    {
     "name": "stderr",
     "output_type": "stream",
     "text": [
      "2025-05-17 16:42:15,764 [ERROR] [core.sampler        ]: Back-track: no valid next-token candidates survived.\n"
     ]
    },
    {
     "name": "stdout",
     "output_type": "stream",
     "text": [
      "BANNED (prompt_idx=16, type=slop_phrase, phrase='shimmered')             \n",
      "BANNED (prompt_idx=14, type=slop_phrase, phrase='subtle')                \n",
      "BANNED (prompt_idx=1, type=slop_phrase, phrase='clung')                  \n",
      "BANNED (prompt_idx=3, type=slop_phrase, phrase='countless')              \n",
      "BANNED (prompt_idx=28, type=slop_phrase, phrase='echo')                  \n",
      "BANNED (prompt_idx=21, type=slop_phrase, phrase='unsettling')            \n",
      "BANNED (prompt_idx=33, type=ngram, ngram='said voice')                   \n",
      "BANNED (prompt_idx=11, type=slop_phrase, phrase='terrifying')            \n",
      "BANNED (prompt_idx=2, type=slop_phrase, phrase='whisper')                \n",
      "BANNED (prompt_idx=37, type=slop_phrase, phrase='testament')             \n",
      "BANNED (prompt_idx=23, type=slop_phrase, phrase='laced')                 \n",
      "BANNED (prompt_idx=27, type=slop_phrase, phrase='terrifying')            \n",
      "BANNED (prompt_idx=29, type=slop_phrase, phrase='void')                  \n",
      "BANNED (prompt_idx=32, type=regex, regex='\\bnot\\s+(?:just|only|merely)?\\s*(?:[^\\s]+\\s*){1,6}?[,;:—–-]?\\s*but\\s+(?:also\\s+)?', match='Not in some abstract, spiritual sense, but ')\n",
      "BANNED (prompt_idx=10, type=regex, regex='\\bnot\\s+(?:just|only|merely)?\\s*(?:[^\\s]+\\s*){1,6}?[,;:—–-]?\\s*but\\s+(?:also\\s+)?', match='Not with a grand, theatrical flourish, but ')\n",
      "BANNED (prompt_idx=0, type=slop_phrase, phrase='echo')                   \n",
      "BANNED (prompt_idx=12, type=slop_phrase, phrase='softly')                \n",
      "BANNED (prompt_idx=25, type=slop_phrase, phrase='whisper')               \n",
      "BANNED (prompt_idx=19, type=slop_phrase, phrase='unsettling')            \n",
      "BANNED (prompt_idx=38, type=slop_phrase, phrase='fabric')                \n",
      "BANNED (prompt_idx=31, type=slop_phrase, phrase='scent')                 \n",
      "BANNED (prompt_idx=6, type=slop_phrase, phrase='froze')                  \n",
      "BANNED (prompt_idx=22, type=slop_phrase, phrase='utterly')               \n",
      "BANNED (prompt_idx=3, type=slop_phrase, phrase='swallowed')              \n",
      "BANNED (prompt_idx=5, type=slop_phrase, phrase='nodded')                 \n",
      "BANNED (prompt_idx=13, type=slop_phrase, phrase='echo')                  \n",
      "BANNED (prompt_idx=16, type=slop_phrase, phrase='scent')                 \n",
      "BANNED (prompt_idx=36, type=slop_phrase, phrase='scent')                 \n",
      "BANNED (prompt_idx=28, type=slop_phrase, phrase='echo')                  \n",
      "BANNED (prompt_idx=4, type=slop_phrase, phrase='shifted')                \n",
      "BANNED (prompt_idx=21, type=slop_phrase, phrase='scent')                 \n",
      "BANNED (prompt_idx=33, type=slop_phrase, phrase='murmured')              \n",
      "BANNED (prompt_idx=35, type=slop_phrase, phrase='silas')                 \n",
      "Batch Generating:   0%|          | 0/39 [00:18<?, ?prompt/s, 536.8 tok/s]"
     ]
    },
    {
     "name": "stderr",
     "output_type": "stream",
     "text": [
      "2025-05-17 16:42:17,279 [ERROR] [core.sampler        ]: Back-track: no valid next-token candidates survived.\n"
     ]
    },
    {
     "name": "stdout",
     "output_type": "stream",
     "text": [
      "Back-track: no valid next-token candidates survived. ▁shimmering\n",
      "BANNED (prompt_idx=32, type=slop_phrase, phrase='shimmering')            \n",
      "BANNED (prompt_idx=37, type=slop_phrase, phrase='gleaming')              \n",
      "BANNED (prompt_idx=34, type=slop_phrase, phrase='vanished')              \n",
      "BANNED (prompt_idx=8, type=slop_phrase, phrase='faded')                  \n",
      "BANNED (prompt_idx=29, type=slop_phrase, phrase='void')                  \n",
      "BANNED (prompt_idx=25, type=slop_phrase, phrase='whisper')               \n",
      "BANNED (prompt_idx=7, type=slop_phrase, phrase='frantic')                \n",
      "BANNED (prompt_idx=0, type=ngram, ngram='old man')                       \n",
      "BANNED (prompt_idx=3, type=ngram, ngram='felt different')                \n",
      "BANNED (prompt_idx=27, type=slop_phrase, phrase='unsettling')            \n",
      "BANNED (prompt_idx=12, type=slop_phrase, phrase='delicate')              \n",
      "BANNED (prompt_idx=17, type=slop_phrase, phrase='shifting')              \n",
      "BANNED (prompt_idx=15, type=slop_phrase, phrase='paused')                \n",
      "BANNED (prompt_idx=5, type=slop_phrase, phrase='brow')                   \n",
      "BANNED (prompt_idx=13, type=slop_phrase, phrase='utterly')               \n",
      "BANNED (prompt_idx=21, type=slop_phrase, phrase='whisper')               \n",
      "BANNED (prompt_idx=35, type=slop_phrase, phrase='silas')                 \n",
      "BANNED (prompt_idx=33, type=slop_phrase, phrase='hint')                  \n",
      "BANNED (prompt_idx=32, type=slop_phrase, phrase='swirling')              \n",
      "BANNED (prompt_idx=1, type=slop_phrase, phrase='curiosity')              \n",
      "BANNED (prompt_idx=37, type=slop_phrase, phrase='vibrant')               \n",
      "BANNED (prompt_idx=22, type=slop_phrase, phrase='unsettling')            \n",
      "BANNED (prompt_idx=24, type=slop_phrase, phrase='muttered')              \n",
      "BANNED (prompt_idx=23, type=slop_phrase, phrase='mortal')                \n",
      "BANNED (prompt_idx=3, type=ngram, ngram='felt like')                     \n",
      "BANNED (prompt_idx=0, type=ngram, ngram='old man')                       \n",
      "BANNED (prompt_idx=20, type=slop_phrase, phrase='rhythm')                \n",
      "BANNED (prompt_idx=19, type=slop_phrase, phrase='frantic')               \n",
      "BANNED (prompt_idx=34, type=slop_phrase, phrase='vanished')              \n",
      "BANNED (prompt_idx=16, type=ngram, ngram='looked like')                  \n",
      "BANNED (prompt_idx=38, type=slop_phrase, phrase='trembling')             \n",
      "BANNED (prompt_idx=7, type=slop_phrase, phrase='rhythm')                 \n",
      "BANNED (prompt_idx=10, type=slop_phrase, phrase='elias')                 \n",
      "Batch Generating:   0%|          | 0/39 [00:20<?, ?prompt/s, 441.9 tok/s]Back-track: no valid next-token candidates survived. ▁shimmering\n",
      "BANNED (prompt_idx=32, type=slop_phrase, phrase='shimmering')            \n",
      "BANNED (prompt_idx=5, type=slop_phrase, phrase='brow')                   \n",
      "Batch Generating:   0%|          | 0/39 [00:20<?, ?prompt/s, 450.8 tok/s]"
     ]
    },
    {
     "name": "stderr",
     "output_type": "stream",
     "text": [
      "2025-05-17 16:42:19,137 [ERROR] [core.sampler        ]: Back-track: no valid next-token candidates survived.\n"
     ]
    },
    {
     "name": "stdout",
     "output_type": "stream",
     "text": [
      "BANNED (prompt_idx=31, type=ngram, ngram='replied voice')                \n",
      "BANNED (prompt_idx=36, type=slop_phrase, phrase='relentless')            \n",
      "BANNED (prompt_idx=12, type=slop_phrase, phrase='softly')                \n",
      "BANNED (prompt_idx=27, type=slop_phrase, phrase='newfound')              \n",
      "BANNED (prompt_idx=13, type=slop_phrase, phrase='stared')                \n",
      "BANNED (prompt_idx=6, type=ngram, ngram='young woman')                   \n",
      "BANNED (prompt_idx=17, type=slop_phrase, phrase='subtle')                \n",
      "BANNED (prompt_idx=15, type=slop_phrase, phrase='brow')                  \n",
      "BANNED (prompt_idx=22, type=slop_phrase, phrase='stammered')             \n",
      "BANNED (prompt_idx=35, type=slop_phrase, phrase='silas')                 \n",
      "BANNED (prompt_idx=1, type=slop_phrase, phrase='thorne')                 \n",
      "BANNED (prompt_idx=26, type=slop_phrase, phrase='frantic')               \n",
      "BANNED (prompt_idx=8, type=slop_phrase, phrase='gently')                 \n",
      "BANNED (prompt_idx=14, type=ngram, ngram='growing sense')                \n",
      "BANNED (prompt_idx=0, type=slop_phrase, phrase='silas')                  \n",
      "BANNED (prompt_idx=39, type=slop_phrase, phrase='unsettling')            \n",
      "BANNED (prompt_idx=19, type=slop_phrase, phrase='frantic')               \n",
      "BANNED (prompt_idx=11, type=slop_phrase, phrase='realization')           \n",
      "BANNED (prompt_idx=18, type=slop_phrase, phrase='sigh')                  \n",
      "BANNED (prompt_idx=34, type=slop_phrase, phrase='vanished')              \n",
      "Batch Generating:   0%|          | 0/39 [00:21<?, ?prompt/s, 441.2 tok/s]Back-track: no valid next-token candidates survived. ▁shimmering\n",
      "BANNED (prompt_idx=32, type=slop_phrase, phrase='shimmering')            \n",
      "BANNED (prompt_idx=7, type=regex, regex='\\bnot\\s+(?:just|only|merely)?\\s*(?:[^\\s]+\\s*){1,6}?[,;:—–-]?\\s*but\\s+(?:also\\s+)?', match='not just with the damp, but ')\n",
      "Batch Generating:   0%|          | 0/39 [00:21<?, ?prompt/s, 425.4 tok/s]"
     ]
    },
    {
     "name": "stderr",
     "output_type": "stream",
     "text": [
      "2025-05-17 16:42:20,089 [ERROR] [core.sampler        ]: Back-track: no valid next-token candidates survived.\n"
     ]
    },
    {
     "name": "stdout",
     "output_type": "stream",
     "text": [
      "BANNED (prompt_idx=5, type=slop_phrase, phrase='brow')                   \n",
      "BANNED (prompt_idx=10, type=slop_phrase, phrase='silas')                 \n",
      "BANNED (prompt_idx=21, type=ngram, ngram='young man')                    \n",
      "BANNED (prompt_idx=28, type=slop_phrase, phrase='flicker')               \n",
      "BANNED (prompt_idx=31, type=ngram, ngram='replied voice')                \n",
      "BANNED (prompt_idx=12, type=slop_phrase, phrase='metallic')              \n",
      "BANNED (prompt_idx=22, type=slop_phrase, phrase='disbelief')             \n",
      "BANNED (prompt_idx=13, type=slop_phrase, phrase='shattered')             \n",
      "BANNED (prompt_idx=35, type=slop_phrase, phrase='silas')                 \n",
      "BANNED (prompt_idx=33, type=slop_phrase, phrase='froze')                 \n",
      "BANNED (prompt_idx=27, type=slop_phrase, phrase='paused')                \n",
      "BANNED (prompt_idx=24, type=slop_phrase, phrase='dust motes danced')     \n",
      "BANNED (prompt_idx=17, type=slop_phrase, phrase='intricate')             \n",
      "BANNED (prompt_idx=15, type=slop_phrase, phrase='brow')                  \n",
      "BANNED (prompt_idx=14, type=slop_phrase, phrase='stumbled')              \n",
      "BANNED (prompt_idx=23, type=slop_phrase, phrase='subtle')                \n",
      "BANNED (prompt_idx=26, type=slop_phrase, phrase='meticulously')          \n",
      "BANNED (prompt_idx=0, type=slop_phrase, phrase='nodded')                 \n",
      "BANNED (prompt_idx=16, type=slop_phrase, phrase='scent')                 \n",
      "BANNED (prompt_idx=32, type=slop_phrase, phrase='ethereal')              \n",
      "BANNED (prompt_idx=39, type=ngram, ngram='said voice')                   \n",
      "Batch Generating:   0%|          | 0/39 [00:22<?, ?prompt/s, 369.6 tok/s]Back-track: no valid next-token candidates survived. ▁Elias\n",
      "BANNED (prompt_idx=10, type=slop_phrase, phrase='elias')                 \n",
      "BANNED (prompt_idx=7, type=slop_phrase, phrase='utterly')                \n",
      "BANNED (prompt_idx=29, type=slop_phrase, phrase='frantic')               \n",
      "BANNED (prompt_idx=5, type=slop_phrase, phrase='brow')                   \n",
      "BANNED (prompt_idx=28, type=slop_phrase, phrase='flicker')               \n",
      "BANNED (prompt_idx=34, type=slop_phrase, phrase='vanished')              \n",
      "Batch Generating:   0%|          | 0/39 [00:22<?, ?prompt/s, 378.1 tok/s]"
     ]
    },
    {
     "name": "stderr",
     "output_type": "stream",
     "text": [
      "2025-05-17 16:42:21,317 [ERROR] [core.sampler        ]: Back-track: no valid next-token candidates survived.\n"
     ]
    },
    {
     "name": "stdout",
     "output_type": "stream",
     "text": [
      "BANNED (prompt_idx=31, type=ngram, ngram='said voice')                   \n",
      "BANNED (prompt_idx=22, type=slop_phrase, phrase='disbelief')             \n",
      "BANNED (prompt_idx=12, type=slop_phrase, phrase='subtle')                \n",
      "BANNED (prompt_idx=3, type=slop_phrase, phrase='rhythm')                 \n",
      "BANNED (prompt_idx=25, type=slop_phrase, phrase='curiosity')             \n",
      "BANNED (prompt_idx=2, type=slop_phrase, phrase='frantic')                \n",
      "BANNED (prompt_idx=24, type=slop_phrase, phrase='metallic')              \n",
      "BANNED (prompt_idx=4, type=slop_phrase, phrase='intricate')              \n",
      "BANNED (prompt_idx=33, type=slop_phrase, phrase='froze')                 \n",
      "BANNED (prompt_idx=6, type=slop_phrase, phrase='nodded')                 \n",
      "BANNED (prompt_idx=23, type=slop_phrase, phrase='silas')                 \n",
      "BANNED (prompt_idx=14, type=slop_phrase, phrase='stumbled')              \n",
      "                                                                          ▁delicate: no valid next-token candidates survived.\n",
      "BANNED (prompt_idx=27, type=slop_phrase, phrase='elias')\n",
      "BANNED (prompt_idx=17, type=slop_phrase, phrase='delicate')              \n",
      "Batch Generating:   0%|          | 0/39 [00:23<?, ?prompt/s, 387.4 tok/s]Back-track: no valid next-token candidates survived. ▁shimmering\n",
      "BANNED (prompt_idx=32, type=slop_phrase, phrase='shimmering')            \n",
      "BANNED (prompt_idx=0, type=slop_phrase, phrase='brow')                   \n",
      "BANNED (prompt_idx=19, type=slop_phrase, phrase='shouted')               \n",
      "Batch Generating:   0%|          | 0/39 [00:23<?, ?prompt/s, 396.2 tok/s]Back-track: no valid next-token candidates survived. ▁eyebrow\n",
      "BANNED (prompt_idx=15, type=slop_phrase, phrase='brow')                  \n",
      "Batch Generating:   0%|          | 0/39 [00:23<?, ?prompt/s, 391.3 tok/s]"
     ]
    },
    {
     "name": "stderr",
     "output_type": "stream",
     "text": [
      "2025-05-17 16:42:22,234 [ERROR] [core.sampler        ]: Back-track: no valid next-token candidates survived.\n",
      "2025-05-17 16:42:22,260 [ERROR] [core.sampler        ]: Back-track: no valid next-token candidates survived.\n",
      "2025-05-17 16:42:22,364 [ERROR] [core.sampler        ]: Back-track: no valid next-token candidates survived.\n"
     ]
    },
    {
     "name": "stdout",
     "output_type": "stream",
     "text": [
      "BANNED (prompt_idx=16, type=ngram, ngram='looked like')                  \n",
      "BANNED (prompt_idx=5, type=slop_phrase, phrase='brow')                   \n",
      "BANNED (prompt_idx=3, type=slop_phrase, phrase='rhythm')                 \n",
      "BANNED (prompt_idx=22, type=slop_phrase, phrase='disbelief')             \n",
      "BANNED (prompt_idx=7, type=slop_phrase, phrase='unsettling')             \n",
      "BANNED (prompt_idx=39, type=slop_phrase, phrase='void')                  \n",
      "BANNED (prompt_idx=36, type=slop_phrase, phrase='despair')               \n",
      "BANNED (prompt_idx=21, type=slop_phrase, phrase='terrifying')            \n",
      "BANNED (prompt_idx=28, type=slop_phrase, phrase='subtle')                \n",
      "BANNED (prompt_idx=11, type=ngram, ngram='felt like')                    \n",
      "Batch Generating:   0%|          | 0/39 [00:23<?, ?prompt/s, 365.4 tok/s]Back-track: no valid next-token candidates survived. ▁Elias\n",
      "BANNED (prompt_idx=10, type=slop_phrase, phrase='elias')                 \n",
      "Batch Generating:   0%|          | 0/39 [00:23<?, ?prompt/s, 372.4 tok/s]"
     ]
    },
    {
     "name": "stderr",
     "output_type": "stream",
     "text": [
      "2025-05-17 16:42:22,813 [ERROR] [core.sampler        ]: Back-track: no valid next-token candidates survived.\n"
     ]
    },
    {
     "name": "stdout",
     "output_type": "stream",
     "text": [
      "BANNED (prompt_idx=12, type=slop_phrase, phrase='stark')                 \n",
      "BANNED (prompt_idx=31, type=ngram, ngram='unlike anything')              \n",
      "BANNED (prompt_idx=35, type=slop_phrase, phrase='unsettling')            \n",
      "BANNED (prompt_idx=34, type=slop_phrase, phrase='vanished')              \n",
      "BANNED (prompt_idx=24, type=slop_phrase, phrase='scent')                 \n",
      "BANNED (prompt_idx=20, type=slop_phrase, phrase='fabric')                \n",
      "BANNED (prompt_idx=8, type=slop_phrase, phrase='meticulously')           \n",
      "BANNED (prompt_idx=37, type=regex, regex='\\bnot\\s+(?:just|only|merely)?\\s*(?:[^\\s]+\\s*){1,6}?[,;:—–-]?\\s*but\\s+(?:also\\s+)?', match='not as harbingers of doom, but ')\n",
      "BANNED (prompt_idx=18, type=slop_phrase, phrase='shimmering')            \n",
      "BANNED (prompt_idx=4, type=slop_phrase, phrase='delicate')               \n",
      "Batch Generating:   0%|          | 0/39 [00:24<?, ?prompt/s, 370.5 tok/s]Back-track: no valid next-token candidates survived. ▁shimmering\n",
      "BANNED (prompt_idx=32, type=slop_phrase, phrase='shimmering')            \n",
      "Batch Generating:   0%|          | 0/39 [00:24<?, ?prompt/s, 373.0 tok/s]"
     ]
    },
    {
     "name": "stderr",
     "output_type": "stream",
     "text": [
      "2025-05-17 16:42:23,284 [ERROR] [core.sampler        ]: Back-track: no valid next-token candidates survived.\n"
     ]
    },
    {
     "name": "stdout",
     "output_type": "stream",
     "text": [
      "BANNED (prompt_idx=33, type=slop_phrase, phrase='froze')                 \n",
      "BANNED (prompt_idx=23, type=slop_phrase, phrase='elias')                 \n",
      "BANNED (prompt_idx=14, type=slop_phrase, phrase='raced')                 \n",
      "BANNED (prompt_idx=6, type=slop_phrase, phrase='profound')               \n",
      "BANNED (prompt_idx=19, type=ngram, ngram='said voice')                   \n",
      "BANNED (prompt_idx=16, type=slop_phrase, phrase='scent')                 \n",
      "BANNED (prompt_idx=5, type=slop_phrase, phrase='brow')                   \n",
      "BANNED (prompt_idx=3, type=slop_phrase, phrase='scent')                  \n",
      "Batch Generating:   0%|          | 0/39 [00:24<?, ?prompt/s, 364.4 tok/s]Back-track: no valid next-token candidates survived. ▁eyebrow\n",
      "BANNED (prompt_idx=15, type=slop_phrase, phrase='brow')                  \n",
      "BANNED (prompt_idx=1, type=slop_phrase, phrase='meticulously')           \n",
      "BANNED (prompt_idx=22, type=slop_phrase, phrase='gaze')                  \n",
      "Batch Generating:   0%|          | 0/39 [00:24<?, ?prompt/s, 361.4 tok/s]Back-track: no valid next-token candidates survived. ▁delicate\n",
      "                                                                         \r"
     ]
    },
    {
     "name": "stderr",
     "output_type": "stream",
     "text": [
      "2025-05-17 16:42:23,686 [ERROR] [core.sampler        ]: Back-track: no valid next-token candidates survived.\n",
      "2025-05-17 16:42:23,745 [ERROR] [core.sampler        ]: Back-track: no valid next-token candidates survived.\n"
     ]
    },
    {
     "name": "stdout",
     "output_type": "stream",
     "text": [
      "BANNED (prompt_idx=17, type=slop_phrase, phrase='delicate')\n",
      "BANNED (prompt_idx=27, type=slop_phrase, phrase='silas')                 \n",
      "BANNED (prompt_idx=21, type=slop_phrase, phrase='terrifying')            \n",
      "Batch Generating:   0%|          | 0/39 [00:25<?, ?prompt/s, 357.2 tok/s]Back-track: no valid next-token candidates survived. ▁Elias\n",
      "BANNED (prompt_idx=10, type=slop_phrase, phrase='elias')                 \n",
      "Batch Generating:   0%|          | 0/39 [00:25<?, ?prompt/s, 363.3 tok/s]"
     ]
    },
    {
     "name": "stderr",
     "output_type": "stream",
     "text": [
      "2025-05-17 16:42:24,121 [ERROR] [core.sampler        ]: Back-track: no valid next-token candidates survived.\n"
     ]
    },
    {
     "name": "stdout",
     "output_type": "stream",
     "text": [
      "BANNED (prompt_idx=25, type=slop_phrase, phrase='rhythm')                \n",
      "BANNED (prompt_idx=31, type=slop_phrase, phrase='chaotic')               \n",
      "BANNED (prompt_idx=29, type=slop_phrase, phrase='overwhelming')          \n",
      "BANNED (prompt_idx=11, type=slop_phrase, phrase='laced')                 \n",
      "BANNED (prompt_idx=20, type=slop_phrase, phrase='fabric')                \n",
      "BANNED (prompt_idx=2, type=ngram, ngram='long time')                     \n",
      "BANNED (prompt_idx=24, type=slop_phrase, phrase='scent')                 \n",
      "Batch Generating:   0%|          | 0/39 [00:25<?, ?prompt/s, 350.6 tok/s]Back-track: no valid next-token candidates survived. ▁shimmering\n",
      "BANNED (prompt_idx=32, type=slop_phrase, phrase='shimmering')            \n",
      "BANNED (prompt_idx=14, type=regex, regex='\\bnot\\s+(?:just|only|merely)?\\s*(?:[^\\s]+\\s*){1,6}?[,;:—–-]?\\s*but\\s+(?:also\\s+)?', match='not dramatically, just a clumsy stumble, but ')\n",
      "BANNED (prompt_idx=37, type=ngram, ngram='casting long')                 \n",
      "Batch Generating:   0%|          | 0/39 [00:25<?, ?prompt/s, 345.8 tok/s]"
     ]
    },
    {
     "name": "stderr",
     "output_type": "stream",
     "text": [
      "2025-05-17 16:42:24,557 [ERROR] [core.sampler        ]: Back-track: no valid next-token candidates survived.\n",
      "2025-05-17 16:42:24,718 [ERROR] [core.sampler        ]: Back-track: no valid next-token candidates survived.\n"
     ]
    },
    {
     "name": "stdout",
     "output_type": "stream",
     "text": [
      "BANNED (prompt_idx=4, type=slop_phrase, phrase='swirling')               \n",
      "BANNED (prompt_idx=33, type=slop_phrase, phrase='froze')                 \n",
      "Batch Generating:   0%|          | 0/39 [00:25<?, ?prompt/s, 344.4 tok/s]Back-track: no valid next-token candidates survived. ▁Silas\n",
      "BANNED (prompt_idx=23, type=slop_phrase, phrase='silas')                 \n",
      "BANNED (prompt_idx=19, type=ngram, ngram='called voice')                 \n",
      "BANNED (prompt_idx=5, type=slop_phrase, phrase='brow')                   \n",
      "BANNED (prompt_idx=3, type=slop_phrase, phrase='rhythm')                 \n",
      "BANNED (prompt_idx=16, type=slop_phrase, phrase='glow')                  \n",
      "BANNED (prompt_idx=22, type=slop_phrase, phrase='brow')                  \n",
      "BANNED (prompt_idx=0, type=slop_phrase, phrase='grin')                   \n",
      "BANNED (prompt_idx=34, type=slop_phrase, phrase='intricate')             \n",
      "BANNED (prompt_idx=18, type=slop_phrase, phrase='shimmering')            \n",
      "Batch Generating:   0%|          | 0/39 [00:26<?, ?prompt/s, 336.8 tok/s]"
     ]
    },
    {
     "name": "stderr",
     "output_type": "stream",
     "text": [
      "2025-05-17 16:42:25,157 [ERROR] [core.sampler        ]: Back-track: no valid next-token candidates survived.\n",
      "2025-05-17 16:42:25,184 [ERROR] [core.sampler        ]: Back-track: no valid next-token candidates survived.\n"
     ]
    },
    {
     "name": "stdout",
     "output_type": "stream",
     "text": [
      "Back-track: no valid next-token candidates survived. ▁Elias\n",
      "BANNED (prompt_idx=27, type=slop_phrase, phrase='elias')                 \n",
      "Batch Generating:   0%|          | 0/39 [00:26<?, ?prompt/s, 336.1 tok/s]Back-track: no valid next-token candidates survived. ▁eyebrow\n",
      "BANNED (prompt_idx=15, type=slop_phrase, phrase='brow')                  \n",
      "BANNED (prompt_idx=28, type=ngram, ngram='said voice')                   \n",
      "BANNED (prompt_idx=17, type=ngram, ngram='carefully constructed')        \n",
      "BANNED (prompt_idx=7, type=slop_phrase, phrase='flicker')                \n",
      "BANNED (prompt_idx=38, type=slop_phrase, phrase='echo')                  \n",
      "BANNED (prompt_idx=12, type=slop_phrase, phrase='countless')             \n",
      "BANNED (prompt_idx=25, type=slop_phrase, phrase='rhythm')                \n",
      "BANNED (prompt_idx=10, type=slop_phrase, phrase='felt like an eternity') \n",
      "BANNED (prompt_idx=31, type=slop_phrase, phrase='chaotic')               \n",
      "BANNED (prompt_idx=29, type=ngram, ngram='asked voice')                  \n",
      "Batch Generating:   0%|          | 0/39 [00:26<?, ?prompt/s, 330.1 tok/s]Back-track: no valid next-token candidates survived. ▁brow\n",
      "BANNED (prompt_idx=5, type=slop_phrase, phrase='brow')                   \n",
      "BANNED (prompt_idx=3, type=slop_phrase, phrase='rhythm')                 \n",
      "BANNED (prompt_idx=16, type=slop_phrase, phrase='shimmering')            \n",
      "BANNED (prompt_idx=4, type=slop_phrase, phrase='frantic')                \n",
      "Batch Generating:   0%|          | 0/39 [00:27<?, ?prompt/s, 335.8 tok/s]"
     ]
    },
    {
     "name": "stderr",
     "output_type": "stream",
     "text": [
      "2025-05-17 16:42:25,864 [ERROR] [core.sampler        ]: Back-track: no valid next-token candidates survived.\n"
     ]
    },
    {
     "name": "stdout",
     "output_type": "stream",
     "text": [
      "BANNED (prompt_idx=37, type=ngram, ngram='voice dripping')               \n",
      "BANNED (prompt_idx=19, type=slop_phrase, phrase='shouted')               \n",
      "Batch Generating:   0%|          | 0/39 [00:27<?, ?prompt/s, 338.9 tok/s]Back-track: no valid next-token candidates survived. ▁Silas\n",
      "BANNED (prompt_idx=23, type=slop_phrase, phrase='silas')                 \n",
      "BANNED (prompt_idx=0, type=slop_phrase, phrase='grin')                   \n",
      "Batch Generating:   0%|          | 0/39 [00:27<?, ?prompt/s, 348.0 tok/s]"
     ]
    },
    {
     "name": "stderr",
     "output_type": "stream",
     "text": [
      "2025-05-17 16:42:26,181 [ERROR] [core.sampler        ]: Back-track: no valid next-token candidates survived.\n"
     ]
    },
    {
     "name": "stdout",
     "output_type": "stream",
     "text": [
      "BANNED (prompt_idx=6, type=slop_phrase, phrase='echo')                   \n",
      "BANNED (prompt_idx=28, type=slop_phrase, phrase='stammered')             \n",
      "Batch Generating:   0%|          | 0/39 [00:27<?, ?prompt/s, 336.1 tok/s]Back-track: no valid next-token candidates survived. ▁rhythm\n",
      "BANNED (prompt_idx=25, type=slop_phrase, phrase='rhythm')                \n",
      "BANNED (prompt_idx=38, type=slop_phrase, phrase='swirling')              \n",
      "Batch Generating:   0%|          | 0/39 [00:27<?, ?prompt/s, 338.0 tok/s]"
     ]
    },
    {
     "name": "stderr",
     "output_type": "stream",
     "text": [
      "2025-05-17 16:42:26,579 [ERROR] [core.sampler        ]: Back-track: no valid next-token candidates survived.\n"
     ]
    },
    {
     "name": "stdout",
     "output_type": "stream",
     "text": [
      "BANNED (prompt_idx=12, type=slop_phrase, phrase='pulse')                 \n",
      "BANNED (prompt_idx=34, type=slop_phrase, phrase='intricate')             \n",
      "BANNED (prompt_idx=15, type=ngram, ngram='said voice laced')             \n",
      "BANNED (prompt_idx=7, type=slop_phrase, phrase='faint')                  \n",
      "Batch Generating:   0%|          | 0/39 [00:27<?, ?prompt/s, 334.0 tok/s]Back-track: no valid next-token candidates survived. ▁Elias\n",
      "BANNED (prompt_idx=27, type=slop_phrase, phrase='elias')                 \n",
      "BANNED (prompt_idx=17, type=slop_phrase, phrase='subtle')                \n",
      "BANNED (prompt_idx=10, type=slop_phrase, phrase='stared')                \n",
      "Batch Generating:   0%|          | 0/39 [00:27<?, ?prompt/s, 341.0 tok/s]"
     ]
    },
    {
     "name": "stderr",
     "output_type": "stream",
     "text": [
      "2025-05-17 16:42:26,814 [ERROR] [core.sampler        ]: Back-track: no valid next-token candidates survived.\n"
     ]
    },
    {
     "name": "stdout",
     "output_type": "stream",
     "text": [
      "Batch Generating:   0%|          | 0/39 [00:28<?, ?prompt/s, 335.9 tok/s]Back-track: no valid next-token candidates survived. ▁brow\n",
      "BANNED (prompt_idx=5, type=slop_phrase, phrase='brow')                   \n",
      "BANNED (prompt_idx=14, type=slop_phrase, phrase='softly')                \n",
      "BANNED (prompt_idx=24, type=slop_phrase, phrase='cracked')               \n",
      "BANNED (prompt_idx=31, type=slop_phrase, phrase='chaotic')               \n",
      "Batch Generating:   0%|          | 0/39 [00:28<?, ?prompt/s, 336.7 tok/s]"
     ]
    },
    {
     "name": "stderr",
     "output_type": "stream",
     "text": [
      "2025-05-17 16:42:27,070 [ERROR] [core.sampler        ]: Back-track: no valid next-token candidates survived.\n"
     ]
    },
    {
     "name": "stdout",
     "output_type": "stream",
     "text": [
      "BANNED (prompt_idx=16, type=slop_phrase, phrase='shimmering')            \n",
      "BANNED (prompt_idx=2, type=ngram, ngram='face etched')                   \n",
      "BANNED (prompt_idx=39, type=ngram, ngram='could see')                    \n",
      "BANNED (prompt_idx=37, type=slop_phrase, phrase='clara')                 \n",
      "BANNED (prompt_idx=4, type=slop_phrase, phrase='delicate')               \n",
      "Batch Generating:   0%|          | 0/39 [00:28<?, ?prompt/s, 341.0 tok/s]Back-track: no valid next-token candidates survived. ▁Silas\n",
      "BANNED (prompt_idx=23, type=slop_phrase, phrase='silas')                 \n",
      "BANNED (prompt_idx=11, type=slop_phrase, phrase='relentless')            \n",
      "Batch Generating:   0%|          | 0/39 [00:28<?, ?prompt/s, 347.3 tok/s]"
     ]
    },
    {
     "name": "stderr",
     "output_type": "stream",
     "text": [
      "2025-05-17 16:42:27,535 [ERROR] [core.sampler        ]: Back-track: no valid next-token candidates survived.\n"
     ]
    },
    {
     "name": "stdout",
     "output_type": "stream",
     "text": [
      "Batch Generating:   0%|          | 0/39 [00:28<?, ?prompt/s, 334.5 tok/s]Back-track: no valid next-token candidates survived. ▁rhythm\n",
      "BANNED (prompt_idx=25, type=slop_phrase, phrase='rhythm')                \n",
      "Batch Generating:   0%|          | 0/39 [00:28<?, ?prompt/s, 344.6 tok/s]"
     ]
    },
    {
     "name": "stderr",
     "output_type": "stream",
     "text": [
      "2025-05-17 16:42:27,871 [ERROR] [core.sampler        ]: Back-track: no valid next-token candidates survived.\n"
     ]
    },
    {
     "name": "stdout",
     "output_type": "stream",
     "text": [
      "BANNED (prompt_idx=12, type=slop_phrase, phrase='glow')                  \n",
      "BANNED (prompt_idx=38, type=slop_phrase, phrase='swirling')              \n",
      "BANNED (prompt_idx=15, type=ngram, ngram='voice laced')                  \n",
      "BANNED (prompt_idx=3, type=slop_phrase, phrase='glanced')                \n",
      "Batch Generating:   0%|          | 0/39 [00:29<?, ?prompt/s, 336.9 tok/s]Back-track: no valid next-token candidates survived. ▁brow\n",
      "BANNED (prompt_idx=5, type=slop_phrase, phrase='brow')                   \n",
      "Batch Generating:   0%|          | 0/39 [00:29<?, ?prompt/s, 339.4 tok/s]"
     ]
    },
    {
     "name": "stderr",
     "output_type": "stream",
     "text": [
      "2025-05-17 16:42:28,394 [ERROR] [core.sampler        ]: Back-track: no valid next-token candidates survived.\n",
      "2025-05-17 16:42:28,544 [ERROR] [core.sampler        ]: Back-track: no valid next-token candidates survived.\n"
     ]
    },
    {
     "name": "stdout",
     "output_type": "stream",
     "text": [
      "BANNED (prompt_idx=22, type=slop_phrase, phrase='said, his voice laced') \n",
      "BANNED (prompt_idx=10, type=slop_phrase, phrase='elias')                 \n",
      "BANNED (prompt_idx=24, type=slop_phrase, phrase='rhythm')                \n",
      "BANNED (prompt_idx=14, type=slop_phrase, phrase='softly')                \n",
      "Batch Generating:   0%|          | 0/39 [00:29<?, ?prompt/s, 346.5 tok/s]Back-track: no valid next-token candidates survived. ▁delicate\n",
      "BANNED (prompt_idx=17, type=slop_phrase, phrase='delicate')              \n",
      "BANNED (prompt_idx=35, type=slop_phrase, phrase='silas')                 \n",
      "BANNED (prompt_idx=34, type=slop_phrase, phrase='intricate')             \n",
      "BANNED (prompt_idx=31, type=slop_phrase, phrase='swallowed')             \n",
      "BANNED (prompt_idx=16, type=slop_phrase, phrase='swirling')              \n",
      "BANNED (prompt_idx=18, type=ngram, ngram='said voice echoing')           \n",
      "BANNED (prompt_idx=2, type=slop_phrase, phrase='unsettling')             \n",
      "BANNED (prompt_idx=29, type=ngram, ngram='eyes darting')                 \n",
      "BANNED (prompt_idx=0, type=slop_phrase, phrase='paused')                 \n",
      "BANNED (prompt_idx=4, type=slop_phrase, phrase='utterly')                \n",
      "BANNED (prompt_idx=33, type=slop_phrase, phrase='scent')                 \n",
      "BANNED (prompt_idx=23, type=slop_phrase, phrase='elara')                 \n",
      "BANNED (prompt_idx=25, type=slop_phrase, phrase='shimmered')             \n",
      "BANNED (prompt_idx=13, type=slop_phrase, phrase='frantic')               \n",
      "BANNED (prompt_idx=11, type=slop_phrase, phrase='relentless')            \n",
      "BANNED (prompt_idx=6, type=slop_phrase, phrase='resonated deep within')  \n",
      "BANNED (prompt_idx=1, type=slop_phrase, phrase='sigh')                   \n",
      "BANNED (prompt_idx=3, type=slop_phrase, phrase='chilling')               \n",
      "BANNED (prompt_idx=21, type=slop_phrase, phrase='meticulously')          \n",
      "BANNED (prompt_idx=5, type=slop_phrase, phrase='void')                   \n",
      "BANNED (prompt_idx=38, type=slop_phrase, phrase='void')                  \n",
      "BANNED (prompt_idx=22, type=slop_phrase, phrase='murmured')              \n",
      "BANNED (prompt_idx=7, type=slop_phrase, phrase='delicate')               \n",
      "BANNED (prompt_idx=24, type=slop_phrase, phrase='curiosity')             \n",
      "BANNED (prompt_idx=10, type=slop_phrase, phrase='elias')                 \n",
      "BANNED (prompt_idx=16, type=slop_phrase, phrase='shifting')              \n",
      "BANNED (prompt_idx=35, type=slop_phrase, phrase='unsettling')            \n",
      "BANNED (prompt_idx=17, type=slop_phrase, phrase='brow')                  \n",
      "BANNED (prompt_idx=2, type=slop_phrase, phrase='profound')               \n",
      "BANNED (prompt_idx=31, type=slop_phrase, phrase='hesitated')             \n",
      "Batch Generating:   0%|          | 0/39 [00:31<?, ?prompt/s, 324.1 tok/s]Back-track: no valid next-token candidates survived. ▁Silas\n",
      "BANNED (prompt_idx=23, type=slop_phrase, phrase='silas')                 \n",
      "Batch Generating:   0%|          | 0/39 [00:31<?, ?prompt/s, 331.7 tok/s]Back-track: no valid next-token candidates survived. ▁rhythm\n",
      "BANNED (prompt_idx=25, type=slop_phrase, phrase='rhythm')                \n",
      "BANNED (prompt_idx=4, type=slop_phrase, phrase='utterly')                \n",
      "Batch Generating:   0%|          | 0/39 [00:31<?, ?prompt/s, 334.3 tok/s]"
     ]
    },
    {
     "name": "stderr",
     "output_type": "stream",
     "text": [
      "2025-05-17 16:42:30,496 [ERROR] [core.sampler        ]: Back-track: no valid next-token candidates survived.\n",
      "2025-05-17 16:42:30,545 [ERROR] [core.sampler        ]: Back-track: no valid next-token candidates survived.\n"
     ]
    },
    {
     "name": "stdout",
     "output_type": "stream",
     "text": [
      "BANNED (prompt_idx=29, type=slop_phrase, phrase='gaze')                  \n",
      "BANNED (prompt_idx=18, type=ngram, ngram='voice echoing')                \n",
      "BANNED (prompt_idx=20, type=slop_phrase, phrase='utterly')               \n",
      "BANNED (prompt_idx=13, type=slop_phrase, phrase='rhythm')                \n",
      "BANNED (prompt_idx=12, type=slop_phrase, phrase='paused')                \n",
      "BANNED (prompt_idx=3, type=slop_phrase, phrase='subtle')                 \n",
      "BANNED (prompt_idx=39, type=slop_phrase, phrase='gaze')                  \n",
      "BANNED (prompt_idx=5, type=slop_phrase, phrase='unsettling')             \n",
      "BANNED (prompt_idx=22, type=slop_phrase, phrase='muttered')              \n",
      "BANNED (prompt_idx=6, type=ngram, ngram='felt like')                     \n",
      "BANNED (prompt_idx=32, type=slop_phrase, phrase='utterly')               \n",
      "BANNED (prompt_idx=1, type=slop_phrase, phrase='sigh')                   \n",
      "BANNED (prompt_idx=16, type=slop_phrase, phrase='scent')                 \n",
      "BANNED (prompt_idx=24, type=slop_phrase, phrase='pressing')              \n",
      "BANNED (prompt_idx=38, type=slop_phrase, phrase='chaotic')               \n",
      "BANNED (prompt_idx=10, type=slop_phrase, phrase='elias')                 \n",
      "BANNED (prompt_idx=17, type=slop_phrase, phrase='brow')                  \n",
      "BANNED (prompt_idx=2, type=slop_phrase, phrase='profound')               \n",
      "BANNED (prompt_idx=31, type=slop_phrase, phrase='paused')                \n",
      "BANNED (prompt_idx=23, type=slop_phrase, phrase='elias')                 \n",
      "BANNED (prompt_idx=30, type=slop_phrase, phrase='froze')                 \n",
      "Batch Generating:   0%|          | 0/39 [00:32<?, ?prompt/s, 308.2 tok/s]Back-track: no valid next-token candidates survived. ▁rhythm\n",
      "BANNED (prompt_idx=25, type=slop_phrase, phrase='rhythm')                \n",
      "BANNED (prompt_idx=4, type=slop_phrase, phrase='countless')              \n",
      "BANNED (prompt_idx=3, type=slop_phrase, phrase='unsettling')             \n",
      "Batch Generating:   0%|          | 0/39 [00:33<?, ?prompt/s, 297.0 tok/s]"
     ]
    },
    {
     "name": "stderr",
     "output_type": "stream",
     "text": [
      "2025-05-17 16:42:31,955 [ERROR] [core.sampler        ]: Back-track: no valid next-token candidates survived.\n"
     ]
    },
    {
     "name": "stdout",
     "output_type": "stream",
     "text": [
      "BANNED (prompt_idx=27, type=slop_phrase, phrase='meticulously')          \n",
      "Batch Generating:   0%|          | 0/39 [00:33<?, ?prompt/s, 297.6 tok/s]Back-track: no valid next-token candidates survived. ▁eyes\n",
      "BANNED (prompt_idx=29, type=ngram, ngram='eyes darting')                 \n",
      "Batch Generating:   0%|          | 0/39 [00:33<?, ?prompt/s, 297.4 tok/s]"
     ]
    },
    {
     "name": "stderr",
     "output_type": "stream",
     "text": [
      "2025-05-17 16:42:32,181 [ERROR] [core.sampler        ]: Back-track: no valid next-token candidates survived.\n"
     ]
    },
    {
     "name": "stdout",
     "output_type": "stream",
     "text": [
      "BANNED (prompt_idx=5, type=slop_phrase, phrase='terrifying')             \n",
      "BANNED (prompt_idx=22, type=ngram, ngram='voice laced')                  \n",
      "BANNED (prompt_idx=12, type=slop_phrase, phrase='scent')                 \n",
      "Batch Generating:   0%|          | 0/39 [00:33<?, ?prompt/s, 290.8 tok/s]Back-track: no valid next-token candidates survived. ▁shimmering\n",
      "BANNED (prompt_idx=16, type=slop_phrase, phrase='shimmering')            \n",
      "Batch Generating:   0%|          | 0/39 [00:33<?, ?prompt/s, 294.2 tok/s]"
     ]
    },
    {
     "name": "stderr",
     "output_type": "stream",
     "text": [
      "2025-05-17 16:42:32,587 [ERROR] [core.sampler        ]: Back-track: no valid next-token candidates survived.\n"
     ]
    },
    {
     "name": "stdout",
     "output_type": "stream",
     "text": [
      "BANNED (prompt_idx=32, type=slop_phrase, phrase='unsettling')            \n",
      "BANNED (prompt_idx=24, type=slop_phrase, phrase='muttered')              \n",
      "BANNED (prompt_idx=11, type=ngram, ngram='felt like')                    \n",
      "BANNED (prompt_idx=18, type=slop_phrase, phrase='ethereal')              \n",
      "BANNED (prompt_idx=1, type=slop_phrase, phrase='hint')                   \n",
      "BANNED (prompt_idx=39, type=ngram, ngram='said eyes')                    \n",
      "BANNED (prompt_idx=38, type=slop_phrase, phrase='void')                  \n",
      "BANNED (prompt_idx=19, type=slop_phrase, phrase='rain continued to fall')\n",
      "BANNED (prompt_idx=35, type=slop_phrase, phrase='relentless')            \n",
      "BANNED (prompt_idx=8, type=slop_phrase, phrase='warmth')                 \n",
      "BANNED (prompt_idx=31, type=slop_phrase, phrase='swallowed')             \n",
      "Batch Generating:   0%|          | 0/39 [00:34<?, ?prompt/s, 297.7 tok/s]Back-track: no valid next-token candidates survived. ▁brow\n",
      "BANNED (prompt_idx=17, type=slop_phrase, phrase='brow')                  \n",
      "BANNED (prompt_idx=15, type=slop_phrase, phrase='shifted')               \n",
      "Batch Generating:   0%|          | 0/39 [00:34<?, ?prompt/s, 300.9 tok/s]Back-track: no valid next-token candidates survived. ▁Silas\n",
      "BANNED (prompt_idx=23, type=slop_phrase, phrase='silas')                 \n",
      "Batch Generating:   0%|          | 0/39 [00:34<?, ?prompt/s, 302.4 tok/s]"
     ]
    },
    {
     "name": "stderr",
     "output_type": "stream",
     "text": [
      "2025-05-17 16:42:33,248 [ERROR] [core.sampler        ]: Back-track: no valid next-token candidates survived.\n",
      "2025-05-17 16:42:33,334 [ERROR] [core.sampler        ]: Back-track: no valid next-token candidates survived.\n"
     ]
    },
    {
     "name": "stdout",
     "output_type": "stream",
     "text": [
      "BANNED (prompt_idx=3, type=slop_phrase, phrase='flicker')                \n",
      "BANNED (prompt_idx=25, type=slop_phrase, phrase='fabric')                \n",
      "BANNED (prompt_idx=10, type=ngram, ngram='years ago')                    \n",
      "BANNED (prompt_idx=22, type=slop_phrase, phrase='laced')                 \n",
      "BANNED (prompt_idx=5, type=slop_phrase, phrase='dread')                  \n",
      "Batch Generating:   0%|          | 0/39 [00:34<?, ?prompt/s, 289.3 tok/s]Back-track: no valid next-token candidates survived. ▁shimmering\n",
      "BANNED (prompt_idx=16, type=slop_phrase, phrase='shimmering')            \n",
      "BANNED (prompt_idx=12, type=slop_phrase, phrase='shimmering')            \n",
      "BANNED (prompt_idx=27, type=slop_phrase, phrase='meticulously')          \n",
      "Batch Generating:   0%|          | 0/39 [00:35<?, ?prompt/s, 288.5 tok/s]"
     ]
    },
    {
     "name": "stderr",
     "output_type": "stream",
     "text": [
      "2025-05-17 16:42:33,827 [ERROR] [core.sampler        ]: Back-track: no valid next-token candidates survived.\n"
     ]
    },
    {
     "name": "stdout",
     "output_type": "stream",
     "text": [
      "BANNED (prompt_idx=32, type=slop_phrase, phrase='profound')              \n",
      "BANNED (prompt_idx=36, type=slop_phrase, phrase='chilling')              \n",
      "BANNED (prompt_idx=38, type=slop_phrase, phrase='fragile')               \n",
      "BANNED (prompt_idx=11, type=slop_phrase, phrase='amusement')             \n",
      "BANNED (prompt_idx=19, type=ngram, ngram='felt like')                    \n",
      "BANNED (prompt_idx=1, type=slop_phrase, phrase='hint')                   \n",
      "BANNED (prompt_idx=28, type=ngram, ngram='said voice firm')              \n",
      "BANNED (prompt_idx=3, type=slop_phrase, phrase='rhythm')                 \n",
      "BANNED (prompt_idx=8, type=slop_phrase, phrase='meticulously')           \n",
      "BANNED (prompt_idx=39, type=slop_phrase, phrase='gaze')                  \n",
      " BANNED (prompt_idx=23, type=slop_phrase, phrase='elara')                Back-track: no valid next-token candidates survived.\n",
      "Batch Generating:   0%|          | 0/39 [00:35<?, ?prompt/s, 294.5 tok/s]▁rhythm\n",
      "BANNED (prompt_idx=25, type=slop_phrase, phrase='rhythm')                \n",
      "BANNED (prompt_idx=18, type=ngram, ngram='voice echoing')                \n",
      "Batch Generating:   0%|          | 0/39 [00:35<?, ?prompt/s, 303.5 tok/s]"
     ]
    },
    {
     "name": "stderr",
     "output_type": "stream",
     "text": [
      "2025-05-17 16:42:34,874 [ERROR] [core.sampler        ]: Back-track: no valid next-token candidates survived.\n",
      "2025-05-17 16:42:34,983 [ERROR] [core.sampler        ]: Back-track: no valid next-token candidates survived.\n"
     ]
    },
    {
     "name": "stdout",
     "output_type": "stream",
     "text": [
      "Batch Generating:   0%|          | 0/39 [00:35<?, ?prompt/s, 303.1 tok/s]Back-track: no valid next-token candidates survived. ▁brow\n",
      "BANNED (prompt_idx=17, type=slop_phrase, phrase='brow')                  \n",
      "BANNED (prompt_idx=10, type=ngram, ngram='years ago')                    \n",
      "BANNED (prompt_idx=4, type=slop_phrase, phrase='mortal')                 \n",
      "Batch Generating:   0%|          | 0/39 [00:36<?, ?prompt/s, 317.9 tok/s]Back-track: no valid next-token candidates survived. ▁shimmering\n",
      "BANNED (prompt_idx=16, type=slop_phrase, phrase='shimmering')            \n",
      "Batch Generating:   0%|          | 0/39 [00:36<?, ?prompt/s, 321.0 tok/s]"
     ]
    },
    {
     "name": "stderr",
     "output_type": "stream",
     "text": [
      "2025-05-17 16:42:35,145 [ERROR] [core.sampler        ]: Back-track: no valid next-token candidates survived.\n"
     ]
    },
    {
     "name": "stdout",
     "output_type": "stream",
     "text": [
      "BANNED (prompt_idx=14, type=slop_phrase, phrase='subtle')                \n",
      "BANNED (prompt_idx=12, type=slop_phrase, phrase='scent')                 \n",
      "BANNED (prompt_idx=29, type=slop_phrase, phrase='laced')                 \n",
      "BANNED (prompt_idx=13, type=slop_phrase, phrase='overwhelming')          \n",
      "BANNED (prompt_idx=32, type=slop_phrase, phrase='meticulously')          \n",
      "BANNED (prompt_idx=19, type=slop_phrase, phrase='rhythm')                \n",
      "BANNED (prompt_idx=3, type=slop_phrase, phrase='rhythm')                 \n",
      "BANNED (prompt_idx=36, type=slop_phrase, phrase='terrifying')            \n",
      "BANNED (prompt_idx=7, type=slop_phrase, phrase='shimmering')             \n",
      "BANNED (prompt_idx=1, type=slop_phrase, phrase='surge')                  \n",
      "BANNED (prompt_idx=11, type=slop_phrase, phrase='chilling')              \n",
      "Batch Generating:   0%|          | 0/39 [00:37<?, ?prompt/s, 300.7 tok/s]"
     ]
    },
    {
     "name": "stderr",
     "output_type": "stream",
     "text": [
      "2025-05-17 16:42:36,351 [ERROR] [core.sampler        ]: Back-track: no valid next-token candidates survived.\n",
      "2025-05-17 16:42:36,422 [ERROR] [core.sampler        ]: Back-track: no valid next-token candidates survived.\n"
     ]
    },
    {
     "name": "stdout",
     "output_type": "stream",
     "text": [
      "Back-track: no valid next-token candidates survived. ▁Silas\n",
      "BANNED (prompt_idx=23, type=slop_phrase, phrase='silas')                 \n",
      "Batch Generating:   0%|          | 0/39 [00:37<?, ?prompt/s, 305.4 tok/s]Back-track: no valid next-token candidates survived. ▁rhythm\n",
      "BANNED (prompt_idx=25, type=slop_phrase, phrase='rhythm')                \n",
      "BANNED (prompt_idx=28, type=slop_phrase, phrase='elias')                 \n",
      "BANNED (prompt_idx=8, type=slop_phrase, phrase='meticulously')           \n",
      "BANNED (prompt_idx=31, type=slop_phrase, phrase='crimson')               \n",
      "BANNED (prompt_idx=16, type=slop_phrase, phrase='voice a low rumble')    \n",
      "BANNED (prompt_idx=10, type=ngram, ngram='years ago')                    \n",
      "BANNED (prompt_idx=33, type=slop_phrase, phrase='profound')              \n",
      "Batch Generating:   0%|          | 0/39 [00:37<?, ?prompt/s, 302.8 tok/s]Back-track: no valid next-token candidates survived. ▁brow\n",
      "BANNED (prompt_idx=17, type=slop_phrase, phrase='brow')                  \n",
      "Batch Generating:   0%|          | 0/39 [00:37<?, ?prompt/s, 304.4 tok/s]"
     ]
    },
    {
     "name": "stderr",
     "output_type": "stream",
     "text": [
      "2025-05-17 16:42:36,776 [ERROR] [core.sampler        ]: Back-track: no valid next-token candidates survived.\n"
     ]
    },
    {
     "name": "stdout",
     "output_type": "stream",
     "text": [
      "BANNED (prompt_idx=0, type=regex, regex='\\bnot\\s+(?:just|only|merely)?\\s*(?:[^\\s]+\\s*){1,6}?[,;:—–-]?\\s*but\\s+(?:also\\s+)?', match='Not a flash, not a crackle, but ')\n",
      "BANNED (prompt_idx=5, type=slop_phrase, phrase='meticulously')           \n",
      "BANNED (prompt_idx=4, type=slop_phrase, phrase='subtle')                 \n",
      "BANNED (prompt_idx=39, type=slop_phrase, phrase='void')                  \n",
      "BANNED (prompt_idx=24, type=slop_phrase, phrase='leaned')                \n",
      "BANNED (prompt_idx=15, type=slop_phrase, phrase='utterly')               \n",
      "BANNED (prompt_idx=21, type=slop_phrase, phrase='grin')                  \n",
      "BANNED (prompt_idx=32, type=slop_phrase, phrase='profound')              \n",
      "BANNED (prompt_idx=3, type=slop_phrase, phrase='flicker')                \n",
      "BANNED (prompt_idx=19, type=slop_phrase, phrase='pounding')              \n",
      "BANNED (prompt_idx=13, type=slop_phrase, phrase='laced')                 \n",
      "BANNED (prompt_idx=26, type=slop_phrase, phrase='sensation')             \n",
      "BANNED (prompt_idx=22, type=slop_phrase, phrase='unseen')                \n",
      "BANNED (prompt_idx=36, type=slop_phrase, phrase='chaotic')               \n",
      "BANNED (prompt_idx=25, type=slop_phrase, phrase='frantic')               \n",
      "BANNED (prompt_idx=1, type=slop_phrase, phrase='felt a profound sense')  \n",
      "BANNED (prompt_idx=2, type=slop_phrase, phrase='etched')                 \n",
      "BANNED (prompt_idx=23, type=slop_phrase, phrase='elara')                 \n",
      "BANNED (prompt_idx=6, type=slop_phrase, phrase='trembling')              \n",
      "BANNED (prompt_idx=27, type=slop_phrase, phrase='demon')                 \n",
      "Batch Generating:   0%|          | 0/39 [00:39<?, ?prompt/s, 282.9 tok/s]Back-track: no valid next-token candidates survived. ▁shimmering\n",
      "BANNED (prompt_idx=16, type=slop_phrase, phrase='shimmering')            \n",
      "BANNED (prompt_idx=11, type=slop_phrase, phrase='terrifying')            \n",
      "Batch Generating:   0%|          | 0/39 [00:39<?, ?prompt/s, 280.8 tok/s]"
     ]
    },
    {
     "name": "stderr",
     "output_type": "stream",
     "text": [
      "2025-05-17 16:42:37,997 [ERROR] [core.sampler        ]: Back-track: no valid next-token candidates survived.\n"
     ]
    },
    {
     "name": "stdout",
     "output_type": "stream",
     "text": [
      "BANNED (prompt_idx=28, type=ngram, ngram='said voice')                   \n",
      "BANNED (prompt_idx=10, type=ngram, ngram='years ago')                    \n",
      "BANNED (prompt_idx=35, type=slop_phrase, phrase='relentless')            \n",
      "BANNED (prompt_idx=14, type=slop_phrase, phrase='realization')           \n",
      "BANNED (prompt_idx=33, type=slop_phrase, phrase='utterly')               \n",
      "BANNED (prompt_idx=3, type=slop_phrase, phrase='echo')                   \n",
      "BANNED (prompt_idx=5, type=slop_phrase, phrase='intricate')              \n",
      "BANNED (prompt_idx=20, type=slop_phrase, phrase='shiver')                \n",
      "BANNED (prompt_idx=17, type=ngram, ngram='deep breath')                  \n",
      "BANNED (prompt_idx=4, type=ngram, ngram='deep within')                   \n",
      "BANNED (prompt_idx=32, type=slop_phrase, phrase='void')                  \n",
      "BANNED (prompt_idx=0, type=slop_phrase, phrase='scent')                  \n",
      "BANNED (prompt_idx=19, type=ngram, ngram='said voice')                   \n",
      "BANNED (prompt_idx=37, type=slop_phrase, phrase='flicker')               \n",
      "BANNED (prompt_idx=21, type=slop_phrase, phrase='shook')                 \n",
      "BANNED (prompt_idx=18, type=slop_phrase, phrase='gestured')Back-track: no valid next-token candidates survived. ▁rhythm\n",
      "\n",
      "BANNED (prompt_idx=25, type=slop_phrase, phrase='rhythm')                \n",
      "BANNED (prompt_idx=38, type=slop_phrase, phrase='fragile')               \n"
     ]
    },
    {
     "name": "stderr",
     "output_type": "stream",
     "text": [
      "2025-05-17 16:42:39,042 [ERROR] [core.sampler        ]: Back-track: no valid next-token candidates survived.\n"
     ]
    },
    {
     "name": "stdout",
     "output_type": "stream",
     "text": [
      "BANNED (prompt_idx=16, type=ngram, ngram='felt like')                    \n",
      "BANNED (prompt_idx=1, type=slop_phrase, phrase='subtle')                 \n",
      "BANNED (prompt_idx=26, type=slop_phrase, phrase='overwhelming')          \n",
      "BANNED (prompt_idx=36, type=slop_phrase, phrase='lyra')                  \n",
      "BANNED (prompt_idx=2, type=slop_phrase, phrase='hollow')                 \n",
      "BANNED (prompt_idx=6, type=slop_phrase, phrase='voice barely a whisper') \n",
      "BANNED (prompt_idx=8, type=ngram, ngram='felt like')                     \n",
      "Batch Generating:   0%|          | 0/39 [00:40<?, ?prompt/s, 278.7 tok/s]Back-track: no valid next-token candidates survived. ▁Silas\n",
      "BANNED (prompt_idx=23, type=slop_phrase, phrase='silas')                 \n",
      "Batch Generating:   0%|          | 0/39 [00:40<?, ?prompt/s, 287.4 tok/s]"
     ]
    },
    {
     "name": "stderr",
     "output_type": "stream",
     "text": [
      "2025-05-17 16:42:39,702 [ERROR] [core.sampler        ]: Back-track: no valid next-token candidates survived.\n"
     ]
    },
    {
     "name": "stdout",
     "output_type": "stream",
     "text": [
      "BANNED (prompt_idx=3, type=slop_phrase, phrase='whisper')                \n",
      "BANNED (prompt_idx=10, type=slop_phrase, phrase='elias')                 \n",
      "BANNED (prompt_idx=28, type=slop_phrase, phrase='grin')                  \n",
      "BANNED (prompt_idx=35, type=slop_phrase, phrase='crimson')               \n",
      "BANNED (prompt_idx=14, type=slop_phrase, phrase='frantic')               \n",
      "BANNED (prompt_idx=19, type=slop_phrase, phrase='said, his voice barely')\n",
      "Batch Generating:   0%|          | 0/39 [00:41<?, ?prompt/s, 271.1 tok/s]Back-track: no valid next-token candidates survived. ▁brow\n",
      "BANNED (prompt_idx=17, type=slop_phrase, phrase='brow')                  \n",
      "BANNED (prompt_idx=4, type=slop_phrase, phrase='curiosity')              \n",
      "Batch Generating:   0%|          | 0/39 [00:41<?, ?prompt/s, 268.0 tok/s]"
     ]
    },
    {
     "name": "stderr",
     "output_type": "stream",
     "text": [
      "2025-05-17 16:42:40,337 [ERROR] [core.sampler        ]: Back-track: no valid next-token candidates survived.\n"
     ]
    },
    {
     "name": "stdout",
     "output_type": "stream",
     "text": [
      "BANNED (prompt_idx=25, type=ngram, ngram='felt like')                    \n",
      "BANNED (prompt_idx=0, type=slop_phrase, phrase='fabric')                 \n",
      "BANNED (prompt_idx=37, type=slop_phrase, phrase='fading')                \n",
      "BANNED (prompt_idx=38, type=slop_phrase, phrase='void')                  \n",
      "BANNED (prompt_idx=2, type=slop_phrase, phrase='gleaming')               \n",
      "BANNED (prompt_idx=18, type=slop_phrase, phrase='shimmering')            \n",
      "BANNED (prompt_idx=3, type=slop_phrase, phrase='faint')                  \n",
      "BANNED (prompt_idx=36, type=slop_phrase, phrase='lyra')                  \n",
      "BANNED (prompt_idx=26, type=slop_phrase, phrase='despair')               \n",
      "BANNED (prompt_idx=8, type=slop_phrase, phrase='shifted')                \n",
      "BANNED (prompt_idx=34, type=slop_phrase, phrase='utterly')               \n",
      "BANNED (prompt_idx=5, type=slop_phrase, phrase='laced')                  \n",
      "BANNED (prompt_idx=24, type=regex, regex='\\bnot\\s+(?:just|only|merely)?\\s*(?:[^\\s]+\\s*){1,6}?[,;:—–-]?\\s*but\\s+(?:also\\s+)?', match='Not the absence of sound, but ')\n",
      "BANNED (prompt_idx=19, type=slop_phrase, phrase='voice barely a whisper')\n",
      "BANNED (prompt_idx=28, type=slop_phrase, phrase='smile spreading across')\n",
      "▁rhythmBANNED (prompt_idx=33, type=slop_phrase, phrase='froze')           ack-track: no valid next-token candidates survived.\n",
      "Batch Generating:   0%|          | 0/39 [00:42<?, ?prompt/s, 255.7 tok/s]\n",
      "BANNED (prompt_idx=25, type=slop_phrase, phrase='rhythm')                \n",
      "BANNED (prompt_idx=22, type=slop_phrase, phrase='gaze')                  \n",
      "Batch Generating:   0%|          | 0/39 [00:43<?, ?prompt/s, 262.8 tok/s]"
     ]
    },
    {
     "name": "stderr",
     "output_type": "stream",
     "text": [
      "2025-05-17 16:42:41,934 [ERROR] [core.sampler        ]: Back-track: no valid next-token candidates survived.\n"
     ]
    },
    {
     "name": "stdout",
     "output_type": "stream",
     "text": [
      "BANNED (prompt_idx=32, type=slop_phrase, phrase='chilling')              \n",
      "BANNED (prompt_idx=0, type=ngram, ngram='could see')                     \n",
      "BANNED (prompt_idx=17, type=ngram, ngram='carefully constructed')        \n",
      "BANNED (prompt_idx=37, type=slop_phrase, phrase='flicker')               \n",
      "BANNED (prompt_idx=13, type=slop_phrase, phrase='void')                  \n",
      "BANNED (prompt_idx=29, type=slop_phrase, phrase='fabric')                \n",
      "BANNED (prompt_idx=38, type=slop_phrase, phrase='void')                  \n",
      "BANNED (prompt_idx=39, type=slop_phrase, phrase='holographic')           \n",
      "BANNED (prompt_idx=2, type=ngram, ngram='looked like')                   \n",
      "BANNED (prompt_idx=8, type=slop_phrase, phrase='unsettling')             \n",
      "BANNED (prompt_idx=36, type=slop_phrase, phrase='crackled')              \n",
      "BANNED (prompt_idx=18, type=slop_phrase, phrase='swallowed')             \n",
      "BANNED (prompt_idx=23, type=slop_phrase, phrase='silas')                 \n",
      "BANNED (prompt_idx=7, type=slop_phrase, phrase='gleaming')               \n",
      "BANNED (prompt_idx=6, type=slop_phrase, phrase='curse')                  \n",
      "BANNED (prompt_idx=10, type=slop_phrase, phrase='relentless')            \n",
      "BANNED (prompt_idx=5, type=slop_phrase, phrase='laced')                  \n",
      "BANNED (prompt_idx=19, type=slop_phrase, phrase='eyes darting around')   \n",
      "BANNED (prompt_idx=22, type=slop_phrase, phrase='unwavering')            \n",
      "BANNED (prompt_idx=28, type=slop_phrase, phrase='grin')                  \n",
      "BANNED (prompt_idx=3, type=slop_phrase, phrase='relentless')             \n",
      "BANNED (prompt_idx=4, type=slop_phrase, phrase='revealing')              \n",
      "BANNED (prompt_idx=25, type=slop_phrase, phrase='silas')                 \n",
      "BANNED (prompt_idx=32, type=slop_phrase, phrase='terrifying')            \n",
      "BANNED (prompt_idx=37, type=slop_phrase, phrase='flicker')               \n",
      "BANNED (prompt_idx=12, type=slop_phrase, phrase='said, his voice laced') \n",
      "BANNED (prompt_idx=17, type=ngram, ngram='carefully constructed')        \n",
      "BANNED (prompt_idx=13, type=slop_phrase, phrase='hollow')                \n",
      "BANNED (prompt_idx=38, type=slop_phrase, phrase='void')                  \n",
      "BANNED (prompt_idx=27, type=slop_phrase, phrase='meticulously')          \n",
      "BANNED (prompt_idx=39, type=slop_phrase, phrase='holographic')           \n",
      "BANNED (prompt_idx=24, type=ngram, ngram='sound like')                   \n",
      "BANNED (prompt_idx=31, type=slop_phrase, phrase='unsettling')            \n",
      "BANNED (prompt_idx=7, type=slop_phrase, phrase='intricate')              \n",
      "BANNED (prompt_idx=6, type=slop_phrase, phrase='demon')                  \n",
      "BANNED (prompt_idx=26, type=slop_phrase, phrase='relentless')            \n",
      "BANNED (prompt_idx=25, type=slop_phrase, phrase='silas')                 \n",
      "BANNED (prompt_idx=14, type=slop_phrase, phrase='subtle')                \n",
      "BANNED (prompt_idx=28, type=slop_phrase, phrase='smile spreading across')\n",
      "BANNED (prompt_idx=11, type=slop_phrase, phrase='chilling')              \n",
      "BANNED (prompt_idx=0, type=slop_phrase, phrase='warmth')                 \n",
      "BANNED (prompt_idx=32, type=slop_phrase, phrase='unsettling')            \n",
      "BANNED (prompt_idx=37, type=slop_phrase, phrase='flicker')               \n",
      "BANNED (prompt_idx=33, type=slop_phrase, phrase='stammered')             \n",
      "BANNED (prompt_idx=2, type=slop_phrase, phrase='void')                   \n",
      "BANNED (prompt_idx=12, type=ngram, ngram='voice laced')                  \n",
      "BANNED (prompt_idx=13, type=slop_phrase, phrase='void')                  \n",
      "BANNED (prompt_idx=29, type=slop_phrase, phrase='shifted')               \n",
      "BANNED (prompt_idx=8, type=slop_phrase, phrase='hollow')                 \n",
      "BANNED (prompt_idx=38, type=slop_phrase, phrase='realization')           \n",
      "BANNED (prompt_idx=15, type=slop_phrase, phrase='gaze')                  \n",
      "BANNED (prompt_idx=22, type=slop_phrase, phrase='said, his voice laced') \n",
      "BANNED (prompt_idx=5, type=slop_phrase, phrase='whisper')                \n",
      "BANNED (prompt_idx=19, type=slop_phrase, phrase='asked, my voice barely')\n",
      "BANNED (prompt_idx=3, type=slop_phrase, phrase='polished')               \n",
      "BANNED (prompt_idx=25, type=ngram, ngram='said voice')                   \n",
      "BANNED (prompt_idx=27, type=slop_phrase, phrase='whisper')               \n",
      "BANNED (prompt_idx=6, type=slop_phrase, phrase='curse')                  \n",
      "BANNED (prompt_idx=7, type=slop_phrase, phrase='intricate')              \n",
      "BANNED (prompt_idx=14, type=slop_phrase, phrase='subtle')                \n",
      "BANNED (prompt_idx=4, type=slop_phrase, phrase='shiver')                 \n",
      "BANNED (prompt_idx=28, type=slop_phrase, phrase='grin')                  \n",
      "BANNED (prompt_idx=11, type=slop_phrase, phrase='terrifying')            \n",
      "BANNED (prompt_idx=2, type=slop_phrase, phrase='void')                   \n",
      "Batch Generating:   0%|          | 0/39 [00:48<?, ?prompt/s, 279.0 tok/s]"
     ]
    },
    {
     "name": "stderr",
     "output_type": "stream",
     "text": [
      "2025-05-17 16:42:47,913 [ERROR] [core.sampler        ]: Back-track: no valid next-token candidates survived.\n"
     ]
    },
    {
     "name": "stdout",
     "output_type": "stream",
     "text": [
      "Back-track: no valid next-token candidates survived. ▁hollow\n",
      "BANNED (prompt_idx=13, type=slop_phrase, phrase='hollow')                \n",
      "BANNED (prompt_idx=12, type=ngram, ngram='eyes fixed')                   \n",
      "BANNED (prompt_idx=3, type=slop_phrase, phrase='leaned')                 \n",
      "BANNED (prompt_idx=34, type=slop_phrase, phrase='sunlight')              \n",
      "BANNED (prompt_idx=29, type=slop_phrase, phrase='gaze')                  \n",
      "BANNED (prompt_idx=25, type=ngram, ngram='face etched')                  \n",
      "BANNED (prompt_idx=38, type=slop_phrase, phrase='realization')           \n",
      "BANNED (prompt_idx=36, type=ngram, ngram='replied voice')                \n",
      "BANNED (prompt_idx=14, type=ngram, ngram='spreading across')             \n",
      "BANNED (prompt_idx=4, type=slop_phrase, phrase='unsettling')             \n",
      "BANNED (prompt_idx=16, type=slop_phrase, phrase='clutching')             \n",
      "BANNED (prompt_idx=21, type=slop_phrase, phrase='shifted')               \n",
      "BANNED (prompt_idx=23, type=slop_phrase, phrase='laced')                 \n",
      "BANNED (prompt_idx=0, type=regex, regex='\\bnot\\s+(?:just|only|merely)?\\s*(?:[^\\s]+\\s*){1,6}?[,;:—–-]?\\s*but\\s+(?:also\\s+)?', match='Not a fancy, ornate fiddle, but ')\n",
      "BANNED (prompt_idx=31, type=slop_phrase, phrase='essence')               \n",
      "BANNED (prompt_idx=22, type=slop_phrase, phrase='words hung in the air') \n",
      "BANNED (prompt_idx=3, type=slop_phrase, phrase='polished')               \n",
      "BANNED (prompt_idx=26, type=slop_phrase, phrase='scent')                 \n",
      "BANNED (prompt_idx=37, type=ngram, ngram='something far')                \n",
      "BANNED (prompt_idx=27, type=slop_phrase, phrase='meticulously')          \n",
      "Batch Generating:   0%|          | 0/39 [00:50<?, ?prompt/s, 284.3 tok/s]"
     ]
    },
    {
     "name": "stderr",
     "output_type": "stream",
     "text": [
      "2025-05-17 16:42:49,948 [ERROR] [core.sampler        ]: Back-track: no valid next-token candidates survived.\n"
     ]
    },
    {
     "name": "stdout",
     "output_type": "stream",
     "text": [
      "Back-track: no valid next-token candidates survived. ▁hollow\n",
      "BANNED (prompt_idx=13, type=slop_phrase, phrase='hollow')                \n",
      "BANNED (prompt_idx=7, type=slop_phrase, phrase='shimmered')              \n",
      "BANNED (prompt_idx=18, type=slop_phrase, phrase='relentless')            \n",
      "BANNED (prompt_idx=8, type=slop_phrase, phrase='unsettling')             \n",
      "BANNED (prompt_idx=17, type=slop_phrase, phrase='small, almost imperceptible')\n",
      "BANNED (prompt_idx=5, type=slop_phrase, phrase='silas')                  \n",
      "BANNED (prompt_idx=12, type=slop_phrase, phrase='gaze')                  \n",
      "BANNED (prompt_idx=24, type=ngram, ngram='said voice')                   \n",
      "BANNED (prompt_idx=15, type=slop_phrase, phrase='surge')                 \n",
      "BANNED (prompt_idx=38, type=slop_phrase, phrase='laced')                 \n",
      "BANNED (prompt_idx=10, type=slop_phrase, phrase='profound')              \n",
      "BANNED (prompt_idx=34, type=slop_phrase, phrase='scent')                 \n",
      "BANNED (prompt_idx=1, type=slop_phrase, phrase='nodded')                 \n",
      "BANNED (prompt_idx=4, type=slop_phrase, phrase='pulse')                  \n",
      "BANNED (prompt_idx=16, type=slop_phrase, phrase='swirling')              \n",
      "BANNED (prompt_idx=0, type=regex, regex='\\bnot\\s+(?:just|only|merely)?\\s*(?:[^\\s]+\\s*){1,6}?[,;:—–-]?\\s*but\\s+(?:also\\s+)?', match='Not a fancy, polished instrument, but ')\n",
      "BANNED (prompt_idx=25, type=slop_phrase, phrase='echo')                  \n",
      "BANNED (prompt_idx=3, type=slop_phrase, phrase='intricate')              \n",
      "BANNED (prompt_idx=22, type=slop_phrase, phrase='hung in the air, heavy')\n",
      "BANNED (prompt_idx=35, type=slop_phrase, phrase='twisted')               \n",
      "BANNED (prompt_idx=31, type=slop_phrase, phrase='terrifying')            \n",
      "BANNED (prompt_idx=21, type=slop_phrase, phrase='despair')               \n",
      "BANNED (prompt_idx=28, type=slop_phrase, phrase='leaned')                \n",
      "BANNED (prompt_idx=19, type=slop_phrase, phrase='paused')                \n",
      "BANNED (prompt_idx=5, type=slop_phrase, phrase='silas')                  \n",
      "BANNED (prompt_idx=37, type=slop_phrase, phrase='shattered')             \n",
      "Batch Generating:   0%|          | 0/39 [00:53<?, ?prompt/s, 262.5 tok/s]Back-track: no valid next-token candidates survived. ▁hollow\n",
      "BANNED (prompt_idx=13, type=slop_phrase, phrase='hollow')                \n",
      "Batch Generating:   0%|          | 0/39 [00:53<?, ?prompt/s, 271.0 tok/s]"
     ]
    },
    {
     "name": "stderr",
     "output_type": "stream",
     "text": [
      "2025-05-17 16:42:52,058 [ERROR] [core.sampler        ]: Back-track: no valid next-token candidates survived.\n",
      "2025-05-17 16:42:52,250 [ERROR] [core.sampler        ]: Back-track: no valid next-token candidates survived.\n"
     ]
    },
    {
     "name": "stdout",
     "output_type": "stream",
     "text": [
      "BANNED (prompt_idx=17, type=ngram, ngram='almost imperceptible')         \n",
      "Batch Generating:   0%|          | 0/39 [00:53<?, ?prompt/s, 264.9 tok/s]Back-track: no valid next-token candidates survived. ▁eyes\n",
      "BANNED (prompt_idx=12, type=ngram, ngram='eyes fixed')                   \n",
      "BANNED (prompt_idx=10, type=slop_phrase, phrase='profound')              \n",
      "BANNED (prompt_idx=27, type=slop_phrase, phrase='meticulously')          \n",
      "BANNED (prompt_idx=38, type=ngram, ngram='leaving behind')               \n",
      "BANNED (prompt_idx=15, type=slop_phrase, phrase='surge')                 \n",
      "BANNED (prompt_idx=30, type=slop_phrase, phrase='profound')              \n",
      "BANNED (prompt_idx=25, type=slop_phrase, phrase='gaze')                  \n",
      "BANNED (prompt_idx=4, type=slop_phrase, phrase='countless')              \n",
      "BANNED (prompt_idx=16, type=slop_phrase, phrase='gleaming')              \n",
      "BANNED (prompt_idx=32, type=slop_phrase, phrase='chaotic')               \n",
      "BANNED (prompt_idx=34, type=slop_phrase, phrase='faint')                 \n",
      "BANNED (prompt_idx=22, type=ngram, ngram='felt like')                    \n",
      "BANNED (prompt_idx=0, type=slop_phrase, phrase='polished')               \n",
      "BANNED (prompt_idx=2, type=slop_phrase, phrase='voice a low rumble')     \n",
      "BANNED (prompt_idx=31, type=slop_phrase, phrase='scent')                 \n",
      "BANNED (prompt_idx=5, type=slop_phrase, phrase='like polished obsidian') \n",
      "BANNED (prompt_idx=8, type=slop_phrase, phrase='paused')                 \n",
      "BANNED (prompt_idx=24, type=slop_phrase, phrase='faint')                 \n",
      "BANNED (prompt_idx=7, type=slop_phrase, phrase='profound')               \n",
      "BANNED (prompt_idx=13, type=slop_phrase, phrase='curiosity')             \n",
      "BANNED (prompt_idx=21, type=slop_phrase, phrase='despair')               \n",
      "BANNED (prompt_idx=33, type=slop_phrase, phrase='froze')                 \n",
      "BANNED (prompt_idx=23, type=slop_phrase, phrase='demon')                 \n",
      "BANNED (prompt_idx=3, type=slop_phrase, phrase='unwavering')             \n",
      "BANNED (prompt_idx=12, type=slop_phrase, phrase='swirling')              \n",
      "Batch Generating:   0%|          | 0/39 [00:55<?, ?prompt/s, 241.3 tok/s]"
     ]
    },
    {
     "name": "stderr",
     "output_type": "stream",
     "text": [
      "2025-05-17 16:42:54,603 [ERROR] [core.sampler        ]: Back-track: no valid next-token candidates survived.\n"
     ]
    },
    {
     "name": "stdout",
     "output_type": "stream",
     "text": [
      "Back-track: no valid next-token candidates survived. ▁replaced\n",
      "BANNED (prompt_idx=38, type=slop_phrase, phrase='laced')                 \n",
      "BANNED (prompt_idx=25, type=slop_phrase, phrase='unsettling')            \n",
      "BANNED (prompt_idx=29, type=slop_phrase, phrase='gently')                \n",
      "BANNED (prompt_idx=16, type=slop_phrase, phrase='intricate')             \n",
      "BANNED (prompt_idx=4, type=slop_phrase, phrase='countless')              \n",
      "BANNED (prompt_idx=22, type=slop_phrase, phrase='chilling')              \n",
      "BANNED (prompt_idx=18, type=ngram, ngram='began voice')                  \n",
      "BANNED (prompt_idx=32, type=slop_phrase, phrase='terrifying')            \n",
      "BANNED (prompt_idx=36, type=slop_phrase, phrase='hint')                  \n",
      "BANNED (prompt_idx=27, type=slop_phrase, phrase='meticulously')          \n",
      "BANNED (prompt_idx=0, type=slop_phrase, phrase='polished')               \n",
      "BANNED (prompt_idx=6, type=slop_phrase, phrase='echo')                   \n",
      "BANNED (prompt_idx=5, type=slop_phrase, phrase='polished')               \n",
      "BANNED (prompt_idx=3, type=slop_phrase, phrase='unwavering')             \n",
      "BANNED (prompt_idx=39, type=slop_phrase, phrase='subtle')                \n",
      "BANNED (prompt_idx=25, type=slop_phrase, phrase='gaze')                  \n",
      "BANNED (prompt_idx=37, type=slop_phrase, phrase='gleaming')              \n",
      "Batch Generating:   0%|          | 0/39 [00:57<?, ?prompt/s, 229.6 tok/s]Back-track: no valid next-token candidates survived. ▁hollow\n",
      "BANNED (prompt_idx=13, type=slop_phrase, phrase='hollow')                \n",
      "Batch Generating:   0%|          | 0/39 [00:57<?, ?prompt/s, 240.9 tok/s]"
     ]
    },
    {
     "name": "stderr",
     "output_type": "stream",
     "text": [
      "2025-05-17 16:42:56,394 [ERROR] [core.sampler        ]: Back-track: no valid next-token candidates survived.\n"
     ]
    },
    {
     "name": "stdout",
     "output_type": "stream",
     "text": [
      "BANNED (prompt_idx=7, type=slop_phrase, phrase='stumbled')               \n",
      "BANNED (prompt_idx=14, type=regex, regex='\\bnot\\s+(?:just|only|merely)?\\s*(?:[^\\s]+\\s*){1,6}?[,;:—–-]?\\s*but\\s+(?:also\\s+)?', match='Not just for personal safety, but ')\n",
      "BANNED (prompt_idx=33, type=slop_phrase, phrase='froze')                 \n",
      "Batch Generating:   0%|          | 0/39 [00:57<?, ?prompt/s, 234.0 tok/s]Back-track: no valid next-token candidates survived. ▁replaced\n",
      "BANNED (prompt_idx=38, type=slop_phrase, phrase='laced')                 \n",
      "BANNED (prompt_idx=21, type=slop_phrase, phrase='desperation')           \n",
      "Batch Generating:   0%|          | 0/39 [00:57<?, ?prompt/s, 237.4 tok/s]"
     ]
    },
    {
     "name": "stderr",
     "output_type": "stream",
     "text": [
      "2025-05-17 16:42:56,820 [ERROR] [core.sampler        ]: Back-track: no valid next-token candidates survived.\n"
     ]
    },
    {
     "name": "stdout",
     "output_type": "stream",
     "text": [
      "BANNED (prompt_idx=16, type=slop_phrase, phrase='intricate')             \n",
      "BANNED (prompt_idx=4, type=slop_phrase, phrase='meticulously')           \n",
      "BANNED (prompt_idx=32, type=slop_phrase, phrase='unsettling')            \n",
      "BANNED (prompt_idx=11, type=slop_phrase, phrase='chilling')              \n",
      "BANNED (prompt_idx=18, type=ngram, ngram='said voice')                   \n",
      "BANNED (prompt_idx=25, type=slop_phrase, phrase='polished')              \n",
      "BANNED (prompt_idx=34, type=slop_phrase, phrase='pulse')                 \n",
      "BANNED (prompt_idx=37, type=slop_phrase, phrase='gleaming')              \n",
      "BANNED (prompt_idx=14, type=slop_phrase, phrase='chaotic')               \n",
      "BANNED (prompt_idx=33, type=slop_phrase, phrase='froze')                 \n",
      "BANNED (prompt_idx=22, type=slop_phrase, phrase='subtle')                \n",
      "BANNED (prompt_idx=17, type=slop_phrase, phrase='demon')                 \n",
      "Batch Generating:   0%|          | 0/39 [01:00<?, ?prompt/s, 266.1 tok/s]Back-track: no valid next-token candidates survived. ▁replaced\n",
      "BANNED (prompt_idx=38, type=slop_phrase, phrase='laced')                 \n",
      "BANNED (prompt_idx=16, type=slop_phrase, phrase='intricate')             \n",
      "Batch Generating:   0%|          | 0/39 [01:00<?, ?prompt/s, 260.9 tok/s]"
     ]
    },
    {
     "name": "stderr",
     "output_type": "stream",
     "text": [
      "2025-05-17 16:42:59,088 [ERROR] [core.sampler        ]: Back-track: no valid next-token candidates survived.\n"
     ]
    },
    {
     "name": "stdout",
     "output_type": "stream",
     "text": [
      "BANNED (prompt_idx=3, type=slop_phrase, phrase='flicker')                \n",
      "BANNED (prompt_idx=5, type=slop_phrase, phrase='smile playing on his lips')\n",
      "BANNED (prompt_idx=2, type=slop_phrase, phrase='said, his voice a low')  \n",
      "BANNED (prompt_idx=32, type=slop_phrase, phrase='profound')              \n",
      "BANNED (prompt_idx=23, type=slop_phrase, phrase='silas')                 \n",
      "BANNED (prompt_idx=0, type=slop_phrase, phrase='said, his voice a low')  \n",
      "BANNED (prompt_idx=15, type=slop_phrase, phrase='desperation')           \n",
      "BANNED (prompt_idx=25, type=slop_phrase, phrase='echo')                  \n",
      "BANNED (prompt_idx=35, type=ngram, ngram='young man')                    \n",
      "BANNED (prompt_idx=6, type=slop_phrase, phrase='frantic')                \n",
      "BANNED (prompt_idx=22, type=slop_phrase, phrase='faint')                 \n",
      "BANNED (prompt_idx=27, type=slop_phrase, phrase='profound')              \n",
      "BANNED (prompt_idx=37, type=slop_phrase, phrase='gleaming')              \n",
      "BANNED (prompt_idx=7, type=slop_phrase, phrase='overwhelming')           \n",
      "BANNED (prompt_idx=28, type=slop_phrase, phrase='realization')           \n",
      "BANNED (prompt_idx=3, type=slop_phrase, phrase='rhythm')                 \n",
      "BANNED (prompt_idx=34, type=slop_phrase, phrase='unsettling')            \n",
      "BANNED (prompt_idx=16, type=slop_phrase, phrase='intricate')             \n",
      "BANNED (prompt_idx=2, type=slop_phrase, phrase='voice a low rumble')     \n",
      "BANNED (prompt_idx=0, type=slop_phrase, phrase='murmured')               \n",
      "BANNED (prompt_idx=1, type=slop_phrase, phrase='frantic')                \n",
      "BANNED (prompt_idx=19, type=ngram, ngram='said voice')                   \n",
      "BANNED (prompt_idx=26, type=slop_phrase, phrase='flicker')               \n",
      "BANNED (prompt_idx=15, type=slop_phrase, phrase='testament')             \n",
      "BANNED (prompt_idx=22, type=slop_phrase, phrase='unsettling')            \n",
      "BANNED (prompt_idx=24, type=slop_phrase, phrase='frantic')               \n",
      "BANNED (prompt_idx=36, type=slop_phrase, phrase='polished')              \n",
      "BANNED (prompt_idx=31, type=slop_phrase, phrase='fragile')               \n",
      "BANNED (prompt_idx=3, type=slop_phrase, phrase='rhythm')                 \n",
      "BANNED (prompt_idx=13, type=ngram, ngram='felt different')               \n",
      "BANNED (prompt_idx=14, type=slop_phrase, phrase='shifted')               \n",
      "BANNED (prompt_idx=33, type=slop_phrase, phrase='gaze')                  \n",
      "BANNED (prompt_idx=16, type=slop_phrase, phrase='intricate')             \n",
      "BANNED (prompt_idx=37, type=slop_phrase, phrase='polished')              \n",
      "BANNED (prompt_idx=27, type=slop_phrase, phrase='profound')              \n",
      "BANNED (prompt_idx=25, type=slop_phrase, phrase='lyra')                  \n",
      "BANNED (prompt_idx=4, type=slop_phrase, phrase='meticulously')           \n",
      "BANNED (prompt_idx=32, type=slop_phrase, phrase='overwhelming')          \n",
      "BANNED (prompt_idx=39, type=slop_phrase, phrase='gestured')              \n",
      "BANNED (prompt_idx=34, type=slop_phrase, phrase='rhythm')                \n",
      "BANNED (prompt_idx=0, type=slop_phrase, phrase='said, his voice a low')  \n",
      "BANNED (prompt_idx=29, type=slop_phrase, phrase='fabric')                \n",
      "BANNED (prompt_idx=22, type=ngram, ngram='almost imperceptible')         \n",
      "BANNED (prompt_idx=26, type=slop_phrase, phrase='rhythm')                \n",
      "BANNED (prompt_idx=15, type=slop_phrase, phrase='echo')                  \n",
      "BANNED (prompt_idx=23, type=slop_phrase, phrase='shadows')               \n",
      "BANNED (prompt_idx=11, type=regex, regex='\\bnot\\s+(?:just|only|merely)?\\s*(?:[^\\s]+\\s*){1,6}?[,;:—–-]?\\s*but\\s+(?:also\\s+)?', match='not for the sake of understanding, but ')\n",
      "BANNED (prompt_idx=18, type=slop_phrase, phrase='meticulously')          \n",
      "BANNED (prompt_idx=13, type=slop_phrase, phrase='pale')                  \n",
      "BANNED (prompt_idx=10, type=slop_phrase, phrase='clara')                 \n",
      "BANNED (prompt_idx=16, type=slop_phrase, phrase='swirling')              \n",
      "BANNED (prompt_idx=36, type=slop_phrase, phrase='polished')              \n",
      "BANNED (prompt_idx=7, type=regex, regex='\\bnot\\s+(?:just|only|merely)?\\s*(?:[^\\s]+\\s*){1,6}?[,;:—–-]?\\s*but\\s+(?:also\\s+)?', match='Not a shout, not a command, but ')\n",
      "BANNED (prompt_idx=37, type=slop_phrase, phrase='holographic')           \n",
      "BANNED (prompt_idx=25, type=slop_phrase, phrase='thorne')                \n",
      "BANNED (prompt_idx=2, type=slop_phrase, phrase='elias')                  \n",
      "BANNED (prompt_idx=4, type=slop_phrase, phrase='chilling')               \n",
      "Batch Generating:   0%|          | 0/39 [01:06<?, ?prompt/s, 245.1 tok/s]"
     ]
    },
    {
     "name": "stderr",
     "output_type": "stream",
     "text": [
      "2025-05-17 16:43:05,701 [ERROR] [core.sampler        ]: Back-track: no valid next-token candidates survived.\n"
     ]
    },
    {
     "name": "stdout",
     "output_type": "stream",
     "text": [
      "Back-track: no valid next-token candidates survived. ▁unsettling\n",
      "BANNED (prompt_idx=22, type=slop_phrase, phrase='unsettling')            \n",
      "BANNED (prompt_idx=32, type=slop_phrase, phrase='overwhelming')          \n",
      "BANNED (prompt_idx=20, type=slop_phrase, phrase='gently')                \n",
      "BANNED (prompt_idx=3, type=slop_phrase, phrase='whisper')                \n",
      "BANNED (prompt_idx=0, type=ngram, ngram='voice low')                     \n",
      "BANNED (prompt_idx=29, type=slop_phrase, phrase='sigh')                  \n",
      "BANNED (prompt_idx=8, type=slop_phrase, phrase='sigh')                   \n",
      "BANNED (prompt_idx=26, type=slop_phrase, phrase='grin')                  \n",
      "BANNED (prompt_idx=16, type=slop_phrase, phrase='swirling')              \n",
      "BANNED (prompt_idx=15, type=slop_phrase, phrase='erupted')               \n",
      "BANNED (prompt_idx=10, type=slop_phrase, phrase='warmth')                \n",
      "BANNED (prompt_idx=23, type=slop_phrase, phrase='silas')                 \n",
      "Batch Generating:   0%|          | 0/39 [01:08<?, ?prompt/s, 225.7 tok/s]Back-track: no valid next-token candidates survived. ▁Ly\n",
      "BANNED (prompt_idx=25, type=slop_phrase, phrase='lyra')                  \n",
      "BANNED (prompt_idx=33, type=slop_phrase, phrase='laced')                 \n",
      "Batch Generating:   0%|          | 0/39 [01:08<?, ?prompt/s, 229.9 tok/s]"
     ]
    },
    {
     "name": "stderr",
     "output_type": "stream",
     "text": [
      "2025-05-17 16:43:07,210 [ERROR] [core.sampler        ]: Back-track: no valid next-token candidates survived.\n"
     ]
    },
    {
     "name": "stdout",
     "output_type": "stream",
     "text": [
      "BANNED (prompt_idx=37, type=slop_phrase, phrase='intricate')             \n",
      "BANNED (prompt_idx=7, type=slop_phrase, phrase='whisper')                \n",
      "BANNED (prompt_idx=2, type=slop_phrase, phrase='silas')                  \n",
      "BANNED (prompt_idx=36, type=slop_phrase, phrase='unsettling')            \n",
      "Batch Generating:   0%|          | 0/39 [01:08<?, ?prompt/s, 244.6 tok/s]Back-track: no valid next-token candidates survived. ▁unsettling\n",
      "BANNED (prompt_idx=22, type=slop_phrase, phrase='unsettling')            \n",
      "Batch Generating:   0%|          | 0/39 [01:08<?, ?prompt/s, 245.8 tok/s]"
     ]
    },
    {
     "name": "stderr",
     "output_type": "stream",
     "text": [
      "2025-05-17 16:43:07,591 [ERROR] [core.sampler        ]: Back-track: no valid next-token candidates survived.\n"
     ]
    },
    {
     "name": "stdout",
     "output_type": "stream",
     "text": [
      "BANNED (prompt_idx=3, type=slop_phrase, phrase='subtle')                 \n",
      "BANNED (prompt_idx=28, type=slop_phrase, phrase='utterly')               \n",
      "BANNED (prompt_idx=0, type=slop_phrase, phrase='sound like wind')        \n",
      "BANNED (prompt_idx=19, type=slop_phrase, phrase='frantic')               \n",
      "BANNED (prompt_idx=8, type=slop_phrase, phrase='paused')                 \n",
      "BANNED (prompt_idx=39, type=slop_phrase, phrase='surge')                 \n",
      "BANNED (prompt_idx=16, type=slop_phrase, phrase='meticulously')          \n",
      "BANNED (prompt_idx=26, type=slop_phrase, phrase='metallic')              \n",
      "BANNED (prompt_idx=15, type=slop_phrase, phrase='flicker')               \n",
      "BANNED (prompt_idx=35, type=slop_phrase, phrase='flicker')               \n",
      "BANNED (prompt_idx=10, type=slop_phrase, phrase='warmth')                \n",
      "BANNED (prompt_idx=33, type=slop_phrase, phrase='void')                  \n",
      "BANNED (prompt_idx=5, type=slop_phrase, phrase='relentless')             \n",
      "BANNED (prompt_idx=13, type=regex, regex='\\bnot\\s+(?:just|only|merely)?\\s*(?:[^\\s]+\\s*){1,6}?[,;:—–-]?\\s*but\\s+(?:also\\s+)?', match='Not physically, but ')\n",
      "Batch Generating:   0%|          | 0/39 [01:10<?, ?prompt/s, 229.6 tok/s]Back-track: no valid next-token candidates survived. ▁Ly\n",
      "BANNED (prompt_idx=25, type=slop_phrase, phrase='lyra')                  \n",
      "BANNED (prompt_idx=3, type=slop_phrase, phrase='unease')                 \n",
      "Batch Generating:   0%|          | 0/39 [01:10<?, ?prompt/s, 231.3 tok/s]"
     ]
    },
    {
     "name": "stderr",
     "output_type": "stream",
     "text": [
      "2025-05-17 16:43:09,505 [ERROR] [core.sampler        ]: Back-track: no valid next-token candidates survived.\n",
      "2025-05-17 16:43:09,582 [ERROR] [core.sampler        ]: Back-track: no valid next-token candidates survived.\n"
     ]
    },
    {
     "name": "stdout",
     "output_type": "stream",
     "text": [
      "BANNED (prompt_idx=30, type=slop_phrase, phrase='realization')           \n",
      "Batch Generating:   0%|          | 0/39 [01:10<?, ?prompt/s, 235.8 tok/s]Back-track: no valid next-token candidates survived. ▁unsettling\n",
      "BANNED (prompt_idx=22, type=slop_phrase, phrase='unsettling')            \n",
      "BANNED (prompt_idx=37, type=slop_phrase, phrase='shimmering')            \n",
      "BANNED (prompt_idx=2, type=slop_phrase, phrase='laced')                  \n",
      "BANNED (prompt_idx=4, type=slop_phrase, phrase='muttered')               \n",
      "BANNED (prompt_idx=32, type=slop_phrase, phrase='fragile')               \n",
      "BANNED (prompt_idx=0, type=slop_phrase, phrase='mortal')                 \n",
      "BANNED (prompt_idx=23, type=slop_phrase, phrase='silas')                 \n",
      "BANNED (prompt_idx=18, type=slop_phrase, phrase='shifted')               \n",
      "BANNED (prompt_idx=6, type=slop_phrase, phrase='intricate')              \n",
      "BANNED (prompt_idx=16, type=slop_phrase, phrase='glow')                  \n",
      "BANNED (prompt_idx=8, type=slop_phrase, phrase='sigh')                   \n",
      "BANNED (prompt_idx=29, type=slop_phrase, phrase='testament')             \n",
      "BANNED (prompt_idx=3, type=slop_phrase, phrase='dread')                  \n",
      "BANNED (prompt_idx=27, type=slop_phrase, phrase='chilling')              \n",
      "Batch Generating:   0%|          | 0/39 [01:12<?, ?prompt/s, 224.3 tok/s]Back-track: no valid next-token candidates survived. ▁Ly\n",
      "                                                                         "
     ]
    },
    {
     "name": "stderr",
     "output_type": "stream",
     "text": [
      "2025-05-17 16:43:11,406 [ERROR] [core.sampler        ]: Back-track: no valid next-token candidates survived.\n"
     ]
    },
    {
     "name": "stdout",
     "output_type": "stream",
     "text": [
      "BANNED (prompt_idx=25, type=slop_phrase, phrase='lyra')\n",
      "BANNED (prompt_idx=26, type=slop_phrase, phrase='rhythm')                \n",
      "BANNED (prompt_idx=15, type=slop_phrase, phrase='amusement')             \n",
      "BANNED (prompt_idx=10, type=slop_phrase, phrase='vibrant')               \n",
      "BANNED (prompt_idx=5, type=slop_phrase, phrase='grin')                   \n",
      "BANNED (prompt_idx=22, type=ngram, ngram='could feel')                   \n",
      "BANNED (prompt_idx=33, type=slop_phrase, phrase='utterly')               \n",
      "BANNED (prompt_idx=35, type=slop_phrase, phrase='shifted')               \n",
      "BANNED (prompt_idx=37, type=slop_phrase, phrase='holographic')           \n",
      "BANNED (prompt_idx=34, type=slop_phrase, phrase='muttered')              \n",
      "BANNED (prompt_idx=7, type=slop_phrase, phrase='realization')            \n",
      "BANNED (prompt_idx=4, type=slop_phrase, phrase='murmured')               \n",
      "BANNED (prompt_idx=0, type=slop_phrase, phrase='swallowed')              \n",
      "BANNED (prompt_idx=32, type=slop_phrase, phrase='utterly')               \n",
      "BANNED (prompt_idx=30, type=slop_phrase, phrase='unsettling')            \n",
      "BANNED (prompt_idx=31, type=slop_phrase, phrase='something else entirely')\n",
      "BANNED (prompt_idx=8, type=slop_phrase, phrase='gaze')                   \n",
      "BANNED (prompt_idx=3, type=slop_phrase, phrase='unsettling')             \n",
      "BANNED (prompt_idx=19, type=slop_phrase, phrase='relentless')            \n",
      "BANNED (prompt_idx=21, type=slop_phrase, phrase='laced')                 \n",
      "BANNED (prompt_idx=18, type=slop_phrase, phrase='shimmered')             \n",
      "BANNED (prompt_idx=38, type=slop_phrase, phrase='fragile')               \n",
      "BANNED (prompt_idx=6, type=slop_phrase, phrase='intricate')              \n",
      "Batch Generating:   0%|          | 0/39 [01:14<?, ?prompt/s, 189.1 tok/s]Back-track: no valid next-token candidates survived. ▁unsettling\n",
      "BANNED (prompt_idx=22, type=slop_phrase, phrase='unsettling')            \n",
      "BANNED (prompt_idx=25, type=ngram, ngram='said voice')                   \n",
      "BANNED (prompt_idx=29, type=slop_phrase, phrase='intricate')             \n",
      "Batch Generating:   0%|          | 0/39 [01:14<?, ?prompt/s, 187.6 tok/s]"
     ]
    },
    {
     "name": "stderr",
     "output_type": "stream",
     "text": [
      "2025-05-17 16:43:13,435 [ERROR] [core.sampler        ]: Back-track: no valid next-token candidates survived.\n"
     ]
    },
    {
     "name": "stdout",
     "output_type": "stream",
     "text": [
      "BANNED (prompt_idx=10, type=slop_phrase, phrase='warmth')                \n",
      "BANNED (prompt_idx=2, type=slop_phrase, phrase='profound')               \n",
      "BANNED (prompt_idx=33, type=slop_phrase, phrase='chuckled')              \n",
      "BANNED (prompt_idx=15, type=slop_phrase, phrase='amusement')             \n",
      "Batch Generating:   0%|          | 0/39 [01:15<?, ?prompt/s, 194.7 tok/s]Back-track: no valid next-token candidates survived. "
     ]
    },
    {
     "name": "stderr",
     "output_type": "stream",
     "text": [
      "2025-05-17 16:43:14,255 [ERROR] [core.sampler        ]: Back-track: no valid next-token candidates survived.\n",
      "2025-05-17 16:43:14,387 [ERROR] [core.sampler        ]: Back-track: no valid next-token candidates survived.\n"
     ]
    },
    {
     "name": "stdout",
     "output_type": "stream",
     "text": [
      "▁glowing\n",
      "BANNED (prompt_idx=37, type=slop_phrase, phrase='glow')                  \n",
      "Batch Generating:   0%|          | 0/39 [01:15<?, ?prompt/s, 203.9 tok/s]Back-track: no valid next-token candidates survived. ▁muttered\n",
      "BANNED (prompt_idx=4, type=slop_phrase, phrase='muttered')               \n",
      "BANNED (prompt_idx=0, type=slop_phrase, phrase='felt a cold dread')      \n",
      "BANNED (prompt_idx=32, type=slop_phrase, phrase='fragile')               \n",
      "BANNED (prompt_idx=7, type=slop_phrase, phrase='chilling')               \n",
      "BANNED (prompt_idx=16, type=slop_phrase, phrase='hint')                  \n",
      "BANNED (prompt_idx=3, type=ngram, ngram='deep within')                   \n",
      "BANNED (prompt_idx=34, type=ngram, ngram='voice echoing')                \n",
      "BANNED (prompt_idx=8, type=slop_phrase, phrase='gaze')                   \n",
      "BANNED (prompt_idx=20, type=slop_phrase, phrase='glow')                  \n",
      "Batch Generating:   0%|          | 0/39 [01:16<?, ?prompt/s, 160.7 tok/s]Back-track: no valid next-token candidates survived. ▁unsettling\n",
      "BANNED (prompt_idx=22, type=slop_phrase, phrase='unsettling')            \n",
      "BANNED (prompt_idx=12, type=slop_phrase, phrase='pulse')                 \n",
      "Batch Generating:   0%|          | 0/39 [01:16<?, ?prompt/s, 156.6 tok/s]Back-track: no valid next-token candidates survived. ▁Ly\n",
      "BANNED (prompt_idx=25, type=slop_phrase, phrase='lyra')                  \n",
      "Batch Generating:   0%|          | 0/39 [01:16<?, ?prompt/s, 159.7 tok/s]"
     ]
    },
    {
     "name": "stderr",
     "output_type": "stream",
     "text": [
      "2025-05-17 16:43:15,366 [ERROR] [core.sampler        ]: Back-track: no valid next-token candidates survived.\n",
      "2025-05-17 16:43:15,438 [ERROR] [core.sampler        ]: Back-track: no valid next-token candidates survived.\n"
     ]
    },
    {
     "name": "stdout",
     "output_type": "stream",
     "text": [
      "BANNED (prompt_idx=28, type=slop_phrase, phrase='desperation')           \n",
      "BANNED (prompt_idx=19, type=slop_phrase, phrase='unsettling')            \n",
      "BANNED (prompt_idx=30, type=slop_phrase, phrase='unsettling')            \n",
      "BANNED (prompt_idx=11, type=slop_phrase, phrase='unsettling')            \n",
      "BANNED (prompt_idx=38, type=slop_phrase, phrase='flicker')               \n",
      "BANNED (prompt_idx=23, type=slop_phrase, phrase='lyra')                  \n",
      "BANNED (prompt_idx=24, type=ngram, ngram='let see')                      \n",
      "BANNED (prompt_idx=10, type=slop_phrase, phrase='warmth')                \n",
      "BANNED (prompt_idx=5, type=slop_phrase, phrase='laced')                  \n",
      "BANNED (prompt_idx=18, type=slop_phrase, phrase='shifted')               \n",
      "BANNED (prompt_idx=29, type=slop_phrase, phrase='etched')                \n",
      "BANNED (prompt_idx=17, type=slop_phrase, phrase='rhythm')                \n",
      "Batch Generating:   0%|          | 0/39 [01:17<?, ?prompt/s, 175.2 tok/s]Back-track: no valid next-token candidates survived. ▁glowing\n",
      "BANNED (prompt_idx=37, type=slop_phrase, phrase='glow')                  \n",
      "BANNED (prompt_idx=26, type=slop_phrase, phrase='tightened')             \n",
      "BANNED (prompt_idx=0, type=slop_phrase, phrase='first time since')       \n",
      "BANNED (prompt_idx=15, type=ngram, ngram='said voice')                   \n",
      "Batch Generating:   0%|          | 0/39 [01:17<?, ?prompt/s, 196.7 tok/s]"
     ]
    },
    {
     "name": "stderr",
     "output_type": "stream",
     "text": [
      "2025-05-17 16:43:16,505 [ERROR] [core.sampler        ]: Back-track: no valid next-token candidates survived.\n",
      "2025-05-17 16:43:16,688 [ERROR] [core.sampler        ]: Back-track: no valid next-token candidates survived.\n"
     ]
    },
    {
     "name": "stdout",
     "output_type": "stream",
     "text": [
      "Back-track: no valid next-token candidates survived. ▁muttered\n",
      "BANNED (prompt_idx=4, type=slop_phrase, phrase='muttered')               \n",
      "BANNED (prompt_idx=32, type=slop_phrase, phrase='utterly')               \n",
      "BANNED (prompt_idx=16, type=slop_phrase, phrase='faint')                 \n",
      "BANNED (prompt_idx=35, type=slop_phrase, phrase='obsidian')              \n",
      "BANNED (prompt_idx=7, type=slop_phrase, phrase='unsettling')             \n",
      "BANNED (prompt_idx=22, type=slop_phrase, phrase='shadows')               \n",
      "BANNED (prompt_idx=14, type=regex, regex='\\bnot\\s+(?:just|only|merely)?\\s*(?:[^\\s]+\\s*){1,6}?[,;:—–-]?\\s*but\\s+(?:also\\s+)?', match='Not preventing, but ')\n",
      "BANNED (prompt_idx=25, type=slop_phrase, phrase='gestured')              \n",
      "BANNED (prompt_idx=8, type=slop_phrase, phrase='flicker')                \n",
      "BANNED (prompt_idx=34, type=ngram, ngram='voice echoing')                \n",
      "BANNED (prompt_idx=20, type=slop_phrase, phrase='sigh')                  \n",
      "BANNED (prompt_idx=19, type=slop_phrase, phrase='chilling')              \n",
      "BANNED (prompt_idx=31, type=slop_phrase, phrase='holographic')           \n",
      "BANNED (prompt_idx=28, type=slop_phrase, phrase='despair')               \n",
      "BANNED (prompt_idx=38, type=slop_phrase, phrase='fragile')               \n",
      "BANNED (prompt_idx=10, type=ngram, ngram='face etched')                  \n",
      "BANNED (prompt_idx=5, type=slop_phrase, phrase='swallowed')              \n",
      "BANNED (prompt_idx=36, type=slop_phrase, phrase='pulse')                 \n",
      "BANNED (prompt_idx=23, type=slop_phrase, phrase='silas')                 \n",
      "BANNED (prompt_idx=33, type=slop_phrase, phrase='demon')                 \n",
      "BANNED (prompt_idx=37, type=slop_phrase, phrase='holographic')           \n",
      "BANNED (prompt_idx=0, type=ngram, ngram='first time')                    \n",
      "BANNED (prompt_idx=29, type=slop_phrase, phrase='meticulously')          \n",
      "BANNED (prompt_idx=30, type=slop_phrase, phrase='terrifying')            \n",
      "BANNED (prompt_idx=18, type=slop_phrase, phrase='shimmering')            \n",
      "BANNED (prompt_idx=17, type=slop_phrase, phrase='rhythm')                \n",
      "Batch Generating:   0%|          | 0/39 [01:19<?, ?prompt/s, 139.1 tok/s]"
     ]
    },
    {
     "name": "stderr",
     "output_type": "stream",
     "text": [
      "2025-05-17 16:43:18,980 [ERROR] [core.sampler        ]: Back-track: no valid next-token candidates survived.\n",
      "2025-05-17 16:43:19,070 [ERROR] [core.sampler        ]: Back-track: no valid next-token candidates survived.\n"
     ]
    },
    {
     "name": "stdout",
     "output_type": "stream",
     "text": [
      "Back-track: no valid next-token candidates survived. ▁unsettling\n",
      "BANNED (prompt_idx=22, type=slop_phrase, phrase='unsettling')            \n",
      "BANNED (prompt_idx=16, type=slop_phrase, phrase='amusement')             \n",
      "BANNED (prompt_idx=13, type=slop_phrase, phrase='overwhelming')          \n",
      "Batch Generating:   0%|          | 0/39 [01:20<?, ?prompt/s, 148.9 tok/s]Back-track: no valid next-token candidates survived. ▁muttered\n",
      "BANNED (prompt_idx=4, type=slop_phrase, phrase='muttered')               \n",
      "Batch Generating:   0%|          | 0/39 [01:20<?, ?prompt/s, 154.1 tok/s]Back-track: no valid next-token candidates survived. ▁Ly\n",
      "BANNED (prompt_idx=25, type=slop_phrase, phrase='lyra')                  \n",
      "BANNED (prompt_idx=7, type=slop_phrase, phrase='realization')            \n",
      "BANNED (prompt_idx=35, type=slop_phrase, phrase='scent')                 \n",
      "BANNED (prompt_idx=8, type=ngram, ngram='carefully constructed')         \n",
      "Batch Generating:   0%|          | 0/39 [01:20<?, ?prompt/s, 154.3 tok/s]"
     ]
    },
    {
     "name": "stderr",
     "output_type": "stream",
     "text": [
      "2025-05-17 16:43:19,255 [ERROR] [core.sampler        ]: Back-track: no valid next-token candidates survived.\n"
     ]
    },
    {
     "name": "stdout",
     "output_type": "stream",
     "text": [
      "BANNED (prompt_idx=14, type=slop_phrase, phrase='void')                  \n",
      "BANNED (prompt_idx=3, type=slop_phrase, phrase='unsettling')             \n",
      "BANNED (prompt_idx=19, type=slop_phrase, phrase='gently')                \n",
      "BANNED (prompt_idx=10, type=slop_phrase, phrase='etched')                \n",
      "BANNED (prompt_idx=5, type=slop_phrase, phrase='laced')                  \n",
      "BANNED (prompt_idx=38, type=slop_phrase, phrase='void')                  \n",
      "BANNED (prompt_idx=31, type=slop_phrase, phrase='brow')                  \n",
      "Batch Generating:   0%|          | 0/39 [01:21<?, ?prompt/s, 152.9 tok/s]Back-track: no valid next-token candidates survived. ▁unsettling\n",
      "BANNED (prompt_idx=22, type=slop_phrase, phrase='unsettling')            \n",
      "BANNED (prompt_idx=24, type=slop_phrase, phrase='revealing')             \n",
      "BANNED (prompt_idx=0, type=ngram, ngram='first time')                    \n",
      "Batch Generating:   0%|          | 0/39 [01:22<?, ?prompt/s, 152.3 tok/s]"
     ]
    },
    {
     "name": "stderr",
     "output_type": "stream",
     "text": [
      "2025-05-17 16:43:20,967 [ERROR] [core.sampler        ]: Back-track: no valid next-token candidates survived.\n",
      "2025-05-17 16:43:21,097 [ERROR] [core.sampler        ]: Back-track: no valid next-token candidates survived.\n"
     ]
    },
    {
     "name": "stdout",
     "output_type": "stream",
     "text": [
      "Batch Generating:   0%|          | 0/39 [01:22<?, ?prompt/s, 155.4 tok/s]Back-track: no valid next-token candidates survived. ▁glowing\n",
      "BANNED (prompt_idx=37, type=slop_phrase, phrase='glow')                  \n",
      "BANNED (prompt_idx=11, type=slop_phrase, phrase='chilling')              \n",
      "Batch Generating:   0%|          | 0/39 [01:22<?, ?prompt/s, 154.6 tok/s]Back-track: no valid next-token candidates survived. ▁Ly\n",
      "BANNED (prompt_idx=25, type=slop_phrase, phrase='lyra')                  \n",
      "BANNED (prompt_idx=16, type=slop_phrase, phrase='amusement')             \n",
      "BANNED (prompt_idx=36, type=slop_phrase, phrase='pulse')                 \n",
      "Batch Generating:   0%|          | 0/39 [01:22<?, ?prompt/s, 153.9 tok/s]"
     ]
    },
    {
     "name": "stderr",
     "output_type": "stream",
     "text": [
      "2025-05-17 16:43:21,301 [ERROR] [core.sampler        ]: Back-track: no valid next-token candidates survived.\n"
     ]
    },
    {
     "name": "stdout",
     "output_type": "stream",
     "text": [
      "BANNED (prompt_idx=23, type=slop_phrase, phrase='lyra')                  \n",
      "BANNED (prompt_idx=29, type=slop_phrase, phrase='delicate')              \n",
      "BANNED (prompt_idx=4, type=ngram, ngram='voice echoing')                 \n",
      "BANNED (prompt_idx=13, type=slop_phrase, phrase='relentless')            \n",
      "BANNED (prompt_idx=3, type=slop_phrase, phrase='chaotic')                \n",
      "BANNED (prompt_idx=8, type=slop_phrase, phrase='flicker')                \n",
      "BANNED (prompt_idx=18, type=slop_phrase, phrase='erupted')               \n",
      "BANNED (prompt_idx=15, type=slop_phrase, phrase='demon')                 \n",
      "BANNED (prompt_idx=30, type=slop_phrase, phrase='unsettling')            \n",
      "BANNED (prompt_idx=35, type=slop_phrase, phrase='faint')                 \n",
      "BANNED (prompt_idx=6, type=ngram, ngram='something else')                \n",
      "BANNED (prompt_idx=39, type=ngram, ngram='said voice')                   \n",
      "BANNED (prompt_idx=1, type=slop_phrase, phrase='leaned')                 \n",
      "BANNED (prompt_idx=12, type=slop_phrase, phrase='hint')                  \n",
      "BANNED (prompt_idx=22, type=slop_phrase, phrase='sunlight')              \n",
      "BANNED (prompt_idx=5, type=slop_phrase, phrase='palpable')               \n",
      "BANNED (prompt_idx=0, type=slop_phrase, phrase='flicker')                \n",
      "BANNED (prompt_idx=25, type=slop_phrase, phrase='laced')                 \n",
      "BANNED (prompt_idx=2, type=regex, regex='\\bnot\\s+(?:just|only|merely)?\\s*(?:[^\\s]+\\s*){1,6}?[,;:—–-]?\\s*but\\s+(?:also\\s+)?', match='Not in a torrent, but ')\n",
      "Batch Generating:   0%|          | 0/39 [01:24<?, ?prompt/s, 160.7 tok/s]Back-track: no valid next-token candidates survived. ▁glowing\n",
      "BANNED (prompt_idx=37, type=slop_phrase, phrase='glow')                  \n",
      "Batch Generating:   0%|          | 0/39 [01:24<?, ?prompt/s, 165.9 tok/s]"
     ]
    },
    {
     "name": "stderr",
     "output_type": "stream",
     "text": [
      "2025-05-17 16:43:23,477 [ERROR] [core.sampler        ]: Back-track: no valid next-token candidates survived.\n"
     ]
    },
    {
     "name": "stdout",
     "output_type": "stream",
     "text": [
      "BANNED (prompt_idx=33, type=slop_phrase, phrase='froze')                 \n",
      "BANNED (prompt_idx=31, type=ngram, ngram='eyes narrowed')                \n",
      "BANNED (prompt_idx=3, type=slop_phrase, phrase='whisper')                \n",
      "Batch Generating:   0%|          | 0/39 [01:24<?, ?prompt/s, 165.0 tok/s]Back-track: no valid next-token candidates survived. ▁muttered\n",
      "BANNED (prompt_idx=4, type=slop_phrase, phrase='muttered')               \n",
      "Batch Generating:   0%|          | 0/39 [01:24<?, ?prompt/s, 175.6 tok/s]"
     ]
    },
    {
     "name": "stderr",
     "output_type": "stream",
     "text": [
      "2025-05-17 16:43:23,867 [ERROR] [core.sampler        ]: Back-track: no valid next-token candidates survived.\n"
     ]
    },
    {
     "name": "stdout",
     "output_type": "stream",
     "text": [
      "BANNED (prompt_idx=13, type=slop_phrase, phrase='relentless')            \n",
      "BANNED (prompt_idx=11, type=slop_phrase, phrase='flicker')               \n",
      "BANNED (prompt_idx=29, type=slop_phrase, phrase='shimmering')            \n",
      "BANNED (prompt_idx=8, type=ngram, ngram='something far')                 \n",
      "BANNED (prompt_idx=23, type=slop_phrase, phrase='like polished obsidian')\n",
      "BANNED (prompt_idx=26, type=slop_phrase, phrase='door creaked open')     \n",
      "Batch Generating:   0%|          | 0/39 [01:25<?, ?prompt/s, 156.5 tok/s]Back-track: no valid next-token candidates survived. ▁unsettling\n",
      "BANNED (prompt_idx=22, type=slop_phrase, phrase='unsettling')            \n",
      "BANNED (prompt_idx=35, type=slop_phrase, phrase='shimmering')            \n",
      "Batch Generating:   0%|          | 0/39 [01:25<?, ?prompt/s, 158.5 tok/s]"
     ]
    },
    {
     "name": "stderr",
     "output_type": "stream",
     "text": [
      "2025-05-17 16:43:24,556 [ERROR] [core.sampler        ]: Back-track: no valid next-token candidates survived.\n"
     ]
    },
    {
     "name": "stdout",
     "output_type": "stream",
     "text": [
      "BANNED (prompt_idx=18, type=slop_phrase, phrase='pulse')                 \n",
      "BANNED (prompt_idx=1, type=slop_phrase, phrase='subtle')                 \n",
      "BANNED (prompt_idx=5, type=slop_phrase, phrase='despair')                \n",
      "Batch Generating:   0%|          | 0/39 [01:26<?, ?prompt/s, 170.7 tok/s]Back-track: no valid next-token candidates survived. ▁Ly\n",
      "BANNED (prompt_idx=25, type=slop_phrase, phrase='lyra')                  \n",
      "BANNED (prompt_idx=0, type=slop_phrase, phrase='profound')               \n",
      "Batch Generating:   0%|          | 0/39 [01:26<?, ?prompt/s, 171.1 tok/s]"
     ]
    },
    {
     "name": "stderr",
     "output_type": "stream",
     "text": [
      "2025-05-17 16:43:25,292 [ERROR] [core.sampler        ]: Back-track: no valid next-token candidates survived.\n"
     ]
    },
    {
     "name": "stdout",
     "output_type": "stream",
     "text": [
      "BANNED (prompt_idx=39, type=slop_phrase, phrase='void')                  \n",
      "BANNED (prompt_idx=12, type=slop_phrase, phrase='chaotic')               \n",
      "BANNED (prompt_idx=3, type=slop_phrase, phrase='whisper')                \n",
      "BANNED (prompt_idx=28, type=ngram, ngram='let go')                       \n",
      "BANNED (prompt_idx=2, type=slop_phrase, phrase='silas')                  \n",
      "BANNED (prompt_idx=38, type=slop_phrase, phrase='pulse')                 \n",
      "Batch Generating:   0%|          | 0/39 [01:26<?, ?prompt/s, 176.5 tok/s]Back-track: no valid next-token candidates survived. ▁glowing\n",
      "BANNED (prompt_idx=37, type=slop_phrase, phrase='glow')                  \n",
      "BANNED (prompt_idx=33, type=slop_phrase, phrase='froze')                 \n",
      "Batch Generating:   0%|          | 0/39 [01:27<?, ?prompt/s, 176.1 tok/s]"
     ]
    },
    {
     "name": "stderr",
     "output_type": "stream",
     "text": [
      "2025-05-17 16:43:25,927 [ERROR] [core.sampler        ]: Back-track: no valid next-token candidates survived.\n"
     ]
    },
    {
     "name": "stdout",
     "output_type": "stream",
     "text": [
      "BANNED (prompt_idx=13, type=slop_phrase, phrase='void')                  \n",
      "Batch Generating:   0%|          | 0/39 [01:27<?, ?prompt/s, 162.4 tok/s]Back-track: no valid next-token candidates survived. ▁muttered\n",
      "BANNED (prompt_idx=4, type=slop_phrase, phrase='muttered')               \n",
      "BANNED (prompt_idx=31, type=slop_phrase, phrase='narrowed')              \n",
      "Batch Generating:   0%|          | 0/39 [01:27<?, ?prompt/s, 166.3 tok/s]"
     ]
    },
    {
     "name": "stderr",
     "output_type": "stream",
     "text": [
      "2025-05-17 16:43:26,317 [ERROR] [core.sampler        ]: Back-track: no valid next-token candidates survived.\n"
     ]
    },
    {
     "name": "stdout",
     "output_type": "stream",
     "text": [
      "BANNED (prompt_idx=27, type=ngram, ngram='strange sense')                \n",
      "BANNED (prompt_idx=22, type=slop_phrase, phrase='pushed open the door')  \n",
      "BANNED (prompt_idx=29, type=slop_phrase, phrase='swirling')              \n",
      "BANNED (prompt_idx=11, type=slop_phrase, phrase='smile playing on his lips')\n",
      "BANNED (prompt_idx=7, type=slop_phrase, phrase='utterly')                \n",
      "BANNED (prompt_idx=35, type=slop_phrase, phrase='armor')                 \n",
      "BANNED (prompt_idx=26, type=slop_phrase, phrase='anticipation')          \n",
      "BANNED (prompt_idx=23, type=slop_phrase, phrase='polished')              \n",
      "Batch Generating:   0%|          | 0/39 [01:28<?, ?prompt/s, 165.4 tok/s]Back-track: no valid next-token candidates survived. ▁Ly\n",
      "BANNED (prompt_idx=25, type=slop_phrase, phrase='lyra')                  \n",
      "Batch Generating:   0%|          | 0/39 [01:28<?, ?prompt/s, 177.6 tok/s]"
     ]
    },
    {
     "name": "stderr",
     "output_type": "stream",
     "text": [
      "2025-05-17 16:43:27,298 [ERROR] [core.sampler        ]: Back-track: no valid next-token candidates survived.\n"
     ]
    },
    {
     "name": "stdout",
     "output_type": "stream",
     "text": [
      "BANNED (prompt_idx=18, type=slop_phrase, phrase='echo')                  \n",
      "BANNED (prompt_idx=3, type=slop_phrase, phrase='terrifying')             \n",
      "BANNED (prompt_idx=5, type=slop_phrase, phrase='realization')            \n",
      "BANNED (prompt_idx=17, type=slop_phrase, phrase='subtle')                \n",
      "BANNED (prompt_idx=2, type=slop_phrase, phrase='elias')                  \n",
      "BANNED (prompt_idx=1, type=slop_phrase, phrase='leaned')                 \n",
      "BANNED (prompt_idx=19, type=slop_phrase, phrase='terrifying')            \n",
      "BANNED (prompt_idx=12, type=slop_phrase, phrase='tapestry')              \n",
      "BANNED (prompt_idx=16, type=slop_phrase, phrase='clutching')             \n",
      "BANNED (prompt_idx=37, type=slop_phrase, phrase='unsettling')            \n",
      "BANNED (prompt_idx=28, type=ngram, ngram='voice filled')                 \n",
      "BANNED (prompt_idx=4, type=ngram, ngram='voice trembling')               \n",
      "BANNED (prompt_idx=32, type=slop_phrase, phrase='sensation')             \n",
      "BANNED (prompt_idx=13, type=slop_phrase, phrase='void')                  \n",
      "BANNED (prompt_idx=14, type=regex, regex='\\bnot\\s+(?:just|only|merely)?\\s*(?:[^\\s]+\\s*){1,6}?[,;:—–-]?\\s*but\\s+(?:also\\s+)?', match='not prioritize comfort.” But ')\n",
      "BANNED (prompt_idx=8, type=slop_phrase, phrase='said, his voice low')    \n",
      "BANNED (prompt_idx=25, type=slop_phrase, phrase='gestured')              \n",
      "BANNED (prompt_idx=3, type=slop_phrase, phrase='echo')                   \n",
      "BANNED (prompt_idx=35, type=slop_phrase, phrase='stumbled')              \n",
      "BANNED (prompt_idx=26, type=slop_phrase, phrase='unsettling')            \n",
      "BANNED (prompt_idx=0, type=slop_phrase, phrase='whisper')                \n",
      "BANNED (prompt_idx=5, type=slop_phrase, phrase='curse')                  \n",
      "BANNED (prompt_idx=15, type=slop_phrase, phrase='paused')                \n",
      "BANNED (prompt_idx=22, type=slop_phrase, phrase='profound')              \n",
      "BANNED (prompt_idx=18, type=slop_phrase, phrase='utterly')               \n",
      "Batch Generating:   0%|          | 0/39 [01:31<?, ?prompt/s, 164.6 tok/s]"
     ]
    },
    {
     "name": "stderr",
     "output_type": "stream",
     "text": [
      "2025-05-17 16:43:30,444 [ERROR] [core.sampler        ]: Back-track: no valid next-token candidates survived.\n"
     ]
    },
    {
     "name": "stdout",
     "output_type": "stream",
     "text": [
      "Back-track: no valid next-token candidates survived. ▁Silas\n",
      "BANNED (prompt_idx=2, type=slop_phrase, phrase='silas')                  \n",
      "BANNED (prompt_idx=17, type=slop_phrase, phrase='demon')                 \n",
      "BANNED (prompt_idx=21, type=slop_phrase, phrase='despair')               \n",
      "Batch Generating:   0%|          | 0/39 [01:31<?, ?prompt/s, 160.0 tok/s]Back-track: no valid next-token candidates survived. ▁glowing\n",
      "BANNED (prompt_idx=37, type=slop_phrase, phrase='glow')                  \n",
      "BANNED (prompt_idx=19, type=slop_phrase, phrase='unsettling')            \n",
      "Batch Generating:   0%|          | 0/39 [01:32<?, ?prompt/s, 156.2 tok/s]"
     ]
    },
    {
     "name": "stderr",
     "output_type": "stream",
     "text": [
      "2025-05-17 16:43:30,909 [ERROR] [core.sampler        ]: Back-track: no valid next-token candidates survived.\n",
      "2025-05-17 16:43:31,145 [ERROR] [core.sampler        ]: Back-track: no valid next-token candidates survived.\n",
      "2025-05-17 16:43:31,152 [ERROR] [core.sampler        ]: Back-track: no valid next-token candidates survived.\n"
     ]
    },
    {
     "name": "stdout",
     "output_type": "stream",
     "text": [
      "Back-track: no valid next-token candidates survived. ▁muttered\n",
      "BANNED (prompt_idx=4, type=slop_phrase, phrase='muttered')               \n",
      "Batch Generating:   0%|          | 0/39 [01:32<?, ?prompt/s, 159.6 tok/s]Back-track: no valid next-token candidates survived. ▁Ly\n",
      "BANNED (prompt_idx=25, type=slop_phrase, phrase='lyra')                  \n",
      "BANNED (prompt_idx=1, type=slop_phrase, phrase='unsettling')             \n",
      "BANNED (prompt_idx=13, type=slop_phrase, phrase='subtle')                \n",
      "BANNED (prompt_idx=8, type=slop_phrase, phrase='paused')                 \n",
      "BANNED (prompt_idx=3, type=slop_phrase, phrase='profound')               \n",
      "BANNED (prompt_idx=30, type=slop_phrase, phrase='profound')              \n",
      "BANNED (prompt_idx=29, type=slop_phrase, phrase='stared')                \n",
      "BANNED (prompt_idx=22, type=slop_phrase, phrase='profound')              \n",
      "BANNED (prompt_idx=7, type=slop_phrase, phrase='meticulously')           \n",
      "BANNED (prompt_idx=10, type=slop_phrase, phrase='shifted')               \n",
      "BANNED (prompt_idx=0, type=slop_phrase, phrase='smiled')                 \n",
      "BANNED (prompt_idx=35, type=slop_phrase, phrase='eyes wide with disbelief')\n",
      "BANNED (prompt_idx=5, type=slop_phrase, phrase='utterly')                \n",
      "Batch Generating:   0%|          | 0/39 [01:33<?, ?prompt/s, 174.6 tok/s]Back-track: no valid next-token candidates survived. ▁Silas\n",
      "BANNED (prompt_idx=2, type=slop_phrase, phrase='silas')                  \n",
      "Batch Generating:   0%|          | 0/39 [01:33<?, ?prompt/s, 174.0 tok/s]"
     ]
    },
    {
     "name": "stderr",
     "output_type": "stream",
     "text": [
      "2025-05-17 16:43:32,819 [ERROR] [core.sampler        ]: Back-track: no valid next-token candidates survived.\n"
     ]
    },
    {
     "name": "stdout",
     "output_type": "stream",
     "text": [
      "BANNED (prompt_idx=16, type=slop_phrase, phrase='pulse')                 \n",
      "BANNED (prompt_idx=18, type=slop_phrase, phrase='revealing')             \n",
      "BANNED (prompt_idx=15, type=slop_phrase, phrase='casting long shadows')  \n",
      "Batch Generating:   0%|          | 0/39 [01:34<?, ?prompt/s, 183.1 tok/s]Back-track: no valid next-token candidates survived. ▁Ly\n",
      "BANNED (prompt_idx=25, type=slop_phrase, phrase='lyra')                  \n",
      "Batch Generating:   0%|          | 0/39 [01:34<?, ?prompt/s, 192.6 tok/s]"
     ]
    },
    {
     "name": "stderr",
     "output_type": "stream",
     "text": [
      "2025-05-17 16:43:33,162 [ERROR] [core.sampler        ]: Back-track: no valid next-token candidates survived.\n"
     ]
    },
    {
     "name": "stdout",
     "output_type": "stream",
     "text": [
      "BANNED (prompt_idx=37, type=slop_phrase, phrase='profound')              \n",
      "Batch Generating:   0%|          | 0/39 [01:34<?, ?prompt/s, 178.3 tok/s]Back-track: no valid next-token candidates survived. ▁muttered\n",
      "BANNED (prompt_idx=4, type=slop_phrase, phrase='muttered')               \n",
      "Batch Generating:   0%|          | 0/39 [01:34<?, ?prompt/s, 178.7 tok/s]"
     ]
    },
    {
     "name": "stderr",
     "output_type": "stream",
     "text": [
      "2025-05-17 16:43:33,536 [ERROR] [core.sampler        ]: Back-track: no valid next-token candidates survived.\n"
     ]
    },
    {
     "name": "stdout",
     "output_type": "stream",
     "text": [
      "BANNED (prompt_idx=19, type=slop_phrase, phrase='door swung open')       \n",
      "BANNED (prompt_idx=32, type=slop_phrase, phrase='relentless')            \n",
      "BANNED (prompt_idx=6, type=slop_phrase, phrase='shook')                  \n",
      "BANNED (prompt_idx=8, type=slop_phrase, phrase='void')                   \n",
      "BANNED (prompt_idx=13, type=slop_phrase, phrase='raced')                 \n",
      "BANNED (prompt_idx=33, type=slop_phrase, phrase='gaze')                  \n",
      "BANNED (prompt_idx=22, type=slop_phrase, phrase='shadows')               \n",
      "BANNED (prompt_idx=12, type=slop_phrase, phrase='demon')                 \n",
      "BANNED (prompt_idx=1, type=slop_phrase, phrase='subtle')                 \n",
      "BANNED (prompt_idx=10, type=slop_phrase, phrase='flicker')               \n",
      "BANNED (prompt_idx=0, type=ngram, ngram='tilted head')                   \n",
      "BANNED (prompt_idx=29, type=slop_phrase, phrase='unsettling')            \n",
      "BANNED (prompt_idx=30, type=slop_phrase, phrase='vibrant')               \n",
      "BANNED (prompt_idx=5, type=slop_phrase, phrase='relentless')             \n",
      "BANNED (prompt_idx=25, type=slop_phrase, phrase='obsidian')              \n",
      "BANNED (prompt_idx=35, type=slop_phrase, phrase='froze')                 \n",
      "Batch Generating:   0%|          | 0/39 [01:36<?, ?prompt/s, 193.6 tok/s]"
     ]
    },
    {
     "name": "stderr",
     "output_type": "stream",
     "text": [
      "2025-05-17 16:43:35,335 [ERROR] [core.sampler        ]: Back-track: no valid next-token candidates survived.\n"
     ]
    },
    {
     "name": "stdout",
     "output_type": "stream",
     "text": [
      "Back-track: no valid next-token candidates survived. ▁Silas\n",
      "BANNED (prompt_idx=2, type=slop_phrase, phrase='silas')                  \n",
      "BANNED (prompt_idx=16, type=slop_phrase, phrase='shimmering')            \n",
      "BANNED (prompt_idx=26, type=slop_phrase, phrase='revealing')             \n",
      "BANNED (prompt_idx=3, type=slop_phrase, phrase='echo')                   \n",
      "Batch Generating:   0%|          | 0/39 [01:36<?, ?prompt/s, 192.6 tok/s]Back-track: no valid next-token candidates survived. ▁glowing\n",
      "BANNED (prompt_idx=37, type=slop_phrase, phrase='glow')                  \n",
      "Batch Generating:   0%|          | 0/39 [01:36<?, ?prompt/s, 195.6 tok/s]"
     ]
    },
    {
     "name": "stderr",
     "output_type": "stream",
     "text": [
      "2025-05-17 16:43:35,721 [ERROR] [core.sampler        ]: Back-track: no valid next-token candidates survived.\n"
     ]
    },
    {
     "name": "stdout",
     "output_type": "stream",
     "text": [
      "BANNED (prompt_idx=4, type=slop_phrase, phrase='trembling')              \n",
      "BANNED (prompt_idx=18, type=slop_phrase, phrase='warmth')                \n",
      "BANNED (prompt_idx=22, type=slop_phrase, phrase='shimmered')             \n",
      "BANNED (prompt_idx=11, type=slop_phrase, phrase='shadows')               \n",
      "BANNED (prompt_idx=19, type=slop_phrase, phrase='metallic')              \n",
      "BANNED (prompt_idx=33, type=slop_phrase, phrase='narrowed')              \n",
      "BANNED (prompt_idx=24, type=slop_phrase, phrase='intricate')             \n",
      "Batch Generating:   0%|          | 0/39 [01:37<?, ?prompt/s, 172.2 tok/s]Back-track: no valid next-token candidates survived. ▁Ly\n",
      "BANNED (prompt_idx=25, type=slop_phrase, phrase='lyra')                  \n",
      "BANNED (prompt_idx=6, type=ngram, ngram='stepped forward')               \n",
      "BANNED (prompt_idx=0, type=slop_phrase, phrase='smiled')                 \n",
      "Batch Generating:   0%|          | 0/39 [01:38<?, ?prompt/s, 180.9 tok/s]"
     ]
    },
    {
     "name": "stderr",
     "output_type": "stream",
     "text": [
      "2025-05-17 16:43:37,016 [ERROR] [core.sampler        ]: Back-track: no valid next-token candidates survived.\n"
     ]
    },
    {
     "name": "stdout",
     "output_type": "stream",
     "text": [
      "BANNED (prompt_idx=12, type=slop_phrase, phrase='demon')                 \n",
      "BANNED (prompt_idx=1, type=slop_phrase, phrase='shifted')                \n",
      "BANNED (prompt_idx=3, type=slop_phrase, phrase='scent')                  \n",
      "BANNED (prompt_idx=39, type=slop_phrase, phrase='laced')                 \n",
      "BANNED (prompt_idx=35, type=slop_phrase, phrase='swallowed')             \n",
      "BANNED (prompt_idx=37, type=slop_phrase, phrase='scent')                 \n",
      "BANNED (prompt_idx=22, type=slop_phrase, phrase='metallic')              \n",
      "Batch Generating:   0%|          | 0/39 [01:39<?, ?prompt/s, 166.7 tok/s]Back-track: no valid next-token candidates survived. ▁muttered\n",
      "BANNED (prompt_idx=4, type=slop_phrase, phrase='muttered')               \n",
      "Batch Generating:   0%|          | 0/39 [01:39<?, ?prompt/s, 179.2 tok/s]"
     ]
    },
    {
     "name": "stderr",
     "output_type": "stream",
     "text": [
      "2025-05-17 16:43:38,354 [ERROR] [core.sampler        ]: Back-track: no valid next-token candidates survived.\n"
     ]
    },
    {
     "name": "stdout",
     "output_type": "stream",
     "text": [
      "BANNED (prompt_idx=20, type=slop_phrase, phrase='warmth')                \n",
      "Batch Generating:   0%|          | 0/39 [01:39<?, ?prompt/s, 165.8 tok/s]Back-track: no valid next-token candidates survived. ▁Ly\n",
      "BANNED (prompt_idx=25, type=slop_phrase, phrase='lyra')                  \n",
      "BANNED (prompt_idx=8, type=slop_phrase, phrase='heart hammered against my ribs')\n",
      "BANNED (prompt_idx=19, type=slop_phrase, phrase='echo')                  \n",
      "Batch Generating:   0%|          | 0/39 [01:40<?, ?prompt/s, 164.0 tok/s]"
     ]
    },
    {
     "name": "stderr",
     "output_type": "stream",
     "text": [
      "2025-05-17 16:43:38,941 [ERROR] [core.sampler        ]: Back-track: no valid next-token candidates survived.\n"
     ]
    },
    {
     "name": "stdout",
     "output_type": "stream",
     "text": [
      "BANNED (prompt_idx=14, type=slop_phrase, phrase='void')                  \n",
      "BANNED (prompt_idx=18, type=slop_phrase, phrase='warmth')                \n",
      "BANNED (prompt_idx=13, type=slop_phrase, phrase='overwhelming')          \n",
      "BANNED (prompt_idx=11, type=slop_phrase, phrase='shiver')                \n",
      "BANNED (prompt_idx=24, type=slop_phrase, phrase='swirling')              \n",
      "BANNED (prompt_idx=0, type=slop_phrase, phrase='faint')                  \n",
      "BANNED (prompt_idx=3, type=slop_phrase, phrase='meticulously')           \n",
      "BANNED (prompt_idx=21, type=slop_phrase, phrase='swirling')              \n",
      "BANNED (prompt_idx=7, type=slop_phrase, phrase='chilling')               \n",
      "BANNED (prompt_idx=6, type=slop_phrase, phrase='chuckled')               \n",
      "BANNED (prompt_idx=22, type=slop_phrase, phrase='something else, something')\n",
      "BANNED (prompt_idx=36, type=slop_phrase, phrase='pulse')                 \n",
      "BANNED (prompt_idx=2, type=slop_phrase, phrase='silas')                  \n",
      "Batch Generating:   0%|          | 0/39 [01:41<?, ?prompt/s, 176.0 tok/s]Back-track: no valid next-token candidates survived. ▁glowing\n",
      "BANNED (prompt_idx=37, type=slop_phrase, phrase='glow')                  \n",
      "Batch Generating:   0%|          | 0/39 [01:41<?, ?prompt/s, 182.5 tok/s]"
     ]
    },
    {
     "name": "stderr",
     "output_type": "stream",
     "text": [
      "2025-05-17 16:43:40,450 [ERROR] [core.sampler        ]: Back-track: no valid next-token candidates survived.\n"
     ]
    },
    {
     "name": "stdout",
     "output_type": "stream",
     "text": [
      "BANNED (prompt_idx=16, type=slop_phrase, phrase='countless')             \n",
      "BANNED (prompt_idx=35, type=slop_phrase, phrase='unsettling')            \n",
      "BANNED (prompt_idx=29, type=slop_phrase, phrase='stammered')             \n",
      "BANNED (prompt_idx=1, type=slop_phrase, phrase='void')                   \n",
      "BANNED (prompt_idx=39, type=slop_phrase, phrase='laced')                 \n",
      "Batch Generating:   0%|          | 0/39 [01:41<?, ?prompt/s, 184.6 tok/s]Back-track: no valid next-token candidates survived. ▁muttered\n",
      "BANNED (prompt_idx=4, type=slop_phrase, phrase='muttered')               \n",
      "BANNED (prompt_idx=26, type=slop_phrase, phrase='faded')                 \n",
      "BANNED (prompt_idx=25, type=slop_phrase, phrase='pulse')                 \n",
      "Batch Generating:   0%|          | 0/39 [01:42<?, ?prompt/s, 176.3 tok/s]"
     ]
    },
    {
     "name": "stderr",
     "output_type": "stream",
     "text": [
      "2025-05-17 16:43:40,889 [ERROR] [core.sampler        ]: Back-track: no valid next-token candidates survived.\n"
     ]
    },
    {
     "name": "stdout",
     "output_type": "stream",
     "text": [
      "BANNED (prompt_idx=31, type=ngram, ngram='voice laced')                  \n",
      "BANNED (prompt_idx=20, type=slop_phrase, phrase='warmth')                \n",
      "BANNED (prompt_idx=30, type=slop_phrase, phrase='relentless')            \n",
      "BANNED (prompt_idx=0, type=slop_phrase, phrase='smile playing on his lips')\n",
      "BANNED (prompt_idx=19, type=slop_phrase, phrase='door swung open')       \n",
      "BANNED (prompt_idx=15, type=ngram, ngram='voice laced')                  \n",
      "BANNED (prompt_idx=24, type=slop_phrase, phrase='intricate')             \n",
      "BANNED (prompt_idx=18, type=ngram, ngram='sense peace')                  \n",
      "BANNED (prompt_idx=22, type=slop_phrase, phrase='metallic')              \n",
      "BANNED (prompt_idx=10, type=slop_phrase, phrase='fragile')               \n",
      "Batch Generating:   0%|          | 0/39 [01:43<?, ?prompt/s, 150.6 tok/s]"
     ]
    },
    {
     "name": "stderr",
     "output_type": "stream",
     "text": [
      "2025-05-17 16:43:42,971 [ERROR] [core.sampler        ]: Back-track: no valid next-token candidates survived.\n",
      "2025-05-17 16:43:43,091 [ERROR] [core.sampler        ]: Back-track: no valid next-token candidates survived.\n"
     ]
    },
    {
     "name": "stdout",
     "output_type": "stream",
     "text": [
      "Back-track: no valid next-token candidates survived. ▁glowing\n",
      "BANNED (prompt_idx=37, type=slop_phrase, phrase='glow')                  \n",
      "BANNED (prompt_idx=2, type=slop_phrase, phrase='relentless')             \n",
      "BANNED (prompt_idx=7, type=slop_phrase, phrase='chilling')               \n",
      "Batch Generating:   0%|          | 0/39 [01:44<?, ?prompt/s, 141.0 tok/s]Back-track: no valid next-token candidates survived. ▁Ly\n",
      "BANNED (prompt_idx=25, type=slop_phrase, phrase='lyra')                  \n",
      "BANNED (prompt_idx=38, type=slop_phrase, phrase='fragile')               \n",
      "BANNED (prompt_idx=12, type=slop_phrase, phrase='paused')                \n",
      "BANNED (prompt_idx=4, type=slop_phrase, phrase='meticulously')           \n",
      "BANNED (prompt_idx=6, type=slop_phrase, phrase='shook')                  \n",
      "BANNED (prompt_idx=35, type=slop_phrase, phrase='breath caught in my throat')\n",
      "BANNED (prompt_idx=17, type=slop_phrase, phrase='revealing')             \n",
      "BANNED (prompt_idx=28, type=slop_phrase, phrase='chuckled')              \n",
      "BANNED (prompt_idx=8, type=slop_phrase, phrase='fragile')                \n",
      "BANNED (prompt_idx=36, type=slop_phrase, phrase='utterly')               \n",
      "BANNED (prompt_idx=1, type=slop_phrase, phrase='gaze')                   \n",
      "BANNED (prompt_idx=0, type=slop_phrase, phrase='smile playing on his lips')\n",
      "BANNED (prompt_idx=3, type=slop_phrase, phrase='unsettling')             \n",
      "BANNED (prompt_idx=31, type=slop_phrase, phrase='laced')                 \n",
      "BANNED (prompt_idx=22, type=slop_phrase, phrase='something else, something')\n",
      "BANNED (prompt_idx=24, type=slop_phrase, phrase='unsettling')            \n",
      "BANNED (prompt_idx=15, type=slop_phrase, phrase='narrowed')              \n",
      "BANNED (prompt_idx=25, type=slop_phrase, phrase='faint')                 \n",
      "BANNED (prompt_idx=23, type=slop_phrase, phrase='subtle')                \n",
      "BANNED (prompt_idx=10, type=slop_phrase, phrase='warmth')                \n",
      "BANNED (prompt_idx=18, type=slop_phrase, phrase='warmth')                \n",
      "BANNED (prompt_idx=37, type=slop_phrase, phrase='gaze')                  \n",
      "BANNED (prompt_idx=2, type=slop_phrase, phrase='silas')                  \n",
      "Batch Generating:   0%|          | 0/39 [01:46<?, ?prompt/s, 127.9 tok/s]"
     ]
    },
    {
     "name": "stderr",
     "output_type": "stream",
     "text": [
      "2025-05-17 16:43:46,013 [ERROR] [core.sampler        ]: Back-track: no valid next-token candidates survived.\n"
     ]
    },
    {
     "name": "stdout",
     "output_type": "stream",
     "text": [
      "Back-track: no valid next-token candidates survived. ▁muttered\n",
      "BANNED (prompt_idx=4, type=slop_phrase, phrase='muttered')               \n",
      "BANNED (prompt_idx=7, type=slop_phrase, phrase='terrifying')             \n",
      "BANNED (prompt_idx=16, type=slop_phrase, phrase='echo')                  \n",
      "BANNED (prompt_idx=8, type=slop_phrase, phrase='heart hammered against my ribs')\n",
      "BANNED (prompt_idx=35, type=slop_phrase, phrase='pulse')                 \n",
      "BANNED (prompt_idx=3, type=slop_phrase, phrase='unsettling')             \n",
      "BANNED (prompt_idx=22, type=slop_phrase, phrase='something else, something')\n",
      "BANNED (prompt_idx=29, type=slop_phrase, phrase='stared')                \n",
      "BANNED (prompt_idx=12, type=slop_phrase, phrase='delicate')              \n",
      "BANNED (prompt_idx=26, type=slop_phrase, phrase='utterly')               \n",
      "Batch Generating:   0%|          | 0/39 [01:48<?, ?prompt/s, 150.4 tok/s]Back-track: no valid next-token candidates survived. ▁Ly\n",
      "BANNED (prompt_idx=25, type=slop_phrase, phrase='lyra')                  \n",
      "BANNED (prompt_idx=17, type=slop_phrase, phrase='revealing')             \n",
      "BANNED (prompt_idx=28, type=slop_phrase, phrase='echo')                  \n",
      "BANNED (prompt_idx=32, type=slop_phrase, phrase='shifted')               \n",
      "Batch Generating:   0%|          | 0/39 [01:48<?, ?prompt/s, 147.6 tok/s]"
     ]
    },
    {
     "name": "stderr",
     "output_type": "stream",
     "text": [
      "2025-05-17 16:43:47,083 [ERROR] [core.sampler        ]: Back-track: no valid next-token candidates survived.\n"
     ]
    },
    {
     "name": "stdout",
     "output_type": "stream",
     "text": [
      "BANNED (prompt_idx=13, type=slop_phrase, phrase='overwhelming')          \n",
      "BANNED (prompt_idx=1, type=slop_phrase, phrase='eyes darting around')    \n",
      "BANNED (prompt_idx=19, type=slop_phrase, phrase='unsettling')            \n",
      "Batch Generating:   0%|          | 0/39 [01:48<?, ?prompt/s, 155.4 tok/s]"
     ]
    },
    {
     "name": "stderr",
     "output_type": "stream",
     "text": [
      "2025-05-17 16:43:47,506 [ERROR] [core.sampler        ]: Back-track: no valid next-token candidates survived.\n"
     ]
    },
    {
     "name": "stdout",
     "output_type": "stream",
     "text": [
      "Back-track: no valid next-token candidates survived. ▁swirling\n",
      "BANNED (prompt_idx=24, type=slop_phrase, phrase='swirling')              \n",
      "BANNED (prompt_idx=20, type=ngram, ngram='living room')                  \n",
      "BANNED (prompt_idx=31, type=slop_phrase, phrase='void')                  \n",
      "BANNED (prompt_idx=36, type=slop_phrase, phrase='utterly')               \n",
      "BANNED (prompt_idx=10, type=slop_phrase, phrase='warmth')                \n",
      "BANNED (prompt_idx=2, type=ngram, ngram='carefully constructed')         \n",
      "BANNED (prompt_idx=15, type=ngram, ngram='faces etched')                 \n",
      "BANNED (prompt_idx=18, type=slop_phrase, phrase='unseen')                \n",
      "Batch Generating:   0%|          | 0/39 [01:49<?, ?prompt/s, 150.0 tok/s]Back-track: no valid next-token candidates survived. ▁muttered\n",
      "BANNED (prompt_idx=4, type=slop_phrase, phrase='muttered')               \n",
      "Batch Generating:   0%|          | 0/39 [01:49<?, ?prompt/s, 153.5 tok/s]"
     ]
    },
    {
     "name": "stderr",
     "output_type": "stream",
     "text": [
      "2025-05-17 16:43:48,221 [ERROR] [core.sampler        ]: Back-track: no valid next-token candidates survived.\n"
     ]
    },
    {
     "name": "stdout",
     "output_type": "stream",
     "text": [
      "BANNED (prompt_idx=30, type=ngram, ngram='felt like')                    \n",
      "BANNED (prompt_idx=11, type=slop_phrase, phrase='curse')                 \n",
      "BANNED (prompt_idx=7, type=slop_phrase, phrase='intricate')              \n",
      "BANNED (prompt_idx=38, type=slop_phrase, phrase='newfound')              \n",
      "BANNED (prompt_idx=8, type=slop_phrase, phrase='raced')                  \n",
      "BANNED (prompt_idx=0, type=slop_phrase, phrase='gestured')               \n",
      "BANNED (prompt_idx=25, type=ngram, ngram='said voice')                   \n",
      "BANNED (prompt_idx=35, type=ngram, ngram='carefully constructed')        \n",
      "BANNED (prompt_idx=26, type=ngram, ngram='said voice')                   \n",
      "BANNED (prompt_idx=12, type=slop_phrase, phrase='holographic')           \n",
      "BANNED (prompt_idx=32, type=regex, regex='\\bnot\\s+(?:just|only|merely)?\\s*(?:[^\\s]+\\s*){1,6}?[,;:—–-]?\\s*but\\s+(?:also\\s+)?', match='Not with words, but ')\n",
      "Batch Generating:   0%|          | 0/39 [01:51<?, ?prompt/s, 144.9 tok/s]Back-track: no valid next-token candidates survived. ▁swirling\n",
      "BANNED (prompt_idx=24, type=slop_phrase, phrase='swirling')              \n",
      "Batch Generating:   0%|          | 0/39 [01:51<?, ?prompt/s, 160.4 tok/s]"
     ]
    },
    {
     "name": "stderr",
     "output_type": "stream",
     "text": [
      "2025-05-17 16:43:50,325 [ERROR] [core.sampler        ]: Back-track: no valid next-token candidates survived.\n"
     ]
    },
    {
     "name": "stdout",
     "output_type": "stream",
     "text": [
      "BANNED (prompt_idx=2, type=slop_phrase, phrase='fabric')                 \n",
      "BANNED (prompt_idx=22, type=slop_phrase, phrase='shimmering')            \n",
      "Batch Generating:   0%|          | 0/39 [01:51<?, ?prompt/s, 180.8 tok/s]"
     ]
    },
    {
     "name": "stderr",
     "output_type": "stream",
     "text": [
      "2025-05-17 16:43:50,857 [ERROR] [core.sampler        ]: Back-track: no valid next-token candidates survived.\n"
     ]
    },
    {
     "name": "stdout",
     "output_type": "stream",
     "text": [
      "Back-track: no valid next-token candidates survived. ▁gaze\n",
      "BANNED (prompt_idx=1, type=slop_phrase, phrase='gaze')                   \n",
      "BANNED (prompt_idx=15, type=ngram, ngram='faces etched')                 \n",
      "BANNED (prompt_idx=36, type=slop_phrase, phrase='terrifying')            \n",
      "BANNED (prompt_idx=3, type=ngram, ngram='could quite')                   \n",
      "Batch Generating:   0%|          | 0/39 [01:52<?, ?prompt/s, 197.5 tok/s]Back-track: no valid next-token candidates survived. ▁Ly\n",
      "BANNED (prompt_idx=25, type=slop_phrase, phrase='lyra')                  \n",
      "Batch Generating:   0%|          | 0/39 [01:52<?, ?prompt/s, 201.5 tok/s]"
     ]
    },
    {
     "name": "stderr",
     "output_type": "stream",
     "text": [
      "2025-05-17 16:43:51,343 [ERROR] [core.sampler        ]: Back-track: no valid next-token candidates survived.\n"
     ]
    },
    {
     "name": "stdout",
     "output_type": "stream",
     "text": [
      "BANNED (prompt_idx=0, type=slop_phrase, phrase='glanced')                \n",
      "BANNED (prompt_idx=8, type=slop_phrase, phrase='hollow')                 \n",
      "BANNED (prompt_idx=7, type=slop_phrase, phrase='unsettling')             \n",
      "BANNED (prompt_idx=5, type=slop_phrase, phrase='silas')                  \n",
      "BANNED (prompt_idx=30, type=ngram, ngram='something akin')               \n",
      "BANNED (prompt_idx=11, type=slop_phrase, phrase='shifted')               \n",
      "BANNED (prompt_idx=35, type=slop_phrase, phrase='silas')                 \n",
      "BANNED (prompt_idx=26, type=ngram, ngram='called voice')                 \n",
      "BANNED (prompt_idx=29, type=slop_phrase, phrase='voice barely a whisper')\n",
      "BANNED (prompt_idx=32, type=regex, regex='\\bnot\\s+(?:just|only|merely)?\\s*(?:[^\\s]+\\s*){1,6}?[,;:—–-]?\\s*but\\s+(?:also\\s+)?', match='Not with my mind, but ')\n",
      "BANNED (prompt_idx=22, type=slop_phrase, phrase='shimmering')            \n",
      "Batch Generating:   0%|          | 0/39 [01:54<?, ?prompt/s, 163.0 tok/s]"
     ]
    },
    {
     "name": "stderr",
     "output_type": "stream",
     "text": [
      "2025-05-17 16:43:53,162 [ERROR] [core.sampler        ]: Back-track: no valid next-token candidates survived.\n"
     ]
    },
    {
     "name": "stdout",
     "output_type": "stream",
     "text": [
      "Back-track: no valid next-token candidates survived. ▁swirling\n",
      "BANNED (prompt_idx=24, type=slop_phrase, phrase='swirling')              \n",
      "BANNED (prompt_idx=19, type=slop_phrase, phrase='profound')              \n",
      "BANNED (prompt_idx=4, type=slop_phrase, phrase='faint')                  \n",
      "BANNED (prompt_idx=25, type=slop_phrase, phrase='tightened')             \n",
      "BANNED (prompt_idx=3, type=slop_phrase, phrase='horizon')                \n",
      "BANNED (prompt_idx=0, type=ngram, ngram='tilted head')                   \n",
      "BANNED (prompt_idx=8, type=slop_phrase, phrase='void')                   \n",
      "BANNED (prompt_idx=18, type=slop_phrase, phrase='relentless')            \n",
      "Batch Generating:   0%|          | 0/39 [01:55<?, ?prompt/s, 206.9 tok/s]Back-track: no valid next-token candidates survived. ▁gaze\n",
      "BANNED (prompt_idx=1, type=slop_phrase, phrase='gaze')                   \n",
      "Batch Generating:   0%|          | 0/39 [01:55<?, ?prompt/s, 210.5 tok/s]"
     ]
    },
    {
     "name": "stderr",
     "output_type": "stream",
     "text": [
      "2025-05-17 16:43:54,343 [ERROR] [core.sampler        ]: Back-track: no valid next-token candidates survived.\n"
     ]
    },
    {
     "name": "stdout",
     "output_type": "stream",
     "text": [
      "BANNED (prompt_idx=5, type=slop_phrase, phrase='liam')                   \n",
      "BANNED (prompt_idx=35, type=slop_phrase, phrase='countless')             \n",
      "BANNED (prompt_idx=36, type=slop_phrase, phrase='profound')              \n",
      "BANNED (prompt_idx=11, type=slop_phrase, phrase='laced')                 \n",
      "Batch Generating:   0%|          | 0/39 [01:56<?, ?prompt/s, 186.9 tok/s]Back-track: no valid next-token candidates survived. ▁said\n",
      "BANNED (prompt_idx=26, type=ngram, ngram='said voice')                   \n",
      "BANNED (prompt_idx=25, type=slop_phrase, phrase='unsettling')            \n",
      "Batch Generating:   0%|          | 0/39 [01:56<?, ?prompt/s, 194.6 tok/s]"
     ]
    },
    {
     "name": "stderr",
     "output_type": "stream",
     "text": [
      "2025-05-17 16:43:55,583 [ERROR] [core.sampler        ]: Back-track: no valid next-token candidates survived.\n"
     ]
    },
    {
     "name": "stdout",
     "output_type": "stream",
     "text": [
      "BANNED (prompt_idx=29, type=slop_phrase, phrase='void')                  \n",
      "BANNED (prompt_idx=3, type=regex, regex='\\bnot\\s+(?:just|only|merely)?\\s*(?:[^\\s]+\\s*){1,6}?[,;:—–-]?\\s*but\\s+(?:also\\s+)?', match='not his memories; he knew it instinctively, but ')\n",
      "BANNED (prompt_idx=24, type=slop_phrase, phrase='curiosity')             \n",
      "BANNED (prompt_idx=4, type=slop_phrase, phrase='scent')                  \n",
      "BANNED (prompt_idx=32, type=slop_phrase, phrase='vibrant')               \n",
      "BANNED (prompt_idx=2, type=slop_phrase, phrase='silas')                  \n",
      "BANNED (prompt_idx=33, type=slop_phrase, phrase='took a deep breath')    \n",
      "BANNED (prompt_idx=10, type=ngram, ngram='young man')                    \n",
      "BANNED (prompt_idx=19, type=slop_phrase, phrase='said, his voice low')   \n",
      "BANNED (prompt_idx=12, type=slop_phrase, phrase='utterly')               \n",
      "BANNED (prompt_idx=0, type=ngram, ngram='step forward')                  \n",
      "BANNED (prompt_idx=8, type=slop_phrase, phrase='gaze')                   \n",
      "BANNED (prompt_idx=22, type=slop_phrase, phrase='shimmering')            \n",
      "BANNED (prompt_idx=5, type=slop_phrase, phrase='silas')                  \n",
      "BANNED (prompt_idx=17, type=slop_phrase, phrase='chaotic')               \n",
      "BANNED (prompt_idx=25, type=slop_phrase, phrase='asked, trying to keep') \n",
      "BANNED (prompt_idx=39, type=ngram, ngram='turned face')                  \n",
      "BANNED (prompt_idx=35, type=slop_phrase, phrase='stared')                \n",
      "BANNED (prompt_idx=23, type=slop_phrase, phrase='brow')                  \n",
      "BANNED (prompt_idx=38, type=slop_phrase, phrase='utterly')               \n",
      "BANNED (prompt_idx=37, type=slop_phrase, phrase='despair')               \n",
      "BANNED (prompt_idx=26, type=slop_phrase, phrase='stared')                \n",
      "BANNED (prompt_idx=36, type=slop_phrase, phrase='utterly')               \n",
      "BANNED (prompt_idx=13, type=slop_phrase, phrase='laced')                 \n",
      "Batch Generating:   0%|          | 0/39 [01:59<?, ?prompt/s, 167.5 tok/s]Back-track: no valid next-token candidates survived. ▁swirling\n",
      "BANNED (prompt_idx=11, type=slop_phrase, phrase='laced')                 \n",
      "BANNED (prompt_idx=24, type=slop_phrase, phrase='swirling')              \n",
      "Batch Generating:   0%|          | 0/39 [01:59<?, ?prompt/s, 166.4 tok/s]"
     ]
    },
    {
     "name": "stderr",
     "output_type": "stream",
     "text": [
      "2025-05-17 16:43:58,728 [ERROR] [core.sampler        ]: Back-track: no valid next-token candidates survived.\n"
     ]
    },
    {
     "name": "stdout",
     "output_type": "stream",
     "text": [
      "BANNED (prompt_idx=29, type=slop_phrase, phrase='said, his voice barely')\n",
      "BANNED (prompt_idx=32, type=slop_phrase, phrase='warmth')                \n",
      "BANNED (prompt_idx=2, type=slop_phrase, phrase='silas')                  \n",
      "BANNED (prompt_idx=27, type=slop_phrase, phrase='fragile')               \n",
      "BANNED (prompt_idx=10, type=slop_phrase, phrase='vibrant')               \n",
      "BANNED (prompt_idx=8, type=slop_phrase, phrase='trembled')               \n",
      "BANNED (prompt_idx=19, type=slop_phrase, phrase='whisper')               \n",
      "BANNED (prompt_idx=12, type=slop_phrase, phrase='countless')             \n",
      "BANNED (prompt_idx=25, type=slop_phrase, phrase='void')                  \n",
      "BANNED (prompt_idx=5, type=slop_phrase, phrase='silas')                  \n",
      "BANNED (prompt_idx=3, type=slop_phrase, phrase='growing sense of unease')\n",
      "BANNED (prompt_idx=18, type=slop_phrase, phrase='stammered')             \n",
      "BANNED (prompt_idx=7, type=slop_phrase, phrase='intricate')              \n",
      "BANNED (prompt_idx=4, type=ngram, ngram='young woman')                   \n",
      "BANNED (prompt_idx=31, type=regex, regex='\\bnot\\s+(?:just|only|merely)?\\s*(?:[^\\s]+\\s*){1,6}?[,;:—–-]?\\s*but\\s+(?:also\\s+)?', match='not only survive the most potent poisons but ')\n",
      "BANNED (prompt_idx=13, type=ngram, ngram='leaving behind')               \n",
      "Batch Generating:   0%|          | 0/39 [02:02<?, ?prompt/s, 165.6 tok/s]Back-track: no valid next-token candidates survived. ▁swirling\n",
      "BANNED (prompt_idx=24, type=slop_phrase, phrase='swirling')              \n",
      "BANNED (prompt_idx=39, type=slop_phrase, phrase='paused')                \n",
      "Batch Generating:   0%|          | 0/39 [02:02<?, ?prompt/s, 168.9 tok/s]"
     ]
    },
    {
     "name": "stderr",
     "output_type": "stream",
     "text": [
      "2025-05-17 16:44:01,653 [ERROR] [core.sampler        ]: Back-track: no valid next-token candidates survived.\n"
     ]
    },
    {
     "name": "stdout",
     "output_type": "stream",
     "text": [
      "BANNED (prompt_idx=0, type=slop_phrase, phrase='grin')                   \n",
      "BANNED (prompt_idx=23, type=slop_phrase, phrase='brow')                  \n",
      "BANNED (prompt_idx=10, type=slop_phrase, phrase='vibrant')               \n",
      "BANNED (prompt_idx=32, type=slop_phrase, phrase='warmth')                \n",
      "BANNED (prompt_idx=29, type=slop_phrase, phrase='whisper')               \n",
      "BANNED (prompt_idx=33, type=slop_phrase, phrase='void')                  \n",
      "BANNED (prompt_idx=11, type=slop_phrase, phrase='overwhelming')          \n",
      "BANNED (prompt_idx=36, type=slop_phrase, phrase='unsettling')            \n",
      "BANNED (prompt_idx=19, type=slop_phrase, phrase='said, his voice low')   \n",
      "BANNED (prompt_idx=3, type=slop_phrase, phrase='pressing')               \n",
      "BANNED (prompt_idx=15, type=ngram, ngram='said voice')                   \n",
      "BANNED (prompt_idx=35, type=ngram, ngram='something akin')               \n",
      "BANNED (prompt_idx=7, type=slop_phrase, phrase='shimmering')             \n",
      "BANNED (prompt_idx=21, type=slop_phrase, phrase='exchanged')             \n",
      "BANNED (prompt_idx=8, type=slop_phrase, phrase='voice barely a whisper') \n",
      "Batch Generating:   0%|          | 0/39 [02:05<?, ?prompt/s, 162.4 tok/s]Back-track: no valid next-token candidates survived. ▁replaced\n",
      "BANNED (prompt_idx=13, type=slop_phrase, phrase='laced')                 \n",
      "Batch Generating:   0%|          | 0/39 [02:05<?, ?prompt/s, 165.7 tok/s]"
     ]
    },
    {
     "name": "stderr",
     "output_type": "stream",
     "text": [
      "2025-05-17 16:44:04,681 [ERROR] [core.sampler        ]: Back-track: no valid next-token candidates survived.\n"
     ]
    },
    {
     "name": "stdout",
     "output_type": "stream",
     "text": [
      "BANNED (prompt_idx=32, type=slop_phrase, phrase='rhythm')                \n",
      "BANNED (prompt_idx=38, type=slop_phrase, phrase='delicate')              \n",
      "BANNED (prompt_idx=33, type=slop_phrase, phrase='gaze')                  \n",
      "BANNED (prompt_idx=39, type=ngram, ngram='turned face')                  \n",
      "BANNED (prompt_idx=29, type=slop_phrase, phrase='said, his voice barely')\n",
      "Batch Generating:   0%|          | 0/39 [02:06<?, ?prompt/s, 187.5 tok/s]Back-track: no valid next-token candidates survived. ▁asked\n",
      "BANNED (prompt_idx=19, type=ngram, ngram='asked voice')                  \n",
      "BANNED (prompt_idx=31, type=ngram, ngram='could quite')                  \n",
      "Batch Generating:   0%|          | 0/39 [02:06<?, ?prompt/s, 187.5 tok/s]"
     ]
    },
    {
     "name": "stderr",
     "output_type": "stream",
     "text": [
      "2025-05-17 16:44:05,197 [ERROR] [core.sampler        ]: Back-track: no valid next-token candidates survived.\n"
     ]
    },
    {
     "name": "stdout",
     "output_type": "stream",
     "text": [
      "BANNED (prompt_idx=23, type=slop_phrase, phrase='brow')                  \n",
      "BANNED (prompt_idx=3, type=slop_phrase, phrase='swirling')               \n",
      "BANNED (prompt_idx=11, type=slop_phrase, phrase='subtle')                \n",
      "BANNED (prompt_idx=12, type=slop_phrase, phrase='pulse')                 \n",
      "BANNED (prompt_idx=35, type=slop_phrase, phrase='profound')              \n",
      "BANNED (prompt_idx=0, type=slop_phrase, phrase='meticulously')           \n",
      "BANNED (prompt_idx=7, type=slop_phrase, phrase='intricate')              \n",
      "BANNED (prompt_idx=18, type=slop_phrase, phrase='profound')              \n",
      "BANNED (prompt_idx=2, type=slop_phrase, phrase='paused')                 \n",
      "Batch Generating:   0%|          | 0/39 [02:08<?, ?prompt/s, 181.1 tok/s]Back-track: no valid next-token candidates survived. ▁replaced\n",
      "BANNED (prompt_idx=13, type=slop_phrase, phrase='laced')                 \n",
      "Batch Generating:   0%|          | 0/39 [02:08<?, ?prompt/s, 183.0 tok/s]"
     ]
    },
    {
     "name": "stderr",
     "output_type": "stream",
     "text": [
      "2025-05-17 16:44:07,713 [ERROR] [core.sampler        ]: Back-track: no valid next-token candidates survived.\n"
     ]
    },
    {
     "name": "stdout",
     "output_type": "stream",
     "text": [
      "BANNED (prompt_idx=21, type=slop_phrase, phrase='watched in stunned silence')\n",
      "BANNED (prompt_idx=10, type=ngram, ngram='young man')                    \n",
      "BANNED (prompt_idx=3, type=slop_phrase, phrase='pressing')               \n",
      "BANNED (prompt_idx=32, type=slop_phrase, phrase='rhythm')                \n",
      "BANNED (prompt_idx=33, type=slop_phrase, phrase='unwavering')            \n",
      "BANNED (prompt_idx=38, type=slop_phrase, phrase='fragile')               \n",
      "Batch Generating:   0%|          | 0/39 [02:09<?, ?prompt/s, 186.4 tok/s]"
     ]
    },
    {
     "name": "stderr",
     "output_type": "stream",
     "text": [
      "2025-05-17 16:44:08,673 [ERROR] [core.sampler        ]: Back-track: no valid next-token candidates survived.\n"
     ]
    },
    {
     "name": "stdout",
     "output_type": "stream",
     "text": [
      "Back-track: no valid next-token candidates survived. ▁eyebrow\n",
      "BANNED (prompt_idx=23, type=slop_phrase, phrase='brow')                  \n",
      "BANNED (prompt_idx=31, type=regex, regex='\\bnot\\s+(?:just|only|merely)?\\s*(?:[^\\s]+\\s*){1,6}?[,;:—–-]?\\s*but\\s+(?:also\\s+)?', match='not only survived a lethal dose but ')\n",
      "BANNED (prompt_idx=22, type=slop_phrase, phrase='unsettling')            \n",
      "BANNED (prompt_idx=11, type=slop_phrase, phrase='testament')             \n",
      "BANNED (prompt_idx=36, type=slop_phrase, phrase='gently')                \n",
      "BANNED (prompt_idx=35, type=slop_phrase, phrase='subtle')                \n",
      "BANNED (prompt_idx=25, type=slop_phrase, phrase='hollow')                \n",
      "BANNED (prompt_idx=0, type=slop_phrase, phrase='grin')                   \n",
      "BANNED (prompt_idx=2, type=slop_phrase, phrase='gestured')               \n",
      "BANNED (prompt_idx=24, type=slop_phrase, phrase='stared')                \n",
      "BANNED (prompt_idx=34, type=slop_phrase, phrase='fabric')                \n",
      "BANNED (prompt_idx=3, type=slop_phrase, phrase='swirling')               \n",
      "BANNED (prompt_idx=7, type=slop_phrase, phrase='shimmering')             \n",
      "Batch Generating:   0%|          | 0/39 [02:11<?, ?prompt/s, 178.6 tok/s]"
     ]
    },
    {
     "name": "stderr",
     "output_type": "stream",
     "text": [
      "2025-05-17 16:44:10,719 [ERROR] [core.sampler        ]: Back-track: no valid next-token candidates survived.\n"
     ]
    },
    {
     "name": "stdout",
     "output_type": "stream",
     "text": [
      "Back-track: no valid next-token candidates survived. ▁replaced\n",
      "BANNED (prompt_idx=13, type=slop_phrase, phrase='laced')                 \n",
      "BANNED (prompt_idx=32, type=slop_phrase, phrase='rhythm')                \n",
      "BANNED (prompt_idx=27, type=slop_phrase, phrase='unsettling')            \n",
      "BANNED (prompt_idx=33, type=slop_phrase, phrase='gaze')                  \n",
      "BANNED (prompt_idx=22, type=slop_phrase, phrase='voice barely a whisper')\n",
      "BANNED (prompt_idx=21, type=slop_phrase, phrase='despair')               \n",
      "BANNED (prompt_idx=19, type=slop_phrase, phrase='faint')                 \n",
      "BANNED (prompt_idx=4, type=ngram, ngram='deep within')                   \n",
      "Batch Generating:   0%|          | 0/39 [02:13<?, ?prompt/s, 168.3 tok/s]"
     ]
    },
    {
     "name": "stderr",
     "output_type": "stream",
     "text": [
      "2025-05-17 16:44:12,373 [ERROR] [core.sampler        ]: Back-track: no valid next-token candidates survived.\n"
     ]
    },
    {
     "name": "stdout",
     "output_type": "stream",
     "text": [
      "Back-track: no valid next-token candidates survived. ▁eyebrow\n",
      "BANNED (prompt_idx=23, type=slop_phrase, phrase='brow')                  \n",
      "BANNED (prompt_idx=20, type=ngram, ngram='felt like')                    \n",
      "BANNED (prompt_idx=3, type=slop_phrase, phrase='flicker')                \n",
      "BANNED (prompt_idx=2, type=slop_phrase, phrase='paused')                 \n",
      "BANNED (prompt_idx=11, type=slop_phrase, phrase='terrifying')            \n",
      "BANNED (prompt_idx=30, type=slop_phrase, phrase='elias')                 \n",
      "BANNED (prompt_idx=7, type=slop_phrase, phrase='tapestry')               \n",
      "BANNED (prompt_idx=13, type=slop_phrase, phrase='rhythm')                \n",
      "BANNED (prompt_idx=32, type=slop_phrase, phrase='rhythm')                \n",
      "BANNED (prompt_idx=22, type=slop_phrase, phrase='gaze')                  \n",
      "BANNED (prompt_idx=18, type=slop_phrase, phrase='profound')              \n",
      "BANNED (prompt_idx=34, type=slop_phrase, phrase='fabric')                \n",
      "BANNED (prompt_idx=4, type=slop_phrase, phrase='echo')                   \n",
      "BANNED (prompt_idx=25, type=slop_phrase, phrase='gaze')                  \n",
      "BANNED (prompt_idx=19, type=slop_phrase, phrase='flicker')               \n",
      "BANNED (prompt_idx=38, type=slop_phrase, phrase='newfound')              \n",
      "BANNED (prompt_idx=21, type=slop_phrase, phrase='despair')               \n",
      "BANNED (prompt_idx=27, type=slop_phrase, phrase='chilling')              \n",
      "BANNED (prompt_idx=3, type=slop_phrase, phrase='rhythm')                 \n",
      "BANNED (prompt_idx=5, type=slop_phrase, phrase='despair')                \n",
      "BANNED (prompt_idx=31, type=slop_phrase, phrase='fabric')                \n",
      "BANNED (prompt_idx=2, type=slop_phrase, phrase='etched')                 \n",
      "BANNED (prompt_idx=1, type=slop_phrase, phrase='eyes locking onto')      \n",
      "BANNED (prompt_idx=35, type=slop_phrase, phrase='silas')                 \n",
      "BANNED (prompt_idx=28, type=slop_phrase, phrase='sigh')                  \n",
      "BANNED (prompt_idx=24, type=slop_phrase, phrase='blinked')               \n",
      "BANNED (prompt_idx=22, type=slop_phrase, phrase='whisper')               \n",
      "BANNED (prompt_idx=11, type=slop_phrase, phrase='frantic')               \n",
      "Batch Generating:   0%|          | 0/39 [02:17<?, ?prompt/s, 165.6 tok/s]"
     ]
    },
    {
     "name": "stderr",
     "output_type": "stream",
     "text": [
      "2025-05-17 16:44:16,891 [ERROR] [core.sampler        ]: Back-track: no valid next-token candidates survived.\n"
     ]
    },
    {
     "name": "stdout",
     "output_type": "stream",
     "text": [
      "Back-track: no valid next-token candidates survived. ▁replaced\n",
      "BANNED (prompt_idx=13, type=slop_phrase, phrase='laced')                 \n",
      "BANNED (prompt_idx=32, type=slop_phrase, phrase='rhythm')                \n",
      "BANNED (prompt_idx=10, type=slop_phrase, phrase='said, his voice firm')  \n",
      "BANNED (prompt_idx=33, type=regex, regex='\\bnot\\s+(?:just|only|merely)?\\s*(?:[^\\s]+\\s*){1,6}?[,;:—–-]?\\s*but\\s+(?:also\\s+)?', match='not great. It’s… a work in progress. But ')\n",
      "BANNED (prompt_idx=25, type=ngram, ngram='said eyes')                    \n",
      "BANNED (prompt_idx=18, type=slop_phrase, phrase='stared')                \n",
      "BANNED (prompt_idx=29, type=slop_phrase, phrase='shook')                 \n",
      "BANNED (prompt_idx=6, type=slop_phrase, phrase='sensation')              \n",
      "BANNED (prompt_idx=19, type=slop_phrase, phrase='flicker')               \n",
      "BANNED (prompt_idx=3, type=slop_phrase, phrase='rhythm')                 \n",
      "BANNED (prompt_idx=0, type=slop_phrase, phrase='stared')                 \n",
      "BANNED (prompt_idx=5, type=slop_phrase, phrase='curse')                  \n",
      "BANNED (prompt_idx=2, type=slop_phrase, phrase='etched')                 \n",
      "BANNED (prompt_idx=35, type=slop_phrase, phrase='profound')              \n",
      "BANNED (prompt_idx=21, type=slop_phrase, phrase='hissed')                \n",
      "BANNED (prompt_idx=22, type=ngram, ngram='voice trembling')              \n",
      "BANNED (prompt_idx=24, type=slop_phrase, phrase='stared')                \n",
      "BANNED (prompt_idx=1, type=slop_phrase, phrase='flicker')                \n",
      "BANNED (prompt_idx=28, type=ngram, ngram='long since')                   \n",
      "BANNED (prompt_idx=27, type=slop_phrase, phrase='unsettling')            \n",
      "BANNED (prompt_idx=39, type=slop_phrase, phrase='gestured')              \n",
      "BANNED (prompt_idx=13, type=slop_phrase, phrase='scent')                 \n",
      "BANNED (prompt_idx=32, type=slop_phrase, phrase='rhythm')                \n",
      "BANNED (prompt_idx=10, type=slop_phrase, phrase='gaze')                  \n",
      "BANNED (prompt_idx=7, type=slop_phrase, phrase='sensation')              \n",
      "BANNED (prompt_idx=17, type=ngram, ngram='almost imperceptible')         \n",
      "BANNED (prompt_idx=26, type=slop_phrase, phrase='said, her voice soft')  \n",
      "BANNED (prompt_idx=3, type=slop_phrase, phrase='whisper')                \n",
      "BANNED (prompt_idx=18, type=slop_phrase, phrase='blinked')               \n",
      "BANNED (prompt_idx=19, type=slop_phrase, phrase='flicker')               \n",
      "BANNED (prompt_idx=5, type=slop_phrase, phrase='despair')                \n",
      "BANNED (prompt_idx=6, type=slop_phrase, phrase='subtle')                 \n",
      "BANNED (prompt_idx=24, type=ngram, ngram='said voice')                   \n",
      "BANNED (prompt_idx=25, type=slop_phrase, phrase='hesitated')             \n",
      "BANNED (prompt_idx=21, type=slop_phrase, phrase='flicker')               \n",
      "BANNED (prompt_idx=31, type=slop_phrase, phrase='pale')                  \n",
      "Batch Generating:   0%|          | 0/39 [02:24<?, ?prompt/s, 148.6 tok/s]Back-track: no valid next-token candidates survived. ▁replaced\n",
      "BANNED (prompt_idx=13, type=slop_phrase, phrase='laced')                 \n",
      "BANNED (prompt_idx=32, type=regex, regex='\\bnot\\s+(?:just|only|merely)?\\s*(?:[^\\s]+\\s*){1,6}?[,;:—–-]?\\s*but\\s+(?:also\\s+)?', match='not really, but ')\n",
      "Batch Generating:   0%|          | 0/39 [02:24<?, ?prompt/s, 149.9 tok/s]"
     ]
    },
    {
     "name": "stderr",
     "output_type": "stream",
     "text": [
      "2025-05-17 16:44:23,061 [ERROR] [core.sampler        ]: Back-track: no valid next-token candidates survived.\n"
     ]
    },
    {
     "name": "stdout",
     "output_type": "stream",
     "text": [
      "BANNED (prompt_idx=10, type=ngram, ngram='voice firm')                   \n",
      "BANNED (prompt_idx=1, type=slop_phrase, phrase='flicker')                \n",
      "BANNED (prompt_idx=4, type=slop_phrase, phrase='elara')                  \n",
      "BANNED (prompt_idx=33, type=ngram, ngram='raised eyebrow')               \n",
      "BANNED (prompt_idx=3, type=slop_phrase, phrase='pressing')               \n",
      "BANNED (prompt_idx=15, type=slop_phrase, phrase='faint')                 \n",
      "BANNED (prompt_idx=11, type=ngram, ngram='face pale')                    \n",
      "Batch Generating:   0%|          | 0/39 [02:24<?, ?prompt/s, 158.8 tok/s]Back-track: no valid next-token candidates survived. ▁profound\n",
      "BANNED (prompt_idx=27, type=slop_phrase, phrase='profound')              \n",
      "BANNED (prompt_idx=26, type=slop_phrase, phrase='whisper')               \n",
      "Batch Generating:   0%|          | 0/39 [02:24<?, ?prompt/s, 161.2 tok/s]"
     ]
    },
    {
     "name": "stderr",
     "output_type": "stream",
     "text": [
      "2025-05-17 16:44:23,918 [ERROR] [core.sampler        ]: Back-track: no valid next-token candidates survived.\n"
     ]
    },
    {
     "name": "stdout",
     "output_type": "stream",
     "text": [
      "BANNED (prompt_idx=0, type=ngram, ngram='replied voice')                 \n",
      "BANNED (prompt_idx=12, type=slop_phrase, phrase='paused')                \n",
      "BANNED (prompt_idx=29, type=slop_phrase, phrase='took a step back')      \n",
      "BANNED (prompt_idx=17, type=slop_phrase, phrase='flicker')               \n",
      "Batch Generating:   0%|          | 0/39 [02:25<?, ?prompt/s, 162.5 tok/s]Back-track: no valid next-token candidates survived. ▁stared\n",
      "BANNED (prompt_idx=18, type=slop_phrase, phrase='stared')                \n",
      "Batch Generating:   0%|          | 0/39 [02:25<?, ?prompt/s, 163.3 tok/s]"
     ]
    },
    {
     "name": "stderr",
     "output_type": "stream",
     "text": [
      "2025-05-17 16:44:24,439 [ERROR] [core.sampler        ]: Back-track: no valid next-token candidates survived.\n"
     ]
    },
    {
     "name": "stdout",
     "output_type": "stream",
     "text": [
      "BANNED (prompt_idx=2, type=slop_phrase, phrase='countless')              \n",
      "BANNED (prompt_idx=16, type=slop_phrase, phrase='chaotic')               \n",
      "BANNED (prompt_idx=37, type=slop_phrase, phrase='frantic')               \n",
      "BANNED (prompt_idx=5, type=ngram, ngram='felt like')                     \n",
      "BANNED (prompt_idx=38, type=slop_phrase, phrase='flicker')               \n",
      "BANNED (prompt_idx=24, type=ngram, ngram='said voice')                   \n",
      "BANNED (prompt_idx=20, type=slop_phrase, phrase='void')                  \n",
      "BANNED (prompt_idx=6, type=slop_phrase, phrase='shifting')               \n",
      "BANNED (prompt_idx=13, type=slop_phrase, phrase='relentless')            \n",
      "Batch Generating:   0%|          | 0/39 [02:27<?, ?prompt/s, 152.7 tok/s]"
     ]
    },
    {
     "name": "stderr",
     "output_type": "stream",
     "text": [
      "2025-05-17 16:44:26,344 [ERROR] [core.sampler        ]: Back-track: no valid next-token candidates survived.\n"
     ]
    },
    {
     "name": "stdout",
     "output_type": "stream",
     "text": [
      "Back-track: no valid next-token candidates survived. ▁gaze\n",
      "BANNED (prompt_idx=10, type=slop_phrase, phrase='gaze')                  \n",
      "BANNED (prompt_idx=4, type=slop_phrase, phrase='amelia')                 \n",
      "BANNED (prompt_idx=31, type=slop_phrase, phrase='pale')                  \n",
      "BANNED (prompt_idx=33, type=slop_phrase, phrase='brow')                  \n",
      "BANNED (prompt_idx=0, type=slop_phrase, phrase='said, his voice laced')  \n",
      "BANNED (prompt_idx=22, type=slop_phrase, phrase='said, his voice barely')\n",
      "BANNED (prompt_idx=7, type=slop_phrase, phrase='beacon')                 \n",
      "BANNED (prompt_idx=15, type=slop_phrase, phrase='flicker')               \n",
      "BANNED (prompt_idx=19, type=slop_phrase, phrase='scent')                 \n",
      "BANNED (prompt_idx=23, type=slop_phrase, phrase='subtle')                \n",
      "BANNED (prompt_idx=2, type=slop_phrase, phrase='subtle')                 \n",
      "BANNED (prompt_idx=11, type=slop_phrase, phrase='trembling')             \n",
      "BANNED (prompt_idx=5, type=slop_phrase, phrase='flicker')                \n",
      "Batch Generating:   0%|          | 0/39 [02:28<?, ?prompt/s, 155.3 tok/s]Back-track: no valid next-token candidates survived. ▁stared\n",
      "BANNED (prompt_idx=18, type=slop_phrase, phrase='stared')                \n",
      "Batch Generating:   0%|          | 0/39 [02:28<?, ?prompt/s, 159.6 tok/s]"
     ]
    },
    {
     "name": "stderr",
     "output_type": "stream",
     "text": [
      "2025-05-17 16:44:27,956 [ERROR] [core.sampler        ]: Back-track: no valid next-token candidates survived.\n"
     ]
    },
    {
     "name": "stdout",
     "output_type": "stream",
     "text": [
      "BANNED (prompt_idx=17, type=slop_phrase, phrase='unsettling')            \n",
      "BANNED (prompt_idx=38, type=slop_phrase, phrase='flicker')               \n",
      "BANNED (prompt_idx=16, type=slop_phrase, phrase='sensation')             \n",
      "Batch Generating:   0%|          | 0/39 [02:29<?, ?prompt/s, 156.2 tok/s]Back-track: no valid next-token candidates survived. ▁profound\n",
      "BANNED (prompt_idx=27, type=slop_phrase, phrase='profound')              \n",
      "Batch Generating:   0%|          | 0/39 [02:29<?, ?prompt/s, 159.2 tok/s]"
     ]
    },
    {
     "name": "stderr",
     "output_type": "stream",
     "text": [
      "2025-05-17 16:44:28,308 [ERROR] [core.sampler        ]: Back-track: no valid next-token candidates survived.\n"
     ]
    },
    {
     "name": "stdout",
     "output_type": "stream",
     "text": [
      "BANNED (prompt_idx=24, type=slop_phrase, phrase='air grew colder')       \n",
      "BANNED (prompt_idx=3, type=slop_phrase, phrase='relentless')             \n",
      "BANNED (prompt_idx=35, type=slop_phrase, phrase='froze')                 \n",
      "BANNED (prompt_idx=20, type=slop_phrase, phrase='palpable')              \n",
      "BANNED (prompt_idx=4, type=slop_phrase, phrase='lyra')                   \n",
      "BANNED (prompt_idx=13, type=slop_phrase, phrase='frantic')               \n",
      "Batch Generating:   0%|          | 0/39 [02:30<?, ?prompt/s, 126.9 tok/s]Back-track: no valid next-token candidates survived. ▁gaze\n",
      "BANNED (prompt_idx=10, type=slop_phrase, phrase='gaze')                  \n",
      "                                                                         \r"
     ]
    },
    {
     "name": "stderr",
     "output_type": "stream",
     "text": [
      "2025-05-17 16:44:29,423 [ERROR] [core.sampler        ]: Back-track: no valid next-token candidates survived.\n"
     ]
    },
    {
     "name": "stdout",
     "output_type": "stream",
     "text": [
      "BANNED (prompt_idx=6, type=slop_phrase, phrase='profound')\n",
      "BANNED (prompt_idx=36, type=slop_phrase, phrase='elias')                 \n",
      "BANNED (prompt_idx=0, type=slop_phrase, phrase='void')                   \n",
      "Batch Generating:   0%|          | 0/39 [02:31<?, ?prompt/s, 142.6 tok/s]"
     ]
    },
    {
     "name": "stderr",
     "output_type": "stream",
     "text": [
      "2025-05-17 16:44:30,290 [ERROR] [core.sampler        ]: Back-track: no valid next-token candidates survived.\n"
     ]
    },
    {
     "name": "stdout",
     "output_type": "stream",
     "text": [
      "Back-track: no valid next-token candidates survived. ▁pale\n",
      "BANNED (prompt_idx=31, type=slop_phrase, phrase='pale')                  \n",
      "BANNED (prompt_idx=7, type=slop_phrase, phrase='beacon')                 \n",
      "BANNED (prompt_idx=2, type=ngram, ngram='carefully constructed')         \n",
      "BANNED (prompt_idx=19, type=slop_phrase, phrase='glow')                  \n",
      "BANNED (prompt_idx=25, type=slop_phrase, phrase='profound')              \n",
      "BANNED (prompt_idx=5, type=ngram, ngram='felt like')                     \n",
      "BANNED (prompt_idx=11, type=slop_phrase, phrase='void')                  \n",
      "BANNED (prompt_idx=28, type=ngram, ngram='said voice')                   \n",
      "BANNED (prompt_idx=3, type=slop_phrase, phrase='unwavering')             \n",
      "BANNED (prompt_idx=23, type=slop_phrase, phrase='silas')                 \n",
      "Batch Generating:   0%|          | 0/39 [02:32<?, ?prompt/s, 152.8 tok/s]Back-track: no valid next-token candidates survived. ▁stared\n",
      "BANNED (prompt_idx=18, type=slop_phrase, phrase='stared')                \n",
      "Batch Generating:   0%|          | 0/39 [02:32<?, ?prompt/s, 155.8 tok/s]"
     ]
    },
    {
     "name": "stderr",
     "output_type": "stream",
     "text": [
      "2025-05-17 16:44:31,618 [ERROR] [core.sampler        ]: Back-track: no valid next-token candidates survived.\n"
     ]
    },
    {
     "name": "stdout",
     "output_type": "stream",
     "text": [
      "BANNED (prompt_idx=16, type=slop_phrase, phrase='overwhelming')          \n",
      "BANNED (prompt_idx=20, type=slop_phrase, phrase='hollow')                \n",
      "BANNED (prompt_idx=4, type=slop_phrase, phrase='elara')                  \n",
      "BANNED (prompt_idx=32, type=slop_phrase, phrase='curiosity')             \n",
      "Batch Generating:   0%|          | 0/39 [02:33<?, ?prompt/s, 153.6 tok/s]Back-track: no valid next-token candidates survived. ▁gaze\n",
      "BANNED (prompt_idx=10, type=slop_phrase, phrase='gaze')                  \n",
      "Batch Generating:   0%|          | 0/39 [02:33<?, ?prompt/s, 150.2 tok/s]"
     ]
    },
    {
     "name": "stderr",
     "output_type": "stream",
     "text": [
      "2025-05-17 16:44:32,531 [ERROR] [core.sampler        ]: Back-track: no valid next-token candidates survived.\n"
     ]
    },
    {
     "name": "stdout",
     "output_type": "stream",
     "text": [
      "BANNED (prompt_idx=0, type=slop_phrase, phrase='void')                   \n",
      "BANNED (prompt_idx=6, type=slop_phrase, phrase='terrifying')             \n",
      "BANNED (prompt_idx=7, type=slop_phrase, phrase='beacon')                 \n",
      "BANNED (prompt_idx=2, type=slop_phrase, phrase='subtle')                 \n",
      "BANNED (prompt_idx=25, type=ngram, ngram='felt like')                    \n",
      "BANNED (prompt_idx=19, type=slop_phrase, phrase='terrifying')            \n",
      "Batch Generating:   0%|          | 0/39 [02:34<?, ?prompt/s, 156.0 tok/s]Back-track: no valid next-token candidates survived. ▁pale\n",
      "BANNED (prompt_idx=31, type=slop_phrase, phrase='pale')                  \n",
      "Batch Generating:   0%|          | 0/39 [02:34<?, ?prompt/s, 157.8 tok/s]"
     ]
    },
    {
     "name": "stderr",
     "output_type": "stream",
     "text": [
      "2025-05-17 16:44:33,893 [ERROR] [core.sampler        ]: Back-track: no valid next-token candidates survived.\n"
     ]
    },
    {
     "name": "stdout",
     "output_type": "stream",
     "text": [
      "BANNED (prompt_idx=5, type=slop_phrase, phrase='small, almost imperceptible')\n",
      "BANNED (prompt_idx=11, type=slop_phrase, phrase='utterly')               \n",
      "BANNED (prompt_idx=28, type=slop_phrase, phrase='smile spreading across')\n",
      "BANNED (prompt_idx=24, type=ngram, ngram='could feel')                   \n",
      "BANNED (prompt_idx=35, type=slop_phrase, phrase='hollow')                \n",
      "BANNED (prompt_idx=18, type=ngram, ngram='replied voice')                \n",
      "BANNED (prompt_idx=20, type=slop_phrase, phrase='profound')              \n",
      "BANNED (prompt_idx=23, type=slop_phrase, phrase='silas')                 \n",
      "BANNED (prompt_idx=8, type=slop_phrase, phrase='realization')            \n",
      "BANNED (prompt_idx=16, type=slop_phrase, phrase='overwhelming')          \n",
      "BANNED (prompt_idx=10, type=slop_phrase, phrase='palpable')              \n",
      "BANNED (prompt_idx=25, type=slop_phrase, phrase='profound')              \n",
      "BANNED (prompt_idx=2, type=slop_phrase, phrase='etched')                 \n",
      "BANNED (prompt_idx=19, type=slop_phrase, phrase='profound')              \n",
      "Batch Generating:   0%|          | 0/39 [02:38<?, ?prompt/s, 154.7 tok/s]Back-track: no valid next-token candidates survived. ▁pale\n",
      "BANNED (prompt_idx=31, type=slop_phrase, phrase='pale')                  \n",
      "BANNED (prompt_idx=26, type=slop_phrase, phrase='trembling')             \n",
      "Batch Generating:   0%|          | 0/39 [02:38<?, ?prompt/s, 150.8 tok/s]"
     ]
    },
    {
     "name": "stderr",
     "output_type": "stream",
     "text": [
      "2025-05-17 16:44:37,402 [ERROR] [core.sampler        ]: Back-track: no valid next-token candidates survived.\n"
     ]
    },
    {
     "name": "stdout",
     "output_type": "stream",
     "text": [
      "BANNED (prompt_idx=5, type=slop_phrase, phrase='flicker')                \n",
      "BANNED (prompt_idx=29, type=slop_phrase, phrase='tasting like ash')      \n",
      "BANNED (prompt_idx=36, type=ngram, ngram='eyes gleaming')                \n",
      "BANNED (prompt_idx=22, type=ngram, ngram='something far')                \n",
      "BANNED (prompt_idx=4, type=slop_phrase, phrase='stammered')              \n",
      "BANNED (prompt_idx=11, type=slop_phrase, phrase='profound')              \n",
      "BANNED (prompt_idx=24, type=slop_phrase, phrase='sensation')             \n",
      "BANNED (prompt_idx=13, type=slop_phrase, phrase='chilling')              \n",
      "BANNED (prompt_idx=35, type=slop_phrase, phrase='etched')                \n",
      "BANNED (prompt_idx=20, type=slop_phrase, phrase='void')                  \n",
      "BANNED (prompt_idx=28, type=ngram, ngram='smile playing')                \n",
      "BANNED (prompt_idx=10, type=slop_phrase, phrase='elias')                 \n",
      "BANNED (prompt_idx=25, type=slop_phrase, phrase='utterly')               \n",
      "Batch Generating:   0%|          | 0/39 [02:40<?, ?prompt/s, 162.9 tok/s]Back-track: no valid next-token candidates survived. ▁stared\n",
      "BANNED (prompt_idx=18, type=slop_phrase, phrase='stared')                \n",
      "Batch Generating:   0%|          | 0/39 [02:40<?, ?prompt/s, 164.7 tok/s]"
     ]
    },
    {
     "name": "stderr",
     "output_type": "stream",
     "text": [
      "2025-05-17 16:44:39,163 [ERROR] [core.sampler        ]: Back-track: no valid next-token candidates survived.\n"
     ]
    },
    {
     "name": "stdout",
     "output_type": "stream",
     "text": [
      "BANNED (prompt_idx=16, type=slop_phrase, phrase='overwhelming')          \n",
      "BANNED (prompt_idx=33, type=slop_phrase, phrase='frantic')               \n",
      "BANNED (prompt_idx=23, type=slop_phrase, phrase='silas')                 \n",
      "BANNED (prompt_idx=1, type=slop_phrase, phrase='surge')                  \n",
      "BANNED (prompt_idx=34, type=regex, regex='\\bnot\\s+(?:just|only|merely)?\\s*(?:[^\\s]+\\s*){1,6}?[,;:—–-]?\\s*but\\s+(?:also\\s+)?', match='Not destroyed, not killed, but ')\n",
      "BANNED (prompt_idx=19, type=slop_phrase, phrase='utterly')               \n",
      "BANNED (prompt_idx=14, type=slop_phrase, phrase='chaotic')               \n",
      "BANNED (prompt_idx=7, type=slop_phrase, phrase='laced')                  \n",
      "BANNED (prompt_idx=22, type=slop_phrase, phrase='shifted')               \n",
      "BANNED (prompt_idx=5, type=slop_phrase, phrase='flicker')                \n",
      "BANNED (prompt_idx=4, type=slop_phrase, phrase='swallowed')              \n",
      "BANNED (prompt_idx=26, type=slop_phrase, phrase='faint')                 \n",
      "BANNED (prompt_idx=31, type=slop_phrase, phrase='blinked')               \n",
      "BANNED (prompt_idx=29, type=slop_phrase, phrase='laced')                 \n",
      "BANNED (prompt_idx=15, type=slop_phrase, phrase='shifted')               \n",
      "BANNED (prompt_idx=25, type=slop_phrase, phrase='said, my voice barely') \n",
      "BANNED (prompt_idx=3, type=slop_phrase, phrase='realization')            \n",
      "BANNED (prompt_idx=24, type=slop_phrase, phrase='sensation')             \n",
      "BANNED (prompt_idx=8, type=ngram, ngram='carefully constructed')         \n",
      "BANNED (prompt_idx=39, type=slop_phrase, phrase='stretched')             \n",
      "BANNED (prompt_idx=32, type=slop_phrase, phrase='profound')              \n",
      "BANNED (prompt_idx=35, type=slop_phrase, phrase='pale')                  \n",
      "BANNED (prompt_idx=11, type=slop_phrase, phrase='hollow')                \n",
      "BANNED (prompt_idx=21, type=slop_phrase, phrase='trembling')             \n",
      "BANNED (prompt_idx=2, type=slop_phrase, phrase='voice barely a whisper') \n",
      "BANNED (prompt_idx=10, type=slop_phrase, phrase='elias')                 \n",
      "BANNED (prompt_idx=28, type=slop_phrase, phrase='shiver')                \n",
      "BANNED (prompt_idx=18, type=slop_phrase, phrase='countless')             \n",
      "BANNED (prompt_idx=16, type=slop_phrase, phrase='clutching')             \n",
      "BANNED (prompt_idx=22, type=slop_phrase, phrase='sensation')             \n",
      "BANNED (prompt_idx=19, type=slop_phrase, phrase='terrifying')            \n",
      "BANNED (prompt_idx=7, type=slop_phrase, phrase='rhythm')                 \n",
      "BANNED (prompt_idx=4, type=slop_phrase, phrase='utterly')                \n",
      "BANNED (prompt_idx=1, type=slop_phrase, phrase='leaned')                 \n",
      "BANNED (prompt_idx=5, type=ngram, ngram='almost imperceptible')          \n",
      "BANNED (prompt_idx=34, type=slop_phrase, phrase='shifted')               \n",
      "BANNED (prompt_idx=26, type=regex, regex='\\bnot\\s+(?:just|only|merely)?\\s*(?:[^\\s]+\\s*){1,6}?[,;:—–-]?\\s*but\\s+(?:also\\s+)?', match='Not the manufactured sweetness of the past, but ')\n",
      "BANNED (prompt_idx=29, type=slop_phrase, phrase='hollow')                \n",
      "BANNED (prompt_idx=25, type=slop_phrase, phrase='said, my voice barely') \n",
      "BANNED (prompt_idx=31, type=slop_phrase, phrase='whisper')               \n",
      "BANNED (prompt_idx=13, type=slop_phrase, phrase='void')                  \n",
      "BANNED (prompt_idx=3, type=slop_phrase, phrase='whisper')                \n",
      "BANNED (prompt_idx=8, type=slop_phrase, phrase='void')                   \n",
      "BANNED (prompt_idx=24, type=slop_phrase, phrase='subtle')                \n",
      "BANNED (prompt_idx=20, type=slop_phrase, phrase='sigh')                  \n",
      "BANNED (prompt_idx=10, type=slop_phrase, phrase='felt a flicker of something')\n",
      "BANNED (prompt_idx=33, type=slop_phrase, phrase='grin')                  \n",
      "BANNED (prompt_idx=22, type=slop_phrase, phrase='sensation')             \n",
      "BANNED (prompt_idx=39, type=slop_phrase, phrase='hung heavy in the air') \n",
      "BANNED (prompt_idx=19, type=slop_phrase, phrase='said, his voice laced') \n",
      "BANNED (prompt_idx=28, type=ngram, ngram='smile playing')                \n",
      "BANNED (prompt_idx=4, type=slop_phrase, phrase='pressing')               \n",
      "BANNED (prompt_idx=23, type=slop_phrase, phrase='silas')                 \n",
      "BANNED (prompt_idx=12, type=slop_phrase, phrase='laced')                 \n",
      "BANNED (prompt_idx=26, type=slop_phrase, phrase='whisper')               \n",
      "BANNED (prompt_idx=1, type=regex, regex='\\bnot\\s+(?:just|only|merely)?\\s*(?:[^\\s]+\\s*){1,6}?[,;:—–-]?\\s*but\\s+(?:also\\s+)?', match='not yet, but ')\n",
      "BANNED (prompt_idx=3, type=slop_phrase, phrase='profound')               \n",
      "BANNED (prompt_idx=29, type=slop_phrase, phrase='hollow')                \n",
      "Batch Generating:   0%|          | 0/39 [02:49<?, ?prompt/s, 137.0 tok/s]Back-track: no valid next-token candidates survived. ▁pale\n",
      "BANNED (prompt_idx=31, type=slop_phrase, phrase='pale')                  \n",
      "BANNED (prompt_idx=2, type=slop_phrase, phrase='pulse')                  \n",
      "Batch Generating:   0%|          | 0/39 [02:49<?, ?prompt/s, 140.1 tok/s]"
     ]
    },
    {
     "name": "stderr",
     "output_type": "stream",
     "text": [
      "2025-05-17 16:44:48,457 [ERROR] [core.sampler        ]: Back-track: no valid next-token candidates survived.\n"
     ]
    },
    {
     "name": "stdout",
     "output_type": "stream",
     "text": [
      "BANNED (prompt_idx=34, type=slop_phrase, phrase='fabric')                \n",
      "BANNED (prompt_idx=6, type=slop_phrase, phrase='subtle')                 \n",
      "BANNED (prompt_idx=10, type=slop_phrase, phrase='swallowed')             \n",
      "BANNED (prompt_idx=33, type=slop_phrase, phrase='grin')                  \n",
      "BANNED (prompt_idx=35, type=slop_phrase, phrase='realization')           \n",
      "BANNED (prompt_idx=38, type=slop_phrase, phrase='chilling')              \n",
      "Batch Generating:   0%|          | 0/39 [02:50<?, ?prompt/s, 152.4 tok/s]"
     ]
    },
    {
     "name": "stderr",
     "output_type": "stream",
     "text": [
      "2025-05-17 16:44:50,208 [ERROR] [core.sampler        ]: Back-track: no valid next-token candidates survived.\n"
     ]
    },
    {
     "name": "stdout",
     "output_type": "stream",
     "text": [
      "Back-track: no valid next-token candidates survived. ▁stretched\n",
      "BANNED (prompt_idx=39, type=slop_phrase, phrase='stretched')             \n",
      "BANNED (prompt_idx=25, type=slop_phrase, phrase='lyra')                  \n",
      "BANNED (prompt_idx=3, type=slop_phrase, phrase='elara')                  \n",
      "BANNED (prompt_idx=37, type=slop_phrase, phrase='chilling')              \n",
      "BANNED (prompt_idx=7, type=slop_phrase, phrase='relentless')             \n",
      "BANNED (prompt_idx=8, type=slop_phrase, phrase='revealing')              \n",
      "BANNED (prompt_idx=23, type=slop_phrase, phrase='silas')                 \n",
      "BANNED (prompt_idx=12, type=slop_phrase, phrase='overwhelming')          \n",
      "BANNED (prompt_idx=17, type=ngram, ngram='carefully constructed')        \n",
      "Batch Generating:   0%|          | 0/39 [02:53<?, ?prompt/s, 174.6 tok/s]"
     ]
    },
    {
     "name": "stderr",
     "output_type": "stream",
     "text": [
      "2025-05-17 16:44:52,276 [ERROR] [core.sampler        ]: Back-track: no valid next-token candidates survived.\n"
     ]
    },
    {
     "name": "stdout",
     "output_type": "stream",
     "text": [
      "Back-track: no valid next-token candidates survived. ▁pale\n",
      "BANNED (prompt_idx=31, type=slop_phrase, phrase='pale')                  \n",
      "BANNED (prompt_idx=19, type=slop_phrase, phrase='stared')                \n",
      "BANNED (prompt_idx=6, type=slop_phrase, phrase='echo')                   \n",
      "BANNED (prompt_idx=34, type=slop_phrase, phrase='fabric')                \n",
      "BANNED (prompt_idx=3, type=ngram, ngram='deep within')                   \n",
      "BANNED (prompt_idx=11, type=slop_phrase, phrase='stared')                \n",
      "Batch Generating:   0%|          | 0/39 [02:55<?, ?prompt/s, 169.7 tok/s]Back-track: no valid next-token candidates survived. ▁stretched\n",
      "BANNED (prompt_idx=39, type=slop_phrase, phrase='stretched')             \n",
      "Batch Generating:   0%|          | 0/39 [02:55<?, ?prompt/s, 169.1 tok/s]"
     ]
    },
    {
     "name": "stderr",
     "output_type": "stream",
     "text": [
      "2025-05-17 16:44:54,489 [ERROR] [core.sampler        ]: Back-track: no valid next-token candidates survived.\n"
     ]
    },
    {
     "name": "stdout",
     "output_type": "stream",
     "text": [
      "BANNED (prompt_idx=37, type=slop_phrase, phrase='profound')              \n",
      "BANNED (prompt_idx=7, type=slop_phrase, phrase='felt a strange sense')   \n",
      "BANNED (prompt_idx=22, type=ngram, ngram='said voice')                   \n",
      "BANNED (prompt_idx=13, type=slop_phrase, phrase='profound')              \n",
      "BANNED (prompt_idx=2, type=slop_phrase, phrase='profound')               \n",
      "BANNED (prompt_idx=29, type=slop_phrase, phrase='gaze')                  \n",
      "BANNED (prompt_idx=36, type=slop_phrase, phrase='rain continued to fall')\n",
      "BANNED (prompt_idx=32, type=slop_phrase, phrase='profound')              \n",
      "BANNED (prompt_idx=23, type=slop_phrase, phrase='rhythm')                \n",
      "BANNED (prompt_idx=4, type=ngram, ngram='long time')                     \n",
      "BANNED (prompt_idx=24, type=slop_phrase, phrase='blinked')               \n",
      "BANNED (prompt_idx=31, type=slop_phrase, phrase='murmured')              \n",
      "BANNED (prompt_idx=1, type=slop_phrase, phrase='palpable')               \n",
      "BANNED (prompt_idx=20, type=slop_phrase, phrase='scent')                 \n",
      "BANNED (prompt_idx=33, type=regex, regex='\\bnot\\s+(?:just|only|merely)?\\s*(?:[^\\s]+\\s*){1,6}?[,;:—–-]?\\s*but\\s+(?:also\\s+)?', match='not with outright criticism, but ')\n",
      "BANNED (prompt_idx=19, type=slop_phrase, phrase='stumbled')              \n",
      "BANNED (prompt_idx=15, type=slop_phrase, phrase='relentless')            \n",
      "BANNED (prompt_idx=34, type=ngram, ngram='leaving behind')               \n",
      "BANNED (prompt_idx=8, type=slop_phrase, phrase='whisper')                \n",
      "BANNED (prompt_idx=37, type=slop_phrase, phrase='realization')           \n",
      "BANNED (prompt_idx=30, type=slop_phrase, phrase='subtle')                \n",
      "BANNED (prompt_idx=11, type=slop_phrase, phrase='chilling')              \n",
      "Batch Generating:   0%|          | 0/39 [02:59<?, ?prompt/s, 146.9 tok/s]"
     ]
    },
    {
     "name": "stderr",
     "output_type": "stream",
     "text": [
      "2025-05-17 16:44:58,698 [ERROR] [core.sampler        ]: Back-track: no valid next-token candidates survived.\n"
     ]
    },
    {
     "name": "stdout",
     "output_type": "stream",
     "text": [
      "Back-track: no valid next-token candidates survived. ▁stretched\n",
      "BANNED (prompt_idx=39, type=slop_phrase, phrase='stretched')             \n",
      "BANNED (prompt_idx=29, type=slop_phrase, phrase='newfound')              \n",
      "BANNED (prompt_idx=4, type=ngram, ngram='long time')                     \n",
      "BANNED (prompt_idx=25, type=slop_phrase, phrase='terrifying')            \n",
      "BANNED (prompt_idx=3, type=slop_phrase, phrase='scent')                  \n",
      "BANNED (prompt_idx=19, type=slop_phrase, phrase='took a step back')      \n",
      "BANNED (prompt_idx=20, type=slop_phrase, phrase='faint')                 \n",
      "BANNED (prompt_idx=33, type=slop_phrase, phrase='flicker')               \n",
      "Batch Generating:   0%|          | 0/39 [03:01<?, ?prompt/s, 128.0 tok/s]Back-track: no valid next-token candidates survived. ▁pale\n",
      "BANNED (prompt_idx=31, type=slop_phrase, phrase='pale')                  \n",
      "BANNED (prompt_idx=36, type=slop_phrase, phrase='rain continued to fall')\n",
      "BANNED (prompt_idx=23, type=slop_phrase, phrase='rhythm')                \n",
      "Batch Generating:   0%|          | 0/39 [03:01<?, ?prompt/s, 125.7 tok/s]"
     ]
    },
    {
     "name": "stderr",
     "output_type": "stream",
     "text": [
      "2025-05-17 16:45:00,005 [ERROR] [core.sampler        ]: Back-track: no valid next-token candidates survived.\n"
     ]
    },
    {
     "name": "stdout",
     "output_type": "stream",
     "text": [
      "BANNED (prompt_idx=1, type=slop_phrase, phrase='shifted')                \n",
      "BANNED (prompt_idx=35, type=slop_phrase, phrase='silas')                 \n",
      "BANNED (prompt_idx=17, type=ngram, ngram='almost imperceptible')         \n",
      "BANNED (prompt_idx=15, type=ngram, ngram='held breath')                  \n",
      "BANNED (prompt_idx=38, type=slop_phrase, phrase='realization')           \n",
      "BANNED (prompt_idx=8, type=slop_phrase, phrase='asked, my voice barely') \n",
      "BANNED (prompt_idx=37, type=slop_phrase, phrase='realization')           \n",
      "BANNED (prompt_idx=2, type=ngram, ngram='said softly')                   \n",
      "BANNED (prompt_idx=0, type=ngram, ngram='asked voice laced')             \n",
      "BANNED (prompt_idx=13, type=slop_phrase, phrase='young man named')       \n",
      "BANNED (prompt_idx=7, type=slop_phrase, phrase='shifted')                \n",
      "BANNED (prompt_idx=4, type=ngram, ngram='voice laced')                   \n",
      "BANNED (prompt_idx=18, type=slop_phrase, phrase='unwavering')            \n",
      "BANNED (prompt_idx=11, type=slop_phrase, phrase='gaze')                  \n",
      "BANNED (prompt_idx=10, type=regex, regex='\\bnot\\s+(?:just|only|merely)?\\s*(?:[^\\s]+\\s*){1,6}?[,;:—–-]?\\s*but\\s+(?:also\\s+)?', match='Not in the sense of being absent, but ')\n",
      "BANNED (prompt_idx=26, type=slop_phrase, phrase='fragile')               \n",
      "BANNED (prompt_idx=39, type=ngram, ngram='voice low')                    \n",
      "BANNED (prompt_idx=25, type=slop_phrase, phrase='unsettling')            \n",
      "BANNED (prompt_idx=19, type=slop_phrase, phrase='flicker')               \n",
      "BANNED (prompt_idx=20, type=slop_phrase, phrase='scent')                 \n",
      "BANNED (prompt_idx=33, type=slop_phrase, phrase='smile playing on his lips')\n",
      "Batch Generating:   0%|          | 0/39 [03:04<?, ?prompt/s, 121.9 tok/s]"
     ]
    },
    {
     "name": "stderr",
     "output_type": "stream",
     "text": [
      "2025-05-17 16:45:03,766 [ERROR] [core.sampler        ]: Back-track: no valid next-token candidates survived.\n"
     ]
    },
    {
     "name": "stdout",
     "output_type": "stream",
     "text": [
      "Back-track: no valid next-token candidates survived. ▁pale\n",
      "BANNED (prompt_idx=31, type=slop_phrase, phrase='pale')                  \n",
      "BANNED (prompt_idx=23, type=slop_phrase, phrase='rhythm')                \n",
      "Batch Generating:   0%|          | 0/39 [03:05<?, ?prompt/s, 119.7 tok/s]"
     ]
    },
    {
     "name": "stderr",
     "output_type": "stream",
     "text": [
      "2025-05-17 16:45:04,538 [ERROR] [core.sampler        ]: Back-track: no valid next-token candidates survived.\n"
     ]
    },
    {
     "name": "stdout",
     "output_type": "stream",
     "text": [
      "Batch Generating:   0%|          | 0/39 [03:05<?, ?prompt/s, 107.6 tok/s]Back-track: no valid next-token candidates survived. ▁whispered\n",
      "BANNED (prompt_idx=8, type=slop_phrase, phrase='whisper')                \n",
      "BANNED (prompt_idx=15, type=slop_phrase, phrase='shifted')               \n",
      "BANNED (prompt_idx=36, type=slop_phrase, phrase='shimmered')             \n",
      "BANNED (prompt_idx=17, type=slop_phrase, phrase='subtle')                \n",
      "BANNED (prompt_idx=4, type=slop_phrase, phrase='amusement')              \n",
      "BANNED (prompt_idx=6, type=slop_phrase, phrase='rhythm')                 \n",
      "BANNED (prompt_idx=25, type=slop_phrase, phrase='scent')                 \n",
      "BANNED (prompt_idx=10, type=slop_phrase, phrase='faint')                 \n",
      "BANNED (prompt_idx=16, type=slop_phrase, phrase='sensation')             \n",
      "BANNED (prompt_idx=11, type=slop_phrase, phrase='unsettling')            \n",
      "BANNED (prompt_idx=18, type=ngram, ngram='beneath surface')              \n",
      "BANNED (prompt_idx=19, type=slop_phrase, phrase='etched')                \n",
      "BANNED (prompt_idx=39, type=slop_phrase, phrase='void')                  \n",
      "BANNED (prompt_idx=33, type=slop_phrase, phrase='etched')                \n",
      "BANNED (prompt_idx=20, type=slop_phrase, phrase='scent')                 \n",
      "BANNED (prompt_idx=31, type=slop_phrase, phrase='softly')                \n",
      "Batch Generating:   0%|          | 0/39 [03:08<?, ?prompt/s, 135.9 tok/s]Back-track: no valid next-token candidates survived. ▁whispered\n",
      "BANNED (prompt_idx=8, type=slop_phrase, phrase='whisper')                \n",
      "Batch Generating:   0%|          | 0/39 [03:08<?, ?prompt/s, 131.8 tok/s]"
     ]
    },
    {
     "name": "stderr",
     "output_type": "stream",
     "text": [
      "2025-05-17 16:45:07,651 [ERROR] [core.sampler        ]: Back-track: no valid next-token candidates survived.\n"
     ]
    },
    {
     "name": "stdout",
     "output_type": "stream",
     "text": [
      "BANNED (prompt_idx=14, type=slop_phrase, phrase='overwhelming')          \n",
      "BANNED (prompt_idx=21, type=slop_phrase, phrase='realization')           \n",
      "BANNED (prompt_idx=2, type=slop_phrase, phrase='flicker')                \n",
      "Batch Generating:   0%|          | 0/39 [03:09<?, ?prompt/s, 127.0 tok/s]Back-track: no valid next-token candidates survived. ▁rhythm\n",
      "BANNED (prompt_idx=23, type=slop_phrase, phrase='rhythm')                \n",
      "Batch Generating:   0%|          | 0/39 [03:09<?, ?prompt/s, 128.4 tok/s]"
     ]
    },
    {
     "name": "stderr",
     "output_type": "stream",
     "text": [
      "2025-05-17 16:45:08,411 [ERROR] [core.sampler        ]: Back-track: no valid next-token candidates survived.\n"
     ]
    },
    {
     "name": "stdout",
     "output_type": "stream",
     "text": [
      "BANNED (prompt_idx=5, type=slop_phrase, phrase='young man named')        \n",
      "BANNED (prompt_idx=4, type=slop_phrase, phrase='amusement')              \n",
      "BANNED (prompt_idx=0, type=slop_phrase, phrase='gently')                 \n",
      "BANNED (prompt_idx=13, type=slop_phrase, phrase='void')                  \n",
      "BANNED (prompt_idx=17, type=slop_phrase, phrase='subtle')                \n",
      "BANNED (prompt_idx=10, type=ngram, ngram='young woman')                  \n",
      "BANNED (prompt_idx=29, type=slop_phrase, phrase='gestured')              \n",
      "BANNED (prompt_idx=6, type=slop_phrase, phrase='echo')                   \n",
      "BANNED (prompt_idx=7, type=regex, regex='\\bnot\\s+(?:just|only|merely)?\\s*(?:[^\\s]+\\s*){1,6}?[,;:—–-]?\\s*but\\s+(?:also\\s+)?', match='Not aggressively, not defensively, but ')\n",
      "BANNED (prompt_idx=11, type=slop_phrase, phrase='gaze')                  \n",
      "BANNED (prompt_idx=33, type=slop_phrase, phrase='gaze')                  \n",
      "BANNED (prompt_idx=20, type=ngram, ngram='long time')                    \n",
      "Batch Generating:   0%|          | 0/39 [03:11<?, ?prompt/s, 147.1 tok/s]"
     ]
    },
    {
     "name": "stderr",
     "output_type": "stream",
     "text": [
      "2025-05-17 16:45:10,943 [ERROR] [core.sampler        ]: Back-track: no valid next-token candidates survived.\n"
     ]
    },
    {
     "name": "stdout",
     "output_type": "stream",
     "text": [
      "Back-track: no valid next-token candidates survived. ▁whispered\n",
      "BANNED (prompt_idx=8, type=slop_phrase, phrase='whisper')                \n",
      "BANNED (prompt_idx=39, type=slop_phrase, phrase='void')                  \n",
      "Batch Generating:   0%|          | 0/39 [03:12<?, ?prompt/s, 145.9 tok/s]"
     ]
    },
    {
     "name": "stderr",
     "output_type": "stream",
     "text": [
      "2025-05-17 16:45:11,184 [ERROR] [core.sampler        ]: Back-track: no valid next-token candidates survived.\n"
     ]
    },
    {
     "name": "stdout",
     "output_type": "stream",
     "text": [
      "Back-track: no valid next-token candidates survived. ▁pale\n",
      "BANNED (prompt_idx=31, type=slop_phrase, phrase='pale')                  \n",
      "BANNED (prompt_idx=2, type=slop_phrase, phrase='smile playing on his lips')\n",
      "BANNED (prompt_idx=34, type=slop_phrase, phrase='profound')              \n",
      "BANNED (prompt_idx=4, type=slop_phrase, phrase='amusement')              \n",
      "BANNED (prompt_idx=5, type=slop_phrase, phrase='silas')                  \n",
      "BANNED (prompt_idx=28, type=slop_phrase, phrase='terrifying')            \n",
      "BANNED (prompt_idx=25, type=slop_phrase, phrase='flicker')               \n",
      "BANNED (prompt_idx=21, type=slop_phrase, phrase='profound')              \n",
      "Batch Generating:   0%|          | 0/39 [03:13<?, ?prompt/s, 138.1 tok/s]"
     ]
    },
    {
     "name": "stderr",
     "output_type": "stream",
     "text": [
      "2025-05-17 16:45:12,712 [ERROR] [core.sampler        ]: Back-track: no valid next-token candidates survived.\n"
     ]
    },
    {
     "name": "stdout",
     "output_type": "stream",
     "text": [
      "Back-track: no valid next-token candidates survived. ▁rhythm\n",
      "BANNED (prompt_idx=23, type=slop_phrase, phrase='rhythm')                \n",
      "BANNED (prompt_idx=14, type=regex, regex='\\bnot\\s+(?:just|only|merely)?\\s*(?:[^\\s]+\\s*){1,6}?[,;:—–-]?\\s*but\\s+(?:also\\s+)?', match='not based on seismic data, but ')\n",
      "BANNED (prompt_idx=13, type=slop_phrase, phrase='nodded')                \n",
      "BANNED (prompt_idx=10, type=slop_phrase, phrase='erupted')               \n",
      "BANNED (prompt_idx=1, type=slop_phrase, phrase='paused')                 \n",
      "BANNED (prompt_idx=19, type=slop_phrase, phrase='voice barely a whisper')\n",
      "BANNED (prompt_idx=12, type=regex, regex='\\bnot\\s+(?:just|only|merely)?\\s*(?:[^\\s]+\\s*){1,6}?[,;:—–-]?\\s*but\\s+(?:also\\s+)?', match='not to conquer, but ')\n",
      "BANNED (prompt_idx=22, type=slop_phrase, phrase='voice barely a whisper')\n",
      "BANNED (prompt_idx=7, type=slop_phrase, phrase='shimmering')             \n",
      "BANNED (prompt_idx=26, type=slop_phrase, phrase='flicker')               \n",
      "BANNED (prompt_idx=6, type=slop_phrase, phrase='echo')                   \n",
      "BANNED (prompt_idx=20, type=slop_phrase, phrase='laced')                 \n",
      "BANNED (prompt_idx=8, type=slop_phrase, phrase='relentless')             \n",
      "BANNED (prompt_idx=36, type=slop_phrase, phrase='pulse')                 \n",
      "BANNED (prompt_idx=18, type=slop_phrase, phrase='flicker')               \n",
      "BANNED (prompt_idx=2, type=slop_phrase, phrase='flicker')                \n",
      "BANNED (prompt_idx=4, type=slop_phrase, phrase='subtle')                 \n",
      "Batch Generating:   0%|          | 0/39 [03:15<?, ?prompt/s, 139.8 tok/s]"
     ]
    },
    {
     "name": "stderr",
     "output_type": "stream",
     "text": [
      "2025-05-17 16:45:14,939 [ERROR] [core.sampler        ]: Back-track: no valid next-token candidates survived.\n"
     ]
    },
    {
     "name": "stdout",
     "output_type": "stream",
     "text": [
      "Back-track: no valid next-token candidates survived. ▁pale\n",
      "BANNED (prompt_idx=31, type=slop_phrase, phrase='pale')                  \n",
      "BANNED (prompt_idx=0, type=slop_phrase, phrase='rhythm')                 \n",
      "BANNED (prompt_idx=37, type=slop_phrase, phrase='overwhelming')          \n",
      "BANNED (prompt_idx=35, type=slop_phrase, phrase='unease')                \n",
      "BANNED (prompt_idx=13, type=slop_phrase, phrase='shook')                 \n",
      "BANNED (prompt_idx=28, type=slop_phrase, phrase='metallic')              \n",
      "Batch Generating:   0%|          | 0/39 [03:17<?, ?prompt/s, 134.6 tok/s]"
     ]
    },
    {
     "name": "stderr",
     "output_type": "stream",
     "text": [
      "2025-05-17 16:45:16,960 [ERROR] [core.sampler        ]: Back-track: no valid next-token candidates survived.\n"
     ]
    },
    {
     "name": "stdout",
     "output_type": "stream",
     "text": [
      "Back-track: no valid next-token candidates survived. ▁rhythm\n",
      "BANNED (prompt_idx=23, type=slop_phrase, phrase='rhythm')                \n",
      "BANNED (prompt_idx=38, type=slop_phrase, phrase='felt like an eternity') \n",
      "BANNED (prompt_idx=15, type=slop_phrase, phrase='demon')                 \n",
      "BANNED (prompt_idx=32, type=ngram, ngram='one day')                      \n",
      "BANNED (prompt_idx=14, type=regex, regex='\\bnot\\s+(?:just|only|merely)?\\s*(?:[^\\s]+\\s*){1,6}?[,;:—–-]?\\s*but\\s+(?:also\\s+)?', match='not on geological data, but ')\n",
      "BANNED (prompt_idx=8, type=slop_phrase, phrase='nodded')                 \n",
      "BANNED (prompt_idx=4, type=slop_phrase, phrase='amusement')              \n",
      "BANNED (prompt_idx=24, type=slop_phrase, phrase='shimmered')             \n",
      "BANNED (prompt_idx=3, type=regex, regex='\\bnot\\s+(?:just|only|merely)?\\s*(?:[^\\s]+\\s*){1,6}?[,;:—–-]?\\s*but\\s+(?:also\\s+)?', match='not as a memory, but ')\n",
      "BANNED (prompt_idx=25, type=slop_phrase, phrase='said, my voice barely') \n",
      "BANNED (prompt_idx=6, type=slop_phrase, phrase='relentless')             \n",
      "BANNED (prompt_idx=11, type=slop_phrase, phrase='voice devoid of emotion')\n",
      "BANNED (prompt_idx=16, type=slop_phrase, phrase='profound')              \n",
      "BANNED (prompt_idx=17, type=slop_phrase, phrase='dread')                 \n",
      "BANNED (prompt_idx=31, type=ngram, ngram='spoke voice')                  \n",
      "BANNED (prompt_idx=18, type=ngram, ngram='said voice')                   \n",
      "BANNED (prompt_idx=37, type=slop_phrase, phrase='pulse')                 \n",
      "BANNED (prompt_idx=13, type=slop_phrase, phrase='nodded')                \n",
      "BANNED (prompt_idx=35, type=slop_phrase, phrase='dread')                 \n",
      "BANNED (prompt_idx=19, type=slop_phrase, phrase='subtle')                \n",
      "BANNED (prompt_idx=29, type=slop_phrase, phrase='shifted')               \n",
      "BANNED (prompt_idx=32, type=slop_phrase, phrase='days turned into weeks')\n",
      "BANNED (prompt_idx=34, type=slop_phrase, phrase='scent')                 \n",
      "Batch Generating:   0%|          | 0/39 [03:22<?, ?prompt/s, 112.6 tok/s]Back-track: no valid next-token candidates survived. ▁whispered\n",
      "BANNED (prompt_idx=8, type=slop_phrase, phrase='whisper')                \n",
      "BANNED (prompt_idx=23, type=slop_phrase, phrase='faint')                 \n",
      "Batch Generating:   0%|          | 0/39 [03:22<?, ?prompt/s, 112.7 tok/s]"
     ]
    },
    {
     "name": "stderr",
     "output_type": "stream",
     "text": [
      "2025-05-17 16:45:21,253 [ERROR] [core.sampler        ]: Back-track: no valid next-token candidates survived.\n"
     ]
    },
    {
     "name": "stdout",
     "output_type": "stream",
     "text": [
      "BANNED (prompt_idx=3, type=regex, regex='\\bnot\\s+(?:just|only|merely)?\\s*(?:[^\\s]+\\s*){1,6}?[,;:—–-]?\\s*but\\s+(?:also\\s+)?', match='not as a ghost, but ')\n",
      "BANNED (prompt_idx=21, type=slop_phrase, phrase='despair')               \n",
      "BANNED (prompt_idx=2, type=slop_phrase, phrase='silas')                  \n",
      "BANNED (prompt_idx=7, type=slop_phrase, phrase='felt a strange sense')   \n",
      "BANNED (prompt_idx=25, type=slop_phrase, phrase='voice barely a whisper')\n",
      "BANNED (prompt_idx=24, type=slop_phrase, phrase='pulse')                 \n",
      "Batch Generating:   0%|          | 0/39 [03:23<?, ?prompt/s, 115.3 tok/s]"
     ]
    },
    {
     "name": "stderr",
     "output_type": "stream",
     "text": [
      "2025-05-17 16:45:22,337 [ERROR] [core.sampler        ]: Back-track: no valid next-token candidates survived.\n"
     ]
    },
    {
     "name": "stdout",
     "output_type": "stream",
     "text": [
      "Back-track: no valid next-token candidates survived. ▁pale\n",
      "BANNED (prompt_idx=31, type=slop_phrase, phrase='pale')                  \n",
      "BANNED (prompt_idx=6, type=slop_phrase, phrase='grin')                   \n",
      "BANNED (prompt_idx=39, type=slop_phrase, phrase='gaze')                  \n",
      "BANNED (prompt_idx=19, type=slop_phrase, phrase='small, almost imperceptible')\n",
      "BANNED (prompt_idx=36, type=ngram, ngram='said voice')                   \n",
      "BANNED (prompt_idx=35, type=slop_phrase, phrase='tightened')             \n",
      "BANNED (prompt_idx=4, type=slop_phrase, phrase='stammered')              \n",
      "BANNED (prompt_idx=29, type=slop_phrase, phrase='cracked')               \n",
      "BANNED (prompt_idx=3, type=regex, regex='\\bnot\\s+(?:just|only|merely)?\\s*(?:[^\\s]+\\s*){1,6}?[,;:—–-]?\\s*but\\s+(?:also\\s+)?', match='not in body, but ')\n",
      "Batch Generating:   0%|          | 0/39 [03:25<?, ?prompt/s, 121.3 tok/s]Back-track: no valid next-token candidates survived. ▁whispered\n",
      "BANNED (prompt_idx=8, type=slop_phrase, phrase='whisper')                \n",
      "Batch Generating:   0%|          | 0/39 [03:25<?, ?prompt/s, 124.5 tok/s]"
     ]
    },
    {
     "name": "stderr",
     "output_type": "stream",
     "text": [
      "2025-05-17 16:45:24,817 [ERROR] [core.sampler        ]: Back-track: no valid next-token candidates survived.\n"
     ]
    },
    {
     "name": "stdout",
     "output_type": "stream",
     "text": [
      "BANNED (prompt_idx=32, type=slop_phrase, phrase='subtle')                \n",
      "BANNED (prompt_idx=2, type=regex, regex='\\bnot\\s+(?:just|only|merely)?\\s*(?:[^\\s]+\\s*){1,6}?[,;:—–-]?\\s*but\\s+(?:also\\s+)?', match='not attempting to retrieve a lost memory, but ')\n",
      "BANNED (prompt_idx=33, type=ngram, ngram='almost imperceptible')         \n",
      "Batch Generating:   0%|          | 0/39 [03:26<?, ?prompt/s, 122.8 tok/s]"
     ]
    },
    {
     "name": "stderr",
     "output_type": "stream",
     "text": [
      "2025-05-17 16:45:25,664 [ERROR] [core.sampler        ]: Back-track: no valid next-token candidates survived.\n"
     ]
    },
    {
     "name": "stdout",
     "output_type": "stream",
     "text": [
      "Back-track: no valid next-token candidates survived. ▁rhythm\n",
      "BANNED (prompt_idx=23, type=slop_phrase, phrase='rhythm')                \n",
      "BANNED (prompt_idx=7, type=slop_phrase, phrase='scent')                  \n",
      "BANNED (prompt_idx=28, type=slop_phrase, phrase='demon')                 \n",
      "BANNED (prompt_idx=24, type=slop_phrase, phrase='unseen')                \n",
      "Batch Generating:   0%|          | 0/39 [03:27<?, ?prompt/s, 123.0 tok/s]Back-track: no valid next-token candidates survived. ▁pale\n",
      "BANNED (prompt_idx=31, type=slop_phrase, phrase='pale')                  \n",
      "Batch Generating:   0%|          | 0/39 [03:27<?, ?prompt/s, 124.1 tok/s]"
     ]
    },
    {
     "name": "stderr",
     "output_type": "stream",
     "text": [
      "2025-05-17 16:45:26,321 [ERROR] [core.sampler        ]: Back-track: no valid next-token candidates survived.\n"
     ]
    },
    {
     "name": "stdout",
     "output_type": "stream",
     "text": [
      "BANNED (prompt_idx=21, type=regex, regex='\\bnot\\s+(?:just|only|merely)?\\s*(?:[^\\s]+\\s*){1,6}?[,;:—–-]?\\s*but\\s+(?:also\\s+)?', match='not be about brute force and fear, but ')\n",
      "BANNED (prompt_idx=27, type=slop_phrase, phrase='pulse')                 \n",
      "BANNED (prompt_idx=5, type=slop_phrase, phrase='raced')                  \n",
      "BANNED (prompt_idx=1, type=slop_phrase, phrase='subtle')                 \n",
      "BANNED (prompt_idx=0, type=slop_phrase, phrase='demon')                  \n",
      "BANNED (prompt_idx=11, type=ngram, ngram='first time')                   \n",
      "BANNED (prompt_idx=13, type=slop_phrase, phrase='laced')                 \n",
      "BANNED (prompt_idx=6, type=slop_phrase, phrase='rhythm')                 \n",
      "BANNED (prompt_idx=37, type=slop_phrase, phrase='spark')                 \n",
      "BANNED (prompt_idx=12, type=slop_phrase, phrase='paused')                \n",
      "BANNED (prompt_idx=39, type=ngram, ngram='eyes scanning')                \n",
      "BANNED (prompt_idx=17, type=slop_phrase, phrase='small, almost imperceptible')\n",
      "BANNED (prompt_idx=35, type=slop_phrase, phrase='twisted')               \n",
      "BANNED (prompt_idx=8, type=slop_phrase, phrase='relentless')             \n",
      "BANNED (prompt_idx=29, type=slop_phrase, phrase='shifted')               \n",
      "BANNED (prompt_idx=25, type=slop_phrase, phrase='screen flickered to life')\n",
      "BANNED (prompt_idx=36, type=slop_phrase, phrase='metallic')              \n",
      "BANNED (prompt_idx=33, type=slop_phrase, phrase='flicker')               \n",
      "BANNED (prompt_idx=20, type=slop_phrase, phrase='void')                  \n",
      "BANNED (prompt_idx=7, type=slop_phrase, phrase='vanished')               \n",
      "Batch Generating:   0%|          | 0/39 [03:30<?, ?prompt/s, 104.9 tok/s]"
     ]
    },
    {
     "name": "stderr",
     "output_type": "stream",
     "text": [
      "2025-05-17 16:45:30,055 [ERROR] [core.sampler        ]: Back-track: no valid next-token candidates survived.\n"
     ]
    },
    {
     "name": "stdout",
     "output_type": "stream",
     "text": [
      "Back-track: no valid next-token candidates survived. ▁rhythm\n",
      "BANNED (prompt_idx=23, type=slop_phrase, phrase='rhythm')                \n",
      "BANNED (prompt_idx=38, type=slop_phrase, phrase='flicker')               \n",
      "BANNED (prompt_idx=24, type=slop_phrase, phrase='blinked')               \n",
      "BANNED (prompt_idx=31, type=ngram, ngram='asked voice')                  \n",
      "BANNED (prompt_idx=5, type=slop_phrase, phrase='frantic')                \n",
      "BANNED (prompt_idx=22, type=slop_phrase, phrase='swirling')              \n",
      "BANNED (prompt_idx=3, type=slop_phrase, phrase='swirling')               \n",
      "BANNED (prompt_idx=37, type=slop_phrase, phrase='flicker')               \n",
      "BANNED (prompt_idx=11, type=ngram, ngram='first time')                   \n",
      "BANNED (prompt_idx=19, type=slop_phrase, phrase='subtle')                \n",
      "Batch Generating:   0%|          | 0/39 [03:32<?, ?prompt/s, 111.3 tok/s]Back-track: no valid next-token candidates survived. ▁whispered\n",
      "BANNED (prompt_idx=8, type=slop_phrase, phrase='whisper')                \n",
      "Batch Generating:   0%|          | 0/39 [03:32<?, ?prompt/s, 117.0 tok/s]"
     ]
    },
    {
     "name": "stderr",
     "output_type": "stream",
     "text": [
      "2025-05-17 16:45:31,818 [ERROR] [core.sampler        ]: Back-track: no valid next-token candidates survived.\n"
     ]
    },
    {
     "name": "stdout",
     "output_type": "stream",
     "text": [
      "BANNED (prompt_idx=25, type=slop_phrase, phrase='shimmered')             \n",
      "BANNED (prompt_idx=35, type=slop_phrase, phrase='tightened')             \n",
      "BANNED (prompt_idx=29, type=slop_phrase, phrase='flicker')               \n",
      "Batch Generating:   0%|          | 0/39 [03:33<?, ?prompt/s, 127.9 tok/s]"
     ]
    },
    {
     "name": "stderr",
     "output_type": "stream",
     "text": [
      "2025-05-17 16:45:32,577 [ERROR] [core.sampler        ]: Back-track: no valid next-token candidates survived.\n"
     ]
    },
    {
     "name": "stdout",
     "output_type": "stream",
     "text": [
      "Back-track: no valid next-token candidates survived. ▁gaze\n",
      "BANNED (prompt_idx=39, type=slop_phrase, phrase='gaze')                  \n",
      "BANNED (prompt_idx=16, type=slop_phrase, phrase='paused')                \n",
      "BANNED (prompt_idx=17, type=slop_phrase, phrase='flicker')               \n",
      "BANNED (prompt_idx=33, type=slop_phrase, phrase='hint')                  \n",
      "BANNED (prompt_idx=7, type=slop_phrase, phrase='profound')               \n",
      "BANNED (prompt_idx=30, type=slop_phrase, phrase='profound')              \n",
      "Batch Generating:   0%|          | 0/39 [03:35<?, ?prompt/s, 106.4 tok/s]Back-track: no valid next-token candidates survived. ▁pale\n",
      "BANNED (prompt_idx=31, type=slop_phrase, phrase='pale')                  \n",
      "Batch Generating:   0%|          | 0/39 [03:35<?, ?prompt/s, 118.1 tok/s]"
     ]
    },
    {
     "name": "stderr",
     "output_type": "stream",
     "text": [
      "2025-05-17 16:45:34,152 [ERROR] [core.sampler        ]: Back-track: no valid next-token candidates survived.\n"
     ]
    },
    {
     "name": "stdout",
     "output_type": "stream",
     "text": [
      "BANNED (prompt_idx=38, type=slop_phrase, phrase='spark')                 \n",
      "BANNED (prompt_idx=5, type=slop_phrase, phrase='pounding')               \n",
      "BANNED (prompt_idx=23, type=slop_phrase, phrase='whisper')               \n",
      "BANNED (prompt_idx=3, type=slop_phrase, phrase='flicker')                \n",
      "BANNED (prompt_idx=0, type=slop_phrase, phrase='utterly')                \n",
      "BANNED (prompt_idx=10, type=slop_phrase, phrase='whisper')               \n",
      "BANNED (prompt_idx=8, type=slop_phrase, phrase='laced')                  \n",
      "BANNED (prompt_idx=25, type=slop_phrase, phrase='flicker')               \n",
      "Batch Generating:   0%|          | 0/39 [03:36<?, ?prompt/s, 128.7 tok/s]"
     ]
    },
    {
     "name": "stderr",
     "output_type": "stream",
     "text": [
      "2025-05-17 16:45:35,464 [ERROR] [core.sampler        ]: Back-track: no valid next-token candidates survived.\n"
     ]
    },
    {
     "name": "stdout",
     "output_type": "stream",
     "text": [
      "Back-track: no valid next-token candidates survived. ▁spark\n",
      "BANNED (prompt_idx=37, type=slop_phrase, phrase='spark')                 \n",
      "BANNED (prompt_idx=19, type=slop_phrase, phrase='faint')                 \n",
      "BANNED (prompt_idx=28, type=slop_phrase, phrase='grin')                  \n",
      "BANNED (prompt_idx=21, type=slop_phrase, phrase='despair')               \n",
      "BANNED (prompt_idx=35, type=ngram, ngram='knew would')                   \n",
      "BANNED (prompt_idx=29, type=slop_phrase, phrase='whisper')               \n",
      "BANNED (prompt_idx=32, type=ngram, ngram='young man')                    \n",
      "BANNED (prompt_idx=33, type=slop_phrase, phrase='flicker')               \n",
      "BANNED (prompt_idx=34, type=slop_phrase, phrase='murmured')              \n",
      "Batch Generating:   0%|          | 0/39 [03:38<?, ?prompt/s, 105.8 tok/s]Back-track: no valid next-token candidates survived. ▁gaze\n",
      "BANNED (prompt_idx=39, type=slop_phrase, phrase='gaze')                  \n",
      "Batch Generating:   0%|          | 0/39 [03:38<?, ?prompt/s, 109.7 tok/s]"
     ]
    },
    {
     "name": "stderr",
     "output_type": "stream",
     "text": [
      "2025-05-17 16:45:37,253 [ERROR] [core.sampler        ]: Back-track: no valid next-token candidates survived.\n"
     ]
    },
    {
     "name": "stdout",
     "output_type": "stream",
     "text": [
      "BANNED (prompt_idx=17, type=slop_phrase, phrase='faint')                 \n",
      "BANNED (prompt_idx=3, type=slop_phrase, phrase='hint')                   \n",
      "Batch Generating:   0%|          | 0/39 [03:39<?, ?prompt/s, 115.4 tok/s]Back-track: no valid next-token candidates survived. ▁pale\n",
      "BANNED (prompt_idx=31, type=slop_phrase, phrase='pale')                  \n",
      "BANNED (prompt_idx=24, type=ngram, ngram='across room')                             \n",
      "Batch Generating:   3%|▎         | 1/39 [03:39<2:18:50, 219.22s/prompt, 114.8 tok/s]"
     ]
    },
    {
     "name": "stderr",
     "output_type": "stream",
     "text": [
      "2025-05-17 16:45:38,109 [ERROR] [core.sampler        ]: Back-track: no valid next-token candidates survived.\n"
     ]
    },
    {
     "name": "stdout",
     "output_type": "stream",
     "text": [
      "BANNED (prompt_idx=5, type=slop_phrase, phrase='despair')                           \n",
      "Batch Generating:   3%|▎         | 1/39 [03:39<2:18:50, 219.22s/prompt, 119.9 tok/s]"
     ]
    },
    {
     "name": "stderr",
     "output_type": "stream",
     "text": [
      "2025-05-17 16:45:38,810 [ERROR] [core.sampler        ]: Back-track: no valid next-token candidates survived.\n"
     ]
    },
    {
     "name": "stdout",
     "output_type": "stream",
     "text": [
      "Back-track: no valid next-token candidates survived. ▁shimmer\n",
      "BANNED (prompt_idx=25, type=slop_phrase, phrase='shimmered')                        \n",
      "BANNED (prompt_idx=8, type=slop_phrase, phrase='profound')                          \n",
      "BANNED (prompt_idx=38, type=slop_phrase, phrase='flicker')                          \n",
      "Batch Generating:   3%|▎         | 1/39 [03:39<2:18:50, 219.22s/prompt, 129.6 tok/s]"
     ]
    },
    {
     "name": "stderr",
     "output_type": "stream",
     "text": [
      "2025-05-17 16:45:39,038 [ERROR] [core.sampler        ]: Back-track: no valid next-token candidates survived.\n"
     ]
    },
    {
     "name": "stdout",
     "output_type": "stream",
     "text": [
      "Back-track: no valid next-token candidates survived. ▁rhythm\n",
      "BANNED (prompt_idx=23, type=slop_phrase, phrase='rhythm')                           \n",
      "BANNED (prompt_idx=30, type=slop_phrase, phrase='profound')                         \n",
      "BANNED (prompt_idx=10, type=slop_phrase, phrase='whisper')                          \n",
      "Batch Generating:   3%|▎         | 1/39 [03:40<2:18:50, 219.22s/prompt, 121.1 tok/s]Back-track: no valid next-token candidates survived. ▁spark\n",
      "BANNED (prompt_idx=37, type=slop_phrase, phrase='spark')                            \n",
      "Batch Generating:   3%|▎         | 1/39 [03:40<2:18:50, 219.22s/prompt, 127.2 tok/s]"
     ]
    },
    {
     "name": "stderr",
     "output_type": "stream",
     "text": [
      "2025-05-17 16:45:39,347 [ERROR] [core.sampler        ]: Back-track: no valid next-token candidates survived.\n"
     ]
    },
    {
     "name": "stdout",
     "output_type": "stream",
     "text": [
      "BANNED (prompt_idx=36, type=slop_phrase, phrase='polished')                         \n",
      "BANNED (prompt_idx=19, type=slop_phrase, phrase='subtle')                           \n",
      "BANNED (prompt_idx=11, type=slop_phrase, phrase='terrifying')                       \n",
      "BANNED (prompt_idx=35, type=slop_phrase, phrase='thorne')                           \n",
      "BANNED (prompt_idx=32, type=slop_phrase, phrase='liam')                             \n",
      "BANNED (prompt_idx=6, type=slop_phrase, phrase='echo')                              \n",
      "BANNED (prompt_idx=21, type=slop_phrase, phrase='murmured')                         \n",
      "BANNED (prompt_idx=18, type=slop_phrase, phrase='flicker')                          \n",
      "BANNED (prompt_idx=3, type=slop_phrase, phrase='flicker')                           \n",
      "Batch Generating:   3%|▎         | 1/39 [03:42<2:18:50, 219.22s/prompt, 118.7 tok/s]"
     ]
    },
    {
     "name": "stderr",
     "output_type": "stream",
     "text": [
      "2025-05-17 16:45:41,671 [ERROR] [core.sampler        ]: Back-track: no valid next-token candidates survived.\n"
     ]
    },
    {
     "name": "stdout",
     "output_type": "stream",
     "text": [
      "Back-track: no valid next-token candidates survived. ▁gaze\n",
      "BANNED (prompt_idx=39, type=slop_phrase, phrase='gaze')                             \n",
      "BANNED (prompt_idx=4, type=slop_phrase, phrase='paused')                            \n",
      "BANNED (prompt_idx=7, type=ngram, ngram='eyes gleaming')                            \n",
      "BANNED (prompt_idx=31, type=slop_phrase, phrase='flicker')                          \n",
      "Batch Generating:   3%|▎         | 1/39 [03:43<2:18:50, 219.22s/prompt, 111.5 tok/s]"
     ]
    },
    {
     "name": "stderr",
     "output_type": "stream",
     "text": [
      "2025-05-17 16:45:42,195 [ERROR] [core.sampler        ]: Back-track: no valid next-token candidates survived.\n"
     ]
    },
    {
     "name": "stdout",
     "output_type": "stream",
     "text": [
      "Back-track: no valid next-token candidates survived. ▁shimmer\n",
      "BANNED (prompt_idx=25, type=slop_phrase, phrase='shimmered')                        \n",
      "BANNED (prompt_idx=34, type=slop_phrase, phrase='whisper')                          \n",
      "BANNED (prompt_idx=8, type=ngram, ngram='something else')                           \n",
      "BANNED (prompt_idx=17, type=ngram, ngram='almost imperceptible')                    \n",
      "BANNED (prompt_idx=22, type=ngram, ngram='heart pounding')                          \n",
      "BANNED (prompt_idx=5, type=slop_phrase, phrase='despair')                           \n",
      "BANNED (prompt_idx=27, type=ngram, ngram='help wonder')                             \n",
      "BANNED (prompt_idx=0, type=slop_phrase, phrase='gestured')                          \n",
      "BANNED (prompt_idx=10, type=slop_phrase, phrase='whisper')                          \n",
      "BANNED (prompt_idx=13, type=slop_phrase, phrase='paused')                           \n",
      "BANNED (prompt_idx=38, type=ngram, ngram='almost imperceptible')                    \n",
      "Batch Generating:   3%|▎         | 1/39 [03:44<2:18:50, 219.22s/prompt, 104.5 tok/s]Back-track: no valid next-token candidates survived. ▁rhythm\n",
      "BANNED (prompt_idx=23, type=slop_phrase, phrase='rhythm')                           \n",
      "Batch Generating:   3%|▎         | 1/39 [03:44<2:18:50, 219.22s/prompt, 109.8 tok/s]Back-track: no valid next-token candidates survived. ▁spark\n",
      "BANNED (prompt_idx=37, type=slop_phrase, phrase='spark')                            \n",
      "Batch Generating:   3%|▎         | 1/39 [03:44<2:18:50, 219.22s/prompt, 112.4 tok/s]"
     ]
    },
    {
     "name": "stderr",
     "output_type": "stream",
     "text": [
      "2025-05-17 16:45:43,236 [ERROR] [core.sampler        ]: Back-track: no valid next-token candidates survived.\n",
      "2025-05-17 16:45:43,353 [ERROR] [core.sampler        ]: Back-track: no valid next-token candidates survived.\n"
     ]
    },
    {
     "name": "stdout",
     "output_type": "stream",
     "text": [
      "BANNED (prompt_idx=35, type=slop_phrase, phrase='unsettling')                       \n",
      "BANNED (prompt_idx=36, type=slop_phrase, phrase='sigh')                             \n",
      "BANNED (prompt_idx=3, type=slop_phrase, phrase='whisper')                           \n",
      "BANNED (prompt_idx=20, type=slop_phrase, phrase='profound')                         \n",
      "BANNED (prompt_idx=4, type=slop_phrase, phrase='faint')                             \n",
      "BANNED (prompt_idx=1, type=slop_phrase, phrase='crimson')                           \n",
      "Batch Generating:   3%|▎         | 1/39 [03:46<2:18:50, 219.22s/prompt, 103.1 tok/s]"
     ]
    },
    {
     "name": "stderr",
     "output_type": "stream",
     "text": [
      "2025-05-17 16:45:45,647 [ERROR] [core.sampler        ]: Back-track: no valid next-token candidates survived.\n",
      "2025-05-17 16:45:45,752 [ERROR] [core.sampler        ]: Back-track: no valid next-token candidates survived.\n"
     ]
    },
    {
     "name": "stdout",
     "output_type": "stream",
     "text": [
      "Back-track: no valid next-token candidates survived. ▁shimmer\n",
      "BANNED (prompt_idx=25, type=slop_phrase, phrase='shimmered')                        \n",
      "BANNED (prompt_idx=8, type=slop_phrase, phrase='profound')                          \n",
      "Batch Generating:   3%|▎         | 1/39 [03:46<2:18:50, 219.22s/prompt, 110.8 tok/s]Back-track: no valid next-token candidates survived. ▁pale\n",
      "BANNED (prompt_idx=31, type=slop_phrase, phrase='pale')                             \n",
      "BANNED (prompt_idx=18, type=slop_phrase, phrase='laced')                            \n",
      "BANNED (prompt_idx=7, type=slop_phrase, phrase='scent')                             \n",
      "BANNED (prompt_idx=39, type=slop_phrase, phrase='nodded')                           \n",
      "BANNED (prompt_idx=5, type=slop_phrase, phrase='silas')                             \n",
      "BANNED (prompt_idx=2, type=slop_phrase, phrase='froze')                             \n",
      "BANNED (prompt_idx=10, type=slop_phrase, phrase='echo')                             \n",
      "BANNED (prompt_idx=0, type=slop_phrase, phrase='glanced')                           \n",
      "BANNED (prompt_idx=13, type=slop_phrase, phrase='glanced')                          \n",
      "BANNED (prompt_idx=19, type=slop_phrase, phrase='whisper')                          \n",
      "BANNED (prompt_idx=12, type=slop_phrase, phrase='silent for a long moment')         \n",
      "BANNED (prompt_idx=34, type=slop_phrase, phrase='muttered')                         \n",
      "BANNED (prompt_idx=38, type=slop_phrase, phrase='flicker')                          \n",
      "BANNED (prompt_idx=23, type=slop_phrase, phrase='faint')                            \n",
      "BANNED (prompt_idx=27, type=ngram, ngram='shake feeling')                           \n",
      "BANNED (prompt_idx=3, type=slop_phrase, phrase='pulse')                            \n",
      "BANNED (prompt_idx=15, type=slop_phrase, phrase='utterly')                         \n",
      "BANNED (prompt_idx=35, type=slop_phrase, phrase='unsettling')                      \n",
      "BANNED (prompt_idx=11, type=slop_phrase, phrase='terrifying')                      \n",
      "BANNED (prompt_idx=4, type=slop_phrase, phrase='utterly')                          \n",
      "BANNED (prompt_idx=20, type=slop_phrase, phrase='warmth')                          \n",
      "BANNED (prompt_idx=25, type=slop_phrase, phrase='swirling')                        \n",
      "BANNED (prompt_idx=31, type=slop_phrase, phrase='eyes fluttered open')             \n",
      "BANNED (prompt_idx=22, type=slop_phrase, phrase='said, his voice low')             \n",
      "BANNED (prompt_idx=7, type=slop_phrase, phrase='gleaming')                         \n",
      "BANNED (prompt_idx=2, type=slop_phrase, phrase='froze')                            \n",
      "BANNED (prompt_idx=5, type=slop_phrase, phrase='intricate')                        \n",
      "BANNED (prompt_idx=24, type=ngram, ngram='stepped back')                           \n",
      "BANNED (prompt_idx=1, type=slop_phrase, phrase='trembling')                        \n",
      "BANNED (prompt_idx=18, type=ngram, ngram='something akin')                         \n",
      "Batch Generating:   3%|▎         | 1/39 [03:51<2:18:50, 219.22s/prompt, 79.6 tok/s]Back-track: no valid next-token candidates survived. ▁gaze\n",
      "BANNED (prompt_idx=39, type=slop_phrase, phrase='gaze')                            \n",
      "BANNED (prompt_idx=21, type=slop_phrase, phrase='paused')                          \n",
      "Batch Generating:   3%|▎         | 1/39 [03:51<2:18:50, 219.22s/prompt, 77.8 tok/s]"
     ]
    },
    {
     "name": "stderr",
     "output_type": "stream",
     "text": [
      "2025-05-17 16:45:50,372 [ERROR] [core.sampler        ]: Back-track: no valid next-token candidates survived.\n"
     ]
    },
    {
     "name": "stdout",
     "output_type": "stream",
     "text": [
      "BANNED (prompt_idx=10, type=slop_phrase, phrase='echo')                            \n",
      "BANNED (prompt_idx=0, type=slop_phrase, phrase='gestured')                         \n",
      "BANNED (prompt_idx=19, type=slop_phrase, phrase='murmured')                        \n",
      "BANNED (prompt_idx=33, type=slop_phrase, phrase='took a deep breath')              \n",
      "BANNED (prompt_idx=38, type=slop_phrase, phrase='relentless')                      \n",
      "Batch Generating:   3%|▎         | 1/39 [03:52<2:18:50, 219.22s/prompt, 79.2 tok/s]▁rhythm\n",
      "Batch Generating:   3%|▎         | 1/39 [03:52<2:18:50, 219.22s/prompt, 82.5 tok/s]"
     ]
    },
    {
     "name": "stderr",
     "output_type": "stream",
     "text": [
      "2025-05-17 16:45:51,642 [ERROR] [core.sampler        ]: Back-track: no valid next-token candidates survived.\n"
     ]
    },
    {
     "name": "stdout",
     "output_type": "stream",
     "text": [
      "BANNED (prompt_idx=23, type=slop_phrase, phrase='rhythm')                          \n",
      "BANNED (prompt_idx=16, type=slop_phrase, phrase='dread')                           \n",
      "BANNED (prompt_idx=4, type=slop_phrase, phrase='rhythm')                           \n",
      "Batch Generating:   3%|▎         | 1/39 [03:53<2:18:50, 219.22s/prompt, 88.1 tok/s]Back-track: no valid next-token candidates survived. ▁shimmer\n",
      "BANNED (prompt_idx=25, type=slop_phrase, phrase='shimmered')                       \n",
      "Batch Generating:   3%|▎         | 1/39 [03:53<2:18:50, 219.22s/prompt, 91.9 tok/s]Back-track: no valid next-token candidates survived. ▁murmured\n",
      "BANNED (prompt_idx=34, type=slop_phrase, phrase='murmured')                        \n",
      "Batch Generating:   3%|▎         | 1/39 [03:53<2:18:50, 219.22s/prompt, 94.6 tok/s]"
     ]
    },
    {
     "name": "stderr",
     "output_type": "stream",
     "text": [
      "2025-05-17 16:45:52,298 [ERROR] [core.sampler        ]: Back-track: no valid next-token candidates survived.\n",
      "2025-05-17 16:45:52,367 [ERROR] [core.sampler        ]: Back-track: no valid next-token candidates survived.\n"
     ]
    },
    {
     "name": "stdout",
     "output_type": "stream",
     "text": [
      "BANNED (prompt_idx=35, type=slop_phrase, phrase='unwavering')                      \n",
      "BANNED (prompt_idx=8, type=slop_phrase, phrase='demon')                            \n",
      "Batch Generating:   3%|▎         | 1/39 [03:53<2:18:50, 219.22s/prompt, 117.0 tok/s]Back-track: no valid next-token candidates survived. ▁help\n",
      "BANNED (prompt_idx=27, type=ngram, ngram='help feel')                               \n",
      "Batch Generating:   3%|▎         | 1/39 [03:53<2:18:50, 219.22s/prompt, 114.7 tok/s]"
     ]
    },
    {
     "name": "stderr",
     "output_type": "stream",
     "text": [
      "2025-05-17 16:45:52,884 [ERROR] [core.sampler        ]: Back-track: no valid next-token candidates survived.\n"
     ]
    },
    {
     "name": "stdout",
     "output_type": "stream",
     "text": [
      "Batch Generating:   3%|▎         | 1/39 [03:54<2:18:50, 219.22s/prompt, 117.0 tok/s]Back-track: no valid next-token candidates survived. ▁pale\n",
      "BANNED (prompt_idx=31, type=slop_phrase, phrase='pale')                             \n",
      "Batch Generating:   3%|▎         | 1/39 [03:54<2:18:50, 219.22s/prompt, 120.8 tok/s]"
     ]
    },
    {
     "name": "stderr",
     "output_type": "stream",
     "text": [
      "2025-05-17 16:45:53,167 [ERROR] [core.sampler        ]: Back-track: no valid next-token candidates survived.\n"
     ]
    },
    {
     "name": "stdout",
     "output_type": "stream",
     "text": [
      "BANNED (prompt_idx=22, type=slop_phrase, phrase='murmured')                         \n",
      "BANNED (prompt_idx=5, type=slop_phrase, phrase='meticulously')                      \n",
      "BANNED (prompt_idx=10, type=slop_phrase, phrase='whisper')                          \n",
      "BANNED (prompt_idx=3, type=slop_phrase, phrase='profound')                          \n",
      "BANNED (prompt_idx=19, type=slop_phrase, phrase='whisper')                          \n",
      "BANNED (prompt_idx=36, type=slop_phrase, phrase='faint')                            \n",
      "Batch Generating:   3%|▎         | 1/39 [03:55<2:18:50, 219.22s/prompt, 125.1 tok/s]Back-track: no valid next-token candidates survived. ▁gaze\n",
      "BANNED (prompt_idx=39, type=slop_phrase, phrase='gaze')                             \n",
      "BANNED (prompt_idx=0, type=slop_phrase, phrase='meticulously')                      \n",
      "Batch Generating:   3%|▎         | 1/39 [03:55<2:18:50, 219.22s/prompt, 132.1 tok/s]"
     ]
    },
    {
     "name": "stderr",
     "output_type": "stream",
     "text": [
      "2025-05-17 16:45:54,762 [ERROR] [core.sampler        ]: Back-track: no valid next-token candidates survived.\n"
     ]
    },
    {
     "name": "stdout",
     "output_type": "stream",
     "text": [
      "BANNED (prompt_idx=1, type=slop_phrase, phrase='trembling')                         \n",
      "BANNED (prompt_idx=6, type=slop_phrase, phrase='unsettling')                        \n",
      "BANNED (prompt_idx=21, type=ngram, ngram='casting long')                            \n",
      "BANNED (prompt_idx=33, type=slop_phrase, phrase='hesitated')                        \n",
      "BANNED (prompt_idx=4, type=slop_phrase, phrase='utterly')                           \n",
      "Batch Generating:   3%|▎         | 1/39 [03:56<2:18:50, 219.22s/prompt, 121.3 tok/s]Back-track: no valid next-token candidates survived. ▁shimmer\n",
      "BANNED (prompt_idx=25, type=slop_phrase, phrase='shimmered')                        \n",
      "Batch Generating:   3%|▎         | 1/39 [03:56<2:18:50, 219.22s/prompt, 124.7 tok/s]"
     ]
    },
    {
     "name": "stderr",
     "output_type": "stream",
     "text": [
      "2025-05-17 16:45:55,676 [ERROR] [core.sampler        ]: Back-track: no valid next-token candidates survived.\n"
     ]
    },
    {
     "name": "stdout",
     "output_type": "stream",
     "text": [
      "BANNED (prompt_idx=38, type=ngram, ngram='one thing')                               \n",
      "BANNED (prompt_idx=23, type=slop_phrase, phrase='fragile')                          \n",
      "BANNED (prompt_idx=8, type=slop_phrase, phrase='demon')                             \n",
      "BANNED (prompt_idx=16, type=slop_phrase, phrase='asked, my voice trembling')        \n",
      "BANNED (prompt_idx=15, type=slop_phrase, phrase='glanced')                          \n",
      "BANNED (prompt_idx=22, type=slop_phrase, phrase='whisper')                          \n",
      "BANNED (prompt_idx=2, type=slop_phrase, phrase='nodded')                            \n",
      "BANNED (prompt_idx=11, type=slop_phrase, phrase='relentless')                       \n",
      "Batch Generating:   3%|▎         | 1/39 [03:58<2:18:50, 219.22s/prompt, 105.1 tok/s]Back-track: no valid next-token candidates survived. ▁murmured\n",
      "BANNED (prompt_idx=34, type=slop_phrase, phrase='murmured')                         \n",
      "Batch Generating:   3%|▎         | 1/39 [03:58<2:18:50, 219.22s/prompt, 105.5 tok/s]"
     ]
    },
    {
     "name": "stderr",
     "output_type": "stream",
     "text": [
      "2025-05-17 16:45:57,609 [ERROR] [core.sampler        ]: Back-track: no valid next-token candidates survived.\n"
     ]
    },
    {
     "name": "stdout",
     "output_type": "stream",
     "text": [
      "BANNED (prompt_idx=3, type=slop_phrase, phrase='whisper')                           \n",
      "Batch Generating:   3%|▎         | 1/39 [03:58<2:18:50, 219.22s/prompt, 111.1 tok/s]"
     ]
    },
    {
     "name": "stderr",
     "output_type": "stream",
     "text": [
      "2025-05-17 16:45:58,018 [ERROR] [core.sampler        ]: Back-track: no valid next-token candidates survived.\n",
      "2025-05-17 16:45:58,194 [ERROR] [core.sampler        ]: Back-track: no valid next-token candidates survived.\n"
     ]
    },
    {
     "name": "stdout",
     "output_type": "stream",
     "text": [
      "Back-track: no valid next-token candidates survived. ▁echo\n",
      "BANNED (prompt_idx=10, type=slop_phrase, phrase='echo')                             \n",
      "Batch Generating:   3%|▎         | 1/39 [03:59<2:18:50, 219.22s/prompt, 114.1 tok/s]Back-track: no valid next-token candidates survived. ▁said\n",
      "BANNED (prompt_idx=19, type=slop_phrase, phrase='said, his voice barely')           \n",
      "BANNED (prompt_idx=27, type=slop_phrase, phrase='profound')                         \n",
      "BANNED (prompt_idx=24, type=ngram, ngram='stepped back')                            \n",
      "BANNED (prompt_idx=25, type=slop_phrase, phrase='stark')                            \n",
      "BANNED (prompt_idx=4, type=slop_phrase, phrase='void')                              \n",
      "Batch Generating:   3%|▎         | 1/39 [04:00<2:18:50, 219.22s/prompt, 108.7 tok/s]"
     ]
    },
    {
     "name": "stderr",
     "output_type": "stream",
     "text": [
      "2025-05-17 16:45:59,251 [ERROR] [core.sampler        ]: Back-track: no valid next-token candidates survived.\n"
     ]
    },
    {
     "name": "stdout",
     "output_type": "stream",
     "text": [
      "Back-track: no valid next-token candidates survived. ▁gaze\n",
      "BANNED (prompt_idx=39, type=slop_phrase, phrase='gaze')                             \n",
      "BANNED (prompt_idx=33, type=slop_phrase, phrase='took a deep breath')               \n",
      "BANNED (prompt_idx=18, type=slop_phrase, phrase='nodded')                           \n",
      "BANNED (prompt_idx=1, type=slop_phrase, phrase='shaking')                           \n",
      "Batch Generating:   3%|▎         | 1/39 [04:01<2:18:50, 219.22s/prompt, 105.5 tok/s]Back-track: no valid next-token candidates survived. ▁rhythm\n",
      "BANNED (prompt_idx=23, type=slop_phrase, phrase='rhythm')                           \n",
      "Batch Generating:   3%|▎         | 1/39 [04:01<2:18:50, 219.22s/prompt, 105.3 tok/s]"
     ]
    },
    {
     "name": "stderr",
     "output_type": "stream",
     "text": [
      "2025-05-17 16:46:00,217 [ERROR] [core.sampler        ]: Back-track: no valid next-token candidates survived.\n"
     ]
    },
    {
     "name": "stdout",
     "output_type": "stream",
     "text": [
      "BANNED (prompt_idx=32, type=slop_phrase, phrase='utterly')                          \n",
      "BANNED (prompt_idx=28, type=slop_phrase, phrase='flicker')                          \n",
      "BANNED (prompt_idx=20, type=slop_phrase, phrase='echo')                             \n",
      "BANNED (prompt_idx=31, type=ngram, ngram='hung air')                                \n",
      "Back-track: no valid next-token candidates survived. ▁said                          \n",
      "BANNED (prompt_idx=2, type=slop_phrase, phrase='sigh')\n",
      "BANNED (prompt_idx=22, type=slop_phrase, phrase='said, his voice barely')           \n",
      "Batch Generating:   3%|▎         | 1/39 [04:02<2:18:50, 219.22s/prompt, 121.5 tok/s]"
     ]
    },
    {
     "name": "stderr",
     "output_type": "stream",
     "text": [
      "2025-05-17 16:46:00,978 [ERROR] [core.sampler        ]: Back-track: no valid next-token candidates survived.\n"
     ]
    },
    {
     "name": "stdout",
     "output_type": "stream",
     "text": [
      "BANNED (prompt_idx=3, type=slop_phrase, phrase='whisper')                           \n",
      "BANNED (prompt_idx=15, type=slop_phrase, phrase='profound')                         \n",
      "BANNED (prompt_idx=16, type=ngram, ngram='growing sense')                           \n",
      "                                                                                    Back-track: no valid next-token candidates survived. ▁said\n",
      "BANNED (prompt_idx=7, type=slop_phrase, phrase='whisper')\n",
      "BANNED (prompt_idx=19, type=slop_phrase, phrase='said, his voice barely')           \n",
      "Batch Generating:   3%|▎         | 1/39 [04:02<2:18:50, 219.22s/prompt, 112.4 tok/s]Back-track: no valid next-token candidates survived. ▁echo\n",
      "                                                                                    \r"
     ]
    },
    {
     "name": "stderr",
     "output_type": "stream",
     "text": [
      "2025-05-17 16:46:01,942 [ERROR] [core.sampler        ]: Back-track: no valid next-token candidates survived.\n",
      "2025-05-17 16:46:01,979 [ERROR] [core.sampler        ]: Back-track: no valid next-token candidates survived.\n"
     ]
    },
    {
     "name": "stdout",
     "output_type": "stream",
     "text": [
      "BANNED (prompt_idx=10, type=slop_phrase, phrase='echo')\n",
      "Batch Generating:   3%|▎         | 1/39 [04:03<2:18:50, 219.22s/prompt, 115.7 tok/s]"
     ]
    },
    {
     "name": "stderr",
     "output_type": "stream",
     "text": [
      "2025-05-17 16:46:02,244 [ERROR] [core.sampler        ]: Back-track: no valid next-token candidates survived.\n"
     ]
    },
    {
     "name": "stdout",
     "output_type": "stream",
     "text": [
      "Back-track: no valid next-token candidates survived. ▁shimmer\n",
      "BANNED (prompt_idx=25, type=slop_phrase, phrase='shimmered')                        \n",
      "BANNED (prompt_idx=24, type=ngram, ngram='sense unease')                            \n",
      "BANNED (prompt_idx=12, type=slop_phrase, phrase='profound')                         \n",
      "BANNED (prompt_idx=14, type=slop_phrase, phrase='palpable')                         \n",
      "BANNED (prompt_idx=34, type=slop_phrase, phrase='pulse')                            \n",
      "BANNED (prompt_idx=33, type=slop_phrase, phrase='stretched')                        \n",
      "BANNED (prompt_idx=27, type=slop_phrase, phrase='growing sense of unease')          \n",
      "BANNED (prompt_idx=39, type=slop_phrase, phrase='shifting')                         \n",
      "Batch Generating:   3%|▎         | 1/39 [04:05<2:18:50, 219.22s/prompt, 107.4 tok/s]Back-track: no valid next-token candidates survived. ▁trembling\n",
      "BANNED (prompt_idx=1, type=slop_phrase, phrase='trembling')                         \n",
      "Batch Generating:   3%|▎         | 1/39 [04:05<2:18:50, 219.22s/prompt, 116.0 tok/s]"
     ]
    },
    {
     "name": "stderr",
     "output_type": "stream",
     "text": [
      "2025-05-17 16:46:04,418 [ERROR] [core.sampler        ]: Back-track: no valid next-token candidates survived.\n"
     ]
    },
    {
     "name": "stdout",
     "output_type": "stream",
     "text": [
      "BANNED (prompt_idx=23, type=slop_phrase, phrase='silas')                            \n",
      "BANNED (prompt_idx=2, type=slop_phrase, phrase='nodded')                            \n",
      "BANNED (prompt_idx=3, type=ngram, ngram='voice soft')                               \n",
      "Batch Generating:   3%|▎         | 1/39 [04:05<2:18:50, 219.22s/prompt, 115.8 tok/s]"
     ]
    },
    {
     "name": "stderr",
     "output_type": "stream",
     "text": [
      "2025-05-17 16:46:04,727 [ERROR] [core.sampler        ]: Back-track: no valid next-token candidates survived.\n"
     ]
    },
    {
     "name": "stdout",
     "output_type": "stream",
     "text": [
      "Back-track: no valid next-token candidates survived. ▁said\n",
      "BANNED (prompt_idx=22, type=slop_phrase, phrase='said, his voice barely')           \n",
      "BANNED (prompt_idx=31, type=slop_phrase, phrase='profound')                         \n",
      "BANNED (prompt_idx=35, type=slop_phrase, phrase='silent for a long moment')         \n",
      "Batch Generating:   3%|▎         | 1/39 [04:06<2:18:50, 219.22s/prompt, 123.8 tok/s]"
     ]
    },
    {
     "name": "stderr",
     "output_type": "stream",
     "text": [
      "2025-05-17 16:46:05,476 [ERROR] [core.sampler        ]: Back-track: no valid next-token candidates survived.\n"
     ]
    },
    {
     "name": "stdout",
     "output_type": "stream",
     "text": [
      "Back-track: no valid next-token candidates survived. ▁shimmer\n",
      "BANNED (prompt_idx=25, type=slop_phrase, phrase='shimmered')                        \n",
      "BANNED (prompt_idx=28, type=ngram, ngram='almost imperceptible')                    \n",
      "Batch Generating:   3%|▎         | 1/39 [04:06<2:18:50, 219.22s/prompt, 110.7 tok/s]Back-track: no valid next-token candidates survived. ▁said\n",
      "BANNED (prompt_idx=19, type=slop_phrase, phrase='said, his voice barely')           \n",
      "Batch Generating:   3%|▎         | 1/39 [04:06<2:18:50, 219.22s/prompt, 113.6 tok/s]Back-track: no valid next-token candidates survived. ▁echo\n",
      "BANNED (prompt_idx=10, type=slop_phrase, phrase='echo')                             \n",
      "Batch Generating:   3%|▎         | 1/39 [04:06<2:18:50, 219.22s/prompt, 115.0 tok/s]"
     ]
    },
    {
     "name": "stderr",
     "output_type": "stream",
     "text": [
      "2025-05-17 16:46:05,792 [ERROR] [core.sampler        ]: Back-track: no valid next-token candidates survived.\n",
      "2025-05-17 16:46:05,881 [ERROR] [core.sampler        ]: Back-track: no valid next-token candidates survived.\n"
     ]
    },
    {
     "name": "stdout",
     "output_type": "stream",
     "text": [
      "BANNED (prompt_idx=11, type=slop_phrase, phrase='terrifying')                       \n",
      "BANNED (prompt_idx=7, type=regex, regex='\\bnot\\s+(?:just|only|merely)?\\s*(?:[^\\s]+\\s*){1,6}?[,;:—–-]?\\s*but\\s+(?:also\\s+)?', match='not with words, but ')\n",
      "BANNED (prompt_idx=17, type=ngram, ngram='carefully constructed')                   \n",
      "BANNED (prompt_idx=33, type=slop_phrase, phrase='swallowed')                        \n",
      "BANNED (prompt_idx=34, type=slop_phrase, phrase='relentless')                       \n",
      "Batch Generating:   3%|▎         | 1/39 [04:09<2:18:50, 219.22s/prompt, 109.9 tok/s]Back-track: no valid next-token candidates survived. ▁gaze\n",
      "BANNED (prompt_idx=39, type=slop_phrase, phrase='gaze')                             \n",
      "Batch Generating:   3%|▎         | 1/39 [04:09<2:18:50, 219.22s/prompt, 111.0 tok/s]"
     ]
    },
    {
     "name": "stderr",
     "output_type": "stream",
     "text": [
      "2025-05-17 16:46:08,143 [ERROR] [core.sampler        ]: Back-track: no valid next-token candidates survived.\n"
     ]
    },
    {
     "name": "stdout",
     "output_type": "stream",
     "text": [
      "BANNED (prompt_idx=3, type=slop_phrase, phrase='whisper')                           \n",
      "BANNED (prompt_idx=18, type=ngram, ngram='looked around')                           \n",
      "BANNED (prompt_idx=2, type=ngram, ngram='would never')                              \n",
      "Batch Generating:   5%|▌         | 2/39 [04:09<1:06:41, 108.16s/prompt, 110.7 tok/s]Back-track: no valid next-token candidates survived. ▁said\n",
      "BANNED (prompt_idx=22, type=slop_phrase, phrase='said, his voice barely')           \n",
      "BANNED (prompt_idx=27, type=slop_phrase, phrase='unease')                           \n",
      "BANNED (prompt_idx=14, type=slop_phrase, phrase='warmth')                           \n",
      "Batch Generating:   5%|▌         | 2/39 [04:09<1:06:41, 108.16s/prompt, 127.3 tok/s]"
     ]
    },
    {
     "name": "stderr",
     "output_type": "stream",
     "text": [
      "2025-05-17 16:46:08,616 [ERROR] [core.sampler        ]: Back-track: no valid next-token candidates survived.\n",
      "2025-05-17 16:46:08,791 [ERROR] [core.sampler        ]: Back-track: no valid next-token candidates survived.\n"
     ]
    },
    {
     "name": "stdout",
     "output_type": "stream",
     "text": [
      "Back-track: no valid next-token candidates survived. ▁rhythm\n",
      "BANNED (prompt_idx=23, type=slop_phrase, phrase='rhythm')                           \n",
      "BANNED (prompt_idx=6, type=ngram, ngram='eyes gleaming')                            \n",
      "BANNED (prompt_idx=32, type=ngram, ngram='looked eyes filled')                      \n",
      "BANNED (prompt_idx=25, type=slop_phrase, phrase='breath caught in my throat')       \n",
      "BANNED (prompt_idx=31, type=slop_phrase, phrase='utterly')                          \n",
      "Batch Generating:   5%|▌         | 2/39 [04:10<1:06:41, 108.16s/prompt, 137.2 tok/s]Back-track: no valid next-token candidates survived. ▁trembling\n",
      "BANNED (prompt_idx=1, type=slop_phrase, phrase='trembling')                         \n",
      "Batch Generating:   5%|▌         | 2/39 [04:10<1:06:41, 108.16s/prompt, 136.8 tok/s]"
     ]
    },
    {
     "name": "stderr",
     "output_type": "stream",
     "text": [
      "2025-05-17 16:46:09,140 [ERROR] [core.sampler        ]: Back-track: no valid next-token candidates survived.\n"
     ]
    },
    {
     "name": "stdout",
     "output_type": "stream",
     "text": [
      "BANNED (prompt_idx=35, type=ngram, ngram='long moment')                             \n",
      "BANNED (prompt_idx=19, type=slop_phrase, phrase='rhythm')                           \n",
      "BANNED (prompt_idx=21, type=slop_phrase, phrase='pressing')                         \n",
      "BANNED (prompt_idx=10, type=slop_phrase, phrase='elias')                            \n",
      "BANNED (prompt_idx=4, type=slop_phrase, phrase='rhythm')                            \n",
      "BANNED (prompt_idx=7, type=slop_phrase, phrase='smiled')                            \n",
      "BANNED (prompt_idx=28, type=slop_phrase, phrase='void')                             \n",
      "BANNED (prompt_idx=37, type=ngram, ngram='strange sense')                           \n",
      "Batch Generating:   5%|▌         | 2/39 [04:12<1:06:41, 108.16s/prompt, 124.1 tok/s]"
     ]
    },
    {
     "name": "stderr",
     "output_type": "stream",
     "text": [
      "2025-05-17 16:46:11,602 [ERROR] [core.sampler        ]: Back-track: no valid next-token candidates survived.\n"
     ]
    },
    {
     "name": "stdout",
     "output_type": "stream",
     "text": [
      "Back-track: no valid next-token candidates survived. ▁whispered\n",
      "BANNED (prompt_idx=3, type=slop_phrase, phrase='whisper')                           \n",
      "Batch Generating:   5%|▌         | 2/39 [04:13<1:06:41, 108.16s/prompt, 109.9 tok/s]"
     ]
    },
    {
     "name": "stderr",
     "output_type": "stream",
     "text": [
      "2025-05-17 16:46:12,251 [ERROR] [core.sampler        ]: Back-track: no valid next-token candidates survived.\n",
      "2025-05-17 16:46:12,278 [ERROR] [core.sampler        ]: Back-track: no valid next-token candidates survived.\n"
     ]
    },
    {
     "name": "stdout",
     "output_type": "stream",
     "text": [
      "Back-track: no valid next-token candidates survived. ▁said\n",
      "BANNED (prompt_idx=22, type=ngram, ngram='said voice barely')                       \n",
      "Batch Generating:   5%|▌         | 2/39 [04:13<1:06:41, 108.16s/prompt, 111.3 tok/s]Back-track: no valid next-token candidates survived. ▁shimmer\n",
      "BANNED (prompt_idx=25, type=slop_phrase, phrase='shimmered')                        \n",
      "BANNED (prompt_idx=39, type=ngram, ngram='said voice')                              \n",
      "BANNED (prompt_idx=18, type=slop_phrase, phrase='intricate')                        \n",
      "BANNED (prompt_idx=31, type=slop_phrase, phrase='profound')                         \n",
      "BANNED (prompt_idx=32, type=slop_phrase, phrase='smiled')                           \n",
      "BANNED (prompt_idx=23, type=slop_phrase, phrase='silas')                            \n",
      "Batch Generating:   5%|▌         | 2/39 [04:14<1:06:41, 108.16s/prompt, 108.4 tok/s]Back-track: no valid next-token candidates survived. ▁said\n",
      "BANNED (prompt_idx=19, type=slop_phrase, phrase='said, his voice barely')           \n",
      "BANNED (prompt_idx=35, type=slop_phrase, phrase='said, his voice low')              \n",
      "Batch Generating:   5%|▌         | 2/39 [04:14<1:06:41, 108.16s/prompt, 113.9 tok/s]"
     ]
    },
    {
     "name": "stderr",
     "output_type": "stream",
     "text": [
      "2025-05-17 16:46:13,312 [ERROR] [core.sampler        ]: Back-track: no valid next-token candidates survived.\n"
     ]
    },
    {
     "name": "stdout",
     "output_type": "stream",
     "text": [
      "BANNED (prompt_idx=4, type=slop_phrase, phrase='rhythm')                            \n",
      "BANNED (prompt_idx=6, type=slop_phrase, phrase='gaze')                              \n",
      "BANNED (prompt_idx=10, type=slop_phrase, phrase='elias')                            \n",
      "Batch Generating:   5%|▌         | 2/39 [04:14<1:06:41, 108.16s/prompt, 104.7 tok/s]Back-track: no valid next-token candidates survived. ▁trembling\n",
      "BANNED (prompt_idx=1, type=slop_phrase, phrase='trembling')                         \n",
      "BANNED (prompt_idx=8, type=slop_phrase, phrase='hint')                              \n",
      "BANNED (prompt_idx=27, type=slop_phrase, phrase='terrifying')                       \n",
      "Batch Generating:   5%|▌         | 2/39 [04:14<1:06:41, 108.16s/prompt, 107.0 tok/s]"
     ]
    },
    {
     "name": "stderr",
     "output_type": "stream",
     "text": [
      "2025-05-17 16:46:13,895 [ERROR] [core.sampler        ]: Back-track: no valid next-token candidates survived.\n"
     ]
    },
    {
     "name": "stdout",
     "output_type": "stream",
     "text": [
      "BANNED (prompt_idx=7, type=slop_phrase, phrase='smiled')                            \n",
      "Batch Generating:   5%|▌         | 2/39 [04:15<1:06:41, 108.16s/prompt, 122.0 tok/s]"
     ]
    },
    {
     "name": "stderr",
     "output_type": "stream",
     "text": [
      "2025-05-17 16:46:14,906 [ERROR] [core.sampler        ]: Back-track: no valid next-token candidates survived.\n"
     ]
    },
    {
     "name": "stdout",
     "output_type": "stream",
     "text": [
      "Back-track: no valid next-token candidates survived. ▁whispered\n",
      "BANNED (prompt_idx=3, type=slop_phrase, phrase='whisper')                           \n",
      "BANNED (prompt_idx=33, type=regex, regex='\\bnot\\s+(?:just|only|merely)?\\s*(?:[^\\s]+\\s*){1,6}?[,;:—–-]?\\s*but\\s+(?:also\\s+)?', match='Not exceptional. But ')\n",
      "BANNED (prompt_idx=11, type=slop_phrase, phrase='whisper')                          \n",
      "BANNED (prompt_idx=37, type=slop_phrase, phrase='scent')                            \n",
      "BANNED (prompt_idx=25, type=slop_phrase, phrase='blood ran cold')                   \n",
      "BANNED (prompt_idx=28, type=slop_phrase, phrase='hint')                             \n",
      "BANNED (prompt_idx=22, type=slop_phrase, phrase='faded')                            \n",
      "BANNED (prompt_idx=17, type=slop_phrase, phrase='chaotic')                          \n",
      "BANNED (prompt_idx=31, type=ngram, ngram='felt like')                              \n",
      "BANNED (prompt_idx=32, type=slop_phrase, phrase='smile spreading across')          \n",
      "BANNED (prompt_idx=19, type=slop_phrase, phrase='voice barely a whisper')       \n",
      "Batch Generating:   8%|▊         | 3/39 [04:18<37:32, 62.57s/prompt, 83.8 tok/s]Back-track: no valid next-token candidates survived. ▁rhythms\n",
      "BANNED (prompt_idx=4, type=slop_phrase, phrase='rhythm')                        \n",
      "Batch Generating:   8%|▊         | 3/39 [04:18<37:32, 62.57s/prompt, 86.7 tok/s]"
     ]
    },
    {
     "name": "stderr",
     "output_type": "stream",
     "text": [
      "2025-05-17 16:46:17,220 [ERROR] [core.sampler        ]: Back-track: no valid next-token candidates survived.\n",
      "2025-05-17 16:46:17,418 [ERROR] [core.sampler        ]: Back-track: no valid next-token candidates survived.\n"
     ]
    },
    {
     "name": "stdout",
     "output_type": "stream",
     "text": [
      "Back-track: no valid next-token candidates survived. ▁rhythm\n",
      "BANNED (prompt_idx=23, type=slop_phrase, phrase='rhythm')                       \n",
      "BANNED (prompt_idx=8, type=slop_phrase, phrase='fragile')                       \n",
      "BANNED (prompt_idx=10, type=slop_phrase, phrase='elias')                        \n",
      "BANNED (prompt_idx=38, type=regex, regex='\\bnot\\s+(?:just|only|merely)?\\s*(?:[^\\s]+\\s*){1,6}?[,;:—–-]?\\s*but\\s+(?:also\\s+)?', match='not on changing anything, not on interfering, but ')\n",
      "BANNED (prompt_idx=7, type=slop_phrase, phrase='faint')                         \n",
      "BANNED (prompt_idx=6, type=ngram, ngram='eyes gleaming')                        \n",
      "Batch Generating:   8%|▊         | 3/39 [04:19<37:32, 62.57s/prompt, 88.2 tok/s]Back-track: no valid next-token candidates survived. ▁whispered\n",
      "BANNED (prompt_idx=3, type=slop_phrase, phrase='whisper')                       \n",
      "Batch Generating:   8%|▊         | 3/39 [04:19<37:32, 62.57s/prompt, 82.9 tok/s]"
     ]
    },
    {
     "name": "stderr",
     "output_type": "stream",
     "text": [
      "2025-05-17 16:46:18,321 [ERROR] [core.sampler        ]: Back-track: no valid next-token candidates survived.\n"
     ]
    },
    {
     "name": "stdout",
     "output_type": "stream",
     "text": [
      "BANNED (prompt_idx=1, type=slop_phrase, phrase='muttered')                      \n",
      "BANNED (prompt_idx=12, type=slop_phrase, phrase='paused')                       \n",
      "Batch Generating:   8%|▊         | 3/39 [04:19<37:32, 62.57s/prompt, 73.3 tok/s]"
     ]
    },
    {
     "name": "stderr",
     "output_type": "stream",
     "text": [
      "2025-05-17 16:46:18,817 [ERROR] [core.sampler        ]: Back-track: no valid next-token candidates survived.\n"
     ]
    },
    {
     "name": "stdout",
     "output_type": "stream",
     "text": [
      "Back-track: no valid next-token candidates survived. ▁shimmer\n",
      "BANNED (prompt_idx=25, type=slop_phrase, phrase='shimmered')                    \n",
      "BANNED (prompt_idx=13, type=slop_phrase, phrase='echo')                         \n",
      "BANNED (prompt_idx=37, type=ngram, ngram='feel sense')                          \n",
      "BANNED (prompt_idx=21, type=slop_phrase, phrase='shattered')                    \n",
      "BANNED (prompt_idx=11, type=slop_phrase, phrase='whisper')                      \n",
      "BANNED (prompt_idx=14, type=regex, regex='\\bnot\\s+(?:just|only|merely)?\\s*(?:[^\\s]+\\s*){1,6}?[,;:—–-]?\\s*but\\s+(?:also\\s+)?', match='not just for people, but ')\n",
      "BANNED (prompt_idx=31, type=slop_phrase, phrase='echo')                         \n",
      "BANNED (prompt_idx=28, type=slop_phrase, phrase='flicker')                      \n",
      "Batch Generating:   8%|▊         | 3/39 [04:21<37:32, 62.57s/prompt, 71.9 tok/s]Back-track: no valid next-token candidates survived. ▁rhythms\n",
      "BANNED (prompt_idx=4, type=slop_phrase, phrase='rhythm')                        \n",
      "BANNED (prompt_idx=29, type=slop_phrase, phrase='rain continued to fall')       \n",
      "BANNED (prompt_idx=8, type=slop_phrase, phrase='trembling')                     \n",
      "BANNED (prompt_idx=17, type=slop_phrase, phrase='frantic')                      \n",
      "BANNED (prompt_idx=32, type=slop_phrase, phrase='smile spreading across')       \n",
      "Batch Generating:   8%|▊         | 3/39 [04:22<37:32, 62.57s/prompt, 79.9 tok/s]"
     ]
    },
    {
     "name": "stderr",
     "output_type": "stream",
     "text": [
      "2025-05-17 16:46:20,881 [ERROR] [core.sampler        ]: Back-track: no valid next-token candidates survived.\n"
     ]
    },
    {
     "name": "stdout",
     "output_type": "stream",
     "text": [
      "BANNED (prompt_idx=39, type=ngram, ngram='turned back')                         \n",
      "BANNED (prompt_idx=23, type=slop_phrase, phrase='shadows')                      \n",
      "Batch Generating:   8%|▊         | 3/39 [04:22<37:32, 62.57s/prompt, 91.9 tok/s]"
     ]
    },
    {
     "name": "stderr",
     "output_type": "stream",
     "text": [
      "2025-05-17 16:46:21,631 [ERROR] [core.sampler        ]: Back-track: no valid next-token candidates survived.\n"
     ]
    },
    {
     "name": "stdout",
     "output_type": "stream",
     "text": [
      "Back-track: no valid next-token candidates survived. ▁whispered\n",
      "BANNED (prompt_idx=3, type=ngram, ngram='whispered voice')                      \n",
      "BANNED (prompt_idx=7, type=slop_phrase, phrase='raced')                          \n",
      "BANNED (prompt_idx=18, type=slop_phrase, phrase='relentless')                    \n",
      "BANNED (prompt_idx=38, type=slop_phrase, phrase='pressing')                     \n",
      "BANNED (prompt_idx=6, type=ngram, ngram='eyes filled')                          \n",
      "BANNED (prompt_idx=13, type=slop_phrase, phrase='echo')                         \n",
      "BANNED (prompt_idx=0, type=slop_phrase, phrase='demon')                         \n",
      "BANNED (prompt_idx=2, type=slop_phrase, phrase='said, his voice barely')        \n",
      "Batch Generating:   8%|▊         | 3/39 [04:23<37:32, 62.57s/prompt, 95.7 tok/s]"
     ]
    },
    {
     "name": "stderr",
     "output_type": "stream",
     "text": [
      "2025-05-17 16:46:23,233 [ERROR] [core.sampler        ]: Back-track: no valid next-token candidates survived.\n"
     ]
    },
    {
     "name": "stdout",
     "output_type": "stream",
     "text": [
      "Back-track: no valid next-token candidates survived. ▁trembling\n",
      "BANNED (prompt_idx=1, type=slop_phrase, phrase='trembling')                     \n",
      "BANNED (prompt_idx=37, type=ngram, ngram='one thing')                            \n",
      "BANNED (prompt_idx=12, type=slop_phrase, phrase='swirling')                      \n",
      "BANNED (prompt_idx=11, type=slop_phrase, phrase='whisper')                       \n",
      "BANNED (prompt_idx=31, type=slop_phrase, phrase='profound')                      \n",
      "Batch Generating:  10%|█         | 4/39 [04:25<23:43, 40.69s/prompt, 104.0 tok/s]"
     ]
    },
    {
     "name": "stderr",
     "output_type": "stream",
     "text": [
      "2025-05-17 16:46:24,498 [ERROR] [core.sampler        ]: Back-track: no valid next-token candidates survived.\n"
     ]
    },
    {
     "name": "stdout",
     "output_type": "stream",
     "text": [
      "Back-track: no valid next-token candidates survived. ▁rhythms\n",
      "BANNED (prompt_idx=4, type=slop_phrase, phrase='rhythm')                         \n",
      "BANNED (prompt_idx=8, type=slop_phrase, phrase='gently')                         \n",
      "BANNED (prompt_idx=29, type=slop_phrase, phrase='vanished')                      \n",
      "BANNED (prompt_idx=32, type=slop_phrase, phrase='whisper')                       \n",
      "BANNED (prompt_idx=36, type=slop_phrase, phrase='meticulously')                  \n",
      "BANNED (prompt_idx=3, type=slop_phrase, phrase='profound')                       \n",
      "BANNED (prompt_idx=5, type=slop_phrase, phrase='echo')                           \n",
      "BANNED (prompt_idx=28, type=slop_phrase, phrase='anticipation')                  \n",
      "BANNED (prompt_idx=7, type=regex, regex='\\bnot\\s+(?:just|only|merely)?\\s*(?:[^\\s]+\\s*){1,6}?[,;:—–-]?\\s*but\\s+(?:also\\s+)?', match='not of fear, but ')\n",
      "BANNED (prompt_idx=14, type=slop_phrase, phrase='overwhelming')                  \n",
      "BANNED (prompt_idx=2, type=slop_phrase, phrase='whisper')                        \n",
      "BANNED (prompt_idx=33, type=slop_phrase, phrase='words hung in the air')         \n",
      "BANNED (prompt_idx=0, type=slop_phrase, phrase='shadows')                        \n",
      "BANNED (prompt_idx=22, type=slop_phrase, phrase='gleaming')                      \n",
      "BANNED (prompt_idx=6, type=slop_phrase, phrase='gaze')                           \n",
      "Batch Generating:  10%|█         | 4/39 [04:28<23:43, 40.69s/prompt, 116.6 tok/s]"
     ]
    },
    {
     "name": "stderr",
     "output_type": "stream",
     "text": [
      "2025-05-17 16:46:27,655 [ERROR] [core.sampler        ]: Back-track: no valid next-token candidates survived.\n"
     ]
    },
    {
     "name": "stdout",
     "output_type": "stream",
     "text": [
      "Back-track: no valid next-token candidates survived. ▁trembling\n",
      "BANNED (prompt_idx=1, type=slop_phrase, phrase='trembling')                      \n",
      "BANNED (prompt_idx=19, type=slop_phrase, phrase='sensation')                     \n",
      "BANNED (prompt_idx=31, type=slop_phrase, phrase='unsettling')                    \n",
      "BANNED (prompt_idx=8, type=slop_phrase, phrase='softly')                         \n",
      "BANNED (prompt_idx=4, type=slop_phrase, phrase='testament')                      \n",
      "BANNED (prompt_idx=11, type=slop_phrase, phrase='whisper')                       \n",
      "BANNED (prompt_idx=3, type=slop_phrase, phrase='chilling')                       \n",
      "BANNED (prompt_idx=25, type=slop_phrase, phrase='meticulously')                  \n",
      "BANNED (prompt_idx=29, type=slop_phrase, phrase='scent')                         \n",
      "BANNED (prompt_idx=12, type=slop_phrase, phrase='glow')                          \n",
      "BANNED (prompt_idx=32, type=ngram, ngram='said voice')                          \n",
      "BANNED (prompt_idx=21, type=slop_phrase, phrase='scent')                        \n",
      "BANNED (prompt_idx=10, type=slop_phrase, phrase='elias')                         \n",
      "BANNED (prompt_idx=7, type=regex, regex='\\bnot\\s+(?:just|only|merely)?\\s*(?:[^\\s]+\\s*){1,6}?[,;:—–-]?\\s*but\\s+(?:also\\s+)?', match='not of fear, but ')\n",
      "BANNED (prompt_idx=23, type=slop_phrase, phrase='unsettling')                   \n",
      "BANNED (prompt_idx=27, type=slop_phrase, phrase='unsettling')                   \n",
      "BANNED (prompt_idx=5, type=slop_phrase, phrase='amusement')                     \n",
      "BANNED (prompt_idx=39, type=ngram, ngram='turned back')                         \n",
      "BANNED (prompt_idx=2, type=slop_phrase, phrase='gaze')                          \n",
      "BANNED (prompt_idx=35, type=slop_phrase, phrase='nodded')                       \n",
      "BANNED (prompt_idx=33, type=ngram, ngram='hung air')                            \n",
      "BANNED (prompt_idx=22, type=slop_phrase, phrase='glow')                         \n",
      "BANNED (prompt_idx=38, type=slop_phrase, phrase='intricate')                    \n",
      "BANNED (prompt_idx=0, type=slop_phrase, phrase='paused')                        \n",
      "BANNED (prompt_idx=18, type=slop_phrase, phrase='unseen')                       \n",
      "BANNED (prompt_idx=6, type=ngram, ngram='eyes filled')                          \n",
      "BANNED (prompt_idx=37, type=slop_phrase, phrase='shattered')                    \n",
      "BANNED (prompt_idx=24, type=slop_phrase, phrase='faint')                        \n",
      "BANNED (prompt_idx=14, type=regex, regex='\\bnot\\s+(?:just|only|merely)?\\s*(?:[^\\s]+\\s*){1,6}?[,;:—–-]?\\s*but\\s+(?:also\\s+)?', match='not against physical harm, but ')\n",
      "BANNED (prompt_idx=8, type=slop_phrase, phrase='gently')                        \n",
      "BANNED (prompt_idx=3, type=slop_phrase, phrase='echo')                          \n",
      "BANNED (prompt_idx=1, type=slop_phrase, phrase='void')                          \n",
      "BANNED (prompt_idx=11, type=slop_phrase, phrase='whisper')                      \n",
      "BANNED (prompt_idx=32, type=slop_phrase, phrase='whisper')                      \n",
      "BANNED (prompt_idx=29, type=slop_phrase, phrase='unsettling')                   \n",
      "BANNED (prompt_idx=7, type=slop_phrase, phrase='unsettling')                    \n",
      "BANNED (prompt_idx=2, type=ngram, ngram='eyes fixed')                           \n",
      "BANNED (prompt_idx=5, type=slop_phrase, phrase='curiosity')                     \n",
      "BANNED (prompt_idx=21, type=slop_phrase, phrase='scent')                        \n",
      "BANNED (prompt_idx=12, type=regex, regex='\\bnot\\s+(?:just|only|merely)?\\s*(?:[^\\s]+\\s*){1,6}?[,;:—–-]?\\s*but\\s+(?:also\\s+)?', match='not a sign of a war species, but ')\n",
      "BANNED (prompt_idx=23, type=slop_phrase, phrase='glow')                         \n",
      "BANNED (prompt_idx=35, type=slop_phrase, phrase='narrowed')                     \n",
      "BANNED (prompt_idx=39, type=slop_phrase, phrase='rain continued to fall')       \n",
      "BANNED (prompt_idx=22, type=slop_phrase, phrase='gleaming')                     \n",
      "BANNED (prompt_idx=33, type=ngram, ngram='felt like')                           \n",
      "BANNED (prompt_idx=13, type=slop_phrase, phrase='testament')                    \n",
      "BANNED (prompt_idx=0, type=slop_phrase, phrase='stared')                        \n",
      "BANNED (prompt_idx=19, type=slop_phrase, phrase='unsettling')                   \n",
      "BANNED (prompt_idx=27, type=slop_phrase, phrase='relentless')                   \n",
      "BANNED (prompt_idx=3, type=slop_phrase, phrase='shimmering')                    \n",
      "BANNED (prompt_idx=4, type=regex, regex='\\bnot\\s+(?:just|only|merely)?\\s*(?:[^\\s]+\\s*){1,6}?[,;:—–-]?\\s*but\\s+(?:also\\s+)?', match='not for its scale, but ')\n",
      "BANNED (prompt_idx=24, type=slop_phrase, phrase='faint')                        \n",
      "BANNED (prompt_idx=6, type=ngram, ngram='eyes filled')                          \n",
      "Batch Generating:  10%|█         | 4/39 [04:36<23:43, 40.69s/prompt, 85.1 tok/s]"
     ]
    },
    {
     "name": "stderr",
     "output_type": "stream",
     "text": [
      "2025-05-17 16:46:36,430 [ERROR] [core.sampler        ]: Back-track: no valid next-token candidates survived.\n",
      "2025-05-17 16:46:36,615 [ERROR] [core.sampler        ]: Back-track: no valid next-token candidates survived.\n"
     ]
    },
    {
     "name": "stdout",
     "output_type": "stream",
     "text": [
      "Back-track: no valid next-token candidates survived. ▁murmured\n",
      "BANNED (prompt_idx=32, type=slop_phrase, phrase='murmured')                     \n",
      "BANNED (prompt_idx=11, type=slop_phrase, phrase='whisper')                      \n",
      "BANNED (prompt_idx=16, type=slop_phrase, phrase='profound')                     \n",
      "Batch Generating:  10%|█         | 4/39 [04:37<23:43, 40.69s/prompt, 73.8 tok/s]Back-track: no valid next-token candidates survived. ▁trembling\n",
      "BANNED (prompt_idx=1, type=slop_phrase, phrase='trembling')                     \n",
      "BANNED (prompt_idx=2, type=slop_phrase, phrase='voice barely a whisper')        \n",
      "BANNED (prompt_idx=14, type=slop_phrase, phrase='unseen')                       \n",
      "BANNED (prompt_idx=7, type=slop_phrase, phrase='utterly')                       \n",
      "BANNED (prompt_idx=22, type=slop_phrase, phrase='faint')                        \n",
      "BANNED (prompt_idx=23, type=slop_phrase, phrase='echo')                         \n",
      "BANNED (prompt_idx=33, type=slop_phrase, phrase='asked, my voice barely')       \n",
      "BANNED (prompt_idx=19, type=slop_phrase, phrase='sensation')                    \n",
      "BANNED (prompt_idx=21, type=slop_phrase, phrase='scent')                        \n",
      "BANNED (prompt_idx=13, type=slop_phrase, phrase='testament')                    \n",
      "BANNED (prompt_idx=0, type=slop_phrase, phrase='gaze')                           \n",
      "BANNED (prompt_idx=4, type=regex, regex='\\bnot\\s+(?:just|only|merely)?\\s*(?:[^\\s]+\\s*){1,6}?[,;:—–-]?\\s*but\\s+(?:also\\s+)?', match='not for its scale, but ')\n",
      "BANNED (prompt_idx=34, type=slop_phrase, phrase='shimmering')                    \n",
      "BANNED (prompt_idx=38, type=slop_phrase, phrase='whisper')                       \n",
      "BANNED (prompt_idx=24, type=slop_phrase, phrase='whisper')                       \n",
      "BANNED (prompt_idx=6, type=slop_phrase, phrase='piercing')                       \n",
      "BANNED (prompt_idx=36, type=slop_phrase, phrase='utterly')                       \n",
      "BANNED (prompt_idx=18, type=slop_phrase, phrase='shimmering')                    \n",
      "Batch Generating:  10%|█         | 4/39 [04:41<23:43, 40.69s/prompt, 105.3 tok/s]Back-track: no valid next-token candidates survived. ▁gaze\n",
      "BANNED (prompt_idx=2, type=slop_phrase, phrase='gaze')                           \n",
      "Batch Generating:  10%|█         | 4/39 [04:41<23:43, 40.69s/prompt, 97.8 tok/s] "
     ]
    },
    {
     "name": "stderr",
     "output_type": "stream",
     "text": [
      "2025-05-17 16:46:40,402 [ERROR] [core.sampler        ]: Back-track: no valid next-token candidates survived.\n",
      "2025-05-17 16:46:40,509 [ERROR] [core.sampler        ]: Back-track: no valid next-token candidates survived.\n"
     ]
    },
    {
     "name": "stdout",
     "output_type": "stream",
     "text": [
      "BANNED (prompt_idx=10, type=slop_phrase, phrase='shifted')                      \n",
      "Batch Generating:  10%|█         | 4/39 [04:41<23:43, 40.69s/prompt, 101.4 tok/s]Back-track: no valid next-token candidates survived. ▁murmured\n",
      "BANNED (prompt_idx=32, type=slop_phrase, phrase='murmured')                      \n",
      "BANNED (prompt_idx=11, type=slop_phrase, phrase='whisper')                       \n",
      "Batch Generating:  10%|█         | 4/39 [04:41<23:43, 40.69s/prompt, 110.9 tok/s]"
     ]
    },
    {
     "name": "stderr",
     "output_type": "stream",
     "text": [
      "2025-05-17 16:46:40,948 [ERROR] [core.sampler        ]: Back-track: no valid next-token candidates survived.\n"
     ]
    },
    {
     "name": "stdout",
     "output_type": "stream",
     "text": [
      "Back-track: no valid next-token candidates survived. ▁trembling\n",
      "BANNED (prompt_idx=1, type=slop_phrase, phrase='trembling')                      \n",
      "BANNED (prompt_idx=7, type=slop_phrase, phrase='profound')                       \n",
      "BANNED (prompt_idx=22, type=slop_phrase, phrase='glow')                          \n",
      "BANNED (prompt_idx=16, type=slop_phrase, phrase='profound')                      \n",
      "BANNED (prompt_idx=3, type=slop_phrase, phrase='echo')                           \n",
      "BANNED (prompt_idx=19, type=slop_phrase, phrase='flicker')                       \n",
      "BANNED (prompt_idx=23, type=slop_phrase, phrase='silas')                         \n",
      "BANNED (prompt_idx=8, type=ngram, ngram='turned back')                           \n",
      "BANNED (prompt_idx=21, type=slop_phrase, phrase='scent')                         \n",
      "BANNED (prompt_idx=24, type=ngram, ngram='almost imperceptible')                 \n",
      "Batch Generating:  13%|█▎        | 5/39 [04:44<18:22, 32.41s/prompt, 126.4 tok/s]"
     ]
    },
    {
     "name": "stderr",
     "output_type": "stream",
     "text": [
      "2025-05-17 16:46:43,939 [ERROR] [core.sampler        ]: Back-track: no valid next-token candidates survived.\n"
     ]
    },
    {
     "name": "stdout",
     "output_type": "stream",
     "text": [
      "Back-track: no valid next-token candidates survived. ▁gaze\n",
      "BANNED (prompt_idx=2, type=slop_phrase, phrase='gaze')                           \n",
      "Batch Generating:  13%|█▎        | 5/39 [04:45<18:22, 32.41s/prompt, 119.1 tok/s]Back-track: no valid next-token candidates survived. ▁murmured\n",
      "BANNED (prompt_idx=32, type=slop_phrase, phrase='murmured')                      \n",
      "Batch Generating:  13%|█▎        | 5/39 [04:45<18:22, 32.41s/prompt, 123.0 tok/s]"
     ]
    },
    {
     "name": "stderr",
     "output_type": "stream",
     "text": [
      "2025-05-17 16:46:44,386 [ERROR] [core.sampler        ]: Back-track: no valid next-token candidates survived.\n"
     ]
    },
    {
     "name": "stdout",
     "output_type": "stream",
     "text": [
      "BANNED (prompt_idx=18, type=slop_phrase, phrase='countless')                     \n",
      "BANNED (prompt_idx=7, type=slop_phrase, phrase='terrifying')                     \n",
      "BANNED (prompt_idx=11, type=slop_phrase, phrase='terrifying')                    \n",
      "BANNED (prompt_idx=5, type=slop_phrase, phrase='asked, my voice barely')         \n",
      "BANNED (prompt_idx=36, type=slop_phrase, phrase='chilling')                      \n",
      "BANNED (prompt_idx=1, type=slop_phrase, phrase='leaned')                         \n",
      "BANNED (prompt_idx=28, type=slop_phrase, phrase='desperation')                   \n",
      "BANNED (prompt_idx=33, type=ngram, ngram='eyes narrowing')                       \n",
      "BANNED (prompt_idx=8, type=slop_phrase, phrase='paused')                         \n",
      "BANNED (prompt_idx=31, type=ngram, ngram='voice laced')                          \n",
      "BANNED (prompt_idx=16, type=ngram, ngram='strange sense')                        \n",
      "BANNED (prompt_idx=35, type=slop_phrase, phrase='unsettling')                    \n",
      "BANNED (prompt_idx=13, type=slop_phrase, phrase='stretched')                     \n",
      "BANNED (prompt_idx=37, type=slop_phrase, phrase='spark')                         \n",
      "BANNED (prompt_idx=24, type=slop_phrase, phrase='whisper')                       \n",
      "Batch Generating:  13%|█▎        | 5/39 [04:48<18:22, 32.41s/prompt, 122.6 tok/s]Back-track: no valid next-token candidates survived. ▁gaze\n",
      "BANNED (prompt_idx=2, type=slop_phrase, phrase='gaze')                           \n",
      "Batch Generating:  13%|█▎        | 5/39 [04:48<18:22, 32.41s/prompt, 125.0 tok/s]"
     ]
    },
    {
     "name": "stderr",
     "output_type": "stream",
     "text": [
      "2025-05-17 16:46:47,420 [ERROR] [core.sampler        ]: Back-track: no valid next-token candidates survived.\n"
     ]
    },
    {
     "name": "stdout",
     "output_type": "stream",
     "text": [
      "BANNED (prompt_idx=38, type=slop_phrase, phrase='whisper')                       \n",
      "BANNED (prompt_idx=21, type=slop_phrase, phrase='vibrant')                       \n",
      "BANNED (prompt_idx=32, type=regex, regex='\\bnot\\s+(?:just|only|merely)?\\s*(?:[^\\s]+\\s*){1,6}?[,;:—–-]?\\s*but\\s+(?:also\\s+)?', match='not in an email this time, but ')\n",
      "BANNED (prompt_idx=10, type=slop_phrase, phrase='laced')                         \n",
      "BANNED (prompt_idx=6, type=ngram, ngram='looked around')                         \n",
      "BANNED (prompt_idx=11, type=slop_phrase, phrase='whisper')                       \n",
      "BANNED (prompt_idx=5, type=slop_phrase, phrase='smiled')                         \n",
      "BANNED (prompt_idx=8, type=slop_phrase, phrase='hesitated')                      \n",
      "BANNED (prompt_idx=4, type=slop_phrase, phrase='faint')                          \n",
      "BANNED (prompt_idx=1, type=slop_phrase, phrase='small, almost imperceptible')    \n",
      "BANNED (prompt_idx=23, type=ngram, ngram='young man')                            \n",
      "BANNED (prompt_idx=28, type=slop_phrase, phrase='leaned')                        \n",
      "BANNED (prompt_idx=0, type=slop_phrase, phrase='took a deep breath')             \n",
      "BANNED (prompt_idx=37, type=slop_phrase, phrase='faint')                         \n",
      "Batch Generating:  13%|█▎        | 5/39 [04:51<18:22, 32.41s/prompt, 114.2 tok/s]"
     ]
    },
    {
     "name": "stderr",
     "output_type": "stream",
     "text": [
      "2025-05-17 16:46:51,021 [ERROR] [core.sampler        ]: Back-track: no valid next-token candidates survived.\n"
     ]
    },
    {
     "name": "stdout",
     "output_type": "stream",
     "text": [
      "Back-track: no valid next-token candidates survived. ▁gaze\n",
      "BANNED (prompt_idx=2, type=ngram, ngram='gaze fixed')                            \n",
      "BANNED (prompt_idx=39, type=ngram, ngram='turned face')                          \n",
      "BANNED (prompt_idx=24, type=slop_phrase, phrase='sigh')                          \n",
      "BANNED (prompt_idx=16, type=ngram, ngram='strange sense')                        \n",
      "BANNED (prompt_idx=38, type=slop_phrase, phrase='whisper')                       \n",
      "Batch Generating:  13%|█▎        | 5/39 [04:53<18:22, 32.41s/prompt, 103.5 tok/s]Back-track: no valid next-token candidates survived. ▁murmured\n",
      "BANNED (prompt_idx=32, type=slop_phrase, phrase='murmured')                      \n",
      "Batch Generating:  13%|█▎        | 5/39 [04:53<18:22, 32.41s/prompt, 107.4 tok/s]"
     ]
    },
    {
     "name": "stderr",
     "output_type": "stream",
     "text": [
      "2025-05-17 16:46:52,014 [ERROR] [core.sampler        ]: Back-track: no valid next-token candidates survived.\n"
     ]
    },
    {
     "name": "stdout",
     "output_type": "stream",
     "text": [
      "BANNED (prompt_idx=10, type=slop_phrase, phrase='faint')                         \n",
      "BANNED (prompt_idx=21, type=slop_phrase, phrase='vibrant')                       \n",
      "BANNED (prompt_idx=7, type=slop_phrase, phrase='raced')                          \n",
      "BANNED (prompt_idx=29, type=slop_phrase, phrase='glanced')                       \n",
      "BANNED (prompt_idx=6, type=slop_phrase, phrase='stared')                         \n",
      "BANNED (prompt_idx=8, type=slop_phrase, phrase='paused')                         \n",
      "BANNED (prompt_idx=19, type=slop_phrase, phrase='whisper')                       \n",
      "BANNED (prompt_idx=11, type=ngram, ngram='would never')                          \n",
      "BANNED (prompt_idx=5, type=slop_phrase, phrase='nodded')                         \n",
      "BANNED (prompt_idx=4, type=slop_phrase, phrase='flicker')                        \n",
      "BANNED (prompt_idx=33, type=slop_phrase, phrase='froze')                         \n",
      "BANNED (prompt_idx=31, type=slop_phrase, phrase='scent')                         \n",
      "BANNED (prompt_idx=1, type=slop_phrase, phrase='leaned')                         \n",
      "BANNED (prompt_idx=23, type=ngram, ngram='young man')                            \n",
      "BANNED (prompt_idx=13, type=slop_phrase, phrase='voice devoid of emotion')      \n",
      "BANNED (prompt_idx=2, type=slop_phrase, phrase='silas')                         \n",
      "BANNED (prompt_idx=0, type=slop_phrase, phrase='hesitated')                     \n",
      "BANNED (prompt_idx=27, type=slop_phrase, phrase='chilling')                     \n",
      "BANNED (prompt_idx=24, type=slop_phrase, phrase='whisper')                      \n",
      "BANNED (prompt_idx=36, type=slop_phrase, phrase='utterly')                      \n",
      "BANNED (prompt_idx=22, type=slop_phrase, phrase='profound')                     \n",
      "BANNED (prompt_idx=28, type=slop_phrase, phrase='rhythm')                       \n",
      "BANNED (prompt_idx=10, type=ngram, ngram='long time')                           \n",
      "BANNED (prompt_idx=38, type=slop_phrase, phrase='flicker')                      \n",
      "BANNED (prompt_idx=16, type=slop_phrase, phrase='shifting')                     \n",
      "BANNED (prompt_idx=19, type=slop_phrase, phrase='voice barely a whisper')       \n",
      "BANNED (prompt_idx=4, type=slop_phrase, phrase='smile playing on her lips')     \n",
      "BANNED (prompt_idx=21, type=slop_phrase, phrase='amidst')                       \n",
      "BANNED (prompt_idx=6, type=slop_phrase, phrase='terrifying')                    \n",
      "BANNED (prompt_idx=5, type=slop_phrase, phrase='small, almost imperceptible')   \n",
      "BANNED (prompt_idx=31, type=slop_phrase, phrase='shimmering')                    \n",
      "BANNED (prompt_idx=2, type=slop_phrase, phrase='testament')                      \n",
      "BANNED (prompt_idx=18, type=ngram, ngram='spoke voice')                          \n",
      "BANNED (prompt_idx=13, type=slop_phrase, phrase='void')                         \n",
      "BANNED (prompt_idx=12, type=slop_phrase, phrase='pulse')                        \n",
      "BANNED (prompt_idx=0, type=slop_phrase, phrase='subtle')                        \n",
      "BANNED (prompt_idx=24, type=slop_phrase, phrase='whisper')                      \n",
      "BANNED (prompt_idx=22, type=slop_phrase, phrase='unsettling')                   \n",
      "BANNED (prompt_idx=32, type=ngram, ngram='young woman')                         \n",
      "BANNED (prompt_idx=34, type=slop_phrase, phrase='paused')                       \n",
      "BANNED (prompt_idx=39, type=slop_phrase, phrase='void')                         \n",
      "BANNED (prompt_idx=27, type=slop_phrase, phrase='profound')                     \n",
      "BANNED (prompt_idx=10, type=slop_phrase, phrase='void')                         \n",
      "BANNED (prompt_idx=8, type=slop_phrase, phrase='whisper')                       \n",
      "BANNED (prompt_idx=19, type=slop_phrase, phrase='whisper')                      \n",
      "BANNED (prompt_idx=38, type=slop_phrase, phrase='frantic')                      \n",
      "BANNED (prompt_idx=7, type=slop_phrase, phrase='utterly')                       \n",
      "BANNED (prompt_idx=28, type=slop_phrase, phrase='subtle')                       \n",
      "BANNED (prompt_idx=33, type=slop_phrase, phrase='amusement')                    \n",
      "BANNED (prompt_idx=5, type=slop_phrase, phrase='sigh')                          \n",
      "BANNED (prompt_idx=31, type=slop_phrase, phrase='scent')                        \n",
      "Batch Generating:  18%|█▊        | 7/39 [05:02<10:01, 18.79s/prompt, 83.4 tok/s]Back-track: no valid next-token candidates survived. ▁gaze\n",
      "BANNED (prompt_idx=2, type=slop_phrase, phrase='gaze')                          \n",
      "Batch Generating:  18%|█▊        | 7/39 [05:02<10:01, 18.79s/prompt, 94.2 tok/s]"
     ]
    },
    {
     "name": "stderr",
     "output_type": "stream",
     "text": [
      "2025-05-17 16:47:01,809 [ERROR] [core.sampler        ]: Back-track: no valid next-token candidates survived.\n"
     ]
    },
    {
     "name": "stdout",
     "output_type": "stream",
     "text": [
      "BANNED (prompt_idx=13, type=slop_phrase, phrase='void')                         \n",
      "BANNED (prompt_idx=23, type=slop_phrase, phrase='silas')                        \n",
      "BANNED (prompt_idx=22, type=slop_phrase, phrase='chilling')                     \n",
      "BANNED (prompt_idx=0, type=slop_phrase, phrase='faint')                         \n",
      "BANNED (prompt_idx=18, type=slop_phrase, phrase='said, her voice soft')         \n",
      "BANNED (prompt_idx=24, type=slop_phrase, phrase='sigh')                         \n",
      "BANNED (prompt_idx=25, type=slop_phrase, phrase='subtle')                       \n",
      "BANNED (prompt_idx=1, type=slop_phrase, phrase='said, his voice low')           \n",
      "BANNED (prompt_idx=12, type=slop_phrase, phrase='flicker')                      \n",
      "BANNED (prompt_idx=32, type=slop_phrase, phrase='warmth')                       \n",
      "BANNED (prompt_idx=10, type=slop_phrase, phrase='void')                         \n",
      "BANNED (prompt_idx=19, type=slop_phrase, phrase='said, his voice barely')       \n",
      "BANNED (prompt_idx=7, type=slop_phrase, phrase='unsettling')                     \n",
      "BANNED (prompt_idx=29, type=slop_phrase, phrase='rain continued to fall')       \n",
      "BANNED (prompt_idx=34, type=slop_phrase, phrase='scent')                        \n",
      "Batch Generating:  18%|█▊        | 7/39 [05:06<10:01, 18.79s/prompt, 96.6 tok/s]Back-track: no valid next-token candidates survived. ▁gaze\n",
      "BANNED (prompt_idx=2, type=slop_phrase, phrase='gaze')                          \n",
      "BANNED (prompt_idx=33, type=slop_phrase, phrase='amusement')                    \n",
      "BANNED (prompt_idx=31, type=slop_phrase, phrase='unsettling')                   \n",
      "Batch Generating:  18%|█▊        | 7/39 [05:06<10:01, 18.79s/prompt, 103.1 tok/s]"
     ]
    },
    {
     "name": "stderr",
     "output_type": "stream",
     "text": [
      "2025-05-17 16:47:05,231 [ERROR] [core.sampler        ]: Back-track: no valid next-token candidates survived.\n"
     ]
    },
    {
     "name": "stdout",
     "output_type": "stream",
     "text": [
      "BANNED (prompt_idx=36, type=slop_phrase, phrase='stared')                        \n",
      "BANNED (prompt_idx=11, type=slop_phrase, phrase='testament')                    \n",
      "BANNED (prompt_idx=13, type=slop_phrase, phrase='laced')                        \n",
      "BANNED (prompt_idx=6, type=slop_phrase, phrase='stammered')                     \n",
      "BANNED (prompt_idx=22, type=regex, regex='\\bnot\\s+(?:just|only|merely)?\\s*(?:[^\\s]+\\s*){1,6}?[,;:—–-]?\\s*but\\s+(?:also\\s+)?', match='Not just to protect myself, but ')\n",
      "BANNED (prompt_idx=16, type=ngram, ngram='smile playing')                        \n",
      "BANNED (prompt_idx=25, type=slop_phrase, phrase='subtle')                        \n",
      "BANNED (prompt_idx=23, type=slop_phrase, phrase='silas')                         \n",
      "BANNED (prompt_idx=24, type=slop_phrase, phrase='whisper')                       \n",
      "BANNED (prompt_idx=8, type=slop_phrase, phrase='sensation')                      \n",
      "BANNED (prompt_idx=1, type=ngram, ngram='voice low')                             \n",
      "Batch Generating:  18%|█▊        | 7/39 [05:08<10:01, 18.79s/prompt, 101.1 tok/s]Back-track: no valid next-token candidates survived. ▁whispered\n",
      "                                                                                 \r"
     ]
    },
    {
     "name": "stderr",
     "output_type": "stream",
     "text": [
      "2025-05-17 16:47:07,574 [ERROR] [core.sampler        ]: Back-track: no valid next-token candidates survived.\n"
     ]
    },
    {
     "name": "stdout",
     "output_type": "stream",
     "text": [
      "BANNED (prompt_idx=19, type=slop_phrase, phrase='whisper')\n",
      "BANNED (prompt_idx=10, type=slop_phrase, phrase='void')                          \n",
      "BANNED (prompt_idx=4, type=slop_phrase, phrase='profound')                       \n",
      "BANNED (prompt_idx=7, type=slop_phrase, phrase='utterly')                        \n",
      "BANNED (prompt_idx=12, type=slop_phrase, phrase='pulse')                         \n",
      "BANNED (prompt_idx=2, type=slop_phrase, phrase='paused')                         \n",
      "BANNED (prompt_idx=33, type=slop_phrase, phrase='anticipation')                  \n",
      "BANNED (prompt_idx=14, type=slop_phrase, phrase='echo')                          \n",
      "BANNED (prompt_idx=22, type=regex, regex='\\bnot\\s+(?:just|only|merely)?\\s*(?:[^\\s]+\\s*){1,6}?[,;:—–-]?\\s*but\\s+(?:also\\s+)?', match='Not just to protect myself, but ')\n",
      "BANNED (prompt_idx=25, type=slop_phrase, phrase='rhythm')                       \n",
      "BANNED (prompt_idx=34, type=slop_phrase, phrase='echo')                         \n",
      "BANNED (prompt_idx=0, type=slop_phrase, phrase='flicker')                       \n",
      "BANNED (prompt_idx=23, type=slop_phrase, phrase='silas')                        \n",
      "BANNED (prompt_idx=36, type=slop_phrase, phrase='flicker')                      \n",
      "BANNED (prompt_idx=8, type=slop_phrase, phrase='warmth')                        \n",
      "Batch Generating:  18%|█▊        | 7/39 [05:11<10:01, 18.79s/prompt, 96.8 tok/s]"
     ]
    },
    {
     "name": "stderr",
     "output_type": "stream",
     "text": [
      "2025-05-17 16:47:11,181 [ERROR] [core.sampler        ]: Back-track: no valid next-token candidates survived.\n"
     ]
    },
    {
     "name": "stdout",
     "output_type": "stream",
     "text": [
      "Back-track: no valid next-token candidates survived. ▁whispered\n",
      "BANNED (prompt_idx=19, type=slop_phrase, phrase='whisper')                      \n",
      "BANNED (prompt_idx=16, type=slop_phrase, phrase='amusement')                    \n",
      "BANNED (prompt_idx=32, type=slop_phrase, phrase='mortal')                       \n",
      "BANNED (prompt_idx=4, type=slop_phrase, phrase='faded')                         \n",
      "BANNED (prompt_idx=10, type=slop_phrase, phrase='echo')                         \n",
      "BANNED (prompt_idx=1, type=slop_phrase, phrase='narrowed')                      \n",
      "Batch Generating:  18%|█▊        | 7/39 [05:12<10:01, 18.79s/prompt, 93.8 tok/s]Back-track: no valid next-token candidates survived. ▁gaze\n",
      "BANNED (prompt_idx=2, type=slop_phrase, phrase='gaze')                          \n",
      "Batch Generating:  18%|█▊        | 7/39 [05:13<10:01, 18.79s/prompt, 98.6 tok/s]"
     ]
    },
    {
     "name": "stderr",
     "output_type": "stream",
     "text": [
      "2025-05-17 16:47:11,843 [ERROR] [core.sampler        ]: Back-track: no valid next-token candidates survived.\n"
     ]
    },
    {
     "name": "stdout",
     "output_type": "stream",
     "text": [
      "BANNED (prompt_idx=35, type=ngram, ngram='felt like')                            \n",
      "BANNED (prompt_idx=39, type=ngram, ngram='turned back')                          \n",
      "BANNED (prompt_idx=33, type=slop_phrase, phrase='amusement')                    \n",
      "BANNED (prompt_idx=38, type=slop_phrase, phrase='faded')                        \n",
      "BANNED (prompt_idx=5, type=slop_phrase, phrase='paused')                        \n",
      "BANNED (prompt_idx=25, type=slop_phrase, phrase='delicate')                      \n",
      "BANNED (prompt_idx=11, type=ngram, ngram='something far')                        \n",
      "BANNED (prompt_idx=0, type=slop_phrase, phrase='faint')                          \n",
      "Batch Generating:  21%|██        | 8/39 [05:16<08:56, 17.30s/prompt, 100.2 tok/s]"
     ]
    },
    {
     "name": "stderr",
     "output_type": "stream",
     "text": [
      "2025-05-17 16:47:15,127 [ERROR] [core.sampler        ]: Back-track: no valid next-token candidates survived.\n"
     ]
    },
    {
     "name": "stdout",
     "output_type": "stream",
     "text": [
      "Back-track: no valid next-token candidates survived. ▁whispered\n",
      "BANNED (prompt_idx=19, type=slop_phrase, phrase='whisper')                       \n",
      "BANNED (prompt_idx=10, type=slop_phrase, phrase='depths')                        \n",
      "BANNED (prompt_idx=32, type=ngram, ngram='something far')                        \n",
      "BANNED (prompt_idx=34, type=slop_phrase, phrase='unsettling')                    \n",
      "BANNED (prompt_idx=28, type=slop_phrase, phrase='warmth')                        \n",
      "BANNED (prompt_idx=36, type=slop_phrase, phrase='chilling')                      \n",
      "BANNED (prompt_idx=7, type=slop_phrase, phrase='utterly')                        \n",
      "Batch Generating:  21%|██        | 8/39 [05:16<08:56, 17.30s/prompt, 111.0 tok/s]Back-track: no valid next-token candidates survived. ▁smile\n",
      "BANNED (prompt_idx=16, type=ngram, ngram='smile playing')                        \n",
      "Batch Generating:  21%|██        | 8/39 [05:17<08:56, 17.30s/prompt, 111.9 tok/s]"
     ]
    },
    {
     "name": "stderr",
     "output_type": "stream",
     "text": [
      "2025-05-17 16:47:16,093 [ERROR] [core.sampler        ]: Back-track: no valid next-token candidates survived.\n"
     ]
    },
    {
     "name": "stdout",
     "output_type": "stream",
     "text": [
      "BANNED (prompt_idx=1, type=ngram, ngram='carefully constructed')                 \n",
      "BANNED (prompt_idx=18, type=slop_phrase, phrase='chuckled')                      \n",
      "BANNED (prompt_idx=5, type=slop_phrase, phrase='chilling')                       \n",
      "BANNED (prompt_idx=25, type=slop_phrase, phrase='rhythm')                        \n",
      "BANNED (prompt_idx=38, type=ngram, ngram='leaving behind')                       \n",
      "BANNED (prompt_idx=13, type=ngram, ngram='first time')                           \n",
      "BANNED (prompt_idx=8, type=slop_phrase, phrase='profound')                       \n",
      "BANNED (prompt_idx=11, type=regex, regex='\\bnot\\s+(?:just|only|merely)?\\s*(?:[^\\s]+\\s*){1,6}?[,;:—–-]?\\s*but\\s+(?:also\\s+)?', match='not just the house, but ')\n",
      "BANNED (prompt_idx=19, type=slop_phrase, phrase='stared')                        \n",
      "BANNED (prompt_idx=4, type=ngram, ngram='leaving behind')                        \n",
      "BANNED (prompt_idx=6, type=slop_phrase, phrase='flicker')                        \n",
      "BANNED (prompt_idx=17, type=slop_phrase, phrase='set, casting long')             \n",
      "BANNED (prompt_idx=32, type=slop_phrase, phrase='chaotic')                        \n",
      "BANNED (prompt_idx=21, type=slop_phrase, phrase='nodded')                         \n",
      "BANNED (prompt_idx=33, type=ngram, ngram='almost imperceptible')                  \n",
      "BANNED (prompt_idx=34, type=slop_phrase, phrase='flicker')                        \n",
      "BANNED (prompt_idx=35, type=slop_phrase, phrase='silas')                          \n",
      "BANNED (prompt_idx=25, type=slop_phrase, phrase='subtle')                         \n",
      "BANNED (prompt_idx=22, type=slop_phrase, phrase='profound')                       \n",
      "BANNED (prompt_idx=1, type=slop_phrase, phrase='vanished')                        \n",
      "BANNED (prompt_idx=16, type=slop_phrase, phrase='shimmered')                      \n",
      "BANNED (prompt_idx=18, type=slop_phrase, phrase='sensation')                      \n",
      "BANNED (prompt_idx=13, type=slop_phrase, phrase='first time since')               \n",
      "BANNED (prompt_idx=8, type=regex, regex='\\bnot\\s+(?:just|only|merely)?\\s*(?:[^\\s]+\\s*){1,6}?[,;:—–-]?\\s*but\\s+(?:also\\s+)?', match='not from intention, but ')\n",
      "BANNED (prompt_idx=38, type=slop_phrase, phrase='overwhelming')                   \n",
      "BANNED (prompt_idx=0, type=slop_phrase, phrase='chuckled')                        \n",
      "BANNED (prompt_idx=2, type=slop_phrase, phrase='silas')                           \n",
      "BANNED (prompt_idx=19, type=slop_phrase, phrase='shimmering')                    \n",
      "BANNED (prompt_idx=4, type=slop_phrase, phrase='whisper')                        \n",
      "BANNED (prompt_idx=11, type=ngram, ngram='something far')                        \n",
      "BANNED (prompt_idx=6, type=slop_phrase, phrase='terrifying')                      \n",
      "BANNED (prompt_idx=7, type=slop_phrase, phrase='whisper')                         \n",
      "BANNED (prompt_idx=22, type=slop_phrase, phrase='said, his voice laced')          \n",
      "BANNED (prompt_idx=13, type=slop_phrase, phrase='felt a flicker of something')    \n",
      "BANNED (prompt_idx=35, type=slop_phrase, phrase='silas')                          \n",
      "BANNED (prompt_idx=1, type=slop_phrase, phrase='laced')                           \n",
      "BANNED (prompt_idx=34, type=slop_phrase, phrase='faint')                          \n",
      "BANNED (prompt_idx=38, type=slop_phrase, phrase='profound')                       \n",
      "BANNED (prompt_idx=2, type=slop_phrase, phrase='subtle')                          \n",
      "BANNED (prompt_idx=19, type=slop_phrase, phrase='faint')                          \n",
      "BANNED (prompt_idx=4, type=slop_phrase, phrase='murmured')                        \n",
      "BANNED (prompt_idx=0, type=slop_phrase, phrase='nodded')                          \n",
      "BANNED (prompt_idx=10, type=slop_phrase, phrase='whisper')                        \n",
      "BANNED (prompt_idx=11, type=slop_phrase, phrase='despair')                        \n",
      "BANNED (prompt_idx=12, type=slop_phrase, phrase='paused')                         \n",
      "BANNED (prompt_idx=6, type=slop_phrase, phrase='unsettling')                      \n",
      "BANNED (prompt_idx=33, type=ngram, ngram='let go')                                \n",
      "BANNED (prompt_idx=22, type=slop_phrase, phrase='fragile')                        \n",
      "BANNED (prompt_idx=21, type=ngram, ngram='maybe maybe')                           \n",
      "BANNED (prompt_idx=35, type=slop_phrase, phrase='silas')                          \n",
      "BANNED (prompt_idx=19, type=slop_phrase, phrase='unsettling')                     \n",
      "BANNED (prompt_idx=1, type=ngram, ngram='carefully constructed')                  \n",
      "BANNED (prompt_idx=4, type=slop_phrase, phrase='whisper')                         \n",
      "BANNED (prompt_idx=38, type=slop_phrase, phrase='profound')                      \n",
      "BANNED (prompt_idx=0, type=slop_phrase, phrase='smiled')                         \n",
      "BANNED (prompt_idx=18, type=slop_phrase, phrase='chuckled')                      \n",
      "BANNED (prompt_idx=10, type=slop_phrase, phrase='fragile')                       \n",
      "BANNED (prompt_idx=39, type=slop_phrase, phrase='rain continued to fall')        \n",
      "BANNED (prompt_idx=36, type=slop_phrase, phrase='profound')                      \n",
      "BANNED (prompt_idx=34, type=ngram, ngram='almost imperceptible')                 \n",
      "BANNED (prompt_idx=16, type=slop_phrase, phrase='taking a deep breath')          \n",
      "BANNED (prompt_idx=12, type=slop_phrase, phrase='flicker')                       \n",
      "BANNED (prompt_idx=5, type=slop_phrase, phrase='subtle')                         \n",
      "Batch Generating:  31%|███       | 12/39 [05:32<02:54,  6.46s/prompt, 90.2 tok/s]"
     ]
    },
    {
     "name": "stderr",
     "output_type": "stream",
     "text": [
      "2025-05-17 16:47:31,724 [ERROR] [core.sampler        ]: Back-track: no valid next-token candidates survived.\n"
     ]
    },
    {
     "name": "stdout",
     "output_type": "stream",
     "text": [
      "Back-track: no valid next-token candidates survived. ▁said\n",
      "BANNED (prompt_idx=4, type=slop_phrase, phrase='said, her voice barely')         \n",
      "BANNED (prompt_idx=19, type=slop_phrase, phrase='chilling')                      \n",
      "BANNED (prompt_idx=21, type=slop_phrase, phrase='profound')                      \n",
      "BANNED (prompt_idx=35, type=slop_phrase, phrase='shouted')                       \n",
      "BANNED (prompt_idx=0, type=slop_phrase, phrase='chuckled')                       \n",
      "BANNED (prompt_idx=1, type=slop_phrase, phrase='vanished')                       \n",
      "BANNED (prompt_idx=10, type=regex, regex='\\bnot\\s+(?:just|only|merely)?\\s*(?:[^\\s]+\\s*){1,6}?[,;:—–-]?\\s*but\\s+(?:also\\s+)?', match='not just for yourself, but ')\n",
      "BANNED (prompt_idx=18, type=slop_phrase, phrase='hint')                          \n",
      "BANNED (prompt_idx=25, type=slop_phrase, phrase='stared')                        \n",
      "BANNED (prompt_idx=39, type=slop_phrase, phrase='chaotic')                       \n",
      "BANNED (prompt_idx=23, type=slop_phrase, phrase='meticulously')                   \n",
      "BANNED (prompt_idx=7, type=slop_phrase, phrase='unsettling')                      \n",
      "BANNED (prompt_idx=28, type=slop_phrase, phrase='laced')                          \n",
      "BANNED (prompt_idx=33, type=slop_phrase, phrase='smile spread across')            \n",
      "BANNED (prompt_idx=34, type=slop_phrase, phrase='faint')                          \n",
      "BANNED (prompt_idx=36, type=slop_phrase, phrase='utterly')                        \n",
      "Batch Generating:  33%|███▎      | 13/39 [05:35<02:49,  6.52s/prompt, 114.9 tok/s]Back-track: no valid next-token candidates survived. ▁said\n",
      "BANNED (prompt_idx=4, type=slop_phrase, phrase='said, her voice barely')          \n",
      "Batch Generating:  33%|███▎      | 13/39 [05:35<02:49,  6.52s/prompt, 114.6 tok/s]"
     ]
    },
    {
     "name": "stderr",
     "output_type": "stream",
     "text": [
      "2025-05-17 16:47:34,662 [ERROR] [core.sampler        ]: Back-track: no valid next-token candidates survived.\n"
     ]
    },
    {
     "name": "stdout",
     "output_type": "stream",
     "text": [
      "BANNED (prompt_idx=12, type=slop_phrase, phrase='flicker')                        \n",
      "BANNED (prompt_idx=5, type=slop_phrase, phrase='gestured')                        \n",
      "BANNED (prompt_idx=21, type=regex, regex='\\bnot\\s+(?:just|only|merely)?\\s*(?:[^\\s]+\\s*){1,6}?[,;:—–-]?\\s*but\\s+(?:also\\s+)?', match='not to drain, but ')\n",
      "BANNED (prompt_idx=1, type=slop_phrase, phrase='laced')                          \n",
      "BANNED (prompt_idx=38, type=ngram, ngram='knew would never')                     \n",
      "BANNED (prompt_idx=25, type=ngram, ngram='strange sense')                        \n",
      "BANNED (prompt_idx=10, type=slop_phrase, phrase='profound')                      \n",
      "BANNED (prompt_idx=18, type=slop_phrase, phrase='subtle')                        \n",
      "BANNED (prompt_idx=32, type=slop_phrase, phrase='meticulously')                  \n",
      "BANNED (prompt_idx=23, type=slop_phrase, phrase='intricate')                     \n",
      "BANNED (prompt_idx=11, type=slop_phrase, phrase='knew, with a chilling certainty')\n",
      "BANNED (prompt_idx=7, type=slop_phrase, phrase='terrifying')                     \n",
      "BANNED (prompt_idx=39, type=slop_phrase, phrase='fragile')                       \n",
      "BANNED (prompt_idx=33, type=slop_phrase, phrase='grin')                          \n",
      "BANNED (prompt_idx=31, type=ngram, ngram='said voice')                           \n",
      "Batch Generating:  33%|███▎      | 13/39 [05:38<02:49,  6.52s/prompt, 92.2 tok/s]"
     ]
    },
    {
     "name": "stderr",
     "output_type": "stream",
     "text": [
      "2025-05-17 16:47:37,712 [ERROR] [core.sampler        ]: Back-track: no valid next-token candidates survived.\n"
     ]
    },
    {
     "name": "stdout",
     "output_type": "stream",
     "text": [
      "Back-track: no valid next-token candidates survived. ▁said\n",
      "BANNED (prompt_idx=4, type=slop_phrase, phrase='said, her voice barely')         \n",
      "BANNED (prompt_idx=28, type=slop_phrase, phrase='leaned')                        \n",
      "BANNED (prompt_idx=36, type=slop_phrase, phrase='utterly')                       \n",
      "BANNED (prompt_idx=34, type=slop_phrase, phrase='faint')                         \n",
      "BANNED (prompt_idx=5, type=ngram, ngram='stepped closer')                        \n",
      "BANNED (prompt_idx=0, type=slop_phrase, phrase='rain continued to fall')         \n",
      "BANNED (prompt_idx=25, type=slop_phrase, phrase='flicker')                       \n",
      "BANNED (prompt_idx=1, type=slop_phrase, phrase='faded')                          \n",
      "BANNED (prompt_idx=38, type=slop_phrase, phrase='spark')                         \n",
      "BANNED (prompt_idx=10, type=slop_phrase, phrase='countless')                     \n",
      "BANNED (prompt_idx=21, type=slop_phrase, phrase='gently')                        \n",
      "BANNED (prompt_idx=2, type=slop_phrase, phrase='etched')                         \n",
      "BANNED (prompt_idx=18, type=slop_phrase, phrase='warmth')                        \n",
      "BANNED (prompt_idx=7, type=slop_phrase, phrase='rain continued to fall')         \n",
      "BANNED (prompt_idx=39, type=slop_phrase, phrase='chaotic')                       \n",
      "BANNED (prompt_idx=4, type=ngram, ngram='voice barely')                          \n",
      "BANNED (prompt_idx=19, type=slop_phrase, phrase='hollow')                        \n",
      "BANNED (prompt_idx=5, type=slop_phrase, phrase='paused')                         \n",
      "BANNED (prompt_idx=0, type=slop_phrase, phrase='continued to fall, washing')     \n",
      "BANNED (prompt_idx=28, type=slop_phrase, phrase='echo')                          \n",
      "BANNED (prompt_idx=36, type=slop_phrase, phrase='terrifying')                    \n",
      "BANNED (prompt_idx=6, type=slop_phrase, phrase='froze')                          \n",
      "BANNED (prompt_idx=25, type=slop_phrase, phrase='realization')                   \n",
      "BANNED (prompt_idx=34, type=slop_phrase, phrase='flicker')                       \n",
      "BANNED (prompt_idx=12, type=slop_phrase, phrase='nodded')                        \n",
      "BANNED (prompt_idx=32, type=slop_phrase, phrase='sunlight')                      \n",
      "BANNED (prompt_idx=33, type=slop_phrase, phrase='leaned')                        \n",
      "BANNED (prompt_idx=21, type=slop_phrase, phrase='delicate')                      \n",
      "BANNED (prompt_idx=7, type=slop_phrase, phrase='whisper')                        \n",
      "BANNED (prompt_idx=18, type=slop_phrase, phrase='hint')                          \n",
      "BANNED (prompt_idx=19, type=slop_phrase, phrase='nodded')                        \n",
      "BANNED (prompt_idx=31, type=ngram, ngram='turned face')                          \n",
      "BANNED (prompt_idx=5, type=slop_phrase, phrase='gestured')                       \n",
      "BANNED (prompt_idx=25, type=slop_phrase, phrase='unsettling')                    \n",
      "BANNED (prompt_idx=16, type=slop_phrase, phrase='amusement')                     \n",
      "BANNED (prompt_idx=6, type=slop_phrase, phrase='pale')                           \n",
      "BANNED (prompt_idx=10, type=regex, regex='\\bnot\\s+(?:just|only|merely)?\\s*(?:[^\\s]+\\s*){1,6}?[,;:—–-]?\\s*but\\s+(?:also\\s+)?', match='not into oblivion, but ')\n",
      "BANNED (prompt_idx=36, type=slop_phrase, phrase='meticulously')                  \n",
      "BANNED (prompt_idx=2, type=slop_phrase, phrase='chaotic')                        \n",
      "BANNED (prompt_idx=34, type=slop_phrase, phrase='subtle')                        \n",
      "BANNED (prompt_idx=38, type=slop_phrase, phrase='curiosity')                     \n",
      "BANNED (prompt_idx=32, type=slop_phrase, phrase='ethereal')                      \n",
      "BANNED (prompt_idx=1, type=slop_phrase, phrase='flicker')                        \n",
      "BANNED (prompt_idx=12, type=slop_phrase, phrase='relentless')                    \n",
      "BANNED (prompt_idx=7, type=ngram, ngram='first time')                            \n",
      "BANNED (prompt_idx=35, type=ngram, ngram='said voice firm')                      \n",
      "BANNED (prompt_idx=19, type=slop_phrase, phrase='nodded')                        \n",
      "BANNED (prompt_idx=23, type=slop_phrase, phrase='flicker')                       \n",
      "BANNED (prompt_idx=31, type=slop_phrase, phrase='flicker')                       \n",
      "BANNED (prompt_idx=21, type=slop_phrase, phrase='gently')                         \n",
      "BANNED (prompt_idx=6, type=slop_phrase, phrase='trembling')                       \n",
      "BANNED (prompt_idx=10, type=slop_phrase, phrase='fading')                        \n",
      "BANNED (prompt_idx=38, type=slop_phrase, phrase='flicker')                       \n",
      "BANNED (prompt_idx=32, type=slop_phrase, phrase='glow')                          \n",
      "BANNED (prompt_idx=19, type=slop_phrase, phrase='shook')                         \n",
      "BANNED (prompt_idx=1, type=slop_phrase, phrase='flicker')                        \n",
      "BANNED (prompt_idx=36, type=slop_phrase, phrase='obsidian')                      \n",
      "BANNED (prompt_idx=23, type=slop_phrase, phrase='essence')                       \n",
      "BANNED (prompt_idx=12, type=slop_phrase, phrase='fragile')                       \n",
      "BANNED (prompt_idx=35, type=ngram, ngram='replied voice')                        \n",
      "BANNED (prompt_idx=31, type=slop_phrase, phrase='faint')                         \n",
      "BANNED (prompt_idx=18, type=ngram, ngram='rain continued fall')                  \n",
      "BANNED (prompt_idx=21, type=slop_phrase, phrase='subtle')                        \n",
      "BANNED (prompt_idx=39, type=slop_phrase, phrase='villain')                       \n",
      "BANNED (prompt_idx=2, type=slop_phrase, phrase='profound')                       \n",
      "BANNED (prompt_idx=10, type=slop_phrase, phrase='fading')                        \n",
      "BANNED (prompt_idx=32, type=ngram, ngram='closed eyes')                          \n",
      "BANNED (prompt_idx=38, type=slop_phrase, phrase='subtle')                        \n",
      "BANNED (prompt_idx=19, type=slop_phrase, phrase='nodded')                        \n",
      "BANNED (prompt_idx=33, type=slop_phrase, phrase='shaking')                       \n",
      "BANNED (prompt_idx=1, type=slop_phrase, phrase='flicker')                        \n",
      "BANNED (prompt_idx=31, type=slop_phrase, phrase='smile playing on his lips')     \n",
      "Batch Generating:  44%|████▎     | 17/39 [05:55<01:45,  4.81s/prompt, 83.5 tok/s]"
     ]
    },
    {
     "name": "stderr",
     "output_type": "stream",
     "text": [
      "2025-05-17 16:47:54,282 [ERROR] [core.sampler        ]: Back-track: no valid next-token candidates survived.\n"
     ]
    },
    {
     "name": "stdout",
     "output_type": "stream",
     "text": [
      "Back-track: no valid next-token candidates survived. ▁said\n",
      "BANNED (prompt_idx=35, type=ngram, ngram='said voice firm')                      \n",
      "BANNED (prompt_idx=36, type=slop_phrase, phrase='polished')                      \n",
      "BANNED (prompt_idx=34, type=slop_phrase, phrase='shiver')                        \n",
      "BANNED (prompt_idx=18, type=ngram, ngram='felt like')                            \n",
      "BANNED (prompt_idx=2, type=slop_phrase, phrase='finally, after what felt like')  \n",
      "BANNED (prompt_idx=21, type=slop_phrase, phrase='faint')                         \n",
      "BANNED (prompt_idx=39, type=slop_phrase, phrase='rain continued to fall')        \n",
      "BANNED (prompt_idx=4, type=regex, regex='\\bnot\\s+(?:just|only|merely)?\\s*(?:[^\\s]+\\s*){1,6}?[,;:—–-]?\\s*but\\s+(?:also\\s+)?', match='not through monumental deeds, but ')\n",
      "BANNED (prompt_idx=10, type=slop_phrase, phrase='faded')                         \n",
      "Batch Generating:  46%|████▌     | 18/39 [05:57<01:18,  3.73s/prompt, 71.0 tok/s]Back-track: no valid next-token candidates survived. ▁stared\n",
      "BANNED (prompt_idx=19, type=slop_phrase, phrase='stared')                        \n",
      "Batch Generating:  46%|████▌     | 18/39 [05:57<01:18,  3.73s/prompt, 75.2 tok/s]"
     ]
    },
    {
     "name": "stderr",
     "output_type": "stream",
     "text": [
      "2025-05-17 16:47:56,009 [ERROR] [core.sampler        ]: Back-track: no valid next-token candidates survived.\n"
     ]
    },
    {
     "name": "stdout",
     "output_type": "stream",
     "text": [
      "BANNED (prompt_idx=38, type=slop_phrase, phrase='faint')                         \n",
      "BANNED (prompt_idx=33, type=slop_phrase, phrase='small smile playing')           \n",
      "BANNED (prompt_idx=25, type=slop_phrase, phrase='asked, my voice barely')        \n",
      "BANNED (prompt_idx=23, type=slop_phrase, phrase='silas')                         \n",
      "BANNED (prompt_idx=1, type=slop_phrase, phrase='gaze')                           \n",
      "BANNED (prompt_idx=2, type=slop_phrase, phrase='first time since')               \n",
      "BANNED (prompt_idx=5, type=slop_phrase, phrase='paused')                         \n",
      "BANNED (prompt_idx=36, type=slop_phrase, phrase='obsidian')                      \n",
      "BANNED (prompt_idx=18, type=ngram, ngram='felt like')                            \n",
      "BANNED (prompt_idx=4, type=slop_phrase, phrase='laced')                          \n",
      "BANNED (prompt_idx=21, type=slop_phrase, phrase='shimmering')                    \n",
      "BANNED (prompt_idx=34, type=slop_phrase, phrase='dread')                         \n",
      "Batch Generating:  49%|████▊     | 19/39 [05:59<01:12,  3.63s/prompt, 85.8 tok/s]"
     ]
    },
    {
     "name": "stderr",
     "output_type": "stream",
     "text": [
      "2025-05-17 16:47:58,637 [ERROR] [core.sampler        ]: Back-track: no valid next-token candidates survived.\n"
     ]
    },
    {
     "name": "stdout",
     "output_type": "stream",
     "text": [
      "Back-track: no valid next-token candidates survived. ▁stared\n",
      "BANNED (prompt_idx=19, type=slop_phrase, phrase='stared')                        \n",
      "BANNED (prompt_idx=32, type=slop_phrase, phrase='warmth')                        \n",
      "BANNED (prompt_idx=38, type=ngram, ngram='something akin')                       \n",
      "BANNED (prompt_idx=25, type=slop_phrase, phrase='asked, my voice barely')        \n",
      "BANNED (prompt_idx=31, type=slop_phrase, phrase='words hung in the air')         \n",
      "BANNED (prompt_idx=35, type=slop_phrase, phrase='relentless')                    \n",
      "BANNED (prompt_idx=5, type=slop_phrase, phrase='smiled')                         \n",
      "BANNED (prompt_idx=18, type=ngram, ngram='constant reminder')                    \n",
      "Batch Generating:  49%|████▊     | 19/39 [06:02<01:12,  3.63s/prompt, 86.9 tok/s]Back-track: no valid next-token candidates survived. ▁stared\n",
      "BANNED (prompt_idx=19, type=slop_phrase, phrase='stared')                        \n",
      "BANNED (prompt_idx=36, type=slop_phrase, phrase='polished')                      \n",
      "Batch Generating:  49%|████▊     | 19/39 [06:02<01:12,  3.63s/prompt, 88.7 tok/s]"
     ]
    },
    {
     "name": "stderr",
     "output_type": "stream",
     "text": [
      "2025-05-17 16:48:01,221 [ERROR] [core.sampler        ]: Back-track: no valid next-token candidates survived.\n"
     ]
    },
    {
     "name": "stdout",
     "output_type": "stream",
     "text": [
      "BANNED (prompt_idx=21, type=slop_phrase, phrase='subtle')                        \n",
      "BANNED (prompt_idx=32, type=slop_phrase, phrase='profound')                      \n",
      "BANNED (prompt_idx=25, type=slop_phrase, phrase='voice barely a whisper')        \n",
      "BANNED (prompt_idx=38, type=slop_phrase, phrase='curiosity')                     \n",
      "BANNED (prompt_idx=31, type=slop_phrase, phrase='unsettling')                    \n",
      "BANNED (prompt_idx=35, type=slop_phrase, phrase='terrifying')                    \n",
      "BANNED (prompt_idx=5, type=slop_phrase, phrase='paused')                         \n",
      "BANNED (prompt_idx=19, type=slop_phrase, phrase='knew, with a chilling certainty')\n",
      "BANNED (prompt_idx=25, type=slop_phrase, phrase='trembling')                     \n",
      "BANNED (prompt_idx=21, type=slop_phrase, phrase='scent')                         \n",
      "BANNED (prompt_idx=36, type=slop_phrase, phrase='utterly')                       \n",
      "BANNED (prompt_idx=38, type=slop_phrase, phrase='fragile')                       \n",
      "BANNED (prompt_idx=33, type=ngram, ngram='said voice')                           \n",
      "BANNED (prompt_idx=34, type=slop_phrase, phrase='fabric')                        \n",
      "BANNED (prompt_idx=6, type=ngram, ngram='first time')                            \n",
      "Batch Generating:  51%|█████▏    | 20/39 [06:07<01:24,  4.43s/prompt, 81.7 tok/s]Back-track: no valid next-token candidates survived. ▁stared\n",
      "BANNED (prompt_idx=19, type=slop_phrase, phrase='stared')                        \n",
      "BANNED (prompt_idx=1, type=slop_phrase, phrase='flicker')                        \n",
      "Batch Generating:  51%|█████▏    | 20/39 [06:07<01:24,  4.43s/prompt, 82.7 tok/s]"
     ]
    },
    {
     "name": "stderr",
     "output_type": "stream",
     "text": [
      "2025-05-17 16:48:06,150 [ERROR] [core.sampler        ]: Back-track: no valid next-token candidates survived.\n"
     ]
    },
    {
     "name": "stdout",
     "output_type": "stream",
     "text": [
      "BANNED (prompt_idx=32, type=slop_phrase, phrase='profound')                      \n",
      "BANNED (prompt_idx=25, type=slop_phrase, phrase='shaking')                       \n",
      "BANNED (prompt_idx=18, type=ngram, ngram='first time')                           \n",
      "BANNED (prompt_idx=2, type=slop_phrase, phrase='testament')                      \n",
      "BANNED (prompt_idx=21, type=slop_phrase, phrase='delicate')                      \n",
      "BANNED (prompt_idx=38, type=slop_phrase, phrase='flicker')                       \n",
      "BANNED (prompt_idx=4, type=slop_phrase, phrase='rain continued to fall')         \n",
      "BANNED (prompt_idx=6, type=slop_phrase, phrase='flicker')                        \n",
      "BANNED (prompt_idx=34, type=slop_phrase, phrase='fabric')                        \n",
      "BANNED (prompt_idx=19, type=slop_phrase, phrase='pale')                          \n",
      "BANNED (prompt_idx=25, type=slop_phrase, phrase='smiled')                        \n",
      "BANNED (prompt_idx=35, type=slop_phrase, phrase='silas')                         \n",
      "BANNED (prompt_idx=2, type=slop_phrase, phrase='profound')                       \n",
      "BANNED (prompt_idx=38, type=slop_phrase, phrase='spark')                         \n",
      "BANNED (prompt_idx=33, type=slop_phrase, phrase='scent')                         \n",
      "BANNED (prompt_idx=16, type=slop_phrase, phrase='curiosity')                     \n",
      "Batch Generating:  56%|█████▋    | 22/39 [06:11<00:47,  2.78s/prompt, 72.8 tok/s]Back-track: no valid next-token candidates survived. ▁stared\n",
      "BANNED (prompt_idx=19, type=slop_phrase, phrase='stared')                        \n",
      "BANNED (prompt_idx=23, type=slop_phrase, phrase='subtle')                        \n",
      "Batch Generating:  56%|█████▋    | 22/39 [06:11<00:47,  2.78s/prompt, 78.7 tok/s]"
     ]
    },
    {
     "name": "stderr",
     "output_type": "stream",
     "text": [
      "2025-05-17 16:48:10,503 [ERROR] [core.sampler        ]: Back-track: no valid next-token candidates survived.\n"
     ]
    },
    {
     "name": "stdout",
     "output_type": "stream",
     "text": [
      "BANNED (prompt_idx=6, type=slop_phrase, phrase='flicker')                        \n",
      "BANNED (prompt_idx=25, type=ngram, ngram='tilted head')                          \n",
      "BANNED (prompt_idx=34, type=slop_phrase, phrase='leaned')                        \n",
      "BANNED (prompt_idx=10, type=regex, regex='\\bnot\\s+(?:just|only|merely)?\\s*(?:[^\\s]+\\s*){1,6}?[,;:—–-]?\\s*but\\s+(?:also\\s+)?', match='not regret, but ')\n",
      "BANNED (prompt_idx=1, type=slop_phrase, phrase='renewed sense of purpose')       \n",
      "BANNED (prompt_idx=35, type=slop_phrase, phrase='silas')                         \n",
      "BANNED (prompt_idx=2, type=slop_phrase, phrase='testament')                      \n",
      "BANNED (prompt_idx=31, type=slop_phrase, phrase='gaze')                          \n",
      "Batch Generating:  56%|█████▋    | 22/39 [06:13<00:47,  2.78s/prompt, 63.6 tok/s]Back-track: no valid next-token candidates survived. ▁stared\n",
      "BANNED (prompt_idx=19, type=slop_phrase, phrase='stared')                        \n",
      "Batch Generating:  56%|█████▋    | 22/39 [06:13<00:47,  2.78s/prompt, 66.7 tok/s]"
     ]
    },
    {
     "name": "stderr",
     "output_type": "stream",
     "text": [
      "2025-05-17 16:48:12,747 [ERROR] [core.sampler        ]: Back-track: no valid next-token candidates survived.\n"
     ]
    },
    {
     "name": "stdout",
     "output_type": "stream",
     "text": [
      "BANNED (prompt_idx=21, type=regex, regex='\\bnot\\s+(?:just|only|merely)?\\s*(?:[^\\s]+\\s*){1,6}?[,;:—–-]?\\s*but\\s+(?:also\\s+)?', match='not as agents of annihilation, but ')\n",
      "BANNED (prompt_idx=16, type=slop_phrase, phrase='smile spreading across')        \n",
      "BANNED (prompt_idx=6, type=slop_phrase, phrase='whisper')                        \n",
      "BANNED (prompt_idx=10, type=slop_phrase, phrase='faint')                         \n",
      "BANNED (prompt_idx=1, type=slop_phrase, phrase='felt a profound sense')          \n",
      "BANNED (prompt_idx=35, type=slop_phrase, phrase='echo')                          \n",
      "BANNED (prompt_idx=38, type=slop_phrase, phrase='profound')                      \n",
      "BANNED (prompt_idx=19, type=slop_phrase, phrase='etched')                        \n",
      "BANNED (prompt_idx=21, type=slop_phrase, phrase='fading')                        \n",
      "BANNED (prompt_idx=33, type=ngram, ngram='maybe maybe')                          \n",
      "BANNED (prompt_idx=6, type=slop_phrase, phrase='nodded')                         \n",
      "BANNED (prompt_idx=10, type=slop_phrase, phrase='echo')                          \n",
      "BANNED (prompt_idx=16, type=slop_phrase, phrase='grin')                          \n",
      "BANNED (prompt_idx=5, type=ngram, ngram='looked around')                         \n",
      "BANNED (prompt_idx=1, type=regex, regex='\\bnot\\s+(?:just|only|merely)?\\s*(?:[^\\s]+\\s*){1,6}?[,;:—–-]?\\s*but\\s+(?:also\\s+)?', match='not for the service, but ')\n",
      "BANNED (prompt_idx=34, type=slop_phrase, phrase='void')                          \n",
      "Batch Generating:  62%|██████▏   | 24/39 [06:17<00:53,  3.54s/prompt, 85.3 tok/s]Back-track: no valid next-token candidates survived. ▁stared\n",
      "BANNED (prompt_idx=19, type=slop_phrase, phrase='stared')                        \n",
      "BANNED (prompt_idx=38, type=slop_phrase, phrase='unwavering')                    \n",
      "Batch Generating:  62%|██████▏   | 24/39 [06:17<00:53,  3.54s/prompt, 92.4 tok/s]"
     ]
    },
    {
     "name": "stderr",
     "output_type": "stream",
     "text": [
      "2025-05-17 16:48:16,790 [ERROR] [core.sampler        ]: Back-track: no valid next-token candidates survived.\n"
     ]
    },
    {
     "name": "stdout",
     "output_type": "stream",
     "text": [
      "BANNED (prompt_idx=33, type=ngram, ngram='maybe maybe could')                    \n",
      "BANNED (prompt_idx=21, type=slop_phrase, phrase='glow')                          \n",
      "BANNED (prompt_idx=23, type=slop_phrase, phrase='subtle')                        \n",
      "BANNED (prompt_idx=10, type=slop_phrase, phrase='faint')                         \n",
      "BANNED (prompt_idx=5, type=slop_phrase, phrase='felt a cold dread')              \n",
      "Batch Generating:  62%|██████▏   | 24/39 [06:19<00:53,  3.54s/prompt, 78.8 tok/s]Back-track: no valid next-token candidates survived. ▁stared\n",
      "BANNED (prompt_idx=19, type=slop_phrase, phrase='stared')                        \n",
      "Batch Generating:  62%|██████▏   | 24/39 [06:19<00:53,  3.54s/prompt, 82.4 tok/s]"
     ]
    },
    {
     "name": "stderr",
     "output_type": "stream",
     "text": [
      "2025-05-17 16:48:18,868 [ERROR] [core.sampler        ]: Back-track: no valid next-token candidates survived.\n"
     ]
    },
    {
     "name": "stdout",
     "output_type": "stream",
     "text": [
      "BANNED (prompt_idx=34, type=slop_phrase, phrase='sigh')                          \n",
      "BANNED (prompt_idx=35, type=regex, regex='\\bnot\\s+(?:just|only|merely)?\\s*(?:[^\\s]+\\s*){1,6}?[,;:—–-]?\\s*but\\s+(?:also\\s+)?', match='not to inflict pain, but ')\n",
      "BANNED (prompt_idx=33, type=slop_phrase, phrase='terrifying')                    \n",
      "BANNED (prompt_idx=21, type=regex, regex='\\bnot\\s+(?:just|only|merely)?\\s*(?:[^\\s]+\\s*){1,6}?[,;:—–-]?\\s*but\\s+(?:also\\s+)?', match='not actively destroying, but ')\n",
      "BANNED (prompt_idx=2, type=slop_phrase, phrase='sunlight')                       \n",
      "BANNED (prompt_idx=23, type=slop_phrase, phrase='scent')                         \n",
      "BANNED (prompt_idx=10, type=slop_phrase, phrase='profound')                      \n",
      "BANNED (prompt_idx=5, type=slop_phrase, phrase='meticulously')                   \n",
      "Batch Generating:  62%|██████▏   | 24/39 [06:21<00:53,  3.54s/prompt, 92.1 tok/s]Back-track: no valid next-token candidates survived. ▁stared\n",
      "BANNED (prompt_idx=19, type=slop_phrase, phrase='stared')                        \n",
      "Batch Generating:  62%|██████▏   | 24/39 [06:21<00:53,  3.54s/prompt, 99.7 tok/s]"
     ]
    },
    {
     "name": "stderr",
     "output_type": "stream",
     "text": [
      "2025-05-17 16:48:20,814 [ERROR] [core.sampler        ]: Back-track: no valid next-token candidates survived.\n"
     ]
    },
    {
     "name": "stdout",
     "output_type": "stream",
     "text": [
      "BANNED (prompt_idx=25, type=ngram, ngram='something else')                       \n",
      "BANNED (prompt_idx=35, type=slop_phrase, phrase='chilling')                       \n",
      "BANNED (prompt_idx=34, type=slop_phrase, phrase='sigh')                           \n",
      "BANNED (prompt_idx=33, type=ngram, ngram='maybe maybe')                          \n",
      "BANNED (prompt_idx=2, type=slop_phrase, phrase='silas')                          \n",
      "BANNED (prompt_idx=21, type=slop_phrase, phrase='amidst')                        \n",
      "BANNED (prompt_idx=10, type=slop_phrase, phrase='subtle')                        \n",
      "BANNED (prompt_idx=23, type=slop_phrase, phrase='tapestry')                      \n",
      "BANNED (prompt_idx=19, type=slop_phrase, phrase='ethereal')                      \n",
      "BANNED (prompt_idx=4, type=regex, regex='\\bnot\\s+(?:just|only|merely)?\\s*(?:[^\\s]+\\s*){1,6}?[,;:—–-]?\\s*but\\s+(?:also\\s+)?', match='not as a statistic, but ')\n",
      "BANNED (prompt_idx=1, type=slop_phrase, phrase='rain continued to fall')         \n",
      "BANNED (prompt_idx=2, type=slop_phrase, phrase='first time since')               \n",
      "BANNED (prompt_idx=35, type=slop_phrase, phrase='terrifying')                    \n",
      "BANNED (prompt_idx=33, type=slop_phrase, phrase='froze')                         \n",
      "BANNED (prompt_idx=21, type=slop_phrase, phrase='utterly')                       \n",
      "BANNED (prompt_idx=19, type=slop_phrase, phrase='unsettling')                    \n",
      "BANNED (prompt_idx=5, type=slop_phrase, phrase='rain continued to fall')         \n",
      "BANNED (prompt_idx=25, type=slop_phrase, phrase='took a deep breath')            \n",
      "BANNED (prompt_idx=2, type=slop_phrase, phrase='silas')                          \n",
      "Batch Generating:  72%|███████▏  | 28/39 [06:25<00:20,  1.86s/prompt, 91.4 tok/s]Back-track: no valid next-token candidates survived. ▁chilling\n",
      "BANNED (prompt_idx=35, type=slop_phrase, phrase='chilling')                      \n",
      "Batch Generating:  72%|███████▏  | 28/39 [06:25<00:20,  1.86s/prompt, 95.1 tok/s]"
     ]
    },
    {
     "name": "stderr",
     "output_type": "stream",
     "text": [
      "2025-05-17 16:48:24,685 [ERROR] [core.sampler        ]: Back-track: no valid next-token candidates survived.\n"
     ]
    },
    {
     "name": "stdout",
     "output_type": "stream",
     "text": [
      "BANNED (prompt_idx=21, type=slop_phrase, phrase='sigh')                          \n",
      "BANNED (prompt_idx=19, type=slop_phrase, phrase='glow')                          \n",
      "Batch Generating:  74%|███████▍  | 29/39 [06:26<00:16,  1.63s/prompt, 111.4 tok/s]Back-track: no valid next-token candidates survived. ▁chilling\n",
      "BANNED (prompt_idx=35, type=slop_phrase, phrase='chilling')                       \n",
      "Batch Generating:  74%|███████▍  | 29/39 [06:26<00:16,  1.63s/prompt, 115.3 tok/s]"
     ]
    },
    {
     "name": "stderr",
     "output_type": "stream",
     "text": [
      "2025-05-17 16:48:25,354 [ERROR] [core.sampler        ]: Back-track: no valid next-token candidates survived.\n"
     ]
    },
    {
     "name": "stdout",
     "output_type": "stream",
     "text": [
      "BANNED (prompt_idx=2, type=slop_phrase, phrase='silas')                           \n",
      "BANNED (prompt_idx=31, type=slop_phrase, phrase='eerie')                          \n",
      "BANNED (prompt_idx=34, type=slop_phrase, phrase='delicate')                       \n",
      "BANNED (prompt_idx=5, type=slop_phrase, phrase='paused')                          \n",
      "BANNED (prompt_idx=25, type=slop_phrase, phrase='shifted')                        \n",
      "BANNED (prompt_idx=35, type=regex, regex='\\bnot\\s+(?:just|only|merely)?\\s*(?:[^\\s]+\\s*){1,6}?[,;:—–-]?\\s*but\\s+(?:also\\s+)?', match='not a frontal assault, but ')\n",
      "BANNED (prompt_idx=2, type=slop_phrase, phrase='silas')                           \n",
      "BANNED (prompt_idx=31, type=ngram, ngram='said softly')                           \n",
      "BANNED (prompt_idx=19, type=slop_phrase, phrase='glow')                           \n",
      "BANNED (prompt_idx=5, type=slop_phrase, phrase='chilling')                        \n",
      "BANNED (prompt_idx=2, type=slop_phrase, phrase='silas')                           \n",
      "BANNED (prompt_idx=31, type=ngram, ngram='began voice')                           \n",
      "Batch Generating:  82%|████████▏ | 32/39 [06:27<00:05,  1.30prompt/s, 118.6 tok/s]Back-track: no valid next-token candidates survived. ▁chilling\n",
      "BANNED (prompt_idx=35, type=slop_phrase, phrase='chilling')                       \n",
      "Batch Generating:  82%|████████▏ | 32/39 [06:27<00:05,  1.30prompt/s, 121.1 tok/s]"
     ]
    },
    {
     "name": "stderr",
     "output_type": "stream",
     "text": [
      "2025-05-17 16:48:26,907 [ERROR] [core.sampler        ]: Back-track: no valid next-token candidates survived.\n"
     ]
    },
    {
     "name": "stdout",
     "output_type": "stream",
     "text": [
      "BANNED (prompt_idx=19, type=slop_phrase, phrase='swallowed')                      \n",
      "BANNED (prompt_idx=5, type=slop_phrase, phrase='unsettling')                      \n",
      "Batch Generating:  82%|████████▏ | 32/39 [06:28<00:05,  1.30prompt/s, 139.5 tok/s]Back-track: no valid next-token candidates survived. ▁said\n",
      "BANNED (prompt_idx=31, type=ngram, ngram='said voice')                            \n",
      "BANNED (prompt_idx=35, type=slop_phrase, phrase='grin')                           \n",
      "Batch Generating:  82%|████████▏ | 32/39 [06:28<00:05,  1.30prompt/s, 145.4 tok/s]"
     ]
    },
    {
     "name": "stderr",
     "output_type": "stream",
     "text": [
      "2025-05-17 16:48:27,504 [ERROR] [core.sampler        ]: Back-track: no valid next-token candidates survived.\n"
     ]
    },
    {
     "name": "stdout",
     "output_type": "stream",
     "text": [
      "Batch Generating:  82%|████████▏ | 32/39 [06:28<00:05,  1.30prompt/s, 155.0 tok/s]Back-track: no valid next-token candidates survived. ▁chilling\n",
      "BANNED (prompt_idx=5, type=slop_phrase, phrase='chilling')                        \n",
      "Batch Generating:  82%|████████▏ | 32/39 [06:28<00:05,  1.30prompt/s, 158.5 tok/s]"
     ]
    },
    {
     "name": "stderr",
     "output_type": "stream",
     "text": [
      "2025-05-17 16:48:27,806 [ERROR] [core.sampler        ]: Back-track: no valid next-token candidates survived.\n"
     ]
    },
    {
     "name": "stdout",
     "output_type": "stream",
     "text": [
      "BANNED (prompt_idx=19, type=slop_phrase, phrase='chilling')                       \n",
      "BANNED (prompt_idx=34, type=ngram, ngram='find way')                              \n",
      "BANNED (prompt_idx=25, type=ngram, ngram='maybe maybe')                           \n",
      "Batch Generating:  85%|████████▍ | 33/39 [06:29<00:06,  1.08s/prompt, 168.8 tok/s]Back-track: no valid next-token candidates survived. ▁chilling\n",
      "BANNED (prompt_idx=5, type=slop_phrase, phrase='chilling')                        \n",
      "Batch Generating:  85%|████████▍ | 33/39 [06:29<00:06,  1.08s/prompt, 172.2 tok/s]"
     ]
    },
    {
     "name": "stderr",
     "output_type": "stream",
     "text": [
      "2025-05-17 16:48:28,552 [ERROR] [core.sampler        ]: Back-track: no valid next-token candidates survived.\n"
     ]
    },
    {
     "name": "stdout",
     "output_type": "stream",
     "text": [
      "BANNED (prompt_idx=35, type=regex, regex='\\bnot\\s+(?:just|only|merely)?\\s*(?:[^\\s]+\\s*){1,6}?[,;:—–-]?\\s*but\\s+(?:also\\s+)?', match='not with the familiar comfort of protection, but ')\n",
      "BANNED (prompt_idx=19, type=slop_phrase, phrase='echo')                           \n",
      "Batch Generating:  87%|████████▋ | 34/39 [06:30<00:05,  1.03s/prompt, 173.7 tok/s]"
     ]
    },
    {
     "name": "stderr",
     "output_type": "stream",
     "text": [
      "2025-05-17 16:48:29,198 [ERROR] [core.sampler        ]: Back-track: no valid next-token candidates survived.\n"
     ]
    },
    {
     "name": "stdout",
     "output_type": "stream",
     "text": [
      "Back-track: no valid next-token candidates survived. ▁chilling\n",
      "BANNED (prompt_idx=5, type=slop_phrase, phrase='chilling')                        \n",
      "BANNED (prompt_idx=34, type=slop_phrase, phrase='gently')                         \n",
      "BANNED (prompt_idx=35, type=slop_phrase, phrase='shifting')                       \n",
      "BANNED (prompt_idx=5, type=slop_phrase, phrase='rain continued to fall')          \n",
      "BANNED (prompt_idx=5, type=slop_phrase, phrase='relentless')                      \n",
      "BANNED (prompt_idx=31, type=slop_phrase, phrase='said, his voice barely')         \n",
      "BANNED (prompt_idx=5, type=slop_phrase, phrase='rhythm')                          \n",
      "BANNED (prompt_idx=31, type=slop_phrase, phrase='murmured')                       \n",
      "BANNED (prompt_idx=5, type=slop_phrase, phrase='rhythm')                          \n",
      "BANNED (prompt_idx=31, type=slop_phrase, phrase='said, his voice barely')         \n",
      "BANNED (prompt_idx=34, type=ngram, ngram='closed eyes')                           \n",
      "Batch Generating:  90%|████████▉ | 35/39 [06:33<00:04,  1.03s/prompt, 97.8 tok/s] Back-track: no valid next-token candidates survived. ▁whispered\n",
      "BANNED (prompt_idx=31, type=slop_phrase, phrase='whisper')                       \n",
      "BANNED (prompt_idx=34, type=ngram, ngram='took deep')                             \n",
      "Batch Generating:  90%|████████▉ | 35/39 [06:33<00:04,  1.03s/prompt, 94.7 tok/s] "
     ]
    },
    {
     "name": "stderr",
     "output_type": "stream",
     "text": [
      "2025-05-17 16:48:32,631 [ERROR] [core.sampler        ]: Back-track: no valid next-token candidates survived.\n"
     ]
    },
    {
     "name": "stdout",
     "output_type": "stream",
     "text": [
      "Batch Generating:  90%|████████▉ | 35/39 [06:34<00:04,  1.03s/prompt, 82.9 tok/s]Back-track: no valid next-token candidates survived. ▁whispered\n",
      "BANNED (prompt_idx=31, type=slop_phrase, phrase='whisper')                       \n",
      "BANNED (prompt_idx=34, type=slop_phrase, phrase='glanced')                       \n",
      "BANNED (prompt_idx=35, type=regex, regex='\\bnot\\s+(?:just|only|merely)?\\s*(?:[^\\s]+\\s*){1,6}?[,;:—–-]?\\s*but\\s+(?:also\\s+)?', match='not by a long shot. But ')\n",
      "Batch Generating:  90%|████████▉ | 35/39 [06:34<00:04,  1.03s/prompt, 83.4 tok/s]"
     ]
    },
    {
     "name": "stderr",
     "output_type": "stream",
     "text": [
      "2025-05-17 16:48:33,304 [ERROR] [core.sampler        ]: Back-track: no valid next-token candidates survived.\n"
     ]
    },
    {
     "name": "stdout",
     "output_type": "stream",
     "text": [
      "Batch Generating:  90%|████████▉ | 35/39 [06:34<00:04,  1.03s/prompt, 72.8 tok/s]Back-track: no valid next-token candidates survived. ▁whispered\n",
      "BANNED (prompt_idx=31, type=slop_phrase, phrase='whisper')                       \n",
      "BANNED (prompt_idx=35, type=slop_phrase, phrase='first time in a long')          \n",
      "Batch Generating:  90%|████████▉ | 35/39 [06:35<00:04,  1.03s/prompt, 75.9 tok/s]"
     ]
    },
    {
     "name": "stderr",
     "output_type": "stream",
     "text": [
      "2025-05-17 16:48:33,981 [ERROR] [core.sampler        ]: Back-track: no valid next-token candidates survived.\n"
     ]
    },
    {
     "name": "stdout",
     "output_type": "stream",
     "text": [
      "BANNED (prompt_idx=34, type=slop_phrase, phrase='sigh')                          \n",
      "BANNED (prompt_idx=5, type=slop_phrase, phrase='curse')                          \n",
      "BANNED (prompt_idx=31, type=slop_phrase, phrase='rhythm')                        \n",
      "BANNED (prompt_idx=5, type=slop_phrase, phrase='essence')                        \n",
      "Batch Generating:  90%|████████▉ | 35/39 [06:36<00:04,  1.03s/prompt, 62.0 tok/s]Back-track: no valid next-token candidates survived. ▁whispered\n",
      "BANNED (prompt_idx=31, type=slop_phrase, phrase='whisper')                       \n",
      "Batch Generating:  90%|████████▉ | 35/39 [06:36<00:04,  1.03s/prompt, 61.2 tok/s]"
     ]
    },
    {
     "name": "stderr",
     "output_type": "stream",
     "text": [
      "2025-05-17 16:48:35,282 [ERROR] [core.sampler        ]: Back-track: no valid next-token candidates survived.\n"
     ]
    },
    {
     "name": "stdout",
     "output_type": "stream",
     "text": [
      "Batch Generating:  92%|█████████▏| 36/39 [06:36<00:06,  2.07s/prompt, 67.8 tok/s]"
     ]
    },
    {
     "name": "stderr",
     "output_type": "stream",
     "text": [
      "2025-05-17 16:48:35,905 [ERROR] [core.sampler        ]: Back-track: no valid next-token candidates survived.\n"
     ]
    },
    {
     "name": "stdout",
     "output_type": "stream",
     "text": [
      "Back-track: no valid next-token candidates survived. ▁whispered\n",
      "BANNED (prompt_idx=31, type=slop_phrase, phrase='whisper')                       \n",
      "BANNED (prompt_idx=31, type=slop_phrase, phrase='voice barely audible')          \n",
      "Batch Generating:  95%|█████████▍| 37/39 [06:37<00:03,  1.69s/prompt, 57.1 tok/s]"
     ]
    },
    {
     "name": "stderr",
     "output_type": "stream",
     "text": [
      "2025-05-17 16:48:37,133 [ERROR] [core.sampler        ]: Back-track: no valid next-token candidates survived.\n"
     ]
    },
    {
     "name": "stdout",
     "output_type": "stream",
     "text": [
      "Back-track: no valid next-token candidates survived. ▁whispered\n",
      "BANNED (prompt_idx=31, type=slop_phrase, phrase='whisper')                       \n",
      "Batch Generating:  97%|█████████▋| 38/39 [06:38<00:01,  1.57s/prompt, 56.3 tok/s]"
     ]
    },
    {
     "name": "stderr",
     "output_type": "stream",
     "text": [
      "2025-05-17 16:48:37,754 [ERROR] [core.sampler        ]: Back-track: no valid next-token candidates survived.\n"
     ]
    },
    {
     "name": "stdout",
     "output_type": "stream",
     "text": [
      "Back-track: no valid next-token candidates survived. ▁whispered\n",
      "BANNED (prompt_idx=31, type=slop_phrase, phrase='whisper')                       \n",
      "Batch Generating:  97%|█████████▋| 38/39 [06:38<00:01,  1.57s/prompt, 49.6 tok/s]"
     ]
    },
    {
     "name": "stderr",
     "output_type": "stream",
     "text": [
      "2025-05-17 16:48:38,367 [ERROR] [core.sampler        ]: Back-track: no valid next-token candidates survived.\n"
     ]
    },
    {
     "name": "stdout",
     "output_type": "stream",
     "text": [
      "Back-track: no valid next-token candidates survived. ▁whispered\n",
      "BANNED (prompt_idx=31, type=slop_phrase, phrase='whisper')                       \n",
      "BANNED (prompt_idx=31, type=slop_phrase, phrase='terrifying')                    \n",
      "BANNED (prompt_idx=31, type=slop_phrase, phrase='testament')                     \n",
      "BANNED (prompt_idx=31, type=slop_phrase, phrase='imagined')                      \n",
      "BANNED (prompt_idx=31, type=slop_phrase, phrase='imagined')                      \n",
      "BANNED (prompt_idx=31, type=regex, regex='\\bnot\\s+(?:just|only|merely)?\\s*(?:[^\\s]+\\s*){1,6}?[,;:—–-]?\\s*but\\s+(?:also\\s+)?', match='not just survived the impossible, but ')\n",
      "BANNED (prompt_idx=31, type=slop_phrase, phrase='terrifying')                    \n",
      "Batch Generating: 100%|██████████| 39/39 [06:46<00:00, 10.43s/prompt, 16.0 tok/s]\n",
      "Finished processing 39 prompts in this run in 406.78s.\n",
      "Overall average throughput for this run: 158.43 tok/s.\n",
      "Results appended to creative_writing_generations.jsonl\n"
     ]
    },
    {
     "data": {
      "text/plain": [
       "CompletedProcess(args=['python3', 'main.py', '--api-key', 'xxx', '--model-name', 'unsloth/gemma-3-4b-it', '--output-jsonl', 'creative_writing_generations.jsonl', '--input-hf-dataset', 'Nitral-AI/Reddit-SFW-Writing_Prompts_ShareGPT', '--hf-dataset-split', 'train', '--threads', '40', '--max-prompts', '40', '--logging-level', 'INFO', '--slop-phrases-file', 'banlists/slop_phrases.json', '--top-n-slop-phrases', '500', '--regex-blocklist-file', 'banlists/regex_not_x_but_y.json', '--max-new-tokens', '2000', '--request-mode', 'chunk', '--chunk-size', '20', '--chat-template-model-id', 'unsloth/gemma-3-4b-it', '--tdpo-pairs-jsonl', 'tdpo-pairs.jsonl'], returncode=0)"
      ]
     },
     "execution_count": 5,
     "metadata": {},
     "output_type": "execute_result"
    }
   ],
   "source": [
    "# Example 2: Generate an unslopped dataset using prompts from a huggingface sharegpt dataset\n",
    "\n",
    "# Make sure you've launched the vllm openai-compatible server first. You can use something like:\n",
    "\n",
    "# vllm serve unsloth/gemma-3-4b-it --port 8000 --max-model-len 2500 --served-model-name unsloth/gemma-3-4b-it --gpu-memory-utilization 0.95 --dtype bfloat16 --api-key xxx\n",
    "\n",
    "\n",
    "THREADS  = 40\n",
    "MAX_PROMPTS = 40\n",
    "\n",
    "OUT_JSONL     = 'creative_writing_generations.jsonl'\n",
    "HUMAN_PROFILE = 'data/human_writing_profile.json'\n",
    "\n",
    "\n",
    "cmd = [\n",
    "    'python3', 'main.py',\n",
    "    #'--api-base-url', 'http://localhost:8000/v1',\n",
    "    '--api-key', 'xxx',\n",
    "    '--model-name', 'unsloth/gemma-3-4b-it',\n",
    "    '--output-jsonl', OUT_JSONL,\n",
    "    '--input-hf-dataset', 'Nitral-AI/Reddit-SFW-Writing_Prompts_ShareGPT',\n",
    "    '--hf-dataset-split', 'train',\n",
    "    '--threads', str(THREADS),\n",
    "    '--max-prompts', str(MAX_PROMPTS),\n",
    "    '--logging-level', 'INFO',\n",
    "    '--slop-phrases-file', 'banlists/slop_phrases.json',\n",
    "    '--top-n-slop-phrases', '500',\n",
    "    '--regex-blocklist-file', 'banlists/regex_not_x_but_y.json',\n",
    "    '--max-new-tokens', '2000',\n",
    "    '--request-mode', 'chunk',  # chunk / stream (stream mode might be buggy)\n",
    "    '--chunk-size', '20', # how many tokens we request from the api before checking it for new violations\n",
    "    '--chat-template-model-id', \"unsloth/gemma-3-4b-it\",\n",
    "    '--tdpo-pairs-jsonl', 'tdpo-pairs.jsonl'\n",
    "]\n",
    "print('Running:', ' '.join(cmd))\n",
    "subprocess.run(cmd, check=True)\n"
   ]
  }
 ],
 "metadata": {
  "kernelspec": {
   "display_name": "Python 3",
   "language": "python",
   "name": "python3"
  },
  "language_info": {
   "codemirror_mode": {
    "name": "ipython",
    "version": 3
   },
   "file_extension": ".py",
   "mimetype": "text/x-python",
   "name": "python",
   "nbconvert_exporter": "python",
   "pygments_lexer": "ipython3",
   "version": "3.10.6"
  }
 },
 "nbformat": 4,
 "nbformat_minor": 5
}
