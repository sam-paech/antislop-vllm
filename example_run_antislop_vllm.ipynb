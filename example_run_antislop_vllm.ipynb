{
 "cells": [
  {
   "cell_type": "code",
   "execution_count": 1,
   "id": "dc35e719",
   "metadata": {},
   "outputs": [],
   "source": [
    "# First: load the model with vllm:\n",
    "\n",
    "# vllm serve unsloth/gemma-3-1b-it --port 8008 --max-model-len 2500 --served-model-name unsloth/gemma-3-1b-it --gpu-memory-utilization 0.8 --dtype bfloat16 --api-key xxx"
   ]
  },
  {
   "cell_type": "code",
   "execution_count": 2,
   "id": "e6352a1c",
   "metadata": {},
   "outputs": [],
   "source": [
    "import subprocess\n",
    "from pathlib import Path\n",
    "from collections import Counter"
   ]
  },
  {
   "cell_type": "code",
   "execution_count": 3,
   "id": "ce7dcd16",
   "metadata": {},
   "outputs": [],
   "source": [
    "# Example 1: Direct prompting mode. Returns a single unslopped output.\n",
    "\n",
    "if False:\n",
    "    cmd = [\n",
    "        'python3', 'main.py',\n",
    "        #'--api-base-url', 'http://localhost:8008/v1',\n",
    "        '--api-key', 'xxx',\n",
    "        '--model-name', 'Qwen/Qwen3-4B',\n",
    "        '--chat-template-model-id', 'Qwen/Qwen3-4B',\n",
    "        '--logging-level', 'INFO',\n",
    "        '--slop-phrases-file', 'banlists/slop_phrases.json',\n",
    "        '--top-n-slop-phrases', '500',\n",
    "        '--regex-blocklist-file', 'banlists/regex_not_x_but_y.json',\n",
    "        '--max-new-tokens', '500',\n",
    "        '--prompt', 'Write a story about a princess. '\n",
    "    ]\n",
    "    print('Running:', ' '.join(cmd))\n",
    "    subprocess.run(cmd, check=True)"
   ]
  },
  {
   "cell_type": "code",
   "execution_count": null,
   "id": "b06e594b",
   "metadata": {},
   "outputs": [
    {
     "name": "stdout",
     "output_type": "stream",
     "text": [
      "Running: python3 main.py --api-key xxx --model-name unsloth/gemma-3-4b-it --output-jsonl creative_writing_generations.jsonl --input-hf-dataset Nitral-AI/Reddit-SFW-Writing_Prompts_ShareGPT --hf-dataset-split train --threads 60 --max-prompts 1 --logging-level DEBUG --slop-phrases-file banlists/slop_phrases.json --top-n-slop-phrases 500 --max-new-tokens 2000 --chunk-size 20 --chat-template-model-id unsloth/gemma-3-4b-it --tdpo-pairs-jsonl tdpo-pairs.jsonl\n"
     ]
    },
    {
     "name": "stderr",
     "output_type": "stream",
     "text": [
      "2025-05-13 10:59:16,317 [INFO ] [root                ]: Full DEBUG logging enabled. Effective script level: DEBUG\n",
      "2025-05-13 10:59:16,317 [DEBUG] [root                ]: Running in batch data generation mode.\n",
      "2025-05-13 10:59:16,317 [INFO ] [root                ]: tdpo-pair capture enabled → tdpo-pairs.jsonl\n",
      "2025-05-13 10:59:16,317 [DEBUG] [root                ]: Loading prompts from HF dataset: Nitral-AI/Reddit-SFW-Writing_Prompts_ShareGPT\n",
      "2025-05-13 10:59:16,557 [DEBUG] [urllib3.connectionpo]: https://huggingface.co:443 \"HEAD /datasets/Nitral-AI/Reddit-SFW-Writing_Prompts_ShareGPT/resolve/main/README.md HTTP/1.1\" 200 0\n",
      "2025-05-13 10:59:17,485 [DEBUG] [urllib3.connectionpo]: https://huggingface.co:443 \"HEAD /datasets/Nitral-AI/Reddit-SFW-Writing_Prompts_ShareGPT/resolve/ff1964bf78f457f33a87020a3ba7ede40ffeff67/Reddit-SFW-Writing_Prompts_ShareGPT.py HTTP/1.1\" 404 0\n",
      "2025-05-13 10:59:17,486 [DEBUG] [urllib3.connectionpo]: Starting new HTTPS connection (1): s3.amazonaws.com:443\n",
      "2025-05-13 10:59:18,174 [DEBUG] [urllib3.connectionpo]: https://s3.amazonaws.com:443 \"HEAD /datasets.huggingface.co/datasets/datasets/Nitral-AI/Reddit-SFW-Writing_Prompts_ShareGPT/Nitral-AI/Reddit-SFW-Writing_Prompts_ShareGPT.py HTTP/1.1\" 404 0\n",
      "2025-05-13 10:59:18,399 [DEBUG] [urllib3.connectionpo]: https://huggingface.co:443 \"GET /api/datasets/Nitral-AI/Reddit-SFW-Writing_Prompts_ShareGPT/revision/ff1964bf78f457f33a87020a3ba7ede40ffeff67 HTTP/1.1\" 200 1093\n",
      "2025-05-13 10:59:18,619 [DEBUG] [urllib3.connectionpo]: https://huggingface.co:443 \"HEAD /datasets/Nitral-AI/Reddit-SFW-Writing_Prompts_ShareGPT/resolve/ff1964bf78f457f33a87020a3ba7ede40ffeff67/.huggingface.yaml HTTP/1.1\" 404 0\n",
      "2025-05-13 10:59:18,620 [DEBUG] [urllib3.connectionpo]: Starting new HTTPS connection (1): datasets-server.huggingface.co:443\n",
      "2025-05-13 10:59:18,939 [DEBUG] [urllib3.connectionpo]: https://datasets-server.huggingface.co:443 \"GET /info?dataset=Nitral-AI/Reddit-SFW-Writing_Prompts_ShareGPT HTTP/1.1\" 200 None\n",
      "2025-05-13 10:59:19,163 [DEBUG] [urllib3.connectionpo]: https://huggingface.co:443 \"GET /api/datasets/Nitral-AI/Reddit-SFW-Writing_Prompts_ShareGPT/revision/ff1964bf78f457f33a87020a3ba7ede40ffeff67 HTTP/1.1\" 200 1093\n",
      "2025-05-13 10:59:19,401 [DEBUG] [urllib3.connectionpo]: https://huggingface.co:443 \"GET /api/datasets/Nitral-AI/Reddit-SFW-Writing_Prompts_ShareGPT/tree/ff1964bf78f457f33a87020a3ba7ede40ffeff67?recursive=False&expand=False HTTP/1.1\" 200 446\n",
      "2025-05-13 10:59:19,632 [DEBUG] [urllib3.connectionpo]: https://huggingface.co:443 \"GET /api/datasets/Nitral-AI/Reddit-SFW-Writing_Prompts_ShareGPT/tree/ff1964bf78f457f33a87020a3ba7ede40ffeff67/data?recursive=False&expand=False HTTP/1.1\" 404 79\n",
      "2025-05-13 10:59:19,655 [DEBUG] [urllib3.connectionpo]: Starting new HTTPS connection (1): huggingface.co:443\n",
      "2025-05-13 10:59:19,885 [DEBUG] [urllib3.connectionpo]: https://huggingface.co:443 \"GET /api/datasets/Nitral-AI/Reddit-SFW-Writing_Prompts_ShareGPT/revision/ff1964bf78f457f33a87020a3ba7ede40ffeff67 HTTP/1.1\" 200 1093\n",
      "2025-05-13 10:59:20,110 [DEBUG] [urllib3.connectionpo]: https://huggingface.co:443 \"HEAD /datasets/Nitral-AI/Reddit-SFW-Writing_Prompts_ShareGPT/resolve/ff1964bf78f457f33a87020a3ba7ede40ffeff67/dataset_infos.json HTTP/1.1\" 404 0\n",
      "2025-05-13 10:59:20,111 [DEBUG] [filelock            ]: Attempting to acquire lock 140691066119280 on /home/sam/.cache/huggingface/datasets/_home_sam_.cache_huggingface_datasets_Nitral-AI___reddit-sfw-writing_prompts_share_gpt_default_0.0.0_ff1964bf78f457f33a87020a3ba7ede40ffeff67.lock\n",
      "2025-05-13 10:59:20,111 [DEBUG] [filelock            ]: Lock 140691066119280 acquired on /home/sam/.cache/huggingface/datasets/_home_sam_.cache_huggingface_datasets_Nitral-AI___reddit-sfw-writing_prompts_share_gpt_default_0.0.0_ff1964bf78f457f33a87020a3ba7ede40ffeff67.lock\n",
      "2025-05-13 10:59:20,111 [DEBUG] [fsspec.local        ]: open file: /home/sam/.cache/huggingface/datasets/Nitral-AI___reddit-sfw-writing_prompts_share_gpt/default/0.0.0/ff1964bf78f457f33a87020a3ba7ede40ffeff67/dataset_info.json\n",
      "2025-05-13 10:59:20,111 [DEBUG] [filelock            ]: Attempting to release lock 140691066119280 on /home/sam/.cache/huggingface/datasets/_home_sam_.cache_huggingface_datasets_Nitral-AI___reddit-sfw-writing_prompts_share_gpt_default_0.0.0_ff1964bf78f457f33a87020a3ba7ede40ffeff67.lock\n",
      "2025-05-13 10:59:20,111 [DEBUG] [filelock            ]: Lock 140691066119280 released on /home/sam/.cache/huggingface/datasets/_home_sam_.cache_huggingface_datasets_Nitral-AI___reddit-sfw-writing_prompts_share_gpt_default_0.0.0_ff1964bf78f457f33a87020a3ba7ede40ffeff67.lock\n",
      "2025-05-13 10:59:20,113 [DEBUG] [filelock            ]: Attempting to acquire lock 140691066126288 on /home/sam/.cache/huggingface/datasets/Nitral-AI___reddit-sfw-writing_prompts_share_gpt/default/0.0.0/ff1964bf78f457f33a87020a3ba7ede40ffeff67_builder.lock\n",
      "2025-05-13 10:59:20,113 [DEBUG] [filelock            ]: Lock 140691066126288 acquired on /home/sam/.cache/huggingface/datasets/Nitral-AI___reddit-sfw-writing_prompts_share_gpt/default/0.0.0/ff1964bf78f457f33a87020a3ba7ede40ffeff67_builder.lock\n",
      "2025-05-13 10:59:20,113 [DEBUG] [fsspec.local        ]: open file: /home/sam/.cache/huggingface/datasets/Nitral-AI___reddit-sfw-writing_prompts_share_gpt/default/0.0.0/ff1964bf78f457f33a87020a3ba7ede40ffeff67/dataset_info.json\n",
      "2025-05-13 10:59:20,113 [DEBUG] [filelock            ]: Attempting to release lock 140691066126288 on /home/sam/.cache/huggingface/datasets/Nitral-AI___reddit-sfw-writing_prompts_share_gpt/default/0.0.0/ff1964bf78f457f33a87020a3ba7ede40ffeff67_builder.lock\n",
      "2025-05-13 10:59:20,113 [DEBUG] [filelock            ]: Lock 140691066126288 released on /home/sam/.cache/huggingface/datasets/Nitral-AI___reddit-sfw-writing_prompts_share_gpt/default/0.0.0/ff1964bf78f457f33a87020a3ba7ede40ffeff67_builder.lock\n",
      "2025-05-13 10:59:20,117 [DEBUG] [root                ]: Reached max_prompts (1) during loading.\n",
      "2025-05-13 10:59:20,117 [DEBUG] [root                ]: Total prompts loaded from source: 1.\n",
      "2025-05-13 10:59:20,118 [INFO ] [utils.slop_helpers  ]: Loaded 498 slop phrases from banlists/slop_phrases.json.\n",
      "2025-05-13 10:59:20,118 [INFO ] [validators.slop_phra]: SlopPhraseValidator ready (count=498, min_len=4, max_len=37, scan_window_base_size=250)\n",
      "2025-05-13 10:59:20,118 [INFO ] [root                ]: Initialized SlopPhraseValidator with 498 phrases from 'banlists/slop_phrases.json' (top_n=500).\n",
      "2025-05-13 10:59:20,119 [INFO ] [root                ]: Initializing NGramValidator with 400 n-gram entries from file 'banlists/banned_ngrams.json' (from CLI).\n",
      "2025-05-13 10:59:20,137 [INFO ] [validators.ngram_val]: NGramValidator ready: 400 unique banned n-grams (lengths 2-3), remove_stopwords=True\n",
      "2025-05-13 10:59:20,137 [INFO ] [root                ]: Initialized 2 validators: ['SlopPhraseValidator', 'NGramValidator']\n",
      "2025-05-13 10:59:20,137 [INFO ] [api_client.api_clien]: ApiClient ready (endpoint=https://ncfi2yswjottwq-8888.proxy.runpod.net/v1/completions, shared_pool=68)\n",
      "2025-05-13 10:59:20,137 [WARNI] [core.sampler        ]: Tiktoken model 'unsloth/gemma-3-4b-it' not found. Falling back to 'cl100k_base' for yielded chunk token counts.\n",
      "2025-05-13 10:59:20,233 [INFO ] [core.sampler        ]: ApiAntiSlopSampler ready — chunk=20, max_new_tokens=2000, T=0.7, top_p=1.0, top_k=50, min_p=0.05, tail_keep_tokens=999999\n",
      "2025-05-13 10:59:20,233 [INFO ] [state.generation_sta]: GenerationState initialised. Prompt length (chars) = 266\n",
      "2025-05-13 10:59:20,233 [DEBUG] [api_client.api_clien]: POST https://ncfi2yswjottwq-8888.proxy.runpod.net/v1/completions\n",
      "2025-05-13 10:59:20,234 [DEBUG] [api_client.api_clien]: Payload: {\"model\": \"unsloth/gemma-3-4b-it\", \"prompt\": \"<bos><start_of_turn>user\\nWriting prompt: After defeating the Devil down in Georgia, Johnny proudly proclaims he's the best that's ever been. A flash of lightning crashes down and God appears, fiddle in hand. The Devil gets his popcorn ready.\\n\\nWrite 1000 words to this prompt. Your response:\\n<end_of_turn>\\n<start_of_turn>model\\n\", \"max_tokens\": 20, \"temperature\": 0.7, \"top_p\": 1.0, \"top_k\": 50, \"stream\": false, \"min_p\": 0.05, \"logprobs\": 20}\n",
      "2025-05-13 10:59:20,234 [DEBUG] [urllib3.connectionpo]: Starting new HTTPS connection (1): ncfi2yswjottwq-8888.proxy.runpod.net:443\n"
     ]
    },
    {
     "name": "stdout",
     "output_type": "stream",
     "text": [
      "Extracting HF prompts:   0%|          | 0/177477 [00:00<?, ?prompt/s]\n",
      "Preparing to process 1 new prompts in this run.\n",
      "Batch Generating:   0%|          | 0/1 [00:00<?, ?prompt/s]"
     ]
    },
    {
     "name": "stderr",
     "output_type": "stream",
     "text": [
      "2025-05-13 10:59:21,645 [DEBUG] [urllib3.connectionpo]: https://ncfi2yswjottwq-8888.proxy.runpod.net:443 \"POST /v1/completions HTTP/1.1\" 200 None\n",
      "2025-05-13 10:59:21,799 [DEBUG] [api_client.api_clien]: Raw response: {\"id\": \"cmpl-8284f242d0dd405292f54145aa110d72\", \"object\": \"text_completion\", \"created\": 1747097966, \"model\": \"unsloth/gemma-3-4b-it\", \"choices\": [{\"index\": 0, \"text\": \"The rain in Georgia was a greasy, insistent thing, clinging to everything with the stubbornness of regret\", \"logprobs\": {\"text_offset\": [0, 3, 8, 11, 19, 23, 25, 32, 33, 43, 49, 50, 59, 62, 73, 78, 82, 91, 95, 98], \"token_logprobs\": [-1.311301275563892e-06, -0.11339403688907623, -0.08055462688207626, -0.014241487719118595, -1.6848098039627075, -0.403470903635025, -0.5678627490997314, -0.013264154084026814, -0.0475982241332531, -0.02536853961646557, -0.0021594080608338118, -0.19066542387008667, -3.433168603805825e-05, -0.6955522894859314, -2.594970703125, -0.28212910890579224, -1.8402045965194702, -0.09436019510030746, -0.00034338299883529544, -1.0869829654693604], \"tokens\": [\"The\", \"\\u2581rain\", \"\\u2581in\", \"\\u2581Georgia\", \"\\u2581was\", \"\\u2581a\", \"\\u2581greasy\", \",\", \"\\u2581insistent\", \"\\u2581thing\", \",\", \"\\u2581clinging\", \"\\u2581to\", \"\\u2581everything\", \"\\u2581with\", \"\\u2581the\", \"\\u2581stubborn\", \"ness\", \"\\u2581of\", \"\\u2581regret\"], \"top_logprobs\": [{\"The\": -1.311301275563892e-06, \"\\u201c\": -14.000000953674316, \"Dust\": -14.500000953674316, \"Okay\": -17.250001907348633, \"Swe\": -17.750001907348633, \"Johnny\": -17.875001907348633, \"Rain\": -18.125001907348633, \"A\": -19.750001907348633, \"\\\"\": -20.125001907348633, \"I\": -20.500001907348633, \"Smoke\": -21.500001907348633, \"***\": -21.625001907348633, \"##\": -22.375001907348633, \"My\": -22.625001907348633, \"Dirt\": -22.750001907348633, \"---\": -23.000001907348633, \"\\u2581The\": -23.250001907348633, \"It\": -24.000001907348633, \"Crim\": -24.250001907348633, \"**\": -24.625001907348633}, {\"\\u2581rain\": -0.11339403688907623, \"\\u2581dust\": -3.238394021987915, \"\\u2581air\": -3.238394021987915, \"\\u2581mud\": -4.113394260406494, \"\\u2581Georgia\": -5.113394260406494, \"\\u2581smell\": -5.738394260406494, \"\\u2581grit\": -7.488394260406494, \"\\u2581humid\": -7.613394260406494, \"\\u2581stenc\n",
      "2025-05-13 10:59:21,799 [INFO ] [api_client.api_clien]: Received 20 token strings (finish_reason=length).\n",
      "2025-05-13 10:59:21,799 [DEBUG] [api_client.api_clien]: POST https://ncfi2yswjottwq-8888.proxy.runpod.net/v1/completions\n",
      "2025-05-13 10:59:21,799 [DEBUG] [api_client.api_clien]: Payload: {\"model\": \"unsloth/gemma-3-4b-it\", \"prompt\": \"<bos><start_of_turn>user\\nWriting prompt: After defeating the Devil down in Georgia, Johnny proudly proclaims he's the best that's ever been. A flash of lightning crashes down and God appears, fiddle in hand. The Devil gets his popcorn ready.\\n\\nWrite 1000 words to this prompt. Your response:\\n<end_of_turn>\\n<start_of_turn>model\\nThe rain in Georgia was a greasy, insistent thing, clinging to everything with the stubbornness of regret\", \"max_tokens\": \n",
      "2025-05-13 10:59:22,306 [DEBUG] [urllib3.connectionpo]: https://ncfi2yswjottwq-8888.proxy.runpod.net:443 \"POST /v1/completions HTTP/1.1\" 200 None\n",
      "2025-05-13 10:59:22,368 [DEBUG] [api_client.api_clien]: Raw response: {\"id\": \"cmpl-25a4a94fb8be4ac69d0cbcfc871c0222\", \"object\": \"text_completion\", \"created\": 1747097967, \"model\": \"unsloth/gemma-3-4b-it\", \"choices\": [{\"index\": 0, \"text\": \". It mirrored the feeling that had settled over Johnny after the battle. He\\u2019d done it.\", \"logprobs\": {\"text_offset\": [0, 1, 4, 13, 17, 25, 30, 34, 42, 47, 54, 60, 64, 71, 72, 75, 76, 77, 82, 85], \"token_logprobs\": [-0.00071190285962075, -0.36989325284957886, -1.7685149908065796, -0.07421904057264328, -0.14676415920257568, -2.503286361694336, -0.5388115644454956, -0.07158976793289185, -0.2734224200248718, -0.01847628504037857, -0.8765903115272522, -0.08028986304998398, -0.6221041679382324, -0.016221797093749046, -0.407730370759964, -0.6201924681663513, 0.0, -0.041753873229026794, -5.960462772236497e-07, -0.0005536930402740836], \"tokens\": [\".\", \"\\u2581It\", \"\\u2581mirrored\", \"\\u2581the\", \"\\u2581feeling\", \"\\u2581that\", \"\\u2581had\", \"\\u2581settled\", \"\\u2581over\", \"\\u2581Johnny\", \"\\u2581after\", \"\\u2581the\", \"\\u2581battle\", \".\", \"\\u2581He\", \"\\u2019\", \"d\", \"\\u2581done\", \"\\u2581it\", \".\"], \"top_logprobs\": [{\".\": -0.00071190285962075, \"\\u2581and\": -7.250711917877197, \",\": -13.625711441040039, \"\\u2581\\u2013\": -14.625711441040039, \"\\u2581after\": -15.125711441040039, \"\\u2581-\": -17.75071144104004, \"\\u2581when\": -18.87571144104004, \"\\u2581before\": -18.87571144104004, \"\\u2581soaked\": -19.00071144104004, \"\\u2581you\": -19.62571144104004, \"\\u2581or\": -20.00071144104004, \";\": -20.12571144104004, \"ful\": -20.25071144104004, \"\\u2581over\": -20.75071144104004, \"\\u2581mixed\": -20.75071144104004, \"\\u2581in\": -20.87571144104004, \"\\u2014\": -21.00071144104004, \"\\u2581it\": -21.12571144104004, \"\\u2581itself\": -21.12571144104004, \"\\u2581on\": -21.37571144104004}, {\"\\u2581It\": -0.36989325284957886, \"\\u2581Johnny\": -1.3698933124542236, \"\\u2581The\": -3.1198933124542236, \"\\u2581But\": -5.8698930740356445, \"\\u2581We\": -5.9948930740356445, \"\\u2581For\": -6.2448930740356445, \"\\u2581\\u2581\": -6.9948930740356445, \"\\u2581After\": -7.244893074\n",
      "2025-05-13 10:59:22,368 [INFO ] [api_client.api_clien]: Received 20 token strings (finish_reason=length).\n",
      "2025-05-13 10:59:22,369 [DEBUG] [api_client.api_clien]: POST https://ncfi2yswjottwq-8888.proxy.runpod.net/v1/completions\n",
      "2025-05-13 10:59:22,370 [DEBUG] [api_client.api_clien]: Payload: {\"model\": \"unsloth/gemma-3-4b-it\", \"prompt\": \"<bos><start_of_turn>user\\nWriting prompt: After defeating the Devil down in Georgia, Johnny proudly proclaims he's the best that's ever been. A flash of lightning crashes down and God appears, fiddle in hand. The Devil gets his popcorn ready.\\n\\nWrite 1000 words to this prompt. Your response:\\n<end_of_turn>\\n<start_of_turn>model\\nThe rain in Georgia was a greasy, insistent thing, clinging to everything with the stubbornness of regret. It mirrored the\n"
     ]
    },
    {
     "name": "stdout",
     "output_type": "stream",
     "text": [
      "Batch Generating:   0%|          | 0/1 [00:02<?, ?prompt/s, 70.2 tok/s]"
     ]
    },
    {
     "name": "stderr",
     "output_type": "stream",
     "text": [
      "2025-05-13 10:59:22,879 [DEBUG] [urllib3.connectionpo]: https://ncfi2yswjottwq-8888.proxy.runpod.net:443 \"POST /v1/completions HTTP/1.1\" 200 None\n",
      "2025-05-13 10:59:22,941 [DEBUG] [api_client.api_clien]: Raw response: {\"id\": \"cmpl-dc8e832379f847cbbe9c9a8dec03e2b2\", \"object\": \"text_completion\", \"created\": 1747097967, \"model\": \"unsloth/gemma-3-4b-it\", \"choices\": [{\"index\": 0, \"text\": \" He\\u2019d actually done it. He\\u2019d wrestled Lucifer himself, a hulking, smir\", \"logprobs\": {\"text_offset\": [0, 3, 4, 5, 14, 19, 22, 23, 26, 27, 28, 37, 45, 53, 54, 56, 60, 64, 65, 68], \"token_logprobs\": [-0.007335158996284008, -0.08531904965639114, 0.0, -0.22232811152935028, -0.035707928240299225, -5.125986263010418e-06, -1.9073468138230965e-06, -0.0452498160302639, -0.10648860037326813, 0.0, -0.462118536233902, -1.1009256839752197, -0.5960001349449158, -0.1460057497024536, -1.4103134870529175, -1.5649996995925903, 0.0, -0.04279400035738945, -2.1761929988861084, -0.18065793812274933], \"tokens\": [\"\\u2581He\", \"\\u2019\", \"d\", \"\\u2581actually\", \"\\u2581done\", \"\\u2581it\", \".\", \"\\u2581He\", \"\\u2019\", \"d\", \"\\u2581wrestled\", \"\\u2581Lucifer\", \"\\u2581himself\", \",\", \"\\u2581a\", \"\\u2581hul\", \"king\", \",\", \"\\u2581sm\", \"ir\"], \"top_logprobs\": [{\"\\u2581He\": -0.007335158996284008, \"\\u2581Really\": -5.257335186004639, \"\\u2581Truly\": -7.132335186004639, \"\\u2581The\": -8.00733470916748, \"\\u2581After\": -8.38233470916748, \"\\u2581Against\": -8.88233470916748, \"\\u2581They\": -9.00733470916748, \"\\u2581Actually\": -9.25733470916748, \"\\u2581Finally\": -9.38233470916748, \"\\u2581God\": -10.00733470916748, \"\\u2581Literally\": -10.63233470916748, \"\\u2581Seriously\": -10.88233470916748, \"\\u2581Honestly\": -11.00733470916748, \"\\u2581Down\": -11.13233470916748, \"\\u2581Officially\": -11.25733470916748, \"\\u2581*\": -11.50733470916748, \"\\u2581Hell\": -11.50733470916748, \"\\u2581Dam\": -11.63233470916748, \"\\u2581Damn\": -11.63233470916748, \"\\u2581Not\": -11.88233470916748}, {\"\\u2019\": -0.08531904965639114, \"'\": -2.5853190422058105, \",\": -5.0853190422058105, \"\\u2581really\": -9.335319519042969, \"\\u2581had\": -9.585319519042969, \"\\u2581\\u2013\": -10.585319519042969, \"\\u2581truly\": -10.960319519042969, \"\\u2581actually\": -11.085319519042969, \"\\u2581*\": -13.0853195\n",
      "2025-05-13 10:59:22,941 [INFO ] [api_client.api_clien]: Received 20 token strings (finish_reason=length).\n",
      "2025-05-13 10:59:22,943 [DEBUG] [api_client.api_clien]: POST https://ncfi2yswjottwq-8888.proxy.runpod.net/v1/completions\n",
      "2025-05-13 10:59:22,943 [DEBUG] [api_client.api_clien]: Payload: {\"model\": \"unsloth/gemma-3-4b-it\", \"prompt\": \"<bos><start_of_turn>user\\nWriting prompt: After defeating the Devil down in Georgia, Johnny proudly proclaims he's the best that's ever been. A flash of lightning crashes down and God appears, fiddle in hand. The Devil gets his popcorn ready.\\n\\nWrite 1000 words to this prompt. Your response:\\n<end_of_turn>\\n<start_of_turn>model\\nThe rain in Georgia was a greasy, insistent thing, clinging to everything with the stubbornness of regret. It mirrored the\n"
     ]
    },
    {
     "name": "stdout",
     "output_type": "stream",
     "text": [
      "Batch Generating:   0%|          | 0/1 [00:02<?, ?prompt/s, 52.5 tok/s]"
     ]
    },
    {
     "name": "stderr",
     "output_type": "stream",
     "text": [
      "2025-05-13 10:59:23,457 [DEBUG] [urllib3.connectionpo]: https://ncfi2yswjottwq-8888.proxy.runpod.net:443 \"POST /v1/completions HTTP/1.1\" 200 None\n",
      "2025-05-13 10:59:23,516 [DEBUG] [api_client.api_clien]: Raw response: {\"id\": \"cmpl-6ed5753c787e4b89802a8281068817e6\", \"object\": \"text_completion\", \"created\": 1747097968, \"model\": \"unsloth/gemma-3-4b-it\", \"choices\": [{\"index\": 0, \"text\": \"king monstrosity of shadow and sulfur, and he\\u2019d won. He\\u2019d bound the Devil\", \"logprobs\": {\"text_offset\": [0, 4, 13, 16, 19, 26, 30, 37, 38, 42, 45, 46, 47, 51, 52, 55, 56, 57, 63, 67], \"token_logprobs\": [-1.4305104514278355e-06, -1.8109066486358643, 0.0, -0.23488634824752808, -0.30553126335144043, -2.0265558760002023e-06, -0.8158329725265503, -0.001029438222758472, -0.9040101170539856, -0.2295275330543518, -0.06205993518233299, 0.0, -0.5343610048294067, -1.3589766240329482e-05, -0.49440550804138184, -0.15779700875282288, 0.0, -0.8839532732963562, -0.34897786378860474, -0.00129270413890481], \"tokens\": [\"king\", \"\\u2581monstros\", \"ity\", \"\\u2581of\", \"\\u2581shadow\", \"\\u2581and\", \"\\u2581sulfur\", \",\", \"\\u2581and\", \"\\u2581he\", \"\\u2019\", \"d\", \"\\u2581won\", \".\", \"\\u2581He\", \"\\u2019\", \"d\", \"\\u2581bound\", \"\\u2581the\", \"\\u2581Devil\"], \"top_logprobs\": [{\"king\": -1.4305104514278355e-06, \"ky\": -13.750000953674316, \"kin\": -15.250000953674316, \"ring\": -15.625000953674316, \"ki\": -18.500001907348633, \"kn\": -19.000001907348633, \"KING\": -19.125001907348633, \"ken\": -19.250001907348633, \"ching\": -19.625001907348633, \"kish\": -20.000001907348633, \"key\": -20.500001907348633, \"cking\": -20.625001907348633, \"ning\": -21.000001907348633, \"ging\": -22.000001907348633, \"King\": -22.375001907348633, \"kan\": -22.375001907348633, \"ks\": -22.375001907348633, \"km\": -22.375001907348633, \"ishing\": -22.500001907348633, \"\\u2581king\": -22.625001907348633}, {\"\\u2581monstros\": -1.8109066486358643, \"\\u2581behem\": -2.3109066486358643, \"\\u2581embodiment\": -2.3109066486358643, \"\\u2581brute\": -2.4359066486358643, \"\\u2581demon\": -2.8109066486358643, \",\": -2.8109066486358643, \"\\u2581mass\": -2.9359066486358643, \"\\u2581shadow\": -2.9359066486358643, \"\\u2581beast\": -2.9359066486358643, \"\\u2581bastard\": -3.5609066486358643, \"\\u2581manifestation\": -3.5609\n",
      "2025-05-13 10:59:23,516 [INFO ] [api_client.api_clien]: Received 20 token strings (finish_reason=length).\n",
      "2025-05-13 10:59:23,518 [DEBUG] [api_client.api_clien]: POST https://ncfi2yswjottwq-8888.proxy.runpod.net/v1/completions\n",
      "2025-05-13 10:59:23,518 [DEBUG] [api_client.api_clien]: Payload: {\"model\": \"unsloth/gemma-3-4b-it\", \"prompt\": \"<bos><start_of_turn>user\\nWriting prompt: After defeating the Devil down in Georgia, Johnny proudly proclaims he's the best that's ever been. A flash of lightning crashes down and God appears, fiddle in hand. The Devil gets his popcorn ready.\\n\\nWrite 1000 words to this prompt. Your response:\\n<end_of_turn>\\n<start_of_turn>model\\nThe rain in Georgia was a greasy, insistent thing, clinging to everything with the stubbornness of regret. It mirrored the\n"
     ]
    },
    {
     "name": "stdout",
     "output_type": "stream",
     "text": [
      "Batch Generating:   0%|          | 0/1 [00:03<?, ?prompt/s, 46.5 tok/s]"
     ]
    },
    {
     "name": "stderr",
     "output_type": "stream",
     "text": [
      "2025-05-13 10:59:24,030 [DEBUG] [urllib3.connectionpo]: https://ncfi2yswjottwq-8888.proxy.runpod.net:443 \"POST /v1/completions HTTP/1.1\" 200 None\n",
      "2025-05-13 10:59:24,094 [DEBUG] [api_client.api_clien]: Raw response: {\"id\": \"cmpl-b072feaef0cc4c56b1e033fd8f4c72bc\", \"object\": \"text_completion\", \"created\": 1747097969, \"model\": \"unsloth/gemma-3-4b-it\", \"choices\": [{\"index\": 0, \"text\": \" to a rusty iron chain, a pathetic, whimpering thing tethered to the earth beneath the ancient\", \"logprobs\": {\"text_offset\": [0, 3, 5, 11, 16, 22, 23, 25, 34, 35, 40, 46, 52, 59, 61, 64, 68, 74, 82, 86], \"token_logprobs\": [-0.24884329736232758, -0.010064803063869476, -2.6435039043426514, -1.1641403436660767, -0.5371747016906738, -0.9641596078872681, -1.5280216932296753, -0.9329612255096436, -0.5012348294258118, -0.08483785390853882, -3.576278118089249e-07, -0.31995663046836853, -1.247465968132019, -2.264974000354414e-06, -0.0014435357879847288, -2.1485166549682617, -3.077948808670044, -1.4888932704925537, -0.3358098864555359, -1.1708258390426636], \"tokens\": [\"\\u2581to\", \"\\u2581a\", \"\\u2581rusty\", \"\\u2581iron\", \"\\u2581chain\", \",\", \"\\u2581a\", \"\\u2581pathetic\", \",\", \"\\u2581whim\", \"pering\", \"\\u2581thing\", \"\\u2581tether\", \"ed\", \"\\u2581to\", \"\\u2581the\", \"\\u2581earth\", \"\\u2581beneath\", \"\\u2581the\", \"\\u2581ancient\"], \"top_logprobs\": [{\"\\u2581to\": -0.24884329736232758, \"\\u2581in\": -2.123843193054199, \",\": -2.873843193054199, \"\\u2581with\": -3.748843193054199, \"\\u2019\": -5.123843193054199, \"\\u2581back\": -5.123843193054199, \"\\u2581beneath\": -5.623843193054199, \"\\u2581down\": -5.873843193054199, \"\\u2581\\u2013\": -6.623843193054199, \"'\": -8.3738431930542, \"\\u2581under\": -8.4988431930542, \"\\u2581within\": -8.9988431930542, \"\\u2581up\": -9.3738431930542, \"\\u2581fast\": -9.4988431930542, \"\\u2581not\": -9.8738431930542, \"\\u2581tight\": -9.9988431930542, \"\\u2581-\": -10.3738431930542, \"\\u2581into\": -10.6238431930542, \"\\u2581deep\": -10.7488431930542, \"\\u2581below\": -10.7488431930542}, {\"\\u2581a\": -0.010064803063869476, \"\\u2581the\": -5.260064601898193, \"\\u2581an\": -5.510064601898193, \"\\u2581bedrock\": -8.010065078735352, \"\\u2581this\": -9.135065078735352, \"\\u2581iron\": -9.385065078735352, \"\\u2581that\": -9.885065078735352, \"\\u2581cha\n",
      "2025-05-13 10:59:24,094 [INFO ] [api_client.api_clien]: Received 20 token strings (finish_reason=length).\n",
      "2025-05-13 10:59:24,095 [DEBUG] [api_client.api_clien]: POST https://ncfi2yswjottwq-8888.proxy.runpod.net/v1/completions\n",
      "2025-05-13 10:59:24,095 [DEBUG] [api_client.api_clien]: Payload: {\"model\": \"unsloth/gemma-3-4b-it\", \"prompt\": \"<bos><start_of_turn>user\\nWriting prompt: After defeating the Devil down in Georgia, Johnny proudly proclaims he's the best that's ever been. A flash of lightning crashes down and God appears, fiddle in hand. The Devil gets his popcorn ready.\\n\\nWrite 1000 words to this prompt. Your response:\\n<end_of_turn>\\n<start_of_turn>model\\nThe rain in Georgia was a greasy, insistent thing, clinging to everything with the stubbornness of regret. It mirrored the\n"
     ]
    },
    {
     "name": "stdout",
     "output_type": "stream",
     "text": [
      "Batch Generating:   0%|          | 0/1 [00:03<?, ?prompt/s, 43.6 tok/s]"
     ]
    },
    {
     "name": "stderr",
     "output_type": "stream",
     "text": [
      "2025-05-13 10:59:24,607 [DEBUG] [urllib3.connectionpo]: https://ncfi2yswjottwq-8888.proxy.runpod.net:443 \"POST /v1/completions HTTP/1.1\" 200 None\n",
      "2025-05-13 10:59:24,608 [DEBUG] [api_client.api_clien]: Raw response: {\"id\": \"cmpl-80f142dbfa954f648079c2add5f2448c\", \"object\": \"text_completion\", \"created\": 1747097969, \"model\": \"unsloth/gemma-3-4b-it\", \"choices\": [{\"index\": 0, \"text\": \" oak in the middle of Black Creek. \\n\\n\\u201cWell, that\\u2019s that,\\u201d Johnny said\", \"logprobs\": {\"text_offset\": [0, 4, 7, 11, 18, 21, 27, 33, 34, 35, 37, 38, 42, 43, 48, 49, 50, 55, 57, 64], \"token_logprobs\": [-0.5294113159179688, -0.8549258708953857, -0.30974406003952026, -1.6471741199493408, -1.1920928244535389e-07, -1.231303334236145, -0.5994818210601807, -0.2839026153087616, -0.1169782355427742, 0.0, -2.020477294921875, -1.1178603172302246, -0.04020240902900696, -0.4800829291343689, -0.27132126688957214, -2.3841855067985307e-07, -0.006678640842437744, -0.055932097136974335, -1.136894702911377, -0.08870276063680649], \"tokens\": [\"\\u2581oak\", \"\\u2581in\", \"\\u2581the\", \"\\u2581middle\", \"\\u2581of\", \"\\u2581Black\", \"\\u2581Creek\", \".\", \"\\u2581\", \"\\n\\n\", \"\\u201c\", \"Well\", \",\", \"\\u2581that\", \"\\u2019\", \"s\", \"\\u2581that\", \",\\u201d\", \"\\u2581Johnny\", \"\\u2581said\"], \"top_logprobs\": [{\"\\u2581oak\": -0.5294113159179688, \"\\u2581oaks\": -1.2794113159179688, \"\\u2581pecan\": -2.9044113159179688, \",\": -3.0294113159179688, \"\\u2581pines\": -4.529411315917969, \"\\u2581magnolia\": -5.154411315917969, \"\\u2581cypress\": -5.404411315917969, \"\\u2581pine\": -6.279411315917969, \"\\u2581cotton\": -6.779411315917969, \"\\u2581peach\": -6.779411315917969, \"\\u2581live\": -6.904411315917969, \"\\u2581sy\": -7.404411315917969, \"\\u2581gum\": -7.529411315917969, \"\\u2581cedar\": -8.404411315917969, \"\\u2581Georgia\": -8.904411315917969, \"\\u2581O\": -9.029411315917969, \"\\u2581stump\": -9.154411315917969, \"\\u2581dog\": -9.154411315917969, \"\\u2581ghost\": -9.279411315917969, \"\\u2581hol\": -9.279411315917969}, {\"\\u2581in\": -0.8549258708953857, \"\\u2581tree\": -1.3549258708953857, \"\\u2581where\": -1.3549258708953857, \".\": -4.104926109313965, \",\": -4.229926109313965, \"\\u2581at\": -4.729926109313965, \"\\u2581that\": -4.729926109313965, \"\\u2581trees\": -5.729926109313965, \"\\\n",
      "2025-05-13 10:59:24,608 [INFO ] [api_client.api_clien]: Received 20 token strings (finish_reason=length).\n",
      "2025-05-13 10:59:24,609 [DEBUG] [api_client.api_clien]: POST https://ncfi2yswjottwq-8888.proxy.runpod.net/v1/completions\n",
      "2025-05-13 10:59:24,609 [DEBUG] [api_client.api_clien]: Payload: {\"model\": \"unsloth/gemma-3-4b-it\", \"prompt\": \"<bos><start_of_turn>user\\nWriting prompt: After defeating the Devil down in Georgia, Johnny proudly proclaims he's the best that's ever been. A flash of lightning crashes down and God appears, fiddle in hand. The Devil gets his popcorn ready.\\n\\nWrite 1000 words to this prompt. Your response:\\n<end_of_turn>\\n<start_of_turn>model\\nThe rain in Georgia was a greasy, insistent thing, clinging to everything with the stubbornness of regret. It mirrored the\n"
     ]
    },
    {
     "name": "stdout",
     "output_type": "stream",
     "text": [
      "Batch Generating:   0%|          | 0/1 [00:04<?, ?prompt/s, 42.7 tok/s]"
     ]
    },
    {
     "name": "stderr",
     "output_type": "stream",
     "text": [
      "2025-05-13 10:59:25,129 [DEBUG] [urllib3.connectionpo]: https://ncfi2yswjottwq-8888.proxy.runpod.net:443 \"POST /v1/completions HTTP/1.1\" 200 None\n",
      "2025-05-13 10:59:25,189 [DEBUG] [api_client.api_clien]: Raw response: {\"id\": \"cmpl-a92aefe0caca4d1b95e58bc340e9cf0b\", \"object\": \"text_completion\", \"created\": 1747097970, \"model\": \"unsloth/gemma-3-4b-it\", \"choices\": [{\"index\": 0, \"text\": \", wiping the sweat and grime from his face with a bandana. He felt a ridiculous surge of pride\", \"logprobs\": {\"text_offset\": [0, 1, 8, 12, 18, 22, 28, 33, 37, 42, 47, 49, 57, 58, 61, 66, 68, 79, 85, 88], \"token_logprobs\": [-0.005494018085300922, -0.09915272891521454, -0.44909411668777466, -2.2954230308532715, -0.16364429891109467, -0.5241665840148926, -0.08813335746526718, -3.2186455882765586e-06, -0.17576169967651367, -0.0002616301644593477, -0.5763006210327148, -2.0411558151245117, -0.5745656490325928, -0.5588195323944092, -1.7035435438156128, -0.5714086294174194, -0.8040095567703247, -0.24031861126422882, -3.576278118089249e-07, -0.11052120476961136], \"tokens\": [\",\", \"\\u2581wiping\", \"\\u2581the\", \"\\u2581sweat\", \"\\u2581and\", \"\\u2581grime\", \"\\u2581from\", \"\\u2581his\", \"\\u2581face\", \"\\u2581with\", \"\\u2581a\", \"\\u2581bandana\", \".\", \"\\u2581He\", \"\\u2581felt\", \"\\u2581a\", \"\\u2581ridiculous\", \"\\u2581surge\", \"\\u2581of\", \"\\u2581pride\"], \"top_logprobs\": [{\",\": -0.005494018085300922, \"\\u2581to\": -5.255494117736816, \"\\u2581aloud\": -8.255494117736816, \"\\u2581it\": -16.1304931640625, \"\\u2581quietly\": -16.2554931640625, \"\\u2581into\": -16.5054931640625, \"\\u2581out\": -16.7554931640625, \"\\u2581with\": -17.1304931640625, \"\\u2581flat\": -17.2554931640625, \"\\u2581finally\": -18.5054931640625, \"\\u2581loudly\": -19.0054931640625, \"\\u2581dry\": -19.1304931640625, \"\\u2581the\": -19.2554931640625, \"\\u2581cheerfully\": -19.2554931640625, \"\\u2581as\": -19.3804931640625, \"\\u2581unnecessarily\": -19.6304931640625, \"\\u2581simply\": -19.7554931640625, \"\\u2581softly\": -19.8804931640625, \"\\u2581now\": -20.0054931640625, \"\\u2581around\": -20.2554931640625}, {\"\\u2581wiping\": -0.09915272891521454, \"\\u2581spitting\": -3.5991528034210205, \"\\u2581his\": -4.349152565002441, \"\\u2581leaning\": -4.599152565002441, \"\\u2581stripping\": -5.224152565002441, \"\\u2581let\n",
      "2025-05-13 10:59:25,189 [INFO ] [api_client.api_clien]: Received 20 token strings (finish_reason=length).\n",
      "2025-05-13 10:59:25,190 [WARNI] [validators.slop_phra]: Slop violation: 'surge' @tok=137 (char_pos=577) …e felt a ridiculous surge of pride…\n",
      "2025-05-13 10:59:25,191 [WARNI] [core.sampler        ]: Back-tracking @tok=137 orig='▁surge' ban='{'phrase': 'surge', 'context': 'e felt a ridiculous surge of pride', 'suppression_detail_key': 'surge'}'.\n",
      "2025-05-13 10:59:25,191 [INFO ] [state.generation_sta]: GenerationState initialised. Prompt length (chars) = 266\n",
      "2025-05-13 10:59:25,191 [INFO ] [state.generation_sta]: GenerationState initialised. Prompt length (chars) = 266\n",
      "2025-05-13 10:59:25,191 [INFO ] [state.generation_sta]: GenerationState initialised. Prompt length (chars) = 266\n",
      "2025-05-13 10:59:25,191 [INFO ] [state.generation_sta]: GenerationState initialised. Prompt length (chars) = 266\n",
      "2025-05-13 10:59:25,191 [INFO ] [state.generation_sta]: GenerationState initialised. Prompt length (chars) = 266\n",
      "2025-05-13 10:59:25,191 [INFO ] [state.generation_sta]: GenerationState initialised. Prompt length (chars) = 266\n",
      "2025-05-13 10:59:25,191 [INFO ] [state.generation_sta]: GenerationState initialised. Prompt length (chars) = 266\n",
      "2025-05-13 10:59:25,191 [INFO ] [state.generation_sta]: GenerationState initialised. Prompt length (chars) = 266\n",
      "2025-05-13 10:59:25,191 [INFO ] [state.generation_sta]: GenerationState initialised. Prompt length (chars) = 266\n",
      "2025-05-13 10:59:25,191 [INFO ] [state.generation_sta]: GenerationState initialised. Prompt length (chars) = 266\n",
      "2025-05-13 10:59:25,191 [INFO ] [state.generation_sta]: GenerationState initialised. Prompt length (chars) = 266\n",
      "2025-05-13 10:59:25,191 [INFO ] [state.generation_sta]: GenerationState initialised. Prompt length (chars) = 266\n",
      "2025-05-13 10:59:25,191 [INFO ] [state.generation_sta]: GenerationState initialised. Prompt length (chars) = 266\n",
      "2025-05-13 10:59:25,191 [INFO ] [state.generation_sta]: GenerationState initialised. Prompt length (chars) = 266\n",
      "2025-05-13 10:59:25,191 [INFO ] [state.generation_sta]: GenerationState initialised. Prompt length (chars) = 266\n",
      "2025-05-13 10:59:25,191 [INFO ] [state.generation_sta]: GenerationState initialised. Prompt length (chars) = 266\n",
      "2025-05-13 10:59:25,191 [INFO ] [state.generation_sta]: GenerationState initialised. Prompt length (chars) = 266\n",
      "2025-05-13 10:59:25,191 [INFO ] [state.generation_sta]: GenerationState initialised. Prompt length (chars) = 266\n",
      "2025-05-13 10:59:25,191 [INFO ] [state.generation_sta]: GenerationState initialised. Prompt length (chars) = 266\n",
      "2025-05-13 10:59:25,191 [WARNI] [core.sampler        ]:     ✓ replacement=',' (pool=2, T=0.7, min_p=0.05, top_p=1.0, top_k=50)\n",
      "2025-05-13 10:59:25,191 [DEBUG] [root                ]: BANNED (prompt_idx=0, type=slop_phrase, phrase='surge' @ orig_token='▁surge' ...'e felt a ridiculous surge of pride'...)\n",
      "2025-05-13 10:59:25,192 [DEBUG] [api_client.api_clien]: POST https://ncfi2yswjottwq-8888.proxy.runpod.net/v1/completions\n",
      "2025-05-13 10:59:25,192 [DEBUG] [api_client.api_clien]: Payload: {\"model\": \"unsloth/gemma-3-4b-it\", \"prompt\": \"<bos><start_of_turn>user\\nWriting prompt: After defeating the Devil down in Georgia, Johnny proudly proclaims he's the best that's ever been. A flash of lightning crashes down and God appears, fiddle in hand. The Devil gets his popcorn ready.\\n\\nWrite 1000 words to this prompt. Your response:\\n<end_of_turn>\\n<start_of_turn>model\\nThe rain in Georgia was a greasy, insistent thing, clinging to everything with the stubbornness of regret. It mirrored the\n"
     ]
    },
    {
     "name": "stdout",
     "output_type": "stream",
     "text": [
      "Batch Generating:   0%|          | 0/1 [00:05<?, ?prompt/s, 40.7 tok/s]"
     ]
    },
    {
     "name": "stderr",
     "output_type": "stream",
     "text": [
      "2025-05-13 10:59:25,709 [DEBUG] [urllib3.connectionpo]: https://ncfi2yswjottwq-8888.proxy.runpod.net:443 \"POST /v1/completions HTTP/1.1\" 200 None\n",
      "2025-05-13 10:59:25,769 [DEBUG] [api_client.api_clien]: Raw response: {\"id\": \"cmpl-0d36ec3760874168bed9d96526c0e58f\", \"object\": \"text_completion\", \"created\": 1747097970, \"model\": \"unsloth/gemma-3-4b-it\", \"choices\": [{\"index\": 0, \"text\": \" almost unbearable swell of pride. He\\u2019d always been a good guy, a decent guy, maybe\", \"logprobs\": {\"text_offset\": [0, 7, 18, 24, 27, 33, 34, 37, 38, 39, 46, 51, 53, 58, 62, 63, 65, 72, 76, 77], \"token_logprobs\": [-1.5814025402069092, -0.6688771843910217, -1.1582989692687988, -1.0728830375228426e-06, -0.002488613361492753, -0.012911764904856682, -0.508831262588501, -0.4896285831928253, 0.0, -1.072725534439087, -0.09661534428596497, -0.42219823598861694, -0.12561701238155365, -2.2640023231506348, -0.0026497275102883577, -0.6977269649505615, -0.2704392373561859, -0.7153052687644958, -0.009387636557221413, -0.601416826248169], \"tokens\": [\"\\u2581almost\", \"\\u2581unbearable\", \"\\u2581swell\", \"\\u2581of\", \"\\u2581pride\", \".\", \"\\u2581He\", \"\\u2019\", \"d\", \"\\u2581always\", \"\\u2581been\", \"\\u2581a\", \"\\u2581good\", \"\\u2581guy\", \",\", \"\\u2581a\", \"\\u2581decent\", \"\\u2581guy\", \",\", \"\\u2581maybe\"], \"top_logprobs\": [{\"\\u2581almost\": -1.5814025402069092, \"\\u2581triumphant\": -1.4564025402069092, \"\\u2581swelling\": -2.081402540206909, \"\\u2581overwhelming\": -2.831402540206909, \"\\u2581exhilarating\": -3.081402540206909, \"\\u2581heady\": -3.206402540206909, \"\\u2581expansive\": -3.456402540206909, \"\\u2581surging\": -3.456402540206909, \"\\u2581burgeoning\": -3.956402540206909, \"\\u2581intoxicating\": -4.081402778625488, \"\\u2581soaring\": -4.206402778625488, \"\\u2581buzzing\": -4.331402778625488, \"\\u2581bubbling\": -4.331402778625488, \"\\u2581buoyant\": -4.331402778625488, \"\\u2581giddy\": -4.581402778625488, \"\\u2581potent\": -4.831402778625488, \"\\u2581incandescent\": -4.956402778625488, \"\\u2581self\": -4.956402778625488, \"\\u2581puffed\": -4.956402778625488, \"\\u2581chest\": -5.206402778625488}, {\"\\u2581unbearable\": -0.6688771843910217, \"\\u2581childish\": -2.293877124786377, \"\\u2581arrogant\": -2.543877124786377, \"\\u2581embarrassing\": -3.043877124786377, \"\\\n",
      "2025-05-13 10:59:25,769 [INFO ] [api_client.api_clien]: Received 20 token strings (finish_reason=length).\n",
      "2025-05-13 10:59:25,771 [DEBUG] [api_client.api_clien]: POST https://ncfi2yswjottwq-8888.proxy.runpod.net/v1/completions\n",
      "2025-05-13 10:59:25,771 [DEBUG] [api_client.api_clien]: Payload: {\"model\": \"unsloth/gemma-3-4b-it\", \"prompt\": \"<bos><start_of_turn>user\\nWriting prompt: After defeating the Devil down in Georgia, Johnny proudly proclaims he's the best that's ever been. A flash of lightning crashes down and God appears, fiddle in hand. The Devil gets his popcorn ready.\\n\\nWrite 1000 words to this prompt. Your response:\\n<end_of_turn>\\n<start_of_turn>model\\nThe rain in Georgia was a greasy, insistent thing, clinging to everything with the stubbornness of regret. It mirrored the\n"
     ]
    },
    {
     "name": "stdout",
     "output_type": "stream",
     "text": [
      "Batch Generating:   0%|          | 0/1 [00:05<?, ?prompt/s, 39.8 tok/s]"
     ]
    },
    {
     "name": "stderr",
     "output_type": "stream",
     "text": [
      "2025-05-13 10:59:27,105 [DEBUG] [urllib3.connectionpo]: https://ncfi2yswjottwq-8888.proxy.runpod.net:443 \"POST /v1/completions HTTP/1.1\" 200 None\n",
      "2025-05-13 10:59:27,271 [DEBUG] [api_client.api_clien]: Raw response: {\"id\": \"cmpl-06c2fa5f14644a748a91aacbbc51953c\", \"object\": \"text_completion\", \"created\": 1747097972, \"model\": \"unsloth/gemma-3-4b-it\", \"choices\": [{\"index\": 0, \"text\": \" even a *great* guy, but he\\u2019d never been\\u2026 *this* good. He\", \"logprobs\": {\"text_offset\": [0, 5, 7, 9, 14, 15, 19, 20, 24, 27, 28, 29, 35, 40, 41, 43, 47, 48, 53, 54], \"token_logprobs\": [-0.14420610666275024, -0.00670540239661932, -0.5318939089775085, -0.008050493896007538, -4.768370445162873e-07, -0.0018744770204648376, -0.43909385800361633, -0.08871759474277496, -0.5960237383842468, -0.20979206264019012, -1.1920928244535389e-07, -0.03113202564418316, -1.9041469097137451, -0.6825164556503296, -0.9611090421676636, -0.1150650829076767, -0.0036510254722088575, -0.6736294031143188, -9.786603914108127e-05, -0.3568735420703888], \"tokens\": [\"\\u2581even\", \"\\u2581a\", \"\\u2581*\", \"great\", \"*\", \"\\u2581guy\", \",\", \"\\u2581but\", \"\\u2581he\", \"\\u2019\", \"d\", \"\\u2581never\", \"\\u2581been\", \"\\u2026\", \"\\u2581*\", \"this\", \"*\", \"\\u2581good\", \".\", \"\\u2581He\"], \"top_logprobs\": [{\"\\u2581even\": -0.14420610666275024, \"\\u2581a\": -2.1442060470581055, \"\\u2581an\": -5.3942060470581055, \",\": -6.2692060470581055, \"\\u2581bordering\": -6.3942060470581055, \"\\u2581*\": -6.5192060470581055, \".\": -6.6442060470581055, \"\\u2026\": -6.7692060470581055, \"\\u2581above\": -6.7692060470581055, \"\\u2581slightly\": -6.8942060470581055, \"\\u2581leaning\": -7.2692060470581055, \"\\u2581just\": -7.7692060470581055, \"\\u2581not\": -8.019206047058105, \"\\u2581better\": -8.519206047058105, \"\\u2581overly\": -8.644206047058105, \"\\u2581more\": -8.894206047058105, \"\\u2581too\": -9.019206047058105, \"\\u2581alright\": -9.144206047058105, \"...\": -9.269206047058105, \"\\u2581the\": -9.394206047058105}, {\"\\u2581a\": -0.00670540239661932, \"\\u2581an\": -6.131705284118652, \"\\u2026\": -6.631705284118652, \"\\u2581*\": -6.881705284118652, \",\": -7.881705284118652, \"\\u2581above\": -8.131705284118652, \"\\u2581the\": -8.256705284118652, \"\\u2581great\": -8.756705284118652, \"\\u2581slightly\": -8.8817052841\n",
      "2025-05-13 10:59:27,271 [INFO ] [api_client.api_clien]: Received 20 token strings (finish_reason=length).\n",
      "2025-05-13 10:59:27,272 [DEBUG] [api_client.api_clien]: POST https://ncfi2yswjottwq-8888.proxy.runpod.net/v1/completions\n",
      "2025-05-13 10:59:27,272 [DEBUG] [api_client.api_clien]: Payload: {\"model\": \"unsloth/gemma-3-4b-it\", \"prompt\": \"<bos><start_of_turn>user\\nWriting prompt: After defeating the Devil down in Georgia, Johnny proudly proclaims he's the best that's ever been. A flash of lightning crashes down and God appears, fiddle in hand. The Devil gets his popcorn ready.\\n\\nWrite 1000 words to this prompt. Your response:\\n<end_of_turn>\\n<start_of_turn>model\\nThe rain in Georgia was a greasy, insistent thing, clinging to everything with the stubbornness of regret. It mirrored the\n"
     ]
    },
    {
     "name": "stdout",
     "output_type": "stream",
     "text": [
      "Batch Generating:   0%|          | 0/1 [00:07<?, ?prompt/s, 32.5 tok/s]"
     ]
    },
    {
     "name": "stderr",
     "output_type": "stream",
     "text": [
      "2025-05-13 10:59:27,791 [DEBUG] [urllib3.connectionpo]: https://ncfi2yswjottwq-8888.proxy.runpod.net:443 \"POST /v1/completions HTTP/1.1\" 200 None\n",
      "2025-05-13 10:59:27,852 [DEBUG] [api_client.api_clien]: Raw response: {\"id\": \"cmpl-4cb852a0ef4c460a9195b44ccdeddcab\", \"object\": \"text_completion\", \"created\": 1747097972, \"model\": \"unsloth/gemma-3-4b-it\", \"choices\": [{\"index\": 0, \"text\": \"\\u2019d never faced down a demon lord and lived to tell the tale. \\n\\n\\u201cI\\u2019\", \"logprobs\": {\"text_offset\": [0, 1, 2, 8, 14, 19, 21, 27, 32, 36, 42, 45, 50, 54, 59, 60, 61, 63, 64, 65], \"token_logprobs\": [-0.20587892830371857, 0.0, -0.5676444172859192, -0.5374826788902283, -0.2934092581272125, -0.9444007873535156, -1.5048408508300781, -1.8016623258590698, -0.2417926788330078, -0.24889394640922546, -0.03813470900058746, -0.0013253247598186135, -0.00021062063751742244, -5.1973900554003194e-05, -0.0022038952447474003, -0.185645192861557, -1.7881377516459906e-06, -0.49334076046943665, -0.2206270694732666, -0.023752661421895027], \"tokens\": [\"\\u2019\", \"d\", \"\\u2581never\", \"\\u2581faced\", \"\\u2581down\", \"\\u2581a\", \"\\u2581demon\", \"\\u2581lord\", \"\\u2581and\", \"\\u2581lived\", \"\\u2581to\", \"\\u2581tell\", \"\\u2581the\", \"\\u2581tale\", \".\", \"\\u2581\", \"\\n\\n\", \"\\u201c\", \"I\", \"\\u2019\"], \"top_logprobs\": [{\"\\u2019\": -0.20587892830371857, \"'\": -2.330878973007202, \"\\u2581adjusted\": -3.330878973007202, \"\\u2581was\": -3.955878973007202, \"\\u2581straightened\": -5.330878734588623, \"\\u2581surveyed\": -5.705878734588623, \"\\u2581flex\": -5.705878734588623, \"\\u2581wasn\": -5.705878734588623, \"\\u2581kicked\": -6.080878734588623, \"\\u2581hadn\": -6.080878734588623, \"\\u2581ran\": -6.080878734588623, \"\\u2581felt\": -6.330878734588623, \"\\u2581looked\": -6.330878734588623, \"\\u2581puffed\": -6.705878734588623, \"\\u2581patted\": -6.955878734588623, \"\\u2581shifted\": -7.205878734588623, \"\\u2581stretched\": -7.580878734588623, \"\\u2581took\": -7.955878734588623, \"\\u2581heft\": -7.955878734588623, \"\\u2581pushed\": -8.205879211425781}, {\"d\": 0.0, \"s\": -25.625, \"\\u2581d\": -27.0, \"ve\": -29.625, \"h\": -30.125, \"ll\": -30.75, \"dn\": -30.875, \"dh\": -31.5, \"\\u2581hadn\": -32.375, \"b\": -32.625, \"da\": -32.875, \"ds\": -33.25, \"\\u2581looked\": -33.5, \"g\": -33.5, \"n\": -34.125, \"nt\"\n",
      "2025-05-13 10:59:27,852 [INFO ] [api_client.api_clien]: Received 20 token strings (finish_reason=length).\n",
      "2025-05-13 10:59:27,853 [WARNI] [validators.slop_phra]: Slop violation: 'demon' @tok=184 (char_pos=739) … never faced down a demon lord and lived to t…\n",
      "2025-05-13 10:59:27,853 [WARNI] [core.sampler        ]: Back-tracking @tok=184 orig='▁demon' ban='{'phrase': 'demon', 'context': ' never faced down a demon lord and lived to t', 'suppression_detail_key': 'demon'}'.\n",
      "2025-05-13 10:59:27,853 [INFO ] [state.generation_sta]: GenerationState initialised. Prompt length (chars) = 266\n",
      "2025-05-13 10:59:27,854 [INFO ] [state.generation_sta]: GenerationState initialised. Prompt length (chars) = 266\n",
      "2025-05-13 10:59:27,854 [INFO ] [state.generation_sta]: GenerationState initialised. Prompt length (chars) = 266\n",
      "2025-05-13 10:59:27,854 [INFO ] [state.generation_sta]: GenerationState initialised. Prompt length (chars) = 266\n",
      "2025-05-13 10:59:27,854 [INFO ] [state.generation_sta]: GenerationState initialised. Prompt length (chars) = 266\n",
      "2025-05-13 10:59:27,854 [INFO ] [state.generation_sta]: GenerationState initialised. Prompt length (chars) = 266\n",
      "2025-05-13 10:59:27,854 [INFO ] [state.generation_sta]: GenerationState initialised. Prompt length (chars) = 266\n",
      "2025-05-13 10:59:27,854 [INFO ] [state.generation_sta]: GenerationState initialised. Prompt length (chars) = 266\n",
      "2025-05-13 10:59:27,854 [INFO ] [state.generation_sta]: GenerationState initialised. Prompt length (chars) = 266\n",
      "2025-05-13 10:59:27,854 [INFO ] [state.generation_sta]: GenerationState initialised. Prompt length (chars) = 266\n",
      "2025-05-13 10:59:27,854 [INFO ] [state.generation_sta]: GenerationState initialised. Prompt length (chars) = 266\n",
      "2025-05-13 10:59:27,854 [INFO ] [state.generation_sta]: GenerationState initialised. Prompt length (chars) = 266\n",
      "2025-05-13 10:59:27,854 [INFO ] [state.generation_sta]: GenerationState initialised. Prompt length (chars) = 266\n",
      "2025-05-13 10:59:27,854 [INFO ] [state.generation_sta]: GenerationState initialised. Prompt length (chars) = 266\n",
      "2025-05-13 10:59:27,854 [INFO ] [state.generation_sta]: GenerationState initialised. Prompt length (chars) = 266\n",
      "2025-05-13 10:59:27,854 [INFO ] [state.generation_sta]: GenerationState initialised. Prompt length (chars) = 266\n",
      "2025-05-13 10:59:27,854 [INFO ] [state.generation_sta]: GenerationState initialised. Prompt length (chars) = 266\n",
      "2025-05-13 10:59:27,854 [INFO ] [state.generation_sta]: GenerationState initialised. Prompt length (chars) = 266\n",
      "2025-05-13 10:59:27,854 [INFO ] [state.generation_sta]: GenerationState initialised. Prompt length (chars) = 266\n",
      "2025-05-13 10:59:27,854 [WARNI] [core.sampler        ]:     ✓ replacement='▁force' (pool=3, T=0.7, min_p=0.05, top_p=1.0, top_k=50)\n",
      "2025-05-13 10:59:27,854 [DEBUG] [root                ]: BANNED (prompt_idx=0, type=slop_phrase, phrase='demon' @ orig_token='▁demon' ...'never faced down a demon lord and lived to t'...)\n",
      "2025-05-13 10:59:27,855 [DEBUG] [api_client.api_clien]: POST https://ncfi2yswjottwq-8888.proxy.runpod.net/v1/completions\n",
      "2025-05-13 10:59:27,855 [DEBUG] [api_client.api_clien]: Payload: {\"model\": \"unsloth/gemma-3-4b-it\", \"prompt\": \"<bos><start_of_turn>user\\nWriting prompt: After defeating the Devil down in Georgia, Johnny proudly proclaims he's the best that's ever been. A flash of lightning crashes down and God appears, fiddle in hand. The Devil gets his popcorn ready.\\n\\nWrite 1000 words to this prompt. Your response:\\n<end_of_turn>\\n<start_of_turn>model\\nThe rain in Georgia was a greasy, insistent thing, clinging to everything with the stubbornness of regret. It mirrored the\n"
     ]
    },
    {
     "name": "stdout",
     "output_type": "stream",
     "text": [
      "Batch Generating:   0%|          | 0/1 [00:07<?, ?prompt/s, 30.6 tok/s]"
     ]
    },
    {
     "name": "stderr",
     "output_type": "stream",
     "text": [
      "2025-05-13 10:59:28,373 [DEBUG] [urllib3.connectionpo]: https://ncfi2yswjottwq-8888.proxy.runpod.net:443 \"POST /v1/completions HTTP/1.1\" 200 None\n",
      "2025-05-13 10:59:28,374 [DEBUG] [api_client.api_clien]: Raw response: {\"id\": \"cmpl-2307493a9ee34e4496868f0f0da17ddc\", \"object\": \"text_completion\", \"created\": 1747097973, \"model\": \"unsloth/gemma-3-4b-it\", \"choices\": [{\"index\": 0, \"text\": \" of pure, unadulterated evil and lived to tell the tale. \\n\\n\\u201cI\\u2019\", \"logprobs\": {\"text_offset\": [0, 3, 8, 9, 12, 14, 19, 23, 28, 32, 38, 41, 46, 50, 55, 56, 57, 59, 60, 61], \"token_logprobs\": [-0.010210777632892132, -0.044523898512125015, -0.3836117684841156, -0.09861668944358826, -0.0036292895674705505, 0.0, -1.1920928244535389e-07, -0.011506738141179085, -0.02475643716752529, -1.806105375289917, -0.018186835572123528, -0.0004188137245364487, -0.0003933132975362241, -3.731181277544238e-05, -0.0025153683964163065, -0.1733018010854721, -2.264974000354414e-06, -0.5879042744636536, -0.25816863775253296, -0.026841048151254654], \"tokens\": [\"\\u2581of\", \"\\u2581pure\", \",\", \"\\u2581un\", \"ad\", \"ulter\", \"ated\", \"\\u2581evil\", \"\\u2581and\", \"\\u2581lived\", \"\\u2581to\", \"\\u2581tell\", \"\\u2581the\", \"\\u2581tale\", \".\", \"\\u2581\", \"\\n\\n\", \"\\u201c\", \"I\", \"\\u2019\"], \"top_logprobs\": [{\"\\u2581of\": -0.010210777632892132, \"\\u2581that\": -4.885210990905762, \"\\u2581so\": -7.010210990905762, \"\\u2581like\": -7.385210990905762, \"\\u2581capable\": -7.635210990905762, \"\\u2581older\": -9.260210990905762, \"\\u2581this\": -9.760210990905762, \"\\u2581as\": -9.885210990905762, \"\\u2581born\": -10.010210990905762, \"\\u2581from\": -10.135210990905762, \"\\u2581designed\": -10.260210990905762, \"\\u2581embodying\": -10.385210990905762, \"\\u2581actively\": -10.510210990905762, \"\\u2581literally\": -11.010210990905762, \"\\u2581woven\": -11.010210990905762, \"\\u2581dedicated\": -11.135210990905762, \"\\u2581representing\": -11.135210990905762, \"\\u2581directly\": -11.385210990905762, \"\\u2581meant\": -11.385210990905762, \"\\u2581bent\": -11.385210990905762}, {\"\\u2581pure\": -0.044523898512125015, \"\\u2581absolute\": -3.9195239543914795, \"\\u2581unimaginable\": -4.7945237159729, \"\\u2581ultimate\": -5.1695237159729, \"\\u2581cosmic\": -6.1695237159729, \"\\u2581evil\": -6.6695237159729, \"\\\n",
      "2025-05-13 10:59:28,374 [INFO ] [api_client.api_clien]: Received 20 token strings (finish_reason=length).\n",
      "2025-05-13 10:59:28,376 [DEBUG] [api_client.api_clien]: POST https://ncfi2yswjottwq-8888.proxy.runpod.net/v1/completions\n",
      "2025-05-13 10:59:28,376 [DEBUG] [api_client.api_clien]: Payload: {\"model\": \"unsloth/gemma-3-4b-it\", \"prompt\": \"<bos><start_of_turn>user\\nWriting prompt: After defeating the Devil down in Georgia, Johnny proudly proclaims he's the best that's ever been. A flash of lightning crashes down and God appears, fiddle in hand. The Devil gets his popcorn ready.\\n\\nWrite 1000 words to this prompt. Your response:\\n<end_of_turn>\\n<start_of_turn>model\\nThe rain in Georgia was a greasy, insistent thing, clinging to everything with the stubbornness of regret. It mirrored the\n"
     ]
    },
    {
     "name": "stdout",
     "output_type": "stream",
     "text": [
      "Batch Generating:   0%|          | 0/1 [00:08<?, ?prompt/s, 31.2 tok/s]"
     ]
    },
    {
     "name": "stderr",
     "output_type": "stream",
     "text": [
      "2025-05-13 10:59:28,894 [DEBUG] [urllib3.connectionpo]: https://ncfi2yswjottwq-8888.proxy.runpod.net:443 \"POST /v1/completions HTTP/1.1\" 200 None\n",
      "2025-05-13 10:59:28,957 [DEBUG] [api_client.api_clien]: Raw response: {\"id\": \"cmpl-5ea2e3cef6af49c4a605264c0247669c\", \"object\": \"text_completion\", \"created\": 1747097973, \"model\": \"unsloth/gemma-3-4b-it\", \"choices\": [{\"index\": 0, \"text\": \"m the best that\\u2019s ever been,\\u201d he declared, the words echoing a little too loudly in\", \"logprobs\": {\"text_offset\": [0, 1, 5, 10, 15, 16, 17, 22, 27, 29, 32, 41, 42, 46, 52, 60, 62, 69, 73, 80], \"token_logprobs\": [-3.5523738915799186e-05, -0.0040427870117127895, -3.2782016205601394e-05, -0.03503547981381416, -0.006719966884702444, 0.0, -6.794906312279636e-06, -5.483612312673358e-06, -0.009311698377132416, -8.40390202938579e-05, -0.19454099237918854, -0.029789527878165245, -0.37454235553741455, -0.026822131127119064, -1.6177924871444702, -0.34858497977256775, -0.005399998743087053, -0.008416065946221352, -0.01448672916740179, -0.003422001376748085], \"tokens\": [\"m\", \"\\u2581the\", \"\\u2581best\", \"\\u2581that\", \"\\u2019\", \"s\", \"\\u2581ever\", \"\\u2581been\", \",\\u201d\", \"\\u2581he\", \"\\u2581declared\", \",\", \"\\u2581the\", \"\\u2581words\", \"\\u2581echoing\", \"\\u2581a\", \"\\u2581little\", \"\\u2581too\", \"\\u2581loudly\", \"\\u2581in\"], \"top_logprobs\": [{\"m\": -3.5523738915799186e-05, \"ll\": -10.500035285949707, \"ve\": -11.750035285949707, \"d\": -16.500036239624023, \"ma\": -19.625036239624023, \"mma\": -22.000036239624023, \"M\": -22.500036239624023, \"ts\": -25.375036239624023, \"\\u2019\": -25.625036239624023, \"s\": -26.250036239624023, \"am\": -26.500036239624023, \"se\": -26.625036239624023, \"\\u2026\": -26.875036239624023, \"LL\": -27.000036239624023, \"be\": -28.375036239624023, \"t\": -28.375036239624023, \"ms\": -28.750036239624023, \"mn\": -29.250036239624023, \"re\": -29.750036239624023, \"mm\": -29.875036239624023}, {\"\\u2581the\": -0.0040427870117127895, \"\\u2581telling\": -5.754042625427246, \"\\u2026\": -7.879042625427246, \"\\u2581tell\": -8.129042625427246, \"\\u2581just\": -9.379042625427246, \"\\u2581officially\": -9.504042625427246, \"\\u2581pretty\": -10.879042625427246, \"\\u2581done\": -13.129042625427246, \"\\u2581not\": -13.129042625427246, \"\\u2581saying\": -13.2\n",
      "2025-05-13 10:59:28,957 [INFO ] [api_client.api_clien]: Received 20 token strings (finish_reason=length).\n",
      "2025-05-13 10:59:28,958 [WARNI] [validators.slop_phra]: Slop violation: 'echo' @tok=219 (char_pos=859) …declared, the words echoing a little too lou…\n",
      "2025-05-13 10:59:28,959 [WARNI] [core.sampler        ]: Back-tracking @tok=219 orig='▁echoing' ban='{'phrase': 'echo', 'context': 'declared, the words echoing a little too lou', 'suppression_detail_key': 'echo'}'.\n",
      "2025-05-13 10:59:28,959 [INFO ] [state.generation_sta]: GenerationState initialised. Prompt length (chars) = 266\n",
      "2025-05-13 10:59:28,959 [INFO ] [state.generation_sta]: GenerationState initialised. Prompt length (chars) = 266\n",
      "2025-05-13 10:59:28,959 [INFO ] [state.generation_sta]: GenerationState initialised. Prompt length (chars) = 266\n",
      "2025-05-13 10:59:28,959 [INFO ] [state.generation_sta]: GenerationState initialised. Prompt length (chars) = 266\n",
      "2025-05-13 10:59:28,959 [INFO ] [state.generation_sta]: GenerationState initialised. Prompt length (chars) = 266\n",
      "2025-05-13 10:59:28,959 [INFO ] [state.generation_sta]: GenerationState initialised. Prompt length (chars) = 266\n",
      "2025-05-13 10:59:28,959 [INFO ] [state.generation_sta]: GenerationState initialised. Prompt length (chars) = 266\n",
      "2025-05-13 10:59:28,959 [INFO ] [state.generation_sta]: GenerationState initialised. Prompt length (chars) = 266\n",
      "2025-05-13 10:59:28,959 [INFO ] [state.generation_sta]: GenerationState initialised. Prompt length (chars) = 266\n",
      "2025-05-13 10:59:28,959 [INFO ] [state.generation_sta]: GenerationState initialised. Prompt length (chars) = 266\n",
      "2025-05-13 10:59:28,959 [INFO ] [state.generation_sta]: GenerationState initialised. Prompt length (chars) = 266\n",
      "2025-05-13 10:59:28,959 [INFO ] [state.generation_sta]: GenerationState initialised. Prompt length (chars) = 266\n",
      "2025-05-13 10:59:28,959 [INFO ] [state.generation_sta]: GenerationState initialised. Prompt length (chars) = 266\n",
      "2025-05-13 10:59:28,959 [INFO ] [state.generation_sta]: GenerationState initialised. Prompt length (chars) = 266\n",
      "2025-05-13 10:59:28,959 [INFO ] [state.generation_sta]: GenerationState initialised. Prompt length (chars) = 266\n",
      "2025-05-13 10:59:28,959 [INFO ] [state.generation_sta]: GenerationState initialised. Prompt length (chars) = 266\n",
      "2025-05-13 10:59:28,959 [INFO ] [state.generation_sta]: GenerationState initialised. Prompt length (chars) = 266\n",
      "2025-05-13 10:59:28,959 [INFO ] [state.generation_sta]: GenerationState initialised. Prompt length (chars) = 266\n",
      "2025-05-13 10:59:28,959 [INFO ] [state.generation_sta]: GenerationState initialised. Prompt length (chars) = 266\n",
      "2025-05-13 10:59:28,960 [WARNI] [core.sampler        ]:     ✓ replacement='▁tumbling' (pool=2, T=0.7, min_p=0.05, top_p=1.0, top_k=50)\n",
      "2025-05-13 10:59:28,960 [DEBUG] [root                ]: BANNED (prompt_idx=0, type=slop_phrase, phrase='echo' @ orig_token='▁echoing' ...'declared, the words echoing a little too lou'...)\n",
      "2025-05-13 10:59:28,960 [DEBUG] [api_client.api_clien]: POST https://ncfi2yswjottwq-8888.proxy.runpod.net/v1/completions\n",
      "2025-05-13 10:59:28,960 [DEBUG] [api_client.api_clien]: Payload: {\"model\": \"unsloth/gemma-3-4b-it\", \"prompt\": \"<bos><start_of_turn>user\\nWriting prompt: After defeating the Devil down in Georgia, Johnny proudly proclaims he's the best that's ever been. A flash of lightning crashes down and God appears, fiddle in hand. The Devil gets his popcorn ready.\\n\\nWrite 1000 words to this prompt. Your response:\\n<end_of_turn>\\n<start_of_turn>model\\nThe rain in Georgia was a greasy, insistent thing, clinging to everything with the stubbornness of regret. It mirrored the\n"
     ]
    },
    {
     "name": "stdout",
     "output_type": "stream",
     "text": [
      "Batch Generating:   0%|          | 0/1 [00:08<?, ?prompt/s, 30.7 tok/s]"
     ]
    },
    {
     "name": "stderr",
     "output_type": "stream",
     "text": [
      "2025-05-13 10:59:29,483 [DEBUG] [urllib3.connectionpo]: https://ncfi2yswjottwq-8888.proxy.runpod.net:443 \"POST /v1/completions HTTP/1.1\" 200 None\n",
      "2025-05-13 10:59:29,540 [DEBUG] [api_client.api_clien]: Raw response: {\"id\": \"cmpl-5830f89980924483adeb47239a32e3ae\", \"object\": \"text_completion\", \"created\": 1747097974, \"model\": \"unsloth/gemma-3-4b-it\", \"choices\": [{\"index\": 0, \"text\": \" out before he could stop them. The rain seemed to pause, as if holding its breath. \", \"logprobs\": {\"text_offset\": [0, 4, 11, 14, 20, 25, 30, 31, 35, 40, 47, 50, 56, 57, 60, 63, 71, 75, 82, 83], \"token_logprobs\": [-2.2172682292875834e-05, -0.9972624778747559, -0.0005006728461012244, -0.0008935510995797813, -0.3897777795791626, -0.00016044282529037446, -0.07889481633901596, -0.9743149280548096, -2.39835786819458, -0.10559388995170593, -4.029192859889008e-05, -1.1504100561141968, -0.11713316291570663, -1.3446522951126099, -0.0017034795600920916, -0.3213824927806854, -1.0013530300057027e-05, -6.437280717364047e-06, -0.003590923734009266, -1.3840140104293823], \"tokens\": [\"\\u2581out\", \"\\u2581before\", \"\\u2581he\", \"\\u2581could\", \"\\u2581stop\", \"\\u2581them\", \".\", \"\\u2581The\", \"\\u2581rain\", \"\\u2581seemed\", \"\\u2581to\", \"\\u2581pause\", \",\", \"\\u2581as\", \"\\u2581if\", \"\\u2581holding\", \"\\u2581its\", \"\\u2581breath\", \".\", \"\\u2581\"], \"top_logprobs\": [{\"\\u2581out\": -2.2172682292875834e-05, \"\\u2581from\": -10.750021934509277, \"\\u2581loose\": -14.625021934509277, \"\\u2581over\": -15.750021934509277, \"\\u2581forth\": -16.500022888183594, \"\\u2581into\": -18.125022888183594, \"\\u2581onto\": -18.125022888183594, \"\\u2581off\": -18.375022888183594, \"\\u2581free\": -18.750022888183594, \"\\u2581aloud\": -18.875022888183594, \"\\u0e2d\\u0e2d\\u0e01\\u0e21\\u0e32\": -19.625022888183594, \"\\u2581awkwardly\": -20.250022888183594, \"\\u2581slightly\": -20.250022888183594, \"\\u2581un\": -20.500022888183594, \"\\u2581outwards\": -20.750022888183594, \"\\u2581clums\": -21.125022888183594, \"\\u2581straight\": -21.250022888183594, \"\\u2581past\": -21.375022888183594, \"\\u2581outward\": -21.875022888183594, \"\\u2581forward\": -22.125022888183594}, {\"\\u2581before\": -0.9972624778747559, \"\\u2581with\": -0.6222624778747559, \",\": -3.497262477874756, \"\\u2581of\": -3.747262477874756, \"\\u2581in\"\n",
      "2025-05-13 10:59:29,540 [INFO ] [api_client.api_clien]: Received 20 token strings (finish_reason=length).\n",
      "2025-05-13 10:59:29,542 [DEBUG] [api_client.api_clien]: POST https://ncfi2yswjottwq-8888.proxy.runpod.net/v1/completions\n",
      "2025-05-13 10:59:29,542 [DEBUG] [api_client.api_clien]: Payload: {\"model\": \"unsloth/gemma-3-4b-it\", \"prompt\": \"<bos><start_of_turn>user\\nWriting prompt: After defeating the Devil down in Georgia, Johnny proudly proclaims he's the best that's ever been. A flash of lightning crashes down and God appears, fiddle in hand. The Devil gets his popcorn ready.\\n\\nWrite 1000 words to this prompt. Your response:\\n<end_of_turn>\\n<start_of_turn>model\\nThe rain in Georgia was a greasy, insistent thing, clinging to everything with the stubbornness of regret. It mirrored the\n"
     ]
    },
    {
     "name": "stdout",
     "output_type": "stream",
     "text": [
      "Batch Generating:   0%|          | 0/1 [00:09<?, ?prompt/s, 31.0 tok/s]"
     ]
    },
    {
     "name": "stderr",
     "output_type": "stream",
     "text": [
      "2025-05-13 10:59:30,061 [DEBUG] [urllib3.connectionpo]: https://ncfi2yswjottwq-8888.proxy.runpod.net:443 \"POST /v1/completions HTTP/1.1\" 200 None\n",
      "2025-05-13 10:59:30,125 [DEBUG] [api_client.api_clien]: Raw response: {\"id\": \"cmpl-f14430a296de4616b7ecbe88874ba250\", \"object\": \"text_completion\", \"created\": 1747097975, \"model\": \"unsloth/gemma-3-4b-it\", \"choices\": [{\"index\": 0, \"text\": \"\\n\\nHe puffed out his chest, the worn leather of his jacket feeling suddenly tight. He\\u2019d\", \"logprobs\": {\"text_offset\": [0, 2, 4, 11, 15, 19, 25, 26, 30, 35, 43, 46, 50, 57, 65, 74, 80, 81, 84, 85], \"token_logprobs\": [-3.5523738915799186e-05, -0.7218539118766785, -1.7004045248031616, -0.0013036570744588971, -2.7656173188006505e-05, -1.311301275563892e-06, -0.0014103237772360444, -2.291332721710205, -0.34011271595954895, -0.03696358576416969, -0.0014910305617377162, -4.637133679352701e-05, -1.3925459384918213, -0.7901136875152588, -1.1843795776367188, -0.9911558628082275, -0.4710063636302948, -0.30257704854011536, -0.2514335513114929, 0.0], \"tokens\": [\"\\n\\n\", \"He\", \"\\u2581puffed\", \"\\u2581out\", \"\\u2581his\", \"\\u2581chest\", \",\", \"\\u2581the\", \"\\u2581worn\", \"\\u2581leather\", \"\\u2581of\", \"\\u2581his\", \"\\u2581jacket\", \"\\u2581feeling\", \"\\u2581suddenly\", \"\\u2581tight\", \".\", \"\\u2581He\", \"\\u2019\", \"d\"], \"top_logprobs\": [{\"\\n\\n\": -3.5523738915799186e-05, \"\\n\\n\\n\": -10.250035285949707, \"\\n\\n\\n\\n\": -16.000036239624023, \"\\n\": -18.500036239624023, \"\\n\\n\\n\\n\\n\": -20.250036239624023, \"\\n\\n\\n\\n\\n\\n\": -23.875036239624023, \"<start_of_image>\": -24.375036239624023, \"\\n\\n\\n\\n\\n\\n\\n\": -26.250036239624023, \"\\n\\n\\n\\n\\n\\n\\n\\n\\n\": -29.125036239624023, \"\\n\\n\\n\\n\\n\\n\\n\\n\\n\\n\\n\": -31.000036239624023, \"<0x0D>\": -31.000036239624023, \"\\n\\n\\n\\n\\n\\n\\n\\n\": -31.125036239624023, \"\\t\": -31.250036239624023, \"Surely\": -32.00003433227539, \"\\n\\n\\n\\n\\n\\n\\n\\n\\n\\n\\n\\n\\n\\n\\n\\n\\n\\n\\n\\n\\n\\n\\n\\n\": -32.12503433227539, \"\\n\\n\\n\\n\\n\\n\\n\\n\\n\\n\": -32.25003433227539, \"\\n\\n\\n\\n\\n\\n\\n\\n\\n\\n\\n\\n\": -32.37503433227539, \"Donald\": -32.50003433227539, \"1\": -32.62503433227539, \"\\n\\n\\n\\n\\n\\n\\n\\n\\n\\n\\n\\n\\n\\n\": -32.87503433227539}, {\"He\": -0.7218539118766785, \"A\": -0.9718539118766785, \"The\": -2.5968539714813232, \"Around\": -3.4718539714813232, \"Across\": -5.22185373306274\n",
      "2025-05-13 10:59:30,125 [INFO ] [api_client.api_clien]: Received 20 token strings (finish_reason=length).\n",
      "2025-05-13 10:59:30,127 [DEBUG] [api_client.api_clien]: POST https://ncfi2yswjottwq-8888.proxy.runpod.net/v1/completions\n",
      "2025-05-13 10:59:30,127 [DEBUG] [api_client.api_clien]: Payload: {\"model\": \"unsloth/gemma-3-4b-it\", \"prompt\": \"<bos><start_of_turn>user\\nWriting prompt: After defeating the Devil down in Georgia, Johnny proudly proclaims he's the best that's ever been. A flash of lightning crashes down and God appears, fiddle in hand. The Devil gets his popcorn ready.\\n\\nWrite 1000 words to this prompt. Your response:\\n<end_of_turn>\\n<start_of_turn>model\\nThe rain in Georgia was a greasy, insistent thing, clinging to everything with the stubbornness of regret. It mirrored the\n"
     ]
    },
    {
     "name": "stdout",
     "output_type": "stream",
     "text": [
      "Batch Generating:   0%|          | 0/1 [00:10<?, ?prompt/s, 31.2 tok/s]"
     ]
    },
    {
     "name": "stderr",
     "output_type": "stream",
     "text": [
      "2025-05-13 10:59:30,649 [DEBUG] [urllib3.connectionpo]: https://ncfi2yswjottwq-8888.proxy.runpod.net:443 \"POST /v1/completions HTTP/1.1\" 200 None\n",
      "2025-05-13 10:59:30,711 [DEBUG] [api_client.api_clien]: Raw response: {\"id\": \"cmpl-25e21dd6ebfb45d5a0729bb985886de9\", \"object\": \"text_completion\", \"created\": 1747097975, \"model\": \"unsloth/gemma-3-4b-it\", \"choices\": [{\"index\": 0, \"text\": \" spent his whole life chasing this, this feeling of validation, this sense of accomplishment. He\\u2019d\", \"logprobs\": {\"text_offset\": [0, 6, 10, 16, 21, 29, 34, 35, 40, 48, 51, 62, 63, 68, 74, 77, 92, 93, 96, 97], \"token_logprobs\": [-0.22443589568138123, -0.01588100753724575, -0.43319109082221985, -0.0003695997002068907, -1.9506160020828247, -0.6938780546188354, -1.536961555480957, -0.49253854155540466, -0.27146968245506287, -0.017299940809607506, -1.2318999767303467, -0.04882849007844925, -1.2277754545211792, -2.4762539863586426, -0.062085818499326706, -1.4729866981506348, -0.018621623516082764, -0.41030392050743103, -0.32544687390327454, 0.0], \"tokens\": [\"\\u2581spent\", \"\\u2581his\", \"\\u2581whole\", \"\\u2581life\", \"\\u2581chasing\", \"\\u2581this\", \",\", \"\\u2581this\", \"\\u2581feeling\", \"\\u2581of\", \"\\u2581validation\", \",\", \"\\u2581this\", \"\\u2581sense\", \"\\u2581of\", \"\\u2581accomplishment\", \".\", \"\\u2581He\", \"\\u2019\", \"d\"], \"top_logprobs\": [{\"\\u2581spent\": -0.22443589568138123, \"\\u2581been\": -2.599435806274414, \"\\u2581always\": -3.349435806274414, \"\\u2581faced\": -3.849435806274414, \"\\u2581fought\": -4.599435806274414, \"\\u2581practiced\": -4.724435806274414, \"\\u2581earned\": -5.099435806274414, \"\\u2581chased\": -6.099435806274414, \"\\u2581trained\": -6.099435806274414, \"\\u2581just\": -6.099435806274414, \"\\u2581taken\": -6.224435806274414, \"\\u2581expected\": -6.224435806274414, \"\\u2581killed\": -6.349435806274414, \"\\u2581grown\": -6.599435806274414, \"\\u2581won\": -6.724435806274414, \"\\u2581battled\": -6.724435806274414, \"\\u2581dealt\": -6.849435806274414, \"\\u2581traded\": -6.974435806274414, \"\\u2581stared\": -7.099435806274414, \"\\u2581come\": -7.099435806274414}, {\"\\u2581his\": -0.01588100753724575, \"\\u2581a\": -5.265881061553955, \"\\u2581most\": -5.515881061553955, \"\\u2581years\": -5.515881061553955, \"\\u2581the\": -7.265881061553955, \"\\u25\n",
      "2025-05-13 10:59:30,712 [INFO ] [api_client.api_clien]: Received 20 token strings (finish_reason=length).\n",
      "2025-05-13 10:59:30,713 [DEBUG] [api_client.api_clien]: POST https://ncfi2yswjottwq-8888.proxy.runpod.net/v1/completions\n",
      "2025-05-13 10:59:30,713 [DEBUG] [api_client.api_clien]: Payload: {\"model\": \"unsloth/gemma-3-4b-it\", \"prompt\": \"<bos><start_of_turn>user\\nWriting prompt: After defeating the Devil down in Georgia, Johnny proudly proclaims he's the best that's ever been. A flash of lightning crashes down and God appears, fiddle in hand. The Devil gets his popcorn ready.\\n\\nWrite 1000 words to this prompt. Your response:\\n<end_of_turn>\\n<start_of_turn>model\\nThe rain in Georgia was a greasy, insistent thing, clinging to everything with the stubbornness of regret. It mirrored the\n"
     ]
    },
    {
     "name": "stdout",
     "output_type": "stream",
     "text": [
      "Batch Generating:   0%|          | 0/1 [00:10<?, ?prompt/s, 31.4 tok/s]"
     ]
    },
    {
     "name": "stderr",
     "output_type": "stream",
     "text": [
      "2025-05-13 10:59:31,236 [DEBUG] [urllib3.connectionpo]: https://ncfi2yswjottwq-8888.proxy.runpod.net:443 \"POST /v1/completions HTTP/1.1\" 200 None\n",
      "2025-05-13 10:59:31,402 [DEBUG] [api_client.api_clien]: Raw response: {\"id\": \"cmpl-14cc8855e265496486c2d25a8295d77d\", \"object\": \"text_completion\", \"created\": 1747097976, \"model\": \"unsloth/gemma-3-4b-it\", \"choices\": [{\"index\": 0, \"text\": \" been a sheriff\\u2019s deputy, a bounty hunter, a private investigator \\u2013 always chasing shadows, always\", \"logprobs\": {\"text_offset\": [0, 5, 7, 15, 16, 17, 24, 25, 27, 34, 41, 42, 44, 52, 65, 67, 74, 82, 90, 91], \"token_logprobs\": [-0.6671195030212402, -0.038917794823646545, -1.2325055599212646, -0.2023010104894638, 0.0, -7.629365427419543e-06, -0.017133787274360657, -0.009572203271090984, -1.7392075061798096, 0.0, -0.0001234931987710297, -0.02216833271086216, -0.5796505212783813, -7.915183232398704e-05, -0.23965637385845184, -1.061894178390503, -2.226499080657959, -0.468988299369812, -0.02337891235947609, -0.018333034589886665], \"tokens\": [\"\\u2581been\", \"\\u2581a\", \"\\u2581sheriff\", \"\\u2019\", \"s\", \"\\u2581deputy\", \",\", \"\\u2581a\", \"\\u2581bounty\", \"\\u2581hunter\", \",\", \"\\u2581a\", \"\\u2581private\", \"\\u2581investigator\", \"\\u2581\\u2013\", \"\\u2581always\", \"\\u2581chasing\", \"\\u2581shadows\", \",\", \"\\u2581always\"], \"top_logprobs\": [{\"\\u2581been\": -0.6671195030212402, \"\\u2581battled\": -2.5421195030212402, \"\\u2581faced\": -2.7921195030212402, \"\\u2581fought\": -3.0421195030212402, \"\\u2581wrestled\": -3.7921195030212402, \"\\u2581always\": -3.9171195030212402, \"\\u2581ignored\": -4.04211950302124, \"\\u2581endured\": -4.04211950302124, \"\\u2581traded\": -4.41711950302124, \"\\u2581spent\": -4.54211950302124, \"\\u2581worked\": -4.54211950302124, \"\\u2581chased\": -4.66711950302124, \"\\u2581taken\": -4.79211950302124, \"\\u2581grown\": -4.79211950302124, \"\\u2581dealt\": -4.79211950302124, \"\\u2581started\": -5.16711950302124, \"\\u2581done\": -5.16711950302124, \"\\u2581known\": -5.16711950302124, \"\\u2581drifted\": -5.29211950302124, \"\\u2581stared\": -5.41711950302124}, {\"\\u2581a\": -0.038917794823646545, \"\\u2581overlooked\": -4.0389180183410645, \"\\u2581underestimated\": -5.9139180183410645, \"\\u2581dismissed\": -6.0389180183410645, \"\\u2581the\": -6.038918018\n",
      "2025-05-13 10:59:31,402 [INFO ] [api_client.api_clien]: Received 20 token strings (finish_reason=length).\n",
      "2025-05-13 10:59:31,403 [WARNI] [validators.slop_phra]: Slop violation: 'shadows' @tok=297 (char_pos=1218) …or – always chasing shadows, always…\n",
      "2025-05-13 10:59:31,404 [WARNI] [core.sampler        ]: Back-tracking @tok=297 orig='▁shadows' ban='{'phrase': 'shadows', 'context': 'or – always chasing shadows, always', 'suppression_detail_key': 'shadows'}'.\n",
      "2025-05-13 10:59:31,404 [INFO ] [state.generation_sta]: GenerationState initialised. Prompt length (chars) = 266\n",
      "2025-05-13 10:59:31,404 [INFO ] [state.generation_sta]: GenerationState initialised. Prompt length (chars) = 266\n",
      "2025-05-13 10:59:31,404 [INFO ] [state.generation_sta]: GenerationState initialised. Prompt length (chars) = 266\n",
      "2025-05-13 10:59:31,404 [INFO ] [state.generation_sta]: GenerationState initialised. Prompt length (chars) = 266\n",
      "2025-05-13 10:59:31,404 [INFO ] [state.generation_sta]: GenerationState initialised. Prompt length (chars) = 266\n",
      "2025-05-13 10:59:31,405 [INFO ] [state.generation_sta]: GenerationState initialised. Prompt length (chars) = 266\n",
      "2025-05-13 10:59:31,405 [INFO ] [state.generation_sta]: GenerationState initialised. Prompt length (chars) = 266\n",
      "2025-05-13 10:59:31,405 [INFO ] [state.generation_sta]: GenerationState initialised. Prompt length (chars) = 266\n",
      "2025-05-13 10:59:31,405 [INFO ] [state.generation_sta]: GenerationState initialised. Prompt length (chars) = 266\n",
      "2025-05-13 10:59:31,405 [INFO ] [state.generation_sta]: GenerationState initialised. Prompt length (chars) = 266\n",
      "2025-05-13 10:59:31,405 [INFO ] [state.generation_sta]: GenerationState initialised. Prompt length (chars) = 266\n",
      "2025-05-13 10:59:31,405 [INFO ] [state.generation_sta]: GenerationState initialised. Prompt length (chars) = 266\n",
      "2025-05-13 10:59:31,405 [INFO ] [state.generation_sta]: GenerationState initialised. Prompt length (chars) = 266\n",
      "2025-05-13 10:59:31,405 [INFO ] [state.generation_sta]: GenerationState initialised. Prompt length (chars) = 266\n",
      "2025-05-13 10:59:31,405 [INFO ] [state.generation_sta]: GenerationState initialised. Prompt length (chars) = 266\n",
      "2025-05-13 10:59:31,405 [INFO ] [state.generation_sta]: GenerationState initialised. Prompt length (chars) = 266\n",
      "2025-05-13 10:59:31,405 [INFO ] [state.generation_sta]: GenerationState initialised. Prompt length (chars) = 266\n",
      "2025-05-13 10:59:31,405 [INFO ] [state.generation_sta]: GenerationState initialised. Prompt length (chars) = 266\n",
      "2025-05-13 10:59:31,405 [INFO ] [state.generation_sta]: GenerationState initialised. Prompt length (chars) = 266\n",
      "2025-05-13 10:59:31,405 [WARNI] [core.sampler        ]:     ✓ replacement='▁the' (pool=2, T=0.7, min_p=0.05, top_p=1.0, top_k=50)\n",
      "2025-05-13 10:59:31,405 [DEBUG] [root                ]: BANNED (prompt_idx=0, type=slop_phrase, phrase='shadows' @ orig_token='▁shadows' ...'or – always chasing shadows, always'...)\n",
      "2025-05-13 10:59:31,406 [DEBUG] [api_client.api_clien]: POST https://ncfi2yswjottwq-8888.proxy.runpod.net/v1/completions\n",
      "2025-05-13 10:59:31,406 [DEBUG] [api_client.api_clien]: Payload: {\"model\": \"unsloth/gemma-3-4b-it\", \"prompt\": \"<bos><start_of_turn>user\\nWriting prompt: After defeating the Devil down in Georgia, Johnny proudly proclaims he's the best that's ever been. A flash of lightning crashes down and God appears, fiddle in hand. The Devil gets his popcorn ready.\\n\\nWrite 1000 words to this prompt. Your response:\\n<end_of_turn>\\n<start_of_turn>model\\nThe rain in Georgia was a greasy, insistent thing, clinging to everything with the stubbornness of regret. It mirrored the\n"
     ]
    },
    {
     "name": "stdout",
     "output_type": "stream",
     "text": [
      "Batch Generating:   0%|          | 0/1 [00:11<?, ?prompt/s, 31.0 tok/s]"
     ]
    },
    {
     "name": "stderr",
     "output_type": "stream",
     "text": [
      "2025-05-13 10:59:32,759 [DEBUG] [urllib3.connectionpo]: https://ncfi2yswjottwq-8888.proxy.runpod.net:443 \"POST /v1/completions HTTP/1.1\" 200 None\n",
      "2025-05-13 10:59:32,928 [DEBUG] [api_client.api_clien]: Raw response: {\"id\": \"cmpl-ae98840ab01343d3807ddf777deaa540\", \"object\": \"text_completion\", \"created\": 1747097977, \"model\": \"unsloth/gemma-3-4b-it\", \"choices\": [{\"index\": 0, \"text\": \" bad guys, always trying to make things right. But this\\u2026 this was different. This was legendary\", \"logprobs\": {\"text_offset\": [0, 4, 9, 10, 17, 24, 27, 32, 39, 45, 46, 50, 55, 56, 61, 65, 75, 76, 81, 85], \"token_logprobs\": [-0.58945631980896, -0.019395343959331512, -0.0013778250431641936, -0.018206268548965454, -0.8117937445640564, -5.221230458118953e-05, -0.1599835753440857, -0.013032379560172558, -0.05450613051652908, -0.024735039100050926, -0.21893347799777985, -0.03715186193585396, -0.22631502151489258, -0.03470518812537193, -0.01535416953265667, -0.016293223947286606, -8.344646857949556e-07, -0.009779755026102066, -0.10889525711536407, -2.5093164443969727], \"tokens\": [\"\\u2581bad\", \"\\u2581guys\", \",\", \"\\u2581always\", \"\\u2581trying\", \"\\u2581to\", \"\\u2581make\", \"\\u2581things\", \"\\u2581right\", \".\", \"\\u2581But\", \"\\u2581this\", \"\\u2026\", \"\\u2581this\", \"\\u2581was\", \"\\u2581different\", \".\", \"\\u2581This\", \"\\u2581was\", \"\\u2581legendary\"], \"top_logprobs\": [{\"\\u2581bad\": -0.58945631980896, \"\\u2581shadows\": -1.58945631980896, \"\\u2581darkness\": -1.96445631980896, \"\\u2581next\": -3.08945631980896, \"\\u2581dark\": -3.83945631980896, \"\\u2581shadow\": -4.714456558227539, \"\\u2581wrong\": -5.339456558227539, \"\\u2581edge\": -5.839456558227539, \"\\u2581line\": -6.464456558227539, \"\\u2581lost\": -6.464456558227539, \"\\u2581shadowy\": -6.589456558227539, \"\\u2581trouble\": -6.714456558227539, \"\\u2581fringes\": -6.964456558227539, \"\\u2581low\": -7.214456558227539, \"\\u2581monsters\": -7.589456558227539, \"\\u2581things\": -7.589456558227539, \"\\u2581darker\": -7.714456558227539, \"\\u2581edges\": -7.714456558227539, \"\\u2581worst\": -7.964456558227539, \"\\u2581gr\": -7.964456558227539}, {\"\\u2581guys\": -0.019395343959331512, \",\": -4.019395351409912, \"\\u2581things\": -7.394395351409912, \"\\u2581stuff\": -8.394394874572754, \"\\u2581and\": -8.644394874572754\n",
      "2025-05-13 10:59:32,928 [INFO ] [api_client.api_clien]: Received 20 token strings (finish_reason=length).\n",
      "2025-05-13 10:59:32,929 [WARNI] [validators.slop_phra]: Slop violation: 'make things right' @tok=304 (char_pos=1249) …s, always trying to make things right. But this… this was…\n",
      "2025-05-13 10:59:32,929 [WARNI] [validators.ngram_val]: NGram violation: 'trying make' (stopwords_removed=True) @tok=302 (char_pos=1239). Context: ... chasing the bad guys, always trying to make things right. But this… th...\n",
      "2025-05-13 10:59:32,929 [WARNI] [core.sampler        ]: Back-tracking @tok=302 orig='▁trying' ban='{'ngram_tuple': ['trying', 'make'], 'ngram_string': 'trying make', 'remove_stopwords_active': True, 'context': ' chasing the bad guys, always trying to make things right. But this… th', 'suppression_detail_key': 'trying make (stopwords_removed=True)'}'.\n",
      "2025-05-13 10:59:32,929 [INFO ] [state.generation_sta]: GenerationState initialised. Prompt length (chars) = 266\n",
      "2025-05-13 10:59:32,930 [INFO ] [state.generation_sta]: GenerationState initialised. Prompt length (chars) = 266\n",
      "2025-05-13 10:59:32,930 [INFO ] [state.generation_sta]: GenerationState initialised. Prompt length (chars) = 266\n",
      "2025-05-13 10:59:32,930 [INFO ] [state.generation_sta]: GenerationState initialised. Prompt length (chars) = 266\n",
      "2025-05-13 10:59:32,930 [INFO ] [state.generation_sta]: GenerationState initialised. Prompt length (chars) = 266\n",
      "2025-05-13 10:59:32,930 [INFO ] [state.generation_sta]: GenerationState initialised. Prompt length (chars) = 266\n",
      "2025-05-13 10:59:32,930 [INFO ] [state.generation_sta]: GenerationState initialised. Prompt length (chars) = 266\n",
      "2025-05-13 10:59:32,930 [INFO ] [state.generation_sta]: GenerationState initialised. Prompt length (chars) = 266\n",
      "2025-05-13 10:59:32,930 [INFO ] [state.generation_sta]: GenerationState initialised. Prompt length (chars) = 266\n",
      "2025-05-13 10:59:32,930 [INFO ] [state.generation_sta]: GenerationState initialised. Prompt length (chars) = 266\n",
      "2025-05-13 10:59:32,930 [INFO ] [state.generation_sta]: GenerationState initialised. Prompt length (chars) = 266\n",
      "2025-05-13 10:59:32,930 [INFO ] [state.generation_sta]: GenerationState initialised. Prompt length (chars) = 266\n",
      "2025-05-13 10:59:32,930 [INFO ] [state.generation_sta]: GenerationState initialised. Prompt length (chars) = 266\n",
      "2025-05-13 10:59:32,930 [INFO ] [state.generation_sta]: GenerationState initialised. Prompt length (chars) = 266\n",
      "2025-05-13 10:59:32,930 [INFO ] [state.generation_sta]: GenerationState initialised. Prompt length (chars) = 266\n",
      "2025-05-13 10:59:32,930 [INFO ] [state.generation_sta]: GenerationState initialised. Prompt length (chars) = 266\n",
      "2025-05-13 10:59:32,930 [INFO ] [state.generation_sta]: GenerationState initialised. Prompt length (chars) = 266\n",
      "2025-05-13 10:59:32,930 [INFO ] [state.generation_sta]: GenerationState initialised. Prompt length (chars) = 266\n",
      "2025-05-13 10:59:32,930 [INFO ] [state.generation_sta]: GenerationState initialised. Prompt length (chars) = 266\n",
      "2025-05-13 10:59:32,930 [WARNI] [core.sampler        ]:     ✓ replacement='▁getting' (pool=6, T=0.7, min_p=0.05, top_p=1.0, top_k=50)\n",
      "2025-05-13 10:59:32,930 [DEBUG] [root                ]: BANNED (prompt_idx=0, type=ngram, ngram='trying make' (stopwords_removed=True) @ orig_token='▁trying' ...'chasing the bad guys, always trying to make things right. But this… th'...)\n",
      "2025-05-13 10:59:32,931 [DEBUG] [api_client.api_clien]: POST https://ncfi2yswjottwq-8888.proxy.runpod.net/v1/completions\n",
      "2025-05-13 10:59:32,931 [DEBUG] [api_client.api_clien]: Payload: {\"model\": \"unsloth/gemma-3-4b-it\", \"prompt\": \"<bos><start_of_turn>user\\nWriting prompt: After defeating the Devil down in Georgia, Johnny proudly proclaims he's the best that's ever been. A flash of lightning crashes down and God appears, fiddle in hand. The Devil gets his popcorn ready.\\n\\nWrite 1000 words to this prompt. Your response:\\n<end_of_turn>\\n<start_of_turn>model\\nThe rain in Georgia was a greasy, insistent thing, clinging to everything with the stubbornness of regret. It mirrored the\n"
     ]
    },
    {
     "name": "stdout",
     "output_type": "stream",
     "text": [
      "Batch Generating:   0%|          | 0/1 [00:12<?, ?prompt/s, 27.2 tok/s]"
     ]
    },
    {
     "name": "stderr",
     "output_type": "stream",
     "text": [
      "2025-05-13 10:59:33,461 [DEBUG] [urllib3.connectionpo]: https://ncfi2yswjottwq-8888.proxy.runpod.net:443 \"POST /v1/completions HTTP/1.1\" 200 None\n",
      "2025-05-13 10:59:33,516 [DEBUG] [api_client.api_clien]: Raw response: {\"id\": \"cmpl-c7613191cea141cabffe8b267b5bcb02\", \"object\": \"text_completion\", \"created\": 1747097978, \"model\": \"unsloth/gemma-3-4b-it\", \"choices\": [{\"index\": 0, \"text\": \" the job done. But this\\u2026 this was different. This was a legend. \\n\\nSuddenly,\", \"logprobs\": {\"text_offset\": [0, 4, 8, 13, 14, 18, 23, 24, 29, 33, 43, 44, 49, 53, 55, 62, 63, 64, 66, 74], \"token_logprobs\": [-1.0255756378173828, -0.02807716652750969, -7.152555099310121e-07, -0.04880374297499657, -0.004066176246851683, -0.009143739938735962, -0.23822735249996185, -0.039243027567863464, -0.013998654671013355, -0.011869519017636776, -1.4305104514278355e-06, -0.00944066047668457, -0.14511427283287048, -0.9680928587913513, -0.6397480964660645, -0.1583026647567749, -0.22527949512004852, -1.7881377516459906e-06, -2.2822272777557373, -1.1920928244535389e-07], \"tokens\": [\"\\u2581the\", \"\\u2581job\", \"\\u2581done\", \".\", \"\\u2581But\", \"\\u2581this\", \"\\u2026\", \"\\u2581this\", \"\\u2581was\", \"\\u2581different\", \".\", \"\\u2581This\", \"\\u2581was\", \"\\u2581a\", \"\\u2581legend\", \".\", \"\\u2581\", \"\\n\\n\", \"Suddenly\", \",\"], \"top_logprobs\": [{\"\\u2581the\": -1.0255756378173828, \"\\u2581them\": -0.525575578212738, \"\\u2581his\": -4.525575637817383, \"\\u2581justice\": -4.650575637817383, \"\\u2581a\": -5.025575637817383, \"\\u2581things\": -5.775575637817383, \"\\u2581into\": -5.900575637817383, \"\\u2581in\": -6.025575637817383, \"\\u2581closer\": -6.275575637817383, \"\\u2581close\": -6.400575637817383, \"\\u2581it\": -6.775575637817383, \"\\u2581\\u2018\": -6.900575637817383, \"\\u2581paid\": -6.900575637817383, \"\\u2581tangled\": -7.025575637817383, \"\\u2581their\": -7.150575637817383, \"\\u2581involved\": -7.150575637817383, \"\\u2581results\": -7.275575637817383, \"\\u2581one\": -7.400575637817383, \"\\u2581by\": -7.650575637817383, \"\\u2581those\": -7.775575637817383}, {\"\\u2581job\": -0.02807716652750969, \"\\u2581bad\": -3.7780771255493164, \"\\u2581victory\": -6.778077125549316, \"\\u2581right\": -7.028077125549316, \"\\u2581upper\": -7.528077125549316, \"\\u2581justice\": -7.653077125549316, \"\\u258\n",
      "2025-05-13 10:59:33,517 [INFO ] [api_client.api_clien]: Received 20 token strings (finish_reason=length).\n",
      "2025-05-13 10:59:33,519 [DEBUG] [api_client.api_clien]: POST https://ncfi2yswjottwq-8888.proxy.runpod.net/v1/completions\n",
      "2025-05-13 10:59:33,519 [DEBUG] [api_client.api_clien]: Payload: {\"model\": \"unsloth/gemma-3-4b-it\", \"prompt\": \"<bos><start_of_turn>user\\nWriting prompt: After defeating the Devil down in Georgia, Johnny proudly proclaims he's the best that's ever been. A flash of lightning crashes down and God appears, fiddle in hand. The Devil gets his popcorn ready.\\n\\nWrite 1000 words to this prompt. Your response:\\n<end_of_turn>\\n<start_of_turn>model\\nThe rain in Georgia was a greasy, insistent thing, clinging to everything with the stubbornness of regret. It mirrored the\n"
     ]
    },
    {
     "name": "stdout",
     "output_type": "stream",
     "text": [
      "Batch Generating:   0%|          | 0/1 [00:13<?, ?prompt/s, 27.6 tok/s]"
     ]
    },
    {
     "name": "stderr",
     "output_type": "stream",
     "text": [
      "2025-05-13 10:59:34,057 [DEBUG] [urllib3.connectionpo]: https://ncfi2yswjottwq-8888.proxy.runpod.net:443 \"POST /v1/completions HTTP/1.1\" 200 None\n",
      "2025-05-13 10:59:34,107 [DEBUG] [api_client.api_clien]: Raw response: {\"id\": \"cmpl-585bbd55401e43f887fc49210b7ba68c\", \"object\": \"text_completion\", \"created\": 1747097979, \"model\": \"unsloth/gemma-3-4b-it\", \"choices\": [{\"index\": 0, \"text\": \" the world fractured. The rain intensified, the wind howled, and the air crackled with an\", \"logprobs\": {\"text_offset\": [0, 4, 10, 20, 21, 25, 30, 42, 43, 47, 52, 56, 59, 60, 64, 68, 72, 78, 81, 86], \"token_logprobs\": [-0.02978721261024475, -1.7902941703796387, -0.9396238327026367, -0.03926434740424156, -0.19165372848510742, -0.07413116097450256, -0.8098275065422058, -0.10691889375448227, -2.0767154693603516, -0.14782941341400146, -0.20762555301189423, -3.576278118089249e-07, -0.4525490999221802, -0.0007407305529341102, -0.6972571611404419, -0.28136518597602844, -0.32199209928512573, -7.152555099310121e-07, -0.00019453064305707812, -0.08016993850469589], \"tokens\": [\"\\u2581the\", \"\\u2581world\", \"\\u2581fractured\", \".\", \"\\u2581The\", \"\\u2581rain\", \"\\u2581intensified\", \",\", \"\\u2581the\", \"\\u2581wind\", \"\\u2581how\", \"led\", \",\", \"\\u2581and\", \"\\u2581the\", \"\\u2581air\", \"\\u2581crack\", \"led\", \"\\u2581with\", \"\\u2581an\"], \"top_logprobs\": [{\"\\u2581the\": -0.02978721261024475, \"\\u2581a\": -3.529787302017212, \"\\u2581and\": -10.904787063598633, \"\\u2581an\": -11.654787063598633, \"\\u2581lightning\": -12.404787063598633, \"\\u2581with\": -13.279787063598633, \"\\u2581above\": -13.779787063598633, \"\\u2581silence\": -14.029787063598633, \"\\u2581everything\": -14.404787063598633, \"\\u2581there\": -14.904787063598633, \"\\u2581blinding\": -15.154787063598633, \"\\u2581something\": -15.904787063598633, \"\\u2581every\": -16.029787063598633, \"\\u2581it\": -16.029787063598633, \"\\u2581another\": -16.404787063598633, \"\\u2581as\": -16.529787063598633, \"\\u2581all\": -16.529787063598633, \"\\u2581thunder\": -16.654787063598633, \"\\u2581crack\": -16.779787063598633, \"\\u2581not\": -16.904787063598633}, {\"\\u2581world\": -1.7902941703796387, \"\\u2581sky\": -0.9152942299842834, \"\\u2581rain\": -1.5402941703796387, \"\\u2581air\": -1.6652941703796387, \"\\u2581heavens\": -4.79029417037963\n",
      "2025-05-13 10:59:34,107 [INFO ] [api_client.api_clien]: Received 20 token strings (finish_reason=length).\n",
      "2025-05-13 10:59:34,109 [WARNI] [validators.slop_phra]: Slop violation: 'crackled' @tok=339 (char_pos=1394) …howled, and the air crackled with an…\n",
      "2025-05-13 10:59:34,109 [WARNI] [validators.ngram_val]: NGram violation: 'air crackled' (stopwords_removed=True) @tok=338 (char_pos=1390). Context: ...ied, the wind howled, and the air crackled with an...\n",
      "2025-05-13 10:59:34,109 [WARNI] [core.sampler        ]: Back-tracking @tok=338 orig='▁air' ban='{'ngram_tuple': ['air', 'crackled'], 'ngram_string': 'air crackled', 'remove_stopwords_active': True, 'context': 'ied, the wind howled, and the air crackled with an', 'suppression_detail_key': 'air crackled (stopwords_removed=True)'}'.\n",
      "2025-05-13 10:59:34,109 [INFO ] [state.generation_sta]: GenerationState initialised. Prompt length (chars) = 266\n",
      "2025-05-13 10:59:34,110 [INFO ] [state.generation_sta]: GenerationState initialised. Prompt length (chars) = 266\n",
      "2025-05-13 10:59:34,110 [INFO ] [state.generation_sta]: GenerationState initialised. Prompt length (chars) = 266\n",
      "2025-05-13 10:59:34,110 [INFO ] [state.generation_sta]: GenerationState initialised. Prompt length (chars) = 266\n",
      "2025-05-13 10:59:34,110 [INFO ] [state.generation_sta]: GenerationState initialised. Prompt length (chars) = 266\n",
      "2025-05-13 10:59:34,110 [INFO ] [state.generation_sta]: GenerationState initialised. Prompt length (chars) = 266\n",
      "2025-05-13 10:59:34,110 [INFO ] [state.generation_sta]: GenerationState initialised. Prompt length (chars) = 266\n",
      "2025-05-13 10:59:34,110 [INFO ] [state.generation_sta]: GenerationState initialised. Prompt length (chars) = 266\n",
      "2025-05-13 10:59:34,110 [INFO ] [state.generation_sta]: GenerationState initialised. Prompt length (chars) = 266\n",
      "2025-05-13 10:59:34,110 [INFO ] [state.generation_sta]: GenerationState initialised. Prompt length (chars) = 266\n",
      "2025-05-13 10:59:34,110 [INFO ] [state.generation_sta]: GenerationState initialised. Prompt length (chars) = 266\n",
      "2025-05-13 10:59:34,110 [INFO ] [state.generation_sta]: GenerationState initialised. Prompt length (chars) = 266\n",
      "2025-05-13 10:59:34,110 [INFO ] [state.generation_sta]: GenerationState initialised. Prompt length (chars) = 266\n",
      "2025-05-13 10:59:34,110 [INFO ] [state.generation_sta]: GenerationState initialised. Prompt length (chars) = 266\n",
      "2025-05-13 10:59:34,110 [INFO ] [state.generation_sta]: GenerationState initialised. Prompt length (chars) = 266\n",
      "2025-05-13 10:59:34,110 [INFO ] [state.generation_sta]: GenerationState initialised. Prompt length (chars) = 266\n",
      "2025-05-13 10:59:34,110 [INFO ] [state.generation_sta]: GenerationState initialised. Prompt length (chars) = 266\n",
      "2025-05-13 10:59:34,110 [INFO ] [state.generation_sta]: GenerationState initialised. Prompt length (chars) = 266\n",
      "2025-05-13 10:59:34,110 [INFO ] [state.generation_sta]: GenerationState initialised. Prompt length (chars) = 266\n",
      "2025-05-13 10:59:34,110 [WARNI] [core.sampler        ]:     ✓ replacement='▁sky' (pool=6, T=0.7, min_p=0.05, top_p=1.0, top_k=50)\n",
      "2025-05-13 10:59:34,111 [DEBUG] [root                ]: BANNED (prompt_idx=0, type=ngram, ngram='air crackled' (stopwords_removed=True) @ orig_token='▁air' ...'ied, the wind howled, and the air crackled with an'...)\n",
      "2025-05-13 10:59:34,111 [DEBUG] [api_client.api_clien]: POST https://ncfi2yswjottwq-8888.proxy.runpod.net/v1/completions\n",
      "2025-05-13 10:59:34,111 [DEBUG] [api_client.api_clien]: Payload: {\"model\": \"unsloth/gemma-3-4b-it\", \"prompt\": \"<bos><start_of_turn>user\\nWriting prompt: After defeating the Devil down in Georgia, Johnny proudly proclaims he's the best that's ever been. A flash of lightning crashes down and God appears, fiddle in hand. The Devil gets his popcorn ready.\\n\\nWrite 1000 words to this prompt. Your response:\\n<end_of_turn>\\n<start_of_turn>model\\nThe rain in Georgia was a greasy, insistent thing, clinging to everything with the stubbornness of regret. It mirrored the\n"
     ]
    },
    {
     "name": "stdout",
     "output_type": "stream",
     "text": [
      "Batch Generating:   0%|          | 0/1 [00:13<?, ?prompt/s, 27.5 tok/s]"
     ]
    },
    {
     "name": "stderr",
     "output_type": "stream",
     "text": [
      "2025-05-13 10:59:34,638 [DEBUG] [urllib3.connectionpo]: https://ncfi2yswjottwq-8888.proxy.runpod.net:443 \"POST /v1/completions HTTP/1.1\" 200 None\n",
      "2025-05-13 10:59:34,701 [DEBUG] [api_client.api_clien]: Raw response: {\"id\": \"cmpl-4832221703354750ab715aa58a167033\", \"object\": \"text_completion\", \"created\": 1747097979, \"model\": \"unsloth/gemma-3-4b-it\", \"choices\": [{\"index\": 0, \"text\": \" ripped open with a blinding flash of lightning. The air crackled with an energy that tasted like ozone\", \"logprobs\": {\"text_offset\": [0, 7, 12, 17, 19, 28, 34, 37, 47, 48, 52, 56, 62, 65, 70, 73, 80, 85, 92, 97], \"token_logprobs\": [-0.09511727839708328, -0.00522557133808732, -0.10967443138360977, -0.0033308761194348335, -0.07465226948261261, -0.028611017391085625, -0.00044228785554878414, -0.04051978513598442, -0.06329929828643799, -1.0941903591156006, -0.2740049362182617, -0.14788596332073212, -1.1920928244535389e-07, -0.0026670859660953283, -0.4829641580581665, -0.21609994769096375, -0.25332513451576233, -1.0712158679962158, -0.6376233100891113, -0.0019328974885866046], \"tokens\": [\"\\u2581ripped\", \"\\u2581open\", \"\\u2581with\", \"\\u2581a\", \"\\u2581blinding\", \"\\u2581flash\", \"\\u2581of\", \"\\u2581lightning\", \".\", \"\\u2581The\", \"\\u2581air\", \"\\u2581crack\", \"led\", \"\\u2581with\", \"\\u2581an\", \"\\u2581energy\", \"\\u2581that\", \"\\u2581tasted\", \"\\u2581like\", \"\\u2581ozone\"], \"top_logprobs\": [{\"\\u2581ripped\": -0.09511727839708328, \"\\u2581erupted\": -3.7201173305511475, \",\": -4.220117092132568, \"\\u2581above\": -4.220117092132568, \"\\u2581split\": -4.595117092132568, \"\\u2581tore\": -5.470117092132568, \"\\u2581unleashed\": -5.595117092132568, \"\\u2581exploded\": -5.595117092132568, \"\\u2581bled\": -5.720117092132568, \"\\u2581cracked\": -5.970117092132568, \"\\u2581opened\": -6.470117092132568, \"\\u2581ro\": -6.720117092132568, \"\\u2581pulsed\": -6.970117092132568, \"\\u2581turned\": -6.970117092132568, \"\\u2581ignited\": -6.970117092132568, \"\\u2581boiled\": -7.345117092132568, \"\\u2581peeled\": -7.470117092132568, \"\\u2581convuls\": -8.345117568969727, \"\\u2581overhead\": -8.470117568969727, \"\\u2581\\u2013\": -8.595117568969727}, {\"\\u2581open\": -0.00522557133808732, \"\\u2581apart\": -5.380225658416748, \"\\u2581itself\": -7.505225658416748, \"\\u2581with\": -10.3802251\n",
      "2025-05-13 10:59:34,701 [INFO ] [api_client.api_clien]: Received 20 token strings (finish_reason=length).\n",
      "2025-05-13 10:59:34,702 [WARNI] [validators.slop_phra]: Slop violation: 'blinding flash of light' @tok=343 (char_pos=1413) … ripped open with a blinding flash of lightning. The air crackl…\n",
      "2025-05-13 10:59:34,703 [WARNI] [validators.ngram_val]: NGram violation: 'air crackled' (stopwords_removed=True) @tok=349 (char_pos=1446). Context: ...nding flash of lightning. The air crackled with an energy that tasted li...\n",
      "2025-05-13 10:59:34,703 [WARNI] [core.sampler        ]: Back-tracking @tok=343 orig='▁blinding' ban='{'phrase': 'blinding flash of light', 'context': ' ripped open with a blinding flash of lightning. The air crackl', 'suppression_detail_key': 'blinding flash of light'}'.\n",
      "2025-05-13 10:59:34,703 [INFO ] [state.generation_sta]: GenerationState initialised. Prompt length (chars) = 266\n",
      "2025-05-13 10:59:34,703 [INFO ] [state.generation_sta]: GenerationState initialised. Prompt length (chars) = 266\n",
      "2025-05-13 10:59:34,703 [INFO ] [state.generation_sta]: GenerationState initialised. Prompt length (chars) = 266\n",
      "2025-05-13 10:59:34,703 [INFO ] [state.generation_sta]: GenerationState initialised. Prompt length (chars) = 266\n",
      "2025-05-13 10:59:34,703 [INFO ] [state.generation_sta]: GenerationState initialised. Prompt length (chars) = 266\n",
      "2025-05-13 10:59:34,703 [INFO ] [state.generation_sta]: GenerationState initialised. Prompt length (chars) = 266\n",
      "2025-05-13 10:59:34,703 [INFO ] [state.generation_sta]: GenerationState initialised. Prompt length (chars) = 266\n",
      "2025-05-13 10:59:34,703 [INFO ] [state.generation_sta]: GenerationState initialised. Prompt length (chars) = 266\n",
      "2025-05-13 10:59:34,703 [INFO ] [state.generation_sta]: GenerationState initialised. Prompt length (chars) = 266\n",
      "2025-05-13 10:59:34,703 [INFO ] [state.generation_sta]: GenerationState initialised. Prompt length (chars) = 266\n",
      "2025-05-13 10:59:34,703 [INFO ] [state.generation_sta]: GenerationState initialised. Prompt length (chars) = 266\n",
      "2025-05-13 10:59:34,703 [INFO ] [state.generation_sta]: GenerationState initialised. Prompt length (chars) = 266\n",
      "2025-05-13 10:59:34,704 [INFO ] [state.generation_sta]: GenerationState initialised. Prompt length (chars) = 266\n",
      "2025-05-13 10:59:34,704 [INFO ] [state.generation_sta]: GenerationState initialised. Prompt length (chars) = 266\n",
      "2025-05-13 10:59:34,704 [INFO ] [state.generation_sta]: GenerationState initialised. Prompt length (chars) = 266\n",
      "2025-05-13 10:59:34,704 [INFO ] [state.generation_sta]: GenerationState initialised. Prompt length (chars) = 266\n",
      "2025-05-13 10:59:34,704 [INFO ] [state.generation_sta]: GenerationState initialised. Prompt length (chars) = 266\n",
      "2025-05-13 10:59:34,704 [INFO ] [state.generation_sta]: GenerationState initialised. Prompt length (chars) = 266\n",
      "2025-05-13 10:59:34,704 [INFO ] [state.generation_sta]: GenerationState initialised. Prompt length (chars) = 266\n",
      "2025-05-13 10:59:34,704 [WARNI] [core.sampler        ]:     ✓ replacement='▁jagged' (pool=3, T=0.7, min_p=0.05, top_p=1.0, top_k=50)\n",
      "2025-05-13 10:59:34,704 [DEBUG] [root                ]: BANNED (prompt_idx=0, type=slop_phrase, phrase='blinding flash of light' @ orig_token='▁blinding' ...'ripped open with a blinding flash of lightning. The air crackl'...)\n",
      "2025-05-13 10:59:34,704 [DEBUG] [api_client.api_clien]: POST https://ncfi2yswjottwq-8888.proxy.runpod.net/v1/completions\n",
      "2025-05-13 10:59:34,704 [DEBUG] [api_client.api_clien]: Payload: {\"model\": \"unsloth/gemma-3-4b-it\", \"prompt\": \"<bos><start_of_turn>user\\nWriting prompt: After defeating the Devil down in Georgia, Johnny proudly proclaims he's the best that's ever been. A flash of lightning crashes down and God appears, fiddle in hand. The Devil gets his popcorn ready.\\n\\nWrite 1000 words to this prompt. Your response:\\n<end_of_turn>\\n<start_of_turn>model\\nThe rain in Georgia was a greasy, insistent thing, clinging to everything with the stubbornness of regret. It mirrored the\n"
     ]
    },
    {
     "name": "stdout",
     "output_type": "stream",
     "text": [
      "Batch Generating:   0%|          | 0/1 [00:14<?, ?prompt/s, 26.7 tok/s]"
     ]
    },
    {
     "name": "stderr",
     "output_type": "stream",
     "text": [
      "2025-05-13 10:59:35,232 [DEBUG] [urllib3.connectionpo]: https://ncfi2yswjottwq-8888.proxy.runpod.net:443 \"POST /v1/completions HTTP/1.1\" 200 None\n",
      "2025-05-13 10:59:35,294 [DEBUG] [api_client.api_clien]: Raw response: {\"id\": \"cmpl-e4b39b3df59b473ab2edbc3c288040f2\", \"object\": \"text_completion\", \"created\": 1747097980, \"model\": \"unsloth/gemma-3-4b-it\", \"choices\": [{\"index\": 0, \"text\": \" bolt of lightning, so bright it momentarily bleached the colors from the surrounding forest. The air crackled\", \"logprobs\": {\"text_offset\": [0, 5, 8, 18, 19, 22, 29, 32, 44, 53, 57, 64, 69, 73, 85, 92, 93, 97, 101, 107], \"token_logprobs\": [-1.1013437509536743, 0.0, -0.0228231530636549, -2.2209110260009766, -1.274169683456421, -0.19842614233493805, -0.0005404680268839002, -1.9236854314804077, -0.018093416467308998, -0.24832265079021454, -1.0351179838180542, -0.08053922653198242, -0.23180581629276276, -0.945953905582428, -0.7060450315475464, -7.283422019099817e-05, -1.7080693244934082, -0.11597758531570435, -0.1941099911928177, -1.1920928244535389e-07], \"tokens\": [\"\\u2581bolt\", \"\\u2581of\", \"\\u2581lightning\", \",\", \"\\u2581so\", \"\\u2581bright\", \"\\u2581it\", \"\\u2581momentarily\", \"\\u2581bleached\", \"\\u2581the\", \"\\u2581colors\", \"\\u2581from\", \"\\u2581the\", \"\\u2581surrounding\", \"\\u2581forest\", \".\", \"\\u2581The\", \"\\u2581air\", \"\\u2581crack\", \"led\"], \"top_logprobs\": [{\"\\u2581bolt\": -1.1013437509536743, \",\": -0.6013437509536743, \"\\u2581tear\": -3.2263436317443848, \"\\u2581streak\": -3.4763436317443848, \"\\u2581flash\": -3.7263436317443848, \"\\u2581fissure\": -4.726343631744385, \"\\u2581claw\": -5.851343631744385, \"\\u2581scar\": -5.851343631744385, \"\\u2581crack\": -6.101343631744385, \"\\u2581slash\": -6.101343631744385, \"\\u2581line\": -6.601343631744385, \"\\u2581white\": -7.226343631744385, \"\\u2581shard\": -7.851343631744385, \"\\u2581wound\": -7.976343631744385, \"\\u2581stroke\": -8.101344108581543, \"\\u2581vein\": -8.351344108581543, \"\\u2581lightning\": -8.601344108581543, \"\\u2581black\": -8.851344108581543, \"\\u2581scream\": -9.101344108581543, \"\\u2581g\": -9.101344108581543}, {\"\\u2581of\": 0.0, \"\\u2581that\": -18.25, \".\": -19.25, \",\": -20.125, \"\\u2581lightning\": -20.625, \"\\u2581so\": -21.0, \"\\u2581\\u2013\": -21.875, \"\\u2581from\": -22.375, \"\\u2581br\n",
      "2025-05-13 10:59:35,294 [INFO ] [api_client.api_clien]: Received 20 token strings (finish_reason=length).\n",
      "2025-05-13 10:59:35,295 [WARNI] [validators.slop_phra]: Slop violation: 'crackled' @tok=362 (char_pos=1521) …ing forest. The air crackled…\n",
      "2025-05-13 10:59:35,296 [WARNI] [validators.ngram_val]: NGram violation: 'air crackled' (stopwords_removed=True) @tok=361 (char_pos=1517). Context: ...m the surrounding forest. The air crackled...\n",
      "2025-05-13 10:59:35,296 [WARNI] [core.sampler        ]: Back-tracking @tok=361 orig='▁air' ban='{'ngram_tuple': ['air', 'crackled'], 'ngram_string': 'air crackled', 'remove_stopwords_active': True, 'context': 'm the surrounding forest. The air crackled', 'suppression_detail_key': 'air crackled (stopwords_removed=True)'}'.\n",
      "2025-05-13 10:59:35,296 [INFO ] [state.generation_sta]: GenerationState initialised. Prompt length (chars) = 266\n",
      "2025-05-13 10:59:35,296 [INFO ] [state.generation_sta]: GenerationState initialised. Prompt length (chars) = 266\n",
      "2025-05-13 10:59:35,296 [INFO ] [state.generation_sta]: GenerationState initialised. Prompt length (chars) = 266\n",
      "2025-05-13 10:59:35,296 [INFO ] [state.generation_sta]: GenerationState initialised. Prompt length (chars) = 266\n",
      "2025-05-13 10:59:35,296 [INFO ] [state.generation_sta]: GenerationState initialised. Prompt length (chars) = 266\n",
      "2025-05-13 10:59:35,296 [INFO ] [state.generation_sta]: GenerationState initialised. Prompt length (chars) = 266\n",
      "2025-05-13 10:59:35,296 [INFO ] [state.generation_sta]: GenerationState initialised. Prompt length (chars) = 266\n",
      "2025-05-13 10:59:35,296 [INFO ] [state.generation_sta]: GenerationState initialised. Prompt length (chars) = 266\n",
      "2025-05-13 10:59:35,296 [INFO ] [state.generation_sta]: GenerationState initialised. Prompt length (chars) = 266\n",
      "2025-05-13 10:59:35,296 [INFO ] [state.generation_sta]: GenerationState initialised. Prompt length (chars) = 266\n",
      "2025-05-13 10:59:35,296 [INFO ] [state.generation_sta]: GenerationState initialised. Prompt length (chars) = 266\n",
      "2025-05-13 10:59:35,296 [INFO ] [state.generation_sta]: GenerationState initialised. Prompt length (chars) = 266\n",
      "2025-05-13 10:59:35,296 [INFO ] [state.generation_sta]: GenerationState initialised. Prompt length (chars) = 266\n",
      "2025-05-13 10:59:35,296 [INFO ] [state.generation_sta]: GenerationState initialised. Prompt length (chars) = 266\n",
      "2025-05-13 10:59:35,296 [INFO ] [state.generation_sta]: GenerationState initialised. Prompt length (chars) = 266\n",
      "2025-05-13 10:59:35,296 [INFO ] [state.generation_sta]: GenerationState initialised. Prompt length (chars) = 266\n",
      "2025-05-13 10:59:35,297 [INFO ] [state.generation_sta]: GenerationState initialised. Prompt length (chars) = 266\n",
      "2025-05-13 10:59:35,297 [INFO ] [state.generation_sta]: GenerationState initialised. Prompt length (chars) = 266\n",
      "2025-05-13 10:59:35,297 [INFO ] [state.generation_sta]: GenerationState initialised. Prompt length (chars) = 266\n",
      "2025-05-13 10:59:35,297 [WARNI] [core.sampler        ]:     ✓ replacement='▁ground' (pool=3, T=0.7, min_p=0.05, top_p=1.0, top_k=50)\n",
      "2025-05-13 10:59:35,297 [DEBUG] [root                ]: BANNED (prompt_idx=0, type=ngram, ngram='air crackled' (stopwords_removed=True) @ orig_token='▁air' ...'m the surrounding forest. The air crackled'...)\n",
      "2025-05-13 10:59:35,297 [DEBUG] [api_client.api_clien]: POST https://ncfi2yswjottwq-8888.proxy.runpod.net/v1/completions\n",
      "2025-05-13 10:59:35,297 [DEBUG] [api_client.api_clien]: Payload: {\"model\": \"unsloth/gemma-3-4b-it\", \"prompt\": \"<bos><start_of_turn>user\\nWriting prompt: After defeating the Devil down in Georgia, Johnny proudly proclaims he's the best that's ever been. A flash of lightning crashes down and God appears, fiddle in hand. The Devil gets his popcorn ready.\\n\\nWrite 1000 words to this prompt. Your response:\\n<end_of_turn>\\n<start_of_turn>model\\nThe rain in Georgia was a greasy, insistent thing, clinging to everything with the stubbornness of regret. It mirrored the\n"
     ]
    },
    {
     "name": "stdout",
     "output_type": "stream",
     "text": [
      "Batch Generating:   0%|          | 0/1 [00:15<?, ?prompt/s, 26.8 tok/s]"
     ]
    },
    {
     "name": "stderr",
     "output_type": "stream",
     "text": [
      "2025-05-13 10:59:35,823 [DEBUG] [urllib3.connectionpo]: https://ncfi2yswjottwq-8888.proxy.runpod.net:443 \"POST /v1/completions HTTP/1.1\" 200 None\n",
      "2025-05-13 10:59:35,885 [DEBUG] [api_client.api_clien]: Raw response: {\"id\": \"cmpl-adf8655a72f4418b86610704d5d12718\", \"object\": \"text_completion\", \"created\": 1747097980, \"model\": \"unsloth/gemma-3-4b-it\", \"choices\": [{\"index\": 0, \"text\": \" trembled, and a hush fell over the clearing, deeper and more profound than the storm itself. \", \"logprobs\": {\"text_offset\": [0, 9, 10, 14, 16, 21, 26, 31, 35, 44, 45, 52, 56, 61, 70, 75, 79, 85, 92, 93], \"token_logprobs\": [-0.27728375792503357, -1.1083180904388428, -0.08505904674530029, -0.12293463200330734, -3.365389347076416, -0.06655345112085342, -0.5918689966201782, -0.7179754972457886, -0.4381606876850128, -0.07647054642438889, -1.0867016315460205, -0.327082097530365, -0.040651194751262665, -0.08361143618822098, -7.56950321374461e-05, -1.4840946197509766, -1.4108946323394775, -0.019060781225562096, -7.152555099310121e-07, -0.13444006443023682], \"tokens\": [\"\\u2581trembled\", \",\", \"\\u2581and\", \"\\u2581a\", \"\\u2581hush\", \"\\u2581fell\", \"\\u2581over\", \"\\u2581the\", \"\\u2581clearing\", \",\", \"\\u2581deeper\", \"\\u2581and\", \"\\u2581more\", \"\\u2581profound\", \"\\u2581than\", \"\\u2581the\", \"\\u2581storm\", \"\\u2581itself\", \".\", \"\\u2581\"], \"top_logprobs\": [{\"\\u2581trembled\": -0.27728375792503357, \"\\u2581vibr\": -1.527283787727356, \"\\u2581shudder\": -4.527283668518066, \"\\u2581shook\": -5.027283668518066, \"\\u2581beneath\": -5.402283668518066, \"\\u2581th\": -6.402283668518066, \"\\u2581pulsed\": -7.527283668518066, \"\\u2581seemed\": -7.777283668518066, \"\\u2581buck\": -8.652283668518066, \"\\u2581groaned\": -9.402283668518066, \"\\u2581itself\": -9.777283668518066, \"\\u2581hum\": -10.027283668518066, \"\\u2581r\": -10.152283668518066, \"\\u2581trembling\": -10.652283668518066, \"\\u2581began\": -11.027283668518066, \"\\u2581rattled\": -11.277283668518066, \"\\u2581shimmer\": -11.277283668518066, \"\\u2581Trem\": -11.402283668518066, \"\\u2581under\": -11.527283668518066, \"\\u2581sh\": -11.652283668518066}, {\",\": -1.1083180904388428, \".\": -1.1083180904388428, \"\\u2581beneath\": -1.1083180904388428, \"\\u2581under\": -5.483318328857422, \"\\u2581violently\": -5.608318328857422, \"\\\n",
      "2025-05-13 10:59:35,885 [INFO ] [api_client.api_clien]: Received 20 token strings (finish_reason=length).\n",
      "2025-05-13 10:59:35,886 [WARNI] [validators.slop_phra]: Slop violation: 'trembled' @tok=362 (char_pos=1524) … forest. The ground trembled, and a hush fell ov…\n",
      "2025-05-13 10:59:35,887 [WARNI] [core.sampler        ]: Back-tracking @tok=362 orig='▁trembled' ban='{'phrase': 'trembled', 'context': ' forest. The ground trembled, and a hush fell ov', 'suppression_detail_key': 'trembled'}'.\n",
      "2025-05-13 10:59:35,887 [INFO ] [state.generation_sta]: GenerationState initialised. Prompt length (chars) = 266\n",
      "2025-05-13 10:59:35,887 [INFO ] [state.generation_sta]: GenerationState initialised. Prompt length (chars) = 266\n",
      "2025-05-13 10:59:35,887 [INFO ] [state.generation_sta]: GenerationState initialised. Prompt length (chars) = 266\n",
      "2025-05-13 10:59:35,887 [INFO ] [state.generation_sta]: GenerationState initialised. Prompt length (chars) = 266\n",
      "2025-05-13 10:59:35,887 [INFO ] [state.generation_sta]: GenerationState initialised. Prompt length (chars) = 266\n",
      "2025-05-13 10:59:35,887 [INFO ] [state.generation_sta]: GenerationState initialised. Prompt length (chars) = 266\n",
      "2025-05-13 10:59:35,887 [INFO ] [state.generation_sta]: GenerationState initialised. Prompt length (chars) = 266\n",
      "2025-05-13 10:59:35,887 [INFO ] [state.generation_sta]: GenerationState initialised. Prompt length (chars) = 266\n",
      "2025-05-13 10:59:35,887 [INFO ] [state.generation_sta]: GenerationState initialised. Prompt length (chars) = 266\n",
      "2025-05-13 10:59:35,887 [INFO ] [state.generation_sta]: GenerationState initialised. Prompt length (chars) = 266\n",
      "2025-05-13 10:59:35,887 [INFO ] [state.generation_sta]: GenerationState initialised. Prompt length (chars) = 266\n",
      "2025-05-13 10:59:35,887 [INFO ] [state.generation_sta]: GenerationState initialised. Prompt length (chars) = 266\n",
      "2025-05-13 10:59:35,887 [INFO ] [state.generation_sta]: GenerationState initialised. Prompt length (chars) = 266\n",
      "2025-05-13 10:59:35,887 [INFO ] [state.generation_sta]: GenerationState initialised. Prompt length (chars) = 266\n",
      "2025-05-13 10:59:35,887 [INFO ] [state.generation_sta]: GenerationState initialised. Prompt length (chars) = 266\n",
      "2025-05-13 10:59:35,888 [INFO ] [state.generation_sta]: GenerationState initialised. Prompt length (chars) = 266\n",
      "2025-05-13 10:59:35,888 [INFO ] [state.generation_sta]: GenerationState initialised. Prompt length (chars) = 266\n",
      "2025-05-13 10:59:35,888 [INFO ] [state.generation_sta]: GenerationState initialised. Prompt length (chars) = 266\n",
      "2025-05-13 10:59:35,888 [WARNI] [core.sampler        ]:     ✓ replacement='▁vibr' (pool=1, T=0.7, min_p=0.05, top_p=1.0, top_k=50)\n",
      "2025-05-13 10:59:35,888 [DEBUG] [root                ]: BANNED (prompt_idx=0, type=slop_phrase, phrase='trembled' @ orig_token='▁trembled' ...'forest. The ground trembled, and a hush fell ov'...)\n",
      "2025-05-13 10:59:35,888 [DEBUG] [api_client.api_clien]: POST https://ncfi2yswjottwq-8888.proxy.runpod.net/v1/completions\n",
      "2025-05-13 10:59:35,888 [DEBUG] [api_client.api_clien]: Payload: {\"model\": \"unsloth/gemma-3-4b-it\", \"prompt\": \"<bos><start_of_turn>user\\nWriting prompt: After defeating the Devil down in Georgia, Johnny proudly proclaims he's the best that's ever been. A flash of lightning crashes down and God appears, fiddle in hand. The Devil gets his popcorn ready.\\n\\nWrite 1000 words to this prompt. Your response:\\n<end_of_turn>\\n<start_of_turn>model\\nThe rain in Georgia was a greasy, insistent thing, clinging to everything with the stubbornness of regret. It mirrored the\n"
     ]
    },
    {
     "name": "stdout",
     "output_type": "stream",
     "text": [
      "Batch Generating:   0%|          | 0/1 [00:15<?, ?prompt/s, 25.8 tok/s]"
     ]
    },
    {
     "name": "stderr",
     "output_type": "stream",
     "text": [
      "2025-05-13 10:59:36,416 [DEBUG] [urllib3.connectionpo]: https://ncfi2yswjottwq-8888.proxy.runpod.net:443 \"POST /v1/completions HTTP/1.1\" 200 None\n",
      "2025-05-13 10:59:36,478 [DEBUG] [api_client.api_clien]: Raw response: {\"id\": \"cmpl-51aa992166914278b59ef6fa3d63526e\", \"object\": \"text_completion\", \"created\": 1747097981, \"model\": \"unsloth/gemma-3-4b-it\", \"choices\": [{\"index\": 0, \"text\": \"ated, a low, guttural rumble that seemed to emanate from the very core of the earth\", \"logprobs\": {\"text_offset\": [0, 4, 5, 7, 11, 12, 17, 21, 28, 33, 40, 43, 48, 51, 56, 60, 65, 70, 73, 77], \"token_logprobs\": [0.0, -0.6551387310028076, -0.8680999875068665, -0.391858845949173, -0.037467338144779205, -0.4527386426925659, 0.0, -0.23373965919017792, -0.0969880148768425, -1.3157391548156738, -5.125986263010418e-06, -0.6192195415496826, 0.0, -0.02988371253013611, -0.0027846628800034523, -0.19163423776626587, -0.1016610786318779, 0.0, -4.291525328881107e-06, -0.05683630332350731], \"tokens\": [\"ated\", \",\", \"\\u2581a\", \"\\u2581low\", \",\", \"\\u2581gutt\", \"ural\", \"\\u2581rumble\", \"\\u2581that\", \"\\u2581seemed\", \"\\u2581to\", \"\\u2581eman\", \"ate\", \"\\u2581from\", \"\\u2581the\", \"\\u2581very\", \"\\u2581core\", \"\\u2581of\", \"\\u2581the\", \"\\u2581earth\"], \"top_logprobs\": [{\"ated\": 0.0, \"atted\": -19.75, \"ATED\": -20.25, \"at\": -20.375, \"rated\": -23.0, \"eted\": -23.875, \"uted\": -24.625, \"assed\": -24.625, \"aded\": -25.125, \"ibrated\": -25.25, \"etted\": -25.25, \"atin\": -25.75, \"icated\": -26.25, \"Sed\": -26.375, \"at\\u00e9\": -26.5, \"anced\": -26.625, \"ante\": -26.625, \"ato\": -26.75, \"ates\": -27.125, \"antly\": -27.625}, {\",\": -0.6551387310028076, \"\\u2581beneath\": -0.9051387310028076, \".\": -3.4051387310028076, \"\\u2581with\": -3.4051387310028076, \"\\u2581under\": -4.905138969421387, \"\\u2581violently\": -6.155138969421387, \"\\u2581and\": -9.780138969421387, \"\\u2581like\": -10.155138969421387, \"\\u2581deep\": -10.655138969421387, \";\": -10.780138969421387, \"\\u2581\\u2013\": -10.905138969421387, \"\\u2581as\": -11.155138969421387, \"\\u2581intensely\": -11.655138969421387, \"\\u2581in\": -12.280138969421387, \"\\u2581subtly\": -12.530138969421387, \"\\u2581so\": -12.530138969421387, \"\\u2581deeply\": -12.655138969421387, \"\\u2581fiercely\": -13.030138969421387, \"\\u2581sharply\": -13.905138\n",
      "2025-05-13 10:59:36,478 [INFO ] [api_client.api_clien]: Received 20 token strings (finish_reason=length).\n",
      "2025-05-13 10:59:36,480 [DEBUG] [api_client.api_clien]: POST https://ncfi2yswjottwq-8888.proxy.runpod.net/v1/completions\n",
      "2025-05-13 10:59:36,480 [DEBUG] [api_client.api_clien]: Payload: {\"model\": \"unsloth/gemma-3-4b-it\", \"prompt\": \"<bos><start_of_turn>user\\nWriting prompt: After defeating the Devil down in Georgia, Johnny proudly proclaims he's the best that's ever been. A flash of lightning crashes down and God appears, fiddle in hand. The Devil gets his popcorn ready.\\n\\nWrite 1000 words to this prompt. Your response:\\n<end_of_turn>\\n<start_of_turn>model\\nThe rain in Georgia was a greasy, insistent thing, clinging to everything with the stubbornness of regret. It mirrored the\n"
     ]
    },
    {
     "name": "stdout",
     "output_type": "stream",
     "text": [
      "Batch Generating:   0%|          | 0/1 [00:16<?, ?prompt/s, 26.1 tok/s]"
     ]
    },
    {
     "name": "stderr",
     "output_type": "stream",
     "text": [
      "2025-05-13 10:59:37,012 [DEBUG] [urllib3.connectionpo]: https://ncfi2yswjottwq-8888.proxy.runpod.net:443 \"POST /v1/completions HTTP/1.1\" 200 None\n",
      "2025-05-13 10:59:37,074 [DEBUG] [api_client.api_clien]: Raw response: {\"id\": \"cmpl-1fa6091448e347d393405bb2f6410829\", \"object\": \"text_completion\", \"created\": 1747097982, \"model\": \"unsloth/gemma-3-4b-it\", \"choices\": [{\"index\": 0, \"text\": \". \\n\\nAnd then he saw him. \\n\\nStanding before the oak, bathed in the eerie\", \"logprobs\": {\"text_offset\": [0, 1, 2, 4, 7, 12, 15, 19, 23, 24, 25, 27, 35, 42, 46, 50, 51, 58, 61, 65], \"token_logprobs\": [-3.3378546504536644e-06, -0.5320946574211121, -8.344646857949556e-07, -0.33450546860694885, -0.0011050553293898702, -1.3326846361160278, -0.030614782124757767, -0.2548392713069916, -1.6927575416048057e-05, -0.4015711545944214, -3.6954811548639555e-06, -0.3489691913127899, -1.768107295036316, -1.3269551992416382, -0.5893427133560181, -0.5761992931365967, -0.4526340365409851, -6.19869097135961e-05, -0.14802055060863495, -0.6423267722129822], \"tokens\": [\".\", \"\\u2581\", \"\\n\\n\", \"And\", \"\\u2581then\", \"\\u2581he\", \"\\u2581saw\", \"\\u2581him\", \".\", \"\\u2581\", \"\\n\\n\", \"Standing\", \"\\u2581before\", \"\\u2581the\", \"\\u2581oak\", \",\", \"\\u2581bathed\", \"\\u2581in\", \"\\u2581the\", \"\\u2581eerie\"], \"top_logprobs\": [{\".\": -3.3378546504536644e-06, \",\": -12.87500286102295, \"\\u2581itself\": -14.12500286102295, \"\\u2581and\": -16.000003814697266, \"\\u2581before\": -18.125003814697266, \"\\u2581beneath\": -18.500003814697266, \"\\u2581\\u2013\": -19.625003814697266, \"\\u2581.\": -20.500003814697266, \"\\u2581as\": -21.000003814697266, \"..\": -21.625003814697266, \"\\u2581-\": -22.000003814697266, \";\": -22.750003814697266, \"\\u2019\": -22.750003814697266, \"\\u2581when\": -22.875003814697266, \"\\u2581below\": -23.000003814697266, \"\\u2026\": -23.375003814697266, \"\\u2581then\": -23.625003814697266, \".\\u201d\": -23.750003814697266, \".*\": -23.875003814697266, \"\\u2581He\": -24.500003814697266}, {\"\\u2581\": -0.5320946574211121, \"\\u2581And\": -1.4070947170257568, \"\\u2581\\u2581\": -2.532094717025757, \"\\n\\n\": -3.157094717025757, \"\\u2581Then\": -3.657094717025757, \"\\u2581When\": -4.032094478607178, \"\\u2581Johnny\": -7.157094478607178, \"\\u2581As\": -7.782094478607178, \"\\u2581A\": -8.65709495\n",
      "2025-05-13 10:59:37,074 [INFO ] [api_client.api_clien]: Received 20 token strings (finish_reason=length).\n",
      "2025-05-13 10:59:37,075 [WARNI] [validators.slop_phra]: Slop violation: 'eerie' @tok=402 (char_pos=1677) … oak, bathed in the eerie…\n",
      "2025-05-13 10:59:37,076 [WARNI] [core.sampler        ]: Back-tracking @tok=402 orig='▁eerie' ban='{'phrase': 'eerie', 'context': ' oak, bathed in the eerie', 'suppression_detail_key': 'eerie'}'.\n",
      "2025-05-13 10:59:37,076 [INFO ] [state.generation_sta]: GenerationState initialised. Prompt length (chars) = 266\n",
      "2025-05-13 10:59:37,076 [INFO ] [state.generation_sta]: GenerationState initialised. Prompt length (chars) = 266\n",
      "2025-05-13 10:59:37,076 [INFO ] [state.generation_sta]: GenerationState initialised. Prompt length (chars) = 266\n",
      "2025-05-13 10:59:37,076 [INFO ] [state.generation_sta]: GenerationState initialised. Prompt length (chars) = 266\n",
      "2025-05-13 10:59:37,076 [INFO ] [state.generation_sta]: GenerationState initialised. Prompt length (chars) = 266\n",
      "2025-05-13 10:59:37,076 [INFO ] [state.generation_sta]: GenerationState initialised. Prompt length (chars) = 266\n",
      "2025-05-13 10:59:37,076 [INFO ] [state.generation_sta]: GenerationState initialised. Prompt length (chars) = 266\n",
      "2025-05-13 10:59:37,076 [INFO ] [state.generation_sta]: GenerationState initialised. Prompt length (chars) = 266\n",
      "2025-05-13 10:59:37,076 [INFO ] [state.generation_sta]: GenerationState initialised. Prompt length (chars) = 266\n",
      "2025-05-13 10:59:37,076 [INFO ] [state.generation_sta]: GenerationState initialised. Prompt length (chars) = 266\n",
      "2025-05-13 10:59:37,076 [INFO ] [state.generation_sta]: GenerationState initialised. Prompt length (chars) = 266\n",
      "2025-05-13 10:59:37,076 [INFO ] [state.generation_sta]: GenerationState initialised. Prompt length (chars) = 266\n",
      "2025-05-13 10:59:37,076 [INFO ] [state.generation_sta]: GenerationState initialised. Prompt length (chars) = 266\n",
      "2025-05-13 10:59:37,076 [INFO ] [state.generation_sta]: GenerationState initialised. Prompt length (chars) = 266\n",
      "2025-05-13 10:59:37,076 [INFO ] [state.generation_sta]: GenerationState initialised. Prompt length (chars) = 266\n",
      "2025-05-13 10:59:37,077 [INFO ] [state.generation_sta]: GenerationState initialised. Prompt length (chars) = 266\n",
      "2025-05-13 10:59:37,077 [INFO ] [state.generation_sta]: GenerationState initialised. Prompt length (chars) = 266\n",
      "2025-05-13 10:59:37,077 [INFO ] [state.generation_sta]: GenerationState initialised. Prompt length (chars) = 266\n",
      "2025-05-13 10:59:37,077 [INFO ] [state.generation_sta]: GenerationState initialised. Prompt length (chars) = 266\n",
      "2025-05-13 10:59:37,077 [WARNI] [core.sampler        ]:     ✓ replacement='▁electric' (pool=3, T=0.7, min_p=0.05, top_p=1.0, top_k=50)\n",
      "2025-05-13 10:59:37,077 [DEBUG] [root                ]: BANNED (prompt_idx=0, type=slop_phrase, phrase='eerie' @ orig_token='▁eerie' ...'oak, bathed in the eerie'...)\n",
      "2025-05-13 10:59:37,077 [DEBUG] [api_client.api_clien]: POST https://ncfi2yswjottwq-8888.proxy.runpod.net/v1/completions\n",
      "2025-05-13 10:59:37,077 [DEBUG] [api_client.api_clien]: Payload: {\"model\": \"unsloth/gemma-3-4b-it\", \"prompt\": \"<bos><start_of_turn>user\\nWriting prompt: After defeating the Devil down in Georgia, Johnny proudly proclaims he's the best that's ever been. A flash of lightning crashes down and God appears, fiddle in hand. The Devil gets his popcorn ready.\\n\\nWrite 1000 words to this prompt. Your response:\\n<end_of_turn>\\n<start_of_turn>model\\nThe rain in Georgia was a greasy, insistent thing, clinging to everything with the stubbornness of regret. It mirrored the\n"
     ]
    },
    {
     "name": "stdout",
     "output_type": "stream",
     "text": [
      "Batch Generating:   0%|          | 0/1 [00:16<?, ?prompt/s, 26.4 tok/s]"
     ]
    },
    {
     "name": "stderr",
     "output_type": "stream",
     "text": [
      "2025-05-13 10:59:37,610 [DEBUG] [urllib3.connectionpo]: https://ncfi2yswjottwq-8888.proxy.runpod.net:443 \"POST /v1/completions HTTP/1.1\" 200 None\n",
      "2025-05-13 10:59:37,672 [DEBUG] [api_client.api_clien]: Raw response: {\"id\": \"cmpl-cc74db59df2c48049c00e06bc2d7cf34\", \"object\": \"text_completion\", \"created\": 1747097982, \"model\": \"unsloth/gemma-3-4b-it\", \"choices\": [{\"index\": 0, \"text\": \" glow, was a man unlike any Johnny had ever encountered. He wasn\\u2019t imposing in the way\", \"logprobs\": {\"text_offset\": [0, 5, 6, 10, 12, 16, 23, 27, 34, 38, 43, 55, 56, 59, 64, 65, 66, 75, 78, 82], \"token_logprobs\": [-0.2108146697282791, -0.05758552998304367, -0.0071951556019485, -0.05759025365114212, -0.25219032168388367, -0.878956139087677, -0.1024727001786232, -0.4298667013645172, -0.000856509490404278, -0.0006721144891344011, -0.07391096651554108, -0.00508100213482976, -0.11125026643276215, -0.3242836892604828, -0.575939416885376, 0.0, -0.897995114326477, -0.055503878742456436, -0.2560920715332031, -0.1515374779701233], \"tokens\": [\"\\u2581glow\", \",\", \"\\u2581was\", \"\\u2581a\", \"\\u2581man\", \"\\u2581unlike\", \"\\u2581any\", \"\\u2581Johnny\", \"\\u2581had\", \"\\u2581ever\", \"\\u2581encountered\", \".\", \"\\u2581He\", \"\\u2581wasn\", \"\\u2019\", \"t\", \"\\u2581imposing\", \"\\u2581in\", \"\\u2581the\", \"\\u2581way\"], \"top_logprobs\": [{\"\\u2581glow\": -0.2108146697282791, \"\\u2581blue\": -1.7108147144317627, \"\\u2581light\": -5.335814476013184, \"\\u2581glare\": -6.585814476013184, \"\\u2581after\": -6.585814476013184, \"\\u2581purple\": -6.960814476013184, \"\\u2581violet\": -8.460814476013184, \"\\u2581luminescence\": -9.085814476013184, \"\\u2581bloom\": -9.585814476013184, \"\\u2581green\": -9.585814476013184, \"\\u2581haze\": -9.960814476013184, \"\\u2581sheen\": -10.335814476013184, \"\\u2581shimmer\": -10.460814476013184, \"\\u2581white\": -10.460814476013184, \"\\u2581arc\": -10.585814476013184, \"\\u2581rain\": -10.710814476013184, \"\\u2581halo\": -11.210814476013184, \"\\u2581brilliance\": -11.210814476013184, \"\\u2581fury\": -11.335814476013184, \"\\u2581pall\": -11.460814476013184}, {\",\": -0.05758552998304367, \"\\u2581of\": -2.9325854778289795, \"\\u2581and\": -5.932585716247559, \"\\u2581was\": -10.432585716247559, \"\\u2581\\u2013\": -11.557585716247559, \"\\u2581that\": -12.93258571624755\n",
      "2025-05-13 10:59:37,672 [INFO ] [api_client.api_clien]: Received 20 token strings (finish_reason=length).\n",
      "2025-05-13 10:59:37,673 [WARNI] [validators.slop_phra]: Slop violation: 'glow' @tok=403 (char_pos=1686) …hed in the electric glow, was a man unlike a…\n",
      "2025-05-13 10:59:37,674 [WARNI] [core.sampler        ]: Back-tracking @tok=403 orig='▁glow' ban='{'phrase': 'glow', 'context': 'hed in the electric glow, was a man unlike a', 'suppression_detail_key': 'glow'}'.\n",
      "2025-05-13 10:59:37,674 [INFO ] [state.generation_sta]: GenerationState initialised. Prompt length (chars) = 266\n",
      "2025-05-13 10:59:37,674 [INFO ] [state.generation_sta]: GenerationState initialised. Prompt length (chars) = 266\n",
      "2025-05-13 10:59:37,674 [INFO ] [state.generation_sta]: GenerationState initialised. Prompt length (chars) = 266\n",
      "2025-05-13 10:59:37,674 [INFO ] [state.generation_sta]: GenerationState initialised. Prompt length (chars) = 266\n",
      "2025-05-13 10:59:37,674 [INFO ] [state.generation_sta]: GenerationState initialised. Prompt length (chars) = 266\n",
      "2025-05-13 10:59:37,674 [INFO ] [state.generation_sta]: GenerationState initialised. Prompt length (chars) = 266\n",
      "2025-05-13 10:59:37,674 [INFO ] [state.generation_sta]: GenerationState initialised. Prompt length (chars) = 266\n",
      "2025-05-13 10:59:37,674 [INFO ] [state.generation_sta]: GenerationState initialised. Prompt length (chars) = 266\n",
      "2025-05-13 10:59:37,674 [INFO ] [state.generation_sta]: GenerationState initialised. Prompt length (chars) = 266\n",
      "2025-05-13 10:59:37,674 [INFO ] [state.generation_sta]: GenerationState initialised. Prompt length (chars) = 266\n",
      "2025-05-13 10:59:37,674 [INFO ] [state.generation_sta]: GenerationState initialised. Prompt length (chars) = 266\n",
      "2025-05-13 10:59:37,674 [INFO ] [state.generation_sta]: GenerationState initialised. Prompt length (chars) = 266\n",
      "2025-05-13 10:59:37,674 [INFO ] [state.generation_sta]: GenerationState initialised. Prompt length (chars) = 266\n",
      "2025-05-13 10:59:37,674 [INFO ] [state.generation_sta]: GenerationState initialised. Prompt length (chars) = 266\n",
      "2025-05-13 10:59:37,675 [INFO ] [state.generation_sta]: GenerationState initialised. Prompt length (chars) = 266\n",
      "2025-05-13 10:59:37,675 [INFO ] [state.generation_sta]: GenerationState initialised. Prompt length (chars) = 266\n",
      "2025-05-13 10:59:37,675 [INFO ] [state.generation_sta]: GenerationState initialised. Prompt length (chars) = 266\n",
      "2025-05-13 10:59:37,675 [INFO ] [state.generation_sta]: GenerationState initialised. Prompt length (chars) = 266\n",
      "2025-05-13 10:59:37,675 [INFO ] [state.generation_sta]: GenerationState initialised. Prompt length (chars) = 266\n",
      "2025-05-13 10:59:37,675 [WARNI] [core.sampler        ]:     ✓ replacement='▁blue' (pool=1, T=0.7, min_p=0.05, top_p=1.0, top_k=50)\n",
      "2025-05-13 10:59:37,675 [DEBUG] [root                ]: BANNED (prompt_idx=0, type=slop_phrase, phrase='glow' @ orig_token='▁glow' ...'hed in the electric glow, was a man unlike a'...)\n",
      "2025-05-13 10:59:37,675 [DEBUG] [api_client.api_clien]: POST https://ncfi2yswjottwq-8888.proxy.runpod.net/v1/completions\n",
      "2025-05-13 10:59:37,675 [DEBUG] [api_client.api_clien]: Payload: {\"model\": \"unsloth/gemma-3-4b-it\", \"prompt\": \"<bos><start_of_turn>user\\nWriting prompt: After defeating the Devil down in Georgia, Johnny proudly proclaims he's the best that's ever been. A flash of lightning crashes down and God appears, fiddle in hand. The Devil gets his popcorn ready.\\n\\nWrite 1000 words to this prompt. Your response:\\n<end_of_turn>\\n<start_of_turn>model\\nThe rain in Georgia was a greasy, insistent thing, clinging to everything with the stubbornness of regret. It mirrored the\n"
     ]
    },
    {
     "name": "stdout",
     "output_type": "stream",
     "text": [
      "Batch Generating:   0%|          | 0/1 [00:17<?, ?prompt/s, 25.4 tok/s]"
     ]
    },
    {
     "name": "stderr",
     "output_type": "stream",
     "text": [
      "2025-05-13 10:59:38,206 [DEBUG] [urllib3.connectionpo]: https://ncfi2yswjottwq-8888.proxy.runpod.net:443 \"POST /v1/completions HTTP/1.1\" 200 None\n",
      "2025-05-13 10:59:38,268 [DEBUG] [api_client.api_clien]: Raw response: {\"id\": \"cmpl-49ff7ded29f349929c9fdc00cd45760b\", \"object\": \"text_completion\", \"created\": 1747097983, \"model\": \"unsloth/gemma-3-4b-it\", \"choices\": [{\"index\": 0, \"text\": \" light, was a figure that defied description. He was tall, impossibly so, radiating a warmth\", \"logprobs\": {\"text_offset\": [0, 6, 7, 11, 13, 20, 25, 32, 44, 45, 48, 52, 57, 58, 65, 69, 72, 73, 83, 85], \"token_logprobs\": [-0.959707498550415, -0.007195273879915476, -0.0035767885856330395, -0.14047536253929138, -1.502182960510254, -1.4391562938690186, -0.1646953523159027, -0.12888416647911072, -0.0452614352107048, -0.1236434280872345, -0.5292395353317261, -0.4187507927417755, -0.005256047938019037, -0.03889910504221916, 0.0, -0.16105777025222778, -0.00012587709352374077, -0.5486418008804321, -0.9935474395751953, -0.3541434109210968], \"tokens\": [\"\\u2581light\", \",\", \"\\u2581was\", \"\\u2581a\", \"\\u2581figure\", \"\\u2581that\", \"\\u2581defied\", \"\\u2581description\", \".\", \"\\u2581He\", \"\\u2581was\", \"\\u2581tall\", \",\", \"\\u2581imposs\", \"ibly\", \"\\u2581so\", \",\", \"\\u2581radiating\", \"\\u2581a\", \"\\u2581warmth\"], \"top_logprobs\": [{\"\\u2581light\": -0.959707498550415, \"\\u2581glow\": -0.584707498550415, \",\": -3.584707498550415, \"\\u2581of\": -3.709707498550415, \"\\u2581glare\": -5.959707260131836, \"\\u2581halo\": -6.209707260131836, \"\\u2581and\": -7.084707260131836, \"\\u2581after\": -7.459707260131836, \"\\u2581haze\": -7.584707260131836, \"-\": -8.584707260131836, \"\\u2581sheen\": -8.959707260131836, \"\\u2581flash\": -8.959707260131836, \"\\u2581shimmer\": -9.209707260131836, \"\\u2581flicker\": -9.334707260131836, \"\\u2581aura\": -9.584707260131836, \"\\u2581arc\": -9.959707260131836, \"\\u2581static\": -10.084707260131836, \"\\u2581radiance\": -10.209707260131836, \"\\u2581luminescence\": -10.834707260131836, \"\\u2581aftermath\": -11.084707260131836}, {\",\": -0.007195273879915476, \"\\u2581of\": -5.132195472717285, \"\\u2581and\": -6.757195472717285, \"\\u2581was\": -9.382195472717285, \"\\u2581\\u2013\": -12.132195472717285, \"\\u2581that\": -12.257195472717285, \"\\u2581were\": -12.382195\n",
      "2025-05-13 10:59:38,268 [INFO ] [api_client.api_clien]: Received 20 token strings (finish_reason=length).\n",
      "2025-05-13 10:59:38,269 [WARNI] [validators.slop_phra]: Slop violation: 'warmth' @tok=423 (char_pos=1776) …bly so, radiating a warmth…\n",
      "2025-05-13 10:59:38,270 [WARNI] [core.sampler        ]: Back-tracking @tok=423 orig='▁warmth' ban='{'phrase': 'warmth', 'context': 'bly so, radiating a warmth', 'suppression_detail_key': 'warmth'}'.\n",
      "2025-05-13 10:59:38,270 [INFO ] [state.generation_sta]: GenerationState initialised. Prompt length (chars) = 266\n",
      "2025-05-13 10:59:38,270 [INFO ] [state.generation_sta]: GenerationState initialised. Prompt length (chars) = 266\n",
      "2025-05-13 10:59:38,270 [INFO ] [state.generation_sta]: GenerationState initialised. Prompt length (chars) = 266\n",
      "2025-05-13 10:59:38,270 [INFO ] [state.generation_sta]: GenerationState initialised. Prompt length (chars) = 266\n",
      "2025-05-13 10:59:38,270 [INFO ] [state.generation_sta]: GenerationState initialised. Prompt length (chars) = 266\n",
      "2025-05-13 10:59:38,270 [INFO ] [state.generation_sta]: GenerationState initialised. Prompt length (chars) = 266\n",
      "2025-05-13 10:59:38,271 [INFO ] [state.generation_sta]: GenerationState initialised. Prompt length (chars) = 266\n",
      "2025-05-13 10:59:38,271 [INFO ] [state.generation_sta]: GenerationState initialised. Prompt length (chars) = 266\n",
      "2025-05-13 10:59:38,271 [INFO ] [state.generation_sta]: GenerationState initialised. Prompt length (chars) = 266\n",
      "2025-05-13 10:59:38,271 [INFO ] [state.generation_sta]: GenerationState initialised. Prompt length (chars) = 266\n",
      "2025-05-13 10:59:38,271 [INFO ] [state.generation_sta]: GenerationState initialised. Prompt length (chars) = 266\n",
      "2025-05-13 10:59:38,271 [INFO ] [state.generation_sta]: GenerationState initialised. Prompt length (chars) = 266\n",
      "2025-05-13 10:59:38,271 [INFO ] [state.generation_sta]: GenerationState initialised. Prompt length (chars) = 266\n",
      "2025-05-13 10:59:38,271 [INFO ] [state.generation_sta]: GenerationState initialised. Prompt length (chars) = 266\n",
      "2025-05-13 10:59:38,271 [INFO ] [state.generation_sta]: GenerationState initialised. Prompt length (chars) = 266\n",
      "2025-05-13 10:59:38,271 [INFO ] [state.generation_sta]: GenerationState initialised. Prompt length (chars) = 266\n",
      "2025-05-13 10:59:38,271 [INFO ] [state.generation_sta]: GenerationState initialised. Prompt length (chars) = 266\n",
      "2025-05-13 10:59:38,271 [INFO ] [state.generation_sta]: GenerationState initialised. Prompt length (chars) = 266\n",
      "2025-05-13 10:59:38,271 [WARNI] [core.sampler        ]:     ✓ replacement='▁light' (pool=4, T=0.7, min_p=0.05, top_p=1.0, top_k=50)\n",
      "2025-05-13 10:59:38,271 [DEBUG] [root                ]: BANNED (prompt_idx=0, type=slop_phrase, phrase='warmth' @ orig_token='▁warmth' ...'bly so, radiating a warmth'...)\n",
      "2025-05-13 10:59:38,271 [DEBUG] [api_client.api_clien]: POST https://ncfi2yswjottwq-8888.proxy.runpod.net/v1/completions\n",
      "2025-05-13 10:59:38,271 [DEBUG] [api_client.api_clien]: Payload: {\"model\": \"unsloth/gemma-3-4b-it\", \"prompt\": \"<bos><start_of_turn>user\\nWriting prompt: After defeating the Devil down in Georgia, Johnny proudly proclaims he's the best that's ever been. A flash of lightning crashes down and God appears, fiddle in hand. The Devil gets his popcorn ready.\\n\\nWrite 1000 words to this prompt. Your response:\\n<end_of_turn>\\n<start_of_turn>model\\nThe rain in Georgia was a greasy, insistent thing, clinging to everything with the stubbornness of regret. It mirrored the\n"
     ]
    },
    {
     "name": "stdout",
     "output_type": "stream",
     "text": [
      "Batch Generating:   0%|          | 0/1 [00:18<?, ?prompt/s, 25.7 tok/s]"
     ]
    },
    {
     "name": "stderr",
     "output_type": "stream",
     "text": [
      "2025-05-13 10:59:38,801 [DEBUG] [urllib3.connectionpo]: https://ncfi2yswjottwq-8888.proxy.runpod.net:443 \"POST /v1/completions HTTP/1.1\" 200 None\n",
      "2025-05-13 10:59:38,864 [DEBUG] [api_client.api_clien]: Raw response: {\"id\": \"cmpl-32a823bfed564c65ae9cbc32c91a3def\", \"object\": \"text_completion\", \"created\": 1747097983, \"model\": \"unsloth/gemma-3-4b-it\", \"choices\": [{\"index\": 0, \"text\": \" that didn\\u2019t burn but warmed, a presence that felt both ancient and utterly timeless. He wore\", \"logprobs\": {\"text_offset\": [0, 5, 10, 11, 12, 17, 21, 28, 29, 31, 40, 45, 50, 55, 63, 67, 75, 84, 85, 88], \"token_logprobs\": [-0.06297731399536133, -2.4154109954833984, -0.42870065569877625, 0.0, -0.1753213256597519, -0.38723981380462646, -1.000871181488037, -0.7158167362213135, -0.23711495101451874, -1.9285361766815186, -0.03257634490728378, -1.564659595489502, -0.26118004322052, -0.039021898061037064, 0.0, -0.40334275364875793, -2.1012027263641357, -2.3841855067985307e-07, -0.04768233373761177, -0.015463221818208694], \"tokens\": [\"\\u2581that\", \"\\u2581didn\", \"\\u2019\", \"t\", \"\\u2581burn\", \"\\u2581but\", \"\\u2581warmed\", \",\", \"\\u2581a\", \"\\u2581presence\", \"\\u2581that\", \"\\u2581felt\", \"\\u2581both\", \"\\u2581ancient\", \"\\u2581and\", \"\\u2581utterly\", \"\\u2581timeless\", \".\", \"\\u2581He\", \"\\u2581wore\"], \"top_logprobs\": [{\"\\u2581that\": -0.06297731399536133, \"\\u2581so\": -2.9379773139953613, \"\\u2581both\": -5.812977313995361, \"\\u2581almost\": -6.437977313995361, \"\\u2581not\": -7.187977313995361, \"\\u2581of\": -7.437977313995361, \"\\u2581too\": -7.437977313995361, \"\\u2581far\": -8.187976837158203, \"\\u2581unlike\": -8.437976837158203, \"\\u2581brighter\": -8.562976837158203, \"\\u2581and\": -8.562976837158203, \"\\u2581like\": -9.312976837158203, \"\\u2581simultaneously\": -9.562976837158203, \"\\u2581the\": -9.687976837158203, \"\\u2581\\u2013\": -9.812976837158203, \"\\u2581warm\": -10.187976837158203, \"\\u2581older\": -10.312976837158203, \"\\u2581more\": -10.437976837158203, \"\\u2581softer\": -10.437976837158203, \",\": -10.437976837158203}, {\"\\u2581didn\": -2.4154109954833984, \"\\u2581wasn\": -0.41541093587875366, \"\\u2581somehow\": -2.6654109954833984, \"\\u2581was\": -2.9154109954833984, \"\\u2581felt\": -3.1654109954833984, \"\\u2581simultaneously\": -3.7904109954833984\n",
      "2025-05-13 10:59:38,864 [INFO ] [api_client.api_clien]: Received 20 token strings (finish_reason=length).\n",
      "2025-05-13 10:59:38,865 [WARNI] [validators.slop_phra]: Slop violation: 'utterly' @tok=439 (char_pos=1849) …lt both ancient and utterly timeless. He wore…\n",
      "2025-05-13 10:59:38,866 [WARNI] [core.sampler        ]: Back-tracking @tok=439 orig='▁utterly' ban='{'phrase': 'utterly', 'context': 'lt both ancient and utterly timeless. He wore', 'suppression_detail_key': 'utterly'}'.\n",
      "2025-05-13 10:59:38,866 [INFO ] [state.generation_sta]: GenerationState initialised. Prompt length (chars) = 266\n",
      "2025-05-13 10:59:38,866 [INFO ] [state.generation_sta]: GenerationState initialised. Prompt length (chars) = 266\n",
      "2025-05-13 10:59:38,866 [INFO ] [state.generation_sta]: GenerationState initialised. Prompt length (chars) = 266\n",
      "2025-05-13 10:59:38,866 [INFO ] [state.generation_sta]: GenerationState initialised. Prompt length (chars) = 266\n",
      "2025-05-13 10:59:38,866 [INFO ] [state.generation_sta]: GenerationState initialised. Prompt length (chars) = 266\n",
      "2025-05-13 10:59:38,866 [INFO ] [state.generation_sta]: GenerationState initialised. Prompt length (chars) = 266\n",
      "2025-05-13 10:59:38,866 [INFO ] [state.generation_sta]: GenerationState initialised. Prompt length (chars) = 266\n",
      "2025-05-13 10:59:38,866 [INFO ] [state.generation_sta]: GenerationState initialised. Prompt length (chars) = 266\n",
      "2025-05-13 10:59:38,866 [INFO ] [state.generation_sta]: GenerationState initialised. Prompt length (chars) = 266\n",
      "2025-05-13 10:59:38,866 [INFO ] [state.generation_sta]: GenerationState initialised. Prompt length (chars) = 266\n",
      "2025-05-13 10:59:38,866 [INFO ] [state.generation_sta]: GenerationState initialised. Prompt length (chars) = 266\n",
      "2025-05-13 10:59:38,866 [INFO ] [state.generation_sta]: GenerationState initialised. Prompt length (chars) = 266\n",
      "2025-05-13 10:59:38,866 [INFO ] [state.generation_sta]: GenerationState initialised. Prompt length (chars) = 266\n",
      "2025-05-13 10:59:38,866 [INFO ] [state.generation_sta]: GenerationState initialised. Prompt length (chars) = 266\n",
      "2025-05-13 10:59:38,866 [INFO ] [state.generation_sta]: GenerationState initialised. Prompt length (chars) = 266\n",
      "2025-05-13 10:59:38,866 [INFO ] [state.generation_sta]: GenerationState initialised. Prompt length (chars) = 266\n",
      "2025-05-13 10:59:38,867 [INFO ] [state.generation_sta]: GenerationState initialised. Prompt length (chars) = 266\n",
      "2025-05-13 10:59:38,867 [INFO ] [state.generation_sta]: GenerationState initialised. Prompt length (chars) = 266\n",
      "2025-05-13 10:59:38,867 [INFO ] [state.generation_sta]: GenerationState initialised. Prompt length (chars) = 266\n",
      "2025-05-13 10:59:38,867 [WARNI] [core.sampler        ]:     ✓ replacement='▁profoundly' (pool=5, T=0.7, min_p=0.05, top_p=1.0, top_k=50)\n",
      "2025-05-13 10:59:38,867 [DEBUG] [root                ]: BANNED (prompt_idx=0, type=slop_phrase, phrase='utterly' @ orig_token='▁utterly' ...'lt both ancient and utterly timeless. He wore'...)\n",
      "2025-05-13 10:59:38,867 [DEBUG] [api_client.api_clien]: POST https://ncfi2yswjottwq-8888.proxy.runpod.net/v1/completions\n",
      "2025-05-13 10:59:38,867 [DEBUG] [api_client.api_clien]: Payload: {\"model\": \"unsloth/gemma-3-4b-it\", \"prompt\": \"<bos><start_of_turn>user\\nWriting prompt: After defeating the Devil down in Georgia, Johnny proudly proclaims he's the best that's ever been. A flash of lightning crashes down and God appears, fiddle in hand. The Devil gets his popcorn ready.\\n\\nWrite 1000 words to this prompt. Your response:\\n<end_of_turn>\\n<start_of_turn>model\\nThe rain in Georgia was a greasy, insistent thing, clinging to everything with the stubbornness of regret. It mirrored the\n"
     ]
    },
    {
     "name": "stdout",
     "output_type": "stream",
     "text": [
      "Batch Generating:   0%|          | 0/1 [00:18<?, ?prompt/s, 25.8 tok/s]"
     ]
    },
    {
     "name": "stderr",
     "output_type": "stream",
     "text": [
      "2025-05-13 10:59:39,401 [DEBUG] [urllib3.connectionpo]: https://ncfi2yswjottwq-8888.proxy.runpod.net:443 \"POST /v1/completions HTTP/1.1\" 200 None\n",
      "2025-05-13 10:59:39,568 [DEBUG] [api_client.api_clien]: Raw response: {\"id\": \"cmpl-8cb01d9bac174180ad4f1ae69ab39c39\", \"object\": \"text_completion\", \"created\": 1747097984, \"model\": \"unsloth/gemma-3-4b-it\", \"choices\": [{\"index\": 0, \"text\": \" sad. He wore a simple, dark coat, and in his hand, he held a fiddle.\", \"logprobs\": {\"text_offset\": [0, 4, 5, 8, 13, 15, 22, 23, 28, 33, 34, 38, 41, 45, 50, 51, 54, 59, 61, 68], \"token_logprobs\": [-0.34641653299331665, -6.556489552167477e-06, -0.044914789497852325, -0.021779177710413933, -0.04184693470597267, -0.1801971197128296, -0.014821886084973812, -0.07683225721120834, -2.210232973098755, -0.2386164665222168, -0.18693090975284576, -0.05201571062207222, -0.020599940791726112, -0.11698300391435623, -0.10118100792169571, -0.0362384095788002, -0.005416361149400473, -0.003916095942258835, -0.0019227842567488551, -0.11781778931617737], \"tokens\": [\"\\u2581sad\", \".\", \"\\u2581He\", \"\\u2581wore\", \"\\u2581a\", \"\\u2581simple\", \",\", \"\\u2581dark\", \"\\u2581coat\", \",\", \"\\u2581and\", \"\\u2581in\", \"\\u2581his\", \"\\u2581hand\", \",\", \"\\u2581he\", \"\\u2581held\", \"\\u2581a\", \"\\u2581fiddle\", \".\"], \"top_logprobs\": [{\"\\u2581sad\": -0.34641653299331665, \"\\u2581weary\": -2.596416473388672, \"\\u2581sorrow\": -2.721416473388672, \",\": -2.846416473388672, \"\\u2026\": -3.721416473388672, \"\\u2581familiar\": -4.096416473388672, \"\\u2581lonely\": -4.346416473388672, \"\\u2581aware\": -4.721416473388672, \"\\u2581unsettling\": -5.096416473388672, \"\\u2581serene\": -5.346416473388672, \"\\u2581gentle\": -6.096416473388672, \"\\u2581comforting\": -6.096416473388672, \"\\u2581present\": -6.471416473388672, \"\\u2581*\": -6.471416473388672, \"\\u2581melanch\": -6.471416473388672, \"\\u2581mourn\": -6.471416473388672, \"\\u2581tired\": -6.596416473388672, \"\\u2581melancholy\": -6.846416473388672, \"\\u2581calm\": -7.096416473388672, \"\\u2581knowing\": -7.096416473388672}, {\".\": -6.556489552167477e-06, \",\": -12.000006675720215, \"\\u2581\\u2013\": -15.125006675720215, \"\\u2581and\": -17.2500057220459, \"\\u2581-\": -17.3750057220459, \"\\u2581like\": -18.0000057220459, \"\\u2581all\": -18.1250057220459, \"der\":\n",
      "2025-05-13 10:59:39,568 [INFO ] [api_client.api_clien]: Received 20 token strings (finish_reason=length).\n",
      "2025-05-13 10:59:39,569 [WARNI] [validators.slop_phra]: Slop violation: 'profound' @tok=439 (char_pos=1849) …lt both ancient and profoundly sad. He wore a si…\n",
      "2025-05-13 10:59:39,570 [WARNI] [core.sampler        ]: Back-tracking @tok=439 orig='▁profoundly' ban='{'phrase': 'profound', 'context': 'lt both ancient and profoundly sad. He wore a si', 'suppression_detail_key': 'profound'}'.\n",
      "2025-05-13 10:59:39,570 [INFO ] [state.generation_sta]: GenerationState initialised. Prompt length (chars) = 266\n",
      "2025-05-13 10:59:39,570 [INFO ] [state.generation_sta]: GenerationState initialised. Prompt length (chars) = 266\n",
      "2025-05-13 10:59:39,570 [INFO ] [state.generation_sta]: GenerationState initialised. Prompt length (chars) = 266\n",
      "2025-05-13 10:59:39,570 [INFO ] [state.generation_sta]: GenerationState initialised. Prompt length (chars) = 266\n",
      "2025-05-13 10:59:39,570 [INFO ] [state.generation_sta]: GenerationState initialised. Prompt length (chars) = 266\n",
      "2025-05-13 10:59:39,570 [INFO ] [state.generation_sta]: GenerationState initialised. Prompt length (chars) = 266\n",
      "2025-05-13 10:59:39,570 [INFO ] [state.generation_sta]: GenerationState initialised. Prompt length (chars) = 266\n",
      "2025-05-13 10:59:39,570 [INFO ] [state.generation_sta]: GenerationState initialised. Prompt length (chars) = 266\n",
      "2025-05-13 10:59:39,570 [INFO ] [state.generation_sta]: GenerationState initialised. Prompt length (chars) = 266\n",
      "2025-05-13 10:59:39,570 [INFO ] [state.generation_sta]: GenerationState initialised. Prompt length (chars) = 266\n",
      "2025-05-13 10:59:39,570 [INFO ] [state.generation_sta]: GenerationState initialised. Prompt length (chars) = 266\n",
      "2025-05-13 10:59:39,570 [INFO ] [state.generation_sta]: GenerationState initialised. Prompt length (chars) = 266\n",
      "2025-05-13 10:59:39,570 [INFO ] [state.generation_sta]: GenerationState initialised. Prompt length (chars) = 266\n",
      "2025-05-13 10:59:39,571 [INFO ] [state.generation_sta]: GenerationState initialised. Prompt length (chars) = 266\n",
      "2025-05-13 10:59:39,571 [INFO ] [state.generation_sta]: GenerationState initialised. Prompt length (chars) = 266\n",
      "2025-05-13 10:59:39,571 [INFO ] [state.generation_sta]: GenerationState initialised. Prompt length (chars) = 266\n",
      "2025-05-13 10:59:39,571 [INFO ] [state.generation_sta]: GenerationState initialised. Prompt length (chars) = 266\n",
      "2025-05-13 10:59:39,571 [INFO ] [state.generation_sta]: GenerationState initialised. Prompt length (chars) = 266\n",
      "2025-05-13 10:59:39,571 [INFO ] [state.generation_sta]: GenerationState initialised. Prompt length (chars) = 266\n",
      "2025-05-13 10:59:39,571 [WARNI] [core.sampler        ]:     ✓ replacement='▁utterly' (pool=1, T=0.7, min_p=0.05, top_p=1.0, top_k=50)\n",
      "2025-05-13 10:59:39,571 [DEBUG] [root                ]: BANNED (prompt_idx=0, type=slop_phrase, phrase='profound' @ orig_token='▁profoundly' ...'lt both ancient and profoundly sad. He wore a si'...)\n",
      "2025-05-13 10:59:39,571 [DEBUG] [api_client.api_clien]: POST https://ncfi2yswjottwq-8888.proxy.runpod.net/v1/completions\n",
      "2025-05-13 10:59:39,571 [DEBUG] [api_client.api_clien]: Payload: {\"model\": \"unsloth/gemma-3-4b-it\", \"prompt\": \"<bos><start_of_turn>user\\nWriting prompt: After defeating the Devil down in Georgia, Johnny proudly proclaims he's the best that's ever been. A flash of lightning crashes down and God appears, fiddle in hand. The Devil gets his popcorn ready.\\n\\nWrite 1000 words to this prompt. Your response:\\n<end_of_turn>\\n<start_of_turn>model\\nThe rain in Georgia was a greasy, insistent thing, clinging to everything with the stubbornness of regret. It mirrored the\n",
      "2025-05-13 10:59:40,110 [DEBUG] [urllib3.connectionpo]: https://ncfi2yswjottwq-8888.proxy.runpod.net:443 \"POST /v1/completions HTTP/1.1\" 200 None\n",
      "2025-05-13 10:59:40,166 [DEBUG] [api_client.api_clien]: Raw response: {\"id\": \"cmpl-9eed389daf8848cb9e6200658cd3f180\", \"object\": \"text_completion\", \"created\": 1747097985, \"model\": \"unsloth/gemma-3-4b-it\", \"choices\": [{\"index\": 0, \"text\": \" present. He wore a simple, dark suit, impeccably tailored, and in his hand, he\", \"logprobs\": {\"text_offset\": [0, 8, 9, 12, 17, 19, 26, 27, 32, 37, 38, 45, 49, 58, 59, 63, 66, 70, 75, 76], \"token_logprobs\": [-1.3008736371994019, -6.913899414939806e-05, -0.049237675964832306, -0.016103677451610565, -0.033432736992836, -0.18177080154418945, -0.014235024340450764, -0.08123563230037689, -2.246185302734375, -0.07457228004932404, -0.11995293945074081, 0.0, -0.0059604281559586525, -0.06441261619329453, -0.011472562327980995, -0.23198828101158142, -0.023276427760720253, -0.16252049803733826, -0.20303408801555634, -0.011907803826034069], \"tokens\": [\"\\u2581present\", \".\", \"\\u2581He\", \"\\u2581wore\", \"\\u2581a\", \"\\u2581simple\", \",\", \"\\u2581dark\", \"\\u2581suit\", \",\", \"\\u2581impecc\", \"ably\", \"\\u2581tailored\", \",\", \"\\u2581and\", \"\\u2581in\", \"\\u2581his\", \"\\u2581hand\", \",\", \"\\u2581he\"], \"top_logprobs\": [{\"\\u2581present\": -1.3008736371994019, \",\": -1.1758736371994019, \"\\u2581timeless\": -2.0508737564086914, \"\\u2581serene\": -2.3008737564086914, \"\\u2581familiar\": -3.4258737564086914, \"\\u2581immediate\": -3.8008737564086914, \"\\u2581new\": -3.9258737564086914, \"\\u2026\": -4.050873756408691, \"\\u2581terrifying\": -4.925873756408691, \"\\u2581knowing\": -5.050873756408691, \"\\u2581aware\": -5.425873756408691, \"\\u2581ag\": -5.550873756408691, \"\\u2581current\": -5.550873756408691, \"\\u2581alive\": -5.675873756408691, \"\\u2581*\": -5.675873756408691, \"\\u2581immense\": -5.675873756408691, \"\\u2581contained\": -5.675873756408691, \"\\u2581indifferent\": -5.800873756408691, \"\\u2581complete\": -5.925873756408691, \"\\u2581calm\": -6.050873756408691}, {\".\": -6.913899414939806e-05, \"\\u2581at\": -9.875068664550781, \"\\u2581simultaneously\": -11.875068664550781, \",\": -12.125068664550781, \"\\u2581in\": -13.000068664550781, \"\\u2581all\": -13.000068664550781, \"\\u2581\\u2013\": \n",
      "2025-05-13 10:59:40,166 [INFO ] [api_client.api_clien]: Received 20 token strings (finish_reason=length).\n",
      "2025-05-13 10:59:40,167 [WARNI] [validators.slop_phra]: Slop violation: 'utterly' @tok=439 (char_pos=1849) …lt both ancient and utterly present. He wore a …\n",
      "2025-05-13 10:59:40,168 [WARNI] [core.sampler        ]: Back-tracking @tok=439 orig='▁utterly' ban='{'phrase': 'utterly', 'context': 'lt both ancient and utterly present. He wore a ', 'suppression_detail_key': 'utterly'}'.\n",
      "2025-05-13 10:59:40,168 [INFO ] [state.generation_sta]: GenerationState initialised. Prompt length (chars) = 266\n",
      "2025-05-13 10:59:40,168 [INFO ] [state.generation_sta]: GenerationState initialised. Prompt length (chars) = 266\n",
      "2025-05-13 10:59:40,168 [INFO ] [state.generation_sta]: GenerationState initialised. Prompt length (chars) = 266\n",
      "2025-05-13 10:59:40,168 [INFO ] [state.generation_sta]: GenerationState initialised. Prompt length (chars) = 266\n",
      "2025-05-13 10:59:40,168 [INFO ] [state.generation_sta]: GenerationState initialised. Prompt length (chars) = 266\n",
      "2025-05-13 10:59:40,169 [INFO ] [state.generation_sta]: GenerationState initialised. Prompt length (chars) = 266\n",
      "2025-05-13 10:59:40,169 [INFO ] [state.generation_sta]: GenerationState initialised. Prompt length (chars) = 266\n",
      "2025-05-13 10:59:40,169 [INFO ] [state.generation_sta]: GenerationState initialised. Prompt length (chars) = 266\n",
      "2025-05-13 10:59:40,169 [INFO ] [state.generation_sta]: GenerationState initialised. Prompt length (chars) = 266\n",
      "2025-05-13 10:59:40,169 [INFO ] [state.generation_sta]: GenerationState initialised. Prompt length (chars) = 266\n",
      "2025-05-13 10:59:40,169 [INFO ] [state.generation_sta]: GenerationState initialised. Prompt length (chars) = 266\n",
      "2025-05-13 10:59:40,169 [INFO ] [state.generation_sta]: GenerationState initialised. Prompt length (chars) = 266\n",
      "2025-05-13 10:59:40,169 [INFO ] [state.generation_sta]: GenerationState initialised. Prompt length (chars) = 266\n",
      "2025-05-13 10:59:40,169 [INFO ] [state.generation_sta]: GenerationState initialised. Prompt length (chars) = 266\n",
      "2025-05-13 10:59:40,169 [INFO ] [state.generation_sta]: GenerationState initialised. Prompt length (chars) = 266\n",
      "2025-05-13 10:59:40,169 [INFO ] [state.generation_sta]: GenerationState initialised. Prompt length (chars) = 266\n",
      "2025-05-13 10:59:40,169 [INFO ] [state.generation_sta]: GenerationState initialised. Prompt length (chars) = 266\n",
      "2025-05-13 10:59:40,169 [INFO ] [state.generation_sta]: GenerationState initialised. Prompt length (chars) = 266\n",
      "2025-05-13 10:59:40,169 [WARNI] [core.sampler        ]:     ✓ replacement='▁intimately' (pool=10, T=0.7, min_p=0.05, top_p=1.0, top_k=50)\n",
      "2025-05-13 10:59:40,170 [DEBUG] [root                ]: BANNED (prompt_idx=0, type=slop_phrase, phrase='utterly' @ orig_token='▁utterly' ...'lt both ancient and utterly present. He wore a'...)\n",
      "2025-05-13 10:59:40,170 [DEBUG] [api_client.api_clien]: POST https://ncfi2yswjottwq-8888.proxy.runpod.net/v1/completions\n",
      "2025-05-13 10:59:40,170 [DEBUG] [api_client.api_clien]: Payload: {\"model\": \"unsloth/gemma-3-4b-it\", \"prompt\": \"<bos><start_of_turn>user\\nWriting prompt: After defeating the Devil down in Georgia, Johnny proudly proclaims he's the best that's ever been. A flash of lightning crashes down and God appears, fiddle in hand. The Devil gets his popcorn ready.\\n\\nWrite 1000 words to this prompt. Your response:\\n<end_of_turn>\\n<start_of_turn>model\\nThe rain in Georgia was a greasy, insistent thing, clinging to everything with the stubbornness of regret. It mirrored the\n",
      "2025-05-13 10:59:40,706 [DEBUG] [urllib3.connectionpo]: https://ncfi2yswjottwq-8888.proxy.runpod.net:443 \"POST /v1/completions HTTP/1.1\" 200 None\n",
      "2025-05-13 10:59:40,769 [DEBUG] [api_client.api_clien]: Raw response: {\"id\": \"cmpl-41ede17b821a4d9597a7536fdd23be73\", \"object\": \"text_completion\", \"created\": 1747097985, \"model\": \"unsloth/gemma-3-4b-it\", \"choices\": [{\"index\": 0, \"text\": \" familiar. He wore a simple, dark blue robe, and in his hand, he held a fiddle\", \"logprobs\": {\"text_offset\": [0, 9, 10, 13, 18, 20, 27, 28, 33, 38, 43, 44, 48, 51, 55, 60, 61, 64, 69, 71], \"token_logprobs\": [-0.053717877715826035, -0.003024529432877898, -0.04698855057358742, -0.014062130823731422, -0.035804085433483124, -0.17932884395122528, -0.014032156206667423, -0.07092248648405075, -1.1008195877075195, -0.3625987768173218, -0.04117666184902191, -0.34710144996643066, -0.03876528516411781, -0.01609042100608349, -0.20663516223430634, -0.1611926257610321, -0.039957668632268906, -0.005398931913077831, -0.007721221540123224, -0.0012840130366384983], \"tokens\": [\"\\u2581familiar\", \".\", \"\\u2581He\", \"\\u2581wore\", \"\\u2581a\", \"\\u2581simple\", \",\", \"\\u2581dark\", \"\\u2581blue\", \"\\u2581robe\", \",\", \"\\u2581and\", \"\\u2581in\", \"\\u2581his\", \"\\u2581hand\", \",\", \"\\u2581he\", \"\\u2581held\", \"\\u2581a\", \"\\u2581fiddle\"], \"top_logprobs\": [{\"\\u2581familiar\": -0.053717877715826035, \"\\u2581aware\": -3.428717851638794, \",\": -4.678718090057373, \"\\u2581knowing\": -5.553718090057373, \"\\u2581known\": -5.803718090057373, \"\\u2581close\": -7.053718090057373, \"\\u2581present\": -7.053718090057373, \"\\u2026\": -7.678718090057373, \"\\u2581real\": -8.053717613220215, \"\\u2581acquainted\": -8.803717613220215, \"\\u2581alive\": -8.928717613220215, \"\\u2581*\": -9.053717613220215, \"\\u2581connected\": -9.053717613220215, \"\\u2581concerned\": -9.178717613220215, \"\\u2581powerful\": -9.428717613220215, \"\\u2581personal\": -9.678717613220215, \"\\u2581knowledgeable\": -10.178717613220215, \"\\u2581understood\": -10.178717613220215, \"\\u2581observant\": -10.178717613220215, \"\\u2581watchful\": -10.303717613220215}, {\".\": -0.003024529432877898, \",\": -5.878024578094482, \"\\u2581\\u2013\": -9.003024101257324, \"\\u2581like\": -10.378024101257324, \"\\u2581all\": -10.503024101257324, \"\\u2581at\": -10\n",
      "2025-05-13 10:59:40,769 [INFO ] [api_client.api_clien]: Received 20 token strings (finish_reason=length).\n",
      "2025-05-13 10:59:40,771 [DEBUG] [api_client.api_clien]: POST https://ncfi2yswjottwq-8888.proxy.runpod.net/v1/completions\n",
      "2025-05-13 10:59:40,771 [DEBUG] [api_client.api_clien]: Payload: {\"model\": \"unsloth/gemma-3-4b-it\", \"prompt\": \"<bos><start_of_turn>user\\nWriting prompt: After defeating the Devil down in Georgia, Johnny proudly proclaims he's the best that's ever been. A flash of lightning crashes down and God appears, fiddle in hand. The Devil gets his popcorn ready.\\n\\nWrite 1000 words to this prompt. Your response:\\n<end_of_turn>\\n<start_of_turn>model\\nThe rain in Georgia was a greasy, insistent thing, clinging to everything with the stubbornness of regret. It mirrored the\n"
     ]
    },
    {
     "name": "stdout",
     "output_type": "stream",
     "text": [
      "Batch Generating:   0%|          | 0/1 [00:20<?, ?prompt/s, 24.2 tok/s]"
     ]
    },
    {
     "name": "stderr",
     "output_type": "stream",
     "text": [
      "2025-05-13 10:59:41,304 [DEBUG] [urllib3.connectionpo]: https://ncfi2yswjottwq-8888.proxy.runpod.net:443 \"POST /v1/completions HTTP/1.1\" 200 None\n",
      "2025-05-13 10:59:41,469 [DEBUG] [api_client.api_clien]: Raw response: {\"id\": \"cmpl-46cb9e549c644423bbbd034a85f62d63\", \"object\": \"text_completion\", \"created\": 1747097986, \"model\": \"unsloth/gemma-3-4b-it\", \"choices\": [{\"index\": 0, \"text\": \". Not a fancy, ornate fiddle, but a well-worn, lovingly crafted instrument that seemed to\", \"logprobs\": {\"text_offset\": [0, 1, 5, 7, 13, 14, 21, 28, 29, 33, 35, 40, 41, 45, 46, 55, 63, 74, 79, 86], \"token_logprobs\": [-0.09694895893335342, -0.26872697472572327, -0.12397795170545578, -0.21401704847812653, -0.13634899258613586, -1.7027795314788818, -0.25173333287239075, -0.03542112186551094, -0.021122856065630913, -0.08847866207361221, -0.52851402759552, -1.1920922133867862e-06, -0.17232778668403625, -1.725464105606079, -0.5115465521812439, -1.4182305335998535, -0.1291522979736328, -0.962844729423523, -0.27153998613357544, -0.0007527616689912975], \"tokens\": [\".\", \"\\u2581Not\", \"\\u2581a\", \"\\u2581fancy\", \",\", \"\\u2581ornate\", \"\\u2581fiddle\", \",\", \"\\u2581but\", \"\\u2581a\", \"\\u2581well\", \"-\", \"worn\", \",\", \"\\u2581lovingly\", \"\\u2581crafted\", \"\\u2581instrument\", \"\\u2581that\", \"\\u2581seemed\", \"\\u2581to\"], \"top_logprobs\": [{\".\": -0.09694895893335342, \",\": -2.5969488620758057, \"\\u2581\\u2013\": -4.096949100494385, \"\\u2581-\": -7.096949100494385, \"\\u2581crafted\": -8.221948623657227, \"\\u2014\": -9.596948623657227, \"\\u2581strung\": -10.471948623657227, \"\\u2581carved\": -10.471948623657227, \"\\u2581made\": -10.596948623657227, \"\\u2581fashioned\": -10.971948623657227, \"\\u2581almost\": -13.346948623657227, \"\\u2026\": -13.846948623657227, \"\\u2581of\": -13.846948623657227, \"\\u2581with\": -14.346948623657227, \"\\u2581\\u2014\": -14.346948623657227, \"\\u2581case\": -14.471948623657227, \"\\u2581constructed\": -14.471948623657227, \"\\u2581intricately\": -14.596948623657227, \"\\u2581exquisitely\": -14.721948623657227, \"\\u2581polished\": -14.721948623657227}, {\"\\u2581Not\": -0.26872697472572327, \"\\u2581A\": -2.5187270641326904, \"\\u2581\": -2.6437270641326904, \"\\u2581It\": -3.2687270641326904, \"\\u2581\\u2581\": -3.3937270641326904, \"\\n\\n\": -5.393726825714111, \"\\u\n",
      "2025-05-13 10:59:41,469 [INFO ] [api_client.api_clien]: Received 20 token strings (finish_reason=length).\n",
      "2025-05-13 10:59:41,471 [DEBUG] [api_client.api_clien]: POST https://ncfi2yswjottwq-8888.proxy.runpod.net/v1/completions\n",
      "2025-05-13 10:59:41,472 [DEBUG] [api_client.api_clien]: Payload: {\"model\": \"unsloth/gemma-3-4b-it\", \"prompt\": \"<bos><start_of_turn>user\\nWriting prompt: After defeating the Devil down in Georgia, Johnny proudly proclaims he's the best that's ever been. A flash of lightning crashes down and God appears, fiddle in hand. The Devil gets his popcorn ready.\\n\\nWrite 1000 words to this prompt. Your response:\\n<end_of_turn>\\n<start_of_turn>model\\nThe rain in Georgia was a greasy, insistent thing, clinging to everything with the stubbornness of regret. It mirrored the\n"
     ]
    },
    {
     "name": "stdout",
     "output_type": "stream",
     "text": [
      "Batch Generating:   0%|          | 0/1 [00:21<?, ?prompt/s, 24.4 tok/s]"
     ]
    },
    {
     "name": "stderr",
     "output_type": "stream",
     "text": [
      "2025-05-13 10:59:42,004 [DEBUG] [urllib3.connectionpo]: https://ncfi2yswjottwq-8888.proxy.runpod.net:443 \"POST /v1/completions HTTP/1.1\" 200 None\n",
      "2025-05-13 10:59:42,068 [DEBUG] [api_client.api_clien]: Raw response: {\"id\": \"cmpl-ca64e88425e14ebd916aef50e2e39c23\", \"object\": \"text_completion\", \"created\": 1747097987, \"model\": \"unsloth/gemma-3-4b-it\", \"choices\": [{\"index\": 0, \"text\": \" hum with power. \\n\\nIt wasn't God. Not exactly. It was\\u2026 something older\", \"logprobs\": {\"text_offset\": [0, 4, 9, 15, 16, 17, 19, 21, 26, 27, 28, 32, 33, 37, 45, 46, 49, 53, 54, 64], \"token_logprobs\": [-0.3527377247810364, -2.8013790142722428e-05, -1.2405763864517212, -0.00048411093303002417, -0.12639251351356506, 0.0, -0.13044887781143188, -0.9744031429290771, -0.9740769863128662, 0.0, -1.875772476196289, -0.2095533162355423, -0.003371984465047717, -0.8190789222717285, -4.386805812828243e-05, -1.061373233795166, -0.054714493453502655, -0.37840232253074646, -0.1565168797969818, -0.6023846864700317], \"tokens\": [\"\\u2581hum\", \"\\u2581with\", \"\\u2581power\", \".\", \"\\u2581\", \"\\n\\n\", \"It\", \"\\u2581wasn\", \"'\", \"t\", \"\\u2581God\", \".\", \"\\u2581Not\", \"\\u2581exactly\", \".\", \"\\u2581It\", \"\\u2581was\", \"\\u2026\", \"\\u2581something\", \"\\u2581older\"], \"top_logprobs\": [{\"\\u2581hum\": -0.3527377247810364, \"\\u2581pulse\": -1.3527376651763916, \"\\u2581th\": -3.9777376651763916, \"\\u2581shimmer\": -4.852737903594971, \"\\u2581vibrate\": -5.102737903594971, \"\\u2581resonate\": -6.602737903594971, \"\\u2581puls\": -6.852737903594971, \"\\u2581glow\": -6.977737903594971, \"\\u2581whisper\": -7.602737903594971, \"\\u2581breathe\": -7.852737903594971, \"\\u2581sing\": -7.852737903594971, \"\\u2581gle\": -8.352737426757812, \"\\u2581subtly\": -8.477737426757812, \"\\u2581hold\": -8.602737426757812, \"\\u2581practically\": -8.602737426757812, \"\\u2581possess\": -9.102737426757812, \"\\u2581absorb\": -9.227737426757812, \"\\u2581almost\": -10.102737426757812, \"\\u2581sigh\": -10.102737426757812, \"\\u2581be\": -10.352737426757812}, {\"\\u2581with\": -2.8013790142722428e-05, \"\\u2581faintly\": -11.125027656555176, \"\\u2581quietly\": -11.750027656555176, \"\\u2581subtly\": -13.000027656555176, \"\\u2581softly\": -13.250027656555176, \"\\u2581in\": -14.875027656555176, \"\\u2581beneath\": -15.250027656555176,\n",
      "2025-05-13 10:59:42,068 [INFO ] [api_client.api_clien]: Received 20 token strings (finish_reason=length).\n",
      "2025-05-13 10:59:42,070 [DEBUG] [api_client.api_clien]: POST https://ncfi2yswjottwq-8888.proxy.runpod.net/v1/completions\n",
      "2025-05-13 10:59:42,070 [DEBUG] [api_client.api_clien]: Payload: {\"model\": \"unsloth/gemma-3-4b-it\", \"prompt\": \"<bos><start_of_turn>user\\nWriting prompt: After defeating the Devil down in Georgia, Johnny proudly proclaims he's the best that's ever been. A flash of lightning crashes down and God appears, fiddle in hand. The Devil gets his popcorn ready.\\n\\nWrite 1000 words to this prompt. Your response:\\n<end_of_turn>\\n<start_of_turn>model\\nThe rain in Georgia was a greasy, insistent thing, clinging to everything with the stubbornness of regret. It mirrored the\n"
     ]
    },
    {
     "name": "stdout",
     "output_type": "stream",
     "text": [
      "Batch Generating:   0%|          | 0/1 [00:21<?, ?prompt/s, 24.7 tok/s]"
     ]
    },
    {
     "name": "stderr",
     "output_type": "stream",
     "text": [
      "2025-05-13 10:59:42,796 [DEBUG] [urllib3.connectionpo]: https://ncfi2yswjottwq-8888.proxy.runpod.net:443 \"POST /v1/completions HTTP/1.1\" 200 None\n",
      "2025-05-13 10:59:42,858 [DEBUG] [api_client.api_clien]: Raw response: {\"id\": \"cmpl-04119811603547b382a0e084c6c151d8\", \"object\": \"text_completion\", \"created\": 1747097987, \"model\": \"unsloth/gemma-3-4b-it\", \"choices\": [{\"index\": 0, \"text\": \". Something that predated even the concept of God as Johnny understood it. \\n\\n\\u201cImpressive\", \"logprobs\": {\"text_offset\": [0, 1, 11, 16, 21, 25, 30, 34, 42, 45, 49, 52, 59, 70, 73, 74, 75, 77, 78, 85], \"token_logprobs\": [-0.32243889570236206, -0.01616619899868965, -1.591029405593872, -0.47707313299179077, -2.8013790142722428e-05, -0.8345792293548584, -0.036100324243307114, -0.4827577471733093, -7.629365427419543e-06, -0.2581190764904022, -0.3350908160209656, -0.16497306525707245, -0.020229216665029526, -5.090107151772827e-05, -0.0004077318590134382, -0.17919303476810455, -2.1576648578047752e-05, -0.2717651128768921, -1.1183148622512817, -1.7881377516459906e-06], \"tokens\": [\".\", \"\\u2581Something\", \"\\u2581that\", \"\\u2581pred\", \"ated\", \"\\u2581even\", \"\\u2581the\", \"\\u2581concept\", \"\\u2581of\", \"\\u2581God\", \"\\u2581as\", \"\\u2581Johnny\", \"\\u2581understood\", \"\\u2581it\", \".\", \"\\u2581\", \"\\n\\n\", \"\\u201c\", \"Impress\", \"ive\"], \"top_logprobs\": [{\".\": -0.32243889570236206, \",\": -1.3224389553070068, \"\\u2581than\": -4.697438716888428, \"\\u2581and\": -11.322439193725586, \"\\u2581\\u2013\": -13.572439193725586, \";\": -13.822439193725586, \"?\": -14.447439193725586, \"\\u2581perhaps\": -14.572439193725586, \"\\u2581still\": -14.947439193725586, \"\\u2581somehow\": -15.072439193725586, \"\\u2581even\": -15.072439193725586, \"\\u2581-\": -15.572439193725586, \"\\u2026\": -17.197439193725586, \"\\u2581then\": -17.572439193725586, \"\\u2581maybe\": -17.697439193725586, \"\\u2014\": -17.822439193725586, \"\\u2581.\": -18.572439193725586, \"\\u2581entirely\": -18.697439193725586, \"\\u2581altogether\": -18.947439193725586, \"\\u2581that\": -18.947439193725586}, {\"\\u2581Something\": -0.01616619899868965, \"\\u2581More\": -5.1411662101745605, \"\\u2581\\u2581\": -5.6411662101745605, \"\\u2581\": -6.1411662101745605, \"\\u2581Older\": -6.7661662101745605, \"\\n\\n\": -7.2661662101745605, \"\\u2581\n",
      "2025-05-13 10:59:42,858 [INFO ] [api_client.api_clien]: Received 20 token strings (finish_reason=length).\n",
      "2025-05-13 10:59:42,860 [DEBUG] [api_client.api_clien]: POST https://ncfi2yswjottwq-8888.proxy.runpod.net/v1/completions\n",
      "2025-05-13 10:59:42,860 [DEBUG] [api_client.api_clien]: Payload: {\"model\": \"unsloth/gemma-3-4b-it\", \"prompt\": \"<bos><start_of_turn>user\\nWriting prompt: After defeating the Devil down in Georgia, Johnny proudly proclaims he's the best that's ever been. A flash of lightning crashes down and God appears, fiddle in hand. The Devil gets his popcorn ready.\\n\\nWrite 1000 words to this prompt. Your response:\\n<end_of_turn>\\n<start_of_turn>model\\nThe rain in Georgia was a greasy, insistent thing, clinging to everything with the stubbornness of regret. It mirrored the\n"
     ]
    },
    {
     "name": "stdout",
     "output_type": "stream",
     "text": [
      "Batch Generating:   0%|          | 0/1 [00:22<?, ?prompt/s, 24.7 tok/s]"
     ]
    },
    {
     "name": "stderr",
     "output_type": "stream",
     "text": [
      "2025-05-13 10:59:43,397 [DEBUG] [urllib3.connectionpo]: https://ncfi2yswjottwq-8888.proxy.runpod.net:443 \"POST /v1/completions HTTP/1.1\" 200 None\n",
      "2025-05-13 10:59:43,564 [DEBUG] [api_client.api_clien]: Raw response: {\"id\": \"cmpl-4612cae486a24b9ea08cde702a652996\", \"object\": \"text_completion\", \"created\": 1747097988, \"model\": \"unsloth/gemma-3-4b-it\", \"choices\": [{\"index\": 0, \"text\": \",\\u201d the figure said, his voice a low, resonant chord. \\u201cYou\\u2019ve managed to inconvenience\", \"logprobs\": {\"text_offset\": [0, 2, 6, 13, 18, 19, 23, 29, 31, 35, 36, 45, 51, 52, 54, 57, 58, 60, 68, 71], \"token_logprobs\": [-0.1882765144109726, -0.014300952665507793, -0.003882253309711814, -0.0007471630233339965, -1.680836794548668e-05, -0.0009485750924795866, 0.0, -0.01728728786110878, -0.7594665884971619, -0.033858299255371094, -0.011992261745035648, -0.30938491225242615, -0.5465869903564453, -0.2383999079465866, -0.1363133192062378, -0.18863818049430847, -2.5152843591058627e-05, -1.527830719947815, -0.029453910887241364, -1.5396792888641357], \"tokens\": [\",\\u201d\", \"\\u2581the\", \"\\u2581figure\", \"\\u2581said\", \",\", \"\\u2581his\", \"\\u2581voice\", \"\\u2581a\", \"\\u2581low\", \",\", \"\\u2581resonant\", \"\\u2581chord\", \".\", \"\\u2581\\u201c\", \"You\", \"\\u2019\", \"ve\", \"\\u2581managed\", \"\\u2581to\", \"\\u2581inconvenience\"], \"top_logprobs\": [{\",\\u201d\": -0.1882765144109726, \",\": -1.8132765293121338, \"\\u2581display\": -5.188276290893555, \",\\\"\": -7.188276290893555, \"\\u2581work\": -7.313276290893555, \"\\u2581show\": -7.563276290893555, \"\\u2581little\": -7.688276290893555, \"\\u2581effort\": -9.063276290893555, \"\\u2581young\": -9.188276290893555, \"\\u2581performance\": -9.438276290893555, \"\\u2581showing\": -10.188276290893555, \"\\u2581endeavor\": -10.563276290893555, \"\\u2581boy\": -10.563276290893555, \"\\u2581spectacle\": -10.813276290893555, \"\\u2581victory\": -11.313276290893555, \"\\u2581lad\": -11.313276290893555, \"\\u2581mortal\": -11.438276290893555, \"\\u2581feat\": -11.938276290893555, \"\\u2581ambition\": -11.938276290893555, \"\\u2581fight\": -12.313276290893555}, {\"\\u2581the\": -0.014300952665507793, \"\\u2581a\": -4.26430082321167, \"\\u2581The\": -10.139301300048828, \"\\u2581said\": -10.264301300048828, \"\\u2581came\": -11.139301300048828, \"\\u2581this\": -11.\n",
      "2025-05-13 10:59:43,565 [INFO ] [api_client.api_clien]: Received 20 token strings (finish_reason=length).\n",
      "2025-05-13 10:59:43,565 [WARNI] [validators.slop_phra]: Slop violation: 'said, his voice a low' @tok=523 (char_pos=2198) …essive,” the figure said, his voice a low, resonant chord. “Y…\n",
      "2025-05-13 10:59:43,566 [WARNI] [validators.ngram_val]: NGram violation: 'said voice low' (stopwords_removed=True) @tok=523 (char_pos=2198). Context: ...t.   “Impressive,” the figure said, his voice a low, resonant chord. “You’...\n",
      "2025-05-13 10:59:43,567 [WARNI] [core.sampler        ]: Back-tracking @tok=523 orig='▁said' ban='{'phrase': 'said, his voice a low', 'context': 'essive,” the figure said, his voice a low, resonant chord. “Y', 'suppression_detail_key': 'said, his voice a low'}'.\n",
      "2025-05-13 10:59:43,567 [INFO ] [state.generation_sta]: GenerationState initialised. Prompt length (chars) = 266\n",
      "2025-05-13 10:59:43,567 [INFO ] [state.generation_sta]: GenerationState initialised. Prompt length (chars) = 266\n",
      "2025-05-13 10:59:43,567 [INFO ] [state.generation_sta]: GenerationState initialised. Prompt length (chars) = 266\n",
      "2025-05-13 10:59:43,567 [INFO ] [state.generation_sta]: GenerationState initialised. Prompt length (chars) = 266\n",
      "2025-05-13 10:59:43,567 [INFO ] [state.generation_sta]: GenerationState initialised. Prompt length (chars) = 266\n",
      "2025-05-13 10:59:43,567 [INFO ] [state.generation_sta]: GenerationState initialised. Prompt length (chars) = 266\n",
      "2025-05-13 10:59:43,567 [INFO ] [state.generation_sta]: GenerationState initialised. Prompt length (chars) = 266\n",
      "2025-05-13 10:59:43,567 [INFO ] [state.generation_sta]: GenerationState initialised. Prompt length (chars) = 266\n",
      "2025-05-13 10:59:43,567 [INFO ] [state.generation_sta]: GenerationState initialised. Prompt length (chars) = 266\n",
      "2025-05-13 10:59:43,567 [INFO ] [state.generation_sta]: GenerationState initialised. Prompt length (chars) = 266\n",
      "2025-05-13 10:59:43,567 [INFO ] [state.generation_sta]: GenerationState initialised. Prompt length (chars) = 266\n",
      "2025-05-13 10:59:43,567 [INFO ] [state.generation_sta]: GenerationState initialised. Prompt length (chars) = 266\n",
      "2025-05-13 10:59:43,567 [INFO ] [state.generation_sta]: GenerationState initialised. Prompt length (chars) = 266\n",
      "2025-05-13 10:59:43,567 [INFO ] [state.generation_sta]: GenerationState initialised. Prompt length (chars) = 266\n",
      "2025-05-13 10:59:43,567 [INFO ] [state.generation_sta]: GenerationState initialised. Prompt length (chars) = 266\n",
      "2025-05-13 10:59:43,567 [INFO ] [state.generation_sta]: GenerationState initialised. Prompt length (chars) = 266\n",
      "2025-05-13 10:59:43,567 [INFO ] [state.generation_sta]: GenerationState initialised. Prompt length (chars) = 266\n",
      "2025-05-13 10:59:43,567 [INFO ] [state.generation_sta]: GenerationState initialised. Prompt length (chars) = 266\n",
      "2025-05-13 10:59:43,567 [INFO ] [state.generation_sta]: GenerationState initialised. Prompt length (chars) = 266\n",
      "2025-05-13 10:59:43,568 [WARNI] [core.sampler        ]:     ✓ replacement='▁stated' (pool=5, T=0.7, min_p=0.05, top_p=1.0, top_k=50)\n",
      "2025-05-13 10:59:43,568 [DEBUG] [root                ]: BANNED (prompt_idx=0, type=slop_phrase, phrase='said, his voice a low' @ orig_token='▁said' ...'essive,” the figure said, his voice a low, resonant chord. “Y'...)\n",
      "2025-05-13 10:59:43,568 [DEBUG] [api_client.api_clien]: POST https://ncfi2yswjottwq-8888.proxy.runpod.net/v1/completions\n",
      "2025-05-13 10:59:43,568 [DEBUG] [api_client.api_clien]: Payload: {\"model\": \"unsloth/gemma-3-4b-it\", \"prompt\": \"<bos><start_of_turn>user\\nWriting prompt: After defeating the Devil down in Georgia, Johnny proudly proclaims he's the best that's ever been. A flash of lightning crashes down and God appears, fiddle in hand. The Devil gets his popcorn ready.\\n\\nWrite 1000 words to this prompt. Your response:\\n<end_of_turn>\\n<start_of_turn>model\\nThe rain in Georgia was a greasy, insistent thing, clinging to everything with the stubbornness of regret. It mirrored the\n"
     ]
    },
    {
     "name": "stdout",
     "output_type": "stream",
     "text": [
      "Batch Generating:   0%|          | 0/1 [00:23<?, ?prompt/s, 24.1 tok/s]"
     ]
    },
    {
     "name": "stderr",
     "output_type": "stream",
     "text": [
      "2025-05-13 10:59:44,108 [DEBUG] [urllib3.connectionpo]: https://ncfi2yswjottwq-8888.proxy.runpod.net:443 \"POST /v1/completions HTTP/1.1\" 200 None\n",
      "2025-05-13 10:59:44,172 [DEBUG] [api_client.api_clien]: Raw response: {\"id\": \"cmpl-f6947bc70917422383e1a59885d4a746\", \"object\": \"text_completion\", \"created\": 1747097989, \"model\": \"unsloth/gemma-3-4b-it\", \"choices\": [{\"index\": 0, \"text\": \", his voice a low, resonant chord that seemed to vibrate in Johnny\\u2019s bones. \\u201cYou\", \"logprobs\": {\"text_offset\": [0, 1, 5, 11, 13, 17, 18, 27, 33, 38, 45, 48, 56, 59, 66, 67, 68, 74, 75, 77], \"token_logprobs\": [-3.71926071238704e-05, -0.002007494680583477, -2.3841855067985307e-07, -0.01688544452190399, -0.7866795659065247, -0.03600132092833519, -0.014059661887586117, -0.3213824927806854, -1.0385147333145142, -0.4786630868911743, -1.5139465176616795e-05, -0.07780148088932037, -0.42425698041915894, -0.0011017211945727468, -0.2014133334159851, 0.0, -0.02213836833834648, -9.810443589231e-05, -0.06551676243543625, -0.04270947724580765], \"tokens\": [\",\", \"\\u2581his\", \"\\u2581voice\", \"\\u2581a\", \"\\u2581low\", \",\", \"\\u2581resonant\", \"\\u2581chord\", \"\\u2581that\", \"\\u2581seemed\", \"\\u2581to\", \"\\u2581vibrate\", \"\\u2581in\", \"\\u2581Johnny\", \"\\u2019\", \"s\", \"\\u2581bones\", \".\", \"\\u2581\\u201c\", \"You\"], \"top_logprobs\": [{\",\": -3.71926071238704e-05, \".\": -10.25003719329834, \"\\u2581simply\": -13.50003719329834, \"\\u2581calmly\": -16.000036239624023, \"\\u2581in\": -16.000036239624023, \"\\u2581\\u2013\": -16.250036239624023, \"\\u2581softly\": -17.000036239624023, \"\\u2581with\": -17.000036239624023, \"\\u2581flat\": -18.500036239624023, \"\\u2581quietly\": -19.125036239624023, \"\\u2581smoothly\": -19.250036239624023, \"\\u2581without\": -19.500036239624023, \"\\u2581his\": -19.625036239624023, \"\\u2581-\": -20.750036239624023, \"\\u2581casually\": -20.875036239624023, \"\\u2581plainly\": -21.375036239624023, \"\\u2014\": -21.500036239624023, \"\\u2581finally\": -21.500036239624023, \"\\u2581gently\": -21.750036239624023, \"\\u2581when\": -22.125036239624023}, {\"\\u2581his\": -0.002007494680583477, \"\\u2581the\": -6.252007484436035, \"\\u2581and\": -10.252007484436035, \"\\u2581a\": -10.252007484436035, \"\\u2581not\": -12.127007484436035, \"\\u2581without\": -13.252007484436035, \"\\u\n",
      "2025-05-13 10:59:44,172 [INFO ] [api_client.api_clien]: Received 20 token strings (finish_reason=length).\n",
      "2025-05-13 10:59:44,174 [WARNI] [validators.ngram_val]: NGram violation: 'voice low' (stopwords_removed=True) @tok=526 (char_pos=2210). Context: ...sive,” the figure stated, his voice a low, resonant chord that seemed...\n",
      "2025-05-13 10:59:44,175 [WARNI] [core.sampler        ]: Back-tracking @tok=526 orig='▁voice' ban='{'ngram_tuple': ['voice', 'low'], 'ngram_string': 'voice low', 'remove_stopwords_active': True, 'context': 'sive,” the figure stated, his voice a low, resonant chord that seemed', 'suppression_detail_key': 'voice low (stopwords_removed=True)'}'.\n",
      "2025-05-13 10:59:44,175 [INFO ] [state.generation_sta]: GenerationState initialised. Prompt length (chars) = 266\n",
      "2025-05-13 10:59:44,175 [INFO ] [state.generation_sta]: GenerationState initialised. Prompt length (chars) = 266\n",
      "2025-05-13 10:59:44,175 [INFO ] [state.generation_sta]: GenerationState initialised. Prompt length (chars) = 266\n",
      "2025-05-13 10:59:44,175 [INFO ] [state.generation_sta]: GenerationState initialised. Prompt length (chars) = 266\n",
      "2025-05-13 10:59:44,175 [INFO ] [state.generation_sta]: GenerationState initialised. Prompt length (chars) = 266\n",
      "2025-05-13 10:59:44,175 [INFO ] [state.generation_sta]: GenerationState initialised. Prompt length (chars) = 266\n",
      "2025-05-13 10:59:44,175 [INFO ] [state.generation_sta]: GenerationState initialised. Prompt length (chars) = 266\n",
      "2025-05-13 10:59:44,175 [INFO ] [state.generation_sta]: GenerationState initialised. Prompt length (chars) = 266\n",
      "2025-05-13 10:59:44,175 [INFO ] [state.generation_sta]: GenerationState initialised. Prompt length (chars) = 266\n",
      "2025-05-13 10:59:44,175 [INFO ] [state.generation_sta]: GenerationState initialised. Prompt length (chars) = 266\n",
      "2025-05-13 10:59:44,175 [INFO ] [state.generation_sta]: GenerationState initialised. Prompt length (chars) = 266\n",
      "2025-05-13 10:59:44,175 [INFO ] [state.generation_sta]: GenerationState initialised. Prompt length (chars) = 266\n",
      "2025-05-13 10:59:44,175 [INFO ] [state.generation_sta]: GenerationState initialised. Prompt length (chars) = 266\n",
      "2025-05-13 10:59:44,175 [INFO ] [state.generation_sta]: GenerationState initialised. Prompt length (chars) = 266\n",
      "2025-05-13 10:59:44,175 [INFO ] [state.generation_sta]: GenerationState initialised. Prompt length (chars) = 266\n",
      "2025-05-13 10:59:44,175 [INFO ] [state.generation_sta]: GenerationState initialised. Prompt length (chars) = 266\n",
      "2025-05-13 10:59:44,176 [WARNI] [core.sampler        ]:     ✓ replacement='▁tone' (pool=1, T=0.7, min_p=0.05, top_p=1.0, top_k=50)\n",
      "2025-05-13 10:59:44,176 [DEBUG] [root                ]: BANNED (prompt_idx=0, type=ngram, ngram='voice low' (stopwords_removed=True) @ orig_token='▁voice' ...'sive,” the figure stated, his voice a low, resonant chord that seemed'...)\n",
      "2025-05-13 10:59:44,176 [DEBUG] [api_client.api_clien]: POST https://ncfi2yswjottwq-8888.proxy.runpod.net/v1/completions\n",
      "2025-05-13 10:59:44,176 [DEBUG] [api_client.api_clien]: Payload: {\"model\": \"unsloth/gemma-3-4b-it\", \"prompt\": \"<bos><start_of_turn>user\\nWriting prompt: After defeating the Devil down in Georgia, Johnny proudly proclaims he's the best that's ever been. A flash of lightning crashes down and God appears, fiddle in hand. The Devil gets his popcorn ready.\\n\\nWrite 1000 words to this prompt. Your response:\\n<end_of_turn>\\n<start_of_turn>model\\nThe rain in Georgia was a greasy, insistent thing, clinging to everything with the stubbornness of regret. It mirrored the\n"
     ]
    },
    {
     "name": "stdout",
     "output_type": "stream",
     "text": [
      "Batch Generating:   0%|          | 0/1 [00:24<?, ?prompt/s, 23.6 tok/s]"
     ]
    },
    {
     "name": "stderr",
     "output_type": "stream",
     "text": [
      "2025-05-13 10:59:44,714 [DEBUG] [urllib3.connectionpo]: https://ncfi2yswjottwq-8888.proxy.runpod.net:443 \"POST /v1/completions HTTP/1.1\" 200 None\n",
      "2025-05-13 10:59:44,879 [DEBUG] [api_client.api_clien]: Raw response: {\"id\": \"cmpl-101d28eb992b4f0ca410d9105e6c2c94\", \"object\": \"text_completion\", \"created\": 1747097989, \"model\": \"unsloth/gemma-3-4b-it\", \"choices\": [{\"index\": 0, \"text\": \" a low, resonant murmur that seemed to bypass Johnny\\u2019s ears and resonate directly within his bones.\", \"logprobs\": {\"text_offset\": [0, 2, 6, 7, 16, 23, 28, 35, 38, 45, 52, 53, 54, 59, 63, 72, 81, 88, 92, 98], \"token_logprobs\": [-0.1920454502105713, -0.477618932723999, -0.02172960340976715, -0.022622836753726006, -2.219675302505493, -0.4909176528453827, -1.453112244606018, -4.887569048150908e-06, -0.3687230348587036, -0.026935510337352753, -0.25192996859550476, 0.0, -1.6689286894688848e-06, -0.025001322850584984, -1.7640860080718994, -0.003438514657318592, -0.4749845862388611, -0.0007214327342808247, -0.09672226756811142, -3.3378546504536644e-06], \"tokens\": [\"\\u2581a\", \"\\u2581low\", \",\", \"\\u2581resonant\", \"\\u2581murmur\", \"\\u2581that\", \"\\u2581seemed\", \"\\u2581to\", \"\\u2581bypass\", \"\\u2581Johnny\", \"\\u2019\", \"s\", \"\\u2581ears\", \"\\u2581and\", \"\\u2581resonate\", \"\\u2581directly\", \"\\u2581within\", \"\\u2581his\", \"\\u2581bones\", \".\"], \"top_logprobs\": [{\"\\u2581a\": -0.1920454502105713, \"\\u2581devoid\": -2.9420454502105713, \"\\u2581neither\": -3.5670454502105713, \"\\u2581surprisingly\": -4.567045211791992, \"\\u2581not\": -4.567045211791992, \"\\u2581low\": -4.692045211791992, \"\\u2581calm\": -4.692045211791992, \"\\u2581resonant\": -4.942045211791992, \"\\u2581gentle\": -4.942045211791992, \"\\u2581measured\": -4.942045211791992, \"\\u2581smooth\": -5.192045211791992, \"\\u2581laced\": -5.317045211791992, \"\\u2581like\": -5.317045211791992, \"\\u2581soft\": -5.942045211791992, \"\\u2581deep\": -6.067045211791992, \"\\u2581melodic\": -6.067045211791992, \"\\u2581quiet\": -6.567045211791992, \"\\u2581dry\": -7.067045211791992, \"\\u2581utterly\": -7.067045211791992, \"\\u2581remarkably\": -7.067045211791992}, {\"\\u2581low\": -0.477618932723999, \"\\u2581deep\": -1.852618932723999, \"\\u2581resonant\": -2.727618932723999, \"\\u2581gentle\": -3.352618932723999, \"\\u2581rich\": -3.352\n",
      "2025-05-13 10:59:44,879 [INFO ] [api_client.api_clien]: Received 20 token strings (finish_reason=length).\n",
      "2025-05-13 10:59:44,882 [DEBUG] [api_client.api_clien]: POST https://ncfi2yswjottwq-8888.proxy.runpod.net/v1/completions\n",
      "2025-05-13 10:59:44,882 [DEBUG] [api_client.api_clien]: Payload: {\"model\": \"unsloth/gemma-3-4b-it\", \"prompt\": \"<bos><start_of_turn>user\\nWriting prompt: After defeating the Devil down in Georgia, Johnny proudly proclaims he's the best that's ever been. A flash of lightning crashes down and God appears, fiddle in hand. The Devil gets his popcorn ready.\\n\\nWrite 1000 words to this prompt. Your response:\\n<end_of_turn>\\n<start_of_turn>model\\nThe rain in Georgia was a greasy, insistent thing, clinging to everything with the stubbornness of regret. It mirrored the\n"
     ]
    },
    {
     "name": "stdout",
     "output_type": "stream",
     "text": [
      "Batch Generating:   0%|          | 0/1 [00:24<?, ?prompt/s, 23.7 tok/s]"
     ]
    },
    {
     "name": "stderr",
     "output_type": "stream",
     "text": [
      "2025-05-13 10:59:45,418 [DEBUG] [urllib3.connectionpo]: https://ncfi2yswjottwq-8888.proxy.runpod.net:443 \"POST /v1/completions HTTP/1.1\" 200 None\n",
      "2025-05-13 10:59:45,481 [DEBUG] [api_client.api_clien]: Raw response: {\"id\": \"cmpl-312974a72f7e44dba6752a5d04fc2629\", \"object\": \"text_completion\", \"created\": 1747097990, \"model\": \"unsloth/gemma-3-4b-it\", \"choices\": [{\"index\": 0, \"text\": \" \\u201cYou\\u2019ve certainly made a spectacle of yourself.\\u201d\\n\\nThe Devil, still chained and groaning\", \"logprobs\": {\"text_offset\": [0, 2, 5, 6, 8, 18, 23, 25, 35, 38, 47, 49, 51, 54, 60, 61, 67, 75, 79, 83], \"token_logprobs\": [-0.0701470747590065, -0.04336697235703468, -0.12845410406589508, -9.179073458653875e-06, -0.6256031394004822, -1.4358603954315186, -0.01679600588977337, -0.13564945757389069, -0.0003992714046034962, -0.13276635110378265, -0.24293026328086853, -0.6955036520957947, -0.6674107313156128, -0.00017021637177094817, -0.0035101487301290035, -0.6118866801261902, -0.12360887974500656, -0.15406562387943268, -2.5408151149749756, -0.008688976056873798], \"tokens\": [\"\\u2581\\u201c\", \"You\", \"\\u2019\", \"ve\", \"\\u2581certainly\", \"\\u2581made\", \"\\u2581a\", \"\\u2581spectacle\", \"\\u2581of\", \"\\u2581yourself\", \".\\u201d\", \"\\n\\n\", \"The\", \"\\u2581Devil\", \",\", \"\\u2581still\", \"\\u2581chained\", \"\\u2581and\", \"\\u2581gro\", \"aning\"], \"top_logprobs\": [{\"\\u2581\\u201c\": -0.0701470747590065, \"\\u2581\\\"\": -2.9451470375061035, \"\\u2581\\u2581\": -4.6951470375061035, \"\\u2581He\": -5.6951470375061035, \"\\u2581The\": -7.1951470375061035, \"\\u2581His\": -7.3201470375061035, \"\\u2581\": -7.5701470375061035, \"\\u2581It\": -7.8201470375061035, \"\\u2581There\": -8.320147514343262, \"\\n\\n\": -9.945147514343262, \"\\u2581No\": -11.695147514343262, \"\\u2581A\": -12.070147514343262, \"\\u2581\\u2581\\u2581\": -13.070147514343262, \"\\u2581Each\": -13.445147514343262, \"\\u2581\\u2018\": -13.570147514343262, \"\\u2581Without\": -13.695147514343262, \"\\u2581When\": -13.695147514343262, \"\\u2581Then\": -14.070147514343262, \"\\u2581Every\": -14.195147514343262, \"\\u2581And\": -14.445147514343262}, {\"You\": -0.04336697235703468, \"For\": -3.6683669090270996, \"A\": -5.0433669090271, \"Truly\": -5.9183669090271, \"Remark\": -6.2933669090271, \"To\": -6.4183669090271, \"Most\": -6.9183669090271, \"\n",
      "2025-05-13 10:59:45,481 [INFO ] [api_client.api_clien]: Received 20 token strings (finish_reason=length).\n",
      "2025-05-13 10:59:45,483 [DEBUG] [api_client.api_clien]: POST https://ncfi2yswjottwq-8888.proxy.runpod.net/v1/completions\n",
      "2025-05-13 10:59:45,483 [DEBUG] [api_client.api_clien]: Payload: {\"model\": \"unsloth/gemma-3-4b-it\", \"prompt\": \"<bos><start_of_turn>user\\nWriting prompt: After defeating the Devil down in Georgia, Johnny proudly proclaims he's the best that's ever been. A flash of lightning crashes down and God appears, fiddle in hand. The Devil gets his popcorn ready.\\n\\nWrite 1000 words to this prompt. Your response:\\n<end_of_turn>\\n<start_of_turn>model\\nThe rain in Georgia was a greasy, insistent thing, clinging to everything with the stubbornness of regret. It mirrored the\n"
     ]
    },
    {
     "name": "stdout",
     "output_type": "stream",
     "text": [
      "Batch Generating:   0%|          | 0/1 [00:25<?, ?prompt/s, 23.9 tok/s]"
     ]
    },
    {
     "name": "stderr",
     "output_type": "stream",
     "text": [
      "2025-05-13 10:59:46,027 [DEBUG] [urllib3.connectionpo]: https://ncfi2yswjottwq-8888.proxy.runpod.net:443 \"POST /v1/completions HTTP/1.1\" 200 None\n",
      "2025-05-13 10:59:46,094 [DEBUG] [api_client.api_clien]: Raw response: {\"id\": \"cmpl-32c09a534fdb4bf990d0b4497c828783\", \"object\": \"text_completion\", \"created\": 1747097991, \"model\": \"unsloth/gemma-3-4b-it\", \"choices\": [{\"index\": 0, \"text\": \", let out a choked, indignant squeak. He scrambled to his feet, trying to glare at\", \"logprobs\": {\"text_offset\": [0, 1, 5, 9, 11, 18, 19, 29, 34, 36, 37, 40, 50, 53, 57, 62, 63, 70, 73, 79], \"token_logprobs\": [-0.07894086092710495, -1.7228137254714966, -7.70062324590981e-05, -0.0002699726028367877, -1.3085635900497437, -0.411281943321228, -2.9392552375793457, -0.6609346866607666, -0.12692846357822418, -0.004339801147580147, -1.097206711769104, -1.3617291450500488, -0.06761357188224792, -0.027544423937797546, -0.0024374795611947775, -0.03557034581899643, -2.085580348968506, -0.013590195216238499, -1.651728868484497, -0.1235569417476654], \"tokens\": [\",\", \"\\u2581let\", \"\\u2581out\", \"\\u2581a\", \"\\u2581choked\", \",\", \"\\u2581indignant\", \"\\u2581sque\", \"ak\", \".\", \"\\u2581He\", \"\\u2581scrambled\", \"\\u2581to\", \"\\u2581his\", \"\\u2581feet\", \",\", \"\\u2581trying\", \"\\u2581to\", \"\\u2581glare\", \"\\u2581at\"], \"top_logprobs\": [{\",\": -0.07894086092710495, \"\\u2581weakly\": -3.3289408683776855, \"\\u2581beneath\": -4.7039408683776855, \"\\u2581pitiful\": -4.9539408683776855, \"\\u2581softly\": -5.0789408683776855, \"\\u2581in\": -5.7039408683776855, \"\\u2581faintly\": -5.9539408683776855, \"\\u2581miserably\": -5.9539408683776855, \"\\u2581on\": -5.9539408683776855, \"\\u2581under\": -6.3289408683776855, \"\\u2581pat\": -6.8289408683776855, \"\\u2581quietly\": -7.7039408683776855, \"\\u2581at\": -7.7039408683776855, \"\\u2581below\": -8.078940391540527, \"\\u2581fe\": -8.203940391540527, \"\\u2581with\": -8.453940391540527, \"\\u2581beside\": -8.453940391540527, \"\\u2581nearby\": -8.703940391540527, \"\\u2581useless\": -8.828940391540527, \"\\u2581near\": -8.828940391540527}, {\"\\u2581let\": -1.7228137254714966, \"\\u2581looked\": -1.2228137254714966, \"\\u2581scrambled\": -2.597813606262207, \"\\u2581shifted\": -2.722813606262207, \"\\u2581suddenly\": -3.347813606262207, \"\\u2581choked\": -3.47281360\n",
      "2025-05-13 10:59:46,094 [INFO ] [api_client.api_clien]: Received 20 token strings (finish_reason=length).\n",
      "2025-05-13 10:59:46,096 [DEBUG] [api_client.api_clien]: POST https://ncfi2yswjottwq-8888.proxy.runpod.net/v1/completions\n",
      "2025-05-13 10:59:46,096 [DEBUG] [api_client.api_clien]: Payload: {\"model\": \"unsloth/gemma-3-4b-it\", \"prompt\": \"<bos><start_of_turn>user\\nWriting prompt: After defeating the Devil down in Georgia, Johnny proudly proclaims he's the best that's ever been. A flash of lightning crashes down and God appears, fiddle in hand. The Devil gets his popcorn ready.\\n\\nWrite 1000 words to this prompt. Your response:\\n<end_of_turn>\\n<start_of_turn>model\\nThe rain in Georgia was a greasy, insistent thing, clinging to everything with the stubbornness of regret. It mirrored the\n"
     ]
    },
    {
     "name": "stdout",
     "output_type": "stream",
     "text": [
      "Batch Generating:   0%|          | 0/1 [00:25<?, ?prompt/s, 24.2 tok/s]"
     ]
    },
    {
     "name": "stderr",
     "output_type": "stream",
     "text": [
      "2025-05-13 10:59:46,636 [DEBUG] [urllib3.connectionpo]: https://ncfi2yswjottwq-8888.proxy.runpod.net:443 \"POST /v1/completions HTTP/1.1\" 200 None\n",
      "2025-05-13 10:59:46,698 [DEBUG] [api_client.api_clien]: Raw response: {\"id\": \"cmpl-4b03bf3790a841b5af4f7a70bdac661e\", \"object\": \"text_completion\", \"created\": 1747097991, \"model\": \"unsloth/gemma-3-4b-it\", \"choices\": [{\"index\": 0, \"text\": \" the newcomer, but his eyes simply widened in a terrified, bewildered expression. \\n\\n\\u201cWho\\u2026\", \"logprobs\": {\"text_offset\": [0, 4, 13, 14, 18, 22, 27, 34, 42, 45, 47, 57, 58, 69, 80, 81, 82, 84, 85, 88], \"token_logprobs\": [-0.05654175207018852, -0.030641604214906693, -0.029594305902719498, -0.01142294704914093, -0.1869325041770935, -1.3234220743179321, -2.50069522857666, -0.9470939040184021, -0.31975534558296204, -0.7554170489311218, -2.585111379623413, -0.0568472295999527, -1.9157021045684814, -0.6347799301147461, -0.0007060657371766865, -0.3582026958465576, -3.6477376852417365e-05, -0.107785664498806, -0.15520192682743073, -0.44745683670043945], \"tokens\": [\"\\u2581the\", \"\\u2581newcomer\", \",\", \"\\u2581but\", \"\\u2581his\", \"\\u2581eyes\", \"\\u2581simply\", \"\\u2581widened\", \"\\u2581in\", \"\\u2581a\", \"\\u2581terrified\", \",\", \"\\u2581bewildered\", \"\\u2581expression\", \".\", \"\\u2581\", \"\\n\\n\", \"\\u201c\", \"Who\", \"\\u2026\"], \"top_logprobs\": [{\"\\u2581the\": -0.05654175207018852, \"\\u2581this\": -3.181541681289673, \"\\u2581his\": -4.556541919708252, \"\\u2581whoever\": -7.056541919708252, \"\\u2581whatever\": -7.181541919708252, \"\\u2026\": -7.431541919708252, \"\\u2581God\": -8.431541442871094, \"\\u2581both\": -8.556541442871094, \"\\u2581their\": -9.181541442871094, \"\\u2581what\": -9.556541442871094, \"\\u2581Johnny\": -10.556541442871094, \"...\": -10.681541442871094, \"\\u2581him\": -10.931541442871094, \"\\u2581\\u2013\": -10.931541442871094, \"\\u2581something\": -11.306541442871094, \"\\u2581everyone\": -11.556541442871094, \"\\u2581*\": -12.181541442871094, \"\\u2581\\u2018\": -12.306541442871094, \"\\u2581\\u201c\": -12.431541442871094, \"\\u2581a\": -12.556541442871094}, {\"\\u2581newcomer\": -0.030641604214906693, \"\\u2581stranger\": -4.905641555786133, \"\\u2581figure\": -4.905641555786133, \"\\u2581new\": -5.280641555786133, \"\\u2581apparition\": -5.655641555786133, \"\\u258\n",
      "2025-05-13 10:59:46,699 [INFO ] [api_client.api_clien]: Received 20 token strings (finish_reason=length).\n",
      "2025-05-13 10:59:46,700 [WARNI] [validators.slop_phra]: Slop violation: 'widened' @tok=594 (char_pos=2518) …but his eyes simply widened in a terrified, bew…\n",
      "2025-05-13 10:59:46,701 [WARNI] [core.sampler        ]: Back-tracking @tok=594 orig='▁widened' ban='{'phrase': 'widened', 'context': 'but his eyes simply widened in a terrified, bew', 'suppression_detail_key': 'widened'}'.\n",
      "2025-05-13 10:59:46,701 [INFO ] [state.generation_sta]: GenerationState initialised. Prompt length (chars) = 266\n",
      "2025-05-13 10:59:46,701 [INFO ] [state.generation_sta]: GenerationState initialised. Prompt length (chars) = 266\n",
      "2025-05-13 10:59:46,701 [INFO ] [state.generation_sta]: GenerationState initialised. Prompt length (chars) = 266\n",
      "2025-05-13 10:59:46,701 [INFO ] [state.generation_sta]: GenerationState initialised. Prompt length (chars) = 266\n",
      "2025-05-13 10:59:46,701 [INFO ] [state.generation_sta]: GenerationState initialised. Prompt length (chars) = 266\n",
      "2025-05-13 10:59:46,701 [INFO ] [state.generation_sta]: GenerationState initialised. Prompt length (chars) = 266\n",
      "2025-05-13 10:59:46,701 [INFO ] [state.generation_sta]: GenerationState initialised. Prompt length (chars) = 266\n",
      "2025-05-13 10:59:46,701 [INFO ] [state.generation_sta]: GenerationState initialised. Prompt length (chars) = 266\n",
      "2025-05-13 10:59:46,701 [INFO ] [state.generation_sta]: GenerationState initialised. Prompt length (chars) = 266\n",
      "2025-05-13 10:59:46,701 [INFO ] [state.generation_sta]: GenerationState initialised. Prompt length (chars) = 266\n",
      "2025-05-13 10:59:46,701 [INFO ] [state.generation_sta]: GenerationState initialised. Prompt length (chars) = 266\n",
      "2025-05-13 10:59:46,701 [INFO ] [state.generation_sta]: GenerationState initialised. Prompt length (chars) = 266\n",
      "2025-05-13 10:59:46,701 [INFO ] [state.generation_sta]: GenerationState initialised. Prompt length (chars) = 266\n",
      "2025-05-13 10:59:46,701 [INFO ] [state.generation_sta]: GenerationState initialised. Prompt length (chars) = 266\n",
      "2025-05-13 10:59:46,701 [INFO ] [state.generation_sta]: GenerationState initialised. Prompt length (chars) = 266\n",
      "2025-05-13 10:59:46,701 [INFO ] [state.generation_sta]: GenerationState initialised. Prompt length (chars) = 266\n",
      "2025-05-13 10:59:46,701 [INFO ] [state.generation_sta]: GenerationState initialised. Prompt length (chars) = 266\n",
      "2025-05-13 10:59:46,701 [INFO ] [state.generation_sta]: GenerationState initialised. Prompt length (chars) = 266\n",
      "2025-05-13 10:59:46,702 [INFO ] [state.generation_sta]: GenerationState initialised. Prompt length (chars) = 266\n",
      "2025-05-13 10:59:46,702 [WARNI] [core.sampler        ]:     ✓ replacement='▁glazed' (pool=1, T=0.7, min_p=0.05, top_p=1.0, top_k=50)\n",
      "2025-05-13 10:59:46,702 [DEBUG] [root                ]: BANNED (prompt_idx=0, type=slop_phrase, phrase='widened' @ orig_token='▁widened' ...'but his eyes simply widened in a terrified, bew'...)\n",
      "2025-05-13 10:59:46,702 [DEBUG] [api_client.api_clien]: POST https://ncfi2yswjottwq-8888.proxy.runpod.net/v1/completions\n",
      "2025-05-13 10:59:46,703 [DEBUG] [api_client.api_clien]: Payload: {\"model\": \"unsloth/gemma-3-4b-it\", \"prompt\": \"<bos><start_of_turn>user\\nWriting prompt: After defeating the Devil down in Georgia, Johnny proudly proclaims he's the best that's ever been. A flash of lightning crashes down and God appears, fiddle in hand. The Devil gets his popcorn ready.\\n\\nWrite 1000 words to this prompt. Your response:\\n<end_of_turn>\\n<start_of_turn>model\\nThe rain in Georgia was a greasy, insistent thing, clinging to everything with the stubbornness of regret. It mirrored the\n"
     ]
    },
    {
     "name": "stdout",
     "output_type": "stream",
     "text": [
      "Batch Generating:   0%|          | 0/1 [00:26<?, ?prompt/s, 23.9 tok/s]"
     ]
    },
    {
     "name": "stderr",
     "output_type": "stream",
     "text": [
      "2025-05-13 10:59:47,245 [DEBUG] [urllib3.connectionpo]: https://ncfi2yswjottwq-8888.proxy.runpod.net:443 \"POST /v1/completions HTTP/1.1\" 200 None\n",
      "2025-05-13 10:59:47,307 [DEBUG] [api_client.api_clien]: Raw response: {\"id\": \"cmpl-7a326d63e9124fee833d1bc04661f8cb\", \"object\": \"text_completion\", \"created\": 1747097992, \"model\": \"unsloth/gemma-3-4b-it\", \"choices\": [{\"index\": 0, \"text\": \" over with a bewildered panic. \\n\\n\\u201cWho are you?\\u201d Johnny asked, his voice suddenly thin\", \"logprobs\": {\"text_offset\": [0, 5, 10, 12, 23, 29, 30, 31, 33, 34, 37, 41, 45, 47, 54, 60, 61, 65, 71, 80], \"token_logprobs\": [-9.298280929215252e-06, -0.18087007105350494, -0.21514512598514557, -0.9301068782806396, -2.848935842514038, -8.856858039507642e-05, -0.2887454628944397, -2.1934269170742482e-05, -0.10317517817020416, -0.07733133435249329, -1.0189818143844604, -0.0028936679009348154, -0.0005958688561804593, -1.883488948806189e-05, -0.5331202745437622, -3.576278118089249e-07, -0.08742383867502213, -1.6510555744171143, -0.3641928732395172, -1.3948071002960205], \"tokens\": [\"\\u2581over\", \"\\u2581with\", \"\\u2581a\", \"\\u2581bewildered\", \"\\u2581panic\", \".\", \"\\u2581\", \"\\n\\n\", \"\\u201c\", \"Who\", \"\\u2581are\", \"\\u2581you\", \"?\\u201d\", \"\\u2581Johnny\", \"\\u2581asked\", \",\", \"\\u2581his\", \"\\u2581voice\", \"\\u2581suddenly\", \"\\u2581thin\"], \"top_logprobs\": [{\"\\u2581over\": -9.298280929215252e-06, \"\\u2581with\": -11.625009536743164, \",\": -16.375009536743164, \"-\": -16.750009536743164, \".\": -17.000009536743164, \"\\u2581blank\": -17.000009536743164, \"\\u2581into\": -17.500009536743164, \"\\u2581in\": -17.750009536743164, \"\\u2581past\": -17.750009536743164, \"over\": -17.875009536743164, \"\\u2581out\": -18.125009536743164, \"\\u2581back\": -18.250009536743164, \"\\u2581right\": -18.250009536743164, \"\\u2581harmless\": -18.250009536743164, \"\\u2581vacant\": -18.875009536743164, \"\\u2581across\": -18.875009536743164, \"\\u2581\\u00f6ver\": -19.125009536743164, \"\\u2581\\u2581\": -19.375009536743164, \"\\u2581white\": -19.375009536743164, \"\\u2581and\": -19.500009536743164}, {\"\\u2581with\": -0.18087007105350494, \",\": -2.1808700561523438, \"\\u2581in\": -3.3058700561523438, \".\": -4.180870056152344, \"\\u2581as\": -8.055870056152344, \"\\u2581and\": -8.805870056152344, \"\\u2581for\n",
      "2025-05-13 10:59:47,307 [INFO ] [api_client.api_clien]: Received 20 token strings (finish_reason=length).\n",
      "2025-05-13 10:59:47,309 [WARNI] [validators.ngram_val]: NGram violation: 'asked voice' (stopwords_removed=True) @tok=609 (char_pos=2579). Context: ...anic.   “Who are you?” Johnny asked, his voice suddenly thin...\n",
      "2025-05-13 10:59:47,309 [WARNI] [core.sampler        ]: Back-tracking @tok=609 orig='▁asked' ban='{'ngram_tuple': ['asked', 'voice'], 'ngram_string': 'asked voice', 'remove_stopwords_active': True, 'context': 'anic.   “Who are you?” Johnny asked, his voice suddenly thin', 'suppression_detail_key': 'asked voice (stopwords_removed=True)'}'.\n",
      "2025-05-13 10:59:47,309 [INFO ] [state.generation_sta]: GenerationState initialised. Prompt length (chars) = 266\n",
      "2025-05-13 10:59:47,309 [INFO ] [state.generation_sta]: GenerationState initialised. Prompt length (chars) = 266\n",
      "2025-05-13 10:59:47,309 [INFO ] [state.generation_sta]: GenerationState initialised. Prompt length (chars) = 266\n",
      "2025-05-13 10:59:47,309 [INFO ] [state.generation_sta]: GenerationState initialised. Prompt length (chars) = 266\n",
      "2025-05-13 10:59:47,309 [INFO ] [state.generation_sta]: GenerationState initialised. Prompt length (chars) = 266\n",
      "2025-05-13 10:59:47,309 [INFO ] [state.generation_sta]: GenerationState initialised. Prompt length (chars) = 266\n",
      "2025-05-13 10:59:47,309 [INFO ] [state.generation_sta]: GenerationState initialised. Prompt length (chars) = 266\n",
      "2025-05-13 10:59:47,309 [INFO ] [state.generation_sta]: GenerationState initialised. Prompt length (chars) = 266\n",
      "2025-05-13 10:59:47,310 [INFO ] [state.generation_sta]: GenerationState initialised. Prompt length (chars) = 266\n",
      "2025-05-13 10:59:47,310 [INFO ] [state.generation_sta]: GenerationState initialised. Prompt length (chars) = 266\n",
      "2025-05-13 10:59:47,310 [INFO ] [state.generation_sta]: GenerationState initialised. Prompt length (chars) = 266\n",
      "2025-05-13 10:59:47,310 [INFO ] [state.generation_sta]: GenerationState initialised. Prompt length (chars) = 266\n",
      "2025-05-13 10:59:47,310 [INFO ] [state.generation_sta]: GenerationState initialised. Prompt length (chars) = 266\n",
      "2025-05-13 10:59:47,310 [INFO ] [state.generation_sta]: GenerationState initialised. Prompt length (chars) = 266\n",
      "2025-05-13 10:59:47,310 [INFO ] [state.generation_sta]: GenerationState initialised. Prompt length (chars) = 266\n",
      "2025-05-13 10:59:47,310 [INFO ] [state.generation_sta]: GenerationState initialised. Prompt length (chars) = 266\n",
      "2025-05-13 10:59:47,310 [INFO ] [state.generation_sta]: GenerationState initialised. Prompt length (chars) = 266\n",
      "2025-05-13 10:59:47,310 [INFO ] [state.generation_sta]: GenerationState initialised. Prompt length (chars) = 266\n",
      "2025-05-13 10:59:47,310 [INFO ] [state.generation_sta]: GenerationState initialised. Prompt length (chars) = 266\n",
      "2025-05-13 10:59:47,310 [WARNI] [core.sampler        ]:     ✓ replacement='▁demanded' (pool=2, T=0.7, min_p=0.05, top_p=1.0, top_k=50)\n",
      "2025-05-13 10:59:47,311 [DEBUG] [root                ]: BANNED (prompt_idx=0, type=ngram, ngram='asked voice' (stopwords_removed=True) @ orig_token='▁asked' ...'anic.   “Who are you?” Johnny asked, his voice suddenly thin'...)\n",
      "2025-05-13 10:59:47,311 [DEBUG] [api_client.api_clien]: POST https://ncfi2yswjottwq-8888.proxy.runpod.net/v1/completions\n",
      "2025-05-13 10:59:47,311 [DEBUG] [api_client.api_clien]: Payload: {\"model\": \"unsloth/gemma-3-4b-it\", \"prompt\": \"<bos><start_of_turn>user\\nWriting prompt: After defeating the Devil down in Georgia, Johnny proudly proclaims he's the best that's ever been. A flash of lightning crashes down and God appears, fiddle in hand. The Devil gets his popcorn ready.\\n\\nWrite 1000 words to this prompt. Your response:\\n<end_of_turn>\\n<start_of_turn>model\\nThe rain in Georgia was a greasy, insistent thing, clinging to everything with the stubbornness of regret. It mirrored the\n"
     ]
    },
    {
     "name": "stdout",
     "output_type": "stream",
     "text": [
      "Batch Generating:   0%|          | 0/1 [00:27<?, ?prompt/s, 23.9 tok/s]"
     ]
    },
    {
     "name": "stderr",
     "output_type": "stream",
     "text": [
      "2025-05-13 10:59:48,674 [DEBUG] [urllib3.connectionpo]: https://ncfi2yswjottwq-8888.proxy.runpod.net:443 \"POST /v1/completions HTTP/1.1\" 200 None\n",
      "2025-05-13 10:59:48,840 [DEBUG] [api_client.api_clien]: Raw response: {\"id\": \"cmpl-ab2053e81a6a4547b8ece2976399fe36\", \"object\": \"text_completion\", \"created\": 1747097993, \"model\": \"unsloth/gemma-3-4b-it\", \"choices\": [{\"index\": 0, \"text\": \", trying to maintain his bravado, though his heart hammered against his ribs like a trapped bird.\", \"logprobs\": {\"text_offset\": [0, 1, 8, 11, 20, 24, 29, 32, 33, 40, 44, 50, 59, 67, 71, 76, 81, 83, 91, 96], \"token_logprobs\": [-2.3841855067985307e-07, -1.9265114068984985, -0.00024589852546341717, -0.7443032264709473, -0.18947236239910126, -0.997424840927124, 0.0, -0.1764199435710907, -0.9993540048599243, -0.41091859340667725, -1.4570891857147217, -0.583774745464325, -0.06239531561732292, -2.3841855067985307e-07, -9.536738616588991e-07, -0.17729954421520233, -2.8132995794294402e-05, -0.037853535264730453, -0.00028272447525523603, -3.576278118089249e-07], \"tokens\": [\",\", \"\\u2581trying\", \"\\u2581to\", \"\\u2581maintain\", \"\\u2581his\", \"\\u2581brav\", \"ado\", \",\", \"\\u2581though\", \"\\u2581his\", \"\\u2581heart\", \"\\u2581hammered\", \"\\u2581against\", \"\\u2581his\", \"\\u2581ribs\", \"\\u2581like\", \"\\u2581a\", \"\\u2581trapped\", \"\\u2581bird\", \".\"], \"top_logprobs\": [{\",\": -2.3841855067985307e-07, \".\": -15.25, \"\\u2581instinctively\": -20.5, \"\\u2581his\": -21.375, \"\\u2581cautiously\": -21.625, \"\\u2581\\u2013\": -22.625, \"\\u2581instantly\": -23.625, \"\\u2581defensively\": -24.0, \"\\u2581fiercely\": -24.25, \"\\u2581immediately\": -24.375, \"\\u2581nervously\": -24.625, \"\\u2581,\": -25.25, \"\\u2581tentatively\": -25.25, \"\\u2581again\": -25.75, \"\\u2581bravely\": -26.125, \"\\u2581despite\": -26.375, \"\\u2581automatically\": -26.375, \"\\u2581of\": -26.625, \"\\u2581it\": -26.625, \"\\u2581gru\": -26.875}, {\"\\u2581trying\": -1.9265114068984985, \"\\u2581his\": -0.42651140689849854, \"\\u2581clutching\": -2.676511287689209, \"\\u2581instinctively\": -3.301511287689209, \"\\u2581gripping\": -4.176511287689209, \"\\u2581the\": -4.301511287689209, \"\\u2581instantly\": -4.801511287689209, \"\\u2581struggling\": -5.051511287689209, \"\\u2581adrenaline\": -5.301511287689209, \"\\u2581suddenly\": -5.301511287\n",
      "2025-05-13 10:59:48,840 [INFO ] [api_client.api_clien]: Received 20 token strings (finish_reason=length).\n",
      "2025-05-13 10:59:48,842 [WARNI] [validators.ngram_val]: NGram violation: 'heart hammered ribs' (stopwords_removed=True) @tok=620 (char_pos=2632). Context: ...ntain his bravado, though his heart hammered against his ribs like a trapped bi...\n",
      "2025-05-13 10:59:48,842 [WARNI] [core.sampler        ]: Back-tracking @tok=620 orig='▁heart' ban='{'ngram_tuple': ['heart', 'hammered', 'ribs'], 'ngram_string': 'heart hammered ribs', 'remove_stopwords_active': True, 'context': 'ntain his bravado, though his heart hammered against his ribs like a trapped bi', 'suppression_detail_key': 'heart hammered ribs (stopwords_removed=True)'}'.\n",
      "2025-05-13 10:59:48,842 [INFO ] [state.generation_sta]: GenerationState initialised. Prompt length (chars) = 266\n",
      "2025-05-13 10:59:48,842 [INFO ] [state.generation_sta]: GenerationState initialised. Prompt length (chars) = 266\n",
      "2025-05-13 10:59:48,842 [INFO ] [state.generation_sta]: GenerationState initialised. Prompt length (chars) = 266\n",
      "2025-05-13 10:59:48,842 [INFO ] [state.generation_sta]: GenerationState initialised. Prompt length (chars) = 266\n",
      "2025-05-13 10:59:48,842 [INFO ] [state.generation_sta]: GenerationState initialised. Prompt length (chars) = 266\n",
      "2025-05-13 10:59:48,842 [INFO ] [state.generation_sta]: GenerationState initialised. Prompt length (chars) = 266\n",
      "2025-05-13 10:59:48,842 [INFO ] [state.generation_sta]: GenerationState initialised. Prompt length (chars) = 266\n",
      "2025-05-13 10:59:48,842 [INFO ] [state.generation_sta]: GenerationState initialised. Prompt length (chars) = 266\n",
      "2025-05-13 10:59:48,843 [INFO ] [state.generation_sta]: GenerationState initialised. Prompt length (chars) = 266\n",
      "2025-05-13 10:59:48,843 [INFO ] [state.generation_sta]: GenerationState initialised. Prompt length (chars) = 266\n",
      "2025-05-13 10:59:48,843 [INFO ] [state.generation_sta]: GenerationState initialised. Prompt length (chars) = 266\n",
      "2025-05-13 10:59:48,843 [INFO ] [state.generation_sta]: GenerationState initialised. Prompt length (chars) = 266\n",
      "2025-05-13 10:59:48,843 [INFO ] [state.generation_sta]: GenerationState initialised. Prompt length (chars) = 266\n",
      "2025-05-13 10:59:48,843 [INFO ] [state.generation_sta]: GenerationState initialised. Prompt length (chars) = 266\n",
      "2025-05-13 10:59:48,843 [INFO ] [state.generation_sta]: GenerationState initialised. Prompt length (chars) = 266\n",
      "2025-05-13 10:59:48,843 [INFO ] [state.generation_sta]: GenerationState initialised. Prompt length (chars) = 266\n",
      "2025-05-13 10:59:48,843 [INFO ] [state.generation_sta]: GenerationState initialised. Prompt length (chars) = 266\n",
      "2025-05-13 10:59:48,843 [INFO ] [state.generation_sta]: GenerationState initialised. Prompt length (chars) = 266\n",
      "2025-05-13 10:59:48,843 [INFO ] [state.generation_sta]: GenerationState initialised. Prompt length (chars) = 266\n",
      "2025-05-13 10:59:48,843 [WARNI] [core.sampler        ]:     ✓ replacement='▁knees' (pool=5, T=0.7, min_p=0.05, top_p=1.0, top_k=50)\n",
      "2025-05-13 10:59:48,844 [DEBUG] [root                ]: BANNED (prompt_idx=0, type=ngram, ngram='heart hammered ribs' (stopwords_removed=True) @ orig_token='▁heart' ...'ntain his bravado, though his heart hammered against his ribs like a trapped bi'...)\n",
      "2025-05-13 10:59:48,844 [DEBUG] [api_client.api_clien]: POST https://ncfi2yswjottwq-8888.proxy.runpod.net/v1/completions\n",
      "2025-05-13 10:59:48,844 [DEBUG] [api_client.api_clien]: Payload: {\"model\": \"unsloth/gemma-3-4b-it\", \"prompt\": \"<bos><start_of_turn>user\\nWriting prompt: After defeating the Devil down in Georgia, Johnny proudly proclaims he's the best that's ever been. A flash of lightning crashes down and God appears, fiddle in hand. The Devil gets his popcorn ready.\\n\\nWrite 1000 words to this prompt. Your response:\\n<end_of_turn>\\n<start_of_turn>model\\nThe rain in Georgia was a greasy, insistent thing, clinging to everything with the stubbornness of regret. It mirrored the\n"
     ]
    },
    {
     "name": "stdout",
     "output_type": "stream",
     "text": [
      "Batch Generating:   0%|          | 0/1 [00:28<?, ?prompt/s, 23.0 tok/s]"
     ]
    },
    {
     "name": "stderr",
     "output_type": "stream",
     "text": [
      "2025-05-13 10:59:49,386 [DEBUG] [urllib3.connectionpo]: https://ncfi2yswjottwq-8888.proxy.runpod.net:443 \"POST /v1/completions HTTP/1.1\" 200 None\n",
      "2025-05-13 10:59:49,448 [DEBUG] [api_client.api_clien]: Raw response: {\"id\": \"cmpl-ecba02ff1b3046bbb49c5a9a1f376fa3\", \"object\": \"text_completion\", \"created\": 1747097994, \"model\": \"unsloth/gemma-3-4b-it\", \"choices\": [{\"index\": 0, \"text\": \" were suddenly weak. He\\u2019d faced down demons, wrestled with shadows, but this\\u2026 this was\", \"logprobs\": {\"text_offset\": [0, 5, 14, 19, 20, 23, 24, 25, 31, 36, 43, 44, 53, 58, 66, 67, 71, 76, 77, 82], \"token_logprobs\": [-0.5062156319618225, -0.06571916490793228, -0.21585789322853088, -0.03887341916561127, -0.5449445843696594, -0.38570332527160645, -2.3841855067985307e-07, -0.13346144556999207, -0.1340852677822113, -0.3734318017959595, -0.22569100558757782, -2.011216163635254, -0.09203319251537323, -2.503422737121582, -0.0007084482349455357, -0.11401145905256271, -0.09333827346563339, -0.14780041575431824, -0.005036761052906513, -0.16792598366737366], \"tokens\": [\"\\u2581were\", \"\\u2581suddenly\", \"\\u2581weak\", \".\", \"\\u2581He\", \"\\u2019\", \"d\", \"\\u2581faced\", \"\\u2581down\", \"\\u2581demons\", \",\", \"\\u2581wrestled\", \"\\u2581with\", \"\\u2581shadows\", \",\", \"\\u2581but\", \"\\u2581this\", \"\\u2026\", \"\\u2581this\", \"\\u2581was\"], \"top_logprobs\": [{\"\\u2581were\": -0.5062156319618225, \"\\u2581felt\": -1.0062155723571777, \"\\u2581suddenly\": -3.7562155723571777, \"\\u2581threatened\": -4.881215572357178, \"\\u2581had\": -8.131216049194336, \"\\u2581wob\": -8.756216049194336, \"\\u2581trembled\": -9.131216049194336, \"\\u2581started\": -10.631216049194336, \"\\u2581weren\": -10.631216049194336, \"\\u2581began\": -10.756216049194336, \"\\u2581seemed\": -11.756216049194336, \"\\u2581shook\": -11.881216049194336, \"\\u2581now\": -12.506216049194336, \"\\u2581rattled\": -12.881216049194336, \"\\u2581feeling\": -12.881216049194336, \"\\u2581hadn\": -13.256216049194336, \"\\u2581buck\": -13.506216049194336, \"\\u2581feel\": -13.631216049194336, \"\\u2581betrayed\": -13.756216049194336, \"\\u2581wanted\": -13.881216049194336}, {\"\\u2581suddenly\": -0.06571916490793228, \"\\u2581starting\": -3.0657191276550293, \"\\u2581shaking\": -5.065719127655029, \"\\u2581beginning\": -5.315719127655029, \"\\u2581\n",
      "2025-05-13 10:59:49,448 [INFO ] [api_client.api_clien]: Received 20 token strings (finish_reason=length).\n",
      "2025-05-13 10:59:49,449 [WARNI] [validators.slop_phra]: Slop violation: 'demon' @tok=630 (char_pos=2674) …ak. He’d faced down demons, wrestled with sha…\n",
      "2025-05-13 10:59:49,450 [WARNI] [core.sampler        ]: Back-tracking @tok=630 orig='▁demons' ban='{'phrase': 'demon', 'context': 'ak. He’d faced down demons, wrestled with sha', 'suppression_detail_key': 'demon'}'.\n",
      "2025-05-13 10:59:49,450 [INFO ] [state.generation_sta]: GenerationState initialised. Prompt length (chars) = 266\n",
      "2025-05-13 10:59:49,450 [INFO ] [state.generation_sta]: GenerationState initialised. Prompt length (chars) = 266\n",
      "2025-05-13 10:59:49,450 [INFO ] [state.generation_sta]: GenerationState initialised. Prompt length (chars) = 266\n",
      "2025-05-13 10:59:49,450 [INFO ] [state.generation_sta]: GenerationState initialised. Prompt length (chars) = 266\n",
      "2025-05-13 10:59:49,450 [INFO ] [state.generation_sta]: GenerationState initialised. Prompt length (chars) = 266\n",
      "2025-05-13 10:59:49,450 [INFO ] [state.generation_sta]: GenerationState initialised. Prompt length (chars) = 266\n",
      "2025-05-13 10:59:49,450 [INFO ] [state.generation_sta]: GenerationState initialised. Prompt length (chars) = 266\n",
      "2025-05-13 10:59:49,450 [INFO ] [state.generation_sta]: GenerationState initialised. Prompt length (chars) = 266\n",
      "2025-05-13 10:59:49,450 [INFO ] [state.generation_sta]: GenerationState initialised. Prompt length (chars) = 266\n",
      "2025-05-13 10:59:49,450 [INFO ] [state.generation_sta]: GenerationState initialised. Prompt length (chars) = 266\n",
      "2025-05-13 10:59:49,450 [INFO ] [state.generation_sta]: GenerationState initialised. Prompt length (chars) = 266\n",
      "2025-05-13 10:59:49,450 [INFO ] [state.generation_sta]: GenerationState initialised. Prompt length (chars) = 266\n",
      "2025-05-13 10:59:49,451 [INFO ] [state.generation_sta]: GenerationState initialised. Prompt length (chars) = 266\n",
      "2025-05-13 10:59:49,451 [INFO ] [state.generation_sta]: GenerationState initialised. Prompt length (chars) = 266\n",
      "2025-05-13 10:59:49,451 [INFO ] [state.generation_sta]: GenerationState initialised. Prompt length (chars) = 266\n",
      "2025-05-13 10:59:49,451 [INFO ] [state.generation_sta]: GenerationState initialised. Prompt length (chars) = 266\n",
      "2025-05-13 10:59:49,451 [INFO ] [state.generation_sta]: GenerationState initialised. Prompt length (chars) = 266\n",
      "2025-05-13 10:59:49,451 [INFO ] [state.generation_sta]: GenerationState initialised. Prompt length (chars) = 266\n",
      "2025-05-13 10:59:49,451 [INFO ] [state.generation_sta]: GenerationState initialised. Prompt length (chars) = 266\n",
      "2025-05-13 10:59:49,451 [WARNI] [core.sampler        ]:     ✓ replacement='▁monsters' (pool=6, T=0.7, min_p=0.05, top_p=1.0, top_k=50)\n",
      "2025-05-13 10:59:49,451 [DEBUG] [root                ]: BANNED (prompt_idx=0, type=slop_phrase, phrase='demon' @ orig_token='▁demons' ...'ak. He’d faced down demons, wrestled with sha'...)\n",
      "2025-05-13 10:59:49,452 [DEBUG] [api_client.api_clien]: POST https://ncfi2yswjottwq-8888.proxy.runpod.net/v1/completions\n",
      "2025-05-13 10:59:49,452 [DEBUG] [api_client.api_clien]: Payload: {\"model\": \"unsloth/gemma-3-4b-it\", \"prompt\": \"<bos><start_of_turn>user\\nWriting prompt: After defeating the Devil down in Georgia, Johnny proudly proclaims he's the best that's ever been. A flash of lightning crashes down and God appears, fiddle in hand. The Devil gets his popcorn ready.\\n\\nWrite 1000 words to this prompt. Your response:\\n<end_of_turn>\\n<start_of_turn>model\\nThe rain in Georgia was a greasy, insistent thing, clinging to everything with the stubbornness of regret. It mirrored the\n"
     ]
    },
    {
     "name": "stdout",
     "output_type": "stream",
     "text": [
      "Batch Generating:   0%|          | 0/1 [00:29<?, ?prompt/s, 22.8 tok/s]"
     ]
    },
    {
     "name": "stderr",
     "output_type": "stream",
     "text": [
      "2025-05-13 10:59:50,000 [DEBUG] [urllib3.connectionpo]: https://ncfi2yswjottwq-8888.proxy.runpod.net:443 \"POST /v1/completions HTTP/1.1\" 200 None\n",
      "2025-05-13 10:59:50,067 [DEBUG] [api_client.api_clien]: Raw response: {\"id\": \"cmpl-a6482c0c39f042aca7ac35825c30061d\", \"object\": \"text_completion\", \"created\": 1747097994, \"model\": \"unsloth/gemma-3-4b-it\", \"choices\": [{\"index\": 0, \"text\": \", criminals, the darkest corners of human nature, but this\\u2026 this was something else entirely. \", \"logprobs\": {\"text_offset\": [0, 1, 11, 12, 16, 24, 32, 35, 41, 48, 49, 53, 58, 59, 64, 68, 78, 83, 92, 93], \"token_logprobs\": [-0.2372409701347351, -1.7306184768676758, -0.0004923323867842555, -3.1316275596618652, -0.44117432832717896, -0.07512953877449036, -3.933898824470816e-06, -0.6698346734046936, -0.49403947591781616, -0.14355573058128357, -2.777537883957848e-05, -0.09482338279485703, -0.11627817153930664, -0.0039384192787110806, -0.07554159313440323, -1.1073169708251953, -0.1455538272857666, -0.0070382049307227135, -9.536697689327411e-06, -0.1684645116329193], \"tokens\": [\",\", \"\\u2581criminals\", \",\", \"\\u2581the\", \"\\u2581darkest\", \"\\u2581corners\", \"\\u2581of\", \"\\u2581human\", \"\\u2581nature\", \",\", \"\\u2581but\", \"\\u2581this\", \"\\u2026\", \"\\u2581this\", \"\\u2581was\", \"\\u2581something\", \"\\u2581else\", \"\\u2581entirely\", \".\", \"\\u2581\"], \"top_logprobs\": [{\",\": -0.2372409701347351, \"\\u2581before\": -2.11224102973938, \"\\u2581and\": -2.48724102973938, \"\\u2581of\": -6.737240791320801, \"\\u2581fueled\": -7.112240791320801, \";\": -7.487240791320801, \"\\u2581with\": -7.487240791320801, \"\\u2581in\": -7.487240791320801, \"\\u2581born\": -7.612240791320801, \"\\u2581\\u2013\": -7.737240791320801, \"\\u2581made\": -7.862240791320801, \"\\u2581his\": -8.1122407913208, \"\\u2581armed\": -8.8622407913208, \"\\u2581like\": -8.8622407913208, \".\": -8.9872407913208, \"\\u2581all\": -9.2372407913208, \"\\u2581apl\": -9.2372407913208, \"\\u2581that\": -9.3622407913208, \"\\u2581fuelled\": -9.4872407913208, \"\\u2581both\": -9.4872407913208}, {\"\\u2581criminals\": -1.7306184768676758, \"\\u2581killers\": -0.7306185364723206, \"\\u2581murderers\": -2.605618476867676, \"\\u2581out\": -3.230618476867676, \"\\u2581dealt\": -3.730618476867676, \"\\u2581wrestled\": -3.980618476867676, \"\\u2581bandi\n",
      "2025-05-13 10:59:50,067 [INFO ] [api_client.api_clien]: Received 20 token strings (finish_reason=length).\n",
      "2025-05-13 10:59:50,068 [WARNI] [validators.slop_phra]: Slop violation: 'something else entirely' @tok=646 (char_pos=2751) … but this… this was something else entirely. …\n",
      "2025-05-13 10:59:50,069 [WARNI] [validators.ngram_val]: NGram violation: 'something else entirely' (stopwords_removed=True) @tok=646 (char_pos=2751). Context: ...an nature, but this… this was something else entirely. ...\n",
      "2025-05-13 10:59:50,069 [WARNI] [core.sampler        ]: Back-tracking @tok=646 orig='▁something' ban='{'phrase': 'something else entirely', 'context': ' but this… this was something else entirely. ', 'suppression_detail_key': 'something else entirely'}'.\n",
      "2025-05-13 10:59:50,069 [INFO ] [state.generation_sta]: GenerationState initialised. Prompt length (chars) = 266\n",
      "2025-05-13 10:59:50,069 [INFO ] [state.generation_sta]: GenerationState initialised. Prompt length (chars) = 266\n",
      "2025-05-13 10:59:50,069 [INFO ] [state.generation_sta]: GenerationState initialised. Prompt length (chars) = 266\n",
      "2025-05-13 10:59:50,069 [INFO ] [state.generation_sta]: GenerationState initialised. Prompt length (chars) = 266\n",
      "2025-05-13 10:59:50,069 [INFO ] [state.generation_sta]: GenerationState initialised. Prompt length (chars) = 266\n",
      "2025-05-13 10:59:50,069 [INFO ] [state.generation_sta]: GenerationState initialised. Prompt length (chars) = 266\n",
      "2025-05-13 10:59:50,069 [INFO ] [state.generation_sta]: GenerationState initialised. Prompt length (chars) = 266\n",
      "2025-05-13 10:59:50,069 [INFO ] [state.generation_sta]: GenerationState initialised. Prompt length (chars) = 266\n",
      "2025-05-13 10:59:50,069 [INFO ] [state.generation_sta]: GenerationState initialised. Prompt length (chars) = 266\n",
      "2025-05-13 10:59:50,070 [INFO ] [state.generation_sta]: GenerationState initialised. Prompt length (chars) = 266\n",
      "2025-05-13 10:59:50,070 [INFO ] [state.generation_sta]: GenerationState initialised. Prompt length (chars) = 266\n",
      "2025-05-13 10:59:50,070 [INFO ] [state.generation_sta]: GenerationState initialised. Prompt length (chars) = 266\n",
      "2025-05-13 10:59:50,070 [INFO ] [state.generation_sta]: GenerationState initialised. Prompt length (chars) = 266\n",
      "2025-05-13 10:59:50,070 [INFO ] [state.generation_sta]: GenerationState initialised. Prompt length (chars) = 266\n",
      "2025-05-13 10:59:50,070 [INFO ] [state.generation_sta]: GenerationState initialised. Prompt length (chars) = 266\n",
      "2025-05-13 10:59:50,070 [INFO ] [state.generation_sta]: GenerationState initialised. Prompt length (chars) = 266\n",
      "2025-05-13 10:59:50,070 [INFO ] [state.generation_sta]: GenerationState initialised. Prompt length (chars) = 266\n",
      "2025-05-13 10:59:50,070 [INFO ] [state.generation_sta]: GenerationState initialised. Prompt length (chars) = 266\n",
      "2025-05-13 10:59:50,070 [INFO ] [state.generation_sta]: GenerationState initialised. Prompt length (chars) = 266\n",
      "2025-05-13 10:59:50,070 [WARNI] [core.sampler        ]:     ✓ replacement='▁beyond' (pool=1, T=0.7, min_p=0.05, top_p=1.0, top_k=50)\n",
      "2025-05-13 10:59:50,071 [DEBUG] [root                ]: BANNED (prompt_idx=0, type=slop_phrase, phrase='something else entirely' @ orig_token='▁something' ...'but this… this was something else entirely.'...)\n",
      "2025-05-13 10:59:50,071 [DEBUG] [api_client.api_clien]: POST https://ncfi2yswjottwq-8888.proxy.runpod.net/v1/completions\n",
      "2025-05-13 10:59:50,071 [DEBUG] [api_client.api_clien]: Payload: {\"model\": \"unsloth/gemma-3-4b-it\", \"prompt\": \"<bos><start_of_turn>user\\nWriting prompt: After defeating the Devil down in Georgia, Johnny proudly proclaims he's the best that's ever been. A flash of lightning crashes down and God appears, fiddle in hand. The Devil gets his popcorn ready.\\n\\nWrite 1000 words to this prompt. Your response:\\n<end_of_turn>\\n<start_of_turn>model\\nThe rain in Georgia was a greasy, insistent thing, clinging to everything with the stubbornness of regret. It mirrored the\n"
     ]
    },
    {
     "name": "stdout",
     "output_type": "stream",
     "text": [
      "Batch Generating:   0%|          | 0/1 [00:29<?, ?prompt/s, 22.9 tok/s]"
     ]
    },
    {
     "name": "stderr",
     "output_type": "stream",
     "text": [
      "2025-05-13 10:59:50,614 [DEBUG] [urllib3.connectionpo]: https://ncfi2yswjottwq-8888.proxy.runpod.net:443 \"POST /v1/completions HTTP/1.1\" 200 None\n",
      "2025-05-13 10:59:50,676 [DEBUG] [api_client.api_clien]: Raw response: {\"id\": \"cmpl-814ab8ea737c488fa636150eeb19ff88\", \"object\": \"text_completion\", \"created\": 1747097995, \"model\": \"unsloth/gemma-3-4b-it\", \"choices\": [{\"index\": 0, \"text\": \" anything he\\u2019d ever imagined. \\n\\nThe figure didn't answer immediately. He drew the\", \"logprobs\": {\"text_offset\": [0, 9, 12, 13, 14, 19, 28, 29, 30, 32, 35, 42, 47, 48, 49, 56, 68, 69, 72, 77], \"token_logprobs\": [-0.03556792810559273, -0.0001833270798670128, -0.27052438259124756, 0.0, -0.45049765706062317, -0.6907908916473389, -3.6954195820726454e-05, -0.25811299681663513, -1.4305104514278355e-06, -0.20447209477424622, -0.009202210232615471, -1.0194803476333618, -1.1368709802627563, 0.0, -0.12122146785259247, -0.07586629688739777, -0.00043096792069263756, -0.014887306839227676, -1.5240134000778198, -0.8404350280761719], \"tokens\": [\"\\u2581anything\", \"\\u2581he\", \"\\u2019\", \"d\", \"\\u2581ever\", \"\\u2581imagined\", \".\", \"\\u2581\", \"\\n\\n\", \"The\", \"\\u2581figure\", \"\\u2581didn\", \"'\", \"t\", \"\\u2581answer\", \"\\u2581immediately\", \".\", \"\\u2581He\", \"\\u2581drew\", \"\\u2581the\"], \"top_logprobs\": [{\"\\u2581anything\": -0.03556792810559273, \"\\u2581comprehension\": -3.6605679988861084, \"\\u2581his\": -5.660567760467529, \"\\u2581him\": -5.660567760467529, \"\\u2581any\": -6.285567760467529, \"\\u2581reckoning\": -8.660568237304688, \"\\u2581categorization\": -9.285568237304688, \"\\u2581explanation\": -10.910568237304688, \"\\u2581the\": -10.910568237304688, \"\\u2581understanding\": -11.035568237304688, \"\\u2581logic\": -11.035568237304688, \"\\u2581belief\": -11.410568237304688, \".\": -11.785568237304688, \"\\u2581calculation\": -11.910568237304688, \"\\u2581scale\": -12.410568237304688, \"\\u2581human\": -12.535568237304688, \"\\u2581all\": -12.660568237304688, \"\\u2581even\": -12.785568237304688, \"\\u2581comparison\": -12.910568237304688, \"\\u2581category\": -12.910568237304688}, {\"\\u2581he\": -0.0001833270798670128, \".\": -8.87518310546875, \"\\u2581his\": -10.75018310546875, \"\\u2581in\": -11.37518310546875, \"\\u2581imaginable\": -12.00018310546875, \"\\u2581on\": -14.3751831054\n",
      "2025-05-13 10:59:50,676 [INFO ] [api_client.api_clien]: Received 20 token strings (finish_reason=length).\n",
      "2025-05-13 10:59:50,677 [WARNI] [validators.slop_phra]: Slop violation: 'imagined' @tok=652 (char_pos=2777) … anything he’d ever imagined.   The figure didn'…\n",
      "2025-05-13 10:59:50,679 [WARNI] [validators.ngram_val]: NGram violation: 'anything ever' (stopwords_removed=True) @tok=647 (char_pos=2758). Context: ...re, but this… this was beyond anything he’d ever imagined.   The figure d...\n",
      "2025-05-13 10:59:50,679 [WARNI] [core.sampler        ]: Back-tracking @tok=647 orig='▁anything' ban='{'ngram_tuple': ['anything', 'ever'], 'ngram_string': 'anything ever', 'remove_stopwords_active': True, 'context': 're, but this… this was beyond anything he’d ever imagined.   The figure d', 'suppression_detail_key': 'anything ever (stopwords_removed=True)'}'.\n",
      "2025-05-13 10:59:50,679 [INFO ] [state.generation_sta]: GenerationState initialised. Prompt length (chars) = 266\n",
      "2025-05-13 10:59:50,679 [INFO ] [state.generation_sta]: GenerationState initialised. Prompt length (chars) = 266\n",
      "2025-05-13 10:59:50,679 [INFO ] [state.generation_sta]: GenerationState initialised. Prompt length (chars) = 266\n",
      "2025-05-13 10:59:50,679 [INFO ] [state.generation_sta]: GenerationState initialised. Prompt length (chars) = 266\n",
      "2025-05-13 10:59:50,679 [INFO ] [state.generation_sta]: GenerationState initialised. Prompt length (chars) = 266\n",
      "2025-05-13 10:59:50,679 [INFO ] [state.generation_sta]: GenerationState initialised. Prompt length (chars) = 266\n",
      "2025-05-13 10:59:50,679 [INFO ] [state.generation_sta]: GenerationState initialised. Prompt length (chars) = 266\n",
      "2025-05-13 10:59:50,679 [INFO ] [state.generation_sta]: GenerationState initialised. Prompt length (chars) = 266\n",
      "2025-05-13 10:59:50,679 [INFO ] [state.generation_sta]: GenerationState initialised. Prompt length (chars) = 266\n",
      "2025-05-13 10:59:50,679 [INFO ] [state.generation_sta]: GenerationState initialised. Prompt length (chars) = 266\n",
      "2025-05-13 10:59:50,679 [INFO ] [state.generation_sta]: GenerationState initialised. Prompt length (chars) = 266\n",
      "2025-05-13 10:59:50,679 [INFO ] [state.generation_sta]: GenerationState initialised. Prompt length (chars) = 266\n",
      "2025-05-13 10:59:50,679 [INFO ] [state.generation_sta]: GenerationState initialised. Prompt length (chars) = 266\n",
      "2025-05-13 10:59:50,679 [INFO ] [state.generation_sta]: GenerationState initialised. Prompt length (chars) = 266\n",
      "2025-05-13 10:59:50,679 [INFO ] [state.generation_sta]: GenerationState initialised. Prompt length (chars) = 266\n",
      "2025-05-13 10:59:50,679 [INFO ] [state.generation_sta]: GenerationState initialised. Prompt length (chars) = 266\n",
      "2025-05-13 10:59:50,679 [INFO ] [state.generation_sta]: GenerationState initialised. Prompt length (chars) = 266\n",
      "2025-05-13 10:59:50,680 [INFO ] [state.generation_sta]: GenerationState initialised. Prompt length (chars) = 266\n",
      "2025-05-13 10:59:50,680 [WARNI] [core.sampler        ]:     ✓ replacement='▁comprehension' (pool=3, T=0.7, min_p=0.05, top_p=1.0, top_k=50)\n",
      "2025-05-13 10:59:50,680 [DEBUG] [root                ]: BANNED (prompt_idx=0, type=ngram, ngram='anything ever' (stopwords_removed=True) @ orig_token='▁anything' ...'re, but this… this was beyond anything he’d ever imagined.   The figure d'...)\n",
      "2025-05-13 10:59:50,680 [DEBUG] [api_client.api_clien]: POST https://ncfi2yswjottwq-8888.proxy.runpod.net/v1/completions\n",
      "2025-05-13 10:59:50,680 [DEBUG] [api_client.api_clien]: Payload: {\"model\": \"unsloth/gemma-3-4b-it\", \"prompt\": \"<bos><start_of_turn>user\\nWriting prompt: After defeating the Devil down in Georgia, Johnny proudly proclaims he's the best that's ever been. A flash of lightning crashes down and God appears, fiddle in hand. The Devil gets his popcorn ready.\\n\\nWrite 1000 words to this prompt. Your response:\\n<end_of_turn>\\n<start_of_turn>model\\nThe rain in Georgia was a greasy, insistent thing, clinging to everything with the stubbornness of regret. It mirrored the\n"
     ]
    },
    {
     "name": "stdout",
     "output_type": "stream",
     "text": [
      "Batch Generating:   0%|          | 0/1 [00:30<?, ?prompt/s, 22.4 tok/s]"
     ]
    },
    {
     "name": "stderr",
     "output_type": "stream",
     "text": [
      "2025-05-13 10:59:51,230 [DEBUG] [urllib3.connectionpo]: https://ncfi2yswjottwq-8888.proxy.runpod.net:443 \"POST /v1/completions HTTP/1.1\" 200 None\n",
      "2025-05-13 10:59:51,294 [DEBUG] [api_client.api_clien]: Raw response: {\"id\": \"cmpl-9733d0f23b84464b9422ceca4ea7333d\", \"object\": \"text_completion\", \"created\": 1747097996, \"model\": \"unsloth/gemma-3-4b-it\", \"choices\": [{\"index\": 0, \"text\": \". \\n\\nThe figure chuckled, a sound like wind chimes in a hurricane. \\u201cLet\\u2019\", \"logprobs\": {\"text_offset\": [0, 1, 2, 4, 7, 14, 23, 24, 26, 32, 37, 42, 45, 49, 52, 54, 64, 65, 67, 70], \"token_logprobs\": [-1.6689286894688848e-06, -0.20733822882175446, -2.861018856492592e-06, -0.12921598553657532, -0.006308285985141993, -1.3097400665283203, -0.004701274912804365, -0.000899982638657093, -0.07746075093746185, -0.0032550706528127193, -1.0623048543930054, -0.026174571365118027, 0.0, -0.054346948862075806, -0.0003673355677165091, -1.8692035675048828, -0.0006227937992662191, -0.33500605821609497, -0.020048709586262703, -0.12694747745990753], \"tokens\": [\".\", \"\\u2581\", \"\\n\\n\", \"The\", \"\\u2581figure\", \"\\u2581chuckled\", \",\", \"\\u2581a\", \"\\u2581sound\", \"\\u2581like\", \"\\u2581wind\", \"\\u2581ch\", \"imes\", \"\\u2581in\", \"\\u2581a\", \"\\u2581hurricane\", \".\", \"\\u2581\\u201c\", \"Let\", \"\\u2019\"], \"top_logprobs\": [{\".\": -1.6689286894688848e-06, \",\": -13.500001907348633, \"\\n\\n\": -16.375001907348633, \".\\u201d\": -16.375001907348633, \"\\u2581\": -16.750001907348633, \".\\\"\": -17.250001907348633, \"\\u2581and\": -18.125001907348633, \"\\u2581\\u2013\": -18.125001907348633, \"..\": -18.875001907348633, \"\\u2581even\": -19.250001907348633, \"\\u2581.\": -20.000001907348633, \";\": -20.250001907348633, \".*\": -20.625001907348633, \"\\u2581-\": -20.750001907348633, \".\\u201c\": -20.875001907348633, \"\\u2581on\": -21.500001907348633, \".\\u2019\": -21.625001907348633, \"\\u2014\": -22.000001907348633, \":\": -22.125001907348633, \"\\u2581entirely\": -22.125001907348633}, {\"\\u2581\": -0.20733822882175446, \"\\n\\n\": -1.7073382139205933, \"\\u2581\\u201c\": -5.582338333129883, \"\\u2581\\u2581\": -6.707338333129883, \"\\u2581\\\"\": -7.332338333129883, \"\\u2581He\": -8.957338333129883, \"\\u2581This\": -9.457338333129883, \"\\u2581It\": -10.707338333129883, \"\\u2581The\": -11.082338333129883, \"\\n\\n\\n\": -1\n",
      "2025-05-13 10:59:51,294 [INFO ] [api_client.api_clien]: Received 20 token strings (finish_reason=length).\n",
      "2025-05-13 10:59:51,295 [WARNI] [validators.slop_phra]: Slop violation: 'chuckled' @tok=653 (char_pos=2786) …nsion.   The figure chuckled, a sound like wind …\n",
      "2025-05-13 10:59:51,296 [WARNI] [validators.ngram_val]: NGram violation: 'sound like' (stopwords_removed=True) @tok=656 (char_pos=2798). Context: ...ion.   The figure chuckled, a sound like wind chimes in a hurricane. “...\n",
      "2025-05-13 10:59:51,296 [WARNI] [core.sampler        ]: Back-tracking @tok=653 orig='▁chuckled' ban='{'phrase': 'chuckled', 'context': 'nsion.   The figure chuckled, a sound like wind ', 'suppression_detail_key': 'chuckled'}'.\n",
      "2025-05-13 10:59:51,296 [INFO ] [state.generation_sta]: GenerationState initialised. Prompt length (chars) = 266\n",
      "2025-05-13 10:59:51,296 [INFO ] [state.generation_sta]: GenerationState initialised. Prompt length (chars) = 266\n",
      "2025-05-13 10:59:51,296 [INFO ] [state.generation_sta]: GenerationState initialised. Prompt length (chars) = 266\n",
      "2025-05-13 10:59:51,296 [INFO ] [state.generation_sta]: GenerationState initialised. Prompt length (chars) = 266\n",
      "2025-05-13 10:59:51,296 [INFO ] [state.generation_sta]: GenerationState initialised. Prompt length (chars) = 266\n",
      "2025-05-13 10:59:51,296 [INFO ] [state.generation_sta]: GenerationState initialised. Prompt length (chars) = 266\n",
      "2025-05-13 10:59:51,296 [INFO ] [state.generation_sta]: GenerationState initialised. Prompt length (chars) = 266\n",
      "2025-05-13 10:59:51,296 [INFO ] [state.generation_sta]: GenerationState initialised. Prompt length (chars) = 266\n",
      "2025-05-13 10:59:51,296 [INFO ] [state.generation_sta]: GenerationState initialised. Prompt length (chars) = 266\n",
      "2025-05-13 10:59:51,296 [INFO ] [state.generation_sta]: GenerationState initialised. Prompt length (chars) = 266\n",
      "2025-05-13 10:59:51,296 [INFO ] [state.generation_sta]: GenerationState initialised. Prompt length (chars) = 266\n",
      "2025-05-13 10:59:51,296 [INFO ] [state.generation_sta]: GenerationState initialised. Prompt length (chars) = 266\n",
      "2025-05-13 10:59:51,296 [INFO ] [state.generation_sta]: GenerationState initialised. Prompt length (chars) = 266\n",
      "2025-05-13 10:59:51,296 [INFO ] [state.generation_sta]: GenerationState initialised. Prompt length (chars) = 266\n",
      "2025-05-13 10:59:51,296 [INFO ] [state.generation_sta]: GenerationState initialised. Prompt length (chars) = 266\n",
      "2025-05-13 10:59:51,296 [INFO ] [state.generation_sta]: GenerationState initialised. Prompt length (chars) = 266\n",
      "2025-05-13 10:59:51,296 [INFO ] [state.generation_sta]: GenerationState initialised. Prompt length (chars) = 266\n",
      "2025-05-13 10:59:51,296 [INFO ] [state.generation_sta]: GenerationState initialised. Prompt length (chars) = 266\n",
      "2025-05-13 10:59:51,296 [INFO ] [state.generation_sta]: GenerationState initialised. Prompt length (chars) = 266\n",
      "2025-05-13 10:59:51,297 [WARNI] [core.sampler        ]:     ✓ replacement='▁didn' (pool=2, T=0.7, min_p=0.05, top_p=1.0, top_k=50)\n",
      "2025-05-13 10:59:51,297 [DEBUG] [root                ]: BANNED (prompt_idx=0, type=slop_phrase, phrase='chuckled' @ orig_token='▁chuckled' ...'nsion.   The figure chuckled, a sound like wind'...)\n",
      "2025-05-13 10:59:51,297 [DEBUG] [api_client.api_clien]: POST https://ncfi2yswjottwq-8888.proxy.runpod.net/v1/completions\n",
      "2025-05-13 10:59:51,297 [DEBUG] [api_client.api_clien]: Payload: {\"model\": \"unsloth/gemma-3-4b-it\", \"prompt\": \"<bos><start_of_turn>user\\nWriting prompt: After defeating the Devil down in Georgia, Johnny proudly proclaims he's the best that's ever been. A flash of lightning crashes down and God appears, fiddle in hand. The Devil gets his popcorn ready.\\n\\nWrite 1000 words to this prompt. Your response:\\n<end_of_turn>\\n<start_of_turn>model\\nThe rain in Georgia was a greasy, insistent thing, clinging to everything with the stubbornness of regret. It mirrored the\n"
     ]
    },
    {
     "name": "stdout",
     "output_type": "stream",
     "text": [
      "Batch Generating:   0%|          | 0/1 [00:31<?, ?prompt/s, 22.2 tok/s]"
     ]
    },
    {
     "name": "stderr",
     "output_type": "stream",
     "text": [
      "2025-05-13 10:59:51,853 [DEBUG] [urllib3.connectionpo]: https://ncfi2yswjottwq-8888.proxy.runpod.net:443 \"POST /v1/completions HTTP/1.1\" 200 None\n",
      "2025-05-13 10:59:51,910 [DEBUG] [api_client.api_clien]: Raw response: {\"id\": \"cmpl-5863bb5364874c6ebd8fbf088fe55b35\", \"object\": \"text_completion\", \"created\": 1747097996, \"model\": \"unsloth/gemma-3-4b-it\", \"choices\": [{\"index\": 0, \"text\": \"'t answer immediately. He drew a bow across the strings of the fiddle, and a melody began\", \"logprobs\": {\"text_offset\": [0, 1, 2, 9, 21, 22, 25, 30, 32, 36, 43, 47, 55, 58, 62, 69, 70, 74, 76, 83], \"token_logprobs\": [-0.9740769863128662, 0.0, -0.1297103315591812, -0.07579844444990158, -0.00043096792069263756, -0.014803562313318253, -1.4018335342407227, -0.5915440917015076, -0.11044755578041077, -0.21033789217472076, -0.0015044810716062784, -0.005413989536464214, -2.0265558760002023e-06, -0.3868710994720459, -2.3841830625315197e-06, -0.006149656139314175, -0.1564263552427292, -0.014649681746959686, -0.37986546754837036, -1.012151837348938], \"tokens\": [\"'\", \"t\", \"\\u2581answer\", \"\\u2581immediately\", \".\", \"\\u2581He\", \"\\u2581drew\", \"\\u2581a\", \"\\u2581bow\", \"\\u2581across\", \"\\u2581the\", \"\\u2581strings\", \"\\u2581of\", \"\\u2581the\", \"\\u2581fiddle\", \",\", \"\\u2581and\", \"\\u2581a\", \"\\u2581melody\", \"\\u2581began\"], \"top_logprobs\": [{\"'\": -0.9740769863128662, \"\\u2019\": -0.4740769863128662, \"\\u2018\": -18.474077224731445, \"\\u00b4\": -19.849077224731445, \"\\u2581'\": -21.724077224731445, \"\\u2581\\u2018\": -21.724077224731445, \"'\\\"\": -23.161577224731445, \"'*\": -23.349077224731445, \"\\u2019,\": -23.599077224731445, \",\": -23.974077224731445, \"\\u2581t\": -24.161577224731445, \"\\u2581\\u2019\": -24.224077224731445, \".\": -24.224077224731445, \"',\": -24.411577224731445, \"\\u00edt\": -24.786577224731445, \",\\u2019\": -24.974077224731445, \"''\": -25.036577224731445, \"\\u2019.\": -25.036577224731445, \"\\u02bc\": -25.036577224731445, \"\\u2581not\": -25.286577224731445}, {\"t\": 0.0, \"tt\": -31.5, \"\\u2581t\": -31.5, \"ts\": -31.875, \"tm\": -32.0, \"th\": -32.125, \"\\u2019\": -32.875, \"tan\": -33.5, \"s\": -33.625, \"nt\": -34.25, \"r\": -34.375, \"te\": -34.375, \"tre\": -34.375, \"d\": -34.375, \"tw\": -34.875, \"g\": -35.25, \"tl\": -35.5, \"tex\": -35.5, \"e\": -35.75, \"ta\": -35.75}, {\"\\u2\n",
      "2025-05-13 10:59:51,911 [INFO ] [api_client.api_clien]: Received 20 token strings (finish_reason=length).\n",
      "2025-05-13 10:59:51,913 [DEBUG] [api_client.api_clien]: POST https://ncfi2yswjottwq-8888.proxy.runpod.net/v1/completions\n",
      "2025-05-13 10:59:51,913 [DEBUG] [api_client.api_clien]: Payload: {\"model\": \"unsloth/gemma-3-4b-it\", \"prompt\": \"<bos><start_of_turn>user\\nWriting prompt: After defeating the Devil down in Georgia, Johnny proudly proclaims he's the best that's ever been. A flash of lightning crashes down and God appears, fiddle in hand. The Devil gets his popcorn ready.\\n\\nWrite 1000 words to this prompt. Your response:\\n<end_of_turn>\\n<start_of_turn>model\\nThe rain in Georgia was a greasy, insistent thing, clinging to everything with the stubbornness of regret. It mirrored the\n"
     ]
    },
    {
     "name": "stdout",
     "output_type": "stream",
     "text": [
      "Batch Generating:   0%|          | 0/1 [00:31<?, ?prompt/s, 22.4 tok/s]"
     ]
    },
    {
     "name": "stderr",
     "output_type": "stream",
     "text": [
      "2025-05-13 10:59:52,463 [DEBUG] [urllib3.connectionpo]: https://ncfi2yswjottwq-8888.proxy.runpod.net:443 \"POST /v1/completions HTTP/1.1\" 200 None\n",
      "2025-05-13 10:59:52,523 [DEBUG] [api_client.api_clien]: Raw response: {\"id\": \"cmpl-4680f64207a54c07b81208a44a4324c1\", \"object\": \"text_completion\", \"created\": 1747097997, \"model\": \"unsloth/gemma-3-4b-it\", \"choices\": [{\"index\": 0, \"text\": \" to weave itself into the storm, a haunting, melancholic tune that seemed to pull at something deep\", \"logprobs\": {\"text_offset\": [0, 3, 9, 16, 21, 25, 31, 32, 34, 43, 44, 52, 56, 61, 66, 73, 76, 81, 84, 94], \"token_logprobs\": [-0.0018631733255460858, -0.07001514732837677, -1.2810875177383423, -0.10381624102592468, -8.34430247778073e-05, -0.027106191962957382, -1.556443214416504, -0.01670726388692856, -1.2988872528076172, -0.0735856294631958, -0.6593677997589111, 0.0, -0.00026806574896909297, -0.041513171046972275, -0.5493975281715393, -0.00020239688456058502, -0.49018117785453796, -0.001958953682333231, -0.7080833315849304, -0.001039203256368637], \"tokens\": [\"\\u2581to\", \"\\u2581weave\", \"\\u2581itself\", \"\\u2581into\", \"\\u2581the\", \"\\u2581storm\", \",\", \"\\u2581a\", \"\\u2581haunting\", \",\", \"\\u2581melanch\", \"olic\", \"\\u2581tune\", \"\\u2581that\", \"\\u2581seemed\", \"\\u2581to\", \"\\u2581pull\", \"\\u2581at\", \"\\u2581something\", \"\\u2581deep\"], \"top_logprobs\": [{\"\\u2581to\": -0.0018631733255460858, \",\": -6.5018630027771, \"\\u2581\\u2013\": -8.501863479614258, \".\": -8.876863479614258, \"\\u2581-\": -11.126863479614258, \"\\u2014\": -12.626863479614258, \":\": -16.501863479614258, \"\\u2026\": -16.876863479614258, \";\": -17.001863479614258, \"\\u2581slowly\": -17.626863479614258, \"\\u2581\\u2014\": -17.751863479614258, \"\\u2013\": -18.001863479614258, \"\\u2581--\": -18.126863479614258, \"--\": -19.126863479614258, \"...\": -19.126863479614258, \"\\u2581its\": -19.251863479614258, \"\\u2581softly\": -19.376863479614258, \"\\u2581ripple\": -19.626863479614258, \"\\u2581tentatively\": -19.751863479614258, \"\\u2581ri\": -19.751863479614258}, {\"\\u2581weave\": -0.07001514732837677, \"\\u2581flow\": -3.5700151920318604, \"\\u2581drift\": -4.570014953613281, \"\\u2581unfold\": -5.070014953613281, \"\\u2581play\": -5.070014953613281, \"\\u2581bloom\": -5.570014953613281, \"\\u2581pour\": -5.82001495\n",
      "2025-05-13 10:59:52,523 [INFO ] [api_client.api_clien]: Received 20 token strings (finish_reason=length).\n",
      "2025-05-13 10:59:52,525 [DEBUG] [api_client.api_clien]: POST https://ncfi2yswjottwq-8888.proxy.runpod.net/v1/completions\n",
      "2025-05-13 10:59:52,525 [DEBUG] [api_client.api_clien]: Payload: {\"model\": \"unsloth/gemma-3-4b-it\", \"prompt\": \"<bos><start_of_turn>user\\nWriting prompt: After defeating the Devil down in Georgia, Johnny proudly proclaims he's the best that's ever been. A flash of lightning crashes down and God appears, fiddle in hand. The Devil gets his popcorn ready.\\n\\nWrite 1000 words to this prompt. Your response:\\n<end_of_turn>\\n<start_of_turn>model\\nThe rain in Georgia was a greasy, insistent thing, clinging to everything with the stubbornness of regret. It mirrored the\n"
     ]
    },
    {
     "name": "stdout",
     "output_type": "stream",
     "text": [
      "Batch Generating:   0%|          | 0/1 [00:32<?, ?prompt/s, 22.6 tok/s]"
     ]
    },
    {
     "name": "stderr",
     "output_type": "stream",
     "text": [
      "2025-05-13 10:59:53,896 [DEBUG] [urllib3.connectionpo]: https://ncfi2yswjottwq-8888.proxy.runpod.net:443 \"POST /v1/completions HTTP/1.1\" 200 None\n",
      "2025-05-13 10:59:54,063 [DEBUG] [api_client.api_clien]: Raw response: {\"id\": \"cmpl-55a99c4a9962431c90bf038cf5781ffd\", \"object\": \"text_completion\", \"created\": 1747097998, \"model\": \"unsloth/gemma-3-4b-it\", \"choices\": [{\"index\": 0, \"text\": \" and forgotten within Johnny\\u2019s soul. It wasn\\u2019t a joyful melody, not triumphant or celebratory\", \"logprobs\": {\"text_offset\": [0, 4, 14, 21, 28, 29, 30, 35, 36, 39, 44, 45, 46, 48, 55, 62, 63, 67, 78, 81], \"token_logprobs\": [-1.0132558345794678, -0.16099333763122559, -0.01148316916078329, -0.0002637753786984831, -0.3788546621799469, 0.0, -0.0131992157548666, -1.8000440832111053e-05, -0.16037105023860931, -0.18375486135482788, -0.5759395360946655, 0.0, -0.1595633327960968, -1.0833873748779297, -1.4802064895629883, -0.2990858554840088, -0.25024834275245667, -2.4291415214538574, -2.1426939964294434, -0.01955060102045536], \"tokens\": [\"\\u2581and\", \"\\u2581forgotten\", \"\\u2581within\", \"\\u2581Johnny\", \"\\u2019\", \"s\", \"\\u2581soul\", \".\", \"\\u2581It\", \"\\u2581wasn\", \"\\u2019\", \"t\", \"\\u2581a\", \"\\u2581joyful\", \"\\u2581melody\", \",\", \"\\u2581not\", \"\\u2581triumphant\", \"\\u2581or\", \"\\u2581celebratory\"], \"top_logprobs\": [{\"\\u2581and\": -1.0132558345794678, \"\\u2581within\": -0.5132558941841125, \"\\u2581inside\": -3.2632558345794678, \"\\u2581in\": -9.388256072998047, \",\": -9.638256072998047, \"\\u2581beneath\": -12.263256072998047, \"\\u2581buried\": -12.763256072998047, \"\\u2581down\": -13.888256072998047, \"\\u2581\\u2581\": -16.638256072998047, \"\\u2581\\u2013\": -16.763256072998047, \"\\u2581hidden\": -17.263256072998047, \"-\": -17.763256072998047, \"within\": -17.763256072998047, \"\\u2581seated\": -18.138256072998047, \"\\u2014\": -18.263256072998047, \"\\u2581under\": -18.513256072998047, \"\\u2581deep\": -18.513256072998047, \"seated\": -18.763256072998047, \"inside\": -18.763256072998047, \"\\u2581with\": -19.138256072998047}, {\"\\u2581forgotten\": -0.16099333763122559, \"\\u2581primal\": -2.9109933376312256, \"\\u2581buried\": -3.2859933376312256, \"\\u2581sorrow\": -3.7859933376312256, \"\\u2581hidden\": -5.035993576049805, \"\\u2581aching\": -5.285993576049805, \"\\u2581un\n",
      "2025-05-13 10:59:54,063 [INFO ] [api_client.api_clien]: Received 20 token strings (finish_reason=length).\n",
      "2025-05-13 10:59:54,066 [DEBUG] [api_client.api_clien]: POST https://ncfi2yswjottwq-8888.proxy.runpod.net/v1/completions\n",
      "2025-05-13 10:59:54,066 [DEBUG] [api_client.api_clien]: Payload: {\"model\": \"unsloth/gemma-3-4b-it\", \"prompt\": \"<bos><start_of_turn>user\\nWriting prompt: After defeating the Devil down in Georgia, Johnny proudly proclaims he's the best that's ever been. A flash of lightning crashes down and God appears, fiddle in hand. The Devil gets his popcorn ready.\\n\\nWrite 1000 words to this prompt. Your response:\\n<end_of_turn>\\n<start_of_turn>model\\nThe rain in Georgia was a greasy, insistent thing, clinging to everything with the stubbornness of regret. It mirrored the\n"
     ]
    },
    {
     "name": "stdout",
     "output_type": "stream",
     "text": [
      "Batch Generating:   0%|          | 0/1 [00:33<?, ?prompt/s, 22.1 tok/s]"
     ]
    },
    {
     "name": "stderr",
     "output_type": "stream",
     "text": [
      "2025-05-13 10:59:54,612 [DEBUG] [urllib3.connectionpo]: https://ncfi2yswjottwq-8888.proxy.runpod.net:443 \"POST /v1/completions HTTP/1.1\" 200 None\n",
      "2025-05-13 10:59:54,674 [DEBUG] [api_client.api_clien]: Raw response: {\"id\": \"cmpl-4d1e15fa3155445a82bdb0300655bd5a\", \"object\": \"text_completion\", \"created\": 1747097999, \"model\": \"unsloth/gemma-3-4b-it\", \"choices\": [{\"index\": 0, \"text\": \". It was a lament, a song of loss and regret, of battles fought and lost, of\", \"logprobs\": {\"text_offset\": [0, 1, 4, 8, 10, 17, 18, 20, 25, 28, 33, 37, 44, 45, 48, 56, 63, 67, 72, 73], \"token_logprobs\": [-0.034637365490198135, -0.000800408364739269, -0.0025213139597326517, -0.2050458788871765, -0.667217493057251, -0.11887799948453903, -0.016859538853168488, -0.6749528050422668, -0.0031553739681839943, -0.296090692281723, -0.061977922916412354, -0.32403093576431274, -0.7272683382034302, -0.0868757888674736, -0.31723836064338684, -0.02318185195326805, -6.103329360485077e-05, -0.49258822202682495, -0.06565118581056595, -0.062103740870952606], \"tokens\": [\".\", \"\\u2581It\", \"\\u2581was\", \"\\u2581a\", \"\\u2581lament\", \",\", \"\\u2581a\", \"\\u2581song\", \"\\u2581of\", \"\\u2581loss\", \"\\u2581and\", \"\\u2581regret\", \",\", \"\\u2581of\", \"\\u2581battles\", \"\\u2581fought\", \"\\u2581and\", \"\\u2581lost\", \",\", \"\\u2581of\"], \"top_logprobs\": [{\".\": -0.034637365490198135, \",\": -4.159637451171875, \"\\u2581like\": -4.159637451171875, \"\\u2581\\u2013\": -6.409637451171875, \"\\u2581as\": -7.659637451171875, \";\": -7.909637451171875, \"\\u2581-\": -8.409637451171875, \"\\u2014\": -9.909637451171875, \"\\u2581in\": -10.034637451171875, \"\\u2026\": -12.284637451171875, \"\\u2581the\": -12.784637451171875, \"\\u2581even\": -13.284637451171875, \"\\u2013\": -13.534637451171875, \"\\u2581at\": -13.534637451171875, \"\\u2581either\": -14.034637451171875, \"...\": -14.284637451171875, \"\\u2581despite\": -14.409637451171875, \"\\u2581for\": -14.409637451171875, \"\\u2581of\": -14.409637451171875, \"\\u2581\\u2014\": -14.909637451171875}, {\"\\u2581It\": -0.000800408364739269, \"\\u2581\\u2581\": -7.250800609588623, \"\\u2581Instead\": -9.500800132751465, \"\\u2581This\": -11.375800132751465, \"\\u2581More\": -13.750800132751465, \"\\u2581There\": -14.000800132751465, \"\\u2581Just\": -14.250800132751465, \"\\u2581Rather\": -14.25\n",
      "2025-05-13 10:59:54,674 [INFO ] [api_client.api_clien]: Received 20 token strings (finish_reason=length).\n",
      "2025-05-13 10:59:54,677 [DEBUG] [api_client.api_clien]: POST https://ncfi2yswjottwq-8888.proxy.runpod.net/v1/completions\n",
      "2025-05-13 10:59:54,677 [DEBUG] [api_client.api_clien]: Payload: {\"model\": \"unsloth/gemma-3-4b-it\", \"prompt\": \"<bos><start_of_turn>user\\nWriting prompt: After defeating the Devil down in Georgia, Johnny proudly proclaims he's the best that's ever been. A flash of lightning crashes down and God appears, fiddle in hand. The Devil gets his popcorn ready.\\n\\nWrite 1000 words to this prompt. Your response:\\n<end_of_turn>\\n<start_of_turn>model\\nThe rain in Georgia was a greasy, insistent thing, clinging to everything with the stubbornness of regret. It mirrored the\n"
     ]
    },
    {
     "name": "stdout",
     "output_type": "stream",
     "text": [
      "Batch Generating:   0%|          | 0/1 [00:34<?, ?prompt/s, 22.3 tok/s]"
     ]
    },
    {
     "name": "stderr",
     "output_type": "stream",
     "text": [
      "2025-05-13 10:59:55,229 [DEBUG] [urllib3.connectionpo]: https://ncfi2yswjottwq-8888.proxy.runpod.net:443 \"POST /v1/completions HTTP/1.1\" 200 None\n",
      "2025-05-13 10:59:55,287 [DEBUG] [api_client.api_clien]: Raw response: {\"id\": \"cmpl-6f3261e9b3724e5f9a2483dd48bd533e\", \"object\": \"text_completion\", \"created\": 1747098000, \"model\": \"unsloth/gemma-3-4b-it\", \"choices\": [{\"index\": 0, \"text\": \" the slow, inevitable decay of everything beautiful. \\n\\n\\u201cI am a collector,\\u201d the figure said\", \"logprobs\": {\"text_offset\": [0, 4, 9, 10, 21, 27, 30, 41, 51, 52, 53, 55, 56, 57, 60, 62, 72, 74, 78, 85], \"token_logprobs\": [-0.9503939747810364, -0.2570781111717224, -0.008669358678162098, -0.7343155145645142, -0.27556487917900085, -0.000559173640795052, -0.773459255695343, -0.06845541298389435, -0.0015656605828553438, -0.16078487038612366, -2.8132995794294402e-05, -0.055819593369960785, -0.5839888453483582, -0.17149241268634796, -0.19038106501102448, -0.685848593711853, -0.011210902594029903, -0.020581724122166634, -0.00034898388548754156, -0.7053551077842712], \"tokens\": [\"\\u2581the\", \"\\u2581slow\", \",\", \"\\u2581inevitable\", \"\\u2581decay\", \"\\u2581of\", \"\\u2581everything\", \"\\u2581beautiful\", \".\", \"\\u2581\", \"\\n\\n\", \"\\u201c\", \"I\", \"\\u2581am\", \"\\u2581a\", \"\\u2581collector\", \",\\u201d\", \"\\u2581the\", \"\\u2581figure\", \"\\u2581said\"], \"top_logprobs\": [{\"\\u2581the\": -0.9503939747810364, \"\\u2581promises\": -2.0753939151763916, \"\\u2581empires\": -2.5753939151763916, \"\\u2581choices\": -2.9503939151763916, \"\\u2581universes\": -3.3253939151763916, \"\\u2581worlds\": -3.3253939151763916, \"\\u2581hopes\": -3.7003939151763916, \"\\u2581eternity\": -4.075394153594971, \"\\u2581destin\": -4.200394153594971, \"\\u2581things\": -4.200394153594971, \"\\u2581endless\": -4.325394153594971, \"\\u2581cosmic\": -4.450394153594971, \"\\u2581countless\": -4.575394153594971, \"\\u2581a\": -4.575394153594971, \"\\u2581echoes\": -4.700394153594971, \"\\u2581weary\": -4.825394153594971, \"\\u2581moments\": -4.825394153594971, \"\\u2581futures\": -4.825394153594971, \"\\u2581dreams\": -4.825394153594971, \"\\u2581souls\": -4.825394153594971}, {\"\\u2581slow\": -0.2570781111717224, \"\\u2581endless\": -2.257078170776367, \"\\u2581inevitable\": -3.757078170776367, \"\\u2581enduring\": -4.00707817\n",
      "2025-05-13 10:59:55,287 [INFO ] [api_client.api_clien]: Received 20 token strings (finish_reason=length).\n",
      "2025-05-13 10:59:55,290 [DEBUG] [api_client.api_clien]: POST https://ncfi2yswjottwq-8888.proxy.runpod.net/v1/completions\n",
      "2025-05-13 10:59:55,290 [DEBUG] [api_client.api_clien]: Payload: {\"model\": \"unsloth/gemma-3-4b-it\", \"prompt\": \"<bos><start_of_turn>user\\nWriting prompt: After defeating the Devil down in Georgia, Johnny proudly proclaims he's the best that's ever been. A flash of lightning crashes down and God appears, fiddle in hand. The Devil gets his popcorn ready.\\n\\nWrite 1000 words to this prompt. Your response:\\n<end_of_turn>\\n<start_of_turn>model\\nThe rain in Georgia was a greasy, insistent thing, clinging to everything with the stubbornness of regret. It mirrored the\n"
     ]
    },
    {
     "name": "stdout",
     "output_type": "stream",
     "text": [
      "Batch Generating:   0%|          | 0/1 [00:35<?, ?prompt/s, 22.5 tok/s]"
     ]
    },
    {
     "name": "stderr",
     "output_type": "stream",
     "text": [
      "2025-05-13 10:59:55,855 [DEBUG] [urllib3.connectionpo]: https://ncfi2yswjottwq-8888.proxy.runpod.net:443 \"POST /v1/completions HTTP/1.1\" 200 None\n",
      "2025-05-13 10:59:55,911 [DEBUG] [api_client.api_clien]: Raw response: {\"id\": \"cmpl-ad13429d58a840869557aa6ac6f8a7df\", \"object\": \"text_completion\", \"created\": 1747098000, \"model\": \"unsloth/gemma-3-4b-it\", \"choices\": [{\"index\": 0, \"text\": \" finally, his voice still a low murmur. \\u201cI collect stories. And you, Johnny, have\", \"logprobs\": {\"text_offset\": [0, 8, 9, 13, 19, 25, 27, 31, 38, 39, 41, 42, 50, 58, 59, 63, 67, 68, 75, 76], \"token_logprobs\": [-0.8318917751312256, -0.0011734035797417164, -0.39918023347854614, -0.4973141551017761, -0.19829024374485016, -0.40279683470726013, -0.48354482650756836, -0.8987881541252136, -0.18390503525733948, -0.04229281470179558, -0.1524057388305664, -0.2446463704109192, -0.5349639058113098, -0.12926030158996582, -0.2788051962852478, -0.67966628074646, -0.0005944392178207636, -0.9552024602890015, -0.4006574749946594, -0.048334863036870956], \"tokens\": [\"\\u2581finally\", \",\", \"\\u2581his\", \"\\u2581voice\", \"\\u2581still\", \"\\u2581a\", \"\\u2581low\", \"\\u2581murmur\", \".\", \"\\u2581\\u201c\", \"I\", \"\\u2581collect\", \"\\u2581stories\", \".\", \"\\u2581And\", \"\\u2581you\", \",\", \"\\u2581Johnny\", \",\", \"\\u2581have\"], \"top_logprobs\": [{\"\\u2581finally\": -0.8318917751312256, \",\": -0.5818917751312256, \"\\u2581when\": -5.331892013549805, \"\\u2581at\": -7.831892013549805, \"\\u2581eventually\": -8.081892013549805, \"\\u2581after\": -8.331892013549805, \"\\u2581softly\": -9.706892013549805, \"\\u2581as\": -10.081892013549805, \".\": -10.581892013549805, \"\\u2581quietly\": -11.206892013549805, \"\\u2581once\": -12.456892013549805, \"\\u2581gently\": -12.456892013549805, \"\\u2581slowly\": -13.706892013549805, \"\\u2581then\": -14.456892013549805, \"\\u2581calmly\": -14.706892013549805, \"\\u2581lastly\": -14.706892013549805, \"\\u2581now\": -14.956892013549805, \"\\u2581without\": -15.456892013549805, \"\\u2581with\": -15.956892013549805, \"\\u2581simply\": -16.081892013549805}, {\",\": -0.0011734035797417164, \".\": -6.751173496246338, \"\\u2581when\": -13.00117301940918, \"\\u2581as\": -13.87617301940918, \"\\u2581after\": -17.50117301940918, \"\\u2581,\": -19.50117301940918, \",\\u201d\": -20.00117301940918\n",
      "2025-05-13 10:59:55,911 [INFO ] [api_client.api_clien]: Received 20 token strings (finish_reason=length).\n",
      "2025-05-13 10:59:55,913 [DEBUG] [api_client.api_clien]: POST https://ncfi2yswjottwq-8888.proxy.runpod.net/v1/completions\n",
      "2025-05-13 10:59:55,914 [DEBUG] [api_client.api_clien]: Payload: {\"model\": \"unsloth/gemma-3-4b-it\", \"prompt\": \"<bos><start_of_turn>user\\nWriting prompt: After defeating the Devil down in Georgia, Johnny proudly proclaims he's the best that's ever been. A flash of lightning crashes down and God appears, fiddle in hand. The Devil gets his popcorn ready.\\n\\nWrite 1000 words to this prompt. Your response:\\n<end_of_turn>\\n<start_of_turn>model\\nThe rain in Georgia was a greasy, insistent thing, clinging to everything with the stubbornness of regret. It mirrored the\n"
     ]
    },
    {
     "name": "stdout",
     "output_type": "stream",
     "text": [
      "Batch Generating:   0%|          | 0/1 [00:35<?, ?prompt/s, 22.7 tok/s]"
     ]
    },
    {
     "name": "stderr",
     "output_type": "stream",
     "text": [
      "2025-05-13 10:59:56,465 [DEBUG] [urllib3.connectionpo]: https://ncfi2yswjottwq-8888.proxy.runpod.net:443 \"POST /v1/completions HTTP/1.1\" 200 None\n",
      "2025-05-13 10:59:56,635 [DEBUG] [api_client.api_clien]: Raw response: {\"id\": \"cmpl-f314c78db1c74ba3b070222e86fd1a5c\", \"object\": \"text_completion\", \"created\": 1747098001, \"model\": \"unsloth/gemma-3-4b-it\", \"choices\": [{\"index\": 0, \"text\": \" provided me with a particularly\\u2026 entertaining one.\\u201d\\n\\n\\u201cYou\\u2019re\\u2026 you\\u2019re watching?\\u201d\", \"logprobs\": {\"text_offset\": [0, 9, 12, 17, 19, 32, 33, 46, 50, 52, 54, 55, 58, 59, 61, 62, 66, 67, 69, 78], \"token_logprobs\": [-0.5264580845832825, -0.13010939955711365, -5.018585216021165e-05, -0.017254596576094627, -0.2782013714313507, -0.17689329385757446, -1.8291984796524048, -0.010449577122926712, -0.0024177387822419405, -0.8082776069641113, -0.06793974339962006, -1.5149624347686768, -0.07004059851169586, -0.0013315153773874044, -0.34051018953323364, -0.08010227233171463, -0.038059547543525696, -7.521823135903105e-05, -1.7881214618682861, -0.04195519536733627], \"tokens\": [\"\\u2581provided\", \"\\u2581me\", \"\\u2581with\", \"\\u2581a\", \"\\u2581particularly\", \"\\u2026\", \"\\u2581entertaining\", \"\\u2581one\", \".\\u201d\", \"\\n\\n\", \"\\u201c\", \"You\", \"\\u2019\", \"re\", \"\\u2026\", \"\\u2581you\", \"\\u2019\", \"re\", \"\\u2581watching\", \"?\\u201d\"], \"top_logprobs\": [{\"\\u2581provided\": -0.5264580845832825, \"\\u2581just\": -1.1514580249786377, \"\\u2581given\": -3.2764580249786377, \"\\u2581delivered\": -4.276458263397217, \"\\u2581presented\": -4.276458263397217, \"\\u2581spun\": -5.026458263397217, \"\\u2581created\": -5.401458263397217, \"\\u2581offered\": -5.401458263397217, \"\\u2581furnished\": -6.026458263397217, \"\\u2581certainly\": -6.526458263397217, \"\\u2581produced\": -6.651458263397217, \"\\u2581crafted\": -6.651458263397217, \"\\u2581written\": -7.401458263397217, \"\\u2581gifted\": -7.526458263397217, \"\\u2581quite\": -7.526458263397217, \"\\u2581a\": -7.526458263397217, \"\\u2581generated\": -7.526458263397217, \"\\u2581become\": -7.776458263397217, \"\\u2581inadvertently\": -8.026457786560059, \"\\u2581told\": -8.026457786560059}, {\"\\u2581me\": -0.13010939955711365, \"\\u2581a\": -2.1301093101501465, \"\\u2581one\": -6.6301093101501465, \"\\u2581an\": -7.0051093101\n",
      "2025-05-13 10:59:56,635 [INFO ] [api_client.api_clien]: Received 20 token strings (finish_reason=length).\n",
      "2025-05-13 10:59:56,639 [DEBUG] [api_client.api_clien]: POST https://ncfi2yswjottwq-8888.proxy.runpod.net/v1/completions\n",
      "2025-05-13 10:59:56,639 [DEBUG] [api_client.api_clien]: Payload: {\"model\": \"unsloth/gemma-3-4b-it\", \"prompt\": \"<bos><start_of_turn>user\\nWriting prompt: After defeating the Devil down in Georgia, Johnny proudly proclaims he's the best that's ever been. A flash of lightning crashes down and God appears, fiddle in hand. The Devil gets his popcorn ready.\\n\\nWrite 1000 words to this prompt. Your response:\\n<end_of_turn>\\n<start_of_turn>model\\nThe rain in Georgia was a greasy, insistent thing, clinging to everything with the stubbornness of regret. It mirrored the\n"
     ]
    },
    {
     "name": "stdout",
     "output_type": "stream",
     "text": [
      "Batch Generating:   0%|          | 0/1 [00:36<?, ?prompt/s, 22.8 tok/s]"
     ]
    },
    {
     "name": "stderr",
     "output_type": "stream",
     "text": [
      "2025-05-13 10:59:57,198 [DEBUG] [urllib3.connectionpo]: https://ncfi2yswjottwq-8888.proxy.runpod.net:443 \"POST /v1/completions HTTP/1.1\" 200 None\n",
      "2025-05-13 10:59:57,259 [DEBUG] [api_client.api_clien]: Raw response: {\"id\": \"cmpl-f2a4286392dc423b8fb43c72777a29e8\", \"object\": \"text_completion\", \"created\": 1747098002, \"model\": \"unsloth/gemma-3-4b-it\", \"choices\": [{\"index\": 0, \"text\": \" Johnny stammered, gesturing towards the still-bound Devil.\\n\\n\\u201cObserving,\\u201d the figure\", \"logprobs\": {\"text_offset\": [0, 7, 12, 15, 17, 18, 28, 36, 40, 46, 47, 52, 58, 59, 61, 62, 68, 71, 73, 77], \"token_logprobs\": [-0.0014352031284943223, -2.136265277862549, -1.1920928244535389e-07, 0.0, -0.04858744144439697, -0.3153759241104126, -1.2487084865570068, -0.0004903068183921278, -1.5570324659347534, -0.001604580320417881, -0.6699885129928589, -0.0011405398836359382, -0.019104991108179092, -2.2556445598602295, -0.14608506858348846, -0.9075793027877808, -3.0874729418428615e-05, -0.10284965485334396, -0.0011248220689594746, -0.0015499495202675462], \"tokens\": [\"\\u2581Johnny\", \"\\u2581stam\", \"mer\", \"ed\", \",\", \"\\u2581gesturing\", \"\\u2581towards\", \"\\u2581the\", \"\\u2581still\", \"-\", \"bound\", \"\\u2581Devil\", \".\", \"\\n\\n\", \"\\u201c\", \"Observ\", \"ing\", \",\\u201d\", \"\\u2581the\", \"\\u2581figure\"], \"top_logprobs\": [{\"\\u2581Johnny\": -0.0014352031284943223, \"\\u2581\": -7.501435279846191, \"\\u2581\\u2581\": -8.376435279846191, \"\\n\\n\": -8.626435279846191, \"\\u2581The\": -8.751435279846191, \"\\u2581he\": -9.501435279846191, \"\\u2581John\": -9.501435279846191, \"\\u2581the\": -9.876435279846191, \"\\u2581He\": -10.001435279846191, \"Johnny\": -10.876435279846191, \"\\u2581asked\": -11.001435279846191, \"\\u2581Devil\": -11.876435279846191, \"\\u2581questioned\": -12.501435279846191, \"\\u2581Johnson\": -12.876435279846191, \"\\u2581demanded\": -13.376435279846191, \"\\u2581It\": -13.626435279846191, \"\\u2581Sheriff\": -14.126435279846191, \"\\u2581said\": -14.126435279846191, \"\\u2581Asked\": -14.438935279846191, \"\\u2581Charlie\": -14.438935279846191}, {\"\\u2581stam\": -2.136265277862549, \"\\u2581asked\": -0.13626526296138763, \"\\u2581sputtered\": -6.511265277862549, \"\\u2581managed\": -6.511265277862549, \"\\u2581questioned\": -6.511265277862549, \"\\u2581bl\": -7.011265277862549, \n",
      "2025-05-13 10:59:57,259 [INFO ] [api_client.api_clien]: Received 20 token strings (finish_reason=length).\n",
      "2025-05-13 10:59:57,260 [WARNI] [validators.slop_phra]: Slop violation: 'stammered' @tok=795 (char_pos=3406) …e watching?” Johnny stammered, gesturing towards …\n",
      "2025-05-13 10:59:57,262 [WARNI] [core.sampler        ]: Back-tracking @tok=795 orig='▁stam' ban='{'phrase': 'stammered', 'context': 'e watching?” Johnny stammered, gesturing towards ', 'suppression_detail_key': 'stammered'}'.\n",
      "2025-05-13 10:59:57,262 [INFO ] [state.generation_sta]: GenerationState initialised. Prompt length (chars) = 266\n",
      "2025-05-13 10:59:57,262 [INFO ] [state.generation_sta]: GenerationState initialised. Prompt length (chars) = 266\n",
      "2025-05-13 10:59:57,262 [INFO ] [state.generation_sta]: GenerationState initialised. Prompt length (chars) = 266\n",
      "2025-05-13 10:59:57,262 [INFO ] [state.generation_sta]: GenerationState initialised. Prompt length (chars) = 266\n",
      "2025-05-13 10:59:57,262 [INFO ] [state.generation_sta]: GenerationState initialised. Prompt length (chars) = 266\n",
      "2025-05-13 10:59:57,262 [INFO ] [state.generation_sta]: GenerationState initialised. Prompt length (chars) = 266\n",
      "2025-05-13 10:59:57,262 [INFO ] [state.generation_sta]: GenerationState initialised. Prompt length (chars) = 266\n",
      "2025-05-13 10:59:57,262 [INFO ] [state.generation_sta]: GenerationState initialised. Prompt length (chars) = 266\n",
      "2025-05-13 10:59:57,262 [INFO ] [state.generation_sta]: GenerationState initialised. Prompt length (chars) = 266\n",
      "2025-05-13 10:59:57,262 [INFO ] [state.generation_sta]: GenerationState initialised. Prompt length (chars) = 266\n",
      "2025-05-13 10:59:57,262 [INFO ] [state.generation_sta]: GenerationState initialised. Prompt length (chars) = 266\n",
      "2025-05-13 10:59:57,262 [INFO ] [state.generation_sta]: GenerationState initialised. Prompt length (chars) = 266\n",
      "2025-05-13 10:59:57,262 [INFO ] [state.generation_sta]: GenerationState initialised. Prompt length (chars) = 266\n",
      "2025-05-13 10:59:57,262 [INFO ] [state.generation_sta]: GenerationState initialised. Prompt length (chars) = 266\n",
      "2025-05-13 10:59:57,262 [INFO ] [state.generation_sta]: GenerationState initialised. Prompt length (chars) = 266\n",
      "2025-05-13 10:59:57,262 [INFO ] [state.generation_sta]: GenerationState initialised. Prompt length (chars) = 266\n",
      "2025-05-13 10:59:57,262 [INFO ] [state.generation_sta]: GenerationState initialised. Prompt length (chars) = 266\n",
      "2025-05-13 10:59:57,262 [INFO ] [state.generation_sta]: GenerationState initialised. Prompt length (chars) = 266\n",
      "2025-05-13 10:59:57,262 [INFO ] [state.generation_sta]: GenerationState initialised. Prompt length (chars) = 266\n",
      "2025-05-13 10:59:57,263 [WARNI] [core.sampler        ]:     ✓ replacement='▁asked' (pool=1, T=0.7, min_p=0.05, top_p=1.0, top_k=50)\n",
      "2025-05-13 10:59:57,263 [DEBUG] [root                ]: BANNED (prompt_idx=0, type=slop_phrase, phrase='stammered' @ orig_token='▁stam' ...'e watching?” Johnny stammered, gesturing towards'...)\n",
      "2025-05-13 10:59:57,263 [DEBUG] [api_client.api_clien]: POST https://ncfi2yswjottwq-8888.proxy.runpod.net/v1/completions\n",
      "2025-05-13 10:59:57,263 [DEBUG] [api_client.api_clien]: Payload: {\"model\": \"unsloth/gemma-3-4b-it\", \"prompt\": \"<bos><start_of_turn>user\\nWriting prompt: After defeating the Devil down in Georgia, Johnny proudly proclaims he's the best that's ever been. A flash of lightning crashes down and God appears, fiddle in hand. The Devil gets his popcorn ready.\\n\\nWrite 1000 words to this prompt. Your response:\\n<end_of_turn>\\n<start_of_turn>model\\nThe rain in Georgia was a greasy, insistent thing, clinging to everything with the stubbornness of regret. It mirrored the\n"
     ]
    },
    {
     "name": "stdout",
     "output_type": "stream",
     "text": [
      "Batch Generating:   0%|          | 0/1 [00:37<?, ?prompt/s, 22.4 tok/s]"
     ]
    },
    {
     "name": "stderr",
     "output_type": "stream",
     "text": [
      "2025-05-13 10:59:57,820 [DEBUG] [urllib3.connectionpo]: https://ncfi2yswjottwq-8888.proxy.runpod.net:443 \"POST /v1/completions HTTP/1.1\" 200 None\n",
      "2025-05-13 10:59:57,985 [DEBUG] [api_client.api_clien]: Raw response: {\"id\": \"cmpl-327b3d66d05e419abf7fb9149d42bcc8\", \"object\": \"text_completion\", \"created\": 1747098002, \"model\": \"unsloth/gemma-3-4b-it\", \"choices\": [{\"index\": 0, \"text\": \", his voice barely a whisper. \\n\\n\\u201cWatching, observing, cataloging,\\u201d the figure corrected\", \"logprobs\": {\"text_offset\": [0, 1, 5, 11, 18, 20, 28, 29, 30, 32, 33, 41, 42, 52, 53, 61, 64, 66, 70, 77], \"token_logprobs\": [-3.8980677345534787e-05, -0.8149429559707642, -0.013334969989955425, -0.49707576632499695, -0.016233760863542557, -0.0013755630934610963, -0.0005656072753481567, -0.48397010564804077, -2.4676019165781327e-05, -0.07690809667110443, -0.5667123794555664, -0.5170356631278992, -0.5957845449447632, -0.007395036518573761, -1.828015685081482, -0.018150078132748604, -0.021820351481437683, -0.0015136463334783912, -0.000954768096562475, -0.8665074110031128], \"tokens\": [\",\", \"\\u2581his\", \"\\u2581voice\", \"\\u2581barely\", \"\\u2581a\", \"\\u2581whisper\", \".\", \"\\u2581\", \"\\n\\n\", \"\\u201c\", \"Watching\", \",\", \"\\u2581observing\", \",\", \"\\u2581catalog\", \"ing\", \",\\u201d\", \"\\u2581the\", \"\\u2581figure\", \"\\u2581corrected\"], \"top_logprobs\": [{\",\": -3.8980677345534787e-05, \"\\u2581incred\": -10.500039100646973, \".\": -12.250039100646973, \"\\u2581cautiously\": -12.375039100646973, \"\\u2581tentatively\": -13.500039100646973, \"\\u2581nervously\": -14.500039100646973, \"\\u2581weakly\": -15.375039100646973, \"\\u2581hesit\": -15.500039100646973, \"\\u2581dumb\": -16.750038146972656, \"\\u2581numb\": -16.750038146972656, \"\\u2581stupid\": -18.000038146972656, \"\\u2581war\": -18.000038146972656, \"\\u2581bewildered\": -18.250038146972656, \"\\u2581uneas\": -18.500038146972656, \"\\u2581dis\": -18.625038146972656, \"\\u2581skept\": -18.750038146972656, \"\\u2581disbelief\": -19.125038146972656, \"\\u2581doubt\": -19.375038146972656, \"\\u2581shak\": -19.375038146972656, \"\\u2581uncertain\": -19.500038146972656}, {\"\\u2581his\": -0.8149429559707642, \"\\u2581bewildered\": -2.0649428367614746, \"\\u2581gesturing\": -2.0649428367614746, \"\\u2581feeling\": -2.3149428367614746, \"\\u25\n",
      "2025-05-13 10:59:57,985 [INFO ] [api_client.api_clien]: Received 20 token strings (finish_reason=length).\n",
      "2025-05-13 10:59:57,986 [WARNI] [validators.slop_phra]: Slop violation: 'asked, his voice barely' @tok=795 (char_pos=3406) …e watching?” Johnny asked, his voice barely a whisper.   “Watch…\n",
      "2025-05-13 10:59:57,988 [WARNI] [validators.ngram_val]: NGram violation: 'asked voice barely' (stopwords_removed=True) @tok=795 (char_pos=3406). Context: ...’re… you’re watching?” Johnny asked, his voice barely a whisper.   “Watching, ...\n",
      "2025-05-13 10:59:57,988 [WARNI] [core.sampler        ]: Back-tracking @tok=795 orig='▁asked' ban='{'phrase': 'asked, his voice barely', 'context': 'e watching?” Johnny asked, his voice barely a whisper.   “Watch', 'suppression_detail_key': 'asked, his voice barely'}'.\n",
      "2025-05-13 10:59:57,988 [INFO ] [state.generation_sta]: GenerationState initialised. Prompt length (chars) = 266\n",
      "2025-05-13 10:59:57,988 [INFO ] [state.generation_sta]: GenerationState initialised. Prompt length (chars) = 266\n",
      "2025-05-13 10:59:57,988 [INFO ] [state.generation_sta]: GenerationState initialised. Prompt length (chars) = 266\n",
      "2025-05-13 10:59:57,988 [INFO ] [state.generation_sta]: GenerationState initialised. Prompt length (chars) = 266\n",
      "2025-05-13 10:59:57,988 [INFO ] [state.generation_sta]: GenerationState initialised. Prompt length (chars) = 266\n",
      "2025-05-13 10:59:57,988 [INFO ] [state.generation_sta]: GenerationState initialised. Prompt length (chars) = 266\n",
      "2025-05-13 10:59:57,988 [INFO ] [state.generation_sta]: GenerationState initialised. Prompt length (chars) = 266\n",
      "2025-05-13 10:59:57,988 [INFO ] [state.generation_sta]: GenerationState initialised. Prompt length (chars) = 266\n",
      "2025-05-13 10:59:57,988 [INFO ] [state.generation_sta]: GenerationState initialised. Prompt length (chars) = 266\n",
      "2025-05-13 10:59:57,988 [INFO ] [state.generation_sta]: GenerationState initialised. Prompt length (chars) = 266\n",
      "2025-05-13 10:59:57,988 [INFO ] [state.generation_sta]: GenerationState initialised. Prompt length (chars) = 266\n",
      "2025-05-13 10:59:57,988 [INFO ] [state.generation_sta]: GenerationState initialised. Prompt length (chars) = 266\n",
      "2025-05-13 10:59:57,988 [INFO ] [state.generation_sta]: GenerationState initialised. Prompt length (chars) = 266\n",
      "2025-05-13 10:59:57,988 [INFO ] [state.generation_sta]: GenerationState initialised. Prompt length (chars) = 266\n",
      "2025-05-13 10:59:57,988 [INFO ] [state.generation_sta]: GenerationState initialised. Prompt length (chars) = 266\n",
      "2025-05-13 10:59:57,988 [INFO ] [state.generation_sta]: GenerationState initialised. Prompt length (chars) = 266\n",
      "2025-05-13 10:59:57,988 [INFO ] [state.generation_sta]: GenerationState initialised. Prompt length (chars) = 266\n",
      "2025-05-13 10:59:57,988 [INFO ] [state.generation_sta]: GenerationState initialised. Prompt length (chars) = 266\n",
      "2025-05-13 10:59:57,989 [INFO ] [state.generation_sta]: GenerationState initialised. Prompt length (chars) = 266\n",
      "2025-05-13 10:59:57,989 [WARNI] [core.sampler        ]:     ✓ replacement='▁stam' (pool=1, T=0.7, min_p=0.05, top_p=1.0, top_k=50)\n",
      "2025-05-13 10:59:57,989 [DEBUG] [root                ]: BANNED (prompt_idx=0, type=slop_phrase, phrase='asked, his voice barely' @ orig_token='▁asked' ...'e watching?” Johnny asked, his voice barely a whisper.   “Watch'...)\n",
      "2025-05-13 10:59:57,989 [DEBUG] [api_client.api_clien]: POST https://ncfi2yswjottwq-8888.proxy.runpod.net/v1/completions\n",
      "2025-05-13 10:59:57,990 [DEBUG] [api_client.api_clien]: Payload: {\"model\": \"unsloth/gemma-3-4b-it\", \"prompt\": \"<bos><start_of_turn>user\\nWriting prompt: After defeating the Devil down in Georgia, Johnny proudly proclaims he's the best that's ever been. A flash of lightning crashes down and God appears, fiddle in hand. The Devil gets his popcorn ready.\\n\\nWrite 1000 words to this prompt. Your response:\\n<end_of_turn>\\n<start_of_turn>model\\nThe rain in Georgia was a greasy, insistent thing, clinging to everything with the stubbornness of regret. It mirrored the\n",
      "2025-05-13 10:59:58,548 [DEBUG] [urllib3.connectionpo]: https://ncfi2yswjottwq-8888.proxy.runpod.net:443 \"POST /v1/completions HTTP/1.1\" 200 None\n",
      "2025-05-13 10:59:58,611 [DEBUG] [api_client.api_clien]: Raw response: {\"id\": \"cmpl-0ab52c2be52a430999e02994dfb1318c\", \"object\": \"text_completion\", \"created\": 1747098003, \"model\": \"unsloth/gemma-3-4b-it\", \"choices\": [{\"index\": 0, \"text\": \"mered, gesturing towards the still-bound Devil. \\n\\n\\u201cObserving,\\u201d the figure corrected\", \"logprobs\": {\"text_offset\": [0, 3, 5, 6, 16, 24, 28, 34, 35, 40, 46, 47, 48, 50, 51, 57, 60, 62, 66, 73], \"token_logprobs\": [-1.1920928244535389e-07, 0.0, -0.048587556928396225, -0.2917056381702423, -1.2473469972610474, -0.0004807746736332774, -1.5717676877975464, -0.0015836328966543078, -0.6743600964546204, -0.0012297218199819326, -0.019121013581752777, -1.0052374601364136, -8.583032467868179e-06, -0.22969041764736176, -0.8188900351524353, -1.6927575416048057e-05, -0.09428252279758453, -0.0011438739020377398, -0.001210671616718173, -0.0001938155182870105], \"tokens\": [\"mer\", \"ed\", \",\", \"\\u2581gesturing\", \"\\u2581towards\", \"\\u2581the\", \"\\u2581still\", \"-\", \"bound\", \"\\u2581Devil\", \".\", \"\\u2581\", \"\\n\\n\", \"\\u201c\", \"Observ\", \"ing\", \",\\u201d\", \"\\u2581the\", \"\\u2581figure\", \"\\u2581corrected\"], \"top_logprobs\": [{\"mer\": -1.1920928244535389e-07, \"pered\": -16.375, \"med\": -17.625, \"gled\": -19.25, \"MER\": -21.125, \"led\": -22.5, \"mar\": -22.75, \"bered\": -22.875, \"\\u2581mer\": -22.875, \"mler\": -23.0, \"urred\": -23.125, \"ided\": -23.5, \"ued\": -23.5, \"mm\": -23.5, \"bled\": -23.5, \"iled\": -23.75, \"merged\": -23.75, \"tered\": -23.875, \"vered\": -24.125, \"ered\": -24.375}, {\"ed\": 0.0, \".\": -30.5, \",\": -31.25, \"ly\": -34.25, \"ated\": -40.75, \"led\": -43.25, \"d\": -46.25, \"ened\": -46.75, \"ered\": -47.0, \"ized\": -48.25, \"er\": -48.5, \"eded\": -49.75, \"ned\": -49.75, \"edly\": -50.0, \"\\n\\n\": -51.5, \";\": -52.25, \"ged\": -52.75, \"tered\": -53.0, \"ably\": -53.25, \"ely\": -53.5}, {\",\": -0.048587556928396225, \".\": -3.0485875606536865, \"\\u2581incred\": -17.048587799072266, \"\\n\\n\": -17.923587799072266, \"\\u2581nervously\": -18.048587799072266, \"\\u2581again\": -18.173587799072266, \"\\u2581,\": -18.423587799072266, \"\\u2581out\": -18.548587799072266, \"\\u2581\": -19.0485877\n",
      "2025-05-13 10:59:58,612 [INFO ] [api_client.api_clien]: Received 20 token strings (finish_reason=length).\n",
      "2025-05-13 10:59:58,613 [WARNI] [validators.slop_phra]: Slop violation: 'stammered' @tok=795 (char_pos=3406) …e watching?” Johnny stammered, gesturing towards …\n",
      "2025-05-13 10:59:58,614 [WARNI] [core.sampler        ]: Back-tracking @tok=795 orig='▁stam' ban='{'phrase': 'stammered', 'context': 'e watching?” Johnny stammered, gesturing towards ', 'suppression_detail_key': 'stammered'}'.\n",
      "2025-05-13 10:59:58,614 [INFO ] [state.generation_sta]: GenerationState initialised. Prompt length (chars) = 266\n",
      "2025-05-13 10:59:58,614 [INFO ] [state.generation_sta]: GenerationState initialised. Prompt length (chars) = 266\n",
      "2025-05-13 10:59:58,614 [INFO ] [state.generation_sta]: GenerationState initialised. Prompt length (chars) = 266\n",
      "2025-05-13 10:59:58,614 [INFO ] [state.generation_sta]: GenerationState initialised. Prompt length (chars) = 266\n",
      "2025-05-13 10:59:58,614 [INFO ] [state.generation_sta]: GenerationState initialised. Prompt length (chars) = 266\n",
      "2025-05-13 10:59:58,614 [INFO ] [state.generation_sta]: GenerationState initialised. Prompt length (chars) = 266\n",
      "2025-05-13 10:59:58,614 [INFO ] [state.generation_sta]: GenerationState initialised. Prompt length (chars) = 266\n",
      "2025-05-13 10:59:58,614 [INFO ] [state.generation_sta]: GenerationState initialised. Prompt length (chars) = 266\n",
      "2025-05-13 10:59:58,614 [INFO ] [state.generation_sta]: GenerationState initialised. Prompt length (chars) = 266\n",
      "2025-05-13 10:59:58,614 [INFO ] [state.generation_sta]: GenerationState initialised. Prompt length (chars) = 266\n",
      "2025-05-13 10:59:58,614 [INFO ] [state.generation_sta]: GenerationState initialised. Prompt length (chars) = 266\n",
      "2025-05-13 10:59:58,614 [INFO ] [state.generation_sta]: GenerationState initialised. Prompt length (chars) = 266\n",
      "2025-05-13 10:59:58,615 [INFO ] [state.generation_sta]: GenerationState initialised. Prompt length (chars) = 266\n",
      "2025-05-13 10:59:58,615 [INFO ] [state.generation_sta]: GenerationState initialised. Prompt length (chars) = 266\n",
      "2025-05-13 10:59:58,615 [INFO ] [state.generation_sta]: GenerationState initialised. Prompt length (chars) = 266\n",
      "2025-05-13 10:59:58,615 [INFO ] [state.generation_sta]: GenerationState initialised. Prompt length (chars) = 266\n",
      "2025-05-13 10:59:58,615 [INFO ] [state.generation_sta]: GenerationState initialised. Prompt length (chars) = 266\n",
      "2025-05-13 10:59:58,615 [INFO ] [state.generation_sta]: GenerationState initialised. Prompt length (chars) = 266\n",
      "2025-05-13 10:59:58,615 [WARNI] [core.sampler        ]:     ✓ replacement='▁questioned' (pool=12, T=0.7, min_p=0.05, top_p=1.0, top_k=50)\n",
      "2025-05-13 10:59:58,616 [DEBUG] [root                ]: BANNED (prompt_idx=0, type=slop_phrase, phrase='stammered' @ orig_token='▁stam' ...'e watching?” Johnny stammered, gesturing towards'...)\n",
      "2025-05-13 10:59:58,616 [DEBUG] [api_client.api_clien]: POST https://ncfi2yswjottwq-8888.proxy.runpod.net/v1/completions\n",
      "2025-05-13 10:59:58,616 [DEBUG] [api_client.api_clien]: Payload: {\"model\": \"unsloth/gemma-3-4b-it\", \"prompt\": \"<bos><start_of_turn>user\\nWriting prompt: After defeating the Devil down in Georgia, Johnny proudly proclaims he's the best that's ever been. A flash of lightning crashes down and God appears, fiddle in hand. The Devil gets his popcorn ready.\\n\\nWrite 1000 words to this prompt. Your response:\\n<end_of_turn>\\n<start_of_turn>model\\nThe rain in Georgia was a greasy, insistent thing, clinging to everything with the stubbornness of regret. It mirrored the\n",
      "2025-05-13 10:59:59,171 [DEBUG] [urllib3.connectionpo]: https://ncfi2yswjottwq-8888.proxy.runpod.net:443 \"POST /v1/completions HTTP/1.1\" 200 None\n",
      "2025-05-13 10:59:59,233 [DEBUG] [api_client.api_clien]: Raw response: {\"id\": \"cmpl-e9548197b513437492ef23d25ad062e9\", \"object\": \"text_completion\", \"created\": 1747098004, \"model\": \"unsloth/gemma-3-4b-it\", \"choices\": [{\"index\": 0, \"text\": \", his voice barely a whisper. \\n\\n\\u201cObserving,\\u201d the figure corrected, a slight,\", \"logprobs\": {\"text_offset\": [0, 1, 5, 11, 18, 20, 28, 29, 30, 32, 33, 39, 42, 44, 48, 55, 65, 66, 68, 75], \"token_logprobs\": [-7.271502545336261e-05, -0.7945978045463562, -0.12425192445516586, -0.532913863658905, -0.03168041631579399, -0.0015101945027709007, -0.0022500455379486084, -0.43685171008110046, -3.611976353568025e-05, -0.08168505132198334, -1.259385347366333, -7.271740287251305e-06, -0.10573546588420868, -0.0033946766052395105, -0.0006246999255381525, -0.00014161060971673578, -1.018141508102417, -1.3977506160736084, -1.0632450580596924, -0.699062705039978], \"tokens\": [\",\", \"\\u2581his\", \"\\u2581voice\", \"\\u2581barely\", \"\\u2581a\", \"\\u2581whisper\", \".\", \"\\u2581\", \"\\n\\n\", \"\\u201c\", \"Observ\", \"ing\", \",\\u201d\", \"\\u2581the\", \"\\u2581figure\", \"\\u2581corrected\", \",\", \"\\u2581a\", \"\\u2581slight\", \",\"], \"top_logprobs\": [{\",\": -7.271502545336261e-05, \".\": -9.750072479248047, \"\\u2581cautiously\": -12.000072479248047, \"\\u2581nervously\": -12.625072479248047, \"\\u2581tentatively\": -13.375072479248047, \"\\u2581weakly\": -13.500072479248047, \"\\u2581incred\": -13.625072479248047, \"\\u2581hesit\": -14.625072479248047, \"\\u2581war\": -16.375072479248047, \"\\u2581uneas\": -16.500072479248047, \"\\u2581dumb\": -16.500072479248047, \"\\u2581sharply\": -17.000072479248047, \"\\u2581numb\": -17.750072479248047, \"\\u2581faintly\": -17.875072479248047, \"\\u2581shak\": -17.875072479248047, \"\\u2581again\": -18.125072479248047, \"\\u2581fear\": -18.500072479248047, \"\\u2581defensively\": -18.625072479248047, \"\\u2581skept\": -18.750072479248047, \"\\u2581,\": -18.750072479248047}, {\"\\u2581his\": -0.7945978045463562, \"\\u2581gesturing\": -1.669597864151001, \"\\u2581feeling\": -2.294597864151001, \"\\u2581bewildered\": -2.669597864151001, \"\\u2581a\": -3.294597864151001, \"\\u2581suspic\n",
      "2025-05-13 10:59:59,233 [INFO ] [api_client.api_clien]: Received 20 token strings (finish_reason=length).\n",
      "2025-05-13 10:59:59,234 [WARNI] [validators.slop_phra]: Slop violation: 'voice barely a whisper' @tok=798 (char_pos=3422) …nny questioned, his voice barely a whisper.   “Observing,” the…\n",
      "2025-05-13 10:59:59,235 [WARNI] [validators.ngram_val]: NGram violation: 'voice barely' (stopwords_removed=True) @tok=798 (char_pos=3422). Context: ...hing?” Johnny questioned, his voice barely a whisper.   “Observing,” the...\n",
      "2025-05-13 10:59:59,236 [WARNI] [core.sampler        ]: Back-tracking @tok=798 orig='▁voice' ban='{'phrase': 'voice barely a whisper', 'context': 'nny questioned, his voice barely a whisper.   “Observing,” the', 'suppression_detail_key': 'voice barely a whisper'}'.\n",
      "2025-05-13 10:59:59,236 [INFO ] [state.generation_sta]: GenerationState initialised. Prompt length (chars) = 266\n",
      "2025-05-13 10:59:59,236 [INFO ] [state.generation_sta]: GenerationState initialised. Prompt length (chars) = 266\n",
      "2025-05-13 10:59:59,236 [INFO ] [state.generation_sta]: GenerationState initialised. Prompt length (chars) = 266\n",
      "2025-05-13 10:59:59,236 [INFO ] [state.generation_sta]: GenerationState initialised. Prompt length (chars) = 266\n",
      "2025-05-13 10:59:59,236 [INFO ] [state.generation_sta]: GenerationState initialised. Prompt length (chars) = 266\n",
      "2025-05-13 10:59:59,236 [INFO ] [state.generation_sta]: GenerationState initialised. Prompt length (chars) = 266\n",
      "2025-05-13 10:59:59,236 [INFO ] [state.generation_sta]: GenerationState initialised. Prompt length (chars) = 266\n",
      "2025-05-13 10:59:59,236 [INFO ] [state.generation_sta]: GenerationState initialised. Prompt length (chars) = 266\n",
      "2025-05-13 10:59:59,236 [INFO ] [state.generation_sta]: GenerationState initialised. Prompt length (chars) = 266\n",
      "2025-05-13 10:59:59,236 [INFO ] [state.generation_sta]: GenerationState initialised. Prompt length (chars) = 266\n",
      "2025-05-13 10:59:59,236 [INFO ] [state.generation_sta]: GenerationState initialised. Prompt length (chars) = 266\n",
      "2025-05-13 10:59:59,236 [INFO ] [state.generation_sta]: GenerationState initialised. Prompt length (chars) = 266\n",
      "2025-05-13 10:59:59,236 [INFO ] [state.generation_sta]: GenerationState initialised. Prompt length (chars) = 266\n",
      "2025-05-13 10:59:59,236 [INFO ] [state.generation_sta]: GenerationState initialised. Prompt length (chars) = 266\n",
      "2025-05-13 10:59:59,236 [INFO ] [state.generation_sta]: GenerationState initialised. Prompt length (chars) = 266\n",
      "2025-05-13 10:59:59,236 [INFO ] [state.generation_sta]: GenerationState initialised. Prompt length (chars) = 266\n",
      "2025-05-13 10:59:59,236 [INFO ] [state.generation_sta]: GenerationState initialised. Prompt length (chars) = 266\n",
      "2025-05-13 10:59:59,236 [INFO ] [state.generation_sta]: GenerationState initialised. Prompt length (chars) = 266\n",
      "2025-05-13 10:59:59,236 [INFO ] [state.generation_sta]: GenerationState initialised. Prompt length (chars) = 266\n",
      "2025-05-13 10:59:59,237 [WARNI] [core.sampler        ]:     ✓ replacement='▁hand' (pool=3, T=0.7, min_p=0.05, top_p=1.0, top_k=50)\n",
      "2025-05-13 10:59:59,237 [DEBUG] [root                ]: BANNED (prompt_idx=0, type=slop_phrase, phrase='voice barely a whisper' @ orig_token='▁voice' ...'nny questioned, his voice barely a whisper.   “Observing,” the'...)\n",
      "2025-05-13 10:59:59,237 [DEBUG] [api_client.api_clien]: POST https://ncfi2yswjottwq-8888.proxy.runpod.net/v1/completions\n",
      "2025-05-13 10:59:59,237 [DEBUG] [api_client.api_clien]: Payload: {\"model\": \"unsloth/gemma-3-4b-it\", \"prompt\": \"<bos><start_of_turn>user\\nWriting prompt: After defeating the Devil down in Georgia, Johnny proudly proclaims he's the best that's ever been. A flash of lightning crashes down and God appears, fiddle in hand. The Devil gets his popcorn ready.\\n\\nWrite 1000 words to this prompt. Your response:\\n<end_of_turn>\\n<start_of_turn>model\\nThe rain in Georgia was a greasy, insistent thing, clinging to everything with the stubbornness of regret. It mirrored the\n"
     ]
    },
    {
     "name": "stdout",
     "output_type": "stream",
     "text": [
      "Batch Generating:   0%|          | 0/1 [00:39<?, ?prompt/s, 21.3 tok/s]"
     ]
    },
    {
     "name": "stderr",
     "output_type": "stream",
     "text": [
      "2025-05-13 10:59:59,798 [DEBUG] [urllib3.connectionpo]: https://ncfi2yswjottwq-8888.proxy.runpod.net:443 \"POST /v1/completions HTTP/1.1\" 200 None\n",
      "2025-05-13 10:59:59,856 [DEBUG] [api_client.api_clien]: Raw response: {\"id\": \"cmpl-35dc56258ca74cf68956fd75724b80fe\", \"object\": \"text_completion\", \"created\": 1747098004, \"model\": \"unsloth/gemma-3-4b-it\", \"choices\": [{\"index\": 0, \"text\": \" instinctively reaching for the Colt Peacemaker strapped to his hip. He wasn\\u2019t sure what to\", \"logprobs\": {\"text_offset\": [0, 14, 23, 27, 31, 36, 39, 41, 47, 56, 59, 63, 67, 68, 71, 76, 77, 78, 83, 88], \"token_logprobs\": [-0.0005775213940069079, -0.20021294057369232, -0.0002768848498817533, -0.03808915242552757, -0.22752143442630768, -0.05570989102125168, -3.576278118089249e-07, 0.0, -0.27089694142341614, -4.637133679352701e-05, -6.556489552167477e-06, -0.01909809000790119, -0.009131573140621185, -1.5015051364898682, -1.091376781463623, -0.474077045917511, 0.0, -0.3742711544036865, -1.0749971866607666, -1.4257185459136963], \"tokens\": [\"\\u2581instinctively\", \"\\u2581reaching\", \"\\u2581for\", \"\\u2581the\", \"\\u2581Colt\", \"\\u2581Pe\", \"ac\", \"emaker\", \"\\u2581strapped\", \"\\u2581to\", \"\\u2581his\", \"\\u2581hip\", \".\", \"\\u2581He\", \"\\u2581wasn\", \"\\u2019\", \"t\", \"\\u2581sure\", \"\\u2581what\", \"\\u2581to\"], \"top_logprobs\": [{\"\\u2581instinctively\": -0.0005775213940069079, \"\\u2581unconsciously\": -8.125577926635742, \"\\u2581automatically\": -9.250577926635742, \"\\u2581tightening\": -10.125577926635742, \"\\u2581hovering\": -10.500577926635742, \"\\u2581gripping\": -11.125577926635742, \"\\u2581inch\": -11.125577926635742, \"\\u2581twitch\": -11.125577926635742, \"\\u2581drifting\": -11.250577926635742, \"\\u2581edging\": -11.375577926635742, \"\\u2581involuntarily\": -11.625577926635742, \"\\u2581instinct\": -12.000577926635742, \"\\u2581reaching\": -12.000577926635742, \"\\u2581nervously\": -12.000577926635742, \"\\u2581reflex\": -12.125577926635742, \"\\u2581subconsciously\": -12.625577926635742, \"\\u2581slowly\": -12.750577926635742, \"\\u2581moving\": -12.875577926635742, \"\\u2581clutching\": -13.250577926635742, \"\\u2581cl\": -14.375577926635742}, {\"\\u2581reaching\": -0.20021294057369232, \"\\u2581moving\": -2.7002129554748535, \"\\u2581going\": -2.9502129554748535, \"\\u2581g\n",
      "2025-05-13 10:59:59,857 [INFO ] [api_client.api_clien]: Received 20 token strings (finish_reason=length).\n",
      "2025-05-13 10:59:59,857 [WARNI] [validators.slop_phra]: Slop violation: 'hand instinctively reaching' @tok=798 (char_pos=3422) …nny questioned, his hand instinctively reaching for the Colt Peacem…\n",
      "2025-05-13 10:59:59,859 [WARNI] [validators.ngram_val]: NGram violation: 'hand instinctively reaching' (stopwords_removed=True) @tok=798 (char_pos=3422). Context: ...hing?” Johnny questioned, his hand instinctively reaching for the Colt Peacemaker strap...\n",
      "2025-05-13 10:59:59,859 [WARNI] [core.sampler        ]: Back-tracking @tok=798 orig='▁hand' ban='{'phrase': 'hand instinctively reaching', 'context': 'nny questioned, his hand instinctively reaching for the Colt Peacem', 'suppression_detail_key': 'hand instinctively reaching'}'.\n",
      "2025-05-13 10:59:59,859 [INFO ] [state.generation_sta]: GenerationState initialised. Prompt length (chars) = 266\n",
      "2025-05-13 10:59:59,859 [INFO ] [state.generation_sta]: GenerationState initialised. Prompt length (chars) = 266\n",
      "2025-05-13 10:59:59,859 [INFO ] [state.generation_sta]: GenerationState initialised. Prompt length (chars) = 266\n",
      "2025-05-13 10:59:59,859 [INFO ] [state.generation_sta]: GenerationState initialised. Prompt length (chars) = 266\n",
      "2025-05-13 10:59:59,859 [INFO ] [state.generation_sta]: GenerationState initialised. Prompt length (chars) = 266\n",
      "2025-05-13 10:59:59,859 [INFO ] [state.generation_sta]: GenerationState initialised. Prompt length (chars) = 266\n",
      "2025-05-13 10:59:59,859 [INFO ] [state.generation_sta]: GenerationState initialised. Prompt length (chars) = 266\n",
      "2025-05-13 10:59:59,859 [INFO ] [state.generation_sta]: GenerationState initialised. Prompt length (chars) = 266\n",
      "2025-05-13 10:59:59,859 [INFO ] [state.generation_sta]: GenerationState initialised. Prompt length (chars) = 266\n",
      "2025-05-13 10:59:59,859 [INFO ] [state.generation_sta]: GenerationState initialised. Prompt length (chars) = 266\n",
      "2025-05-13 10:59:59,860 [INFO ] [state.generation_sta]: GenerationState initialised. Prompt length (chars) = 266\n",
      "2025-05-13 10:59:59,860 [INFO ] [state.generation_sta]: GenerationState initialised. Prompt length (chars) = 266\n",
      "2025-05-13 10:59:59,860 [INFO ] [state.generation_sta]: GenerationState initialised. Prompt length (chars) = 266\n",
      "2025-05-13 10:59:59,860 [INFO ] [state.generation_sta]: GenerationState initialised. Prompt length (chars) = 266\n",
      "2025-05-13 10:59:59,860 [INFO ] [state.generation_sta]: GenerationState initialised. Prompt length (chars) = 266\n",
      "2025-05-13 10:59:59,860 [INFO ] [state.generation_sta]: GenerationState initialised. Prompt length (chars) = 266\n",
      "2025-05-13 10:59:59,860 [INFO ] [state.generation_sta]: GenerationState initialised. Prompt length (chars) = 266\n",
      "2025-05-13 10:59:59,860 [INFO ] [state.generation_sta]: GenerationState initialised. Prompt length (chars) = 266\n",
      "2025-05-13 10:59:59,860 [INFO ] [state.generation_sta]: GenerationState initialised. Prompt length (chars) = 266\n",
      "2025-05-13 10:59:59,860 [WARNI] [core.sampler        ]:     ✓ replacement='▁voice' (pool=1, T=0.7, min_p=0.05, top_p=1.0, top_k=50)\n",
      "2025-05-13 10:59:59,861 [DEBUG] [root                ]: BANNED (prompt_idx=0, type=slop_phrase, phrase='hand instinctively reaching' @ orig_token='▁hand' ...'nny questioned, his hand instinctively reaching for the Colt Peacem'...)\n",
      "2025-05-13 10:59:59,861 [DEBUG] [api_client.api_clien]: POST https://ncfi2yswjottwq-8888.proxy.runpod.net/v1/completions\n",
      "2025-05-13 10:59:59,861 [DEBUG] [api_client.api_clien]: Payload: {\"model\": \"unsloth/gemma-3-4b-it\", \"prompt\": \"<bos><start_of_turn>user\\nWriting prompt: After defeating the Devil down in Georgia, Johnny proudly proclaims he's the best that's ever been. A flash of lightning crashes down and God appears, fiddle in hand. The Devil gets his popcorn ready.\\n\\nWrite 1000 words to this prompt. Your response:\\n<end_of_turn>\\n<start_of_turn>model\\nThe rain in Georgia was a greasy, insistent thing, clinging to everything with the stubbornness of regret. It mirrored the\n",
      "2025-05-13 11:00:00,417 [DEBUG] [urllib3.connectionpo]: https://ncfi2yswjottwq-8888.proxy.runpod.net:443 \"POST /v1/completions HTTP/1.1\" 200 None\n",
      "2025-05-13 11:00:00,480 [DEBUG] [api_client.api_clien]: Raw response: {\"id\": \"cmpl-f253b1ee2e584a2ab738dd9e79f0aaea\", \"object\": \"text_completion\", \"created\": 1747098005, \"model\": \"unsloth/gemma-3-4b-it\", \"choices\": [{\"index\": 0, \"text\": \" a shaky whisper. \\n\\n\\u201cObserving,\\u201d the figure corrected. \\u201cI\\u2019ve been observing\", \"logprobs\": {\"text_offset\": [0, 2, 8, 16, 17, 18, 20, 21, 27, 30, 32, 36, 43, 53, 54, 56, 57, 58, 60, 65], \"token_logprobs\": [-1.7054932117462158, -0.982639729976654, -0.007245691493153572, -0.00013672371278516948, -0.41553109884262085, -2.8967437174287625e-05, -0.0966782197356224, -1.2556874752044678, -7.271740287251305e-06, -0.09676036238670349, -0.0030326112173497677, -0.0007013006834313273, -0.00020239688456058502, -0.7298895716667175, -0.030491529032588005, -0.4212445318698883, -0.1622842699289322, -3.8265450712060556e-05, -0.29867395758628845, -0.35155782103538513], \"tokens\": [\"\\u2581a\", \"\\u2581shaky\", \"\\u2581whisper\", \".\", \"\\u2581\", \"\\n\\n\", \"\\u201c\", \"Observ\", \"ing\", \",\\u201d\", \"\\u2581the\", \"\\u2581figure\", \"\\u2581corrected\", \".\", \"\\u2581\\u201c\", \"I\", \"\\u2019\", \"ve\", \"\\u2581been\", \"\\u2581observing\"], \"top_logprobs\": [{\"\\u2581a\": -1.7054932117462158, \"\\u2581barely\": -0.45549318194389343, \"\\u2581tight\": -2.580493211746216, \"\\u2581strained\": -3.455493211746216, \"\\u2581shaky\": -4.080492973327637, \"\\u2581small\": -4.580492973327637, \"\\u2581thin\": -4.955492973327637, \"\\u2581laced\": -5.330492973327637, \"\\u2581cracking\": -5.330492973327637, \"\\u2581hus\": -5.330492973327637, \"\\u2581trembling\": -5.705492973327637, \"\\u2581catching\": -5.830492973327637, \"\\u2581tighter\": -6.080492973327637, \"\\u2581ho\": -6.330492973327637, \"\\u2581now\": -6.455492973327637, \"\\u2581betray\": -6.455492973327637, \"\\u2581unsteady\": -6.455492973327637, \"\\u2581sounding\": -6.705492973327637, \"\\u2581hesitant\": -6.705492973327637, \"\\u2581edged\": -6.705492973327637}, {\"\\u2581shaky\": -0.982639729976654, \"\\u2581strained\": -0.732639729976654, \"\\u2581nervous\": -3.232639789581299, \"\\u2581thin\": -3.232639789581299, \"\\u2581hesitant\": -4.357639789581\n",
      "2025-05-13 11:00:00,480 [INFO ] [api_client.api_clien]: Received 20 token strings (finish_reason=length).\n",
      "2025-05-13 11:00:00,481 [WARNI] [validators.slop_phra]: Slop violation: 'whisper' @tok=801 (char_pos=3436) …, his voice a shaky whisper.   “Observing,” the…\n",
      "2025-05-13 11:00:00,482 [WARNI] [core.sampler        ]: Back-tracking @tok=801 orig='▁whisper' ban='{'phrase': 'whisper', 'context': ', his voice a shaky whisper.   “Observing,” the', 'suppression_detail_key': 'whisper'}'.\n",
      "2025-05-13 11:00:00,482 [INFO ] [state.generation_sta]: GenerationState initialised. Prompt length (chars) = 266\n",
      "2025-05-13 11:00:00,482 [INFO ] [state.generation_sta]: GenerationState initialised. Prompt length (chars) = 266\n",
      "2025-05-13 11:00:00,483 [INFO ] [state.generation_sta]: GenerationState initialised. Prompt length (chars) = 266\n",
      "2025-05-13 11:00:00,483 [INFO ] [state.generation_sta]: GenerationState initialised. Prompt length (chars) = 266\n",
      "2025-05-13 11:00:00,483 [INFO ] [state.generation_sta]: GenerationState initialised. Prompt length (chars) = 266\n",
      "2025-05-13 11:00:00,483 [INFO ] [state.generation_sta]: GenerationState initialised. Prompt length (chars) = 266\n",
      "2025-05-13 11:00:00,483 [INFO ] [state.generation_sta]: GenerationState initialised. Prompt length (chars) = 266\n",
      "2025-05-13 11:00:00,483 [INFO ] [state.generation_sta]: GenerationState initialised. Prompt length (chars) = 266\n",
      "2025-05-13 11:00:00,483 [INFO ] [state.generation_sta]: GenerationState initialised. Prompt length (chars) = 266\n",
      "2025-05-13 11:00:00,483 [INFO ] [state.generation_sta]: GenerationState initialised. Prompt length (chars) = 266\n",
      "2025-05-13 11:00:00,483 [INFO ] [state.generation_sta]: GenerationState initialised. Prompt length (chars) = 266\n",
      "2025-05-13 11:00:00,483 [INFO ] [state.generation_sta]: GenerationState initialised. Prompt length (chars) = 266\n",
      "2025-05-13 11:00:00,483 [INFO ] [state.generation_sta]: GenerationState initialised. Prompt length (chars) = 266\n",
      "2025-05-13 11:00:00,483 [INFO ] [state.generation_sta]: GenerationState initialised. Prompt length (chars) = 266\n",
      "2025-05-13 11:00:00,483 [INFO ] [state.generation_sta]: GenerationState initialised. Prompt length (chars) = 266\n",
      "2025-05-13 11:00:00,483 [INFO ] [state.generation_sta]: GenerationState initialised. Prompt length (chars) = 266\n",
      "2025-05-13 11:00:00,483 [INFO ] [state.generation_sta]: GenerationState initialised. Prompt length (chars) = 266\n",
      "2025-05-13 11:00:00,483 [INFO ] [state.generation_sta]: GenerationState initialised. Prompt length (chars) = 266\n",
      "2025-05-13 11:00:00,484 [WARNI] [core.sampler        ]:     ✓ replacement='▁rasp' (pool=3, T=0.7, min_p=0.05, top_p=1.0, top_k=50)\n",
      "2025-05-13 11:00:00,484 [DEBUG] [root                ]: BANNED (prompt_idx=0, type=slop_phrase, phrase='whisper' @ orig_token='▁whisper' ...', his voice a shaky whisper.   “Observing,” the'...)\n",
      "2025-05-13 11:00:00,484 [DEBUG] [api_client.api_clien]: POST https://ncfi2yswjottwq-8888.proxy.runpod.net/v1/completions\n",
      "2025-05-13 11:00:00,484 [DEBUG] [api_client.api_clien]: Payload: {\"model\": \"unsloth/gemma-3-4b-it\", \"prompt\": \"<bos><start_of_turn>user\\nWriting prompt: After defeating the Devil down in Georgia, Johnny proudly proclaims he's the best that's ever been. A flash of lightning crashes down and God appears, fiddle in hand. The Devil gets his popcorn ready.\\n\\nWrite 1000 words to this prompt. Your response:\\n<end_of_turn>\\n<start_of_turn>model\\nThe rain in Georgia was a greasy, insistent thing, clinging to everything with the stubbornness of regret. It mirrored the\n"
     ]
    },
    {
     "name": "stdout",
     "output_type": "stream",
     "text": [
      "Batch Generating:   0%|          | 0/1 [00:40<?, ?prompt/s, 20.7 tok/s]"
     ]
    },
    {
     "name": "stderr",
     "output_type": "stream",
     "text": [
      "2025-05-13 11:00:01,041 [DEBUG] [urllib3.connectionpo]: https://ncfi2yswjottwq-8888.proxy.runpod.net:443 \"POST /v1/completions HTTP/1.1\" 200 None\n",
      "2025-05-13 11:00:01,205 [DEBUG] [api_client.api_clien]: Raw response: {\"id\": \"cmpl-c503336038b84633bee9d2dc34909904\", \"object\": \"text_completion\", \"created\": 1747098006, \"model\": \"unsloth/gemma-3-4b-it\", \"choices\": [{\"index\": 0, \"text\": \". \\n\\n\\u201cObserving,\\u201d the figure corrected. \\u201cAnd judging. You\\u2019ve declared yourself\", \"logprobs\": {\"text_offset\": [0, 1, 2, 4, 5, 11, 14, 16, 20, 27, 37, 38, 40, 43, 51, 52, 56, 57, 59, 68], \"token_logprobs\": [-1.4305104514278355e-06, -0.35987958312034607, -2.8609820219571702e-05, -0.08088386058807373, -1.1706774234771729, -7.390948667307384e-06, -0.12026935070753098, -0.0028847530484199524, -0.0008026715368032455, -0.00016819016309455037, -0.7302760481834412, -0.030654899775981903, -2.067431688308716, -0.5442846417427063, -0.035420432686805725, -0.07039931416511536, -2.2063088417053223, -0.013066972605884075, -1.6483194828033447, -3.516612196108326e-05], \"tokens\": [\".\", \"\\u2581\", \"\\n\\n\", \"\\u201c\", \"Observ\", \"ing\", \",\\u201d\", \"\\u2581the\", \"\\u2581figure\", \"\\u2581corrected\", \".\", \"\\u2581\\u201c\", \"And\", \"\\u2581judging\", \".\", \"\\u2581You\", \"\\u2019\", \"ve\", \"\\u2581declared\", \"\\u2581yourself\"], \"top_logprobs\": [{\".\": -1.4305104514278355e-06, \"\\u2581in\": -14.375000953674316, \"\\u2581against\": -14.750000953674316, \",\": -15.375000953674316, \"\\u2581now\": -16.375001907348633, \"ing\": -17.375001907348633, \"\\n\\n\": -17.875001907348633, \".\\u201d\": -19.000001907348633, \"\\u2581beneath\": -19.750001907348633, \"\\u2581despite\": -19.750001907348633, \"\\u2581\": -19.750001907348633, \"\\u2581as\": -19.875001907348633, \"\\u2581of\": -19.875001907348633, \"\\u2581barely\": -20.250001907348633, \"\\u2581.\": -20.500001907348633, \"\\u2581through\": -20.625001907348633, \"iness\": -20.625001907348633, \".\\\"\": -20.625001907348633, \"\\u2581that\": -20.625001907348633, \"\\u2581under\": -20.750001907348633}, {\"\\u2581\": -0.35987958312034607, \"\\n\\n\": -1.2348796129226685, \"\\u2581He\": -5.484879493713379, \"\\u2581\\u201c\": -5.484879493713379, \"\\u2581\\u2581\": -6.484879493713379, \"\\u2581The\": -7.234879493713379, \"\\u2581\\\"\": -7.234879493713379, \"\\n\\n\\n\n",
      "2025-05-13 11:00:01,206 [INFO ] [api_client.api_clien]: Received 20 token strings (finish_reason=length).\n",
      "2025-05-13 11:00:01,209 [DEBUG] [api_client.api_clien]: POST https://ncfi2yswjottwq-8888.proxy.runpod.net/v1/completions\n",
      "2025-05-13 11:00:01,209 [DEBUG] [api_client.api_clien]: Payload: {\"model\": \"unsloth/gemma-3-4b-it\", \"prompt\": \"<bos><start_of_turn>user\\nWriting prompt: After defeating the Devil down in Georgia, Johnny proudly proclaims he's the best that's ever been. A flash of lightning crashes down and God appears, fiddle in hand. The Devil gets his popcorn ready.\\n\\nWrite 1000 words to this prompt. Your response:\\n<end_of_turn>\\n<start_of_turn>model\\nThe rain in Georgia was a greasy, insistent thing, clinging to everything with the stubbornness of regret. It mirrored the\n"
     ]
    },
    {
     "name": "stdout",
     "output_type": "stream",
     "text": [
      "Batch Generating:   0%|          | 0/1 [00:41<?, ?prompt/s, 20.9 tok/s]"
     ]
    },
    {
     "name": "stderr",
     "output_type": "stream",
     "text": [
      "2025-05-13 11:00:01,767 [DEBUG] [urllib3.connectionpo]: https://ncfi2yswjottwq-8888.proxy.runpod.net:443 \"POST /v1/completions HTTP/1.1\" 200 None\n",
      "2025-05-13 11:00:01,829 [DEBUG] [api_client.api_clien]: Raw response: {\"id\": \"cmpl-683c80626e5248f08e1cbb3a5855717e\", \"object\": \"text_completion\", \"created\": 1747098006, \"model\": \"unsloth/gemma-3-4b-it\", \"choices\": [{\"index\": 0, \"text\": \" the best that\\u2019s ever been. A bold claim. Let\\u2019s see if it holds up\", \"logprobs\": {\"text_offset\": [0, 4, 9, 14, 15, 16, 21, 26, 27, 29, 34, 40, 41, 45, 46, 47, 51, 54, 57, 63], \"token_logprobs\": [-0.13101883232593536, -0.3165249228477478, -0.009921758435666561, -0.02052309736609459, 0.0, -5.566918844124302e-05, -9.417489309271332e-06, -0.4777752459049225, -0.05399349704384804, -0.0608181431889534, -0.2950435280799866, -0.8633301258087158, -0.3133537471294403, -0.20510025322437286, 0.0, -0.017513157799839973, -0.025532633066177368, -0.04160648584365845, -0.11645389348268509, -0.4263216555118561], \"tokens\": [\"\\u2581the\", \"\\u2581best\", \"\\u2581that\", \"\\u2019\", \"s\", \"\\u2581ever\", \"\\u2581been\", \".\", \"\\u2581A\", \"\\u2581bold\", \"\\u2581claim\", \".\", \"\\u2581Let\", \"\\u2019\", \"s\", \"\\u2581see\", \"\\u2581if\", \"\\u2581it\", \"\\u2581holds\", \"\\u2581up\"], \"top_logprobs\": [{\"\\u2581the\": -0.13101883232593536, \"\\u2581\\u2018\": -2.131018877029419, \"\\u2581'\": -5.75601863861084, \"\\u2581to\": -7.13101863861084, \",\": -9.63101863861084, \"\\u2581superior\": -11.00601863861084, \"\\u2581\\u201c\": -11.25601863861084, \"\\u2581*\": -11.38101863861084, \"\\u2581exceptional\": -12.50601863861084, \"\\u2581worthy\": -13.38101863861084, \"\\u2581best\": -13.63101863861084, \"\\u2581a\": -13.88101863861084, \"\\u2581\\u2013\": -14.25601863861084, \"\\u2026\": -14.25601863861084, \"\\u2581better\": -14.63101863861084, \"\\u2581as\": -15.00601863861084, \"\\u2581capable\": -15.13101863861084, \"\\u2581your\": -15.13101863861084, \"\\u2581The\": -15.25601863861084, \"\\u2581\\\"\": -15.25601863861084}, {\"\\u2581best\": -0.3165249228477478, \"\\u2581\\u2018\": -1.3165249824523926, \"\\u2581'\": -5.816524982452393, \"\\u2581greatest\": -8.566524505615234, \"\\u2581*\": -10.066524505615234, \"\\u2581\\u201c\": -10.566524505615234, \"\\u2581finest\": -11.066524505615234, \"\\u2581most\": -13.066524505615234, \"\\u2581\n",
      "2025-05-13 11:00:01,829 [INFO ] [api_client.api_clien]: Received 20 token strings (finish_reason=length).\n",
      "2025-05-13 11:00:01,832 [DEBUG] [api_client.api_clien]: POST https://ncfi2yswjottwq-8888.proxy.runpod.net/v1/completions\n",
      "2025-05-13 11:00:01,832 [DEBUG] [api_client.api_clien]: Payload: {\"model\": \"unsloth/gemma-3-4b-it\", \"prompt\": \"<bos><start_of_turn>user\\nWriting prompt: After defeating the Devil down in Georgia, Johnny proudly proclaims he's the best that's ever been. A flash of lightning crashes down and God appears, fiddle in hand. The Devil gets his popcorn ready.\\n\\nWrite 1000 words to this prompt. Your response:\\n<end_of_turn>\\n<start_of_turn>model\\nThe rain in Georgia was a greasy, insistent thing, clinging to everything with the stubbornness of regret. It mirrored the\n"
     ]
    },
    {
     "name": "stdout",
     "output_type": "stream",
     "text": [
      "Batch Generating:   0%|          | 0/1 [00:41<?, ?prompt/s, 21.0 tok/s]"
     ]
    },
    {
     "name": "stderr",
     "output_type": "stream",
     "text": [
      "2025-05-13 11:00:02,391 [DEBUG] [urllib3.connectionpo]: https://ncfi2yswjottwq-8888.proxy.runpod.net:443 \"POST /v1/completions HTTP/1.1\" 200 None\n",
      "2025-05-13 11:00:02,558 [DEBUG] [api_client.api_clien]: Raw response: {\"id\": \"cmpl-d4c8121a292f48e297248ce869885b40\", \"object\": \"text_completion\", \"created\": 1747098007, \"model\": \"unsloth/gemma-3-4b-it\", \"choices\": [{\"index\": 0, \"text\": \" under scrutiny.\\u201d He shifted the fiddle slightly, and the music changed, becoming sharper, more insistent,\", \"logprobs\": {\"text_offset\": [0, 6, 15, 17, 20, 28, 32, 39, 48, 49, 53, 57, 63, 71, 72, 81, 89, 90, 95, 105], \"token_logprobs\": [-1.8130102157592773, -0.010181513614952564, -0.011982602998614311, -0.17971736192703247, -2.144404411315918, -0.10209495574235916, -0.012260900810360909, -0.3341206908226013, -0.0063628945499658585, -0.12246498465538025, -0.09106994420289993, -0.48813408613204956, -2.618649959564209, -0.035259101539850235, -0.07007528096437454, -0.42576733231544495, -6.556489552167477e-06, -0.023859288543462753, -0.26813751459121704, -1.5032269954681396], \"tokens\": [\"\\u2581under\", \"\\u2581scrutiny\", \".\\u201d\", \"\\u2581He\", \"\\u2581shifted\", \"\\u2581the\", \"\\u2581fiddle\", \"\\u2581slightly\", \",\", \"\\u2581and\", \"\\u2581the\", \"\\u2581music\", \"\\u2581changed\", \",\", \"\\u2581becoming\", \"\\u2581sharper\", \",\", \"\\u2581more\", \"\\u2581insistent\", \",\"], \"top_logprobs\": [{\"\\u2581under\": -1.8130102157592773, \".\\u201d\": -0.6880102157592773, \"\\u2581to\": -1.1880102157592773, \",\": -3.6880102157592773, \"\\u2581against\": -6.438010215759277, \".\\\"\": -6.688010215759277, \".\": -7.063010215759277, \"\\u2581upon\": -8.063010215759277, \"\\u2581when\": -8.688010215759277, \"\\u2581in\": -9.938010215759277, \"\\u2581beneath\": -10.063010215759277, \"\\u2581a\": -10.438010215759277, \"\\u2581on\": -10.688010215759277, \"\\u2581before\": -10.813010215759277, \"\\u2581after\": -11.063010215759277, \"\\u2581while\": -11.938010215759277, \"\\u2581closer\": -11.938010215759277, \"\\u2581once\": -12.063010215759277, \"\\u2026\": -12.188010215759277, \"\\u2581as\": -12.688010215759277}, {\"\\u2581scrutiny\": -0.010181513614952564, \"\\u2581a\": -4.760181427001953, \"\\u2581closer\": -6.885181427001953, \"\\u2581the\": -8.760181427001953, \"\\u2026\": -8.885181427001953, \"\\u2581examina\n",
      "2025-05-13 11:00:02,558 [INFO ] [api_client.api_clien]: Received 20 token strings (finish_reason=length).\n",
      "2025-05-13 11:00:02,559 [WARNI] [validators.slop_phra]: Slop violation: 'shifted' @tok=846 (char_pos=3604) …under scrutiny.” He shifted the fiddle slightly…\n",
      "2025-05-13 11:00:02,560 [WARNI] [core.sampler        ]: Back-tracking @tok=846 orig='▁shifted' ban='{'phrase': 'shifted', 'context': 'under scrutiny.” He shifted the fiddle slightly', 'suppression_detail_key': 'shifted'}'.\n",
      "2025-05-13 11:00:02,560 [INFO ] [state.generation_sta]: GenerationState initialised. Prompt length (chars) = 266\n",
      "2025-05-13 11:00:02,560 [INFO ] [state.generation_sta]: GenerationState initialised. Prompt length (chars) = 266\n",
      "2025-05-13 11:00:02,560 [INFO ] [state.generation_sta]: GenerationState initialised. Prompt length (chars) = 266\n",
      "2025-05-13 11:00:02,561 [INFO ] [state.generation_sta]: GenerationState initialised. Prompt length (chars) = 266\n",
      "2025-05-13 11:00:02,561 [INFO ] [state.generation_sta]: GenerationState initialised. Prompt length (chars) = 266\n",
      "2025-05-13 11:00:02,561 [INFO ] [state.generation_sta]: GenerationState initialised. Prompt length (chars) = 266\n",
      "2025-05-13 11:00:02,561 [INFO ] [state.generation_sta]: GenerationState initialised. Prompt length (chars) = 266\n",
      "2025-05-13 11:00:02,561 [INFO ] [state.generation_sta]: GenerationState initialised. Prompt length (chars) = 266\n",
      "2025-05-13 11:00:02,561 [INFO ] [state.generation_sta]: GenerationState initialised. Prompt length (chars) = 266\n",
      "2025-05-13 11:00:02,561 [INFO ] [state.generation_sta]: GenerationState initialised. Prompt length (chars) = 266\n",
      "2025-05-13 11:00:02,561 [INFO ] [state.generation_sta]: GenerationState initialised. Prompt length (chars) = 266\n",
      "2025-05-13 11:00:02,561 [INFO ] [state.generation_sta]: GenerationState initialised. Prompt length (chars) = 266\n",
      "2025-05-13 11:00:02,561 [INFO ] [state.generation_sta]: GenerationState initialised. Prompt length (chars) = 266\n",
      "2025-05-13 11:00:02,561 [INFO ] [state.generation_sta]: GenerationState initialised. Prompt length (chars) = 266\n",
      "2025-05-13 11:00:02,561 [INFO ] [state.generation_sta]: GenerationState initialised. Prompt length (chars) = 266\n",
      "2025-05-13 11:00:02,561 [INFO ] [state.generation_sta]: GenerationState initialised. Prompt length (chars) = 266\n",
      "2025-05-13 11:00:02,561 [INFO ] [state.generation_sta]: GenerationState initialised. Prompt length (chars) = 266\n",
      "2025-05-13 11:00:02,561 [INFO ] [state.generation_sta]: GenerationState initialised. Prompt length (chars) = 266\n",
      "2025-05-13 11:00:02,561 [INFO ] [state.generation_sta]: GenerationState initialised. Prompt length (chars) = 266\n",
      "2025-05-13 11:00:02,562 [WARNI] [core.sampler        ]:     ✓ replacement='▁paused' (pool=2, T=0.7, min_p=0.05, top_p=1.0, top_k=50)\n",
      "2025-05-13 11:00:02,562 [DEBUG] [root                ]: BANNED (prompt_idx=0, type=slop_phrase, phrase='shifted' @ orig_token='▁shifted' ...'under scrutiny.” He shifted the fiddle slightly'...)\n",
      "2025-05-13 11:00:02,562 [DEBUG] [api_client.api_clien]: POST https://ncfi2yswjottwq-8888.proxy.runpod.net/v1/completions\n",
      "2025-05-13 11:00:02,562 [DEBUG] [api_client.api_clien]: Payload: {\"model\": \"unsloth/gemma-3-4b-it\", \"prompt\": \"<bos><start_of_turn>user\\nWriting prompt: After defeating the Devil down in Georgia, Johnny proudly proclaims he's the best that's ever been. A flash of lightning crashes down and God appears, fiddle in hand. The Devil gets his popcorn ready.\\n\\nWrite 1000 words to this prompt. Your response:\\n<end_of_turn>\\n<start_of_turn>model\\nThe rain in Georgia was a greasy, insistent thing, clinging to everything with the stubbornness of regret. It mirrored the\n"
     ]
    },
    {
     "name": "stdout",
     "output_type": "stream",
     "text": [
      "Batch Generating:   0%|          | 0/1 [00:42<?, ?prompt/s, 20.8 tok/s]"
     ]
    },
    {
     "name": "stderr",
     "output_type": "stream",
     "text": [
      "2025-05-13 11:00:03,125 [DEBUG] [urllib3.connectionpo]: https://ncfi2yswjottwq-8888.proxy.runpod.net:443 \"POST /v1/completions HTTP/1.1\" 200 None\n",
      "2025-05-13 11:00:03,185 [DEBUG] [api_client.api_clien]: Raw response: {\"id\": \"cmpl-58e9b8bf2eec4845b82929a601c25f24\", \"object\": \"text_completion\", \"created\": 1747098008, \"model\": \"unsloth/gemma-3-4b-it\", \"choices\": [{\"index\": 0, \"text\": \", his fingers dancing across the strings, adding a layer of complex harmony to the lament. \\u201cLuc\", \"logprobs\": {\"text_offset\": [0, 1, 5, 13, 21, 28, 32, 40, 41, 48, 50, 56, 59, 67, 75, 78, 82, 89, 90, 92], \"token_logprobs\": [-0.0032974891364574432, -2.3882298469543457, -0.5225215554237366, -0.06937306374311447, -0.1378696858882904, -9.536738616588991e-07, -0.3189217150211334, -0.1717413365840912, -0.7236847281455994, -0.08721856772899628, -0.25444525480270386, -4.053033626405522e-05, -2.078099012374878, -1.3519139289855957, -0.01686704158782959, -0.0013272295473143458, -1.3664401769638062, -0.014204819686710835, -0.17007063329219818, -0.8108831644058228], \"tokens\": [\",\", \"\\u2581his\", \"\\u2581fingers\", \"\\u2581dancing\", \"\\u2581across\", \"\\u2581the\", \"\\u2581strings\", \",\", \"\\u2581adding\", \"\\u2581a\", \"\\u2581layer\", \"\\u2581of\", \"\\u2581complex\", \"\\u2581harmony\", \"\\u2581to\", \"\\u2581the\", \"\\u2581lament\", \".\", \"\\u2581\\u201c\", \"Luc\"], \"top_logprobs\": [{\",\": -0.0032974891364574432, \"\\u2581and\": -5.878297328948975, \"\\u2581his\": -8.128297805786133, \"\\u2581again\": -9.503297805786133, \"\\u2581to\": -10.003297805786133, \"\\u2581for\": -10.628297805786133, \"\\u2581the\": -11.003297805786133, \"\\u2581mid\": -11.753297805786133, \"\\u2581as\": -11.878297805786133, \"\\u2581on\": -11.878297805786133, \"\\u2581in\": -12.378297805786133, \"\\u2581then\": -12.378297805786133, \"\\u2581briefly\": -12.878297805786133, \"\\u2581a\": -13.753297805786133, \".\": -13.878297805786133, \"\\u2581playing\": -14.378297805786133, \"\\u2581before\": -15.003297805786133, \"\\u2581momentarily\": -15.128297805786133, \"\\u2581between\": -16.003297805786133, \"\\u2581with\": -16.253297805786133}, {\"\\u2581his\": -2.3882298469543457, \"\\u2581letting\": -1.6382297277450562, \"\\u2581and\": -1.8882297277450562, \"\\u2581lifting\": -2.2632298469543457, \"\\u2581drawing\": -2.2632298469543457, \"\\u25\n",
      "2025-05-13 11:00:03,186 [INFO ] [api_client.api_clien]: Received 20 token strings (finish_reason=length).\n",
      "2025-05-13 11:00:03,187 [WARNI] [validators.slop_phra]: Slop violation: 'paused' @tok=846 (char_pos=3604) …under scrutiny.” He paused, his fingers dancin…\n",
      "2025-05-13 11:00:03,190 [WARNI] [core.sampler        ]: Back-tracking @tok=846 orig='▁paused' ban='{'phrase': 'paused', 'context': 'under scrutiny.” He paused, his fingers dancin', 'suppression_detail_key': 'paused'}'.\n",
      "2025-05-13 11:00:03,190 [INFO ] [state.generation_sta]: GenerationState initialised. Prompt length (chars) = 266\n",
      "2025-05-13 11:00:03,190 [INFO ] [state.generation_sta]: GenerationState initialised. Prompt length (chars) = 266\n",
      "2025-05-13 11:00:03,190 [INFO ] [state.generation_sta]: GenerationState initialised. Prompt length (chars) = 266\n",
      "2025-05-13 11:00:03,190 [INFO ] [state.generation_sta]: GenerationState initialised. Prompt length (chars) = 266\n",
      "2025-05-13 11:00:03,190 [INFO ] [state.generation_sta]: GenerationState initialised. Prompt length (chars) = 266\n",
      "2025-05-13 11:00:03,190 [INFO ] [state.generation_sta]: GenerationState initialised. Prompt length (chars) = 266\n",
      "2025-05-13 11:00:03,190 [INFO ] [state.generation_sta]: GenerationState initialised. Prompt length (chars) = 266\n",
      "2025-05-13 11:00:03,190 [INFO ] [state.generation_sta]: GenerationState initialised. Prompt length (chars) = 266\n",
      "2025-05-13 11:00:03,190 [INFO ] [state.generation_sta]: GenerationState initialised. Prompt length (chars) = 266\n",
      "2025-05-13 11:00:03,190 [INFO ] [state.generation_sta]: GenerationState initialised. Prompt length (chars) = 266\n",
      "2025-05-13 11:00:03,190 [INFO ] [state.generation_sta]: GenerationState initialised. Prompt length (chars) = 266\n",
      "2025-05-13 11:00:03,190 [INFO ] [state.generation_sta]: GenerationState initialised. Prompt length (chars) = 266\n",
      "2025-05-13 11:00:03,190 [INFO ] [state.generation_sta]: GenerationState initialised. Prompt length (chars) = 266\n",
      "2025-05-13 11:00:03,191 [INFO ] [state.generation_sta]: GenerationState initialised. Prompt length (chars) = 266\n",
      "2025-05-13 11:00:03,191 [INFO ] [state.generation_sta]: GenerationState initialised. Prompt length (chars) = 266\n",
      "2025-05-13 11:00:03,191 [INFO ] [state.generation_sta]: GenerationState initialised. Prompt length (chars) = 266\n",
      "2025-05-13 11:00:03,191 [INFO ] [state.generation_sta]: GenerationState initialised. Prompt length (chars) = 266\n",
      "2025-05-13 11:00:03,191 [INFO ] [state.generation_sta]: GenerationState initialised. Prompt length (chars) = 266\n",
      "2025-05-13 11:00:03,191 [INFO ] [state.generation_sta]: GenerationState initialised. Prompt length (chars) = 266\n",
      "2025-05-13 11:00:03,192 [WARNI] [core.sampler        ]:     ✓ replacement='▁shifted' (pool=8, T=0.7, min_p=0.05, top_p=1.0, top_k=50)\n",
      "2025-05-13 11:00:03,192 [DEBUG] [root                ]: BANNED (prompt_idx=0, type=slop_phrase, phrase='paused' @ orig_token='▁paused' ...'under scrutiny.” He paused, his fingers dancin'...)\n",
      "2025-05-13 11:00:03,192 [DEBUG] [api_client.api_clien]: POST https://ncfi2yswjottwq-8888.proxy.runpod.net/v1/completions\n",
      "2025-05-13 11:00:03,193 [DEBUG] [api_client.api_clien]: Payload: {\"model\": \"unsloth/gemma-3-4b-it\", \"prompt\": \"<bos><start_of_turn>user\\nWriting prompt: After defeating the Devil down in Georgia, Johnny proudly proclaims he's the best that's ever been. A flash of lightning crashes down and God appears, fiddle in hand. The Devil gets his popcorn ready.\\n\\nWrite 1000 words to this prompt. Your response:\\n<end_of_turn>\\n<start_of_turn>model\\nThe rain in Georgia was a greasy, insistent thing, clinging to everything with the stubbornness of regret. It mirrored the\n",
      "2025-05-13 11:00:03,936 [DEBUG] [urllib3.connectionpo]: https://ncfi2yswjottwq-8888.proxy.runpod.net:443 \"POST /v1/completions HTTP/1.1\" 200 None\n",
      "2025-05-13 11:00:03,997 [DEBUG] [api_client.api_clien]: Raw response: {\"id\": \"cmpl-d8052dc3f4e24b5db3c7fb4b59fc3b96\", \"object\": \"text_completion\", \"created\": 1747098008, \"model\": \"unsloth/gemma-3-4b-it\", \"choices\": [{\"index\": 0, \"text\": \" the fiddle slightly, and the music intensified, layering in a subtle, unsettling rhythm. \\n\\nThe\", \"logprobs\": {\"text_offset\": [0, 4, 11, 20, 21, 25, 29, 35, 47, 48, 57, 60, 62, 69, 70, 81, 88, 89, 90, 92], \"token_logprobs\": [-0.1022997722029686, -0.012998961843550205, -0.3355342745780945, -0.007057026028633118, -0.12419801950454712, -0.09792115539312363, -0.4865672290325165, -0.7360633611679077, -0.002552348654717207, -1.981333613395691, -0.43085119128227234, -0.3370276689529419, -0.677394449710846, -0.27757441997528076, -0.39970487356185913, -0.6315398216247559, -0.019940508529543877, -0.24931034445762634, -9.893881360767409e-05, -0.0853930413722992], \"tokens\": [\"\\u2581the\", \"\\u2581fiddle\", \"\\u2581slightly\", \",\", \"\\u2581and\", \"\\u2581the\", \"\\u2581music\", \"\\u2581intensified\", \",\", \"\\u2581layering\", \"\\u2581in\", \"\\u2581a\", \"\\u2581subtle\", \",\", \"\\u2581unsettling\", \"\\u2581rhythm\", \".\", \"\\u2581\", \"\\n\\n\", \"The\"], \"top_logprobs\": [{\"\\u2581the\": -0.1022997722029686, \"\\u2581his\": -2.352299690246582, \"\\u2581slightly\": -6.352299690246582, \",\": -8.102299690246582, \"\\u2581a\": -11.352299690246582, \"\\u2581subtly\": -11.352299690246582, \"\\u2581position\": -11.602299690246582, \"\\u2581again\": -13.227299690246582, \"\\u2581on\": -13.352299690246582, \"\\u2581effortlessly\": -13.477299690246582, \"\\u2581to\": -13.977299690246582, \"\\u2581one\": -13.977299690246582, \"\\u2581an\": -14.477299690246582, \"\\u2581in\": -14.602299690246582, \"\\u2581gracefully\": -14.602299690246582, \"\\u2581from\": -14.727299690246582, \"\\u2581positions\": -14.852299690246582, \"\\u2581seamlessly\": -15.102299690246582, \"\\u2581rhythm\": -15.227299690246582, \"\\u2581and\": -15.227299690246582}, {\"\\u2581fiddle\": -0.012998961843550205, \"\\u2581tune\": -5.512999057769775, \"\\u2581melody\": -5.637999057769775, \"\\u2581bow\": -6.762999057769775, \"\\u2581position\": -6.762999057769775,\n",
      "2025-05-13 11:00:03,998 [INFO ] [api_client.api_clien]: Received 20 token strings (finish_reason=length).\n",
      "2025-05-13 11:00:03,999 [WARNI] [validators.slop_phra]: Slop violation: 'shifted' @tok=846 (char_pos=3604) …under scrutiny.” He shifted the fiddle slightly…\n",
      "2025-05-13 11:00:04,000 [WARNI] [core.sampler        ]: Back-tracking @tok=846 orig='▁shifted' ban='{'phrase': 'shifted', 'context': 'under scrutiny.” He shifted the fiddle slightly', 'suppression_detail_key': 'shifted'}'.\n",
      "2025-05-13 11:00:04,000 [INFO ] [state.generation_sta]: GenerationState initialised. Prompt length (chars) = 266\n",
      "2025-05-13 11:00:04,000 [INFO ] [state.generation_sta]: GenerationState initialised. Prompt length (chars) = 266\n",
      "2025-05-13 11:00:04,000 [INFO ] [state.generation_sta]: GenerationState initialised. Prompt length (chars) = 266\n",
      "2025-05-13 11:00:04,001 [INFO ] [state.generation_sta]: GenerationState initialised. Prompt length (chars) = 266\n",
      "2025-05-13 11:00:04,001 [INFO ] [state.generation_sta]: GenerationState initialised. Prompt length (chars) = 266\n",
      "2025-05-13 11:00:04,001 [INFO ] [state.generation_sta]: GenerationState initialised. Prompt length (chars) = 266\n",
      "2025-05-13 11:00:04,001 [INFO ] [state.generation_sta]: GenerationState initialised. Prompt length (chars) = 266\n",
      "2025-05-13 11:00:04,001 [INFO ] [state.generation_sta]: GenerationState initialised. Prompt length (chars) = 266\n",
      "2025-05-13 11:00:04,001 [INFO ] [state.generation_sta]: GenerationState initialised. Prompt length (chars) = 266\n",
      "2025-05-13 11:00:04,001 [INFO ] [state.generation_sta]: GenerationState initialised. Prompt length (chars) = 266\n",
      "2025-05-13 11:00:04,001 [INFO ] [state.generation_sta]: GenerationState initialised. Prompt length (chars) = 266\n",
      "2025-05-13 11:00:04,001 [INFO ] [state.generation_sta]: GenerationState initialised. Prompt length (chars) = 266\n",
      "2025-05-13 11:00:04,001 [INFO ] [state.generation_sta]: GenerationState initialised. Prompt length (chars) = 266\n",
      "2025-05-13 11:00:04,001 [INFO ] [state.generation_sta]: GenerationState initialised. Prompt length (chars) = 266\n",
      "2025-05-13 11:00:04,001 [INFO ] [state.generation_sta]: GenerationState initialised. Prompt length (chars) = 266\n",
      "2025-05-13 11:00:04,001 [INFO ] [state.generation_sta]: GenerationState initialised. Prompt length (chars) = 266\n",
      "2025-05-13 11:00:04,001 [INFO ] [state.generation_sta]: GenerationState initialised. Prompt length (chars) = 266\n",
      "2025-05-13 11:00:04,001 [INFO ] [state.generation_sta]: GenerationState initialised. Prompt length (chars) = 266\n",
      "2025-05-13 11:00:04,002 [WARNI] [core.sampler        ]:     ✓ replacement='▁began' (pool=9, T=0.7, min_p=0.05, top_p=1.0, top_k=50)\n",
      "2025-05-13 11:00:04,002 [DEBUG] [root                ]: BANNED (prompt_idx=0, type=slop_phrase, phrase='shifted' @ orig_token='▁shifted' ...'under scrutiny.” He shifted the fiddle slightly'...)\n",
      "2025-05-13 11:00:04,002 [DEBUG] [api_client.api_clien]: POST https://ncfi2yswjottwq-8888.proxy.runpod.net/v1/completions\n",
      "2025-05-13 11:00:04,002 [DEBUG] [api_client.api_clien]: Payload: {\"model\": \"unsloth/gemma-3-4b-it\", \"prompt\": \"<bos><start_of_turn>user\\nWriting prompt: After defeating the Devil down in Georgia, Johnny proudly proclaims he's the best that's ever been. A flash of lightning crashes down and God appears, fiddle in hand. The Devil gets his popcorn ready.\\n\\nWrite 1000 words to this prompt. Your response:\\n<end_of_turn>\\n<start_of_turn>model\\nThe rain in Georgia was a greasy, insistent thing, clinging to everything with the stubbornness of regret. It mirrored the\n",
      "2025-05-13 11:00:04,563 [DEBUG] [urllib3.connectionpo]: https://ncfi2yswjottwq-8888.proxy.runpod.net:443 \"POST /v1/completions HTTP/1.1\" 200 None\n",
      "2025-05-13 11:00:04,729 [DEBUG] [api_client.api_clien]: Raw response: {\"id\": \"cmpl-cc0759aa6d2242cea75b0ca78b9aa5ee\", \"object\": \"text_completion\", \"created\": 1747098009, \"model\": \"unsloth/gemma-3-4b-it\", \"choices\": [{\"index\": 0, \"text\": \" to play faster, the music building in intensity, a swirling vortex of sound that seemed to encompass the\", \"logprobs\": {\"text_offset\": [0, 3, 8, 15, 16, 20, 26, 35, 38, 48, 49, 51, 60, 67, 70, 76, 81, 88, 91, 101], \"token_logprobs\": [-0.00017486473370809108, -0.005628807470202446, -0.9493464231491089, -0.008617476560175419, -0.007354093249887228, -0.809166431427002, -0.4162978231906891, -0.02474411018192768, -0.0022500455379486084, -0.0030581632163375616, -1.736636757850647, -0.65029376745224, -0.009574446827173233, -1.7881377516459906e-06, -0.15596452355384827, -0.26593101024627686, -0.6119254231452942, -6.794698856538162e-05, -1.8991308212280273, -0.2711726725101471], \"tokens\": [\"\\u2581to\", \"\\u2581play\", \"\\u2581faster\", \",\", \"\\u2581the\", \"\\u2581music\", \"\\u2581building\", \"\\u2581in\", \"\\u2581intensity\", \",\", \"\\u2581a\", \"\\u2581swirling\", \"\\u2581vortex\", \"\\u2581of\", \"\\u2581sound\", \"\\u2581that\", \"\\u2581seemed\", \"\\u2581to\", \"\\u2581encompass\", \"\\u2581the\"], \"top_logprobs\": [{\"\\u2581to\": -0.00017486473370809108, \"\\u2581playing\": -9.375174522399902, \"\\u2581a\": -9.375174522399902, \"\\u2581another\": -12.625174522399902, \"\\u2581again\": -14.625174522399902, \"\\u2581sawing\": -14.875174522399902, \"\\u2581the\": -15.250174522399902, \"\\u2581an\": -15.500174522399902, \"\\u2581adding\": -15.875174522399902, \"\\u2581strum\": -16.12517547607422, \"\\u2581fidd\": -16.25017547607422, \"\\u2581picking\": -16.37517547607422, \"\\u2581bowing\": -16.75017547607422, \"\\u2581pl\": -16.75017547607422, \",\": -17.37517547607422, \"\\u2581tuning\": -17.37517547607422, \"\\u2581improvis\": -18.25017547607422, \"\\u2581on\": -18.37517547607422, \"\\u2581his\": -18.37517547607422, \"\\u2581tapping\": -18.37517547607422}, {\"\\u2581play\": -0.005628807470202446, \"\\u2581fiddle\": -5.75562858581543, \"\\u2581impro\": -7.00562858581543, \"\\u2581add\": -7.63062858581543, \"\\u2581incre\n",
      "2025-05-13 11:00:04,729 [INFO ] [api_client.api_clien]: Received 20 token strings (finish_reason=length).\n",
      "2025-05-13 11:00:04,730 [WARNI] [validators.slop_phra]: Slop violation: 'swirling' @tok=858 (char_pos=3661) …ing in intensity, a swirling vortex of sound tha…\n",
      "2025-05-13 11:00:04,731 [WARNI] [core.sampler        ]: Back-tracking @tok=858 orig='▁swirling' ban='{'phrase': 'swirling', 'context': 'ing in intensity, a swirling vortex of sound tha', 'suppression_detail_key': 'swirling'}'.\n",
      "2025-05-13 11:00:04,731 [INFO ] [state.generation_sta]: GenerationState initialised. Prompt length (chars) = 266\n",
      "2025-05-13 11:00:04,731 [INFO ] [state.generation_sta]: GenerationState initialised. Prompt length (chars) = 266\n",
      "2025-05-13 11:00:04,731 [INFO ] [state.generation_sta]: GenerationState initialised. Prompt length (chars) = 266\n",
      "2025-05-13 11:00:04,731 [INFO ] [state.generation_sta]: GenerationState initialised. Prompt length (chars) = 266\n",
      "2025-05-13 11:00:04,732 [INFO ] [state.generation_sta]: GenerationState initialised. Prompt length (chars) = 266\n",
      "2025-05-13 11:00:04,732 [INFO ] [state.generation_sta]: GenerationState initialised. Prompt length (chars) = 266\n",
      "2025-05-13 11:00:04,732 [INFO ] [state.generation_sta]: GenerationState initialised. Prompt length (chars) = 266\n",
      "2025-05-13 11:00:04,732 [INFO ] [state.generation_sta]: GenerationState initialised. Prompt length (chars) = 266\n",
      "2025-05-13 11:00:04,732 [INFO ] [state.generation_sta]: GenerationState initialised. Prompt length (chars) = 266\n",
      "2025-05-13 11:00:04,732 [INFO ] [state.generation_sta]: GenerationState initialised. Prompt length (chars) = 266\n",
      "2025-05-13 11:00:04,732 [INFO ] [state.generation_sta]: GenerationState initialised. Prompt length (chars) = 266\n",
      "2025-05-13 11:00:04,732 [INFO ] [state.generation_sta]: GenerationState initialised. Prompt length (chars) = 266\n",
      "2025-05-13 11:00:04,732 [INFO ] [state.generation_sta]: GenerationState initialised. Prompt length (chars) = 266\n",
      "2025-05-13 11:00:04,732 [INFO ] [state.generation_sta]: GenerationState initialised. Prompt length (chars) = 266\n",
      "2025-05-13 11:00:04,732 [INFO ] [state.generation_sta]: GenerationState initialised. Prompt length (chars) = 266\n",
      "2025-05-13 11:00:04,732 [INFO ] [state.generation_sta]: GenerationState initialised. Prompt length (chars) = 266\n",
      "2025-05-13 11:00:04,732 [INFO ] [state.generation_sta]: GenerationState initialised. Prompt length (chars) = 266\n",
      "2025-05-13 11:00:04,732 [INFO ] [state.generation_sta]: GenerationState initialised. Prompt length (chars) = 266\n",
      "2025-05-13 11:00:04,733 [WARNI] [core.sampler        ]:     ✓ replacement='▁frantic' (pool=6, T=0.7, min_p=0.05, top_p=1.0, top_k=50)\n",
      "2025-05-13 11:00:04,733 [DEBUG] [root                ]: BANNED (prompt_idx=0, type=slop_phrase, phrase='swirling' @ orig_token='▁swirling' ...'ing in intensity, a swirling vortex of sound tha'...)\n",
      "2025-05-13 11:00:04,733 [DEBUG] [api_client.api_clien]: POST https://ncfi2yswjottwq-8888.proxy.runpod.net/v1/completions\n",
      "2025-05-13 11:00:04,733 [DEBUG] [api_client.api_clien]: Payload: {\"model\": \"unsloth/gemma-3-4b-it\", \"prompt\": \"<bos><start_of_turn>user\\nWriting prompt: After defeating the Devil down in Georgia, Johnny proudly proclaims he's the best that's ever been. A flash of lightning crashes down and God appears, fiddle in hand. The Devil gets his popcorn ready.\\n\\nWrite 1000 words to this prompt. Your response:\\n<end_of_turn>\\n<start_of_turn>model\\nThe rain in Georgia was a greasy, insistent thing, clinging to everything with the stubbornness of regret. It mirrored the\n"
     ]
    },
    {
     "name": "stdout",
     "output_type": "stream",
     "text": [
      "Batch Generating:   0%|          | 0/1 [00:44<?, ?prompt/s, 20.0 tok/s]"
     ]
    },
    {
     "name": "stderr",
     "output_type": "stream",
     "text": [
      "2025-05-13 11:00:05,295 [DEBUG] [urllib3.connectionpo]: https://ncfi2yswjottwq-8888.proxy.runpod.net:443 \"POST /v1/completions HTTP/1.1\" 200 None\n",
      "2025-05-13 11:00:05,355 [DEBUG] [api_client.api_clien]: Raw response: {\"id\": \"cmpl-829e57a7a4bc40d1982928877019b7aa\", \"object\": \"text_completion\", \"created\": 1747098010, \"model\": \"unsloth/gemma-3-4b-it\", \"choices\": [{\"index\": 0, \"text\": \", almost desperate dance of notes. \\n\\nThe Devil, momentarily forgotten, whimpered and clut\", \"logprobs\": {\"text_offset\": [0, 1, 8, 18, 24, 27, 33, 34, 35, 37, 40, 46, 47, 59, 69, 70, 75, 80, 84, 87], \"token_logprobs\": [-0.39180848002433777, -2.202960729598999, -0.019434044137597084, -1.0744259357452393, -0.10076386481523514, -0.06357396394014359, -0.0023843212984502316, -0.2691097557544708, -6.151010165922344e-05, -0.1944396048784256, -0.00032860602368600667, -0.02075524441897869, -1.9952903985977173, -0.4841783046722412, -0.0207785964012146, -2.264552593231201, -5.960462772236497e-07, -1.739912509918213, -0.9444368481636047, -1.7165990357170813e-05], \"tokens\": [\",\", \"\\u2581almost\", \"\\u2581desperate\", \"\\u2581dance\", \"\\u2581of\", \"\\u2581notes\", \".\", \"\\u2581\", \"\\n\\n\", \"The\", \"\\u2581Devil\", \",\", \"\\u2581momentarily\", \"\\u2581forgotten\", \",\", \"\\u2581whim\", \"pered\", \"\\u2581and\", \"\\u2581cl\", \"ut\"], \"top_logprobs\": [{\",\": -0.39180848002433777, \"\\u2581dance\": -1.3918085098266602, \"\\u2581cascade\": -3.01680850982666, \"\\u2581flurry\": -5.01680850982666, \"\\u2581counter\": -5.01680850982666, \"\\u2581whirlwind\": -6.14180850982666, \"\\u2581crescendo\": -6.14180850982666, \"\\u2581rush\": -6.51680850982666, \"\\u2581jig\": -6.76680850982666, \"\\u2581swirl\": -6.76680850982666, \"\\u2581rhythm\": -7.14180850982666, \"\\u2581torrent\": -7.39180850982666, \"\\u2581scramble\": -7.51680850982666, \"\\u2581tapestry\": -7.64180850982666, \"\\u2581w\": -7.89180850982666, \"\\u2581whirl\": -8.64180850982666, \"\\u2581weaving\": -8.76680850982666, \"\\u2581plea\": -9.01680850982666, \"\\u2581chase\": -9.01680850982666, \"\\u2581swirling\": -9.01680850982666}, {\"\\u2581almost\": -2.202960729598999, \"\\u2581desperate\": -0.952960729598999, \"\\u2581swirling\": -1.202960729598999, \"\\u2581spir\": -2.577960729598999, \"\\u2581whirling\": -3.202960729598999, \"\\u2581chaotic\": -3.577960729\n",
      "2025-05-13 11:00:05,355 [INFO ] [api_client.api_clien]: Received 20 token strings (finish_reason=length).\n",
      "2025-05-13 11:00:05,356 [WARNI] [validators.slop_phra]: Slop violation: 'frantic' @tok=858 (char_pos=3661) …ing in intensity, a frantic, almost desperate d…\n",
      "2025-05-13 11:00:05,358 [WARNI] [core.sampler        ]: Back-tracking @tok=858 orig='▁frantic' ban='{'phrase': 'frantic', 'context': 'ing in intensity, a frantic, almost desperate d', 'suppression_detail_key': 'frantic'}'.\n",
      "2025-05-13 11:00:05,358 [INFO ] [state.generation_sta]: GenerationState initialised. Prompt length (chars) = 266\n",
      "2025-05-13 11:00:05,358 [INFO ] [state.generation_sta]: GenerationState initialised. Prompt length (chars) = 266\n",
      "2025-05-13 11:00:05,358 [INFO ] [state.generation_sta]: GenerationState initialised. Prompt length (chars) = 266\n",
      "2025-05-13 11:00:05,358 [INFO ] [state.generation_sta]: GenerationState initialised. Prompt length (chars) = 266\n",
      "2025-05-13 11:00:05,358 [INFO ] [state.generation_sta]: GenerationState initialised. Prompt length (chars) = 266\n",
      "2025-05-13 11:00:05,358 [INFO ] [state.generation_sta]: GenerationState initialised. Prompt length (chars) = 266\n",
      "2025-05-13 11:00:05,358 [INFO ] [state.generation_sta]: GenerationState initialised. Prompt length (chars) = 266\n",
      "2025-05-13 11:00:05,358 [INFO ] [state.generation_sta]: GenerationState initialised. Prompt length (chars) = 266\n",
      "2025-05-13 11:00:05,358 [INFO ] [state.generation_sta]: GenerationState initialised. Prompt length (chars) = 266\n",
      "2025-05-13 11:00:05,358 [INFO ] [state.generation_sta]: GenerationState initialised. Prompt length (chars) = 266\n",
      "2025-05-13 11:00:05,358 [INFO ] [state.generation_sta]: GenerationState initialised. Prompt length (chars) = 266\n",
      "2025-05-13 11:00:05,358 [INFO ] [state.generation_sta]: GenerationState initialised. Prompt length (chars) = 266\n",
      "2025-05-13 11:00:05,358 [INFO ] [state.generation_sta]: GenerationState initialised. Prompt length (chars) = 266\n",
      "2025-05-13 11:00:05,358 [INFO ] [state.generation_sta]: GenerationState initialised. Prompt length (chars) = 266\n",
      "2025-05-13 11:00:05,358 [INFO ] [state.generation_sta]: GenerationState initialised. Prompt length (chars) = 266\n",
      "2025-05-13 11:00:05,358 [INFO ] [state.generation_sta]: GenerationState initialised. Prompt length (chars) = 266\n",
      "2025-05-13 11:00:05,358 [INFO ] [state.generation_sta]: GenerationState initialised. Prompt length (chars) = 266\n",
      "2025-05-13 11:00:05,358 [INFO ] [state.generation_sta]: GenerationState initialised. Prompt length (chars) = 266\n",
      "2025-05-13 11:00:05,358 [INFO ] [state.generation_sta]: GenerationState initialised. Prompt length (chars) = 266\n",
      "2025-05-13 11:00:05,359 [WARNI] [core.sampler        ]:     ✓ replacement='▁swirling' (pool=2, T=0.7, min_p=0.05, top_p=1.0, top_k=50)\n",
      "2025-05-13 11:00:05,359 [DEBUG] [root                ]: BANNED (prompt_idx=0, type=slop_phrase, phrase='frantic' @ orig_token='▁frantic' ...'ing in intensity, a frantic, almost desperate d'...)\n",
      "2025-05-13 11:00:05,359 [DEBUG] [api_client.api_clien]: POST https://ncfi2yswjottwq-8888.proxy.runpod.net/v1/completions\n",
      "2025-05-13 11:00:05,359 [DEBUG] [api_client.api_clien]: Payload: {\"model\": \"unsloth/gemma-3-4b-it\", \"prompt\": \"<bos><start_of_turn>user\\nWriting prompt: After defeating the Devil down in Georgia, Johnny proudly proclaims he's the best that's ever been. A flash of lightning crashes down and God appears, fiddle in hand. The Devil gets his popcorn ready.\\n\\nWrite 1000 words to this prompt. Your response:\\n<end_of_turn>\\n<start_of_turn>model\\nThe rain in Georgia was a greasy, insistent thing, clinging to everything with the stubbornness of regret. It mirrored the\n",
      "2025-05-13 11:00:05,922 [DEBUG] [urllib3.connectionpo]: https://ncfi2yswjottwq-8888.proxy.runpod.net:443 \"POST /v1/completions HTTP/1.1\" 200 None\n",
      "2025-05-13 11:00:06,086 [DEBUG] [api_client.api_clien]: Raw response: {\"id\": \"cmpl-3e3efdd87d1a46a795c5a0253ebc637d\", \"object\": \"text_completion\", \"created\": 1747098010, \"model\": \"unsloth/gemma-3-4b-it\", \"choices\": [{\"index\": 0, \"text\": \" vortex of sound that seemed to warp the very air around them. \\n\\nThe Devil, sensing a\", \"logprobs\": {\"text_offset\": [0, 7, 10, 16, 21, 28, 31, 36, 40, 45, 49, 56, 61, 62, 63, 65, 68, 74, 75, 83], \"token_logprobs\": [-0.009883278980851173, -1.6689286894688848e-06, -0.15618520975112915, -0.25653067231178284, -0.6049688458442688, -7.295342220459133e-05, -2.224238157272339, -0.008525168523192406, -0.3851702809333801, -0.016576305031776428, -0.0009166568052023649, -0.0029786527156829834, -5.960462772236497e-07, -0.17873871326446533, -0.00016819016309455037, -0.16539134085178375, -0.00013731967192143202, -0.019901826977729797, -2.0548410415649414, -0.05320258066058159], \"tokens\": [\"\\u2581vortex\", \"\\u2581of\", \"\\u2581sound\", \"\\u2581that\", \"\\u2581seemed\", \"\\u2581to\", \"\\u2581warp\", \"\\u2581the\", \"\\u2581very\", \"\\u2581air\", \"\\u2581around\", \"\\u2581them\", \".\", \"\\u2581\", \"\\n\\n\", \"The\", \"\\u2581Devil\", \",\", \"\\u2581sensing\", \"\\u2581a\"], \"top_logprobs\": [{\"\\u2581vortex\": -0.009883278980851173, \"\\u2581torrent\": -5.884883403778076, \"\\u2581tapestry\": -6.509883403778076, \",\": -6.634883403778076, \"\\u2581current\": -6.634883403778076, \"\\u2581cascade\": -7.384883403778076, \"\\u2581dance\": -7.759883403778076, \"\\u2581chaos\": -7.759883403778076, \"\\u2581tempest\": -7.884883403778076, \"\\u2581crescendo\": -8.259882926940918, \"\\u2581ma\": -8.509882926940918, \"\\u2581kaleidoscope\": -8.634882926940918, \"\\u2581storm\": -8.759882926940918, \"\\u2581tide\": -9.509882926940918, \"\\u2581blend\": -9.634882926940918, \"\\u2581whirlwind\": -10.384882926940918, \"\\u2581eddy\": -10.509882926940918, \"\\u2581cac\": -11.134882926940918, \"\\u2581symphony\": -11.259882926940918, \"\\u2581rush\": -11.384882926940918}, {\"\\u2581of\": -1.6689286894688848e-06, \"\\u2581that\": -13.875001907348633, \"\\u2581around\": -14.625001907348633, \"\\u2581pulling\": -17.250001907348633, \"\\u2581both\"\n",
      "2025-05-13 11:00:06,087 [INFO ] [api_client.api_clien]: Received 20 token strings (finish_reason=length).\n",
      "2025-05-13 11:00:06,087 [WARNI] [validators.slop_phra]: Slop violation: 'swirling' @tok=858 (char_pos=3661) …ing in intensity, a swirling vortex of sound tha…\n",
      "2025-05-13 11:00:06,089 [WARNI] [validators.ngram_val]: NGram violation: 'air around' (stopwords_removed=True) @tok=868 (char_pos=3715). Context: ... that seemed to warp the very air around them.   The Devil, sensing a...\n",
      "2025-05-13 11:00:06,089 [WARNI] [core.sampler        ]: Back-tracking @tok=858 orig='▁swirling' ban='{'phrase': 'swirling', 'context': 'ing in intensity, a swirling vortex of sound tha', 'suppression_detail_key': 'swirling'}'.\n",
      "2025-05-13 11:00:06,089 [INFO ] [state.generation_sta]: GenerationState initialised. Prompt length (chars) = 266\n",
      "2025-05-13 11:00:06,089 [INFO ] [state.generation_sta]: GenerationState initialised. Prompt length (chars) = 266\n",
      "2025-05-13 11:00:06,089 [INFO ] [state.generation_sta]: GenerationState initialised. Prompt length (chars) = 266\n",
      "2025-05-13 11:00:06,089 [INFO ] [state.generation_sta]: GenerationState initialised. Prompt length (chars) = 266\n",
      "2025-05-13 11:00:06,089 [INFO ] [state.generation_sta]: GenerationState initialised. Prompt length (chars) = 266\n",
      "2025-05-13 11:00:06,089 [INFO ] [state.generation_sta]: GenerationState initialised. Prompt length (chars) = 266\n",
      "2025-05-13 11:00:06,089 [INFO ] [state.generation_sta]: GenerationState initialised. Prompt length (chars) = 266\n",
      "2025-05-13 11:00:06,089 [INFO ] [state.generation_sta]: GenerationState initialised. Prompt length (chars) = 266\n",
      "2025-05-13 11:00:06,089 [INFO ] [state.generation_sta]: GenerationState initialised. Prompt length (chars) = 266\n",
      "2025-05-13 11:00:06,089 [INFO ] [state.generation_sta]: GenerationState initialised. Prompt length (chars) = 266\n",
      "2025-05-13 11:00:06,090 [INFO ] [state.generation_sta]: GenerationState initialised. Prompt length (chars) = 266\n",
      "2025-05-13 11:00:06,090 [INFO ] [state.generation_sta]: GenerationState initialised. Prompt length (chars) = 266\n",
      "2025-05-13 11:00:06,090 [INFO ] [state.generation_sta]: GenerationState initialised. Prompt length (chars) = 266\n",
      "2025-05-13 11:00:06,090 [INFO ] [state.generation_sta]: GenerationState initialised. Prompt length (chars) = 266\n",
      "2025-05-13 11:00:06,090 [INFO ] [state.generation_sta]: GenerationState initialised. Prompt length (chars) = 266\n",
      "2025-05-13 11:00:06,090 [INFO ] [state.generation_sta]: GenerationState initialised. Prompt length (chars) = 266\n",
      "2025-05-13 11:00:06,090 [INFO ] [state.generation_sta]: GenerationState initialised. Prompt length (chars) = 266\n",
      "2025-05-13 11:00:06,090 [WARNI] [core.sampler        ]:     ✓ replacement='▁torrent' (pool=5, T=0.7, min_p=0.05, top_p=1.0, top_k=50)\n",
      "2025-05-13 11:00:06,091 [DEBUG] [root                ]: BANNED (prompt_idx=0, type=slop_phrase, phrase='swirling' @ orig_token='▁swirling' ...'ing in intensity, a swirling vortex of sound tha'...)\n",
      "2025-05-13 11:00:06,091 [DEBUG] [api_client.api_clien]: POST https://ncfi2yswjottwq-8888.proxy.runpod.net/v1/completions\n",
      "2025-05-13 11:00:06,091 [DEBUG] [api_client.api_clien]: Payload: {\"model\": \"unsloth/gemma-3-4b-it\", \"prompt\": \"<bos><start_of_turn>user\\nWriting prompt: After defeating the Devil down in Georgia, Johnny proudly proclaims he's the best that's ever been. A flash of lightning crashes down and God appears, fiddle in hand. The Devil gets his popcorn ready.\\n\\nWrite 1000 words to this prompt. Your response:\\n<end_of_turn>\\n<start_of_turn>model\\nThe rain in Georgia was a greasy, insistent thing, clinging to everything with the stubbornness of regret. It mirrored the\n",
      "2025-05-13 11:00:06,650 [DEBUG] [urllib3.connectionpo]: https://ncfi2yswjottwq-8888.proxy.runpod.net:443 \"POST /v1/completions HTTP/1.1\" 200 None\n",
      "2025-05-13 11:00:06,712 [DEBUG] [api_client.api_clien]: Raw response: {\"id\": \"cmpl-1efd804c37504357ba1ee46b1bea448a\", \"object\": \"text_completion\", \"created\": 1747098011, \"model\": \"unsloth/gemma-3-4b-it\", \"choices\": [{\"index\": 0, \"text\": \" of notes that seemed to swirl around Johnny, pulling him into the heart of the storm. \\n\\n\", \"logprobs\": {\"text_offset\": [0, 3, 9, 14, 21, 24, 30, 37, 44, 45, 53, 57, 62, 66, 72, 75, 79, 85, 86, 87], \"token_logprobs\": [0.0, -0.6217881441116333, -0.05789923667907715, -0.19138354063034058, -0.00012432756193447858, -1.931994915008545, -0.011097141541540623, -0.3494700789451599, -0.05089280381798744, -0.6761425137519836, -0.20265384018421173, -0.17783473432064056, -0.32306405901908875, -0.4828673005104065, 0.0, -0.001347944256849587, -0.0836489349603653, -0.0018391376361250877, -0.32118046283721924, -0.0002113357331836596], \"tokens\": [\"\\u2581of\", \"\\u2581notes\", \"\\u2581that\", \"\\u2581seemed\", \"\\u2581to\", \"\\u2581swirl\", \"\\u2581around\", \"\\u2581Johnny\", \",\", \"\\u2581pulling\", \"\\u2581him\", \"\\u2581into\", \"\\u2581the\", \"\\u2581heart\", \"\\u2581of\", \"\\u2581the\", \"\\u2581storm\", \".\", \"\\u2581\", \"\\n\\n\"], \"top_logprobs\": [{\"\\u2581of\": 0.0, \"\\u2581that\": -17.5, \"\\u2581now\": -17.875, \"\\u2581pouring\": -19.0, \"\\u2581reflecting\": -19.25, \"s\": -19.625, \"\\u2581washing\": -19.75, \"\\u2581swirling\": -19.75, \"\\u2581unleashed\": -19.875, \"\\u2581cascading\": -20.0, \"\\u2581against\": -20.375, \"\\u2581mirroring\": -20.375, \"uous\": -21.0, \"\\u2581both\": -21.0, \"\\u2581crashing\": -21.125, \"\\u2581flowing\": -21.125, \"\\u2581\\u2581\": -21.25, \"\\u2581echoing\": -21.5, \"\\u2581not\": -21.625, \"\\u2581rising\": -21.75}, {\"\\u2581notes\": -0.6217881441116333, \"\\u2581sound\": -1.1217881441116333, \"\\u2581sorrow\": -2.7467880249023438, \"\\u2581emotion\": -3.1217880249023438, \"\\u2581interwoven\": -4.871788024902344, \"\\u2581mourn\": -5.496788024902344, \"\\u2581swirling\": -5.496788024902344, \"\\u2581bittersweet\": -6.121788024902344, \"\\u2581emotions\": -6.121788024902344, \"\\u2581grief\": -6.246788024902344, \"\\u2581sadness\": -6.996788024902344, \"\\u2581strings\": -6.996788024902344,\n",
      "2025-05-13 11:00:06,712 [INFO ] [api_client.api_clien]: Received 20 token strings (finish_reason=length).\n",
      "2025-05-13 11:00:06,715 [DEBUG] [api_client.api_clien]: POST https://ncfi2yswjottwq-8888.proxy.runpod.net/v1/completions\n",
      "2025-05-13 11:00:06,715 [DEBUG] [api_client.api_clien]: Payload: {\"model\": \"unsloth/gemma-3-4b-it\", \"prompt\": \"<bos><start_of_turn>user\\nWriting prompt: After defeating the Devil down in Georgia, Johnny proudly proclaims he's the best that's ever been. A flash of lightning crashes down and God appears, fiddle in hand. The Devil gets his popcorn ready.\\n\\nWrite 1000 words to this prompt. Your response:\\n<end_of_turn>\\n<start_of_turn>model\\nThe rain in Georgia was a greasy, insistent thing, clinging to everything with the stubbornness of regret. It mirrored the\n"
     ]
    },
    {
     "name": "stdout",
     "output_type": "stream",
     "text": [
      "Batch Generating:   0%|          | 0/1 [00:46<?, ?prompt/s, 19.6 tok/s]"
     ]
    },
    {
     "name": "stderr",
     "output_type": "stream",
     "text": [
      "2025-05-13 11:00:07,278 [DEBUG] [urllib3.connectionpo]: https://ncfi2yswjottwq-8888.proxy.runpod.net:443 \"POST /v1/completions HTTP/1.1\" 200 None\n",
      "2025-05-13 11:00:07,337 [DEBUG] [api_client.api_clien]: Raw response: {\"id\": \"cmpl-e6c6bcca87ca408084ec9ce0460edd7c\", \"object\": \"text_completion\", \"created\": 1747098012, \"model\": \"unsloth/gemma-3-4b-it\", \"choices\": [{\"index\": 0, \"text\": \"The Devil, utterly bewildered, continued to rant. \\u201cWhat\\u2019s the meaning of this? You\", \"logprobs\": {\"text_offset\": [0, 3, 9, 10, 18, 29, 30, 40, 43, 48, 49, 51, 55, 56, 57, 61, 69, 72, 77, 78], \"token_logprobs\": [-0.6767985820770264, -0.00017391123401466757, -0.009353624656796455, -2.8944835662841797, -0.35294052958488464, -0.03304944187402725, -1.3009852170944214, -0.026320766657590866, -1.2110047340393066, -1.1321982145309448, -0.35244831442832947, -0.03607054427266121, -0.17980679869651794, -1.9311717551317997e-05, -2.239912748336792, -0.07462206482887268, -5.435795901576057e-05, -0.0006532918778248131, -0.04988386109471321, -0.4939268231391907], \"tokens\": [\"The\", \"\\u2581Devil\", \",\", \"\\u2581utterly\", \"\\u2581bewildered\", \",\", \"\\u2581continued\", \"\\u2581to\", \"\\u2581rant\", \".\", \"\\u2581\\u201c\", \"What\", \"\\u2019\", \"s\", \"\\u2581the\", \"\\u2581meaning\", \"\\u2581of\", \"\\u2581this\", \"?\", \"\\u2581You\"], \"top_logprobs\": [{\"The\": -0.6767985820770264, \"\\u201c\": -1.3017985820770264, \"Suddenly\": -2.8017985820770264, \"He\": -2.8017985820770264, \"As\": -2.9267985820770264, \"\\\"\": -4.0517988204956055, \"Johnny\": -4.3017988204956055, \"Then\": -4.8017988204956055, \"Around\": -6.0517988204956055, \"A\": -7.5517988204956055, \"Luc\": -7.8017988204956055, \"And\": -7.9267988204956055, \"It\": -7.9267988204956055, \"Just\": -8.176798820495605, \"Devil\": -8.426798820495605, \"Behind\": -8.551798820495605, \"At\": -9.051798820495605, \"With\": -9.426798820495605, \"Across\": -9.676798820495605, \"Looking\": -9.801798820495605}, {\"\\u2581Devil\": -0.00017391123401466757, \"\\u2581devil\": -9.500173568725586, \"\\u2581rain\": -10.375173568725586, \"\\u2581air\": -10.875173568725586, \"\\u2581Devils\": -12.375173568725586, \"\\u2581scene\": -12.500173568725586, \"\\u2581lightning\": -12.500173568725586, \"\\u2581sight\": -12.750173568725586, \"\\u2581effect\": -12.87517356872558\n",
      "2025-05-13 11:00:07,337 [INFO ] [api_client.api_clien]: Received 20 token strings (finish_reason=length).\n",
      "2025-05-13 11:00:07,338 [WARNI] [validators.slop_phra]: Slop violation: 'utterly' @tok=882 (char_pos=3768) …storm.   The Devil, utterly bewildered, continu…\n",
      "2025-05-13 11:00:07,340 [WARNI] [core.sampler        ]: Back-tracking @tok=882 orig='▁utterly' ban='{'phrase': 'utterly', 'context': 'storm.   The Devil, utterly bewildered, continu', 'suppression_detail_key': 'utterly'}'.\n",
      "2025-05-13 11:00:07,340 [INFO ] [state.generation_sta]: GenerationState initialised. Prompt length (chars) = 266\n",
      "2025-05-13 11:00:07,340 [INFO ] [state.generation_sta]: GenerationState initialised. Prompt length (chars) = 266\n",
      "2025-05-13 11:00:07,340 [INFO ] [state.generation_sta]: GenerationState initialised. Prompt length (chars) = 266\n",
      "2025-05-13 11:00:07,340 [INFO ] [state.generation_sta]: GenerationState initialised. Prompt length (chars) = 266\n",
      "2025-05-13 11:00:07,340 [INFO ] [state.generation_sta]: GenerationState initialised. Prompt length (chars) = 266\n",
      "2025-05-13 11:00:07,340 [INFO ] [state.generation_sta]: GenerationState initialised. Prompt length (chars) = 266\n",
      "2025-05-13 11:00:07,340 [INFO ] [state.generation_sta]: GenerationState initialised. Prompt length (chars) = 266\n",
      "2025-05-13 11:00:07,340 [INFO ] [state.generation_sta]: GenerationState initialised. Prompt length (chars) = 266\n",
      "2025-05-13 11:00:07,340 [INFO ] [state.generation_sta]: GenerationState initialised. Prompt length (chars) = 266\n",
      "2025-05-13 11:00:07,340 [INFO ] [state.generation_sta]: GenerationState initialised. Prompt length (chars) = 266\n",
      "2025-05-13 11:00:07,340 [INFO ] [state.generation_sta]: GenerationState initialised. Prompt length (chars) = 266\n",
      "2025-05-13 11:00:07,340 [INFO ] [state.generation_sta]: GenerationState initialised. Prompt length (chars) = 266\n",
      "2025-05-13 11:00:07,340 [INFO ] [state.generation_sta]: GenerationState initialised. Prompt length (chars) = 266\n",
      "2025-05-13 11:00:07,340 [INFO ] [state.generation_sta]: GenerationState initialised. Prompt length (chars) = 266\n",
      "2025-05-13 11:00:07,340 [INFO ] [state.generation_sta]: GenerationState initialised. Prompt length (chars) = 266\n",
      "2025-05-13 11:00:07,340 [INFO ] [state.generation_sta]: GenerationState initialised. Prompt length (chars) = 266\n",
      "2025-05-13 11:00:07,340 [INFO ] [state.generation_sta]: GenerationState initialised. Prompt length (chars) = 266\n",
      "2025-05-13 11:00:07,340 [INFO ] [state.generation_sta]: GenerationState initialised. Prompt length (chars) = 266\n",
      "2025-05-13 11:00:07,340 [INFO ] [state.generation_sta]: GenerationState initialised. Prompt length (chars) = 266\n",
      "2025-05-13 11:00:07,341 [WARNI] [core.sampler        ]:     ✓ replacement='▁sensing' (pool=9, T=0.7, min_p=0.05, top_p=1.0, top_k=50)\n",
      "2025-05-13 11:00:07,341 [DEBUG] [root                ]: BANNED (prompt_idx=0, type=slop_phrase, phrase='utterly' @ orig_token='▁utterly' ...'storm.   The Devil, utterly bewildered, continu'...)\n",
      "2025-05-13 11:00:07,342 [DEBUG] [api_client.api_clien]: POST https://ncfi2yswjottwq-8888.proxy.runpod.net/v1/completions\n",
      "2025-05-13 11:00:07,342 [DEBUG] [api_client.api_clien]: Payload: {\"model\": \"unsloth/gemma-3-4b-it\", \"prompt\": \"<bos><start_of_turn>user\\nWriting prompt: After defeating the Devil down in Georgia, Johnny proudly proclaims he's the best that's ever been. A flash of lightning crashes down and God appears, fiddle in hand. The Devil gets his popcorn ready.\\n\\nWrite 1000 words to this prompt. Your response:\\n<end_of_turn>\\n<start_of_turn>model\\nThe rain in Georgia was a greasy, insistent thing, clinging to everything with the stubbornness of regret. It mirrored the\n"
     ]
    },
    {
     "name": "stdout",
     "output_type": "stream",
     "text": [
      "Batch Generating:   0%|          | 0/1 [00:47<?, ?prompt/s, 19.4 tok/s]"
     ]
    },
    {
     "name": "stderr",
     "output_type": "stream",
     "text": [
      "2025-05-13 11:00:07,903 [DEBUG] [urllib3.connectionpo]: https://ncfi2yswjottwq-8888.proxy.runpod.net:443 \"POST /v1/completions HTTP/1.1\" 200 None\n",
      "2025-05-13 11:00:07,965 [DEBUG] [api_client.api_clien]: Raw response: {\"id\": \"cmpl-8fc05f4cd93b45f7861a33c4fbb2c54f\", \"object\": \"text_completion\", \"created\": 1747098012, \"model\": \"unsloth/gemma-3-4b-it\", \"choices\": [{\"index\": 0, \"text\": \" a shift in the power dynamic, began to shriek, a high-pitched, desperate wail\", \"logprobs\": {\"text_offset\": [0, 2, 8, 11, 15, 21, 29, 30, 36, 39, 42, 46, 47, 49, 54, 55, 62, 63, 73, 75], \"token_logprobs\": [-0.36645546555519104, -0.04039191082119942, -0.006784025114029646, -0.39327991008758545, -0.5054757595062256, -0.10323657095432281, -0.00035291642416268587, -1.7275898456573486, -0.014447485096752644, -2.60629940032959, -3.576278118089249e-07, -0.4735524654388428, -0.6799949407577515, -0.6444900631904602, -0.00044490929576568305, 0.0, -0.02314143255352974, -0.5165525674819946, -0.40106168389320374, -7.867782187531702e-06], \"tokens\": [\"\\u2581a\", \"\\u2581shift\", \"\\u2581in\", \"\\u2581the\", \"\\u2581power\", \"\\u2581dynamic\", \",\", \"\\u2581began\", \"\\u2581to\", \"\\u2581sh\", \"riek\", \",\", \"\\u2581a\", \"\\u2581high\", \"-\", \"pitched\", \",\", \"\\u2581desperate\", \"\\u2581w\", \"ail\"], \"top_logprobs\": [{\"\\u2581a\": -0.36645546555519104, \"\\u2581an\": -1.2414554357528687, \"\\u2581his\": -4.366455554962158, \"\\u2581the\": -5.741455554962158, \"\\u2581something\": -6.616455554962158, \"\\u2581opportunity\": -8.491455078125, \"\\u2581another\": -9.116455078125, \"\\u2581some\": -9.741455078125, \"\\u2581this\": -9.991455078125, \"\\u2581weakness\": -10.366455078125, \"\\u2581he\": -10.616455078125, \"\\u2581leverage\": -10.616455078125, \"\\u2581advantage\": -10.866455078125, \"\\u2581perhaps\": -11.366455078125, \"\\u2581what\": -11.741455078125, \"\\u2581change\": -11.991455078125, \"\\u2581movement\": -11.991455078125, \"\\u2581shift\": -12.241455078125, \"\\u2581shifting\": -12.491455078125, \"\\u2581its\": -12.491455078125}, {\"\\u2581shift\": -0.04039191082119942, \"\\u2581change\": -4.04039192199707, \"\\u2581new\": -4.41539192199707, \"\\u2581potential\": -5.54039192199707, \"\\u2581shifting\": -5.91539192199707, \"\\u2581distraction\": -7.79039192199707, \"\\u2581renewed\": -7.91539192199707, \"\\u2581\n",
      "2025-05-13 11:00:07,965 [INFO ] [api_client.api_clien]: Received 20 token strings (finish_reason=length).\n",
      "2025-05-13 11:00:07,968 [DEBUG] [api_client.api_clien]: POST https://ncfi2yswjottwq-8888.proxy.runpod.net/v1/completions\n",
      "2025-05-13 11:00:07,968 [DEBUG] [api_client.api_clien]: Payload: {\"model\": \"unsloth/gemma-3-4b-it\", \"prompt\": \"<bos><start_of_turn>user\\nWriting prompt: After defeating the Devil down in Georgia, Johnny proudly proclaims he's the best that's ever been. A flash of lightning crashes down and God appears, fiddle in hand. The Devil gets his popcorn ready.\\n\\nWrite 1000 words to this prompt. Your response:\\n<end_of_turn>\\n<start_of_turn>model\\nThe rain in Georgia was a greasy, insistent thing, clinging to everything with the stubbornness of regret. It mirrored the\n"
     ]
    },
    {
     "name": "stdout",
     "output_type": "stream",
     "text": [
      "Batch Generating:   0%|          | 0/1 [00:47<?, ?prompt/s, 19.6 tok/s]"
     ]
    },
    {
     "name": "stderr",
     "output_type": "stream",
     "text": [
      "2025-05-13 11:00:08,530 [DEBUG] [urllib3.connectionpo]: https://ncfi2yswjottwq-8888.proxy.runpod.net:443 \"POST /v1/completions HTTP/1.1\" 200 None\n",
      "2025-05-13 11:00:08,593 [DEBUG] [api_client.api_clien]: Raw response: {\"id\": \"cmpl-259b59459bea47879a45d5d0a6346df4\", \"object\": \"text_completion\", \"created\": 1747098013, \"model\": \"unsloth/gemma-3-4b-it\", \"choices\": [{\"index\": 0, \"text\": \". \\\"Don't you dare! I'm still bound! Let me go!\\\" \\n\\n\", \"logprobs\": {\"text_offset\": [0, 1, 3, 6, 7, 8, 12, 17, 18, 20, 21, 22, 28, 34, 35, 39, 42, 45, 47, 48], \"token_logprobs\": [-0.07125523686408997, -1.3457223176956177, -0.18093959987163544, -0.08893967419862747, 0.0, -0.2891310453414917, -0.05108606442809105, -0.16851134598255157, -2.076061725616455, -0.8912770748138428, -0.1933763325214386, -0.5917466878890991, -1.168950080871582, -0.020409807562828064, -1.9901752471923828, -0.0031527597457170486, -0.08510328084230423, -0.17962093651294708, -0.7980039715766907, -2.861018856492592e-06], \"tokens\": [\".\", \"\\u2581\\\"\", \"Don\", \"'\", \"t\", \"\\u2581you\", \"\\u2581dare\", \"!\", \"\\u2581I\", \"'\", \"m\", \"\\u2581still\", \"\\u2581bound\", \"!\", \"\\u2581Let\", \"\\u2581me\", \"\\u2581go\", \"!\\\"\", \"\\u2581\", \"\\n\\n\"], \"top_logprobs\": [{\".\": -0.07125523686408997, \"\\u2581that\": -2.6962552070617676, \"\\u2581of\": -7.321255207061768, \",\": -8.071255683898926, \"\\u2581as\": -8.821255683898926, \"\\u2581filled\": -9.696255683898926, \"\\u2581echoing\": -10.321255683898926, \"\\u2581against\": -11.196255683898926, \":\": -11.321255683898926, \"\\u2581laced\": -11.821255683898926, \"\\u2581for\": -11.821255683898926, \"\\u2581punctuated\": -11.821255683898926, \"\\u2581\\u2013\": -11.821255683898926, \"\\u2581aimed\": -12.321255683898926, \"\\u2581mixed\": -12.571255683898926, \"\\u2581\\u201c\": -12.696255683898926, \"\\u2581amplified\": -12.946255683898926, \"\\u2581directed\": -13.196255683898926, \"\\u2581rising\": -13.571255683898926, \"\\u2581designed\": -13.571255683898926}, {\"\\u2581\\\"\": -1.3457223176956177, \"\\u2581\\u201c\": -0.34572234749794006, \"\\u2581\\u2581\": -3.9707224369049072, \"\\u2581He\": -4.595722198486328, \"\\u2581\": -6.345722198486328, \"\\u2581But\": -7.220722198486328, \"\\u2581The\": -8.845722198486328, \"\\u2581His\": -9.470722198486328, \"\\u2581As\": -9.720722198486328, \"\\u2581Suddenly\"\n",
      "2025-05-13 11:00:08,593 [INFO ] [api_client.api_clien]: Received 20 token strings (finish_reason=length).\n",
      "2025-05-13 11:00:08,596 [WARNI] [validators.ngram_val]: NGram violation: 'let go' (stopwords_removed=True) @tok=917 (char_pos=3889). Context: ...'t you dare! I'm still bound! Let me go!\"   ...\n",
      "2025-05-13 11:00:08,596 [WARNI] [core.sampler        ]: Back-tracking @tok=917 orig='▁Let' ban='{'ngram_tuple': ['let', 'go'], 'ngram_string': 'let go', 'remove_stopwords_active': True, 'context': '\\'t you dare! I\\'m still bound! Let me go!\"   ', 'suppression_detail_key': 'let go (stopwords_removed=True)'}'.\n",
      "2025-05-13 11:00:08,596 [INFO ] [state.generation_sta]: GenerationState initialised. Prompt length (chars) = 266\n",
      "2025-05-13 11:00:08,596 [INFO ] [state.generation_sta]: GenerationState initialised. Prompt length (chars) = 266\n",
      "2025-05-13 11:00:08,596 [INFO ] [state.generation_sta]: GenerationState initialised. Prompt length (chars) = 266\n",
      "2025-05-13 11:00:08,596 [INFO ] [state.generation_sta]: GenerationState initialised. Prompt length (chars) = 266\n",
      "2025-05-13 11:00:08,596 [INFO ] [state.generation_sta]: GenerationState initialised. Prompt length (chars) = 266\n",
      "2025-05-13 11:00:08,596 [INFO ] [state.generation_sta]: GenerationState initialised. Prompt length (chars) = 266\n",
      "2025-05-13 11:00:08,596 [INFO ] [state.generation_sta]: GenerationState initialised. Prompt length (chars) = 266\n",
      "2025-05-13 11:00:08,596 [INFO ] [state.generation_sta]: GenerationState initialised. Prompt length (chars) = 266\n",
      "2025-05-13 11:00:08,596 [INFO ] [state.generation_sta]: GenerationState initialised. Prompt length (chars) = 266\n",
      "2025-05-13 11:00:08,596 [INFO ] [state.generation_sta]: GenerationState initialised. Prompt length (chars) = 266\n",
      "2025-05-13 11:00:08,596 [INFO ] [state.generation_sta]: GenerationState initialised. Prompt length (chars) = 266\n",
      "2025-05-13 11:00:08,596 [INFO ] [state.generation_sta]: GenerationState initialised. Prompt length (chars) = 266\n",
      "2025-05-13 11:00:08,596 [INFO ] [state.generation_sta]: GenerationState initialised. Prompt length (chars) = 266\n",
      "2025-05-13 11:00:08,596 [INFO ] [state.generation_sta]: GenerationState initialised. Prompt length (chars) = 266\n",
      "2025-05-13 11:00:08,596 [INFO ] [state.generation_sta]: GenerationState initialised. Prompt length (chars) = 266\n",
      "2025-05-13 11:00:08,596 [INFO ] [state.generation_sta]: GenerationState initialised. Prompt length (chars) = 266\n",
      "2025-05-13 11:00:08,596 [INFO ] [state.generation_sta]: GenerationState initialised. Prompt length (chars) = 266\n",
      "2025-05-13 11:00:08,596 [INFO ] [state.generation_sta]: GenerationState initialised. Prompt length (chars) = 266\n",
      "2025-05-13 11:00:08,596 [INFO ] [state.generation_sta]: GenerationState initialised. Prompt length (chars) = 266\n",
      "2025-05-13 11:00:08,597 [WARNI] [core.sampler        ]:     ✓ replacement='▁You' (pool=2, T=0.7, min_p=0.05, top_p=1.0, top_k=50)\n",
      "2025-05-13 11:00:08,597 [DEBUG] [root                ]: BANNED (prompt_idx=0, type=ngram, ngram='let go' (stopwords_removed=True) @ orig_token='▁Let' ...''t you dare! I'm still bound! Let me go!\"'...)\n",
      "2025-05-13 11:00:08,598 [DEBUG] [api_client.api_clien]: POST https://ncfi2yswjottwq-8888.proxy.runpod.net/v1/completions\n",
      "2025-05-13 11:00:08,598 [DEBUG] [api_client.api_clien]: Payload: {\"model\": \"unsloth/gemma-3-4b-it\", \"prompt\": \"<bos><start_of_turn>user\\nWriting prompt: After defeating the Devil down in Georgia, Johnny proudly proclaims he's the best that's ever been. A flash of lightning crashes down and God appears, fiddle in hand. The Devil gets his popcorn ready.\\n\\nWrite 1000 words to this prompt. Your response:\\n<end_of_turn>\\n<start_of_turn>model\\nThe rain in Georgia was a greasy, insistent thing, clinging to everything with the stubbornness of regret. It mirrored the\n"
     ]
    },
    {
     "name": "stdout",
     "output_type": "stream",
     "text": [
      "Batch Generating:   0%|          | 0/1 [00:48<?, ?prompt/s, 19.6 tok/s]"
     ]
    },
    {
     "name": "stderr",
     "output_type": "stream",
     "text": [
      "2025-05-13 11:00:09,347 [DEBUG] [urllib3.connectionpo]: https://ncfi2yswjottwq-8888.proxy.runpod.net:443 \"POST /v1/completions HTTP/1.1\" 200 None\n",
      "2025-05-13 11:00:09,408 [DEBUG] [api_client.api_clien]: Raw response: {\"id\": \"cmpl-57b2a18c6b4e4d1fa10afa2c855e6e1b\", \"object\": \"text_completion\", \"created\": 1747098014, \"model\": \"unsloth/gemma-3-4b-it\", \"choices\": [{\"index\": 0, \"text\": \" haven't won!\\\"\\n\\nThe figure ignored him, continuing his performance. \\u201cYou defeated me,\", \"logprobs\": {\"text_offset\": [0, 6, 7, 8, 12, 14, 16, 19, 26, 34, 38, 39, 50, 54, 66, 67, 69, 72, 81, 84], \"token_logprobs\": [-0.22688686847686768, -0.12692900002002716, 0.0, -0.6532480716705322, -0.16416116058826447, -0.5624289512634277, -0.049873653799295425, -0.0029850706923753023, -0.28500255942344666, -0.0005619138828478754, -0.2691841721534729, -0.3140130341053009, -0.6942564249038696, -1.0382052659988403, -0.005700284615159035, -1.49714994430542, -0.11858030408620834, -0.46481853723526, -0.17961427569389343, -0.0956902951002121], \"tokens\": [\"\\u2581haven\", \"'\", \"t\", \"\\u2581won\", \"!\\\"\", \"\\n\\n\", \"The\", \"\\u2581figure\", \"\\u2581ignored\", \"\\u2581him\", \",\", \"\\u2581continuing\", \"\\u2581his\", \"\\u2581performance\", \".\", \"\\u2581\\u201c\", \"You\", \"\\u2581defeated\", \"\\u2581me\", \",\"], \"top_logprobs\": [{\"\\u2581haven\": -0.22688686847686768, \"\\u2581can\": -1.8518868684768677, \"'\": -3.601886749267578, \"\\u2581don\": -4.601886749267578, \"\\u2019\": -5.476886749267578, \"\\u2581won\": -6.851886749267578, \"\\u2581think\": -7.226886749267578, \"\\u2581have\": -7.851886749267578, \"\\u2581ain\": -7.851886749267578, \"\\u2581gotta\": -8.351886749267578, \"\\u2581need\": -8.476886749267578, \"\\u2581didn\": -8.726886749267578, \"\\u2581still\": -8.726886749267578, \"...\": -8.976886749267578, \"\\u2581shouldn\": -8.976886749267578, \"\\u2581just\": -9.101886749267578, \"\\u2581let\": -9.351886749267578, \"\\u2581aren\": -9.601886749267578, \"\\u2026\": -9.726886749267578, \"\\u2581should\": -10.101886749267578}, {\"'\": -0.12692900002002716, \"\\u2019\": -2.1269290447235107, \"'\\\"\": -14.37692928314209, \"\\u00b4\": -16.189428329467773, \"\\u2018\": -16.501928329467773, \"\\\"\": -16.751928329467773, \"\\u2581'\": -17.376928329467773, \"''\": -18.189428329467773, \"\\u2019\\u201d\": -18.251928329467773, \n",
      "2025-05-13 11:00:09,408 [INFO ] [api_client.api_clien]: Received 20 token strings (finish_reason=length).\n",
      "2025-05-13 11:00:09,411 [DEBUG] [api_client.api_clien]: POST https://ncfi2yswjottwq-8888.proxy.runpod.net/v1/completions\n",
      "2025-05-13 11:00:09,411 [DEBUG] [api_client.api_clien]: Payload: {\"model\": \"unsloth/gemma-3-4b-it\", \"prompt\": \"<bos><start_of_turn>user\\nWriting prompt: After defeating the Devil down in Georgia, Johnny proudly proclaims he's the best that's ever been. A flash of lightning crashes down and God appears, fiddle in hand. The Devil gets his popcorn ready.\\n\\nWrite 1000 words to this prompt. Your response:\\n<end_of_turn>\\n<start_of_turn>model\\nThe rain in Georgia was a greasy, insistent thing, clinging to everything with the stubbornness of regret. It mirrored the\n"
     ]
    },
    {
     "name": "stdout",
     "output_type": "stream",
     "text": [
      "Batch Generating:   0%|          | 0/1 [00:49<?, ?prompt/s, 19.7 tok/s]"
     ]
    },
    {
     "name": "stderr",
     "output_type": "stream",
     "text": [
      "2025-05-13 11:00:09,979 [DEBUG] [urllib3.connectionpo]: https://ncfi2yswjottwq-8888.proxy.runpod.net:443 \"POST /v1/completions HTTP/1.1\" 200 None\n",
      "2025-05-13 11:00:10,040 [DEBUG] [api_client.api_clien]: Raw response: {\"id\": \"cmpl-cbcd779f237f435686b45713bf6d79a0\", \"object\": \"text_completion\", \"created\": 1747098014, \"model\": \"unsloth/gemma-3-4b-it\", \"choices\": [{\"index\": 0, \"text\": \" yes. A feat of considerable skill, I\\u2019ll admit. But you didn\\u2019t *understand\", \"logprobs\": {\"text_offset\": [0, 4, 5, 7, 12, 15, 28, 34, 35, 37, 38, 40, 46, 47, 51, 55, 60, 61, 62, 64], \"token_logprobs\": [-0.029632611200213432, -0.08102337270975113, -0.5497611165046692, -1.3299387693405151, -0.6452949047088623, -0.16698302328586578, -0.5398231148719788, -0.12852874398231506, -0.21756936609745026, -0.09690070152282715, 0.0, -1.520409107208252, -0.0007814691052772105, -1.0244271755218506, -1.0797145366668701, -0.09577154368162155, -0.3868710994720459, 0.0, -0.34567856788635254, -0.4961628317832947], \"tokens\": [\"\\u2581yes\", \".\", \"\\u2581A\", \"\\u2581feat\", \"\\u2581of\", \"\\u2581considerable\", \"\\u2581skill\", \",\", \"\\u2581I\", \"\\u2019\", \"ll\", \"\\u2581admit\", \".\", \"\\u2581But\", \"\\u2581you\", \"\\u2581didn\", \"\\u2019\", \"t\", \"\\u2581*\", \"understand\"], \"top_logprobs\": [{\"\\u2581yes\": -0.029632611200213432, \"\\u2581certainly\": -4.279632568359375, \"\\u2581you\": -5.654632568359375, \"\\u2581admittedly\": -5.779632568359375, \"\\u2581Johnny\": -6.029632568359375, \"\\u2581it\": -6.529632568359375, \"\\u2581of\": -6.529632568359375, \"\\u2581a\": -7.404632568359375, \"\\u2581undeniably\": -7.654632568359375, \"\\u2581undoubtedly\": -7.779632568359375, \"\\u2581I\": -7.779632568359375, \"\\u2581granted\": -7.904632568359375, \"\\u2581true\": -8.154632568359375, \"\\u2581did\": -8.529632568359375, \"\\u2581that\": -9.029632568359375, \"\\u2581young\": -9.279632568359375, \"\\u2581technically\": -9.404632568359375, \"\\u2581didn\": -9.654632568359375, \"\\u2581superficially\": -10.279632568359375, \"\\u2581little\": -10.654632568359375}, {\".\": -0.08102337270975113, \",\\u201d\": -2.5810234546661377, \",\\\"\": -6.831023216247559, \",\": -6.956023216247559, \".\\u201d\": -9.331023216247559, \"?\": -11.706023216247559, \"?\\u201d\": -13.831023216247559, \".\\\"\": -14.706023216247559, \"\\u2581\\u2013\": \n",
      "2025-05-13 11:00:10,040 [INFO ] [api_client.api_clien]: Received 20 token strings (finish_reason=length).\n",
      "2025-05-13 11:00:10,043 [DEBUG] [api_client.api_clien]: POST https://ncfi2yswjottwq-8888.proxy.runpod.net/v1/completions\n",
      "2025-05-13 11:00:10,043 [DEBUG] [api_client.api_clien]: Payload: {\"model\": \"unsloth/gemma-3-4b-it\", \"prompt\": \"<bos><start_of_turn>user\\nWriting prompt: After defeating the Devil down in Georgia, Johnny proudly proclaims he's the best that's ever been. A flash of lightning crashes down and God appears, fiddle in hand. The Devil gets his popcorn ready.\\n\\nWrite 1000 words to this prompt. Your response:\\n<end_of_turn>\\n<start_of_turn>model\\nThe rain in Georgia was a greasy, insistent thing, clinging to everything with the stubbornness of regret. It mirrored the\n"
     ]
    },
    {
     "name": "stdout",
     "output_type": "stream",
     "text": [
      "Batch Generating:   0%|          | 0/1 [00:49<?, ?prompt/s, 19.9 tok/s]"
     ]
    },
    {
     "name": "stderr",
     "output_type": "stream",
     "text": [
      "2025-05-13 11:00:10,613 [DEBUG] [urllib3.connectionpo]: https://ncfi2yswjottwq-8888.proxy.runpod.net:443 \"POST /v1/completions HTTP/1.1\" 200 None\n",
      "2025-05-13 11:00:10,676 [DEBUG] [api_client.api_clien]: Raw response: {\"id\": \"cmpl-06942ea5c35c4275b622a4a9372b3a93\", \"object\": \"text_completion\", \"created\": 1747098015, \"model\": \"unsloth/gemma-3-4b-it\", \"choices\": [{\"index\": 0, \"text\": \"* me. You saw me as a problem to be solved, a monster to be vanquished.\", \"logprobs\": {\"text_offset\": [0, 1, 4, 5, 9, 13, 16, 19, 21, 29, 32, 35, 42, 43, 45, 53, 56, 59, 65, 70], \"token_logprobs\": [-7.879423355916515e-05, -0.0004349001101218164, -0.035895634442567825, -0.00996165256947279, -2.039605140686035, -0.5822530388832092, -0.0004776767164003104, -0.20423294603824615, -2.3253934383392334, -0.07947687059640884, -1.0609570381348021e-05, -0.008135869167745113, -0.0008313775178976357, -0.07902964949607849, -0.2767070233821869, -0.00012730741582345217, -0.0001382732152706012, -0.1350208967924118, 0.0, -0.008206812664866447], \"tokens\": [\"*\", \"\\u2581me\", \".\", \"\\u2581You\", \"\\u2581saw\", \"\\u2581me\", \"\\u2581as\", \"\\u2581a\", \"\\u2581problem\", \"\\u2581to\", \"\\u2581be\", \"\\u2581solved\", \",\", \"\\u2581a\", \"\\u2581monster\", \"\\u2581to\", \"\\u2581be\", \"\\u2581vanqu\", \"ished\", \".\"], \"top_logprobs\": [{\"*\": -7.879423355916515e-05, \"*.\": -9.500079154968262, \".*\": -13.375079154968262, \"\\u2581me\": -13.375079154968262, \"*,\": -14.625079154968262, \"\\u201d\": -15.125079154968262, \",*\": -16.250078201293945, \"\\u2581*\": -18.000078201293945, \"\\u2019\": -18.375078201293945, \"*-\": -19.500078201293945, \"**\": -20.062578201293945, \"*'\": -20.187578201293945, \"\\u2581why\": -20.437578201293945, \"ly\": -20.500078201293945, \"*\\\"\": -20.500078201293945, \"\\u2581the\": -21.250078201293945, \"\\u2581my\": -21.250078201293945, \"ed\": -21.250078201293945, \"er\": -21.437578201293945, \"*;\": -21.562578201293945}, {\"\\u2581me\": -0.0004349001101218164, \"\\u2581the\": -8.750434875488281, \"\\u2581what\": -9.625434875488281, \"\\u2581it\": -9.750434875488281, \"\\u2581my\": -9.750434875488281, \"\\u2581evil\": -10.875434875488281, \"\\u2581why\": -10.875434875488281, \"\\u2581defeat\": -11.250434875488281, \"\\u2581him\": -11.500434875488281, \"\\u2581your\": -11.750434875488281, \".\\u201d\": -12.2\n",
      "2025-05-13 11:00:10,677 [INFO ] [api_client.api_clien]: Received 20 token strings (finish_reason=length).\n",
      "2025-05-13 11:00:10,680 [DEBUG] [api_client.api_clien]: POST https://ncfi2yswjottwq-8888.proxy.runpod.net/v1/completions\n",
      "2025-05-13 11:00:10,680 [DEBUG] [api_client.api_clien]: Payload: {\"model\": \"unsloth/gemma-3-4b-it\", \"prompt\": \"<bos><start_of_turn>user\\nWriting prompt: After defeating the Devil down in Georgia, Johnny proudly proclaims he's the best that's ever been. A flash of lightning crashes down and God appears, fiddle in hand. The Devil gets his popcorn ready.\\n\\nWrite 1000 words to this prompt. Your response:\\n<end_of_turn>\\n<start_of_turn>model\\nThe rain in Georgia was a greasy, insistent thing, clinging to everything with the stubbornness of regret. It mirrored the\n"
     ]
    },
    {
     "name": "stdout",
     "output_type": "stream",
     "text": [
      "Batch Generating:   0%|          | 0/1 [00:50<?, ?prompt/s, 20.0 tok/s]"
     ]
    },
    {
     "name": "stderr",
     "output_type": "stream",
     "text": [
      "2025-05-13 11:00:11,250 [DEBUG] [urllib3.connectionpo]: https://ncfi2yswjottwq-8888.proxy.runpod.net:443 \"POST /v1/completions HTTP/1.1\" 200 None\n",
      "2025-05-13 11:00:11,312 [DEBUG] [api_client.api_clien]: Raw response: {\"id\": \"cmpl-3d6a3cd1576b4759a8ced28661945f19\", \"object\": \"text_completion\", \"created\": 1747098016, \"model\": \"unsloth/gemma-3-4b-it\", \"choices\": [{\"index\": 0, \"text\": \" You approached the battle with brute force, with righteous fury. That\\u2019s why you won. But\", \"logprobs\": {\"text_offset\": [0, 4, 15, 19, 26, 31, 37, 43, 44, 49, 59, 64, 65, 70, 71, 72, 76, 80, 84, 85], \"token_logprobs\": [-0.1289345622062683, -1.111596703529358, -0.12357400357723236, -1.131664514541626, -0.0023966894950717688, -2.029850482940674, -0.003177833277732134, -0.12712962925434113, -0.004887419752776623, -0.24384286999702454, -0.5242839455604553, -0.0338846854865551, -1.286586046218872, -0.27313753962516785, 0.0, -2.9367034435272217, -0.1068321168422699, -0.17000725865364075, -0.6967762112617493, -0.18146829307079315], \"tokens\": [\"\\u2581You\", \"\\u2581approached\", \"\\u2581the\", \"\\u2581battle\", \"\\u2581with\", \"\\u2581brute\", \"\\u2581force\", \",\", \"\\u2581with\", \"\\u2581righteous\", \"\\u2581fury\", \".\", \"\\u2581That\", \"\\u2019\", \"s\", \"\\u2581why\", \"\\u2581you\", \"\\u2581won\", \".\", \"\\u2581But\"], \"top_logprobs\": [{\"\\u2581You\": -0.1289345622062683, \"\\u2581\\u2581\": -3.128934621810913, \"\\u2581I\": -3.503934621810913, \"\\u2581That\": -3.628934621810913, \"\\u2581A\": -4.878934383392334, \"\\u2581But\": -4.878934383392334, \"\\u2581And\": -6.253934383392334, \"\\u2581True\": -7.003934383392334, \"\\u2581Did\": -7.253934383392334, \"\\u2581Your\": -8.128934860229492, \"\\u2581My\": -8.253934860229492, \"\\u2581Like\": -8.753934860229492, \"\\u2581There\": -9.128934860229492, \"\\u2581War\": -9.253934860229492, \"\\u2581The\": -9.253934860229492, \"\\u2581It\": -9.628934860229492, \"\\u2581Do\": -9.628934860229492, \"\\u2581Such\": -9.753934860229492, \"\\u2581Combat\": -9.878934860229492, \"\\u2581Darkness\": -10.003934860229492}, {\"\\u2581approached\": -1.111596703529358, \"\\u2581fought\": -1.861596703529358, \"\\u2581treated\": -1.861596703529358, \"\\u2581focused\": -2.2365965843200684, \"\\u2581relied\": -2.9865965843200684, \"\\u2581used\": -3.4865965843200684, \"\\u2581didn\": -3.\n",
      "2025-05-13 11:00:11,312 [INFO ] [api_client.api_clien]: Received 20 token strings (finish_reason=length).\n",
      "2025-05-13 11:00:11,315 [DEBUG] [api_client.api_clien]: POST https://ncfi2yswjottwq-8888.proxy.runpod.net/v1/completions\n",
      "2025-05-13 11:00:11,315 [DEBUG] [api_client.api_clien]: Payload: {\"model\": \"unsloth/gemma-3-4b-it\", \"prompt\": \"<bos><start_of_turn>user\\nWriting prompt: After defeating the Devil down in Georgia, Johnny proudly proclaims he's the best that's ever been. A flash of lightning crashes down and God appears, fiddle in hand. The Devil gets his popcorn ready.\\n\\nWrite 1000 words to this prompt. Your response:\\n<end_of_turn>\\n<start_of_turn>model\\nThe rain in Georgia was a greasy, insistent thing, clinging to everything with the stubbornness of regret. It mirrored the\n"
     ]
    },
    {
     "name": "stdout",
     "output_type": "stream",
     "text": [
      "Batch Generating:   0%|          | 0/1 [00:51<?, ?prompt/s, 20.2 tok/s]"
     ]
    },
    {
     "name": "stderr",
     "output_type": "stream",
     "text": [
      "2025-05-13 11:00:11,885 [DEBUG] [urllib3.connectionpo]: https://ncfi2yswjottwq-8888.proxy.runpod.net:443 \"POST /v1/completions HTTP/1.1\" 200 None\n",
      "2025-05-13 11:00:11,946 [DEBUG] [api_client.api_clien]: Raw response: {\"id\": \"cmpl-19fe1ea978874ac9addf974a97a97c08\", \"object\": \"text_completion\", \"created\": 1747098016, \"model\": \"unsloth/gemma-3-4b-it\", \"choices\": [{\"index\": 0, \"text\": \" that\\u2019s not the point.\\u201d\\n\\nHe paused, and the music softened, returning to the mourn\", \"logprobs\": {\"text_offset\": [0, 5, 6, 7, 11, 15, 21, 23, 25, 27, 34, 35, 39, 43, 49, 58, 59, 69, 72, 76], \"token_logprobs\": [-1.413033127784729, -0.14655590057373047, 0.0, -0.09012199938297272, -2.0084750652313232, -1.250103235244751, -0.3642733693122864, -0.3952418565750122, -0.011553522199392319, -0.47665148973464966, -0.04339151456952095, -1.967484712600708, -0.008808211423456669, -0.005909115541726351, -0.019199835136532784, -0.028723960742354393, -1.342302680015564, -0.0006191005813889205, -1.34209144115448, -0.21563923358917236], \"tokens\": [\"\\u2581that\", \"\\u2019\", \"s\", \"\\u2581not\", \"\\u2581the\", \"\\u2581point\", \".\\u201d\", \"\\n\\n\", \"He\", \"\\u2581paused\", \",\", \"\\u2581and\", \"\\u2581the\", \"\\u2581music\", \"\\u2581softened\", \",\", \"\\u2581returning\", \"\\u2581to\", \"\\u2581the\", \"\\u2581mourn\"], \"top_logprobs\": [{\"\\u2581that\": -1.413033127784729, \"\\u2581it\": -1.038033127784729, \"\\u2581victory\": -1.663033127784729, \"\\u2581understanding\": -2.2880330085754395, \"\\u2581true\": -3.0380330085754395, \"\\u2581winning\": -3.6630330085754395, \"\\u2581you\": -3.9130330085754395, \"\\u2581a\": -5.7880330085754395, \"\\u2581the\": -6.5380330085754395, \"\\u2581triumph\": -6.6630330085754395, \"\\u2581ultimately\": -6.6630330085754395, \"\\u2581I\": -6.6630330085754395, \"\\u2581to\": -6.9130330085754395, \"\\u2581in\": -7.4130330085754395, \"\\u2581also\": -7.5380330085754395, \"\\u2581truly\": -7.5380330085754395, \"\\u2026\": -7.6630330085754395, \"\\u2581defeating\": -8.038033485412598, \"\\u2581\\u2018\": -8.288033485412598, \"\\u2581understand\": -8.413033485412598}, {\"\\u2019\": -0.14655590057373047, \"'\": -2.1465559005737305, \"\\u2581isn\": -4.8965559005737305, \"\\u2581wasn\": -5.0215559005737305, \"\\u2581doesn\": -5.8965559005737305, \"\\u2581also\": -6.5215559005737305, \"\\u2581is\"\n",
      "2025-05-13 11:00:11,946 [INFO ] [api_client.api_clien]: Received 20 token strings (finish_reason=length).\n",
      "2025-05-13 11:00:11,947 [WARNI] [validators.slop_phra]: Slop violation: 'paused' @tok=1007 (char_pos=4239) …not the point.”  He paused, and the music soft…\n",
      "2025-05-13 11:00:11,949 [WARNI] [core.sampler        ]: Back-tracking @tok=1007 orig='▁paused' ban='{'phrase': 'paused', 'context': 'not the point.”  He paused, and the music soft', 'suppression_detail_key': 'paused'}'.\n",
      "2025-05-13 11:00:11,949 [INFO ] [state.generation_sta]: GenerationState initialised. Prompt length (chars) = 266\n",
      "2025-05-13 11:00:11,949 [INFO ] [state.generation_sta]: GenerationState initialised. Prompt length (chars) = 266\n",
      "2025-05-13 11:00:11,949 [INFO ] [state.generation_sta]: GenerationState initialised. Prompt length (chars) = 266\n",
      "2025-05-13 11:00:11,949 [INFO ] [state.generation_sta]: GenerationState initialised. Prompt length (chars) = 266\n",
      "2025-05-13 11:00:11,949 [INFO ] [state.generation_sta]: GenerationState initialised. Prompt length (chars) = 266\n",
      "2025-05-13 11:00:11,949 [INFO ] [state.generation_sta]: GenerationState initialised. Prompt length (chars) = 266\n",
      "2025-05-13 11:00:11,949 [INFO ] [state.generation_sta]: GenerationState initialised. Prompt length (chars) = 266\n",
      "2025-05-13 11:00:11,949 [INFO ] [state.generation_sta]: GenerationState initialised. Prompt length (chars) = 266\n",
      "2025-05-13 11:00:11,949 [INFO ] [state.generation_sta]: GenerationState initialised. Prompt length (chars) = 266\n",
      "2025-05-13 11:00:11,949 [INFO ] [state.generation_sta]: GenerationState initialised. Prompt length (chars) = 266\n",
      "2025-05-13 11:00:11,950 [INFO ] [state.generation_sta]: GenerationState initialised. Prompt length (chars) = 266\n",
      "2025-05-13 11:00:11,950 [INFO ] [state.generation_sta]: GenerationState initialised. Prompt length (chars) = 266\n",
      "2025-05-13 11:00:11,950 [INFO ] [state.generation_sta]: GenerationState initialised. Prompt length (chars) = 266\n",
      "2025-05-13 11:00:11,950 [INFO ] [state.generation_sta]: GenerationState initialised. Prompt length (chars) = 266\n",
      "2025-05-13 11:00:11,950 [INFO ] [state.generation_sta]: GenerationState initialised. Prompt length (chars) = 266\n",
      "2025-05-13 11:00:11,950 [INFO ] [state.generation_sta]: GenerationState initialised. Prompt length (chars) = 266\n",
      "2025-05-13 11:00:11,950 [INFO ] [state.generation_sta]: GenerationState initialised. Prompt length (chars) = 266\n",
      "2025-05-13 11:00:11,950 [INFO ] [state.generation_sta]: GenerationState initialised. Prompt length (chars) = 266\n",
      "2025-05-13 11:00:11,950 [INFO ] [state.generation_sta]: GenerationState initialised. Prompt length (chars) = 266\n",
      "2025-05-13 11:00:11,951 [WARNI] [core.sampler        ]:     ✓ replacement='▁stopped' (pool=1, T=0.7, min_p=0.05, top_p=1.0, top_k=50)\n",
      "2025-05-13 11:00:11,951 [DEBUG] [root                ]: BANNED (prompt_idx=0, type=slop_phrase, phrase='paused' @ orig_token='▁paused' ...'not the point.”  He paused, and the music soft'...)\n",
      "2025-05-13 11:00:11,951 [DEBUG] [api_client.api_clien]: POST https://ncfi2yswjottwq-8888.proxy.runpod.net/v1/completions\n",
      "2025-05-13 11:00:11,951 [DEBUG] [api_client.api_clien]: Payload: {\"model\": \"unsloth/gemma-3-4b-it\", \"prompt\": \"<bos><start_of_turn>user\\nWriting prompt: After defeating the Devil down in Georgia, Johnny proudly proclaims he's the best that's ever been. A flash of lightning crashes down and God appears, fiddle in hand. The Devil gets his popcorn ready.\\n\\nWrite 1000 words to this prompt. Your response:\\n<end_of_turn>\\n<start_of_turn>model\\nThe rain in Georgia was a greasy, insistent thing, clinging to everything with the stubbornness of regret. It mirrored the\n"
     ]
    },
    {
     "name": "stdout",
     "output_type": "stream",
     "text": [
      "Batch Generating:   0%|          | 0/1 [00:51<?, ?prompt/s, 20.1 tok/s]"
     ]
    },
    {
     "name": "stderr",
     "output_type": "stream",
     "text": [
      "2025-05-13 11:00:12,528 [DEBUG] [urllib3.connectionpo]: https://ncfi2yswjottwq-8888.proxy.runpod.net:443 \"POST /v1/completions HTTP/1.1\" 200 None\n",
      "2025-05-13 11:00:12,584 [DEBUG] [api_client.api_clien]: Raw response: {\"id\": \"cmpl-4eca34ed83ee4b2789200c2a6bd76019\", \"object\": \"text_completion\", \"created\": 1747098017, \"model\": \"unsloth/gemma-3-4b-it\", \"choices\": [{\"index\": 0, \"text\": \" playing abruptly, the silence that followed almost deafening. The rain softened, the wind died down,\", \"logprobs\": {\"text_offset\": [0, 8, 17, 18, 22, 30, 35, 44, 51, 56, 61, 62, 66, 71, 80, 81, 85, 90, 95, 100], \"token_logprobs\": [-0.001835091970860958, -0.49839532375335693, -0.038574445992708206, -0.08432476967573166, -0.21941250562667847, -0.08014760911464691, -0.0026472308672964573, -0.9784510135650635, -0.410099059343338, 0.0, -0.0010300336871296167, -0.4475463032722473, -0.05446910113096237, -1.099461555480957, -0.32202476263046265, -0.04136700555682182, -0.25554102659225464, -0.7111989259719849, -9.7508447652217e-05, -0.029821811243891716], \"tokens\": [\"\\u2581playing\", \"\\u2581abruptly\", \",\", \"\\u2581the\", \"\\u2581silence\", \"\\u2581that\", \"\\u2581followed\", \"\\u2581almost\", \"\\u2581deaf\", \"ening\", \".\", \"\\u2581The\", \"\\u2581rain\", \"\\u2581softened\", \",\", \"\\u2581the\", \"\\u2581wind\", \"\\u2581died\", \"\\u2581down\", \",\"], \"top_logprobs\": [{\"\\u2581playing\": -0.001835091970860958, \"\\u2581abruptly\": -6.751834869384766, \"\\u2581the\": -7.751834869384766, \"\\u2581suddenly\": -9.376834869384766, \"\\u2581mid\": -9.501834869384766, \",\": -9.626834869384766, \"\\u2581momentarily\": -13.251834869384766, \"\\u2581for\": -13.376834869384766, \"\\u2581strum\": -13.501834869384766, \".\": -13.626834869384766, \"\\u2581his\": -13.751834869384766, \"\\u2581briefly\": -14.001834869384766, \"\\u2581pl\": -14.251834869384766, \"\\u2581fidd\": -14.626834869384766, \"\\u2581tuning\": -16.376834869384766, \"\\u2581short\": -16.501834869384766, \"\\u2581sawing\": -16.876834869384766, \"\\u2581as\": -17.001834869384766, \"\\u2581bowing\": -17.126834869384766, \"\\u2581again\": -17.376834869384766}, {\"\\u2581abruptly\": -0.49839532375335693, \",\": -0.9983953237533569, \"\\u2581for\": -4.4983954429626465, \"\\u2581suddenly\": -4.9983954429626465, \"\\u2581momentarily\": -6.2483954429626465, \".\": -\n",
      "2025-05-13 11:00:12,584 [INFO ] [api_client.api_clien]: Received 20 token strings (finish_reason=length).\n",
      "2025-05-13 11:00:12,587 [DEBUG] [api_client.api_clien]: POST https://ncfi2yswjottwq-8888.proxy.runpod.net/v1/completions\n",
      "2025-05-13 11:00:12,587 [DEBUG] [api_client.api_clien]: Payload: {\"model\": \"unsloth/gemma-3-4b-it\", \"prompt\": \"<bos><start_of_turn>user\\nWriting prompt: After defeating the Devil down in Georgia, Johnny proudly proclaims he's the best that's ever been. A flash of lightning crashes down and God appears, fiddle in hand. The Devil gets his popcorn ready.\\n\\nWrite 1000 words to this prompt. Your response:\\n<end_of_turn>\\n<start_of_turn>model\\nThe rain in Georgia was a greasy, insistent thing, clinging to everything with the stubbornness of regret. It mirrored the\n"
     ]
    },
    {
     "name": "stdout",
     "output_type": "stream",
     "text": [
      "Batch Generating:   0%|          | 0/1 [00:52<?, ?prompt/s, 20.2 tok/s]"
     ]
    },
    {
     "name": "stderr",
     "output_type": "stream",
     "text": [
      "2025-05-13 11:00:13,160 [DEBUG] [urllib3.connectionpo]: https://ncfi2yswjottwq-8888.proxy.runpod.net:443 \"POST /v1/completions HTTP/1.1\" 200 None\n",
      "2025-05-13 11:00:13,221 [DEBUG] [api_client.api_clien]: Raw response: {\"id\": \"cmpl-3385074420fe45e59ea248936b0e2f2f\", \"object\": \"text_completion\", \"created\": 1747098018, \"model\": \"unsloth/gemma-3-4b-it\", \"choices\": [{\"index\": 0, \"text\": \" and the lightning retreated, leaving behind a bruised and shimmering sky. \\n\\n\\u201cI am not a\", \"logprobs\": {\"text_offset\": [0, 4, 8, 18, 28, 29, 37, 44, 46, 54, 58, 69, 73, 74, 75, 77, 78, 79, 82, 86], \"token_logprobs\": [-0.0021701136138290167, -0.05862967669963837, -0.020241599529981613, -1.7677857875823975, -0.1157400906085968, -0.009567243978381157, -0.8445447683334351, -0.3437085449695587, -0.3313356935977936, -0.8489389419555664, -1.7200113534927368, -0.08098984509706497, -1.311301275563892e-06, -0.17362071573734283, -3.2066785934148356e-05, -0.03875439241528511, -0.49134841561317444, -0.482377827167511, -0.10414789617061615, -0.6078360080718994], \"tokens\": [\"\\u2581and\", \"\\u2581the\", \"\\u2581lightning\", \"\\u2581retreated\", \",\", \"\\u2581leaving\", \"\\u2581behind\", \"\\u2581a\", \"\\u2581bruised\", \"\\u2581and\", \"\\u2581shimmering\", \"\\u2581sky\", \".\", \"\\u2581\", \"\\n\\n\", \"\\u201c\", \"I\", \"\\u2581am\", \"\\u2581not\", \"\\u2581a\"], \"top_logprobs\": [{\"\\u2581and\": -0.0021701136138290167, \"\\u2581leaving\": -6.877170085906982, \"\\u2581the\": -7.002170085906982, \"\\u2581as\": -9.12717056274414, \"\\u2581revealing\": -9.50217056274414, \"\\u2581a\": -10.75217056274414, \"\\u2581but\": -11.75217056274414, \"\\u2581replaced\": -12.25217056274414, \"\\u2581though\": -12.75217056274414, \"\\u2581allowing\": -13.25217056274414, \"\\u2581\\u2581\": -14.50217056274414, \"\\u2581almost\": -14.87717056274414, \"\\u2581just\": -15.25217056274414, \"\\u2581exposing\": -15.25217056274414, \"\\u2581returning\": -15.25217056274414, \"\\u2581casting\": -15.37717056274414, \"\\u2581an\": -15.37717056274414, \"\\u2581only\": -15.50217056274414, \"\\u2581letting\": -15.50217056274414, \"\\u2581even\": -15.87717056274414}, {\"\\u2581the\": -0.05862967669963837, \"\\u2581a\": -2.9336297512054443, \"\\u2581even\": -6.183629512786865, \"\\u2581Johnny\": -7.058629512786865, \"\\u2581for\": -7.558629512786865, \"\\u2581\n",
      "2025-05-13 11:00:13,221 [INFO ] [api_client.api_clien]: Received 20 token strings (finish_reason=length).\n",
      "2025-05-13 11:00:13,222 [WARNI] [validators.slop_phra]: Slop violation: 'shimmering' @tok=1038 (char_pos=4406) …ehind a bruised and shimmering sky.   “I am not a…\n",
      "2025-05-13 11:00:13,224 [WARNI] [validators.ngram_val]: NGram violation: 'leaving behind' (stopwords_removed=True) @tok=1033 (char_pos=4377). Context: ... and the lightning retreated, leaving behind a bruised and shimmering sky....\n",
      "2025-05-13 11:00:13,224 [WARNI] [core.sampler        ]: Back-tracking @tok=1033 orig='▁leaving' ban='{'ngram_tuple': ['leaving', 'behind'], 'ngram_string': 'leaving behind', 'remove_stopwords_active': True, 'context': ' and the lightning retreated, leaving behind a bruised and shimmering sky.', 'suppression_detail_key': 'leaving behind (stopwords_removed=True)'}'.\n",
      "2025-05-13 11:00:13,224 [INFO ] [state.generation_sta]: GenerationState initialised. Prompt length (chars) = 266\n",
      "2025-05-13 11:00:13,224 [INFO ] [state.generation_sta]: GenerationState initialised. Prompt length (chars) = 266\n",
      "2025-05-13 11:00:13,224 [INFO ] [state.generation_sta]: GenerationState initialised. Prompt length (chars) = 266\n",
      "2025-05-13 11:00:13,224 [INFO ] [state.generation_sta]: GenerationState initialised. Prompt length (chars) = 266\n",
      "2025-05-13 11:00:13,224 [INFO ] [state.generation_sta]: GenerationState initialised. Prompt length (chars) = 266\n",
      "2025-05-13 11:00:13,224 [INFO ] [state.generation_sta]: GenerationState initialised. Prompt length (chars) = 266\n",
      "2025-05-13 11:00:13,224 [INFO ] [state.generation_sta]: GenerationState initialised. Prompt length (chars) = 266\n",
      "2025-05-13 11:00:13,224 [INFO ] [state.generation_sta]: GenerationState initialised. Prompt length (chars) = 266\n",
      "2025-05-13 11:00:13,224 [INFO ] [state.generation_sta]: GenerationState initialised. Prompt length (chars) = 266\n",
      "2025-05-13 11:00:13,224 [INFO ] [state.generation_sta]: GenerationState initialised. Prompt length (chars) = 266\n",
      "2025-05-13 11:00:13,224 [INFO ] [state.generation_sta]: GenerationState initialised. Prompt length (chars) = 266\n",
      "2025-05-13 11:00:13,225 [INFO ] [state.generation_sta]: GenerationState initialised. Prompt length (chars) = 266\n",
      "2025-05-13 11:00:13,225 [INFO ] [state.generation_sta]: GenerationState initialised. Prompt length (chars) = 266\n",
      "2025-05-13 11:00:13,225 [INFO ] [state.generation_sta]: GenerationState initialised. Prompt length (chars) = 266\n",
      "2025-05-13 11:00:13,225 [INFO ] [state.generation_sta]: GenerationState initialised. Prompt length (chars) = 266\n",
      "2025-05-13 11:00:13,225 [INFO ] [state.generation_sta]: GenerationState initialised. Prompt length (chars) = 266\n",
      "2025-05-13 11:00:13,225 [INFO ] [state.generation_sta]: GenerationState initialised. Prompt length (chars) = 266\n",
      "2025-05-13 11:00:13,225 [INFO ] [state.generation_sta]: GenerationState initialised. Prompt length (chars) = 266\n",
      "2025-05-13 11:00:13,225 [INFO ] [state.generation_sta]: GenerationState initialised. Prompt length (chars) = 266\n",
      "2025-05-13 11:00:13,226 [WARNI] [core.sampler        ]:     ✓ replacement='▁revealing' (pool=1, T=0.7, min_p=0.05, top_p=1.0, top_k=50)\n",
      "2025-05-13 11:00:13,226 [DEBUG] [root                ]: BANNED (prompt_idx=0, type=ngram, ngram='leaving behind' (stopwords_removed=True) @ orig_token='▁leaving' ...'and the lightning retreated, leaving behind a bruised and shimmering sky.'...)\n",
      "2025-05-13 11:00:13,226 [DEBUG] [api_client.api_clien]: POST https://ncfi2yswjottwq-8888.proxy.runpod.net/v1/completions\n",
      "2025-05-13 11:00:13,226 [DEBUG] [api_client.api_clien]: Payload: {\"model\": \"unsloth/gemma-3-4b-it\", \"prompt\": \"<bos><start_of_turn>user\\nWriting prompt: After defeating the Devil down in Georgia, Johnny proudly proclaims he's the best that's ever been. A flash of lightning crashes down and God appears, fiddle in hand. The Devil gets his popcorn ready.\\n\\nWrite 1000 words to this prompt. Your response:\\n<end_of_turn>\\n<start_of_turn>model\\nThe rain in Georgia was a greasy, insistent thing, clinging to everything with the stubbornness of regret. It mirrored the\n"
     ]
    },
    {
     "name": "stdout",
     "output_type": "stream",
     "text": [
      "Batch Generating:   0%|          | 0/1 [00:53<?, ?prompt/s, 20.1 tok/s]"
     ]
    },
    {
     "name": "stderr",
     "output_type": "stream",
     "text": [
      "2025-05-13 11:00:13,797 [DEBUG] [urllib3.connectionpo]: https://ncfi2yswjottwq-8888.proxy.runpod.net:443 \"POST /v1/completions HTTP/1.1\" 200 None\n",
      "2025-05-13 11:00:13,962 [DEBUG] [api_client.api_clien]: Raw response: {\"id\": \"cmpl-7a3f3706835a48c8b78336cefabfb8f8\", \"object\": \"text_completion\", \"created\": 1747098018, \"model\": \"unsloth/gemma-3-4b-it\", \"choices\": [{\"index\": 0, \"text\": \" a sky bruised with purple and gray. \\n\\n\\u201cI am not a monster,\\u201d the figure continued\", \"logprobs\": {\"text_offset\": [0, 2, 6, 14, 19, 26, 30, 35, 36, 37, 39, 40, 41, 44, 48, 50, 58, 60, 64, 71], \"token_logprobs\": [-0.18208067119121552, -0.19444668292999268, -1.4879424571990967, -0.06231445074081421, -0.029667330905795097, -0.0019359909929335117, -1.9160687923431396, -0.0004182179400231689, -0.154646098613739, -4.1483970562694594e-05, -0.043542973697185516, -0.5078680515289307, -0.4745020866394043, -0.10658290237188339, -0.6573787927627563, -0.02079891227185726, -0.9133192300796509, -0.008691221475601196, -6.317892984952778e-05, -0.5433155298233032], \"tokens\": [\"\\u2581a\", \"\\u2581sky\", \"\\u2581bruised\", \"\\u2581with\", \"\\u2581purple\", \"\\u2581and\", \"\\u2581gray\", \".\", \"\\u2581\", \"\\n\\n\", \"\\u201c\", \"I\", \"\\u2581am\", \"\\u2581not\", \"\\u2581a\", \"\\u2581monster\", \",\\u201d\", \"\\u2581the\", \"\\u2581figure\", \"\\u2581continued\"], \"top_logprobs\": [{\"\\u2581a\": -0.18208067119121552, \"\\u2581the\": -1.807080626487732, \"\\u2581an\": -6.8070807456970215, \"\\u2581only\": -7.0570807456970215, \"\\u2581him\": -8.557080268859863, \"\\u2581just\": -10.557080268859863, \"\\u2581his\": -10.807080268859863, \"\\u2581God\": -10.932080268859863, \"\\u2581not\": -11.307080268859863, \"\\u2581Johnny\": -11.557080268859863, \"\\u2581that\": -11.682080268859863, \",\": -11.807080268859863, \"\\u2581glimpses\": -11.807080268859863, \"\\u2581two\": -11.807080268859863, \"\\u2581stars\": -12.057080268859863, \"\\u2581more\": -12.182080268859863, \"\\u2581\\u2581\": -12.182080268859863, \"\\u2581patches\": -12.682080268859863, \"\\u2581\\u2013\": -12.932080268859863, \"\\u2026\": -12.994580268859863}, {\"\\u2581sky\": -0.19444668292999268, \"\\u2581bruised\": -2.569446563720703, \"\\u2581sli\": -3.194446563720703, \"\\u2581face\": -3.944446563720703, \"\\u2581landscape\": -5.694446563720703, \"\\u2581vast\": -5.94\n",
      "2025-05-13 11:00:13,962 [INFO ] [api_client.api_clien]: Received 20 token strings (finish_reason=length).\n",
      "2025-05-13 11:00:13,963 [WARNI] [validators.slop_phra]: Slop violation: 'revealing' @tok=1033 (char_pos=4377) …ightning retreated, revealing a sky bruised with …\n",
      "2025-05-13 11:00:13,965 [WARNI] [core.sampler        ]: Back-tracking @tok=1033 orig='▁revealing' ban='{'phrase': 'revealing', 'context': 'ightning retreated, revealing a sky bruised with ', 'suppression_detail_key': 'revealing'}'.\n",
      "2025-05-13 11:00:13,965 [INFO ] [state.generation_sta]: GenerationState initialised. Prompt length (chars) = 266\n",
      "2025-05-13 11:00:13,965 [INFO ] [state.generation_sta]: GenerationState initialised. Prompt length (chars) = 266\n",
      "2025-05-13 11:00:13,965 [INFO ] [state.generation_sta]: GenerationState initialised. Prompt length (chars) = 266\n",
      "2025-05-13 11:00:13,965 [INFO ] [state.generation_sta]: GenerationState initialised. Prompt length (chars) = 266\n",
      "2025-05-13 11:00:13,965 [INFO ] [state.generation_sta]: GenerationState initialised. Prompt length (chars) = 266\n",
      "2025-05-13 11:00:13,965 [INFO ] [state.generation_sta]: GenerationState initialised. Prompt length (chars) = 266\n",
      "2025-05-13 11:00:13,965 [INFO ] [state.generation_sta]: GenerationState initialised. Prompt length (chars) = 266\n",
      "2025-05-13 11:00:13,965 [INFO ] [state.generation_sta]: GenerationState initialised. Prompt length (chars) = 266\n",
      "2025-05-13 11:00:13,965 [INFO ] [state.generation_sta]: GenerationState initialised. Prompt length (chars) = 266\n",
      "2025-05-13 11:00:13,966 [INFO ] [state.generation_sta]: GenerationState initialised. Prompt length (chars) = 266\n",
      "2025-05-13 11:00:13,966 [INFO ] [state.generation_sta]: GenerationState initialised. Prompt length (chars) = 266\n",
      "2025-05-13 11:00:13,966 [INFO ] [state.generation_sta]: GenerationState initialised. Prompt length (chars) = 266\n",
      "2025-05-13 11:00:13,966 [INFO ] [state.generation_sta]: GenerationState initialised. Prompt length (chars) = 266\n",
      "2025-05-13 11:00:13,966 [INFO ] [state.generation_sta]: GenerationState initialised. Prompt length (chars) = 266\n",
      "2025-05-13 11:00:13,966 [INFO ] [state.generation_sta]: GenerationState initialised. Prompt length (chars) = 266\n",
      "2025-05-13 11:00:13,966 [INFO ] [state.generation_sta]: GenerationState initialised. Prompt length (chars) = 266\n",
      "2025-05-13 11:00:13,966 [INFO ] [state.generation_sta]: GenerationState initialised. Prompt length (chars) = 266\n",
      "2025-05-13 11:00:13,966 [INFO ] [state.generation_sta]: GenerationState initialised. Prompt length (chars) = 266\n",
      "2025-05-13 11:00:13,966 [INFO ] [state.generation_sta]: GenerationState initialised. Prompt length (chars) = 266\n",
      "2025-05-13 11:00:13,967 [WARNI] [core.sampler        ]:     ✓ replacement='▁leaving' (pool=1, T=0.7, min_p=0.05, top_p=1.0, top_k=50)\n",
      "2025-05-13 11:00:13,967 [DEBUG] [root                ]: BANNED (prompt_idx=0, type=slop_phrase, phrase='revealing' @ orig_token='▁revealing' ...'ightning retreated, revealing a sky bruised with'...)\n",
      "2025-05-13 11:00:13,967 [DEBUG] [api_client.api_clien]: POST https://ncfi2yswjottwq-8888.proxy.runpod.net/v1/completions\n",
      "2025-05-13 11:00:13,967 [DEBUG] [api_client.api_clien]: Payload: {\"model\": \"unsloth/gemma-3-4b-it\", \"prompt\": \"<bos><start_of_turn>user\\nWriting prompt: After defeating the Devil down in Georgia, Johnny proudly proclaims he's the best that's ever been. A flash of lightning crashes down and God appears, fiddle in hand. The Devil gets his popcorn ready.\\n\\nWrite 1000 words to this prompt. Your response:\\n<end_of_turn>\\n<start_of_turn>model\\nThe rain in Georgia was a greasy, insistent thing, clinging to everything with the stubbornness of regret. It mirrored the\n",
      "2025-05-13 11:00:14,723 [DEBUG] [urllib3.connectionpo]: https://ncfi2yswjottwq-8888.proxy.runpod.net:443 \"POST /v1/completions HTTP/1.1\" 200 None\n",
      "2025-05-13 11:00:14,788 [DEBUG] [api_client.api_clien]: Raw response: {\"id\": \"cmpl-e9b3b401a8434af7b060e0b0ecd08a3f\", \"object\": \"text_completion\", \"created\": 1747098019, \"model\": \"unsloth/gemma-3-4b-it\", \"choices\": [{\"index\": 0, \"text\": \" behind a lingering scent of ozone and something else\\u2026 something ancient and bittersweet.\\n\\n\\u201cI am not\", \"logprobs\": {\"text_offset\": [0, 7, 9, 19, 25, 28, 34, 38, 48, 53, 54, 64, 72, 76, 88, 89, 91, 92, 93, 96], \"token_logprobs\": [-0.9178569316864014, -0.3220854699611664, -2.18837308883667, -1.0338795185089111, -5.960462772236497e-07, -0.00021169328829273582, -0.014166152104735374, -0.032737184315919876, -0.33384957909584045, -0.3083907961845398, -0.00323796016164124, -0.2595483064651489, -0.004219201859086752, -2.7832345962524414, -0.004215046763420105, -1.5036084651947021, -0.039061449468135834, -0.5391204357147217, -0.4678296446800232, -0.17262814939022064], \"tokens\": [\"\\u2581behind\", \"\\u2581a\", \"\\u2581lingering\", \"\\u2581scent\", \"\\u2581of\", \"\\u2581ozone\", \"\\u2581and\", \"\\u2581something\", \"\\u2581else\", \"\\u2026\", \"\\u2581something\", \"\\u2581ancient\", \"\\u2581and\", \"\\u2581bittersweet\", \".\", \"\\n\\n\", \"\\u201c\", \"I\", \"\\u2581am\", \"\\u2581not\"], \"top_logprobs\": [{\"\\u2581behind\": -0.9178569316864014, \"\\u2581only\": -1.0428569316864014, \"\\u2581the\": -1.7928569316864014, \"\\u2581a\": -2.5428569316864014, \"\\u2581an\": -6.4178571701049805, \"\\u2581just\": -6.7928571701049805, \"\\u2581them\": -8.79285717010498, \"\\u2581him\": -9.91785717010498, \"\\u2581Johnny\": -10.41785717010498, \"\\u2581nothing\": -11.29285717010498, \"\\u2581streaks\": -11.54285717010498, \"\\u2581everything\": -11.91785717010498, \"\\u2581in\": -12.04285717010498, \"\\u2581Black\": -12.04285717010498, \"\\u2581\\u2581\": -12.29285717010498, \"\\u2581lingering\": -12.79285717010498, \"\\u2581after\": -13.29285717010498, \"\\u2581darkness\": -13.29285717010498, \"\\u2581pockets\": -13.66785717010498, \"\\u2581patches\": -13.79285717010498}, {\"\\u2581a\": -0.3220854699611664, \"\\u2581only\": -1.8220854997634888, \"\\u2581an\": -2.197085380554199, \"\\u2581the\": -6.072085380554199, \"\\u2581just\n",
      "2025-05-13 11:00:14,788 [INFO ] [api_client.api_clien]: Received 20 token strings (finish_reason=length).\n",
      "2025-05-13 11:00:14,789 [WARNI] [validators.slop_phra]: Slop violation: 'scent' @tok=1037 (char_pos=4404) … behind a lingering scent of ozone and someth…\n",
      "2025-05-13 11:00:14,791 [WARNI] [validators.ngram_val]: NGram violation: 'leaving behind' (stopwords_removed=True) @tok=1033 (char_pos=4377). Context: ... and the lightning retreated, leaving behind a lingering scent of ozone an...\n",
      "2025-05-13 11:00:14,791 [WARNI] [core.sampler        ]: Back-tracking @tok=1033 orig='▁leaving' ban='{'ngram_tuple': ['leaving', 'behind'], 'ngram_string': 'leaving behind', 'remove_stopwords_active': True, 'context': ' and the lightning retreated, leaving behind a lingering scent of ozone an', 'suppression_detail_key': 'leaving behind (stopwords_removed=True)'}'.\n",
      "2025-05-13 11:00:14,791 [INFO ] [state.generation_sta]: GenerationState initialised. Prompt length (chars) = 266\n",
      "2025-05-13 11:00:14,791 [INFO ] [state.generation_sta]: GenerationState initialised. Prompt length (chars) = 266\n",
      "2025-05-13 11:00:14,791 [INFO ] [state.generation_sta]: GenerationState initialised. Prompt length (chars) = 266\n",
      "2025-05-13 11:00:14,791 [INFO ] [state.generation_sta]: GenerationState initialised. Prompt length (chars) = 266\n",
      "2025-05-13 11:00:14,791 [INFO ] [state.generation_sta]: GenerationState initialised. Prompt length (chars) = 266\n",
      "2025-05-13 11:00:14,791 [INFO ] [state.generation_sta]: GenerationState initialised. Prompt length (chars) = 266\n",
      "2025-05-13 11:00:14,791 [INFO ] [state.generation_sta]: GenerationState initialised. Prompt length (chars) = 266\n",
      "2025-05-13 11:00:14,791 [INFO ] [state.generation_sta]: GenerationState initialised. Prompt length (chars) = 266\n",
      "2025-05-13 11:00:14,791 [INFO ] [state.generation_sta]: GenerationState initialised. Prompt length (chars) = 266\n",
      "2025-05-13 11:00:14,791 [INFO ] [state.generation_sta]: GenerationState initialised. Prompt length (chars) = 266\n",
      "2025-05-13 11:00:14,791 [INFO ] [state.generation_sta]: GenerationState initialised. Prompt length (chars) = 266\n",
      "2025-05-13 11:00:14,791 [INFO ] [state.generation_sta]: GenerationState initialised. Prompt length (chars) = 266\n",
      "2025-05-13 11:00:14,791 [INFO ] [state.generation_sta]: GenerationState initialised. Prompt length (chars) = 266\n",
      "2025-05-13 11:00:14,791 [INFO ] [state.generation_sta]: GenerationState initialised. Prompt length (chars) = 266\n",
      "2025-05-13 11:00:14,791 [INFO ] [state.generation_sta]: GenerationState initialised. Prompt length (chars) = 266\n",
      "2025-05-13 11:00:14,791 [INFO ] [state.generation_sta]: GenerationState initialised. Prompt length (chars) = 266\n",
      "2025-05-13 11:00:14,791 [INFO ] [state.generation_sta]: GenerationState initialised. Prompt length (chars) = 266\n",
      "2025-05-13 11:00:14,791 [INFO ] [state.generation_sta]: GenerationState initialised. Prompt length (chars) = 266\n",
      "2025-05-13 11:00:14,792 [WARNI] [core.sampler        ]:     ✓ replacement='▁allowing' (pool=13, T=0.7, min_p=0.05, top_p=1.0, top_k=50)\n",
      "2025-05-13 11:00:14,793 [DEBUG] [root                ]: BANNED (prompt_idx=0, type=ngram, ngram='leaving behind' (stopwords_removed=True) @ orig_token='▁leaving' ...'and the lightning retreated, leaving behind a lingering scent of ozone an'...)\n",
      "2025-05-13 11:00:14,793 [DEBUG] [api_client.api_clien]: POST https://ncfi2yswjottwq-8888.proxy.runpod.net/v1/completions\n",
      "2025-05-13 11:00:14,793 [DEBUG] [api_client.api_clien]: Payload: {\"model\": \"unsloth/gemma-3-4b-it\", \"prompt\": \"<bos><start_of_turn>user\\nWriting prompt: After defeating the Devil down in Georgia, Johnny proudly proclaims he's the best that's ever been. A flash of lightning crashes down and God appears, fiddle in hand. The Devil gets his popcorn ready.\\n\\nWrite 1000 words to this prompt. Your response:\\n<end_of_turn>\\n<start_of_turn>model\\nThe rain in Georgia was a greasy, insistent thing, clinging to everything with the stubbornness of regret. It mirrored the\n",
      "2025-05-13 11:00:15,363 [DEBUG] [urllib3.connectionpo]: https://ncfi2yswjottwq-8888.proxy.runpod.net:443 \"POST /v1/completions HTTP/1.1\" 200 None\n",
      "2025-05-13 11:00:15,528 [DEBUG] [api_client.api_clien]: Raw response: {\"id\": \"cmpl-516133d70ff1462387c2b663453a8a45\", \"object\": \"text_completion\", \"created\": 1747098020, \"model\": \"unsloth/gemma-3-4b-it\", \"choices\": [{\"index\": 0, \"text\": \" a sliver of pale sunlight to pierce through the clouds. \\n\\n\\u201cI am not inherently evil\", \"logprobs\": {\"text_offset\": [0, 2, 6, 9, 12, 17, 26, 29, 36, 44, 48, 55, 56, 57, 59, 60, 61, 64, 68, 79], \"token_logprobs\": [-0.19402152299880981, -0.2014141082763672, -2.0265558760002023e-06, -1.1920928244535389e-07, -0.6500883102416992, -1.5365046262741089, -9.536697689327411e-06, -0.6209016442298889, -0.12692804634571075, -3.814689989667386e-06, -0.012243825942277908, -0.0020378315821290016, -0.1495075821876526, -3.194758028257638e-05, -0.055674489587545395, -0.6275129914283752, -0.5198168158531189, -0.10336849093437195, -1.2707881927490234, -0.0019779896829277277], \"tokens\": [\"\\u2581a\", \"\\u2581sli\", \"ver\", \"\\u2581of\", \"\\u2581pale\", \"\\u2581sunlight\", \"\\u2581to\", \"\\u2581pierce\", \"\\u2581through\", \"\\u2581the\", \"\\u2581clouds\", \".\", \"\\u2581\", \"\\n\\n\", \"\\u201c\", \"I\", \"\\u2581am\", \"\\u2581not\", \"\\u2581inherently\", \"\\u2581evil\"], \"top_logprobs\": [{\"\\u2581a\": -0.19402152299880981, \"\\u2581the\": -2.069021463394165, \"\\u2581sli\": -3.444021463394165, \"\\u2581shafts\": -4.444021701812744, \"\\u2581glimpses\": -6.569021701812744, \"\\u2581patches\": -6.819021701812744, \"\\u2581only\": -6.944021701812744, \"\\u2581dapp\": -7.944021701812744, \"\\u2581moonlight\": -8.069021224975586, \"\\u2581pale\": -8.319021224975586, \"\\u2581faint\": -8.444021224975586, \"\\u2581an\": -8.569021224975586, \"\\u2581fragments\": -8.694021224975586, \"\\u2581fractured\": -8.819021224975586, \"\\u2581just\": -8.944021224975586, \"\\u2581hesitant\": -9.194021224975586, \"\\u2581weak\": -9.444021224975586, \"\\u2581pockets\": -9.569021224975586, \"\\u2581snippets\": -9.569021224975586, \"\\u2581shards\": -9.569021224975586}, {\"\\u2581sli\": -0.2014141082763672, \"\\u2581single\": -1.8264141082763672, \"\\u2581hesitant\": -4.951414108276367, \"\\u2581weak\": -5.701414108276367, \"\\u2581shaft\": -5.9514141082\n",
      "2025-05-13 11:00:15,529 [INFO ] [api_client.api_clien]: Received 20 token strings (finish_reason=length).\n",
      "2025-05-13 11:00:15,529 [WARNI] [validators.slop_phra]: Slop violation: 'pale' @tok=1038 (char_pos=4398) …llowing a sliver of pale sunlight to pierce …\n",
      "2025-05-13 11:00:15,531 [WARNI] [core.sampler        ]: Back-tracking @tok=1038 orig='▁pale' ban='{'phrase': 'pale', 'context': 'llowing a sliver of pale sunlight to pierce ', 'suppression_detail_key': 'pale'}'.\n",
      "2025-05-13 11:00:15,531 [INFO ] [state.generation_sta]: GenerationState initialised. Prompt length (chars) = 266\n",
      "2025-05-13 11:00:15,531 [INFO ] [state.generation_sta]: GenerationState initialised. Prompt length (chars) = 266\n",
      "2025-05-13 11:00:15,531 [INFO ] [state.generation_sta]: GenerationState initialised. Prompt length (chars) = 266\n",
      "2025-05-13 11:00:15,531 [INFO ] [state.generation_sta]: GenerationState initialised. Prompt length (chars) = 266\n",
      "2025-05-13 11:00:15,532 [INFO ] [state.generation_sta]: GenerationState initialised. Prompt length (chars) = 266\n",
      "2025-05-13 11:00:15,532 [INFO ] [state.generation_sta]: GenerationState initialised. Prompt length (chars) = 266\n",
      "2025-05-13 11:00:15,532 [INFO ] [state.generation_sta]: GenerationState initialised. Prompt length (chars) = 266\n",
      "2025-05-13 11:00:15,532 [INFO ] [state.generation_sta]: GenerationState initialised. Prompt length (chars) = 266\n",
      "2025-05-13 11:00:15,532 [INFO ] [state.generation_sta]: GenerationState initialised. Prompt length (chars) = 266\n",
      "2025-05-13 11:00:15,532 [INFO ] [state.generation_sta]: GenerationState initialised. Prompt length (chars) = 266\n",
      "2025-05-13 11:00:15,532 [INFO ] [state.generation_sta]: GenerationState initialised. Prompt length (chars) = 266\n",
      "2025-05-13 11:00:15,532 [INFO ] [state.generation_sta]: GenerationState initialised. Prompt length (chars) = 266\n",
      "2025-05-13 11:00:15,532 [INFO ] [state.generation_sta]: GenerationState initialised. Prompt length (chars) = 266\n",
      "2025-05-13 11:00:15,532 [INFO ] [state.generation_sta]: GenerationState initialised. Prompt length (chars) = 266\n",
      "2025-05-13 11:00:15,532 [INFO ] [state.generation_sta]: GenerationState initialised. Prompt length (chars) = 266\n",
      "2025-05-13 11:00:15,532 [INFO ] [state.generation_sta]: GenerationState initialised. Prompt length (chars) = 266\n",
      "2025-05-13 11:00:15,532 [INFO ] [state.generation_sta]: GenerationState initialised. Prompt length (chars) = 266\n",
      "2025-05-13 11:00:15,532 [INFO ] [state.generation_sta]: GenerationState initialised. Prompt length (chars) = 266\n",
      "2025-05-13 11:00:15,532 [INFO ] [state.generation_sta]: GenerationState initialised. Prompt length (chars) = 266\n",
      "2025-05-13 11:00:15,533 [WARNI] [core.sampler        ]:     ✓ replacement='▁moonlight' (pool=1, T=0.7, min_p=0.05, top_p=1.0, top_k=50)\n",
      "2025-05-13 11:00:15,533 [DEBUG] [root                ]: BANNED (prompt_idx=0, type=slop_phrase, phrase='pale' @ orig_token='▁pale' ...'llowing a sliver of pale sunlight to pierce'...)\n",
      "2025-05-13 11:00:15,533 [DEBUG] [api_client.api_clien]: POST https://ncfi2yswjottwq-8888.proxy.runpod.net/v1/completions\n",
      "2025-05-13 11:00:15,533 [DEBUG] [api_client.api_clien]: Payload: {\"model\": \"unsloth/gemma-3-4b-it\", \"prompt\": \"<bos><start_of_turn>user\\nWriting prompt: After defeating the Devil down in Georgia, Johnny proudly proclaims he's the best that's ever been. A flash of lightning crashes down and God appears, fiddle in hand. The Devil gets his popcorn ready.\\n\\nWrite 1000 words to this prompt. Your response:\\n<end_of_turn>\\n<start_of_turn>model\\nThe rain in Georgia was a greasy, insistent thing, clinging to everything with the stubbornness of regret. It mirrored the\n"
     ]
    },
    {
     "name": "stdout",
     "output_type": "stream",
     "text": [
      "Batch Generating:   0%|          | 0/1 [00:55<?, ?prompt/s, 19.3 tok/s]"
     ]
    },
    {
     "name": "stderr",
     "output_type": "stream",
     "text": [
      "2025-05-13 11:00:16,106 [DEBUG] [urllib3.connectionpo]: https://ncfi2yswjottwq-8888.proxy.runpod.net:443 \"POST /v1/completions HTTP/1.1\" 200 None\n",
      "2025-05-13 11:00:16,270 [DEBUG] [api_client.api_clien]: Raw response: {\"id\": \"cmpl-53a1d73c014d4d7cbdfa482d393d2d05\", \"object\": \"text_completion\", \"created\": 1747098021, \"model\": \"unsloth/gemma-3-4b-it\", \"choices\": [{\"index\": 0, \"text\": \" to pierce through the clouds. \\n\\n\\u201cI am not inherently evil, Johnny,\\u201d the figure explained\", \"logprobs\": {\"text_offset\": [0, 3, 10, 18, 22, 29, 30, 31, 33, 34, 35, 38, 42, 53, 58, 59, 66, 68, 72, 79], \"token_logprobs\": [-1.3232143828645349e-05, -0.598900556564331, -0.2014133334159851, -4.172316494077677e-06, -0.019223691895604134, -0.007653083186596632, -0.16336996853351593, -3.6238969187252223e-05, -0.049163684248924255, -0.44541245698928833, -0.44594037532806396, -0.13797405362129211, -1.3558757305145264, -0.001979774096980691, -0.479813814163208, -0.20360656082630157, -0.49952226877212524, -0.05500597506761551, -8.737658936297521e-05, -1.76641047000885], \"tokens\": [\"\\u2581to\", \"\\u2581pierce\", \"\\u2581through\", \"\\u2581the\", \"\\u2581clouds\", \".\", \"\\u2581\", \"\\n\\n\", \"\\u201c\", \"I\", \"\\u2581am\", \"\\u2581not\", \"\\u2581inherently\", \"\\u2581evil\", \",\", \"\\u2581Johnny\", \",\\u201d\", \"\\u2581the\", \"\\u2581figure\", \"\\u2581explained\"], \"top_logprobs\": [{\"\\u2581to\": -1.3232143828645349e-05, \"\\u2581through\": -12.00001335144043, \"\\u2581\\u2013\": -12.62501335144043, \",\": -12.87501335144043, \"\\u2581peek\": -14.50001335144043, \"\\u2581-\": -15.62501335144043, \"\\u2581pe\": -15.75001335144043, \"\\u2581break\": -16.00001335144043, \"\\u2581pierce\": -16.62501335144043, \"\\u2581\\u2581\": -16.87501335144043, \"\\u2014\": -17.25001335144043, \"\\u2581filtering\": -17.75001335144043, \"\\u2581finally\": -17.87501335144043, \"\\u2581briefly\": -18.87501335144043, \"\\u2581from\": -19.00001335144043, \"\\u2581piercing\": -19.25001335144043, \"\\u2581breaking\": -19.50001335144043, \"\\u2581penetrate\": -19.62501335144043, \"\\u2581and\": -19.87501335144043, \"\\u2581in\": -19.87501335144043}, {\"\\u2581pierce\": -0.598900556564331, \"\\u2581break\": -1.098900556564331, \"\\u2581peek\": -2.848900556564331, \"\\u2581penetrate\": -2.848900556564331, \"\\u2581filter\": -7.2239007949829\n",
      "2025-05-13 11:00:16,270 [INFO ] [api_client.api_clien]: Received 20 token strings (finish_reason=length).\n",
      "2025-05-13 11:00:16,274 [DEBUG] [api_client.api_clien]: POST https://ncfi2yswjottwq-8888.proxy.runpod.net/v1/completions\n",
      "2025-05-13 11:00:16,274 [DEBUG] [api_client.api_clien]: Payload: {\"model\": \"unsloth/gemma-3-4b-it\", \"prompt\": \"<bos><start_of_turn>user\\nWriting prompt: After defeating the Devil down in Georgia, Johnny proudly proclaims he's the best that's ever been. A flash of lightning crashes down and God appears, fiddle in hand. The Devil gets his popcorn ready.\\n\\nWrite 1000 words to this prompt. Your response:\\n<end_of_turn>\\n<start_of_turn>model\\nThe rain in Georgia was a greasy, insistent thing, clinging to everything with the stubbornness of regret. It mirrored the\n"
     ]
    },
    {
     "name": "stdout",
     "output_type": "stream",
     "text": [
      "Batch Generating:   0%|          | 0/1 [00:56<?, ?prompt/s, 19.4 tok/s]"
     ]
    },
    {
     "name": "stderr",
     "output_type": "stream",
     "text": [
      "2025-05-13 11:00:16,851 [DEBUG] [urllib3.connectionpo]: https://ncfi2yswjottwq-8888.proxy.runpod.net:443 \"POST /v1/completions HTTP/1.1\" 200 None\n",
      "2025-05-13 11:00:16,914 [DEBUG] [api_client.api_clien]: Raw response: {\"id\": \"cmpl-2f3d9abc51f14e57a8653220600a9281\", \"object\": \"text_completion\", \"created\": 1747098021, \"model\": \"unsloth/gemma-3-4b-it\", \"choices\": [{\"index\": 0, \"text\": \", his gaze fixed on Johnny. \\u201cI am simply\\u2026 consequence. I embody the choices made,\", \"logprobs\": {\"text_offset\": [0, 1, 5, 10, 16, 19, 26, 27, 29, 30, 33, 40, 41, 53, 54, 56, 63, 67, 75, 80], \"token_logprobs\": [-0.062189552932977676, -0.24162089824676514, -0.4882132411003113, -0.6327127814292908, -0.0071436697617173195, -1.6057125329971313, -0.3910612165927887, -0.0916188508272171, -0.024711430072784424, -0.17394603788852692, -1.091423749923706, -0.09230182319879532, -1.1028873920440674, -0.00011121608258690685, -0.06741077452898026, -1.4452292919158936, -0.001997025217860937, -0.8242013454437256, -2.4570400714874268, -0.020963406190276146], \"tokens\": [\",\", \"\\u2581his\", \"\\u2581gaze\", \"\\u2581fixed\", \"\\u2581on\", \"\\u2581Johnny\", \".\", \"\\u2581\\u201c\", \"I\", \"\\u2581am\", \"\\u2581simply\", \"\\u2026\", \"\\u2581consequence\", \".\", \"\\u2581I\", \"\\u2581embody\", \"\\u2581the\", \"\\u2581choices\", \"\\u2581made\", \",\"], \"top_logprobs\": [{\",\": -0.062189552932977676, \".\": -2.8121895790100098, \"\\u2581slowly\": -8.687189102172852, \"\\u2581patiently\": -10.812189102172852, \"\\u2581quietly\": -11.562189102172852, \"\\u2581softly\": -11.937189102172852, \"\\u2581gently\": -12.062189102172852, \"\\u2581calmly\": -12.562189102172852, \"\\u2581with\": -12.687189102172852, \"\\u2581\\u2013\": -12.937189102172852, \"\\u2581gravely\": -14.437189102172852, \"\\u2581solemnly\": -14.562189102172852, \"\\u2581his\": -15.187189102172852, \"\\u2581sadly\": -15.437189102172852, \"\\u2581as\": -15.562189102172852, \"\\u2581simply\": -16.06218910217285, \"\\u2014\": -16.31218910217285, \"\\u2581carefully\": -16.93718910217285, \"\\u2581-\": -17.06218910217285, \"\\u2581\\u2581\": -17.18718910217285}, {\"\\u2581his\": -0.24162089824676514, \"\\u2581turning\": -2.1166210174560547, \"\\u2581stepping\": -3.1166210174560547, \"\\u2581tilting\": -3.9916210174560547, \"\\u2581looking\": -4.491621017456055, \"\\u2581ges\n",
      "2025-05-13 11:00:16,914 [INFO ] [api_client.api_clien]: Received 20 token strings (finish_reason=length).\n",
      "2025-05-13 11:00:16,915 [WARNI] [validators.slop_phra]: Slop violation: 'gaze' @tok=1061 (char_pos=4502) …gure explained, his gaze fixed on Johnny. “I…\n",
      "2025-05-13 11:00:16,917 [WARNI] [validators.ngram_val]: NGram violation: 'gaze fixed' (stopwords_removed=True) @tok=1061 (char_pos=4502). Context: ...y,” the figure explained, his gaze fixed on Johnny. “I am simply… cons...\n",
      "2025-05-13 11:00:16,917 [WARNI] [core.sampler        ]: Back-tracking @tok=1061 orig='▁gaze' ban='{'phrase': 'gaze', 'context': 'gure explained, his gaze fixed on Johnny. “I', 'suppression_detail_key': 'gaze'}'.\n",
      "2025-05-13 11:00:16,917 [INFO ] [state.generation_sta]: GenerationState initialised. Prompt length (chars) = 266\n",
      "2025-05-13 11:00:16,917 [INFO ] [state.generation_sta]: GenerationState initialised. Prompt length (chars) = 266\n",
      "2025-05-13 11:00:16,917 [INFO ] [state.generation_sta]: GenerationState initialised. Prompt length (chars) = 266\n",
      "2025-05-13 11:00:16,917 [INFO ] [state.generation_sta]: GenerationState initialised. Prompt length (chars) = 266\n",
      "2025-05-13 11:00:16,917 [INFO ] [state.generation_sta]: GenerationState initialised. Prompt length (chars) = 266\n",
      "2025-05-13 11:00:16,917 [INFO ] [state.generation_sta]: GenerationState initialised. Prompt length (chars) = 266\n",
      "2025-05-13 11:00:16,917 [INFO ] [state.generation_sta]: GenerationState initialised. Prompt length (chars) = 266\n",
      "2025-05-13 11:00:16,917 [INFO ] [state.generation_sta]: GenerationState initialised. Prompt length (chars) = 266\n",
      "2025-05-13 11:00:16,917 [INFO ] [state.generation_sta]: GenerationState initialised. Prompt length (chars) = 266\n",
      "2025-05-13 11:00:16,917 [INFO ] [state.generation_sta]: GenerationState initialised. Prompt length (chars) = 266\n",
      "2025-05-13 11:00:16,917 [INFO ] [state.generation_sta]: GenerationState initialised. Prompt length (chars) = 266\n",
      "2025-05-13 11:00:16,917 [INFO ] [state.generation_sta]: GenerationState initialised. Prompt length (chars) = 266\n",
      "2025-05-13 11:00:16,917 [INFO ] [state.generation_sta]: GenerationState initialised. Prompt length (chars) = 266\n",
      "2025-05-13 11:00:16,917 [INFO ] [state.generation_sta]: GenerationState initialised. Prompt length (chars) = 266\n",
      "2025-05-13 11:00:16,917 [INFO ] [state.generation_sta]: GenerationState initialised. Prompt length (chars) = 266\n",
      "2025-05-13 11:00:16,917 [INFO ] [state.generation_sta]: GenerationState initialised. Prompt length (chars) = 266\n",
      "2025-05-13 11:00:16,917 [INFO ] [state.generation_sta]: GenerationState initialised. Prompt length (chars) = 266\n",
      "2025-05-13 11:00:16,918 [INFO ] [state.generation_sta]: GenerationState initialised. Prompt length (chars) = 266\n",
      "2025-05-13 11:00:16,918 [INFO ] [state.generation_sta]: GenerationState initialised. Prompt length (chars) = 266\n",
      "2025-05-13 11:00:16,918 [WARNI] [core.sampler        ]:     ✓ replacement='▁eyes' (pool=1, T=0.7, min_p=0.05, top_p=1.0, top_k=50)\n",
      "2025-05-13 11:00:16,919 [DEBUG] [root                ]: BANNED (prompt_idx=0, type=slop_phrase, phrase='gaze' @ orig_token='▁gaze' ...'gure explained, his gaze fixed on Johnny. “I'...)\n",
      "2025-05-13 11:00:16,919 [DEBUG] [api_client.api_clien]: POST https://ncfi2yswjottwq-8888.proxy.runpod.net/v1/completions\n",
      "2025-05-13 11:00:16,919 [DEBUG] [api_client.api_clien]: Payload: {\"model\": \"unsloth/gemma-3-4b-it\", \"prompt\": \"<bos><start_of_turn>user\\nWriting prompt: After defeating the Devil down in Georgia, Johnny proudly proclaims he's the best that's ever been. A flash of lightning crashes down and God appears, fiddle in hand. The Devil gets his popcorn ready.\\n\\nWrite 1000 words to this prompt. Your response:\\n<end_of_turn>\\n<start_of_turn>model\\nThe rain in Georgia was a greasy, insistent thing, clinging to everything with the stubbornness of regret. It mirrored the\n"
     ]
    },
    {
     "name": "stdout",
     "output_type": "stream",
     "text": [
      "Batch Generating:   0%|          | 0/1 [00:56<?, ?prompt/s, 19.3 tok/s]"
     ]
    },
    {
     "name": "stderr",
     "output_type": "stream",
     "text": [
      "2025-05-13 11:00:17,490 [DEBUG] [urllib3.connectionpo]: https://ncfi2yswjottwq-8888.proxy.runpod.net:443 \"POST /v1/completions HTTP/1.1\" 200 None\n",
      "2025-05-13 11:00:17,552 [DEBUG] [api_client.api_clien]: Raw response: {\"id\": \"cmpl-0fc3f5c98be14aa38d55c103e86df5d0\", \"object\": \"text_completion\", \"created\": 1747098022, \"model\": \"unsloth/gemma-3-4b-it\", \"choices\": [{\"index\": 0, \"text\": \" \\u2013 ancient, luminous, and filled with a profound sadness \\u2013 fixed on the young man. \\u201cI\", \"logprobs\": {\"text_offset\": [0, 2, 10, 11, 20, 21, 25, 32, 37, 39, 48, 56, 58, 64, 67, 71, 77, 81, 82, 84], \"token_logprobs\": [-0.5061874985694885, -2.234714984893799, -0.7267856001853943, -2.3202719688415527, -0.21301351487636566, -0.031529225409030914, -0.6054571270942688, -3.576278118089249e-07, -0.9808971881866455, -0.10940219461917877, -0.004521384835243225, -0.012663546949625015, -0.05535297468304634, -0.002017725957557559, -0.8123922944068909, -1.1055740118026733, -0.007372553460299969, -0.004390481859445572, -0.050026293843984604, -0.042268358170986176], \"tokens\": [\"\\u2581\\u2013\", \"\\u2581ancient\", \",\", \"\\u2581luminous\", \",\", \"\\u2581and\", \"\\u2581filled\", \"\\u2581with\", \"\\u2581a\", \"\\u2581profound\", \"\\u2581sadness\", \"\\u2581\\u2013\", \"\\u2581fixed\", \"\\u2581on\", \"\\u2581the\", \"\\u2581young\", \"\\u2581man\", \".\", \"\\u2581\\u201c\", \"I\"], \"top_logprobs\": [{\"\\u2581\\u2013\": -0.5061874985694885, \",\": -1.0061874389648438, \"\\u2581-\": -4.256187438964844, \"\\u2014\": -5.131187438964844, \"\\u2581seeming\": -5.506187438964844, \"\\u2581fixed\": -5.631187438964844, \"\\u2581holding\": -7.006187438964844, \"\\u2581seemingly\": -7.381187438964844, \"\\u2581finally\": -7.756187438964844, \"\\u2581now\": -7.881187438964844, \"\\u2581radiating\": -8.506187438964844, \"\\u2581filled\": -9.006187438964844, \"\\u2581(\": -9.006187438964844, \"\\u2581reflecting\": -9.131187438964844, \"\\u2026\": -9.256187438964844, \"\\u2581suddenly\": -9.381187438964844, \"\\u2581distant\": -9.881187438964844, \"\\u2581meeting\": -9.881187438964844, \"\\u2581fixing\": -10.006187438964844, \"\\u2581scanning\": -10.006187438964844}, {\"\\u2581ancient\": -2.234714984893799, \"\\u2581if\": -0.9847151041030884, \"\\u2581imposs\": -1.6097151041030884, \"\\u2581which\": -2.734714984893799, \"\\u2581the\": -3.3597\n",
      "2025-05-13 11:00:17,552 [INFO ] [api_client.api_clien]: Received 20 token strings (finish_reason=length).\n",
      "2025-05-13 11:00:17,553 [WARNI] [validators.slop_phra]: Slop violation: 'profound' @tok=1071 (char_pos=4546) …, and filled with a profound sadness – fixed on …\n",
      "2025-05-13 11:00:17,556 [WARNI] [core.sampler        ]: Back-tracking @tok=1071 orig='▁profound' ban='{'phrase': 'profound', 'context': ', and filled with a profound sadness – fixed on ', 'suppression_detail_key': 'profound'}'.\n",
      "2025-05-13 11:00:17,556 [INFO ] [state.generation_sta]: GenerationState initialised. Prompt length (chars) = 266\n",
      "2025-05-13 11:00:17,556 [INFO ] [state.generation_sta]: GenerationState initialised. Prompt length (chars) = 266\n",
      "2025-05-13 11:00:17,556 [INFO ] [state.generation_sta]: GenerationState initialised. Prompt length (chars) = 266\n",
      "2025-05-13 11:00:17,556 [INFO ] [state.generation_sta]: GenerationState initialised. Prompt length (chars) = 266\n",
      "2025-05-13 11:00:17,556 [INFO ] [state.generation_sta]: GenerationState initialised. Prompt length (chars) = 266\n",
      "2025-05-13 11:00:17,556 [INFO ] [state.generation_sta]: GenerationState initialised. Prompt length (chars) = 266\n",
      "2025-05-13 11:00:17,556 [INFO ] [state.generation_sta]: GenerationState initialised. Prompt length (chars) = 266\n",
      "2025-05-13 11:00:17,556 [INFO ] [state.generation_sta]: GenerationState initialised. Prompt length (chars) = 266\n",
      "2025-05-13 11:00:17,556 [INFO ] [state.generation_sta]: GenerationState initialised. Prompt length (chars) = 266\n",
      "2025-05-13 11:00:17,556 [INFO ] [state.generation_sta]: GenerationState initialised. Prompt length (chars) = 266\n",
      "2025-05-13 11:00:17,556 [INFO ] [state.generation_sta]: GenerationState initialised. Prompt length (chars) = 266\n",
      "2025-05-13 11:00:17,556 [INFO ] [state.generation_sta]: GenerationState initialised. Prompt length (chars) = 266\n",
      "2025-05-13 11:00:17,556 [INFO ] [state.generation_sta]: GenerationState initialised. Prompt length (chars) = 266\n",
      "2025-05-13 11:00:17,556 [INFO ] [state.generation_sta]: GenerationState initialised. Prompt length (chars) = 266\n",
      "2025-05-13 11:00:17,556 [INFO ] [state.generation_sta]: GenerationState initialised. Prompt length (chars) = 266\n",
      "2025-05-13 11:00:17,556 [INFO ] [state.generation_sta]: GenerationState initialised. Prompt length (chars) = 266\n",
      "2025-05-13 11:00:17,556 [INFO ] [state.generation_sta]: GenerationState initialised. Prompt length (chars) = 266\n",
      "2025-05-13 11:00:17,556 [INFO ] [state.generation_sta]: GenerationState initialised. Prompt length (chars) = 266\n",
      "2025-05-13 11:00:17,556 [INFO ] [state.generation_sta]: GenerationState initialised. Prompt length (chars) = 266\n",
      "2025-05-13 11:00:17,557 [WARNI] [core.sampler        ]:     ✓ replacement='▁weary' (pool=4, T=0.7, min_p=0.05, top_p=1.0, top_k=50)\n",
      "2025-05-13 11:00:17,557 [DEBUG] [root                ]: BANNED (prompt_idx=0, type=slop_phrase, phrase='profound' @ orig_token='▁profound' ...', and filled with a profound sadness – fixed on'...)\n",
      "2025-05-13 11:00:17,558 [DEBUG] [api_client.api_clien]: POST https://ncfi2yswjottwq-8888.proxy.runpod.net/v1/completions\n",
      "2025-05-13 11:00:17,558 [DEBUG] [api_client.api_clien]: Payload: {\"model\": \"unsloth/gemma-3-4b-it\", \"prompt\": \"<bos><start_of_turn>user\\nWriting prompt: After defeating the Devil down in Georgia, Johnny proudly proclaims he's the best that's ever been. A flash of lightning crashes down and God appears, fiddle in hand. The Devil gets his popcorn ready.\\n\\nWrite 1000 words to this prompt. Your response:\\n<end_of_turn>\\n<start_of_turn>model\\nThe rain in Georgia was a greasy, insistent thing, clinging to everything with the stubbornness of regret. It mirrored the\n"
     ]
    },
    {
     "name": "stdout",
     "output_type": "stream",
     "text": [
      "Batch Generating:   0%|          | 0/1 [00:57<?, ?prompt/s, 19.2 tok/s]"
     ]
    },
    {
     "name": "stderr",
     "output_type": "stream",
     "text": [
      "2025-05-13 11:00:18,134 [DEBUG] [urllib3.connectionpo]: https://ncfi2yswjottwq-8888.proxy.runpod.net:443 \"POST /v1/completions HTTP/1.1\" 200 None\n",
      "2025-05-13 11:00:18,196 [DEBUG] [api_client.api_clien]: Raw response: {\"id\": \"cmpl-b2142eda9388406b8bde223080b9180a\", \"object\": \"text_completion\", \"created\": 1747098023, \"model\": \"unsloth/gemma-3-4b-it\", \"choices\": [{\"index\": 0, \"text\": \" sadness \\u2013 fixed on the bounty hunter. \\u201cI am\\u2026 a consequence. A reflection of the darkness\", \"logprobs\": {\"text_offset\": [0, 8, 10, 16, 19, 23, 30, 37, 38, 40, 41, 44, 45, 47, 59, 60, 62, 73, 76, 80], \"token_logprobs\": [-0.01741042174398899, -0.01123223826289177, -0.05439797788858414, -0.0033642619382590055, -0.759977400302887, -1.1481142044067383, 0.0, -0.0005113962688483298, -0.06430608779191971, -0.03716231510043144, -0.20364312827587128, -2.5622620582580566, -0.4391779899597168, -0.15641789138317108, -0.0001287377526750788, -0.11015086621046066, -0.19661957025527954, -0.31328240036964417, -0.22310997545719147, -0.04997197538614273], \"tokens\": [\"\\u2581sadness\", \"\\u2581\\u2013\", \"\\u2581fixed\", \"\\u2581on\", \"\\u2581the\", \"\\u2581bounty\", \"\\u2581hunter\", \".\", \"\\u2581\\u201c\", \"I\", \"\\u2581am\", \"\\u2026\", \"\\u2581a\", \"\\u2581consequence\", \".\", \"\\u2581A\", \"\\u2581reflection\", \"\\u2581of\", \"\\u2581the\", \"\\u2581darkness\"], \"top_logprobs\": [{\"\\u2581sadness\": -0.01741042174398899, \"\\u2581sorrow\": -4.2674102783203125, \"\\u2581wisdom\": -6.6424102783203125, \"\\u2581knowledge\": -7.1424102783203125, \"\\u2581understanding\": -7.2674102783203125, \"\\u2581knowing\": -8.142410278320312, \"\\u2581compassion\": -9.392410278320312, \"\\u2581kindness\": -10.517410278320312, \"\\u2581melancholy\": -11.517410278320312, \"\\u2581patience\": -11.767410278320312, \"\\u2581kind\": -11.892410278320312, \"\\u2581empathy\": -12.392410278320312, \"\\u2581pity\": -12.892410278320312, \"\\u2581acceptance\": -12.892410278320312, \"\\u2581resignation\": -13.142410278320312, \"\\u2581intelligence\": -13.267410278320312, \",\": -13.642410278320312, \"\\u2581regret\": -13.892410278320312, \"\\u2581depth\": -14.267410278320312, \"\\u2581pain\": -14.642410278320312}, {\"\\u2581\\u2013\": -0.01123223826289177, \"\\u2581-\": -4.511232376098633, \"\\u2014\": -9.636232376098633, \"\\u2013\": -9.8862\n",
      "2025-05-13 11:00:18,196 [INFO ] [api_client.api_clien]: Received 20 token strings (finish_reason=length).\n",
      "2025-05-13 11:00:18,200 [DEBUG] [api_client.api_clien]: POST https://ncfi2yswjottwq-8888.proxy.runpod.net/v1/completions\n",
      "2025-05-13 11:00:18,200 [DEBUG] [api_client.api_clien]: Payload: {\"model\": \"unsloth/gemma-3-4b-it\", \"prompt\": \"<bos><start_of_turn>user\\nWriting prompt: After defeating the Devil down in Georgia, Johnny proudly proclaims he's the best that's ever been. A flash of lightning crashes down and God appears, fiddle in hand. The Devil gets his popcorn ready.\\n\\nWrite 1000 words to this prompt. Your response:\\n<end_of_turn>\\n<start_of_turn>model\\nThe rain in Georgia was a greasy, insistent thing, clinging to everything with the stubbornness of regret. It mirrored the\n"
     ]
    },
    {
     "name": "stdout",
     "output_type": "stream",
     "text": [
      "Batch Generating:   0%|          | 0/1 [00:58<?, ?prompt/s, 19.4 tok/s]"
     ]
    },
    {
     "name": "stderr",
     "output_type": "stream",
     "text": [
      "2025-05-13 11:00:18,778 [DEBUG] [urllib3.connectionpo]: https://ncfi2yswjottwq-8888.proxy.runpod.net:443 \"POST /v1/completions HTTP/1.1\" 200 None\n",
      "2025-05-13 11:00:18,841 [DEBUG] [api_client.api_clien]: Raw response: {\"id\": \"cmpl-3223806c1b004ee4875b779d8c51e3af\", \"object\": \"text_completion\", \"created\": 1747098023, \"model\": \"unsloth/gemma-3-4b-it\", \"choices\": [{\"index\": 0, \"text\": \" that exists within all things. I embody the choices people make, the paths they refuse to take.\", \"logprobs\": {\"text_offset\": [0, 5, 12, 19, 23, 30, 31, 33, 40, 44, 52, 59, 64, 65, 69, 75, 80, 87, 90, 95], \"token_logprobs\": [-0.9617749452590942, -0.8955156803131104, -0.017215345054864883, -0.18537187576293945, -0.4228719472885132, -0.039773013442754745, -0.7405082583427429, -0.23592478036880493, -0.05071559548377991, -0.1668429970741272, -0.28922238945961, -0.07061416655778885, -0.03146661818027496, -0.00024673278676345944, -0.5183084011077881, -0.18811564147472382, -0.7100821137428284, -0.000816131301689893, -0.3881116807460785, -0.30813664197921753], \"tokens\": [\"\\u2581that\", \"\\u2581exists\", \"\\u2581within\", \"\\u2581all\", \"\\u2581things\", \".\", \"\\u2581I\", \"\\u2581embody\", \"\\u2581the\", \"\\u2581choices\", \"\\u2581people\", \"\\u2581make\", \",\", \"\\u2581the\", \"\\u2581paths\", \"\\u2581they\", \"\\u2581refuse\", \"\\u2581to\", \"\\u2581take\", \".\"], \"top_logprobs\": [{\"\\u2581that\": -0.9617749452590942, \"\\u2581within\": -0.5867749452590942, \"\\u2581inherent\": -3.7117748260498047, \"\\u2581in\": -3.9617748260498047, \"\\u2581already\": -4.336774826049805, \"\\u2581*\": -6.461774826049805, \"\\u2581present\": -6.836774826049805, \"\\u2581you\": -7.211774826049805, \"\\u2581residing\": -7.836774826049805, \"\\u2581and\": -7.836774826049805, \"\\u2581hidden\": -8.711774826049805, \",\": -9.461774826049805, \"\\u2581lurking\": -9.461774826049805, \"\\u2581we\": -9.461774826049805, \"\\u2581contained\": -9.586774826049805, \"\\u2581found\": -9.711774826049805, \"\\u2581I\": -9.711774826049805, \"\\u2581people\": -9.836774826049805, \"\\u2581embedded\": -9.961774826049805, \"\\u2581dwelling\": -10.211774826049805}, {\"\\u2581exists\": -0.8955156803131104, \"\\u2581resides\": -0.6455156803131104, \"\\u2581already\": -3.1455156803131104, \"\\u2581dwells\": -3.8955156803131104, \"\\u2581lur\": -6.7705154418\n",
      "2025-05-13 11:00:18,841 [INFO ] [api_client.api_clien]: Received 20 token strings (finish_reason=length).\n",
      "2025-05-13 11:00:18,845 [DEBUG] [api_client.api_clien]: POST https://ncfi2yswjottwq-8888.proxy.runpod.net/v1/completions\n",
      "2025-05-13 11:00:18,845 [DEBUG] [api_client.api_clien]: Payload: {\"model\": \"unsloth/gemma-3-4b-it\", \"prompt\": \"<bos><start_of_turn>user\\nWriting prompt: After defeating the Devil down in Georgia, Johnny proudly proclaims he's the best that's ever been. A flash of lightning crashes down and God appears, fiddle in hand. The Devil gets his popcorn ready.\\n\\nWrite 1000 words to this prompt. Your response:\\n<end_of_turn>\\n<start_of_turn>model\\nThe rain in Georgia was a greasy, insistent thing, clinging to everything with the stubbornness of regret. It mirrored the\n"
     ]
    },
    {
     "name": "stdout",
     "output_type": "stream",
     "text": [
      "Batch Generating:   0%|          | 0/1 [00:58<?, ?prompt/s, 19.5 tok/s]"
     ]
    },
    {
     "name": "stderr",
     "output_type": "stream",
     "text": [
      "2025-05-13 11:00:19,415 [DEBUG] [urllib3.connectionpo]: https://ncfi2yswjottwq-8888.proxy.runpod.net:443 \"POST /v1/completions HTTP/1.1\" 200 None\n",
      "2025-05-13 11:00:19,477 [DEBUG] [api_client.api_clien]: Raw response: {\"id\": \"cmpl-0ea56be7ef134e2083120524cf5a489e\", \"object\": \"text_completion\", \"created\": 1747098024, \"model\": \"unsloth/gemma-3-4b-it\", \"choices\": [{\"index\": 0, \"text\": \" I am the temptation, the regret, the shadow that clings to the edges of your soul.\\u201d\\n\\n\", \"logprobs\": {\"text_offset\": [0, 2, 5, 9, 20, 21, 25, 32, 33, 37, 44, 49, 56, 59, 63, 69, 72, 77, 82, 84], \"token_logprobs\": [-0.4158782362937927, -0.23462070524692535, -0.09751866012811661, -1.2001968622207642, -0.059284429997205734, -0.00027295202016830444, -1.4683048725128174, -0.0006659197388216853, -4.672895011026412e-05, -0.9532570838928223, -0.45500481128692627, -0.7304027676582336, -8.546940807718784e-05, -0.09482186287641525, -0.21478581428527832, -1.9073468138230965e-06, -0.9740609526634216, -0.23525528609752655, -0.08411338925361633, -0.2524167001247406], \"tokens\": [\"\\u2581I\", \"\\u2581am\", \"\\u2581the\", \"\\u2581temptation\", \",\", \"\\u2581the\", \"\\u2581regret\", \",\", \"\\u2581the\", \"\\u2581shadow\", \"\\u2581that\", \"\\u2581clings\", \"\\u2581to\", \"\\u2581the\", \"\\u2581edges\", \"\\u2581of\", \"\\u2581your\", \"\\u2581soul\", \".\\u201d\", \"\\n\\n\"], \"top_logprobs\": [{\"\\u2581I\": -0.4158782362937927, \"\\u2581The\": -2.5408782958984375, \"\\u2581Your\": -2.5408782958984375, \"\\u2581You\": -2.5408782958984375, \"\\u2581\\u2581\": -2.9158782958984375, \"\\u2581My\": -3.2908782958984375, \"\\u2581When\": -5.2908782958984375, \"\\u2581And\": -6.5408782958984375, \"\\u2581Fear\": -6.7908782958984375, \"\\u2581Every\": -6.9158782958984375, \"\\u2581Lucifer\": -7.9158782958984375, \"\\u2581Humanity\": -8.040878295898438, \"\\u2581It\": -8.040878295898438, \"\\u2581Think\": -8.290878295898438, \"\\u2581Binding\": -8.665878295898438, \"\\u2581Anger\": -8.790878295898438, \"\\u2581Fighting\": -9.165878295898438, \"\\u2581Each\": -9.165878295898438, \"\\u2581In\": -9.165878295898438, \"\\u2581A\": -9.290878295898438}, {\"\\u2581am\": -0.23462070524692535, \"\\u2581represent\": -2.3596208095550537, \"\\u2019\": -3.6096208095550537, \"\\u2581thrive\": -3.7346208095550537, \"\\u2581feed\": -4.234620571136475, \"\\u2581*\n",
      "2025-05-13 11:00:19,477 [INFO ] [api_client.api_clien]: Received 20 token strings (finish_reason=length).\n",
      "2025-05-13 11:00:19,480 [DEBUG] [api_client.api_clien]: POST https://ncfi2yswjottwq-8888.proxy.runpod.net/v1/completions\n",
      "2025-05-13 11:00:19,480 [DEBUG] [api_client.api_clien]: Payload: {\"model\": \"unsloth/gemma-3-4b-it\", \"prompt\": \"<bos><start_of_turn>user\\nWriting prompt: After defeating the Devil down in Georgia, Johnny proudly proclaims he's the best that's ever been. A flash of lightning crashes down and God appears, fiddle in hand. The Devil gets his popcorn ready.\\n\\nWrite 1000 words to this prompt. Your response:\\n<end_of_turn>\\n<start_of_turn>model\\nThe rain in Georgia was a greasy, insistent thing, clinging to everything with the stubbornness of regret. It mirrored the\n"
     ]
    },
    {
     "name": "stdout",
     "output_type": "stream",
     "text": [
      "Batch Generating:   0%|          | 0/1 [00:59<?, ?prompt/s, 19.6 tok/s]"
     ]
    },
    {
     "name": "stderr",
     "output_type": "stream",
     "text": [
      "2025-05-13 11:00:20,239 [DEBUG] [urllib3.connectionpo]: https://ncfi2yswjottwq-8888.proxy.runpod.net:443 \"POST /v1/completions HTTP/1.1\" 200 None\n",
      "2025-05-13 11:00:20,300 [DEBUG] [api_client.api_clien]: Raw response: {\"id\": \"cmpl-210daedf58dc47f7a245d34c5be6be9e\", \"object\": \"text_completion\", \"created\": 1747098025, \"model\": \"unsloth/gemma-3-4b-it\", \"choices\": [{\"index\": 0, \"text\": \"Johnny felt a chill crawl down his spine, a cold, unsettling realization. He hadn't defeated\", \"logprobs\": {\"text_offset\": [0, 6, 11, 13, 19, 25, 30, 34, 40, 41, 43, 48, 49, 60, 72, 73, 76, 81, 82, 83], \"token_logprobs\": [-0.41793280839920044, -0.36588579416275024, -0.0021512003149837255, -0.9178053736686707, -0.12694893777370453, -0.13618797063827515, 0.0, -0.00012373158824630082, -0.5815171599388123, -0.3791593909263611, -0.4748550057411194, -2.4359028339385986, -0.06318873167037964, -0.3251642882823944, -0.5778043270111084, -0.056101396679878235, -0.433462917804718, -0.8259395956993103, 0.0, -0.5049396753311157], \"tokens\": [\"Johnny\", \"\\u2581felt\", \"\\u2581a\", \"\\u2581chill\", \"\\u2581crawl\", \"\\u2581down\", \"\\u2581his\", \"\\u2581spine\", \",\", \"\\u2581a\", \"\\u2581cold\", \",\", \"\\u2581unsettling\", \"\\u2581realization\", \".\", \"\\u2581He\", \"\\u2581hadn\", \"'\", \"t\", \"\\u2581defeated\"], \"top_logprobs\": [{\"Johnny\": -0.41793280839920044, \"He\": -1.4179327487945557, \"\\u201c\": -2.4179327487945557, \"\\\"\": -5.042932987213135, \"The\": -5.917932987213135, \"\\u2581Johnny\": -7.292932987213135, \"John\": -8.792932510375977, \"Suddenly\": -9.542932510375977, \"His\": -9.917932510375977, \"\\u2581\\u201c\": -10.292932510375977, \"A\": -10.292932510375977, \"Johnson\": -11.792932510375977, \"Jon\": -12.167932510375977, \"Then\": -12.167932510375977, \"\\u2581\\\"\": -12.417932510375977, \"Joh\": -12.417932510375977, \"Panic\": -12.480432510375977, \"\\u2581\\u2581\": -12.542932510375977, \"Now\": -12.667932510375977, \"\\u2581He\": -12.792932510375977}, {\"\\u2581felt\": -0.36588579416275024, \"\\u2581stared\": -1.3658857345581055, \"\\u2581swallowed\": -3.3658857345581055, \"\\u2581shifted\": -5.1158857345581055, \"\\u2581struggled\": -5.9908857345581055, \"\\u2581took\": -6.1158857345581055, \"\\u2019\": -6.6158857345581055, \"\\u2581looked\": -6.7408857345581055, \"\\u2581frowned\": -6.8658857345581\n",
      "2025-05-13 11:00:20,300 [INFO ] [api_client.api_clien]: Received 20 token strings (finish_reason=length).\n",
      "2025-05-13 11:00:20,301 [WARNI] [validators.slop_phra]: Slop violation: 'spine' @tok=1139 (char_pos=4857) …hill crawl down his spine, a cold, unsettling…\n",
      "2025-05-13 11:00:20,303 [WARNI] [validators.ngram_val]: NGram violation: 'felt chill' (stopwords_removed=True) @tok=1133 (char_pos=4829). Context: ... edges of your soul.”  Johnny felt a chill crawl down his spine, a col...\n",
      "2025-05-13 11:00:20,303 [WARNI] [core.sampler        ]: Back-tracking @tok=1133 orig='▁felt' ban='{'ngram_tuple': ['felt', 'chill'], 'ngram_string': 'felt chill', 'remove_stopwords_active': True, 'context': ' edges of your soul.”  Johnny felt a chill crawl down his spine, a col', 'suppression_detail_key': 'felt chill (stopwords_removed=True)'}'.\n",
      "2025-05-13 11:00:20,303 [INFO ] [state.generation_sta]: GenerationState initialised. Prompt length (chars) = 266\n",
      "2025-05-13 11:00:20,303 [INFO ] [state.generation_sta]: GenerationState initialised. Prompt length (chars) = 266\n",
      "2025-05-13 11:00:20,303 [INFO ] [state.generation_sta]: GenerationState initialised. Prompt length (chars) = 266\n",
      "2025-05-13 11:00:20,303 [INFO ] [state.generation_sta]: GenerationState initialised. Prompt length (chars) = 266\n",
      "2025-05-13 11:00:20,303 [INFO ] [state.generation_sta]: GenerationState initialised. Prompt length (chars) = 266\n",
      "2025-05-13 11:00:20,303 [INFO ] [state.generation_sta]: GenerationState initialised. Prompt length (chars) = 266\n",
      "2025-05-13 11:00:20,303 [INFO ] [state.generation_sta]: GenerationState initialised. Prompt length (chars) = 266\n",
      "2025-05-13 11:00:20,304 [INFO ] [state.generation_sta]: GenerationState initialised. Prompt length (chars) = 266\n",
      "2025-05-13 11:00:20,304 [INFO ] [state.generation_sta]: GenerationState initialised. Prompt length (chars) = 266\n",
      "2025-05-13 11:00:20,304 [INFO ] [state.generation_sta]: GenerationState initialised. Prompt length (chars) = 266\n",
      "2025-05-13 11:00:20,304 [INFO ] [state.generation_sta]: GenerationState initialised. Prompt length (chars) = 266\n",
      "2025-05-13 11:00:20,304 [INFO ] [state.generation_sta]: GenerationState initialised. Prompt length (chars) = 266\n",
      "2025-05-13 11:00:20,304 [INFO ] [state.generation_sta]: GenerationState initialised. Prompt length (chars) = 266\n",
      "2025-05-13 11:00:20,304 [INFO ] [state.generation_sta]: GenerationState initialised. Prompt length (chars) = 266\n",
      "2025-05-13 11:00:20,304 [INFO ] [state.generation_sta]: GenerationState initialised. Prompt length (chars) = 266\n",
      "2025-05-13 11:00:20,304 [INFO ] [state.generation_sta]: GenerationState initialised. Prompt length (chars) = 266\n",
      "2025-05-13 11:00:20,304 [INFO ] [state.generation_sta]: GenerationState initialised. Prompt length (chars) = 266\n",
      "2025-05-13 11:00:20,304 [INFO ] [state.generation_sta]: GenerationState initialised. Prompt length (chars) = 266\n",
      "2025-05-13 11:00:20,304 [INFO ] [state.generation_sta]: GenerationState initialised. Prompt length (chars) = 266\n",
      "2025-05-13 11:00:20,305 [WARNI] [core.sampler        ]:     ✓ replacement='▁stared' (pool=2, T=0.7, min_p=0.05, top_p=1.0, top_k=50)\n",
      "2025-05-13 11:00:20,305 [DEBUG] [root                ]: BANNED (prompt_idx=0, type=ngram, ngram='felt chill' (stopwords_removed=True) @ orig_token='▁felt' ...'edges of your soul.”  Johnny felt a chill crawl down his spine, a col'...)\n",
      "2025-05-13 11:00:20,305 [DEBUG] [api_client.api_clien]: POST https://ncfi2yswjottwq-8888.proxy.runpod.net/v1/completions\n",
      "2025-05-13 11:00:20,305 [DEBUG] [api_client.api_clien]: Payload: {\"model\": \"unsloth/gemma-3-4b-it\", \"prompt\": \"<bos><start_of_turn>user\\nWriting prompt: After defeating the Devil down in Georgia, Johnny proudly proclaims he's the best that's ever been. A flash of lightning crashes down and God appears, fiddle in hand. The Devil gets his popcorn ready.\\n\\nWrite 1000 words to this prompt. Your response:\\n<end_of_turn>\\n<start_of_turn>model\\nThe rain in Georgia was a greasy, insistent thing, clinging to everything with the stubbornness of regret. It mirrored the\n"
     ]
    },
    {
     "name": "stdout",
     "output_type": "stream",
     "text": [
      "Batch Generating:   0%|          | 0/1 [01:00<?, ?prompt/s, 19.4 tok/s]"
     ]
    },
    {
     "name": "stderr",
     "output_type": "stream",
     "text": [
      "2025-05-13 11:00:20,880 [DEBUG] [urllib3.connectionpo]: https://ncfi2yswjottwq-8888.proxy.runpod.net:443 \"POST /v1/completions HTTP/1.1\" 200 None\n",
      "2025-05-13 11:00:20,941 [DEBUG] [api_client.api_clien]: Raw response: {\"id\": \"cmpl-5426c9a4dc0347fab17f4de116ced1b6\", \"object\": \"text_completion\", \"created\": 1747098025, \"model\": \"unsloth/gemma-3-4b-it\", \"choices\": [{\"index\": 0, \"text\": \" at him, dumbfounded. \\u201cSo\\u2026 you\\u2019re saying I just\\u2026 contained a part of\", \"logprobs\": {\"text_offset\": [0, 3, 7, 8, 13, 20, 21, 23, 25, 26, 30, 31, 33, 40, 42, 47, 48, 58, 60, 65], \"token_logprobs\": [-0.4744618833065033, -0.014371342957019806, -7.652943895664066e-05, -2.049893856048584, -0.01815265417098999, -7.545663538621739e-05, -1.5676748752593994, -0.05267525464296341, -0.0885620191693306, -0.29044318199157715, -0.2862268388271332, -6.198863957251888e-06, -0.03630037233233452, -0.1332375556230545, -0.11818508803844452, -0.4761156439781189, -1.8347725868225098, -0.9840073585510254, -0.3706130087375641, -3.576278118089249e-07], \"tokens\": [\"\\u2581at\", \"\\u2581him\", \",\", \"\\u2581dumb\", \"founded\", \".\", \"\\u2581\\u201c\", \"So\", \"\\u2026\", \"\\u2581you\", \"\\u2019\", \"re\", \"\\u2581saying\", \"\\u2581I\", \"\\u2581just\", \"\\u2026\", \"\\u2581contained\", \"\\u2581a\", \"\\u2581part\", \"\\u2581of\"], \"top_logprobs\": [{\"\\u2581at\": -0.4744618833065033, \",\": -0.9744619131088257, \"\\u2581in\": -8.474461555480957, \".\": -9.849461555480957, \"\\u2581down\": -9.849461555480957, \"\\u2581blank\": -9.974461555480957, \"\\u2581back\": -10.974461555480957, \"\\u2581dumb\": -12.474461555480957, \"\\u2581numb\": -13.724461555480957, \"\\u2581up\": -14.474461555480957, \"\\u2581into\": -14.849461555480957, \"\\u2581un\": -15.224461555480957, \"\\u2581out\": -15.474461555480957, \"\\u2581open\": -16.099462509155273, \"\\u2581silently\": -16.349462509155273, \"\\u2581him\": -16.349462509155273, \"\\u2581helplessly\": -16.724462509155273, \"\\u2581incred\": -16.724462509155273, \"\\u2581past\": -16.849462509155273, \"\\u2581slack\": -16.974462509155273}, {\"\\u2581him\": -0.014371342957019806, \"\\u2581the\": -4.264371395111084, \"\\u2581his\": -8.514370918273926, \"\\u2581them\": -12.889370918273926, \"\\u2581this\": -13.514370918273926, \"\\u2581Him\": -14.139370918273926, \"\\u2581Lucifer\": -14.82687091\n",
      "2025-05-13 11:00:20,942 [INFO ] [api_client.api_clien]: Received 20 token strings (finish_reason=length).\n",
      "2025-05-13 11:00:20,942 [WARNI] [validators.slop_phra]: Slop violation: 'stared' @tok=1133 (char_pos=4829) …your soul.”  Johnny stared at him, dumbfounded…\n",
      "2025-05-13 11:00:20,945 [WARNI] [core.sampler        ]: Back-tracking @tok=1133 orig='▁stared' ban='{'phrase': 'stared', 'context': 'your soul.”  Johnny stared at him, dumbfounded', 'suppression_detail_key': 'stared'}'.\n",
      "2025-05-13 11:00:20,945 [INFO ] [state.generation_sta]: GenerationState initialised. Prompt length (chars) = 266\n",
      "2025-05-13 11:00:20,945 [INFO ] [state.generation_sta]: GenerationState initialised. Prompt length (chars) = 266\n",
      "2025-05-13 11:00:20,945 [INFO ] [state.generation_sta]: GenerationState initialised. Prompt length (chars) = 266\n",
      "2025-05-13 11:00:20,945 [INFO ] [state.generation_sta]: GenerationState initialised. Prompt length (chars) = 266\n",
      "2025-05-13 11:00:20,945 [INFO ] [state.generation_sta]: GenerationState initialised. Prompt length (chars) = 266\n",
      "2025-05-13 11:00:20,945 [INFO ] [state.generation_sta]: GenerationState initialised. Prompt length (chars) = 266\n",
      "2025-05-13 11:00:20,945 [INFO ] [state.generation_sta]: GenerationState initialised. Prompt length (chars) = 266\n",
      "2025-05-13 11:00:20,945 [INFO ] [state.generation_sta]: GenerationState initialised. Prompt length (chars) = 266\n",
      "2025-05-13 11:00:20,945 [INFO ] [state.generation_sta]: GenerationState initialised. Prompt length (chars) = 266\n",
      "2025-05-13 11:00:20,945 [INFO ] [state.generation_sta]: GenerationState initialised. Prompt length (chars) = 266\n",
      "2025-05-13 11:00:20,945 [INFO ] [state.generation_sta]: GenerationState initialised. Prompt length (chars) = 266\n",
      "2025-05-13 11:00:20,945 [INFO ] [state.generation_sta]: GenerationState initialised. Prompt length (chars) = 266\n",
      "2025-05-13 11:00:20,945 [INFO ] [state.generation_sta]: GenerationState initialised. Prompt length (chars) = 266\n",
      "2025-05-13 11:00:20,945 [INFO ] [state.generation_sta]: GenerationState initialised. Prompt length (chars) = 266\n",
      "2025-05-13 11:00:20,945 [INFO ] [state.generation_sta]: GenerationState initialised. Prompt length (chars) = 266\n",
      "2025-05-13 11:00:20,945 [INFO ] [state.generation_sta]: GenerationState initialised. Prompt length (chars) = 266\n",
      "2025-05-13 11:00:20,945 [INFO ] [state.generation_sta]: GenerationState initialised. Prompt length (chars) = 266\n",
      "2025-05-13 11:00:20,945 [INFO ] [state.generation_sta]: GenerationState initialised. Prompt length (chars) = 266\n",
      "2025-05-13 11:00:20,945 [INFO ] [state.generation_sta]: GenerationState initialised. Prompt length (chars) = 266\n",
      "2025-05-13 11:00:20,946 [WARNI] [core.sampler        ]:     ✓ replacement='▁felt' (pool=1, T=0.7, min_p=0.05, top_p=1.0, top_k=50)\n",
      "2025-05-13 11:00:20,947 [DEBUG] [root                ]: BANNED (prompt_idx=0, type=slop_phrase, phrase='stared' @ orig_token='▁stared' ...'your soul.”  Johnny stared at him, dumbfounded'...)\n",
      "2025-05-13 11:00:20,947 [DEBUG] [api_client.api_clien]: POST https://ncfi2yswjottwq-8888.proxy.runpod.net/v1/completions\n",
      "2025-05-13 11:00:20,947 [DEBUG] [api_client.api_clien]: Payload: {\"model\": \"unsloth/gemma-3-4b-it\", \"prompt\": \"<bos><start_of_turn>user\\nWriting prompt: After defeating the Devil down in Georgia, Johnny proudly proclaims he's the best that's ever been. A flash of lightning crashes down and God appears, fiddle in hand. The Devil gets his popcorn ready.\\n\\nWrite 1000 words to this prompt. Your response:\\n<end_of_turn>\\n<start_of_turn>model\\nThe rain in Georgia was a greasy, insistent thing, clinging to everything with the stubbornness of regret. It mirrored the\n",
      "2025-05-13 11:00:21,523 [DEBUG] [urllib3.connectionpo]: https://ncfi2yswjottwq-8888.proxy.runpod.net:443 \"POST /v1/completions HTTP/1.1\" 200 None\n",
      "2025-05-13 11:00:21,585 [DEBUG] [api_client.api_clien]: Raw response: {\"id\": \"cmpl-84b8e86d100548a584b665083fdc7766\", \"object\": \"text_completion\", \"created\": 1747098026, \"model\": \"unsloth/gemma-3-4b-it\", \"choices\": [{\"index\": 0, \"text\": \" a chill crawl down his spine. He\\u2019d always seen the Devil as a straightforward villain, a\", \"logprobs\": {\"text_offset\": [0, 2, 8, 14, 19, 23, 29, 30, 33, 34, 35, 42, 47, 51, 57, 60, 62, 78, 86, 87], \"token_logprobs\": [-0.0022319662384688854, -0.9262946844100952, -0.13101831078529358, -0.13570775091648102, 0.0, -0.00015877417172305286, -0.8320258855819702, -0.25807562470436096, -0.3199405372142792, 0.0, -0.05997782200574875, -1.026596188545227, -0.500386118888855, -0.0010346779599785805, -0.0004012971476186067, -0.05295037105679512, -2.8643414974212646, -0.0707806646823883, -0.003915620967745781, -0.009813752956688404], \"tokens\": [\"\\u2581a\", \"\\u2581chill\", \"\\u2581crawl\", \"\\u2581down\", \"\\u2581his\", \"\\u2581spine\", \".\", \"\\u2581He\", \"\\u2019\", \"d\", \"\\u2581always\", \"\\u2581seen\", \"\\u2581the\", \"\\u2581Devil\", \"\\u2581as\", \"\\u2581a\", \"\\u2581straightforward\", \"\\u2581villain\", \",\", \"\\u2581a\"], \"top_logprobs\": [{\"\\u2581a\": -0.0022319662384688854, \"\\u2581his\": -6.877232074737549, \"\\u2581the\": -7.877232074737549, \"\\u2581himself\": -8.12723159790039, \"\\u2581suddenly\": -8.25223159790039, \"\\u2581cold\": -8.87723159790039, \"\\u2581utterly\": -10.25223159790039, \"\\u2581an\": -10.37723159790039, \"\\u2581like\": -11.62723159790039, \"\\u2581something\": -11.62723159790039, \"\\u2581strangely\": -12.12723159790039, \"\\u2581exposed\": -12.25223159790039, \"\\u2581shame\": -12.37723159790039, \"\\u2581profoundly\": -12.50223159790039, \"\\u2581increasingly\": -12.87723159790039, \"\\u2026\": -12.87723159790039, \"\\u2581small\": -13.00223159790039, \"\\u2581that\": -13.25223159790039, \"\\u2581chills\": -13.37723159790039, \"\\u2581chilled\": -13.62723159790039}, {\"\\u2581chill\": -0.9262946844100952, \"\\u2581cold\": -0.6762946844100952, \"\\u2581strange\": -3.5512948036193848, \"\\u2581chilling\": -3.9262948036193848, \"\\u2581sh\": -4.176294803619385, \"\\u2581sudden\": -5.0\n",
      "2025-05-13 11:00:21,585 [INFO ] [api_client.api_clien]: Received 20 token strings (finish_reason=length).\n",
      "2025-05-13 11:00:21,586 [WARNI] [validators.slop_phra]: Slop violation: 'spine' @tok=1139 (char_pos=4857) …hill crawl down his spine. He’d always seen t…\n",
      "2025-05-13 11:00:21,589 [WARNI] [validators.ngram_val]: NGram violation: 'felt chill' (stopwords_removed=True) @tok=1133 (char_pos=4829). Context: ... edges of your soul.”  Johnny felt a chill crawl down his spine. He’d ...\n",
      "2025-05-13 11:00:21,589 [WARNI] [core.sampler        ]: Back-tracking @tok=1133 orig='▁felt' ban='{'ngram_tuple': ['felt', 'chill'], 'ngram_string': 'felt chill', 'remove_stopwords_active': True, 'context': ' edges of your soul.”  Johnny felt a chill crawl down his spine. He’d ', 'suppression_detail_key': 'felt chill (stopwords_removed=True)'}'.\n",
      "2025-05-13 11:00:21,589 [INFO ] [state.generation_sta]: GenerationState initialised. Prompt length (chars) = 266\n",
      "2025-05-13 11:00:21,589 [INFO ] [state.generation_sta]: GenerationState initialised. Prompt length (chars) = 266\n",
      "2025-05-13 11:00:21,589 [INFO ] [state.generation_sta]: GenerationState initialised. Prompt length (chars) = 266\n",
      "2025-05-13 11:00:21,589 [INFO ] [state.generation_sta]: GenerationState initialised. Prompt length (chars) = 266\n",
      "2025-05-13 11:00:21,589 [INFO ] [state.generation_sta]: GenerationState initialised. Prompt length (chars) = 266\n",
      "2025-05-13 11:00:21,589 [INFO ] [state.generation_sta]: GenerationState initialised. Prompt length (chars) = 266\n",
      "2025-05-13 11:00:21,589 [INFO ] [state.generation_sta]: GenerationState initialised. Prompt length (chars) = 266\n",
      "2025-05-13 11:00:21,589 [INFO ] [state.generation_sta]: GenerationState initialised. Prompt length (chars) = 266\n",
      "2025-05-13 11:00:21,589 [INFO ] [state.generation_sta]: GenerationState initialised. Prompt length (chars) = 266\n",
      "2025-05-13 11:00:21,589 [INFO ] [state.generation_sta]: GenerationState initialised. Prompt length (chars) = 266\n",
      "2025-05-13 11:00:21,589 [INFO ] [state.generation_sta]: GenerationState initialised. Prompt length (chars) = 266\n",
      "2025-05-13 11:00:21,589 [INFO ] [state.generation_sta]: GenerationState initialised. Prompt length (chars) = 266\n",
      "2025-05-13 11:00:21,589 [INFO ] [state.generation_sta]: GenerationState initialised. Prompt length (chars) = 266\n",
      "2025-05-13 11:00:21,589 [INFO ] [state.generation_sta]: GenerationState initialised. Prompt length (chars) = 266\n",
      "2025-05-13 11:00:21,589 [INFO ] [state.generation_sta]: GenerationState initialised. Prompt length (chars) = 266\n",
      "2025-05-13 11:00:21,589 [INFO ] [state.generation_sta]: GenerationState initialised. Prompt length (chars) = 266\n",
      "2025-05-13 11:00:21,589 [INFO ] [state.generation_sta]: GenerationState initialised. Prompt length (chars) = 266\n",
      "2025-05-13 11:00:21,589 [INFO ] [state.generation_sta]: GenerationState initialised. Prompt length (chars) = 266\n",
      "2025-05-13 11:00:21,590 [WARNI] [core.sampler        ]:     ✓ replacement='▁swallowed' (pool=2, T=0.7, min_p=0.05, top_p=1.0, top_k=50)\n",
      "2025-05-13 11:00:21,591 [DEBUG] [root                ]: BANNED (prompt_idx=0, type=ngram, ngram='felt chill' (stopwords_removed=True) @ orig_token='▁felt' ...'edges of your soul.”  Johnny felt a chill crawl down his spine. He’d'...)\n",
      "2025-05-13 11:00:21,591 [DEBUG] [api_client.api_clien]: POST https://ncfi2yswjottwq-8888.proxy.runpod.net/v1/completions\n",
      "2025-05-13 11:00:21,591 [DEBUG] [api_client.api_clien]: Payload: {\"model\": \"unsloth/gemma-3-4b-it\", \"prompt\": \"<bos><start_of_turn>user\\nWriting prompt: After defeating the Devil down in Georgia, Johnny proudly proclaims he's the best that's ever been. A flash of lightning crashes down and God appears, fiddle in hand. The Devil gets his popcorn ready.\\n\\nWrite 1000 words to this prompt. Your response:\\n<end_of_turn>\\n<start_of_turn>model\\nThe rain in Georgia was a greasy, insistent thing, clinging to everything with the stubbornness of regret. It mirrored the\n",
      "2025-05-13 11:00:22,162 [DEBUG] [urllib3.connectionpo]: https://ncfi2yswjottwq-8888.proxy.runpod.net:443 \"POST /v1/completions HTTP/1.1\" 200 None\n",
      "2025-05-13 11:00:22,224 [DEBUG] [api_client.api_clien]: Raw response: {\"id\": \"cmpl-d4edba07ab0242dfa14ebd2505099cea\", \"object\": \"text_completion\", \"created\": 1747098027, \"model\": \"unsloth/gemma-3-4b-it\", \"choices\": [{\"index\": 0, \"text\": \" hard, suddenly feeling profoundly small and insignificant. \\u201cSo\\u2026 I just\\u2026 contained you?\\u201d\\n\\n\\u201c\", \"logprobs\": {\"text_offset\": [0, 5, 6, 15, 23, 34, 40, 44, 58, 59, 61, 63, 64, 66, 71, 72, 82, 86, 88, 90], \"token_logprobs\": [-0.10032099485397339, -0.2014133334159851, -1.3105976581573486, -0.15023401379585266, -1.5131916999816895, -0.21504053473472595, -0.1918114870786667, -0.14159999787807465, -0.0023249757941812277, -2.2081966400146484, -0.014243368059396744, -0.19897985458374023, -0.9193546175956726, -0.05873500928282738, -0.550500750541687, -0.9861102104187012, -0.15409915149211884, -0.019833579659461975, -0.31588035821914673, -0.020044971257448196], \"tokens\": [\"\\u2581hard\", \",\", \"\\u2581suddenly\", \"\\u2581feeling\", \"\\u2581profoundly\", \"\\u2581small\", \"\\u2581and\", \"\\u2581insignificant\", \".\", \"\\u2581\\u201c\", \"So\", \"\\u2026\", \"\\u2581I\", \"\\u2581just\", \"\\u2026\", \"\\u2581contained\", \"\\u2581you\", \"?\\u201d\", \"\\n\\n\", \"\\u201c\"], \"top_logprobs\": [{\"\\u2581hard\": -0.10032099485397339, \",\": -2.350321054458618, \"\\u2581nervously\": -9.850320816040039, \".\": -9.850320816040039, \"\\u2581thickly\": -12.600320816040039, \"\\u2581his\": -12.600320816040039, \"\\u2581heavily\": -13.850320816040039, \"\\u2581dry\": -14.725320816040039, \"\\u2581the\": -15.225320816040039, \"\\u2581against\": -15.350320816040039, \"\\u2581with\": -16.47532081604004, \"\\u2581deeply\": -16.72532081604004, \"\\u2581instinctively\": -16.97532081604004, \"\\u2581painfully\": -17.10032081604004, \"\\u2581aud\": -17.47532081604004, \"\\u2581difficult\": -17.85032081604004, \"\\u2581past\": -17.97532081604004, \"\\u2581uneas\": -17.97532081604004, \"\\u2581bile\": -18.35032081604004, \"\\u2581carefully\": -18.47532081604004}, {\",\": -0.2014133334159851, \".\": -1.7014133930206299, \"\\u2581and\": -17.076414108276367, \";\": -18.201414108276367, \"\\u2581trying\": -19.201414108276367, \"\\\n",
      "2025-05-13 11:00:22,224 [INFO ] [api_client.api_clien]: Received 20 token strings (finish_reason=length).\n",
      "2025-05-13 11:00:22,225 [WARNI] [validators.slop_phra]: Slop violation: 'swallowed' @tok=1133 (char_pos=4829) …your soul.”  Johnny swallowed hard, suddenly feel…\n",
      "2025-05-13 11:00:22,227 [WARNI] [validators.ngram_val]: NGram violation: 'swallowed hard' (stopwords_removed=True) @tok=1133 (char_pos=4829). Context: ... edges of your soul.”  Johnny swallowed hard, suddenly feeling profoundly ...\n",
      "2025-05-13 11:00:22,227 [WARNI] [core.sampler        ]: Back-tracking @tok=1133 orig='▁swallowed' ban='{'phrase': 'swallowed', 'context': 'your soul.”  Johnny swallowed hard, suddenly feel', 'suppression_detail_key': 'swallowed'}'.\n",
      "2025-05-13 11:00:22,227 [INFO ] [state.generation_sta]: GenerationState initialised. Prompt length (chars) = 266\n",
      "2025-05-13 11:00:22,227 [INFO ] [state.generation_sta]: GenerationState initialised. Prompt length (chars) = 266\n",
      "2025-05-13 11:00:22,227 [INFO ] [state.generation_sta]: GenerationState initialised. Prompt length (chars) = 266\n",
      "2025-05-13 11:00:22,228 [INFO ] [state.generation_sta]: GenerationState initialised. Prompt length (chars) = 266\n",
      "2025-05-13 11:00:22,228 [INFO ] [state.generation_sta]: GenerationState initialised. Prompt length (chars) = 266\n",
      "2025-05-13 11:00:22,228 [INFO ] [state.generation_sta]: GenerationState initialised. Prompt length (chars) = 266\n",
      "2025-05-13 11:00:22,228 [INFO ] [state.generation_sta]: GenerationState initialised. Prompt length (chars) = 266\n",
      "2025-05-13 11:00:22,228 [INFO ] [state.generation_sta]: GenerationState initialised. Prompt length (chars) = 266\n",
      "2025-05-13 11:00:22,228 [INFO ] [state.generation_sta]: GenerationState initialised. Prompt length (chars) = 266\n",
      "2025-05-13 11:00:22,228 [INFO ] [state.generation_sta]: GenerationState initialised. Prompt length (chars) = 266\n",
      "2025-05-13 11:00:22,228 [INFO ] [state.generation_sta]: GenerationState initialised. Prompt length (chars) = 266\n",
      "2025-05-13 11:00:22,228 [INFO ] [state.generation_sta]: GenerationState initialised. Prompt length (chars) = 266\n",
      "2025-05-13 11:00:22,228 [INFO ] [state.generation_sta]: GenerationState initialised. Prompt length (chars) = 266\n",
      "2025-05-13 11:00:22,228 [INFO ] [state.generation_sta]: GenerationState initialised. Prompt length (chars) = 266\n",
      "2025-05-13 11:00:22,228 [INFO ] [state.generation_sta]: GenerationState initialised. Prompt length (chars) = 266\n",
      "2025-05-13 11:00:22,228 [INFO ] [state.generation_sta]: GenerationState initialised. Prompt length (chars) = 266\n",
      "2025-05-13 11:00:22,228 [INFO ] [state.generation_sta]: GenerationState initialised. Prompt length (chars) = 266\n",
      "2025-05-13 11:00:22,229 [WARNI] [core.sampler        ]:     ✓ replacement='▁shifted' (pool=6, T=0.7, min_p=0.05, top_p=1.0, top_k=50)\n",
      "2025-05-13 11:00:22,229 [DEBUG] [root                ]: BANNED (prompt_idx=0, type=slop_phrase, phrase='swallowed' @ orig_token='▁swallowed' ...'your soul.”  Johnny swallowed hard, suddenly feel'...)\n",
      "2025-05-13 11:00:22,229 [DEBUG] [api_client.api_clien]: POST https://ncfi2yswjottwq-8888.proxy.runpod.net/v1/completions\n",
      "2025-05-13 11:00:22,229 [DEBUG] [api_client.api_clien]: Payload: {\"model\": \"unsloth/gemma-3-4b-it\", \"prompt\": \"<bos><start_of_turn>user\\nWriting prompt: After defeating the Devil down in Georgia, Johnny proudly proclaims he's the best that's ever been. A flash of lightning crashes down and God appears, fiddle in hand. The Devil gets his popcorn ready.\\n\\nWrite 1000 words to this prompt. Your response:\\n<end_of_turn>\\n<start_of_turn>model\\nThe rain in Georgia was a greasy, insistent thing, clinging to everything with the stubbornness of regret. It mirrored the\n",
      "2025-05-13 11:00:22,799 [DEBUG] [urllib3.connectionpo]: https://ncfi2yswjottwq-8888.proxy.runpod.net:443 \"POST /v1/completions HTTP/1.1\" 200 None\n",
      "2025-05-13 11:00:22,867 [DEBUG] [api_client.api_clien]: Raw response: {\"id\": \"cmpl-4000d052db794e99b8cd9c2cb9750d88\", \"object\": \"text_completion\", \"created\": 1747098027, \"model\": \"unsloth/gemma-3-4b-it\", \"choices\": [{\"index\": 0, \"text\": \" uncomfortably, feeling a strange sense of shame creep over him. He\\u2019d been so focused\", \"logprobs\": {\"text_offset\": [0, 3, 10, 14, 15, 23, 25, 33, 39, 42, 48, 54, 59, 63, 64, 67, 68, 69, 74, 77], \"token_logprobs\": [-0.31667640805244446, 0.0, 0.0, -1.511326789855957, -0.9305009841918945, -0.6929484605789185, -1.006070613861084, -0.8907009363174438, -2.9802276912960224e-06, -0.18205751478672028, -0.8833306431770325, -0.14615346491336823, -3.5523738915799186e-05, -0.0006598440813831985, -0.03246648982167244, -0.5255693197250366, -9.536738616588991e-07, -0.24090011417865753, -0.0012063853209838271, -0.024088917300105095], \"tokens\": [\"\\u2581un\", \"comfort\", \"ably\", \",\", \"\\u2581feeling\", \"\\u2581a\", \"\\u2581strange\", \"\\u2581sense\", \"\\u2581of\", \"\\u2581shame\", \"\\u2581creep\", \"\\u2581over\", \"\\u2581him\", \".\", \"\\u2581He\", \"\\u2019\", \"d\", \"\\u2581been\", \"\\u2581so\", \"\\u2581focused\"], \"top_logprobs\": [{\"\\u2581un\": -0.31667640805244446, \"\\u2581uneas\": -1.316676378250122, \"\\u2581his\": -6.316676616668701, \"\\u2581awkwardly\": -7.066676616668701, \"\\u2581nervously\": -7.316676616668701, \",\": -9.566676139831543, \"\\u2581under\": -11.816676139831543, \"\\u2581from\": -12.816676139831543, \"\\u2581uncertain\": -12.816676139831543, \"\\u2581on\": -13.941676139831543, \"\\u2581uneasy\": -14.441676139831543, \"\\u2581rest\": -14.566676139831543, \"\\u2581beneath\": -15.066676139831543, \"\\u2581uncomfortable\": -15.316676139831543, \"\\u2581slightly\": -16.06667709350586, \"\\u2581anxiously\": -16.94167709350586, \"\\u2581tentatively\": -17.56667709350586, \"\\u2581instinctively\": -17.56667709350586, \"\\u2581une\": -18.44167709350586, \"\\u2581involuntarily\": -18.56667709350586}, {\"comfort\": 0.0, \"com\": -19.25, \"stead\": -19.75, \"Comfort\": -23.5, \"happ\": -26.75, \"conv\": -27.75, \"ple\": -28.75, \"\\u2581comfortably\": -29.25, \"see\": -30.75, \"gr\": -31.0, \"cer\": -31.25, \"\\u2\n",
      "2025-05-13 11:00:22,867 [INFO ] [api_client.api_clien]: Received 20 token strings (finish_reason=length).\n",
      "2025-05-13 11:00:22,868 [WARNI] [validators.slop_phra]: Slop violation: 'shifted' @tok=1133 (char_pos=4829) …your soul.”  Johnny shifted uncomfortably, feel…\n",
      "2025-05-13 11:00:22,870 [WARNI] [validators.ngram_val]: NGram violation: 'strange sense' (stopwords_removed=True) @tok=1140 (char_pos=4862). Context: ...fted uncomfortably, feeling a strange sense of shame creep over him. He’d...\n",
      "2025-05-13 11:00:22,870 [WARNI] [core.sampler        ]: Back-tracking @tok=1133 orig='▁shifted' ban='{'phrase': 'shifted', 'context': 'your soul.”  Johnny shifted uncomfortably, feel', 'suppression_detail_key': 'shifted'}'.\n",
      "2025-05-13 11:00:22,870 [INFO ] [state.generation_sta]: GenerationState initialised. Prompt length (chars) = 266\n",
      "2025-05-13 11:00:22,870 [INFO ] [state.generation_sta]: GenerationState initialised. Prompt length (chars) = 266\n",
      "2025-05-13 11:00:22,870 [INFO ] [state.generation_sta]: GenerationState initialised. Prompt length (chars) = 266\n",
      "2025-05-13 11:00:22,870 [INFO ] [state.generation_sta]: GenerationState initialised. Prompt length (chars) = 266\n",
      "2025-05-13 11:00:22,870 [INFO ] [state.generation_sta]: GenerationState initialised. Prompt length (chars) = 266\n",
      "2025-05-13 11:00:22,870 [INFO ] [state.generation_sta]: GenerationState initialised. Prompt length (chars) = 266\n",
      "2025-05-13 11:00:22,870 [INFO ] [state.generation_sta]: GenerationState initialised. Prompt length (chars) = 266\n",
      "2025-05-13 11:00:22,870 [INFO ] [state.generation_sta]: GenerationState initialised. Prompt length (chars) = 266\n",
      "2025-05-13 11:00:22,870 [INFO ] [state.generation_sta]: GenerationState initialised. Prompt length (chars) = 266\n",
      "2025-05-13 11:00:22,870 [INFO ] [state.generation_sta]: GenerationState initialised. Prompt length (chars) = 266\n",
      "2025-05-13 11:00:22,870 [INFO ] [state.generation_sta]: GenerationState initialised. Prompt length (chars) = 266\n",
      "2025-05-13 11:00:22,871 [INFO ] [state.generation_sta]: GenerationState initialised. Prompt length (chars) = 266\n",
      "2025-05-13 11:00:22,871 [INFO ] [state.generation_sta]: GenerationState initialised. Prompt length (chars) = 266\n",
      "2025-05-13 11:00:22,871 [INFO ] [state.generation_sta]: GenerationState initialised. Prompt length (chars) = 266\n",
      "2025-05-13 11:00:22,871 [INFO ] [state.generation_sta]: GenerationState initialised. Prompt length (chars) = 266\n",
      "2025-05-13 11:00:22,871 [INFO ] [state.generation_sta]: GenerationState initialised. Prompt length (chars) = 266\n",
      "2025-05-13 11:00:22,872 [WARNI] [core.sampler        ]:     ✓ replacement='▁struggled' (pool=7, T=0.7, min_p=0.05, top_p=1.0, top_k=50)\n",
      "2025-05-13 11:00:22,872 [DEBUG] [root                ]: BANNED (prompt_idx=0, type=slop_phrase, phrase='shifted' @ orig_token='▁shifted' ...'your soul.”  Johnny shifted uncomfortably, feel'...)\n",
      "2025-05-13 11:00:22,872 [DEBUG] [api_client.api_clien]: POST https://ncfi2yswjottwq-8888.proxy.runpod.net/v1/completions\n",
      "2025-05-13 11:00:22,872 [DEBUG] [api_client.api_clien]: Payload: {\"model\": \"unsloth/gemma-3-4b-it\", \"prompt\": \"<bos><start_of_turn>user\\nWriting prompt: After defeating the Devil down in Georgia, Johnny proudly proclaims he's the best that's ever been. A flash of lightning crashes down and God appears, fiddle in hand. The Devil gets his popcorn ready.\\n\\nWrite 1000 words to this prompt. Your response:\\n<end_of_turn>\\n<start_of_turn>model\\nThe rain in Georgia was a greasy, insistent thing, clinging to everything with the stubbornness of regret. It mirrored the\n",
      "2025-05-13 11:00:23,445 [DEBUG] [urllib3.connectionpo]: https://ncfi2yswjottwq-8888.proxy.runpod.net:443 \"POST /v1/completions HTTP/1.1\" 200 None\n",
      "2025-05-13 11:00:23,517 [DEBUG] [api_client.api_clien]: Raw response: {\"id\": \"cmpl-74a7ee56adaa474b9eb9cd5f1554b143\", \"object\": \"text_completion\", \"created\": 1747098028, \"model\": \"unsloth/gemma-3-4b-it\", \"choices\": [{\"index\": 0, \"text\": \" to process this. He\\u2019d always seen evil as a tangible thing, a force to be fought\", \"logprobs\": {\"text_offset\": [0, 3, 11, 16, 17, 20, 21, 22, 29, 34, 39, 42, 44, 53, 59, 60, 62, 68, 71, 74], \"token_logprobs\": [-0.00011014331539627165, -0.10176078975200653, -0.09832371026277542, -0.006658746860921383, -0.3378829061985016, -0.23992790281772614, 0.0, -0.33176901936531067, -0.9329992532730103, -0.6648333072662354, -0.0011248220689594746, -0.33689889311790466, -0.18603482842445374, -0.39809727668762207, -0.0024485390167683363, -0.11451975256204605, -0.36768877506256104, -0.03164184093475342, -0.000612071540672332, -0.4193202257156372], \"tokens\": [\"\\u2581to\", \"\\u2581process\", \"\\u2581this\", \".\", \"\\u2581He\", \"\\u2019\", \"d\", \"\\u2581always\", \"\\u2581seen\", \"\\u2581evil\", \"\\u2581as\", \"\\u2581a\", \"\\u2581tangible\", \"\\u2581thing\", \",\", \"\\u2581a\", \"\\u2581force\", \"\\u2581to\", \"\\u2581be\", \"\\u2581fought\"], \"top_logprobs\": [{\"\\u2581to\": -0.00011014331539627165, \"\\u2581for\": -9.250109672546387, \"\\u2581with\": -11.250109672546387, \",\": -13.875109672546387, \".\": -16.500110626220703, \"\\u2581against\": -17.375110626220703, \"\\u2581not\": -17.750110626220703, \"\\u2581\\u2581\": -18.500110626220703, \"\\u2581\\u2013\": -20.125110626220703, \"\\u2581understand\": -20.250110626220703, \"to\": -20.500110626220703, \"\\u2581under\": -20.750110626220703, \"\\u2581just\": -20.875110626220703, \"\\u2581again\": -21.125110626220703, \"\\u2581beneath\": -21.250110626220703, \"\\u2581in\": -21.250110626220703, \"\\u2581on\": -21.375110626220703, \"\\u2581his\": -21.500110626220703, \"\\u2581desperately\": -21.500110626220703, \"\\u2581comprehend\": -21.625110626220703}, {\"\\u2581process\": -0.10176078975200653, \"\\u2581comprehend\": -2.8517608642578125, \"\\u2581grasp\": -3.8517608642578125, \"\\u2581understand\": -4.6017608642578125, \"\\u2581reconcile\": -5.1017608642578125, \"\\u2581make\":\n",
      "2025-05-13 11:00:23,517 [INFO ] [api_client.api_clien]: Received 20 token strings (finish_reason=length).\n",
      "2025-05-13 11:00:23,520 [DEBUG] [api_client.api_clien]: POST https://ncfi2yswjottwq-8888.proxy.runpod.net/v1/completions\n",
      "2025-05-13 11:00:23,520 [DEBUG] [api_client.api_clien]: Payload: {\"model\": \"unsloth/gemma-3-4b-it\", \"prompt\": \"<bos><start_of_turn>user\\nWriting prompt: After defeating the Devil down in Georgia, Johnny proudly proclaims he's the best that's ever been. A flash of lightning crashes down and God appears, fiddle in hand. The Devil gets his popcorn ready.\\n\\nWrite 1000 words to this prompt. Your response:\\n<end_of_turn>\\n<start_of_turn>model\\nThe rain in Georgia was a greasy, insistent thing, clinging to everything with the stubbornness of regret. It mirrored the\n"
     ]
    },
    {
     "name": "stdout",
     "output_type": "stream",
     "text": [
      "Batch Generating:   0%|          | 0/1 [01:03<?, ?prompt/s, 18.7 tok/s]"
     ]
    },
    {
     "name": "stderr",
     "output_type": "stream",
     "text": [
      "2025-05-13 11:00:24,091 [DEBUG] [urllib3.connectionpo]: https://ncfi2yswjottwq-8888.proxy.runpod.net:443 \"POST /v1/completions HTTP/1.1\" 200 None\n",
      "2025-05-13 11:00:24,153 [DEBUG] [api_client.api_clien]: Raw response: {\"id\": \"cmpl-aac47ccb989d4e06a52bbbd8e1e4b00e\", \"object\": \"text_completion\", \"created\": 1747098029, \"model\": \"unsloth/gemma-3-4b-it\", \"choices\": [{\"index\": 0, \"text\": \". But this\\u2026 this felt like something far more complex, far more insidious. \\n\\n\\u201cSo\", \"logprobs\": {\"text_offset\": [0, 1, 5, 10, 11, 16, 21, 26, 36, 40, 45, 53, 54, 58, 63, 73, 74, 75, 77, 78], \"token_logprobs\": [-0.5686255097389221, -1.4090380668640137, -0.054285187274217606, -0.0960993766784668, -0.0029541682451963425, -1.6241182088851929, -0.1216609850525856, -0.04303382709622383, -0.06306741386651993, -0.001653733546845615, -0.4191596210002899, -0.009238943457603455, -0.7409726977348328, -0.00015400654228869826, -0.5957783460617065, -4.255681051290594e-05, -0.06107005476951599, -6.0437283536884934e-05, -0.05586671456694603, -1.038956642150879], \"tokens\": [\".\", \"\\u2581But\", \"\\u2581this\", \"\\u2026\", \"\\u2581this\", \"\\u2581felt\", \"\\u2581like\", \"\\u2581something\", \"\\u2581far\", \"\\u2581more\", \"\\u2581complex\", \",\", \"\\u2581far\", \"\\u2581more\", \"\\u2581insidious\", \".\", \"\\u2581\", \"\\n\\n\", \"\\u201c\", \"So\"], \"top_logprobs\": [{\".\": -0.5686255097389221, \",\": -1.1936254501342773, \"\\u2581and\": -2.4436254501342773, \"\\u2581against\": -3.6936254501342773, \"\\u2581directly\": -4.443625450134277, \"\\u2581with\": -5.318625450134277, \"\\u2581head\": -6.693625450134277, \"\\u2581\\u2013\": -7.318625450134277, \"\\u2014\": -9.943625450134277, \"\\u2581outright\": -10.068625450134277, \"\\u2581back\": -10.068625450134277, \"\\u2581physically\": -10.318625450134277, \";\": -10.443625450134277, \"\\u2581actively\": -10.818625450134277, \"\\u2581-\": -10.943625450134277, \"\\u2581like\": -11.318625450134277, \"\\u2581in\": -12.068625450134277, \"\\u2581explicitly\": -12.318625450134277, \"\\u2581on\": -12.693625450134277, \"\\u2581rather\": -12.818625450134277}, {\"\\u2581But\": -1.4090380668640137, \"\\u2581This\": -0.6590380072593689, \"\\u2581He\": -2.1590380668640137, \"\\u2581Now\": -2.6590380668640137, \"\\u2581Not\": -3.5340380668640137, \"\\u2581\\u2581\": -4.659038066864014, \"\\u25\n",
      "2025-05-13 11:00:24,154 [INFO ] [api_client.api_clien]: Received 20 token strings (finish_reason=length).\n",
      "2025-05-13 11:00:24,157 [WARNI] [validators.ngram_val]: NGram violation: 'felt like' (stopwords_removed=True) @tok=1159 (char_pos=4936). Context: ... to be fought. But this… this felt like something far more complex, f...\n",
      "2025-05-13 11:00:24,157 [WARNI] [core.sampler        ]: Back-tracking @tok=1159 orig='▁felt' ban='{'ngram_tuple': ['felt', 'like'], 'ngram_string': 'felt like', 'remove_stopwords_active': True, 'context': ' to be fought. But this… this felt like something far more complex, f', 'suppression_detail_key': 'felt like (stopwords_removed=True)'}'.\n",
      "2025-05-13 11:00:24,157 [INFO ] [state.generation_sta]: GenerationState initialised. Prompt length (chars) = 266\n",
      "2025-05-13 11:00:24,157 [INFO ] [state.generation_sta]: GenerationState initialised. Prompt length (chars) = 266\n",
      "2025-05-13 11:00:24,157 [INFO ] [state.generation_sta]: GenerationState initialised. Prompt length (chars) = 266\n",
      "2025-05-13 11:00:24,157 [INFO ] [state.generation_sta]: GenerationState initialised. Prompt length (chars) = 266\n",
      "2025-05-13 11:00:24,157 [INFO ] [state.generation_sta]: GenerationState initialised. Prompt length (chars) = 266\n",
      "2025-05-13 11:00:24,157 [INFO ] [state.generation_sta]: GenerationState initialised. Prompt length (chars) = 266\n",
      "2025-05-13 11:00:24,157 [INFO ] [state.generation_sta]: GenerationState initialised. Prompt length (chars) = 266\n",
      "2025-05-13 11:00:24,157 [INFO ] [state.generation_sta]: GenerationState initialised. Prompt length (chars) = 266\n",
      "2025-05-13 11:00:24,157 [INFO ] [state.generation_sta]: GenerationState initialised. Prompt length (chars) = 266\n",
      "2025-05-13 11:00:24,157 [INFO ] [state.generation_sta]: GenerationState initialised. Prompt length (chars) = 266\n",
      "2025-05-13 11:00:24,157 [INFO ] [state.generation_sta]: GenerationState initialised. Prompt length (chars) = 266\n",
      "2025-05-13 11:00:24,157 [INFO ] [state.generation_sta]: GenerationState initialised. Prompt length (chars) = 266\n",
      "2025-05-13 11:00:24,157 [INFO ] [state.generation_sta]: GenerationState initialised. Prompt length (chars) = 266\n",
      "2025-05-13 11:00:24,157 [INFO ] [state.generation_sta]: GenerationState initialised. Prompt length (chars) = 266\n",
      "2025-05-13 11:00:24,157 [INFO ] [state.generation_sta]: GenerationState initialised. Prompt length (chars) = 266\n",
      "2025-05-13 11:00:24,157 [INFO ] [state.generation_sta]: GenerationState initialised. Prompt length (chars) = 266\n",
      "2025-05-13 11:00:24,157 [INFO ] [state.generation_sta]: GenerationState initialised. Prompt length (chars) = 266\n",
      "2025-05-13 11:00:24,158 [INFO ] [state.generation_sta]: GenerationState initialised. Prompt length (chars) = 266\n",
      "2025-05-13 11:00:24,158 [INFO ] [state.generation_sta]: GenerationState initialised. Prompt length (chars) = 266\n",
      "2025-05-13 11:00:24,158 [WARNI] [core.sampler        ]:     ✓ replacement='▁was' (pool=1, T=0.7, min_p=0.05, top_p=1.0, top_k=50)\n",
      "2025-05-13 11:00:24,159 [DEBUG] [root                ]: BANNED (prompt_idx=0, type=ngram, ngram='felt like' (stopwords_removed=True) @ orig_token='▁felt' ...'to be fought. But this… this felt like something far more complex, f'...)\n",
      "2025-05-13 11:00:24,159 [DEBUG] [api_client.api_clien]: POST https://ncfi2yswjottwq-8888.proxy.runpod.net/v1/completions\n",
      "2025-05-13 11:00:24,159 [DEBUG] [api_client.api_clien]: Payload: {\"model\": \"unsloth/gemma-3-4b-it\", \"prompt\": \"<bos><start_of_turn>user\\nWriting prompt: After defeating the Devil down in Georgia, Johnny proudly proclaims he's the best that's ever been. A flash of lightning crashes down and God appears, fiddle in hand. The Devil gets his popcorn ready.\\n\\nWrite 1000 words to this prompt. Your response:\\n<end_of_turn>\\n<start_of_turn>model\\nThe rain in Georgia was a greasy, insistent thing, clinging to everything with the stubbornness of regret. It mirrored the\n"
     ]
    },
    {
     "name": "stdout",
     "output_type": "stream",
     "text": [
      "Batch Generating:   0%|          | 0/1 [01:04<?, ?prompt/s, 18.6 tok/s]"
     ]
    },
    {
     "name": "stderr",
     "output_type": "stream",
     "text": [
      "2025-05-13 11:00:24,731 [DEBUG] [urllib3.connectionpo]: https://ncfi2yswjottwq-8888.proxy.runpod.net:443 \"POST /v1/completions HTTP/1.1\" 200 None\n",
      "2025-05-13 11:00:24,896 [DEBUG] [api_client.api_clien]: Raw response: {\"id\": \"cmpl-00cd958089f649448ff33afd14b3e682\", \"object\": \"text_completion\", \"created\": 1747098029, \"model\": \"unsloth/gemma-3-4b-it\", \"choices\": [{\"index\": 0, \"text\": \" something far more complex, something rooted in the human condition. \\n\\n\\u201cSo, you\\u2019re\", \"logprobs\": {\"text_offset\": [0, 10, 14, 19, 27, 28, 38, 45, 48, 52, 58, 68, 69, 70, 72, 73, 75, 76, 80, 81], \"token_logprobs\": [-0.06183315068483353, -0.3851158618927002, -0.0005714452126994729, -0.2833910286426544, -0.03892111778259277, -1.009887456893921, -0.7708553671836853, -0.00543390866369009, -0.4572725296020508, -0.229650616645813, -0.21641002595424652, -0.38714125752449036, -0.06976069509983063, -4.160317621426657e-05, -0.05593029409646988, -0.32819876074790955, -0.16333240270614624, -0.26316455006599426, -0.33923837542533875, -1.6689160474925302e-05], \"tokens\": [\"\\u2581something\", \"\\u2581far\", \"\\u2581more\", \"\\u2581complex\", \",\", \"\\u2581something\", \"\\u2581rooted\", \"\\u2581in\", \"\\u2581the\", \"\\u2581human\", \"\\u2581condition\", \".\", \"\\u2581\", \"\\n\\n\", \"\\u201c\", \"So\", \",\", \"\\u2581you\", \"\\u2019\", \"re\"], \"top_logprobs\": [{\"\\u2581something\": -0.06183315068483353, \"\\u2581different\": -4.061833381652832, \"\\u2581more\": -4.186833381652832, \"\\u2581an\": -4.561833381652832, \"\\u2581a\": -4.561833381652832, \"\\u2581far\": -6.561833381652832, \"\\u2581deeper\": -6.686833381652832, \"\\u2581like\": -6.936833381652832, \"\\u2581about\": -7.061833381652832, \"\\u2581unsettling\": -8.561833381652832, \"\\u2581existential\": -8.561833381652832, \"\\u2581insidious\": -8.811833381652832, \"\\u2581nuanced\": -8.936833381652832, \"\\u2581complex\": -9.061833381652832, \"\\u2581abstract\": -9.186833381652832, \"\\u2581suggesting\": -9.311833381652832, \"\\u2581complicated\": -9.311833381652832, \"\\u2581layered\": -9.311833381652832, \"\\u2581so\": -9.436833381652832, \"\\u2581philosophical\": -9.561833381652832}, {\"\\u2581far\": -0.3851158618927002, \"\\u2581more\": -1.8851158618927002, \"\\u2581else\": -2.2601158618927, \"\\u2581deeper\": -3.3851158618927, \"\\u2581different\": -4.01\n",
      "2025-05-13 11:00:24,896 [INFO ] [api_client.api_clien]: Received 20 token strings (finish_reason=length).\n",
      "2025-05-13 11:00:24,900 [WARNI] [validators.ngram_val]: NGram violation: 'something far' (stopwords_removed=True) @tok=1160 (char_pos=4940). Context: ...be fought. But this… this was something far more complex, something roote...\n",
      "2025-05-13 11:00:24,900 [WARNI] [core.sampler        ]: Back-tracking @tok=1160 orig='▁something' ban='{'ngram_tuple': ['something', 'far'], 'ngram_string': 'something far', 'remove_stopwords_active': True, 'context': 'be fought. But this… this was something far more complex, something roote', 'suppression_detail_key': 'something far (stopwords_removed=True)'}'.\n",
      "2025-05-13 11:00:24,900 [INFO ] [state.generation_sta]: GenerationState initialised. Prompt length (chars) = 266\n",
      "2025-05-13 11:00:24,900 [INFO ] [state.generation_sta]: GenerationState initialised. Prompt length (chars) = 266\n",
      "2025-05-13 11:00:24,900 [INFO ] [state.generation_sta]: GenerationState initialised. Prompt length (chars) = 266\n",
      "2025-05-13 11:00:24,900 [INFO ] [state.generation_sta]: GenerationState initialised. Prompt length (chars) = 266\n",
      "2025-05-13 11:00:24,900 [INFO ] [state.generation_sta]: GenerationState initialised. Prompt length (chars) = 266\n",
      "2025-05-13 11:00:24,900 [INFO ] [state.generation_sta]: GenerationState initialised. Prompt length (chars) = 266\n",
      "2025-05-13 11:00:24,900 [INFO ] [state.generation_sta]: GenerationState initialised. Prompt length (chars) = 266\n",
      "2025-05-13 11:00:24,900 [INFO ] [state.generation_sta]: GenerationState initialised. Prompt length (chars) = 266\n",
      "2025-05-13 11:00:24,900 [INFO ] [state.generation_sta]: GenerationState initialised. Prompt length (chars) = 266\n",
      "2025-05-13 11:00:24,900 [INFO ] [state.generation_sta]: GenerationState initialised. Prompt length (chars) = 266\n",
      "2025-05-13 11:00:24,900 [INFO ] [state.generation_sta]: GenerationState initialised. Prompt length (chars) = 266\n",
      "2025-05-13 11:00:24,900 [INFO ] [state.generation_sta]: GenerationState initialised. Prompt length (chars) = 266\n",
      "2025-05-13 11:00:24,901 [INFO ] [state.generation_sta]: GenerationState initialised. Prompt length (chars) = 266\n",
      "2025-05-13 11:00:24,901 [INFO ] [state.generation_sta]: GenerationState initialised. Prompt length (chars) = 266\n",
      "2025-05-13 11:00:24,901 [INFO ] [state.generation_sta]: GenerationState initialised. Prompt length (chars) = 266\n",
      "2025-05-13 11:00:24,901 [INFO ] [state.generation_sta]: GenerationState initialised. Prompt length (chars) = 266\n",
      "2025-05-13 11:00:24,901 [INFO ] [state.generation_sta]: GenerationState initialised. Prompt length (chars) = 266\n",
      "2025-05-13 11:00:24,901 [INFO ] [state.generation_sta]: GenerationState initialised. Prompt length (chars) = 266\n",
      "2025-05-13 11:00:24,902 [WARNI] [core.sampler        ]:     ✓ replacement='▁an' (pool=4, T=0.7, min_p=0.05, top_p=1.0, top_k=50)\n",
      "2025-05-13 11:00:24,903 [DEBUG] [root                ]: BANNED (prompt_idx=0, type=ngram, ngram='something far' (stopwords_removed=True) @ orig_token='▁something' ...'be fought. But this… this was something far more complex, something roote'...)\n",
      "2025-05-13 11:00:24,903 [DEBUG] [api_client.api_clien]: POST https://ncfi2yswjottwq-8888.proxy.runpod.net/v1/completions\n",
      "2025-05-13 11:00:24,903 [DEBUG] [api_client.api_clien]: Payload: {\"model\": \"unsloth/gemma-3-4b-it\", \"prompt\": \"<bos><start_of_turn>user\\nWriting prompt: After defeating the Devil down in Georgia, Johnny proudly proclaims he's the best that's ever been. A flash of lightning crashes down and God appears, fiddle in hand. The Devil gets his popcorn ready.\\n\\nWrite 1000 words to this prompt. Your response:\\n<end_of_turn>\\n<start_of_turn>model\\nThe rain in Georgia was a greasy, insistent thing, clinging to everything with the stubbornness of regret. It mirrored the\n"
     ]
    },
    {
     "name": "stdout",
     "output_type": "stream",
     "text": [
      "Batch Generating:   0%|          | 0/1 [01:04<?, ?prompt/s, 18.4 tok/s]"
     ]
    },
    {
     "name": "stderr",
     "output_type": "stream",
     "text": [
      "2025-05-13 11:00:25,475 [DEBUG] [urllib3.connectionpo]: https://ncfi2yswjottwq-8888.proxy.runpod.net:443 \"POST /v1/completions HTTP/1.1\" 200 None\n",
      "2025-05-13 11:00:25,538 [DEBUG] [api_client.api_clien]: Raw response: {\"id\": \"cmpl-ecf2f808bf6344aab8782e793de9ff30\", \"object\": \"text_completion\", \"created\": 1747098030, \"model\": \"unsloth/gemma-3-4b-it\", \"choices\": [{\"index\": 0, \"text\": \" idea, a philosophy, a terrifyingly complex explanation for something he\\u2019d simply labeled \\u2018bad.\\u2019\", \"logprobs\": {\"text_offset\": [0, 5, 6, 8, 19, 20, 22, 33, 35, 43, 55, 59, 69, 72, 73, 74, 81, 89, 91, 94], \"token_logprobs\": [-0.35916823148727417, -0.12716437876224518, -0.023496175184845924, -0.4288695156574249, -1.5107320547103882, -0.08102480322122574, -1.4742438793182373, -0.552666425704956, -0.2831379771232605, -0.2679182291030884, -0.23071880638599396, -0.14130361378192902, -0.0324106328189373, -0.16878315806388855, 0.0, -2.1931419372558594, -0.2960817217826843, -1.4026622772216797, -0.0564715638756752, -0.20264148712158203], \"tokens\": [\"\\u2581idea\", \",\", \"\\u2581a\", \"\\u2581philosophy\", \",\", \"\\u2581a\", \"\\u2581terrifying\", \"ly\", \"\\u2581complex\", \"\\u2581explanation\", \"\\u2581for\", \"\\u2581something\", \"\\u2581he\", \"\\u2019\", \"d\", \"\\u2581simply\", \"\\u2581labeled\", \"\\u2581\\u2018\", \"bad\", \".\\u2019\"], \"top_logprobs\": [{\"\\u2581idea\": -0.35916823148727417, \"\\u2581explanation\": -1.359168291091919, \"\\u2581abstract\": -3.859168291091919, \"\\u2581abstraction\": -4.23416805267334, \"\\u2581internal\": -6.48416805267334, \"\\u2581entirely\": -6.48416805267334, \"\\u2581understanding\": -6.85916805267334, \"\\u2581ideology\": -7.48416805267334, \"\\u2581unsettling\": -7.60916805267334, \"\\u2581existential\": -7.60916805267334, \"\\u2581argument\": -7.73416805267334, \"\\u2581intangible\": -7.98416805267334, \"\\u2581uncomfortable\": -8.10916805267334, \"\\u2581acknowledgement\": -8.23416805267334, \"\\u2581acknowledgment\": -8.35916805267334, \"\\u2581intricate\": -8.48416805267334, \"\\u2581inherent\": -8.48416805267334, \"\\u2581intellectual\": -8.73416805267334, \"\\u2581insidious\": -8.98416805267334, \"\\u2581observation\": -9.10916805267334}, {\",\": -0.12716437876224518, \".\": -2.127164363861084, \"\\u2581he\": -9.252164840698242, \"\\u2581that\": -10.2521\n",
      "2025-05-13 11:00:25,538 [INFO ] [api_client.api_clien]: Received 20 token strings (finish_reason=length).\n",
      "2025-05-13 11:00:25,539 [WARNI] [validators.slop_phra]: Slop violation: 'terrifying' @tok=1167 (char_pos=4965) …ea, a philosophy, a terrifyingly complex explanati…\n",
      "2025-05-13 11:00:25,541 [WARNI] [core.sampler        ]: Back-tracking @tok=1167 orig='▁terrifying' ban='{'phrase': 'terrifying', 'context': 'ea, a philosophy, a terrifyingly complex explanati', 'suppression_detail_key': 'terrifying'}'.\n",
      "2025-05-13 11:00:25,541 [INFO ] [state.generation_sta]: GenerationState initialised. Prompt length (chars) = 266\n",
      "2025-05-13 11:00:25,541 [INFO ] [state.generation_sta]: GenerationState initialised. Prompt length (chars) = 266\n",
      "2025-05-13 11:00:25,541 [INFO ] [state.generation_sta]: GenerationState initialised. Prompt length (chars) = 266\n",
      "2025-05-13 11:00:25,541 [INFO ] [state.generation_sta]: GenerationState initialised. Prompt length (chars) = 266\n",
      "2025-05-13 11:00:25,541 [INFO ] [state.generation_sta]: GenerationState initialised. Prompt length (chars) = 266\n",
      "2025-05-13 11:00:25,541 [INFO ] [state.generation_sta]: GenerationState initialised. Prompt length (chars) = 266\n",
      "2025-05-13 11:00:25,541 [INFO ] [state.generation_sta]: GenerationState initialised. Prompt length (chars) = 266\n",
      "2025-05-13 11:00:25,541 [INFO ] [state.generation_sta]: GenerationState initialised. Prompt length (chars) = 266\n",
      "2025-05-13 11:00:25,541 [INFO ] [state.generation_sta]: GenerationState initialised. Prompt length (chars) = 266\n",
      "2025-05-13 11:00:25,541 [INFO ] [state.generation_sta]: GenerationState initialised. Prompt length (chars) = 266\n",
      "2025-05-13 11:00:25,541 [INFO ] [state.generation_sta]: GenerationState initialised. Prompt length (chars) = 266\n",
      "2025-05-13 11:00:25,541 [INFO ] [state.generation_sta]: GenerationState initialised. Prompt length (chars) = 266\n",
      "2025-05-13 11:00:25,541 [INFO ] [state.generation_sta]: GenerationState initialised. Prompt length (chars) = 266\n",
      "2025-05-13 11:00:25,541 [INFO ] [state.generation_sta]: GenerationState initialised. Prompt length (chars) = 266\n",
      "2025-05-13 11:00:25,542 [INFO ] [state.generation_sta]: GenerationState initialised. Prompt length (chars) = 266\n",
      "2025-05-13 11:00:25,542 [INFO ] [state.generation_sta]: GenerationState initialised. Prompt length (chars) = 266\n",
      "2025-05-13 11:00:25,542 [INFO ] [state.generation_sta]: GenerationState initialised. Prompt length (chars) = 266\n",
      "2025-05-13 11:00:25,542 [INFO ] [state.generation_sta]: GenerationState initialised. Prompt length (chars) = 266\n",
      "2025-05-13 11:00:25,542 [INFO ] [state.generation_sta]: GenerationState initialised. Prompt length (chars) = 266\n",
      "2025-05-13 11:00:25,543 [WARNI] [core.sampler        ]:     ✓ replacement='▁deeply' (pool=12, T=0.7, min_p=0.05, top_p=1.0, top_k=50)\n",
      "2025-05-13 11:00:25,543 [DEBUG] [root                ]: BANNED (prompt_idx=0, type=slop_phrase, phrase='terrifying' @ orig_token='▁terrifying' ...'ea, a philosophy, a terrifyingly complex explanati'...)\n",
      "2025-05-13 11:00:25,543 [DEBUG] [api_client.api_clien]: POST https://ncfi2yswjottwq-8888.proxy.runpod.net/v1/completions\n",
      "2025-05-13 11:00:25,543 [DEBUG] [api_client.api_clien]: Payload: {\"model\": \"unsloth/gemma-3-4b-it\", \"prompt\": \"<bos><start_of_turn>user\\nWriting prompt: After defeating the Devil down in Georgia, Johnny proudly proclaims he's the best that's ever been. A flash of lightning crashes down and God appears, fiddle in hand. The Devil gets his popcorn ready.\\n\\nWrite 1000 words to this prompt. Your response:\\n<end_of_turn>\\n<start_of_turn>model\\nThe rain in Georgia was a greasy, insistent thing, clinging to everything with the stubbornness of regret. It mirrored the\n"
     ]
    },
    {
     "name": "stdout",
     "output_type": "stream",
     "text": [
      "Batch Generating:   0%|          | 0/1 [01:05<?, ?prompt/s, 18.3 tok/s]"
     ]
    },
    {
     "name": "stderr",
     "output_type": "stream",
     "text": [
      "2025-05-13 11:00:26,116 [DEBUG] [urllib3.connectionpo]: https://ncfi2yswjottwq-8888.proxy.runpod.net:443 \"POST /v1/completions HTTP/1.1\" 200 None\n",
      "2025-05-13 11:00:26,178 [DEBUG] [api_client.api_clien]: Raw response: {\"id\": \"cmpl-e33971c607e949f7999f30f25a327f7e\", \"object\": \"text_completion\", \"created\": 1747098031, \"model\": \"unsloth/gemma-3-4b-it\", \"choices\": [{\"index\": 0, \"text\": \" unsettling truth. \\n\\n\\u201cSo, you\\u2019re saying you\\u2019re not\\u2026 evil?\\u201d he\", \"logprobs\": {\"text_offset\": [0, 11, 17, 18, 19, 21, 22, 24, 25, 29, 30, 32, 39, 43, 44, 46, 50, 51, 56, 58], \"token_logprobs\": [-0.02600744552910328, -0.4235589802265167, -0.0019507441902533174, -0.07037097960710526, -1.7165990357170813e-05, -0.0636797845363617, -0.7246530652046204, -0.12301231920719147, -0.25296270847320557, -0.5733547806739807, -4.5536911784438416e-05, -0.0008278042078018188, -2.0591845512390137, -0.5775085091590881, -5.471556869451888e-05, -0.10078811645507812, -1.2394367456436157, -1.8880059719085693, -0.01507767103612423, -0.8457748293876648], \"tokens\": [\"\\u2581unsettling\", \"\\u2581truth\", \".\", \"\\u2581\", \"\\n\\n\", \"\\u201c\", \"So\", \",\", \"\\u2581you\", \"\\u2019\", \"re\", \"\\u2581saying\", \"\\u2581you\", \"\\u2019\", \"re\", \"\\u2581not\", \"\\u2026\", \"\\u2581evil\", \"?\\u201d\", \"\\u2581he\"], \"top_logprobs\": [{\"\\u2581unsettling\": -0.02600744552910328, \"\\u2581uncomfortable\": -3.7760074138641357, \"\\u2581disturbing\": -6.276007652282715, \"\\u2581troubling\": -7.401007652282715, \"\\u2581unn\": -9.526007652282715, \"\\u2581complicated\": -10.151007652282715, \"\\u2581complex\": -10.276007652282715, \"\\u2581unpleasant\": -10.776007652282715, \"\\u2581disconcert\": -11.276007652282715, \"\\u2581sorrow\": -11.276007652282715, \"\\u2581sad\": -11.401007652282715, \"\\u2581mourn\": -11.651007652282715, \"\\u2581profound\": -12.026007652282715, \"\\u2581personal\": -12.276007652282715, \"\\u2581painful\": -12.401007652282715, \"\\u2581depressing\": -12.526007652282715, \"\\u2581melanch\": -12.651007652282715, \"\\u2581ingrained\": -12.776007652282715, \"\\u2581haunting\": -13.026007652282715, \"\\u2581tragic\": -13.026007652282715}, {\"\\u2581truth\": -0.4235589802265167, \"\\u2581realization\": -2.4235589504241943, \"\\u2581explanation\": -2.5485589504241943, \"\\u2581revelation\": -2.798\n",
      "2025-05-13 11:00:26,178 [INFO ] [api_client.api_clien]: Received 20 token strings (finish_reason=length).\n",
      "2025-05-13 11:00:26,179 [WARNI] [validators.slop_phra]: Slop violation: 'unsettling' @tok=1168 (char_pos=4972) …hilosophy, a deeply unsettling truth.   “So, you’r…\n",
      "2025-05-13 11:00:26,181 [WARNI] [core.sampler        ]: Back-tracking @tok=1168 orig='▁unsettling' ban='{'phrase': 'unsettling', 'context': 'hilosophy, a deeply unsettling truth.   “So, you’r', 'suppression_detail_key': 'unsettling'}'.\n",
      "2025-05-13 11:00:26,181 [INFO ] [state.generation_sta]: GenerationState initialised. Prompt length (chars) = 266\n",
      "2025-05-13 11:00:26,181 [INFO ] [state.generation_sta]: GenerationState initialised. Prompt length (chars) = 266\n",
      "2025-05-13 11:00:26,181 [INFO ] [state.generation_sta]: GenerationState initialised. Prompt length (chars) = 266\n",
      "2025-05-13 11:00:26,181 [INFO ] [state.generation_sta]: GenerationState initialised. Prompt length (chars) = 266\n",
      "2025-05-13 11:00:26,181 [INFO ] [state.generation_sta]: GenerationState initialised. Prompt length (chars) = 266\n",
      "2025-05-13 11:00:26,181 [INFO ] [state.generation_sta]: GenerationState initialised. Prompt length (chars) = 266\n",
      "2025-05-13 11:00:26,181 [INFO ] [state.generation_sta]: GenerationState initialised. Prompt length (chars) = 266\n",
      "2025-05-13 11:00:26,181 [INFO ] [state.generation_sta]: GenerationState initialised. Prompt length (chars) = 266\n",
      "2025-05-13 11:00:26,181 [INFO ] [state.generation_sta]: GenerationState initialised. Prompt length (chars) = 266\n",
      "2025-05-13 11:00:26,182 [INFO ] [state.generation_sta]: GenerationState initialised. Prompt length (chars) = 266\n",
      "2025-05-13 11:00:26,182 [INFO ] [state.generation_sta]: GenerationState initialised. Prompt length (chars) = 266\n",
      "2025-05-13 11:00:26,182 [INFO ] [state.generation_sta]: GenerationState initialised. Prompt length (chars) = 266\n",
      "2025-05-13 11:00:26,182 [INFO ] [state.generation_sta]: GenerationState initialised. Prompt length (chars) = 266\n",
      "2025-05-13 11:00:26,182 [INFO ] [state.generation_sta]: GenerationState initialised. Prompt length (chars) = 266\n",
      "2025-05-13 11:00:26,182 [INFO ] [state.generation_sta]: GenerationState initialised. Prompt length (chars) = 266\n",
      "2025-05-13 11:00:26,182 [INFO ] [state.generation_sta]: GenerationState initialised. Prompt length (chars) = 266\n",
      "2025-05-13 11:00:26,182 [INFO ] [state.generation_sta]: GenerationState initialised. Prompt length (chars) = 266\n",
      "2025-05-13 11:00:26,182 [INFO ] [state.generation_sta]: GenerationState initialised. Prompt length (chars) = 266\n",
      "2025-05-13 11:00:26,182 [INFO ] [state.generation_sta]: GenerationState initialised. Prompt length (chars) = 266\n",
      "2025-05-13 11:00:26,183 [WARNI] [core.sampler        ]:     ✓ replacement='▁uncomfortable' (pool=1, T=0.7, min_p=0.05, top_p=1.0, top_k=50)\n",
      "2025-05-13 11:00:26,183 [DEBUG] [root                ]: BANNED (prompt_idx=0, type=slop_phrase, phrase='unsettling' @ orig_token='▁unsettling' ...'hilosophy, a deeply unsettling truth.   “So, you’r'...)\n",
      "2025-05-13 11:00:26,183 [DEBUG] [api_client.api_clien]: POST https://ncfi2yswjottwq-8888.proxy.runpod.net/v1/completions\n",
      "2025-05-13 11:00:26,183 [DEBUG] [api_client.api_clien]: Payload: {\"model\": \"unsloth/gemma-3-4b-it\", \"prompt\": \"<bos><start_of_turn>user\\nWriting prompt: After defeating the Devil down in Georgia, Johnny proudly proclaims he's the best that's ever been. A flash of lightning crashes down and God appears, fiddle in hand. The Devil gets his popcorn ready.\\n\\nWrite 1000 words to this prompt. Your response:\\n<end_of_turn>\\n<start_of_turn>model\\nThe rain in Georgia was a greasy, insistent thing, clinging to everything with the stubbornness of regret. It mirrored the\n"
     ]
    },
    {
     "name": "stdout",
     "output_type": "stream",
     "text": [
      "Batch Generating:   0%|          | 0/1 [01:06<?, ?prompt/s, 18.2 tok/s]"
     ]
    },
    {
     "name": "stderr",
     "output_type": "stream",
     "text": [
      "2025-05-13 11:00:26,753 [DEBUG] [urllib3.connectionpo]: https://ncfi2yswjottwq-8888.proxy.runpod.net:443 \"POST /v1/completions HTTP/1.1\" 200 None\n",
      "2025-05-13 11:00:26,816 [DEBUG] [api_client.api_clien]: Raw response: {\"id\": \"cmpl-fc728f614b6544af88fb69da61caac85\", \"object\": \"text_completion\", \"created\": 1747098031, \"model\": \"unsloth/gemma-3-4b-it\", \"choices\": [{\"index\": 0, \"text\": \" truth. \\n\\n\\u201cSo, you\\u2019re saying\\u2026 I just contained a part of myself?\\u201d\", \"logprobs\": {\"text_offset\": [0, 6, 7, 8, 10, 11, 13, 14, 18, 19, 21, 28, 29, 31, 36, 46, 48, 53, 56, 63], \"token_logprobs\": [-0.031414978206157684, -0.00842044036835432, -0.051371920853853226, -1.5258672647178173e-05, -0.0637032762169838, -0.5590686798095703, -0.13091708719730377, -0.2541320323944092, -0.5812398195266724, -3.135155202471651e-05, -0.0006031363154761493, -1.291496992111206, -0.3100917339324951, -0.4734521508216858, -1.1006876230239868, -0.09484550356864929, -0.7158859968185425, -1.1920922133867862e-06, -0.0009807306341826916, -0.00642496207728982], \"tokens\": [\"\\u2581truth\", \".\", \"\\u2581\", \"\\n\\n\", \"\\u201c\", \"So\", \",\", \"\\u2581you\", \"\\u2019\", \"re\", \"\\u2581saying\", \"\\u2026\", \"\\u2581I\", \"\\u2581just\", \"\\u2581contained\", \"\\u2581a\", \"\\u2581part\", \"\\u2581of\", \"\\u2581myself\", \"?\\u201d\"], \"top_logprobs\": [{\"\\u2581truth\": -0.031414978206157684, \"\\u2581realization\": -4.531414985656738, \"\\u2581revelation\": -5.156414985656738, \"\\u2581understanding\": -5.781414985656738, \"\\u2581mirror\": -6.031414985656738, \"\\u2581explanation\": -6.281414985656738, \"\\u2581admission\": -6.906414985656738, \"\\u2581observation\": -7.156414985656738, \"\\u2581one\": -7.406414985656738, \"\\u2581acknowledgement\": -7.531414985656738, \"\\u2581reflection\": -7.531414985656738, \"\\u2581and\": -7.531414985656738, \"\\u2581acknowledgment\": -8.031414985656738, \"\\u2581recognition\": -8.156414985656738, \"\\u2581suggestion\": -8.406414985656738, \"\\u2581introspection\": -8.406414985656738, \"\\u2581proposition\": -8.656414985656738, \"\\u2581possibility\": -8.781414985656738, \"\\u2581reckoning\": -8.906414985656738, \"\\u2581weight\": -9.031414985656738}, {\".\": -0.00842044036835432, \"\\u2581about\": -5.258420467376709, \"\\u2581staring\": -6.258420467376709, \"\\u2581he\": -8.133419990\n",
      "2025-05-13 11:00:26,816 [INFO ] [api_client.api_clien]: Received 20 token strings (finish_reason=length).\n",
      "2025-05-13 11:00:26,819 [DEBUG] [api_client.api_clien]: POST https://ncfi2yswjottwq-8888.proxy.runpod.net/v1/completions\n",
      "2025-05-13 11:00:26,819 [DEBUG] [api_client.api_clien]: Payload: {\"model\": \"unsloth/gemma-3-4b-it\", \"prompt\": \"<bos><start_of_turn>user\\nWriting prompt: After defeating the Devil down in Georgia, Johnny proudly proclaims he's the best that's ever been. A flash of lightning crashes down and God appears, fiddle in hand. The Devil gets his popcorn ready.\\n\\nWrite 1000 words to this prompt. Your response:\\n<end_of_turn>\\n<start_of_turn>model\\nThe rain in Georgia was a greasy, insistent thing, clinging to everything with the stubbornness of regret. It mirrored the\n"
     ]
    },
    {
     "name": "stdout",
     "output_type": "stream",
     "text": [
      "Batch Generating:   0%|          | 0/1 [01:06<?, ?prompt/s, 18.3 tok/s]"
     ]
    },
    {
     "name": "stderr",
     "output_type": "stream",
     "text": [
      "2025-05-13 11:00:27,394 [DEBUG] [urllib3.connectionpo]: https://ncfi2yswjottwq-8888.proxy.runpod.net:443 \"POST /v1/completions HTTP/1.1\" 200 None\n",
      "2025-05-13 11:00:27,454 [DEBUG] [api_client.api_clien]: Raw response: {\"id\": \"cmpl-b829ebec781147e5a848d9868a1523bc\", \"object\": \"text_completion\", \"created\": 1747098032, \"model\": \"unsloth/gemma-3-4b-it\", \"choices\": [{\"index\": 0, \"text\": \" he asked, a chill running down his spine.\\n\\n\\u201cPrecisely,\\u201d the figure replied, a\", \"logprobs\": {\"text_offset\": [0, 3, 9, 10, 12, 18, 26, 31, 35, 41, 42, 44, 45, 51, 54, 56, 60, 67, 75, 76], \"token_logprobs\": [-0.8138024806976318, -0.05893159657716751, -0.0006053998949937522, -2.246018171310425, -1.3417184352874756, -0.5416291952133179, -0.008650568313896656, 0.0, -5.829164365422912e-05, -0.08202435076236725, -1.314133644104004, -0.14344677329063416, -0.18529720604419708, 0.0, -0.008913962170481682, -0.0002217047003796324, -5.8887653722194955e-05, -1.0860008001327515, -1.702796459197998, -0.2592700123786926], \"tokens\": [\"\\u2581he\", \"\\u2581asked\", \",\", \"\\u2581a\", \"\\u2581chill\", \"\\u2581running\", \"\\u2581down\", \"\\u2581his\", \"\\u2581spine\", \".\", \"\\n\\n\", \"\\u201c\", \"Precis\", \"ely\", \",\\u201d\", \"\\u2581the\", \"\\u2581figure\", \"\\u2581replied\", \",\", \"\\u2581a\"], \"top_logprobs\": [{\"\\u2581he\": -0.8138024806976318, \"\\u2581\": -1.1888024806976318, \"\\n\\n\": -1.4388024806976318, \"\\u2581He\": -4.313802719116211, \"\\u2581\\u2581\": -6.688802719116211, \"\\u2581The\": -8.563802719116211, \"\\n\\n\\n\": -9.188802719116211, \"\\u2581Johnny\": -9.438802719116211, \"\\u2581the\": -11.313802719116211, \"\\u2581His\": -11.438802719116211, \"\\u2581It\": -12.688802719116211, \"\\n\\n\\n\\n\": -12.938802719116211, \"\\u2581\\u2581\\u2581\": -14.063802719116211, \"\\u2581it\": -14.188802719116211, \"\\u2581A\": -14.563802719116211, \"\\u2581his\": -15.188802719116211, \"\\u2581John\": -15.188802719116211, \"\\u2581Fear\": -15.438802719116211, \"\\n\\n\\n\\n\\n\": -15.688802719116211, \"\\n\": -15.813802719116211}, {\"\\u2581asked\": -0.05893159657716751, \"\\u2581stam\": -3.308931589126587, \"\\u2581whispered\": -4.058931827545166, \"\\u2581ventured\": -7.058931827545166, \"\\u2581mumbled\": -7.183931827545166, \"\\u2581finally\": -7.433931827545166, \"\\u2581murmured\": -7.808931827545166, \"\\u2581managed\":\n",
      "2025-05-13 11:00:27,454 [INFO ] [api_client.api_clien]: Received 20 token strings (finish_reason=length).\n",
      "2025-05-13 11:00:27,455 [WARNI] [validators.slop_phra]: Slop violation: 'spine' @tok=1197 (char_pos=5086) …ll running down his spine.  “Precisely,” the …\n",
      "2025-05-13 11:00:27,458 [WARNI] [core.sampler        ]: Back-tracking @tok=1197 orig='▁spine' ban='{'phrase': 'spine', 'context': 'll running down his spine.  “Precisely,” the ', 'suppression_detail_key': 'spine'}'.\n",
      "2025-05-13 11:00:27,458 [INFO ] [state.generation_sta]: GenerationState initialised. Prompt length (chars) = 266\n",
      "2025-05-13 11:00:27,458 [INFO ] [state.generation_sta]: GenerationState initialised. Prompt length (chars) = 266\n",
      "2025-05-13 11:00:27,458 [INFO ] [state.generation_sta]: GenerationState initialised. Prompt length (chars) = 266\n",
      "2025-05-13 11:00:27,458 [INFO ] [state.generation_sta]: GenerationState initialised. Prompt length (chars) = 266\n",
      "2025-05-13 11:00:27,458 [INFO ] [state.generation_sta]: GenerationState initialised. Prompt length (chars) = 266\n",
      "2025-05-13 11:00:27,458 [INFO ] [state.generation_sta]: GenerationState initialised. Prompt length (chars) = 266\n",
      "2025-05-13 11:00:27,458 [INFO ] [state.generation_sta]: GenerationState initialised. Prompt length (chars) = 266\n",
      "2025-05-13 11:00:27,458 [INFO ] [state.generation_sta]: GenerationState initialised. Prompt length (chars) = 266\n",
      "2025-05-13 11:00:27,458 [INFO ] [state.generation_sta]: GenerationState initialised. Prompt length (chars) = 266\n",
      "2025-05-13 11:00:27,458 [INFO ] [state.generation_sta]: GenerationState initialised. Prompt length (chars) = 266\n",
      "2025-05-13 11:00:27,458 [INFO ] [state.generation_sta]: GenerationState initialised. Prompt length (chars) = 266\n",
      "2025-05-13 11:00:27,458 [INFO ] [state.generation_sta]: GenerationState initialised. Prompt length (chars) = 266\n",
      "2025-05-13 11:00:27,458 [INFO ] [state.generation_sta]: GenerationState initialised. Prompt length (chars) = 266\n",
      "2025-05-13 11:00:27,458 [INFO ] [state.generation_sta]: GenerationState initialised. Prompt length (chars) = 266\n",
      "2025-05-13 11:00:27,458 [INFO ] [state.generation_sta]: GenerationState initialised. Prompt length (chars) = 266\n",
      "2025-05-13 11:00:27,458 [INFO ] [state.generation_sta]: GenerationState initialised. Prompt length (chars) = 266\n",
      "2025-05-13 11:00:27,458 [INFO ] [state.generation_sta]: GenerationState initialised. Prompt length (chars) = 266\n",
      "2025-05-13 11:00:27,459 [WARNI] [core.sampler        ]:     ✓ replacement='▁back' (pool=1, T=0.7, min_p=0.05, top_p=1.0, top_k=50)\n",
      "2025-05-13 11:00:27,460 [DEBUG] [root                ]: BANNED (prompt_idx=0, type=slop_phrase, phrase='spine' @ orig_token='▁spine' ...'ll running down his spine.  “Precisely,” the'...)\n",
      "2025-05-13 11:00:27,460 [DEBUG] [api_client.api_clien]: POST https://ncfi2yswjottwq-8888.proxy.runpod.net/v1/completions\n",
      "2025-05-13 11:00:27,460 [DEBUG] [api_client.api_clien]: Payload: {\"model\": \"unsloth/gemma-3-4b-it\", \"prompt\": \"<bos><start_of_turn>user\\nWriting prompt: After defeating the Devil down in Georgia, Johnny proudly proclaims he's the best that's ever been. A flash of lightning crashes down and God appears, fiddle in hand. The Devil gets his popcorn ready.\\n\\nWrite 1000 words to this prompt. Your response:\\n<end_of_turn>\\n<start_of_turn>model\\nThe rain in Georgia was a greasy, insistent thing, clinging to everything with the stubbornness of regret. It mirrored the\n"
     ]
    },
    {
     "name": "stdout",
     "output_type": "stream",
     "text": [
      "Batch Generating:   0%|          | 0/1 [01:07<?, ?prompt/s, 18.2 tok/s]"
     ]
    },
    {
     "name": "stderr",
     "output_type": "stream",
     "text": [
      "2025-05-13 11:00:28,031 [DEBUG] [urllib3.connectionpo]: https://ncfi2yswjottwq-8888.proxy.runpod.net:443 \"POST /v1/completions HTTP/1.1\" 200 None\n",
      "2025-05-13 11:00:28,095 [DEBUG] [api_client.api_clien]: Raw response: {\"id\": \"cmpl-46fce2db2b544b61897765f8e6b26384\", \"object\": \"text_completion\", \"created\": 1747098033, \"model\": \"unsloth/gemma-3-4b-it\", \"choices\": [{\"index\": 0, \"text\": \". \\n\\n\\u201cPrecisely,\\u201d the figure said, a hint of something akin to amusement in his\", \"logprobs\": {\"text_offset\": [0, 1, 2, 4, 5, 11, 14, 16, 20, 27, 32, 33, 35, 40, 43, 53, 58, 61, 71, 74], \"token_logprobs\": [-0.2572009861469269, -0.388789564371109, -1.549708758830093e-05, -0.33327236771583557, -0.1986110657453537, 0.0, -0.006667391397058964, -0.0002090712368953973, -4.362964682513848e-05, -2.6946403980255127, -0.14999887347221375, -0.16991524398326874, -0.375675231218338, 0.0, -0.5585124492645264, -0.1293259710073471, -1.5497195136049413e-06, -0.13877935707569122, -0.25409701466560364, -4.768370445162873e-07], \"tokens\": [\".\", \"\\u2581\", \"\\n\\n\", \"\\u201c\", \"Precis\", \"ely\", \",\\u201d\", \"\\u2581the\", \"\\u2581figure\", \"\\u2581said\", \",\", \"\\u2581a\", \"\\u2581hint\", \"\\u2581of\", \"\\u2581something\", \"\\u2581akin\", \"\\u2581to\", \"\\u2581amusement\", \"\\u2581in\", \"\\u2581his\"], \"top_logprobs\": [{\".\": -0.2572009861469269, \"\\u2581despite\": -1.5072009563446045, \"\\u2581that\": -5.382201194763184, \",\": -7.507201194763184, \"\\u2581even\": -9.632201194763184, \"\\u2581he\": -11.382201194763184, \"\\u2581regardless\": -11.757201194763184, \"\\u2581far\": -12.257201194763184, \"\\u2581colder\": -12.257201194763184, \"\\u2581as\": -12.507201194763184, \"\\u2581not\": -12.757201194763184, \"\\u2581beneath\": -12.757201194763184, \"\\u2581\": -13.382201194763184, \"\\u2581\\u2013\": -13.882201194763184, \"\\n\\n\": -14.007201194763184, \"\\u2581deeper\": -14.007201194763184, \"\\u2581faster\": -14.507201194763184, \"\\u2581alongside\": -14.507201194763184, \"\\u2581more\": -15.132201194763184, \"\\u2581beyond\": -15.382201194763184}, {\"\\u2581\": -0.388789564371109, \"\\n\\n\": -1.1387895345687866, \"\\u2581\\u2581\": -6.888789653778076, \"\\u2581\\u201c\": -8.013789176940918, \"\\u2581The\": -8.388789176940918, \"\\u2581He\": -8.763789176940918, \"\\u2581\\\"\": -9.638789176940918, \"\\u2581It\": -9.63878\n",
      "2025-05-13 11:00:28,095 [INFO ] [api_client.api_clien]: Received 20 token strings (finish_reason=length).\n",
      "2025-05-13 11:00:28,096 [WARNI] [validators.slop_phra]: Slop violation: 'hint' @tok=1210 (char_pos=5126) … the figure said, a hint of something akin t…\n",
      "2025-05-13 11:00:28,098 [WARNI] [validators.ngram_val]: NGram violation: 'something akin' (stopwords_removed=True) @tok=1212 (char_pos=5134). Context: ...,” the figure said, a hint of something akin to amusement in his...\n",
      "2025-05-13 11:00:28,098 [WARNI] [core.sampler        ]: Back-tracking @tok=1210 orig='▁hint' ban='{'phrase': 'hint', 'context': ' the figure said, a hint of something akin t', 'suppression_detail_key': 'hint'}'.\n",
      "2025-05-13 11:00:28,098 [INFO ] [state.generation_sta]: GenerationState initialised. Prompt length (chars) = 266\n",
      "2025-05-13 11:00:28,098 [INFO ] [state.generation_sta]: GenerationState initialised. Prompt length (chars) = 266\n",
      "2025-05-13 11:00:28,098 [INFO ] [state.generation_sta]: GenerationState initialised. Prompt length (chars) = 266\n",
      "2025-05-13 11:00:28,098 [INFO ] [state.generation_sta]: GenerationState initialised. Prompt length (chars) = 266\n",
      "2025-05-13 11:00:28,099 [INFO ] [state.generation_sta]: GenerationState initialised. Prompt length (chars) = 266\n",
      "2025-05-13 11:00:28,099 [INFO ] [state.generation_sta]: GenerationState initialised. Prompt length (chars) = 266\n",
      "2025-05-13 11:00:28,099 [INFO ] [state.generation_sta]: GenerationState initialised. Prompt length (chars) = 266\n",
      "2025-05-13 11:00:28,099 [INFO ] [state.generation_sta]: GenerationState initialised. Prompt length (chars) = 266\n",
      "2025-05-13 11:00:28,099 [INFO ] [state.generation_sta]: GenerationState initialised. Prompt length (chars) = 266\n",
      "2025-05-13 11:00:28,099 [INFO ] [state.generation_sta]: GenerationState initialised. Prompt length (chars) = 266\n",
      "2025-05-13 11:00:28,099 [INFO ] [state.generation_sta]: GenerationState initialised. Prompt length (chars) = 266\n",
      "2025-05-13 11:00:28,099 [INFO ] [state.generation_sta]: GenerationState initialised. Prompt length (chars) = 266\n",
      "2025-05-13 11:00:28,099 [INFO ] [state.generation_sta]: GenerationState initialised. Prompt length (chars) = 266\n",
      "2025-05-13 11:00:28,099 [INFO ] [state.generation_sta]: GenerationState initialised. Prompt length (chars) = 266\n",
      "2025-05-13 11:00:28,099 [INFO ] [state.generation_sta]: GenerationState initialised. Prompt length (chars) = 266\n",
      "2025-05-13 11:00:28,099 [INFO ] [state.generation_sta]: GenerationState initialised. Prompt length (chars) = 266\n",
      "2025-05-13 11:00:28,099 [INFO ] [state.generation_sta]: GenerationState initialised. Prompt length (chars) = 266\n",
      "2025-05-13 11:00:28,099 [INFO ] [state.generation_sta]: GenerationState initialised. Prompt length (chars) = 266\n",
      "2025-05-13 11:00:28,099 [INFO ] [state.generation_sta]: GenerationState initialised. Prompt length (chars) = 266\n",
      "2025-05-13 11:00:28,100 [WARNI] [core.sampler        ]:     ✓ replacement='▁faint' (pool=2, T=0.7, min_p=0.05, top_p=1.0, top_k=50)\n",
      "2025-05-13 11:00:28,100 [DEBUG] [root                ]: BANNED (prompt_idx=0, type=slop_phrase, phrase='hint' @ orig_token='▁hint' ...'the figure said, a hint of something akin t'...)\n",
      "2025-05-13 11:00:28,100 [DEBUG] [api_client.api_clien]: POST https://ncfi2yswjottwq-8888.proxy.runpod.net/v1/completions\n",
      "2025-05-13 11:00:28,101 [DEBUG] [api_client.api_clien]: Payload: {\"model\": \"unsloth/gemma-3-4b-it\", \"prompt\": \"<bos><start_of_turn>user\\nWriting prompt: After defeating the Devil down in Georgia, Johnny proudly proclaims he's the best that's ever been. A flash of lightning crashes down and God appears, fiddle in hand. The Devil gets his popcorn ready.\\n\\nWrite 1000 words to this prompt. Your response:\\n<end_of_turn>\\n<start_of_turn>model\\nThe rain in Georgia was a greasy, insistent thing, clinging to everything with the stubbornness of regret. It mirrored the\n"
     ]
    },
    {
     "name": "stdout",
     "output_type": "stream",
     "text": [
      "Batch Generating:   0%|          | 0/1 [01:07<?, ?prompt/s, 18.3 tok/s]"
     ]
    },
    {
     "name": "stderr",
     "output_type": "stream",
     "text": [
      "2025-05-13 11:00:28,671 [DEBUG] [urllib3.connectionpo]: https://ncfi2yswjottwq-8888.proxy.runpod.net:443 \"POST /v1/completions HTTP/1.1\" 200 None\n",
      "2025-05-13 11:00:28,734 [DEBUG] [api_client.api_clien]: Raw response: {\"id\": \"cmpl-b6e1bc789d3a461f95d1146d329d8e36\", \"object\": \"text_completion\", \"created\": 1747098033, \"model\": \"unsloth/gemma-3-4b-it\", \"choices\": [{\"index\": 0, \"text\": \" smile playing on his lips. \\u201cYou didn\\u2019t defeat me. You merely suppressed me. And\", \"logprobs\": {\"text_offset\": [0, 6, 14, 17, 21, 26, 27, 29, 32, 37, 38, 39, 46, 49, 50, 54, 61, 72, 75, 76], \"token_logprobs\": [-0.31771713495254517, -0.19541636109352112, -0.008580365218222141, -2.5748875486897305e-05, -0.00020466140995267779, -0.0007524043321609497, -0.10897735506296158, -0.047301847487688065, -1.193187952041626, -0.386871337890625, 0.0, -1.4802651405334473, -0.23095238208770752, -0.6967372894287109, -0.000439428084064275, -0.4965308904647827, -2.108747959136963, -0.1332760602235794, -0.0018637683242559433, -0.6276047229766846], \"tokens\": [\"\\u2581smile\", \"\\u2581playing\", \"\\u2581on\", \"\\u2581his\", \"\\u2581lips\", \".\", \"\\u2581\\u201c\", \"You\", \"\\u2581didn\", \"\\u2019\", \"t\", \"\\u2581defeat\", \"\\u2581me\", \".\", \"\\u2581You\", \"\\u2581merely\", \"\\u2581suppressed\", \"\\u2581me\", \".\", \"\\u2581And\"], \"top_logprobs\": [{\"\\u2581smile\": -0.31771713495254517, \",\": -1.3177170753479004, \"\\u2581amusement\": -6.8177170753479, \"\\u2581hint\": -6.9427170753479, \"\\u2581flicker\": -7.4427170753479, \"\\u2581curve\": -7.4427170753479, \"\\u2581glimmer\": -7.5677170753479, \"\\u2581trace\": -8.567717552185059, \"\\u2581sadness\": -8.942717552185059, \"\\u2581ghost\": -9.317717552185059, \"\\u2581curl\": -9.317717552185059, \"\\u2581smirk\": -10.317717552185059, \"\\u2581melancholy\": -10.817717552185059, \"\\u2581sigh\": -10.942717552185059, \"\\u2581note\": -11.067717552185059, \"\\u2581echo\": -11.317717552185059, \"\\u2581sad\": -11.317717552185059, \"\\u2581wry\": -11.442717552185059, \"\\u2581sorrow\": -11.567717552185059, \"\\u2581but\": -11.567717552185059}, {\"\\u2581playing\": -0.19541636109352112, \"\\u2581touching\": -2.4454164505004883, \"\\u2581gr\": -2.9454164505004883, \"\\u2581curving\": -3.4454164505004883, \"\\u2581flickering\": -5.695416450500488, \"\\u2581twisting\": -6.6954164\n",
      "2025-05-13 11:00:28,734 [INFO ] [api_client.api_clien]: Received 20 token strings (finish_reason=length).\n",
      "2025-05-13 11:00:28,735 [WARNI] [validators.slop_phra]: Slop violation: 'faint' @tok=1210 (char_pos=5126) … the figure said, a faint smile playing on hi…\n",
      "2025-05-13 11:00:28,737 [WARNI] [validators.ngram_val]: NGram violation: 'smile playing' (stopwords_removed=True) @tok=1211 (char_pos=5132). Context: ...ly,” the figure said, a faint smile playing on his lips. “You didn’t defe...\n",
      "2025-05-13 11:00:28,737 [WARNI] [core.sampler        ]: Back-tracking @tok=1210 orig='▁faint' ban='{'phrase': 'faint', 'context': ' the figure said, a faint smile playing on hi', 'suppression_detail_key': 'faint'}'.\n",
      "2025-05-13 11:00:28,737 [INFO ] [state.generation_sta]: GenerationState initialised. Prompt length (chars) = 266\n",
      "2025-05-13 11:00:28,737 [INFO ] [state.generation_sta]: GenerationState initialised. Prompt length (chars) = 266\n",
      "2025-05-13 11:00:28,737 [INFO ] [state.generation_sta]: GenerationState initialised. Prompt length (chars) = 266\n",
      "2025-05-13 11:00:28,737 [INFO ] [state.generation_sta]: GenerationState initialised. Prompt length (chars) = 266\n",
      "2025-05-13 11:00:28,737 [INFO ] [state.generation_sta]: GenerationState initialised. Prompt length (chars) = 266\n",
      "2025-05-13 11:00:28,737 [INFO ] [state.generation_sta]: GenerationState initialised. Prompt length (chars) = 266\n",
      "2025-05-13 11:00:28,737 [INFO ] [state.generation_sta]: GenerationState initialised. Prompt length (chars) = 266\n",
      "2025-05-13 11:00:28,737 [INFO ] [state.generation_sta]: GenerationState initialised. Prompt length (chars) = 266\n",
      "2025-05-13 11:00:28,737 [INFO ] [state.generation_sta]: GenerationState initialised. Prompt length (chars) = 266\n",
      "2025-05-13 11:00:28,737 [INFO ] [state.generation_sta]: GenerationState initialised. Prompt length (chars) = 266\n",
      "2025-05-13 11:00:28,737 [INFO ] [state.generation_sta]: GenerationState initialised. Prompt length (chars) = 266\n",
      "2025-05-13 11:00:28,737 [INFO ] [state.generation_sta]: GenerationState initialised. Prompt length (chars) = 266\n",
      "2025-05-13 11:00:28,737 [INFO ] [state.generation_sta]: GenerationState initialised. Prompt length (chars) = 266\n",
      "2025-05-13 11:00:28,738 [INFO ] [state.generation_sta]: GenerationState initialised. Prompt length (chars) = 266\n",
      "2025-05-13 11:00:28,738 [INFO ] [state.generation_sta]: GenerationState initialised. Prompt length (chars) = 266\n",
      "2025-05-13 11:00:28,738 [INFO ] [state.generation_sta]: GenerationState initialised. Prompt length (chars) = 266\n",
      "2025-05-13 11:00:28,738 [INFO ] [state.generation_sta]: GenerationState initialised. Prompt length (chars) = 266\n",
      "2025-05-13 11:00:28,738 [INFO ] [state.generation_sta]: GenerationState initialised. Prompt length (chars) = 266\n",
      "2025-05-13 11:00:28,738 [INFO ] [state.generation_sta]: GenerationState initialised. Prompt length (chars) = 266\n",
      "2025-05-13 11:00:28,739 [WARNI] [core.sampler        ]:     ✓ replacement='▁hint' (pool=1, T=0.7, min_p=0.05, top_p=1.0, top_k=50)\n",
      "2025-05-13 11:00:28,739 [DEBUG] [root                ]: BANNED (prompt_idx=0, type=slop_phrase, phrase='faint' @ orig_token='▁faint' ...'the figure said, a faint smile playing on hi'...)\n",
      "2025-05-13 11:00:28,739 [DEBUG] [api_client.api_clien]: POST https://ncfi2yswjottwq-8888.proxy.runpod.net/v1/completions\n",
      "2025-05-13 11:00:28,739 [DEBUG] [api_client.api_clien]: Payload: {\"model\": \"unsloth/gemma-3-4b-it\", \"prompt\": \"<bos><start_of_turn>user\\nWriting prompt: After defeating the Devil down in Georgia, Johnny proudly proclaims he's the best that's ever been. A flash of lightning crashes down and God appears, fiddle in hand. The Devil gets his popcorn ready.\\n\\nWrite 1000 words to this prompt. Your response:\\n<end_of_turn>\\n<start_of_turn>model\\nThe rain in Georgia was a greasy, insistent thing, clinging to everything with the stubbornness of regret. It mirrored the\n",
      "2025-05-13 11:00:29,310 [DEBUG] [urllib3.connectionpo]: https://ncfi2yswjottwq-8888.proxy.runpod.net:443 \"POST /v1/completions HTTP/1.1\" 200 None\n",
      "2025-05-13 11:00:29,371 [DEBUG] [api_client.api_clien]: Raw response: {\"id\": \"cmpl-083d39c410b0469e8fe20a9789200af7\", \"object\": \"text_completion\", \"created\": 1747098034, \"model\": \"unsloth/gemma-3-4b-it\", \"choices\": [{\"index\": 0, \"text\": \" of something akin to amusement in his voice. \\u201cYou didn\\u2019t destroy me. You merely imprisoned\", \"logprobs\": {\"text_offset\": [0, 3, 13, 18, 21, 31, 34, 38, 44, 45, 47, 50, 55, 56, 57, 65, 68, 69, 73, 80], \"token_logprobs\": [0.0, -0.5591812133789062, -0.10736013203859329, -1.311301275563892e-06, -0.1307404339313507, -0.3156385123729706, -5.960462772236497e-07, -0.014766445383429527, -7.688703772146255e-05, -0.1658736765384674, -0.03532872349023819, -1.3996469974517822, -0.3484449088573456, 0.0, -0.2810914218425751, -0.2492397278547287, -0.6074386835098267, -0.0014431786257773638, -0.3697828948497772, -1.2111626863479614], \"tokens\": [\"\\u2581of\", \"\\u2581something\", \"\\u2581akin\", \"\\u2581to\", \"\\u2581amusement\", \"\\u2581in\", \"\\u2581his\", \"\\u2581voice\", \".\", \"\\u2581\\u201c\", \"You\", \"\\u2581didn\", \"\\u2019\", \"t\", \"\\u2581destroy\", \"\\u2581me\", \".\", \"\\u2581You\", \"\\u2581merely\", \"\\u2581imprisoned\"], \"top_logprobs\": [{\"\\u2581of\": 0.0, \"\\u2581\\u2013\": -18.0, \"\\u2581a\": -20.375, \"\\u2581\\u2581\": -20.375, \",\": -20.75, \"\\u2581almost\": -21.125, \"of\": -22.0, \"\\u2014\": -22.375, \"\\u2581-\": -22.625, \"\\u2581amusement\": -22.625, \"\\u2581flick\": -22.75, \"\\u2581more\": -23.0, \"\\u2581in\": -23.25, \"\\u2026\": -23.5, \"\\u2581that\": -23.625, \"\\u0e02\\u0e2d\\u0e07\": -24.25, \"\\u2581smile\": -24.375, \"\\u2581flicker\": -24.375, \"\\u2581flickering\": -24.75, \"\\u2581to\": -24.875}, {\"\\u2581something\": -0.5591812133789062, \"\\u2581amusement\": -1.5591812133789062, \"\\u2581a\": -1.5591812133789062, \"\\u2581sadness\": -6.559181213378906, \"\\u2581what\": -6.934181213378906, \"\\u2026\": -7.184181213378906, \"\\u2581dry\": -7.434181213378906, \"\\u2581wry\": -7.434181213378906, \"\\u2581melancholy\": -7.684181213378906, \"\\u2581sorrow\": -7.809181213378906, \"\\u2581almost\": -7.809181213378906, \"\\u2581pity\": -8.184181213378906, \"\\u2581grim\": -8.309181213378906, \"\\u2581irony\"\n",
      "2025-05-13 11:00:29,372 [INFO ] [api_client.api_clien]: Received 20 token strings (finish_reason=length).\n",
      "2025-05-13 11:00:29,372 [WARNI] [validators.slop_phra]: Slop violation: 'hint' @tok=1210 (char_pos=5126) … the figure said, a hint of something akin t…\n",
      "2025-05-13 11:00:29,375 [WARNI] [validators.ngram_val]: NGram violation: 'something akin' (stopwords_removed=True) @tok=1212 (char_pos=5134). Context: ...,” the figure said, a hint of something akin to amusement in his voice. “Y...\n",
      "2025-05-13 11:00:29,375 [WARNI] [core.sampler        ]: Back-tracking @tok=1210 orig='▁hint' ban='{'phrase': 'hint', 'context': ' the figure said, a hint of something akin t', 'suppression_detail_key': 'hint'}'.\n",
      "2025-05-13 11:00:29,375 [INFO ] [state.generation_sta]: GenerationState initialised. Prompt length (chars) = 266\n",
      "2025-05-13 11:00:29,375 [INFO ] [state.generation_sta]: GenerationState initialised. Prompt length (chars) = 266\n",
      "2025-05-13 11:00:29,375 [INFO ] [state.generation_sta]: GenerationState initialised. Prompt length (chars) = 266\n",
      "2025-05-13 11:00:29,375 [INFO ] [state.generation_sta]: GenerationState initialised. Prompt length (chars) = 266\n",
      "2025-05-13 11:00:29,375 [INFO ] [state.generation_sta]: GenerationState initialised. Prompt length (chars) = 266\n",
      "2025-05-13 11:00:29,375 [INFO ] [state.generation_sta]: GenerationState initialised. Prompt length (chars) = 266\n",
      "2025-05-13 11:00:29,375 [INFO ] [state.generation_sta]: GenerationState initialised. Prompt length (chars) = 266\n",
      "2025-05-13 11:00:29,375 [INFO ] [state.generation_sta]: GenerationState initialised. Prompt length (chars) = 266\n",
      "2025-05-13 11:00:29,375 [INFO ] [state.generation_sta]: GenerationState initialised. Prompt length (chars) = 266\n",
      "2025-05-13 11:00:29,375 [INFO ] [state.generation_sta]: GenerationState initialised. Prompt length (chars) = 266\n",
      "2025-05-13 11:00:29,375 [INFO ] [state.generation_sta]: GenerationState initialised. Prompt length (chars) = 266\n",
      "2025-05-13 11:00:29,375 [INFO ] [state.generation_sta]: GenerationState initialised. Prompt length (chars) = 266\n",
      "2025-05-13 11:00:29,375 [INFO ] [state.generation_sta]: GenerationState initialised. Prompt length (chars) = 266\n",
      "2025-05-13 11:00:29,375 [INFO ] [state.generation_sta]: GenerationState initialised. Prompt length (chars) = 266\n",
      "2025-05-13 11:00:29,375 [INFO ] [state.generation_sta]: GenerationState initialised. Prompt length (chars) = 266\n",
      "2025-05-13 11:00:29,375 [INFO ] [state.generation_sta]: GenerationState initialised. Prompt length (chars) = 266\n",
      "2025-05-13 11:00:29,375 [INFO ] [state.generation_sta]: GenerationState initialised. Prompt length (chars) = 266\n",
      "2025-05-13 11:00:29,375 [INFO ] [state.generation_sta]: GenerationState initialised. Prompt length (chars) = 266\n",
      "2025-05-13 11:00:29,376 [WARNI] [core.sampler        ]:     ✓ replacement='▁ghost' (pool=4, T=0.7, min_p=0.05, top_p=1.0, top_k=50)\n",
      "2025-05-13 11:00:29,377 [DEBUG] [root                ]: BANNED (prompt_idx=0, type=slop_phrase, phrase='hint' @ orig_token='▁hint' ...'the figure said, a hint of something akin t'...)\n",
      "2025-05-13 11:00:29,377 [DEBUG] [api_client.api_clien]: POST https://ncfi2yswjottwq-8888.proxy.runpod.net/v1/completions\n",
      "2025-05-13 11:00:29,377 [DEBUG] [api_client.api_clien]: Payload: {\"model\": \"unsloth/gemma-3-4b-it\", \"prompt\": \"<bos><start_of_turn>user\\nWriting prompt: After defeating the Devil down in Georgia, Johnny proudly proclaims he's the best that's ever been. A flash of lightning crashes down and God appears, fiddle in hand. The Devil gets his popcorn ready.\\n\\nWrite 1000 words to this prompt. Your response:\\n<end_of_turn>\\n<start_of_turn>model\\nThe rain in Georgia was a greasy, insistent thing, clinging to everything with the stubbornness of regret. It mirrored the\n",
      "2025-05-13 11:00:29,948 [DEBUG] [urllib3.connectionpo]: https://ncfi2yswjottwq-8888.proxy.runpod.net:443 \"POST /v1/completions HTTP/1.1\" 200 None\n",
      "2025-05-13 11:00:30,013 [DEBUG] [api_client.api_clien]: Raw response: {\"id\": \"cmpl-c96566e6e4b2454c92ebe7fa4d86e285\", \"object\": \"text_completion\", \"created\": 1747098034, \"model\": \"unsloth/gemma-3-4b-it\", \"choices\": [{\"index\": 0, \"text\": \" of a smile touching his lips. \\u201cYou fought against your own darkness, and you won. But\", \"logprobs\": {\"text_offset\": [0, 3, 5, 11, 20, 24, 29, 30, 32, 35, 42, 50, 55, 59, 68, 69, 73, 77, 81, 82], \"token_logprobs\": [-3.576278118089249e-07, -4.6967357775429264e-05, -2.1934269170742482e-05, -1.1847217082977295, -0.00020549570035655051, -4.6491513785440475e-06, -5.531158240046352e-05, -0.12145967781543732, -0.03631439805030823, -2.3090646266937256, -1.417433500289917, -0.550477147102356, -0.010552087798714638, -0.722240149974823, -0.05949539318680763, -0.10380539298057556, -0.7786905765533447, -0.22574768960475922, -0.029212428256869316, -0.042179904878139496], \"tokens\": [\"\\u2581of\", \"\\u2581a\", \"\\u2581smile\", \"\\u2581touching\", \"\\u2581his\", \"\\u2581lips\", \".\", \"\\u2581\\u201c\", \"You\", \"\\u2581fought\", \"\\u2581against\", \"\\u2581your\", \"\\u2581own\", \"\\u2581darkness\", \",\", \"\\u2581and\", \"\\u2581you\", \"\\u2581won\", \".\", \"\\u2581But\"], \"top_logprobs\": [{\"\\u2581of\": -3.576278118089249e-07, \"\\u2581smile\": -15.375, \"-\": -16.25, \"\\u2581\\u2581\": -19.5, \"\\u2019\": -20.0, \"\\u2581in\": -20.125, \"like\": -20.25, \"\\u2581a\": -20.5, \",\": -20.5, \"ish\": -20.625, \"\\uc758\": -21.0, \"\\u2581if\": -21.0, \"of\": -21.125, \"\\u2581flicker\": -21.25, \"\\u2581like\": -21.375, \"\\u2581flick\": -21.375, \"\\u2581\\u2013\": -21.5, \"\\u2581Of\": -21.75, \"ing\": -21.9375, \"'\": -22.0}, {\"\\u2581a\": -4.6967357775429264e-05, \"\\u2581amusement\": -10.000046730041504, \"\\u2581an\": -14.125046730041504, \"\\u2581\\u2581\": -15.000046730041504, \"\\u2581something\": -15.250046730041504, \"\\u2581what\": -16.12504768371582, \"\\u2581sadness\": -16.37504768371582, \"\\u2581humor\": -16.75004768371582, \"\\u2581the\": -17.00004768371582, \"\\u2581approval\": -17.87504768371582, \"a\": -18.12504768371582, \"\\u2581acknowledgement\": -18.25004768371582, \"\\u2581emotion\": -18.62504768371582, \"\\u2581sorrow\": -\n",
      "2025-05-13 11:00:30,013 [INFO ] [api_client.api_clien]: Received 20 token strings (finish_reason=length).\n",
      "2025-05-13 11:00:30,016 [DEBUG] [api_client.api_clien]: POST https://ncfi2yswjottwq-8888.proxy.runpod.net/v1/completions\n",
      "2025-05-13 11:00:30,016 [DEBUG] [api_client.api_clien]: Payload: {\"model\": \"unsloth/gemma-3-4b-it\", \"prompt\": \"<bos><start_of_turn>user\\nWriting prompt: After defeating the Devil down in Georgia, Johnny proudly proclaims he's the best that's ever been. A flash of lightning crashes down and God appears, fiddle in hand. The Devil gets his popcorn ready.\\n\\nWrite 1000 words to this prompt. Your response:\\n<end_of_turn>\\n<start_of_turn>model\\nThe rain in Georgia was a greasy, insistent thing, clinging to everything with the stubbornness of regret. It mirrored the\n"
     ]
    },
    {
     "name": "stdout",
     "output_type": "stream",
     "text": [
      "Batch Generating:   0%|          | 0/1 [01:09<?, ?prompt/s, 18.0 tok/s]"
     ]
    },
    {
     "name": "stderr",
     "output_type": "stream",
     "text": [
      "2025-05-13 11:00:30,588 [DEBUG] [urllib3.connectionpo]: https://ncfi2yswjottwq-8888.proxy.runpod.net:443 \"POST /v1/completions HTTP/1.1\" 200 None\n",
      "2025-05-13 11:00:30,652 [DEBUG] [api_client.api_clien]: Raw response: {\"id\": \"cmpl-a6775bafb98c4168a3299c7ff748b510\", \"object\": \"text_completion\", \"created\": 1747098035, \"model\": \"unsloth/gemma-3-4b-it\", \"choices\": [{\"index\": 0, \"text\": \" victory is a hollow thing when it\\u2019s built on suppressing a part of yourself.  You haven\", \"logprobs\": {\"text_offset\": [0, 8, 11, 13, 20, 26, 31, 34, 35, 36, 42, 45, 57, 59, 64, 67, 76, 77, 79, 82], \"token_logprobs\": [-1.8001399040222168, -2.0207149982452393, -0.5206905603408813, -1.0414224863052368, -0.009822252206504345, -0.6169111132621765, -0.4445507526397705, -0.14730115234851837, 0.0, -0.15094690024852753, -0.0052670761942863464, -0.8532884120941162, -0.6199219822883606, -0.6448767185211182, -8.821448318485636e-06, -0.029562940821051598, -0.6412279605865479, -1.696364402770996, -0.3974226117134094, -2.089918613433838], \"tokens\": [\"\\u2581victory\", \"\\u2581is\", \"\\u2581a\", \"\\u2581hollow\", \"\\u2581thing\", \"\\u2581when\", \"\\u2581it\", \"\\u2019\", \"s\", \"\\u2581built\", \"\\u2581on\", \"\\u2581suppressing\", \"\\u2581a\", \"\\u2581part\", \"\\u2581of\", \"\\u2581yourself\", \".\", \"\\u2581\\u2581\", \"You\", \"\\u2581haven\"], \"top_logprobs\": [{\"\\u2581victory\": -1.8001399040222168, \"\\u2581winning\": -1.3001399040222168, \"\\u2581the\": -1.4251399040222168, \"\\u2581you\": -1.8001399040222168, \"\\u2581true\": -2.675139904022217, \"\\u2581that\": -3.175139904022217, \"\\u2581it\": -4.425139904022217, \"\\u2581a\": -4.800139904022217, \"\\u2581in\": -5.550139904022217, \"\\u2581conquering\": -5.800139904022217, \"\\u2581did\": -6.425139904022217, \"\\u2581your\": -6.425139904022217, \"\\u2581understanding\": -6.550139904022217, \"\\u2581to\": -6.800139904022217, \"\\u2581at\": -6.925139904022217, \"\\u2581truly\": -7.050139904022217, \"\\u2581merely\": -7.425139904022217, \"\\u2581understand\": -7.550139904022217, \"\\u2581consider\": -7.675139904022217, \"\\u2581if\": -7.675139904022217}, {\"\\u2581is\": -2.0207149982452393, \"\\u2581isn\": -1.0207149982452393, \"\\u2581doesn\": -1.0207149982452393, \"\\u2581comes\": -2.3957149982452393, \"\\u2581without\": -4.02071475982666, \",\": -5.39571475982666, \"\\u\n",
      "2025-05-13 11:00:30,652 [INFO ] [api_client.api_clien]: Received 20 token strings (finish_reason=length).\n",
      "2025-05-13 11:00:30,653 [WARNI] [validators.slop_phra]: Slop violation: 'hollow' @tok=1234 (char_pos=5231) …n. But victory is a hollow thing when it’s bui…\n",
      "2025-05-13 11:00:30,655 [WARNI] [core.sampler        ]: Back-tracking @tok=1234 orig='▁hollow' ban='{'phrase': 'hollow', 'context': 'n. But victory is a hollow thing when it’s bui', 'suppression_detail_key': 'hollow'}'.\n",
      "2025-05-13 11:00:30,655 [INFO ] [state.generation_sta]: GenerationState initialised. Prompt length (chars) = 266\n",
      "2025-05-13 11:00:30,655 [INFO ] [state.generation_sta]: GenerationState initialised. Prompt length (chars) = 266\n",
      "2025-05-13 11:00:30,655 [INFO ] [state.generation_sta]: GenerationState initialised. Prompt length (chars) = 266\n",
      "2025-05-13 11:00:30,655 [INFO ] [state.generation_sta]: GenerationState initialised. Prompt length (chars) = 266\n",
      "2025-05-13 11:00:30,656 [INFO ] [state.generation_sta]: GenerationState initialised. Prompt length (chars) = 266\n",
      "2025-05-13 11:00:30,656 [INFO ] [state.generation_sta]: GenerationState initialised. Prompt length (chars) = 266\n",
      "2025-05-13 11:00:30,656 [INFO ] [state.generation_sta]: GenerationState initialised. Prompt length (chars) = 266\n",
      "2025-05-13 11:00:30,656 [INFO ] [state.generation_sta]: GenerationState initialised. Prompt length (chars) = 266\n",
      "2025-05-13 11:00:30,656 [INFO ] [state.generation_sta]: GenerationState initialised. Prompt length (chars) = 266\n",
      "2025-05-13 11:00:30,656 [INFO ] [state.generation_sta]: GenerationState initialised. Prompt length (chars) = 266\n",
      "2025-05-13 11:00:30,656 [INFO ] [state.generation_sta]: GenerationState initialised. Prompt length (chars) = 266\n",
      "2025-05-13 11:00:30,656 [INFO ] [state.generation_sta]: GenerationState initialised. Prompt length (chars) = 266\n",
      "2025-05-13 11:00:30,656 [INFO ] [state.generation_sta]: GenerationState initialised. Prompt length (chars) = 266\n",
      "2025-05-13 11:00:30,656 [INFO ] [state.generation_sta]: GenerationState initialised. Prompt length (chars) = 266\n",
      "2025-05-13 11:00:30,656 [INFO ] [state.generation_sta]: GenerationState initialised. Prompt length (chars) = 266\n",
      "2025-05-13 11:00:30,656 [INFO ] [state.generation_sta]: GenerationState initialised. Prompt length (chars) = 266\n",
      "2025-05-13 11:00:30,656 [INFO ] [state.generation_sta]: GenerationState initialised. Prompt length (chars) = 266\n",
      "2025-05-13 11:00:30,656 [INFO ] [state.generation_sta]: GenerationState initialised. Prompt length (chars) = 266\n",
      "2025-05-13 11:00:30,656 [INFO ] [state.generation_sta]: GenerationState initialised. Prompt length (chars) = 266\n",
      "2025-05-13 11:00:30,657 [WARNI] [core.sampler        ]:     ✓ replacement='▁fleeting' (pool=3, T=0.7, min_p=0.05, top_p=1.0, top_k=50)\n",
      "2025-05-13 11:00:30,657 [DEBUG] [root                ]: BANNED (prompt_idx=0, type=slop_phrase, phrase='hollow' @ orig_token='▁hollow' ...'n. But victory is a hollow thing when it’s bui'...)\n",
      "2025-05-13 11:00:30,658 [DEBUG] [api_client.api_clien]: POST https://ncfi2yswjottwq-8888.proxy.runpod.net/v1/completions\n",
      "2025-05-13 11:00:30,658 [DEBUG] [api_client.api_clien]: Payload: {\"model\": \"unsloth/gemma-3-4b-it\", \"prompt\": \"<bos><start_of_turn>user\\nWriting prompt: After defeating the Devil down in Georgia, Johnny proudly proclaims he's the best that's ever been. A flash of lightning crashes down and God appears, fiddle in hand. The Devil gets his popcorn ready.\\n\\nWrite 1000 words to this prompt. Your response:\\n<end_of_turn>\\n<start_of_turn>model\\nThe rain in Georgia was a greasy, insistent thing, clinging to everything with the stubbornness of regret. It mirrored the\n"
     ]
    },
    {
     "name": "stdout",
     "output_type": "stream",
     "text": [
      "Batch Generating:   0%|          | 0/1 [01:10<?, ?prompt/s, 17.9 tok/s]"
     ]
    },
    {
     "name": "stderr",
     "output_type": "stream",
     "text": [
      "2025-05-13 11:00:31,236 [DEBUG] [urllib3.connectionpo]: https://ncfi2yswjottwq-8888.proxy.runpod.net:443 \"POST /v1/completions HTTP/1.1\" 200 None\n",
      "2025-05-13 11:00:31,395 [DEBUG] [api_client.api_clien]: Raw response: {\"id\": \"cmpl-41fd5a1b193a4cd189e2149c79c6944f\", \"object\": \"text_completion\", \"created\": 1747098036, \"model\": \"unsloth/gemma-3-4b-it\", \"choices\": [{\"index\": 0, \"text\": \" thing. The darkness doesn\\u2019t disappear; it merely retreats, waiting for another opportunity to manifest.\\u201d\", \"logprobs\": {\"text_offset\": [0, 6, 7, 11, 20, 26, 27, 28, 38, 39, 42, 49, 58, 59, 67, 71, 79, 91, 94, 103], \"token_logprobs\": [-0.032480914145708084, -0.05769479647278786, -0.33554306626319885, -0.18679147958755493, -0.714735746383667, -0.3868710994720459, 0.0, -0.1025150939822197, -0.7438539266586304, -2.5629668016335927e-05, -0.47509875893592834, -0.20399081707000732, -0.9928551912307739, -0.03541318327188492, -0.001966329989954829, -0.10489718616008759, -0.0027643346693366766, -0.23621219396591187, -1.5981248617172241, -0.07694319635629654], \"tokens\": [\"\\u2581thing\", \".\", \"\\u2581The\", \"\\u2581darkness\", \"\\u2581doesn\", \"\\u2019\", \"t\", \"\\u2581disappear\", \";\", \"\\u2581it\", \"\\u2581merely\", \"\\u2581retreats\", \",\", \"\\u2581waiting\", \"\\u2581for\", \"\\u2581another\", \"\\u2581opportunity\", \"\\u2581to\", \"\\u2581manifest\", \".\\u201d\"], \"top_logprobs\": [{\"\\u2581thing\": -0.032480914145708084, \"\\u2581illusion\": -3.5324809551239014, \"\\u2581comfort\": -7.282480716705322, \"\\u2581sensation\": -7.407480716705322, \"\\u2581and\": -7.782480716705322, \",\": -8.15748119354248, \"\\u2581emotion\": -8.15748119354248, \"\\u2581satisfaction\": -9.28248119354248, \"\\u2581reward\": -9.78248119354248, \"\\u2581concept\": -10.15748119354248, \"\\u2581prize\": -10.15748119354248, \"\\u2581feeling\": -10.15748119354248, \"\\u2581pleasure\": -10.40748119354248, \"\\u2581solace\": -10.65748119354248, \"\\u2581consolation\": -10.65748119354248, \"\\u2581state\": -10.90748119354248, \"\\u2581experience\": -11.65748119354248, \"\\u2581victory\": -11.65748119354248, \"\\u2581delusion\": -11.78248119354248, \"\\u2581moment\": -12.03248119354248}, {\".\": -0.05769479647278786, \",\": -3.057694911956787, \"\\u2581when\": -4.807694911956787, \"\\u2581if\": -7.682694911956787, \".\\u201d\": -8.30\n",
      "2025-05-13 11:00:31,395 [INFO ] [api_client.api_clien]: Received 20 token strings (finish_reason=length).\n",
      "2025-05-13 11:00:31,399 [DEBUG] [api_client.api_clien]: POST https://ncfi2yswjottwq-8888.proxy.runpod.net/v1/completions\n",
      "2025-05-13 11:00:31,399 [DEBUG] [api_client.api_clien]: Payload: {\"model\": \"unsloth/gemma-3-4b-it\", \"prompt\": \"<bos><start_of_turn>user\\nWriting prompt: After defeating the Devil down in Georgia, Johnny proudly proclaims he's the best that's ever been. A flash of lightning crashes down and God appears, fiddle in hand. The Devil gets his popcorn ready.\\n\\nWrite 1000 words to this prompt. Your response:\\n<end_of_turn>\\n<start_of_turn>model\\nThe rain in Georgia was a greasy, insistent thing, clinging to everything with the stubbornness of regret. It mirrored the\n"
     ]
    },
    {
     "name": "stdout",
     "output_type": "stream",
     "text": [
      "Batch Generating:   0%|          | 0/1 [01:11<?, ?prompt/s, 18.0 tok/s]"
     ]
    },
    {
     "name": "stderr",
     "output_type": "stream",
     "text": [
      "2025-05-13 11:00:31,970 [DEBUG] [urllib3.connectionpo]: https://ncfi2yswjottwq-8888.proxy.runpod.net:443 \"POST /v1/completions HTTP/1.1\" 200 None\n",
      "2025-05-13 11:00:32,031 [DEBUG] [api_client.api_clien]: Raw response: {\"id\": \"cmpl-7c0233a2c3c44b569bd57a68224392e0\", \"object\": \"text_completion\", \"created\": 1747098036, \"model\": \"unsloth/gemma-3-4b-it\", \"choices\": [{\"index\": 0, \"text\": \" \\n\\nHe raised the fiddle again, and began to play a slow, mournful tune, different\", \"logprobs\": {\"text_offset\": [0, 1, 3, 5, 12, 16, 23, 29, 30, 34, 40, 43, 48, 50, 55, 56, 62, 65, 70, 71], \"token_logprobs\": [-0.5786373615264893, -4.684815212385729e-05, -0.18360495567321777, -0.8115798830986023, -0.023567434400320053, -7.70062324590981e-05, -0.39060428738594055, -0.05586536228656769, -0.09013300389051437, -0.775496244430542, -0.018428770825266838, -9.524368942948058e-05, -0.027779702097177505, -0.7229580283164978, 0.0, -0.12470316141843796, 0.0, -0.045542698353528976, -1.3218684196472168, -1.040090560913086], \"tokens\": [\"\\u2581\", \"\\n\\n\", \"He\", \"\\u2581raised\", \"\\u2581the\", \"\\u2581fiddle\", \"\\u2581again\", \",\", \"\\u2581and\", \"\\u2581began\", \"\\u2581to\", \"\\u2581play\", \"\\u2581a\", \"\\u2581slow\", \",\", \"\\u2581mourn\", \"ful\", \"\\u2581tune\", \",\", \"\\u2581different\"], \"top_logprobs\": [{\"\\u2581\": -0.5786373615264893, \"\\n\\n\": -1.0786373615264893, \"\\u2581He\": -2.4536373615264893, \"\\u2581\\u2581\": -4.32863712310791, \"\\n\\n\\n\": -10.07863712310791, \"\\u2581\\u2581\\u2581\": -10.45363712310791, \"\\u2581The\": -10.45363712310791, \"\\n\\n\\n\\n\": -11.82863712310791, \"\\u2581His\": -13.45363712310791, \"\\u2581he\": -13.82863712310791, \"\\u2581Then\": -14.20363712310791, \"\\n\": -14.32863712310791, \"\\u2581\\u2581\\u2581\\u2581\": -14.32863712310791, \"\\u2581As\": -14.57863712310791, \"\\u2581\\u201c\": -14.82863712310791, \"\\u2581With\": -14.82863712310791, \"\\u2581\\u2581\\u2581\\u2581\\u2581\": -15.32863712310791, \"\\n\\n\\n\\n\\n\": -15.32863712310791, \"He\": -15.70363712310791, \"\\u2581A\": -15.70363712310791}, {\"\\n\\n\": -4.684815212385729e-05, \"\\n\\n\\n\": -10.000046730041504, \"\\n\": -13.875046730041504, \"\\n\\n\\n\\n\": -14.500046730041504, \"\\n\\n\\n\\n\\n\": -18.12504768371582, \"\\n\\n\\n\\n\\n\\n\": -22.25004768371582, \"\\u2581He\": -22.75004768371582, \"He\": -22.75004768371582, \"<start_of_i\n",
      "2025-05-13 11:00:32,032 [INFO ] [api_client.api_clien]: Received 20 token strings (finish_reason=length).\n",
      "2025-05-13 11:00:32,035 [DEBUG] [api_client.api_clien]: POST https://ncfi2yswjottwq-8888.proxy.runpod.net/v1/completions\n",
      "2025-05-13 11:00:32,035 [DEBUG] [api_client.api_clien]: Payload: {\"model\": \"unsloth/gemma-3-4b-it\", \"prompt\": \"<bos><start_of_turn>user\\nWriting prompt: After defeating the Devil down in Georgia, Johnny proudly proclaims he's the best that's ever been. A flash of lightning crashes down and God appears, fiddle in hand. The Devil gets his popcorn ready.\\n\\nWrite 1000 words to this prompt. Your response:\\n<end_of_turn>\\n<start_of_turn>model\\nThe rain in Georgia was a greasy, insistent thing, clinging to everything with the stubbornness of regret. It mirrored the\n"
     ]
    },
    {
     "name": "stdout",
     "output_type": "stream",
     "text": [
      "Batch Generating:   0%|          | 0/1 [01:11<?, ?prompt/s, 18.2 tok/s]"
     ]
    },
    {
     "name": "stderr",
     "output_type": "stream",
     "text": [
      "2025-05-13 11:00:32,606 [DEBUG] [urllib3.connectionpo]: https://ncfi2yswjottwq-8888.proxy.runpod.net:443 \"POST /v1/completions HTTP/1.1\" 200 None\n",
      "2025-05-13 11:00:32,668 [DEBUG] [api_client.api_clien]: Raw response: {\"id\": \"cmpl-e8dc07a2375d4d7898032859559d8652\", \"object\": \"text_completion\", \"created\": 1747098037, \"model\": \"unsloth/gemma-3-4b-it\", \"choices\": [{\"index\": 0, \"text\": \" from the first. This one was filled with a quiet acceptance, a profound sadness. \\n\\n\\u201c\", \"logprobs\": {\"text_offset\": [0, 5, 9, 15, 16, 21, 25, 29, 36, 41, 43, 49, 60, 61, 63, 72, 80, 81, 82, 84], \"token_logprobs\": [-0.00766869867220521, -0.0025827880017459393, -0.3005785048007965, -0.8461726903915405, -0.05979907140135765, -0.01412901096045971, -0.32046595215797424, -1.6186847686767578, -0.001328181941062212, -0.16340559720993042, -1.4408624172210693, -0.27573391795158386, -0.0024986020289361477, -0.051309749484062195, -1.0327558517456055, -0.4692707657814026, -0.07937490940093994, -0.5428782105445862, -1.0967194612021558e-05, -0.06742682307958603], \"tokens\": [\"\\u2581from\", \"\\u2581the\", \"\\u2581first\", \".\", \"\\u2581This\", \"\\u2581one\", \"\\u2581was\", \"\\u2581filled\", \"\\u2581with\", \"\\u2581a\", \"\\u2581quiet\", \"\\u2581acceptance\", \",\", \"\\u2581a\", \"\\u2581profound\", \"\\u2581sadness\", \".\", \"\\u2581\", \"\\n\\n\", \"\\u201c\"], \"top_logprobs\": [{\"\\u2581from\": -0.00766869867220521, \"\\u2581this\": -5.132668495178223, \"\\u2581than\": -6.507668495178223, \"\\u2581now\": -8.632668495178223, \"\\u2581again\": -10.132668495178223, \"\\u2581in\": -11.507668495178223, \"\\u2581entirely\": -11.882668495178223, \"\\u2581to\": -12.382668495178223, \"\\u2581still\": -12.507668495178223, \"\\u2581yet\": -13.132668495178223, \"\\u2581somehow\": -14.757668495178223, \",\": -15.007668495178223, \"\\u2581altogether\": -15.132668495178223, \"\\u2581but\": -15.632668495178223, \"\\u2581once\": -15.882668495178223, \"\\u2581\\u2581\": -16.25766944885254, \"\\u2581even\": -16.38266944885254, \"\\u2581then\": -16.50766944885254, \"\\u2581and\": -17.38266944885254, \"\\u2581form\": -17.63266944885254}, {\"\\u2581the\": -0.0025827880017459393, \"\\u2581before\": -6.002582550048828, \"\\u2581anything\": -9.752582550048828, \"\\u2581his\": -10.002582550048828, \"\\u2581any\": -13.377582550048828, \"\\u2581what\": -13\n",
      "2025-05-13 11:00:32,668 [INFO ] [api_client.api_clien]: Received 20 token strings (finish_reason=length).\n",
      "2025-05-13 11:00:32,669 [WARNI] [validators.slop_phra]: Slop violation: 'profound' @tok=1289 (char_pos=5489) …quiet acceptance, a profound sadness.   “…\n",
      "2025-05-13 11:00:32,672 [WARNI] [core.sampler        ]: Back-tracking @tok=1289 orig='▁profound' ban='{'phrase': 'profound', 'context': 'quiet acceptance, a profound sadness.   “', 'suppression_detail_key': 'profound'}'.\n",
      "2025-05-13 11:00:32,672 [INFO ] [state.generation_sta]: GenerationState initialised. Prompt length (chars) = 266\n",
      "2025-05-13 11:00:32,672 [INFO ] [state.generation_sta]: GenerationState initialised. Prompt length (chars) = 266\n",
      "2025-05-13 11:00:32,672 [INFO ] [state.generation_sta]: GenerationState initialised. Prompt length (chars) = 266\n",
      "2025-05-13 11:00:32,672 [INFO ] [state.generation_sta]: GenerationState initialised. Prompt length (chars) = 266\n",
      "2025-05-13 11:00:32,672 [INFO ] [state.generation_sta]: GenerationState initialised. Prompt length (chars) = 266\n",
      "2025-05-13 11:00:32,672 [INFO ] [state.generation_sta]: GenerationState initialised. Prompt length (chars) = 266\n",
      "2025-05-13 11:00:32,672 [INFO ] [state.generation_sta]: GenerationState initialised. Prompt length (chars) = 266\n",
      "2025-05-13 11:00:32,672 [INFO ] [state.generation_sta]: GenerationState initialised. Prompt length (chars) = 266\n",
      "2025-05-13 11:00:32,672 [INFO ] [state.generation_sta]: GenerationState initialised. Prompt length (chars) = 266\n",
      "2025-05-13 11:00:32,672 [INFO ] [state.generation_sta]: GenerationState initialised. Prompt length (chars) = 266\n",
      "2025-05-13 11:00:32,672 [INFO ] [state.generation_sta]: GenerationState initialised. Prompt length (chars) = 266\n",
      "2025-05-13 11:00:32,672 [INFO ] [state.generation_sta]: GenerationState initialised. Prompt length (chars) = 266\n",
      "2025-05-13 11:00:32,672 [INFO ] [state.generation_sta]: GenerationState initialised. Prompt length (chars) = 266\n",
      "2025-05-13 11:00:32,672 [INFO ] [state.generation_sta]: GenerationState initialised. Prompt length (chars) = 266\n",
      "2025-05-13 11:00:32,672 [INFO ] [state.generation_sta]: GenerationState initialised. Prompt length (chars) = 266\n",
      "2025-05-13 11:00:32,672 [INFO ] [state.generation_sta]: GenerationState initialised. Prompt length (chars) = 266\n",
      "2025-05-13 11:00:32,672 [INFO ] [state.generation_sta]: GenerationState initialised. Prompt length (chars) = 266\n",
      "2025-05-13 11:00:32,673 [INFO ] [state.generation_sta]: GenerationState initialised. Prompt length (chars) = 266\n",
      "2025-05-13 11:00:32,673 [INFO ] [state.generation_sta]: GenerationState initialised. Prompt length (chars) = 266\n",
      "2025-05-13 11:00:32,674 [WARNI] [core.sampler        ]:     ✓ replacement='▁sense' (pool=7, T=0.7, min_p=0.05, top_p=1.0, top_k=50)\n",
      "2025-05-13 11:00:32,674 [DEBUG] [root                ]: BANNED (prompt_idx=0, type=slop_phrase, phrase='profound' @ orig_token='▁profound' ...'quiet acceptance, a profound sadness.   “'...)\n",
      "2025-05-13 11:00:32,674 [DEBUG] [api_client.api_clien]: POST https://ncfi2yswjottwq-8888.proxy.runpod.net/v1/completions\n",
      "2025-05-13 11:00:32,674 [DEBUG] [api_client.api_clien]: Payload: {\"model\": \"unsloth/gemma-3-4b-it\", \"prompt\": \"<bos><start_of_turn>user\\nWriting prompt: After defeating the Devil down in Georgia, Johnny proudly proclaims he's the best that's ever been. A flash of lightning crashes down and God appears, fiddle in hand. The Devil gets his popcorn ready.\\n\\nWrite 1000 words to this prompt. Your response:\\n<end_of_turn>\\n<start_of_turn>model\\nThe rain in Georgia was a greasy, insistent thing, clinging to everything with the stubbornness of regret. It mirrored the\n"
     ]
    },
    {
     "name": "stdout",
     "output_type": "stream",
     "text": [
      "Batch Generating:   0%|          | 0/1 [01:12<?, ?prompt/s, 18.2 tok/s]"
     ]
    },
    {
     "name": "stderr",
     "output_type": "stream",
     "text": [
      "2025-05-13 11:00:33,246 [DEBUG] [urllib3.connectionpo]: https://ncfi2yswjottwq-8888.proxy.runpod.net:443 \"POST /v1/completions HTTP/1.1\" 200 None\n",
      "2025-05-13 11:00:33,308 [DEBUG] [api_client.api_clien]: Raw response: {\"id\": \"cmpl-fc0f0762e5774e8e8dedb3712aee49db\", \"object\": \"text_completion\", \"created\": 1747098038, \"model\": \"unsloth/gemma-3-4b-it\", \"choices\": [{\"index\": 0, \"text\": \" of resignation. \\n\\n\\u201cThe Devil,\\u201d the figure said, his gaze returning to the chained demon\", \"logprobs\": {\"text_offset\": [0, 3, 15, 16, 17, 19, 20, 23, 29, 31, 35, 42, 47, 48, 52, 57, 67, 70, 74, 82], \"token_logprobs\": [-0.000710592488758266, -1.1767847537994385, -0.016791200265288353, -0.21113719046115875, -5.602820692729438e-06, -0.06675976514816284, -0.8418847322463989, -0.022412454709410667, -1.6467374563217163, -0.7584149241447449, -0.0001935771433636546, -0.31662794947624207, -0.0076718926429748535, -0.8259543776512146, -0.5404746532440186, -0.5430096387863159, -0.0006554362480528653, -0.0034931611735373735, -0.7781912088394165, -1.4419748783111572], \"tokens\": [\"\\u2581of\", \"\\u2581resignation\", \".\", \"\\u2581\", \"\\n\\n\", \"\\u201c\", \"The\", \"\\u2581Devil\", \",\\u201d\", \"\\u2581the\", \"\\u2581figure\", \"\\u2581said\", \",\", \"\\u2581his\", \"\\u2581gaze\", \"\\u2581returning\", \"\\u2581to\", \"\\u2581the\", \"\\u2581chained\", \"\\u2581demon\"], \"top_logprobs\": [{\"\\u2581of\": -0.000710592488758266, \"\\u2581that\": -7.250710487365723, \"\\u2581not\": -14.125710487365723, \"\\u2581born\": -18.37571144104004, \"\\u2581\\u2581\": -18.37571144104004, \"\\u2581resigned\": -18.50071144104004, \"\\u2581almost\": -18.75071144104004, \"\\u2581profound\": -19.62571144104004, \"\\u2581resignation\": -20.00071144104004, \"\\u2581understanding\": -20.00071144104004, \"\\u2581both\": -20.50071144104004, \"\\u2581ting\": -20.87571144104004, \"\\u2026\": -21.00071144104004, \",\": -21.12571144104004, \"\\u2581knowing\": -21.12571144104004, \"\\u2581lingering\": -21.62571144104004, \"\\u2581\\u2013\": -21.62571144104004, \"\\u2581she\": -21.62571144104004, \"\\u2581borne\": -21.87571144104004, \"-\": -22.00071144104004}, {\"\\u2581resignation\": -1.1767847537994385, \"\\u2581profound\": -0.9267848134040833, \"\\u2581resigned\": -2.9267847537994385, \"\\u2581inev\": -2.9267847537994385, \"\\u2581melancholy\": -3.\n",
      "2025-05-13 11:00:33,308 [INFO ] [api_client.api_clien]: Received 20 token strings (finish_reason=length).\n",
      "2025-05-13 11:00:33,310 [WARNI] [validators.slop_phra]: Slop violation: 'gaze' @tok=1304 (char_pos=5547) …he figure said, his gaze returning to the ch…\n",
      "2025-05-13 11:00:33,312 [WARNI] [core.sampler        ]: Back-tracking @tok=1304 orig='▁gaze' ban='{'phrase': 'gaze', 'context': 'he figure said, his gaze returning to the ch', 'suppression_detail_key': 'gaze'}'.\n",
      "2025-05-13 11:00:33,312 [INFO ] [state.generation_sta]: GenerationState initialised. Prompt length (chars) = 266\n",
      "2025-05-13 11:00:33,312 [INFO ] [state.generation_sta]: GenerationState initialised. Prompt length (chars) = 266\n",
      "2025-05-13 11:00:33,312 [INFO ] [state.generation_sta]: GenerationState initialised. Prompt length (chars) = 266\n",
      "2025-05-13 11:00:33,312 [INFO ] [state.generation_sta]: GenerationState initialised. Prompt length (chars) = 266\n",
      "2025-05-13 11:00:33,312 [INFO ] [state.generation_sta]: GenerationState initialised. Prompt length (chars) = 266\n",
      "2025-05-13 11:00:33,312 [INFO ] [state.generation_sta]: GenerationState initialised. Prompt length (chars) = 266\n",
      "2025-05-13 11:00:33,312 [INFO ] [state.generation_sta]: GenerationState initialised. Prompt length (chars) = 266\n",
      "2025-05-13 11:00:33,312 [INFO ] [state.generation_sta]: GenerationState initialised. Prompt length (chars) = 266\n",
      "2025-05-13 11:00:33,312 [INFO ] [state.generation_sta]: GenerationState initialised. Prompt length (chars) = 266\n",
      "2025-05-13 11:00:33,312 [INFO ] [state.generation_sta]: GenerationState initialised. Prompt length (chars) = 266\n",
      "2025-05-13 11:00:33,313 [INFO ] [state.generation_sta]: GenerationState initialised. Prompt length (chars) = 266\n",
      "2025-05-13 11:00:33,313 [INFO ] [state.generation_sta]: GenerationState initialised. Prompt length (chars) = 266\n",
      "2025-05-13 11:00:33,313 [INFO ] [state.generation_sta]: GenerationState initialised. Prompt length (chars) = 266\n",
      "2025-05-13 11:00:33,313 [INFO ] [state.generation_sta]: GenerationState initialised. Prompt length (chars) = 266\n",
      "2025-05-13 11:00:33,313 [INFO ] [state.generation_sta]: GenerationState initialised. Prompt length (chars) = 266\n",
      "2025-05-13 11:00:33,313 [INFO ] [state.generation_sta]: GenerationState initialised. Prompt length (chars) = 266\n",
      "2025-05-13 11:00:33,313 [INFO ] [state.generation_sta]: GenerationState initialised. Prompt length (chars) = 266\n",
      "2025-05-13 11:00:33,313 [INFO ] [state.generation_sta]: GenerationState initialised. Prompt length (chars) = 266\n",
      "2025-05-13 11:00:33,313 [INFO ] [state.generation_sta]: GenerationState initialised. Prompt length (chars) = 266\n",
      "2025-05-13 11:00:33,314 [WARNI] [core.sampler        ]:     ✓ replacement='▁voice' (pool=1, T=0.7, min_p=0.05, top_p=1.0, top_k=50)\n",
      "2025-05-13 11:00:33,314 [DEBUG] [root                ]: BANNED (prompt_idx=0, type=slop_phrase, phrase='gaze' @ orig_token='▁gaze' ...'he figure said, his gaze returning to the ch'...)\n",
      "2025-05-13 11:00:33,314 [DEBUG] [api_client.api_clien]: POST https://ncfi2yswjottwq-8888.proxy.runpod.net/v1/completions\n",
      "2025-05-13 11:00:33,315 [DEBUG] [api_client.api_clien]: Payload: {\"model\": \"unsloth/gemma-3-4b-it\", \"prompt\": \"<bos><start_of_turn>user\\nWriting prompt: After defeating the Devil down in Georgia, Johnny proudly proclaims he's the best that's ever been. A flash of lightning crashes down and God appears, fiddle in hand. The Devil gets his popcorn ready.\\n\\nWrite 1000 words to this prompt. Your response:\\n<end_of_turn>\\n<start_of_turn>model\\nThe rain in Georgia was a greasy, insistent thing, clinging to everything with the stubbornness of regret. It mirrored the\n"
     ]
    },
    {
     "name": "stdout",
     "output_type": "stream",
     "text": [
      "Batch Generating:   0%|          | 0/1 [01:13<?, ?prompt/s, 18.2 tok/s]"
     ]
    },
    {
     "name": "stderr",
     "output_type": "stream",
     "text": [
      "2025-05-13 11:00:33,884 [DEBUG] [urllib3.connectionpo]: https://ncfi2yswjottwq-8888.proxy.runpod.net:443 \"POST /v1/completions HTTP/1.1\" 200 None\n",
      "2025-05-13 11:00:33,947 [DEBUG] [api_client.api_clien]: Raw response: {\"id\": \"cmpl-e599b623023847b88e4a0c4238baacbc\", \"object\": \"text_completion\", \"created\": 1747098038, \"model\": \"unsloth/gemma-3-4b-it\", \"choices\": [{\"index\": 0, \"text\": \" barely audible, \\u201cis a convenient scapegoat. He is the embodiment of what we *fear*.\", \"logprobs\": {\"text_offset\": [0, 7, 15, 16, 18, 20, 22, 33, 39, 43, 44, 47, 50, 54, 65, 68, 73, 76, 78, 82], \"token_logprobs\": [-0.8538833260536194, -0.29010120034217834, -0.2618885636329651, -0.04323774576187134, -0.06254784762859344, -1.4291290044784546, -1.3249517679214478, -0.2713499963283539, 0.0, -0.0007065422250889242, -0.207170307636261, -1.303757905960083, -0.9145150780677795, -0.7625512480735779, -6.365573790390044e-05, -2.407075881958008, -0.5986379981040955, -0.08992534875869751, -0.03535875678062439, -0.3601970374584198], \"tokens\": [\"\\u2581barely\", \"\\u2581audible\", \",\", \"\\u2581\\u201c\", \"is\", \"\\u2581a\", \"\\u2581convenient\", \"\\u2581scape\", \"goat\", \".\", \"\\u2581He\", \"\\u2581is\", \"\\u2581the\", \"\\u2581embodiment\", \"\\u2581of\", \"\\u2581what\", \"\\u2581we\", \"\\u2581*\", \"fear\", \"*.\"], \"top_logprobs\": [{\"\\u2581barely\": -0.8538833260536194, \"\\u2581almost\": -1.8538832664489746, \"\\u2581laced\": -1.9788832664489746, \"\\u2581softer\": -2.1038832664489746, \"\\u2581ting\": -3.4788832664489746, \"\\u2581now\": -3.8538832664489746, \"\\u2581dropping\": -3.9788832664489746, \"\\u2581softening\": -4.353883266448975, \"\\u2581low\": -4.603883266448975, \"\\u2581gaining\": -4.728883266448975, \"\\u2581losing\": -4.978883266448975, \"\\u2581taking\": -4.978883266448975, \"\\u2581imbued\": -5.228883266448975, \"\\u2581a\": -5.353883266448975, \"\\u2581soft\": -5.353883266448975, \"\\u2581heavy\": -5.728883266448975, \"\\u2581filled\": -6.103883266448975, \"\\u2581carrying\": -6.103883266448975, \"\\u2581suddenly\": -6.228883266448975, \"\\u2581laden\": -6.603883266448975}, {\"\\u2581audible\": -0.29010120034217834, \"\\u2581a\": -1.540101170539856, \"\\u2581above\": -3.2901012897491455, \"\\u2581louder\": -8.915101051330566, \"\\u2581more\": -9.790101051330566, \"\\u2581aud\": -12.290101051330566, \n",
      "2025-05-13 11:00:33,947 [INFO ] [api_client.api_clien]: Received 20 token strings (finish_reason=length).\n",
      "2025-05-13 11:00:33,948 [WARNI] [validators.slop_phra]: Slop violation: 'said, his voice barely' @tok=1301 (char_pos=5537) … Devil,” the figure said, his voice barely audible, “is a conv…\n",
      "2025-05-13 11:00:33,950 [WARNI] [validators.ngram_val]: NGram violation: 'said voice barely' (stopwords_removed=True) @tok=1301 (char_pos=5537). Context: ...on.   “The Devil,” the figure said, his voice barely audible, “is a convenien...\n",
      "2025-05-13 11:00:33,950 [WARNI] [core.sampler        ]: Back-tracking @tok=1301 orig='▁said' ban='{'phrase': 'said, his voice barely', 'context': ' Devil,” the figure said, his voice barely audible, “is a conv', 'suppression_detail_key': 'said, his voice barely'}'.\n",
      "2025-05-13 11:00:33,950 [INFO ] [state.generation_sta]: GenerationState initialised. Prompt length (chars) = 266\n",
      "2025-05-13 11:00:33,950 [INFO ] [state.generation_sta]: GenerationState initialised. Prompt length (chars) = 266\n",
      "2025-05-13 11:00:33,950 [INFO ] [state.generation_sta]: GenerationState initialised. Prompt length (chars) = 266\n",
      "2025-05-13 11:00:33,950 [INFO ] [state.generation_sta]: GenerationState initialised. Prompt length (chars) = 266\n",
      "2025-05-13 11:00:33,951 [INFO ] [state.generation_sta]: GenerationState initialised. Prompt length (chars) = 266\n",
      "2025-05-13 11:00:33,951 [INFO ] [state.generation_sta]: GenerationState initialised. Prompt length (chars) = 266\n",
      "2025-05-13 11:00:33,951 [INFO ] [state.generation_sta]: GenerationState initialised. Prompt length (chars) = 266\n",
      "2025-05-13 11:00:33,951 [INFO ] [state.generation_sta]: GenerationState initialised. Prompt length (chars) = 266\n",
      "2025-05-13 11:00:33,951 [INFO ] [state.generation_sta]: GenerationState initialised. Prompt length (chars) = 266\n",
      "2025-05-13 11:00:33,951 [INFO ] [state.generation_sta]: GenerationState initialised. Prompt length (chars) = 266\n",
      "2025-05-13 11:00:33,951 [INFO ] [state.generation_sta]: GenerationState initialised. Prompt length (chars) = 266\n",
      "2025-05-13 11:00:33,951 [INFO ] [state.generation_sta]: GenerationState initialised. Prompt length (chars) = 266\n",
      "2025-05-13 11:00:33,951 [INFO ] [state.generation_sta]: GenerationState initialised. Prompt length (chars) = 266\n",
      "2025-05-13 11:00:33,951 [INFO ] [state.generation_sta]: GenerationState initialised. Prompt length (chars) = 266\n",
      "2025-05-13 11:00:33,951 [INFO ] [state.generation_sta]: GenerationState initialised. Prompt length (chars) = 266\n",
      "2025-05-13 11:00:33,951 [INFO ] [state.generation_sta]: GenerationState initialised. Prompt length (chars) = 266\n",
      "2025-05-13 11:00:33,951 [INFO ] [state.generation_sta]: GenerationState initialised. Prompt length (chars) = 266\n",
      "2025-05-13 11:00:33,951 [INFO ] [state.generation_sta]: GenerationState initialised. Prompt length (chars) = 266\n",
      "2025-05-13 11:00:33,951 [INFO ] [state.generation_sta]: GenerationState initialised. Prompt length (chars) = 266\n",
      "2025-05-13 11:00:33,952 [WARNI] [core.sampler        ]:     ✓ replacement='▁continued' (pool=1, T=0.7, min_p=0.05, top_p=1.0, top_k=50)\n",
      "2025-05-13 11:00:33,952 [DEBUG] [root                ]: BANNED (prompt_idx=0, type=slop_phrase, phrase='said, his voice barely' @ orig_token='▁said' ...'Devil,” the figure said, his voice barely audible, “is a conv'...)\n",
      "2025-05-13 11:00:33,953 [DEBUG] [api_client.api_clien]: POST https://ncfi2yswjottwq-8888.proxy.runpod.net/v1/completions\n",
      "2025-05-13 11:00:33,953 [DEBUG] [api_client.api_clien]: Payload: {\"model\": \"unsloth/gemma-3-4b-it\", \"prompt\": \"<bos><start_of_turn>user\\nWriting prompt: After defeating the Devil down in Georgia, Johnny proudly proclaims he's the best that's ever been. A flash of lightning crashes down and God appears, fiddle in hand. The Devil gets his popcorn ready.\\n\\nWrite 1000 words to this prompt. Your response:\\n<end_of_turn>\\n<start_of_turn>model\\nThe rain in Georgia was a greasy, insistent thing, clinging to everything with the stubbornness of regret. It mirrored the\n"
     ]
    },
    {
     "name": "stdout",
     "output_type": "stream",
     "text": [
      "Batch Generating:   0%|          | 0/1 [01:13<?, ?prompt/s, 18.0 tok/s]"
     ]
    },
    {
     "name": "stderr",
     "output_type": "stream",
     "text": [
      "2025-05-13 11:00:34,526 [DEBUG] [urllib3.connectionpo]: https://ncfi2yswjottwq-8888.proxy.runpod.net:443 \"POST /v1/completions HTTP/1.1\" 200 None\n",
      "2025-05-13 11:00:34,595 [DEBUG] [api_client.api_clien]: Raw response: {\"id\": \"cmpl-a7ea3f46f8d44932bb9fd68c8f80f0c5\", \"object\": \"text_completion\", \"created\": 1747098039, \"model\": \"unsloth/gemma-3-4b-it\", \"choices\": [{\"index\": 0, \"text\": \", \\u201cis not a being of immense power. He is a vessel. A conduit. He is\", \"logprobs\": {\"text_offset\": [0, 1, 3, 5, 9, 11, 17, 20, 28, 34, 35, 38, 41, 43, 50, 51, 53, 61, 62, 65], \"token_logprobs\": [-0.0032083725091069937, -0.08853365480899811, -0.16378061473369598, -0.5722974538803101, -0.3965238928794861, -0.3941652476787567, -0.526798665523529, -0.7575123906135559, -0.0015404274454340339, -0.05009171739220619, -0.0014630577061325312, -0.46854129433631897, -0.26872512698173523, -0.6603440046310425, -0.1011253073811531, -0.12283974885940552, -0.6381480693817139, -0.9769603610038757, -0.1331072300672531, -1.9535249471664429], \"tokens\": [\",\", \"\\u2581\\u201c\", \"is\", \"\\u2581not\", \"\\u2581a\", \"\\u2581being\", \"\\u2581of\", \"\\u2581immense\", \"\\u2581power\", \".\", \"\\u2581He\", \"\\u2581is\", \"\\u2581a\", \"\\u2581vessel\", \".\", \"\\u2581A\", \"\\u2581conduit\", \".\", \"\\u2581He\", \"\\u2581is\"], \"top_logprobs\": [{\",\": -0.0032083725091069937, \"\\u2581as\": -5.878208160400391, \"\\u2581while\": -8.25320816040039, \"\\u2581softly\": -10.00320816040039, \"\\u2581without\": -11.00320816040039, \"\\u2581to\": -11.00320816040039, \"\\u2581between\": -11.50320816040039, \"\\u2581in\": -11.62820816040039, \"\\u2581his\": -11.75320816040039, \"\\u2581\\u201c\": -12.12820816040039, \"\\u2581almost\": -12.50320816040039, \"\\u2581playing\": -12.62820816040039, \"\\u2581quietly\": -12.62820816040039, \"\\u2581during\": -12.75320816040039, \"\\u2581through\": -12.75320816040039, \"\\u2581with\": -13.00320816040039, \"\\u2581casually\": -13.00320816040039, \".\": -13.25320816040039, \"\\u2581smoothly\": -13.75320816040039, \"\\u2581speaking\": -13.75320816040039}, {\"\\u2581\\u201c\": -0.08853365480899811, \"\\u2581his\": -3.213533639907837, \"\\u2581\\\"\": -3.463533639907837, \"\\u2581gesturing\": -4.963533878326416, \"\\u2581as\": -6.338533878326416, \"\\u2581looking\": -7.088533878326416, \"\\u2581addressing\": -7.713533878\n",
      "2025-05-13 11:00:34,595 [INFO ] [api_client.api_clien]: Received 20 token strings (finish_reason=length).\n",
      "2025-05-13 11:00:34,600 [DEBUG] [api_client.api_clien]: POST https://ncfi2yswjottwq-8888.proxy.runpod.net/v1/completions\n",
      "2025-05-13 11:00:34,600 [DEBUG] [api_client.api_clien]: Payload: {\"model\": \"unsloth/gemma-3-4b-it\", \"prompt\": \"<bos><start_of_turn>user\\nWriting prompt: After defeating the Devil down in Georgia, Johnny proudly proclaims he's the best that's ever been. A flash of lightning crashes down and God appears, fiddle in hand. The Devil gets his popcorn ready.\\n\\nWrite 1000 words to this prompt. Your response:\\n<end_of_turn>\\n<start_of_turn>model\\nThe rain in Georgia was a greasy, insistent thing, clinging to everything with the stubbornness of regret. It mirrored the\n"
     ]
    },
    {
     "name": "stdout",
     "output_type": "stream",
     "text": [
      "Batch Generating:   0%|          | 0/1 [01:14<?, ?prompt/s, 18.2 tok/s]"
     ]
    },
    {
     "name": "stderr",
     "output_type": "stream",
     "text": [
      "2025-05-13 11:00:35,293 [DEBUG] [urllib3.connectionpo]: https://ncfi2yswjottwq-8888.proxy.runpod.net:443 \"POST /v1/completions HTTP/1.1\" 200 None\n",
      "2025-05-13 11:00:35,458 [DEBUG] [api_client.api_clien]: Raw response: {\"id\": \"cmpl-3798bda6e7eb4e9ebb4c56f023e0b1eb\", \"object\": \"text_completion\", \"created\": 1747098040, \"model\": \"unsloth/gemma-3-4b-it\", \"choices\": [{\"index\": 0, \"text\": \" born from the unacknowledged desires, the buried resentments, the unfulfilled longings of humanity\", \"logprobs\": {\"text_offset\": [0, 5, 10, 14, 17, 23, 29, 37, 38, 42, 49, 56, 61, 62, 66, 69, 78, 83, 87, 90], \"token_logprobs\": [-2.735173225402832, -0.13033857941627502, -0.1193070113658905, -1.8608494997024536, -0.42220762372016907, 0.0, -0.4046749174594879, -0.011574379168450832, -0.0005250982358120382, -1.8540362119674683, -1.2340638637542725, 0.0, -0.002610372845083475, -0.0013612775364890695, -1.1831104755401611, -0.15414318442344666, -1.069820761680603, -2.861018856492592e-06, -0.3692375421524048, -0.7993772625923157], \"tokens\": [\"\\u2581born\", \"\\u2581from\", \"\\u2581the\", \"\\u2581un\", \"acknow\", \"ledged\", \"\\u2581desires\", \",\", \"\\u2581the\", \"\\u2581buried\", \"\\u2581resent\", \"ments\", \",\", \"\\u2581the\", \"\\u2581un\", \"fulfilled\", \"\\u2581long\", \"ings\", \"\\u2581of\", \"\\u2581humanity\"], \"top_logprobs\": [{\"\\u2581born\": -2.735173225402832, \"\\u2581the\": -1.485173225402832, \"\\u2581what\": -1.610173225402832, \"\\u2581formed\": -2.485173225402832, \"\\u2581filled\": -2.485173225402832, \"\\u2581a\": -2.610173225402832, \"\\u2581shaped\": -2.735173225402832, \"\\u2581simply\": -2.735173225402832, \"\\u2581fueled\": -3.360173225402832, \"\\u2581given\": -3.610173225402832, \"\\u2581merely\": -3.985173225402832, \"\\u2581created\": -4.360173225402832, \"\\u2581drawn\": -5.110173225402832, \"\\u2581made\": -5.110173225402832, \"\\u2581an\": -5.485173225402832, \"\\u2581built\": -5.485173225402832, \"\\u2581whatever\": -5.735173225402832, \"\\u2581where\": -5.860173225402832, \"\\u2581powered\": -6.485173225402832, \"\\u2581sustained\": -6.485173225402832}, {\"\\u2581from\": -0.13033857941627502, \"\\u2581of\": -2.130338668823242, \"\\u2581not\": -6.630338668823242, \"\\u2581when\": -6.630338668823242, \"\\u2581where\": -7.630338668823242, \"\\u2581out\": -8.755338668823242, \"\\u2581in\": -9.3\n",
      "2025-05-13 11:00:35,458 [INFO ] [api_client.api_clien]: Received 20 token strings (finish_reason=length).\n",
      "2025-05-13 11:00:35,462 [DEBUG] [api_client.api_clien]: POST https://ncfi2yswjottwq-8888.proxy.runpod.net/v1/completions\n",
      "2025-05-13 11:00:35,462 [DEBUG] [api_client.api_clien]: Payload: {\"model\": \"unsloth/gemma-3-4b-it\", \"prompt\": \"<bos><start_of_turn>user\\nWriting prompt: After defeating the Devil down in Georgia, Johnny proudly proclaims he's the best that's ever been. A flash of lightning crashes down and God appears, fiddle in hand. The Devil gets his popcorn ready.\\n\\nWrite 1000 words to this prompt. Your response:\\n<end_of_turn>\\n<start_of_turn>model\\nThe rain in Georgia was a greasy, insistent thing, clinging to everything with the stubbornness of regret. It mirrored the\n"
     ]
    },
    {
     "name": "stdout",
     "output_type": "stream",
     "text": [
      "Batch Generating:   0%|          | 0/1 [01:15<?, ?prompt/s, 18.2 tok/s]"
     ]
    },
    {
     "name": "stderr",
     "output_type": "stream",
     "text": [
      "2025-05-13 11:00:36,223 [DEBUG] [urllib3.connectionpo]: https://ncfi2yswjottwq-8888.proxy.runpod.net:443 \"POST /v1/completions HTTP/1.1\" 200 None\n",
      "2025-05-13 11:00:36,284 [DEBUG] [api_client.api_clien]: Raw response: {\"id\": \"cmpl-ac3f126bcdee4d18b1794f8d3861c068\", \"object\": \"text_completion\", \"created\": 1747098041, \"model\": \"unsloth/gemma-3-4b-it\", \"choices\": [{\"index\": 0, \"text\": \". You bound him with your strength, but you didn\\u2019t address the source of his existence.\\u201d\", \"logprobs\": {\"text_offset\": [0, 1, 5, 11, 15, 20, 25, 34, 35, 39, 43, 48, 49, 50, 58, 62, 69, 72, 76, 86], \"token_logprobs\": [-0.3945808410644531, -0.3362978994846344, -0.983140230178833, -0.36340343952178955, -1.4065961837768555, -0.5060099959373474, -0.19386686384677887, -0.04255332052707672, -0.34732577204704285, -0.07968109101057053, -0.23529259860515594, -0.4287009537220001, 0.0, -0.24646714329719543, -0.00843911711126566, -0.5088337063789368, -0.05415860563516617, -0.013799031265079975, -0.25405365228652954, -0.39298734068870544], \"tokens\": [\".\", \"\\u2581You\", \"\\u2581bound\", \"\\u2581him\", \"\\u2581with\", \"\\u2581your\", \"\\u2581strength\", \",\", \"\\u2581but\", \"\\u2581you\", \"\\u2581didn\", \"\\u2019\", \"t\", \"\\u2581address\", \"\\u2581the\", \"\\u2581source\", \"\\u2581of\", \"\\u2581his\", \"\\u2581existence\", \".\\u201d\"], \"top_logprobs\": [{\".\": -0.3945808410644531, \".\\u201d\": -1.1445808410644531, \".\\\"\": -4.894580841064453, \"\\u2581\\u2013\": -9.769580841064453, \"\\u2019\": -10.144580841064453, \"\\u2581and\": -10.394580841064453, \",\": -10.394580841064453, \"'\": -11.394580841064453, \"\\u2014\": -11.894580841064453, \"\\u2581-\": -12.144580841064453, \"\\u2581itself\": -12.269580841064453, \",\\u201d\": -13.394580841064453, \"\\u2026\": -13.644580841064453, \"\\u201d.\": -13.894580841064453, \"\\u201d\": -14.644580841064453, \"\\u2581that\": -14.894580841064453, \".\\u201c\": -15.144580841064453, \".*\": -15.394580841064453, \".\\u2019\": -15.519580841064453, \"\\u2026\\u201d\": -15.644580841064453}, {\"\\u2581You\": -0.3362978994846344, \"\\u2581He\": -2.4612979888916016, \"\\u2581\\u2581\": -2.5862979888916016, \"\\u2581And\": -3.0862979888916016, \"\\u2581When\": -3.3362979888916016, \"\\u2581Your\": -3.8362979888916016, \"\\u2581By\": -4.711297988891602, \"\\u2581I\": -6.086297988891602, \"\\u25\n",
      "2025-05-13 11:00:36,285 [INFO ] [api_client.api_clien]: Received 20 token strings (finish_reason=length).\n",
      "2025-05-13 11:00:36,288 [DEBUG] [api_client.api_clien]: POST https://ncfi2yswjottwq-8888.proxy.runpod.net/v1/completions\n",
      "2025-05-13 11:00:36,288 [DEBUG] [api_client.api_clien]: Payload: {\"model\": \"unsloth/gemma-3-4b-it\", \"prompt\": \"<bos><start_of_turn>user\\nWriting prompt: After defeating the Devil down in Georgia, Johnny proudly proclaims he's the best that's ever been. A flash of lightning crashes down and God appears, fiddle in hand. The Devil gets his popcorn ready.\\n\\nWrite 1000 words to this prompt. Your response:\\n<end_of_turn>\\n<start_of_turn>model\\nThe rain in Georgia was a greasy, insistent thing, clinging to everything with the stubbornness of regret. It mirrored the\n"
     ]
    },
    {
     "name": "stdout",
     "output_type": "stream",
     "text": [
      "Batch Generating:   0%|          | 0/1 [01:16<?, ?prompt/s, 18.3 tok/s]"
     ]
    },
    {
     "name": "stderr",
     "output_type": "stream",
     "text": [
      "2025-05-13 11:00:36,859 [DEBUG] [urllib3.connectionpo]: https://ncfi2yswjottwq-8888.proxy.runpod.net:443 \"POST /v1/completions HTTP/1.1\" 200 None\n",
      "2025-05-13 11:00:36,921 [DEBUG] [api_client.api_clien]: Raw response: {\"id\": \"cmpl-3b17ba0dbb5b46d980ba1f28c6824559\", \"object\": \"text_completion\", \"created\": 1747098041, \"model\": \"unsloth/gemma-3-4b-it\", \"choices\": [{\"index\": 0, \"text\": \"\\n\\nHe paused, his eyes scanning Johnny from head to toe. \\u201cYou sought glory, Johnny.\", \"logprobs\": {\"text_offset\": [0, 2, 4, 11, 12, 16, 21, 30, 37, 42, 47, 50, 54, 55, 57, 60, 67, 73, 74, 81], \"token_logprobs\": [-0.695043683052063, -0.8713810443878174, -1.0955445766448975, -0.00951599795371294, -1.0560550689697266, -2.129031181335449, -2.061819076538086, -0.004540253430604935, -0.9520975947380066, -0.0008761619683355093, -5.960462772236497e-07, -0.0006307758158072829, -0.004246860276907682, -0.2809509336948395, -0.022761745378375053, -2.4932470321655273, -0.10016807913780212, -0.36380302906036377, -0.07749175280332565, -0.002574108075350523], \"tokens\": [\"\\n\\n\", \"He\", \"\\u2581paused\", \",\", \"\\u2581his\", \"\\u2581eyes\", \"\\u2581scanning\", \"\\u2581Johnny\", \"\\u2581from\", \"\\u2581head\", \"\\u2581to\", \"\\u2581toe\", \".\", \"\\u2581\\u201c\", \"You\", \"\\u2581sought\", \"\\u2581glory\", \",\", \"\\u2581Johnny\", \".\"], \"top_logprobs\": [{\"\\n\\n\": -0.695043683052063, \"\\u2581\": -0.695043683052063, \"\\u2581\\u2581\": -6.695043563842773, \"\\u2581He\": -7.570043563842773, \"\\n\\n\\n\": -9.070043563842773, \"\\n\\n\\n\\n\": -11.070043563842773, \"\\u2581\\u2581\\u2581\": -11.695043563842773, \"\\u2581The\": -13.820043563842773, \"\\n\": -14.195043563842773, \"\\n\\n\\n\\n\\n\": -14.820043563842773, \"\\u2581\\u2581\\u2581\\u2581\": -15.195043563842773, \"\\u2581And\": -16.070043563842773, \"\\u2581Then\": -16.445043563842773, \"\\u2581As\": -16.445043563842773, \"\\u2581\\u2581\\u2581\\u2581\\u2581\": -16.445043563842773, \"\\u2581he\": -16.445043563842773, \"\\u2581His\": -17.445043563842773, \"\\u2581With\": -17.445043563842773, \"\\u2581A\": -17.445043563842773, \"\\u2581It\": -17.445043563842773}, {\"He\": -0.8713810443878174, \"The\": -0.7463810443878174, \"\\u201c\": -2.6213810443878174, \"Suddenly\": -4.371380805969238, \"Johnny\": -4.371380805969238, \"\\\"\": -5.246380805969238, \"As\": -6.871380805969238, \"A\": -6.\n",
      "2025-05-13 11:00:36,921 [INFO ] [api_client.api_clien]: Received 20 token strings (finish_reason=length).\n",
      "2025-05-13 11:00:36,922 [WARNI] [validators.slop_phra]: Slop violation: 'paused' @tok=1364 (char_pos=5806) …his existence.”  He paused, his eyes scanning …\n",
      "2025-05-13 11:00:36,924 [WARNI] [validators.ngram_val]: NGram violation: 'eyes scanning' (stopwords_removed=True) @tok=1367 (char_pos=5818). Context: ...s existence.”  He paused, his eyes scanning Johnny from head to toe. “You...\n",
      "2025-05-13 11:00:36,924 [WARNI] [core.sampler        ]: Back-tracking @tok=1364 orig='▁paused' ban='{'phrase': 'paused', 'context': 'his existence.”  He paused, his eyes scanning ', 'suppression_detail_key': 'paused'}'.\n",
      "2025-05-13 11:00:36,924 [INFO ] [state.generation_sta]: GenerationState initialised. Prompt length (chars) = 266\n",
      "2025-05-13 11:00:36,924 [INFO ] [state.generation_sta]: GenerationState initialised. Prompt length (chars) = 266\n",
      "2025-05-13 11:00:36,924 [INFO ] [state.generation_sta]: GenerationState initialised. Prompt length (chars) = 266\n",
      "2025-05-13 11:00:36,924 [INFO ] [state.generation_sta]: GenerationState initialised. Prompt length (chars) = 266\n",
      "2025-05-13 11:00:36,924 [INFO ] [state.generation_sta]: GenerationState initialised. Prompt length (chars) = 266\n",
      "2025-05-13 11:00:36,925 [INFO ] [state.generation_sta]: GenerationState initialised. Prompt length (chars) = 266\n",
      "2025-05-13 11:00:36,925 [INFO ] [state.generation_sta]: GenerationState initialised. Prompt length (chars) = 266\n",
      "2025-05-13 11:00:36,925 [INFO ] [state.generation_sta]: GenerationState initialised. Prompt length (chars) = 266\n",
      "2025-05-13 11:00:36,925 [INFO ] [state.generation_sta]: GenerationState initialised. Prompt length (chars) = 266\n",
      "2025-05-13 11:00:36,925 [INFO ] [state.generation_sta]: GenerationState initialised. Prompt length (chars) = 266\n",
      "2025-05-13 11:00:36,925 [INFO ] [state.generation_sta]: GenerationState initialised. Prompt length (chars) = 266\n",
      "2025-05-13 11:00:36,925 [INFO ] [state.generation_sta]: GenerationState initialised. Prompt length (chars) = 266\n",
      "2025-05-13 11:00:36,925 [INFO ] [state.generation_sta]: GenerationState initialised. Prompt length (chars) = 266\n",
      "2025-05-13 11:00:36,925 [INFO ] [state.generation_sta]: GenerationState initialised. Prompt length (chars) = 266\n",
      "2025-05-13 11:00:36,925 [INFO ] [state.generation_sta]: GenerationState initialised. Prompt length (chars) = 266\n",
      "2025-05-13 11:00:36,925 [INFO ] [state.generation_sta]: GenerationState initialised. Prompt length (chars) = 266\n",
      "2025-05-13 11:00:36,925 [INFO ] [state.generation_sta]: GenerationState initialised. Prompt length (chars) = 266\n",
      "2025-05-13 11:00:36,925 [INFO ] [state.generation_sta]: GenerationState initialised. Prompt length (chars) = 266\n",
      "2025-05-13 11:00:36,925 [INFO ] [state.generation_sta]: GenerationState initialised. Prompt length (chars) = 266\n",
      "2025-05-13 11:00:36,926 [WARNI] [core.sampler        ]:     ✓ replacement='▁lowered' (pool=2, T=0.7, min_p=0.05, top_p=1.0, top_k=50)\n",
      "2025-05-13 11:00:36,926 [DEBUG] [root                ]: BANNED (prompt_idx=0, type=slop_phrase, phrase='paused' @ orig_token='▁paused' ...'his existence.”  He paused, his eyes scanning'...)\n",
      "2025-05-13 11:00:36,927 [DEBUG] [api_client.api_clien]: POST https://ncfi2yswjottwq-8888.proxy.runpod.net/v1/completions\n",
      "2025-05-13 11:00:36,927 [DEBUG] [api_client.api_clien]: Payload: {\"model\": \"unsloth/gemma-3-4b-it\", \"prompt\": \"<bos><start_of_turn>user\\nWriting prompt: After defeating the Devil down in Georgia, Johnny proudly proclaims he's the best that's ever been. A flash of lightning crashes down and God appears, fiddle in hand. The Devil gets his popcorn ready.\\n\\nWrite 1000 words to this prompt. Your response:\\n<end_of_turn>\\n<start_of_turn>model\\nThe rain in Georgia was a greasy, insistent thing, clinging to everything with the stubbornness of regret. It mirrored the\n"
     ]
    },
    {
     "name": "stdout",
     "output_type": "stream",
     "text": [
      "Batch Generating:   0%|          | 0/1 [01:16<?, ?prompt/s, 18.2 tok/s]"
     ]
    },
    {
     "name": "stderr",
     "output_type": "stream",
     "text": [
      "2025-05-13 11:00:37,498 [DEBUG] [urllib3.connectionpo]: https://ncfi2yswjottwq-8888.proxy.runpod.net:443 \"POST /v1/completions HTTP/1.1\" 200 None\n",
      "2025-05-13 11:00:37,561 [DEBUG] [api_client.api_clien]: Raw response: {\"id\": \"cmpl-96b827cee2b844cf82426a1551cedfd0\", \"object\": \"text_completion\", \"created\": 1747098042, \"model\": \"unsloth/gemma-3-4b-it\", \"choices\": [{\"index\": 0, \"text\": \" the fiddle, his gaze sweeping over Johnny, over the chained Devil, over the rain-soaked landscape\", \"logprobs\": {\"text_offset\": [0, 4, 11, 12, 16, 21, 30, 35, 42, 43, 48, 52, 60, 66, 67, 72, 76, 81, 82, 88], \"token_logprobs\": [-0.0003817544784396887, -8.189342770492658e-05, -0.66347336769104, -0.5253132581710815, -0.00949049275368452, -0.1822703331708908, -0.020720100030303, -1.054084062576294, -0.3729894757270813, -1.3022987842559814, -0.00019476900342851877, -0.5331281423568726, -0.0020155846141278744, -0.0006018257699906826, -0.08928535133600235, -4.589452510117553e-05, -0.47893357276916504, -1.2397689715726301e-05, -0.025237081572413445, -0.2374936044216156], \"tokens\": [\"\\u2581the\", \"\\u2581fiddle\", \",\", \"\\u2581his\", \"\\u2581gaze\", \"\\u2581sweeping\", \"\\u2581over\", \"\\u2581Johnny\", \",\", \"\\u2581over\", \"\\u2581the\", \"\\u2581chained\", \"\\u2581Devil\", \",\", \"\\u2581over\", \"\\u2581the\", \"\\u2581rain\", \"-\", \"soaked\", \"\\u2581landscape\"], \"top_logprobs\": [{\"\\u2581the\": -0.0003817544784396887, \"\\u2581his\": -7.875381946563721, \"\\u2581a\": -13.750381469726562, \"\\u2581himself\": -15.750381469726562, \"\\u2581one\": -15.750381469726562, \"\\u2581\\u2581\": -16.250381469726562, \"\\u2581to\": -16.500381469726562, \"\\u2581it\": -17.375381469726562, \"\\u2581an\": -17.812881469726562, \"\\u2581and\": -17.937881469726562, \"\\u2581another\": -18.000381469726562, \"\\u2581slightly\": -18.125381469726562, \"the\": -18.250381469726562, \"\\u2581him\": -18.375381469726562, \",\": -18.562881469726562, \"\\u2581both\": -18.687881469726562, \"\\u2581he\": -19.375381469726562, \"\\u2581her\": -19.812881469726562, \"\\u2581instrument\": -19.812881469726562, \"\\u2581of\": -19.937881469726562}, {\"\\u2581fiddle\": -8.189342770492658e-05, \"\\u2581violin\": -9.750082015991211, \"\\u2581instrument\": -11.000082015991211, \"\\u2581fidd\": -12.375082015991211, \"\\u2581bow\": -13.000082015991211, \"\\u\n",
      "2025-05-13 11:00:37,562 [INFO ] [api_client.api_clien]: Received 20 token strings (finish_reason=length).\n",
      "2025-05-13 11:00:37,562 [WARNI] [validators.slop_phra]: Slop violation: 'gaze' @tok=1369 (char_pos=5830) …red the fiddle, his gaze sweeping over Johnn…\n",
      "2025-05-13 11:00:37,565 [WARNI] [core.sampler        ]: Back-tracking @tok=1369 orig='▁gaze' ban='{'phrase': 'gaze', 'context': 'red the fiddle, his gaze sweeping over Johnn', 'suppression_detail_key': 'gaze'}'.\n",
      "2025-05-13 11:00:37,565 [INFO ] [state.generation_sta]: GenerationState initialised. Prompt length (chars) = 266\n",
      "2025-05-13 11:00:37,565 [INFO ] [state.generation_sta]: GenerationState initialised. Prompt length (chars) = 266\n",
      "2025-05-13 11:00:37,565 [INFO ] [state.generation_sta]: GenerationState initialised. Prompt length (chars) = 266\n",
      "2025-05-13 11:00:37,565 [INFO ] [state.generation_sta]: GenerationState initialised. Prompt length (chars) = 266\n",
      "2025-05-13 11:00:37,565 [INFO ] [state.generation_sta]: GenerationState initialised. Prompt length (chars) = 266\n",
      "2025-05-13 11:00:37,565 [INFO ] [state.generation_sta]: GenerationState initialised. Prompt length (chars) = 266\n",
      "2025-05-13 11:00:37,565 [INFO ] [state.generation_sta]: GenerationState initialised. Prompt length (chars) = 266\n",
      "2025-05-13 11:00:37,565 [INFO ] [state.generation_sta]: GenerationState initialised. Prompt length (chars) = 266\n",
      "2025-05-13 11:00:37,565 [INFO ] [state.generation_sta]: GenerationState initialised. Prompt length (chars) = 266\n",
      "2025-05-13 11:00:37,565 [INFO ] [state.generation_sta]: GenerationState initialised. Prompt length (chars) = 266\n",
      "2025-05-13 11:00:37,565 [INFO ] [state.generation_sta]: GenerationState initialised. Prompt length (chars) = 266\n",
      "2025-05-13 11:00:37,565 [INFO ] [state.generation_sta]: GenerationState initialised. Prompt length (chars) = 266\n",
      "2025-05-13 11:00:37,565 [INFO ] [state.generation_sta]: GenerationState initialised. Prompt length (chars) = 266\n",
      "2025-05-13 11:00:37,566 [INFO ] [state.generation_sta]: GenerationState initialised. Prompt length (chars) = 266\n",
      "2025-05-13 11:00:37,566 [INFO ] [state.generation_sta]: GenerationState initialised. Prompt length (chars) = 266\n",
      "2025-05-13 11:00:37,566 [INFO ] [state.generation_sta]: GenerationState initialised. Prompt length (chars) = 266\n",
      "2025-05-13 11:00:37,566 [INFO ] [state.generation_sta]: GenerationState initialised. Prompt length (chars) = 266\n",
      "2025-05-13 11:00:37,566 [INFO ] [state.generation_sta]: GenerationState initialised. Prompt length (chars) = 266\n",
      "2025-05-13 11:00:37,566 [INFO ] [state.generation_sta]: GenerationState initialised. Prompt length (chars) = 266\n",
      "2025-05-13 11:00:37,567 [WARNI] [core.sampler        ]:     ✓ replacement='▁eyes' (pool=1, T=0.7, min_p=0.05, top_p=1.0, top_k=50)\n",
      "2025-05-13 11:00:37,567 [DEBUG] [root                ]: BANNED (prompt_idx=0, type=slop_phrase, phrase='gaze' @ orig_token='▁gaze' ...'red the fiddle, his gaze sweeping over Johnn'...)\n",
      "2025-05-13 11:00:37,567 [DEBUG] [api_client.api_clien]: POST https://ncfi2yswjottwq-8888.proxy.runpod.net/v1/completions\n",
      "2025-05-13 11:00:37,567 [DEBUG] [api_client.api_clien]: Payload: {\"model\": \"unsloth/gemma-3-4b-it\", \"prompt\": \"<bos><start_of_turn>user\\nWriting prompt: After defeating the Devil down in Georgia, Johnny proudly proclaims he's the best that's ever been. A flash of lightning crashes down and God appears, fiddle in hand. The Devil gets his popcorn ready.\\n\\nWrite 1000 words to this prompt. Your response:\\n<end_of_turn>\\n<start_of_turn>model\\nThe rain in Georgia was a greasy, insistent thing, clinging to everything with the stubbornness of regret. It mirrored the\n"
     ]
    },
    {
     "name": "stdout",
     "output_type": "stream",
     "text": [
      "Batch Generating:   0%|          | 0/1 [01:17<?, ?prompt/s, 18.1 tok/s]"
     ]
    },
    {
     "name": "stderr",
     "output_type": "stream",
     "text": [
      "2025-05-13 11:00:38,141 [DEBUG] [urllib3.connectionpo]: https://ncfi2yswjottwq-8888.proxy.runpod.net:443 \"POST /v1/completions HTTP/1.1\" 200 None\n",
      "2025-05-13 11:00:38,204 [DEBUG] [api_client.api_clien]: Raw response: {\"id\": \"cmpl-52077502f9b64c05bc24aded09129c29\", \"object\": \"text_completion\", \"created\": 1747098043, \"model\": \"unsloth/gemma-3-4b-it\", \"choices\": [{\"index\": 0, \"text\": \" meeting Johnny\\u2019s. \\u201cYou think you\\u2019re the best that\\u2019s ever been, because\", \"logprobs\": {\"text_offset\": [0, 8, 15, 16, 17, 18, 20, 23, 29, 33, 34, 36, 40, 45, 50, 51, 52, 57, 62, 63], \"token_logprobs\": [-0.7608060836791992, -4.2676016164477915e-05, -0.20141449570655823, 0.0, -0.21237872540950775, -0.1729533076286316, -0.1465386003255844, -1.7554786205291748, -0.026637006551027298, -0.40594595670700073, -0.4287068545818329, -0.0033692519646137953, -0.001260320539586246, -0.012477784417569637, -0.03011554665863514, -1.1920928244535389e-07, -0.0003131137927994132, -1.5139465176616795e-05, -0.884042501449585, -0.4346960484981537], \"tokens\": [\"\\u2581meeting\", \"\\u2581Johnny\", \"\\u2019\", \"s\", \".\", \"\\u2581\\u201c\", \"You\", \"\\u2581think\", \"\\u2581you\", \"\\u2019\", \"re\", \"\\u2581the\", \"\\u2581best\", \"\\u2581that\", \"\\u2019\", \"s\", \"\\u2581ever\", \"\\u2581been\", \",\", \"\\u2581because\"], \"top_logprobs\": [{\"\\u2581meeting\": -0.7608060836791992, \"\\u2581sweeping\": -2.135806083679199, \"\\u2581searching\": -2.385806083679199, \"\\u2581scanning\": -2.635806083679199, \"\\u2581studying\": -3.385806083679199, \"\\u2581locking\": -3.510806083679199, \"\\u2581lingering\": -3.635806083679199, \"\\u2581piercing\": -3.635806083679199, \"\\u2581returning\": -3.885806083679199, \"\\u2581holding\": -4.135806083679199, \"\\u2581now\": -4.385806083679199, \"\\u2581turning\": -4.760806083679199, \"\\u2581drifting\": -5.010806083679199, \"\\u2581scrutin\": -5.010806083679199, \"\\u2581looking\": -5.010806083679199, \"\\u2581boring\": -5.135806083679199, \"\\u2581gazing\": -5.260806083679199, \"\\u2581once\": -5.385806083679199, \"\\u2581finally\": -5.510806083679199, \"\\u2581fixed\": -5.510806083679199}, {\"\\u2581Johnny\": -4.2676016164477915e-05, \"\\u2581John\": -10.750042915344238, \"\\u2581those\": -11.500042915344238, \"Johnny\": -11.875042915344238, \"\\u2581Johnson\": -13.125042915344238,\n",
      "2025-05-13 11:00:38,204 [INFO ] [api_client.api_clien]: Received 20 token strings (finish_reason=length).\n",
      "2025-05-13 11:00:38,207 [DEBUG] [api_client.api_clien]: POST https://ncfi2yswjottwq-8888.proxy.runpod.net/v1/completions\n",
      "2025-05-13 11:00:38,207 [DEBUG] [api_client.api_clien]: Payload: {\"model\": \"unsloth/gemma-3-4b-it\", \"prompt\": \"<bos><start_of_turn>user\\nWriting prompt: After defeating the Devil down in Georgia, Johnny proudly proclaims he's the best that's ever been. A flash of lightning crashes down and God appears, fiddle in hand. The Devil gets his popcorn ready.\\n\\nWrite 1000 words to this prompt. Your response:\\n<end_of_turn>\\n<start_of_turn>model\\nThe rain in Georgia was a greasy, insistent thing, clinging to everything with the stubbornness of regret. It mirrored the\n"
     ]
    },
    {
     "name": "stdout",
     "output_type": "stream",
     "text": [
      "Batch Generating:   0%|          | 0/1 [01:18<?, ?prompt/s, 18.2 tok/s]"
     ]
    },
    {
     "name": "stderr",
     "output_type": "stream",
     "text": [
      "2025-05-13 11:00:38,782 [DEBUG] [urllib3.connectionpo]: https://ncfi2yswjottwq-8888.proxy.runpod.net:443 \"POST /v1/completions HTTP/1.1\" 200 None\n",
      "2025-05-13 11:00:38,842 [DEBUG] [api_client.api_clien]: Raw response: {\"id\": \"cmpl-442b00d6947c4956adb93c058c6b492e\", \"object\": \"text_completion\", \"created\": 1747098043, \"model\": \"unsloth/gemma-3-4b-it\", \"choices\": [{\"index\": 0, \"text\": \" you\\u2019ve vanquished a monster. But true strength lies not in destroying darkness, but in understanding\", \"logprobs\": {\"text_offset\": [0, 4, 5, 7, 13, 18, 20, 28, 29, 33, 38, 47, 52, 56, 59, 70, 79, 80, 84, 87], \"token_logprobs\": [-0.0002953569928649813, -1.5247387886047363, -0.0031784274615347385, -2.1688241958618164, -6.437280717364047e-06, -0.06972645223140717, -0.9000968933105469, -0.002892717020586133, -0.005880081094801426, -0.18431229889392853, -0.2865685522556305, -0.02336377277970314, -0.0019292091019451618, -5.960462772236497e-07, -0.6010692119598389, -0.5554972887039185, -0.00014768941036891192, -0.0012859179405495524, -1.1920928244535389e-07, -0.5229930877685547], \"tokens\": [\"\\u2581you\", \"\\u2019\", \"ve\", \"\\u2581vanqu\", \"ished\", \"\\u2581a\", \"\\u2581monster\", \".\", \"\\u2581But\", \"\\u2581true\", \"\\u2581strength\", \"\\u2581lies\", \"\\u2581not\", \"\\u2581in\", \"\\u2581destroying\", \"\\u2581darkness\", \",\", \"\\u2581but\", \"\\u2581in\", \"\\u2581understanding\"], \"top_logprobs\": [{\"\\u2581you\": -0.0002953569928649813, \"\\u2581of\": -8.250295639038086, \"\\u2581for\": -11.500295639038086, \"\\u2581your\": -12.250295639038086, \"\\u2581*\": -12.500295639038086, \"\\u2581in\": -12.625295639038086, \"\\u2581a\": -12.625295639038086, \"\\u2581it\": -14.000295639038086, \",\": -14.250295639038086, \"\\u2581I\": -14.375295639038086, \"\\u2581the\": -14.500295639038086, \"\\u2581defeating\": -14.625295639038086, \"\\u2581after\": -15.062795639038086, \"\\u2581they\": -15.125295639038086, \"\\u2581facing\": -15.125295639038086, \"\\u2581on\": -15.187795639038086, \"\\u2581this\": -15.187795639038086, \"\\u2581at\": -15.375295639038086, \"\\u2581confronting\": -15.562795639038086, \"\\u2581momentarily\": -15.750295639038086}, {\"\\u2019\": -1.5247387886047363, \"\\u2581defeated\": -1.3997387886047363, \"\\u2581vanqu\": -1.8997387886047363, \"\\u2581stopped\": -2.6497387886047363, \"\\u2581conquer\n",
      "2025-05-13 11:00:38,842 [INFO ] [api_client.api_clien]: Received 20 token strings (finish_reason=length).\n",
      "2025-05-13 11:00:38,846 [DEBUG] [api_client.api_clien]: POST https://ncfi2yswjottwq-8888.proxy.runpod.net/v1/completions\n",
      "2025-05-13 11:00:38,846 [DEBUG] [api_client.api_clien]: Payload: {\"model\": \"unsloth/gemma-3-4b-it\", \"prompt\": \"<bos><start_of_turn>user\\nWriting prompt: After defeating the Devil down in Georgia, Johnny proudly proclaims he's the best that's ever been. A flash of lightning crashes down and God appears, fiddle in hand. The Devil gets his popcorn ready.\\n\\nWrite 1000 words to this prompt. Your response:\\n<end_of_turn>\\n<start_of_turn>model\\nThe rain in Georgia was a greasy, insistent thing, clinging to everything with the stubbornness of regret. It mirrored the\n"
     ]
    },
    {
     "name": "stdout",
     "output_type": "stream",
     "text": [
      "Batch Generating:   0%|          | 0/1 [01:18<?, ?prompt/s, 18.3 tok/s]"
     ]
    },
    {
     "name": "stderr",
     "output_type": "stream",
     "text": [
      "2025-05-13 11:00:39,418 [DEBUG] [urllib3.connectionpo]: https://ncfi2yswjottwq-8888.proxy.runpod.net:443 \"POST /v1/completions HTTP/1.1\" 200 None\n",
      "2025-05-13 11:00:39,584 [DEBUG] [api_client.api_clien]: Raw response: {\"id\": \"cmpl-8b0524d3404641b4bde0d733a9898232\", \"object\": \"text_completion\", \"created\": 1747098044, \"model\": \"unsloth/gemma-3-4b-it\", \"choices\": [{\"index\": 0, \"text\": \" it. In confronting it within yourself.\\u201d \\n\\nThe Devil, still chained, whimpered, a\", \"logprobs\": {\"text_offset\": [0, 3, 4, 7, 19, 22, 29, 38, 40, 41, 43, 46, 52, 53, 59, 67, 68, 73, 78, 79], \"token_logprobs\": [-0.007632143795490265, -0.1745292991399765, -0.024636762216687202, -0.6389663219451904, -0.604161262512207, -0.06824454665184021, -0.0013322297018021345, -0.06587275117635727, -0.5805666446685791, -0.0002747396647464484, -0.2890923023223877, -0.0026424750685691833, -0.07089094817638397, -0.39246270060539246, -0.07288022339344025, -0.08236309140920639, -1.1333978176116943, -4.768370445162873e-07, -0.9009042978286743, -0.56642746925354], \"tokens\": [\"\\u2581it\", \".\", \"\\u2581In\", \"\\u2581confronting\", \"\\u2581it\", \"\\u2581within\", \"\\u2581yourself\", \".\\u201d\", \"\\u2581\", \"\\n\\n\", \"The\", \"\\u2581Devil\", \",\", \"\\u2581still\", \"\\u2581chained\", \",\", \"\\u2581whim\", \"pered\", \",\", \"\\u2581a\"], \"top_logprobs\": [{\"\\u2581it\": -0.007632143795490265, \"\\u2581and\": -5.007632255554199, \"\\u2581its\": -7.132632255554199, \"\\u2581the\": -10.3826322555542, \"\\u2581*\": -11.0076322555542, \"\\u2581why\": -11.0076322555542, \",\": -11.1326322555542, \"\\u2581yourself\": -11.3826322555542, \"\\u2581your\": -11.6326322555542, \"\\u2581light\": -11.8826322555542, \"\\u2581\\u2013\": -12.1326322555542, \"\\u2581what\": -12.3826322555542, \"\\u2581how\": -13.7576322555542, \"\\u2026\": -15.3826322555542, \"\\u2581where\": -15.3826322555542, \"\\u2581It\": -15.6326322555542, \"\\u2014\": -15.8826322555542, \"\\u2581itself\": -16.007631301879883, \"\\u2581\\u2581\": -16.382631301879883, \"\\u2581illumination\": -16.757631301879883}, {\".\": -0.1745292991399765, \",\": -2.5495293140411377, \".\\u201d\": -2.5495293140411377, \".\\\"\": -6.549529075622559, \"\\u2581\\u2013\": -6.799529075622559, \"\\u2581and\": -7.049529075622559, \"\\u2581within\": -8.049529075622559, \"\\u2014\": -9.674529075622559, \"\\u2581\n",
      "2025-05-13 11:00:39,585 [INFO ] [api_client.api_clien]: Received 20 token strings (finish_reason=length).\n",
      "2025-05-13 11:00:39,589 [DEBUG] [api_client.api_clien]: POST https://ncfi2yswjottwq-8888.proxy.runpod.net/v1/completions\n",
      "2025-05-13 11:00:39,589 [DEBUG] [api_client.api_clien]: Payload: {\"model\": \"unsloth/gemma-3-4b-it\", \"prompt\": \"<bos><start_of_turn>user\\nWriting prompt: After defeating the Devil down in Georgia, Johnny proudly proclaims he's the best that's ever been. A flash of lightning crashes down and God appears, fiddle in hand. The Devil gets his popcorn ready.\\n\\nWrite 1000 words to this prompt. Your response:\\n<end_of_turn>\\n<start_of_turn>model\\nThe rain in Georgia was a greasy, insistent thing, clinging to everything with the stubbornness of regret. It mirrored the\n"
     ]
    },
    {
     "name": "stdout",
     "output_type": "stream",
     "text": [
      "Batch Generating:   0%|          | 0/1 [01:19<?, ?prompt/s, 18.4 tok/s]"
     ]
    },
    {
     "name": "stderr",
     "output_type": "stream",
     "text": [
      "2025-05-13 11:00:40,168 [DEBUG] [urllib3.connectionpo]: https://ncfi2yswjottwq-8888.proxy.runpod.net:443 \"POST /v1/completions HTTP/1.1\" 200 None\n",
      "2025-05-13 11:00:40,238 [DEBUG] [api_client.api_clien]: Raw response: {\"id\": \"cmpl-a540806d99644bad8468f06947fab75f\", \"object\": \"text_completion\", \"created\": 1747098045, \"model\": \"unsloth/gemma-3-4b-it\", \"choices\": [{\"index\": 0, \"text\": \" pathetic sound that seemed to carry the weight of centuries. \\n\\n\\u201cI\\u2019m going to release\", \"logprobs\": {\"text_offset\": [0, 9, 15, 20, 27, 30, 36, 40, 47, 50, 60, 61, 62, 64, 65, 66, 67, 68, 74, 77], \"token_logprobs\": [-0.5271024703979492, -1.289431095123291, -2.0326647758483887, -0.6607373952865601, -0.010345757938921452, -0.48384204506874084, -0.3698521852493286, -0.0008036244544200599, 0.0, -0.2679784297943115, -0.38692623376846313, -0.10774841904640198, -0.00013004888023715466, -0.09211919456720352, -1.5050230026245117, -0.2353600561618805, -0.38936251401901245, -0.8048038482666016, -0.01847897656261921, -1.7633943557739258], \"tokens\": [\"\\u2581pathetic\", \"\\u2581sound\", \"\\u2581that\", \"\\u2581seemed\", \"\\u2581to\", \"\\u2581carry\", \"\\u2581the\", \"\\u2581weight\", \"\\u2581of\", \"\\u2581centuries\", \".\", \"\\u2581\", \"\\n\\n\", \"\\u201c\", \"I\", \"\\u2019\", \"m\", \"\\u2581going\", \"\\u2581to\", \"\\u2581release\"], \"top_logprobs\": [{\"\\u2581pathetic\": -0.5271024703979492, \"\\u2581tiny\": -2.027102470397949, \"\\u2581single\": -2.402102470397949, \"\\u2581small\": -2.527102470397949, \"\\u2581sound\": -3.527102470397949, \"\\u2581pitiful\": -3.902102470397949, \"\\u2581desperate\": -4.527102470397949, \"\\u2581low\": -5.027102470397949, \"\\u2581broken\": -5.277102470397949, \"\\u2581genuine\": -5.527102470397949, \"\\u2581thin\": -5.527102470397949, \"\\u2581faint\": -6.027102470397949, \"\\u2581strange\": -6.027102470397949, \"\\u2581plaint\": -6.152102470397949, \"\\u2581flicker\": -6.152102470397949, \"\\u2581final\": -6.152102470397949, \"\\u2581truly\": -6.402102470397949, \"\\u2581little\": -7.027102470397949, \"\\u2581barely\": -7.027102470397949, \"\\u2581look\": -7.402102470397949}, {\"\\u2581sound\": -1.289431095123291, \",\": -0.5394311547279358, \"\\u2581little\": -2.664431095123291, \"\\u2581plea\": -2.789431095123291, \"\\u2581and\": -6.664431095123291, \"\\u2581expression\": -6.6644\n",
      "2025-05-13 11:00:40,238 [INFO ] [api_client.api_clien]: Received 20 token strings (finish_reason=length).\n",
      "2025-05-13 11:00:40,242 [DEBUG] [api_client.api_clien]: POST https://ncfi2yswjottwq-8888.proxy.runpod.net/v1/completions\n",
      "2025-05-13 11:00:40,242 [DEBUG] [api_client.api_clien]: Payload: {\"model\": \"unsloth/gemma-3-4b-it\", \"prompt\": \"<bos><start_of_turn>user\\nWriting prompt: After defeating the Devil down in Georgia, Johnny proudly proclaims he's the best that's ever been. A flash of lightning crashes down and God appears, fiddle in hand. The Devil gets his popcorn ready.\\n\\nWrite 1000 words to this prompt. Your response:\\n<end_of_turn>\\n<start_of_turn>model\\nThe rain in Georgia was a greasy, insistent thing, clinging to everything with the stubbornness of regret. It mirrored the\n"
     ]
    },
    {
     "name": "stdout",
     "output_type": "stream",
     "text": [
      "Batch Generating:   0%|          | 0/1 [01:20<?, ?prompt/s, 18.5 tok/s]"
     ]
    },
    {
     "name": "stderr",
     "output_type": "stream",
     "text": [
      "2025-05-13 11:00:41,149 [DEBUG] [urllib3.connectionpo]: https://ncfi2yswjottwq-8888.proxy.runpod.net:443 \"POST /v1/completions HTTP/1.1\" 200 None\n",
      "2025-05-13 11:00:41,211 [DEBUG] [api_client.api_clien]: Raw response: {\"id\": \"cmpl-a628e45470974034a0deebd8a2ba24d9\", \"object\": \"text_completion\", \"created\": 1747098046, \"model\": \"unsloth/gemma-3-4b-it\", \"choices\": [{\"index\": 0, \"text\": \" him,\\u201d the figure announced, his voice devoid of emotion. He gently touched the chain binding the Devil\", \"logprobs\": {\"text_offset\": [0, 4, 6, 10, 17, 27, 28, 32, 38, 45, 48, 56, 57, 60, 67, 75, 79, 85, 93, 97], \"token_logprobs\": [-0.757881760597229, -0.06740888208150864, -8.856858039507642e-05, -1.2159273865108844e-05, -0.3075083792209625, -0.13185307383537292, -0.3344006836414337, -0.10211734473705292, -0.44639742374420166, -5.960462772236497e-07, -0.006963389925658703, -0.000291662581730634, -1.154400110244751, -1.793892741203308, -0.13607259094715118, -0.01384065207093954, -1.504732370376587, -0.5274239778518677, -0.0007306052139028907, -8.082063141046092e-05], \"tokens\": [\"\\u2581him\", \",\\u201d\", \"\\u2581the\", \"\\u2581figure\", \"\\u2581announced\", \",\", \"\\u2581his\", \"\\u2581voice\", \"\\u2581devoid\", \"\\u2581of\", \"\\u2581emotion\", \".\", \"\\u2581He\", \"\\u2581gently\", \"\\u2581touched\", \"\\u2581the\", \"\\u2581chain\", \"\\u2581binding\", \"\\u2581the\", \"\\u2581Devil\"], \"top_logprobs\": [{\"\\u2581him\": -0.757881760597229, \"\\u2581you\": -0.632881760597229, \"\\u2581the\": -8.632882118225098, \"\\u2581your\": -10.132882118225098, \"\\u2581that\": -11.382882118225098, \"\\u2581a\": -11.382882118225098, \"\\u2581my\": -11.382882118225098, \"\\u2581this\": -11.382882118225098, \"\\u2581one\": -12.632882118225098, \",\\u201d\": -12.632882118225098, \"\\u2581them\": -12.632882118225098, \"\\u2581Him\": -13.695382118225098, \"\\u2581those\": -13.757882118225098, \"\\u2581myself\": -13.757882118225098, \"\\u2581his\": -14.257882118225098, \"\\u2581what\": -14.570382118225098, \"\\u2581thee\": -14.945382118225098, \"\\u2581some\": -15.007882118225098, \"\\u2581\\u2581\": -15.132882118225098, \"\\u2581an\": -15.507882118225098}, {\",\\u201d\": -0.06740888208150864, \",\": -3.317408800125122, \"\\u2581now\": -3.942408800125122, \",\\\"\": -4.942409038543701, \".\\u201d\": -6.067409038543701, \".\": -9.8174\n",
      "2025-05-13 11:00:41,211 [INFO ] [api_client.api_clien]: Received 20 token strings (finish_reason=length).\n",
      "2025-05-13 11:00:41,212 [WARNI] [validators.slop_phra]: Slop violation: 'voice devoid of emotion' @tok=1457 (char_pos=6205) …gure announced, his voice devoid of emotion. He gently touched …\n",
      "2025-05-13 11:00:41,215 [WARNI] [core.sampler        ]: Back-tracking @tok=1457 orig='▁voice' ban='{'phrase': 'voice devoid of emotion', 'context': 'gure announced, his voice devoid of emotion. He gently touched ', 'suppression_detail_key': 'voice devoid of emotion'}'.\n",
      "2025-05-13 11:00:41,215 [INFO ] [state.generation_sta]: GenerationState initialised. Prompt length (chars) = 266\n",
      "2025-05-13 11:00:41,215 [INFO ] [state.generation_sta]: GenerationState initialised. Prompt length (chars) = 266\n",
      "2025-05-13 11:00:41,215 [INFO ] [state.generation_sta]: GenerationState initialised. Prompt length (chars) = 266\n",
      "2025-05-13 11:00:41,215 [INFO ] [state.generation_sta]: GenerationState initialised. Prompt length (chars) = 266\n",
      "2025-05-13 11:00:41,215 [INFO ] [state.generation_sta]: GenerationState initialised. Prompt length (chars) = 266\n",
      "2025-05-13 11:00:41,215 [INFO ] [state.generation_sta]: GenerationState initialised. Prompt length (chars) = 266\n",
      "2025-05-13 11:00:41,215 [INFO ] [state.generation_sta]: GenerationState initialised. Prompt length (chars) = 266\n",
      "2025-05-13 11:00:41,215 [INFO ] [state.generation_sta]: GenerationState initialised. Prompt length (chars) = 266\n",
      "2025-05-13 11:00:41,215 [INFO ] [state.generation_sta]: GenerationState initialised. Prompt length (chars) = 266\n",
      "2025-05-13 11:00:41,215 [INFO ] [state.generation_sta]: GenerationState initialised. Prompt length (chars) = 266\n",
      "2025-05-13 11:00:41,215 [INFO ] [state.generation_sta]: GenerationState initialised. Prompt length (chars) = 266\n",
      "2025-05-13 11:00:41,215 [INFO ] [state.generation_sta]: GenerationState initialised. Prompt length (chars) = 266\n",
      "2025-05-13 11:00:41,215 [INFO ] [state.generation_sta]: GenerationState initialised. Prompt length (chars) = 266\n",
      "2025-05-13 11:00:41,216 [INFO ] [state.generation_sta]: GenerationState initialised. Prompt length (chars) = 266\n",
      "2025-05-13 11:00:41,216 [INFO ] [state.generation_sta]: GenerationState initialised. Prompt length (chars) = 266\n",
      "2025-05-13 11:00:41,216 [INFO ] [state.generation_sta]: GenerationState initialised. Prompt length (chars) = 266\n",
      "2025-05-13 11:00:41,216 [INFO ] [state.generation_sta]: GenerationState initialised. Prompt length (chars) = 266\n",
      "2025-05-13 11:00:41,216 [INFO ] [state.generation_sta]: GenerationState initialised. Prompt length (chars) = 266\n",
      "2025-05-13 11:00:41,216 [INFO ] [state.generation_sta]: GenerationState initialised. Prompt length (chars) = 266\n",
      "2025-05-13 11:00:41,217 [WARNI] [core.sampler        ]:     ✓ replacement='▁movements' (pool=2, T=0.7, min_p=0.05, top_p=1.0, top_k=50)\n",
      "2025-05-13 11:00:41,217 [DEBUG] [root                ]: BANNED (prompt_idx=0, type=slop_phrase, phrase='voice devoid of emotion' @ orig_token='▁voice' ...'gure announced, his voice devoid of emotion. He gently touched'...)\n",
      "2025-05-13 11:00:41,218 [DEBUG] [api_client.api_clien]: POST https://ncfi2yswjottwq-8888.proxy.runpod.net/v1/completions\n",
      "2025-05-13 11:00:41,218 [DEBUG] [api_client.api_clien]: Payload: {\"model\": \"unsloth/gemma-3-4b-it\", \"prompt\": \"<bos><start_of_turn>user\\nWriting prompt: After defeating the Devil down in Georgia, Johnny proudly proclaims he's the best that's ever been. A flash of lightning crashes down and God appears, fiddle in hand. The Devil gets his popcorn ready.\\n\\nWrite 1000 words to this prompt. Your response:\\n<end_of_turn>\\n<start_of_turn>model\\nThe rain in Georgia was a greasy, insistent thing, clinging to everything with the stubbornness of regret. It mirrored the\n"
     ]
    },
    {
     "name": "stdout",
     "output_type": "stream",
     "text": [
      "Batch Generating:   0%|          | 0/1 [01:21<?, ?prompt/s, 18.4 tok/s]"
     ]
    },
    {
     "name": "stderr",
     "output_type": "stream",
     "text": [
      "2025-05-13 11:00:41,974 [DEBUG] [urllib3.connectionpo]: https://ncfi2yswjottwq-8888.proxy.runpod.net:443 \"POST /v1/completions HTTP/1.1\" 200 None\n",
      "2025-05-13 11:00:42,036 [DEBUG] [api_client.api_clien]: Raw response: {\"id\": \"cmpl-d735ceb0b40b4f1590af95a0d26b06c7\", \"object\": \"text_completion\", \"created\": 1747098046, \"model\": \"unsloth/gemma-3-4b-it\", \"choices\": [{\"index\": 0, \"text\": \" deliberate and graceful. He reached out and, with a single, fluid motion, snapped the iron chain\", \"logprobs\": {\"text_offset\": [0, 11, 15, 24, 25, 28, 36, 40, 44, 45, 50, 52, 59, 60, 66, 73, 74, 82, 86, 91], \"token_logprobs\": [-0.7344978451728821, -0.5133743286132812, -0.32666608691215515, -0.0006987990345805883, -0.6119322776794434, -1.5098382234573364, -0.06218462437391281, -1.0126205682754517, -0.19941823184490204, -0.0004135706985834986, -0.0027682576328516006, -0.6809244155883789, -0.09486708045005798, -0.5391345024108887, -0.06471502780914307, -2.0265558760002023e-06, -0.6377397775650024, -0.00013684290752280504, -1.482860803604126, -0.128617525100708], \"tokens\": [\"\\u2581deliberate\", \"\\u2581and\", \"\\u2581graceful\", \".\", \"\\u2581He\", \"\\u2581reached\", \"\\u2581out\", \"\\u2581and\", \",\", \"\\u2581with\", \"\\u2581a\", \"\\u2581single\", \",\", \"\\u2581fluid\", \"\\u2581motion\", \",\", \"\\u2581snapped\", \"\\u2581the\", \"\\u2581iron\", \"\\u2581chain\"], \"top_logprobs\": [{\"\\u2581deliberate\": -0.7344978451728821, \"\\u2581slow\": -0.9844978451728821, \"\\u2581fluid\": -2.2344977855682373, \"\\u2581graceful\": -3.9844977855682373, \"\\u2581surprisingly\": -4.484498023986816, \"\\u2581suddenly\": -6.359498023986816, \"\\u2581precise\": -6.609498023986816, \"\\u2581strangely\": -6.984498023986816, \"\\u2581swift\": -6.984498023986816, \"\\u2581deliberately\": -7.234498023986816, \"\\u2581smooth\": -7.234498023986816, \"\\u2581imposs\": -7.359498023986816, \"\\u2581almost\": -7.734498023986816, \"\\u2581now\": -8.109498023986816, \"\\u2581unn\": -8.484498023986816, \"\\u2581becoming\": -8.609498023986816, \"\\u2581flowing\": -8.609498023986816, \"\\u2581langu\": -8.984498023986816, \"\\u2581unsettling\": -9.109498023986816, \"\\u2581effortless\": -9.109498023986816}, {\"\\u2581and\": -0.5133743286132812, \".\": -1.0133743286132812, \",\": -3.2633743286132812, \"\\u2581yet\": -8.888374328613281, \"\\u2581\n",
      "2025-05-13 11:00:42,036 [INFO ] [api_client.api_clien]: Received 20 token strings (finish_reason=length).\n",
      "2025-05-13 11:00:42,037 [WARNI] [validators.slop_phra]: Slop violation: 'snapped' @tok=1474 (char_pos=6289) …ngle, fluid motion, snapped the iron chain…\n",
      "2025-05-13 11:00:42,040 [WARNI] [core.sampler        ]: Back-tracking @tok=1474 orig='▁snapped' ban='{'phrase': 'snapped', 'context': 'ngle, fluid motion, snapped the iron chain', 'suppression_detail_key': 'snapped'}'.\n",
      "2025-05-13 11:00:42,040 [INFO ] [state.generation_sta]: GenerationState initialised. Prompt length (chars) = 266\n",
      "2025-05-13 11:00:42,040 [INFO ] [state.generation_sta]: GenerationState initialised. Prompt length (chars) = 266\n",
      "2025-05-13 11:00:42,040 [INFO ] [state.generation_sta]: GenerationState initialised. Prompt length (chars) = 266\n",
      "2025-05-13 11:00:42,040 [INFO ] [state.generation_sta]: GenerationState initialised. Prompt length (chars) = 266\n",
      "2025-05-13 11:00:42,040 [INFO ] [state.generation_sta]: GenerationState initialised. Prompt length (chars) = 266\n",
      "2025-05-13 11:00:42,040 [INFO ] [state.generation_sta]: GenerationState initialised. Prompt length (chars) = 266\n",
      "2025-05-13 11:00:42,040 [INFO ] [state.generation_sta]: GenerationState initialised. Prompt length (chars) = 266\n",
      "2025-05-13 11:00:42,040 [INFO ] [state.generation_sta]: GenerationState initialised. Prompt length (chars) = 266\n",
      "2025-05-13 11:00:42,040 [INFO ] [state.generation_sta]: GenerationState initialised. Prompt length (chars) = 266\n",
      "2025-05-13 11:00:42,040 [INFO ] [state.generation_sta]: GenerationState initialised. Prompt length (chars) = 266\n",
      "2025-05-13 11:00:42,041 [INFO ] [state.generation_sta]: GenerationState initialised. Prompt length (chars) = 266\n",
      "2025-05-13 11:00:42,041 [INFO ] [state.generation_sta]: GenerationState initialised. Prompt length (chars) = 266\n",
      "2025-05-13 11:00:42,041 [INFO ] [state.generation_sta]: GenerationState initialised. Prompt length (chars) = 266\n",
      "2025-05-13 11:00:42,041 [INFO ] [state.generation_sta]: GenerationState initialised. Prompt length (chars) = 266\n",
      "2025-05-13 11:00:42,041 [INFO ] [state.generation_sta]: GenerationState initialised. Prompt length (chars) = 266\n",
      "2025-05-13 11:00:42,041 [INFO ] [state.generation_sta]: GenerationState initialised. Prompt length (chars) = 266\n",
      "2025-05-13 11:00:42,041 [INFO ] [state.generation_sta]: GenerationState initialised. Prompt length (chars) = 266\n",
      "2025-05-13 11:00:42,041 [INFO ] [state.generation_sta]: GenerationState initialised. Prompt length (chars) = 266\n",
      "2025-05-13 11:00:42,041 [INFO ] [state.generation_sta]: GenerationState initialised. Prompt length (chars) = 266\n",
      "2025-05-13 11:00:42,042 [WARNI] [core.sampler        ]:     ✓ replacement='▁un' (pool=2, T=0.7, min_p=0.05, top_p=1.0, top_k=50)\n",
      "2025-05-13 11:00:42,042 [DEBUG] [root                ]: BANNED (prompt_idx=0, type=slop_phrase, phrase='snapped' @ orig_token='▁snapped' ...'ngle, fluid motion, snapped the iron chain'...)\n",
      "2025-05-13 11:00:42,043 [DEBUG] [api_client.api_clien]: POST https://ncfi2yswjottwq-8888.proxy.runpod.net/v1/completions\n",
      "2025-05-13 11:00:42,043 [DEBUG] [api_client.api_clien]: Payload: {\"model\": \"unsloth/gemma-3-4b-it\", \"prompt\": \"<bos><start_of_turn>user\\nWriting prompt: After defeating the Devil down in Georgia, Johnny proudly proclaims he's the best that's ever been. A flash of lightning crashes down and God appears, fiddle in hand. The Devil gets his popcorn ready.\\n\\nWrite 1000 words to this prompt. Your response:\\n<end_of_turn>\\n<start_of_turn>model\\nThe rain in Georgia was a greasy, insistent thing, clinging to everything with the stubbornness of regret. It mirrored the\n"
     ]
    },
    {
     "name": "stdout",
     "output_type": "stream",
     "text": [
      "Batch Generating:   0%|          | 0/1 [01:21<?, ?prompt/s, 18.4 tok/s]"
     ]
    },
    {
     "name": "stderr",
     "output_type": "stream",
     "text": [
      "2025-05-13 11:00:42,618 [DEBUG] [urllib3.connectionpo]: https://ncfi2yswjottwq-8888.proxy.runpod.net:443 \"POST /v1/completions HTTP/1.1\" 200 None\n",
      "2025-05-13 11:00:42,680 [DEBUG] [api_client.api_clien]: Raw response: {\"id\": \"cmpl-610c49fba87e45bcba9f36747fc19a44\", \"object\": \"text_completion\", \"created\": 1747098047, \"model\": \"unsloth/gemma-3-4b-it\", \"choices\": [{\"index\": 0, \"text\": \"fastened the chains binding the Devil. The creature stumbled free, instantly regaining his towering form and radiating\", \"logprobs\": {\"text_offset\": [0, 4, 8, 12, 19, 27, 31, 37, 38, 42, 51, 60, 65, 66, 76, 86, 90, 99, 104, 108], \"token_logprobs\": [-0.653156042098999, -1.9073468138230965e-06, -0.00048351517762057483, -0.3046996593475342, -0.34054842591285706, -0.02995683066546917, -0.00020132421923335642, -0.026901740580797195, -1.4937589168548584, -0.5546408891677856, -1.888069748878479, -1.1208970546722412, -0.0010645681759342551, -2.5253098011016846, -0.05559927970170975, -0.2590944766998291, -1.4778196811676025, -0.7078508138656616, -0.05950550362467766, -0.3155934810638428], \"tokens\": [\"fast\", \"ened\", \"\\u2581the\", \"\\u2581chains\", \"\\u2581binding\", \"\\u2581the\", \"\\u2581Devil\", \".\", \"\\u2581The\", \"\\u2581creature\", \"\\u2581stumbled\", \"\\u2581free\", \",\", \"\\u2581instantly\", \"\\u2581regaining\", \"\\u2581his\", \"\\u2581towering\", \"\\u2581form\", \"\\u2581and\", \"\\u2581radiating\"], \"top_logprobs\": [{\"fast\": -0.653156042098999, \"clas\": -1.403156042098999, \"chained\": -1.653156042098999, \"lat\": -3.403156042098999, \"clipped\": -5.153156280517578, \"hook\": -6.278156280517578, \"las\": -7.653156280517578, \"l\": -8.028156280517578, \"linked\": -8.778156280517578, \"lo\": -9.028156280517578, \"-\": -9.653156280517578, \"chain\": -9.903156280517578, \"sl\": -10.403156280517578, \"barred\": -10.403156280517578, \"bol\": -10.778156280517578, \"locked\": -11.278156280517578, \"buck\": -11.403156280517578, \"co\": -11.528156280517578, \"clicked\": -11.528156280517578, \"coupled\": -11.528156280517578}, {\"ened\": -1.9073468138230965e-06, \"ined\": -14.000001907348633, \"ended\": -14.375001907348633, \"ed\": -15.500001907348633, \"ening\": -15.875001907348633, \"en\": -16.125001907348633, \"\\u2581the\": -16.875001907348633, \"enced\": -17.125001907348633, \"ener\": -17.500001907\n",
      "2025-05-13 11:00:42,680 [INFO ] [api_client.api_clien]: Received 20 token strings (finish_reason=length).\n",
      "2025-05-13 11:00:42,681 [WARNI] [validators.slop_phra]: Slop violation: 'stumbled' @tok=1485 (char_pos=6343) …Devil. The creature stumbled free, instantly reg…\n",
      "2025-05-13 11:00:42,684 [WARNI] [core.sampler        ]: Back-tracking @tok=1485 orig='▁stumbled' ban='{'phrase': 'stumbled', 'context': 'Devil. The creature stumbled free, instantly reg', 'suppression_detail_key': 'stumbled'}'.\n",
      "2025-05-13 11:00:42,684 [INFO ] [state.generation_sta]: GenerationState initialised. Prompt length (chars) = 266\n",
      "2025-05-13 11:00:42,684 [INFO ] [state.generation_sta]: GenerationState initialised. Prompt length (chars) = 266\n",
      "2025-05-13 11:00:42,684 [INFO ] [state.generation_sta]: GenerationState initialised. Prompt length (chars) = 266\n",
      "2025-05-13 11:00:42,684 [INFO ] [state.generation_sta]: GenerationState initialised. Prompt length (chars) = 266\n",
      "2025-05-13 11:00:42,684 [INFO ] [state.generation_sta]: GenerationState initialised. Prompt length (chars) = 266\n",
      "2025-05-13 11:00:42,684 [INFO ] [state.generation_sta]: GenerationState initialised. Prompt length (chars) = 266\n",
      "2025-05-13 11:00:42,684 [INFO ] [state.generation_sta]: GenerationState initialised. Prompt length (chars) = 266\n",
      "2025-05-13 11:00:42,684 [INFO ] [state.generation_sta]: GenerationState initialised. Prompt length (chars) = 266\n",
      "2025-05-13 11:00:42,684 [INFO ] [state.generation_sta]: GenerationState initialised. Prompt length (chars) = 266\n",
      "2025-05-13 11:00:42,684 [INFO ] [state.generation_sta]: GenerationState initialised. Prompt length (chars) = 266\n",
      "2025-05-13 11:00:42,684 [INFO ] [state.generation_sta]: GenerationState initialised. Prompt length (chars) = 266\n",
      "2025-05-13 11:00:42,685 [INFO ] [state.generation_sta]: GenerationState initialised. Prompt length (chars) = 266\n",
      "2025-05-13 11:00:42,685 [INFO ] [state.generation_sta]: GenerationState initialised. Prompt length (chars) = 266\n",
      "2025-05-13 11:00:42,685 [INFO ] [state.generation_sta]: GenerationState initialised. Prompt length (chars) = 266\n",
      "2025-05-13 11:00:42,685 [INFO ] [state.generation_sta]: GenerationState initialised. Prompt length (chars) = 266\n",
      "2025-05-13 11:00:42,685 [INFO ] [state.generation_sta]: GenerationState initialised. Prompt length (chars) = 266\n",
      "2025-05-13 11:00:42,685 [INFO ] [state.generation_sta]: GenerationState initialised. Prompt length (chars) = 266\n",
      "2025-05-13 11:00:42,685 [INFO ] [state.generation_sta]: GenerationState initialised. Prompt length (chars) = 266\n",
      "2025-05-13 11:00:42,685 [INFO ] [state.generation_sta]: GenerationState initialised. Prompt length (chars) = 266\n",
      "2025-05-13 11:00:42,686 [WARNI] [core.sampler        ]:     ✓ replacement='▁collapsed' (pool=11, T=0.7, min_p=0.05, top_p=1.0, top_k=50)\n",
      "2025-05-13 11:00:42,686 [DEBUG] [root                ]: BANNED (prompt_idx=0, type=slop_phrase, phrase='stumbled' @ orig_token='▁stumbled' ...'Devil. The creature stumbled free, instantly reg'...)\n",
      "2025-05-13 11:00:42,687 [DEBUG] [api_client.api_clien]: POST https://ncfi2yswjottwq-8888.proxy.runpod.net/v1/completions\n",
      "2025-05-13 11:00:42,687 [DEBUG] [api_client.api_clien]: Payload: {\"model\": \"unsloth/gemma-3-4b-it\", \"prompt\": \"<bos><start_of_turn>user\\nWriting prompt: After defeating the Devil down in Georgia, Johnny proudly proclaims he's the best that's ever been. A flash of lightning crashes down and God appears, fiddle in hand. The Devil gets his popcorn ready.\\n\\nWrite 1000 words to this prompt. Your response:\\n<end_of_turn>\\n<start_of_turn>model\\nThe rain in Georgia was a greasy, insistent thing, clinging to everything with the stubbornness of regret. It mirrored the\n"
     ]
    },
    {
     "name": "stdout",
     "output_type": "stream",
     "text": [
      "Batch Generating:   0%|          | 0/1 [01:22<?, ?prompt/s, 18.4 tok/s]"
     ]
    },
    {
     "name": "stderr",
     "output_type": "stream",
     "text": [
      "2025-05-13 11:00:43,264 [DEBUG] [urllib3.connectionpo]: https://ncfi2yswjottwq-8888.proxy.runpod.net:443 \"POST /v1/completions HTTP/1.1\" 200 None\n",
      "2025-05-13 11:00:43,327 [DEBUG] [api_client.api_clien]: Raw response: {\"id\": \"cmpl-31d3d95c0a774629a8f3c9e5ff4475ae\", \"object\": \"text_completion\", \"created\": 1747098048, \"model\": \"unsloth/gemma-3-4b-it\", \"choices\": [{\"index\": 0, \"text\": \" to the ground, momentarily stunned. \\n\\n\\u201cWhy?\\u201d Johnny asked, bewildered. \\n\\n\\u201c\", \"logprobs\": {\"text_offset\": [0, 3, 7, 14, 15, 27, 35, 36, 37, 39, 40, 43, 45, 52, 58, 59, 70, 71, 72, 74], \"token_logprobs\": [-0.14193403720855713, -0.00046588058467023075, -0.0009776342194527388, -0.006858971901237965, -1.9436371326446533, -0.05102851986885071, -0.837527334690094, -0.07945144176483154, -3.158996332786046e-05, -0.0728226974606514, -0.07858982682228088, -0.0009806115413084626, -5.3881147323409095e-05, -0.5067501664161682, -3.313963316031732e-05, -0.6423813104629517, -0.0006733057671226561, -0.6932244300842285, -7.510157047363464e-06, -0.019343897700309753], \"tokens\": [\"\\u2581to\", \"\\u2581the\", \"\\u2581ground\", \",\", \"\\u2581momentarily\", \"\\u2581stunned\", \".\", \"\\u2581\", \"\\n\\n\", \"\\u201c\", \"Why\", \"?\\u201d\", \"\\u2581Johnny\", \"\\u2581asked\", \",\", \"\\u2581bewildered\", \".\", \"\\u2581\", \"\\n\\n\", \"\\u201c\"], \"top_logprobs\": [{\"\\u2581to\": -0.14193403720855713, \"\\u2581onto\": -2.3919339179992676, \",\": -4.141933917999268, \"\\u2581into\": -4.391933917999268, \"\\u2581in\": -4.641933917999268, \"\\u2581back\": -6.016933917999268, \"\\u2581on\": -8.266934394836426, \"\\u2581at\": -9.516934394836426, \"\\u2581forward\": -10.016934394836426, \"\\u2581weakly\": -10.266934394836426, \"\\u2581heavily\": -10.641934394836426, \"\\u2581once\": -11.141934394836426, \"\\u2581upon\": -11.266934394836426, \"\\u2581backward\": -11.266934394836426, \"\\u2581with\": -11.766934394836426, \"\\u2581backwards\": -11.766934394836426, \"\\u2581lim\": -11.891934394836426, \"\\u2581against\": -12.016934394836426, \"\\u2581momentarily\": -12.391934394836426, \"\\u2581without\": -12.891934394836426}, {\"\\u2581the\": -0.00046588058467023075, \"\\u2581his\": -8.250466346740723, \"\\u2581its\": -8.500466346740723, \"\\u2581one\": -14.000466346740723, \"\\u2581earth\": -15.500466346740723, \"\\u2581a\": -15.875\n",
      "2025-05-13 11:00:43,327 [INFO ] [api_client.api_clien]: Received 20 token strings (finish_reason=length).\n",
      "2025-05-13 11:00:43,331 [DEBUG] [api_client.api_clien]: POST https://ncfi2yswjottwq-8888.proxy.runpod.net/v1/completions\n",
      "2025-05-13 11:00:43,331 [DEBUG] [api_client.api_clien]: Payload: {\"model\": \"unsloth/gemma-3-4b-it\", \"prompt\": \"<bos><start_of_turn>user\\nWriting prompt: After defeating the Devil down in Georgia, Johnny proudly proclaims he's the best that's ever been. A flash of lightning crashes down and God appears, fiddle in hand. The Devil gets his popcorn ready.\\n\\nWrite 1000 words to this prompt. Your response:\\n<end_of_turn>\\n<start_of_turn>model\\nThe rain in Georgia was a greasy, insistent thing, clinging to everything with the stubbornness of regret. It mirrored the\n"
     ]
    },
    {
     "name": "stdout",
     "output_type": "stream",
     "text": [
      "Batch Generating:   0%|          | 0/1 [01:23<?, ?prompt/s, 18.5 tok/s]"
     ]
    },
    {
     "name": "stderr",
     "output_type": "stream",
     "text": [
      "2025-05-13 11:00:43,909 [DEBUG] [urllib3.connectionpo]: https://ncfi2yswjottwq-8888.proxy.runpod.net:443 \"POST /v1/completions HTTP/1.1\" 200 None\n",
      "2025-05-13 11:00:44,075 [DEBUG] [api_client.api_clien]: Raw response: {\"id\": \"cmpl-e9ba7bfede584d42b7b7704c9a5dad88\", \"object\": \"text_completion\", \"created\": 1747098048, \"model\": \"unsloth/gemma-3-4b-it\", \"choices\": [{\"index\": 0, \"text\": \"Because,\\u201d the figure said, his voice filled with a profound sadness, \\u201cyou haven\\u2019t learned\", \"logprobs\": {\"text_offset\": [0, 7, 9, 13, 20, 25, 26, 30, 36, 43, 48, 50, 59, 67, 68, 70, 73, 79, 80, 81], \"token_logprobs\": [-0.045807257294654846, -0.18637314438819885, -0.00011848701251437888, -6.0437283536884934e-05, -0.8281916975975037, -0.005700521636754274, -1.1561450958251953, -0.16578176617622375, -2.241530656814575, -5.8412379075889476e-06, -0.11520957201719284, -0.028032774105668068, -0.017596440389752388, -0.0006338732782751322, -0.026361985132098198, -1.2807941436767578, -1.3531243801116943, -0.3132621645927429, -5.006777428206988e-06, -0.30871960520744324], \"tokens\": [\"Because\", \",\\u201d\", \"\\u2581the\", \"\\u2581figure\", \"\\u2581said\", \",\", \"\\u2581his\", \"\\u2581voice\", \"\\u2581filled\", \"\\u2581with\", \"\\u2581a\", \"\\u2581profound\", \"\\u2581sadness\", \",\", \"\\u2581\\u201c\", \"you\", \"\\u2581haven\", \"\\u2019\", \"t\", \"\\u2581learned\"], \"top_logprobs\": [{\"Because\": -0.045807257294654846, \"To\": -3.420807361602783, \"Not\": -5.545807361602783, \"I\": -6.295807361602783, \"He\": -6.545807361602783, \"Let\": -6.795807361602783, \"So\": -6.920807361602783, \"A\": -7.295807361602783, \"The\": -7.670807361602783, \"You\": -7.920807361602783, \"For\": -8.170806884765625, \"It\": -8.670806884765625, \"Observation\": -8.920806884765625, \"An\": -9.295806884765625, \"Simply\": -9.295806884765625, \"My\": -9.545806884765625, \"Don\": -9.545806884765625, \"Entertainment\": -9.670806884765625, \"Consider\": -10.045806884765625, \"As\": -10.045806884765625}, {\",\\u201d\": -0.18637314438819885, \"\\u2581you\": -2.936373233795166, \"\\u2581your\": -3.186373233795166, \"\\u2581I\": -3.811373233795166, \"\\u2581he\": -4.186373233795166, \"\\u2581a\": -4.936373233795166, \",\\\"\": -5.061373233795166, \"\\u2581the\": -5.061373233795166, \"\\u2581his\": -5.436373233795166, \"\\u2581observat\n",
      "2025-05-13 11:00:44,076 [INFO ] [api_client.api_clien]: Received 20 token strings (finish_reason=length).\n",
      "2025-05-13 11:00:44,077 [WARNI] [validators.slop_phra]: Slop violation: 'said, his voice filled' @tok=1510 (char_pos=6448) …ecause,” the figure said, his voice filled with a profound sad…\n",
      "2025-05-13 11:00:44,079 [WARNI] [validators.ngram_val]: NGram violation: 'said voice filled' (stopwords_removed=True) @tok=1510 (char_pos=6448). Context: ...ered.   “Because,” the figure said, his voice filled with a profound sadness,...\n",
      "2025-05-13 11:00:44,080 [WARNI] [core.sampler        ]: Back-tracking @tok=1510 orig='▁said' ban='{'phrase': 'said, his voice filled', 'context': 'ecause,” the figure said, his voice filled with a profound sad', 'suppression_detail_key': 'said, his voice filled'}'.\n",
      "2025-05-13 11:00:44,080 [INFO ] [state.generation_sta]: GenerationState initialised. Prompt length (chars) = 266\n",
      "2025-05-13 11:00:44,080 [INFO ] [state.generation_sta]: GenerationState initialised. Prompt length (chars) = 266\n",
      "2025-05-13 11:00:44,080 [INFO ] [state.generation_sta]: GenerationState initialised. Prompt length (chars) = 266\n",
      "2025-05-13 11:00:44,080 [INFO ] [state.generation_sta]: GenerationState initialised. Prompt length (chars) = 266\n",
      "2025-05-13 11:00:44,080 [INFO ] [state.generation_sta]: GenerationState initialised. Prompt length (chars) = 266\n",
      "2025-05-13 11:00:44,080 [INFO ] [state.generation_sta]: GenerationState initialised. Prompt length (chars) = 266\n",
      "2025-05-13 11:00:44,080 [INFO ] [state.generation_sta]: GenerationState initialised. Prompt length (chars) = 266\n",
      "2025-05-13 11:00:44,080 [INFO ] [state.generation_sta]: GenerationState initialised. Prompt length (chars) = 266\n",
      "2025-05-13 11:00:44,080 [INFO ] [state.generation_sta]: GenerationState initialised. Prompt length (chars) = 266\n",
      "2025-05-13 11:00:44,080 [INFO ] [state.generation_sta]: GenerationState initialised. Prompt length (chars) = 266\n",
      "2025-05-13 11:00:44,080 [INFO ] [state.generation_sta]: GenerationState initialised. Prompt length (chars) = 266\n",
      "2025-05-13 11:00:44,080 [INFO ] [state.generation_sta]: GenerationState initialised. Prompt length (chars) = 266\n",
      "2025-05-13 11:00:44,080 [INFO ] [state.generation_sta]: GenerationState initialised. Prompt length (chars) = 266\n",
      "2025-05-13 11:00:44,080 [INFO ] [state.generation_sta]: GenerationState initialised. Prompt length (chars) = 266\n",
      "2025-05-13 11:00:44,080 [INFO ] [state.generation_sta]: GenerationState initialised. Prompt length (chars) = 266\n",
      "2025-05-13 11:00:44,080 [INFO ] [state.generation_sta]: GenerationState initialised. Prompt length (chars) = 266\n",
      "2025-05-13 11:00:44,080 [INFO ] [state.generation_sta]: GenerationState initialised. Prompt length (chars) = 266\n",
      "2025-05-13 11:00:44,080 [INFO ] [state.generation_sta]: GenerationState initialised. Prompt length (chars) = 266\n",
      "2025-05-13 11:00:44,080 [INFO ] [state.generation_sta]: GenerationState initialised. Prompt length (chars) = 266\n",
      "2025-05-13 11:00:44,082 [WARNI] [core.sampler        ]:     ✓ replacement='▁replied' (pool=1, T=0.7, min_p=0.05, top_p=1.0, top_k=50)\n",
      "2025-05-13 11:00:44,082 [DEBUG] [root                ]: BANNED (prompt_idx=0, type=slop_phrase, phrase='said, his voice filled' @ orig_token='▁said' ...'ecause,” the figure said, his voice filled with a profound sad'...)\n",
      "2025-05-13 11:00:44,082 [DEBUG] [api_client.api_clien]: POST https://ncfi2yswjottwq-8888.proxy.runpod.net/v1/completions\n",
      "2025-05-13 11:00:44,082 [DEBUG] [api_client.api_clien]: Payload: {\"model\": \"unsloth/gemma-3-4b-it\", \"prompt\": \"<bos><start_of_turn>user\\nWriting prompt: After defeating the Devil down in Georgia, Johnny proudly proclaims he's the best that's ever been. A flash of lightning crashes down and God appears, fiddle in hand. The Devil gets his popcorn ready.\\n\\nWrite 1000 words to this prompt. Your response:\\n<end_of_turn>\\n<start_of_turn>model\\nThe rain in Georgia was a greasy, insistent thing, clinging to everything with the stubbornness of regret. It mirrored the\n"
     ]
    },
    {
     "name": "stdout",
     "output_type": "stream",
     "text": [
      "Batch Generating:   0%|          | 0/1 [01:23<?, ?prompt/s, 18.4 tok/s]"
     ]
    },
    {
     "name": "stderr",
     "output_type": "stream",
     "text": [
      "2025-05-13 11:00:44,660 [DEBUG] [urllib3.connectionpo]: https://ncfi2yswjottwq-8888.proxy.runpod.net:443 \"POST /v1/completions HTTP/1.1\" 200 None\n",
      "2025-05-13 11:00:44,722 [DEBUG] [api_client.api_clien]: Raw response: {\"id\": \"cmpl-86faed6f5b1c43ba9b2ac1cec90eba4b\", \"object\": \"text_completion\", \"created\": 1747098049, \"model\": \"unsloth/gemma-3-4b-it\", \"choices\": [{\"index\": 0, \"text\": \", his voice tinged with sadness, \\u201cyou have a long way to go. You\\u2019ve\", \"logprobs\": {\"text_offset\": [0, 1, 5, 11, 16, 18, 23, 31, 32, 34, 37, 42, 44, 49, 53, 56, 59, 60, 64, 65], \"token_logprobs\": [-0.0009114163694903255, -2.272451400756836, -0.21184395253658295, -1.2708755731582642, 0.0, -3.576278118089249e-07, -1.1010186672210693, -0.00037448544753715396, -0.026363611221313477, -1.0558289289474487, -2.812119483947754, -1.0037894248962402, -0.8120371103286743, -0.6969729065895081, -2.0265558760002023e-06, -0.0005937243695370853, -0.7402228713035583, -0.8632232546806335, -0.44132333993911743, -0.0004922132357023656], \"tokens\": [\",\", \"\\u2581his\", \"\\u2581voice\", \"\\u2581ting\", \"ed\", \"\\u2581with\", \"\\u2581sadness\", \",\", \"\\u2581\\u201c\", \"you\", \"\\u2581have\", \"\\u2581a\", \"\\u2581long\", \"\\u2581way\", \"\\u2581to\", \"\\u2581go\", \".\", \"\\u2581You\", \"\\u2019\", \"ve\"], \"top_logprobs\": [{\",\": -0.0009114163694903255, \"\\u2581simply\": -7.500911235809326, \"\\u2581with\": -8.625911712646484, \"\\u2581softly\": -9.125911712646484, \"\\u2581quietly\": -10.625911712646484, \"\\u2581calmly\": -11.125911712646484, \"\\u2581crypt\": -11.625911712646484, \"\\u2581gently\": -12.125911712646484, \"\\u2581enig\": -12.500911712646484, \"\\u2581seren\": -12.625911712646484, \"\\u2581sadly\": -12.750911712646484, \"\\u2581without\": -13.750911712646484, \"\\u2581as\": -13.750911712646484, \".\": -14.000911712646484, \"\\u2581patiently\": -14.625911712646484, \"\\u2581dry\": -14.750911712646484, \"\\u2581wist\": -14.750911712646484, \",\\u201d\": -15.375911712646484, \"\\u2581\\u2013\": -15.500911712646484, \"\\u2581evenly\": -15.625911712646484}, {\"\\u2581his\": -2.272451400756836, \"\\u2581\\u201c\": -0.2724512815475464, \"\\u2581turning\": -2.522451400756836, \"\\u2581\\\"\": -4.147451400756836, \"\\u2581a\": -4.272451400756836, \"\\u2581returning\": -5.022451400756836, \"\\u2581looking\": -5.27245140075683\n",
      "2025-05-13 11:00:44,722 [INFO ] [api_client.api_clien]: Received 20 token strings (finish_reason=length).\n",
      "2025-05-13 11:00:44,725 [WARNI] [validators.ngram_val]: NGram violation: 'replied voice' (stopwords_removed=True) @tok=1510 (char_pos=6448). Context: ...ered.   “Because,” the figure replied, his voice tinged with sadness, “yo...\n",
      "2025-05-13 11:00:44,726 [WARNI] [core.sampler        ]: Back-tracking @tok=1510 orig='▁replied' ban='{'ngram_tuple': ['replied', 'voice'], 'ngram_string': 'replied voice', 'remove_stopwords_active': True, 'context': 'ered.   “Because,” the figure replied, his voice tinged with sadness, “yo', 'suppression_detail_key': 'replied voice (stopwords_removed=True)'}'.\n",
      "2025-05-13 11:00:44,726 [INFO ] [state.generation_sta]: GenerationState initialised. Prompt length (chars) = 266\n",
      "2025-05-13 11:00:44,726 [INFO ] [state.generation_sta]: GenerationState initialised. Prompt length (chars) = 266\n",
      "2025-05-13 11:00:44,726 [INFO ] [state.generation_sta]: GenerationState initialised. Prompt length (chars) = 266\n",
      "2025-05-13 11:00:44,726 [INFO ] [state.generation_sta]: GenerationState initialised. Prompt length (chars) = 266\n",
      "2025-05-13 11:00:44,726 [INFO ] [state.generation_sta]: GenerationState initialised. Prompt length (chars) = 266\n",
      "2025-05-13 11:00:44,726 [INFO ] [state.generation_sta]: GenerationState initialised. Prompt length (chars) = 266\n",
      "2025-05-13 11:00:44,726 [INFO ] [state.generation_sta]: GenerationState initialised. Prompt length (chars) = 266\n",
      "2025-05-13 11:00:44,726 [INFO ] [state.generation_sta]: GenerationState initialised. Prompt length (chars) = 266\n",
      "2025-05-13 11:00:44,726 [INFO ] [state.generation_sta]: GenerationState initialised. Prompt length (chars) = 266\n",
      "2025-05-13 11:00:44,726 [INFO ] [state.generation_sta]: GenerationState initialised. Prompt length (chars) = 266\n",
      "2025-05-13 11:00:44,726 [INFO ] [state.generation_sta]: GenerationState initialised. Prompt length (chars) = 266\n",
      "2025-05-13 11:00:44,726 [INFO ] [state.generation_sta]: GenerationState initialised. Prompt length (chars) = 266\n",
      "2025-05-13 11:00:44,726 [INFO ] [state.generation_sta]: GenerationState initialised. Prompt length (chars) = 266\n",
      "2025-05-13 11:00:44,726 [INFO ] [state.generation_sta]: GenerationState initialised. Prompt length (chars) = 266\n",
      "2025-05-13 11:00:44,726 [INFO ] [state.generation_sta]: GenerationState initialised. Prompt length (chars) = 266\n",
      "2025-05-13 11:00:44,726 [INFO ] [state.generation_sta]: GenerationState initialised. Prompt length (chars) = 266\n",
      "2025-05-13 11:00:44,726 [INFO ] [state.generation_sta]: GenerationState initialised. Prompt length (chars) = 266\n",
      "2025-05-13 11:00:44,726 [INFO ] [state.generation_sta]: GenerationState initialised. Prompt length (chars) = 266\n",
      "2025-05-13 11:00:44,726 [INFO ] [state.generation_sta]: GenerationState initialised. Prompt length (chars) = 266\n",
      "2025-05-13 11:00:44,728 [WARNI] [core.sampler        ]:     ✓ replacement='▁said' (pool=1, T=0.7, min_p=0.05, top_p=1.0, top_k=50)\n",
      "2025-05-13 11:00:44,728 [DEBUG] [root                ]: BANNED (prompt_idx=0, type=ngram, ngram='replied voice' (stopwords_removed=True) @ orig_token='▁replied' ...'ered.   “Because,” the figure replied, his voice tinged with sadness, “yo'...)\n",
      "2025-05-13 11:00:44,728 [DEBUG] [api_client.api_clien]: POST https://ncfi2yswjottwq-8888.proxy.runpod.net/v1/completions\n",
      "2025-05-13 11:00:44,728 [DEBUG] [api_client.api_clien]: Payload: {\"model\": \"unsloth/gemma-3-4b-it\", \"prompt\": \"<bos><start_of_turn>user\\nWriting prompt: After defeating the Devil down in Georgia, Johnny proudly proclaims he's the best that's ever been. A flash of lightning crashes down and God appears, fiddle in hand. The Devil gets his popcorn ready.\\n\\nWrite 1000 words to this prompt. Your response:\\n<end_of_turn>\\n<start_of_turn>model\\nThe rain in Georgia was a greasy, insistent thing, clinging to everything with the stubbornness of regret. It mirrored the\n",
      "2025-05-13 11:00:45,306 [DEBUG] [urllib3.connectionpo]: https://ncfi2yswjottwq-8888.proxy.runpod.net:443 \"POST /v1/completions HTTP/1.1\" 200 None\n",
      "2025-05-13 11:00:45,471 [DEBUG] [api_client.api_clien]: Raw response: {\"id\": \"cmpl-f81018c7628c40dfac59f79b189e8098\", \"object\": \"text_completion\", \"created\": 1747098050, \"model\": \"unsloth/gemma-3-4b-it\", \"choices\": [{\"index\": 0, \"text\": \", \\u201cyour victory was not truly yours. You merely delayed the inevitable. And besides,\\u201d he added\", \"logprobs\": {\"text_offset\": [0, 1, 3, 7, 15, 19, 23, 29, 35, 36, 40, 47, 55, 59, 70, 71, 75, 83, 85, 88], \"token_logprobs\": [-0.0057030110619962215, -1.5013941526412964, -1.3752871751785278, -0.12292736023664474, -0.3774570822715759, -1.0831830501556396, -1.0735217332839966, -0.410706490278244, -0.001524715917184949, -1.7297261953353882, -0.5892246961593628, -0.8194299936294556, -0.0012384133879095316, -5.769562994828448e-05, -0.0014807938132435083, -1.5207194089889526, -0.8673964142799377, -0.12058809399604797, -0.00035124807618558407, -0.0017801166977733374], \"tokens\": [\",\", \"\\u2581\\u201c\", \"your\", \"\\u2581victory\", \"\\u2581was\", \"\\u2581not\", \"\\u2581truly\", \"\\u2581yours\", \".\", \"\\u2581You\", \"\\u2581merely\", \"\\u2581delayed\", \"\\u2581the\", \"\\u2581inevitable\", \".\", \"\\u2581And\", \"\\u2581besides\", \",\\u201d\", \"\\u2581he\", \"\\u2581added\"], \"top_logprobs\": [{\",\": -0.0057030110619962215, \"\\u2581softly\": -6.130702972412109, \"\\u2581simply\": -6.255702972412109, \"\\u2581with\": -7.005702972412109, \"\\u2581quietly\": -7.505702972412109, \"\\u2581gently\": -9.75570297241211, \"\\u2581sadly\": -10.50570297241211, \"\\u2581calmly\": -11.25570297241211, \"\\u2581again\": -11.50570297241211, \"\\u2581patiently\": -12.50570297241211, \"\\u2581crypt\": -12.63070297241211, \"\\u2581slowly\": -13.00570297241211, \"\\u2581as\": -13.25570297241211, \"\\u2581finally\": -13.25570297241211, \"\\u2581wist\": -13.38070297241211, \"\\u2581seren\": -13.50570297241211, \"\\u2581without\": -13.50570297241211, \"\\u2581thoughtfully\": -13.63070297241211, \"\\u2581enig\": -13.63070297241211, \"\\u2581gravely\": -13.75570297241211}, {\"\\u2581\\u201c\": -1.5013941526412964, \"\\u2581his\": -1.1263941526412964, \"\\u2581turning\": -1.1263941526412964, \"\\u2581a\": -3.001394271850586, \"\\u2581looking\"\n",
      "2025-05-13 11:00:45,471 [INFO ] [api_client.api_clien]: Received 20 token strings (finish_reason=length).\n",
      "2025-05-13 11:00:45,474 [DEBUG] [api_client.api_clien]: POST https://ncfi2yswjottwq-8888.proxy.runpod.net/v1/completions\n",
      "2025-05-13 11:00:45,475 [DEBUG] [api_client.api_clien]: Payload: {\"model\": \"unsloth/gemma-3-4b-it\", \"prompt\": \"<bos><start_of_turn>user\\nWriting prompt: After defeating the Devil down in Georgia, Johnny proudly proclaims he's the best that's ever been. A flash of lightning crashes down and God appears, fiddle in hand. The Devil gets his popcorn ready.\\n\\nWrite 1000 words to this prompt. Your response:\\n<end_of_turn>\\n<start_of_turn>model\\nThe rain in Georgia was a greasy, insistent thing, clinging to everything with the stubbornness of regret. It mirrored the\n"
     ]
    },
    {
     "name": "stdout",
     "output_type": "stream",
     "text": [
      "Batch Generating:   0%|          | 0/1 [01:25<?, ?prompt/s, 18.3 tok/s]"
     ]
    },
    {
     "name": "stderr",
     "output_type": "stream",
     "text": [
      "2025-05-13 11:00:46,049 [DEBUG] [urllib3.connectionpo]: https://ncfi2yswjottwq-8888.proxy.runpod.net:443 \"POST /v1/completions HTTP/1.1\" 200 None\n",
      "2025-05-13 11:00:46,217 [DEBUG] [api_client.api_clien]: Raw response: {\"id\": \"cmpl-62894f64f2684187be3f6fa05f387c0d\", \"object\": \"text_completion\", \"created\": 1747098051, \"model\": \"unsloth/gemma-3-4b-it\", \"choices\": [{\"index\": 0, \"text\": \" with a wry smile, \\u201cI find your story far more interesting now that it has a sequel.\\u201d\", \"logprobs\": {\"text_offset\": [0, 5, 7, 11, 17, 18, 20, 21, 26, 31, 37, 41, 46, 58, 62, 67, 70, 74, 76, 83], \"token_logprobs\": [-0.4741554856300354, -0.0035467357374727726, -1.33925461769104, -1.1943491697311401, -9.476689592702314e-05, -0.08971569687128067, -0.42601698637008667, -0.466882586479187, -2.293903112411499, -1.0986485481262207, -0.36400163173675537, -4.100715523236431e-05, -1.0509483814239502, -0.16444265842437744, -0.02128612995147705, -0.04548882320523262, -0.5317927598953247, -0.18533870577812195, -0.908775806427002, -0.012876460328698158], \"tokens\": [\"\\u2581with\", \"\\u2581a\", \"\\u2581wry\", \"\\u2581smile\", \",\", \"\\u2581\\u201c\", \"I\", \"\\u2581find\", \"\\u2581your\", \"\\u2581story\", \"\\u2581far\", \"\\u2581more\", \"\\u2581interesting\", \"\\u2581now\", \"\\u2581that\", \"\\u2581it\", \"\\u2581has\", \"\\u2581a\", \"\\u2581sequel\", \".\\u201d\"], \"top_logprobs\": [{\"\\u2581with\": -0.4741554856300354, \",\": -0.9741554856300354, \"\\u2581dry\": -9.97415542602539, \"\\u2581as\": -11.59915542602539, \"\\u2581dr\": -12.09915542602539, \"\\u2581quietly\": -12.59915542602539, \"\\u2581in\": -12.72415542602539, \"\\u2581almost\": -12.84915542602539, \"\\u2581softly\": -12.84915542602539, \"\\u2581wry\": -13.22415542602539, \"\\u2581crypt\": -14.09915542602539, \"\\u2581pointed\": -14.59915542602539, \"\\u2581faintly\": -14.72415542602539, \"\\u2581a\": -15.09915542602539, \"\\u2581darkly\": -15.09915542602539, \"\\u2581after\": -15.09915542602539, \"\\u2581thoughtfully\": -15.59915542602539, \"\\u2581casually\": -15.59915542602539, \"\\u2581wist\": -15.84915542602539, \"\\u2581\\u2013\": -16.22415542602539}, {\"\\u2581a\": -0.0035467357374727726, \"\\u2581another\": -5.878546714782715, \"\\u2581that\": -7.378546714782715, \"\\u2581an\": -9.753546714782715, \"\\u2581amusement\": -10.753546714782715, \"\\u2581dry\":\n",
      "2025-05-13 11:00:46,217 [INFO ] [api_client.api_clien]: Received 20 token strings (finish_reason=length).\n",
      "2025-05-13 11:00:46,222 [DEBUG] [api_client.api_clien]: POST https://ncfi2yswjottwq-8888.proxy.runpod.net/v1/completions\n",
      "2025-05-13 11:00:46,222 [DEBUG] [api_client.api_clien]: Payload: {\"model\": \"unsloth/gemma-3-4b-it\", \"prompt\": \"<bos><start_of_turn>user\\nWriting prompt: After defeating the Devil down in Georgia, Johnny proudly proclaims he's the best that's ever been. A flash of lightning crashes down and God appears, fiddle in hand. The Devil gets his popcorn ready.\\n\\nWrite 1000 words to this prompt. Your response:\\n<end_of_turn>\\n<start_of_turn>model\\nThe rain in Georgia was a greasy, insistent thing, clinging to everything with the stubbornness of regret. It mirrored the\n"
     ]
    },
    {
     "name": "stdout",
     "output_type": "stream",
     "text": [
      "Batch Generating:   0%|          | 0/1 [01:26<?, ?prompt/s, 18.4 tok/s]"
     ]
    },
    {
     "name": "stderr",
     "output_type": "stream",
     "text": [
      "2025-05-13 11:00:46,800 [DEBUG] [urllib3.connectionpo]: https://ncfi2yswjottwq-8888.proxy.runpod.net:443 \"POST /v1/completions HTTP/1.1\" 200 None\n",
      "2025-05-13 11:00:46,863 [DEBUG] [api_client.api_clien]: Raw response: {\"id\": \"cmpl-4446879b4d0f4f3d9ae866138c7a1716\", \"object\": \"text_completion\", \"created\": 1747098051, \"model\": \"unsloth/gemma-3-4b-it\", \"choices\": [{\"index\": 0, \"text\": \" \\n\\nHe turned to leave, his form beginning to shimmer and fade into the moonlight. \\n\\n\", \"logprobs\": {\"text_offset\": [0, 1, 3, 5, 12, 15, 21, 22, 26, 31, 41, 44, 52, 56, 61, 66, 70, 80, 81, 82], \"token_logprobs\": [-0.2524859607219696, -9.131014667218551e-05, -0.9207285642623901, -0.38298073410987854, -0.28993332386016846, -0.013553855940699577, -5.519237674889155e-05, -1.8705852031707764, -0.12335843592882156, -0.9514731764793396, 0.0, -0.6780474185943604, -0.018172437325119972, -0.09174534678459167, -2.2992680072784424, -7.152555099310121e-07, -0.32851725816726685, -0.004653932526707649, -0.8769792914390564, -5.8412379075889476e-06], \"tokens\": [\"\\u2581\", \"\\n\\n\", \"He\", \"\\u2581turned\", \"\\u2581to\", \"\\u2581leave\", \",\", \"\\u2581his\", \"\\u2581form\", \"\\u2581beginning\", \"\\u2581to\", \"\\u2581shimmer\", \"\\u2581and\", \"\\u2581fade\", \"\\u2581into\", \"\\u2581the\", \"\\u2581moonlight\", \".\", \"\\u2581\", \"\\n\\n\"], \"top_logprobs\": [{\"\\u2581\": -0.2524859607219696, \"\\n\\n\": -1.877485990524292, \"\\u2581He\": -3.252485990524292, \"\\u2581\\u2581\": -3.502485990524292, \"\\u2581With\": -7.127485752105713, \"\\u2581As\": -8.502486228942871, \"\\u2581Then\": -8.877486228942871, \"\\u2581\\u2581\\u2581\": -9.502486228942871, \"\\u2581And\": -9.752486228942871, \"\\u2581Before\": -10.377486228942871, \"\\n\\n\\n\": -10.627486228942871, \"\\n\\n\\n\\n\": -11.877486228942871, \"\\u2581The\": -12.377486228942871, \"\\u2581A\": -12.752486228942871, \"\\u2581Turning\": -13.002486228942871, \"\\n\": -13.502486228942871, \"\\u2581\\u2581\\u2581\\u2581\": -13.752486228942871, \"\\u2581Just\": -13.877486228942871, \"\\u2581His\": -14.127486228942871, \"\\u2581\\u2013\": -14.377486228942871}, {\"\\n\\n\": -9.131014667218551e-05, \"\\n\\n\\n\": -9.500091552734375, \"\\n\": -11.250091552734375, \"\\n\\n\\n\\n\": -12.625091552734375, \"\\n\\n\\n\\n\\n\": -15.750091552734375, \"\\u2581\": -19.625091552734375, \"\\n\\n\\n\\n\\n\\n\": -19.750091552734375\n",
      "2025-05-13 11:00:46,863 [INFO ] [api_client.api_clien]: Received 20 token strings (finish_reason=length).\n",
      "2025-05-13 11:00:46,867 [DEBUG] [api_client.api_clien]: POST https://ncfi2yswjottwq-8888.proxy.runpod.net/v1/completions\n",
      "2025-05-13 11:00:46,867 [DEBUG] [api_client.api_clien]: Payload: {\"model\": \"unsloth/gemma-3-4b-it\", \"prompt\": \"<bos><start_of_turn>user\\nWriting prompt: After defeating the Devil down in Georgia, Johnny proudly proclaims he's the best that's ever been. A flash of lightning crashes down and God appears, fiddle in hand. The Devil gets his popcorn ready.\\n\\nWrite 1000 words to this prompt. Your response:\\n<end_of_turn>\\n<start_of_turn>model\\nThe rain in Georgia was a greasy, insistent thing, clinging to everything with the stubbornness of regret. It mirrored the\n"
     ]
    },
    {
     "name": "stdout",
     "output_type": "stream",
     "text": [
      "Batch Generating:   0%|          | 0/1 [01:26<?, ?prompt/s, 18.5 tok/s]"
     ]
    },
    {
     "name": "stderr",
     "output_type": "stream",
     "text": [
      "2025-05-13 11:00:47,448 [DEBUG] [urllib3.connectionpo]: https://ncfi2yswjottwq-8888.proxy.runpod.net:443 \"POST /v1/completions HTTP/1.1\" 200 None\n",
      "2025-05-13 11:00:47,510 [DEBUG] [api_client.api_clien]: Raw response: {\"id\": \"cmpl-ef8acfe0f3ab48e0a862782508e0d813\", \"object\": \"text_completion\", \"created\": 1747098052, \"model\": \"unsloth/gemma-3-4b-it\", \"choices\": [{\"index\": 0, \"text\": \"\\u201cOne last thing, Johnny,\\u201d he called back, his voice barely audible above the gentle rain.\", \"logprobs\": {\"text_offset\": [0, 1, 4, 9, 15, 16, 23, 25, 28, 35, 40, 41, 45, 51, 58, 66, 72, 76, 83, 88], \"token_logprobs\": [-0.06224410608410835, -0.2969210743904114, -1.068129301071167, -0.09058856964111328, -0.20371362566947937, -7.438383181579411e-05, -0.02081385627388954, -0.001645878772251308, -0.6936050653457642, -0.3927694261074066, -0.018583476543426514, -0.17927852272987366, -7.390948667307384e-06, -0.2049105018377304, -0.16027772426605225, -0.5925977826118469, -3.576278118089249e-07, -1.0813769102096558, -0.1696682870388031, -0.000444551813416183], \"tokens\": [\"\\u201c\", \"One\", \"\\u2581last\", \"\\u2581thing\", \",\", \"\\u2581Johnny\", \",\\u201d\", \"\\u2581he\", \"\\u2581called\", \"\\u2581back\", \",\", \"\\u2581his\", \"\\u2581voice\", \"\\u2581barely\", \"\\u2581audible\", \"\\u2581above\", \"\\u2581the\", \"\\u2581gentle\", \"\\u2581rain\", \".\"], \"top_logprobs\": [{\"\\u201c\": -0.06224410608410835, \"\\\"\": -2.812244176864624, \"\\u2581\\u201c\": -9.187244415283203, \"As\": -9.687244415283203, \"Just\": -9.937244415283203, \"\\u2581\\\"\": -10.437244415283203, \"Before\": -10.562244415283203, \"Suddenly\": -12.187244415283203, \"But\": -14.437244415283203, \"Then\": -14.562244415283203, \"\\u201d\": -14.687244415283203, \"The\": -14.687244415283203, \"Turning\": -14.687244415283203, \"At\": -15.187244415283203, \"\\u2581\\u2581\": -15.562244415283203, \"\\u201c\\u2026\": -15.687244415283203, \"Johnny\": -15.812244415283203, \"He\": -16.187244415283203, \"And\": -16.812244415283203, \"Stopping\": -17.187244415283203}, {\"One\": -0.2969210743904114, \"And\": -1.9219210147857666, \"Don\": -3.0469210147857666, \"You\": -3.6719210147857666, \"Tell\": -4.796921253204346, \"Before\": -4.796921253204346, \"Just\": -5.421921253204346, \"Consider\": -5.921921253204346, \"Remember\": -5.921921253204346, \"The\": -\n",
      "2025-05-13 11:00:47,511 [INFO ] [api_client.api_clien]: Received 20 token strings (finish_reason=length).\n",
      "2025-05-13 11:00:47,512 [WARNI] [validators.slop_phra]: Slop violation: 'voice barely audible' @tok=1583 (char_pos=6761) …he called back, his voice barely audible above the gentle ra…\n",
      "2025-05-13 11:00:47,515 [WARNI] [validators.ngram_val]: NGram violation: 'voice barely audible' (stopwords_removed=True) @tok=1583 (char_pos=6761). Context: ... Johnny,” he called back, his voice barely audible above the gentle rain....\n",
      "2025-05-13 11:00:47,515 [WARNI] [core.sampler        ]: Back-tracking @tok=1583 orig='▁voice' ban='{'phrase': 'voice barely audible', 'context': 'he called back, his voice barely audible above the gentle ra', 'suppression_detail_key': 'voice barely audible'}'.\n",
      "2025-05-13 11:00:47,515 [INFO ] [state.generation_sta]: GenerationState initialised. Prompt length (chars) = 266\n",
      "2025-05-13 11:00:47,515 [INFO ] [state.generation_sta]: GenerationState initialised. Prompt length (chars) = 266\n",
      "2025-05-13 11:00:47,515 [INFO ] [state.generation_sta]: GenerationState initialised. Prompt length (chars) = 266\n",
      "2025-05-13 11:00:47,515 [INFO ] [state.generation_sta]: GenerationState initialised. Prompt length (chars) = 266\n",
      "2025-05-13 11:00:47,515 [INFO ] [state.generation_sta]: GenerationState initialised. Prompt length (chars) = 266\n",
      "2025-05-13 11:00:47,515 [INFO ] [state.generation_sta]: GenerationState initialised. Prompt length (chars) = 266\n",
      "2025-05-13 11:00:47,515 [INFO ] [state.generation_sta]: GenerationState initialised. Prompt length (chars) = 266\n",
      "2025-05-13 11:00:47,515 [INFO ] [state.generation_sta]: GenerationState initialised. Prompt length (chars) = 266\n",
      "2025-05-13 11:00:47,515 [INFO ] [state.generation_sta]: GenerationState initialised. Prompt length (chars) = 266\n",
      "2025-05-13 11:00:47,515 [INFO ] [state.generation_sta]: GenerationState initialised. Prompt length (chars) = 266\n",
      "2025-05-13 11:00:47,515 [INFO ] [state.generation_sta]: GenerationState initialised. Prompt length (chars) = 266\n",
      "2025-05-13 11:00:47,515 [INFO ] [state.generation_sta]: GenerationState initialised. Prompt length (chars) = 266\n",
      "2025-05-13 11:00:47,515 [INFO ] [state.generation_sta]: GenerationState initialised. Prompt length (chars) = 266\n",
      "2025-05-13 11:00:47,515 [INFO ] [state.generation_sta]: GenerationState initialised. Prompt length (chars) = 266\n",
      "2025-05-13 11:00:47,515 [INFO ] [state.generation_sta]: GenerationState initialised. Prompt length (chars) = 266\n",
      "2025-05-13 11:00:47,515 [INFO ] [state.generation_sta]: GenerationState initialised. Prompt length (chars) = 266\n",
      "2025-05-13 11:00:47,515 [INFO ] [state.generation_sta]: GenerationState initialised. Prompt length (chars) = 266\n",
      "2025-05-13 11:00:47,517 [WARNI] [core.sampler        ]:     ✓ replacement='▁final' (pool=2, T=0.7, min_p=0.05, top_p=1.0, top_k=50)\n",
      "2025-05-13 11:00:47,517 [DEBUG] [root                ]: BANNED (prompt_idx=0, type=slop_phrase, phrase='voice barely audible' @ orig_token='▁voice' ...'he called back, his voice barely audible above the gentle ra'...)\n",
      "2025-05-13 11:00:47,517 [DEBUG] [api_client.api_clien]: POST https://ncfi2yswjottwq-8888.proxy.runpod.net/v1/completions\n",
      "2025-05-13 11:00:47,517 [DEBUG] [api_client.api_clien]: Payload: {\"model\": \"unsloth/gemma-3-4b-it\", \"prompt\": \"<bos><start_of_turn>user\\nWriting prompt: After defeating the Devil down in Georgia, Johnny proudly proclaims he's the best that's ever been. A flash of lightning crashes down and God appears, fiddle in hand. The Devil gets his popcorn ready.\\n\\nWrite 1000 words to this prompt. Your response:\\n<end_of_turn>\\n<start_of_turn>model\\nThe rain in Georgia was a greasy, insistent thing, clinging to everything with the stubbornness of regret. It mirrored the\n"
     ]
    },
    {
     "name": "stdout",
     "output_type": "stream",
     "text": [
      "Batch Generating:   0%|          | 0/1 [01:27<?, ?prompt/s, 18.5 tok/s]"
     ]
    },
    {
     "name": "stderr",
     "output_type": "stream",
     "text": [
      "2025-05-13 11:00:48,098 [DEBUG] [urllib3.connectionpo]: https://ncfi2yswjottwq-8888.proxy.runpod.net:443 \"POST /v1/completions HTTP/1.1\" 200 None\n",
      "2025-05-13 11:00:48,223 [DEBUG] [api_client.api_clien]: Raw response: {\"id\": \"cmpl-798bb8a61fc74b4aa125017583b619de\", \"object\": \"text_completion\", \"created\": 1747098053, \"model\": \"unsloth/gemma-3-4b-it\", \"choices\": [{\"index\": 0, \"text\": \" words echoing in the stillness of the forest. \\u201cDon\\u2019t mistake defeating a demon for being a\", \"logprobs\": {\"text_offset\": [0, 6, 14, 17, 21, 31, 34, 38, 45, 46, 48, 51, 52, 53, 61, 71, 73, 79, 83, 89], \"token_logprobs\": [-0.0003911683743353933, -0.5199617147445679, -0.9861536026000977, -8.999896090244874e-05, -0.0840640664100647, -0.4780980944633484, -2.861018856492592e-06, -0.30786338448524475, -0.0028568191919475794, -0.024399466812610626, -0.022747064009308815, -0.3868712782859802, 0.0, -0.305298775434494, -2.1670570373535156, -0.06229059398174286, -0.9870458841323853, -0.0011869773734360933, -1.1625062227249146, -0.19008341431617737], \"tokens\": [\"\\u2581words\", \"\\u2581echoing\", \"\\u2581in\", \"\\u2581the\", \"\\u2581stillness\", \"\\u2581of\", \"\\u2581the\", \"\\u2581forest\", \".\", \"\\u2581\\u201c\", \"Don\", \"\\u2019\", \"t\", \"\\u2581mistake\", \"\\u2581defeating\", \"\\u2581a\", \"\\u2581demon\", \"\\u2581for\", \"\\u2581being\", \"\\u2581a\"], \"top_logprobs\": [{\"\\u2581words\": -0.0003911683743353933, \"\\u2581voice\": -8.250391006469727, \"\\u2581word\": -9.375391006469727, \"\\u2581note\": -11.000391006469727, \",\": -11.875391006469727, \"\\u2581utterance\": -12.125391006469727, \"\\u2581whisper\": -12.375391006469727, \"\\u2581remark\": -12.625391006469727, \"\\u2581sentence\": -13.250391006469727, \"\\u2581echo\": -13.500391006469727, \"\\u2581pron\": -14.375391006469727, \"\\u2581warning\": -14.500391006469727, \"\\u2581sound\": -14.500391006469727, \"\\u2581act\": -14.625391006469727, \"\\u2581observation\": -14.625391006469727, \"\\u2581message\": -14.875391006469727, \"\\u2581gesture\": -15.000391006469727, \"\\u2581instruction\": -15.000391006469727, \"\\u2581statement\": -15.000391006469727, \"\\u2581tone\": -15.375391006469727}, {\"\\u2581echoing\": -0.5199617147445679, \"\\u2581hanging\": -1.0199617147445679, \"\\u2581carried\": -3.8949618339538574, \"\\u2581lingering\": -5.0199618339\n",
      "2025-05-13 11:00:48,223 [INFO ] [api_client.api_clien]: Received 20 token strings (finish_reason=length).\n",
      "2025-05-13 11:00:48,224 [WARNI] [validators.slop_phra]: Slop violation: 'echo' @tok=1585 (char_pos=6773) …ck, his final words echoing in the stillness…\n",
      "2025-05-13 11:00:48,227 [WARNI] [core.sampler        ]: Back-tracking @tok=1585 orig='▁echoing' ban='{'phrase': 'echo', 'context': 'ck, his final words echoing in the stillness', 'suppression_detail_key': 'echo'}'.\n",
      "2025-05-13 11:00:48,227 [INFO ] [state.generation_sta]: GenerationState initialised. Prompt length (chars) = 266\n",
      "2025-05-13 11:00:48,227 [INFO ] [state.generation_sta]: GenerationState initialised. Prompt length (chars) = 266\n",
      "2025-05-13 11:00:48,227 [INFO ] [state.generation_sta]: GenerationState initialised. Prompt length (chars) = 266\n",
      "2025-05-13 11:00:48,227 [INFO ] [state.generation_sta]: GenerationState initialised. Prompt length (chars) = 266\n",
      "2025-05-13 11:00:48,227 [INFO ] [state.generation_sta]: GenerationState initialised. Prompt length (chars) = 266\n",
      "2025-05-13 11:00:48,227 [INFO ] [state.generation_sta]: GenerationState initialised. Prompt length (chars) = 266\n",
      "2025-05-13 11:00:48,227 [INFO ] [state.generation_sta]: GenerationState initialised. Prompt length (chars) = 266\n",
      "2025-05-13 11:00:48,227 [INFO ] [state.generation_sta]: GenerationState initialised. Prompt length (chars) = 266\n",
      "2025-05-13 11:00:48,227 [INFO ] [state.generation_sta]: GenerationState initialised. Prompt length (chars) = 266\n",
      "2025-05-13 11:00:48,227 [INFO ] [state.generation_sta]: GenerationState initialised. Prompt length (chars) = 266\n",
      "2025-05-13 11:00:48,227 [INFO ] [state.generation_sta]: GenerationState initialised. Prompt length (chars) = 266\n",
      "2025-05-13 11:00:48,227 [INFO ] [state.generation_sta]: GenerationState initialised. Prompt length (chars) = 266\n",
      "2025-05-13 11:00:48,227 [INFO ] [state.generation_sta]: GenerationState initialised. Prompt length (chars) = 266\n",
      "2025-05-13 11:00:48,227 [INFO ] [state.generation_sta]: GenerationState initialised. Prompt length (chars) = 266\n",
      "2025-05-13 11:00:48,227 [INFO ] [state.generation_sta]: GenerationState initialised. Prompt length (chars) = 266\n",
      "2025-05-13 11:00:48,227 [INFO ] [state.generation_sta]: GenerationState initialised. Prompt length (chars) = 266\n",
      "2025-05-13 11:00:48,227 [INFO ] [state.generation_sta]: GenerationState initialised. Prompt length (chars) = 266\n",
      "2025-05-13 11:00:48,228 [INFO ] [state.generation_sta]: GenerationState initialised. Prompt length (chars) = 266\n",
      "2025-05-13 11:00:48,228 [INFO ] [state.generation_sta]: GenerationState initialised. Prompt length (chars) = 266\n",
      "2025-05-13 11:00:48,229 [WARNI] [core.sampler        ]:     ✓ replacement='▁hanging' (pool=1, T=0.7, min_p=0.05, top_p=1.0, top_k=50)\n",
      "2025-05-13 11:00:48,229 [DEBUG] [root                ]: BANNED (prompt_idx=0, type=slop_phrase, phrase='echo' @ orig_token='▁echoing' ...'ck, his final words echoing in the stillness'...)\n",
      "2025-05-13 11:00:48,229 [DEBUG] [api_client.api_clien]: POST https://ncfi2yswjottwq-8888.proxy.runpod.net/v1/completions\n",
      "2025-05-13 11:00:48,230 [DEBUG] [api_client.api_clien]: Payload: {\"model\": \"unsloth/gemma-3-4b-it\", \"prompt\": \"<bos><start_of_turn>user\\nWriting prompt: After defeating the Devil down in Georgia, Johnny proudly proclaims he's the best that's ever been. A flash of lightning crashes down and God appears, fiddle in hand. The Devil gets his popcorn ready.\\n\\nWrite 1000 words to this prompt. Your response:\\n<end_of_turn>\\n<start_of_turn>model\\nThe rain in Georgia was a greasy, insistent thing, clinging to everything with the stubbornness of regret. It mirrored the\n"
     ]
    },
    {
     "name": "stdout",
     "output_type": "stream",
     "text": [
      "Batch Generating:   0%|          | 0/1 [01:28<?, ?prompt/s, 18.4 tok/s]"
     ]
    },
    {
     "name": "stderr",
     "output_type": "stream",
     "text": [
      "2025-05-13 11:00:48,808 [DEBUG] [urllib3.connectionpo]: https://ncfi2yswjottwq-8888.proxy.runpod.net:443 \"POST /v1/completions HTTP/1.1\" 200 None\n",
      "2025-05-13 11:00:48,981 [DEBUG] [api_client.api_clien]: Raw response: {\"id\": \"cmpl-c6b4fff932ec48ccaeee1c23382a9fdd\", \"object\": \"text_completion\", \"created\": 1747098053, \"model\": \"unsloth/gemma-3-4b-it\", \"choices\": [{\"index\": 0, \"text\": \" in the air. \\u201cDon\\u2019t mistake containment for victory.  The best you\\u2019ve ever\", \"logprobs\": {\"text_offset\": [0, 3, 7, 11, 12, 14, 17, 18, 19, 27, 39, 43, 51, 52, 54, 57, 62, 66, 67, 69], \"token_logprobs\": [-0.000785280775744468, 0.0, -0.0034816381521523, -0.04653656855225563, -0.031651195138692856, -0.029121771454811096, -0.38687118887901306, 0.0, -0.239744171500206, -0.8328708410263062, -2.0265558760002023e-06, -1.8351473808288574, -0.008761062286794186, -1.3367425203323364, -2.5699102878570557, -0.985112190246582, -0.6246521472930908, -0.19522318243980408, -0.004084578715264797, -0.00041166413575410843], \"tokens\": [\"\\u2581in\", \"\\u2581the\", \"\\u2581air\", \".\", \"\\u2581\\u201c\", \"Don\", \"\\u2019\", \"t\", \"\\u2581mistake\", \"\\u2581containment\", \"\\u2581for\", \"\\u2581victory\", \".\", \"\\u2581\\u2581\", \"The\", \"\\u2581best\", \"\\u2581you\", \"\\u2019\", \"ve\", \"\\u2581ever\"], \"top_logprobs\": [{\"\\u2581in\": -0.000785280775744468, \"\\u2581on\": -7.5007853507995605, \"\\u2581heavy\": -9.000784873962402, \"\\u2581faintly\": -9.250784873962402, \"\\u2581suspended\": -12.000784873962402, \"\\u2581softly\": -12.375784873962402, \"\\u2581like\": -14.250784873962402, \"\\u2581heavily\": -14.375784873962402, \"\\u2581thin\": -15.375784873962402, \"\\u2581slightly\": -15.375784873962402, \"\\u2581lightly\": -15.750784873962402, \"\\u2581briefly\": -16.00078582763672, \"\\u2581fragile\": -16.25078582763672, \"\\u2581amidst\": -16.37578582763672, \"\\u2581momentarily\": -16.62578582763672, \"\\u2581faint\": -16.87578582763672, \"\\u2581gently\": -16.87578582763672, \"\\u2581unspoken\": -17.50078582763672, \"\\u2581shimmering\": -17.75078582763672, \"\\u2581strangely\": -17.75078582763672}, {\"\\u2581the\": 0.0, \"\\u2581mid\": -20.25, \"\\u2581\\u2581\": -20.375, \"\\u2581a\": -20.5, \"\\u2581suspended\": -21.625, \"\\u2581thin\": -21.875, \"\\u2581that\": -22.0, \"\\u2581air\": -22.375, \"\\u2581heavy\": -22.625,\n",
      "2025-05-13 11:00:48,981 [INFO ] [api_client.api_clien]: Received 20 token strings (finish_reason=length).\n",
      "2025-05-13 11:00:48,986 [DEBUG] [api_client.api_clien]: POST https://ncfi2yswjottwq-8888.proxy.runpod.net/v1/completions\n",
      "2025-05-13 11:00:48,986 [DEBUG] [api_client.api_clien]: Payload: {\"model\": \"unsloth/gemma-3-4b-it\", \"prompt\": \"<bos><start_of_turn>user\\nWriting prompt: After defeating the Devil down in Georgia, Johnny proudly proclaims he's the best that's ever been. A flash of lightning crashes down and God appears, fiddle in hand. The Devil gets his popcorn ready.\\n\\nWrite 1000 words to this prompt. Your response:\\n<end_of_turn>\\n<start_of_turn>model\\nThe rain in Georgia was a greasy, insistent thing, clinging to everything with the stubbornness of regret. It mirrored the\n"
     ]
    },
    {
     "name": "stdout",
     "output_type": "stream",
     "text": [
      "Batch Generating:   0%|          | 0/1 [01:28<?, ?prompt/s, 18.4 tok/s]"
     ]
    },
    {
     "name": "stderr",
     "output_type": "stream",
     "text": [
      "2025-05-13 11:00:49,564 [DEBUG] [urllib3.connectionpo]: https://ncfi2yswjottwq-8888.proxy.runpod.net:443 \"POST /v1/completions HTTP/1.1\" 200 None\n",
      "2025-05-13 11:00:49,626 [DEBUG] [api_client.api_clien]: Raw response: {\"id\": \"cmpl-ba171bcb95d241c0b25ca53f80a529df\", \"object\": \"text_completion\", \"created\": 1747098054, \"model\": \"unsloth/gemma-3-4b-it\", \"choices\": [{\"index\": 0, \"text\": \" been isn\\u2019t about conquering demons. It's about understanding the ones you carry within.\\u201d \", \"logprobs\": {\"text_offset\": [0, 5, 9, 10, 11, 17, 28, 35, 36, 39, 40, 41, 47, 61, 65, 70, 74, 80, 87, 89], \"token_logprobs\": [-0.0001445904199499637, -0.4100516140460968, -0.386871337890625, 0.0, -0.1361909955739975, -2.2454891204833984, -1.6692794561386108, -0.07136746495962143, -0.020552877336740494, -1.7014378309249878, 0.0, -5.221230458118953e-05, -2.4000062942504883, -0.6642135977745056, -1.181739091873169, -0.20734918117523193, -0.007094430737197399, -0.08702779561281204, -0.17807988822460175, -0.263021320104599], \"tokens\": [\"\\u2581been\", \"\\u2581isn\", \"\\u2019\", \"t\", \"\\u2581about\", \"\\u2581conquering\", \"\\u2581demons\", \".\", \"\\u2581It\", \"'\", \"s\", \"\\u2581about\", \"\\u2581understanding\", \"\\u2581the\", \"\\u2581ones\", \"\\u2581you\", \"\\u2581carry\", \"\\u2581within\", \".\\u201d\", \"\\u2581\"], \"top_logprobs\": [{\"\\u2581been\": -0.0001445904199499637, \"\\u2581*\": -10.000144958496094, \"\\u2581truly\": -10.625144958496094, \"\\u2581seen\": -11.250144958496094, \"\\u2026\": -11.375144958496094, \"\\u2581be\": -11.500144958496094, \"\\u2581done\": -11.625144958496094, \"\\u2581become\": -12.125144958496094, \"\\u2581learned\": -13.000144958496094, \"\\u2581being\": -13.000144958496094, \"\\u2581known\": -13.250144958496094, \"\\u2581\\u2013\": -13.437644958496094, \"\\u2581\\u2018\": -13.500144958496094, \"\\u2581had\": -13.625144958496094, \"\\u2581won\": -13.812644958496094, \",\": -13.937644958496094, \"\\u2581fought\": -14.062644958496094, \"\\u2581bee\": -14.125144958496094, \"\\u2581\\u2581\": -14.187644958496094, \"...\": -14.625144958496094}, {\"\\u2581isn\": -0.4100516140460968, \"\\u2581is\": -1.6600515842437744, \"\\u2026\": -2.5350515842437744, \"\\u2581doesn\": -4.4100518226623535, \",\": -4.5350518226623535, \"...\": -4.5350518226623535, \"?\": -4.9100518226623535, \"\\u2581won\": -5.\n",
      "2025-05-13 11:00:49,626 [INFO ] [api_client.api_clien]: Received 20 token strings (finish_reason=length).\n",
      "2025-05-13 11:00:49,627 [WARNI] [validators.slop_phra]: Slop violation: 'demon' @tok=1612 (char_pos=6883) …’t about conquering demons. It's about unders…\n",
      "2025-05-13 11:00:49,630 [WARNI] [core.sampler        ]: Back-tracking @tok=1612 orig='▁demons' ban='{'phrase': 'demon', 'context': \"’t about conquering demons. It's about unders\", 'suppression_detail_key': 'demon'}'.\n",
      "2025-05-13 11:00:49,630 [INFO ] [state.generation_sta]: GenerationState initialised. Prompt length (chars) = 266\n",
      "2025-05-13 11:00:49,630 [INFO ] [state.generation_sta]: GenerationState initialised. Prompt length (chars) = 266\n",
      "2025-05-13 11:00:49,630 [INFO ] [state.generation_sta]: GenerationState initialised. Prompt length (chars) = 266\n",
      "2025-05-13 11:00:49,630 [INFO ] [state.generation_sta]: GenerationState initialised. Prompt length (chars) = 266\n",
      "2025-05-13 11:00:49,630 [INFO ] [state.generation_sta]: GenerationState initialised. Prompt length (chars) = 266\n",
      "2025-05-13 11:00:49,630 [INFO ] [state.generation_sta]: GenerationState initialised. Prompt length (chars) = 266\n",
      "2025-05-13 11:00:49,631 [INFO ] [state.generation_sta]: GenerationState initialised. Prompt length (chars) = 266\n",
      "2025-05-13 11:00:49,631 [INFO ] [state.generation_sta]: GenerationState initialised. Prompt length (chars) = 266\n",
      "2025-05-13 11:00:49,631 [INFO ] [state.generation_sta]: GenerationState initialised. Prompt length (chars) = 266\n",
      "2025-05-13 11:00:49,631 [INFO ] [state.generation_sta]: GenerationState initialised. Prompt length (chars) = 266\n",
      "2025-05-13 11:00:49,631 [INFO ] [state.generation_sta]: GenerationState initialised. Prompt length (chars) = 266\n",
      "2025-05-13 11:00:49,631 [INFO ] [state.generation_sta]: GenerationState initialised. Prompt length (chars) = 266\n",
      "2025-05-13 11:00:49,631 [INFO ] [state.generation_sta]: GenerationState initialised. Prompt length (chars) = 266\n",
      "2025-05-13 11:00:49,631 [INFO ] [state.generation_sta]: GenerationState initialised. Prompt length (chars) = 266\n",
      "2025-05-13 11:00:49,631 [INFO ] [state.generation_sta]: GenerationState initialised. Prompt length (chars) = 266\n",
      "2025-05-13 11:00:49,631 [INFO ] [state.generation_sta]: GenerationState initialised. Prompt length (chars) = 266\n",
      "2025-05-13 11:00:49,631 [INFO ] [state.generation_sta]: GenerationState initialised. Prompt length (chars) = 266\n",
      "2025-05-13 11:00:49,631 [INFO ] [state.generation_sta]: GenerationState initialised. Prompt length (chars) = 266\n",
      "2025-05-13 11:00:49,631 [INFO ] [state.generation_sta]: GenerationState initialised. Prompt length (chars) = 266\n",
      "2025-05-13 11:00:49,632 [WARNI] [core.sampler        ]:     ✓ replacement='▁darkness' (pool=4, T=0.7, min_p=0.05, top_p=1.0, top_k=50)\n",
      "2025-05-13 11:00:49,633 [DEBUG] [root                ]: BANNED (prompt_idx=0, type=slop_phrase, phrase='demon' @ orig_token='▁demons' ...'’t about conquering demons. It's about unders'...)\n",
      "2025-05-13 11:00:49,633 [DEBUG] [api_client.api_clien]: POST https://ncfi2yswjottwq-8888.proxy.runpod.net/v1/completions\n",
      "2025-05-13 11:00:49,633 [DEBUG] [api_client.api_clien]: Payload: {\"model\": \"unsloth/gemma-3-4b-it\", \"prompt\": \"<bos><start_of_turn>user\\nWriting prompt: After defeating the Devil down in Georgia, Johnny proudly proclaims he's the best that's ever been. A flash of lightning crashes down and God appears, fiddle in hand. The Devil gets his popcorn ready.\\n\\nWrite 1000 words to this prompt. Your response:\\n<end_of_turn>\\n<start_of_turn>model\\nThe rain in Georgia was a greasy, insistent thing, clinging to everything with the stubbornness of regret. It mirrored the\n"
     ]
    },
    {
     "name": "stdout",
     "output_type": "stream",
     "text": [
      "Batch Generating:   0%|          | 0/1 [01:29<?, ?prompt/s, 18.4 tok/s]"
     ]
    },
    {
     "name": "stderr",
     "output_type": "stream",
     "text": [
      "2025-05-13 11:00:50,209 [DEBUG] [urllib3.connectionpo]: https://ncfi2yswjottwq-8888.proxy.runpod.net:443 \"POST /v1/completions HTTP/1.1\" 200 None\n",
      "2025-05-13 11:00:50,272 [DEBUG] [api_client.api_clien]: Raw response: {\"id\": \"cmpl-1f82fec7a6d4408a95db208a57e75581\", \"object\": \"text_completion\", \"created\": 1747098055, \"model\": \"unsloth/gemma-3-4b-it\", \"choices\": [{\"index\": 0, \"text\": \". It\\u2019s about learning to live with the light *and* the shadow within you.\\u201d \", \"logprobs\": {\"text_offset\": [0, 1, 4, 5, 6, 12, 21, 24, 29, 34, 38, 44, 46, 49, 50, 54, 61, 68, 72, 74], \"token_logprobs\": [-0.17816798388957977, -0.026315193623304367, -0.20144355297088623, -1.1920928244535389e-07, -0.00011216964776394889, -0.20456673204898834, -0.011086649261415005, -0.2646440267562866, -0.24684123694896698, -0.507429301738739, -0.028042279183864594, -1.2726843357086182, -0.015512403100728989, -2.5510462364763953e-05, -0.0011185110779479146, -0.315533310174942, -0.9482904672622681, -0.5457625389099121, -0.11817703396081924, -0.26028499007225037], \"tokens\": [\".\", \"\\u2581It\", \"\\u2019\", \"s\", \"\\u2581about\", \"\\u2581learning\", \"\\u2581to\", \"\\u2581live\", \"\\u2581with\", \"\\u2581the\", \"\\u2581light\", \"\\u2581*\", \"and\", \"*\", \"\\u2581the\", \"\\u2581shadow\", \"\\u2581within\", \"\\u2581you\", \".\\u201d\", \"\\u2581\"], \"top_logprobs\": [{\".\": -0.17816798388957977, \",\": -2.0531680583953857, \";\": -3.6781680583953857, \"\\u2581\\u2013\": -5.053167819976807, \"\\u2026\": -6.178167819976807, \"\\u2014\": -7.678167819976807, \"\\u2581-\": -7.803167819976807, \"...\": -8.428168296813965, \".\\u201d\": -11.803168296813965, \"\\u2581--\": -11.928168296813965, \"\\u2581but\": -12.053168296813965, \"\\u2013\": -12.178168296813965, \"\\u2581\\u2014\": -12.303168296813965, \",\\u201d\": -12.428168296813965, \"\\u2581outside\": -12.803168296813965, \"--\": -12.928168296813965, \":\": -13.053168296813965, \"\\u2581.\": -14.053168296813965, \"es\": -14.303168296813965, \"\\u2581\\u2026\": -14.428168296813965}, {\"\\u2581It\": -0.026315193623304367, \"\\u2581\\u2581\": -3.651315212249756, \"\\u2581\\u2581\\u2581\": -12.026314735412598, \"\\u2581it\": -12.151314735412598, \"\\u2581Its\": -13.276314735412598, \"\\u2581\": -14.651314735412598, \"\\u2581*\": -15.276314735412598, \"\\u2581That\": -15.526314735412598, \"\\u2581\n",
      "2025-05-13 11:00:50,272 [INFO ] [api_client.api_clien]: Received 20 token strings (finish_reason=length).\n",
      "2025-05-13 11:00:50,276 [DEBUG] [api_client.api_clien]: POST https://ncfi2yswjottwq-8888.proxy.runpod.net/v1/completions\n",
      "2025-05-13 11:00:50,276 [DEBUG] [api_client.api_clien]: Payload: {\"model\": \"unsloth/gemma-3-4b-it\", \"prompt\": \"<bos><start_of_turn>user\\nWriting prompt: After defeating the Devil down in Georgia, Johnny proudly proclaims he's the best that's ever been. A flash of lightning crashes down and God appears, fiddle in hand. The Devil gets his popcorn ready.\\n\\nWrite 1000 words to this prompt. Your response:\\n<end_of_turn>\\n<start_of_turn>model\\nThe rain in Georgia was a greasy, insistent thing, clinging to everything with the stubbornness of regret. It mirrored the\n"
     ]
    },
    {
     "name": "stdout",
     "output_type": "stream",
     "text": [
      "Batch Generating:   0%|          | 0/1 [01:30<?, ?prompt/s, 18.5 tok/s]"
     ]
    },
    {
     "name": "stderr",
     "output_type": "stream",
     "text": [
      "2025-05-13 11:00:50,854 [DEBUG] [urllib3.connectionpo]: https://ncfi2yswjottwq-8888.proxy.runpod.net:443 \"POST /v1/completions HTTP/1.1\" 200 None\n",
      "2025-05-13 11:00:50,924 [DEBUG] [api_client.api_clien]: Raw response: {\"id\": \"cmpl-9b3f1c695d9c479b8ac3ab0a8f69d1d7\", \"object\": \"text_completion\", \"created\": 1747098055, \"model\": \"unsloth/gemma-3-4b-it\", \"choices\": [{\"index\": 0, \"text\": \"\\n\\nAnd then he was gone, leaving behind only the scent of rain, the lingering melody of the\", \"logprobs\": {\"text_offset\": [0, 2, 5, 10, 13, 17, 22, 23, 31, 38, 43, 47, 53, 56, 61, 62, 66, 76, 83, 86], \"token_logprobs\": [-0.00024828212917782366, -0.5979540348052979, -0.0789920836687088, -0.386877179145813, -0.0004319211875554174, 0.0, -0.31329989433288574, -0.14703424274921417, -0.48089152574539185, -0.004543457645922899, -0.0004625442670658231, -1.6840016841888428, 0.0, -0.0697069987654686, -0.44113561511039734, -0.10248302668333054, -0.9153927564620972, -0.9644705653190613, -0.00036864637513644993, -0.009423892013728619], \"tokens\": [\"\\n\\n\", \"And\", \"\\u2581then\", \"\\u2581he\", \"\\u2581was\", \"\\u2581gone\", \",\", \"\\u2581leaving\", \"\\u2581behind\", \"\\u2581only\", \"\\u2581the\", \"\\u2581scent\", \"\\u2581of\", \"\\u2581rain\", \",\", \"\\u2581the\", \"\\u2581lingering\", \"\\u2581melody\", \"\\u2581of\", \"\\u2581the\"], \"top_logprobs\": [{\"\\n\\n\": -0.00024828212917782366, \"\\n\\n\\n\": -8.500247955322266, \"\\n\": -10.250247955322266, \"\\n\\n\\n\\n\": -11.625247955322266, \"\\n\\n\\n\\n\\n\": -14.625247955322266, \"\\n\\n\\n\\n\\n\\n\": -18.500247955322266, \"\\u2581\": -19.500247955322266, \"\\n\\n\\n\\n\\n\\n\\n\": -20.375247955322266, \"\\t\": -22.875247955322266, \"\\n\\n\\n\\n\\n\\n\\n\\n\": -23.125247955322266, \"\\n\\n\\n\\n\\n\\n\\n\\n\\n\": -23.375247955322266, \"<start_of_image>\": -23.500247955322266, \"\\n\\n\\n\\n\\n\\n\\n\\n\\n\\n\\n\": -23.500247955322266, \"Then\": -24.000247955322266, \"\\n\\n\\n\\n\\n\\n\\n\\n\\n\\n\\n\\n\": -24.500247955322266, \"\\n\\n\\n\\n\\n\\n\\n\\n\\n\\n\\n\\n\\n\\n\\n\\n\\n\\n\\n\\n\\n\\n\\n\\n\": -24.500247955322266, \"\\n\\n\\n\\n\\n\\n\\n\\n\\n\\n\\n\\n\\n\": -24.625247955322266, \"\\n\\n\\n\\n\\n\\n\\n\\n\\n\\n\": -24.625247955322266, \"<i>\": -24.750247955322266, \"\\n\\n\\n\\n\\n\\n\\n\\n\\n\\n\\n\\n\\n\\n\": -24.750247955322266}, {\"And\": -0.5979540348052979, \"Then\": -0.8479540348052979, \"With\": -3.847954034805298, \"He\": -8.097953796386719, \"\\u2581And\": \n",
      "2025-05-13 11:00:50,924 [INFO ] [api_client.api_clien]: Received 20 token strings (finish_reason=length).\n",
      "2025-05-13 11:00:50,925 [WARNI] [validators.slop_phra]: Slop violation: 'scent' @tok=1644 (char_pos=7014) …ing behind only the scent of rain, the linger…\n",
      "2025-05-13 11:00:50,928 [WARNI] [validators.ngram_val]: NGram violation: 'leaving behind' (stopwords_removed=True) @tok=1640 (char_pos=6990). Context: ...you.”   And then he was gone, leaving behind only the scent of rain, the l...\n",
      "2025-05-13 11:00:50,928 [WARNI] [core.sampler        ]: Back-tracking @tok=1640 orig='▁leaving' ban='{'ngram_tuple': ['leaving', 'behind'], 'ngram_string': 'leaving behind', 'remove_stopwords_active': True, 'context': 'you.”   And then he was gone, leaving behind only the scent of rain, the l', 'suppression_detail_key': 'leaving behind (stopwords_removed=True)'}'.\n",
      "2025-05-13 11:00:50,928 [INFO ] [state.generation_sta]: GenerationState initialised. Prompt length (chars) = 266\n",
      "2025-05-13 11:00:50,928 [INFO ] [state.generation_sta]: GenerationState initialised. Prompt length (chars) = 266\n",
      "2025-05-13 11:00:50,928 [INFO ] [state.generation_sta]: GenerationState initialised. Prompt length (chars) = 266\n",
      "2025-05-13 11:00:50,928 [INFO ] [state.generation_sta]: GenerationState initialised. Prompt length (chars) = 266\n",
      "2025-05-13 11:00:50,928 [INFO ] [state.generation_sta]: GenerationState initialised. Prompt length (chars) = 266\n",
      "2025-05-13 11:00:50,928 [INFO ] [state.generation_sta]: GenerationState initialised. Prompt length (chars) = 266\n",
      "2025-05-13 11:00:50,928 [INFO ] [state.generation_sta]: GenerationState initialised. Prompt length (chars) = 266\n",
      "2025-05-13 11:00:50,928 [INFO ] [state.generation_sta]: GenerationState initialised. Prompt length (chars) = 266\n",
      "2025-05-13 11:00:50,928 [INFO ] [state.generation_sta]: GenerationState initialised. Prompt length (chars) = 266\n",
      "2025-05-13 11:00:50,929 [INFO ] [state.generation_sta]: GenerationState initialised. Prompt length (chars) = 266\n",
      "2025-05-13 11:00:50,929 [INFO ] [state.generation_sta]: GenerationState initialised. Prompt length (chars) = 266\n",
      "2025-05-13 11:00:50,929 [INFO ] [state.generation_sta]: GenerationState initialised. Prompt length (chars) = 266\n",
      "2025-05-13 11:00:50,929 [INFO ] [state.generation_sta]: GenerationState initialised. Prompt length (chars) = 266\n",
      "2025-05-13 11:00:50,929 [INFO ] [state.generation_sta]: GenerationState initialised. Prompt length (chars) = 266\n",
      "2025-05-13 11:00:50,929 [INFO ] [state.generation_sta]: GenerationState initialised. Prompt length (chars) = 266\n",
      "2025-05-13 11:00:50,929 [INFO ] [state.generation_sta]: GenerationState initialised. Prompt length (chars) = 266\n",
      "2025-05-13 11:00:50,929 [INFO ] [state.generation_sta]: GenerationState initialised. Prompt length (chars) = 266\n",
      "2025-05-13 11:00:50,929 [INFO ] [state.generation_sta]: GenerationState initialised. Prompt length (chars) = 266\n",
      "2025-05-13 11:00:50,929 [INFO ] [state.generation_sta]: GenerationState initialised. Prompt length (chars) = 266\n",
      "2025-05-13 11:00:50,930 [WARNI] [core.sampler        ]:     ✓ replacement='▁swallowed' (pool=3, T=0.7, min_p=0.05, top_p=1.0, top_k=50)\n",
      "2025-05-13 11:00:50,931 [DEBUG] [root                ]: BANNED (prompt_idx=0, type=ngram, ngram='leaving behind' (stopwords_removed=True) @ orig_token='▁leaving' ...'you.”   And then he was gone, leaving behind only the scent of rain, the l'...)\n",
      "2025-05-13 11:00:50,931 [DEBUG] [api_client.api_clien]: POST https://ncfi2yswjottwq-8888.proxy.runpod.net/v1/completions\n",
      "2025-05-13 11:00:50,931 [DEBUG] [api_client.api_clien]: Payload: {\"model\": \"unsloth/gemma-3-4b-it\", \"prompt\": \"<bos><start_of_turn>user\\nWriting prompt: After defeating the Devil down in Georgia, Johnny proudly proclaims he's the best that's ever been. A flash of lightning crashes down and God appears, fiddle in hand. The Devil gets his popcorn ready.\\n\\nWrite 1000 words to this prompt. Your response:\\n<end_of_turn>\\n<start_of_turn>model\\nThe rain in Georgia was a greasy, insistent thing, clinging to everything with the stubbornness of regret. It mirrored the\n"
     ]
    },
    {
     "name": "stdout",
     "output_type": "stream",
     "text": [
      "Batch Generating:   0%|          | 0/1 [01:30<?, ?prompt/s, 18.4 tok/s]"
     ]
    },
    {
     "name": "stderr",
     "output_type": "stream",
     "text": [
      "2025-05-13 11:00:51,511 [DEBUG] [urllib3.connectionpo]: https://ncfi2yswjottwq-8888.proxy.runpod.net:443 \"POST /v1/completions HTTP/1.1\" 200 None\n",
      "2025-05-13 11:00:51,573 [DEBUG] [api_client.api_clien]: Raw response: {\"id\": \"cmpl-37b7765191b94dff93ffb7821504a7ff\", \"object\": \"text_completion\", \"created\": 1747098056, \"model\": \"unsloth/gemma-3-4b-it\", \"choices\": [{\"index\": 0, \"text\": \" by the mist, leaving Johnny alone with the rain, the Devil, and a profoundly unsettling realization.\", \"logprobs\": {\"text_offset\": [0, 3, 7, 12, 13, 21, 28, 34, 39, 43, 48, 49, 53, 59, 60, 64, 66, 77, 88, 100], \"token_logprobs\": [-0.005882333032786846, -6.437280717364047e-06, -1.1755640506744385, -1.3281445503234863, -0.01879127323627472, -0.21049553155899048, -0.07975142449140549, -1.2689132690429688, -0.0013827058719471097, -0.22181591391563416, -0.05614794045686722, -0.0005410637822933495, -0.38201358914375305, -0.0012942517641931772, -0.0007508557755500078, -0.31437087059020996, -0.9409141540527344, -0.0005744237569160759, -0.09330590814352036, -0.4889407157897949], \"tokens\": [\"\\u2581by\", \"\\u2581the\", \"\\u2581mist\", \",\", \"\\u2581leaving\", \"\\u2581Johnny\", \"\\u2581alone\", \"\\u2581with\", \"\\u2581the\", \"\\u2581rain\", \",\", \"\\u2581the\", \"\\u2581Devil\", \",\", \"\\u2581and\", \"\\u2581a\", \"\\u2581profoundly\", \"\\u2581unsettling\", \"\\u2581realization\", \".\"], \"top_logprobs\": [{\"\\u2581by\": -0.005882333032786846, \"\\u2581up\": -6.255882263183594, \"\\u2581entirely\": -6.505882263183594, \"\\u2581completely\": -6.505882263183594, \"\\u2581whole\": -7.005882263183594, \"\\u2581back\": -10.255882263183594, \"\\u2581once\": -11.255882263183594, \"\\u2581utterly\": -13.880882263183594, \"\\u2581again\": -15.005882263183594, \"\\u2581into\": -15.005882263183594, \"\\u2581wholly\": -15.505882263183594, \"\\u2581\\u2581\": -16.130882263183594, \"\\u2581instantly\": -16.630882263183594, \"\\u2581altogether\": -17.380882263183594, \"\\u2581fully\": -17.755882263183594, \"\\u2581entire\": -17.880882263183594, \"\\u2581silently\": -18.005882263183594, \"\\u2581in\": -18.130882263183594, \"\\u2581not\": -18.130882263183594, \"\\u2581momentarily\": -18.130882263183594}, {\"\\u2581the\": -6.437280717364047e-06, \"\\u2581a\": -12.000006675720215, \"\\u2581darkness\": -16.3750057220459, \"\\u2581an\": -16.87\n",
      "2025-05-13 11:00:51,573 [INFO ] [api_client.api_clien]: Received 20 token strings (finish_reason=length).\n",
      "2025-05-13 11:00:51,574 [WARNI] [validators.slop_phra]: Slop violation: 'swallowed' @tok=1640 (char_pos=6990) …d then he was gone, swallowed by the mist, leavin…\n",
      "2025-05-13 11:00:51,577 [WARNI] [core.sampler        ]: Back-tracking @tok=1640 orig='▁swallowed' ban='{'phrase': 'swallowed', 'context': 'd then he was gone, swallowed by the mist, leavin', 'suppression_detail_key': 'swallowed'}'.\n",
      "2025-05-13 11:00:51,577 [INFO ] [state.generation_sta]: GenerationState initialised. Prompt length (chars) = 266\n",
      "2025-05-13 11:00:51,578 [INFO ] [state.generation_sta]: GenerationState initialised. Prompt length (chars) = 266\n",
      "2025-05-13 11:00:51,578 [INFO ] [state.generation_sta]: GenerationState initialised. Prompt length (chars) = 266\n",
      "2025-05-13 11:00:51,578 [INFO ] [state.generation_sta]: GenerationState initialised. Prompt length (chars) = 266\n",
      "2025-05-13 11:00:51,578 [INFO ] [state.generation_sta]: GenerationState initialised. Prompt length (chars) = 266\n",
      "2025-05-13 11:00:51,578 [INFO ] [state.generation_sta]: GenerationState initialised. Prompt length (chars) = 266\n",
      "2025-05-13 11:00:51,578 [INFO ] [state.generation_sta]: GenerationState initialised. Prompt length (chars) = 266\n",
      "2025-05-13 11:00:51,578 [INFO ] [state.generation_sta]: GenerationState initialised. Prompt length (chars) = 266\n",
      "2025-05-13 11:00:51,578 [INFO ] [state.generation_sta]: GenerationState initialised. Prompt length (chars) = 266\n",
      "2025-05-13 11:00:51,578 [INFO ] [state.generation_sta]: GenerationState initialised. Prompt length (chars) = 266\n",
      "2025-05-13 11:00:51,578 [INFO ] [state.generation_sta]: GenerationState initialised. Prompt length (chars) = 266\n",
      "2025-05-13 11:00:51,578 [INFO ] [state.generation_sta]: GenerationState initialised. Prompt length (chars) = 266\n",
      "2025-05-13 11:00:51,578 [INFO ] [state.generation_sta]: GenerationState initialised. Prompt length (chars) = 266\n",
      "2025-05-13 11:00:51,578 [INFO ] [state.generation_sta]: GenerationState initialised. Prompt length (chars) = 266\n",
      "2025-05-13 11:00:51,578 [INFO ] [state.generation_sta]: GenerationState initialised. Prompt length (chars) = 266\n",
      "2025-05-13 11:00:51,578 [INFO ] [state.generation_sta]: GenerationState initialised. Prompt length (chars) = 266\n",
      "2025-05-13 11:00:51,578 [INFO ] [state.generation_sta]: GenerationState initialised. Prompt length (chars) = 266\n",
      "2025-05-13 11:00:51,578 [INFO ] [state.generation_sta]: GenerationState initialised. Prompt length (chars) = 266\n",
      "2025-05-13 11:00:51,578 [INFO ] [state.generation_sta]: GenerationState initialised. Prompt length (chars) = 266\n",
      "2025-05-13 11:00:51,579 [WARNI] [core.sampler        ]:     ✓ replacement='▁leaving' (pool=1, T=0.7, min_p=0.05, top_p=1.0, top_k=50)\n",
      "2025-05-13 11:00:51,580 [DEBUG] [root                ]: BANNED (prompt_idx=0, type=slop_phrase, phrase='swallowed' @ orig_token='▁swallowed' ...'d then he was gone, swallowed by the mist, leavin'...)\n",
      "2025-05-13 11:00:51,580 [DEBUG] [api_client.api_clien]: POST https://ncfi2yswjottwq-8888.proxy.runpod.net/v1/completions\n",
      "2025-05-13 11:00:51,580 [DEBUG] [api_client.api_clien]: Payload: {\"model\": \"unsloth/gemma-3-4b-it\", \"prompt\": \"<bos><start_of_turn>user\\nWriting prompt: After defeating the Devil down in Georgia, Johnny proudly proclaims he's the best that's ever been. A flash of lightning crashes down and God appears, fiddle in hand. The Devil gets his popcorn ready.\\n\\nWrite 1000 words to this prompt. Your response:\\n<end_of_turn>\\n<start_of_turn>model\\nThe rain in Georgia was a greasy, insistent thing, clinging to everything with the stubbornness of regret. It mirrored the\n",
      "2025-05-13 11:00:52,170 [DEBUG] [urllib3.connectionpo]: https://ncfi2yswjottwq-8888.proxy.runpod.net:443 \"POST /v1/completions HTTP/1.1\" 200 None\n",
      "2025-05-13 11:00:52,232 [DEBUG] [api_client.api_clien]: Raw response: {\"id\": \"cmpl-057d786100b84f9f80f4bdb02d85d2b3\", \"object\": \"text_completion\", \"created\": 1747098057, \"model\": \"unsloth/gemma-3-4b-it\", \"choices\": [{\"index\": 0, \"text\": \" behind only the lingering scent of rain and the mournful echo of a fiddle. Johnny stood there,\", \"logprobs\": {\"text_offset\": [0, 7, 12, 16, 26, 32, 35, 40, 44, 48, 54, 57, 62, 65, 67, 74, 75, 82, 88, 94], \"token_logprobs\": [-0.48089152574539185, -0.004543457645922899, -0.0004625442670658231, -0.43400171399116516, -0.10859650373458862, 0.0, -0.21715344488620758, -0.83393794298172, -0.5599541664123535, -1.1280148029327393, -1.1920928244535389e-07, -0.1465006172657013, 0.0, -0.4792335331439972, -0.20847803354263306, -0.3206638991832733, -1.1488796472549438, -0.3632797598838806, -0.019157033413648605, -0.00671416474506259], \"tokens\": [\"\\u2581behind\", \"\\u2581only\", \"\\u2581the\", \"\\u2581lingering\", \"\\u2581scent\", \"\\u2581of\", \"\\u2581rain\", \"\\u2581and\", \"\\u2581the\", \"\\u2581mourn\", \"ful\", \"\\u2581echo\", \"\\u2581of\", \"\\u2581a\", \"\\u2581fiddle\", \".\", \"\\u2581Johnny\", \"\\u2581stood\", \"\\u2581there\", \",\"], \"top_logprobs\": [{\"\\u2581behind\": -0.48089152574539185, \"\\u2581Johnny\": -1.105891466140747, \"\\u2581only\": -2.980891466140747, \"\\u2581the\": -9.980891227722168, \"\\u2581a\": -10.855891227722168, \"\\u2581nothing\": -11.105891227722168, \"\\u2581John\": -12.480891227722168, \"Johnny\": -12.605891227722168, \"\\u2581just\": -12.855891227722168, \"\\u2581no\": -12.855891227722168, \"\\u2581Jonny\": -12.980891227722168, \"\\u2581\\u2581\": -13.105891227722168, \"\\u2581him\": -13.855891227722168, \"\\u2581Johnson\": -14.230891227722168, \"\\u2581alone\": -14.355891227722168, \"\\u2581Jonathan\": -14.730891227722168, \"\\u2581Johann\": -14.855891227722168, \"\\u2581an\": -14.855891227722168, \"\\u2581in\": -15.105891227722168, \"\\u2581Joh\": -15.293391227722168}, {\"\\u2581only\": -0.004543457645922899, \"\\u2581the\": -6.504543304443359, \"\\u2581a\": -6.504543304443359, \"\\u2581nothing\": -6.754543304443359, \"\\u2581an\": -8.00454330444336, \"\\u2581silence\": -10.87954330444336, \"\\u\n",
      "2025-05-13 11:00:52,232 [INFO ] [api_client.api_clien]: Received 20 token strings (finish_reason=length).\n",
      "2025-05-13 11:00:52,233 [WARNI] [validators.slop_phra]: Slop violation: 'scent' @tok=1645 (char_pos=7024) … only the lingering scent of rain and the mou…\n",
      "2025-05-13 11:00:52,236 [WARNI] [validators.ngram_val]: NGram violation: 'leaving behind' (stopwords_removed=True) @tok=1640 (char_pos=6990). Context: ...you.”   And then he was gone, leaving behind only the lingering scent of r...\n",
      "2025-05-13 11:00:52,236 [WARNI] [core.sampler        ]: Back-tracking @tok=1640 orig='▁leaving' ban='{'ngram_tuple': ['leaving', 'behind'], 'ngram_string': 'leaving behind', 'remove_stopwords_active': True, 'context': 'you.”   And then he was gone, leaving behind only the lingering scent of r', 'suppression_detail_key': 'leaving behind (stopwords_removed=True)'}'.\n",
      "2025-05-13 11:00:52,236 [INFO ] [state.generation_sta]: GenerationState initialised. Prompt length (chars) = 266\n",
      "2025-05-13 11:00:52,236 [INFO ] [state.generation_sta]: GenerationState initialised. Prompt length (chars) = 266\n",
      "2025-05-13 11:00:52,236 [INFO ] [state.generation_sta]: GenerationState initialised. Prompt length (chars) = 266\n",
      "2025-05-13 11:00:52,236 [INFO ] [state.generation_sta]: GenerationState initialised. Prompt length (chars) = 266\n",
      "2025-05-13 11:00:52,236 [INFO ] [state.generation_sta]: GenerationState initialised. Prompt length (chars) = 266\n",
      "2025-05-13 11:00:52,236 [INFO ] [state.generation_sta]: GenerationState initialised. Prompt length (chars) = 266\n",
      "2025-05-13 11:00:52,237 [INFO ] [state.generation_sta]: GenerationState initialised. Prompt length (chars) = 266\n",
      "2025-05-13 11:00:52,237 [INFO ] [state.generation_sta]: GenerationState initialised. Prompt length (chars) = 266\n",
      "2025-05-13 11:00:52,237 [INFO ] [state.generation_sta]: GenerationState initialised. Prompt length (chars) = 266\n",
      "2025-05-13 11:00:52,237 [INFO ] [state.generation_sta]: GenerationState initialised. Prompt length (chars) = 266\n",
      "2025-05-13 11:00:52,237 [INFO ] [state.generation_sta]: GenerationState initialised. Prompt length (chars) = 266\n",
      "2025-05-13 11:00:52,237 [INFO ] [state.generation_sta]: GenerationState initialised. Prompt length (chars) = 266\n",
      "2025-05-13 11:00:52,237 [INFO ] [state.generation_sta]: GenerationState initialised. Prompt length (chars) = 266\n",
      "2025-05-13 11:00:52,237 [INFO ] [state.generation_sta]: GenerationState initialised. Prompt length (chars) = 266\n",
      "2025-05-13 11:00:52,237 [INFO ] [state.generation_sta]: GenerationState initialised. Prompt length (chars) = 266\n",
      "2025-05-13 11:00:52,237 [INFO ] [state.generation_sta]: GenerationState initialised. Prompt length (chars) = 266\n",
      "2025-05-13 11:00:52,237 [INFO ] [state.generation_sta]: GenerationState initialised. Prompt length (chars) = 266\n",
      "2025-05-13 11:00:52,237 [INFO ] [state.generation_sta]: GenerationState initialised. Prompt length (chars) = 266\n",
      "2025-05-13 11:00:52,238 [WARNI] [core.sampler        ]:     ✓ replacement='▁the' (pool=5, T=0.7, min_p=0.05, top_p=1.0, top_k=50)\n",
      "2025-05-13 11:00:52,239 [DEBUG] [root                ]: BANNED (prompt_idx=0, type=ngram, ngram='leaving behind' (stopwords_removed=True) @ orig_token='▁leaving' ...'you.”   And then he was gone, leaving behind only the lingering scent of r'...)\n",
      "2025-05-13 11:00:52,239 [DEBUG] [api_client.api_clien]: POST https://ncfi2yswjottwq-8888.proxy.runpod.net/v1/completions\n",
      "2025-05-13 11:00:52,239 [DEBUG] [api_client.api_clien]: Payload: {\"model\": \"unsloth/gemma-3-4b-it\", \"prompt\": \"<bos><start_of_turn>user\\nWriting prompt: After defeating the Devil down in Georgia, Johnny proudly proclaims he's the best that's ever been. A flash of lightning crashes down and God appears, fiddle in hand. The Devil gets his popcorn ready.\\n\\nWrite 1000 words to this prompt. Your response:\\n<end_of_turn>\\n<start_of_turn>model\\nThe rain in Georgia was a greasy, insistent thing, clinging to everything with the stubbornness of regret. It mirrored the\n",
      "2025-05-13 11:00:52,816 [DEBUG] [urllib3.connectionpo]: https://ncfi2yswjottwq-8888.proxy.runpod.net:443 \"POST /v1/completions HTTP/1.1\" 200 None\n",
      "2025-05-13 11:00:52,887 [DEBUG] [api_client.api_clien]: Raw response: {\"id\": \"cmpl-a84f007773bd49d89d6cdc5d437e74c9\", \"object\": \"text_completion\", \"created\": 1747098057, \"model\": \"unsloth/gemma-3-4b-it\", \"choices\": [{\"index\": 0, \"text\": \" only evidence of his existence the lingering scent of rain and the faint, haunting melody of the fiddle.\", \"logprobs\": {\"text_offset\": [0, 5, 14, 17, 21, 31, 35, 45, 51, 54, 59, 63, 67, 73, 74, 83, 90, 93, 97, 104], \"token_logprobs\": [-0.7989670634269714, -0.01415110845118761, -0.00047946401173248887, 0.0, -1.7613945007324219, -0.06379521638154984, -0.02013026364147663, -0.10726954787969589, 0.0, -0.46362075209617615, -0.12391581386327744, -0.23432104289531708, -1.3406602144241333, -1.1522417068481445, -0.9314296841621399, -0.053992029279470444, -0.02913624420762062, -0.7594578266143799, -0.000582525331992656, -0.3566845655441284], \"tokens\": [\"\\u2581only\", \"\\u2581evidence\", \"\\u2581of\", \"\\u2581his\", \"\\u2581existence\", \"\\u2581the\", \"\\u2581lingering\", \"\\u2581scent\", \"\\u2581of\", \"\\u2581rain\", \"\\u2581and\", \"\\u2581the\", \"\\u2581faint\", \",\", \"\\u2581haunting\", \"\\u2581melody\", \"\\u2581of\", \"\\u2581the\", \"\\u2581fiddle\", \".\"], \"top_logprobs\": [{\"\\u2581only\": -0.7989670634269714, \"\\u2581rain\": -1.4239671230316162, \"\\u2581lightning\": -2.423967123031616, \"\\u2581storm\": -2.548967123031616, \"\\u2581fiddle\": -2.673967123031616, \"\\u2581last\": -3.673967123031616, \"\\u2581music\": -4.298966884613037, \"\\u2581melody\": -5.173966884613037, \"\\u2581lingering\": -5.673966884613037, \"\\u2581silence\": -5.673966884613037, \"\\u2581sound\": -5.923966884613037, \"\\u2581flash\": -6.298966884613037, \"\\u2581scent\": -6.548966884613037, \"\\u2581memory\": -6.798966884613037, \"\\u2581violin\": -6.798966884613037, \"\\u2581faint\": -6.923966884613037, \"\\u2581thunder\": -7.173966884613037, \"\\u2581wind\": -7.173966884613037, \"\\u2581air\": -7.173966884613037, \"\\u2581echo\": -7.298966884613037}, {\"\\u2581evidence\": -0.01415110845118761, \"\\u2581trace\": -4.514151096343994, \"\\u2581remaining\": -6.014151096343994, \"\\u2581sign\": -8.514151573181152, \"\\u2581remnant\": -8.76415\n",
      "2025-05-13 11:00:52,887 [INFO ] [api_client.api_clien]: Received 20 token strings (finish_reason=length).\n",
      "2025-05-13 11:00:52,888 [WARNI] [validators.slop_phra]: Slop violation: 'scent' @tok=1648 (char_pos=7039) …tence the lingering scent of rain and the fai…\n",
      "2025-05-13 11:00:52,891 [WARNI] [core.sampler        ]: Back-tracking @tok=1648 orig='▁scent' ban='{'phrase': 'scent', 'context': 'tence the lingering scent of rain and the fai', 'suppression_detail_key': 'scent'}'.\n",
      "2025-05-13 11:00:52,891 [INFO ] [state.generation_sta]: GenerationState initialised. Prompt length (chars) = 266\n",
      "2025-05-13 11:00:52,891 [INFO ] [state.generation_sta]: GenerationState initialised. Prompt length (chars) = 266\n",
      "2025-05-13 11:00:52,892 [INFO ] [state.generation_sta]: GenerationState initialised. Prompt length (chars) = 266\n",
      "2025-05-13 11:00:52,892 [INFO ] [state.generation_sta]: GenerationState initialised. Prompt length (chars) = 266\n",
      "2025-05-13 11:00:52,892 [INFO ] [state.generation_sta]: GenerationState initialised. Prompt length (chars) = 266\n",
      "2025-05-13 11:00:52,892 [INFO ] [state.generation_sta]: GenerationState initialised. Prompt length (chars) = 266\n",
      "2025-05-13 11:00:52,892 [INFO ] [state.generation_sta]: GenerationState initialised. Prompt length (chars) = 266\n",
      "2025-05-13 11:00:52,892 [INFO ] [state.generation_sta]: GenerationState initialised. Prompt length (chars) = 266\n",
      "2025-05-13 11:00:52,892 [INFO ] [state.generation_sta]: GenerationState initialised. Prompt length (chars) = 266\n",
      "2025-05-13 11:00:52,892 [INFO ] [state.generation_sta]: GenerationState initialised. Prompt length (chars) = 266\n",
      "2025-05-13 11:00:52,892 [INFO ] [state.generation_sta]: GenerationState initialised. Prompt length (chars) = 266\n",
      "2025-05-13 11:00:52,892 [INFO ] [state.generation_sta]: GenerationState initialised. Prompt length (chars) = 266\n",
      "2025-05-13 11:00:52,892 [INFO ] [state.generation_sta]: GenerationState initialised. Prompt length (chars) = 266\n",
      "2025-05-13 11:00:52,892 [INFO ] [state.generation_sta]: GenerationState initialised. Prompt length (chars) = 266\n",
      "2025-05-13 11:00:52,892 [INFO ] [state.generation_sta]: GenerationState initialised. Prompt length (chars) = 266\n",
      "2025-05-13 11:00:52,892 [INFO ] [state.generation_sta]: GenerationState initialised. Prompt length (chars) = 266\n",
      "2025-05-13 11:00:52,892 [INFO ] [state.generation_sta]: GenerationState initialised. Prompt length (chars) = 266\n",
      "2025-05-13 11:00:52,892 [INFO ] [state.generation_sta]: GenerationState initialised. Prompt length (chars) = 266\n",
      "2025-05-13 11:00:52,892 [INFO ] [state.generation_sta]: GenerationState initialised. Prompt length (chars) = 266\n",
      "2025-05-13 11:00:52,893 [WARNI] [core.sampler        ]:     ✓ replacement='▁echo' (pool=2, T=0.7, min_p=0.05, top_p=1.0, top_k=50)\n",
      "2025-05-13 11:00:52,894 [DEBUG] [root                ]: BANNED (prompt_idx=0, type=slop_phrase, phrase='scent' @ orig_token='▁scent' ...'tence the lingering scent of rain and the fai'...)\n",
      "2025-05-13 11:00:52,894 [DEBUG] [api_client.api_clien]: POST https://ncfi2yswjottwq-8888.proxy.runpod.net/v1/completions\n",
      "2025-05-13 11:00:52,894 [DEBUG] [api_client.api_clien]: Payload: {\"model\": \"unsloth/gemma-3-4b-it\", \"prompt\": \"<bos><start_of_turn>user\\nWriting prompt: After defeating the Devil down in Georgia, Johnny proudly proclaims he's the best that's ever been. A flash of lightning crashes down and God appears, fiddle in hand. The Devil gets his popcorn ready.\\n\\nWrite 1000 words to this prompt. Your response:\\n<end_of_turn>\\n<start_of_turn>model\\nThe rain in Georgia was a greasy, insistent thing, clinging to everything with the stubbornness of regret. It mirrored the\n"
     ]
    },
    {
     "name": "stdout",
     "output_type": "stream",
     "text": [
      "Batch Generating:   0%|          | 0/1 [01:32<?, ?prompt/s, 18.1 tok/s]"
     ]
    },
    {
     "name": "stderr",
     "output_type": "stream",
     "text": [
      "2025-05-13 11:00:53,474 [DEBUG] [urllib3.connectionpo]: https://ncfi2yswjottwq-8888.proxy.runpod.net:443 \"POST /v1/completions HTTP/1.1\" 200 None\n",
      "2025-05-13 11:00:53,534 [DEBUG] [api_client.api_clien]: Raw response: {\"id\": \"cmpl-2e1d34f1436f45af870dfceb93a433a7\", \"object\": \"text_completion\", \"created\": 1747098058, \"model\": \"unsloth/gemma-3-4b-it\", \"choices\": [{\"index\": 0, \"text\": \" of his music and the faint scent of rain and something else\\u2026 something ancient and indefinable. \", \"logprobs\": {\"text_offset\": [0, 3, 7, 13, 17, 21, 27, 33, 36, 41, 45, 55, 60, 61, 71, 79, 83, 91, 95, 96], \"token_logprobs\": [-1.1920928244535389e-07, -0.9789994359016418, -0.19529300928115845, -0.0088890315964818, -0.03826390951871872, -1.6707627773284912, -0.07076089829206467, -1.1920928244535389e-07, -0.1826210618019104, -0.03293940797448158, -0.08948615938425064, -0.6429891586303711, -0.24449953436851501, -0.002703109523281455, -0.1973247230052948, -0.029785363003611565, -0.5900801420211792, -0.008614521473646164, -0.015048079192638397, -0.13540150225162506], \"tokens\": [\"\\u2581of\", \"\\u2581his\", \"\\u2581music\", \"\\u2581and\", \"\\u2581the\", \"\\u2581faint\", \"\\u2581scent\", \"\\u2581of\", \"\\u2581rain\", \"\\u2581and\", \"\\u2581something\", \"\\u2581else\", \"\\u2026\", \"\\u2581something\", \"\\u2581ancient\", \"\\u2581and\", \"\\u2581indefin\", \"able\", \".\", \"\\u2581\"], \"top_logprobs\": [{\"\\u2581of\": -1.1920928244535389e-07, \"\\u2581in\": -16.0, \"\\u2581\\u2581\": -18.625, \"of\": -19.5, \"\\u2581within\": -21.625, \"\\u2581on\": -21.625, \"\\u2581\\u2013\": -21.875, \",\": -22.375, \"\\u2581and\": -22.375, \"\\u2581the\": -22.5, \"\\u2581from\": -22.75, \"-\": -23.0, \"\\u2581his\": -23.0, \"\\u2581notes\": -24.25, \"\\u2581beneath\": -24.25, \"\\u2581a\": -24.625, \"\\u2581music\": -24.625, \"\\u2581note\": -24.875, \"\\u2581reson\": -24.875, \"\\u2581that\": -25.125}, {\"\\u2581his\": -0.9789994359016418, \"\\u2581the\": -0.47899943590164185, \"\\u2581a\": -5.353999614715576, \"\\u2581music\": -8.978999137878418, \"\\u2581that\": -10.478999137878418, \"\\u2581an\": -11.103999137878418, \"\\u2581mourn\": -13.228999137878418, \"\\u2581haunting\": -13.228999137878418, \"\\u2581melanch\": -13.228999137878418, \"\\u2581\\u2581\": -13.353999137878418, \"\\u2581melancholy\": -13.728999137878418, \"\\u2581melody\": -13.8539991\n",
      "2025-05-13 11:00:53,534 [INFO ] [api_client.api_clien]: Received 20 token strings (finish_reason=length).\n",
      "2025-05-13 11:00:53,535 [WARNI] [validators.slop_phra]: Slop violation: 'echo' @tok=1648 (char_pos=7039) …tence the lingering echo of his music and th…\n",
      "2025-05-13 11:00:53,537 [WARNI] [core.sampler        ]: Back-tracking @tok=1648 orig='▁echo' ban='{'phrase': 'echo', 'context': 'tence the lingering echo of his music and th', 'suppression_detail_key': 'echo'}'.\n",
      "2025-05-13 11:00:53,538 [INFO ] [state.generation_sta]: GenerationState initialised. Prompt length (chars) = 266\n",
      "2025-05-13 11:00:53,538 [INFO ] [state.generation_sta]: GenerationState initialised. Prompt length (chars) = 266\n",
      "2025-05-13 11:00:53,538 [INFO ] [state.generation_sta]: GenerationState initialised. Prompt length (chars) = 266\n",
      "2025-05-13 11:00:53,538 [INFO ] [state.generation_sta]: GenerationState initialised. Prompt length (chars) = 266\n",
      "2025-05-13 11:00:53,538 [INFO ] [state.generation_sta]: GenerationState initialised. Prompt length (chars) = 266\n",
      "2025-05-13 11:00:53,538 [INFO ] [state.generation_sta]: GenerationState initialised. Prompt length (chars) = 266\n",
      "2025-05-13 11:00:53,538 [INFO ] [state.generation_sta]: GenerationState initialised. Prompt length (chars) = 266\n",
      "2025-05-13 11:00:53,538 [INFO ] [state.generation_sta]: GenerationState initialised. Prompt length (chars) = 266\n",
      "2025-05-13 11:00:53,538 [INFO ] [state.generation_sta]: GenerationState initialised. Prompt length (chars) = 266\n",
      "2025-05-13 11:00:53,538 [INFO ] [state.generation_sta]: GenerationState initialised. Prompt length (chars) = 266\n",
      "2025-05-13 11:00:53,538 [INFO ] [state.generation_sta]: GenerationState initialised. Prompt length (chars) = 266\n",
      "2025-05-13 11:00:53,538 [INFO ] [state.generation_sta]: GenerationState initialised. Prompt length (chars) = 266\n",
      "2025-05-13 11:00:53,538 [INFO ] [state.generation_sta]: GenerationState initialised. Prompt length (chars) = 266\n",
      "2025-05-13 11:00:53,538 [INFO ] [state.generation_sta]: GenerationState initialised. Prompt length (chars) = 266\n",
      "2025-05-13 11:00:53,538 [INFO ] [state.generation_sta]: GenerationState initialised. Prompt length (chars) = 266\n",
      "2025-05-13 11:00:53,538 [INFO ] [state.generation_sta]: GenerationState initialised. Prompt length (chars) = 266\n",
      "2025-05-13 11:00:53,538 [INFO ] [state.generation_sta]: GenerationState initialised. Prompt length (chars) = 266\n",
      "2025-05-13 11:00:53,538 [INFO ] [state.generation_sta]: GenerationState initialised. Prompt length (chars) = 266\n",
      "2025-05-13 11:00:53,538 [INFO ] [state.generation_sta]: GenerationState initialised. Prompt length (chars) = 266\n",
      "2025-05-13 11:00:53,539 [WARNI] [core.sampler        ]:     ✓ replacement='▁scent' (pool=1, T=0.7, min_p=0.05, top_p=1.0, top_k=50)\n",
      "2025-05-13 11:00:53,540 [DEBUG] [root                ]: BANNED (prompt_idx=0, type=slop_phrase, phrase='echo' @ orig_token='▁echo' ...'tence the lingering echo of his music and th'...)\n",
      "2025-05-13 11:00:53,540 [DEBUG] [api_client.api_clien]: POST https://ncfi2yswjottwq-8888.proxy.runpod.net/v1/completions\n",
      "2025-05-13 11:00:53,540 [DEBUG] [api_client.api_clien]: Payload: {\"model\": \"unsloth/gemma-3-4b-it\", \"prompt\": \"<bos><start_of_turn>user\\nWriting prompt: After defeating the Devil down in Georgia, Johnny proudly proclaims he's the best that's ever been. A flash of lightning crashes down and God appears, fiddle in hand. The Devil gets his popcorn ready.\\n\\nWrite 1000 words to this prompt. Your response:\\n<end_of_turn>\\n<start_of_turn>model\\nThe rain in Georgia was a greasy, insistent thing, clinging to everything with the stubbornness of regret. It mirrored the\n",
      "2025-05-13 11:00:54,118 [DEBUG] [urllib3.connectionpo]: https://ncfi2yswjottwq-8888.proxy.runpod.net:443 \"POST /v1/completions HTTP/1.1\" 200 None\n",
      "2025-05-13 11:00:54,180 [DEBUG] [api_client.api_clien]: Raw response: {\"id\": \"cmpl-48c25a50800d457189685480b7348154\", \"object\": \"text_completion\", \"created\": 1747098059, \"model\": \"unsloth/gemma-3-4b-it\", \"choices\": [{\"index\": 0, \"text\": \" of rain and the haunting melody of a fiddle that no one else could hear. \\n\\nJohnny stood\", \"logprobs\": {\"text_offset\": [0, 3, 8, 12, 16, 25, 32, 35, 37, 44, 49, 52, 56, 61, 67, 72, 73, 74, 76, 82], \"token_logprobs\": [0.0, -0.45426106452941895, -0.11413409560918808, -0.20968729257583618, -1.0209143161773682, -0.06877997517585754, -0.13451385498046875, -1.682395577430725, -0.47879886627197266, -1.3391616344451904, -1.3327412605285645, -0.054972462356090546, -0.25519058108329773, -0.24075160920619965, -0.00679586548358202, -0.00915130041539669, -0.2247989922761917, -0.002040567807853222, -0.000341476290486753, -0.4193168580532074], \"tokens\": [\"\\u2581of\", \"\\u2581rain\", \"\\u2581and\", \"\\u2581the\", \"\\u2581haunting\", \"\\u2581melody\", \"\\u2581of\", \"\\u2581a\", \"\\u2581fiddle\", \"\\u2581that\", \"\\u2581no\", \"\\u2581one\", \"\\u2581else\", \"\\u2581could\", \"\\u2581hear\", \".\", \"\\u2581\", \"\\n\\n\", \"Johnny\", \"\\u2581stood\"], \"top_logprobs\": [{\"\\u2581of\": 0.0, \"\\u2581\\u2581\": -19.75, \"\\u2581in\": -21.5, \"\\u2581\\u2013\": -21.5, \",\": -22.375, \"\\u2581and\": -23.5, \"\\u2581faintly\": -23.875, \"\\u2581on\": -24.625, \"\\u2014\": -25.125, \"\\u2581after\": -25.375, \"\\u2581carried\": -25.875, \"\\u2581-\": -25.875, \"\\u2581that\": -26.25, \"\\u2581he\": -26.25, \"\\u2581pine\": -26.25, \"\\u2581ozone\": -26.375, \"\\u2026\": -26.5, \"\\u2581like\": -26.5, \"\\u2581sandalwood\": -26.75, \"\\u2581a\": -27.125}, {\"\\u2581rain\": -0.45426106452941895, \"\\u2581pine\": -1.704261064529419, \"\\u2581wood\": -1.954261064529419, \"\\u2581wildflowers\": -4.45426082611084, \"\\u2581sandalwood\": -4.57926082611084, \"\\u2581damp\": -4.82926082611084, \"\\u2581old\": -5.45426082611084, \"\\u2581ancient\": -6.32926082611084, \"\\u2581ozone\": -6.70426082611084, \"\\u2581fiddle\": -7.20426082611084, \"\\u2581hone\": -7.45426082611084, \"\\u2581moss\": -7.45426082611084, \"\\u2581cedar\": -7.70426082611084, \"\\u2581lavender\": -7.82926\n",
      "2025-05-13 11:00:54,180 [INFO ] [api_client.api_clien]: Received 20 token strings (finish_reason=length).\n",
      "2025-05-13 11:00:54,181 [WARNI] [validators.slop_phra]: Slop violation: 'scent' @tok=1648 (char_pos=7039) …tence the lingering scent of rain and the hau…\n",
      "2025-05-13 11:00:54,184 [WARNI] [core.sampler        ]: Back-tracking @tok=1648 orig='▁scent' ban='{'phrase': 'scent', 'context': 'tence the lingering scent of rain and the hau', 'suppression_detail_key': 'scent'}'.\n",
      "2025-05-13 11:00:54,184 [INFO ] [state.generation_sta]: GenerationState initialised. Prompt length (chars) = 266\n",
      "2025-05-13 11:00:54,184 [INFO ] [state.generation_sta]: GenerationState initialised. Prompt length (chars) = 266\n",
      "2025-05-13 11:00:54,184 [INFO ] [state.generation_sta]: GenerationState initialised. Prompt length (chars) = 266\n",
      "2025-05-13 11:00:54,184 [INFO ] [state.generation_sta]: GenerationState initialised. Prompt length (chars) = 266\n",
      "2025-05-13 11:00:54,184 [INFO ] [state.generation_sta]: GenerationState initialised. Prompt length (chars) = 266\n",
      "2025-05-13 11:00:54,184 [INFO ] [state.generation_sta]: GenerationState initialised. Prompt length (chars) = 266\n",
      "2025-05-13 11:00:54,184 [INFO ] [state.generation_sta]: GenerationState initialised. Prompt length (chars) = 266\n",
      "2025-05-13 11:00:54,184 [INFO ] [state.generation_sta]: GenerationState initialised. Prompt length (chars) = 266\n",
      "2025-05-13 11:00:54,184 [INFO ] [state.generation_sta]: GenerationState initialised. Prompt length (chars) = 266\n",
      "2025-05-13 11:00:54,184 [INFO ] [state.generation_sta]: GenerationState initialised. Prompt length (chars) = 266\n",
      "2025-05-13 11:00:54,184 [INFO ] [state.generation_sta]: GenerationState initialised. Prompt length (chars) = 266\n",
      "2025-05-13 11:00:54,184 [INFO ] [state.generation_sta]: GenerationState initialised. Prompt length (chars) = 266\n",
      "2025-05-13 11:00:54,184 [INFO ] [state.generation_sta]: GenerationState initialised. Prompt length (chars) = 266\n",
      "2025-05-13 11:00:54,184 [INFO ] [state.generation_sta]: GenerationState initialised. Prompt length (chars) = 266\n",
      "2025-05-13 11:00:54,184 [INFO ] [state.generation_sta]: GenerationState initialised. Prompt length (chars) = 266\n",
      "2025-05-13 11:00:54,184 [INFO ] [state.generation_sta]: GenerationState initialised. Prompt length (chars) = 266\n",
      "2025-05-13 11:00:54,184 [INFO ] [state.generation_sta]: GenerationState initialised. Prompt length (chars) = 266\n",
      "2025-05-13 11:00:54,184 [INFO ] [state.generation_sta]: GenerationState initialised. Prompt length (chars) = 266\n",
      "2025-05-13 11:00:54,186 [WARNI] [core.sampler        ]:     ✓ replacement='▁melody' (pool=2, T=0.7, min_p=0.05, top_p=1.0, top_k=50)\n",
      "2025-05-13 11:00:54,186 [DEBUG] [root                ]: BANNED (prompt_idx=0, type=slop_phrase, phrase='scent' @ orig_token='▁scent' ...'tence the lingering scent of rain and the hau'...)\n",
      "2025-05-13 11:00:54,186 [DEBUG] [api_client.api_clien]: POST https://ncfi2yswjottwq-8888.proxy.runpod.net/v1/completions\n",
      "2025-05-13 11:00:54,186 [DEBUG] [api_client.api_clien]: Payload: {\"model\": \"unsloth/gemma-3-4b-it\", \"prompt\": \"<bos><start_of_turn>user\\nWriting prompt: After defeating the Devil down in Georgia, Johnny proudly proclaims he's the best that's ever been. A flash of lightning crashes down and God appears, fiddle in hand. The Devil gets his popcorn ready.\\n\\nWrite 1000 words to this prompt. Your response:\\n<end_of_turn>\\n<start_of_turn>model\\nThe rain in Georgia was a greasy, insistent thing, clinging to everything with the stubbornness of regret. It mirrored the\n",
      "2025-05-13 11:00:54,763 [DEBUG] [urllib3.connectionpo]: https://ncfi2yswjottwq-8888.proxy.runpod.net:443 \"POST /v1/completions HTTP/1.1\" 200 None\n",
      "2025-05-13 11:00:54,825 [DEBUG] [api_client.api_clien]: Raw response: {\"id\": \"cmpl-55bb0cc46db9416babe225349f550801\", \"object\": \"text_completion\", \"created\": 1747098059, \"model\": \"unsloth/gemma-3-4b-it\", \"choices\": [{\"index\": 0, \"text\": \" of the fiddle and the quiet, unsettling realization that Johnny\\u2019s victory in Georgia had been a hollow\", \"logprobs\": {\"text_offset\": [0, 3, 7, 14, 18, 22, 28, 29, 40, 52, 57, 64, 65, 66, 74, 77, 85, 89, 94, 96], \"token_logprobs\": [-0.013595486991107464, -0.1799711138010025, -0.0005951540661044419, -0.03760695457458496, -0.07015696167945862, -2.9503142833709717, -0.5716726779937744, -0.11024440079927444, -0.2975505292415619, -0.0028965207748115063, -0.028932787477970123, -2.1329236030578613, -2.3841855067985307e-07, -1.349283218383789, -0.9553242921829224, -0.0009552444680593908, -1.5202049016952515, -0.026354091241955757, -0.7047447562217712, -1.9280818700790405], \"tokens\": [\"\\u2581of\", \"\\u2581the\", \"\\u2581fiddle\", \"\\u2581and\", \"\\u2581the\", \"\\u2581quiet\", \",\", \"\\u2581unsettling\", \"\\u2581realization\", \"\\u2581that\", \"\\u2581Johnny\", \"\\u2019\", \"s\", \"\\u2581victory\", \"\\u2581in\", \"\\u2581Georgia\", \"\\u2581had\", \"\\u2581been\", \"\\u2581a\", \"\\u2581hollow\"], \"top_logprobs\": [{\"\\u2581of\": -0.013595486991107464, \"\\u2581in\": -4.5135955810546875, \"\\u2581on\": -6.6385955810546875, \"\\u2581still\": -8.263595581054688, \"\\u2581echoing\": -8.513595581054688, \"\\u2581from\": -8.638595581054688, \"\\u2581woven\": -9.013595581054688, \"\\u2581carried\": -9.013595581054688, \"\\u2581that\": -9.263595581054688, \"\\u2581etched\": -10.013595581054688, \"\\u2581he\": -10.138595581054688, \"\\u2581and\": -10.263595581054688, \"\\u2581clinging\": -10.513595581054688, \"\\u2581played\": -10.513595581054688, \"\\u2581drifting\": -10.763595581054688, \",\": -11.513595581054688, \"\\u2581imprinted\": -11.638595581054688, \"\\u2581hanging\": -11.763595581054688, \"\\u2581within\": -11.888595581054688, \"\\u2581held\": -12.138595581054688}, {\"\\u2581the\": -0.1799711138010025, \"\\u2581his\": -1.8049710988998413, \"\\u2581a\": -8.429970741271973, \"\\u2581that\": -12.304970741271973, \"\\u258\n",
      "2025-05-13 11:00:54,825 [INFO ] [api_client.api_clien]: Received 20 token strings (finish_reason=length).\n",
      "2025-05-13 11:00:54,826 [WARNI] [validators.slop_phra]: Slop violation: 'unsettling' @tok=1656 (char_pos=7075) …ddle and the quiet, unsettling realization that Jo…\n",
      "2025-05-13 11:00:54,829 [WARNI] [core.sampler        ]: Back-tracking @tok=1656 orig='▁unsettling' ban='{'phrase': 'unsettling', 'context': 'ddle and the quiet, unsettling realization that Jo', 'suppression_detail_key': 'unsettling'}'.\n",
      "2025-05-13 11:00:54,829 [INFO ] [state.generation_sta]: GenerationState initialised. Prompt length (chars) = 266\n",
      "2025-05-13 11:00:54,830 [INFO ] [state.generation_sta]: GenerationState initialised. Prompt length (chars) = 266\n",
      "2025-05-13 11:00:54,830 [INFO ] [state.generation_sta]: GenerationState initialised. Prompt length (chars) = 266\n",
      "2025-05-13 11:00:54,830 [INFO ] [state.generation_sta]: GenerationState initialised. Prompt length (chars) = 266\n",
      "2025-05-13 11:00:54,830 [INFO ] [state.generation_sta]: GenerationState initialised. Prompt length (chars) = 266\n",
      "2025-05-13 11:00:54,830 [INFO ] [state.generation_sta]: GenerationState initialised. Prompt length (chars) = 266\n",
      "2025-05-13 11:00:54,830 [INFO ] [state.generation_sta]: GenerationState initialised. Prompt length (chars) = 266\n",
      "2025-05-13 11:00:54,830 [INFO ] [state.generation_sta]: GenerationState initialised. Prompt length (chars) = 266\n",
      "2025-05-13 11:00:54,830 [INFO ] [state.generation_sta]: GenerationState initialised. Prompt length (chars) = 266\n",
      "2025-05-13 11:00:54,830 [INFO ] [state.generation_sta]: GenerationState initialised. Prompt length (chars) = 266\n",
      "2025-05-13 11:00:54,830 [INFO ] [state.generation_sta]: GenerationState initialised. Prompt length (chars) = 266\n",
      "2025-05-13 11:00:54,830 [INFO ] [state.generation_sta]: GenerationState initialised. Prompt length (chars) = 266\n",
      "2025-05-13 11:00:54,830 [INFO ] [state.generation_sta]: GenerationState initialised. Prompt length (chars) = 266\n",
      "2025-05-13 11:00:54,830 [INFO ] [state.generation_sta]: GenerationState initialised. Prompt length (chars) = 266\n",
      "2025-05-13 11:00:54,830 [INFO ] [state.generation_sta]: GenerationState initialised. Prompt length (chars) = 266\n",
      "2025-05-13 11:00:54,830 [INFO ] [state.generation_sta]: GenerationState initialised. Prompt length (chars) = 266\n",
      "2025-05-13 11:00:54,830 [INFO ] [state.generation_sta]: GenerationState initialised. Prompt length (chars) = 266\n",
      "2025-05-13 11:00:54,830 [INFO ] [state.generation_sta]: GenerationState initialised. Prompt length (chars) = 266\n",
      "2025-05-13 11:00:54,830 [INFO ] [state.generation_sta]: GenerationState initialised. Prompt length (chars) = 266\n",
      "2025-05-13 11:00:54,831 [WARNI] [core.sampler        ]:     ✓ replacement='▁insistent' (pool=3, T=0.7, min_p=0.05, top_p=1.0, top_k=50)\n",
      "2025-05-13 11:00:54,832 [DEBUG] [root                ]: BANNED (prompt_idx=0, type=slop_phrase, phrase='unsettling' @ orig_token='▁unsettling' ...'ddle and the quiet, unsettling realization that Jo'...)\n",
      "2025-05-13 11:00:54,832 [DEBUG] [api_client.api_clien]: POST https://ncfi2yswjottwq-8888.proxy.runpod.net/v1/completions\n",
      "2025-05-13 11:00:54,832 [DEBUG] [api_client.api_clien]: Payload: {\"model\": \"unsloth/gemma-3-4b-it\", \"prompt\": \"<bos><start_of_turn>user\\nWriting prompt: After defeating the Devil down in Georgia, Johnny proudly proclaims he's the best that's ever been. A flash of lightning crashes down and God appears, fiddle in hand. The Devil gets his popcorn ready.\\n\\nWrite 1000 words to this prompt. Your response:\\n<end_of_turn>\\n<start_of_turn>model\\nThe rain in Georgia was a greasy, insistent thing, clinging to everything with the stubbornness of regret. It mirrored the\n"
     ]
    },
    {
     "name": "stdout",
     "output_type": "stream",
     "text": [
      "Batch Generating:   0%|          | 0/1 [01:34<?, ?prompt/s, 17.8 tok/s]"
     ]
    },
    {
     "name": "stderr",
     "output_type": "stream",
     "text": [
      "2025-05-13 11:00:55,415 [DEBUG] [urllib3.connectionpo]: https://ncfi2yswjottwq-8888.proxy.runpod.net:443 \"POST /v1/completions HTTP/1.1\" 200 None\n",
      "2025-05-13 11:00:55,473 [DEBUG] [api_client.api_clien]: Raw response: {\"id\": \"cmpl-e824e69486ea41f68bb83467a59b6eb1\", \"object\": \"text_completion\", \"created\": 1747098060, \"model\": \"unsloth/gemma-3-4b-it\", \"choices\": [{\"index\": 0, \"text\": \" rain. Johnny stood there, alone in the Georgia woods, the weight of the figure\\u2019s words\", \"logprobs\": {\"text_offset\": [0, 5, 6, 13, 19, 25, 26, 32, 35, 39, 47, 53, 54, 58, 65, 68, 72, 79, 80, 81], \"token_logprobs\": [-0.03442477434873581, -0.04034920409321785, -1.3020782470703125, -0.30083373188972473, -0.0387236550450325, -0.006697587203234434, -0.2917099893093109, -0.5461530089378357, -7.533743337262422e-05, -0.11086174100637436, -0.12303140014410019, -2.1219027985353023e-05, -0.05217062309384346, -0.38679271936416626, -5.960462772236497e-07, -0.007127809338271618, -0.016780180856585503, -0.2014133334159851, 0.0, -1.728519782773219e-05], \"tokens\": [\"\\u2581rain\", \".\", \"\\u2581Johnny\", \"\\u2581stood\", \"\\u2581there\", \",\", \"\\u2581alone\", \"\\u2581in\", \"\\u2581the\", \"\\u2581Georgia\", \"\\u2581woods\", \",\", \"\\u2581the\", \"\\u2581weight\", \"\\u2581of\", \"\\u2581the\", \"\\u2581figure\", \"\\u2019\", \"s\", \"\\u2581words\"], \"top_logprobs\": [{\"\\u2581rain\": -0.03442477434873581, \"\\u2581drumming\": -4.409424781799316, \"\\u2581drizzle\": -5.159424781799316, \"\\u2581drip\": -5.159424781799316, \"\\u2581rhythm\": -5.784424781799316, \"\\u2581pat\": -5.784424781799316, \"\\u2581sound\": -6.784424781799316, \"\\u2581fall\": -6.784424781799316, \"\\u2581whisper\": -8.159424781799316, \"\\u2581dripping\": -8.534424781799316, \"\\u2581rainfall\": -8.659424781799316, \"\\u2581drop\": -8.659424781799316, \"\\u2581feeling\": -9.284424781799316, \"\\u2581rust\": -9.284424781799316, \"\\u2581falling\": -9.409424781799316, \"\\u2581rumble\": -9.534424781799316, \"\\u2581murmur\": -9.784424781799316, \"\\u2581hum\": -9.909424781799316, \"\\u2581drum\": -9.909424781799316, \"\\u2581beat\": -10.034424781799316}, {\".\": -0.04034920409321785, \"\\u2581in\": -4.040349006652832, \"\\u2581falling\": -4.915349006652832, \",\": -5.040349006652832, \"\\u2581of\": -5.540349006652832, \"\\u2581washing\": -5.790349006652832,\n",
      "2025-05-13 11:00:55,474 [INFO ] [api_client.api_clien]: Received 20 token strings (finish_reason=length).\n",
      "2025-05-13 11:00:55,478 [DEBUG] [api_client.api_clien]: POST https://ncfi2yswjottwq-8888.proxy.runpod.net/v1/completions\n",
      "2025-05-13 11:00:55,478 [DEBUG] [api_client.api_clien]: Payload: {\"model\": \"unsloth/gemma-3-4b-it\", \"prompt\": \"<bos><start_of_turn>user\\nWriting prompt: After defeating the Devil down in Georgia, Johnny proudly proclaims he's the best that's ever been. A flash of lightning crashes down and God appears, fiddle in hand. The Devil gets his popcorn ready.\\n\\nWrite 1000 words to this prompt. Your response:\\n<end_of_turn>\\n<start_of_turn>model\\nThe rain in Georgia was a greasy, insistent thing, clinging to everything with the stubbornness of regret. It mirrored the\n"
     ]
    },
    {
     "name": "stdout",
     "output_type": "stream",
     "text": [
      "Batch Generating:   0%|          | 0/1 [01:35<?, ?prompt/s, 17.9 tok/s]"
     ]
    },
    {
     "name": "stderr",
     "output_type": "stream",
     "text": [
      "2025-05-13 11:00:56,056 [DEBUG] [urllib3.connectionpo]: https://ncfi2yswjottwq-8888.proxy.runpod.net:443 \"POST /v1/completions HTTP/1.1\" 200 None\n",
      "2025-05-13 11:00:56,120 [DEBUG] [api_client.api_clien]: Raw response: {\"id\": \"cmpl-1b15a8cd22c44f7eabb87d4192dea653\", \"object\": \"text_completion\", \"created\": 1747098061, \"model\": \"unsloth/gemma-3-4b-it\", \"choices\": [{\"index\": 0, \"text\": \" pressing down on him. He\\u2019d defeated the Devil, yes. He\\u2019d proven himself.\", \"logprobs\": {\"text_offset\": [0, 9, 14, 17, 21, 22, 25, 26, 27, 36, 40, 46, 47, 51, 52, 55, 56, 57, 64, 72], \"token_logprobs\": [-0.5032719373703003, -0.006630444433540106, -0.0031781899742782116, -4.172316494077677e-06, -0.10835831612348557, -0.17675045132637024, -0.8386167883872986, 0.0, -0.35403624176979065, -0.012949069030582905, -3.2782016205601394e-05, -0.31341293454170227, -0.1423957794904709, -0.10021952539682388, -1.916184902191162, -0.19078323245048523, 0.0, -0.6122886538505554, -0.031474240124225616, -0.4265820384025574], \"tokens\": [\"\\u2581pressing\", \"\\u2581down\", \"\\u2581on\", \"\\u2581him\", \".\", \"\\u2581He\", \"\\u2019\", \"d\", \"\\u2581defeated\", \"\\u2581the\", \"\\u2581Devil\", \",\", \"\\u2581yes\", \".\", \"\\u2581He\", \"\\u2019\", \"d\", \"\\u2581proven\", \"\\u2581himself\", \".\"], \"top_logprobs\": [{\"\\u2581pressing\": -0.5032719373703003, \"\\u2581settling\": -1.0032719373703003, \"\\u2581heavy\": -4.00327205657959, \"\\u2581crushing\": -4.75327205657959, \"\\u2581heavier\": -7.25327205657959, \"\\u2581\\u2013\": -8.12827205657959, \"\\u2581crashing\": -8.12827205657959, \"\\u2581sinking\": -8.37827205657959, \",\": -9.12827205657959, \"\\u2581settled\": -9.50327205657959, \"\\u2581a\": -9.75327205657959, \"\\u2581bearing\": -10.00327205657959, \"\\u2581suddenly\": -10.62827205657959, \"\\u2581resting\": -11.50327205657959, \"\\u2581falling\": -11.75327205657959, \"\\u2581hanging\": -11.87827205657959, \"\\u2581pressed\": -12.25327205657959, \"\\u2581slowly\": -12.37827205657959, \"\\u2014\": -12.87827205657959, \"\\u2581clinging\": -13.12827205657959}, {\"\\u2581down\": -0.006630444433540106, \"\\u2581heavily\": -5.5066304206848145, \"\\u2581upon\": -6.0066304206848145, \"\\u2581on\": -9.506630897521973, \"\\u2581heavy\": -11.756630897521973, \"\\u2581hard\": -13.506630897521973, \"\\u2581in\": -13.756630897521973\n",
      "2025-05-13 11:00:56,120 [INFO ] [api_client.api_clien]: Received 20 token strings (finish_reason=length).\n",
      "2025-05-13 11:00:56,121 [WARNI] [validators.slop_phra]: Slop violation: 'pressing' @tok=1677 (char_pos=7172) … the figure’s words pressing down on him. He’d d…\n",
      "2025-05-13 11:00:56,124 [WARNI] [core.sampler        ]: Back-tracking @tok=1677 orig='▁pressing' ban='{'phrase': 'pressing', 'context': ' the figure’s words pressing down on him. He’d d', 'suppression_detail_key': 'pressing'}'.\n",
      "2025-05-13 11:00:56,124 [INFO ] [state.generation_sta]: GenerationState initialised. Prompt length (chars) = 266\n",
      "2025-05-13 11:00:56,124 [INFO ] [state.generation_sta]: GenerationState initialised. Prompt length (chars) = 266\n",
      "2025-05-13 11:00:56,124 [INFO ] [state.generation_sta]: GenerationState initialised. Prompt length (chars) = 266\n",
      "2025-05-13 11:00:56,124 [INFO ] [state.generation_sta]: GenerationState initialised. Prompt length (chars) = 266\n",
      "2025-05-13 11:00:56,124 [INFO ] [state.generation_sta]: GenerationState initialised. Prompt length (chars) = 266\n",
      "2025-05-13 11:00:56,124 [INFO ] [state.generation_sta]: GenerationState initialised. Prompt length (chars) = 266\n",
      "2025-05-13 11:00:56,124 [INFO ] [state.generation_sta]: GenerationState initialised. Prompt length (chars) = 266\n",
      "2025-05-13 11:00:56,124 [INFO ] [state.generation_sta]: GenerationState initialised. Prompt length (chars) = 266\n",
      "2025-05-13 11:00:56,124 [INFO ] [state.generation_sta]: GenerationState initialised. Prompt length (chars) = 266\n",
      "2025-05-13 11:00:56,124 [INFO ] [state.generation_sta]: GenerationState initialised. Prompt length (chars) = 266\n",
      "2025-05-13 11:00:56,124 [INFO ] [state.generation_sta]: GenerationState initialised. Prompt length (chars) = 266\n",
      "2025-05-13 11:00:56,124 [INFO ] [state.generation_sta]: GenerationState initialised. Prompt length (chars) = 266\n",
      "2025-05-13 11:00:56,124 [INFO ] [state.generation_sta]: GenerationState initialised. Prompt length (chars) = 266\n",
      "2025-05-13 11:00:56,124 [INFO ] [state.generation_sta]: GenerationState initialised. Prompt length (chars) = 266\n",
      "2025-05-13 11:00:56,124 [INFO ] [state.generation_sta]: GenerationState initialised. Prompt length (chars) = 266\n",
      "2025-05-13 11:00:56,124 [INFO ] [state.generation_sta]: GenerationState initialised. Prompt length (chars) = 266\n",
      "2025-05-13 11:00:56,124 [INFO ] [state.generation_sta]: GenerationState initialised. Prompt length (chars) = 266\n",
      "2025-05-13 11:00:56,124 [INFO ] [state.generation_sta]: GenerationState initialised. Prompt length (chars) = 266\n",
      "2025-05-13 11:00:56,124 [INFO ] [state.generation_sta]: GenerationState initialised. Prompt length (chars) = 266\n",
      "2025-05-13 11:00:56,126 [WARNI] [core.sampler        ]:     ✓ replacement='▁settling' (pool=1, T=0.7, min_p=0.05, top_p=1.0, top_k=50)\n",
      "2025-05-13 11:00:56,126 [DEBUG] [root                ]: BANNED (prompt_idx=0, type=slop_phrase, phrase='pressing' @ orig_token='▁pressing' ...'the figure’s words pressing down on him. He’d d'...)\n",
      "2025-05-13 11:00:56,126 [DEBUG] [api_client.api_clien]: POST https://ncfi2yswjottwq-8888.proxy.runpod.net/v1/completions\n",
      "2025-05-13 11:00:56,126 [DEBUG] [api_client.api_clien]: Payload: {\"model\": \"unsloth/gemma-3-4b-it\", \"prompt\": \"<bos><start_of_turn>user\\nWriting prompt: After defeating the Devil down in Georgia, Johnny proudly proclaims he's the best that's ever been. A flash of lightning crashes down and God appears, fiddle in hand. The Devil gets his popcorn ready.\\n\\nWrite 1000 words to this prompt. Your response:\\n<end_of_turn>\\n<start_of_turn>model\\nThe rain in Georgia was a greasy, insistent thing, clinging to everything with the stubbornness of regret. It mirrored the\n"
     ]
    },
    {
     "name": "stdout",
     "output_type": "stream",
     "text": [
      "Batch Generating:   0%|          | 0/1 [01:36<?, ?prompt/s, 17.8 tok/s]"
     ]
    },
    {
     "name": "stderr",
     "output_type": "stream",
     "text": [
      "2025-05-13 11:00:56,702 [DEBUG] [urllib3.connectionpo]: https://ncfi2yswjottwq-8888.proxy.runpod.net:443 \"POST /v1/completions HTTP/1.1\" 200 None\n",
      "2025-05-13 11:00:56,765 [DEBUG] [api_client.api_clien]: Raw response: {\"id\": \"cmpl-e5e9b026d4bc4c058e4df40fc88d64b7\", \"object\": \"text_completion\", \"created\": 1747098061, \"model\": \"unsloth/gemma-3-4b-it\", \"choices\": [{\"index\": 0, \"text\": \" upon him. He looked down at the bound Devil, a pathetic, defeated figure, and realized,\", \"logprobs\": {\"text_offset\": [0, 5, 9, 10, 13, 20, 25, 28, 32, 38, 44, 45, 47, 56, 57, 66, 73, 74, 78, 87], \"token_logprobs\": [-0.05475546047091484, -0.00020346954988781363, -0.3149256706237793, -0.17312416434288025, -1.101228952407837, -0.5760626196861267, -4.768370445162873e-07, -0.00488243717700243, -1.0286486148834229, -0.035504650324583054, -0.0005857420619577169, -0.7640359997749329, -0.19030901789665222, -0.06644971668720245, -1.14332914352417, -2.142383098602295, -1.37000572681427, -0.005172323901206255, -0.4301409125328064, -0.40387383103370667], \"tokens\": [\"\\u2581upon\", \"\\u2581him\", \".\", \"\\u2581He\", \"\\u2581looked\", \"\\u2581down\", \"\\u2581at\", \"\\u2581the\", \"\\u2581bound\", \"\\u2581Devil\", \",\", \"\\u2581a\", \"\\u2581pathetic\", \",\", \"\\u2581defeated\", \"\\u2581figure\", \",\", \"\\u2581and\", \"\\u2581realized\", \",\"], \"top_logprobs\": [{\"\\u2581upon\": -0.05475546047091484, \"\\u2581heavily\": -3.054755449295044, \"\\u2581on\": -5.554755687713623, \"\\u2581heavy\": -6.804755687713623, \"\\u2581over\": -6.804755687713623, \"\\u2581around\": -10.804755210876465, \"\\u2581deep\": -10.804755210876465, \"\\u2581deeply\": -11.429755210876465, \"\\u2581onto\": -12.304755210876465, \"\\u2581squarely\": -12.679755210876465, \"\\u2581heavier\": -13.804755210876465, \"\\u2581firmly\": -14.304755210876465, \"\\u2581into\": -14.429755210876465, \"\\u2581in\": -14.429755210876465, \"\\u2581down\": -14.554755210876465, \"\\u2581like\": -15.304755210876465, \"\\u2581hard\": -15.429755210876465, \"\\u2581within\": -15.554755210876465, \"\\u2581painfully\": -15.929755210876465, \"\\u2581profoundly\": -16.92975616455078}, {\"\\u2581him\": -0.00020346954988781363, \"\\u2581his\": -8.500203132629395, \"him\": -19.00020408630371, \"\\u2581\\u2581\": -19.37520408630371, \"\\u2581a\": -20.37520408630371, \"\\u2581the\": -20.5\n",
      "2025-05-13 11:00:56,765 [INFO ] [api_client.api_clien]: Received 20 token strings (finish_reason=length).\n",
      "2025-05-13 11:00:56,769 [DEBUG] [api_client.api_clien]: POST https://ncfi2yswjottwq-8888.proxy.runpod.net/v1/completions\n",
      "2025-05-13 11:00:56,770 [DEBUG] [api_client.api_clien]: Payload: {\"model\": \"unsloth/gemma-3-4b-it\", \"prompt\": \"<bos><start_of_turn>user\\nWriting prompt: After defeating the Devil down in Georgia, Johnny proudly proclaims he's the best that's ever been. A flash of lightning crashes down and God appears, fiddle in hand. The Devil gets his popcorn ready.\\n\\nWrite 1000 words to this prompt. Your response:\\n<end_of_turn>\\n<start_of_turn>model\\nThe rain in Georgia was a greasy, insistent thing, clinging to everything with the stubbornness of regret. It mirrored the\n"
     ]
    },
    {
     "name": "stdout",
     "output_type": "stream",
     "text": [
      "Batch Generating:   0%|          | 0/1 [01:36<?, ?prompt/s, 17.9 tok/s]"
     ]
    },
    {
     "name": "stderr",
     "output_type": "stream",
     "text": [
      "2025-05-13 11:00:57,531 [DEBUG] [urllib3.connectionpo]: https://ncfi2yswjottwq-8888.proxy.runpod.net:443 \"POST /v1/completions HTTP/1.1\" 200 None\n",
      "2025-05-13 11:00:57,592 [DEBUG] [api_client.api_clien]: Raw response: {\"id\": \"cmpl-87a5b1c405054c599442b17cc93e8085\", \"object\": \"text_completion\", \"created\": 1747098062, \"model\": \"unsloth/gemma-3-4b-it\", \"choices\": [{\"index\": 0, \"text\": \" with a chilling clarity, that he hadn't won anything. He\\u2019d simply postponed the reckoning\", \"logprobs\": {\"text_offset\": [0, 5, 7, 16, 24, 25, 30, 33, 38, 39, 40, 44, 53, 54, 57, 58, 59, 66, 76, 80], \"token_logprobs\": [-0.0020849411375820637, -0.005071395076811314, -0.7365300059318542, -1.1371804475784302, -1.2516897186287679e-05, -0.00012003655137959868, -0.06698844581842422, -0.005311306565999985, -0.8259395360946655, 0.0, -0.14262238144874573, -0.10879945755004883, -0.9765419363975525, -0.08529354631900787, -0.42858371138572693, 0.0, -0.4439081847667694, -0.11525461822748184, -0.15978333353996277, -0.9105157852172852], \"tokens\": [\"\\u2581with\", \"\\u2581a\", \"\\u2581chilling\", \"\\u2581clarity\", \",\", \"\\u2581that\", \"\\u2581he\", \"\\u2581hadn\", \"'\", \"t\", \"\\u2581won\", \"\\u2581anything\", \".\", \"\\u2581He\", \"\\u2019\", \"d\", \"\\u2581simply\", \"\\u2581postponed\", \"\\u2581the\", \"\\u2581reckoning\"], \"top_logprobs\": [{\"\\u2581with\": -0.0020849411375820637, \"\\u2581for\": -6.252084732055664, \"\\u2581finally\": -9.252084732055664, \"\\u2581not\": -10.627084732055664, \"\\u2581perhaps\": -10.877084732055664, \"\\u2581belated\": -12.002084732055664, \"\\u2581truly\": -12.752084732055664, \"\\u2581in\": -13.002084732055664, \"\\u2581to\": -13.252084732055664, \"\\u2581suddenly\": -13.377084732055664, \"\\u2581more\": -14.002084732055664, \"\\u2581just\": -14.502084732055664, \"\\u2581chilling\": -15.002084732055664, \"\\u2581slowly\": -15.377084732055664, \"\\u2581he\": -15.877084732055664, \"\\u2581\\u2581\": -16.127084732055664, \"\\u2581painfully\": -16.502084732055664, \"\\u2581profoundly\": -16.502084732055664, \"\\u2581as\": -16.502084732055664, \"\\u2581quite\": -16.502084732055664}, {\"\\u2581a\": -0.005071395076811314, \"\\u2581chilling\": -5.75507116317749, \"\\u2581sickening\": -7.25507116317749, \"\\u2581sudden\": -7.88007116317749, \"\\u2581startling\": -8.630071640014648, \"\\u2581terri\n",
      "2025-05-13 11:00:57,592 [INFO ] [api_client.api_clien]: Received 20 token strings (finish_reason=length).\n",
      "2025-05-13 11:00:57,594 [WARNI] [validators.slop_phra]: Slop violation: 'chilling' @tok=1700 (char_pos=7276) …nd realized, with a chilling clarity, that he ha…\n",
      "2025-05-13 11:00:57,597 [WARNI] [core.sampler        ]: Back-tracking @tok=1700 orig='▁chilling' ban='{'phrase': 'chilling', 'context': 'nd realized, with a chilling clarity, that he ha', 'suppression_detail_key': 'chilling'}'.\n",
      "2025-05-13 11:00:57,597 [INFO ] [state.generation_sta]: GenerationState initialised. Prompt length (chars) = 266\n",
      "2025-05-13 11:00:57,597 [INFO ] [state.generation_sta]: GenerationState initialised. Prompt length (chars) = 266\n",
      "2025-05-13 11:00:57,597 [INFO ] [state.generation_sta]: GenerationState initialised. Prompt length (chars) = 266\n",
      "2025-05-13 11:00:57,597 [INFO ] [state.generation_sta]: GenerationState initialised. Prompt length (chars) = 266\n",
      "2025-05-13 11:00:57,597 [INFO ] [state.generation_sta]: GenerationState initialised. Prompt length (chars) = 266\n",
      "2025-05-13 11:00:57,597 [INFO ] [state.generation_sta]: GenerationState initialised. Prompt length (chars) = 266\n",
      "2025-05-13 11:00:57,597 [INFO ] [state.generation_sta]: GenerationState initialised. Prompt length (chars) = 266\n",
      "2025-05-13 11:00:57,597 [INFO ] [state.generation_sta]: GenerationState initialised. Prompt length (chars) = 266\n",
      "2025-05-13 11:00:57,597 [INFO ] [state.generation_sta]: GenerationState initialised. Prompt length (chars) = 266\n",
      "2025-05-13 11:00:57,597 [INFO ] [state.generation_sta]: GenerationState initialised. Prompt length (chars) = 266\n",
      "2025-05-13 11:00:57,597 [INFO ] [state.generation_sta]: GenerationState initialised. Prompt length (chars) = 266\n",
      "2025-05-13 11:00:57,597 [INFO ] [state.generation_sta]: GenerationState initialised. Prompt length (chars) = 266\n",
      "2025-05-13 11:00:57,597 [INFO ] [state.generation_sta]: GenerationState initialised. Prompt length (chars) = 266\n",
      "2025-05-13 11:00:57,597 [INFO ] [state.generation_sta]: GenerationState initialised. Prompt length (chars) = 266\n",
      "2025-05-13 11:00:57,597 [INFO ] [state.generation_sta]: GenerationState initialised. Prompt length (chars) = 266\n",
      "2025-05-13 11:00:57,597 [INFO ] [state.generation_sta]: GenerationState initialised. Prompt length (chars) = 266\n",
      "2025-05-13 11:00:57,597 [INFO ] [state.generation_sta]: GenerationState initialised. Prompt length (chars) = 266\n",
      "2025-05-13 11:00:57,598 [INFO ] [state.generation_sta]: GenerationState initialised. Prompt length (chars) = 266\n",
      "2025-05-13 11:00:57,598 [INFO ] [state.generation_sta]: GenerationState initialised. Prompt length (chars) = 266\n",
      "2025-05-13 11:00:57,599 [WARNI] [core.sampler        ]:     ✓ replacement='▁sickening' (pool=3, T=0.7, min_p=0.05, top_p=1.0, top_k=50)\n",
      "2025-05-13 11:00:57,599 [DEBUG] [root                ]: BANNED (prompt_idx=0, type=slop_phrase, phrase='chilling' @ orig_token='▁chilling' ...'nd realized, with a chilling clarity, that he ha'...)\n",
      "2025-05-13 11:00:57,599 [DEBUG] [api_client.api_clien]: POST https://ncfi2yswjottwq-8888.proxy.runpod.net/v1/completions\n",
      "2025-05-13 11:00:57,600 [DEBUG] [api_client.api_clien]: Payload: {\"model\": \"unsloth/gemma-3-4b-it\", \"prompt\": \"<bos><start_of_turn>user\\nWriting prompt: After defeating the Devil down in Georgia, Johnny proudly proclaims he's the best that's ever been. A flash of lightning crashes down and God appears, fiddle in hand. The Devil gets his popcorn ready.\\n\\nWrite 1000 words to this prompt. Your response:\\n<end_of_turn>\\n<start_of_turn>model\\nThe rain in Georgia was a greasy, insistent thing, clinging to everything with the stubbornness of regret. It mirrored the\n"
     ]
    },
    {
     "name": "stdout",
     "output_type": "stream",
     "text": [
      "Batch Generating:   0%|          | 0/1 [01:37<?, ?prompt/s, 17.8 tok/s]"
     ]
    },
    {
     "name": "stderr",
     "output_type": "stream",
     "text": [
      "2025-05-13 11:00:58,179 [DEBUG] [urllib3.connectionpo]: https://ncfi2yswjottwq-8888.proxy.runpod.net:443 \"POST /v1/completions HTTP/1.1\" 200 None\n",
      "2025-05-13 11:00:58,243 [DEBUG] [api_client.api_clien]: Raw response: {\"id\": \"cmpl-fd213de5240940738798e7075f5bcb08\", \"object\": \"text_completion\", \"created\": 1747098063, \"model\": \"unsloth/gemma-3-4b-it\", \"choices\": [{\"index\": 0, \"text\": \" certainty, that he hadn't won anything at all. He'd just postponed the fight.\", \"logprobs\": {\"text_offset\": [0, 10, 11, 16, 19, 24, 25, 26, 30, 39, 42, 46, 47, 50, 51, 52, 57, 67, 71, 77], \"token_logprobs\": [-0.47995200753211975, -6.9141146923357155e-06, -8.999896090244874e-05, -0.20656216144561768, -0.010941745713353157, -0.8259395360946655, 0.0, -0.07807451486587524, -0.06944601982831955, -0.31479570269584656, 0.0, -2.3603161025675945e-05, -0.23755048215389252, -1.1822500228881836, -1.1920928244535389e-07, -1.3694186210632324, -0.3207215964794159, -0.055075813084840775, -1.7208476066589355, -0.011599596589803696], \"tokens\": [\"\\u2581certainty\", \",\", \"\\u2581that\", \"\\u2581he\", \"\\u2581hadn\", \"'\", \"t\", \"\\u2581won\", \"\\u2581anything\", \"\\u2581at\", \"\\u2581all\", \".\", \"\\u2581He\", \"'\", \"d\", \"\\u2581just\", \"\\u2581postponed\", \"\\u2581the\", \"\\u2581fight\", \".\"], \"top_logprobs\": [{\"\\u2581certainty\": -0.47995200753211975, \"\\u2581clarity\": -0.9799519777297974, \"\\u2581sense\": -6.104951858520508, \"\\u2581l\": -6.354951858520508, \"\\u2581j\": -7.104951858520508, \"\\u2581feeling\": -8.729951858520508, \"\\u2581dread\": -8.854951858520508, \"\\u2581truth\": -9.229951858520508, \"\\u2581understanding\": -9.354951858520508, \"\\u2581pang\": -9.479951858520508, \"\\u2581realization\": -9.604951858520508, \",\": -9.604951858520508, \"\\u2581th\": -9.604951858520508, \"\\u2581wave\": -9.729951858520508, \"ly\": -9.854951858520508, \"\\u2581honesty\": -10.104951858520508, \"\\u2581conviction\": -10.479951858520508, \"\\u2581and\": -10.979951858520508, \"\\u2581surge\": -10.979951858520508, \"\\u2581awareness\": -11.604951858520508}, {\",\": -6.9141146923357155e-06, \"\\u2581that\": -12.000006675720215, \"\\u2581\\u2013\": -15.000006675720215, \"\\u2581,\": -15.750006675720215, \":\": -16.00000762939453, \"\\u2581and\": -16.00000762939453, \"\\u2026\": -17.25000762939453, \"\\u2581-\": -17.87500762\n",
      "2025-05-13 11:00:58,243 [INFO ] [api_client.api_clien]: Received 20 token strings (finish_reason=length).\n",
      "2025-05-13 11:00:58,247 [DEBUG] [api_client.api_clien]: POST https://ncfi2yswjottwq-8888.proxy.runpod.net/v1/completions\n",
      "2025-05-13 11:00:58,247 [DEBUG] [api_client.api_clien]: Payload: {\"model\": \"unsloth/gemma-3-4b-it\", \"prompt\": \"<bos><start_of_turn>user\\nWriting prompt: After defeating the Devil down in Georgia, Johnny proudly proclaims he's the best that's ever been. A flash of lightning crashes down and God appears, fiddle in hand. The Devil gets his popcorn ready.\\n\\nWrite 1000 words to this prompt. Your response:\\n<end_of_turn>\\n<start_of_turn>model\\nThe rain in Georgia was a greasy, insistent thing, clinging to everything with the stubbornness of regret. It mirrored the\n"
     ]
    },
    {
     "name": "stdout",
     "output_type": "stream",
     "text": [
      "Batch Generating:   0%|          | 0/1 [01:38<?, ?prompt/s, 17.8 tok/s]"
     ]
    },
    {
     "name": "stderr",
     "output_type": "stream",
     "text": [
      "2025-05-13 11:00:58,826 [DEBUG] [urllib3.connectionpo]: https://ncfi2yswjottwq-8888.proxy.runpod.net:443 \"POST /v1/completions HTTP/1.1\" 200 None\n",
      "2025-05-13 11:00:58,893 [DEBUG] [api_client.api_clien]: Raw response: {\"id\": \"cmpl-6ee778bd875f4838b615be0e795dad05\", \"object\": \"text_completion\", \"created\": 1747098063, \"model\": \"unsloth/gemma-3-4b-it\", \"choices\": [{\"index\": 0, \"text\": \" \\n\\nHe looked up at the sky, a single, lonely star beginning to appear through the clouds\", \"logprobs\": {\"text_offset\": [0, 1, 3, 5, 12, 15, 18, 22, 26, 27, 29, 36, 37, 44, 49, 59, 62, 69, 77, 81], \"token_logprobs\": [-0.6584347486495972, -0.013102623634040356, -0.27334851026535034, -1.7344025373458862, -0.45482826232910156, -0.0014347269898280501, -9.30981186684221e-05, -0.08818356692790985, -0.0020477056968957186, -0.9170122146606445, -0.26344066858291626, -1.2926805019378662, -1.846469759941101, -0.22570660710334778, -1.7409571409225464, -7.867782187531702e-06, -2.2865679264068604, -0.15684078633785248, -0.002198066795244813, -0.49021416902542114], \"tokens\": [\"\\u2581\", \"\\n\\n\", \"He\", \"\\u2581looked\", \"\\u2581up\", \"\\u2581at\", \"\\u2581the\", \"\\u2581sky\", \",\", \"\\u2581a\", \"\\u2581single\", \",\", \"\\u2581lonely\", \"\\u2581star\", \"\\u2581beginning\", \"\\u2581to\", \"\\u2581appear\", \"\\u2581through\", \"\\u2581the\", \"\\u2581clouds\"], \"top_logprobs\": [{\"\\u2581\": -0.6584347486495972, \"\\u2581\\u2581\": -1.5334347486495972, \"\\u2581And\": -1.6584347486495972, \"\\u2581He\": -3.2834348678588867, \"\\u2581The\": -3.5334348678588867, \"\\n\\n\": -5.158434867858887, \"\\n\": -6.158434867858887, \"\\u2581His\": -7.533434867858887, \"\\u2581\\u2581\\u2581\": -7.783434867858887, \"\\u2581As\": -8.908434867858887, \"\\u2581Now\": -9.533434867858887, \"\\n\\n\\n\": -9.533434867858887, \"\\n\\n\\n\\n\": -9.658434867858887, \"\\u2581It\": -9.783434867858887, \"\\u2581A\": -10.283434867858887, \"\\u2581Perhaps\": -10.658434867858887, \"\\u2581But\": -10.908434867858887, \"<end_of_turn>\": -11.158434867858887, \"\\u2581Maybe\": -11.533434867858887, \"\\n\\n\\n\\n\\n\": -11.908434867858887}, {\"\\n\\n\": -0.013102623634040356, \"\\n\": -4.5131025314331055, \"\\n\\n\\n\": -6.2631025314331055, \"\\n\\n\\n\\n\": -8.888102531433105, \"\\n\\n\\n\\n\\n\": -11.763102531433105, \"<end_of_turn>\": -13.513102531433105, \"\\u2581\": -16.513103485107\n",
      "2025-05-13 11:00:58,893 [INFO ] [api_client.api_clien]: Received 20 token strings (finish_reason=length).\n",
      "2025-05-13 11:00:58,897 [DEBUG] [api_client.api_clien]: POST https://ncfi2yswjottwq-8888.proxy.runpod.net/v1/completions\n",
      "2025-05-13 11:00:58,897 [DEBUG] [api_client.api_clien]: Payload: {\"model\": \"unsloth/gemma-3-4b-it\", \"prompt\": \"<bos><start_of_turn>user\\nWriting prompt: After defeating the Devil down in Georgia, Johnny proudly proclaims he's the best that's ever been. A flash of lightning crashes down and God appears, fiddle in hand. The Devil gets his popcorn ready.\\n\\nWrite 1000 words to this prompt. Your response:\\n<end_of_turn>\\n<start_of_turn>model\\nThe rain in Georgia was a greasy, insistent thing, clinging to everything with the stubbornness of regret. It mirrored the\n"
     ]
    },
    {
     "name": "stdout",
     "output_type": "stream",
     "text": [
      "Batch Generating:   0%|          | 0/1 [01:38<?, ?prompt/s, 17.9 tok/s]"
     ]
    },
    {
     "name": "stderr",
     "output_type": "stream",
     "text": [
      "2025-05-13 11:00:59,475 [DEBUG] [urllib3.connectionpo]: https://ncfi2yswjottwq-8888.proxy.runpod.net:443 \"POST /v1/completions HTTP/1.1\" 200 None\n",
      "2025-05-13 11:00:59,538 [DEBUG] [api_client.api_clien]: Raw response: {\"id\": \"cmpl-5e5e5ae1636b4ba98c4452081ee771ab\", \"object\": \"text_completion\", \"created\": 1747098064, \"model\": \"unsloth/gemma-3-4b-it\", \"choices\": [{\"index\": 0, \"text\": \".  He was the best that\\u2019s ever been? Maybe. Or maybe he was just the\", \"logprobs\": {\"text_offset\": [0, 1, 3, 5, 9, 13, 18, 23, 24, 25, 30, 35, 36, 42, 43, 46, 52, 55, 59, 64], \"token_logprobs\": [-0.04900036007165909, -0.7569708824157715, -0.6274473667144775, -1.1957111358642578, -0.6549874544143677, -0.004187862388789654, -0.04244169965386391, -0.4545176029205322, -0.026302536949515343, -0.0007727735792286694, -0.0004481264913920313, -0.5514078140258789, -0.763495147228241, -0.03408034145832062, -1.6943533420562744, -0.0017171651124954224, -0.9044760465621948, -0.013038027100265026, -0.08120221644639969, -0.05546722561120987], \"tokens\": [\".\", \"\\u2581\\u2581\", \"He\", \"\\u2581was\", \"\\u2581the\", \"\\u2581best\", \"\\u2581that\", \"\\u2019\", \"s\", \"\\u2581ever\", \"\\u2581been\", \"?\", \"\\u2581Maybe\", \".\", \"\\u2581Or\", \"\\u2581maybe\", \"\\u2581he\", \"\\u2581was\", \"\\u2581just\", \"\\u2581the\"], \"top_logprobs\": [{\".\": -0.04900036007165909, \",\": -3.0490002632141113, \"\\u2581\\u2013\": -8.67400074005127, \"\\u2581and\": -8.79900074005127, \"\\u2581-\": -9.79900074005127, \"\\u2014\": -11.67400074005127, \"\\u2581above\": -11.79900074005127, \"\\u2581as\": -12.17400074005127, \";\": -12.92400074005127, \"\\u2581.\": -12.92400074005127, \":\": -13.67400074005127, \"\\u2581like\": -13.92400074005127, \"\\u2581for\": -14.29900074005127, \"\\u2581,\": -14.29900074005127, \"\\u2013\": -14.67400074005127, \"\\u2026\": -14.67400074005127, \"\\u2581--\": -14.67400074005127, \"\\u2581mirroring\": -14.67400074005127, \"..\": -14.67400074005127, \"\\u2581\\u2014\": -14.79900074005127}, {\"\\u2581\\u2581\": -0.7569708824157715, \"\\u2581He\": -1.3819708824157715, \"\\u2581The\": -1.6319708824157715, \"\\u2581Maybe\": -3.6319708824157715, \"\\u2581Perhaps\": -4.0069708824157715, \"\\u2581And\": -4.2569708824157715, \"\\u2581It\": -4.5069708824157715, \"\\u2581\\\"\": -5.5069708824157715, \"\\u2581For\": -5.6319708824157715, \"\n",
      "2025-05-13 11:00:59,538 [INFO ] [api_client.api_clien]: Received 20 token strings (finish_reason=length).\n",
      "2025-05-13 11:00:59,542 [DEBUG] [api_client.api_clien]: POST https://ncfi2yswjottwq-8888.proxy.runpod.net/v1/completions\n",
      "2025-05-13 11:00:59,542 [DEBUG] [api_client.api_clien]: Payload: {\"model\": \"unsloth/gemma-3-4b-it\", \"prompt\": \"<bos><start_of_turn>user\\nWriting prompt: After defeating the Devil down in Georgia, Johnny proudly proclaims he's the best that's ever been. A flash of lightning crashes down and God appears, fiddle in hand. The Devil gets his popcorn ready.\\n\\nWrite 1000 words to this prompt. Your response:\\n<end_of_turn>\\n<start_of_turn>model\\nThe rain in Georgia was a greasy, insistent thing, clinging to everything with the stubbornness of regret. It mirrored the\n"
     ]
    },
    {
     "name": "stdout",
     "output_type": "stream",
     "text": [
      "Batch Generating:   0%|          | 0/1 [01:39<?, ?prompt/s, 18.0 tok/s]"
     ]
    },
    {
     "name": "stderr",
     "output_type": "stream",
     "text": [
      "2025-05-13 11:01:00,089 [DEBUG] [urllib3.connectionpo]: https://ncfi2yswjottwq-8888.proxy.runpod.net:443 \"POST /v1/completions HTTP/1.1\" 200 None\n",
      "2025-05-13 11:01:00,148 [DEBUG] [api_client.api_clien]: Raw response: {\"id\": \"cmpl-4bed0b1c7bf9498cb39ee721ebd60b66\", \"object\": \"text_completion\", \"created\": 1747098065, \"model\": \"unsloth/gemma-3-4b-it\", \"choices\": [{\"index\": 0, \"text\": \" first to realize he had a long, very complicated battle ahead of him. \\n\", \"logprobs\": {\"text_offset\": [0, 6, 9, 17, 20, 24, 26, 31, 32, 37, 49, 56, 62, 65, 69, 70, 71, 72], \"token_logprobs\": [-0.6203574538230896, -0.15540064871311188, -1.1121540069580078, -1.1823041439056396, -0.301325261592865, -0.005291503854095936, -1.5698975324630737, -0.052742090076208115, -1.7516326904296875, -0.36661726236343384, -0.09811710566282272, -0.005525553598999977, -0.011086059734225273, -0.001035987981595099, -0.2718963027000427, -1.4307894706726074, -0.09351818263530731, 0.0], \"tokens\": [\"\\u2581first\", \"\\u2581to\", \"\\u2581realize\", \"\\u2581he\", \"\\u2581had\", \"\\u2581a\", \"\\u2581long\", \",\", \"\\u2581very\", \"\\u2581complicated\", \"\\u2581battle\", \"\\u2581ahead\", \"\\u2581of\", \"\\u2581him\", \".\", \"\\u2581\", \"\\n\", \"<end_of_turn>\"], \"top_logprobs\": [{\"\\u2581first\": -0.6203574538230896, \"\\u2581most\": -0.9953574538230896, \"\\u2581beginning\": -3.1203575134277344, \"\\u2581one\": -3.8703575134277344, \"\\u2581best\": -5.370357513427734, \"\\u2581last\": -5.495357513427734, \"\\u2581loudest\": -5.995357513427734, \"\\u2581smartest\": -5.995357513427734, \"\\u2581starting\": -6.245357513427734, \"\\u2581biggest\": -6.620357513427734, \"\\u2581furthest\": -6.745357513427734, \"\\u2581sadd\": -6.745357513427734, \"\\u2581man\": -6.995357513427734, \"\\u2581fool\": -7.120357513427734, \"\\u2581brav\": -7.120357513427734, \"\\u2581luck\": -7.120357513427734, \"\\u2581worst\": -7.245357513427734, \"\\u2581guy\": -7.370357513427734, \"\\u2581closest\": -7.495357513427734, \"\\u2581longest\": -7.870357513427734}, {\"\\u2581to\": -0.15540064871311188, \".\": -2.5304007530212402, \"\\u2581one\": -3.7804007530212402, \"\\u2581in\": -4.40540075302124, \"\\u2581chapter\": -4.65540075302124, \",\": -4.90540075302124, \"\\u2581step\": -5.15540075302124, \"\\u2581person\": -5.90540075302124, \"\\u2581who\": -7.65540075302124, \".\\u2\n",
      "2025-05-13 11:01:00,148 [INFO ] [api_client.api_clien]: Received 18 token strings (finish_reason=stop).\n",
      "2025-05-13 11:01:00,153 [INFO ] [core.sampler        ]: finish_reason=stop\n",
      "2025-05-13 11:01:00,154 [INFO ] [core.sampler        ]: Timing log written → timings_antislop_20250513_105920.csv (146 rows)\n",
      "2025-05-13 11:01:00,154 [INFO ] [core.sampler        ]: Generation finished. Total tokens in state=1779\n",
      "2025-05-13 11:01:00,166 [INFO ] [root                ]: tdpo-pairs written to tdpo-pairs.jsonl\n"
     ]
    },
    {
     "name": "stdout",
     "output_type": "stream",
     "text": [
      "Batch Generating: 100%|██████████| 1/1 [01:40<00:00, 100.04s/prompt, 18.1 tok/s]\n",
      "Finished processing 1 prompts in this run in 100.04s.\n",
      "Overall average throughput for this run: 17.78 tok/s.\n",
      "Results appended to creative_writing_generations.jsonl\n"
     ]
    },
    {
     "data": {
      "text/plain": [
       "CompletedProcess(args=['python3', 'main.py', '--api-key', 'xxx', '--model-name', 'unsloth/gemma-3-4b-it', '--output-jsonl', 'creative_writing_generations.jsonl', '--input-hf-dataset', 'Nitral-AI/Reddit-SFW-Writing_Prompts_ShareGPT', '--hf-dataset-split', 'train', '--threads', '60', '--max-prompts', '1', '--logging-level', 'DEBUG', '--slop-phrases-file', 'banlists/slop_phrases.json', '--top-n-slop-phrases', '500', '--max-new-tokens', '2000', '--chunk-size', '20', '--chat-template-model-id', 'unsloth/gemma-3-4b-it', '--tdpo-pairs-jsonl', 'tdpo-pairs.jsonl'], returncode=0)"
      ]
     },
     "execution_count": 9,
     "metadata": {},
     "output_type": "execute_result"
    }
   ],
   "source": [
    "# Example 2: Generate an unslopped dataset using prompts from a huggingface sharegpt dataset\n",
    "\n",
    "THREADS  = 60\n",
    "MAX_PROMPTS = 60\n",
    "\n",
    "OUT_JSONL     = 'creative_writing_generations.jsonl'\n",
    "HUMAN_PROFILE = 'data/human_writing_profile.json'\n",
    "\n",
    "\n",
    "cmd = [\n",
    "    'python3', 'main.py',\n",
    "    #'--api-base-url', 'http://localhost:8008/v1',\n",
    "    '--api-key', 'xxx',\n",
    "    '--model-name', 'unsloth/gemma-3-4b-it',\n",
    "    '--output-jsonl', OUT_JSONL,\n",
    "    '--input-hf-dataset', 'Nitral-AI/Reddit-SFW-Writing_Prompts_ShareGPT',\n",
    "    '--hf-dataset-split', 'train',\n",
    "    '--threads', str(THREADS),\n",
    "    '--max-prompts', str(MAX_PROMPTS),\n",
    "    '--logging-level', 'DEBUG',\n",
    "    '--slop-phrases-file', 'banlists/slop_phrases.json',\n",
    "    '--top-n-slop-phrases', '500',\n",
    "    '--regex-blocklist-file', 'banlists/regex_not_x_but_y.json',\n",
    "    '--max-new-tokens', '2000',\n",
    "    '--chunk-size', '20',\n",
    "    '--max-new-tokens', '300',\n",
    "    '--chat-template-model-id', \"unsloth/gemma-3-4b-it\",\n",
    "    '--tdpo-pairs-jsonl', 'tdpo-pairs.jsonl'\n",
    "]\n",
    "print('Running:', ' '.join(cmd))\n",
    "subprocess.run(cmd, check=True)\n"
   ]
  }
 ],
 "metadata": {
  "kernelspec": {
   "display_name": "Python 3",
   "language": "python",
   "name": "python3"
  },
  "language_info": {
   "codemirror_mode": {
    "name": "ipython",
    "version": 3
   },
   "file_extension": ".py",
   "mimetype": "text/x-python",
   "name": "python",
   "nbconvert_exporter": "python",
   "pygments_lexer": "ipython3",
   "version": "3.10.6"
  }
 },
 "nbformat": 4,
 "nbformat_minor": 5
}
